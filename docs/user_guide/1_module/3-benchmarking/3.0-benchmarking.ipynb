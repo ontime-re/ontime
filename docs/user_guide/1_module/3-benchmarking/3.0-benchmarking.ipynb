{
 "cells": [
  {
   "cell_type": "markdown",
   "id": "550c22a8-085f-45f1-9af5-35896f670515",
   "metadata": {},
   "source": [
    "# Module - Benchmarking\n",
    "Ontime provides a `Benchmark` class that can be used to run a number of prediction models on a number of datasets."
   ]
  },
  {
   "cell_type": "code",
   "execution_count": 1,
   "id": "27e27d12-d338-47d3-8fd3-b31ff80ac57c",
   "metadata": {
    "ExecuteTime": {
     "end_time": "2024-06-24T06:55:56.084401800Z",
     "start_time": "2024-06-24T06:55:51.801812900Z"
    }
   },
   "outputs": [],
   "source": [
    "from ontime.module.benchmarking import BenchmarkMode, BenchmarkDataset, BenchmarkMetric, BenchmarkModelConfig, Benchmark\n",
    "import ontime as on"
   ]
  },
  {
   "cell_type": "markdown",
   "id": "476a848a-77d7-4efc-840f-665a7cdc1857",
   "metadata": {},
   "source": [
    "## Initialization\n",
    "A `Benchmark` instance can be initialized with a list of datasets, models and metrics to run through. When invoking `run()`, it will train (if needed) and test every dataset on every model, and compute every metric on the predicted data.\n"
   ]
  },
  {
   "cell_type": "markdown",
   "id": "f5641c4a",
   "metadata": {},
   "source": [
    "### Preparing datasets\n",
    "\n",
    "Datasets submitted to a `Benchmark` must be of type `TimeSeries`, wrapped into `BenchmarkDataset`. `BenchmarkDataset` allows to give datasets a name, give training and test splits, and define how data will be split to perform a rolling evaluation."
   ]
  },
  {
   "cell_type": "code",
   "execution_count": 2,
   "id": "1177e73c",
   "metadata": {},
   "outputs": [],
   "source": [
    "from ontime.module.datasets.dataset import Dataset\n",
    "from darts.utils.missing_values import fill_missing_values # for filling missing values in the time series (for models that don't handle missing values)\n",
    "\n",
    "datasets = [\n",
    "    BenchmarkDataset(on.TimeSeries.from_darts(fill_missing_values(Dataset.TemperatureDataset.load())), input_length=96, target_length=24, gap=0, stride=96, name=\"Daily temperature\"),\n",
    "]"
   ]
  },
  {
   "cell_type": "markdown",
   "id": "30689a0a-9ed7-4eca-ab6e-6de1cb1c9e21",
   "metadata": {},
   "source": [
    "### Preparing models  \n",
    "\n",
    "Benchmark models must be given in a `BenchmarkModelConfig` class object, and their class must implement ontime `AbstractModel` interface. The `BenchmarkModelConfig` class contains attribute that allows to later instantiate the model with the desired configuration.\n",
    "It requires the following parameters :\n",
    "- `model_name` : the name of the model, for result logging purpose,\n",
    "- `model_class` : the class of the model that implements `AbstractModel` interface,\n",
    "- `benchmark_mode` : the mode in which the model must be evaluted:\n",
    "    - if `ZERO_SHOT`, the model is not trained, and the evaluation is done on the test set. It is used for models that already has trained weights, available through checkpoints, or for some models from darts, where predictions are directly made using the fitted data as input (such as ARIMA),\n",
    "    - if `FULL_SHOT`, the model is trained on the entire given training set. Once trained, the model is evaluated using the learnt weights.\n",
    "- `static_model_params` : the static parameters to give to the model class for instantiating it. This parameters can be defined when instatiating the `BenchmarkModelConfig` object.\n",
    "- `dynamic_model_params` : the dynamic parameters to give to the model class for instantiating it. This parameters can only be known when the dataset on which the model is trained is known. Therefore, a callable object that take a `BenchmarkDataset` must be given."
   ]
  },
  {
   "cell_type": "code",
   "execution_count": 3,
   "id": "71c4bc47-8479-46f1-a4c4-7ad5478020f0",
   "metadata": {
    "ExecuteTime": {
     "end_time": "2024-06-24T06:55:56.084401800Z",
     "start_time": "2024-06-24T06:55:56.073910600Z"
    }
   },
   "outputs": [],
   "source": [
    "from ontime.core.time_series.time_series import TimeSeries\n",
    "from ontime import Model\n",
    "from darts.models import ExponentialSmoothing, TCNModel\n",
    "\n",
    "# torch related parameters\n",
    "pl_trainer_kwargs = {\n",
    "    \"accelerator\": \"cpu\",\n",
    "    \"enable_progress_bar\": False\n",
    "    }\n",
    "\n",
    "# dynamic parameters callback\n",
    "input_length_param = lambda ds: ds.input_length\n",
    "target_length_param = lambda ds: ds.target_length\n",
    "\n",
    "\n",
    "model_configs = [\n",
    "    BenchmarkModelConfig(\"ExponentialSmoothing\", model_class=Model, benchmark_mode=BenchmarkMode.ZERO_SHOT, static_model_params={\"model\" : ExponentialSmoothing()}),\n",
    "    BenchmarkModelConfig(\"Temporal Convolutional Network\", model_class=Model, benchmark_mode=BenchmarkMode.FULL_SHOT, \n",
    "                         static_model_params={\"model\":TCNModel, \"n_epochs\":2, \"pl_trainer_kwargs\":pl_trainer_kwargs}, \n",
    "                         dynamic_model_params={\"input_chunk_length\":input_length_param, \"output_chunk_length\":target_length_param})\n",
    "]"
   ]
  },
  {
   "cell_type": "markdown",
   "id": "fd484f03-399d-4e4e-9b7c-2462e6accbb9",
   "metadata": {},
   "source": [
    "### Preparing metrics\n",
    "Metrics must be given to the `BenchmarkMetric` constructor. If the function can't be invoked as is in `BenchmarkMetric`'s implementation, a child class can be written and submitted."
   ]
  },
  {
   "cell_type": "code",
   "execution_count": 4,
   "id": "3bd6e05b-d86a-484a-bd28-7559b640c20f",
   "metadata": {
    "ExecuteTime": {
     "end_time": "2024-06-24T07:01:59.701881200Z",
     "start_time": "2024-06-24T07:01:59.693974700Z"
    }
   },
   "outputs": [],
   "source": [
    "import darts.metrics\n",
    "\n",
    "metrics = [\n",
    "   BenchmarkMetric(name=\"MAE\", metric_function=darts.metrics.metrics.mae),\n",
    "   BenchmarkMetric(name=\"sMAPE\", metric_function=darts.metrics.metrics.smape),\n",
    "   BenchmarkMetric(name=\"MASE\", metric_function=darts.metrics.metrics.mase)\n",
    "]"
   ]
  },
  {
   "cell_type": "markdown",
   "id": "f1ce9193-2bd1-4859-b5c5-17a48cb4e0fa",
   "metadata": {},
   "source": [
    "## Creating and running a Benchmark"
   ]
  },
  {
   "cell_type": "code",
   "execution_count": 5,
   "id": "b99abb03-c3ee-4e19-87a7-c86e1b418a6b",
   "metadata": {
    "ExecuteTime": {
     "end_time": "2024-06-24T07:02:00.671042500Z",
     "start_time": "2024-06-24T07:02:00.650794500Z"
    }
   },
   "outputs": [],
   "source": [
    "benchmark = Benchmark(datasets=datasets,\n",
    "                      model_configs=model_configs, \n",
    "                      metrics=metrics)"
   ]
  },
  {
   "cell_type": "markdown",
   "id": "e7b7a83a-e878-4fbf-818a-3c70f73bcb05",
   "metadata": {},
   "source": [
    "Datasets, models and metrics can also be added after instanciation. This allows to name datasets."
   ]
  },
  {
   "cell_type": "code",
   "execution_count": 6,
   "id": "005d3bae-1fdb-4edd-91ba-0df918fae5fe",
   "metadata": {
    "ExecuteTime": {
     "end_time": "2024-06-24T07:02:01.526327100Z",
     "start_time": "2024-06-24T07:02:01.515552400Z"
    }
   },
   "outputs": [],
   "source": [
    "benchmark.add_dataset(BenchmarkDataset(Dataset.ETTh1Dataset.load()[:5000], input_length=336, gap=0, stride=72, target_length=72, name = \"ETTh1\"))"
   ]
  },
  {
   "cell_type": "markdown",
   "id": "b86ec250-db58-4c10-b4e3-14c2b23bcf70",
   "metadata": {},
   "source": [
    "Once the models and datasets have been added, the `run()` method will train instances of all the models on all the datasets individually and compute metrics. The logging level can be chosen to show less or more information about the benchmark execution in the console."
   ]
  },
  {
   "cell_type": "code",
   "execution_count": 7,
   "id": "e96d8811-efd0-4cb0-bf7c-a03364e05911",
   "metadata": {
    "ExecuteTime": {
     "end_time": "2024-06-24T07:02:58.799456800Z",
     "start_time": "2024-06-24T07:02:02.671394200Z"
    }
   },
   "outputs": [
    {
     "name": "stdout",
     "output_type": "stream",
     "text": [
      "                                                                                                                                                                                                        \r"
     ]
    },
    {
     "name": "stderr",
     "output_type": "stream",
     "text": [
      "on 0: 08:34:31 - [INFO] - BenchmarkLogger - On Daily temperature dataset...\n"
     ]
    },
    {
     "name": "stdout",
     "output_type": "stream",
     "text": [
      "                                                                                                                                                                                                        \r"
     ]
    },
    {
     "name": "stderr",
     "output_type": "stream",
     "text": [
      "on 1: 08:34:31 - [INFO] - BenchmarkLogger - ExponentialSmoothing model...\n"
     ]
    },
    {
     "name": "stdout",
     "output_type": "stream",
     "text": [
      "                                                                                                                                                                                                        \r"
     ]
    },
    {
     "name": "stderr",
     "output_type": "stream",
     "text": [
      "on 1: 08:34:31 - [INFO] - BenchmarkLogger - Evaluating...\n"
     ]
    },
    {
     "name": "stdout",
     "output_type": "stream",
     "text": [
      "                                                                                                                                                                                                        \r"
     ]
    },
    {
     "name": "stderr",
     "output_type": "stream",
     "text": [
      "on 1: 08:34:31 - [INFO] - BenchmarkLogger - Evaluation done, took 0.530205249786377\n"
     ]
    },
    {
     "name": "stdout",
     "output_type": "stream",
     "text": [
      "                                                                                                                                                                                                        \r"
     ]
    },
    {
     "name": "stderr",
     "output_type": "stream",
     "text": [
      "on 1: 08:34:31 - [INFO] - BenchmarkLogger - getting predictions...\n"
     ]
    },
    {
     "name": "stdout",
     "output_type": "stream",
     "text": [
      "                                                                                                                                                                                                        \r"
     ]
    },
    {
     "name": "stderr",
     "output_type": "stream",
     "text": [
      "on 1: 08:34:31 - [INFO] - BenchmarkLogger - Computed metrics: \n",
      "       {'MAE': 2.400040758215776, 'sMAPE': 24.148347520589876, 'MASE': 1.259049717016714}\n"
     ]
    },
    {
     "name": "stdout",
     "output_type": "stream",
     "text": [
      "                                                                                                                                                                                                        \r"
     ]
    },
    {
     "name": "stderr",
     "output_type": "stream",
     "text": [
      "on 2: 08:34:31 - [INFO] - BenchmarkLogger - Temporal Convolutional Network model...\n"
     ]
    },
    {
     "name": "stdout",
     "output_type": "stream",
     "text": [
      "                                                                                                                                                                                                        \r"
     ]
    },
    {
     "name": "stderr",
     "output_type": "stream",
     "text": [
      "on 2: root       INFO  Training ...\n"
     ]
    },
    {
     "name": "stdout",
     "output_type": "stream",
     "text": [
      "                                                                                                                                                                                                        \r"
     ]
    },
    {
     "name": "stderr",
     "output_type": "stream",
     "text": [
      "on 2: darts.models.forecasting.torch_forecasting_model INFO  Train dataset contains 2216 samples.\n"
     ]
    },
    {
     "name": "stdout",
     "output_type": "stream",
     "text": [
      "                                                                                                                                                                                                        \r"
     ]
    },
    {
     "name": "stderr",
     "output_type": "stream",
     "text": [
      "on 2: darts.models.forecasting.tcn_model INFO  Number of layers chosen: 5\n"
     ]
    },
    {
     "name": "stdout",
     "output_type": "stream",
     "text": [
      "                                                                                                                                                                                                        \r"
     ]
    },
    {
     "name": "stderr",
     "output_type": "stream",
     "text": [
      "on 2: darts.models.forecasting.torch_forecasting_model INFO  Time series values are 64-bits; casting model to float64.\n"
     ]
    },
    {
     "name": "stdout",
     "output_type": "stream",
     "text": [
      "                                                                                                                                                                                                        \r"
     ]
    },
    {
     "name": "stderr",
     "output_type": "stream",
     "text": [
      "on 2: INFO: GPU available: True (cuda), used: False\n"
     ]
    },
    {
     "name": "stdout",
     "output_type": "stream",
     "text": [
      "                                                                                                                                                                                                        \r"
     ]
    },
    {
     "name": "stderr",
     "output_type": "stream",
     "text": [
      "on 2: lightning.pytorch.utilities.rank_zero INFO  GPU available: True (cuda), used: False\n"
     ]
    },
    {
     "name": "stdout",
     "output_type": "stream",
     "text": [
      "                                                                                                                                                                                                        \r"
     ]
    },
    {
     "name": "stderr",
     "output_type": "stream",
     "text": [
      "on 2: INFO: TPU available: False, using: 0 TPU cores\n"
     ]
    },
    {
     "name": "stdout",
     "output_type": "stream",
     "text": [
      "                                                                                                                                                                                                        \r"
     ]
    },
    {
     "name": "stderr",
     "output_type": "stream",
     "text": [
      "on 2: lightning.pytorch.utilities.rank_zero INFO  TPU available: False, using: 0 TPU cores\n"
     ]
    },
    {
     "name": "stdout",
     "output_type": "stream",
     "text": [
      "                                                                                                                                                                                                        \r"
     ]
    },
    {
     "name": "stderr",
     "output_type": "stream",
     "text": [
      "on 2: INFO: HPU available: False, using: 0 HPUs\n"
     ]
    },
    {
     "name": "stdout",
     "output_type": "stream",
     "text": [
      "                                                                                                                                                                                                        \r"
     ]
    },
    {
     "name": "stderr",
     "output_type": "stream",
     "text": [
      "on 2: lightning.pytorch.utilities.rank_zero INFO  HPU available: False, using: 0 HPUs\n"
     ]
    },
    {
     "name": "stdout",
     "output_type": "stream",
     "text": [
      "                                                                                                                                                                                                        \r"
     ]
    },
    {
     "name": "stderr",
     "output_type": "stream",
     "text": [
      "on 2: /home/benjy/.cache/pypoetry/virtualenvs/ontime-2OQVvbNf-py3.10/lib/python3.10/site-packages/pytorch_lightning/trainer/setup.py:177: GPU available but not used. You can set it by doing `Trainer(accelerator='gpu')`.\n",
      "      \n",
      "        | Name            | Type             | Params | Mode \n",
      "      -------------------------------------------------------------\n",
      "      0 | criterion       | MSELoss          | 0      | train\n",
      "      1 | train_criterion | MSELoss          | 0      | train\n",
      "      2 | val_criterion   | MSELoss          | 0      | train\n",
      "      3 | train_metrics   | MetricCollection | 0      | train\n",
      "      4 | val_metrics     | MetricCollection | 0      | train\n",
      "      5 | res_blocks      | ModuleList       | 272    | train\n",
      "      -------------------------------------------------------------\n",
      "      272       Trainable params\n",
      "      0         Non-trainable params\n",
      "      272       Total params\n",
      "      0.001     Total estimated model params size (MB)\n",
      "      33        Modules in train mode\n",
      "      0         Modules in eval mode\n"
     ]
    },
    {
     "name": "stdout",
     "output_type": "stream",
     "text": [
      "                                                                                                                                                                                                        \r"
     ]
    },
    {
     "name": "stderr",
     "output_type": "stream",
     "text": [
      "on 2: INFO: `Trainer.fit` stopped: `max_epochs=2` reached.\n"
     ]
    },
    {
     "name": "stdout",
     "output_type": "stream",
     "text": [
      "                                                                                                                                                                                                        \r"
     ]
    },
    {
     "name": "stderr",
     "output_type": "stream",
     "text": [
      "on 2: lightning.pytorch.utilities.rank_zero INFO  `Trainer.fit` stopped: `max_epochs=2` reached.\n"
     ]
    },
    {
     "name": "stdout",
     "output_type": "stream",
     "text": [
      "                                                                                                                                                                                                        \r"
     ]
    },
    {
     "name": "stderr",
     "output_type": "stream",
     "text": [
      "on 2: 08:34:36 - [INFO] - BenchmarkLogger - Training done, it took 4.2949488162994385 seconds\n"
     ]
    },
    {
     "name": "stdout",
     "output_type": "stream",
     "text": [
      "                                                                                                                                                                                                        \r"
     ]
    },
    {
     "name": "stderr",
     "output_type": "stream",
     "text": [
      "on 2: 08:34:36 - [INFO] - BenchmarkLogger - Evaluating...\n"
     ]
    },
    {
     "name": "stdout",
     "output_type": "stream",
     "text": [
      "                                                                                                                                                                                                        \r"
     ]
    },
    {
     "name": "stderr",
     "output_type": "stream",
     "text": [
      "on 2: INFO: GPU available: True (cuda), used: False\n"
     ]
    },
    {
     "name": "stdout",
     "output_type": "stream",
     "text": [
      "                                                                                                                                                                                                        \r"
     ]
    },
    {
     "name": "stderr",
     "output_type": "stream",
     "text": [
      "on 2: lightning.pytorch.utilities.rank_zero INFO  GPU available: True (cuda), used: False\n"
     ]
    },
    {
     "name": "stdout",
     "output_type": "stream",
     "text": [
      "                                                                                                                                                                                                        \r"
     ]
    },
    {
     "name": "stderr",
     "output_type": "stream",
     "text": [
      "on 2: INFO: TPU available: False, using: 0 TPU cores\n"
     ]
    },
    {
     "name": "stdout",
     "output_type": "stream",
     "text": [
      "                                                                                                                                                                                                        \r"
     ]
    },
    {
     "name": "stderr",
     "output_type": "stream",
     "text": [
      "on 2: lightning.pytorch.utilities.rank_zero INFO  TPU available: False, using: 0 TPU cores\n"
     ]
    },
    {
     "name": "stdout",
     "output_type": "stream",
     "text": [
      "                                                                                                                                                                                                        \r"
     ]
    },
    {
     "name": "stderr",
     "output_type": "stream",
     "text": [
      "on 2: INFO: HPU available: False, using: 0 HPUs\n"
     ]
    },
    {
     "name": "stdout",
     "output_type": "stream",
     "text": [
      "                                                                                                                                                                                                        \r"
     ]
    },
    {
     "name": "stderr",
     "output_type": "stream",
     "text": [
      "on 2: lightning.pytorch.utilities.rank_zero INFO  HPU available: False, using: 0 HPUs\n"
     ]
    },
    {
     "name": "stdout",
     "output_type": "stream",
     "text": [
      "                                                                                                                                                                                                        \r"
     ]
    },
    {
     "name": "stderr",
     "output_type": "stream",
     "text": [
      "on 2: 08:34:36 - [INFO] - BenchmarkLogger - Evaluation done, took 0.5235123634338379\n"
     ]
    },
    {
     "name": "stdout",
     "output_type": "stream",
     "text": [
      "                                                                                                                                                                                                        \r"
     ]
    },
    {
     "name": "stderr",
     "output_type": "stream",
     "text": [
      "on 2: 08:34:36 - [INFO] - BenchmarkLogger - getting predictions...\n"
     ]
    },
    {
     "name": "stdout",
     "output_type": "stream",
     "text": [
      "                                                                                                                                                                                                        \r"
     ]
    },
    {
     "name": "stderr",
     "output_type": "stream",
     "text": [
      "on 2: INFO: GPU available: True (cuda), used: False\n"
     ]
    },
    {
     "name": "stdout",
     "output_type": "stream",
     "text": [
      "                                                                                                                                                                                                        \r"
     ]
    },
    {
     "name": "stderr",
     "output_type": "stream",
     "text": [
      "on 2: lightning.pytorch.utilities.rank_zero INFO  GPU available: True (cuda), used: False\n"
     ]
    },
    {
     "name": "stdout",
     "output_type": "stream",
     "text": [
      "                                                                                                                                                                                                        \r"
     ]
    },
    {
     "name": "stderr",
     "output_type": "stream",
     "text": [
      "on 2: INFO: TPU available: False, using: 0 TPU cores\n"
     ]
    },
    {
     "name": "stdout",
     "output_type": "stream",
     "text": [
      "                                                                                                                                                                                                        \r"
     ]
    },
    {
     "name": "stderr",
     "output_type": "stream",
     "text": [
      "on 2: lightning.pytorch.utilities.rank_zero INFO  TPU available: False, using: 0 TPU cores\n"
     ]
    },
    {
     "name": "stdout",
     "output_type": "stream",
     "text": [
      "                                                                                                                                                                                                        \r"
     ]
    },
    {
     "name": "stderr",
     "output_type": "stream",
     "text": [
      "on 2: INFO: HPU available: False, using: 0 HPUs\n"
     ]
    },
    {
     "name": "stdout",
     "output_type": "stream",
     "text": [
      "                                                                                                                                                                                                        \r"
     ]
    },
    {
     "name": "stderr",
     "output_type": "stream",
     "text": [
      "on 2: lightning.pytorch.utilities.rank_zero INFO  HPU available: False, using: 0 HPUs\n"
     ]
    },
    {
     "name": "stdout",
     "output_type": "stream",
     "text": [
      "                                                                                                                                                                                                        \r"
     ]
    },
    {
     "name": "stderr",
     "output_type": "stream",
     "text": [
      "on 2: 08:34:37 - [INFO] - BenchmarkLogger - Computed metrics: \n",
      "       {'MAE': 2.441540289454, 'sMAPE': 24.977305752818385, 'MASE': 1.2361577158238866}\n"
     ]
    },
    {
     "name": "stdout",
     "output_type": "stream",
     "text": [
      "                                                                                                                                                                                                        \r"
     ]
    },
    {
     "name": "stderr",
     "output_type": "stream",
     "text": [
      "on 2: 08:34:37 - [INFO] - BenchmarkLogger - On ETTh1 dataset...\n"
     ]
    },
    {
     "name": "stdout",
     "output_type": "stream",
     "text": [
      "                                                                                                                                                                                                        \r"
     ]
    },
    {
     "name": "stderr",
     "output_type": "stream",
     "text": [
      "on 3: 08:34:37 - [INFO] - BenchmarkLogger - ExponentialSmoothing model...\n"
     ]
    },
    {
     "name": "stdout",
     "output_type": "stream",
     "text": [
      "                                                                                                                                                                                                        \r"
     ]
    },
    {
     "name": "stderr",
     "output_type": "stream",
     "text": [
      "on 3: 08:34:37 - [INFO] - BenchmarkLogger - Evaluating...\n"
     ]
    },
    {
     "name": "stdout",
     "output_type": "stream",
     "text": [
      "                                                                                                                                                                                                        \r"
     ]
    },
    {
     "name": "stderr",
     "output_type": "stream",
     "text": [
      "on 3: 08:34:48 - [INFO] - BenchmarkLogger - Evaluation done, took 11.291918516159058\n"
     ]
    },
    {
     "name": "stdout",
     "output_type": "stream",
     "text": [
      "                                                                                                                                                                                                        \r"
     ]
    },
    {
     "name": "stderr",
     "output_type": "stream",
     "text": [
      "on 3: 08:34:48 - [INFO] - BenchmarkLogger - getting predictions...\n"
     ]
    },
    {
     "name": "stdout",
     "output_type": "stream",
     "text": [
      "                                                                                                                                                                                                        \r"
     ]
    },
    {
     "name": "stderr",
     "output_type": "stream",
     "text": [
      "on 3: 08:34:49 - [INFO] - BenchmarkLogger - Computed metrics: \n",
      "       {'MAE': 1.6361909709419278, 'sMAPE': 54.35492758310376, 'MASE': 2.4054684211651254}\n"
     ]
    },
    {
     "name": "stdout",
     "output_type": "stream",
     "text": [
      "                                                                                                                                                                                                        \r"
     ]
    },
    {
     "name": "stderr",
     "output_type": "stream",
     "text": [
      "on 4: 08:34:49 - [INFO] - BenchmarkLogger - Temporal Convolutional Network model...\n"
     ]
    },
    {
     "name": "stdout",
     "output_type": "stream",
     "text": [
      "                                                                                                                                                                                                        \r"
     ]
    },
    {
     "name": "stderr",
     "output_type": "stream",
     "text": [
      "on 4: root       INFO  Training ...\n"
     ]
    },
    {
     "name": "stdout",
     "output_type": "stream",
     "text": [
      "                                                                                                                                                                                                        \r"
     ]
    },
    {
     "name": "stderr",
     "output_type": "stream",
     "text": [
      "on 4: darts.models.forecasting.torch_forecasting_model INFO  Train dataset contains 2791 samples.\n"
     ]
    },
    {
     "name": "stdout",
     "output_type": "stream",
     "text": [
      "                                                                                                                                                                                                        \r"
     ]
    },
    {
     "name": "stderr",
     "output_type": "stream",
     "text": [
      "on 4: darts.models.forecasting.tcn_model INFO  Number of layers chosen: 7\n"
     ]
    },
    {
     "name": "stdout",
     "output_type": "stream",
     "text": [
      "                                                                                                                                                                                                        \r"
     ]
    },
    {
     "name": "stderr",
     "output_type": "stream",
     "text": [
      "on 4: darts.models.forecasting.torch_forecasting_model INFO  Time series values are 64-bits; casting model to float64.\n"
     ]
    },
    {
     "name": "stdout",
     "output_type": "stream",
     "text": [
      "                                                                                                                                                                                                        \r"
     ]
    },
    {
     "name": "stderr",
     "output_type": "stream",
     "text": [
      "on 4: INFO: GPU available: True (cuda), used: False\n"
     ]
    },
    {
     "name": "stdout",
     "output_type": "stream",
     "text": [
      "                                                                                                                                                                                                        \r"
     ]
    },
    {
     "name": "stderr",
     "output_type": "stream",
     "text": [
      "on 4: lightning.pytorch.utilities.rank_zero INFO  GPU available: True (cuda), used: False\n"
     ]
    },
    {
     "name": "stdout",
     "output_type": "stream",
     "text": [
      "                                                                                                                                                                                                        \r"
     ]
    },
    {
     "name": "stderr",
     "output_type": "stream",
     "text": [
      "on 4: INFO: TPU available: False, using: 0 TPU cores\n"
     ]
    },
    {
     "name": "stdout",
     "output_type": "stream",
     "text": [
      "                                                                                                                                                                                                        \r"
     ]
    },
    {
     "name": "stderr",
     "output_type": "stream",
     "text": [
      "on 4: lightning.pytorch.utilities.rank_zero INFO  TPU available: False, using: 0 TPU cores\n"
     ]
    },
    {
     "name": "stdout",
     "output_type": "stream",
     "text": [
      "                                                                                                                                                                                                        \r"
     ]
    },
    {
     "name": "stderr",
     "output_type": "stream",
     "text": [
      "on 4: INFO: HPU available: False, using: 0 HPUs\n"
     ]
    },
    {
     "name": "stdout",
     "output_type": "stream",
     "text": [
      "                                                                                                                                                                                                        \r"
     ]
    },
    {
     "name": "stderr",
     "output_type": "stream",
     "text": [
      "on 4: lightning.pytorch.utilities.rank_zero INFO  HPU available: False, using: 0 HPUs\n"
     ]
    },
    {
     "name": "stdout",
     "output_type": "stream",
     "text": [
      "                                                                                                                                                                                                        \r"
     ]
    },
    {
     "name": "stderr",
     "output_type": "stream",
     "text": [
      "on 4: /home/benjy/.cache/pypoetry/virtualenvs/ontime-2OQVvbNf-py3.10/lib/python3.10/site-packages/pytorch_lightning/trainer/setup.py:177: GPU available but not used. You can set it by doing `Trainer(accelerator='gpu')`.\n",
      "      \n",
      "        | Name            | Type             | Params | Mode \n",
      "      -------------------------------------------------------------\n",
      "      0 | criterion       | MSELoss          | 0      | train\n",
      "      1 | train_criterion | MSELoss          | 0      | train\n",
      "      2 | val_criterion   | MSELoss          | 0      | train\n",
      "      3 | train_metrics   | MetricCollection | 0      | train\n",
      "      4 | val_metrics     | MetricCollection | 0      | train\n",
      "      5 | res_blocks      | ModuleList       | 548    | train\n",
      "      -------------------------------------------------------------\n",
      "      548       Trainable params\n",
      "      0         Non-trainable params\n",
      "      548       Total params\n",
      "      0.002     Total estimated model params size (MB)\n",
      "      43        Modules in train mode\n",
      "      0         Modules in eval mode\n"
     ]
    },
    {
     "name": "stdout",
     "output_type": "stream",
     "text": [
      "                                                                                                                                                                                                        \r"
     ]
    },
    {
     "name": "stderr",
     "output_type": "stream",
     "text": [
      "on 4: INFO: `Trainer.fit` stopped: `max_epochs=2` reached.\n"
     ]
    },
    {
     "name": "stdout",
     "output_type": "stream",
     "text": [
      "                                                                                                                                                                                                        \r"
     ]
    },
    {
     "name": "stderr",
     "output_type": "stream",
     "text": [
      "on 4: lightning.pytorch.utilities.rank_zero INFO  `Trainer.fit` stopped: `max_epochs=2` reached.\n"
     ]
    },
    {
     "name": "stdout",
     "output_type": "stream",
     "text": [
      "                                                                                                                                                                                                        \r"
     ]
    },
    {
     "name": "stderr",
     "output_type": "stream",
     "text": [
      "on 4: 08:34:58 - [INFO] - BenchmarkLogger - Training done, it took 9.150264978408813 seconds\n"
     ]
    },
    {
     "name": "stdout",
     "output_type": "stream",
     "text": [
      "                                                                                                                                                                                                        \r"
     ]
    },
    {
     "name": "stderr",
     "output_type": "stream",
     "text": [
      "on 4: 08:34:58 - [INFO] - BenchmarkLogger - Evaluating...\n"
     ]
    },
    {
     "name": "stdout",
     "output_type": "stream",
     "text": [
      "                                                                                                                                                                                                        \r"
     ]
    },
    {
     "name": "stderr",
     "output_type": "stream",
     "text": [
      "on 4: INFO: GPU available: True (cuda), used: False\n"
     ]
    },
    {
     "name": "stdout",
     "output_type": "stream",
     "text": [
      "                                                                                                                                                                                                        \r"
     ]
    },
    {
     "name": "stderr",
     "output_type": "stream",
     "text": [
      "on 4: lightning.pytorch.utilities.rank_zero INFO  GPU available: True (cuda), used: False\n"
     ]
    },
    {
     "name": "stdout",
     "output_type": "stream",
     "text": [
      "                                                                                                                                                                                                        \r"
     ]
    },
    {
     "name": "stderr",
     "output_type": "stream",
     "text": [
      "on 4: INFO: TPU available: False, using: 0 TPU cores\n"
     ]
    },
    {
     "name": "stdout",
     "output_type": "stream",
     "text": [
      "                                                                                                                                                                                                        \r"
     ]
    },
    {
     "name": "stderr",
     "output_type": "stream",
     "text": [
      "on 4: lightning.pytorch.utilities.rank_zero INFO  TPU available: False, using: 0 TPU cores\n"
     ]
    },
    {
     "name": "stdout",
     "output_type": "stream",
     "text": [
      "                                                                                                                                                                                                        \r"
     ]
    },
    {
     "name": "stderr",
     "output_type": "stream",
     "text": [
      "on 4: INFO: HPU available: False, using: 0 HPUs\n"
     ]
    },
    {
     "name": "stdout",
     "output_type": "stream",
     "text": [
      "                                                                                                                                                                                                        \r"
     ]
    },
    {
     "name": "stderr",
     "output_type": "stream",
     "text": [
      "on 4: lightning.pytorch.utilities.rank_zero INFO  HPU available: False, using: 0 HPUs\n"
     ]
    },
    {
     "name": "stdout",
     "output_type": "stream",
     "text": [
      "                                                                                                                                                                                                        \r"
     ]
    },
    {
     "name": "stderr",
     "output_type": "stream",
     "text": [
      "on 4: 08:34:59 - [INFO] - BenchmarkLogger - Evaluation done, took 0.6921942234039307\n"
     ]
    },
    {
     "name": "stdout",
     "output_type": "stream",
     "text": [
      "                                                                                                                                                                                                        \r"
     ]
    },
    {
     "name": "stderr",
     "output_type": "stream",
     "text": [
      "on 4: 08:34:59 - [INFO] - BenchmarkLogger - getting predictions...\n"
     ]
    },
    {
     "name": "stdout",
     "output_type": "stream",
     "text": [
      "                                                                                                                                                                                                        \r"
     ]
    },
    {
     "name": "stderr",
     "output_type": "stream",
     "text": [
      "on 4: INFO: GPU available: True (cuda), used: False\n"
     ]
    },
    {
     "name": "stdout",
     "output_type": "stream",
     "text": [
      "                                                                                                                                                                                                        \r"
     ]
    },
    {
     "name": "stderr",
     "output_type": "stream",
     "text": [
      "on 4: lightning.pytorch.utilities.rank_zero INFO  GPU available: True (cuda), used: False\n"
     ]
    },
    {
     "name": "stdout",
     "output_type": "stream",
     "text": [
      "                                                                                                                                                                                                        \r"
     ]
    },
    {
     "name": "stderr",
     "output_type": "stream",
     "text": [
      "on 4: INFO: TPU available: False, using: 0 TPU cores\n"
     ]
    },
    {
     "name": "stdout",
     "output_type": "stream",
     "text": [
      "                                                                                                                                                                                                        \r"
     ]
    },
    {
     "name": "stderr",
     "output_type": "stream",
     "text": [
      "on 4: lightning.pytorch.utilities.rank_zero INFO  TPU available: False, using: 0 TPU cores\n"
     ]
    },
    {
     "name": "stdout",
     "output_type": "stream",
     "text": [
      "                                                                                                                                                                                                        \r"
     ]
    },
    {
     "name": "stderr",
     "output_type": "stream",
     "text": [
      "on 4: INFO: HPU available: False, using: 0 HPUs\n"
     ]
    },
    {
     "name": "stdout",
     "output_type": "stream",
     "text": [
      "                                                                                                                                                                                                        \r"
     ]
    },
    {
     "name": "stderr",
     "output_type": "stream",
     "text": [
      "on 4: lightning.pytorch.utilities.rank_zero INFO  HPU available: False, using: 0 HPUs\n"
     ]
    },
    {
     "name": "stdout",
     "output_type": "stream",
     "text": [
      "                                                                                                                                                                                                        \r"
     ]
    },
    {
     "name": "stderr",
     "output_type": "stream",
     "text": [
      "on 4: 08:34:59 - [INFO] - BenchmarkLogger - Computed metrics: \n",
      "       {'MAE': 2.529447460260427, 'sMAPE': 99.82058944577555, 'MASE': 4.438016277794369}\n"
     ]
    },
    {
     "name": "stdout",
     "output_type": "stream",
     "text": [
      "Benchmarking |████████████████████| 4/4 [100%] in 28.9s (0.14/s)                                                                                                                                        \n"
     ]
    }
   ],
   "source": [
    "benchmark.run(logging_level=\"debug\")"
   ]
  },
  {
   "cell_type": "markdown",
   "id": "04a22d7c",
   "metadata": {},
   "source": [
    "## Visualizing results\n",
    "\n",
    "The benchmark automatically stores measures and metrics computed during the run, available through class attributes."
   ]
  },
  {
   "cell_type": "markdown",
   "id": "d4038313-7cf4-480d-8d3c-fd030e100da3",
   "metadata": {},
   "source": [
    "### Measures and metrics\n",
    "To view the results, you can call `get_report()` and print the returned value"
   ]
  },
  {
   "cell_type": "code",
   "execution_count": 8,
   "id": "35b9b732-bd80-426f-a8bb-134f06bf1a3b",
   "metadata": {
    "ExecuteTime": {
     "end_time": "2024-06-24T07:04:00.885598500Z",
     "start_time": "2024-06-24T07:04:00.878375900Z"
    },
    "scrolled": true
   },
   "outputs": [
    {
     "name": "stdout",
     "output_type": "stream",
     "text": [
      "Daily temperature dataset:\n",
      "nb features: 1\n",
      "target column: ['Daily minimum temperatures']\n",
      "training set size: 2335\n",
      "validation set size: 585\n",
      "test set size: 732\n",
      "\n",
      "ExponentialSmoothing model:\n",
      "suceeded: ✓\n",
      "training time: 0\n",
      "evaluation time: 0.530205249786377\n",
      "inference time: 0.06768155097961426\n",
      "metrics: {'MAE': 2.400040758215776, 'sMAPE': 24.148347520589876, 'MASE': 1.259049717016714}\n",
      "\n",
      "Temporal Convolutional Network model:\n",
      "suceeded: ✓\n",
      "training time: 4.2949488162994385\n",
      "evaluation time: 0.5235123634338379\n",
      "inference time: 0.3829374313354492\n",
      "metrics: {'MAE': 2.441540289454, 'sMAPE': 24.977305752818385, 'MASE': 1.2361577158238866}\n",
      "\n",
      "\n",
      "ETTh1 dataset:\n",
      "nb features: 7\n",
      "target column: ['HUFL', 'HULL', 'MUFL', 'MULL', 'LUFL', 'LULL', 'OT']\n",
      "training set size: 3198\n",
      "validation set size: 801\n",
      "test set size: 1001\n",
      "\n",
      "ExponentialSmoothing model:\n",
      "suceeded: ✓\n",
      "training time: 0\n",
      "evaluation time: 11.291918516159058\n",
      "inference time: 1.0528616905212402\n",
      "metrics: {'MAE': 1.6361909709419278, 'sMAPE': 54.35492758310376, 'MASE': 2.4054684211651254}\n",
      "\n",
      "Temporal Convolutional Network model:\n",
      "suceeded: ✓\n",
      "training time: 9.150264978408813\n",
      "evaluation time: 0.6921942234039307\n",
      "inference time: 0.3425025939941406\n",
      "metrics: {'MAE': 2.529447460260427, 'sMAPE': 99.82058944577555, 'MASE': 4.438016277794369}\n",
      "\n"
     ]
    }
   ],
   "source": [
    "print(benchmark.get_report())"
   ]
  },
  {
   "cell_type": "markdown",
   "id": "a0852085-874e-4583-9f91-1efcb486fbcb",
   "metadata": {},
   "source": [
    "You can also get results as dataframes by calling `get_report_df()`. The results are then returned as a dataframe with model names as columns, dataset names as main rows, and measure as sub rows."
   ]
  },
  {
   "cell_type": "code",
   "execution_count": 9,
   "id": "687a0b79-ff02-4bde-aff7-6d6ccd5e7d40",
   "metadata": {
    "ExecuteTime": {
     "end_time": "2024-06-24T07:04:03.237516900Z",
     "start_time": "2024-06-24T07:04:03.207950400Z"
    }
   },
   "outputs": [
    {
     "data": {
      "text/html": [
       "<div>\n",
       "<style scoped>\n",
       "    .dataframe tbody tr th:only-of-type {\n",
       "        vertical-align: middle;\n",
       "    }\n",
       "\n",
       "    .dataframe tbody tr th {\n",
       "        vertical-align: top;\n",
       "    }\n",
       "\n",
       "    .dataframe thead th {\n",
       "        text-align: right;\n",
       "    }\n",
       "</style>\n",
       "<table border=\"1\" class=\"dataframe\">\n",
       "  <thead>\n",
       "    <tr style=\"text-align: right;\">\n",
       "      <th></th>\n",
       "      <th>Daily temperature</th>\n",
       "      <th>ETTh1</th>\n",
       "    </tr>\n",
       "    <tr>\n",
       "      <th>Characteristic</th>\n",
       "      <th></th>\n",
       "      <th></th>\n",
       "    </tr>\n",
       "  </thead>\n",
       "  <tbody>\n",
       "    <tr>\n",
       "      <th>nb features</th>\n",
       "      <td>1</td>\n",
       "      <td>7</td>\n",
       "    </tr>\n",
       "    <tr>\n",
       "      <th>target column</th>\n",
       "      <td>[Daily minimum temperatures]</td>\n",
       "      <td>[HUFL, HULL, MUFL, MULL, LUFL, LULL, OT]</td>\n",
       "    </tr>\n",
       "    <tr>\n",
       "      <th>training set size</th>\n",
       "      <td>2335</td>\n",
       "      <td>3198</td>\n",
       "    </tr>\n",
       "    <tr>\n",
       "      <th>validation set size</th>\n",
       "      <td>585</td>\n",
       "      <td>801</td>\n",
       "    </tr>\n",
       "    <tr>\n",
       "      <th>test set size</th>\n",
       "      <td>732</td>\n",
       "      <td>1001</td>\n",
       "    </tr>\n",
       "  </tbody>\n",
       "</table>\n",
       "</div>"
      ],
      "text/plain": [
       "                                Daily temperature  \\\n",
       "Characteristic                                      \n",
       "nb features                                     1   \n",
       "target column        [Daily minimum temperatures]   \n",
       "training set size                            2335   \n",
       "validation set size                           585   \n",
       "test set size                                 732   \n",
       "\n",
       "                                                        ETTh1  \n",
       "Characteristic                                                 \n",
       "nb features                                                 7  \n",
       "target column        [HUFL, HULL, MUFL, MULL, LUFL, LULL, OT]  \n",
       "training set size                                        3198  \n",
       "validation set size                                       801  \n",
       "test set size                                            1001  "
      ]
     },
     "execution_count": 9,
     "metadata": {},
     "output_type": "execute_result"
    }
   ],
   "source": [
    "df_1, df_2 = benchmark.get_report_dfs()\n",
    "df_1"
   ]
  },
  {
   "cell_type": "code",
   "execution_count": 10,
   "id": "a113a1a8-6988-4440-9afc-c4e9b5e6f898",
   "metadata": {},
   "outputs": [
    {
     "data": {
      "text/html": [
       "<div>\n",
       "<style scoped>\n",
       "    .dataframe tbody tr th:only-of-type {\n",
       "        vertical-align: middle;\n",
       "    }\n",
       "\n",
       "    .dataframe tbody tr th {\n",
       "        vertical-align: top;\n",
       "    }\n",
       "\n",
       "    .dataframe thead th {\n",
       "        text-align: right;\n",
       "    }\n",
       "</style>\n",
       "<table border=\"1\" class=\"dataframe\">\n",
       "  <thead>\n",
       "    <tr style=\"text-align: right;\">\n",
       "      <th></th>\n",
       "      <th></th>\n",
       "      <th>ExponentialSmoothing</th>\n",
       "      <th>Temporal Convolutional Network</th>\n",
       "    </tr>\n",
       "    <tr>\n",
       "      <th>Dataset</th>\n",
       "      <th>Metric</th>\n",
       "      <th></th>\n",
       "      <th></th>\n",
       "    </tr>\n",
       "  </thead>\n",
       "  <tbody>\n",
       "    <tr>\n",
       "      <th rowspan=\"6\" valign=\"top\">Daily temperature</th>\n",
       "      <th>training time</th>\n",
       "      <td>0.000000</td>\n",
       "      <td>4.294949</td>\n",
       "    </tr>\n",
       "    <tr>\n",
       "      <th>evaluation time</th>\n",
       "      <td>0.530205</td>\n",
       "      <td>0.523512</td>\n",
       "    </tr>\n",
       "    <tr>\n",
       "      <th>inference time</th>\n",
       "      <td>0.067682</td>\n",
       "      <td>0.382937</td>\n",
       "    </tr>\n",
       "    <tr>\n",
       "      <th>MAE</th>\n",
       "      <td>2.400041</td>\n",
       "      <td>2.441540</td>\n",
       "    </tr>\n",
       "    <tr>\n",
       "      <th>sMAPE</th>\n",
       "      <td>24.148348</td>\n",
       "      <td>24.977306</td>\n",
       "    </tr>\n",
       "    <tr>\n",
       "      <th>MASE</th>\n",
       "      <td>1.259050</td>\n",
       "      <td>1.236158</td>\n",
       "    </tr>\n",
       "    <tr>\n",
       "      <th rowspan=\"6\" valign=\"top\">ETTh1</th>\n",
       "      <th>training time</th>\n",
       "      <td>0.000000</td>\n",
       "      <td>9.150265</td>\n",
       "    </tr>\n",
       "    <tr>\n",
       "      <th>evaluation time</th>\n",
       "      <td>11.291919</td>\n",
       "      <td>0.692194</td>\n",
       "    </tr>\n",
       "    <tr>\n",
       "      <th>inference time</th>\n",
       "      <td>1.052862</td>\n",
       "      <td>0.342503</td>\n",
       "    </tr>\n",
       "    <tr>\n",
       "      <th>MAE</th>\n",
       "      <td>1.636191</td>\n",
       "      <td>2.529447</td>\n",
       "    </tr>\n",
       "    <tr>\n",
       "      <th>sMAPE</th>\n",
       "      <td>54.354928</td>\n",
       "      <td>99.820589</td>\n",
       "    </tr>\n",
       "    <tr>\n",
       "      <th>MASE</th>\n",
       "      <td>2.405468</td>\n",
       "      <td>4.438016</td>\n",
       "    </tr>\n",
       "  </tbody>\n",
       "</table>\n",
       "</div>"
      ],
      "text/plain": [
       "                                   ExponentialSmoothing  \\\n",
       "Dataset           Metric                                  \n",
       "Daily temperature training time                0.000000   \n",
       "                  evaluation time              0.530205   \n",
       "                  inference time               0.067682   \n",
       "                  MAE                          2.400041   \n",
       "                  sMAPE                       24.148348   \n",
       "                  MASE                         1.259050   \n",
       "ETTh1             training time                0.000000   \n",
       "                  evaluation time             11.291919   \n",
       "                  inference time               1.052862   \n",
       "                  MAE                          1.636191   \n",
       "                  sMAPE                       54.354928   \n",
       "                  MASE                         2.405468   \n",
       "\n",
       "                                   Temporal Convolutional Network  \n",
       "Dataset           Metric                                           \n",
       "Daily temperature training time                          4.294949  \n",
       "                  evaluation time                        0.523512  \n",
       "                  inference time                         0.382937  \n",
       "                  MAE                                    2.441540  \n",
       "                  sMAPE                                 24.977306  \n",
       "                  MASE                                   1.236158  \n",
       "ETTh1             training time                          9.150265  \n",
       "                  evaluation time                        0.692194  \n",
       "                  inference time                         0.342503  \n",
       "                  MAE                                    2.529447  \n",
       "                  sMAPE                                 99.820589  \n",
       "                  MASE                                   4.438016  "
      ]
     },
     "execution_count": 10,
     "metadata": {},
     "output_type": "execute_result"
    }
   ],
   "source": [
    "df_2"
   ]
  },
  {
   "cell_type": "markdown",
   "id": "35d12a40",
   "metadata": {},
   "source": [
    "### Plotting\n",
    "\n",
    "By default (argument `nb_predictions` of `benchmark.run()` method), the benchmark will generate a prediction for one random input sample of each dataset with each model. The predictions, along input and target series, are stored in a dictionnary and can be retrieved by calling `benchmark.get_predictions()`. The predictions can be plotted using the Ontime plotting module."
   ]
  },
  {
   "cell_type": "code",
   "execution_count": 11,
   "id": "622c8342",
   "metadata": {},
   "outputs": [],
   "source": [
    "predictions = benchmark.get_predictions()"
   ]
  },
  {
   "cell_type": "code",
   "execution_count": 12,
   "id": "6c87c037",
   "metadata": {},
   "outputs": [],
   "source": [
    "# currently, Ontime plotting module needs the time index to be named 'time'\n",
    "def rename_index(ts, name='time'):\n",
    "    df = ts.pd_dataframe()\n",
    "    df.rename_axis(name, inplace=True)\n",
    "    return TimeSeries.from_dataframe(df)"
   ]
  },
  {
   "cell_type": "code",
   "execution_count": 13,
   "id": "9e46a81e",
   "metadata": {},
   "outputs": [],
   "source": [
    "input = rename_index(predictions['inputs']['Daily temperature'][0]).rename({'Daily minimum temperatures': 'input'})\n",
    "target = rename_index(predictions['targets']['Daily temperature'][0]).rename({'Daily minimum temperatures': 'target'})\n",
    "prediction = rename_index(predictions['predictions']['Daily temperature']['Temporal Convolutional Network'][0]).rename({'Daily minimum temperatures': 'prediction'})"
   ]
  },
  {
   "cell_type": "code",
   "execution_count": 14,
   "id": "da7935d5",
   "metadata": {},
   "outputs": [
    {
     "data": {
      "text/html": [
       "\n",
       "<style>\n",
       "  #altair-viz-5331a3ae8ad64826890d9a649a84307a.vega-embed {\n",
       "    width: 100%;\n",
       "    display: flex;\n",
       "  }\n",
       "\n",
       "  #altair-viz-5331a3ae8ad64826890d9a649a84307a.vega-embed details,\n",
       "  #altair-viz-5331a3ae8ad64826890d9a649a84307a.vega-embed details summary {\n",
       "    position: relative;\n",
       "  }\n",
       "</style>\n",
       "<div id=\"altair-viz-5331a3ae8ad64826890d9a649a84307a\"></div>\n",
       "<script type=\"text/javascript\">\n",
       "  var VEGA_DEBUG = (typeof VEGA_DEBUG == \"undefined\") ? {} : VEGA_DEBUG;\n",
       "  (function(spec, embedOpt){\n",
       "    let outputDiv = document.currentScript.previousElementSibling;\n",
       "    if (outputDiv.id !== \"altair-viz-5331a3ae8ad64826890d9a649a84307a\") {\n",
       "      outputDiv = document.getElementById(\"altair-viz-5331a3ae8ad64826890d9a649a84307a\");\n",
       "    }\n",
       "\n",
       "    const paths = {\n",
       "      \"vega\": \"https://cdn.jsdelivr.net/npm/vega@5?noext\",\n",
       "      \"vega-lib\": \"https://cdn.jsdelivr.net/npm/vega-lib?noext\",\n",
       "      \"vega-lite\": \"https://cdn.jsdelivr.net/npm/vega-lite@5.20.1?noext\",\n",
       "      \"vega-embed\": \"https://cdn.jsdelivr.net/npm/vega-embed@6?noext\",\n",
       "    };\n",
       "\n",
       "    function maybeLoadScript(lib, version) {\n",
       "      var key = `${lib.replace(\"-\", \"\")}_version`;\n",
       "      return (VEGA_DEBUG[key] == version) ?\n",
       "        Promise.resolve(paths[lib]) :\n",
       "        new Promise(function(resolve, reject) {\n",
       "          var s = document.createElement('script');\n",
       "          document.getElementsByTagName(\"head\")[0].appendChild(s);\n",
       "          s.async = true;\n",
       "          s.onload = () => {\n",
       "            VEGA_DEBUG[key] = version;\n",
       "            return resolve(paths[lib]);\n",
       "          };\n",
       "          s.onerror = () => reject(`Error loading script: ${paths[lib]}`);\n",
       "          s.src = paths[lib];\n",
       "        });\n",
       "    }\n",
       "\n",
       "    function showError(err) {\n",
       "      outputDiv.innerHTML = `<div class=\"error\" style=\"color:red;\">${err}</div>`;\n",
       "      throw err;\n",
       "    }\n",
       "\n",
       "    function displayChart(vegaEmbed) {\n",
       "      vegaEmbed(outputDiv, spec, embedOpt)\n",
       "        .catch(err => showError(`Javascript Error: ${err.message}<br>This usually means there's a typo in your chart specification. See the javascript console for the full traceback.`));\n",
       "    }\n",
       "\n",
       "    if(typeof define === \"function\" && define.amd) {\n",
       "      requirejs.config({paths});\n",
       "      let deps = [\"vega-embed\"];\n",
       "      require(deps, displayChart, err => showError(`Error loading script: ${err.message}`));\n",
       "    } else {\n",
       "      maybeLoadScript(\"vega\", \"5\")\n",
       "        .then(() => maybeLoadScript(\"vega-lite\", \"5.20.1\"))\n",
       "        .then(() => maybeLoadScript(\"vega-embed\", \"6\"))\n",
       "        .catch(showError)\n",
       "        .then(() => displayChart(vegaEmbed));\n",
       "    }\n",
       "  })({\"$schema\": \"https://vega.github.io/schema/vega/v5.json\", \"data\": [{\"name\": \"source_0\", \"values\": [{\"time\": \"1990-07-29T00:00:00.000\", \"variable\": \"input\", \"value\": 7.9}, {\"time\": \"1990-07-30T00:00:00.000\", \"variable\": \"input\", \"value\": 6.0}, {\"time\": \"1990-07-31T00:00:00.000\", \"variable\": \"input\", \"value\": 5.0}, {\"time\": \"1990-08-01T00:00:00.000\", \"variable\": \"input\", \"value\": 6.8}, {\"time\": \"1990-08-02T00:00:00.000\", \"variable\": \"input\", \"value\": 9.8}, {\"time\": \"1990-08-03T00:00:00.000\", \"variable\": \"input\", \"value\": 5.7}, {\"time\": \"1990-08-04T00:00:00.000\", \"variable\": \"input\", \"value\": 8.6}, {\"time\": \"1990-08-05T00:00:00.000\", \"variable\": \"input\", \"value\": 10.6}, {\"time\": \"1990-08-06T00:00:00.000\", \"variable\": \"input\", \"value\": 7.8}, {\"time\": \"1990-08-07T00:00:00.000\", \"variable\": \"input\", \"value\": 7.7}, {\"time\": \"1990-08-08T00:00:00.000\", \"variable\": \"input\", \"value\": 8.6}, {\"time\": \"1990-08-09T00:00:00.000\", \"variable\": \"input\", \"value\": 6.5}, {\"time\": \"1990-08-10T00:00:00.000\", \"variable\": \"input\", \"value\": 6.9}, {\"time\": \"1990-08-11T00:00:00.000\", \"variable\": \"input\", \"value\": 6.4}, {\"time\": \"1990-08-12T00:00:00.000\", \"variable\": \"input\", \"value\": 8.5}, {\"time\": \"1990-08-13T00:00:00.000\", \"variable\": \"input\", \"value\": 7.8}, {\"time\": \"1990-08-14T00:00:00.000\", \"variable\": \"input\", \"value\": 9.3}, {\"time\": \"1990-08-15T00:00:00.000\", \"variable\": \"input\", \"value\": 8.4}, {\"time\": \"1990-08-16T00:00:00.000\", \"variable\": \"input\", \"value\": 7.8}, {\"time\": \"1990-08-17T00:00:00.000\", \"variable\": \"input\", \"value\": 7.4}, {\"time\": \"1990-08-18T00:00:00.000\", \"variable\": \"input\", \"value\": 7.7}, {\"time\": \"1990-08-19T00:00:00.000\", \"variable\": \"input\", \"value\": 8.9}, {\"time\": \"1990-08-20T00:00:00.000\", \"variable\": \"input\", \"value\": 9.7}, {\"time\": \"1990-08-21T00:00:00.000\", \"variable\": \"input\", \"value\": 9.9}, {\"time\": \"1990-08-22T00:00:00.000\", \"variable\": \"input\", \"value\": 6.1}, {\"time\": \"1990-08-23T00:00:00.000\", \"variable\": \"input\", \"value\": 6.6}, {\"time\": \"1990-08-24T00:00:00.000\", \"variable\": \"input\", \"value\": 7.6}, {\"time\": \"1990-08-25T00:00:00.000\", \"variable\": \"input\", \"value\": 7.4}, {\"time\": \"1990-08-26T00:00:00.000\", \"variable\": \"input\", \"value\": 8.0}, {\"time\": \"1990-08-27T00:00:00.000\", \"variable\": \"input\", \"value\": 2.1}, {\"time\": \"1990-08-28T00:00:00.000\", \"variable\": \"input\", \"value\": 5.9}, {\"time\": \"1990-08-29T00:00:00.000\", \"variable\": \"input\", \"value\": 11.6}, {\"time\": \"1990-08-30T00:00:00.000\", \"variable\": \"input\", \"value\": 8.6}, {\"time\": \"1990-08-31T00:00:00.000\", \"variable\": \"input\", \"value\": 7.9}, {\"time\": \"1990-09-01T00:00:00.000\", \"variable\": \"input\", \"value\": 6.0}, {\"time\": \"1990-09-02T00:00:00.000\", \"variable\": \"input\", \"value\": 9.5}, {\"time\": \"1990-09-03T00:00:00.000\", \"variable\": \"input\", \"value\": 8.6}, {\"time\": \"1990-09-04T00:00:00.000\", \"variable\": \"input\", \"value\": 7.6}, {\"time\": \"1990-09-05T00:00:00.000\", \"variable\": \"input\", \"value\": 10.4}, {\"time\": \"1990-09-06T00:00:00.000\", \"variable\": \"input\", \"value\": 10.3}, {\"time\": \"1990-09-07T00:00:00.000\", \"variable\": \"input\", \"value\": 7.5}, {\"time\": \"1990-09-08T00:00:00.000\", \"variable\": \"input\", \"value\": 3.0}, {\"time\": \"1990-09-09T00:00:00.000\", \"variable\": \"input\", \"value\": 5.3}, {\"time\": \"1990-09-10T00:00:00.000\", \"variable\": \"input\", \"value\": 10.5}, {\"time\": \"1990-09-11T00:00:00.000\", \"variable\": \"input\", \"value\": 14.6}, {\"time\": \"1990-09-12T00:00:00.000\", \"variable\": \"input\", \"value\": 12.6}, {\"time\": \"1990-09-13T00:00:00.000\", \"variable\": \"input\", \"value\": 9.8}, {\"time\": \"1990-09-14T00:00:00.000\", \"variable\": \"input\", \"value\": 7.2}, {\"time\": \"1990-09-15T00:00:00.000\", \"variable\": \"input\", \"value\": 10.1}, {\"time\": \"1990-09-16T00:00:00.000\", \"variable\": \"input\", \"value\": 10.4}, {\"time\": \"1990-09-17T00:00:00.000\", \"variable\": \"input\", \"value\": 3.7}, {\"time\": \"1990-09-18T00:00:00.000\", \"variable\": \"input\", \"value\": 7.3}, {\"time\": \"1990-09-19T00:00:00.000\", \"variable\": \"input\", \"value\": 11.6}, {\"time\": \"1990-09-20T00:00:00.000\", \"variable\": \"input\", \"value\": 16.3}, {\"time\": \"1990-09-21T00:00:00.000\", \"variable\": \"input\", \"value\": 9.6}, {\"time\": \"1990-09-22T00:00:00.000\", \"variable\": \"input\", \"value\": 6.8}, {\"time\": \"1990-09-23T00:00:00.000\", \"variable\": \"input\", \"value\": 5.2}, {\"time\": \"1990-09-24T00:00:00.000\", \"variable\": \"input\", \"value\": 10.6}, {\"time\": \"1990-09-25T00:00:00.000\", \"variable\": \"input\", \"value\": 16.3}, {\"time\": \"1990-09-26T00:00:00.000\", \"variable\": \"input\", \"value\": 9.8}, {\"time\": \"1990-09-27T00:00:00.000\", \"variable\": \"input\", \"value\": 4.6}, {\"time\": \"1990-09-28T00:00:00.000\", \"variable\": \"input\", \"value\": 11.1}, {\"time\": \"1990-09-29T00:00:00.000\", \"variable\": \"input\", \"value\": 8.7}, {\"time\": \"1990-09-30T00:00:00.000\", \"variable\": \"input\", \"value\": 10.0}, {\"time\": \"1990-10-01T00:00:00.000\", \"variable\": \"input\", \"value\": 11.3}, {\"time\": \"1990-10-02T00:00:00.000\", \"variable\": \"input\", \"value\": 10.5}, {\"time\": \"1990-10-03T00:00:00.000\", \"variable\": \"input\", \"value\": 9.9}, {\"time\": \"1990-10-04T00:00:00.000\", \"variable\": \"input\", \"value\": 11.0}, {\"time\": \"1990-10-05T00:00:00.000\", \"variable\": \"input\", \"value\": 14.0}, {\"time\": \"1990-10-06T00:00:00.000\", \"variable\": \"input\", \"value\": 9.2}, {\"time\": \"1990-10-07T00:00:00.000\", \"variable\": \"input\", \"value\": 9.8}, {\"time\": \"1990-10-08T00:00:00.000\", \"variable\": \"input\", \"value\": 6.0}, {\"time\": \"1990-10-09T00:00:00.000\", \"variable\": \"input\", \"value\": 9.8}, {\"time\": \"1990-10-10T00:00:00.000\", \"variable\": \"input\", \"value\": 9.2}, {\"time\": \"1990-10-11T00:00:00.000\", \"variable\": \"input\", \"value\": 11.8}, {\"time\": \"1990-10-12T00:00:00.000\", \"variable\": \"input\", \"value\": 10.3}, {\"time\": \"1990-10-13T00:00:00.000\", \"variable\": \"input\", \"value\": 7.5}, {\"time\": \"1990-10-14T00:00:00.000\", \"variable\": \"input\", \"value\": 7.7}, {\"time\": \"1990-10-15T00:00:00.000\", \"variable\": \"input\", \"value\": 15.8}, {\"time\": \"1990-10-16T00:00:00.000\", \"variable\": \"input\", \"value\": 14.6}, {\"time\": \"1990-10-17T00:00:00.000\", \"variable\": \"input\", \"value\": 10.5}, {\"time\": \"1990-10-18T00:00:00.000\", \"variable\": \"input\", \"value\": 11.3}, {\"time\": \"1990-10-19T00:00:00.000\", \"variable\": \"input\", \"value\": 10.9}, {\"time\": \"1990-10-20T00:00:00.000\", \"variable\": \"input\", \"value\": 6.4}, {\"time\": \"1990-10-21T00:00:00.000\", \"variable\": \"input\", \"value\": 10.9}, {\"time\": \"1990-10-22T00:00:00.000\", \"variable\": \"input\", \"value\": 9.0}, {\"time\": \"1990-10-23T00:00:00.000\", \"variable\": \"input\", \"value\": 10.9}, {\"time\": \"1990-10-24T00:00:00.000\", \"variable\": \"input\", \"value\": 12.4}, {\"time\": \"1990-10-25T00:00:00.000\", \"variable\": \"input\", \"value\": 11.6}, {\"time\": \"1990-10-26T00:00:00.000\", \"variable\": \"input\", \"value\": 13.3}, {\"time\": \"1990-10-27T00:00:00.000\", \"variable\": \"input\", \"value\": 14.4}, {\"time\": \"1990-10-28T00:00:00.000\", \"variable\": \"input\", \"value\": 18.4}, {\"time\": \"1990-10-29T00:00:00.000\", \"variable\": \"input\", \"value\": 13.6}, {\"time\": \"1990-10-30T00:00:00.000\", \"variable\": \"input\", \"value\": 14.9}, {\"time\": \"1990-10-31T00:00:00.000\", \"variable\": \"input\", \"value\": 14.8}, {\"time\": \"1990-11-01T00:00:00.000\", \"variable\": \"input\", \"value\": 15.4}], \"transform\": [{\"type\": \"formula\", \"expr\": \"toDate(datum['time'])\", \"as\": \"time\"}]}, {\"name\": \"source_1\", \"values\": [{\"time\": \"1990-11-02T00:00:00.000\", \"variable\": \"target\", \"value\": 11.8}, {\"time\": \"1990-11-03T00:00:00.000\", \"variable\": \"target\", \"value\": 13.0}, {\"time\": \"1990-11-04T00:00:00.000\", \"variable\": \"target\", \"value\": 11.1}, {\"time\": \"1990-11-05T00:00:00.000\", \"variable\": \"target\", \"value\": 12.5}, {\"time\": \"1990-11-06T00:00:00.000\", \"variable\": \"target\", \"value\": 18.3}, {\"time\": \"1990-11-07T00:00:00.000\", \"variable\": \"target\", \"value\": 19.2}, {\"time\": \"1990-11-08T00:00:00.000\", \"variable\": \"target\", \"value\": 15.4}, {\"time\": \"1990-11-09T00:00:00.000\", \"variable\": \"target\", \"value\": 13.1}, {\"time\": \"1990-11-10T00:00:00.000\", \"variable\": \"target\", \"value\": 11.5}, {\"time\": \"1990-11-11T00:00:00.000\", \"variable\": \"target\", \"value\": 8.6}, {\"time\": \"1990-11-12T00:00:00.000\", \"variable\": \"target\", \"value\": 12.6}, {\"time\": \"1990-11-13T00:00:00.000\", \"variable\": \"target\", \"value\": 13.8}, {\"time\": \"1990-11-14T00:00:00.000\", \"variable\": \"target\", \"value\": 14.6}, {\"time\": \"1990-11-15T00:00:00.000\", \"variable\": \"target\", \"value\": 13.2}, {\"time\": \"1990-11-16T00:00:00.000\", \"variable\": \"target\", \"value\": 12.3}, {\"time\": \"1990-11-17T00:00:00.000\", \"variable\": \"target\", \"value\": 8.8}, {\"time\": \"1990-11-18T00:00:00.000\", \"variable\": \"target\", \"value\": 10.7}, {\"time\": \"1990-11-19T00:00:00.000\", \"variable\": \"target\", \"value\": 9.9}, {\"time\": \"1990-11-20T00:00:00.000\", \"variable\": \"target\", \"value\": 8.3}, {\"time\": \"1990-11-21T00:00:00.000\", \"variable\": \"target\", \"value\": 15.0}, {\"time\": \"1990-11-22T00:00:00.000\", \"variable\": \"target\", \"value\": 12.2}, {\"time\": \"1990-11-23T00:00:00.000\", \"variable\": \"target\", \"value\": 10.5}, {\"time\": \"1990-11-24T00:00:00.000\", \"variable\": \"target\", \"value\": 11.1}, {\"time\": \"1990-11-25T00:00:00.000\", \"variable\": \"target\", \"value\": 13.0}], \"transform\": [{\"type\": \"formula\", \"expr\": \"toDate(datum['time'])\", \"as\": \"time\"}]}, {\"name\": \"source_2\", \"values\": [{\"time\": \"1990-11-02T00:00:00.000\", \"variable\": \"prediction\", \"value\": 8.947323938139187}, {\"time\": \"1990-11-03T00:00:00.000\", \"variable\": \"prediction\", \"value\": 7.53389215026344}, {\"time\": \"1990-11-04T00:00:00.000\", \"variable\": \"prediction\", \"value\": 9.969487001754143}, {\"time\": \"1990-11-05T00:00:00.000\", \"variable\": \"prediction\", \"value\": 8.427413524011389}, {\"time\": \"1990-11-06T00:00:00.000\", \"variable\": \"prediction\", \"value\": 8.489955036361845}, {\"time\": \"1990-11-07T00:00:00.000\", \"variable\": \"prediction\", \"value\": 8.11604366061982}, {\"time\": \"1990-11-08T00:00:00.000\", \"variable\": \"prediction\", \"value\": 10.566742698827097}, {\"time\": \"1990-11-09T00:00:00.000\", \"variable\": \"prediction\", \"value\": 8.70672716640517}, {\"time\": \"1990-11-10T00:00:00.000\", \"variable\": \"prediction\", \"value\": 10.249510029712807}, {\"time\": \"1990-11-11T00:00:00.000\", \"variable\": \"prediction\", \"value\": 10.179987773747445}, {\"time\": \"1990-11-12T00:00:00.000\", \"variable\": \"prediction\", \"value\": 9.764367389241848}, {\"time\": \"1990-11-13T00:00:00.000\", \"variable\": \"prediction\", \"value\": 7.282739730669774}, {\"time\": \"1990-11-14T00:00:00.000\", \"variable\": \"prediction\", \"value\": 9.508410494981524}, {\"time\": \"1990-11-15T00:00:00.000\", \"variable\": \"prediction\", \"value\": 7.7368708844018625}, {\"time\": \"1990-11-16T00:00:00.000\", \"variable\": \"prediction\", \"value\": 9.62504762901441}, {\"time\": \"1990-11-17T00:00:00.000\", \"variable\": \"prediction\", \"value\": 9.671130721461315}, {\"time\": \"1990-11-18T00:00:00.000\", \"variable\": \"prediction\", \"value\": 9.794325678428585}, {\"time\": \"1990-11-19T00:00:00.000\", \"variable\": \"prediction\", \"value\": 10.773266668471802}, {\"time\": \"1990-11-20T00:00:00.000\", \"variable\": \"prediction\", \"value\": 10.20078242629563}, {\"time\": \"1990-11-21T00:00:00.000\", \"variable\": \"prediction\", \"value\": 11.419329612855817}, {\"time\": \"1990-11-22T00:00:00.000\", \"variable\": \"prediction\", \"value\": 10.61145448622078}, {\"time\": \"1990-11-23T00:00:00.000\", \"variable\": \"prediction\", \"value\": 11.909251993650194}, {\"time\": \"1990-11-24T00:00:00.000\", \"variable\": \"prediction\", \"value\": 11.48098684190067}, {\"time\": \"1990-11-25T00:00:00.000\", \"variable\": \"prediction\", \"value\": 12.168121789972737}], \"transform\": [{\"type\": \"formula\", \"expr\": \"toDate(datum['time'])\", \"as\": \"time\"}]}, {\"name\": \"source_0_color_domain_variable_0\", \"values\": [{\"variable\": \"input\"}]}, {\"name\": \"source_1_color_domain_variable_1\", \"values\": [{\"variable\": \"target\"}]}, {\"name\": \"source_2_color_domain_variable_2\", \"values\": [{\"variable\": \"prediction\"}]}], \"marks\": [{\"type\": \"group\", \"name\": \"layer_0_pathgroup\", \"from\": {\"facet\": {\"data\": \"source_0\", \"name\": \"faceted_path_layer_0_main\", \"groupby\": [\"variable\"]}}, \"encode\": {\"update\": {\"width\": {\"field\": {\"signal\": null, \"datum\": null, \"group\": \"width\", \"parent\": null}}, \"height\": {\"field\": {\"signal\": null, \"datum\": null, \"group\": \"height\", \"parent\": null}}}}, \"marks\": [{\"type\": \"line\", \"name\": \"layer_0_marks\", \"from\": {\"data\": \"faceted_path_layer_0_main\"}, \"sort\": {\"field\": \"x\"}, \"encode\": {\"update\": {\"x\": {\"field\": \"time\", \"scale\": \"x\"}, \"defined\": {\"signal\": \"isValid(datum[\\\"time\\\"]) && isFinite(+datum[\\\"time\\\"]) && isValid(datum[\\\"value\\\"]) && isFinite(+datum[\\\"value\\\"])\"}, \"stroke\": {\"field\": \"variable\", \"scale\": \"color\"}, \"y\": {\"field\": \"value\", \"scale\": \"y\"}}}, \"style\": [\"line\"]}]}, {\"type\": \"group\", \"name\": \"layer_1_pathgroup\", \"from\": {\"facet\": {\"data\": \"source_1\", \"name\": \"faceted_path_layer_1_main\", \"groupby\": [\"variable\"]}}, \"encode\": {\"update\": {\"height\": {\"field\": {\"signal\": null, \"datum\": null, \"group\": \"height\", \"parent\": null}}, \"width\": {\"field\": {\"signal\": null, \"datum\": null, \"group\": \"width\", \"parent\": null}}}}, \"marks\": [{\"type\": \"line\", \"name\": \"layer_1_marks\", \"from\": {\"data\": \"faceted_path_layer_1_main\"}, \"sort\": {\"field\": \"x\"}, \"encode\": {\"update\": {\"defined\": {\"signal\": \"isValid(datum[\\\"time\\\"]) && isFinite(+datum[\\\"time\\\"]) && isValid(datum[\\\"value\\\"]) && isFinite(+datum[\\\"value\\\"])\"}, \"x\": {\"field\": \"time\", \"scale\": \"x\"}, \"y\": {\"field\": \"value\", \"scale\": \"y\"}, \"stroke\": {\"field\": \"variable\", \"scale\": \"color\"}}}, \"style\": [\"line\"]}]}, {\"type\": \"group\", \"name\": \"layer_2_pathgroup\", \"from\": {\"facet\": {\"data\": \"source_2\", \"name\": \"faceted_path_layer_2_main\", \"groupby\": [\"variable\"]}}, \"encode\": {\"update\": {\"height\": {\"field\": {\"signal\": null, \"datum\": null, \"group\": \"height\", \"parent\": null}}, \"width\": {\"field\": {\"signal\": null, \"datum\": null, \"group\": \"width\", \"parent\": null}}}}, \"marks\": [{\"type\": \"line\", \"name\": \"layer_2_marks\", \"from\": {\"data\": \"faceted_path_layer_2_main\"}, \"sort\": {\"field\": \"x\"}, \"encode\": {\"update\": {\"defined\": {\"signal\": \"isValid(datum[\\\"time\\\"]) && isFinite(+datum[\\\"time\\\"]) && isValid(datum[\\\"value\\\"]) && isFinite(+datum[\\\"value\\\"])\"}, \"stroke\": {\"field\": \"variable\", \"scale\": \"color\"}, \"opacity\": {\"value\": 0.7}, \"x\": {\"field\": \"time\", \"scale\": \"x\"}, \"strokeDash\": {\"value\": [5, 2]}, \"y\": {\"field\": \"value\", \"scale\": \"y\"}}}, \"style\": [\"line\"]}]}], \"scales\": [{\"name\": \"x\", \"type\": \"time\", \"domain\": {\"fields\": [{\"data\": \"source_0\", \"field\": \"time\"}, {\"data\": \"source_1\", \"field\": \"time\"}, {\"data\": \"source_2\", \"field\": \"time\"}]}, \"range\": [0, {\"signal\": \"width\"}]}, {\"name\": \"y\", \"type\": \"linear\", \"domain\": {\"fields\": [{\"data\": \"source_0\", \"field\": \"value\"}, {\"data\": \"source_1\", \"field\": \"value\"}, {\"data\": \"source_2\", \"field\": \"value\"}]}, \"range\": [{\"signal\": \"height\"}, 0], \"zero\": true, \"nice\": true}, {\"name\": \"color\", \"type\": \"ordinal\", \"domain\": {\"fields\": [{\"data\": \"source_0_color_domain_variable_0\", \"field\": \"variable\"}, {\"data\": \"source_1_color_domain_variable_1\", \"field\": \"variable\"}, {\"data\": \"source_2_color_domain_variable_2\", \"field\": \"variable\"}], \"sort\": true}, \"range\": \"category\"}], \"axes\": [{\"scale\": \"x\", \"domain\": false, \"orient\": \"bottom\", \"maxExtent\": 0, \"gridScale\": \"y\", \"aria\": false, \"tickCount\": {\"signal\": \"ceil(width/40)\"}, \"grid\": true, \"labels\": false, \"minExtent\": 0, \"zindex\": 0, \"ticks\": false}, {\"scale\": \"y\", \"grid\": true, \"gridScale\": \"x\", \"tickCount\": {\"signal\": \"ceil(height/40)\"}, \"aria\": false, \"minExtent\": 0, \"domain\": false, \"maxExtent\": 0, \"labels\": false, \"ticks\": false, \"orient\": \"left\", \"zindex\": 0}, {\"scale\": \"x\", \"labelOverlap\": true, \"title\": \"time\", \"orient\": \"bottom\", \"labelFlush\": true, \"tickCount\": {\"signal\": \"ceil(width/40)\"}, \"zindex\": 0, \"grid\": false}, {\"scale\": \"y\", \"labelOverlap\": true, \"tickCount\": {\"signal\": \"ceil(height/40)\"}, \"title\": \"value\", \"orient\": \"left\", \"grid\": false, \"zindex\": 0}], \"width\": 600, \"style\": \"cell\", \"height\": 200, \"background\": \"white\", \"padding\": 5, \"legends\": [{\"stroke\": \"color\", \"symbolType\": \"stroke\", \"title\": \"variable\", \"encode\": {\"symbols\": {\"update\": {\"opacity\": {\"value\": 0.7}}}}}]}, {\"mode\": \"vega\"});\n",
       "</script>"
      ],
      "text/plain": [
       "alt.LayerChart(...)"
      ]
     },
     "execution_count": 14,
     "metadata": {},
     "output_type": "execute_result"
    }
   ],
   "source": [
    "(on.Plot()\n",
    "    .add(on.marks.line, input)\n",
    "    .add(on.marks.line, target)\n",
    "    .add(on.marks.line, prediction, type='dashed')\n",
    "    .properties(width=600, height=200)\n",
    "    .show()\n",
    ")"
   ]
  },
  {
   "cell_type": "code",
   "execution_count": 15,
   "id": "ffecb8fb",
   "metadata": {},
   "outputs": [],
   "source": [
    "prediction = rename_index(predictions['predictions']['Daily temperature']['ExponentialSmoothing'][0]).rename({'Daily minimum temperatures': 'prediction'})"
   ]
  },
  {
   "cell_type": "code",
   "execution_count": 16,
   "id": "e6c1b476",
   "metadata": {},
   "outputs": [
    {
     "data": {
      "text/html": [
       "\n",
       "<style>\n",
       "  #altair-viz-7489b4e622854906adc6ec9d98b01590.vega-embed {\n",
       "    width: 100%;\n",
       "    display: flex;\n",
       "  }\n",
       "\n",
       "  #altair-viz-7489b4e622854906adc6ec9d98b01590.vega-embed details,\n",
       "  #altair-viz-7489b4e622854906adc6ec9d98b01590.vega-embed details summary {\n",
       "    position: relative;\n",
       "  }\n",
       "</style>\n",
       "<div id=\"altair-viz-7489b4e622854906adc6ec9d98b01590\"></div>\n",
       "<script type=\"text/javascript\">\n",
       "  var VEGA_DEBUG = (typeof VEGA_DEBUG == \"undefined\") ? {} : VEGA_DEBUG;\n",
       "  (function(spec, embedOpt){\n",
       "    let outputDiv = document.currentScript.previousElementSibling;\n",
       "    if (outputDiv.id !== \"altair-viz-7489b4e622854906adc6ec9d98b01590\") {\n",
       "      outputDiv = document.getElementById(\"altair-viz-7489b4e622854906adc6ec9d98b01590\");\n",
       "    }\n",
       "\n",
       "    const paths = {\n",
       "      \"vega\": \"https://cdn.jsdelivr.net/npm/vega@5?noext\",\n",
       "      \"vega-lib\": \"https://cdn.jsdelivr.net/npm/vega-lib?noext\",\n",
       "      \"vega-lite\": \"https://cdn.jsdelivr.net/npm/vega-lite@5.20.1?noext\",\n",
       "      \"vega-embed\": \"https://cdn.jsdelivr.net/npm/vega-embed@6?noext\",\n",
       "    };\n",
       "\n",
       "    function maybeLoadScript(lib, version) {\n",
       "      var key = `${lib.replace(\"-\", \"\")}_version`;\n",
       "      return (VEGA_DEBUG[key] == version) ?\n",
       "        Promise.resolve(paths[lib]) :\n",
       "        new Promise(function(resolve, reject) {\n",
       "          var s = document.createElement('script');\n",
       "          document.getElementsByTagName(\"head\")[0].appendChild(s);\n",
       "          s.async = true;\n",
       "          s.onload = () => {\n",
       "            VEGA_DEBUG[key] = version;\n",
       "            return resolve(paths[lib]);\n",
       "          };\n",
       "          s.onerror = () => reject(`Error loading script: ${paths[lib]}`);\n",
       "          s.src = paths[lib];\n",
       "        });\n",
       "    }\n",
       "\n",
       "    function showError(err) {\n",
       "      outputDiv.innerHTML = `<div class=\"error\" style=\"color:red;\">${err}</div>`;\n",
       "      throw err;\n",
       "    }\n",
       "\n",
       "    function displayChart(vegaEmbed) {\n",
       "      vegaEmbed(outputDiv, spec, embedOpt)\n",
       "        .catch(err => showError(`Javascript Error: ${err.message}<br>This usually means there's a typo in your chart specification. See the javascript console for the full traceback.`));\n",
       "    }\n",
       "\n",
       "    if(typeof define === \"function\" && define.amd) {\n",
       "      requirejs.config({paths});\n",
       "      let deps = [\"vega-embed\"];\n",
       "      require(deps, displayChart, err => showError(`Error loading script: ${err.message}`));\n",
       "    } else {\n",
       "      maybeLoadScript(\"vega\", \"5\")\n",
       "        .then(() => maybeLoadScript(\"vega-lite\", \"5.20.1\"))\n",
       "        .then(() => maybeLoadScript(\"vega-embed\", \"6\"))\n",
       "        .catch(showError)\n",
       "        .then(() => displayChart(vegaEmbed));\n",
       "    }\n",
       "  })({\"$schema\": \"https://vega.github.io/schema/vega/v5.json\", \"data\": [{\"name\": \"source_0\", \"values\": [{\"time\": \"1990-07-29T00:00:00.000\", \"variable\": \"input\", \"value\": 7.9}, {\"time\": \"1990-07-30T00:00:00.000\", \"variable\": \"input\", \"value\": 6.0}, {\"time\": \"1990-07-31T00:00:00.000\", \"variable\": \"input\", \"value\": 5.0}, {\"time\": \"1990-08-01T00:00:00.000\", \"variable\": \"input\", \"value\": 6.8}, {\"time\": \"1990-08-02T00:00:00.000\", \"variable\": \"input\", \"value\": 9.8}, {\"time\": \"1990-08-03T00:00:00.000\", \"variable\": \"input\", \"value\": 5.7}, {\"time\": \"1990-08-04T00:00:00.000\", \"variable\": \"input\", \"value\": 8.6}, {\"time\": \"1990-08-05T00:00:00.000\", \"variable\": \"input\", \"value\": 10.6}, {\"time\": \"1990-08-06T00:00:00.000\", \"variable\": \"input\", \"value\": 7.8}, {\"time\": \"1990-08-07T00:00:00.000\", \"variable\": \"input\", \"value\": 7.7}, {\"time\": \"1990-08-08T00:00:00.000\", \"variable\": \"input\", \"value\": 8.6}, {\"time\": \"1990-08-09T00:00:00.000\", \"variable\": \"input\", \"value\": 6.5}, {\"time\": \"1990-08-10T00:00:00.000\", \"variable\": \"input\", \"value\": 6.9}, {\"time\": \"1990-08-11T00:00:00.000\", \"variable\": \"input\", \"value\": 6.4}, {\"time\": \"1990-08-12T00:00:00.000\", \"variable\": \"input\", \"value\": 8.5}, {\"time\": \"1990-08-13T00:00:00.000\", \"variable\": \"input\", \"value\": 7.8}, {\"time\": \"1990-08-14T00:00:00.000\", \"variable\": \"input\", \"value\": 9.3}, {\"time\": \"1990-08-15T00:00:00.000\", \"variable\": \"input\", \"value\": 8.4}, {\"time\": \"1990-08-16T00:00:00.000\", \"variable\": \"input\", \"value\": 7.8}, {\"time\": \"1990-08-17T00:00:00.000\", \"variable\": \"input\", \"value\": 7.4}, {\"time\": \"1990-08-18T00:00:00.000\", \"variable\": \"input\", \"value\": 7.7}, {\"time\": \"1990-08-19T00:00:00.000\", \"variable\": \"input\", \"value\": 8.9}, {\"time\": \"1990-08-20T00:00:00.000\", \"variable\": \"input\", \"value\": 9.7}, {\"time\": \"1990-08-21T00:00:00.000\", \"variable\": \"input\", \"value\": 9.9}, {\"time\": \"1990-08-22T00:00:00.000\", \"variable\": \"input\", \"value\": 6.1}, {\"time\": \"1990-08-23T00:00:00.000\", \"variable\": \"input\", \"value\": 6.6}, {\"time\": \"1990-08-24T00:00:00.000\", \"variable\": \"input\", \"value\": 7.6}, {\"time\": \"1990-08-25T00:00:00.000\", \"variable\": \"input\", \"value\": 7.4}, {\"time\": \"1990-08-26T00:00:00.000\", \"variable\": \"input\", \"value\": 8.0}, {\"time\": \"1990-08-27T00:00:00.000\", \"variable\": \"input\", \"value\": 2.1}, {\"time\": \"1990-08-28T00:00:00.000\", \"variable\": \"input\", \"value\": 5.9}, {\"time\": \"1990-08-29T00:00:00.000\", \"variable\": \"input\", \"value\": 11.6}, {\"time\": \"1990-08-30T00:00:00.000\", \"variable\": \"input\", \"value\": 8.6}, {\"time\": \"1990-08-31T00:00:00.000\", \"variable\": \"input\", \"value\": 7.9}, {\"time\": \"1990-09-01T00:00:00.000\", \"variable\": \"input\", \"value\": 6.0}, {\"time\": \"1990-09-02T00:00:00.000\", \"variable\": \"input\", \"value\": 9.5}, {\"time\": \"1990-09-03T00:00:00.000\", \"variable\": \"input\", \"value\": 8.6}, {\"time\": \"1990-09-04T00:00:00.000\", \"variable\": \"input\", \"value\": 7.6}, {\"time\": \"1990-09-05T00:00:00.000\", \"variable\": \"input\", \"value\": 10.4}, {\"time\": \"1990-09-06T00:00:00.000\", \"variable\": \"input\", \"value\": 10.3}, {\"time\": \"1990-09-07T00:00:00.000\", \"variable\": \"input\", \"value\": 7.5}, {\"time\": \"1990-09-08T00:00:00.000\", \"variable\": \"input\", \"value\": 3.0}, {\"time\": \"1990-09-09T00:00:00.000\", \"variable\": \"input\", \"value\": 5.3}, {\"time\": \"1990-09-10T00:00:00.000\", \"variable\": \"input\", \"value\": 10.5}, {\"time\": \"1990-09-11T00:00:00.000\", \"variable\": \"input\", \"value\": 14.6}, {\"time\": \"1990-09-12T00:00:00.000\", \"variable\": \"input\", \"value\": 12.6}, {\"time\": \"1990-09-13T00:00:00.000\", \"variable\": \"input\", \"value\": 9.8}, {\"time\": \"1990-09-14T00:00:00.000\", \"variable\": \"input\", \"value\": 7.2}, {\"time\": \"1990-09-15T00:00:00.000\", \"variable\": \"input\", \"value\": 10.1}, {\"time\": \"1990-09-16T00:00:00.000\", \"variable\": \"input\", \"value\": 10.4}, {\"time\": \"1990-09-17T00:00:00.000\", \"variable\": \"input\", \"value\": 3.7}, {\"time\": \"1990-09-18T00:00:00.000\", \"variable\": \"input\", \"value\": 7.3}, {\"time\": \"1990-09-19T00:00:00.000\", \"variable\": \"input\", \"value\": 11.6}, {\"time\": \"1990-09-20T00:00:00.000\", \"variable\": \"input\", \"value\": 16.3}, {\"time\": \"1990-09-21T00:00:00.000\", \"variable\": \"input\", \"value\": 9.6}, {\"time\": \"1990-09-22T00:00:00.000\", \"variable\": \"input\", \"value\": 6.8}, {\"time\": \"1990-09-23T00:00:00.000\", \"variable\": \"input\", \"value\": 5.2}, {\"time\": \"1990-09-24T00:00:00.000\", \"variable\": \"input\", \"value\": 10.6}, {\"time\": \"1990-09-25T00:00:00.000\", \"variable\": \"input\", \"value\": 16.3}, {\"time\": \"1990-09-26T00:00:00.000\", \"variable\": \"input\", \"value\": 9.8}, {\"time\": \"1990-09-27T00:00:00.000\", \"variable\": \"input\", \"value\": 4.6}, {\"time\": \"1990-09-28T00:00:00.000\", \"variable\": \"input\", \"value\": 11.1}, {\"time\": \"1990-09-29T00:00:00.000\", \"variable\": \"input\", \"value\": 8.7}, {\"time\": \"1990-09-30T00:00:00.000\", \"variable\": \"input\", \"value\": 10.0}, {\"time\": \"1990-10-01T00:00:00.000\", \"variable\": \"input\", \"value\": 11.3}, {\"time\": \"1990-10-02T00:00:00.000\", \"variable\": \"input\", \"value\": 10.5}, {\"time\": \"1990-10-03T00:00:00.000\", \"variable\": \"input\", \"value\": 9.9}, {\"time\": \"1990-10-04T00:00:00.000\", \"variable\": \"input\", \"value\": 11.0}, {\"time\": \"1990-10-05T00:00:00.000\", \"variable\": \"input\", \"value\": 14.0}, {\"time\": \"1990-10-06T00:00:00.000\", \"variable\": \"input\", \"value\": 9.2}, {\"time\": \"1990-10-07T00:00:00.000\", \"variable\": \"input\", \"value\": 9.8}, {\"time\": \"1990-10-08T00:00:00.000\", \"variable\": \"input\", \"value\": 6.0}, {\"time\": \"1990-10-09T00:00:00.000\", \"variable\": \"input\", \"value\": 9.8}, {\"time\": \"1990-10-10T00:00:00.000\", \"variable\": \"input\", \"value\": 9.2}, {\"time\": \"1990-10-11T00:00:00.000\", \"variable\": \"input\", \"value\": 11.8}, {\"time\": \"1990-10-12T00:00:00.000\", \"variable\": \"input\", \"value\": 10.3}, {\"time\": \"1990-10-13T00:00:00.000\", \"variable\": \"input\", \"value\": 7.5}, {\"time\": \"1990-10-14T00:00:00.000\", \"variable\": \"input\", \"value\": 7.7}, {\"time\": \"1990-10-15T00:00:00.000\", \"variable\": \"input\", \"value\": 15.8}, {\"time\": \"1990-10-16T00:00:00.000\", \"variable\": \"input\", \"value\": 14.6}, {\"time\": \"1990-10-17T00:00:00.000\", \"variable\": \"input\", \"value\": 10.5}, {\"time\": \"1990-10-18T00:00:00.000\", \"variable\": \"input\", \"value\": 11.3}, {\"time\": \"1990-10-19T00:00:00.000\", \"variable\": \"input\", \"value\": 10.9}, {\"time\": \"1990-10-20T00:00:00.000\", \"variable\": \"input\", \"value\": 6.4}, {\"time\": \"1990-10-21T00:00:00.000\", \"variable\": \"input\", \"value\": 10.9}, {\"time\": \"1990-10-22T00:00:00.000\", \"variable\": \"input\", \"value\": 9.0}, {\"time\": \"1990-10-23T00:00:00.000\", \"variable\": \"input\", \"value\": 10.9}, {\"time\": \"1990-10-24T00:00:00.000\", \"variable\": \"input\", \"value\": 12.4}, {\"time\": \"1990-10-25T00:00:00.000\", \"variable\": \"input\", \"value\": 11.6}, {\"time\": \"1990-10-26T00:00:00.000\", \"variable\": \"input\", \"value\": 13.3}, {\"time\": \"1990-10-27T00:00:00.000\", \"variable\": \"input\", \"value\": 14.4}, {\"time\": \"1990-10-28T00:00:00.000\", \"variable\": \"input\", \"value\": 18.4}, {\"time\": \"1990-10-29T00:00:00.000\", \"variable\": \"input\", \"value\": 13.6}, {\"time\": \"1990-10-30T00:00:00.000\", \"variable\": \"input\", \"value\": 14.9}, {\"time\": \"1990-10-31T00:00:00.000\", \"variable\": \"input\", \"value\": 14.8}, {\"time\": \"1990-11-01T00:00:00.000\", \"variable\": \"input\", \"value\": 15.4}], \"transform\": [{\"type\": \"formula\", \"expr\": \"toDate(datum['time'])\", \"as\": \"time\"}]}, {\"name\": \"source_1\", \"values\": [{\"time\": \"1990-11-02T00:00:00.000\", \"variable\": \"target\", \"value\": 11.8}, {\"time\": \"1990-11-03T00:00:00.000\", \"variable\": \"target\", \"value\": 13.0}, {\"time\": \"1990-11-04T00:00:00.000\", \"variable\": \"target\", \"value\": 11.1}, {\"time\": \"1990-11-05T00:00:00.000\", \"variable\": \"target\", \"value\": 12.5}, {\"time\": \"1990-11-06T00:00:00.000\", \"variable\": \"target\", \"value\": 18.3}, {\"time\": \"1990-11-07T00:00:00.000\", \"variable\": \"target\", \"value\": 19.2}, {\"time\": \"1990-11-08T00:00:00.000\", \"variable\": \"target\", \"value\": 15.4}, {\"time\": \"1990-11-09T00:00:00.000\", \"variable\": \"target\", \"value\": 13.1}, {\"time\": \"1990-11-10T00:00:00.000\", \"variable\": \"target\", \"value\": 11.5}, {\"time\": \"1990-11-11T00:00:00.000\", \"variable\": \"target\", \"value\": 8.6}, {\"time\": \"1990-11-12T00:00:00.000\", \"variable\": \"target\", \"value\": 12.6}, {\"time\": \"1990-11-13T00:00:00.000\", \"variable\": \"target\", \"value\": 13.8}, {\"time\": \"1990-11-14T00:00:00.000\", \"variable\": \"target\", \"value\": 14.6}, {\"time\": \"1990-11-15T00:00:00.000\", \"variable\": \"target\", \"value\": 13.2}, {\"time\": \"1990-11-16T00:00:00.000\", \"variable\": \"target\", \"value\": 12.3}, {\"time\": \"1990-11-17T00:00:00.000\", \"variable\": \"target\", \"value\": 8.8}, {\"time\": \"1990-11-18T00:00:00.000\", \"variable\": \"target\", \"value\": 10.7}, {\"time\": \"1990-11-19T00:00:00.000\", \"variable\": \"target\", \"value\": 9.9}, {\"time\": \"1990-11-20T00:00:00.000\", \"variable\": \"target\", \"value\": 8.3}, {\"time\": \"1990-11-21T00:00:00.000\", \"variable\": \"target\", \"value\": 15.0}, {\"time\": \"1990-11-22T00:00:00.000\", \"variable\": \"target\", \"value\": 12.2}, {\"time\": \"1990-11-23T00:00:00.000\", \"variable\": \"target\", \"value\": 10.5}, {\"time\": \"1990-11-24T00:00:00.000\", \"variable\": \"target\", \"value\": 11.1}, {\"time\": \"1990-11-25T00:00:00.000\", \"variable\": \"target\", \"value\": 13.0}], \"transform\": [{\"type\": \"formula\", \"expr\": \"toDate(datum['time'])\", \"as\": \"time\"}]}, {\"name\": \"source_2\", \"values\": [{\"time\": \"1990-11-02T00:00:00.000\", \"variable\": \"prediction\", \"value\": 12.162265718023768}, {\"time\": \"1990-11-03T00:00:00.000\", \"variable\": \"prediction\", \"value\": 10.839219485147302}, {\"time\": \"1990-11-04T00:00:00.000\", \"variable\": \"prediction\", \"value\": 12.553783295587236}, {\"time\": \"1990-11-05T00:00:00.000\", \"variable\": \"prediction\", \"value\": 11.940098216330577}, {\"time\": \"1990-11-06T00:00:00.000\", \"variable\": \"prediction\", \"value\": 13.497488501058127}, {\"time\": \"1990-11-07T00:00:00.000\", \"variable\": \"prediction\", \"value\": 13.382993205266526}, {\"time\": \"1990-11-08T00:00:00.000\", \"variable\": \"prediction\", \"value\": 13.289789004357914}, {\"time\": \"1990-11-09T00:00:00.000\", \"variable\": \"prediction\", \"value\": 12.58759507989315}, {\"time\": \"1990-11-10T00:00:00.000\", \"variable\": \"prediction\", \"value\": 11.264548847016684}, {\"time\": \"1990-11-11T00:00:00.000\", \"variable\": \"prediction\", \"value\": 12.979112657456618}, {\"time\": \"1990-11-12T00:00:00.000\", \"variable\": \"prediction\", \"value\": 12.36542757819996}, {\"time\": \"1990-11-13T00:00:00.000\", \"variable\": \"prediction\", \"value\": 13.92281786292751}, {\"time\": \"1990-11-14T00:00:00.000\", \"variable\": \"prediction\", \"value\": 13.808322567135908}, {\"time\": \"1990-11-15T00:00:00.000\", \"variable\": \"prediction\", \"value\": 13.715118366227296}, {\"time\": \"1990-11-16T00:00:00.000\", \"variable\": \"prediction\", \"value\": 13.012924441762532}, {\"time\": \"1990-11-17T00:00:00.000\", \"variable\": \"prediction\", \"value\": 11.689878208886066}, {\"time\": \"1990-11-18T00:00:00.000\", \"variable\": \"prediction\", \"value\": 13.404442019326}, {\"time\": \"1990-11-19T00:00:00.000\", \"variable\": \"prediction\", \"value\": 12.790756940069341}, {\"time\": \"1990-11-20T00:00:00.000\", \"variable\": \"prediction\", \"value\": 14.348147224796891}, {\"time\": \"1990-11-21T00:00:00.000\", \"variable\": \"prediction\", \"value\": 14.23365192900529}, {\"time\": \"1990-11-22T00:00:00.000\", \"variable\": \"prediction\", \"value\": 14.140447728096678}, {\"time\": \"1990-11-23T00:00:00.000\", \"variable\": \"prediction\", \"value\": 13.438253803631916}, {\"time\": \"1990-11-24T00:00:00.000\", \"variable\": \"prediction\", \"value\": 12.115207570755448}, {\"time\": \"1990-11-25T00:00:00.000\", \"variable\": \"prediction\", \"value\": 13.829771381195382}], \"transform\": [{\"type\": \"formula\", \"expr\": \"toDate(datum['time'])\", \"as\": \"time\"}]}, {\"name\": \"source_0_color_domain_variable_0\", \"values\": [{\"variable\": \"input\"}]}, {\"name\": \"source_1_color_domain_variable_1\", \"values\": [{\"variable\": \"target\"}]}, {\"name\": \"source_2_color_domain_variable_2\", \"values\": [{\"variable\": \"prediction\"}]}], \"marks\": [{\"type\": \"group\", \"name\": \"layer_0_pathgroup\", \"from\": {\"facet\": {\"data\": \"source_0\", \"name\": \"faceted_path_layer_0_main\", \"groupby\": [\"variable\"]}}, \"encode\": {\"update\": {\"width\": {\"field\": {\"signal\": null, \"datum\": null, \"group\": \"width\", \"parent\": null}}, \"height\": {\"field\": {\"signal\": null, \"datum\": null, \"group\": \"height\", \"parent\": null}}}}, \"marks\": [{\"type\": \"line\", \"name\": \"layer_0_marks\", \"from\": {\"data\": \"faceted_path_layer_0_main\"}, \"sort\": {\"field\": \"x\"}, \"encode\": {\"update\": {\"x\": {\"field\": \"time\", \"scale\": \"x\"}, \"defined\": {\"signal\": \"isValid(datum[\\\"time\\\"]) && isFinite(+datum[\\\"time\\\"]) && isValid(datum[\\\"value\\\"]) && isFinite(+datum[\\\"value\\\"])\"}, \"y\": {\"field\": \"value\", \"scale\": \"y\"}, \"stroke\": {\"field\": \"variable\", \"scale\": \"color\"}}}, \"style\": [\"line\"]}]}, {\"type\": \"group\", \"name\": \"layer_1_pathgroup\", \"from\": {\"facet\": {\"data\": \"source_1\", \"name\": \"faceted_path_layer_1_main\", \"groupby\": [\"variable\"]}}, \"encode\": {\"update\": {\"width\": {\"field\": {\"signal\": null, \"datum\": null, \"group\": \"width\", \"parent\": null}}, \"height\": {\"field\": {\"signal\": null, \"datum\": null, \"group\": \"height\", \"parent\": null}}}}, \"marks\": [{\"type\": \"line\", \"name\": \"layer_1_marks\", \"from\": {\"data\": \"faceted_path_layer_1_main\"}, \"sort\": {\"field\": \"x\"}, \"encode\": {\"update\": {\"y\": {\"field\": \"value\", \"scale\": \"y\"}, \"stroke\": {\"field\": \"variable\", \"scale\": \"color\"}, \"x\": {\"field\": \"time\", \"scale\": \"x\"}, \"defined\": {\"signal\": \"isValid(datum[\\\"time\\\"]) && isFinite(+datum[\\\"time\\\"]) && isValid(datum[\\\"value\\\"]) && isFinite(+datum[\\\"value\\\"])\"}}}, \"style\": [\"line\"]}]}, {\"type\": \"group\", \"name\": \"layer_2_pathgroup\", \"from\": {\"facet\": {\"data\": \"source_2\", \"name\": \"faceted_path_layer_2_main\", \"groupby\": [\"variable\"]}}, \"encode\": {\"update\": {\"width\": {\"field\": {\"signal\": null, \"datum\": null, \"group\": \"width\", \"parent\": null}}, \"height\": {\"field\": {\"signal\": null, \"datum\": null, \"group\": \"height\", \"parent\": null}}}}, \"marks\": [{\"type\": \"line\", \"name\": \"layer_2_marks\", \"from\": {\"data\": \"faceted_path_layer_2_main\"}, \"sort\": {\"field\": \"x\"}, \"encode\": {\"update\": {\"stroke\": {\"field\": \"variable\", \"scale\": \"color\"}, \"x\": {\"field\": \"time\", \"scale\": \"x\"}, \"opacity\": {\"value\": 0.7}, \"y\": {\"field\": \"value\", \"scale\": \"y\"}, \"defined\": {\"signal\": \"isValid(datum[\\\"time\\\"]) && isFinite(+datum[\\\"time\\\"]) && isValid(datum[\\\"value\\\"]) && isFinite(+datum[\\\"value\\\"])\"}, \"strokeDash\": {\"value\": [5, 2]}}}, \"style\": [\"line\"]}]}], \"scales\": [{\"name\": \"x\", \"type\": \"time\", \"domain\": {\"fields\": [{\"data\": \"source_0\", \"field\": \"time\"}, {\"data\": \"source_1\", \"field\": \"time\"}, {\"data\": \"source_2\", \"field\": \"time\"}]}, \"range\": [0, {\"signal\": \"width\"}]}, {\"name\": \"y\", \"type\": \"linear\", \"domain\": {\"fields\": [{\"data\": \"source_0\", \"field\": \"value\"}, {\"data\": \"source_1\", \"field\": \"value\"}, {\"data\": \"source_2\", \"field\": \"value\"}]}, \"range\": [{\"signal\": \"height\"}, 0], \"zero\": true, \"nice\": true}, {\"name\": \"color\", \"type\": \"ordinal\", \"domain\": {\"fields\": [{\"data\": \"source_0_color_domain_variable_0\", \"field\": \"variable\"}, {\"data\": \"source_1_color_domain_variable_1\", \"field\": \"variable\"}, {\"data\": \"source_2_color_domain_variable_2\", \"field\": \"variable\"}], \"sort\": true}, \"range\": \"category\"}], \"axes\": [{\"scale\": \"x\", \"aria\": false, \"zindex\": 0, \"minExtent\": 0, \"domain\": false, \"gridScale\": \"y\", \"orient\": \"bottom\", \"grid\": true, \"tickCount\": {\"signal\": \"ceil(width/40)\"}, \"ticks\": false, \"labels\": false, \"maxExtent\": 0}, {\"scale\": \"y\", \"grid\": true, \"minExtent\": 0, \"zindex\": 0, \"orient\": \"left\", \"tickCount\": {\"signal\": \"ceil(height/40)\"}, \"gridScale\": \"x\", \"aria\": false, \"domain\": false, \"labels\": false, \"ticks\": false, \"maxExtent\": 0}, {\"scale\": \"x\", \"orient\": \"bottom\", \"grid\": false, \"title\": \"time\", \"labelFlush\": true, \"labelOverlap\": true, \"zindex\": 0, \"tickCount\": {\"signal\": \"ceil(width/40)\"}}, {\"scale\": \"y\", \"orient\": \"left\", \"grid\": false, \"title\": \"value\", \"tickCount\": {\"signal\": \"ceil(height/40)\"}, \"labelOverlap\": true, \"zindex\": 0}], \"background\": \"white\", \"style\": \"cell\", \"height\": 200, \"legends\": [{\"stroke\": \"color\", \"symbolType\": \"stroke\", \"title\": \"variable\", \"encode\": {\"symbols\": {\"update\": {\"opacity\": {\"value\": 0.7}}}}}], \"width\": 600, \"padding\": 5}, {\"mode\": \"vega\"});\n",
       "</script>"
      ],
      "text/plain": [
       "alt.LayerChart(...)"
      ]
     },
     "execution_count": 16,
     "metadata": {},
     "output_type": "execute_result"
    }
   ],
   "source": [
    "(on.Plot()\n",
    "    .add(on.marks.line, input)\n",
    "    .add(on.marks.line, target)\n",
    "    .add(on.marks.line, prediction, type='dashed')\n",
    "    .properties(width=600, height=200)\n",
    "    .show()\n",
    ")"
   ]
  },
  {
   "cell_type": "code",
   "execution_count": 17,
   "id": "4bc66495",
   "metadata": {},
   "outputs": [],
   "source": [
    "input = rename_index(predictions['inputs']['ETTh1'][0][500:].univariate_component(0)).rename({'HUFL': 'input'})\n",
    "target = rename_index(predictions['targets']['ETTh1'][0].univariate_component(0)).rename({'HUFL': 'target'})\n",
    "prediction = rename_index(predictions['predictions']['ETTh1']['ExponentialSmoothing'][0].univariate_component(0)).rename({'HUFL': 'prediction'})"
   ]
  },
  {
   "cell_type": "code",
   "execution_count": 18,
   "id": "6312ee42",
   "metadata": {},
   "outputs": [
    {
     "data": {
      "text/html": [
       "\n",
       "<style>\n",
       "  #altair-viz-b3bb945e9f75429bbc66eac52cf0f0e4.vega-embed {\n",
       "    width: 100%;\n",
       "    display: flex;\n",
       "  }\n",
       "\n",
       "  #altair-viz-b3bb945e9f75429bbc66eac52cf0f0e4.vega-embed details,\n",
       "  #altair-viz-b3bb945e9f75429bbc66eac52cf0f0e4.vega-embed details summary {\n",
       "    position: relative;\n",
       "  }\n",
       "</style>\n",
       "<div id=\"altair-viz-b3bb945e9f75429bbc66eac52cf0f0e4\"></div>\n",
       "<script type=\"text/javascript\">\n",
       "  var VEGA_DEBUG = (typeof VEGA_DEBUG == \"undefined\") ? {} : VEGA_DEBUG;\n",
       "  (function(spec, embedOpt){\n",
       "    let outputDiv = document.currentScript.previousElementSibling;\n",
       "    if (outputDiv.id !== \"altair-viz-b3bb945e9f75429bbc66eac52cf0f0e4\") {\n",
       "      outputDiv = document.getElementById(\"altair-viz-b3bb945e9f75429bbc66eac52cf0f0e4\");\n",
       "    }\n",
       "\n",
       "    const paths = {\n",
       "      \"vega\": \"https://cdn.jsdelivr.net/npm/vega@5?noext\",\n",
       "      \"vega-lib\": \"https://cdn.jsdelivr.net/npm/vega-lib?noext\",\n",
       "      \"vega-lite\": \"https://cdn.jsdelivr.net/npm/vega-lite@5.20.1?noext\",\n",
       "      \"vega-embed\": \"https://cdn.jsdelivr.net/npm/vega-embed@6?noext\",\n",
       "    };\n",
       "\n",
       "    function maybeLoadScript(lib, version) {\n",
       "      var key = `${lib.replace(\"-\", \"\")}_version`;\n",
       "      return (VEGA_DEBUG[key] == version) ?\n",
       "        Promise.resolve(paths[lib]) :\n",
       "        new Promise(function(resolve, reject) {\n",
       "          var s = document.createElement('script');\n",
       "          document.getElementsByTagName(\"head\")[0].appendChild(s);\n",
       "          s.async = true;\n",
       "          s.onload = () => {\n",
       "            VEGA_DEBUG[key] = version;\n",
       "            return resolve(paths[lib]);\n",
       "          };\n",
       "          s.onerror = () => reject(`Error loading script: ${paths[lib]}`);\n",
       "          s.src = paths[lib];\n",
       "        });\n",
       "    }\n",
       "\n",
       "    function showError(err) {\n",
       "      outputDiv.innerHTML = `<div class=\"error\" style=\"color:red;\">${err}</div>`;\n",
       "      throw err;\n",
       "    }\n",
       "\n",
       "    function displayChart(vegaEmbed) {\n",
       "      vegaEmbed(outputDiv, spec, embedOpt)\n",
       "        .catch(err => showError(`Javascript Error: ${err.message}<br>This usually means there's a typo in your chart specification. See the javascript console for the full traceback.`));\n",
       "    }\n",
       "\n",
       "    if(typeof define === \"function\" && define.amd) {\n",
       "      requirejs.config({paths});\n",
       "      let deps = [\"vega-embed\"];\n",
       "      require(deps, displayChart, err => showError(`Error loading script: ${err.message}`));\n",
       "    } else {\n",
       "      maybeLoadScript(\"vega\", \"5\")\n",
       "        .then(() => maybeLoadScript(\"vega-lite\", \"5.20.1\"))\n",
       "        .then(() => maybeLoadScript(\"vega-embed\", \"6\"))\n",
       "        .catch(showError)\n",
       "        .then(() => displayChart(vegaEmbed));\n",
       "    }\n",
       "  })({\"$schema\": \"https://vega.github.io/schema/vega/v5.json\", \"data\": [{\"name\": \"source_0\", \"values\": [], \"transform\": [{\"type\": \"formula\", \"expr\": \"toDate(datum['time'])\", \"as\": \"time\"}]}, {\"name\": \"source_1\", \"values\": [{\"time\": \"2017-01-06T15:00:00.000\", \"variable\": \"target\", \"value\": 9.041999816894531}, {\"time\": \"2017-01-06T16:00:00.000\", \"variable\": \"target\", \"value\": 8.77400016784668}, {\"time\": \"2017-01-06T17:00:00.000\", \"variable\": \"target\", \"value\": 10.649999618530272}, {\"time\": \"2017-01-06T18:00:00.000\", \"variable\": \"target\", \"value\": 9.779000282287598}, {\"time\": \"2017-01-06T19:00:00.000\", \"variable\": \"target\", \"value\": 9.243000030517578}, {\"time\": \"2017-01-06T20:00:00.000\", \"variable\": \"target\", \"value\": 8.371999740600586}, {\"time\": \"2017-01-06T21:00:00.000\", \"variable\": \"target\", \"value\": 7.301000118255615}, {\"time\": \"2017-01-06T22:00:00.000\", \"variable\": \"target\", \"value\": 7.836999893188477}, {\"time\": \"2017-01-06T23:00:00.000\", \"variable\": \"target\", \"value\": 8.840999603271484}, {\"time\": \"2017-01-07T00:00:00.000\", \"variable\": \"target\", \"value\": 7.703000068664551}, {\"time\": \"2017-01-07T01:00:00.000\", \"variable\": \"target\", \"value\": 7.501999855041504}, {\"time\": \"2017-01-07T02:00:00.000\", \"variable\": \"target\", \"value\": 7.501999855041504}, {\"time\": \"2017-01-07T03:00:00.000\", \"variable\": \"target\", \"value\": 8.371999740600586}, {\"time\": \"2017-01-07T04:00:00.000\", \"variable\": \"target\", \"value\": 8.505999565124513}, {\"time\": \"2017-01-07T05:00:00.000\", \"variable\": \"target\", \"value\": 8.572999954223633}, {\"time\": \"2017-01-07T06:00:00.000\", \"variable\": \"target\", \"value\": 8.77400016784668}, {\"time\": \"2017-01-07T07:00:00.000\", \"variable\": \"target\", \"value\": 10.717000007629396}, {\"time\": \"2017-01-07T08:00:00.000\", \"variable\": \"target\", \"value\": 11.720999717712402}, {\"time\": \"2017-01-07T09:00:00.000\", \"variable\": \"target\", \"value\": 9.979999542236328}, {\"time\": \"2017-01-07T10:00:00.000\", \"variable\": \"target\", \"value\": 9.51099967956543}, {\"time\": \"2017-01-07T11:00:00.000\", \"variable\": \"target\", \"value\": 10.984999656677246}, {\"time\": \"2017-01-07T12:00:00.000\", \"variable\": \"target\", \"value\": 8.439000129699707}, {\"time\": \"2017-01-07T13:00:00.000\", \"variable\": \"target\", \"value\": 9.109000205993652}, {\"time\": \"2017-01-07T14:00:00.000\", \"variable\": \"target\", \"value\": 9.041999816894531}, {\"time\": \"2017-01-07T15:00:00.000\", \"variable\": \"target\", \"value\": 9.376999855041504}, {\"time\": \"2017-01-07T16:00:00.000\", \"variable\": \"target\", \"value\": 10.3149995803833}, {\"time\": \"2017-01-07T17:00:00.000\", \"variable\": \"target\", \"value\": 11.119000434875488}, {\"time\": \"2017-01-07T18:00:00.000\", \"variable\": \"target\", \"value\": 10.180999755859377}, {\"time\": \"2017-01-07T19:00:00.000\", \"variable\": \"target\", \"value\": 10.248000144958496}, {\"time\": \"2017-01-07T20:00:00.000\", \"variable\": \"target\", \"value\": 9.376999855041504}, {\"time\": \"2017-01-07T21:00:00.000\", \"variable\": \"target\", \"value\": 8.439000129699707}, {\"time\": \"2017-01-07T22:00:00.000\", \"variable\": \"target\", \"value\": 9.845999717712402}, {\"time\": \"2017-01-07T23:00:00.000\", \"variable\": \"target\", \"value\": 14.401000022888184}, {\"time\": \"2017-01-08T00:00:00.000\", \"variable\": \"target\", \"value\": 14.267000198364258}, {\"time\": \"2017-01-08T01:00:00.000\", \"variable\": \"target\", \"value\": 12.256999969482422}, {\"time\": \"2017-01-08T02:00:00.000\", \"variable\": \"target\", \"value\": 12.055999755859377}, {\"time\": \"2017-01-08T03:00:00.000\", \"variable\": \"target\", \"value\": 13.26200008392334}, {\"time\": \"2017-01-08T04:00:00.000\", \"variable\": \"target\", \"value\": 12.859999656677244}, {\"time\": \"2017-01-08T05:00:00.000\", \"variable\": \"target\", \"value\": 14.065999984741213}, {\"time\": \"2017-01-08T06:00:00.000\", \"variable\": \"target\", \"value\": 13.79800033569336}, {\"time\": \"2017-01-08T07:00:00.000\", \"variable\": \"target\", \"value\": 14.065999984741213}, {\"time\": \"2017-01-08T08:00:00.000\", \"variable\": \"target\", \"value\": 13.395999908447266}, {\"time\": \"2017-01-08T09:00:00.000\", \"variable\": \"target\", \"value\": 12.055999755859377}, {\"time\": \"2017-01-08T10:00:00.000\", \"variable\": \"target\", \"value\": 10.04699993133545}, {\"time\": \"2017-01-08T11:00:00.000\", \"variable\": \"target\", \"value\": 12.994000434875488}, {\"time\": \"2017-01-08T12:00:00.000\", \"variable\": \"target\", \"value\": 8.907999992370605}, {\"time\": \"2017-01-08T13:00:00.000\", \"variable\": \"target\", \"value\": 9.175999641418455}, {\"time\": \"2017-01-08T14:00:00.000\", \"variable\": \"target\", \"value\": 8.23900032043457}, {\"time\": \"2017-01-08T15:00:00.000\", \"variable\": \"target\", \"value\": 8.572999954223633}, {\"time\": \"2017-01-08T16:00:00.000\", \"variable\": \"target\", \"value\": 9.645000457763672}, {\"time\": \"2017-01-08T17:00:00.000\", \"variable\": \"target\", \"value\": 11.185999870300291}, {\"time\": \"2017-01-08T18:00:00.000\", \"variable\": \"target\", \"value\": 10.381999969482422}, {\"time\": \"2017-01-08T19:00:00.000\", \"variable\": \"target\", \"value\": 10.583000183105469}, {\"time\": \"2017-01-08T20:00:00.000\", \"variable\": \"target\", \"value\": 9.711999893188477}, {\"time\": \"2017-01-08T21:00:00.000\", \"variable\": \"target\", \"value\": 10.11400032043457}, {\"time\": \"2017-01-08T22:00:00.000\", \"variable\": \"target\", \"value\": 10.248000144958496}, {\"time\": \"2017-01-08T23:00:00.000\", \"variable\": \"target\", \"value\": 10.381999969482422}, {\"time\": \"2017-01-09T00:00:00.000\", \"variable\": \"target\", \"value\": 12.324000358581545}, {\"time\": \"2017-01-09T01:00:00.000\", \"variable\": \"target\", \"value\": 11.854999542236328}, {\"time\": \"2017-01-09T02:00:00.000\", \"variable\": \"target\", \"value\": 10.11400032043457}, {\"time\": \"2017-01-09T03:00:00.000\", \"variable\": \"target\", \"value\": 11.119000434875488}, {\"time\": \"2017-01-09T04:00:00.000\", \"variable\": \"target\", \"value\": 10.449000358581545}, {\"time\": \"2017-01-09T05:00:00.000\", \"variable\": \"target\", \"value\": 10.784000396728516}, {\"time\": \"2017-01-09T06:00:00.000\", \"variable\": \"target\", \"value\": 13.32900047302246}, {\"time\": \"2017-01-09T07:00:00.000\", \"variable\": \"target\", \"value\": 13.060999870300291}, {\"time\": \"2017-01-09T08:00:00.000\", \"variable\": \"target\", \"value\": 12.256999969482422}, {\"time\": \"2017-01-09T09:00:00.000\", \"variable\": \"target\", \"value\": 11.45400047302246}, {\"time\": \"2017-01-09T10:00:00.000\", \"variable\": \"target\", \"value\": 7.97100019454956}, {\"time\": \"2017-01-09T11:00:00.000\", \"variable\": \"target\", \"value\": 9.376999855041504}, {\"time\": \"2017-01-09T12:00:00.000\", \"variable\": \"target\", \"value\": 5.625999927520752}, {\"time\": \"2017-01-09T13:00:00.000\", \"variable\": \"target\", \"value\": 4.2199997901916495}, {\"time\": \"2017-01-09T14:00:00.000\", \"variable\": \"target\", \"value\": 7.0329999923706055}], \"transform\": [{\"type\": \"formula\", \"expr\": \"toDate(datum['time'])\", \"as\": \"time\"}]}, {\"name\": \"source_2\", \"values\": [{\"time\": \"2017-01-06T15:00:00.000\", \"variable\": \"prediction\", \"value\": 8.686687405949781}, {\"time\": \"2017-01-06T16:00:00.000\", \"variable\": \"prediction\", \"value\": 8.98825520708739}, {\"time\": \"2017-01-06T17:00:00.000\", \"variable\": \"prediction\", \"value\": 10.495258954427369}, {\"time\": \"2017-01-06T18:00:00.000\", \"variable\": \"prediction\", \"value\": 10.203334834226643}, {\"time\": \"2017-01-06T19:00:00.000\", \"variable\": \"prediction\", \"value\": 10.098056295913233}, {\"time\": \"2017-01-06T20:00:00.000\", \"variable\": \"prediction\", \"value\": 9.389914993948718}, {\"time\": \"2017-01-06T21:00:00.000\", \"variable\": \"prediction\", \"value\": 8.940496304911052}, {\"time\": \"2017-01-06T22:00:00.000\", \"variable\": \"prediction\", \"value\": 10.270567583806429}, {\"time\": \"2017-01-06T23:00:00.000\", \"variable\": \"prediction\", \"value\": 11.069427656139261}, {\"time\": \"2017-01-07T00:00:00.000\", \"variable\": \"prediction\", \"value\": 11.944858774270818}, {\"time\": \"2017-01-07T01:00:00.000\", \"variable\": \"prediction\", \"value\": 12.054936033534759}, {\"time\": \"2017-01-07T02:00:00.000\", \"variable\": \"prediction\", \"value\": 11.629156319856621}, {\"time\": \"2017-01-07T03:00:00.000\", \"variable\": \"prediction\", \"value\": 11.638646591422555}, {\"time\": \"2017-01-07T04:00:00.000\", \"variable\": \"prediction\", \"value\": 11.35156843333779}, {\"time\": \"2017-01-07T05:00:00.000\", \"variable\": \"prediction\", \"value\": 11.456906661816461}, {\"time\": \"2017-01-07T06:00:00.000\", \"variable\": \"prediction\", \"value\": 11.949544041389963}, {\"time\": \"2017-01-07T07:00:00.000\", \"variable\": \"prediction\", \"value\": 12.944809758929448}, {\"time\": \"2017-01-07T08:00:00.000\", \"variable\": \"prediction\", \"value\": 11.997442429755155}, {\"time\": \"2017-01-07T09:00:00.000\", \"variable\": \"prediction\", \"value\": 10.222426867028942}, {\"time\": \"2017-01-07T10:00:00.000\", \"variable\": \"prediction\", \"value\": 9.99748931904812}, {\"time\": \"2017-01-07T11:00:00.000\", \"variable\": \"prediction\", \"value\": 10.748827916229846}, {\"time\": \"2017-01-07T12:00:00.000\", \"variable\": \"prediction\", \"value\": 8.222598494010878}, {\"time\": \"2017-01-07T13:00:00.000\", \"variable\": \"prediction\", \"value\": 8.605434998998572}, {\"time\": \"2017-01-07T14:00:00.000\", \"variable\": \"prediction\", \"value\": 8.715286560844527}, {\"time\": \"2017-01-07T15:00:00.000\", \"variable\": \"prediction\", \"value\": 8.757495167259297}, {\"time\": \"2017-01-07T16:00:00.000\", \"variable\": \"prediction\", \"value\": 9.059062968396905}, {\"time\": \"2017-01-07T17:00:00.000\", \"variable\": \"prediction\", \"value\": 10.566066715736886}, {\"time\": \"2017-01-07T18:00:00.000\", \"variable\": \"prediction\", \"value\": 10.274142595536158}, {\"time\": \"2017-01-07T19:00:00.000\", \"variable\": \"prediction\", \"value\": 10.168864057222748}, {\"time\": \"2017-01-07T20:00:00.000\", \"variable\": \"prediction\", \"value\": 9.460722755258232}, {\"time\": \"2017-01-07T21:00:00.000\", \"variable\": \"prediction\", \"value\": 9.011304066220568}, {\"time\": \"2017-01-07T22:00:00.000\", \"variable\": \"prediction\", \"value\": 10.341375345115944}, {\"time\": \"2017-01-07T23:00:00.000\", \"variable\": \"prediction\", \"value\": 11.140235417448778}, {\"time\": \"2017-01-08T00:00:00.000\", \"variable\": \"prediction\", \"value\": 12.015666535580335}, {\"time\": \"2017-01-08T01:00:00.000\", \"variable\": \"prediction\", \"value\": 12.125743794844276}, {\"time\": \"2017-01-08T02:00:00.000\", \"variable\": \"prediction\", \"value\": 11.699964081166137}, {\"time\": \"2017-01-08T03:00:00.000\", \"variable\": \"prediction\", \"value\": 11.70945435273207}, {\"time\": \"2017-01-08T04:00:00.000\", \"variable\": \"prediction\", \"value\": 11.422376194647306}, {\"time\": \"2017-01-08T05:00:00.000\", \"variable\": \"prediction\", \"value\": 11.527714423125976}, {\"time\": \"2017-01-08T06:00:00.000\", \"variable\": \"prediction\", \"value\": 12.020351802699478}, {\"time\": \"2017-01-08T07:00:00.000\", \"variable\": \"prediction\", \"value\": 13.015617520238962}, {\"time\": \"2017-01-08T08:00:00.000\", \"variable\": \"prediction\", \"value\": 12.068250191064672}, {\"time\": \"2017-01-08T09:00:00.000\", \"variable\": \"prediction\", \"value\": 10.293234628338457}, {\"time\": \"2017-01-08T10:00:00.000\", \"variable\": \"prediction\", \"value\": 10.068297080357635}, {\"time\": \"2017-01-08T11:00:00.000\", \"variable\": \"prediction\", \"value\": 10.819635677539361}, {\"time\": \"2017-01-08T12:00:00.000\", \"variable\": \"prediction\", \"value\": 8.293406255320392}, {\"time\": \"2017-01-08T13:00:00.000\", \"variable\": \"prediction\", \"value\": 8.676242760308087}, {\"time\": \"2017-01-08T14:00:00.000\", \"variable\": \"prediction\", \"value\": 8.786094322154042}, {\"time\": \"2017-01-08T15:00:00.000\", \"variable\": \"prediction\", \"value\": 8.828302928568814}, {\"time\": \"2017-01-08T16:00:00.000\", \"variable\": \"prediction\", \"value\": 9.129870729706422}, {\"time\": \"2017-01-08T17:00:00.000\", \"variable\": \"prediction\", \"value\": 10.636874477046401}, {\"time\": \"2017-01-08T18:00:00.000\", \"variable\": \"prediction\", \"value\": 10.344950356845674}, {\"time\": \"2017-01-08T19:00:00.000\", \"variable\": \"prediction\", \"value\": 10.239671818532264}, {\"time\": \"2017-01-08T20:00:00.000\", \"variable\": \"prediction\", \"value\": 9.531530516567749}, {\"time\": \"2017-01-08T21:00:00.000\", \"variable\": \"prediction\", \"value\": 9.082111827530083}, {\"time\": \"2017-01-08T22:00:00.000\", \"variable\": \"prediction\", \"value\": 10.41218310642546}, {\"time\": \"2017-01-08T23:00:00.000\", \"variable\": \"prediction\", \"value\": 11.211043178758295}, {\"time\": \"2017-01-09T00:00:00.000\", \"variable\": \"prediction\", \"value\": 12.08647429688985}, {\"time\": \"2017-01-09T01:00:00.000\", \"variable\": \"prediction\", \"value\": 12.19655155615379}, {\"time\": \"2017-01-09T02:00:00.000\", \"variable\": \"prediction\", \"value\": 11.770771842475652}, {\"time\": \"2017-01-09T03:00:00.000\", \"variable\": \"prediction\", \"value\": 11.780262114041586}, {\"time\": \"2017-01-09T04:00:00.000\", \"variable\": \"prediction\", \"value\": 11.493183955956821}, {\"time\": \"2017-01-09T05:00:00.000\", \"variable\": \"prediction\", \"value\": 11.598522184435492}, {\"time\": \"2017-01-09T06:00:00.000\", \"variable\": \"prediction\", \"value\": 12.091159564008995}, {\"time\": \"2017-01-09T07:00:00.000\", \"variable\": \"prediction\", \"value\": 13.086425281548479}, {\"time\": \"2017-01-09T08:00:00.000\", \"variable\": \"prediction\", \"value\": 12.139057952374188}, {\"time\": \"2017-01-09T09:00:00.000\", \"variable\": \"prediction\", \"value\": 10.364042389647972}, {\"time\": \"2017-01-09T10:00:00.000\", \"variable\": \"prediction\", \"value\": 10.13910484166715}, {\"time\": \"2017-01-09T11:00:00.000\", \"variable\": \"prediction\", \"value\": 10.890443438848877}, {\"time\": \"2017-01-09T12:00:00.000\", \"variable\": \"prediction\", \"value\": 8.364214016629909}, {\"time\": \"2017-01-09T13:00:00.000\", \"variable\": \"prediction\", \"value\": 8.747050521617602}, {\"time\": \"2017-01-09T14:00:00.000\", \"variable\": \"prediction\", \"value\": 8.85690208346356}], \"transform\": [{\"type\": \"formula\", \"expr\": \"toDate(datum['time'])\", \"as\": \"time\"}]}, {\"name\": \"source_0_color_domain_variable_0\", \"values\": []}, {\"name\": \"source_1_color_domain_variable_1\", \"values\": [{\"variable\": \"target\"}]}, {\"name\": \"source_2_color_domain_variable_2\", \"values\": [{\"variable\": \"prediction\"}]}], \"marks\": [{\"type\": \"group\", \"name\": \"layer_0_pathgroup\", \"from\": {\"facet\": {\"data\": \"source_0\", \"name\": \"faceted_path_layer_0_main\", \"groupby\": [\"variable\"]}}, \"encode\": {\"update\": {\"height\": {\"field\": {\"signal\": null, \"datum\": null, \"group\": \"height\", \"parent\": null}}, \"width\": {\"field\": {\"signal\": null, \"datum\": null, \"group\": \"width\", \"parent\": null}}}}, \"marks\": [{\"type\": \"line\", \"name\": \"layer_0_marks\", \"from\": {\"data\": \"faceted_path_layer_0_main\"}, \"sort\": {\"field\": \"x\"}, \"encode\": {\"update\": {\"stroke\": {\"field\": \"variable\", \"scale\": \"color\"}, \"x\": {\"field\": \"time\", \"scale\": \"x\"}, \"y\": {\"field\": \"value\", \"scale\": \"y\"}, \"defined\": {\"signal\": \"isValid(datum[\\\"time\\\"]) && isFinite(+datum[\\\"time\\\"]) && isValid(datum[\\\"value\\\"]) && isFinite(+datum[\\\"value\\\"])\"}}}, \"style\": [\"line\"]}]}, {\"type\": \"group\", \"name\": \"layer_1_pathgroup\", \"from\": {\"facet\": {\"data\": \"source_1\", \"name\": \"faceted_path_layer_1_main\", \"groupby\": [\"variable\"]}}, \"encode\": {\"update\": {\"width\": {\"field\": {\"signal\": null, \"datum\": null, \"group\": \"width\", \"parent\": null}}, \"height\": {\"field\": {\"signal\": null, \"datum\": null, \"group\": \"height\", \"parent\": null}}}}, \"marks\": [{\"type\": \"line\", \"name\": \"layer_1_marks\", \"from\": {\"data\": \"faceted_path_layer_1_main\"}, \"sort\": {\"field\": \"x\"}, \"encode\": {\"update\": {\"x\": {\"field\": \"time\", \"scale\": \"x\"}, \"stroke\": {\"field\": \"variable\", \"scale\": \"color\"}, \"defined\": {\"signal\": \"isValid(datum[\\\"time\\\"]) && isFinite(+datum[\\\"time\\\"]) && isValid(datum[\\\"value\\\"]) && isFinite(+datum[\\\"value\\\"])\"}, \"y\": {\"field\": \"value\", \"scale\": \"y\"}}}, \"style\": [\"line\"]}]}, {\"type\": \"group\", \"name\": \"layer_2_pathgroup\", \"from\": {\"facet\": {\"data\": \"source_2\", \"name\": \"faceted_path_layer_2_main\", \"groupby\": [\"variable\"]}}, \"encode\": {\"update\": {\"width\": {\"field\": {\"signal\": null, \"datum\": null, \"group\": \"width\", \"parent\": null}}, \"height\": {\"field\": {\"signal\": null, \"datum\": null, \"group\": \"height\", \"parent\": null}}}}, \"marks\": [{\"type\": \"line\", \"name\": \"layer_2_marks\", \"from\": {\"data\": \"faceted_path_layer_2_main\"}, \"sort\": {\"field\": \"x\"}, \"encode\": {\"update\": {\"opacity\": {\"value\": 0.7}, \"stroke\": {\"field\": \"variable\", \"scale\": \"color\"}, \"y\": {\"field\": \"value\", \"scale\": \"y\"}, \"defined\": {\"signal\": \"isValid(datum[\\\"time\\\"]) && isFinite(+datum[\\\"time\\\"]) && isValid(datum[\\\"value\\\"]) && isFinite(+datum[\\\"value\\\"])\"}, \"strokeDash\": {\"value\": [5, 2]}, \"x\": {\"field\": \"time\", \"scale\": \"x\"}}}, \"style\": [\"line\"]}]}], \"scales\": [{\"name\": \"x\", \"type\": \"time\", \"domain\": {\"fields\": [{\"data\": \"source_0\", \"field\": \"time\"}, {\"data\": \"source_1\", \"field\": \"time\"}, {\"data\": \"source_2\", \"field\": \"time\"}]}, \"range\": [0, {\"signal\": \"width\"}]}, {\"name\": \"y\", \"type\": \"linear\", \"domain\": {\"fields\": [{\"data\": \"source_0\", \"field\": \"value\"}, {\"data\": \"source_1\", \"field\": \"value\"}, {\"data\": \"source_2\", \"field\": \"value\"}]}, \"range\": [{\"signal\": \"height\"}, 0], \"zero\": true, \"nice\": true}, {\"name\": \"color\", \"type\": \"ordinal\", \"domain\": {\"fields\": [{\"data\": \"source_0_color_domain_variable_0\", \"field\": \"variable\"}, {\"data\": \"source_1_color_domain_variable_1\", \"field\": \"variable\"}, {\"data\": \"source_2_color_domain_variable_2\", \"field\": \"variable\"}], \"sort\": true}, \"range\": \"category\"}], \"axes\": [{\"scale\": \"x\", \"grid\": true, \"maxExtent\": 0, \"minExtent\": 0, \"zindex\": 0, \"labels\": false, \"tickCount\": {\"signal\": \"ceil(width/40)\"}, \"ticks\": false, \"domain\": false, \"gridScale\": \"y\", \"aria\": false, \"orient\": \"bottom\"}, {\"scale\": \"y\", \"domain\": false, \"aria\": false, \"tickCount\": {\"signal\": \"ceil(height/40)\"}, \"orient\": \"left\", \"grid\": true, \"labels\": false, \"maxExtent\": 0, \"zindex\": 0, \"ticks\": false, \"gridScale\": \"x\", \"minExtent\": 0}, {\"scale\": \"x\", \"labelFlush\": true, \"grid\": false, \"zindex\": 0, \"orient\": \"bottom\", \"labelOverlap\": true, \"title\": \"time\", \"tickCount\": {\"signal\": \"ceil(width/40)\"}}, {\"scale\": \"y\", \"title\": \"value\", \"grid\": false, \"zindex\": 0, \"tickCount\": {\"signal\": \"ceil(height/40)\"}, \"orient\": \"left\", \"labelOverlap\": true}], \"legends\": [{\"stroke\": \"color\", \"symbolType\": \"stroke\", \"title\": \"variable\", \"encode\": {\"symbols\": {\"update\": {\"opacity\": {\"value\": 0.7}}}}}], \"width\": 600, \"style\": \"cell\", \"padding\": 5, \"background\": \"white\", \"height\": 200}, {\"mode\": \"vega\"});\n",
       "</script>"
      ],
      "text/plain": [
       "alt.LayerChart(...)"
      ]
     },
     "execution_count": 18,
     "metadata": {},
     "output_type": "execute_result"
    }
   ],
   "source": [
    "(on.Plot()\n",
    "    .add(on.marks.line, input)\n",
    "    .add(on.marks.line, target)\n",
    "    .add(on.marks.line, prediction, type='dashed')\n",
    "    .properties(width=600, height=200)\n",
    "    .show()\n",
    ")"
   ]
  }
 ],
 "metadata": {
  "kernelspec": {
   "display_name": "ontime-2OQVvbNf-py3.10",
   "language": "python",
   "name": "python3"
  },
  "language_info": {
   "codemirror_mode": {
    "name": "ipython",
    "version": 3
   },
   "file_extension": ".py",
   "mimetype": "text/x-python",
   "name": "python",
   "nbconvert_exporter": "python",
   "pygments_lexer": "ipython3",
   "version": "3.10.12"
  }
 },
 "nbformat": 4,
 "nbformat_minor": 5
}
