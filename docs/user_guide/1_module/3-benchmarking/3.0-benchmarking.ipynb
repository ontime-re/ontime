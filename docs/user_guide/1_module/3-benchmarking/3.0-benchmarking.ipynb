{
 "cells": [
  {
   "cell_type": "markdown",
   "id": "550c22a8-085f-45f1-9af5-35896f670515",
   "metadata": {},
   "source": [
    "# Module - Benchmarking\n",
    "Ontime provides a `Benchmark` class that can be used to run a number of prediction models on a number of datasets."
   ]
  },
  {
   "cell_type": "code",
   "execution_count": 1,
   "id": "27e27d12-d338-47d3-8fd3-b31ff80ac57c",
   "metadata": {
    "ExecuteTime": {
     "end_time": "2024-06-24T06:55:56.084401800Z",
     "start_time": "2024-06-24T06:55:51.801812900Z"
    }
   },
   "outputs": [],
   "source": [
    "from ontime.module.benchmarking import BenchmarkMode, BenchmarkDataset, BenchmarkMetric, Benchmark\n",
    "import ontime as on"
   ]
  },
  {
   "cell_type": "markdown",
   "id": "476a848a-77d7-4efc-840f-665a7cdc1857",
   "metadata": {},
   "source": [
    "## Initialization\n",
    "A `Benchmark` instance can be initialized with a list of datasets, models and metrics to run through. When invoking `run()`, it will train (if needed) and test every dataset on every model, and compute every metric on the predicted data.\n"
   ]
  },
  {
   "cell_type": "markdown",
   "id": "f5641c4a",
   "metadata": {},
   "source": [
    "### Preparing datasets\n",
    "\n",
    "Datasets submitted to a `Benchmark` must be of type `TimeSeries`, wrapped into `BenchmarkDataset`. `BenchmarkDataset` allows to give datasets a name, give training and test splits, and define how data will be split to perform a rolling evaluation."
   ]
  },
  {
   "cell_type": "code",
   "execution_count": 2,
   "id": "1177e73c",
   "metadata": {},
   "outputs": [],
   "source": [
    "from ontime.module.datasets.dataset import Dataset\n",
    "from darts.utils.missing_values import fill_missing_values # for filling missing values in the time series (for models that don't handle missing values)\n",
    "\n",
    "datasets = [\n",
    "    BenchmarkDataset(on.TimeSeries.from_darts(fill_missing_values(Dataset.TemperatureDataset.load())), input_length=96, gap=0, stride=96, horizon=24, name=\"Daily temperature\"),\n",
    "]"
   ]
  },
  {
   "cell_type": "markdown",
   "id": "30689a0a-9ed7-4eca-ab6e-6de1cb1c9e21",
   "metadata": {},
   "source": [
    "### Preparing models  \n",
    "\n",
    "Models are wrapped according to the `AbstractBenchmarkModel` interface. Wrappers implementing this interface will instanciate the model for each dataset.  \n",
    "In Ontime, some wrappers around darts models are provided. For specific models, whose wrappers are not provided, a custom wrapper can be written, implementing the AbstractBenchmarkModel interface.  \n",
    "A `mode` should be provided to the wrapper constructor, which will define how the model is evaluated. In can be either:\n",
    "- `ZERO_SHOT`: the model is not trained, and the evaluation is done on the test set. It is used for models that already has trained weights, available through checkpoints, or for some models from darts, where predictions are directly made using the fitted data as input.  \n",
    "For some univariate models, a `multivariate` can be set so that they perform a multi-univariate predictions, and therefore can be compare against true multivariate models.\n",
    "- `FULL_SHOT`: the model is trained on the entire given training set. Once trained, the model is evaluated using the learnt weights."
   ]
  },
  {
   "cell_type": "code",
   "execution_count": null,
   "id": "71c4bc47-8479-46f1-a4c4-7ad5478020f0",
   "metadata": {
    "ExecuteTime": {
     "end_time": "2024-06-24T06:55:56.084401800Z",
     "start_time": "2024-06-24T06:55:56.073910600Z"
    }
   },
   "outputs": [],
   "source": [
    "from ontime.core.time_series.time_series import TimeSeries\n",
    "from ontime.module.benchmarking.darts_models import LocalDartsBenchmarkModel, GlobalDartsBenchmarkModel\n",
    "from darts.models import ExponentialSmoothing, TCNModel\n",
    "\n",
    "models = [\n",
    "    LocalDartsBenchmarkModel(\"ExponentialSmoothingUnivariate\", model=ExponentialSmoothing(), mode=BenchmarkMode.ZERO_SHOT),\n",
    "    LocalDartsBenchmarkModel(\"ExponentialSmoothingMultivariate\", model=ExponentialSmoothing(), mode=BenchmarkMode.ZERO_SHOT, multivariate=True),\n",
    "    GlobalDartsBenchmarkModel(\"Temporal Convolutional Network\", model=TCNModel(input_chunk_length=24, output_chunk_length=10), mode=BenchmarkMode.FULL_SHOT, training_epochs=5)\n",
    "]"
   ]
  },
  {
   "cell_type": "markdown",
   "id": "fd484f03-399d-4e4e-9b7c-2462e6accbb9",
   "metadata": {},
   "source": [
    "### Preparing metrics\n",
    "Metrics must be given to the `BenchmarkMetric` constructor. If the function can't be invoked as is in `BenchmarkMetric`'s implementation, a child class can be written and submitted."
   ]
  },
  {
   "cell_type": "code",
   "execution_count": 4,
   "id": "3bd6e05b-d86a-484a-bd28-7559b640c20f",
   "metadata": {
    "ExecuteTime": {
     "end_time": "2024-06-24T07:01:59.701881200Z",
     "start_time": "2024-06-24T07:01:59.693974700Z"
    }
   },
   "outputs": [],
   "source": [
    "import darts.metrics\n",
    "\n",
    "metrics = [\n",
    "   BenchmarkMetric(name=\"COV\", metric_function=darts.metrics.metrics.coefficient_of_variation),\n",
    "   BenchmarkMetric(name=\"MAE\", metric_function=darts.metrics.metrics.mae),\n",
    "   BenchmarkMetric(name=\"sMAPE\", metric_function=darts.metrics.metrics.smape),\n",
    "   BenchmarkMetric(name=\"MASE\", metric_function=darts.metrics.metrics.mase)\n",
    "]"
   ]
  },
  {
   "cell_type": "markdown",
   "id": "f1ce9193-2bd1-4859-b5c5-17a48cb4e0fa",
   "metadata": {},
   "source": [
    "## Creating and running a Benchmark"
   ]
  },
  {
   "cell_type": "code",
   "execution_count": 5,
   "id": "b99abb03-c3ee-4e19-87a7-c86e1b418a6b",
   "metadata": {
    "ExecuteTime": {
     "end_time": "2024-06-24T07:02:00.671042500Z",
     "start_time": "2024-06-24T07:02:00.650794500Z"
    }
   },
   "outputs": [],
   "source": [
    "benchmark = Benchmark(datasets=datasets,\n",
    "                      models=models, \n",
    "                      metrics=metrics)"
   ]
  },
  {
   "cell_type": "markdown",
   "id": "e7b7a83a-e878-4fbf-818a-3c70f73bcb05",
   "metadata": {},
   "source": [
    "Datasets, models and metrics can also be added after instanciation. This allows to name datasets."
   ]
  },
  {
   "cell_type": "code",
   "execution_count": 6,
   "id": "005d3bae-1fdb-4edd-91ba-0df918fae5fe",
   "metadata": {
    "ExecuteTime": {
     "end_time": "2024-06-24T07:02:01.526327100Z",
     "start_time": "2024-06-24T07:02:01.515552400Z"
    }
   },
   "outputs": [],
   "source": [
    "benchmark.add_dataset(BenchmarkDataset(Dataset.ETTh1Dataset.load(), input_length=500, gap=0, stride=96, horizon=96, name = \"ETTh1\"))"
   ]
  },
  {
   "cell_type": "markdown",
   "id": "b86ec250-db58-4c10-b4e3-14c2b23bcf70",
   "metadata": {},
   "source": [
    "Once the models and datasets have been added, the `run()` method will train instances of all the models on all the datasets individually and compute metrics. The verbose parameter will print the status and results of the process as it progresses, and the debug parameter will print error messages (warnings are printed anyways)."
   ]
  },
  {
   "cell_type": "code",
   "execution_count": null,
   "id": "e96d8811-efd0-4cb0-bf7c-a03364e05911",
   "metadata": {
    "ExecuteTime": {
     "end_time": "2024-06-24T07:02:58.799456800Z",
     "start_time": "2024-06-24T07:02:02.671394200Z"
    }
   },
   "outputs": [],
   "source": [
    "benchmark.run(verbose=True, debug=True)"
   ]
  },
  {
   "cell_type": "markdown",
   "id": "04a22d7c",
   "metadata": {},
   "source": [
    "## Visualizing results\n",
    "\n",
    "The benchmark automatically stores measures and metrics computed during the run, available through class attributes."
   ]
  },
  {
   "cell_type": "markdown",
   "id": "d4038313-7cf4-480d-8d3c-fd030e100da3",
   "metadata": {},
   "source": [
    "### Measures and metrics\n",
    "To view the results, you can call `get_report()` and print the returned value"
   ]
  },
  {
   "cell_type": "code",
   "execution_count": 19,
   "id": "35b9b732-bd80-426f-a8bb-134f06bf1a3b",
   "metadata": {
    "ExecuteTime": {
     "end_time": "2024-06-24T07:04:00.885598500Z",
     "start_time": "2024-06-24T07:04:00.878375900Z"
    },
    "scrolled": true
   },
   "outputs": [
    {
     "name": "stdout",
     "output_type": "stream",
     "text": [
      "Model ExponentialSmoothingUnivariate:\n",
      "Supported univariate datasets: ✓\n",
      "Supported multivariate datasets: X\n",
      "Dataset Daily temperature:\n",
      "nb features: 1\n",
      "target column: ['Daily minimum temperatures']\n",
      "training set size: 2335\n",
      "validation set size: 585\n",
      "training time: 0\n",
      "test set size: 732\n",
      "testing time: 0.5555312633514404\n",
      "metrics: {'COV': 29.264706049554235, 'MAE': 2.400040758215776, 'sMAPE': 24.148347520589876, 'MASE': 1.259049717016714}\n",
      "Dataset ETTh1:\n",
      "couldn't complete training on ETTh1\n",
      "\n",
      "\n",
      "Model ExponentialSmoothingMultivariate:\n",
      "Supported univariate datasets: ✓\n",
      "Supported multivariate datasets: ✓\n",
      "Dataset Daily temperature:\n",
      "nb features: 1\n",
      "target column: ['Daily minimum temperatures']\n",
      "training set size: 2335\n",
      "validation set size: 585\n",
      "training time: 0\n",
      "test set size: 732\n",
      "testing time: 0.5387301445007324\n",
      "metrics: {'COV': 29.264706049554235, 'MAE': 2.400040758215776, 'sMAPE': 24.148347520589876, 'MASE': 1.259049717016714}\n",
      "Dataset ETTh1:\n",
      "nb features: 7\n",
      "target column: ['HUFL', 'HULL', 'MUFL', 'MULL', 'LUFL', 'LULL', 'OT']\n",
      "training set size: 11147\n",
      "validation set size: 2788\n",
      "training time: 0\n",
      "test set size: 3485\n",
      "testing time: 30.63499927520752\n",
      "metrics: {'COV': 124.74141924436206, 'MAE': 3.018217521048022, 'sMAPE': 60.098702109350356, 'MASE': 2.7583032695689242}\n",
      "\n",
      "\n",
      "Model Temporal Convolutional Network:\n",
      "Supported univariate datasets: ✓\n",
      "Supported multivariate datasets: ✓\n",
      "Dataset Daily temperature:\n",
      "nb features: 1\n",
      "target column: ['Daily minimum temperatures']\n",
      "training set size: 2335\n",
      "validation set size: 585\n",
      "training time: 7.1029579639434814\n",
      "test set size: 732\n",
      "testing time: 1.9020538330078125\n",
      "metrics: {'COV': 27.426134138893044, 'MAE': 2.3070876834375156, 'sMAPE': 23.384630950870676, 'MASE': 1.1896365209888038}\n",
      "Dataset ETTh1:\n",
      "nb features: 7\n",
      "target column: ['HUFL', 'HULL', 'MUFL', 'MULL', 'LUFL', 'LULL', 'OT']\n",
      "training set size: 11147\n",
      "validation set size: 2788\n",
      "training time: 34.660467863082886\n",
      "test set size: 3485\n",
      "testing time: 11.778612852096558\n",
      "metrics: {'COV': 135.06732685865998, 'MAE': 2.959527545350041, 'sMAPE': 74.96327944852848, 'MASE': 3.811851652408341}\n",
      "\n"
     ]
    }
   ],
   "source": [
    "print(benchmark.get_report())"
   ]
  },
  {
   "cell_type": "markdown",
   "id": "a0852085-874e-4583-9f91-1efcb486fbcb",
   "metadata": {},
   "source": [
    "You can also get results as dataframes by calling `get_report_df()`. The results are then returned as a dataframe with model names as columns, dataset names as main rows, and measure as sub rows."
   ]
  },
  {
   "cell_type": "code",
   "execution_count": 21,
   "id": "687a0b79-ff02-4bde-aff7-6d6ccd5e7d40",
   "metadata": {
    "ExecuteTime": {
     "end_time": "2024-06-24T07:04:03.237516900Z",
     "start_time": "2024-06-24T07:04:03.207950400Z"
    }
   },
   "outputs": [
    {
     "data": {
      "text/html": [
       "<div>\n",
       "<style scoped>\n",
       "    .dataframe tbody tr th:only-of-type {\n",
       "        vertical-align: middle;\n",
       "    }\n",
       "\n",
       "    .dataframe tbody tr th {\n",
       "        vertical-align: top;\n",
       "    }\n",
       "\n",
       "    .dataframe thead th {\n",
       "        text-align: right;\n",
       "    }\n",
       "</style>\n",
       "<table border=\"1\" class=\"dataframe\">\n",
       "  <thead>\n",
       "    <tr style=\"text-align: right;\">\n",
       "      <th></th>\n",
       "      <th>ExponentialSmoothingUnivariate</th>\n",
       "      <th>ExponentialSmoothingMultivariate</th>\n",
       "      <th>Temporal Convolutional Network</th>\n",
       "    </tr>\n",
       "    <tr>\n",
       "      <th>Statistic</th>\n",
       "      <th></th>\n",
       "      <th></th>\n",
       "      <th></th>\n",
       "    </tr>\n",
       "  </thead>\n",
       "  <tbody>\n",
       "    <tr>\n",
       "      <th>supports univariate</th>\n",
       "      <td>✓</td>\n",
       "      <td>✓</td>\n",
       "      <td>✓</td>\n",
       "    </tr>\n",
       "    <tr>\n",
       "      <th>supports multivariate</th>\n",
       "      <td>X</td>\n",
       "      <td>✓</td>\n",
       "      <td>✓</td>\n",
       "    </tr>\n",
       "  </tbody>\n",
       "</table>\n",
       "</div>"
      ],
      "text/plain": [
       "                      ExponentialSmoothingUnivariate  \\\n",
       "Statistic                                              \n",
       "supports univariate                                ✓   \n",
       "supports multivariate                              X   \n",
       "\n",
       "                      ExponentialSmoothingMultivariate  \\\n",
       "Statistic                                                \n",
       "supports univariate                                  ✓   \n",
       "supports multivariate                                ✓   \n",
       "\n",
       "                      Temporal Convolutional Network  \n",
       "Statistic                                             \n",
       "supports univariate                                ✓  \n",
       "supports multivariate                              ✓  "
      ]
     },
     "execution_count": 21,
     "metadata": {},
     "output_type": "execute_result"
    }
   ],
   "source": [
    "df_1, df_2 = benchmark.get_report_df()\n",
    "df_1"
   ]
  },
  {
   "cell_type": "code",
   "execution_count": 22,
   "id": "a113a1a8-6988-4440-9afc-c4e9b5e6f898",
   "metadata": {},
   "outputs": [
    {
     "data": {
      "text/html": [
       "<div>\n",
       "<style scoped>\n",
       "    .dataframe tbody tr th:only-of-type {\n",
       "        vertical-align: middle;\n",
       "    }\n",
       "\n",
       "    .dataframe tbody tr th {\n",
       "        vertical-align: top;\n",
       "    }\n",
       "\n",
       "    .dataframe thead th {\n",
       "        text-align: right;\n",
       "    }\n",
       "</style>\n",
       "<table border=\"1\" class=\"dataframe\">\n",
       "  <thead>\n",
       "    <tr style=\"text-align: right;\">\n",
       "      <th></th>\n",
       "      <th></th>\n",
       "      <th>ExponentialSmoothingUnivariate</th>\n",
       "      <th>ExponentialSmoothingMultivariate</th>\n",
       "      <th>Temporal Convolutional Network</th>\n",
       "    </tr>\n",
       "    <tr>\n",
       "      <th>Dataset</th>\n",
       "      <th>Metric</th>\n",
       "      <th></th>\n",
       "      <th></th>\n",
       "      <th></th>\n",
       "    </tr>\n",
       "  </thead>\n",
       "  <tbody>\n",
       "    <tr>\n",
       "      <th rowspan=\"6\" valign=\"top\">Daily temperature</th>\n",
       "      <th>training time</th>\n",
       "      <td>0.000000</td>\n",
       "      <td>0.000000</td>\n",
       "      <td>7.102958</td>\n",
       "    </tr>\n",
       "    <tr>\n",
       "      <th>testing time</th>\n",
       "      <td>0.555531</td>\n",
       "      <td>0.538730</td>\n",
       "      <td>1.902054</td>\n",
       "    </tr>\n",
       "    <tr>\n",
       "      <th>COV</th>\n",
       "      <td>29.264706</td>\n",
       "      <td>29.264706</td>\n",
       "      <td>27.426134</td>\n",
       "    </tr>\n",
       "    <tr>\n",
       "      <th>MAE</th>\n",
       "      <td>2.400041</td>\n",
       "      <td>2.400041</td>\n",
       "      <td>2.307088</td>\n",
       "    </tr>\n",
       "    <tr>\n",
       "      <th>sMAPE</th>\n",
       "      <td>24.148348</td>\n",
       "      <td>24.148348</td>\n",
       "      <td>23.384631</td>\n",
       "    </tr>\n",
       "    <tr>\n",
       "      <th>MASE</th>\n",
       "      <td>1.259050</td>\n",
       "      <td>1.259050</td>\n",
       "      <td>1.189637</td>\n",
       "    </tr>\n",
       "    <tr>\n",
       "      <th rowspan=\"6\" valign=\"top\">ETTh1</th>\n",
       "      <th>training time</th>\n",
       "      <td>NaN</td>\n",
       "      <td>0.000000</td>\n",
       "      <td>34.660468</td>\n",
       "    </tr>\n",
       "    <tr>\n",
       "      <th>testing time</th>\n",
       "      <td>NaN</td>\n",
       "      <td>30.634999</td>\n",
       "      <td>11.778613</td>\n",
       "    </tr>\n",
       "    <tr>\n",
       "      <th>COV</th>\n",
       "      <td>NaN</td>\n",
       "      <td>124.741419</td>\n",
       "      <td>135.067327</td>\n",
       "    </tr>\n",
       "    <tr>\n",
       "      <th>MAE</th>\n",
       "      <td>NaN</td>\n",
       "      <td>3.018218</td>\n",
       "      <td>2.959528</td>\n",
       "    </tr>\n",
       "    <tr>\n",
       "      <th>sMAPE</th>\n",
       "      <td>NaN</td>\n",
       "      <td>60.098702</td>\n",
       "      <td>74.963279</td>\n",
       "    </tr>\n",
       "    <tr>\n",
       "      <th>MASE</th>\n",
       "      <td>NaN</td>\n",
       "      <td>2.758303</td>\n",
       "      <td>3.811852</td>\n",
       "    </tr>\n",
       "  </tbody>\n",
       "</table>\n",
       "</div>"
      ],
      "text/plain": [
       "                                 ExponentialSmoothingUnivariate  \\\n",
       "Dataset           Metric                                          \n",
       "Daily temperature training time                        0.000000   \n",
       "                  testing time                         0.555531   \n",
       "                  COV                                 29.264706   \n",
       "                  MAE                                  2.400041   \n",
       "                  sMAPE                               24.148348   \n",
       "                  MASE                                 1.259050   \n",
       "ETTh1             training time                             NaN   \n",
       "                  testing time                              NaN   \n",
       "                  COV                                       NaN   \n",
       "                  MAE                                       NaN   \n",
       "                  sMAPE                                     NaN   \n",
       "                  MASE                                      NaN   \n",
       "\n",
       "                                 ExponentialSmoothingMultivariate  \\\n",
       "Dataset           Metric                                            \n",
       "Daily temperature training time                          0.000000   \n",
       "                  testing time                           0.538730   \n",
       "                  COV                                   29.264706   \n",
       "                  MAE                                    2.400041   \n",
       "                  sMAPE                                 24.148348   \n",
       "                  MASE                                   1.259050   \n",
       "ETTh1             training time                          0.000000   \n",
       "                  testing time                          30.634999   \n",
       "                  COV                                  124.741419   \n",
       "                  MAE                                    3.018218   \n",
       "                  sMAPE                                 60.098702   \n",
       "                  MASE                                   2.758303   \n",
       "\n",
       "                                 Temporal Convolutional Network  \n",
       "Dataset           Metric                                         \n",
       "Daily temperature training time                        7.102958  \n",
       "                  testing time                         1.902054  \n",
       "                  COV                                 27.426134  \n",
       "                  MAE                                  2.307088  \n",
       "                  sMAPE                               23.384631  \n",
       "                  MASE                                 1.189637  \n",
       "ETTh1             training time                       34.660468  \n",
       "                  testing time                        11.778613  \n",
       "                  COV                                135.067327  \n",
       "                  MAE                                  2.959528  \n",
       "                  sMAPE                               74.963279  \n",
       "                  MASE                                 3.811852  "
      ]
     },
     "execution_count": 22,
     "metadata": {},
     "output_type": "execute_result"
    }
   ],
   "source": [
    "df_2"
   ]
  },
  {
   "cell_type": "markdown",
   "id": "35d12a40",
   "metadata": {},
   "source": [
    "### Plotting\n",
    "\n",
    "By default (argument `nb_predictions` of `benchmark.run()` method), the benchmark will generate a prediction for one random input sample of each dataset with each model. The predictions, along input and target series, are stored in a dictionnary and can be retrieved by calling `benchmark.get_predictions()`. The predictions can be plotted using the Ontime plotting module."
   ]
  },
  {
   "cell_type": "code",
   "execution_count": 11,
   "id": "622c8342",
   "metadata": {},
   "outputs": [],
   "source": [
    "predictions = benchmark.get_predictions()"
   ]
  },
  {
   "cell_type": "code",
   "execution_count": 12,
   "id": "6c87c037",
   "metadata": {},
   "outputs": [],
   "source": [
    "# currently, Ontime plotting module needs the time index to be named 'time'\n",
    "def rename_index(ts, name='time'):\n",
    "    df = ts.pd_dataframe()\n",
    "    df.rename_axis(name, inplace=True)\n",
    "    return TimeSeries.from_dataframe(df)"
   ]
  },
  {
   "cell_type": "code",
   "execution_count": 13,
   "id": "9e46a81e",
   "metadata": {},
   "outputs": [],
   "source": [
    "input = rename_index(predictions['inputs']['Daily temperature'][0]).rename({'Daily minimum temperatures': 'input'})\n",
    "target = rename_index(predictions['targets']['Daily temperature'][0]).rename({'Daily minimum temperatures': 'target'})\n",
    "prediction = rename_index(predictions['predictions']['Temporal Convolutional Network']['Daily temperature'][0]).rename({'Daily minimum temperatures': 'prediction'})"
   ]
  },
  {
   "cell_type": "code",
   "execution_count": 14,
   "id": "da7935d5",
   "metadata": {},
   "outputs": [
    {
     "data": {
      "text/html": [
       "\n",
       "<style>\n",
       "  #altair-viz-86f6f2daefa94457aff5a8ac96949a9f.vega-embed {\n",
       "    width: 100%;\n",
       "    display: flex;\n",
       "  }\n",
       "\n",
       "  #altair-viz-86f6f2daefa94457aff5a8ac96949a9f.vega-embed details,\n",
       "  #altair-viz-86f6f2daefa94457aff5a8ac96949a9f.vega-embed details summary {\n",
       "    position: relative;\n",
       "  }\n",
       "</style>\n",
       "<div id=\"altair-viz-86f6f2daefa94457aff5a8ac96949a9f\"></div>\n",
       "<script type=\"text/javascript\">\n",
       "  var VEGA_DEBUG = (typeof VEGA_DEBUG == \"undefined\") ? {} : VEGA_DEBUG;\n",
       "  (function(spec, embedOpt){\n",
       "    let outputDiv = document.currentScript.previousElementSibling;\n",
       "    if (outputDiv.id !== \"altair-viz-86f6f2daefa94457aff5a8ac96949a9f\") {\n",
       "      outputDiv = document.getElementById(\"altair-viz-86f6f2daefa94457aff5a8ac96949a9f\");\n",
       "    }\n",
       "    const paths = {\n",
       "      \"vega\": \"https://cdn.jsdelivr.net/npm/vega@5?noext\",\n",
       "      \"vega-lib\": \"https://cdn.jsdelivr.net/npm/vega-lib?noext\",\n",
       "      \"vega-lite\": \"https://cdn.jsdelivr.net/npm/vega-lite@5.20.1?noext\",\n",
       "      \"vega-embed\": \"https://cdn.jsdelivr.net/npm/vega-embed@6?noext\",\n",
       "    };\n",
       "\n",
       "    function maybeLoadScript(lib, version) {\n",
       "      var key = `${lib.replace(\"-\", \"\")}_version`;\n",
       "      return (VEGA_DEBUG[key] == version) ?\n",
       "        Promise.resolve(paths[lib]) :\n",
       "        new Promise(function(resolve, reject) {\n",
       "          var s = document.createElement('script');\n",
       "          document.getElementsByTagName(\"head\")[0].appendChild(s);\n",
       "          s.async = true;\n",
       "          s.onload = () => {\n",
       "            VEGA_DEBUG[key] = version;\n",
       "            return resolve(paths[lib]);\n",
       "          };\n",
       "          s.onerror = () => reject(`Error loading script: ${paths[lib]}`);\n",
       "          s.src = paths[lib];\n",
       "        });\n",
       "    }\n",
       "\n",
       "    function showError(err) {\n",
       "      outputDiv.innerHTML = `<div class=\"error\" style=\"color:red;\">${err}</div>`;\n",
       "      throw err;\n",
       "    }\n",
       "\n",
       "    function displayChart(vegaEmbed) {\n",
       "      vegaEmbed(outputDiv, spec, embedOpt)\n",
       "        .catch(err => showError(`Javascript Error: ${err.message}<br>This usually means there's a typo in your chart specification. See the javascript console for the full traceback.`));\n",
       "    }\n",
       "\n",
       "    if(typeof define === \"function\" && define.amd) {\n",
       "      requirejs.config({paths});\n",
       "      require([\"vega-embed\"], displayChart, err => showError(`Error loading script: ${err.message}`));\n",
       "    } else {\n",
       "      maybeLoadScript(\"vega\", \"5\")\n",
       "        .then(() => maybeLoadScript(\"vega-lite\", \"5.20.1\"))\n",
       "        .then(() => maybeLoadScript(\"vega-embed\", \"6\"))\n",
       "        .catch(showError)\n",
       "        .then(() => displayChart(vegaEmbed));\n",
       "    }\n",
       "  })({\"$schema\": \"https://vega.github.io/schema/vega/v5.json\", \"data\": [{\"name\": \"source_0\", \"values\": [{\"time\": \"1990-07-29T00:00:00.000\", \"variable\": \"input\", \"value\": 7.9}, {\"time\": \"1990-07-30T00:00:00.000\", \"variable\": \"input\", \"value\": 6.0}, {\"time\": \"1990-07-31T00:00:00.000\", \"variable\": \"input\", \"value\": 5.0}, {\"time\": \"1990-08-01T00:00:00.000\", \"variable\": \"input\", \"value\": 6.8}, {\"time\": \"1990-08-02T00:00:00.000\", \"variable\": \"input\", \"value\": 9.8}, {\"time\": \"1990-08-03T00:00:00.000\", \"variable\": \"input\", \"value\": 5.7}, {\"time\": \"1990-08-04T00:00:00.000\", \"variable\": \"input\", \"value\": 8.6}, {\"time\": \"1990-08-05T00:00:00.000\", \"variable\": \"input\", \"value\": 10.6}, {\"time\": \"1990-08-06T00:00:00.000\", \"variable\": \"input\", \"value\": 7.8}, {\"time\": \"1990-08-07T00:00:00.000\", \"variable\": \"input\", \"value\": 7.7}, {\"time\": \"1990-08-08T00:00:00.000\", \"variable\": \"input\", \"value\": 8.6}, {\"time\": \"1990-08-09T00:00:00.000\", \"variable\": \"input\", \"value\": 6.5}, {\"time\": \"1990-08-10T00:00:00.000\", \"variable\": \"input\", \"value\": 6.9}, {\"time\": \"1990-08-11T00:00:00.000\", \"variable\": \"input\", \"value\": 6.4}, {\"time\": \"1990-08-12T00:00:00.000\", \"variable\": \"input\", \"value\": 8.5}, {\"time\": \"1990-08-13T00:00:00.000\", \"variable\": \"input\", \"value\": 7.8}, {\"time\": \"1990-08-14T00:00:00.000\", \"variable\": \"input\", \"value\": 9.3}, {\"time\": \"1990-08-15T00:00:00.000\", \"variable\": \"input\", \"value\": 8.4}, {\"time\": \"1990-08-16T00:00:00.000\", \"variable\": \"input\", \"value\": 7.8}, {\"time\": \"1990-08-17T00:00:00.000\", \"variable\": \"input\", \"value\": 7.4}, {\"time\": \"1990-08-18T00:00:00.000\", \"variable\": \"input\", \"value\": 7.7}, {\"time\": \"1990-08-19T00:00:00.000\", \"variable\": \"input\", \"value\": 8.9}, {\"time\": \"1990-08-20T00:00:00.000\", \"variable\": \"input\", \"value\": 9.7}, {\"time\": \"1990-08-21T00:00:00.000\", \"variable\": \"input\", \"value\": 9.9}, {\"time\": \"1990-08-22T00:00:00.000\", \"variable\": \"input\", \"value\": 6.1}, {\"time\": \"1990-08-23T00:00:00.000\", \"variable\": \"input\", \"value\": 6.6}, {\"time\": \"1990-08-24T00:00:00.000\", \"variable\": \"input\", \"value\": 7.6}, {\"time\": \"1990-08-25T00:00:00.000\", \"variable\": \"input\", \"value\": 7.4}, {\"time\": \"1990-08-26T00:00:00.000\", \"variable\": \"input\", \"value\": 8.0}, {\"time\": \"1990-08-27T00:00:00.000\", \"variable\": \"input\", \"value\": 2.1}, {\"time\": \"1990-08-28T00:00:00.000\", \"variable\": \"input\", \"value\": 5.9}, {\"time\": \"1990-08-29T00:00:00.000\", \"variable\": \"input\", \"value\": 11.6}, {\"time\": \"1990-08-30T00:00:00.000\", \"variable\": \"input\", \"value\": 8.6}, {\"time\": \"1990-08-31T00:00:00.000\", \"variable\": \"input\", \"value\": 7.9}, {\"time\": \"1990-09-01T00:00:00.000\", \"variable\": \"input\", \"value\": 6.0}, {\"time\": \"1990-09-02T00:00:00.000\", \"variable\": \"input\", \"value\": 9.5}, {\"time\": \"1990-09-03T00:00:00.000\", \"variable\": \"input\", \"value\": 8.6}, {\"time\": \"1990-09-04T00:00:00.000\", \"variable\": \"input\", \"value\": 7.6}, {\"time\": \"1990-09-05T00:00:00.000\", \"variable\": \"input\", \"value\": 10.4}, {\"time\": \"1990-09-06T00:00:00.000\", \"variable\": \"input\", \"value\": 10.3}, {\"time\": \"1990-09-07T00:00:00.000\", \"variable\": \"input\", \"value\": 7.5}, {\"time\": \"1990-09-08T00:00:00.000\", \"variable\": \"input\", \"value\": 3.0}, {\"time\": \"1990-09-09T00:00:00.000\", \"variable\": \"input\", \"value\": 5.3}, {\"time\": \"1990-09-10T00:00:00.000\", \"variable\": \"input\", \"value\": 10.5}, {\"time\": \"1990-09-11T00:00:00.000\", \"variable\": \"input\", \"value\": 14.6}, {\"time\": \"1990-09-12T00:00:00.000\", \"variable\": \"input\", \"value\": 12.6}, {\"time\": \"1990-09-13T00:00:00.000\", \"variable\": \"input\", \"value\": 9.8}, {\"time\": \"1990-09-14T00:00:00.000\", \"variable\": \"input\", \"value\": 7.2}, {\"time\": \"1990-09-15T00:00:00.000\", \"variable\": \"input\", \"value\": 10.1}, {\"time\": \"1990-09-16T00:00:00.000\", \"variable\": \"input\", \"value\": 10.4}, {\"time\": \"1990-09-17T00:00:00.000\", \"variable\": \"input\", \"value\": 3.7}, {\"time\": \"1990-09-18T00:00:00.000\", \"variable\": \"input\", \"value\": 7.3}, {\"time\": \"1990-09-19T00:00:00.000\", \"variable\": \"input\", \"value\": 11.6}, {\"time\": \"1990-09-20T00:00:00.000\", \"variable\": \"input\", \"value\": 16.3}, {\"time\": \"1990-09-21T00:00:00.000\", \"variable\": \"input\", \"value\": 9.6}, {\"time\": \"1990-09-22T00:00:00.000\", \"variable\": \"input\", \"value\": 6.8}, {\"time\": \"1990-09-23T00:00:00.000\", \"variable\": \"input\", \"value\": 5.2}, {\"time\": \"1990-09-24T00:00:00.000\", \"variable\": \"input\", \"value\": 10.6}, {\"time\": \"1990-09-25T00:00:00.000\", \"variable\": \"input\", \"value\": 16.3}, {\"time\": \"1990-09-26T00:00:00.000\", \"variable\": \"input\", \"value\": 9.8}, {\"time\": \"1990-09-27T00:00:00.000\", \"variable\": \"input\", \"value\": 4.6}, {\"time\": \"1990-09-28T00:00:00.000\", \"variable\": \"input\", \"value\": 11.1}, {\"time\": \"1990-09-29T00:00:00.000\", \"variable\": \"input\", \"value\": 8.7}, {\"time\": \"1990-09-30T00:00:00.000\", \"variable\": \"input\", \"value\": 10.0}, {\"time\": \"1990-10-01T00:00:00.000\", \"variable\": \"input\", \"value\": 11.3}, {\"time\": \"1990-10-02T00:00:00.000\", \"variable\": \"input\", \"value\": 10.5}, {\"time\": \"1990-10-03T00:00:00.000\", \"variable\": \"input\", \"value\": 9.9}, {\"time\": \"1990-10-04T00:00:00.000\", \"variable\": \"input\", \"value\": 11.0}, {\"time\": \"1990-10-05T00:00:00.000\", \"variable\": \"input\", \"value\": 14.0}, {\"time\": \"1990-10-06T00:00:00.000\", \"variable\": \"input\", \"value\": 9.2}, {\"time\": \"1990-10-07T00:00:00.000\", \"variable\": \"input\", \"value\": 9.8}, {\"time\": \"1990-10-08T00:00:00.000\", \"variable\": \"input\", \"value\": 6.0}, {\"time\": \"1990-10-09T00:00:00.000\", \"variable\": \"input\", \"value\": 9.8}, {\"time\": \"1990-10-10T00:00:00.000\", \"variable\": \"input\", \"value\": 9.2}, {\"time\": \"1990-10-11T00:00:00.000\", \"variable\": \"input\", \"value\": 11.8}, {\"time\": \"1990-10-12T00:00:00.000\", \"variable\": \"input\", \"value\": 10.3}, {\"time\": \"1990-10-13T00:00:00.000\", \"variable\": \"input\", \"value\": 7.5}, {\"time\": \"1990-10-14T00:00:00.000\", \"variable\": \"input\", \"value\": 7.7}, {\"time\": \"1990-10-15T00:00:00.000\", \"variable\": \"input\", \"value\": 15.8}, {\"time\": \"1990-10-16T00:00:00.000\", \"variable\": \"input\", \"value\": 14.6}, {\"time\": \"1990-10-17T00:00:00.000\", \"variable\": \"input\", \"value\": 10.5}, {\"time\": \"1990-10-18T00:00:00.000\", \"variable\": \"input\", \"value\": 11.3}, {\"time\": \"1990-10-19T00:00:00.000\", \"variable\": \"input\", \"value\": 10.9}, {\"time\": \"1990-10-20T00:00:00.000\", \"variable\": \"input\", \"value\": 6.4}, {\"time\": \"1990-10-21T00:00:00.000\", \"variable\": \"input\", \"value\": 10.9}, {\"time\": \"1990-10-22T00:00:00.000\", \"variable\": \"input\", \"value\": 9.0}, {\"time\": \"1990-10-23T00:00:00.000\", \"variable\": \"input\", \"value\": 10.9}, {\"time\": \"1990-10-24T00:00:00.000\", \"variable\": \"input\", \"value\": 12.4}, {\"time\": \"1990-10-25T00:00:00.000\", \"variable\": \"input\", \"value\": 11.6}, {\"time\": \"1990-10-26T00:00:00.000\", \"variable\": \"input\", \"value\": 13.3}, {\"time\": \"1990-10-27T00:00:00.000\", \"variable\": \"input\", \"value\": 14.4}, {\"time\": \"1990-10-28T00:00:00.000\", \"variable\": \"input\", \"value\": 18.4}, {\"time\": \"1990-10-29T00:00:00.000\", \"variable\": \"input\", \"value\": 13.6}, {\"time\": \"1990-10-30T00:00:00.000\", \"variable\": \"input\", \"value\": 14.9}, {\"time\": \"1990-10-31T00:00:00.000\", \"variable\": \"input\", \"value\": 14.8}, {\"time\": \"1990-11-01T00:00:00.000\", \"variable\": \"input\", \"value\": 15.4}], \"transform\": [{\"type\": \"formula\", \"expr\": \"toDate(datum['time'])\", \"as\": \"time\"}]}, {\"name\": \"source_1\", \"values\": [{\"time\": \"1990-11-02T00:00:00.000\", \"variable\": \"target\", \"value\": 11.8}, {\"time\": \"1990-11-03T00:00:00.000\", \"variable\": \"target\", \"value\": 13.0}, {\"time\": \"1990-11-04T00:00:00.000\", \"variable\": \"target\", \"value\": 11.1}, {\"time\": \"1990-11-05T00:00:00.000\", \"variable\": \"target\", \"value\": 12.5}, {\"time\": \"1990-11-06T00:00:00.000\", \"variable\": \"target\", \"value\": 18.3}, {\"time\": \"1990-11-07T00:00:00.000\", \"variable\": \"target\", \"value\": 19.2}, {\"time\": \"1990-11-08T00:00:00.000\", \"variable\": \"target\", \"value\": 15.4}, {\"time\": \"1990-11-09T00:00:00.000\", \"variable\": \"target\", \"value\": 13.1}, {\"time\": \"1990-11-10T00:00:00.000\", \"variable\": \"target\", \"value\": 11.5}, {\"time\": \"1990-11-11T00:00:00.000\", \"variable\": \"target\", \"value\": 8.6}, {\"time\": \"1990-11-12T00:00:00.000\", \"variable\": \"target\", \"value\": 12.6}, {\"time\": \"1990-11-13T00:00:00.000\", \"variable\": \"target\", \"value\": 13.8}, {\"time\": \"1990-11-14T00:00:00.000\", \"variable\": \"target\", \"value\": 14.6}, {\"time\": \"1990-11-15T00:00:00.000\", \"variable\": \"target\", \"value\": 13.2}, {\"time\": \"1990-11-16T00:00:00.000\", \"variable\": \"target\", \"value\": 12.3}, {\"time\": \"1990-11-17T00:00:00.000\", \"variable\": \"target\", \"value\": 8.8}, {\"time\": \"1990-11-18T00:00:00.000\", \"variable\": \"target\", \"value\": 10.7}, {\"time\": \"1990-11-19T00:00:00.000\", \"variable\": \"target\", \"value\": 9.9}, {\"time\": \"1990-11-20T00:00:00.000\", \"variable\": \"target\", \"value\": 8.3}, {\"time\": \"1990-11-21T00:00:00.000\", \"variable\": \"target\", \"value\": 15.0}, {\"time\": \"1990-11-22T00:00:00.000\", \"variable\": \"target\", \"value\": 12.2}, {\"time\": \"1990-11-23T00:00:00.000\", \"variable\": \"target\", \"value\": 10.5}, {\"time\": \"1990-11-24T00:00:00.000\", \"variable\": \"target\", \"value\": 11.1}, {\"time\": \"1990-11-25T00:00:00.000\", \"variable\": \"target\", \"value\": 13.0}], \"transform\": [{\"type\": \"formula\", \"expr\": \"toDate(datum['time'])\", \"as\": \"time\"}]}, {\"name\": \"source_2\", \"values\": [{\"time\": \"1990-11-02T00:00:00.000\", \"variable\": \"prediction\", \"value\": 10.02104193467936}, {\"time\": \"1990-11-03T00:00:00.000\", \"variable\": \"prediction\", \"value\": 9.434980619462138}, {\"time\": \"1990-11-04T00:00:00.000\", \"variable\": \"prediction\", \"value\": 9.775101723632}, {\"time\": \"1990-11-05T00:00:00.000\", \"variable\": \"prediction\", \"value\": 10.063345446877024}, {\"time\": \"1990-11-06T00:00:00.000\", \"variable\": \"prediction\", \"value\": 11.067256110442203}, {\"time\": \"1990-11-07T00:00:00.000\", \"variable\": \"prediction\", \"value\": 12.440945189774624}, {\"time\": \"1990-11-08T00:00:00.000\", \"variable\": \"prediction\", \"value\": 10.765597013482246}, {\"time\": \"1990-11-09T00:00:00.000\", \"variable\": \"prediction\", \"value\": 11.474237799477656}, {\"time\": \"1990-11-10T00:00:00.000\", \"variable\": \"prediction\", \"value\": 11.923072825540324}, {\"time\": \"1990-11-11T00:00:00.000\", \"variable\": \"prediction\", \"value\": 13.068049048097526}, {\"time\": \"1990-11-12T00:00:00.000\", \"variable\": \"prediction\", \"value\": 9.880062038320304}, {\"time\": \"1990-11-13T00:00:00.000\", \"variable\": \"prediction\", \"value\": 10.066214634844089}, {\"time\": \"1990-11-14T00:00:00.000\", \"variable\": \"prediction\", \"value\": 10.410570144593269}, {\"time\": \"1990-11-15T00:00:00.000\", \"variable\": \"prediction\", \"value\": 11.019874889208964}, {\"time\": \"1990-11-16T00:00:00.000\", \"variable\": \"prediction\", \"value\": 9.677683523198027}, {\"time\": \"1990-11-17T00:00:00.000\", \"variable\": \"prediction\", \"value\": 10.222158814145988}, {\"time\": \"1990-11-18T00:00:00.000\", \"variable\": \"prediction\", \"value\": 9.778320328381618}, {\"time\": \"1990-11-19T00:00:00.000\", \"variable\": \"prediction\", \"value\": 10.26778661927028}, {\"time\": \"1990-11-20T00:00:00.000\", \"variable\": \"prediction\", \"value\": 10.041920892771635}, {\"time\": \"1990-11-21T00:00:00.000\", \"variable\": \"prediction\", \"value\": 10.767211905925928}, {\"time\": \"1990-11-22T00:00:00.000\", \"variable\": \"prediction\", \"value\": 9.23728818360051}, {\"time\": \"1990-11-23T00:00:00.000\", \"variable\": \"prediction\", \"value\": 9.54129217450305}, {\"time\": \"1990-11-24T00:00:00.000\", \"variable\": \"prediction\", \"value\": 9.70058677052316}, {\"time\": \"1990-11-25T00:00:00.000\", \"variable\": \"prediction\", \"value\": 10.311265763055944}], \"transform\": [{\"type\": \"formula\", \"expr\": \"toDate(datum['time'])\", \"as\": \"time\"}]}, {\"name\": \"source_0_color_domain_variable_0\", \"values\": [{\"variable\": \"input\"}]}, {\"name\": \"source_1_color_domain_variable_1\", \"values\": [{\"variable\": \"target\"}]}, {\"name\": \"source_2_color_domain_variable_2\", \"values\": [{\"variable\": \"prediction\"}]}], \"marks\": [{\"type\": \"group\", \"name\": \"layer_0_pathgroup\", \"from\": {\"facet\": {\"data\": \"source_0\", \"name\": \"faceted_path_layer_0_main\", \"groupby\": [\"variable\"]}}, \"encode\": {\"update\": {\"width\": {\"field\": {\"signal\": null, \"datum\": null, \"group\": \"width\", \"parent\": null}}, \"height\": {\"field\": {\"signal\": null, \"datum\": null, \"group\": \"height\", \"parent\": null}}}}, \"marks\": [{\"type\": \"line\", \"name\": \"layer_0_marks\", \"from\": {\"data\": \"faceted_path_layer_0_main\"}, \"sort\": {\"field\": \"x\"}, \"encode\": {\"update\": {\"x\": {\"field\": \"time\", \"scale\": \"x\"}, \"y\": {\"field\": \"value\", \"scale\": \"y\"}, \"defined\": {\"signal\": \"isValid(datum[\\\"time\\\"]) && isFinite(+datum[\\\"time\\\"]) && isValid(datum[\\\"value\\\"]) && isFinite(+datum[\\\"value\\\"])\"}, \"stroke\": {\"field\": \"variable\", \"scale\": \"color\"}}}, \"style\": [\"line\"]}]}, {\"type\": \"group\", \"name\": \"layer_1_pathgroup\", \"from\": {\"facet\": {\"data\": \"source_1\", \"name\": \"faceted_path_layer_1_main\", \"groupby\": [\"variable\"]}}, \"encode\": {\"update\": {\"width\": {\"field\": {\"signal\": null, \"datum\": null, \"group\": \"width\", \"parent\": null}}, \"height\": {\"field\": {\"signal\": null, \"datum\": null, \"group\": \"height\", \"parent\": null}}}}, \"marks\": [{\"type\": \"line\", \"name\": \"layer_1_marks\", \"from\": {\"data\": \"faceted_path_layer_1_main\"}, \"sort\": {\"field\": \"x\"}, \"encode\": {\"update\": {\"defined\": {\"signal\": \"isValid(datum[\\\"time\\\"]) && isFinite(+datum[\\\"time\\\"]) && isValid(datum[\\\"value\\\"]) && isFinite(+datum[\\\"value\\\"])\"}, \"y\": {\"field\": \"value\", \"scale\": \"y\"}, \"x\": {\"field\": \"time\", \"scale\": \"x\"}, \"stroke\": {\"field\": \"variable\", \"scale\": \"color\"}}}, \"style\": [\"line\"]}]}, {\"type\": \"group\", \"name\": \"layer_2_pathgroup\", \"from\": {\"facet\": {\"data\": \"source_2\", \"name\": \"faceted_path_layer_2_main\", \"groupby\": [\"variable\"]}}, \"encode\": {\"update\": {\"width\": {\"field\": {\"signal\": null, \"datum\": null, \"group\": \"width\", \"parent\": null}}, \"height\": {\"field\": {\"signal\": null, \"datum\": null, \"group\": \"height\", \"parent\": null}}}}, \"marks\": [{\"type\": \"line\", \"name\": \"layer_2_marks\", \"from\": {\"data\": \"faceted_path_layer_2_main\"}, \"sort\": {\"field\": \"x\"}, \"encode\": {\"update\": {\"strokeDash\": {\"value\": [5, 2]}, \"opacity\": {\"value\": 0.7}, \"y\": {\"field\": \"value\", \"scale\": \"y\"}, \"stroke\": {\"field\": \"variable\", \"scale\": \"color\"}, \"x\": {\"field\": \"time\", \"scale\": \"x\"}, \"defined\": {\"signal\": \"isValid(datum[\\\"time\\\"]) && isFinite(+datum[\\\"time\\\"]) && isValid(datum[\\\"value\\\"]) && isFinite(+datum[\\\"value\\\"])\"}}}, \"style\": [\"line\"]}]}], \"scales\": [{\"name\": \"x\", \"type\": \"time\", \"domain\": {\"fields\": [{\"data\": \"source_0\", \"field\": \"time\"}, {\"data\": \"source_1\", \"field\": \"time\"}, {\"data\": \"source_2\", \"field\": \"time\"}]}, \"range\": [0, {\"signal\": \"width\"}]}, {\"name\": \"y\", \"type\": \"linear\", \"domain\": {\"fields\": [{\"data\": \"source_0\", \"field\": \"value\"}, {\"data\": \"source_1\", \"field\": \"value\"}, {\"data\": \"source_2\", \"field\": \"value\"}]}, \"range\": [{\"signal\": \"height\"}, 0], \"nice\": true, \"zero\": true}, {\"name\": \"color\", \"type\": \"ordinal\", \"domain\": {\"fields\": [{\"data\": \"source_0_color_domain_variable_0\", \"field\": \"variable\"}, {\"data\": \"source_1_color_domain_variable_1\", \"field\": \"variable\"}, {\"data\": \"source_2_color_domain_variable_2\", \"field\": \"variable\"}], \"sort\": true}, \"range\": \"category\"}], \"axes\": [{\"scale\": \"x\", \"aria\": false, \"maxExtent\": 0, \"tickCount\": {\"signal\": \"ceil(width/40)\"}, \"ticks\": false, \"zindex\": 0, \"gridScale\": \"y\", \"minExtent\": 0, \"domain\": false, \"orient\": \"bottom\", \"labels\": false, \"grid\": true}, {\"scale\": \"y\", \"orient\": \"left\", \"grid\": true, \"tickCount\": {\"signal\": \"ceil(height/40)\"}, \"ticks\": false, \"maxExtent\": 0, \"minExtent\": 0, \"labels\": false, \"zindex\": 0, \"domain\": false, \"gridScale\": \"x\", \"aria\": false}, {\"scale\": \"x\", \"grid\": false, \"zindex\": 0, \"labelFlush\": true, \"tickCount\": {\"signal\": \"ceil(width/40)\"}, \"title\": \"time\", \"orient\": \"bottom\", \"labelOverlap\": true}, {\"scale\": \"y\", \"zindex\": 0, \"title\": \"value\", \"grid\": false, \"tickCount\": {\"signal\": \"ceil(height/40)\"}, \"orient\": \"left\", \"labelOverlap\": true}], \"height\": 200, \"style\": \"cell\", \"legends\": [{\"stroke\": \"color\", \"symbolType\": \"stroke\", \"title\": \"variable\", \"encode\": {\"symbols\": {\"update\": {\"opacity\": {\"value\": 0.7}}}}}], \"background\": \"white\", \"padding\": 5, \"width\": 600}, {\"mode\": \"vega\"});\n",
       "</script>"
      ],
      "text/plain": [
       "alt.LayerChart(...)"
      ]
     },
     "execution_count": 14,
     "metadata": {},
     "output_type": "execute_result"
    }
   ],
   "source": [
    "(on.Plot()\n",
    "    .add(on.marks.line, input)\n",
    "    .add(on.marks.line, target)\n",
    "    .add(on.marks.line, prediction, type='dashed')\n",
    "    .properties(width=600, height=200)\n",
    "    .show()\n",
    ")"
   ]
  },
  {
   "cell_type": "code",
   "execution_count": 15,
   "id": "ffecb8fb",
   "metadata": {},
   "outputs": [],
   "source": [
    "prediction = rename_index(predictions['predictions']['ExponentialSmoothingUnivariate']['Daily temperature'][0]).rename({'Daily minimum temperatures': 'prediction'})"
   ]
  },
  {
   "cell_type": "code",
   "execution_count": 16,
   "id": "e6c1b476",
   "metadata": {},
   "outputs": [
    {
     "data": {
      "text/html": [
       "\n",
       "<style>\n",
       "  #altair-viz-4ea43f0c1ddd41dabe125736161f1471.vega-embed {\n",
       "    width: 100%;\n",
       "    display: flex;\n",
       "  }\n",
       "\n",
       "  #altair-viz-4ea43f0c1ddd41dabe125736161f1471.vega-embed details,\n",
       "  #altair-viz-4ea43f0c1ddd41dabe125736161f1471.vega-embed details summary {\n",
       "    position: relative;\n",
       "  }\n",
       "</style>\n",
       "<div id=\"altair-viz-4ea43f0c1ddd41dabe125736161f1471\"></div>\n",
       "<script type=\"text/javascript\">\n",
       "  var VEGA_DEBUG = (typeof VEGA_DEBUG == \"undefined\") ? {} : VEGA_DEBUG;\n",
       "  (function(spec, embedOpt){\n",
       "    let outputDiv = document.currentScript.previousElementSibling;\n",
       "    if (outputDiv.id !== \"altair-viz-4ea43f0c1ddd41dabe125736161f1471\") {\n",
       "      outputDiv = document.getElementById(\"altair-viz-4ea43f0c1ddd41dabe125736161f1471\");\n",
       "    }\n",
       "    const paths = {\n",
       "      \"vega\": \"https://cdn.jsdelivr.net/npm/vega@5?noext\",\n",
       "      \"vega-lib\": \"https://cdn.jsdelivr.net/npm/vega-lib?noext\",\n",
       "      \"vega-lite\": \"https://cdn.jsdelivr.net/npm/vega-lite@5.20.1?noext\",\n",
       "      \"vega-embed\": \"https://cdn.jsdelivr.net/npm/vega-embed@6?noext\",\n",
       "    };\n",
       "\n",
       "    function maybeLoadScript(lib, version) {\n",
       "      var key = `${lib.replace(\"-\", \"\")}_version`;\n",
       "      return (VEGA_DEBUG[key] == version) ?\n",
       "        Promise.resolve(paths[lib]) :\n",
       "        new Promise(function(resolve, reject) {\n",
       "          var s = document.createElement('script');\n",
       "          document.getElementsByTagName(\"head\")[0].appendChild(s);\n",
       "          s.async = true;\n",
       "          s.onload = () => {\n",
       "            VEGA_DEBUG[key] = version;\n",
       "            return resolve(paths[lib]);\n",
       "          };\n",
       "          s.onerror = () => reject(`Error loading script: ${paths[lib]}`);\n",
       "          s.src = paths[lib];\n",
       "        });\n",
       "    }\n",
       "\n",
       "    function showError(err) {\n",
       "      outputDiv.innerHTML = `<div class=\"error\" style=\"color:red;\">${err}</div>`;\n",
       "      throw err;\n",
       "    }\n",
       "\n",
       "    function displayChart(vegaEmbed) {\n",
       "      vegaEmbed(outputDiv, spec, embedOpt)\n",
       "        .catch(err => showError(`Javascript Error: ${err.message}<br>This usually means there's a typo in your chart specification. See the javascript console for the full traceback.`));\n",
       "    }\n",
       "\n",
       "    if(typeof define === \"function\" && define.amd) {\n",
       "      requirejs.config({paths});\n",
       "      require([\"vega-embed\"], displayChart, err => showError(`Error loading script: ${err.message}`));\n",
       "    } else {\n",
       "      maybeLoadScript(\"vega\", \"5\")\n",
       "        .then(() => maybeLoadScript(\"vega-lite\", \"5.20.1\"))\n",
       "        .then(() => maybeLoadScript(\"vega-embed\", \"6\"))\n",
       "        .catch(showError)\n",
       "        .then(() => displayChart(vegaEmbed));\n",
       "    }\n",
       "  })({\"$schema\": \"https://vega.github.io/schema/vega/v5.json\", \"data\": [{\"name\": \"source_0\", \"values\": [{\"time\": \"1990-07-29T00:00:00.000\", \"variable\": \"input\", \"value\": 7.9}, {\"time\": \"1990-07-30T00:00:00.000\", \"variable\": \"input\", \"value\": 6.0}, {\"time\": \"1990-07-31T00:00:00.000\", \"variable\": \"input\", \"value\": 5.0}, {\"time\": \"1990-08-01T00:00:00.000\", \"variable\": \"input\", \"value\": 6.8}, {\"time\": \"1990-08-02T00:00:00.000\", \"variable\": \"input\", \"value\": 9.8}, {\"time\": \"1990-08-03T00:00:00.000\", \"variable\": \"input\", \"value\": 5.7}, {\"time\": \"1990-08-04T00:00:00.000\", \"variable\": \"input\", \"value\": 8.6}, {\"time\": \"1990-08-05T00:00:00.000\", \"variable\": \"input\", \"value\": 10.6}, {\"time\": \"1990-08-06T00:00:00.000\", \"variable\": \"input\", \"value\": 7.8}, {\"time\": \"1990-08-07T00:00:00.000\", \"variable\": \"input\", \"value\": 7.7}, {\"time\": \"1990-08-08T00:00:00.000\", \"variable\": \"input\", \"value\": 8.6}, {\"time\": \"1990-08-09T00:00:00.000\", \"variable\": \"input\", \"value\": 6.5}, {\"time\": \"1990-08-10T00:00:00.000\", \"variable\": \"input\", \"value\": 6.9}, {\"time\": \"1990-08-11T00:00:00.000\", \"variable\": \"input\", \"value\": 6.4}, {\"time\": \"1990-08-12T00:00:00.000\", \"variable\": \"input\", \"value\": 8.5}, {\"time\": \"1990-08-13T00:00:00.000\", \"variable\": \"input\", \"value\": 7.8}, {\"time\": \"1990-08-14T00:00:00.000\", \"variable\": \"input\", \"value\": 9.3}, {\"time\": \"1990-08-15T00:00:00.000\", \"variable\": \"input\", \"value\": 8.4}, {\"time\": \"1990-08-16T00:00:00.000\", \"variable\": \"input\", \"value\": 7.8}, {\"time\": \"1990-08-17T00:00:00.000\", \"variable\": \"input\", \"value\": 7.4}, {\"time\": \"1990-08-18T00:00:00.000\", \"variable\": \"input\", \"value\": 7.7}, {\"time\": \"1990-08-19T00:00:00.000\", \"variable\": \"input\", \"value\": 8.9}, {\"time\": \"1990-08-20T00:00:00.000\", \"variable\": \"input\", \"value\": 9.7}, {\"time\": \"1990-08-21T00:00:00.000\", \"variable\": \"input\", \"value\": 9.9}, {\"time\": \"1990-08-22T00:00:00.000\", \"variable\": \"input\", \"value\": 6.1}, {\"time\": \"1990-08-23T00:00:00.000\", \"variable\": \"input\", \"value\": 6.6}, {\"time\": \"1990-08-24T00:00:00.000\", \"variable\": \"input\", \"value\": 7.6}, {\"time\": \"1990-08-25T00:00:00.000\", \"variable\": \"input\", \"value\": 7.4}, {\"time\": \"1990-08-26T00:00:00.000\", \"variable\": \"input\", \"value\": 8.0}, {\"time\": \"1990-08-27T00:00:00.000\", \"variable\": \"input\", \"value\": 2.1}, {\"time\": \"1990-08-28T00:00:00.000\", \"variable\": \"input\", \"value\": 5.9}, {\"time\": \"1990-08-29T00:00:00.000\", \"variable\": \"input\", \"value\": 11.6}, {\"time\": \"1990-08-30T00:00:00.000\", \"variable\": \"input\", \"value\": 8.6}, {\"time\": \"1990-08-31T00:00:00.000\", \"variable\": \"input\", \"value\": 7.9}, {\"time\": \"1990-09-01T00:00:00.000\", \"variable\": \"input\", \"value\": 6.0}, {\"time\": \"1990-09-02T00:00:00.000\", \"variable\": \"input\", \"value\": 9.5}, {\"time\": \"1990-09-03T00:00:00.000\", \"variable\": \"input\", \"value\": 8.6}, {\"time\": \"1990-09-04T00:00:00.000\", \"variable\": \"input\", \"value\": 7.6}, {\"time\": \"1990-09-05T00:00:00.000\", \"variable\": \"input\", \"value\": 10.4}, {\"time\": \"1990-09-06T00:00:00.000\", \"variable\": \"input\", \"value\": 10.3}, {\"time\": \"1990-09-07T00:00:00.000\", \"variable\": \"input\", \"value\": 7.5}, {\"time\": \"1990-09-08T00:00:00.000\", \"variable\": \"input\", \"value\": 3.0}, {\"time\": \"1990-09-09T00:00:00.000\", \"variable\": \"input\", \"value\": 5.3}, {\"time\": \"1990-09-10T00:00:00.000\", \"variable\": \"input\", \"value\": 10.5}, {\"time\": \"1990-09-11T00:00:00.000\", \"variable\": \"input\", \"value\": 14.6}, {\"time\": \"1990-09-12T00:00:00.000\", \"variable\": \"input\", \"value\": 12.6}, {\"time\": \"1990-09-13T00:00:00.000\", \"variable\": \"input\", \"value\": 9.8}, {\"time\": \"1990-09-14T00:00:00.000\", \"variable\": \"input\", \"value\": 7.2}, {\"time\": \"1990-09-15T00:00:00.000\", \"variable\": \"input\", \"value\": 10.1}, {\"time\": \"1990-09-16T00:00:00.000\", \"variable\": \"input\", \"value\": 10.4}, {\"time\": \"1990-09-17T00:00:00.000\", \"variable\": \"input\", \"value\": 3.7}, {\"time\": \"1990-09-18T00:00:00.000\", \"variable\": \"input\", \"value\": 7.3}, {\"time\": \"1990-09-19T00:00:00.000\", \"variable\": \"input\", \"value\": 11.6}, {\"time\": \"1990-09-20T00:00:00.000\", \"variable\": \"input\", \"value\": 16.3}, {\"time\": \"1990-09-21T00:00:00.000\", \"variable\": \"input\", \"value\": 9.6}, {\"time\": \"1990-09-22T00:00:00.000\", \"variable\": \"input\", \"value\": 6.8}, {\"time\": \"1990-09-23T00:00:00.000\", \"variable\": \"input\", \"value\": 5.2}, {\"time\": \"1990-09-24T00:00:00.000\", \"variable\": \"input\", \"value\": 10.6}, {\"time\": \"1990-09-25T00:00:00.000\", \"variable\": \"input\", \"value\": 16.3}, {\"time\": \"1990-09-26T00:00:00.000\", \"variable\": \"input\", \"value\": 9.8}, {\"time\": \"1990-09-27T00:00:00.000\", \"variable\": \"input\", \"value\": 4.6}, {\"time\": \"1990-09-28T00:00:00.000\", \"variable\": \"input\", \"value\": 11.1}, {\"time\": \"1990-09-29T00:00:00.000\", \"variable\": \"input\", \"value\": 8.7}, {\"time\": \"1990-09-30T00:00:00.000\", \"variable\": \"input\", \"value\": 10.0}, {\"time\": \"1990-10-01T00:00:00.000\", \"variable\": \"input\", \"value\": 11.3}, {\"time\": \"1990-10-02T00:00:00.000\", \"variable\": \"input\", \"value\": 10.5}, {\"time\": \"1990-10-03T00:00:00.000\", \"variable\": \"input\", \"value\": 9.9}, {\"time\": \"1990-10-04T00:00:00.000\", \"variable\": \"input\", \"value\": 11.0}, {\"time\": \"1990-10-05T00:00:00.000\", \"variable\": \"input\", \"value\": 14.0}, {\"time\": \"1990-10-06T00:00:00.000\", \"variable\": \"input\", \"value\": 9.2}, {\"time\": \"1990-10-07T00:00:00.000\", \"variable\": \"input\", \"value\": 9.8}, {\"time\": \"1990-10-08T00:00:00.000\", \"variable\": \"input\", \"value\": 6.0}, {\"time\": \"1990-10-09T00:00:00.000\", \"variable\": \"input\", \"value\": 9.8}, {\"time\": \"1990-10-10T00:00:00.000\", \"variable\": \"input\", \"value\": 9.2}, {\"time\": \"1990-10-11T00:00:00.000\", \"variable\": \"input\", \"value\": 11.8}, {\"time\": \"1990-10-12T00:00:00.000\", \"variable\": \"input\", \"value\": 10.3}, {\"time\": \"1990-10-13T00:00:00.000\", \"variable\": \"input\", \"value\": 7.5}, {\"time\": \"1990-10-14T00:00:00.000\", \"variable\": \"input\", \"value\": 7.7}, {\"time\": \"1990-10-15T00:00:00.000\", \"variable\": \"input\", \"value\": 15.8}, {\"time\": \"1990-10-16T00:00:00.000\", \"variable\": \"input\", \"value\": 14.6}, {\"time\": \"1990-10-17T00:00:00.000\", \"variable\": \"input\", \"value\": 10.5}, {\"time\": \"1990-10-18T00:00:00.000\", \"variable\": \"input\", \"value\": 11.3}, {\"time\": \"1990-10-19T00:00:00.000\", \"variable\": \"input\", \"value\": 10.9}, {\"time\": \"1990-10-20T00:00:00.000\", \"variable\": \"input\", \"value\": 6.4}, {\"time\": \"1990-10-21T00:00:00.000\", \"variable\": \"input\", \"value\": 10.9}, {\"time\": \"1990-10-22T00:00:00.000\", \"variable\": \"input\", \"value\": 9.0}, {\"time\": \"1990-10-23T00:00:00.000\", \"variable\": \"input\", \"value\": 10.9}, {\"time\": \"1990-10-24T00:00:00.000\", \"variable\": \"input\", \"value\": 12.4}, {\"time\": \"1990-10-25T00:00:00.000\", \"variable\": \"input\", \"value\": 11.6}, {\"time\": \"1990-10-26T00:00:00.000\", \"variable\": \"input\", \"value\": 13.3}, {\"time\": \"1990-10-27T00:00:00.000\", \"variable\": \"input\", \"value\": 14.4}, {\"time\": \"1990-10-28T00:00:00.000\", \"variable\": \"input\", \"value\": 18.4}, {\"time\": \"1990-10-29T00:00:00.000\", \"variable\": \"input\", \"value\": 13.6}, {\"time\": \"1990-10-30T00:00:00.000\", \"variable\": \"input\", \"value\": 14.9}, {\"time\": \"1990-10-31T00:00:00.000\", \"variable\": \"input\", \"value\": 14.8}, {\"time\": \"1990-11-01T00:00:00.000\", \"variable\": \"input\", \"value\": 15.4}], \"transform\": [{\"type\": \"formula\", \"expr\": \"toDate(datum['time'])\", \"as\": \"time\"}]}, {\"name\": \"source_1\", \"values\": [{\"time\": \"1990-11-02T00:00:00.000\", \"variable\": \"target\", \"value\": 11.8}, {\"time\": \"1990-11-03T00:00:00.000\", \"variable\": \"target\", \"value\": 13.0}, {\"time\": \"1990-11-04T00:00:00.000\", \"variable\": \"target\", \"value\": 11.1}, {\"time\": \"1990-11-05T00:00:00.000\", \"variable\": \"target\", \"value\": 12.5}, {\"time\": \"1990-11-06T00:00:00.000\", \"variable\": \"target\", \"value\": 18.3}, {\"time\": \"1990-11-07T00:00:00.000\", \"variable\": \"target\", \"value\": 19.2}, {\"time\": \"1990-11-08T00:00:00.000\", \"variable\": \"target\", \"value\": 15.4}, {\"time\": \"1990-11-09T00:00:00.000\", \"variable\": \"target\", \"value\": 13.1}, {\"time\": \"1990-11-10T00:00:00.000\", \"variable\": \"target\", \"value\": 11.5}, {\"time\": \"1990-11-11T00:00:00.000\", \"variable\": \"target\", \"value\": 8.6}, {\"time\": \"1990-11-12T00:00:00.000\", \"variable\": \"target\", \"value\": 12.6}, {\"time\": \"1990-11-13T00:00:00.000\", \"variable\": \"target\", \"value\": 13.8}, {\"time\": \"1990-11-14T00:00:00.000\", \"variable\": \"target\", \"value\": 14.6}, {\"time\": \"1990-11-15T00:00:00.000\", \"variable\": \"target\", \"value\": 13.2}, {\"time\": \"1990-11-16T00:00:00.000\", \"variable\": \"target\", \"value\": 12.3}, {\"time\": \"1990-11-17T00:00:00.000\", \"variable\": \"target\", \"value\": 8.8}, {\"time\": \"1990-11-18T00:00:00.000\", \"variable\": \"target\", \"value\": 10.7}, {\"time\": \"1990-11-19T00:00:00.000\", \"variable\": \"target\", \"value\": 9.9}, {\"time\": \"1990-11-20T00:00:00.000\", \"variable\": \"target\", \"value\": 8.3}, {\"time\": \"1990-11-21T00:00:00.000\", \"variable\": \"target\", \"value\": 15.0}, {\"time\": \"1990-11-22T00:00:00.000\", \"variable\": \"target\", \"value\": 12.2}, {\"time\": \"1990-11-23T00:00:00.000\", \"variable\": \"target\", \"value\": 10.5}, {\"time\": \"1990-11-24T00:00:00.000\", \"variable\": \"target\", \"value\": 11.1}, {\"time\": \"1990-11-25T00:00:00.000\", \"variable\": \"target\", \"value\": 13.0}], \"transform\": [{\"type\": \"formula\", \"expr\": \"toDate(datum['time'])\", \"as\": \"time\"}]}, {\"name\": \"source_2\", \"values\": [{\"time\": \"1990-11-02T00:00:00.000\", \"variable\": \"prediction\", \"value\": 12.162265718023768}, {\"time\": \"1990-11-03T00:00:00.000\", \"variable\": \"prediction\", \"value\": 10.839219485147302}, {\"time\": \"1990-11-04T00:00:00.000\", \"variable\": \"prediction\", \"value\": 12.553783295587236}, {\"time\": \"1990-11-05T00:00:00.000\", \"variable\": \"prediction\", \"value\": 11.940098216330577}, {\"time\": \"1990-11-06T00:00:00.000\", \"variable\": \"prediction\", \"value\": 13.497488501058127}, {\"time\": \"1990-11-07T00:00:00.000\", \"variable\": \"prediction\", \"value\": 13.382993205266526}, {\"time\": \"1990-11-08T00:00:00.000\", \"variable\": \"prediction\", \"value\": 13.289789004357914}, {\"time\": \"1990-11-09T00:00:00.000\", \"variable\": \"prediction\", \"value\": 12.58759507989315}, {\"time\": \"1990-11-10T00:00:00.000\", \"variable\": \"prediction\", \"value\": 11.264548847016684}, {\"time\": \"1990-11-11T00:00:00.000\", \"variable\": \"prediction\", \"value\": 12.979112657456618}, {\"time\": \"1990-11-12T00:00:00.000\", \"variable\": \"prediction\", \"value\": 12.36542757819996}, {\"time\": \"1990-11-13T00:00:00.000\", \"variable\": \"prediction\", \"value\": 13.92281786292751}, {\"time\": \"1990-11-14T00:00:00.000\", \"variable\": \"prediction\", \"value\": 13.808322567135908}, {\"time\": \"1990-11-15T00:00:00.000\", \"variable\": \"prediction\", \"value\": 13.715118366227296}, {\"time\": \"1990-11-16T00:00:00.000\", \"variable\": \"prediction\", \"value\": 13.012924441762532}, {\"time\": \"1990-11-17T00:00:00.000\", \"variable\": \"prediction\", \"value\": 11.689878208886066}, {\"time\": \"1990-11-18T00:00:00.000\", \"variable\": \"prediction\", \"value\": 13.404442019326}, {\"time\": \"1990-11-19T00:00:00.000\", \"variable\": \"prediction\", \"value\": 12.790756940069341}, {\"time\": \"1990-11-20T00:00:00.000\", \"variable\": \"prediction\", \"value\": 14.348147224796891}, {\"time\": \"1990-11-21T00:00:00.000\", \"variable\": \"prediction\", \"value\": 14.23365192900529}, {\"time\": \"1990-11-22T00:00:00.000\", \"variable\": \"prediction\", \"value\": 14.140447728096678}, {\"time\": \"1990-11-23T00:00:00.000\", \"variable\": \"prediction\", \"value\": 13.438253803631916}, {\"time\": \"1990-11-24T00:00:00.000\", \"variable\": \"prediction\", \"value\": 12.115207570755448}, {\"time\": \"1990-11-25T00:00:00.000\", \"variable\": \"prediction\", \"value\": 13.829771381195382}], \"transform\": [{\"type\": \"formula\", \"expr\": \"toDate(datum['time'])\", \"as\": \"time\"}]}, {\"name\": \"source_0_color_domain_variable_0\", \"values\": [{\"variable\": \"input\"}]}, {\"name\": \"source_1_color_domain_variable_1\", \"values\": [{\"variable\": \"target\"}]}, {\"name\": \"source_2_color_domain_variable_2\", \"values\": [{\"variable\": \"prediction\"}]}], \"marks\": [{\"type\": \"group\", \"name\": \"layer_0_pathgroup\", \"from\": {\"facet\": {\"data\": \"source_0\", \"name\": \"faceted_path_layer_0_main\", \"groupby\": [\"variable\"]}}, \"encode\": {\"update\": {\"width\": {\"field\": {\"signal\": null, \"datum\": null, \"group\": \"width\", \"parent\": null}}, \"height\": {\"field\": {\"signal\": null, \"datum\": null, \"group\": \"height\", \"parent\": null}}}}, \"marks\": [{\"type\": \"line\", \"name\": \"layer_0_marks\", \"from\": {\"data\": \"faceted_path_layer_0_main\"}, \"sort\": {\"field\": \"x\"}, \"encode\": {\"update\": {\"x\": {\"field\": \"time\", \"scale\": \"x\"}, \"y\": {\"field\": \"value\", \"scale\": \"y\"}, \"stroke\": {\"field\": \"variable\", \"scale\": \"color\"}, \"defined\": {\"signal\": \"isValid(datum[\\\"time\\\"]) && isFinite(+datum[\\\"time\\\"]) && isValid(datum[\\\"value\\\"]) && isFinite(+datum[\\\"value\\\"])\"}}}, \"style\": [\"line\"]}]}, {\"type\": \"group\", \"name\": \"layer_1_pathgroup\", \"from\": {\"facet\": {\"data\": \"source_1\", \"name\": \"faceted_path_layer_1_main\", \"groupby\": [\"variable\"]}}, \"encode\": {\"update\": {\"height\": {\"field\": {\"signal\": null, \"datum\": null, \"group\": \"height\", \"parent\": null}}, \"width\": {\"field\": {\"signal\": null, \"datum\": null, \"group\": \"width\", \"parent\": null}}}}, \"marks\": [{\"type\": \"line\", \"name\": \"layer_1_marks\", \"from\": {\"data\": \"faceted_path_layer_1_main\"}, \"sort\": {\"field\": \"x\"}, \"encode\": {\"update\": {\"y\": {\"field\": \"value\", \"scale\": \"y\"}, \"stroke\": {\"field\": \"variable\", \"scale\": \"color\"}, \"x\": {\"field\": \"time\", \"scale\": \"x\"}, \"defined\": {\"signal\": \"isValid(datum[\\\"time\\\"]) && isFinite(+datum[\\\"time\\\"]) && isValid(datum[\\\"value\\\"]) && isFinite(+datum[\\\"value\\\"])\"}}}, \"style\": [\"line\"]}]}, {\"type\": \"group\", \"name\": \"layer_2_pathgroup\", \"from\": {\"facet\": {\"data\": \"source_2\", \"name\": \"faceted_path_layer_2_main\", \"groupby\": [\"variable\"]}}, \"encode\": {\"update\": {\"width\": {\"field\": {\"signal\": null, \"datum\": null, \"group\": \"width\", \"parent\": null}}, \"height\": {\"field\": {\"signal\": null, \"datum\": null, \"group\": \"height\", \"parent\": null}}}}, \"marks\": [{\"type\": \"line\", \"name\": \"layer_2_marks\", \"from\": {\"data\": \"faceted_path_layer_2_main\"}, \"sort\": {\"field\": \"x\"}, \"encode\": {\"update\": {\"stroke\": {\"field\": \"variable\", \"scale\": \"color\"}, \"defined\": {\"signal\": \"isValid(datum[\\\"time\\\"]) && isFinite(+datum[\\\"time\\\"]) && isValid(datum[\\\"value\\\"]) && isFinite(+datum[\\\"value\\\"])\"}, \"y\": {\"field\": \"value\", \"scale\": \"y\"}, \"opacity\": {\"value\": 0.7}, \"strokeDash\": {\"value\": [5, 2]}, \"x\": {\"field\": \"time\", \"scale\": \"x\"}}}, \"style\": [\"line\"]}]}], \"scales\": [{\"name\": \"x\", \"type\": \"time\", \"domain\": {\"fields\": [{\"data\": \"source_0\", \"field\": \"time\"}, {\"data\": \"source_1\", \"field\": \"time\"}, {\"data\": \"source_2\", \"field\": \"time\"}]}, \"range\": [0, {\"signal\": \"width\"}]}, {\"name\": \"y\", \"type\": \"linear\", \"domain\": {\"fields\": [{\"data\": \"source_0\", \"field\": \"value\"}, {\"data\": \"source_1\", \"field\": \"value\"}, {\"data\": \"source_2\", \"field\": \"value\"}]}, \"range\": [{\"signal\": \"height\"}, 0], \"zero\": true, \"nice\": true}, {\"name\": \"color\", \"type\": \"ordinal\", \"domain\": {\"fields\": [{\"data\": \"source_0_color_domain_variable_0\", \"field\": \"variable\"}, {\"data\": \"source_1_color_domain_variable_1\", \"field\": \"variable\"}, {\"data\": \"source_2_color_domain_variable_2\", \"field\": \"variable\"}], \"sort\": true}, \"range\": \"category\"}], \"axes\": [{\"scale\": \"x\", \"ticks\": false, \"minExtent\": 0, \"aria\": false, \"domain\": false, \"zindex\": 0, \"grid\": true, \"gridScale\": \"y\", \"tickCount\": {\"signal\": \"ceil(width/40)\"}, \"orient\": \"bottom\", \"maxExtent\": 0, \"labels\": false}, {\"scale\": \"y\", \"gridScale\": \"x\", \"domain\": false, \"aria\": false, \"tickCount\": {\"signal\": \"ceil(height/40)\"}, \"labels\": false, \"orient\": \"left\", \"minExtent\": 0, \"ticks\": false, \"zindex\": 0, \"grid\": true, \"maxExtent\": 0}, {\"scale\": \"x\", \"title\": \"time\", \"labelOverlap\": true, \"labelFlush\": true, \"grid\": false, \"tickCount\": {\"signal\": \"ceil(width/40)\"}, \"orient\": \"bottom\", \"zindex\": 0}, {\"scale\": \"y\", \"title\": \"value\", \"grid\": false, \"tickCount\": {\"signal\": \"ceil(height/40)\"}, \"labelOverlap\": true, \"orient\": \"left\", \"zindex\": 0}], \"height\": 200, \"style\": \"cell\", \"padding\": 5, \"width\": 600, \"background\": \"white\", \"legends\": [{\"stroke\": \"color\", \"symbolType\": \"stroke\", \"title\": \"variable\", \"encode\": {\"symbols\": {\"update\": {\"opacity\": {\"value\": 0.7}}}}}]}, {\"mode\": \"vega\"});\n",
       "</script>"
      ],
      "text/plain": [
       "alt.LayerChart(...)"
      ]
     },
     "execution_count": 16,
     "metadata": {},
     "output_type": "execute_result"
    }
   ],
   "source": [
    "(on.Plot()\n",
    "    .add(on.marks.line, input)\n",
    "    .add(on.marks.line, target)\n",
    "    .add(on.marks.line, prediction, type='dashed')\n",
    "    .properties(width=600, height=200)\n",
    "    .show()\n",
    ")"
   ]
  },
  {
   "cell_type": "code",
   "execution_count": 17,
   "id": "4bc66495",
   "metadata": {},
   "outputs": [],
   "source": [
    "input = rename_index(predictions['inputs']['ETTh1'][0][500:].univariate_component(0)).rename({'HUFL': 'input'})\n",
    "target = rename_index(predictions['targets']['ETTh1'][0].univariate_component(0)).rename({'HUFL': 'target'})\n",
    "prediction = rename_index(predictions['predictions']['ExponentialSmoothingMultivariate']['ETTh1'][0].univariate_component(0)).rename({'HUFL': 'prediction'})"
   ]
  },
  {
   "cell_type": "code",
   "execution_count": 18,
   "id": "6312ee42",
   "metadata": {},
   "outputs": [
    {
     "data": {
      "text/html": [
       "\n",
       "<style>\n",
       "  #altair-viz-591ca64e88704f5588e404cbe0ac864b.vega-embed {\n",
       "    width: 100%;\n",
       "    display: flex;\n",
       "  }\n",
       "\n",
       "  #altair-viz-591ca64e88704f5588e404cbe0ac864b.vega-embed details,\n",
       "  #altair-viz-591ca64e88704f5588e404cbe0ac864b.vega-embed details summary {\n",
       "    position: relative;\n",
       "  }\n",
       "</style>\n",
       "<div id=\"altair-viz-591ca64e88704f5588e404cbe0ac864b\"></div>\n",
       "<script type=\"text/javascript\">\n",
       "  var VEGA_DEBUG = (typeof VEGA_DEBUG == \"undefined\") ? {} : VEGA_DEBUG;\n",
       "  (function(spec, embedOpt){\n",
       "    let outputDiv = document.currentScript.previousElementSibling;\n",
       "    if (outputDiv.id !== \"altair-viz-591ca64e88704f5588e404cbe0ac864b\") {\n",
       "      outputDiv = document.getElementById(\"altair-viz-591ca64e88704f5588e404cbe0ac864b\");\n",
       "    }\n",
       "    const paths = {\n",
       "      \"vega\": \"https://cdn.jsdelivr.net/npm/vega@5?noext\",\n",
       "      \"vega-lib\": \"https://cdn.jsdelivr.net/npm/vega-lib?noext\",\n",
       "      \"vega-lite\": \"https://cdn.jsdelivr.net/npm/vega-lite@5.20.1?noext\",\n",
       "      \"vega-embed\": \"https://cdn.jsdelivr.net/npm/vega-embed@6?noext\",\n",
       "    };\n",
       "\n",
       "    function maybeLoadScript(lib, version) {\n",
       "      var key = `${lib.replace(\"-\", \"\")}_version`;\n",
       "      return (VEGA_DEBUG[key] == version) ?\n",
       "        Promise.resolve(paths[lib]) :\n",
       "        new Promise(function(resolve, reject) {\n",
       "          var s = document.createElement('script');\n",
       "          document.getElementsByTagName(\"head\")[0].appendChild(s);\n",
       "          s.async = true;\n",
       "          s.onload = () => {\n",
       "            VEGA_DEBUG[key] = version;\n",
       "            return resolve(paths[lib]);\n",
       "          };\n",
       "          s.onerror = () => reject(`Error loading script: ${paths[lib]}`);\n",
       "          s.src = paths[lib];\n",
       "        });\n",
       "    }\n",
       "\n",
       "    function showError(err) {\n",
       "      outputDiv.innerHTML = `<div class=\"error\" style=\"color:red;\">${err}</div>`;\n",
       "      throw err;\n",
       "    }\n",
       "\n",
       "    function displayChart(vegaEmbed) {\n",
       "      vegaEmbed(outputDiv, spec, embedOpt)\n",
       "        .catch(err => showError(`Javascript Error: ${err.message}<br>This usually means there's a typo in your chart specification. See the javascript console for the full traceback.`));\n",
       "    }\n",
       "\n",
       "    if(typeof define === \"function\" && define.amd) {\n",
       "      requirejs.config({paths});\n",
       "      require([\"vega-embed\"], displayChart, err => showError(`Error loading script: ${err.message}`));\n",
       "    } else {\n",
       "      maybeLoadScript(\"vega\", \"5\")\n",
       "        .then(() => maybeLoadScript(\"vega-lite\", \"5.20.1\"))\n",
       "        .then(() => maybeLoadScript(\"vega-embed\", \"6\"))\n",
       "        .catch(showError)\n",
       "        .then(() => displayChart(vegaEmbed));\n",
       "    }\n",
       "  })({\"$schema\": \"https://vega.github.io/schema/vega/v5.json\", \"data\": [{\"name\": \"source_0\", \"values\": [], \"transform\": [{\"type\": \"formula\", \"expr\": \"toDate(datum['time'])\", \"as\": \"time\"}]}, {\"name\": \"source_1\", \"values\": [{\"time\": \"2018-05-09T11:00:00.000\", \"variable\": \"target\", \"value\": -21.63500022888184}, {\"time\": \"2018-05-09T12:00:00.000\", \"variable\": \"target\", \"value\": -22.70599937438965}, {\"time\": \"2018-05-09T13:00:00.000\", \"variable\": \"target\", \"value\": -22.4379997253418}, {\"time\": \"2018-05-09T14:00:00.000\", \"variable\": \"target\", \"value\": -20.36199951171875}, {\"time\": \"2018-05-09T15:00:00.000\", \"variable\": \"target\", \"value\": -16.476999282836914}, {\"time\": \"2018-05-09T16:00:00.000\", \"variable\": \"target\", \"value\": -10.91800022125244}, {\"time\": \"2018-05-09T17:00:00.000\", \"variable\": \"target\", \"value\": -3.884999990463257}, {\"time\": \"2018-05-09T18:00:00.000\", \"variable\": \"target\", \"value\": 1.3400000333786009}, {\"time\": \"2018-05-09T19:00:00.000\", \"variable\": \"target\", \"value\": 2.812999963760376}, {\"time\": \"2018-05-09T20:00:00.000\", \"variable\": \"target\", \"value\": 4.75600004196167}, {\"time\": \"2018-05-09T21:00:00.000\", \"variable\": \"target\", \"value\": 4.3540000915527335}, {\"time\": \"2018-05-09T22:00:00.000\", \"variable\": \"target\", \"value\": 6.162000179290772}, {\"time\": \"2018-05-09T23:00:00.000\", \"variable\": \"target\", \"value\": 6.63100004196167}, {\"time\": \"2018-05-10T00:00:00.000\", \"variable\": \"target\", \"value\": 6.027999877929688}, {\"time\": \"2018-05-10T01:00:00.000\", \"variable\": \"target\", \"value\": 5.827000141143799}, {\"time\": \"2018-05-10T02:00:00.000\", \"variable\": \"target\", \"value\": 6.09499979019165}, {\"time\": \"2018-05-10T03:00:00.000\", \"variable\": \"target\", \"value\": 6.296000003814697}, {\"time\": \"2018-05-10T04:00:00.000\", \"variable\": \"target\", \"value\": 6.497000217437744}, {\"time\": \"2018-05-10T05:00:00.000\", \"variable\": \"target\", \"value\": 7.434999942779541}, {\"time\": \"2018-05-10T06:00:00.000\", \"variable\": \"target\", \"value\": 5.692999839782715}, {\"time\": \"2018-05-10T07:00:00.000\", \"variable\": \"target\", \"value\": 2.880000114440918}, {\"time\": \"2018-05-10T08:00:00.000\", \"variable\": \"target\", \"value\": 1.5410000085830688}, {\"time\": \"2018-05-10T09:00:00.000\", \"variable\": \"target\", \"value\": -15.06999969482422}, {\"time\": \"2018-05-10T10:00:00.000\", \"variable\": \"target\", \"value\": -19.49099922180176}, {\"time\": \"2018-05-10T11:00:00.000\", \"variable\": \"target\", \"value\": -17.214000701904293}, {\"time\": \"2018-05-10T12:00:00.000\", \"variable\": \"target\", \"value\": -10.85099983215332}, {\"time\": \"2018-05-10T13:00:00.000\", \"variable\": \"target\", \"value\": -9.175999641418455}, {\"time\": \"2018-05-10T14:00:00.000\", \"variable\": \"target\", \"value\": -15.67300033569336}, {\"time\": \"2018-05-10T15:00:00.000\", \"variable\": \"target\", \"value\": -9.845999717712402}, {\"time\": \"2018-05-10T16:00:00.000\", \"variable\": \"target\", \"value\": -4.152999877929688}, {\"time\": \"2018-05-10T17:00:00.000\", \"variable\": \"target\", \"value\": 4.554999828338623}, {\"time\": \"2018-05-10T18:00:00.000\", \"variable\": \"target\", \"value\": 5.0229997634887695}, {\"time\": \"2018-05-10T19:00:00.000\", \"variable\": \"target\", \"value\": 6.764999866485598}, {\"time\": \"2018-05-10T20:00:00.000\", \"variable\": \"target\", \"value\": 7.0329999923706055}, {\"time\": \"2018-05-10T21:00:00.000\", \"variable\": \"target\", \"value\": 7.769999980926514}, {\"time\": \"2018-05-10T22:00:00.000\", \"variable\": \"target\", \"value\": 11.588000297546388}, {\"time\": \"2018-05-10T23:00:00.000\", \"variable\": \"target\", \"value\": 13.32900047302246}, {\"time\": \"2018-05-11T00:00:00.000\", \"variable\": \"target\", \"value\": 15.404999732971191}, {\"time\": \"2018-05-11T01:00:00.000\", \"variable\": \"target\", \"value\": 14.736000061035154}, {\"time\": \"2018-05-11T02:00:00.000\", \"variable\": \"target\", \"value\": 13.79800033569336}, {\"time\": \"2018-05-11T03:00:00.000\", \"variable\": \"target\", \"value\": 13.128000259399414}, {\"time\": \"2018-05-11T04:00:00.000\", \"variable\": \"target\", \"value\": 15.06999969482422}, {\"time\": \"2018-05-11T05:00:00.000\", \"variable\": \"target\", \"value\": 15.20400047302246}, {\"time\": \"2018-05-11T06:00:00.000\", \"variable\": \"target\", \"value\": 14.60200023651123}, {\"time\": \"2018-05-11T07:00:00.000\", \"variable\": \"target\", \"value\": 13.128000259399414}, {\"time\": \"2018-05-11T08:00:00.000\", \"variable\": \"target\", \"value\": 10.984999656677246}, {\"time\": \"2018-05-11T09:00:00.000\", \"variable\": \"target\", \"value\": 1.2730000019073486}, {\"time\": \"2018-05-11T10:00:00.000\", \"variable\": \"target\", \"value\": -1.4739999771118164}, {\"time\": \"2018-05-11T11:00:00.000\", \"variable\": \"target\", \"value\": -3.013999938964844}, {\"time\": \"2018-05-11T12:00:00.000\", \"variable\": \"target\", \"value\": -17.951000213623047}, {\"time\": \"2018-05-11T13:00:00.000\", \"variable\": \"target\", \"value\": -6.831999778747559}, {\"time\": \"2018-05-11T14:00:00.000\", \"variable\": \"target\", \"value\": 1.2059999704360962}, {\"time\": \"2018-05-11T15:00:00.000\", \"variable\": \"target\", \"value\": 7.234000205993652}, {\"time\": \"2018-05-11T16:00:00.000\", \"variable\": \"target\", \"value\": 6.497000217437744}, {\"time\": \"2018-05-11T17:00:00.000\", \"variable\": \"target\", \"value\": 9.779000282287598}, {\"time\": \"2018-05-11T18:00:00.000\", \"variable\": \"target\", \"value\": 6.296000003814697}, {\"time\": \"2018-05-11T19:00:00.000\", \"variable\": \"target\", \"value\": 6.89900016784668}, {\"time\": \"2018-05-11T20:00:00.000\", \"variable\": \"target\", \"value\": 7.501999855041504}, {\"time\": \"2018-05-11T21:00:00.000\", \"variable\": \"target\", \"value\": 7.636000156402588}, {\"time\": \"2018-05-11T22:00:00.000\", \"variable\": \"target\", \"value\": 8.840999603271484}, {\"time\": \"2018-05-11T23:00:00.000\", \"variable\": \"target\", \"value\": 11.788000106811523}, {\"time\": \"2018-05-12T00:00:00.000\", \"variable\": \"target\", \"value\": 13.932000160217283}, {\"time\": \"2018-05-12T01:00:00.000\", \"variable\": \"target\", \"value\": 14.199999809265137}, {\"time\": \"2018-05-12T02:00:00.000\", \"variable\": \"target\", \"value\": 14.53499984741211}, {\"time\": \"2018-05-12T03:00:00.000\", \"variable\": \"target\", \"value\": 15.003999710083008}, {\"time\": \"2018-05-12T04:00:00.000\", \"variable\": \"target\", \"value\": 12.458000183105469}, {\"time\": \"2018-05-12T05:00:00.000\", \"variable\": \"target\", \"value\": 13.597000122070312}, {\"time\": \"2018-05-12T06:00:00.000\", \"variable\": \"target\", \"value\": 14.468000411987305}, {\"time\": \"2018-05-12T07:00:00.000\", \"variable\": \"target\", \"value\": 11.588000297546388}, {\"time\": \"2018-05-12T08:00:00.000\", \"variable\": \"target\", \"value\": 10.515999794006348}, {\"time\": \"2018-05-12T09:00:00.000\", \"variable\": \"target\", \"value\": 7.434999942779541}, {\"time\": \"2018-05-12T10:00:00.000\", \"variable\": \"target\", \"value\": 0.06700000166893}, {\"time\": \"2018-05-12T11:00:00.000\", \"variable\": \"target\", \"value\": 3.41599988937378}, {\"time\": \"2018-05-12T12:00:00.000\", \"variable\": \"target\", \"value\": -8.706999778747559}, {\"time\": \"2018-05-12T13:00:00.000\", \"variable\": \"target\", \"value\": -1.9420000314712524}, {\"time\": \"2018-05-12T14:00:00.000\", \"variable\": \"target\", \"value\": 0.6029999852180481}, {\"time\": \"2018-05-12T15:00:00.000\", \"variable\": \"target\", \"value\": 3.3489999771118164}, {\"time\": \"2018-05-12T16:00:00.000\", \"variable\": \"target\", \"value\": 4.956999778747559}, {\"time\": \"2018-05-12T17:00:00.000\", \"variable\": \"target\", \"value\": 6.63100004196167}, {\"time\": \"2018-05-12T18:00:00.000\", \"variable\": \"target\", \"value\": 5.760000228881836}, {\"time\": \"2018-05-12T19:00:00.000\", \"variable\": \"target\", \"value\": 6.564000129699707}, {\"time\": \"2018-05-12T20:00:00.000\", \"variable\": \"target\", \"value\": 9.51099967956543}, {\"time\": \"2018-05-12T21:00:00.000\", \"variable\": \"target\", \"value\": 9.376999855041504}, {\"time\": \"2018-05-12T22:00:00.000\", \"variable\": \"target\", \"value\": 8.77400016784668}, {\"time\": \"2018-05-12T23:00:00.000\", \"variable\": \"target\", \"value\": 10.180999755859377}, {\"time\": \"2018-05-13T00:00:00.000\", \"variable\": \"target\", \"value\": 12.123000144958494}, {\"time\": \"2018-05-13T01:00:00.000\", \"variable\": \"target\", \"value\": 11.588000297546388}, {\"time\": \"2018-05-13T02:00:00.000\", \"variable\": \"target\", \"value\": 12.927000045776367}, {\"time\": \"2018-05-13T03:00:00.000\", \"variable\": \"target\", \"value\": 11.654999732971191}, {\"time\": \"2018-05-13T04:00:00.000\", \"variable\": \"target\", \"value\": 12.256999969482422}, {\"time\": \"2018-05-13T05:00:00.000\", \"variable\": \"target\", \"value\": 11.854999542236328}, {\"time\": \"2018-05-13T06:00:00.000\", \"variable\": \"target\", \"value\": 11.185999870300291}, {\"time\": \"2018-05-13T07:00:00.000\", \"variable\": \"target\", \"value\": 7.769999980926514}, {\"time\": \"2018-05-13T08:00:00.000\", \"variable\": \"target\", \"value\": 5.357999801635742}, {\"time\": \"2018-05-13T09:00:00.000\", \"variable\": \"target\", \"value\": -7.434999942779541}, {\"time\": \"2018-05-13T10:00:00.000\", \"variable\": \"target\", \"value\": -10.717000007629396}], \"transform\": [{\"type\": \"formula\", \"expr\": \"toDate(datum['time'])\", \"as\": \"time\"}]}, {\"name\": \"source_2\", \"values\": [{\"time\": \"2018-05-09T11:00:00.000\", \"variable\": \"prediction\", \"value\": -22.550833670172075}, {\"time\": \"2018-05-09T12:00:00.000\", \"variable\": \"prediction\", \"value\": -24.549062541486364}, {\"time\": \"2018-05-09T13:00:00.000\", \"variable\": \"prediction\", \"value\": -22.708182656142814}, {\"time\": \"2018-05-09T14:00:00.000\", \"variable\": \"prediction\", \"value\": -21.45164810920258}, {\"time\": \"2018-05-09T15:00:00.000\", \"variable\": \"prediction\", \"value\": -20.020235557256964}, {\"time\": \"2018-05-09T16:00:00.000\", \"variable\": \"prediction\", \"value\": -16.07132637008766}, {\"time\": \"2018-05-09T17:00:00.000\", \"variable\": \"prediction\", \"value\": -11.163850670548186}, {\"time\": \"2018-05-09T18:00:00.000\", \"variable\": \"prediction\", \"value\": -9.307275524205826}, {\"time\": \"2018-05-09T19:00:00.000\", \"variable\": \"prediction\", \"value\": -8.419356790116376}, {\"time\": \"2018-05-09T20:00:00.000\", \"variable\": \"prediction\", \"value\": -8.451839012018182}, {\"time\": \"2018-05-09T21:00:00.000\", \"variable\": \"prediction\", \"value\": -8.001638340194273}, {\"time\": \"2018-05-09T22:00:00.000\", \"variable\": \"prediction\", \"value\": -6.902022644009486}, {\"time\": \"2018-05-09T23:00:00.000\", \"variable\": \"prediction\", \"value\": -2.6297464885538604}, {\"time\": \"2018-05-10T00:00:00.000\", \"variable\": \"prediction\", \"value\": -1.9256109691773418}, {\"time\": \"2018-05-10T01:00:00.000\", \"variable\": \"prediction\", \"value\": -1.5138290552988067}, {\"time\": \"2018-05-10T02:00:00.000\", \"variable\": \"prediction\", \"value\": -1.7584801279505289}, {\"time\": \"2018-05-10T03:00:00.000\", \"variable\": \"prediction\", \"value\": -2.1730161896677753}, {\"time\": \"2018-05-10T04:00:00.000\", \"variable\": \"prediction\", \"value\": -2.1843055286688147}, {\"time\": \"2018-05-10T05:00:00.000\", \"variable\": \"prediction\", \"value\": -1.5167041594613764}, {\"time\": \"2018-05-10T06:00:00.000\", \"variable\": \"prediction\", \"value\": -0.4772930703754614}, {\"time\": \"2018-05-10T07:00:00.000\", \"variable\": \"prediction\", \"value\": -4.9879803477686275}, {\"time\": \"2018-05-10T08:00:00.000\", \"variable\": \"prediction\", \"value\": -9.804771147893627}, {\"time\": \"2018-05-10T09:00:00.000\", \"variable\": \"prediction\", \"value\": -15.781219860828855}, {\"time\": \"2018-05-10T10:00:00.000\", \"variable\": \"prediction\", \"value\": -19.534782876486865}, {\"time\": \"2018-05-10T11:00:00.000\", \"variable\": \"prediction\", \"value\": -22.97295801203005}, {\"time\": \"2018-05-10T12:00:00.000\", \"variable\": \"prediction\", \"value\": -24.97118688334433}, {\"time\": \"2018-05-10T13:00:00.000\", \"variable\": \"prediction\", \"value\": -23.130306998000783}, {\"time\": \"2018-05-10T14:00:00.000\", \"variable\": \"prediction\", \"value\": -21.873772451060546}, {\"time\": \"2018-05-10T15:00:00.000\", \"variable\": \"prediction\", \"value\": -20.442359899114933}, {\"time\": \"2018-05-10T16:00:00.000\", \"variable\": \"prediction\", \"value\": -16.493450711945627}, {\"time\": \"2018-05-10T17:00:00.000\", \"variable\": \"prediction\", \"value\": -11.585975012406156}, {\"time\": \"2018-05-10T18:00:00.000\", \"variable\": \"prediction\", \"value\": -9.729399866063794}, {\"time\": \"2018-05-10T19:00:00.000\", \"variable\": \"prediction\", \"value\": -8.841481131974344}, {\"time\": \"2018-05-10T20:00:00.000\", \"variable\": \"prediction\", \"value\": -8.87396335387615}, {\"time\": \"2018-05-10T21:00:00.000\", \"variable\": \"prediction\", \"value\": -8.42376268205224}, {\"time\": \"2018-05-10T22:00:00.000\", \"variable\": \"prediction\", \"value\": -7.324146985867454}, {\"time\": \"2018-05-10T23:00:00.000\", \"variable\": \"prediction\", \"value\": -3.05187083041183}, {\"time\": \"2018-05-11T00:00:00.000\", \"variable\": \"prediction\", \"value\": -2.3477353110353114}, {\"time\": \"2018-05-11T01:00:00.000\", \"variable\": \"prediction\", \"value\": -1.9359533971567764}, {\"time\": \"2018-05-11T02:00:00.000\", \"variable\": \"prediction\", \"value\": -2.1806044698084985}, {\"time\": \"2018-05-11T03:00:00.000\", \"variable\": \"prediction\", \"value\": -2.595140531525745}, {\"time\": \"2018-05-11T04:00:00.000\", \"variable\": \"prediction\", \"value\": -2.6064298705267843}, {\"time\": \"2018-05-11T05:00:00.000\", \"variable\": \"prediction\", \"value\": -1.938828501319346}, {\"time\": \"2018-05-11T06:00:00.000\", \"variable\": \"prediction\", \"value\": -0.8994174122334311}, {\"time\": \"2018-05-11T07:00:00.000\", \"variable\": \"prediction\", \"value\": -5.410104689626597}, {\"time\": \"2018-05-11T08:00:00.000\", \"variable\": \"prediction\", \"value\": -10.226895489751595}, {\"time\": \"2018-05-11T09:00:00.000\", \"variable\": \"prediction\", \"value\": -16.20334420268682}, {\"time\": \"2018-05-11T10:00:00.000\", \"variable\": \"prediction\", \"value\": -19.956907218344835}, {\"time\": \"2018-05-11T11:00:00.000\", \"variable\": \"prediction\", \"value\": -23.395082353888014}, {\"time\": \"2018-05-11T12:00:00.000\", \"variable\": \"prediction\", \"value\": -25.393311225202304}, {\"time\": \"2018-05-11T13:00:00.000\", \"variable\": \"prediction\", \"value\": -23.552431339858753}, {\"time\": \"2018-05-11T14:00:00.000\", \"variable\": \"prediction\", \"value\": -22.29589679291852}, {\"time\": \"2018-05-11T15:00:00.000\", \"variable\": \"prediction\", \"value\": -20.864484240972903}, {\"time\": \"2018-05-11T16:00:00.000\", \"variable\": \"prediction\", \"value\": -16.9155750538036}, {\"time\": \"2018-05-11T17:00:00.000\", \"variable\": \"prediction\", \"value\": -12.008099354264125}, {\"time\": \"2018-05-11T18:00:00.000\", \"variable\": \"prediction\", \"value\": -10.151524207921764}, {\"time\": \"2018-05-11T19:00:00.000\", \"variable\": \"prediction\", \"value\": -9.263605473832314}, {\"time\": \"2018-05-11T20:00:00.000\", \"variable\": \"prediction\", \"value\": -9.29608769573412}, {\"time\": \"2018-05-11T21:00:00.000\", \"variable\": \"prediction\", \"value\": -8.84588702391021}, {\"time\": \"2018-05-11T22:00:00.000\", \"variable\": \"prediction\", \"value\": -7.746271327725424}, {\"time\": \"2018-05-11T23:00:00.000\", \"variable\": \"prediction\", \"value\": -3.473995172269798}, {\"time\": \"2018-05-12T00:00:00.000\", \"variable\": \"prediction\", \"value\": -2.7698596528932793}, {\"time\": \"2018-05-12T01:00:00.000\", \"variable\": \"prediction\", \"value\": -2.3580777390147443}, {\"time\": \"2018-05-12T02:00:00.000\", \"variable\": \"prediction\", \"value\": -2.6027288116664664}, {\"time\": \"2018-05-12T03:00:00.000\", \"variable\": \"prediction\", \"value\": -3.0172648733837146}, {\"time\": \"2018-05-12T04:00:00.000\", \"variable\": \"prediction\", \"value\": -3.028554212384754}, {\"time\": \"2018-05-12T05:00:00.000\", \"variable\": \"prediction\", \"value\": -2.3609528431773157}, {\"time\": \"2018-05-12T06:00:00.000\", \"variable\": \"prediction\", \"value\": -1.3215417540914007}, {\"time\": \"2018-05-12T07:00:00.000\", \"variable\": \"prediction\", \"value\": -5.832229031484567}, {\"time\": \"2018-05-12T08:00:00.000\", \"variable\": \"prediction\", \"value\": -10.649019831609564}, {\"time\": \"2018-05-12T09:00:00.000\", \"variable\": \"prediction\", \"value\": -16.625468544544795}, {\"time\": \"2018-05-12T10:00:00.000\", \"variable\": \"prediction\", \"value\": -20.379031560202804}, {\"time\": \"2018-05-12T11:00:00.000\", \"variable\": \"prediction\", \"value\": -23.817206695745984}, {\"time\": \"2018-05-12T12:00:00.000\", \"variable\": \"prediction\", \"value\": -25.81543556706027}, {\"time\": \"2018-05-12T13:00:00.000\", \"variable\": \"prediction\", \"value\": -23.974555681716723}, {\"time\": \"2018-05-12T14:00:00.000\", \"variable\": \"prediction\", \"value\": -22.718021134776485}, {\"time\": \"2018-05-12T15:00:00.000\", \"variable\": \"prediction\", \"value\": -21.286608582830873}, {\"time\": \"2018-05-12T16:00:00.000\", \"variable\": \"prediction\", \"value\": -17.337699395661566}, {\"time\": \"2018-05-12T17:00:00.000\", \"variable\": \"prediction\", \"value\": -12.430223696122095}, {\"time\": \"2018-05-12T18:00:00.000\", \"variable\": \"prediction\", \"value\": -10.573648549779733}, {\"time\": \"2018-05-12T19:00:00.000\", \"variable\": \"prediction\", \"value\": -9.685729815690284}, {\"time\": \"2018-05-12T20:00:00.000\", \"variable\": \"prediction\", \"value\": -9.718212037592089}, {\"time\": \"2018-05-12T21:00:00.000\", \"variable\": \"prediction\", \"value\": -9.26801136576818}, {\"time\": \"2018-05-12T22:00:00.000\", \"variable\": \"prediction\", \"value\": -8.168395669583393}, {\"time\": \"2018-05-12T23:00:00.000\", \"variable\": \"prediction\", \"value\": -3.8961195141277676}, {\"time\": \"2018-05-13T00:00:00.000\", \"variable\": \"prediction\", \"value\": -3.191983994751249}, {\"time\": \"2018-05-13T01:00:00.000\", \"variable\": \"prediction\", \"value\": -2.780202080872714}, {\"time\": \"2018-05-13T02:00:00.000\", \"variable\": \"prediction\", \"value\": -3.024853153524436}, {\"time\": \"2018-05-13T03:00:00.000\", \"variable\": \"prediction\", \"value\": -3.4393892152416825}, {\"time\": \"2018-05-13T04:00:00.000\", \"variable\": \"prediction\", \"value\": -3.450678554242722}, {\"time\": \"2018-05-13T05:00:00.000\", \"variable\": \"prediction\", \"value\": -2.7830771850352836}, {\"time\": \"2018-05-13T06:00:00.000\", \"variable\": \"prediction\", \"value\": -1.7436660959493686}, {\"time\": \"2018-05-13T07:00:00.000\", \"variable\": \"prediction\", \"value\": -6.254353373342535}, {\"time\": \"2018-05-13T08:00:00.000\", \"variable\": \"prediction\", \"value\": -11.071144173467534}, {\"time\": \"2018-05-13T09:00:00.000\", \"variable\": \"prediction\", \"value\": -17.04759288640276}, {\"time\": \"2018-05-13T10:00:00.000\", \"variable\": \"prediction\", \"value\": -20.801155902060774}], \"transform\": [{\"type\": \"formula\", \"expr\": \"toDate(datum['time'])\", \"as\": \"time\"}]}, {\"name\": \"source_0_color_domain_variable_0\", \"values\": []}, {\"name\": \"source_1_color_domain_variable_1\", \"values\": [{\"variable\": \"target\"}]}, {\"name\": \"source_2_color_domain_variable_2\", \"values\": [{\"variable\": \"prediction\"}]}], \"marks\": [{\"type\": \"group\", \"name\": \"layer_0_pathgroup\", \"from\": {\"facet\": {\"data\": \"source_0\", \"name\": \"faceted_path_layer_0_main\", \"groupby\": [\"variable\"]}}, \"encode\": {\"update\": {\"height\": {\"field\": {\"signal\": null, \"datum\": null, \"group\": \"height\", \"parent\": null}}, \"width\": {\"field\": {\"signal\": null, \"datum\": null, \"group\": \"width\", \"parent\": null}}}}, \"marks\": [{\"type\": \"line\", \"name\": \"layer_0_marks\", \"from\": {\"data\": \"faceted_path_layer_0_main\"}, \"sort\": {\"field\": \"x\"}, \"encode\": {\"update\": {\"x\": {\"field\": \"time\", \"scale\": \"x\"}, \"defined\": {\"signal\": \"isValid(datum[\\\"time\\\"]) && isFinite(+datum[\\\"time\\\"]) && isValid(datum[\\\"value\\\"]) && isFinite(+datum[\\\"value\\\"])\"}, \"y\": {\"field\": \"value\", \"scale\": \"y\"}, \"stroke\": {\"field\": \"variable\", \"scale\": \"color\"}}}, \"style\": [\"line\"]}]}, {\"type\": \"group\", \"name\": \"layer_1_pathgroup\", \"from\": {\"facet\": {\"data\": \"source_1\", \"name\": \"faceted_path_layer_1_main\", \"groupby\": [\"variable\"]}}, \"encode\": {\"update\": {\"width\": {\"field\": {\"signal\": null, \"datum\": null, \"group\": \"width\", \"parent\": null}}, \"height\": {\"field\": {\"signal\": null, \"datum\": null, \"group\": \"height\", \"parent\": null}}}}, \"marks\": [{\"type\": \"line\", \"name\": \"layer_1_marks\", \"from\": {\"data\": \"faceted_path_layer_1_main\"}, \"sort\": {\"field\": \"x\"}, \"encode\": {\"update\": {\"stroke\": {\"field\": \"variable\", \"scale\": \"color\"}, \"x\": {\"field\": \"time\", \"scale\": \"x\"}, \"y\": {\"field\": \"value\", \"scale\": \"y\"}, \"defined\": {\"signal\": \"isValid(datum[\\\"time\\\"]) && isFinite(+datum[\\\"time\\\"]) && isValid(datum[\\\"value\\\"]) && isFinite(+datum[\\\"value\\\"])\"}}}, \"style\": [\"line\"]}]}, {\"type\": \"group\", \"name\": \"layer_2_pathgroup\", \"from\": {\"facet\": {\"data\": \"source_2\", \"name\": \"faceted_path_layer_2_main\", \"groupby\": [\"variable\"]}}, \"encode\": {\"update\": {\"height\": {\"field\": {\"signal\": null, \"datum\": null, \"group\": \"height\", \"parent\": null}}, \"width\": {\"field\": {\"signal\": null, \"datum\": null, \"group\": \"width\", \"parent\": null}}}}, \"marks\": [{\"type\": \"line\", \"name\": \"layer_2_marks\", \"from\": {\"data\": \"faceted_path_layer_2_main\"}, \"sort\": {\"field\": \"x\"}, \"encode\": {\"update\": {\"opacity\": {\"value\": 0.7}, \"y\": {\"field\": \"value\", \"scale\": \"y\"}, \"x\": {\"field\": \"time\", \"scale\": \"x\"}, \"strokeDash\": {\"value\": [5, 2]}, \"defined\": {\"signal\": \"isValid(datum[\\\"time\\\"]) && isFinite(+datum[\\\"time\\\"]) && isValid(datum[\\\"value\\\"]) && isFinite(+datum[\\\"value\\\"])\"}, \"stroke\": {\"field\": \"variable\", \"scale\": \"color\"}}}, \"style\": [\"line\"]}]}], \"scales\": [{\"name\": \"x\", \"type\": \"time\", \"domain\": {\"fields\": [{\"data\": \"source_0\", \"field\": \"time\"}, {\"data\": \"source_1\", \"field\": \"time\"}, {\"data\": \"source_2\", \"field\": \"time\"}]}, \"range\": [0, {\"signal\": \"width\"}]}, {\"name\": \"y\", \"type\": \"linear\", \"domain\": {\"fields\": [{\"data\": \"source_0\", \"field\": \"value\"}, {\"data\": \"source_1\", \"field\": \"value\"}, {\"data\": \"source_2\", \"field\": \"value\"}]}, \"range\": [{\"signal\": \"height\"}, 0], \"zero\": true, \"nice\": true}, {\"name\": \"color\", \"type\": \"ordinal\", \"domain\": {\"fields\": [{\"data\": \"source_0_color_domain_variable_0\", \"field\": \"variable\"}, {\"data\": \"source_1_color_domain_variable_1\", \"field\": \"variable\"}, {\"data\": \"source_2_color_domain_variable_2\", \"field\": \"variable\"}], \"sort\": true}, \"range\": \"category\"}], \"axes\": [{\"scale\": \"x\", \"grid\": true, \"gridScale\": \"y\", \"orient\": \"bottom\", \"aria\": false, \"tickCount\": {\"signal\": \"ceil(width/40)\"}, \"domain\": false, \"minExtent\": 0, \"ticks\": false, \"zindex\": 0, \"maxExtent\": 0, \"labels\": false}, {\"scale\": \"y\", \"aria\": false, \"maxExtent\": 0, \"ticks\": false, \"zindex\": 0, \"labels\": false, \"grid\": true, \"tickCount\": {\"signal\": \"ceil(height/40)\"}, \"gridScale\": \"x\", \"domain\": false, \"orient\": \"left\", \"minExtent\": 0}, {\"scale\": \"x\", \"tickCount\": {\"signal\": \"ceil(width/40)\"}, \"zindex\": 0, \"labelOverlap\": true, \"labelFlush\": true, \"grid\": false, \"title\": \"time\", \"orient\": \"bottom\"}, {\"scale\": \"y\", \"title\": \"value\", \"zindex\": 0, \"grid\": false, \"labelOverlap\": true, \"orient\": \"left\", \"tickCount\": {\"signal\": \"ceil(height/40)\"}}], \"width\": 600, \"background\": \"white\", \"height\": 200, \"padding\": 5, \"legends\": [{\"stroke\": \"color\", \"symbolType\": \"stroke\", \"title\": \"variable\", \"encode\": {\"symbols\": {\"update\": {\"opacity\": {\"value\": 0.7}}}}}], \"style\": \"cell\"}, {\"mode\": \"vega\"});\n",
       "</script>"
      ],
      "text/plain": [
       "alt.LayerChart(...)"
      ]
     },
     "execution_count": 18,
     "metadata": {},
     "output_type": "execute_result"
    }
   ],
   "source": [
    "(on.Plot()\n",
    "    .add(on.marks.line, input)\n",
    "    .add(on.marks.line, target)\n",
    "    .add(on.marks.line, prediction, type='dashed')\n",
    "    .properties(width=600, height=200)\n",
    "    .show()\n",
    ")"
   ]
  }
 ],
 "metadata": {
  "kernelspec": {
   "display_name": "ontime-2OQVvbNf-py3.11",
   "language": "python",
   "name": "python3"
  },
  "language_info": {
   "codemirror_mode": {
    "name": "ipython",
    "version": 3
   },
   "file_extension": ".py",
   "mimetype": "text/x-python",
   "name": "python",
   "nbconvert_exporter": "python",
   "pygments_lexer": "ipython3",
   "version": "3.11.0rc1"
  }
 },
 "nbformat": 4,
 "nbformat_minor": 5
}
