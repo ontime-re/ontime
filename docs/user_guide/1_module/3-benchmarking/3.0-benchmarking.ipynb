{
 "cells": [
  {
   "cell_type": "markdown",
   "id": "550c22a8-085f-45f1-9af5-35896f670515",
   "metadata": {},
   "source": [
    "# Module - Benchmarking\n",
    "Ontime provides a Benchmark class that can be used to run a number of prediction models on a number of datasets."
   ]
  },
  {
   "cell_type": "code",
   "execution_count": 24,
   "id": "27e27d12-d338-47d3-8fd3-b31ff80ac57c",
   "metadata": {
    "ExecuteTime": {
     "end_time": "2024-06-24T06:55:56.084401800Z",
     "start_time": "2024-06-24T06:55:51.801812900Z"
    }
   },
   "outputs": [],
   "source": [
    "from ontime.module.benchmarking import AbstractBenchmarkModel, BenchmarkMode, BenchmarkDataset, BenchmarkMetric, Benchmark\n",
    "import ontime as on"
   ]
  },
  {
   "cell_type": "markdown",
   "id": "476a848a-77d7-4efc-840f-665a7cdc1857",
   "metadata": {},
   "source": [
    "## Initialization\n",
    "A Benchmark instance can be initialized with a list of datasets, models and metrics to run through. When invoking run(), it will train (if needed) and test every dataset on every model, and compute every metric on the predicted data.\n"
   ]
  },
  {
   "cell_type": "markdown",
   "id": "f5641c4a",
   "metadata": {},
   "source": [
    "### Preparing datasets\n",
    "\n",
    "Datasets submitted to a Benchmark must be of type TimeSeries, wrapped into BenchmarkDataset. BenchmarkDataset allows to give datasets a name, give training and test splits, and define how data will be split to perform a rolling evaluation."
   ]
  },
  {
   "cell_type": "code",
   "execution_count": 25,
   "id": "1177e73c",
   "metadata": {},
   "outputs": [],
   "source": [
    "from ontime.module.datasets.dataset import Dataset\n",
    "from darts.utils.missing_values import fill_missing_values # for filling missing values in the time series (for models that don't handle missing values)\n",
    "\n",
    "datasets = [\n",
    "    BenchmarkDataset(on.TimeSeries.from_darts(fill_missing_values(Dataset.TemperatureDataset.load())), input_length=96, gap=0, stride=96, horizon=24, name=\"Daily temperature\"),\n",
    "    BenchmarkDataset(on.TimeSeries.from_darts(fill_missing_values(Dataset.MonthlyMilkDataset.load())), input_length=24, gap=0, stride=24, horizon=2, name=\"Monthly milk production\", train_proportion=0.8),\n",
    "]"
   ]
  },
  {
   "cell_type": "markdown",
   "id": "30689a0a-9ed7-4eca-ab6e-6de1cb1c9e21",
   "metadata": {},
   "source": [
    "### Preparing models  \n",
    "\n",
    "Models are wrapped according to the AbstractBenchmarkModel interface. Wrappers implementing this interface will instanciate the model for each dataset.  \n",
    "In Ontime, some wrappers around darts models are provided. For specific models, whose wrappers are not provided, a custom wrapper can be written, implementing the AbstractBenchmarkModel interface.  \n",
    "A mode should be provided to the wrapper constructor, which will define how the model is evaluated. In can be either:\n",
    "- 'ZERO_SHOT': the model is not trained, and the evaluation is done on the test set. It is used for models that already has trained weights, available through checkpoints, or for some models from darts, where predictions are directly made using the fitted data as input."
   ]
  },
  {
   "cell_type": "code",
   "execution_count": 26,
   "id": "71c4bc47-8479-46f1-a4c4-7ad5478020f0",
   "metadata": {
    "ExecuteTime": {
     "end_time": "2024-06-24T06:55:56.084401800Z",
     "start_time": "2024-06-24T06:55:56.073910600Z"
    }
   },
   "outputs": [],
   "source": [
    "from ontime.core.time_series.time_series import TimeSeries\n",
    "from ontime.module.benchmarking.darts import SimpleDartsBenchmarkModel\n",
    "from typing import Any\n",
    "from darts.models import AutoARIMA, ExponentialSmoothing\n",
    "\n",
    "models = [\n",
    "    SimpleDartsBenchmarkModel(\"AutoARIMA\", model=AutoARIMA(start_p=8, max_p=12, start_q=1), mode=BenchmarkMode.ZERO_SHOT),\n",
    "    SimpleDartsBenchmarkModel(\"ExponentialSmoothing\", model=ExponentialSmoothing(), mode=BenchmarkMode.ZERO_SHOT),\n",
    "]"
   ]
  },
  {
   "cell_type": "markdown",
   "id": "fd484f03-399d-4e4e-9b7c-2462e6accbb9",
   "metadata": {},
   "source": [
    "### Preparing metrics\n",
    "Metrics must be given to the BenchmarkMetric constructor. If the function can't be invoked as is in BenchmarkMetric's implementation, a child class can be written and submitted."
   ]
  },
  {
   "cell_type": "code",
   "execution_count": 27,
   "id": "3bd6e05b-d86a-484a-bd28-7559b640c20f",
   "metadata": {
    "ExecuteTime": {
     "end_time": "2024-06-24T07:01:59.701881200Z",
     "start_time": "2024-06-24T07:01:59.693974700Z"
    }
   },
   "outputs": [],
   "source": [
    "import darts\n",
    "\n",
    "metrics = [\n",
    "   BenchmarkMetric(name=\"RMSE\", metric_function=darts.metrics.metrics.coefficient_of_variation),\n",
    "   BenchmarkMetric(name=\"MAE\", metric_function=darts.metrics.metrics.mae),\n",
    "]"
   ]
  },
  {
   "cell_type": "markdown",
   "id": "f1ce9193-2bd1-4859-b5c5-17a48cb4e0fa",
   "metadata": {},
   "source": [
    "## Creating and running a Benchmark"
   ]
  },
  {
   "cell_type": "code",
   "execution_count": 28,
   "id": "b99abb03-c3ee-4e19-87a7-c86e1b418a6b",
   "metadata": {
    "ExecuteTime": {
     "end_time": "2024-06-24T07:02:00.671042500Z",
     "start_time": "2024-06-24T07:02:00.650794500Z"
    }
   },
   "outputs": [],
   "source": [
    "benchmark = Benchmark(datasets=datasets,\n",
    "                      models=models, \n",
    "                      metrics=metrics)"
   ]
  },
  {
   "cell_type": "markdown",
   "id": "e7b7a83a-e878-4fbf-818a-3c70f73bcb05",
   "metadata": {},
   "source": [
    "Datasets, models and metrics can also be added after instanciation. This allows to name datasets."
   ]
  },
  {
   "cell_type": "code",
   "execution_count": 29,
   "id": "005d3bae-1fdb-4edd-91ba-0df918fae5fe",
   "metadata": {
    "ExecuteTime": {
     "end_time": "2024-06-24T07:02:01.526327100Z",
     "start_time": "2024-06-24T07:02:01.515552400Z"
    }
   },
   "outputs": [],
   "source": [
    "benchmark.add_dataset(BenchmarkDataset(Dataset.ETTh1Dataset.load(), input_length=1000, gap=0, stride=96, horizon=96, name = \"ETTh1\"))"
   ]
  },
  {
   "cell_type": "markdown",
   "id": "b86ec250-db58-4c10-b4e3-14c2b23bcf70",
   "metadata": {},
   "source": [
    "Once the models and datasets have been added, the run() method will train instances of all the models on all the datasets individually and compute metrics. The verbose parameter will print the status and results of the process as it progresses, and the debug parameter will print error messages (warnings are printed anyways)."
   ]
  },
  {
   "cell_type": "code",
   "execution_count": 30,
   "id": "e96d8811-efd0-4cb0-bf7c-a03364e05911",
   "metadata": {
    "ExecuteTime": {
     "end_time": "2024-06-24T07:02:58.799456800Z",
     "start_time": "2024-06-24T07:02:02.671394200Z"
    }
   },
   "outputs": [
    {
     "name": "stdout",
     "output_type": "stream",
     "text": [
      "Starting evaluation...\n",
      "Evaluation for model AutoARIMA\n",
      "on dataset Daily temperature\n",
      "testing... done, took 36.21504044532776\n",
      "getting predictions... Computed metrics: {'RMSE': 26.641847048151092, 'MAE': 2.3869256792441744}\n",
      "on dataset Monthly milk production\n",
      "testing... done, took 2.63100528717041\n",
      "getting predictions... Computed metrics: {'RMSE': 6.546880336744911, 'MAE': 42.87108187419369}\n",
      "on dataset ETTh1\n",
      "testing... "
     ]
    },
    {
     "name": "stderr",
     "output_type": "stream",
     "text": [
      "darts.models.forecasting.forecasting_model ERROR ValueError: Model `AutoARIMA` only supports univariate TimeSeries instances\n"
     ]
    },
    {
     "name": "stdout",
     "output_type": "stream",
     "text": [
      "Couldn't complete evaluation.\n",
      "Evaluation for model ExponentialSmoothing\n",
      "on dataset Daily temperature\n",
      "testing... done, took 1.1827118396759033\n",
      "getting predictions... Computed metrics: {'RMSE': 23.865682024876946, 'MAE': 2.1524183769911573}\n",
      "on dataset Monthly milk production\n",
      "testing... done, took 0.08522582054138184\n",
      "getting predictions... Computed metrics: {'RMSE': 0.26974472413569617, 'MAE': 2.2499863752185547}\n",
      "on dataset ETTh1\n",
      "testing... "
     ]
    },
    {
     "name": "stderr",
     "output_type": "stream",
     "text": [
      "darts.models.forecasting.forecasting_model ERROR ValueError: Model `ExponentialSmoothing` only supports univariate TimeSeries instances\n"
     ]
    },
    {
     "name": "stdout",
     "output_type": "stream",
     "text": [
      "Couldn't complete evaluation.\n"
     ]
    }
   ],
   "source": [
    "benchmark.run(verbose=True)"
   ]
  },
  {
   "cell_type": "markdown",
   "id": "04a22d7c",
   "metadata": {},
   "source": [
    "## Visualizing results\n",
    "\n",
    "The benchmark automatically stores measures and metrics computed during the run, available through class attributes."
   ]
  },
  {
   "cell_type": "markdown",
   "id": "d4038313-7cf4-480d-8d3c-fd030e100da3",
   "metadata": {},
   "source": [
    "### Measures and metrics\n",
    "To view the results, you can call get_report() and print the returned value"
   ]
  },
  {
   "cell_type": "code",
   "execution_count": 31,
   "id": "35b9b732-bd80-426f-a8bb-134f06bf1a3b",
   "metadata": {
    "ExecuteTime": {
     "end_time": "2024-06-24T07:04:00.885598500Z",
     "start_time": "2024-06-24T07:04:00.878375900Z"
    },
    "scrolled": true
   },
   "outputs": [
    {
     "name": "stdout",
     "output_type": "stream",
     "text": [
      "Model AutoARIMA:\n",
      "Supported univariate datasets: ✓\n",
      "Supported multivariate datasets: X\n",
      "Dataset Daily temperature:\n",
      "nb features: 1\n",
      "target column: ['Daily minimum temperatures']\n",
      "training set size: 2555\n",
      "training time: 0\n",
      "test set size: 1097\n",
      "testing time: 36.21504044532776\n",
      "metrics: {'RMSE': 26.641847048151092, 'MAE': 2.3869256792441744}\n",
      "Dataset Monthly milk production:\n",
      "nb features: 1\n",
      "target column: ['Pounds per cow']\n",
      "training set size: 133\n",
      "training time: 0\n",
      "test set size: 35\n",
      "testing time: 2.63100528717041\n",
      "metrics: {'RMSE': 6.546880336744911, 'MAE': 42.87108187419369}\n",
      "Dataset ETTh1:\n",
      "couldn't complete training on ETTh1\n",
      "\n",
      "\n",
      "Model ExponentialSmoothing:\n",
      "Supported univariate datasets: ✓\n",
      "Supported multivariate datasets: X\n",
      "Dataset Daily temperature:\n",
      "nb features: 1\n",
      "target column: ['Daily minimum temperatures']\n",
      "training set size: 2555\n",
      "training time: 0\n",
      "test set size: 1097\n",
      "testing time: 1.1827118396759033\n",
      "metrics: {'RMSE': 23.865682024876946, 'MAE': 2.1524183769911573}\n",
      "Dataset Monthly milk production:\n",
      "nb features: 1\n",
      "target column: ['Pounds per cow']\n",
      "training set size: 133\n",
      "training time: 0\n",
      "test set size: 35\n",
      "testing time: 0.08522582054138184\n",
      "metrics: {'RMSE': 0.26974472413569617, 'MAE': 2.2499863752185547}\n",
      "Dataset ETTh1:\n",
      "couldn't complete training on ETTh1\n",
      "\n"
     ]
    }
   ],
   "source": [
    "print(benchmark.get_report())"
   ]
  },
  {
   "cell_type": "markdown",
   "id": "a0852085-874e-4583-9f91-1efcb486fbcb",
   "metadata": {},
   "source": [
    "You can also get results as dataframes by calling get_report_df(). The results are then returned as a dataframe with model names as columns, dataset names as main rows, and measure as sub rows."
   ]
  },
  {
   "cell_type": "code",
   "execution_count": 32,
   "id": "687a0b79-ff02-4bde-aff7-6d6ccd5e7d40",
   "metadata": {
    "ExecuteTime": {
     "end_time": "2024-06-24T07:04:03.237516900Z",
     "start_time": "2024-06-24T07:04:03.207950400Z"
    }
   },
   "outputs": [
    {
     "data": {
      "text/html": [
       "<div>\n",
       "<style scoped>\n",
       "    .dataframe tbody tr th:only-of-type {\n",
       "        vertical-align: middle;\n",
       "    }\n",
       "\n",
       "    .dataframe tbody tr th {\n",
       "        vertical-align: top;\n",
       "    }\n",
       "\n",
       "    .dataframe thead th {\n",
       "        text-align: right;\n",
       "    }\n",
       "</style>\n",
       "<table border=\"1\" class=\"dataframe\">\n",
       "  <thead>\n",
       "    <tr style=\"text-align: right;\">\n",
       "      <th></th>\n",
       "      <th>AutoARIMA</th>\n",
       "      <th>ExponentialSmoothing</th>\n",
       "    </tr>\n",
       "    <tr>\n",
       "      <th>Statistic</th>\n",
       "      <th></th>\n",
       "      <th></th>\n",
       "    </tr>\n",
       "  </thead>\n",
       "  <tbody>\n",
       "    <tr>\n",
       "      <th>supports univariate</th>\n",
       "      <td>✓</td>\n",
       "      <td>✓</td>\n",
       "    </tr>\n",
       "    <tr>\n",
       "      <th>supports multivariate</th>\n",
       "      <td>X</td>\n",
       "      <td>X</td>\n",
       "    </tr>\n",
       "  </tbody>\n",
       "</table>\n",
       "</div>"
      ],
      "text/plain": [
       "                      AutoARIMA ExponentialSmoothing\n",
       "Statistic                                           \n",
       "supports univariate           ✓                    ✓\n",
       "supports multivariate         X                    X"
      ]
     },
     "execution_count": 32,
     "metadata": {},
     "output_type": "execute_result"
    }
   ],
   "source": [
    "df_1, df_2 = benchmark.get_report_df()\n",
    "df_1"
   ]
  },
  {
   "cell_type": "code",
   "execution_count": 33,
   "id": "a113a1a8-6988-4440-9afc-c4e9b5e6f898",
   "metadata": {},
   "outputs": [
    {
     "data": {
      "text/html": [
       "<div>\n",
       "<style scoped>\n",
       "    .dataframe tbody tr th:only-of-type {\n",
       "        vertical-align: middle;\n",
       "    }\n",
       "\n",
       "    .dataframe tbody tr th {\n",
       "        vertical-align: top;\n",
       "    }\n",
       "\n",
       "    .dataframe thead th {\n",
       "        text-align: right;\n",
       "    }\n",
       "</style>\n",
       "<table border=\"1\" class=\"dataframe\">\n",
       "  <thead>\n",
       "    <tr style=\"text-align: right;\">\n",
       "      <th></th>\n",
       "      <th></th>\n",
       "      <th>AutoARIMA</th>\n",
       "      <th>ExponentialSmoothing</th>\n",
       "    </tr>\n",
       "    <tr>\n",
       "      <th>Dataset</th>\n",
       "      <th>Metric</th>\n",
       "      <th></th>\n",
       "      <th></th>\n",
       "    </tr>\n",
       "  </thead>\n",
       "  <tbody>\n",
       "    <tr>\n",
       "      <th rowspan=\"4\" valign=\"top\">Daily temperature</th>\n",
       "      <th>training time</th>\n",
       "      <td>0.000000</td>\n",
       "      <td>0.000000</td>\n",
       "    </tr>\n",
       "    <tr>\n",
       "      <th>testing time</th>\n",
       "      <td>36.215040</td>\n",
       "      <td>1.182712</td>\n",
       "    </tr>\n",
       "    <tr>\n",
       "      <th>RMSE</th>\n",
       "      <td>26.641847</td>\n",
       "      <td>23.865682</td>\n",
       "    </tr>\n",
       "    <tr>\n",
       "      <th>MAE</th>\n",
       "      <td>2.386926</td>\n",
       "      <td>2.152418</td>\n",
       "    </tr>\n",
       "    <tr>\n",
       "      <th rowspan=\"4\" valign=\"top\">Monthly milk production</th>\n",
       "      <th>training time</th>\n",
       "      <td>0.000000</td>\n",
       "      <td>0.000000</td>\n",
       "    </tr>\n",
       "    <tr>\n",
       "      <th>testing time</th>\n",
       "      <td>2.631005</td>\n",
       "      <td>0.085226</td>\n",
       "    </tr>\n",
       "    <tr>\n",
       "      <th>RMSE</th>\n",
       "      <td>6.546880</td>\n",
       "      <td>0.269745</td>\n",
       "    </tr>\n",
       "    <tr>\n",
       "      <th>MAE</th>\n",
       "      <td>42.871082</td>\n",
       "      <td>2.249986</td>\n",
       "    </tr>\n",
       "  </tbody>\n",
       "</table>\n",
       "</div>"
      ],
      "text/plain": [
       "                                       AutoARIMA  ExponentialSmoothing\n",
       "Dataset                 Metric                                        \n",
       "Daily temperature       training time   0.000000              0.000000\n",
       "                        testing time   36.215040              1.182712\n",
       "                        RMSE           26.641847             23.865682\n",
       "                        MAE             2.386926              2.152418\n",
       "Monthly milk production training time   0.000000              0.000000\n",
       "                        testing time    2.631005              0.085226\n",
       "                        RMSE            6.546880              0.269745\n",
       "                        MAE            42.871082              2.249986"
      ]
     },
     "execution_count": 33,
     "metadata": {},
     "output_type": "execute_result"
    }
   ],
   "source": [
    "df_2"
   ]
  },
  {
   "cell_type": "markdown",
   "id": "35d12a40",
   "metadata": {},
   "source": [
    "### Plotting\n",
    "\n",
    "By default (argument `nb_predictions` of `benchmark.run()` method), the benchmark will generate a prediction for one random input sample of each dataset with each model. The predictions, along input and target series, are stored in a dictionnary and can be retrieved by calling `benchmark.get_predictions()`. The predictions can be plotted using the `plot_predictions` method."
   ]
  },
  {
   "cell_type": "code",
   "execution_count": 34,
   "id": "622c8342",
   "metadata": {},
   "outputs": [],
   "source": [
    "predictions = benchmark.get_predictions()"
   ]
  },
  {
   "cell_type": "code",
   "execution_count": 35,
   "id": "6c87c037",
   "metadata": {},
   "outputs": [],
   "source": [
    "# currently, Ontime plotting module needs the time index to be named 'time'\n",
    "def rename_index(ts, name='time'):\n",
    "    df = ts.pd_dataframe()\n",
    "    df.rename_axis(name, inplace=True)\n",
    "    return TimeSeries.from_dataframe(df)"
   ]
  },
  {
   "cell_type": "code",
   "execution_count": 36,
   "id": "9e46a81e",
   "metadata": {},
   "outputs": [],
   "source": [
    "input = rename_index(predictions['inputs']['Daily temperature'][0]).rename({'Daily minimum temperatures': 'input'})\n",
    "target = rename_index(predictions['targets']['Daily temperature'][0]).rename({'Daily minimum temperatures': 'target'})\n",
    "prediction = rename_index(predictions['predictions']['AutoARIMA']['Daily temperature'][0]).rename({'Daily minimum temperatures': 'prediction'})"
   ]
  },
  {
   "cell_type": "code",
   "execution_count": 37,
   "id": "da7935d5",
   "metadata": {},
   "outputs": [
    {
     "data": {
      "text/html": [
       "\n",
       "<style>\n",
       "  #altair-viz-830cf836da1d4904b596253bb45542bb.vega-embed {\n",
       "    width: 100%;\n",
       "    display: flex;\n",
       "  }\n",
       "\n",
       "  #altair-viz-830cf836da1d4904b596253bb45542bb.vega-embed details,\n",
       "  #altair-viz-830cf836da1d4904b596253bb45542bb.vega-embed details summary {\n",
       "    position: relative;\n",
       "  }\n",
       "</style>\n",
       "<div id=\"altair-viz-830cf836da1d4904b596253bb45542bb\"></div>\n",
       "<script type=\"text/javascript\">\n",
       "  var VEGA_DEBUG = (typeof VEGA_DEBUG == \"undefined\") ? {} : VEGA_DEBUG;\n",
       "  (function(spec, embedOpt){\n",
       "    let outputDiv = document.currentScript.previousElementSibling;\n",
       "    if (outputDiv.id !== \"altair-viz-830cf836da1d4904b596253bb45542bb\") {\n",
       "      outputDiv = document.getElementById(\"altair-viz-830cf836da1d4904b596253bb45542bb\");\n",
       "    }\n",
       "    const paths = {\n",
       "      \"vega\": \"https://cdn.jsdelivr.net/npm/vega@5?noext\",\n",
       "      \"vega-lib\": \"https://cdn.jsdelivr.net/npm/vega-lib?noext\",\n",
       "      \"vega-lite\": \"https://cdn.jsdelivr.net/npm/vega-lite@5.20.1?noext\",\n",
       "      \"vega-embed\": \"https://cdn.jsdelivr.net/npm/vega-embed@6?noext\",\n",
       "    };\n",
       "\n",
       "    function maybeLoadScript(lib, version) {\n",
       "      var key = `${lib.replace(\"-\", \"\")}_version`;\n",
       "      return (VEGA_DEBUG[key] == version) ?\n",
       "        Promise.resolve(paths[lib]) :\n",
       "        new Promise(function(resolve, reject) {\n",
       "          var s = document.createElement('script');\n",
       "          document.getElementsByTagName(\"head\")[0].appendChild(s);\n",
       "          s.async = true;\n",
       "          s.onload = () => {\n",
       "            VEGA_DEBUG[key] = version;\n",
       "            return resolve(paths[lib]);\n",
       "          };\n",
       "          s.onerror = () => reject(`Error loading script: ${paths[lib]}`);\n",
       "          s.src = paths[lib];\n",
       "        });\n",
       "    }\n",
       "\n",
       "    function showError(err) {\n",
       "      outputDiv.innerHTML = `<div class=\"error\" style=\"color:red;\">${err}</div>`;\n",
       "      throw err;\n",
       "    }\n",
       "\n",
       "    function displayChart(vegaEmbed) {\n",
       "      vegaEmbed(outputDiv, spec, embedOpt)\n",
       "        .catch(err => showError(`Javascript Error: ${err.message}<br>This usually means there's a typo in your chart specification. See the javascript console for the full traceback.`));\n",
       "    }\n",
       "\n",
       "    if(typeof define === \"function\" && define.amd) {\n",
       "      requirejs.config({paths});\n",
       "      require([\"vega-embed\"], displayChart, err => showError(`Error loading script: ${err.message}`));\n",
       "    } else {\n",
       "      maybeLoadScript(\"vega\", \"5\")\n",
       "        .then(() => maybeLoadScript(\"vega-lite\", \"5.20.1\"))\n",
       "        .then(() => maybeLoadScript(\"vega-embed\", \"6\"))\n",
       "        .catch(showError)\n",
       "        .then(() => displayChart(vegaEmbed));\n",
       "    }\n",
       "  })({\"$schema\": \"https://vega.github.io/schema/vega/v5.json\", \"data\": [{\"name\": \"source_0\", \"values\": [{\"time\": \"1989-01-18T00:00:00.000\", \"variable\": \"input\", \"value\": 13.9}, {\"time\": \"1989-01-19T00:00:00.000\", \"variable\": \"input\", \"value\": 13.1}, {\"time\": \"1989-01-20T00:00:00.000\", \"variable\": \"input\", \"value\": 16.0}, {\"time\": \"1989-01-21T00:00:00.000\", \"variable\": \"input\", \"value\": 14.5}, {\"time\": \"1989-01-22T00:00:00.000\", \"variable\": \"input\", \"value\": 15.0}, {\"time\": \"1989-01-23T00:00:00.000\", \"variable\": \"input\", \"value\": 12.6}, {\"time\": \"1989-01-24T00:00:00.000\", \"variable\": \"input\", \"value\": 12.5}, {\"time\": \"1989-01-25T00:00:00.000\", \"variable\": \"input\", \"value\": 15.2}, {\"time\": \"1989-01-26T00:00:00.000\", \"variable\": \"input\", \"value\": 16.2}, {\"time\": \"1989-01-27T00:00:00.000\", \"variable\": \"input\", \"value\": 16.5}, {\"time\": \"1989-01-28T00:00:00.000\", \"variable\": \"input\", \"value\": 20.1}, {\"time\": \"1989-01-29T00:00:00.000\", \"variable\": \"input\", \"value\": 20.6}, {\"time\": \"1989-01-30T00:00:00.000\", \"variable\": \"input\", \"value\": 16.9}, {\"time\": \"1989-01-31T00:00:00.000\", \"variable\": \"input\", \"value\": 16.5}, {\"time\": \"1989-02-01T00:00:00.000\", \"variable\": \"input\", \"value\": 16.1}, {\"time\": \"1989-02-02T00:00:00.000\", \"variable\": \"input\", \"value\": 14.4}, {\"time\": \"1989-02-03T00:00:00.000\", \"variable\": \"input\", \"value\": 16.3}, {\"time\": \"1989-02-04T00:00:00.000\", \"variable\": \"input\", \"value\": 15.7}, {\"time\": \"1989-02-05T00:00:00.000\", \"variable\": \"input\", \"value\": 14.2}, {\"time\": \"1989-02-06T00:00:00.000\", \"variable\": \"input\", \"value\": 13.2}, {\"time\": \"1989-02-07T00:00:00.000\", \"variable\": \"input\", \"value\": 16.8}, {\"time\": \"1989-02-08T00:00:00.000\", \"variable\": \"input\", \"value\": 18.5}, {\"time\": \"1989-02-09T00:00:00.000\", \"variable\": \"input\", \"value\": 16.7}, {\"time\": \"1989-02-10T00:00:00.000\", \"variable\": \"input\", \"value\": 15.3}, {\"time\": \"1989-02-11T00:00:00.000\", \"variable\": \"input\", \"value\": 15.9}, {\"time\": \"1989-02-12T00:00:00.000\", \"variable\": \"input\", \"value\": 15.2}, {\"time\": \"1989-02-13T00:00:00.000\", \"variable\": \"input\", \"value\": 17.5}, {\"time\": \"1989-02-14T00:00:00.000\", \"variable\": \"input\", \"value\": 18.3}, {\"time\": \"1989-02-15T00:00:00.000\", \"variable\": \"input\", \"value\": 19.4}, {\"time\": \"1989-02-16T00:00:00.000\", \"variable\": \"input\", \"value\": 19.4}, {\"time\": \"1989-02-17T00:00:00.000\", \"variable\": \"input\", \"value\": 19.5}, {\"time\": \"1989-02-18T00:00:00.000\", \"variable\": \"input\", \"value\": 20.5}, {\"time\": \"1989-02-19T00:00:00.000\", \"variable\": \"input\", \"value\": 15.7}, {\"time\": \"1989-02-20T00:00:00.000\", \"variable\": \"input\", \"value\": 15.0}, {\"time\": \"1989-02-21T00:00:00.000\", \"variable\": \"input\", \"value\": 16.1}, {\"time\": \"1989-02-22T00:00:00.000\", \"variable\": \"input\", \"value\": 14.3}, {\"time\": \"1989-02-23T00:00:00.000\", \"variable\": \"input\", \"value\": 13.0}, {\"time\": \"1989-02-24T00:00:00.000\", \"variable\": \"input\", \"value\": 16.2}, {\"time\": \"1989-02-25T00:00:00.000\", \"variable\": \"input\", \"value\": 17.7}, {\"time\": \"1989-02-26T00:00:00.000\", \"variable\": \"input\", \"value\": 13.2}, {\"time\": \"1989-02-27T00:00:00.000\", \"variable\": \"input\", \"value\": 15.8}, {\"time\": \"1989-02-28T00:00:00.000\", \"variable\": \"input\", \"value\": 18.5}, {\"time\": \"1989-03-01T00:00:00.000\", \"variable\": \"input\", \"value\": 20.4}, {\"time\": \"1989-03-02T00:00:00.000\", \"variable\": \"input\", \"value\": 22.0}, {\"time\": \"1989-03-03T00:00:00.000\", \"variable\": \"input\", \"value\": 19.7}, {\"time\": \"1989-03-04T00:00:00.000\", \"variable\": \"input\", \"value\": 19.6}, {\"time\": \"1989-03-05T00:00:00.000\", \"variable\": \"input\", \"value\": 20.3}, {\"time\": \"1989-03-06T00:00:00.000\", \"variable\": \"input\", \"value\": 18.3}, {\"time\": \"1989-03-07T00:00:00.000\", \"variable\": \"input\", \"value\": 18.9}, {\"time\": \"1989-03-08T00:00:00.000\", \"variable\": \"input\", \"value\": 20.3}, {\"time\": \"1989-03-09T00:00:00.000\", \"variable\": \"input\", \"value\": 21.4}, {\"time\": \"1989-03-10T00:00:00.000\", \"variable\": \"input\", \"value\": 18.3}, {\"time\": \"1989-03-11T00:00:00.000\", \"variable\": \"input\", \"value\": 17.8}, {\"time\": \"1989-03-12T00:00:00.000\", \"variable\": \"input\", \"value\": 17.7}, {\"time\": \"1989-03-13T00:00:00.000\", \"variable\": \"input\", \"value\": 12.8}, {\"time\": \"1989-03-14T00:00:00.000\", \"variable\": \"input\", \"value\": 15.1}, {\"time\": \"1989-03-15T00:00:00.000\", \"variable\": \"input\", \"value\": 15.0}, {\"time\": \"1989-03-16T00:00:00.000\", \"variable\": \"input\", \"value\": 14.8}, {\"time\": \"1989-03-17T00:00:00.000\", \"variable\": \"input\", \"value\": 12.0}, {\"time\": \"1989-03-18T00:00:00.000\", \"variable\": \"input\", \"value\": 12.5}, {\"time\": \"1989-03-19T00:00:00.000\", \"variable\": \"input\", \"value\": 15.0}, {\"time\": \"1989-03-20T00:00:00.000\", \"variable\": \"input\", \"value\": 17.1}, {\"time\": \"1989-03-21T00:00:00.000\", \"variable\": \"input\", \"value\": 17.3}, {\"time\": \"1989-03-22T00:00:00.000\", \"variable\": \"input\", \"value\": 16.9}, {\"time\": \"1989-03-23T00:00:00.000\", \"variable\": \"input\", \"value\": 16.5}, {\"time\": \"1989-03-24T00:00:00.000\", \"variable\": \"input\", \"value\": 13.6}, {\"time\": \"1989-03-25T00:00:00.000\", \"variable\": \"input\", \"value\": 13.2}, {\"time\": \"1989-03-26T00:00:00.000\", \"variable\": \"input\", \"value\": 9.4}, {\"time\": \"1989-03-27T00:00:00.000\", \"variable\": \"input\", \"value\": 9.5}, {\"time\": \"1989-03-28T00:00:00.000\", \"variable\": \"input\", \"value\": 11.8}, {\"time\": \"1989-03-29T00:00:00.000\", \"variable\": \"input\", \"value\": 10.4}, {\"time\": \"1989-03-30T00:00:00.000\", \"variable\": \"input\", \"value\": 9.7}, {\"time\": \"1989-03-31T00:00:00.000\", \"variable\": \"input\", \"value\": 12.6}, {\"time\": \"1989-04-01T00:00:00.000\", \"variable\": \"input\", \"value\": 13.3}, {\"time\": \"1989-04-02T00:00:00.000\", \"variable\": \"input\", \"value\": 15.1}, {\"time\": \"1989-04-03T00:00:00.000\", \"variable\": \"input\", \"value\": 14.2}, {\"time\": \"1989-04-04T00:00:00.000\", \"variable\": \"input\", \"value\": 14.2}, {\"time\": \"1989-04-05T00:00:00.000\", \"variable\": \"input\", \"value\": 19.2}, {\"time\": \"1989-04-06T00:00:00.000\", \"variable\": \"input\", \"value\": 12.6}, {\"time\": \"1989-04-07T00:00:00.000\", \"variable\": \"input\", \"value\": 14.2}, {\"time\": \"1989-04-08T00:00:00.000\", \"variable\": \"input\", \"value\": 11.9}, {\"time\": \"1989-04-09T00:00:00.000\", \"variable\": \"input\", \"value\": 13.9}, {\"time\": \"1989-04-10T00:00:00.000\", \"variable\": \"input\", \"value\": 13.5}, {\"time\": \"1989-04-11T00:00:00.000\", \"variable\": \"input\", \"value\": 15.3}, {\"time\": \"1989-04-12T00:00:00.000\", \"variable\": \"input\", \"value\": 13.9}, {\"time\": \"1989-04-13T00:00:00.000\", \"variable\": \"input\", \"value\": 14.0}, {\"time\": \"1989-04-14T00:00:00.000\", \"variable\": \"input\", \"value\": 12.9}, {\"time\": \"1989-04-15T00:00:00.000\", \"variable\": \"input\", \"value\": 8.5}, {\"time\": \"1989-04-16T00:00:00.000\", \"variable\": \"input\", \"value\": 11.4}, {\"time\": \"1989-04-17T00:00:00.000\", \"variable\": \"input\", \"value\": 10.9}, {\"time\": \"1989-04-18T00:00:00.000\", \"variable\": \"input\", \"value\": 12.0}, {\"time\": \"1989-04-19T00:00:00.000\", \"variable\": \"input\", \"value\": 8.6}, {\"time\": \"1989-04-20T00:00:00.000\", \"variable\": \"input\", \"value\": 9.0}, {\"time\": \"1989-04-21T00:00:00.000\", \"variable\": \"input\", \"value\": 9.6}, {\"time\": \"1989-04-22T00:00:00.000\", \"variable\": \"input\", \"value\": 10.2}, {\"time\": \"1989-04-23T00:00:00.000\", \"variable\": \"input\", \"value\": 9.8}], \"transform\": [{\"type\": \"formula\", \"expr\": \"toDate(datum['time'])\", \"as\": \"time\"}]}, {\"name\": \"source_1\", \"values\": [{\"time\": \"1989-04-24T00:00:00.000\", \"variable\": \"target\", \"value\": 8.3}, {\"time\": \"1989-04-25T00:00:00.000\", \"variable\": \"target\", \"value\": 11.0}, {\"time\": \"1989-04-26T00:00:00.000\", \"variable\": \"target\", \"value\": 11.9}, {\"time\": \"1989-04-27T00:00:00.000\", \"variable\": \"target\", \"value\": 14.0}, {\"time\": \"1989-04-28T00:00:00.000\", \"variable\": \"target\", \"value\": 15.8}, {\"time\": \"1989-04-29T00:00:00.000\", \"variable\": \"target\", \"value\": 14.5}, {\"time\": \"1989-04-30T00:00:00.000\", \"variable\": \"target\", \"value\": 13.2}, {\"time\": \"1989-05-01T00:00:00.000\", \"variable\": \"target\", \"value\": 14.2}, {\"time\": \"1989-05-02T00:00:00.000\", \"variable\": \"target\", \"value\": 14.6}, {\"time\": \"1989-05-03T00:00:00.000\", \"variable\": \"target\", \"value\": 11.8}, {\"time\": \"1989-05-04T00:00:00.000\", \"variable\": \"target\", \"value\": 14.4}, {\"time\": \"1989-05-05T00:00:00.000\", \"variable\": \"target\", \"value\": 10.4}, {\"time\": \"1989-05-06T00:00:00.000\", \"variable\": \"target\", \"value\": 10.3}, {\"time\": \"1989-05-07T00:00:00.000\", \"variable\": \"target\", \"value\": 10.8}, {\"time\": \"1989-05-08T00:00:00.000\", \"variable\": \"target\", \"value\": 10.5}, {\"time\": \"1989-05-09T00:00:00.000\", \"variable\": \"target\", \"value\": 9.5}, {\"time\": \"1989-05-10T00:00:00.000\", \"variable\": \"target\", \"value\": 12.5}, {\"time\": \"1989-05-11T00:00:00.000\", \"variable\": \"target\", \"value\": 13.7}, {\"time\": \"1989-05-12T00:00:00.000\", \"variable\": \"target\", \"value\": 12.7}, {\"time\": \"1989-05-13T00:00:00.000\", \"variable\": \"target\", \"value\": 11.9}, {\"time\": \"1989-05-14T00:00:00.000\", \"variable\": \"target\", \"value\": 11.4}, {\"time\": \"1989-05-15T00:00:00.000\", \"variable\": \"target\", \"value\": 9.7}, {\"time\": \"1989-05-16T00:00:00.000\", \"variable\": \"target\", \"value\": 8.3}, {\"time\": \"1989-05-17T00:00:00.000\", \"variable\": \"target\", \"value\": 8.1}], \"transform\": [{\"type\": \"formula\", \"expr\": \"toDate(datum['time'])\", \"as\": \"time\"}]}, {\"name\": \"source_2\", \"values\": [{\"time\": \"1989-04-24T00:00:00.000\", \"variable\": \"prediction\", \"value\": 10.28403541394637}, {\"time\": \"1989-04-25T00:00:00.000\", \"variable\": \"prediction\", \"value\": 10.595852065208653}, {\"time\": \"1989-04-26T00:00:00.000\", \"variable\": \"prediction\", \"value\": 10.796725020374694}, {\"time\": \"1989-04-27T00:00:00.000\", \"variable\": \"prediction\", \"value\": 10.926127808692108}, {\"time\": \"1989-04-28T00:00:00.000\", \"variable\": \"prediction\", \"value\": 11.009489362319275}, {\"time\": \"1989-04-29T00:00:00.000\", \"variable\": \"prediction\", \"value\": 11.063191053863118}, {\"time\": \"1989-04-30T00:00:00.000\", \"variable\": \"prediction\", \"value\": 11.097785798672795}, {\"time\": \"1989-05-01T00:00:00.000\", \"variable\": \"prediction\", \"value\": 11.120071807437894}, {\"time\": \"1989-05-02T00:00:00.000\", \"variable\": \"prediction\", \"value\": 11.134428502057567}, {\"time\": \"1989-05-03T00:00:00.000\", \"variable\": \"prediction\", \"value\": 11.143677115507156}, {\"time\": \"1989-05-04T00:00:00.000\", \"variable\": \"prediction\", \"value\": 11.149635092117085}, {\"time\": \"1989-05-05T00:00:00.000\", \"variable\": \"prediction\", \"value\": 11.153473233420964}, {\"time\": \"1989-05-06T00:00:00.000\", \"variable\": \"prediction\", \"value\": 11.15594577227652}, {\"time\": \"1989-05-07T00:00:00.000\", \"variable\": \"prediction\", \"value\": 11.157538587107503}, {\"time\": \"1989-05-08T00:00:00.000\", \"variable\": \"prediction\", \"value\": 11.158564681836046}, {\"time\": \"1989-05-09T00:00:00.000\", \"variable\": \"prediction\", \"value\": 11.159225694259751}, {\"time\": \"1989-05-10T00:00:00.000\", \"variable\": \"prediction\", \"value\": 11.159651519880075}, {\"time\": \"1989-05-11T00:00:00.000\", \"variable\": \"prediction\", \"value\": 11.159925837657505}, {\"time\": \"1989-05-12T00:00:00.000\", \"variable\": \"prediction\", \"value\": 11.160102553757765}, {\"time\": \"1989-05-13T00:00:00.000\", \"variable\": \"prediction\", \"value\": 11.160216394648367}, {\"time\": \"1989-05-14T00:00:00.000\", \"variable\": \"prediction\", \"value\": 11.160289731194128}, {\"time\": \"1989-05-15T00:00:00.000\", \"variable\": \"prediction\", \"value\": 11.160336974754115}, {\"time\": \"1989-05-16T00:00:00.000\", \"variable\": \"prediction\", \"value\": 11.16036740915673}, {\"time\": \"1989-05-17T00:00:00.000\", \"variable\": \"prediction\", \"value\": 11.160387015064137}], \"transform\": [{\"type\": \"formula\", \"expr\": \"toDate(datum['time'])\", \"as\": \"time\"}]}, {\"name\": \"source_0_color_domain_variable_0\", \"values\": [{\"variable\": \"input\"}]}, {\"name\": \"source_1_color_domain_variable_1\", \"values\": [{\"variable\": \"target\"}]}, {\"name\": \"source_2_color_domain_variable_2\", \"values\": [{\"variable\": \"prediction\"}]}], \"marks\": [{\"type\": \"group\", \"name\": \"layer_0_pathgroup\", \"from\": {\"facet\": {\"data\": \"source_0\", \"name\": \"faceted_path_layer_0_main\", \"groupby\": [\"variable\"]}}, \"encode\": {\"update\": {\"height\": {\"field\": {\"signal\": null, \"datum\": null, \"group\": \"height\", \"parent\": null}}, \"width\": {\"field\": {\"signal\": null, \"datum\": null, \"group\": \"width\", \"parent\": null}}}}, \"marks\": [{\"type\": \"line\", \"name\": \"layer_0_marks\", \"from\": {\"data\": \"faceted_path_layer_0_main\"}, \"sort\": {\"field\": \"x\"}, \"encode\": {\"update\": {\"x\": {\"field\": \"time\", \"scale\": \"x\"}, \"defined\": {\"signal\": \"isValid(datum[\\\"time\\\"]) && isFinite(+datum[\\\"time\\\"]) && isValid(datum[\\\"value\\\"]) && isFinite(+datum[\\\"value\\\"])\"}, \"stroke\": {\"field\": \"variable\", \"scale\": \"color\"}, \"y\": {\"field\": \"value\", \"scale\": \"y\"}}}, \"style\": [\"line\"]}]}, {\"type\": \"group\", \"name\": \"layer_1_pathgroup\", \"from\": {\"facet\": {\"data\": \"source_1\", \"name\": \"faceted_path_layer_1_main\", \"groupby\": [\"variable\"]}}, \"encode\": {\"update\": {\"height\": {\"field\": {\"signal\": null, \"datum\": null, \"group\": \"height\", \"parent\": null}}, \"width\": {\"field\": {\"signal\": null, \"datum\": null, \"group\": \"width\", \"parent\": null}}}}, \"marks\": [{\"type\": \"line\", \"name\": \"layer_1_marks\", \"from\": {\"data\": \"faceted_path_layer_1_main\"}, \"sort\": {\"field\": \"x\"}, \"encode\": {\"update\": {\"stroke\": {\"field\": \"variable\", \"scale\": \"color\"}, \"x\": {\"field\": \"time\", \"scale\": \"x\"}, \"y\": {\"field\": \"value\", \"scale\": \"y\"}, \"defined\": {\"signal\": \"isValid(datum[\\\"time\\\"]) && isFinite(+datum[\\\"time\\\"]) && isValid(datum[\\\"value\\\"]) && isFinite(+datum[\\\"value\\\"])\"}}}, \"style\": [\"line\"]}]}, {\"type\": \"group\", \"name\": \"layer_2_pathgroup\", \"from\": {\"facet\": {\"data\": \"source_2\", \"name\": \"faceted_path_layer_2_main\", \"groupby\": [\"variable\"]}}, \"encode\": {\"update\": {\"width\": {\"field\": {\"signal\": null, \"datum\": null, \"group\": \"width\", \"parent\": null}}, \"height\": {\"field\": {\"signal\": null, \"datum\": null, \"group\": \"height\", \"parent\": null}}}}, \"marks\": [{\"type\": \"line\", \"name\": \"layer_2_marks\", \"from\": {\"data\": \"faceted_path_layer_2_main\"}, \"sort\": {\"field\": \"x\"}, \"encode\": {\"update\": {\"stroke\": {\"field\": \"variable\", \"scale\": \"color\"}, \"opacity\": {\"value\": 0.7}, \"strokeDash\": {\"value\": [5, 2]}, \"defined\": {\"signal\": \"isValid(datum[\\\"time\\\"]) && isFinite(+datum[\\\"time\\\"]) && isValid(datum[\\\"value\\\"]) && isFinite(+datum[\\\"value\\\"])\"}, \"y\": {\"field\": \"value\", \"scale\": \"y\"}, \"x\": {\"field\": \"time\", \"scale\": \"x\"}}}, \"style\": [\"line\"]}]}], \"scales\": [{\"name\": \"x\", \"type\": \"time\", \"domain\": {\"fields\": [{\"data\": \"source_0\", \"field\": \"time\"}, {\"data\": \"source_1\", \"field\": \"time\"}, {\"data\": \"source_2\", \"field\": \"time\"}]}, \"range\": [0, {\"signal\": \"width\"}]}, {\"name\": \"y\", \"type\": \"linear\", \"domain\": {\"fields\": [{\"data\": \"source_0\", \"field\": \"value\"}, {\"data\": \"source_1\", \"field\": \"value\"}, {\"data\": \"source_2\", \"field\": \"value\"}]}, \"range\": [{\"signal\": \"height\"}, 0], \"zero\": true, \"nice\": true}, {\"name\": \"color\", \"type\": \"ordinal\", \"domain\": {\"fields\": [{\"data\": \"source_0_color_domain_variable_0\", \"field\": \"variable\"}, {\"data\": \"source_1_color_domain_variable_1\", \"field\": \"variable\"}, {\"data\": \"source_2_color_domain_variable_2\", \"field\": \"variable\"}], \"sort\": true}, \"range\": \"category\"}], \"axes\": [{\"scale\": \"x\", \"grid\": true, \"domain\": false, \"labels\": false, \"maxExtent\": 0, \"orient\": \"bottom\", \"aria\": false, \"minExtent\": 0, \"ticks\": false, \"zindex\": 0, \"tickCount\": {\"signal\": \"ceil(width/40)\"}, \"gridScale\": \"y\"}, {\"scale\": \"y\", \"tickCount\": {\"signal\": \"ceil(height/40)\"}, \"domain\": false, \"aria\": false, \"labels\": false, \"grid\": true, \"maxExtent\": 0, \"minExtent\": 0, \"orient\": \"left\", \"gridScale\": \"x\", \"zindex\": 0, \"ticks\": false}, {\"scale\": \"x\", \"zindex\": 0, \"labelFlush\": true, \"labelOverlap\": true, \"tickCount\": {\"signal\": \"ceil(width/40)\"}, \"grid\": false, \"orient\": \"bottom\", \"title\": \"time\"}, {\"scale\": \"y\", \"title\": \"value\", \"grid\": false, \"zindex\": 0, \"orient\": \"left\", \"labelOverlap\": true, \"tickCount\": {\"signal\": \"ceil(height/40)\"}}], \"background\": \"white\", \"width\": 600, \"padding\": 5, \"height\": 200, \"style\": \"cell\", \"legends\": [{\"stroke\": \"color\", \"symbolType\": \"stroke\", \"title\": \"variable\", \"encode\": {\"symbols\": {\"update\": {\"opacity\": {\"value\": 0.7}}}}}]}, {\"mode\": \"vega\"});\n",
       "</script>"
      ],
      "text/plain": [
       "alt.LayerChart(...)"
      ]
     },
     "execution_count": 37,
     "metadata": {},
     "output_type": "execute_result"
    }
   ],
   "source": [
    "(on.Plot()\n",
    "    .add(on.marks.line, input)\n",
    "    .add(on.marks.line, target)\n",
    "    .add(on.marks.line, prediction, type='dashed')\n",
    "    .properties(width=600, height=200)\n",
    "    .show()\n",
    ")"
   ]
  },
  {
   "cell_type": "code",
   "execution_count": 38,
   "id": "ffecb8fb",
   "metadata": {},
   "outputs": [],
   "source": [
    "prediction = rename_index(predictions['predictions']['ExponentialSmoothing']['Daily temperature'][0]).rename({'Daily minimum temperatures': 'prediction'})"
   ]
  },
  {
   "cell_type": "code",
   "execution_count": 39,
   "id": "e6c1b476",
   "metadata": {},
   "outputs": [
    {
     "data": {
      "text/html": [
       "\n",
       "<style>\n",
       "  #altair-viz-59c95da9b764422e9cf7573279c4a66a.vega-embed {\n",
       "    width: 100%;\n",
       "    display: flex;\n",
       "  }\n",
       "\n",
       "  #altair-viz-59c95da9b764422e9cf7573279c4a66a.vega-embed details,\n",
       "  #altair-viz-59c95da9b764422e9cf7573279c4a66a.vega-embed details summary {\n",
       "    position: relative;\n",
       "  }\n",
       "</style>\n",
       "<div id=\"altair-viz-59c95da9b764422e9cf7573279c4a66a\"></div>\n",
       "<script type=\"text/javascript\">\n",
       "  var VEGA_DEBUG = (typeof VEGA_DEBUG == \"undefined\") ? {} : VEGA_DEBUG;\n",
       "  (function(spec, embedOpt){\n",
       "    let outputDiv = document.currentScript.previousElementSibling;\n",
       "    if (outputDiv.id !== \"altair-viz-59c95da9b764422e9cf7573279c4a66a\") {\n",
       "      outputDiv = document.getElementById(\"altair-viz-59c95da9b764422e9cf7573279c4a66a\");\n",
       "    }\n",
       "    const paths = {\n",
       "      \"vega\": \"https://cdn.jsdelivr.net/npm/vega@5?noext\",\n",
       "      \"vega-lib\": \"https://cdn.jsdelivr.net/npm/vega-lib?noext\",\n",
       "      \"vega-lite\": \"https://cdn.jsdelivr.net/npm/vega-lite@5.20.1?noext\",\n",
       "      \"vega-embed\": \"https://cdn.jsdelivr.net/npm/vega-embed@6?noext\",\n",
       "    };\n",
       "\n",
       "    function maybeLoadScript(lib, version) {\n",
       "      var key = `${lib.replace(\"-\", \"\")}_version`;\n",
       "      return (VEGA_DEBUG[key] == version) ?\n",
       "        Promise.resolve(paths[lib]) :\n",
       "        new Promise(function(resolve, reject) {\n",
       "          var s = document.createElement('script');\n",
       "          document.getElementsByTagName(\"head\")[0].appendChild(s);\n",
       "          s.async = true;\n",
       "          s.onload = () => {\n",
       "            VEGA_DEBUG[key] = version;\n",
       "            return resolve(paths[lib]);\n",
       "          };\n",
       "          s.onerror = () => reject(`Error loading script: ${paths[lib]}`);\n",
       "          s.src = paths[lib];\n",
       "        });\n",
       "    }\n",
       "\n",
       "    function showError(err) {\n",
       "      outputDiv.innerHTML = `<div class=\"error\" style=\"color:red;\">${err}</div>`;\n",
       "      throw err;\n",
       "    }\n",
       "\n",
       "    function displayChart(vegaEmbed) {\n",
       "      vegaEmbed(outputDiv, spec, embedOpt)\n",
       "        .catch(err => showError(`Javascript Error: ${err.message}<br>This usually means there's a typo in your chart specification. See the javascript console for the full traceback.`));\n",
       "    }\n",
       "\n",
       "    if(typeof define === \"function\" && define.amd) {\n",
       "      requirejs.config({paths});\n",
       "      require([\"vega-embed\"], displayChart, err => showError(`Error loading script: ${err.message}`));\n",
       "    } else {\n",
       "      maybeLoadScript(\"vega\", \"5\")\n",
       "        .then(() => maybeLoadScript(\"vega-lite\", \"5.20.1\"))\n",
       "        .then(() => maybeLoadScript(\"vega-embed\", \"6\"))\n",
       "        .catch(showError)\n",
       "        .then(() => displayChart(vegaEmbed));\n",
       "    }\n",
       "  })({\"$schema\": \"https://vega.github.io/schema/vega/v5.json\", \"data\": [{\"name\": \"source_0\", \"values\": [{\"time\": \"1989-01-18T00:00:00.000\", \"variable\": \"input\", \"value\": 13.9}, {\"time\": \"1989-01-19T00:00:00.000\", \"variable\": \"input\", \"value\": 13.1}, {\"time\": \"1989-01-20T00:00:00.000\", \"variable\": \"input\", \"value\": 16.0}, {\"time\": \"1989-01-21T00:00:00.000\", \"variable\": \"input\", \"value\": 14.5}, {\"time\": \"1989-01-22T00:00:00.000\", \"variable\": \"input\", \"value\": 15.0}, {\"time\": \"1989-01-23T00:00:00.000\", \"variable\": \"input\", \"value\": 12.6}, {\"time\": \"1989-01-24T00:00:00.000\", \"variable\": \"input\", \"value\": 12.5}, {\"time\": \"1989-01-25T00:00:00.000\", \"variable\": \"input\", \"value\": 15.2}, {\"time\": \"1989-01-26T00:00:00.000\", \"variable\": \"input\", \"value\": 16.2}, {\"time\": \"1989-01-27T00:00:00.000\", \"variable\": \"input\", \"value\": 16.5}, {\"time\": \"1989-01-28T00:00:00.000\", \"variable\": \"input\", \"value\": 20.1}, {\"time\": \"1989-01-29T00:00:00.000\", \"variable\": \"input\", \"value\": 20.6}, {\"time\": \"1989-01-30T00:00:00.000\", \"variable\": \"input\", \"value\": 16.9}, {\"time\": \"1989-01-31T00:00:00.000\", \"variable\": \"input\", \"value\": 16.5}, {\"time\": \"1989-02-01T00:00:00.000\", \"variable\": \"input\", \"value\": 16.1}, {\"time\": \"1989-02-02T00:00:00.000\", \"variable\": \"input\", \"value\": 14.4}, {\"time\": \"1989-02-03T00:00:00.000\", \"variable\": \"input\", \"value\": 16.3}, {\"time\": \"1989-02-04T00:00:00.000\", \"variable\": \"input\", \"value\": 15.7}, {\"time\": \"1989-02-05T00:00:00.000\", \"variable\": \"input\", \"value\": 14.2}, {\"time\": \"1989-02-06T00:00:00.000\", \"variable\": \"input\", \"value\": 13.2}, {\"time\": \"1989-02-07T00:00:00.000\", \"variable\": \"input\", \"value\": 16.8}, {\"time\": \"1989-02-08T00:00:00.000\", \"variable\": \"input\", \"value\": 18.5}, {\"time\": \"1989-02-09T00:00:00.000\", \"variable\": \"input\", \"value\": 16.7}, {\"time\": \"1989-02-10T00:00:00.000\", \"variable\": \"input\", \"value\": 15.3}, {\"time\": \"1989-02-11T00:00:00.000\", \"variable\": \"input\", \"value\": 15.9}, {\"time\": \"1989-02-12T00:00:00.000\", \"variable\": \"input\", \"value\": 15.2}, {\"time\": \"1989-02-13T00:00:00.000\", \"variable\": \"input\", \"value\": 17.5}, {\"time\": \"1989-02-14T00:00:00.000\", \"variable\": \"input\", \"value\": 18.3}, {\"time\": \"1989-02-15T00:00:00.000\", \"variable\": \"input\", \"value\": 19.4}, {\"time\": \"1989-02-16T00:00:00.000\", \"variable\": \"input\", \"value\": 19.4}, {\"time\": \"1989-02-17T00:00:00.000\", \"variable\": \"input\", \"value\": 19.5}, {\"time\": \"1989-02-18T00:00:00.000\", \"variable\": \"input\", \"value\": 20.5}, {\"time\": \"1989-02-19T00:00:00.000\", \"variable\": \"input\", \"value\": 15.7}, {\"time\": \"1989-02-20T00:00:00.000\", \"variable\": \"input\", \"value\": 15.0}, {\"time\": \"1989-02-21T00:00:00.000\", \"variable\": \"input\", \"value\": 16.1}, {\"time\": \"1989-02-22T00:00:00.000\", \"variable\": \"input\", \"value\": 14.3}, {\"time\": \"1989-02-23T00:00:00.000\", \"variable\": \"input\", \"value\": 13.0}, {\"time\": \"1989-02-24T00:00:00.000\", \"variable\": \"input\", \"value\": 16.2}, {\"time\": \"1989-02-25T00:00:00.000\", \"variable\": \"input\", \"value\": 17.7}, {\"time\": \"1989-02-26T00:00:00.000\", \"variable\": \"input\", \"value\": 13.2}, {\"time\": \"1989-02-27T00:00:00.000\", \"variable\": \"input\", \"value\": 15.8}, {\"time\": \"1989-02-28T00:00:00.000\", \"variable\": \"input\", \"value\": 18.5}, {\"time\": \"1989-03-01T00:00:00.000\", \"variable\": \"input\", \"value\": 20.4}, {\"time\": \"1989-03-02T00:00:00.000\", \"variable\": \"input\", \"value\": 22.0}, {\"time\": \"1989-03-03T00:00:00.000\", \"variable\": \"input\", \"value\": 19.7}, {\"time\": \"1989-03-04T00:00:00.000\", \"variable\": \"input\", \"value\": 19.6}, {\"time\": \"1989-03-05T00:00:00.000\", \"variable\": \"input\", \"value\": 20.3}, {\"time\": \"1989-03-06T00:00:00.000\", \"variable\": \"input\", \"value\": 18.3}, {\"time\": \"1989-03-07T00:00:00.000\", \"variable\": \"input\", \"value\": 18.9}, {\"time\": \"1989-03-08T00:00:00.000\", \"variable\": \"input\", \"value\": 20.3}, {\"time\": \"1989-03-09T00:00:00.000\", \"variable\": \"input\", \"value\": 21.4}, {\"time\": \"1989-03-10T00:00:00.000\", \"variable\": \"input\", \"value\": 18.3}, {\"time\": \"1989-03-11T00:00:00.000\", \"variable\": \"input\", \"value\": 17.8}, {\"time\": \"1989-03-12T00:00:00.000\", \"variable\": \"input\", \"value\": 17.7}, {\"time\": \"1989-03-13T00:00:00.000\", \"variable\": \"input\", \"value\": 12.8}, {\"time\": \"1989-03-14T00:00:00.000\", \"variable\": \"input\", \"value\": 15.1}, {\"time\": \"1989-03-15T00:00:00.000\", \"variable\": \"input\", \"value\": 15.0}, {\"time\": \"1989-03-16T00:00:00.000\", \"variable\": \"input\", \"value\": 14.8}, {\"time\": \"1989-03-17T00:00:00.000\", \"variable\": \"input\", \"value\": 12.0}, {\"time\": \"1989-03-18T00:00:00.000\", \"variable\": \"input\", \"value\": 12.5}, {\"time\": \"1989-03-19T00:00:00.000\", \"variable\": \"input\", \"value\": 15.0}, {\"time\": \"1989-03-20T00:00:00.000\", \"variable\": \"input\", \"value\": 17.1}, {\"time\": \"1989-03-21T00:00:00.000\", \"variable\": \"input\", \"value\": 17.3}, {\"time\": \"1989-03-22T00:00:00.000\", \"variable\": \"input\", \"value\": 16.9}, {\"time\": \"1989-03-23T00:00:00.000\", \"variable\": \"input\", \"value\": 16.5}, {\"time\": \"1989-03-24T00:00:00.000\", \"variable\": \"input\", \"value\": 13.6}, {\"time\": \"1989-03-25T00:00:00.000\", \"variable\": \"input\", \"value\": 13.2}, {\"time\": \"1989-03-26T00:00:00.000\", \"variable\": \"input\", \"value\": 9.4}, {\"time\": \"1989-03-27T00:00:00.000\", \"variable\": \"input\", \"value\": 9.5}, {\"time\": \"1989-03-28T00:00:00.000\", \"variable\": \"input\", \"value\": 11.8}, {\"time\": \"1989-03-29T00:00:00.000\", \"variable\": \"input\", \"value\": 10.4}, {\"time\": \"1989-03-30T00:00:00.000\", \"variable\": \"input\", \"value\": 9.7}, {\"time\": \"1989-03-31T00:00:00.000\", \"variable\": \"input\", \"value\": 12.6}, {\"time\": \"1989-04-01T00:00:00.000\", \"variable\": \"input\", \"value\": 13.3}, {\"time\": \"1989-04-02T00:00:00.000\", \"variable\": \"input\", \"value\": 15.1}, {\"time\": \"1989-04-03T00:00:00.000\", \"variable\": \"input\", \"value\": 14.2}, {\"time\": \"1989-04-04T00:00:00.000\", \"variable\": \"input\", \"value\": 14.2}, {\"time\": \"1989-04-05T00:00:00.000\", \"variable\": \"input\", \"value\": 19.2}, {\"time\": \"1989-04-06T00:00:00.000\", \"variable\": \"input\", \"value\": 12.6}, {\"time\": \"1989-04-07T00:00:00.000\", \"variable\": \"input\", \"value\": 14.2}, {\"time\": \"1989-04-08T00:00:00.000\", \"variable\": \"input\", \"value\": 11.9}, {\"time\": \"1989-04-09T00:00:00.000\", \"variable\": \"input\", \"value\": 13.9}, {\"time\": \"1989-04-10T00:00:00.000\", \"variable\": \"input\", \"value\": 13.5}, {\"time\": \"1989-04-11T00:00:00.000\", \"variable\": \"input\", \"value\": 15.3}, {\"time\": \"1989-04-12T00:00:00.000\", \"variable\": \"input\", \"value\": 13.9}, {\"time\": \"1989-04-13T00:00:00.000\", \"variable\": \"input\", \"value\": 14.0}, {\"time\": \"1989-04-14T00:00:00.000\", \"variable\": \"input\", \"value\": 12.9}, {\"time\": \"1989-04-15T00:00:00.000\", \"variable\": \"input\", \"value\": 8.5}, {\"time\": \"1989-04-16T00:00:00.000\", \"variable\": \"input\", \"value\": 11.4}, {\"time\": \"1989-04-17T00:00:00.000\", \"variable\": \"input\", \"value\": 10.9}, {\"time\": \"1989-04-18T00:00:00.000\", \"variable\": \"input\", \"value\": 12.0}, {\"time\": \"1989-04-19T00:00:00.000\", \"variable\": \"input\", \"value\": 8.6}, {\"time\": \"1989-04-20T00:00:00.000\", \"variable\": \"input\", \"value\": 9.0}, {\"time\": \"1989-04-21T00:00:00.000\", \"variable\": \"input\", \"value\": 9.6}, {\"time\": \"1989-04-22T00:00:00.000\", \"variable\": \"input\", \"value\": 10.2}, {\"time\": \"1989-04-23T00:00:00.000\", \"variable\": \"input\", \"value\": 9.8}], \"transform\": [{\"type\": \"formula\", \"expr\": \"toDate(datum['time'])\", \"as\": \"time\"}]}, {\"name\": \"source_1\", \"values\": [{\"time\": \"1989-04-24T00:00:00.000\", \"variable\": \"target\", \"value\": 8.3}, {\"time\": \"1989-04-25T00:00:00.000\", \"variable\": \"target\", \"value\": 11.0}, {\"time\": \"1989-04-26T00:00:00.000\", \"variable\": \"target\", \"value\": 11.9}, {\"time\": \"1989-04-27T00:00:00.000\", \"variable\": \"target\", \"value\": 14.0}, {\"time\": \"1989-04-28T00:00:00.000\", \"variable\": \"target\", \"value\": 15.8}, {\"time\": \"1989-04-29T00:00:00.000\", \"variable\": \"target\", \"value\": 14.5}, {\"time\": \"1989-04-30T00:00:00.000\", \"variable\": \"target\", \"value\": 13.2}, {\"time\": \"1989-05-01T00:00:00.000\", \"variable\": \"target\", \"value\": 14.2}, {\"time\": \"1989-05-02T00:00:00.000\", \"variable\": \"target\", \"value\": 14.6}, {\"time\": \"1989-05-03T00:00:00.000\", \"variable\": \"target\", \"value\": 11.8}, {\"time\": \"1989-05-04T00:00:00.000\", \"variable\": \"target\", \"value\": 14.4}, {\"time\": \"1989-05-05T00:00:00.000\", \"variable\": \"target\", \"value\": 10.4}, {\"time\": \"1989-05-06T00:00:00.000\", \"variable\": \"target\", \"value\": 10.3}, {\"time\": \"1989-05-07T00:00:00.000\", \"variable\": \"target\", \"value\": 10.8}, {\"time\": \"1989-05-08T00:00:00.000\", \"variable\": \"target\", \"value\": 10.5}, {\"time\": \"1989-05-09T00:00:00.000\", \"variable\": \"target\", \"value\": 9.5}, {\"time\": \"1989-05-10T00:00:00.000\", \"variable\": \"target\", \"value\": 12.5}, {\"time\": \"1989-05-11T00:00:00.000\", \"variable\": \"target\", \"value\": 13.7}, {\"time\": \"1989-05-12T00:00:00.000\", \"variable\": \"target\", \"value\": 12.7}, {\"time\": \"1989-05-13T00:00:00.000\", \"variable\": \"target\", \"value\": 11.9}, {\"time\": \"1989-05-14T00:00:00.000\", \"variable\": \"target\", \"value\": 11.4}, {\"time\": \"1989-05-15T00:00:00.000\", \"variable\": \"target\", \"value\": 9.7}, {\"time\": \"1989-05-16T00:00:00.000\", \"variable\": \"target\", \"value\": 8.3}, {\"time\": \"1989-05-17T00:00:00.000\", \"variable\": \"target\", \"value\": 8.1}], \"transform\": [{\"type\": \"formula\", \"expr\": \"toDate(datum['time'])\", \"as\": \"time\"}]}, {\"name\": \"source_2\", \"values\": [{\"time\": \"1989-04-24T00:00:00.000\", \"variable\": \"prediction\", \"value\": 9.032144661183853}, {\"time\": \"1989-04-25T00:00:00.000\", \"variable\": \"prediction\", \"value\": 10.26286863330505}, {\"time\": \"1989-04-26T00:00:00.000\", \"variable\": \"prediction\", \"value\": 10.629844379802844}, {\"time\": \"1989-04-27T00:00:00.000\", \"variable\": \"prediction\", \"value\": 9.965560074405026}, {\"time\": \"1989-04-28T00:00:00.000\", \"variable\": \"prediction\", \"value\": 9.958412113579186}, {\"time\": \"1989-04-29T00:00:00.000\", \"variable\": \"prediction\", \"value\": 9.865567835641873}, {\"time\": \"1989-04-30T00:00:00.000\", \"variable\": \"prediction\", \"value\": 9.515554486349162}, {\"time\": \"1989-05-01T00:00:00.000\", \"variable\": \"prediction\", \"value\": 8.78931452579965}, {\"time\": \"1989-05-02T00:00:00.000\", \"variable\": \"prediction\", \"value\": 10.020038497920847}, {\"time\": \"1989-05-03T00:00:00.000\", \"variable\": \"prediction\", \"value\": 10.38701424441864}, {\"time\": \"1989-05-04T00:00:00.000\", \"variable\": \"prediction\", \"value\": 9.722729939020823}, {\"time\": \"1989-05-05T00:00:00.000\", \"variable\": \"prediction\", \"value\": 9.715581978194983}, {\"time\": \"1989-05-06T00:00:00.000\", \"variable\": \"prediction\", \"value\": 9.62273770025767}, {\"time\": \"1989-05-07T00:00:00.000\", \"variable\": \"prediction\", \"value\": 9.272724350964959}, {\"time\": \"1989-05-08T00:00:00.000\", \"variable\": \"prediction\", \"value\": 8.546484390415447}, {\"time\": \"1989-05-09T00:00:00.000\", \"variable\": \"prediction\", \"value\": 9.777208362536644}, {\"time\": \"1989-05-10T00:00:00.000\", \"variable\": \"prediction\", \"value\": 10.144184109034438}, {\"time\": \"1989-05-11T00:00:00.000\", \"variable\": \"prediction\", \"value\": 9.47989980363662}, {\"time\": \"1989-05-12T00:00:00.000\", \"variable\": \"prediction\", \"value\": 9.47275184281078}, {\"time\": \"1989-05-13T00:00:00.000\", \"variable\": \"prediction\", \"value\": 9.379907564873466}, {\"time\": \"1989-05-14T00:00:00.000\", \"variable\": \"prediction\", \"value\": 9.029894215580756}, {\"time\": \"1989-05-15T00:00:00.000\", \"variable\": \"prediction\", \"value\": 8.303654255031244}, {\"time\": \"1989-05-16T00:00:00.000\", \"variable\": \"prediction\", \"value\": 9.534378227152441}, {\"time\": \"1989-05-17T00:00:00.000\", \"variable\": \"prediction\", \"value\": 9.901353973650235}], \"transform\": [{\"type\": \"formula\", \"expr\": \"toDate(datum['time'])\", \"as\": \"time\"}]}, {\"name\": \"source_0_color_domain_variable_0\", \"values\": [{\"variable\": \"input\"}]}, {\"name\": \"source_1_color_domain_variable_1\", \"values\": [{\"variable\": \"target\"}]}, {\"name\": \"source_2_color_domain_variable_2\", \"values\": [{\"variable\": \"prediction\"}]}], \"marks\": [{\"type\": \"group\", \"name\": \"layer_0_pathgroup\", \"from\": {\"facet\": {\"data\": \"source_0\", \"name\": \"faceted_path_layer_0_main\", \"groupby\": [\"variable\"]}}, \"encode\": {\"update\": {\"width\": {\"field\": {\"signal\": null, \"datum\": null, \"group\": \"width\", \"parent\": null}}, \"height\": {\"field\": {\"signal\": null, \"datum\": null, \"group\": \"height\", \"parent\": null}}}}, \"marks\": [{\"type\": \"line\", \"name\": \"layer_0_marks\", \"from\": {\"data\": \"faceted_path_layer_0_main\"}, \"sort\": {\"field\": \"x\"}, \"encode\": {\"update\": {\"x\": {\"field\": \"time\", \"scale\": \"x\"}, \"defined\": {\"signal\": \"isValid(datum[\\\"time\\\"]) && isFinite(+datum[\\\"time\\\"]) && isValid(datum[\\\"value\\\"]) && isFinite(+datum[\\\"value\\\"])\"}, \"stroke\": {\"field\": \"variable\", \"scale\": \"color\"}, \"y\": {\"field\": \"value\", \"scale\": \"y\"}}}, \"style\": [\"line\"]}]}, {\"type\": \"group\", \"name\": \"layer_1_pathgroup\", \"from\": {\"facet\": {\"data\": \"source_1\", \"name\": \"faceted_path_layer_1_main\", \"groupby\": [\"variable\"]}}, \"encode\": {\"update\": {\"height\": {\"field\": {\"signal\": null, \"datum\": null, \"group\": \"height\", \"parent\": null}}, \"width\": {\"field\": {\"signal\": null, \"datum\": null, \"group\": \"width\", \"parent\": null}}}}, \"marks\": [{\"type\": \"line\", \"name\": \"layer_1_marks\", \"from\": {\"data\": \"faceted_path_layer_1_main\"}, \"sort\": {\"field\": \"x\"}, \"encode\": {\"update\": {\"x\": {\"field\": \"time\", \"scale\": \"x\"}, \"y\": {\"field\": \"value\", \"scale\": \"y\"}, \"stroke\": {\"field\": \"variable\", \"scale\": \"color\"}, \"defined\": {\"signal\": \"isValid(datum[\\\"time\\\"]) && isFinite(+datum[\\\"time\\\"]) && isValid(datum[\\\"value\\\"]) && isFinite(+datum[\\\"value\\\"])\"}}}, \"style\": [\"line\"]}]}, {\"type\": \"group\", \"name\": \"layer_2_pathgroup\", \"from\": {\"facet\": {\"data\": \"source_2\", \"name\": \"faceted_path_layer_2_main\", \"groupby\": [\"variable\"]}}, \"encode\": {\"update\": {\"height\": {\"field\": {\"signal\": null, \"datum\": null, \"group\": \"height\", \"parent\": null}}, \"width\": {\"field\": {\"signal\": null, \"datum\": null, \"group\": \"width\", \"parent\": null}}}}, \"marks\": [{\"type\": \"line\", \"name\": \"layer_2_marks\", \"from\": {\"data\": \"faceted_path_layer_2_main\"}, \"sort\": {\"field\": \"x\"}, \"encode\": {\"update\": {\"defined\": {\"signal\": \"isValid(datum[\\\"time\\\"]) && isFinite(+datum[\\\"time\\\"]) && isValid(datum[\\\"value\\\"]) && isFinite(+datum[\\\"value\\\"])\"}, \"stroke\": {\"field\": \"variable\", \"scale\": \"color\"}, \"strokeDash\": {\"value\": [5, 2]}, \"x\": {\"field\": \"time\", \"scale\": \"x\"}, \"y\": {\"field\": \"value\", \"scale\": \"y\"}, \"opacity\": {\"value\": 0.7}}}, \"style\": [\"line\"]}]}], \"scales\": [{\"name\": \"x\", \"type\": \"time\", \"domain\": {\"fields\": [{\"data\": \"source_0\", \"field\": \"time\"}, {\"data\": \"source_1\", \"field\": \"time\"}, {\"data\": \"source_2\", \"field\": \"time\"}]}, \"range\": [0, {\"signal\": \"width\"}]}, {\"name\": \"y\", \"type\": \"linear\", \"domain\": {\"fields\": [{\"data\": \"source_0\", \"field\": \"value\"}, {\"data\": \"source_1\", \"field\": \"value\"}, {\"data\": \"source_2\", \"field\": \"value\"}]}, \"range\": [{\"signal\": \"height\"}, 0], \"zero\": true, \"nice\": true}, {\"name\": \"color\", \"type\": \"ordinal\", \"domain\": {\"fields\": [{\"data\": \"source_0_color_domain_variable_0\", \"field\": \"variable\"}, {\"data\": \"source_1_color_domain_variable_1\", \"field\": \"variable\"}, {\"data\": \"source_2_color_domain_variable_2\", \"field\": \"variable\"}], \"sort\": true}, \"range\": \"category\"}], \"axes\": [{\"scale\": \"x\", \"orient\": \"bottom\", \"grid\": true, \"maxExtent\": 0, \"ticks\": false, \"zindex\": 0, \"labels\": false, \"tickCount\": {\"signal\": \"ceil(width/40)\"}, \"aria\": false, \"gridScale\": \"y\", \"domain\": false, \"minExtent\": 0}, {\"scale\": \"y\", \"orient\": \"left\", \"grid\": true, \"domain\": false, \"gridScale\": \"x\", \"tickCount\": {\"signal\": \"ceil(height/40)\"}, \"minExtent\": 0, \"zindex\": 0, \"labels\": false, \"maxExtent\": 0, \"ticks\": false, \"aria\": false}, {\"scale\": \"x\", \"labelFlush\": true, \"labelOverlap\": true, \"grid\": false, \"title\": \"time\", \"orient\": \"bottom\", \"tickCount\": {\"signal\": \"ceil(width/40)\"}, \"zindex\": 0}, {\"scale\": \"y\", \"title\": \"value\", \"grid\": false, \"labelOverlap\": true, \"tickCount\": {\"signal\": \"ceil(height/40)\"}, \"zindex\": 0, \"orient\": \"left\"}], \"padding\": 5, \"height\": 200, \"legends\": [{\"stroke\": \"color\", \"symbolType\": \"stroke\", \"title\": \"variable\", \"encode\": {\"symbols\": {\"update\": {\"opacity\": {\"value\": 0.7}}}}}], \"style\": \"cell\", \"background\": \"white\", \"width\": 600}, {\"mode\": \"vega\"});\n",
       "</script>"
      ],
      "text/plain": [
       "alt.LayerChart(...)"
      ]
     },
     "execution_count": 39,
     "metadata": {},
     "output_type": "execute_result"
    }
   ],
   "source": [
    "(on.Plot()\n",
    "    .add(on.marks.line, input)\n",
    "    .add(on.marks.line, target)\n",
    "    .add(on.marks.line, prediction, type='dashed')\n",
    "    .properties(width=600, height=200)\n",
    "    .show()\n",
    ")"
   ]
  }
 ],
 "metadata": {
  "kernelspec": {
   "display_name": "Python 3 (ipykernel)",
   "language": "python",
   "name": "python3"
  },
  "language_info": {
   "codemirror_mode": {
    "name": "ipython",
    "version": 3
   },
   "file_extension": ".py",
   "mimetype": "text/x-python",
   "name": "python",
   "nbconvert_exporter": "python",
   "pygments_lexer": "ipython3",
   "version": "3.11.0rc1"
  }
 },
 "nbformat": 4,
 "nbformat_minor": 5
}
