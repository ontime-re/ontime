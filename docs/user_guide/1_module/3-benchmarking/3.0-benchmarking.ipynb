{
 "cells": [
  {
   "cell_type": "markdown",
   "id": "550c22a8-085f-45f1-9af5-35896f670515",
   "metadata": {},
   "source": [
    "# Module - Benchmarking\n",
    "Ontime provides a `Benchmark` class that can be used to run a number of prediction models on a number of datasets."
   ]
  },
  {
   "cell_type": "code",
   "execution_count": 1,
   "id": "27e27d12-d338-47d3-8fd3-b31ff80ac57c",
   "metadata": {
    "ExecuteTime": {
     "end_time": "2024-06-24T06:55:56.084401800Z",
     "start_time": "2024-06-24T06:55:51.801812900Z"
    }
   },
   "outputs": [],
   "source": [
    "from ontime.module.benchmarking import BenchmarkMode, BenchmarkDataset, BenchmarkMetric, Benchmark\n",
    "import ontime as on"
   ]
  },
  {
   "cell_type": "markdown",
   "id": "476a848a-77d7-4efc-840f-665a7cdc1857",
   "metadata": {},
   "source": [
    "## Initialization\n",
    "A `Benchmark` instance can be initialized with a list of datasets, models and metrics to run through. When invoking `run()`, it will train (if needed) and test every dataset on every model, and compute every metric on the predicted data.\n"
   ]
  },
  {
   "cell_type": "markdown",
   "id": "f5641c4a",
   "metadata": {},
   "source": [
    "### Preparing datasets\n",
    "\n",
    "Datasets submitted to a `Benchmark` must be of type `TimeSeries`, wrapped into `BenchmarkDataset`. `BenchmarkDataset` allows to give datasets a name, give training and test splits, and define how data will be split to perform a rolling evaluation."
   ]
  },
  {
   "cell_type": "code",
   "execution_count": 2,
   "id": "1177e73c",
   "metadata": {},
   "outputs": [],
   "source": [
    "from ontime.module.datasets.dataset import Dataset\n",
    "from darts.utils.missing_values import fill_missing_values # for filling missing values in the time series (for models that don't handle missing values)\n",
    "\n",
    "datasets = [\n",
    "    BenchmarkDataset(on.TimeSeries.from_darts(fill_missing_values(Dataset.TemperatureDataset.load())), input_length=96, gap=0, stride=96, horizon=24, name=\"Daily temperature\"),\n",
    "]"
   ]
  },
  {
   "cell_type": "markdown",
   "id": "30689a0a-9ed7-4eca-ab6e-6de1cb1c9e21",
   "metadata": {},
   "source": [
    "### Preparing models  \n",
    "\n",
    "Models are wrapped according to the `AbstractBenchmarkModel` interface. Wrappers implementing this interface will instanciate the model for each dataset.  \n",
    "In Ontime, some wrappers around darts models are provided. For specific models, whose wrappers are not provided, a custom wrapper can be written, implementing the AbstractBenchmarkModel interface.  \n",
    "A `mode` should be provided to the wrapper constructor, which will define how the model is evaluated. In can be either:\n",
    "- `ZERO_SHOT`: the model is not trained, and the evaluation is done on the test set. It is used for models that already has trained weights, available through checkpoints, or for some models from darts, where predictions are directly made using the fitted data as input.  \n",
    "For some univariate models, a `multivariate` can be set so that they perform a multi-univariate predictions, and therefore can be compare against true multivariate models.\n",
    "- `FULL_SHOT`: the model is trained on the entire given training set. Once trained, the model is evaluated using the learnt weights."
   ]
  },
  {
   "cell_type": "code",
   "execution_count": null,
   "id": "71c4bc47-8479-46f1-a4c4-7ad5478020f0",
   "metadata": {
    "ExecuteTime": {
     "end_time": "2024-06-24T06:55:56.084401800Z",
     "start_time": "2024-06-24T06:55:56.073910600Z"
    }
   },
   "outputs": [],
   "source": [
    "from ontime.core.time_series.time_series import TimeSeries\n",
    "from ontime.module.benchmarking.darts_models import LocalDartsBenchmarkModel, GlobalDartsBenchmarkModel\n",
    "from typing import Any\n",
    "from darts.models import AutoARIMA, ExponentialSmoothing, TCNModel\n",
    "\n",
    "models = [\n",
    "    LocalDartsBenchmarkModel(\"AutoARIMA\", model=AutoARIMA(start_p=8, max_p=12, start_q=1), mode=BenchmarkMode.ZERO_SHOT),\n",
    "    LocalDartsBenchmarkModel(\"ExponentialSmoothingUnivariate\", model=ExponentialSmoothing(), mode=BenchmarkMode.ZERO_SHOT),\n",
    "    LocalDartsBenchmarkModel(\"ExponentialSmoothingMultivariate\", model=ExponentialSmoothing(), mode=BenchmarkMode.ZERO_SHOT, multivariate=True),\n",
    "    GlobalDartsBenchmarkModel(\"Temporal Convolutional Network\", model=TCNModel(input_chunk_length=24, output_chunk_length=10), mode=BenchmarkMode.FULL_SHOT)\n",
    "]"
   ]
  },
  {
   "cell_type": "markdown",
   "id": "fd484f03-399d-4e4e-9b7c-2462e6accbb9",
   "metadata": {},
   "source": [
    "### Preparing metrics\n",
    "Metrics must be given to the `BenchmarkMetric` constructor. If the function can't be invoked as is in `BenchmarkMetric`'s implementation, a child class can be written and submitted."
   ]
  },
  {
   "cell_type": "code",
   "execution_count": 4,
   "id": "3bd6e05b-d86a-484a-bd28-7559b640c20f",
   "metadata": {
    "ExecuteTime": {
     "end_time": "2024-06-24T07:01:59.701881200Z",
     "start_time": "2024-06-24T07:01:59.693974700Z"
    }
   },
   "outputs": [],
   "source": [
    "import darts\n",
    "\n",
    "metrics = [\n",
    "   BenchmarkMetric(name=\"RMSE\", metric_function=darts.metrics.metrics.coefficient_of_variation),\n",
    "   BenchmarkMetric(name=\"MAE\", metric_function=darts.metrics.metrics.mae),\n",
    "   BenchmarkMetric(name=\"sMAPE\", metric_function=darts.metrics.metrics.smape),\n",
    "]"
   ]
  },
  {
   "cell_type": "markdown",
   "id": "f1ce9193-2bd1-4859-b5c5-17a48cb4e0fa",
   "metadata": {},
   "source": [
    "## Creating and running a Benchmark"
   ]
  },
  {
   "cell_type": "code",
   "execution_count": 5,
   "id": "b99abb03-c3ee-4e19-87a7-c86e1b418a6b",
   "metadata": {
    "ExecuteTime": {
     "end_time": "2024-06-24T07:02:00.671042500Z",
     "start_time": "2024-06-24T07:02:00.650794500Z"
    }
   },
   "outputs": [],
   "source": [
    "benchmark = Benchmark(datasets=datasets,\n",
    "                      models=models, \n",
    "                      metrics=metrics)"
   ]
  },
  {
   "cell_type": "markdown",
   "id": "e7b7a83a-e878-4fbf-818a-3c70f73bcb05",
   "metadata": {},
   "source": [
    "Datasets, models and metrics can also be added after instanciation. This allows to name datasets."
   ]
  },
  {
   "cell_type": "code",
   "execution_count": 7,
   "id": "005d3bae-1fdb-4edd-91ba-0df918fae5fe",
   "metadata": {
    "ExecuteTime": {
     "end_time": "2024-06-24T07:02:01.526327100Z",
     "start_time": "2024-06-24T07:02:01.515552400Z"
    }
   },
   "outputs": [],
   "source": [
    "benchmark.add_dataset(BenchmarkDataset(Dataset.ETTh1Dataset.load(), input_length=500, gap=0, stride=96, horizon=96, name = \"ETTh1\"))"
   ]
  },
  {
   "cell_type": "markdown",
   "id": "b86ec250-db58-4c10-b4e3-14c2b23bcf70",
   "metadata": {},
   "source": [
    "Once the models and datasets have been added, the `run()` method will train instances of all the models on all the datasets individually and compute metrics. The verbose parameter will print the status and results of the process as it progresses, and the debug parameter will print error messages (warnings are printed anyways)."
   ]
  },
  {
   "cell_type": "code",
   "execution_count": null,
   "id": "e96d8811-efd0-4cb0-bf7c-a03364e05911",
   "metadata": {
    "ExecuteTime": {
     "end_time": "2024-06-24T07:02:58.799456800Z",
     "start_time": "2024-06-24T07:02:02.671394200Z"
    }
   },
   "outputs": [],
   "source": [
    "benchmark.run(verbose=False, debug=False)"
   ]
  },
  {
   "cell_type": "markdown",
   "id": "04a22d7c",
   "metadata": {},
   "source": [
    "## Visualizing results\n",
    "\n",
    "The benchmark automatically stores measures and metrics computed during the run, available through class attributes."
   ]
  },
  {
   "cell_type": "markdown",
   "id": "d4038313-7cf4-480d-8d3c-fd030e100da3",
   "metadata": {},
   "source": [
    "### Measures and metrics\n",
    "To view the results, you can call `get_report()` and print the returned value"
   ]
  },
  {
   "cell_type": "code",
   "execution_count": 15,
   "id": "35b9b732-bd80-426f-a8bb-134f06bf1a3b",
   "metadata": {
    "ExecuteTime": {
     "end_time": "2024-06-24T07:04:00.885598500Z",
     "start_time": "2024-06-24T07:04:00.878375900Z"
    },
    "scrolled": true
   },
   "outputs": [
    {
     "name": "stdout",
     "output_type": "stream",
     "text": [
      "Model Temporal Convolutional Network:\n",
      "Supported univariate datasets: ✓\n",
      "Supported multivariate datasets: ✓\n",
      "Dataset Daily temperature:\n",
      "nb features: 1\n",
      "target column: ['Daily minimum temperatures']\n",
      "training set size: 2335\n",
      "validation set size: 585\n",
      "training time: 19.18831992149353\n",
      "test set size: 732\n",
      "testing time: 2.322927713394165\n",
      "metrics: {'RMSE': 28.238215577600233, 'MAE': 2.175213281180056, 'sMAPE': 22.00669241283975}\n",
      "Dataset ETTh1:\n",
      "nb features: 7\n",
      "target column: ['HUFL', 'HULL', 'MUFL', 'MULL', 'LUFL', 'LULL', 'OT']\n",
      "training set size: 11147\n",
      "validation set size: 2788\n",
      "training time: 81.35324382781982\n",
      "test set size: 3485\n",
      "testing time: 11.666565179824829\n",
      "metrics: {'RMSE': 354.4952793598406, 'MAE': 2.8482374344394916, 'sMAPE': 79.5762334672784}\n",
      "Dataset ETTh1:\n",
      "nb features: 7\n",
      "target column: ['HUFL', 'HULL', 'MUFL', 'MULL', 'LUFL', 'LULL', 'OT']\n",
      "training set size: 11147\n",
      "validation set size: 2788\n",
      "training time: 81.35324382781982\n",
      "test set size: 3485\n",
      "testing time: 11.666565179824829\n",
      "metrics: {'RMSE': 354.4952793598406, 'MAE': 2.8482374344394916, 'sMAPE': 79.5762334672784}\n",
      "\n"
     ]
    }
   ],
   "source": [
    "print(benchmark.get_report())"
   ]
  },
  {
   "cell_type": "markdown",
   "id": "a0852085-874e-4583-9f91-1efcb486fbcb",
   "metadata": {},
   "source": [
    "You can also get results as dataframes by calling `get_report_df()`. The results are then returned as a dataframe with model names as columns, dataset names as main rows, and measure as sub rows."
   ]
  },
  {
   "cell_type": "code",
   "execution_count": 16,
   "id": "687a0b79-ff02-4bde-aff7-6d6ccd5e7d40",
   "metadata": {
    "ExecuteTime": {
     "end_time": "2024-06-24T07:04:03.237516900Z",
     "start_time": "2024-06-24T07:04:03.207950400Z"
    }
   },
   "outputs": [
    {
     "data": {
      "text/html": [
       "<div>\n",
       "<style scoped>\n",
       "    .dataframe tbody tr th:only-of-type {\n",
       "        vertical-align: middle;\n",
       "    }\n",
       "\n",
       "    .dataframe tbody tr th {\n",
       "        vertical-align: top;\n",
       "    }\n",
       "\n",
       "    .dataframe thead th {\n",
       "        text-align: right;\n",
       "    }\n",
       "</style>\n",
       "<table border=\"1\" class=\"dataframe\">\n",
       "  <thead>\n",
       "    <tr style=\"text-align: right;\">\n",
       "      <th></th>\n",
       "      <th>Temporal Convolutional Network</th>\n",
       "    </tr>\n",
       "    <tr>\n",
       "      <th>Statistic</th>\n",
       "      <th></th>\n",
       "    </tr>\n",
       "  </thead>\n",
       "  <tbody>\n",
       "    <tr>\n",
       "      <th>supports univariate</th>\n",
       "      <td>✓</td>\n",
       "    </tr>\n",
       "    <tr>\n",
       "      <th>supports multivariate</th>\n",
       "      <td>✓</td>\n",
       "    </tr>\n",
       "  </tbody>\n",
       "</table>\n",
       "</div>"
      ],
      "text/plain": [
       "                      Temporal Convolutional Network\n",
       "Statistic                                           \n",
       "supports univariate                                ✓\n",
       "supports multivariate                              ✓"
      ]
     },
     "execution_count": 16,
     "metadata": {},
     "output_type": "execute_result"
    }
   ],
   "source": [
    "df_1, df_2 = benchmark.get_report_df()\n",
    "df_1"
   ]
  },
  {
   "cell_type": "code",
   "execution_count": 17,
   "id": "a113a1a8-6988-4440-9afc-c4e9b5e6f898",
   "metadata": {},
   "outputs": [
    {
     "data": {
      "text/html": [
       "<div>\n",
       "<style scoped>\n",
       "    .dataframe tbody tr th:only-of-type {\n",
       "        vertical-align: middle;\n",
       "    }\n",
       "\n",
       "    .dataframe tbody tr th {\n",
       "        vertical-align: top;\n",
       "    }\n",
       "\n",
       "    .dataframe thead th {\n",
       "        text-align: right;\n",
       "    }\n",
       "</style>\n",
       "<table border=\"1\" class=\"dataframe\">\n",
       "  <thead>\n",
       "    <tr style=\"text-align: right;\">\n",
       "      <th></th>\n",
       "      <th></th>\n",
       "      <th>Temporal Convolutional Network</th>\n",
       "    </tr>\n",
       "    <tr>\n",
       "      <th>Dataset</th>\n",
       "      <th>Metric</th>\n",
       "      <th></th>\n",
       "    </tr>\n",
       "  </thead>\n",
       "  <tbody>\n",
       "    <tr>\n",
       "      <th rowspan=\"5\" valign=\"top\">Daily temperature</th>\n",
       "      <th>training time</th>\n",
       "      <td>19.188320</td>\n",
       "    </tr>\n",
       "    <tr>\n",
       "      <th>testing time</th>\n",
       "      <td>2.322928</td>\n",
       "    </tr>\n",
       "    <tr>\n",
       "      <th>RMSE</th>\n",
       "      <td>28.238216</td>\n",
       "    </tr>\n",
       "    <tr>\n",
       "      <th>MAE</th>\n",
       "      <td>2.175213</td>\n",
       "    </tr>\n",
       "    <tr>\n",
       "      <th>sMAPE</th>\n",
       "      <td>22.006692</td>\n",
       "    </tr>\n",
       "    <tr>\n",
       "      <th rowspan=\"5\" valign=\"top\">ETTh1</th>\n",
       "      <th>training time</th>\n",
       "      <td>81.353244</td>\n",
       "    </tr>\n",
       "    <tr>\n",
       "      <th>testing time</th>\n",
       "      <td>11.666565</td>\n",
       "    </tr>\n",
       "    <tr>\n",
       "      <th>RMSE</th>\n",
       "      <td>354.495279</td>\n",
       "    </tr>\n",
       "    <tr>\n",
       "      <th>MAE</th>\n",
       "      <td>2.848237</td>\n",
       "    </tr>\n",
       "    <tr>\n",
       "      <th>sMAPE</th>\n",
       "      <td>79.576233</td>\n",
       "    </tr>\n",
       "  </tbody>\n",
       "</table>\n",
       "</div>"
      ],
      "text/plain": [
       "                                 Temporal Convolutional Network\n",
       "Dataset           Metric                                       \n",
       "Daily temperature training time                       19.188320\n",
       "                  testing time                         2.322928\n",
       "                  RMSE                                28.238216\n",
       "                  MAE                                  2.175213\n",
       "                  sMAPE                               22.006692\n",
       "ETTh1             training time                       81.353244\n",
       "                  testing time                        11.666565\n",
       "                  RMSE                               354.495279\n",
       "                  MAE                                  2.848237\n",
       "                  sMAPE                               79.576233"
      ]
     },
     "execution_count": 17,
     "metadata": {},
     "output_type": "execute_result"
    }
   ],
   "source": [
    "df_2"
   ]
  },
  {
   "cell_type": "markdown",
   "id": "35d12a40",
   "metadata": {},
   "source": [
    "### Plotting\n",
    "\n",
    "By default (argument `nb_predictions` of `benchmark.run()` method), the benchmark will generate a prediction for one random input sample of each dataset with each model. The predictions, along input and target series, are stored in a dictionnary and can be retrieved by calling `benchmark.get_predictions()`. The predictions can be plotted using the Ontime plotting module."
   ]
  },
  {
   "cell_type": "code",
   "execution_count": 18,
   "id": "622c8342",
   "metadata": {},
   "outputs": [],
   "source": [
    "predictions = benchmark.get_predictions()"
   ]
  },
  {
   "cell_type": "code",
   "execution_count": 19,
   "id": "6c87c037",
   "metadata": {},
   "outputs": [],
   "source": [
    "# currently, Ontime plotting module needs the time index to be named 'time'\n",
    "def rename_index(ts, name='time'):\n",
    "    df = ts.pd_dataframe()\n",
    "    df.rename_axis(name, inplace=True)\n",
    "    return TimeSeries.from_dataframe(df)"
   ]
  },
  {
   "cell_type": "code",
   "execution_count": 21,
   "id": "9e46a81e",
   "metadata": {},
   "outputs": [],
   "source": [
    "input = rename_index(predictions['inputs']['Daily temperature'][0]).rename({'Daily minimum temperatures': 'input'})\n",
    "target = rename_index(predictions['targets']['Daily temperature'][0]).rename({'Daily minimum temperatures': 'target'})\n",
    "prediction = rename_index(predictions['predictions']['Temporal Convolutional Network']['Daily temperature'][0]).rename({'Daily minimum temperatures': 'prediction'})"
   ]
  },
  {
   "cell_type": "code",
   "execution_count": 22,
   "id": "da7935d5",
   "metadata": {},
   "outputs": [
    {
     "data": {
      "text/html": [
       "\n",
       "<style>\n",
       "  #altair-viz-439a5dc0615c411fa3019a30995fbd54.vega-embed {\n",
       "    width: 100%;\n",
       "    display: flex;\n",
       "  }\n",
       "\n",
       "  #altair-viz-439a5dc0615c411fa3019a30995fbd54.vega-embed details,\n",
       "  #altair-viz-439a5dc0615c411fa3019a30995fbd54.vega-embed details summary {\n",
       "    position: relative;\n",
       "  }\n",
       "</style>\n",
       "<div id=\"altair-viz-439a5dc0615c411fa3019a30995fbd54\"></div>\n",
       "<script type=\"text/javascript\">\n",
       "  var VEGA_DEBUG = (typeof VEGA_DEBUG == \"undefined\") ? {} : VEGA_DEBUG;\n",
       "  (function(spec, embedOpt){\n",
       "    let outputDiv = document.currentScript.previousElementSibling;\n",
       "    if (outputDiv.id !== \"altair-viz-439a5dc0615c411fa3019a30995fbd54\") {\n",
       "      outputDiv = document.getElementById(\"altair-viz-439a5dc0615c411fa3019a30995fbd54\");\n",
       "    }\n",
       "    const paths = {\n",
       "      \"vega\": \"https://cdn.jsdelivr.net/npm/vega@5?noext\",\n",
       "      \"vega-lib\": \"https://cdn.jsdelivr.net/npm/vega-lib?noext\",\n",
       "      \"vega-lite\": \"https://cdn.jsdelivr.net/npm/vega-lite@5.20.1?noext\",\n",
       "      \"vega-embed\": \"https://cdn.jsdelivr.net/npm/vega-embed@6?noext\",\n",
       "    };\n",
       "\n",
       "    function maybeLoadScript(lib, version) {\n",
       "      var key = `${lib.replace(\"-\", \"\")}_version`;\n",
       "      return (VEGA_DEBUG[key] == version) ?\n",
       "        Promise.resolve(paths[lib]) :\n",
       "        new Promise(function(resolve, reject) {\n",
       "          var s = document.createElement('script');\n",
       "          document.getElementsByTagName(\"head\")[0].appendChild(s);\n",
       "          s.async = true;\n",
       "          s.onload = () => {\n",
       "            VEGA_DEBUG[key] = version;\n",
       "            return resolve(paths[lib]);\n",
       "          };\n",
       "          s.onerror = () => reject(`Error loading script: ${paths[lib]}`);\n",
       "          s.src = paths[lib];\n",
       "        });\n",
       "    }\n",
       "\n",
       "    function showError(err) {\n",
       "      outputDiv.innerHTML = `<div class=\"error\" style=\"color:red;\">${err}</div>`;\n",
       "      throw err;\n",
       "    }\n",
       "\n",
       "    function displayChart(vegaEmbed) {\n",
       "      vegaEmbed(outputDiv, spec, embedOpt)\n",
       "        .catch(err => showError(`Javascript Error: ${err.message}<br>This usually means there's a typo in your chart specification. See the javascript console for the full traceback.`));\n",
       "    }\n",
       "\n",
       "    if(typeof define === \"function\" && define.amd) {\n",
       "      requirejs.config({paths});\n",
       "      require([\"vega-embed\"], displayChart, err => showError(`Error loading script: ${err.message}`));\n",
       "    } else {\n",
       "      maybeLoadScript(\"vega\", \"5\")\n",
       "        .then(() => maybeLoadScript(\"vega-lite\", \"5.20.1\"))\n",
       "        .then(() => maybeLoadScript(\"vega-embed\", \"6\"))\n",
       "        .catch(showError)\n",
       "        .then(() => displayChart(vegaEmbed));\n",
       "    }\n",
       "  })({\"$schema\": \"https://vega.github.io/schema/vega/v5.json\", \"data\": [{\"name\": \"source_0\", \"values\": [{\"time\": \"1990-01-18T00:00:00.000\", \"variable\": \"input\", \"value\": 15.0}, {\"time\": \"1990-01-19T00:00:00.000\", \"variable\": \"input\", \"value\": 14.5}, {\"time\": \"1990-01-20T00:00:00.000\", \"variable\": \"input\", \"value\": 14.5}, {\"time\": \"1990-01-21T00:00:00.000\", \"variable\": \"input\", \"value\": 13.3}, {\"time\": \"1990-01-22T00:00:00.000\", \"variable\": \"input\", \"value\": 14.3}, {\"time\": \"1990-01-23T00:00:00.000\", \"variable\": \"input\", \"value\": 14.3}, {\"time\": \"1990-01-24T00:00:00.000\", \"variable\": \"input\", \"value\": 20.5}, {\"time\": \"1990-01-25T00:00:00.000\", \"variable\": \"input\", \"value\": 15.0}, {\"time\": \"1990-01-26T00:00:00.000\", \"variable\": \"input\", \"value\": 17.1}, {\"time\": \"1990-01-27T00:00:00.000\", \"variable\": \"input\", \"value\": 16.9}, {\"time\": \"1990-01-28T00:00:00.000\", \"variable\": \"input\", \"value\": 16.9}, {\"time\": \"1990-01-29T00:00:00.000\", \"variable\": \"input\", \"value\": 13.6}, {\"time\": \"1990-01-30T00:00:00.000\", \"variable\": \"input\", \"value\": 16.4}, {\"time\": \"1990-01-31T00:00:00.000\", \"variable\": \"input\", \"value\": 16.1}, {\"time\": \"1990-02-01T00:00:00.000\", \"variable\": \"input\", \"value\": 12.0}, {\"time\": \"1990-02-02T00:00:00.000\", \"variable\": \"input\", \"value\": 12.2}, {\"time\": \"1990-02-03T00:00:00.000\", \"variable\": \"input\", \"value\": 14.8}, {\"time\": \"1990-02-04T00:00:00.000\", \"variable\": \"input\", \"value\": 14.8}, {\"time\": \"1990-02-05T00:00:00.000\", \"variable\": \"input\", \"value\": 14.4}, {\"time\": \"1990-02-06T00:00:00.000\", \"variable\": \"input\", \"value\": 12.9}, {\"time\": \"1990-02-07T00:00:00.000\", \"variable\": \"input\", \"value\": 13.4}, {\"time\": \"1990-02-08T00:00:00.000\", \"variable\": \"input\", \"value\": 15.9}, {\"time\": \"1990-02-09T00:00:00.000\", \"variable\": \"input\", \"value\": 16.1}, {\"time\": \"1990-02-10T00:00:00.000\", \"variable\": \"input\", \"value\": 17.6}, {\"time\": \"1990-02-11T00:00:00.000\", \"variable\": \"input\", \"value\": 15.6}, {\"time\": \"1990-02-12T00:00:00.000\", \"variable\": \"input\", \"value\": 15.0}, {\"time\": \"1990-02-13T00:00:00.000\", \"variable\": \"input\", \"value\": 13.0}, {\"time\": \"1990-02-14T00:00:00.000\", \"variable\": \"input\", \"value\": 14.1}, {\"time\": \"1990-02-15T00:00:00.000\", \"variable\": \"input\", \"value\": 17.3}, {\"time\": \"1990-02-16T00:00:00.000\", \"variable\": \"input\", \"value\": 15.7}, {\"time\": \"1990-02-17T00:00:00.000\", \"variable\": \"input\", \"value\": 18.6}, {\"time\": \"1990-02-18T00:00:00.000\", \"variable\": \"input\", \"value\": 12.7}, {\"time\": \"1990-02-19T00:00:00.000\", \"variable\": \"input\", \"value\": 14.0}, {\"time\": \"1990-02-20T00:00:00.000\", \"variable\": \"input\", \"value\": 13.7}, {\"time\": \"1990-02-21T00:00:00.000\", \"variable\": \"input\", \"value\": 16.3}, {\"time\": \"1990-02-22T00:00:00.000\", \"variable\": \"input\", \"value\": 20.0}, {\"time\": \"1990-02-23T00:00:00.000\", \"variable\": \"input\", \"value\": 17.0}, {\"time\": \"1990-02-24T00:00:00.000\", \"variable\": \"input\", \"value\": 15.2}, {\"time\": \"1990-02-25T00:00:00.000\", \"variable\": \"input\", \"value\": 16.5}, {\"time\": \"1990-02-26T00:00:00.000\", \"variable\": \"input\", \"value\": 16.5}, {\"time\": \"1990-02-27T00:00:00.000\", \"variable\": \"input\", \"value\": 17.3}, {\"time\": \"1990-02-28T00:00:00.000\", \"variable\": \"input\", \"value\": 19.1}, {\"time\": \"1990-03-01T00:00:00.000\", \"variable\": \"input\", \"value\": 19.3}, {\"time\": \"1990-03-02T00:00:00.000\", \"variable\": \"input\", \"value\": 17.3}, {\"time\": \"1990-03-03T00:00:00.000\", \"variable\": \"input\", \"value\": 19.0}, {\"time\": \"1990-03-04T00:00:00.000\", \"variable\": \"input\", \"value\": 19.8}, {\"time\": \"1990-03-05T00:00:00.000\", \"variable\": \"input\", \"value\": 19.3}, {\"time\": \"1990-03-06T00:00:00.000\", \"variable\": \"input\", \"value\": 17.2}, {\"time\": \"1990-03-07T00:00:00.000\", \"variable\": \"input\", \"value\": 14.2}, {\"time\": \"1990-03-08T00:00:00.000\", \"variable\": \"input\", \"value\": 10.3}, {\"time\": \"1990-03-09T00:00:00.000\", \"variable\": \"input\", \"value\": 13.0}, {\"time\": \"1990-03-10T00:00:00.000\", \"variable\": \"input\", \"value\": 15.3}, {\"time\": \"1990-03-11T00:00:00.000\", \"variable\": \"input\", \"value\": 15.0}, {\"time\": \"1990-03-12T00:00:00.000\", \"variable\": \"input\", \"value\": 12.1}, {\"time\": \"1990-03-13T00:00:00.000\", \"variable\": \"input\", \"value\": 9.2}, {\"time\": \"1990-03-14T00:00:00.000\", \"variable\": \"input\", \"value\": 11.0}, {\"time\": \"1990-03-15T00:00:00.000\", \"variable\": \"input\", \"value\": 15.0}, {\"time\": \"1990-03-16T00:00:00.000\", \"variable\": \"input\", \"value\": 11.6}, {\"time\": \"1990-03-17T00:00:00.000\", \"variable\": \"input\", \"value\": 11.6}, {\"time\": \"1990-03-18T00:00:00.000\", \"variable\": \"input\", \"value\": 15.1}, {\"time\": \"1990-03-19T00:00:00.000\", \"variable\": \"input\", \"value\": 15.0}, {\"time\": \"1990-03-20T00:00:00.000\", \"variable\": \"input\", \"value\": 13.6}, {\"time\": \"1990-03-21T00:00:00.000\", \"variable\": \"input\", \"value\": 12.5}, {\"time\": \"1990-03-22T00:00:00.000\", \"variable\": \"input\", \"value\": 14.3}, {\"time\": \"1990-03-23T00:00:00.000\", \"variable\": \"input\", \"value\": 16.0}, {\"time\": \"1990-03-24T00:00:00.000\", \"variable\": \"input\", \"value\": 17.4}, {\"time\": \"1990-03-25T00:00:00.000\", \"variable\": \"input\", \"value\": 16.9}, {\"time\": \"1990-03-26T00:00:00.000\", \"variable\": \"input\", \"value\": 18.0}, {\"time\": \"1990-03-27T00:00:00.000\", \"variable\": \"input\", \"value\": 20.6}, {\"time\": \"1990-03-28T00:00:00.000\", \"variable\": \"input\", \"value\": 14.2}, {\"time\": \"1990-03-29T00:00:00.000\", \"variable\": \"input\", \"value\": 10.9}, {\"time\": \"1990-03-30T00:00:00.000\", \"variable\": \"input\", \"value\": 11.9}, {\"time\": \"1990-03-31T00:00:00.000\", \"variable\": \"input\", \"value\": 13.3}, {\"time\": \"1990-04-01T00:00:00.000\", \"variable\": \"input\", \"value\": 15.3}, {\"time\": \"1990-04-02T00:00:00.000\", \"variable\": \"input\", \"value\": 14.7}, {\"time\": \"1990-04-03T00:00:00.000\", \"variable\": \"input\", \"value\": 11.0}, {\"time\": \"1990-04-04T00:00:00.000\", \"variable\": \"input\", \"value\": 12.2}, {\"time\": \"1990-04-05T00:00:00.000\", \"variable\": \"input\", \"value\": 14.2}, {\"time\": \"1990-04-06T00:00:00.000\", \"variable\": \"input\", \"value\": 17.0}, {\"time\": \"1990-04-07T00:00:00.000\", \"variable\": \"input\", \"value\": 15.8}, {\"time\": \"1990-04-08T00:00:00.000\", \"variable\": \"input\", \"value\": 15.2}, {\"time\": \"1990-04-09T00:00:00.000\", \"variable\": \"input\", \"value\": 15.1}, {\"time\": \"1990-04-10T00:00:00.000\", \"variable\": \"input\", \"value\": 14.7}, {\"time\": \"1990-04-11T00:00:00.000\", \"variable\": \"input\", \"value\": 18.5}, {\"time\": \"1990-04-12T00:00:00.000\", \"variable\": \"input\", \"value\": 16.4}, {\"time\": \"1990-04-13T00:00:00.000\", \"variable\": \"input\", \"value\": 18.4}, {\"time\": \"1990-04-14T00:00:00.000\", \"variable\": \"input\", \"value\": 15.1}, {\"time\": \"1990-04-15T00:00:00.000\", \"variable\": \"input\", \"value\": 9.9}, {\"time\": \"1990-04-16T00:00:00.000\", \"variable\": \"input\", \"value\": 10.2}, {\"time\": \"1990-04-17T00:00:00.000\", \"variable\": \"input\", \"value\": 12.6}, {\"time\": \"1990-04-18T00:00:00.000\", \"variable\": \"input\", \"value\": 13.2}, {\"time\": \"1990-04-19T00:00:00.000\", \"variable\": \"input\", \"value\": 11.5}, {\"time\": \"1990-04-20T00:00:00.000\", \"variable\": \"input\", \"value\": 13.8}, {\"time\": \"1990-04-21T00:00:00.000\", \"variable\": \"input\", \"value\": 14.5}, {\"time\": \"1990-04-22T00:00:00.000\", \"variable\": \"input\", \"value\": 14.7}, {\"time\": \"1990-04-23T00:00:00.000\", \"variable\": \"input\", \"value\": 11.2}], \"transform\": [{\"type\": \"formula\", \"expr\": \"toDate(datum['time'])\", \"as\": \"time\"}]}, {\"name\": \"source_1\", \"values\": [{\"time\": \"1990-04-24T00:00:00.000\", \"variable\": \"target\", \"value\": 12.7}, {\"time\": \"1990-04-25T00:00:00.000\", \"variable\": \"target\", \"value\": 13.7}, {\"time\": \"1990-04-26T00:00:00.000\", \"variable\": \"target\", \"value\": 11.5}, {\"time\": \"1990-04-27T00:00:00.000\", \"variable\": \"target\", \"value\": 10.4}, {\"time\": \"1990-04-28T00:00:00.000\", \"variable\": \"target\", \"value\": 8.9}, {\"time\": \"1990-04-29T00:00:00.000\", \"variable\": \"target\", \"value\": 11.1}, {\"time\": \"1990-04-30T00:00:00.000\", \"variable\": \"target\", \"value\": 9.5}, {\"time\": \"1990-05-01T00:00:00.000\", \"variable\": \"target\", \"value\": 13.0}, {\"time\": \"1990-05-02T00:00:00.000\", \"variable\": \"target\", \"value\": 13.9}, {\"time\": \"1990-05-03T00:00:00.000\", \"variable\": \"target\", \"value\": 12.6}, {\"time\": \"1990-05-04T00:00:00.000\", \"variable\": \"target\", \"value\": 14.3}, {\"time\": \"1990-05-05T00:00:00.000\", \"variable\": \"target\", \"value\": 16.0}, {\"time\": \"1990-05-06T00:00:00.000\", \"variable\": \"target\", \"value\": 13.3}, {\"time\": \"1990-05-07T00:00:00.000\", \"variable\": \"target\", \"value\": 7.0}, {\"time\": \"1990-05-08T00:00:00.000\", \"variable\": \"target\", \"value\": 4.9}, {\"time\": \"1990-05-09T00:00:00.000\", \"variable\": \"target\", \"value\": 6.9}, {\"time\": \"1990-05-10T00:00:00.000\", \"variable\": \"target\", \"value\": 13.7}, {\"time\": \"1990-05-11T00:00:00.000\", \"variable\": \"target\", \"value\": 10.6}, {\"time\": \"1990-05-12T00:00:00.000\", \"variable\": \"target\", \"value\": 12.3}, {\"time\": \"1990-05-13T00:00:00.000\", \"variable\": \"target\", \"value\": 11.1}, {\"time\": \"1990-05-14T00:00:00.000\", \"variable\": \"target\", \"value\": 10.2}, {\"time\": \"1990-05-15T00:00:00.000\", \"variable\": \"target\", \"value\": 9.5}, {\"time\": \"1990-05-16T00:00:00.000\", \"variable\": \"target\", \"value\": 8.9}, {\"time\": \"1990-05-17T00:00:00.000\", \"variable\": \"target\", \"value\": 13.4}], \"transform\": [{\"type\": \"formula\", \"expr\": \"toDate(datum['time'])\", \"as\": \"time\"}]}, {\"name\": \"source_2\", \"values\": [{\"time\": \"1990-04-24T00:00:00.000\", \"variable\": \"prediction\", \"value\": 13.549730225359703}, {\"time\": \"1990-04-25T00:00:00.000\", \"variable\": \"prediction\", \"value\": 11.418043962558828}, {\"time\": \"1990-04-26T00:00:00.000\", \"variable\": \"prediction\", \"value\": 10.73206501647997}, {\"time\": \"1990-04-27T00:00:00.000\", \"variable\": \"prediction\", \"value\": 11.898710907793543}, {\"time\": \"1990-04-28T00:00:00.000\", \"variable\": \"prediction\", \"value\": 11.783351283139819}, {\"time\": \"1990-04-29T00:00:00.000\", \"variable\": \"prediction\", \"value\": 10.331200840647885}, {\"time\": \"1990-04-30T00:00:00.000\", \"variable\": \"prediction\", \"value\": 11.582269407215634}, {\"time\": \"1990-05-01T00:00:00.000\", \"variable\": \"prediction\", \"value\": 12.212777572326209}, {\"time\": \"1990-05-02T00:00:00.000\", \"variable\": \"prediction\", \"value\": 12.577176247408673}, {\"time\": \"1990-05-03T00:00:00.000\", \"variable\": \"prediction\", \"value\": 10.91926488889237}, {\"time\": \"1990-05-04T00:00:00.000\", \"variable\": \"prediction\", \"value\": 12.604385846525458}, {\"time\": \"1990-05-05T00:00:00.000\", \"variable\": \"prediction\", \"value\": 11.708257255254184}, {\"time\": \"1990-05-06T00:00:00.000\", \"variable\": \"prediction\", \"value\": 10.67341608593445}, {\"time\": \"1990-05-07T00:00:00.000\", \"variable\": \"prediction\", \"value\": 10.49571727692161}, {\"time\": \"1990-05-08T00:00:00.000\", \"variable\": \"prediction\", \"value\": 10.795560840956988}, {\"time\": \"1990-05-09T00:00:00.000\", \"variable\": \"prediction\", \"value\": 9.824311683727691}, {\"time\": \"1990-05-10T00:00:00.000\", \"variable\": \"prediction\", \"value\": 10.154427877673719}, {\"time\": \"1990-05-11T00:00:00.000\", \"variable\": \"prediction\", \"value\": 10.731271982110638}, {\"time\": \"1990-05-12T00:00:00.000\", \"variable\": \"prediction\", \"value\": 10.958476472275432}, {\"time\": \"1990-05-13T00:00:00.000\", \"variable\": \"prediction\", \"value\": 10.040271525425736}, {\"time\": \"1990-05-14T00:00:00.000\", \"variable\": \"prediction\", \"value\": 11.101730689864954}, {\"time\": \"1990-05-15T00:00:00.000\", \"variable\": \"prediction\", \"value\": 10.649378888149108}, {\"time\": \"1990-05-16T00:00:00.000\", \"variable\": \"prediction\", \"value\": 10.294297044880453}, {\"time\": \"1990-05-17T00:00:00.000\", \"variable\": \"prediction\", \"value\": 9.831412649552842}], \"transform\": [{\"type\": \"formula\", \"expr\": \"toDate(datum['time'])\", \"as\": \"time\"}]}, {\"name\": \"source_0_color_domain_variable_0\", \"values\": [{\"variable\": \"input\"}]}, {\"name\": \"source_1_color_domain_variable_1\", \"values\": [{\"variable\": \"target\"}]}, {\"name\": \"source_2_color_domain_variable_2\", \"values\": [{\"variable\": \"prediction\"}]}], \"marks\": [{\"type\": \"group\", \"name\": \"layer_0_pathgroup\", \"from\": {\"facet\": {\"data\": \"source_0\", \"name\": \"faceted_path_layer_0_main\", \"groupby\": [\"variable\"]}}, \"encode\": {\"update\": {\"width\": {\"field\": {\"signal\": null, \"datum\": null, \"group\": \"width\", \"parent\": null}}, \"height\": {\"field\": {\"signal\": null, \"datum\": null, \"group\": \"height\", \"parent\": null}}}}, \"marks\": [{\"type\": \"line\", \"name\": \"layer_0_marks\", \"from\": {\"data\": \"faceted_path_layer_0_main\"}, \"sort\": {\"field\": \"x\"}, \"encode\": {\"update\": {\"y\": {\"field\": \"value\", \"scale\": \"y\"}, \"defined\": {\"signal\": \"isValid(datum[\\\"time\\\"]) && isFinite(+datum[\\\"time\\\"]) && isValid(datum[\\\"value\\\"]) && isFinite(+datum[\\\"value\\\"])\"}, \"stroke\": {\"field\": \"variable\", \"scale\": \"color\"}, \"x\": {\"field\": \"time\", \"scale\": \"x\"}}}, \"style\": [\"line\"]}]}, {\"type\": \"group\", \"name\": \"layer_1_pathgroup\", \"from\": {\"facet\": {\"data\": \"source_1\", \"name\": \"faceted_path_layer_1_main\", \"groupby\": [\"variable\"]}}, \"encode\": {\"update\": {\"height\": {\"field\": {\"signal\": null, \"datum\": null, \"group\": \"height\", \"parent\": null}}, \"width\": {\"field\": {\"signal\": null, \"datum\": null, \"group\": \"width\", \"parent\": null}}}}, \"marks\": [{\"type\": \"line\", \"name\": \"layer_1_marks\", \"from\": {\"data\": \"faceted_path_layer_1_main\"}, \"sort\": {\"field\": \"x\"}, \"encode\": {\"update\": {\"stroke\": {\"field\": \"variable\", \"scale\": \"color\"}, \"y\": {\"field\": \"value\", \"scale\": \"y\"}, \"defined\": {\"signal\": \"isValid(datum[\\\"time\\\"]) && isFinite(+datum[\\\"time\\\"]) && isValid(datum[\\\"value\\\"]) && isFinite(+datum[\\\"value\\\"])\"}, \"x\": {\"field\": \"time\", \"scale\": \"x\"}}}, \"style\": [\"line\"]}]}, {\"type\": \"group\", \"name\": \"layer_2_pathgroup\", \"from\": {\"facet\": {\"data\": \"source_2\", \"name\": \"faceted_path_layer_2_main\", \"groupby\": [\"variable\"]}}, \"encode\": {\"update\": {\"width\": {\"field\": {\"signal\": null, \"datum\": null, \"group\": \"width\", \"parent\": null}}, \"height\": {\"field\": {\"signal\": null, \"datum\": null, \"group\": \"height\", \"parent\": null}}}}, \"marks\": [{\"type\": \"line\", \"name\": \"layer_2_marks\", \"from\": {\"data\": \"faceted_path_layer_2_main\"}, \"sort\": {\"field\": \"x\"}, \"encode\": {\"update\": {\"y\": {\"field\": \"value\", \"scale\": \"y\"}, \"defined\": {\"signal\": \"isValid(datum[\\\"time\\\"]) && isFinite(+datum[\\\"time\\\"]) && isValid(datum[\\\"value\\\"]) && isFinite(+datum[\\\"value\\\"])\"}, \"x\": {\"field\": \"time\", \"scale\": \"x\"}, \"strokeDash\": {\"value\": [5, 2]}, \"opacity\": {\"value\": 0.7}, \"stroke\": {\"field\": \"variable\", \"scale\": \"color\"}}}, \"style\": [\"line\"]}]}], \"scales\": [{\"name\": \"x\", \"type\": \"time\", \"domain\": {\"fields\": [{\"data\": \"source_0\", \"field\": \"time\"}, {\"data\": \"source_1\", \"field\": \"time\"}, {\"data\": \"source_2\", \"field\": \"time\"}]}, \"range\": [0, {\"signal\": \"width\"}]}, {\"name\": \"y\", \"type\": \"linear\", \"domain\": {\"fields\": [{\"data\": \"source_0\", \"field\": \"value\"}, {\"data\": \"source_1\", \"field\": \"value\"}, {\"data\": \"source_2\", \"field\": \"value\"}]}, \"range\": [{\"signal\": \"height\"}, 0], \"nice\": true, \"zero\": true}, {\"name\": \"color\", \"type\": \"ordinal\", \"domain\": {\"fields\": [{\"data\": \"source_0_color_domain_variable_0\", \"field\": \"variable\"}, {\"data\": \"source_1_color_domain_variable_1\", \"field\": \"variable\"}, {\"data\": \"source_2_color_domain_variable_2\", \"field\": \"variable\"}], \"sort\": true}, \"range\": \"category\"}], \"axes\": [{\"scale\": \"x\", \"orient\": \"bottom\", \"maxExtent\": 0, \"aria\": false, \"labels\": false, \"domain\": false, \"minExtent\": 0, \"tickCount\": {\"signal\": \"ceil(width/40)\"}, \"gridScale\": \"y\", \"ticks\": false, \"zindex\": 0, \"grid\": true}, {\"scale\": \"y\", \"tickCount\": {\"signal\": \"ceil(height/40)\"}, \"domain\": false, \"orient\": \"left\", \"aria\": false, \"grid\": true, \"gridScale\": \"x\", \"maxExtent\": 0, \"minExtent\": 0, \"ticks\": false, \"labels\": false, \"zindex\": 0}, {\"scale\": \"x\", \"title\": \"time\", \"labelFlush\": true, \"grid\": false, \"labelOverlap\": true, \"zindex\": 0, \"orient\": \"bottom\", \"tickCount\": {\"signal\": \"ceil(width/40)\"}}, {\"scale\": \"y\", \"grid\": false, \"tickCount\": {\"signal\": \"ceil(height/40)\"}, \"labelOverlap\": true, \"zindex\": 0, \"orient\": \"left\", \"title\": \"value\"}], \"legends\": [{\"stroke\": \"color\", \"symbolType\": \"stroke\", \"title\": \"variable\", \"encode\": {\"symbols\": {\"update\": {\"opacity\": {\"value\": 0.7}}}}}], \"height\": 200, \"background\": \"white\", \"width\": 600, \"padding\": 5, \"style\": \"cell\"}, {\"mode\": \"vega\"});\n",
       "</script>"
      ],
      "text/plain": [
       "alt.LayerChart(...)"
      ]
     },
     "execution_count": 22,
     "metadata": {},
     "output_type": "execute_result"
    }
   ],
   "source": [
    "(on.Plot()\n",
    "    .add(on.marks.line, input)\n",
    "    .add(on.marks.line, target)\n",
    "    .add(on.marks.line, prediction, type='dashed')\n",
    "    .properties(width=600, height=200)\n",
    "    .show()\n",
    ")"
   ]
  },
  {
   "cell_type": "code",
   "execution_count": null,
   "id": "ffecb8fb",
   "metadata": {},
   "outputs": [],
   "source": [
    "prediction = rename_index(predictions['predictions']['ExponentialSmoothingUnivariate']['Daily temperature'][0]).rename({'Daily minimum temperatures': 'prediction'})"
   ]
  },
  {
   "cell_type": "code",
   "execution_count": null,
   "id": "e6c1b476",
   "metadata": {},
   "outputs": [
    {
     "data": {
      "text/html": [
       "\n",
       "<style>\n",
       "  #altair-viz-c3f85061a6984354b081993e56c10a52.vega-embed {\n",
       "    width: 100%;\n",
       "    display: flex;\n",
       "  }\n",
       "\n",
       "  #altair-viz-c3f85061a6984354b081993e56c10a52.vega-embed details,\n",
       "  #altair-viz-c3f85061a6984354b081993e56c10a52.vega-embed details summary {\n",
       "    position: relative;\n",
       "  }\n",
       "</style>\n",
       "<div id=\"altair-viz-c3f85061a6984354b081993e56c10a52\"></div>\n",
       "<script type=\"text/javascript\">\n",
       "  var VEGA_DEBUG = (typeof VEGA_DEBUG == \"undefined\") ? {} : VEGA_DEBUG;\n",
       "  (function(spec, embedOpt){\n",
       "    let outputDiv = document.currentScript.previousElementSibling;\n",
       "    if (outputDiv.id !== \"altair-viz-c3f85061a6984354b081993e56c10a52\") {\n",
       "      outputDiv = document.getElementById(\"altair-viz-c3f85061a6984354b081993e56c10a52\");\n",
       "    }\n",
       "    const paths = {\n",
       "      \"vega\": \"https://cdn.jsdelivr.net/npm/vega@5?noext\",\n",
       "      \"vega-lib\": \"https://cdn.jsdelivr.net/npm/vega-lib?noext\",\n",
       "      \"vega-lite\": \"https://cdn.jsdelivr.net/npm/vega-lite@5.20.1?noext\",\n",
       "      \"vega-embed\": \"https://cdn.jsdelivr.net/npm/vega-embed@6?noext\",\n",
       "    };\n",
       "\n",
       "    function maybeLoadScript(lib, version) {\n",
       "      var key = `${lib.replace(\"-\", \"\")}_version`;\n",
       "      return (VEGA_DEBUG[key] == version) ?\n",
       "        Promise.resolve(paths[lib]) :\n",
       "        new Promise(function(resolve, reject) {\n",
       "          var s = document.createElement('script');\n",
       "          document.getElementsByTagName(\"head\")[0].appendChild(s);\n",
       "          s.async = true;\n",
       "          s.onload = () => {\n",
       "            VEGA_DEBUG[key] = version;\n",
       "            return resolve(paths[lib]);\n",
       "          };\n",
       "          s.onerror = () => reject(`Error loading script: ${paths[lib]}`);\n",
       "          s.src = paths[lib];\n",
       "        });\n",
       "    }\n",
       "\n",
       "    function showError(err) {\n",
       "      outputDiv.innerHTML = `<div class=\"error\" style=\"color:red;\">${err}</div>`;\n",
       "      throw err;\n",
       "    }\n",
       "\n",
       "    function displayChart(vegaEmbed) {\n",
       "      vegaEmbed(outputDiv, spec, embedOpt)\n",
       "        .catch(err => showError(`Javascript Error: ${err.message}<br>This usually means there's a typo in your chart specification. See the javascript console for the full traceback.`));\n",
       "    }\n",
       "\n",
       "    if(typeof define === \"function\" && define.amd) {\n",
       "      requirejs.config({paths});\n",
       "      require([\"vega-embed\"], displayChart, err => showError(`Error loading script: ${err.message}`));\n",
       "    } else {\n",
       "      maybeLoadScript(\"vega\", \"5\")\n",
       "        .then(() => maybeLoadScript(\"vega-lite\", \"5.20.1\"))\n",
       "        .then(() => maybeLoadScript(\"vega-embed\", \"6\"))\n",
       "        .catch(showError)\n",
       "        .then(() => displayChart(vegaEmbed));\n",
       "    }\n",
       "  })({\"$schema\": \"https://vega.github.io/schema/vega/v5.json\", \"data\": [{\"name\": \"source_0\", \"values\": [{\"time\": \"1989-01-18T00:00:00.000\", \"variable\": \"input\", \"value\": 13.9}, {\"time\": \"1989-01-19T00:00:00.000\", \"variable\": \"input\", \"value\": 13.1}, {\"time\": \"1989-01-20T00:00:00.000\", \"variable\": \"input\", \"value\": 16.0}, {\"time\": \"1989-01-21T00:00:00.000\", \"variable\": \"input\", \"value\": 14.5}, {\"time\": \"1989-01-22T00:00:00.000\", \"variable\": \"input\", \"value\": 15.0}, {\"time\": \"1989-01-23T00:00:00.000\", \"variable\": \"input\", \"value\": 12.6}, {\"time\": \"1989-01-24T00:00:00.000\", \"variable\": \"input\", \"value\": 12.5}, {\"time\": \"1989-01-25T00:00:00.000\", \"variable\": \"input\", \"value\": 15.2}, {\"time\": \"1989-01-26T00:00:00.000\", \"variable\": \"input\", \"value\": 16.2}, {\"time\": \"1989-01-27T00:00:00.000\", \"variable\": \"input\", \"value\": 16.5}, {\"time\": \"1989-01-28T00:00:00.000\", \"variable\": \"input\", \"value\": 20.1}, {\"time\": \"1989-01-29T00:00:00.000\", \"variable\": \"input\", \"value\": 20.6}, {\"time\": \"1989-01-30T00:00:00.000\", \"variable\": \"input\", \"value\": 16.9}, {\"time\": \"1989-01-31T00:00:00.000\", \"variable\": \"input\", \"value\": 16.5}, {\"time\": \"1989-02-01T00:00:00.000\", \"variable\": \"input\", \"value\": 16.1}, {\"time\": \"1989-02-02T00:00:00.000\", \"variable\": \"input\", \"value\": 14.4}, {\"time\": \"1989-02-03T00:00:00.000\", \"variable\": \"input\", \"value\": 16.3}, {\"time\": \"1989-02-04T00:00:00.000\", \"variable\": \"input\", \"value\": 15.7}, {\"time\": \"1989-02-05T00:00:00.000\", \"variable\": \"input\", \"value\": 14.2}, {\"time\": \"1989-02-06T00:00:00.000\", \"variable\": \"input\", \"value\": 13.2}, {\"time\": \"1989-02-07T00:00:00.000\", \"variable\": \"input\", \"value\": 16.8}, {\"time\": \"1989-02-08T00:00:00.000\", \"variable\": \"input\", \"value\": 18.5}, {\"time\": \"1989-02-09T00:00:00.000\", \"variable\": \"input\", \"value\": 16.7}, {\"time\": \"1989-02-10T00:00:00.000\", \"variable\": \"input\", \"value\": 15.3}, {\"time\": \"1989-02-11T00:00:00.000\", \"variable\": \"input\", \"value\": 15.9}, {\"time\": \"1989-02-12T00:00:00.000\", \"variable\": \"input\", \"value\": 15.2}, {\"time\": \"1989-02-13T00:00:00.000\", \"variable\": \"input\", \"value\": 17.5}, {\"time\": \"1989-02-14T00:00:00.000\", \"variable\": \"input\", \"value\": 18.3}, {\"time\": \"1989-02-15T00:00:00.000\", \"variable\": \"input\", \"value\": 19.4}, {\"time\": \"1989-02-16T00:00:00.000\", \"variable\": \"input\", \"value\": 19.4}, {\"time\": \"1989-02-17T00:00:00.000\", \"variable\": \"input\", \"value\": 19.5}, {\"time\": \"1989-02-18T00:00:00.000\", \"variable\": \"input\", \"value\": 20.5}, {\"time\": \"1989-02-19T00:00:00.000\", \"variable\": \"input\", \"value\": 15.7}, {\"time\": \"1989-02-20T00:00:00.000\", \"variable\": \"input\", \"value\": 15.0}, {\"time\": \"1989-02-21T00:00:00.000\", \"variable\": \"input\", \"value\": 16.1}, {\"time\": \"1989-02-22T00:00:00.000\", \"variable\": \"input\", \"value\": 14.3}, {\"time\": \"1989-02-23T00:00:00.000\", \"variable\": \"input\", \"value\": 13.0}, {\"time\": \"1989-02-24T00:00:00.000\", \"variable\": \"input\", \"value\": 16.2}, {\"time\": \"1989-02-25T00:00:00.000\", \"variable\": \"input\", \"value\": 17.7}, {\"time\": \"1989-02-26T00:00:00.000\", \"variable\": \"input\", \"value\": 13.2}, {\"time\": \"1989-02-27T00:00:00.000\", \"variable\": \"input\", \"value\": 15.8}, {\"time\": \"1989-02-28T00:00:00.000\", \"variable\": \"input\", \"value\": 18.5}, {\"time\": \"1989-03-01T00:00:00.000\", \"variable\": \"input\", \"value\": 20.4}, {\"time\": \"1989-03-02T00:00:00.000\", \"variable\": \"input\", \"value\": 22.0}, {\"time\": \"1989-03-03T00:00:00.000\", \"variable\": \"input\", \"value\": 19.7}, {\"time\": \"1989-03-04T00:00:00.000\", \"variable\": \"input\", \"value\": 19.6}, {\"time\": \"1989-03-05T00:00:00.000\", \"variable\": \"input\", \"value\": 20.3}, {\"time\": \"1989-03-06T00:00:00.000\", \"variable\": \"input\", \"value\": 18.3}, {\"time\": \"1989-03-07T00:00:00.000\", \"variable\": \"input\", \"value\": 18.9}, {\"time\": \"1989-03-08T00:00:00.000\", \"variable\": \"input\", \"value\": 20.3}, {\"time\": \"1989-03-09T00:00:00.000\", \"variable\": \"input\", \"value\": 21.4}, {\"time\": \"1989-03-10T00:00:00.000\", \"variable\": \"input\", \"value\": 18.3}, {\"time\": \"1989-03-11T00:00:00.000\", \"variable\": \"input\", \"value\": 17.8}, {\"time\": \"1989-03-12T00:00:00.000\", \"variable\": \"input\", \"value\": 17.7}, {\"time\": \"1989-03-13T00:00:00.000\", \"variable\": \"input\", \"value\": 12.8}, {\"time\": \"1989-03-14T00:00:00.000\", \"variable\": \"input\", \"value\": 15.1}, {\"time\": \"1989-03-15T00:00:00.000\", \"variable\": \"input\", \"value\": 15.0}, {\"time\": \"1989-03-16T00:00:00.000\", \"variable\": \"input\", \"value\": 14.8}, {\"time\": \"1989-03-17T00:00:00.000\", \"variable\": \"input\", \"value\": 12.0}, {\"time\": \"1989-03-18T00:00:00.000\", \"variable\": \"input\", \"value\": 12.5}, {\"time\": \"1989-03-19T00:00:00.000\", \"variable\": \"input\", \"value\": 15.0}, {\"time\": \"1989-03-20T00:00:00.000\", \"variable\": \"input\", \"value\": 17.1}, {\"time\": \"1989-03-21T00:00:00.000\", \"variable\": \"input\", \"value\": 17.3}, {\"time\": \"1989-03-22T00:00:00.000\", \"variable\": \"input\", \"value\": 16.9}, {\"time\": \"1989-03-23T00:00:00.000\", \"variable\": \"input\", \"value\": 16.5}, {\"time\": \"1989-03-24T00:00:00.000\", \"variable\": \"input\", \"value\": 13.6}, {\"time\": \"1989-03-25T00:00:00.000\", \"variable\": \"input\", \"value\": 13.2}, {\"time\": \"1989-03-26T00:00:00.000\", \"variable\": \"input\", \"value\": 9.4}, {\"time\": \"1989-03-27T00:00:00.000\", \"variable\": \"input\", \"value\": 9.5}, {\"time\": \"1989-03-28T00:00:00.000\", \"variable\": \"input\", \"value\": 11.8}, {\"time\": \"1989-03-29T00:00:00.000\", \"variable\": \"input\", \"value\": 10.4}, {\"time\": \"1989-03-30T00:00:00.000\", \"variable\": \"input\", \"value\": 9.7}, {\"time\": \"1989-03-31T00:00:00.000\", \"variable\": \"input\", \"value\": 12.6}, {\"time\": \"1989-04-01T00:00:00.000\", \"variable\": \"input\", \"value\": 13.3}, {\"time\": \"1989-04-02T00:00:00.000\", \"variable\": \"input\", \"value\": 15.1}, {\"time\": \"1989-04-03T00:00:00.000\", \"variable\": \"input\", \"value\": 14.2}, {\"time\": \"1989-04-04T00:00:00.000\", \"variable\": \"input\", \"value\": 14.2}, {\"time\": \"1989-04-05T00:00:00.000\", \"variable\": \"input\", \"value\": 19.2}, {\"time\": \"1989-04-06T00:00:00.000\", \"variable\": \"input\", \"value\": 12.6}, {\"time\": \"1989-04-07T00:00:00.000\", \"variable\": \"input\", \"value\": 14.2}, {\"time\": \"1989-04-08T00:00:00.000\", \"variable\": \"input\", \"value\": 11.9}, {\"time\": \"1989-04-09T00:00:00.000\", \"variable\": \"input\", \"value\": 13.9}, {\"time\": \"1989-04-10T00:00:00.000\", \"variable\": \"input\", \"value\": 13.5}, {\"time\": \"1989-04-11T00:00:00.000\", \"variable\": \"input\", \"value\": 15.3}, {\"time\": \"1989-04-12T00:00:00.000\", \"variable\": \"input\", \"value\": 13.9}, {\"time\": \"1989-04-13T00:00:00.000\", \"variable\": \"input\", \"value\": 14.0}, {\"time\": \"1989-04-14T00:00:00.000\", \"variable\": \"input\", \"value\": 12.9}, {\"time\": \"1989-04-15T00:00:00.000\", \"variable\": \"input\", \"value\": 8.5}, {\"time\": \"1989-04-16T00:00:00.000\", \"variable\": \"input\", \"value\": 11.4}, {\"time\": \"1989-04-17T00:00:00.000\", \"variable\": \"input\", \"value\": 10.9}, {\"time\": \"1989-04-18T00:00:00.000\", \"variable\": \"input\", \"value\": 12.0}, {\"time\": \"1989-04-19T00:00:00.000\", \"variable\": \"input\", \"value\": 8.6}, {\"time\": \"1989-04-20T00:00:00.000\", \"variable\": \"input\", \"value\": 9.0}, {\"time\": \"1989-04-21T00:00:00.000\", \"variable\": \"input\", \"value\": 9.6}, {\"time\": \"1989-04-22T00:00:00.000\", \"variable\": \"input\", \"value\": 10.2}, {\"time\": \"1989-04-23T00:00:00.000\", \"variable\": \"input\", \"value\": 9.8}], \"transform\": [{\"type\": \"formula\", \"expr\": \"toDate(datum['time'])\", \"as\": \"time\"}]}, {\"name\": \"source_1\", \"values\": [{\"time\": \"1989-04-24T00:00:00.000\", \"variable\": \"target\", \"value\": 8.3}, {\"time\": \"1989-04-25T00:00:00.000\", \"variable\": \"target\", \"value\": 11.0}, {\"time\": \"1989-04-26T00:00:00.000\", \"variable\": \"target\", \"value\": 11.9}, {\"time\": \"1989-04-27T00:00:00.000\", \"variable\": \"target\", \"value\": 14.0}, {\"time\": \"1989-04-28T00:00:00.000\", \"variable\": \"target\", \"value\": 15.8}, {\"time\": \"1989-04-29T00:00:00.000\", \"variable\": \"target\", \"value\": 14.5}, {\"time\": \"1989-04-30T00:00:00.000\", \"variable\": \"target\", \"value\": 13.2}, {\"time\": \"1989-05-01T00:00:00.000\", \"variable\": \"target\", \"value\": 14.2}, {\"time\": \"1989-05-02T00:00:00.000\", \"variable\": \"target\", \"value\": 14.6}, {\"time\": \"1989-05-03T00:00:00.000\", \"variable\": \"target\", \"value\": 11.8}, {\"time\": \"1989-05-04T00:00:00.000\", \"variable\": \"target\", \"value\": 14.4}, {\"time\": \"1989-05-05T00:00:00.000\", \"variable\": \"target\", \"value\": 10.4}, {\"time\": \"1989-05-06T00:00:00.000\", \"variable\": \"target\", \"value\": 10.3}, {\"time\": \"1989-05-07T00:00:00.000\", \"variable\": \"target\", \"value\": 10.8}, {\"time\": \"1989-05-08T00:00:00.000\", \"variable\": \"target\", \"value\": 10.5}, {\"time\": \"1989-05-09T00:00:00.000\", \"variable\": \"target\", \"value\": 9.5}, {\"time\": \"1989-05-10T00:00:00.000\", \"variable\": \"target\", \"value\": 12.5}, {\"time\": \"1989-05-11T00:00:00.000\", \"variable\": \"target\", \"value\": 13.7}, {\"time\": \"1989-05-12T00:00:00.000\", \"variable\": \"target\", \"value\": 12.7}, {\"time\": \"1989-05-13T00:00:00.000\", \"variable\": \"target\", \"value\": 11.9}, {\"time\": \"1989-05-14T00:00:00.000\", \"variable\": \"target\", \"value\": 11.4}, {\"time\": \"1989-05-15T00:00:00.000\", \"variable\": \"target\", \"value\": 9.7}, {\"time\": \"1989-05-16T00:00:00.000\", \"variable\": \"target\", \"value\": 8.3}, {\"time\": \"1989-05-17T00:00:00.000\", \"variable\": \"target\", \"value\": 8.1}], \"transform\": [{\"type\": \"formula\", \"expr\": \"toDate(datum['time'])\", \"as\": \"time\"}]}, {\"name\": \"source_2\", \"values\": [{\"time\": \"1989-04-24T00:00:00.000\", \"variable\": \"prediction\", \"value\": 9.032144661183853}, {\"time\": \"1989-04-25T00:00:00.000\", \"variable\": \"prediction\", \"value\": 10.26286863330505}, {\"time\": \"1989-04-26T00:00:00.000\", \"variable\": \"prediction\", \"value\": 10.629844379802844}, {\"time\": \"1989-04-27T00:00:00.000\", \"variable\": \"prediction\", \"value\": 9.965560074405026}, {\"time\": \"1989-04-28T00:00:00.000\", \"variable\": \"prediction\", \"value\": 9.958412113579186}, {\"time\": \"1989-04-29T00:00:00.000\", \"variable\": \"prediction\", \"value\": 9.865567835641873}, {\"time\": \"1989-04-30T00:00:00.000\", \"variable\": \"prediction\", \"value\": 9.515554486349162}, {\"time\": \"1989-05-01T00:00:00.000\", \"variable\": \"prediction\", \"value\": 8.78931452579965}, {\"time\": \"1989-05-02T00:00:00.000\", \"variable\": \"prediction\", \"value\": 10.020038497920847}, {\"time\": \"1989-05-03T00:00:00.000\", \"variable\": \"prediction\", \"value\": 10.38701424441864}, {\"time\": \"1989-05-04T00:00:00.000\", \"variable\": \"prediction\", \"value\": 9.722729939020823}, {\"time\": \"1989-05-05T00:00:00.000\", \"variable\": \"prediction\", \"value\": 9.715581978194983}, {\"time\": \"1989-05-06T00:00:00.000\", \"variable\": \"prediction\", \"value\": 9.62273770025767}, {\"time\": \"1989-05-07T00:00:00.000\", \"variable\": \"prediction\", \"value\": 9.272724350964959}, {\"time\": \"1989-05-08T00:00:00.000\", \"variable\": \"prediction\", \"value\": 8.546484390415447}, {\"time\": \"1989-05-09T00:00:00.000\", \"variable\": \"prediction\", \"value\": 9.777208362536644}, {\"time\": \"1989-05-10T00:00:00.000\", \"variable\": \"prediction\", \"value\": 10.144184109034438}, {\"time\": \"1989-05-11T00:00:00.000\", \"variable\": \"prediction\", \"value\": 9.47989980363662}, {\"time\": \"1989-05-12T00:00:00.000\", \"variable\": \"prediction\", \"value\": 9.47275184281078}, {\"time\": \"1989-05-13T00:00:00.000\", \"variable\": \"prediction\", \"value\": 9.379907564873466}, {\"time\": \"1989-05-14T00:00:00.000\", \"variable\": \"prediction\", \"value\": 9.029894215580756}, {\"time\": \"1989-05-15T00:00:00.000\", \"variable\": \"prediction\", \"value\": 8.303654255031244}, {\"time\": \"1989-05-16T00:00:00.000\", \"variable\": \"prediction\", \"value\": 9.534378227152441}, {\"time\": \"1989-05-17T00:00:00.000\", \"variable\": \"prediction\", \"value\": 9.901353973650235}], \"transform\": [{\"type\": \"formula\", \"expr\": \"toDate(datum['time'])\", \"as\": \"time\"}]}, {\"name\": \"source_0_color_domain_variable_0\", \"values\": [{\"variable\": \"input\"}]}, {\"name\": \"source_1_color_domain_variable_1\", \"values\": [{\"variable\": \"target\"}]}, {\"name\": \"source_2_color_domain_variable_2\", \"values\": [{\"variable\": \"prediction\"}]}], \"marks\": [{\"type\": \"group\", \"name\": \"layer_0_pathgroup\", \"from\": {\"facet\": {\"data\": \"source_0\", \"name\": \"faceted_path_layer_0_main\", \"groupby\": [\"variable\"]}}, \"encode\": {\"update\": {\"width\": {\"field\": {\"signal\": null, \"datum\": null, \"group\": \"width\", \"parent\": null}}, \"height\": {\"field\": {\"signal\": null, \"datum\": null, \"group\": \"height\", \"parent\": null}}}}, \"marks\": [{\"type\": \"line\", \"name\": \"layer_0_marks\", \"from\": {\"data\": \"faceted_path_layer_0_main\"}, \"sort\": {\"field\": \"x\"}, \"encode\": {\"update\": {\"defined\": {\"signal\": \"isValid(datum[\\\"time\\\"]) && isFinite(+datum[\\\"time\\\"]) && isValid(datum[\\\"value\\\"]) && isFinite(+datum[\\\"value\\\"])\"}, \"x\": {\"field\": \"time\", \"scale\": \"x\"}, \"y\": {\"field\": \"value\", \"scale\": \"y\"}, \"stroke\": {\"field\": \"variable\", \"scale\": \"color\"}}}, \"style\": [\"line\"]}]}, {\"type\": \"group\", \"name\": \"layer_1_pathgroup\", \"from\": {\"facet\": {\"data\": \"source_1\", \"name\": \"faceted_path_layer_1_main\", \"groupby\": [\"variable\"]}}, \"encode\": {\"update\": {\"height\": {\"field\": {\"signal\": null, \"datum\": null, \"group\": \"height\", \"parent\": null}}, \"width\": {\"field\": {\"signal\": null, \"datum\": null, \"group\": \"width\", \"parent\": null}}}}, \"marks\": [{\"type\": \"line\", \"name\": \"layer_1_marks\", \"from\": {\"data\": \"faceted_path_layer_1_main\"}, \"sort\": {\"field\": \"x\"}, \"encode\": {\"update\": {\"y\": {\"field\": \"value\", \"scale\": \"y\"}, \"defined\": {\"signal\": \"isValid(datum[\\\"time\\\"]) && isFinite(+datum[\\\"time\\\"]) && isValid(datum[\\\"value\\\"]) && isFinite(+datum[\\\"value\\\"])\"}, \"x\": {\"field\": \"time\", \"scale\": \"x\"}, \"stroke\": {\"field\": \"variable\", \"scale\": \"color\"}}}, \"style\": [\"line\"]}]}, {\"type\": \"group\", \"name\": \"layer_2_pathgroup\", \"from\": {\"facet\": {\"data\": \"source_2\", \"name\": \"faceted_path_layer_2_main\", \"groupby\": [\"variable\"]}}, \"encode\": {\"update\": {\"width\": {\"field\": {\"signal\": null, \"datum\": null, \"group\": \"width\", \"parent\": null}}, \"height\": {\"field\": {\"signal\": null, \"datum\": null, \"group\": \"height\", \"parent\": null}}}}, \"marks\": [{\"type\": \"line\", \"name\": \"layer_2_marks\", \"from\": {\"data\": \"faceted_path_layer_2_main\"}, \"sort\": {\"field\": \"x\"}, \"encode\": {\"update\": {\"stroke\": {\"field\": \"variable\", \"scale\": \"color\"}, \"x\": {\"field\": \"time\", \"scale\": \"x\"}, \"y\": {\"field\": \"value\", \"scale\": \"y\"}, \"strokeDash\": {\"value\": [5, 2]}, \"defined\": {\"signal\": \"isValid(datum[\\\"time\\\"]) && isFinite(+datum[\\\"time\\\"]) && isValid(datum[\\\"value\\\"]) && isFinite(+datum[\\\"value\\\"])\"}, \"opacity\": {\"value\": 0.7}}}, \"style\": [\"line\"]}]}], \"scales\": [{\"name\": \"x\", \"type\": \"time\", \"domain\": {\"fields\": [{\"data\": \"source_0\", \"field\": \"time\"}, {\"data\": \"source_1\", \"field\": \"time\"}, {\"data\": \"source_2\", \"field\": \"time\"}]}, \"range\": [0, {\"signal\": \"width\"}]}, {\"name\": \"y\", \"type\": \"linear\", \"domain\": {\"fields\": [{\"data\": \"source_0\", \"field\": \"value\"}, {\"data\": \"source_1\", \"field\": \"value\"}, {\"data\": \"source_2\", \"field\": \"value\"}]}, \"range\": [{\"signal\": \"height\"}, 0], \"nice\": true, \"zero\": true}, {\"name\": \"color\", \"type\": \"ordinal\", \"domain\": {\"fields\": [{\"data\": \"source_0_color_domain_variable_0\", \"field\": \"variable\"}, {\"data\": \"source_1_color_domain_variable_1\", \"field\": \"variable\"}, {\"data\": \"source_2_color_domain_variable_2\", \"field\": \"variable\"}], \"sort\": true}, \"range\": \"category\"}], \"axes\": [{\"scale\": \"x\", \"gridScale\": \"y\", \"grid\": true, \"ticks\": false, \"tickCount\": {\"signal\": \"ceil(width/40)\"}, \"domain\": false, \"minExtent\": 0, \"maxExtent\": 0, \"orient\": \"bottom\", \"labels\": false, \"zindex\": 0, \"aria\": false}, {\"scale\": \"y\", \"grid\": true, \"orient\": \"left\", \"labels\": false, \"minExtent\": 0, \"ticks\": false, \"zindex\": 0, \"tickCount\": {\"signal\": \"ceil(height/40)\"}, \"gridScale\": \"x\", \"maxExtent\": 0, \"aria\": false, \"domain\": false}, {\"scale\": \"x\", \"labelFlush\": true, \"title\": \"time\", \"grid\": false, \"orient\": \"bottom\", \"tickCount\": {\"signal\": \"ceil(width/40)\"}, \"labelOverlap\": true, \"zindex\": 0}, {\"scale\": \"y\", \"title\": \"value\", \"orient\": \"left\", \"labelOverlap\": true, \"tickCount\": {\"signal\": \"ceil(height/40)\"}, \"zindex\": 0, \"grid\": false}], \"background\": \"white\", \"style\": \"cell\", \"legends\": [{\"stroke\": \"color\", \"symbolType\": \"stroke\", \"title\": \"variable\", \"encode\": {\"symbols\": {\"update\": {\"opacity\": {\"value\": 0.7}}}}}], \"padding\": 5, \"width\": 600, \"height\": 200}, {\"mode\": \"vega\"});\n",
       "</script>"
      ],
      "text/plain": [
       "alt.LayerChart(...)"
      ]
     },
     "execution_count": 18,
     "metadata": {},
     "output_type": "execute_result"
    }
   ],
   "source": [
    "(on.Plot()\n",
    "    .add(on.marks.line, input)\n",
    "    .add(on.marks.line, target)\n",
    "    .add(on.marks.line, prediction, type='dashed')\n",
    "    .properties(width=600, height=200)\n",
    "    .show()\n",
    ")"
   ]
  },
  {
   "cell_type": "code",
   "execution_count": null,
   "id": "4bc66495",
   "metadata": {},
   "outputs": [],
   "source": [
    "input = rename_index(predictions['inputs']['ETTh1'][0][500:].univariate_component(0)).rename({'HUFL': 'input'})\n",
    "target = rename_index(predictions['targets']['ETTh1'][0].univariate_component(0)).rename({'HUFL': 'target'})\n",
    "prediction = rename_index(predictions['predictions']['ExponentialSmoothingMultivariate']['ETTh1'][0].univariate_component(0)).rename({'HUFL': 'prediction'})"
   ]
  },
  {
   "cell_type": "code",
   "execution_count": null,
   "id": "6312ee42",
   "metadata": {},
   "outputs": [
    {
     "data": {
      "text/html": [
       "\n",
       "<style>\n",
       "  #altair-viz-d84d9035dd194a89a1b2b4521160e11b.vega-embed {\n",
       "    width: 100%;\n",
       "    display: flex;\n",
       "  }\n",
       "\n",
       "  #altair-viz-d84d9035dd194a89a1b2b4521160e11b.vega-embed details,\n",
       "  #altair-viz-d84d9035dd194a89a1b2b4521160e11b.vega-embed details summary {\n",
       "    position: relative;\n",
       "  }\n",
       "</style>\n",
       "<div id=\"altair-viz-d84d9035dd194a89a1b2b4521160e11b\"></div>\n",
       "<script type=\"text/javascript\">\n",
       "  var VEGA_DEBUG = (typeof VEGA_DEBUG == \"undefined\") ? {} : VEGA_DEBUG;\n",
       "  (function(spec, embedOpt){\n",
       "    let outputDiv = document.currentScript.previousElementSibling;\n",
       "    if (outputDiv.id !== \"altair-viz-d84d9035dd194a89a1b2b4521160e11b\") {\n",
       "      outputDiv = document.getElementById(\"altair-viz-d84d9035dd194a89a1b2b4521160e11b\");\n",
       "    }\n",
       "    const paths = {\n",
       "      \"vega\": \"https://cdn.jsdelivr.net/npm/vega@5?noext\",\n",
       "      \"vega-lib\": \"https://cdn.jsdelivr.net/npm/vega-lib?noext\",\n",
       "      \"vega-lite\": \"https://cdn.jsdelivr.net/npm/vega-lite@5.20.1?noext\",\n",
       "      \"vega-embed\": \"https://cdn.jsdelivr.net/npm/vega-embed@6?noext\",\n",
       "    };\n",
       "\n",
       "    function maybeLoadScript(lib, version) {\n",
       "      var key = `${lib.replace(\"-\", \"\")}_version`;\n",
       "      return (VEGA_DEBUG[key] == version) ?\n",
       "        Promise.resolve(paths[lib]) :\n",
       "        new Promise(function(resolve, reject) {\n",
       "          var s = document.createElement('script');\n",
       "          document.getElementsByTagName(\"head\")[0].appendChild(s);\n",
       "          s.async = true;\n",
       "          s.onload = () => {\n",
       "            VEGA_DEBUG[key] = version;\n",
       "            return resolve(paths[lib]);\n",
       "          };\n",
       "          s.onerror = () => reject(`Error loading script: ${paths[lib]}`);\n",
       "          s.src = paths[lib];\n",
       "        });\n",
       "    }\n",
       "\n",
       "    function showError(err) {\n",
       "      outputDiv.innerHTML = `<div class=\"error\" style=\"color:red;\">${err}</div>`;\n",
       "      throw err;\n",
       "    }\n",
       "\n",
       "    function displayChart(vegaEmbed) {\n",
       "      vegaEmbed(outputDiv, spec, embedOpt)\n",
       "        .catch(err => showError(`Javascript Error: ${err.message}<br>This usually means there's a typo in your chart specification. See the javascript console for the full traceback.`));\n",
       "    }\n",
       "\n",
       "    if(typeof define === \"function\" && define.amd) {\n",
       "      requirejs.config({paths});\n",
       "      require([\"vega-embed\"], displayChart, err => showError(`Error loading script: ${err.message}`));\n",
       "    } else {\n",
       "      maybeLoadScript(\"vega\", \"5\")\n",
       "        .then(() => maybeLoadScript(\"vega-lite\", \"5.20.1\"))\n",
       "        .then(() => maybeLoadScript(\"vega-embed\", \"6\"))\n",
       "        .catch(showError)\n",
       "        .then(() => displayChart(vegaEmbed));\n",
       "    }\n",
       "  })({\"$schema\": \"https://vega.github.io/schema/vega/v5.json\", \"data\": [{\"name\": \"source_0\", \"values\": [{\"time\": \"2018-05-04T21:00:00.000\", \"variable\": \"input\", \"value\": 7.099999904632568}, {\"time\": \"2018-05-04T22:00:00.000\", \"variable\": \"input\", \"value\": 7.234000205993652}, {\"time\": \"2018-05-04T23:00:00.000\", \"variable\": \"input\", \"value\": 11.45400047302246}, {\"time\": \"2018-05-05T00:00:00.000\", \"variable\": \"input\", \"value\": 12.324000358581545}, {\"time\": \"2018-05-05T01:00:00.000\", \"variable\": \"input\", \"value\": 15.06999969482422}, {\"time\": \"2018-05-05T02:00:00.000\", \"variable\": \"input\", \"value\": 14.267000198364258}, {\"time\": \"2018-05-05T03:00:00.000\", \"variable\": \"input\", \"value\": 10.984999656677246}, {\"time\": \"2018-05-05T04:00:00.000\", \"variable\": \"input\", \"value\": 13.730999946594238}, {\"time\": \"2018-05-05T05:00:00.000\", \"variable\": \"input\", \"value\": 13.395999908447266}, {\"time\": \"2018-05-05T06:00:00.000\", \"variable\": \"input\", \"value\": 15.605999946594238}, {\"time\": \"2018-05-05T07:00:00.000\", \"variable\": \"input\", \"value\": 15.67300033569336}, {\"time\": \"2018-05-05T08:00:00.000\", \"variable\": \"input\", \"value\": 15.06999969482422}, {\"time\": \"2018-05-05T09:00:00.000\", \"variable\": \"input\", \"value\": 9.3100004196167}, {\"time\": \"2018-05-05T10:00:00.000\", \"variable\": \"input\", \"value\": 1.741000056266785}, {\"time\": \"2018-05-05T11:00:00.000\", \"variable\": \"input\", \"value\": 1.6740000247955322}, {\"time\": \"2018-05-05T12:00:00.000\", \"variable\": \"input\", \"value\": -3.95199990272522}, {\"time\": \"2018-05-05T13:00:00.000\", \"variable\": \"input\", \"value\": -7.234000205993652}, {\"time\": \"2018-05-05T14:00:00.000\", \"variable\": \"input\", \"value\": 2.477999925613404}, {\"time\": \"2018-05-05T15:00:00.000\", \"variable\": \"input\", \"value\": -0.4020000100135803}, {\"time\": \"2018-05-05T16:00:00.000\", \"variable\": \"input\", \"value\": 1.3400000333786009}, {\"time\": \"2018-05-05T17:00:00.000\", \"variable\": \"input\", \"value\": 5.1570000648498535}, {\"time\": \"2018-05-05T18:00:00.000\", \"variable\": \"input\", \"value\": 6.36299991607666}, {\"time\": \"2018-05-05T19:00:00.000\", \"variable\": \"input\", \"value\": 6.63100004196167}, {\"time\": \"2018-05-05T20:00:00.000\", \"variable\": \"input\", \"value\": 6.697999954223633}, {\"time\": \"2018-05-05T21:00:00.000\", \"variable\": \"input\", \"value\": 7.234000205993652}, {\"time\": \"2018-05-05T22:00:00.000\", \"variable\": \"input\", \"value\": 9.645000457763672}, {\"time\": \"2018-05-05T23:00:00.000\", \"variable\": \"input\", \"value\": 11.788000106811523}, {\"time\": \"2018-05-06T00:00:00.000\", \"variable\": \"input\", \"value\": 14.60200023651123}, {\"time\": \"2018-05-06T01:00:00.000\", \"variable\": \"input\", \"value\": 13.99899959564209}, {\"time\": \"2018-05-06T02:00:00.000\", \"variable\": \"input\", \"value\": 14.53499984741211}, {\"time\": \"2018-05-06T03:00:00.000\", \"variable\": \"input\", \"value\": 13.932000160217283}, {\"time\": \"2018-05-06T04:00:00.000\", \"variable\": \"input\", \"value\": 13.864999771118164}, {\"time\": \"2018-05-06T05:00:00.000\", \"variable\": \"input\", \"value\": 10.649999618530272}, {\"time\": \"2018-05-06T06:00:00.000\", \"variable\": \"input\", \"value\": 10.649999618530272}, {\"time\": \"2018-05-06T07:00:00.000\", \"variable\": \"input\", \"value\": 8.907999992370605}, {\"time\": \"2018-05-06T08:00:00.000\", \"variable\": \"input\", \"value\": 11.38700008392334}, {\"time\": \"2018-05-06T09:00:00.000\", \"variable\": \"input\", \"value\": 9.175999641418455}, {\"time\": \"2018-05-06T10:00:00.000\", \"variable\": \"input\", \"value\": 7.099999904632568}, {\"time\": \"2018-05-06T11:00:00.000\", \"variable\": \"input\", \"value\": 9.444000244140623}, {\"time\": \"2018-05-06T12:00:00.000\", \"variable\": \"input\", \"value\": -4.2199997901916495}, {\"time\": \"2018-05-06T13:00:00.000\", \"variable\": \"input\", \"value\": 2.009000062942505}, {\"time\": \"2018-05-06T14:00:00.000\", \"variable\": \"input\", \"value\": 6.89900016784668}, {\"time\": \"2018-05-06T15:00:00.000\", \"variable\": \"input\", \"value\": 4.956999778747559}, {\"time\": \"2018-05-06T16:00:00.000\", \"variable\": \"input\", \"value\": 6.63100004196167}, {\"time\": \"2018-05-06T17:00:00.000\", \"variable\": \"input\", \"value\": 4.287000179290772}, {\"time\": \"2018-05-06T18:00:00.000\", \"variable\": \"input\", \"value\": 6.764999866485598}, {\"time\": \"2018-05-06T19:00:00.000\", \"variable\": \"input\", \"value\": 6.831999778747559}, {\"time\": \"2018-05-06T20:00:00.000\", \"variable\": \"input\", \"value\": 6.63100004196167}, {\"time\": \"2018-05-06T21:00:00.000\", \"variable\": \"input\", \"value\": 7.836999893188477}, {\"time\": \"2018-05-06T22:00:00.000\", \"variable\": \"input\", \"value\": 8.975000381469727}, {\"time\": \"2018-05-06T23:00:00.000\", \"variable\": \"input\", \"value\": 12.256999969482422}, {\"time\": \"2018-05-07T00:00:00.000\", \"variable\": \"input\", \"value\": 12.1899995803833}, {\"time\": \"2018-05-07T01:00:00.000\", \"variable\": \"input\", \"value\": 12.859999656677244}, {\"time\": \"2018-05-07T02:00:00.000\", \"variable\": \"input\", \"value\": 13.395999908447266}, {\"time\": \"2018-05-07T03:00:00.000\", \"variable\": \"input\", \"value\": 14.668999671936035}, {\"time\": \"2018-05-07T04:00:00.000\", \"variable\": \"input\", \"value\": 12.123000144958494}, {\"time\": \"2018-05-07T05:00:00.000\", \"variable\": \"input\", \"value\": 12.390999794006348}, {\"time\": \"2018-05-07T06:00:00.000\", \"variable\": \"input\", \"value\": 12.72599983215332}, {\"time\": \"2018-05-07T07:00:00.000\", \"variable\": \"input\", \"value\": 13.19499969482422}, {\"time\": \"2018-05-07T08:00:00.000\", \"variable\": \"input\", \"value\": 11.052000045776367}, {\"time\": \"2018-05-07T09:00:00.000\", \"variable\": \"input\", \"value\": 6.831999778747559}, {\"time\": \"2018-05-07T10:00:00.000\", \"variable\": \"input\", \"value\": 5.1570000648498535}, {\"time\": \"2018-05-07T11:00:00.000\", \"variable\": \"input\", \"value\": 5.1570000648498535}, {\"time\": \"2018-05-07T12:00:00.000\", \"variable\": \"input\", \"value\": 1.3400000333786009}, {\"time\": \"2018-05-07T13:00:00.000\", \"variable\": \"input\", \"value\": 4.3540000915527335}, {\"time\": \"2018-05-07T14:00:00.000\", \"variable\": \"input\", \"value\": 2.880000114440918}, {\"time\": \"2018-05-07T15:00:00.000\", \"variable\": \"input\", \"value\": 5.827000141143799}, {\"time\": \"2018-05-07T16:00:00.000\", \"variable\": \"input\", \"value\": 6.63100004196167}, {\"time\": \"2018-05-07T17:00:00.000\", \"variable\": \"input\", \"value\": 7.703000068664551}, {\"time\": \"2018-05-07T18:00:00.000\", \"variable\": \"input\", \"value\": 5.827000141143799}, {\"time\": \"2018-05-07T19:00:00.000\", \"variable\": \"input\", \"value\": 6.2290000915527335}, {\"time\": \"2018-05-07T20:00:00.000\", \"variable\": \"input\", \"value\": 6.296000003814697}, {\"time\": \"2018-05-07T21:00:00.000\", \"variable\": \"input\", \"value\": 6.429999828338622}, {\"time\": \"2018-05-07T22:00:00.000\", \"variable\": \"input\", \"value\": 5.960999965667725}, {\"time\": \"2018-05-07T23:00:00.000\", \"variable\": \"input\", \"value\": 8.439000129699707}, {\"time\": \"2018-05-08T00:00:00.000\", \"variable\": \"input\", \"value\": 9.979999542236328}, {\"time\": \"2018-05-08T01:00:00.000\", \"variable\": \"input\", \"value\": 11.253000259399414}, {\"time\": \"2018-05-08T02:00:00.000\", \"variable\": \"input\", \"value\": 11.052000045776367}, {\"time\": \"2018-05-08T03:00:00.000\", \"variable\": \"input\", \"value\": 11.052000045776367}, {\"time\": \"2018-05-08T04:00:00.000\", \"variable\": \"input\", \"value\": 11.31999969482422}, {\"time\": \"2018-05-08T05:00:00.000\", \"variable\": \"input\", \"value\": 12.458000183105469}, {\"time\": \"2018-05-08T06:00:00.000\", \"variable\": \"input\", \"value\": 13.060999870300291}, {\"time\": \"2018-05-08T07:00:00.000\", \"variable\": \"input\", \"value\": 1.3400000333786009}, {\"time\": \"2018-05-08T08:00:00.000\", \"variable\": \"input\", \"value\": -0.6029999852180481}, {\"time\": \"2018-05-08T09:00:00.000\", \"variable\": \"input\", \"value\": -2.009000062942505}, {\"time\": \"2018-05-08T10:00:00.000\", \"variable\": \"input\", \"value\": -7.368000030517577}, {\"time\": \"2018-05-08T11:00:00.000\", \"variable\": \"input\", \"value\": -17.079999923706055}, {\"time\": \"2018-05-08T12:00:00.000\", \"variable\": \"input\", \"value\": -11.119000434875488}, {\"time\": \"2018-05-08T13:00:00.000\", \"variable\": \"input\", \"value\": -8.907999992370605}, {\"time\": \"2018-05-08T14:00:00.000\", \"variable\": \"input\", \"value\": -16.67799949645996}, {\"time\": \"2018-05-08T15:00:00.000\", \"variable\": \"input\", \"value\": -17.14699935913086}, {\"time\": \"2018-05-08T16:00:00.000\", \"variable\": \"input\", \"value\": -11.119000434875488}, {\"time\": \"2018-05-08T17:00:00.000\", \"variable\": \"input\", \"value\": -4.48799991607666}, {\"time\": \"2018-05-08T18:00:00.000\", \"variable\": \"input\", \"value\": 0.9380000233650208}, {\"time\": \"2018-05-08T19:00:00.000\", \"variable\": \"input\", \"value\": 2.611999988555908}, {\"time\": \"2018-05-08T20:00:00.000\", \"variable\": \"input\", \"value\": 2.746000051498413}, {\"time\": \"2018-05-08T21:00:00.000\", \"variable\": \"input\", \"value\": 2.678999900817871}, {\"time\": \"2018-05-08T22:00:00.000\", \"variable\": \"input\", \"value\": 2.746000051498413}, {\"time\": \"2018-05-08T23:00:00.000\", \"variable\": \"input\", \"value\": 4.554999828338623}, {\"time\": \"2018-05-09T00:00:00.000\", \"variable\": \"input\", \"value\": 4.287000179290772}, {\"time\": \"2018-05-09T01:00:00.000\", \"variable\": \"input\", \"value\": 4.287000179290772}, {\"time\": \"2018-05-09T02:00:00.000\", \"variable\": \"input\", \"value\": 4.2199997901916495}, {\"time\": \"2018-05-09T03:00:00.000\", \"variable\": \"input\", \"value\": 4.152999877929688}, {\"time\": \"2018-05-09T04:00:00.000\", \"variable\": \"input\", \"value\": 4.287000179290772}, {\"time\": \"2018-05-09T05:00:00.000\", \"variable\": \"input\", \"value\": 4.689000129699707}, {\"time\": \"2018-05-09T06:00:00.000\", \"variable\": \"input\", \"value\": 4.75600004196167}, {\"time\": \"2018-05-09T07:00:00.000\", \"variable\": \"input\", \"value\": -0.2680000066757202}, {\"time\": \"2018-05-09T08:00:00.000\", \"variable\": \"input\", \"value\": -7.166999816894531}, {\"time\": \"2018-05-09T09:00:00.000\", \"variable\": \"input\", \"value\": -15.739999771118164}, {\"time\": \"2018-05-09T10:00:00.000\", \"variable\": \"input\", \"value\": -19.290000915527344}, {\"time\": \"2018-05-09T11:00:00.000\", \"variable\": \"input\", \"value\": -21.63500022888184}, {\"time\": \"2018-05-09T12:00:00.000\", \"variable\": \"input\", \"value\": -22.70599937438965}, {\"time\": \"2018-05-09T13:00:00.000\", \"variable\": \"input\", \"value\": -22.4379997253418}, {\"time\": \"2018-05-09T14:00:00.000\", \"variable\": \"input\", \"value\": -20.36199951171875}, {\"time\": \"2018-05-09T15:00:00.000\", \"variable\": \"input\", \"value\": -16.476999282836914}, {\"time\": \"2018-05-09T16:00:00.000\", \"variable\": \"input\", \"value\": -10.91800022125244}, {\"time\": \"2018-05-09T17:00:00.000\", \"variable\": \"input\", \"value\": -3.884999990463257}, {\"time\": \"2018-05-09T18:00:00.000\", \"variable\": \"input\", \"value\": 1.3400000333786009}, {\"time\": \"2018-05-09T19:00:00.000\", \"variable\": \"input\", \"value\": 2.812999963760376}, {\"time\": \"2018-05-09T20:00:00.000\", \"variable\": \"input\", \"value\": 4.75600004196167}, {\"time\": \"2018-05-09T21:00:00.000\", \"variable\": \"input\", \"value\": 4.3540000915527335}, {\"time\": \"2018-05-09T22:00:00.000\", \"variable\": \"input\", \"value\": 6.162000179290772}, {\"time\": \"2018-05-09T23:00:00.000\", \"variable\": \"input\", \"value\": 6.63100004196167}, {\"time\": \"2018-05-10T00:00:00.000\", \"variable\": \"input\", \"value\": 6.027999877929688}, {\"time\": \"2018-05-10T01:00:00.000\", \"variable\": \"input\", \"value\": 5.827000141143799}, {\"time\": \"2018-05-10T02:00:00.000\", \"variable\": \"input\", \"value\": 6.09499979019165}, {\"time\": \"2018-05-10T03:00:00.000\", \"variable\": \"input\", \"value\": 6.296000003814697}, {\"time\": \"2018-05-10T04:00:00.000\", \"variable\": \"input\", \"value\": 6.497000217437744}, {\"time\": \"2018-05-10T05:00:00.000\", \"variable\": \"input\", \"value\": 7.434999942779541}, {\"time\": \"2018-05-10T06:00:00.000\", \"variable\": \"input\", \"value\": 5.692999839782715}, {\"time\": \"2018-05-10T07:00:00.000\", \"variable\": \"input\", \"value\": 2.880000114440918}, {\"time\": \"2018-05-10T08:00:00.000\", \"variable\": \"input\", \"value\": 1.5410000085830688}, {\"time\": \"2018-05-10T09:00:00.000\", \"variable\": \"input\", \"value\": -15.06999969482422}, {\"time\": \"2018-05-10T10:00:00.000\", \"variable\": \"input\", \"value\": -19.49099922180176}, {\"time\": \"2018-05-10T11:00:00.000\", \"variable\": \"input\", \"value\": -17.214000701904293}, {\"time\": \"2018-05-10T12:00:00.000\", \"variable\": \"input\", \"value\": -10.85099983215332}, {\"time\": \"2018-05-10T13:00:00.000\", \"variable\": \"input\", \"value\": -9.175999641418455}, {\"time\": \"2018-05-10T14:00:00.000\", \"variable\": \"input\", \"value\": -15.67300033569336}, {\"time\": \"2018-05-10T15:00:00.000\", \"variable\": \"input\", \"value\": -9.845999717712402}, {\"time\": \"2018-05-10T16:00:00.000\", \"variable\": \"input\", \"value\": -4.152999877929688}, {\"time\": \"2018-05-10T17:00:00.000\", \"variable\": \"input\", \"value\": 4.554999828338623}, {\"time\": \"2018-05-10T18:00:00.000\", \"variable\": \"input\", \"value\": 5.0229997634887695}, {\"time\": \"2018-05-10T19:00:00.000\", \"variable\": \"input\", \"value\": 6.764999866485598}, {\"time\": \"2018-05-10T20:00:00.000\", \"variable\": \"input\", \"value\": 7.0329999923706055}, {\"time\": \"2018-05-10T21:00:00.000\", \"variable\": \"input\", \"value\": 7.769999980926514}, {\"time\": \"2018-05-10T22:00:00.000\", \"variable\": \"input\", \"value\": 11.588000297546388}, {\"time\": \"2018-05-10T23:00:00.000\", \"variable\": \"input\", \"value\": 13.32900047302246}, {\"time\": \"2018-05-11T00:00:00.000\", \"variable\": \"input\", \"value\": 15.404999732971191}, {\"time\": \"2018-05-11T01:00:00.000\", \"variable\": \"input\", \"value\": 14.736000061035154}, {\"time\": \"2018-05-11T02:00:00.000\", \"variable\": \"input\", \"value\": 13.79800033569336}, {\"time\": \"2018-05-11T03:00:00.000\", \"variable\": \"input\", \"value\": 13.128000259399414}, {\"time\": \"2018-05-11T04:00:00.000\", \"variable\": \"input\", \"value\": 15.06999969482422}, {\"time\": \"2018-05-11T05:00:00.000\", \"variable\": \"input\", \"value\": 15.20400047302246}, {\"time\": \"2018-05-11T06:00:00.000\", \"variable\": \"input\", \"value\": 14.60200023651123}, {\"time\": \"2018-05-11T07:00:00.000\", \"variable\": \"input\", \"value\": 13.128000259399414}, {\"time\": \"2018-05-11T08:00:00.000\", \"variable\": \"input\", \"value\": 10.984999656677246}, {\"time\": \"2018-05-11T09:00:00.000\", \"variable\": \"input\", \"value\": 1.2730000019073486}, {\"time\": \"2018-05-11T10:00:00.000\", \"variable\": \"input\", \"value\": -1.4739999771118164}, {\"time\": \"2018-05-11T11:00:00.000\", \"variable\": \"input\", \"value\": -3.013999938964844}, {\"time\": \"2018-05-11T12:00:00.000\", \"variable\": \"input\", \"value\": -17.951000213623047}, {\"time\": \"2018-05-11T13:00:00.000\", \"variable\": \"input\", \"value\": -6.831999778747559}, {\"time\": \"2018-05-11T14:00:00.000\", \"variable\": \"input\", \"value\": 1.2059999704360962}, {\"time\": \"2018-05-11T15:00:00.000\", \"variable\": \"input\", \"value\": 7.234000205993652}, {\"time\": \"2018-05-11T16:00:00.000\", \"variable\": \"input\", \"value\": 6.497000217437744}, {\"time\": \"2018-05-11T17:00:00.000\", \"variable\": \"input\", \"value\": 9.779000282287598}, {\"time\": \"2018-05-11T18:00:00.000\", \"variable\": \"input\", \"value\": 6.296000003814697}, {\"time\": \"2018-05-11T19:00:00.000\", \"variable\": \"input\", \"value\": 6.89900016784668}, {\"time\": \"2018-05-11T20:00:00.000\", \"variable\": \"input\", \"value\": 7.501999855041504}, {\"time\": \"2018-05-11T21:00:00.000\", \"variable\": \"input\", \"value\": 7.636000156402588}, {\"time\": \"2018-05-11T22:00:00.000\", \"variable\": \"input\", \"value\": 8.840999603271484}, {\"time\": \"2018-05-11T23:00:00.000\", \"variable\": \"input\", \"value\": 11.788000106811523}, {\"time\": \"2018-05-12T00:00:00.000\", \"variable\": \"input\", \"value\": 13.932000160217283}, {\"time\": \"2018-05-12T01:00:00.000\", \"variable\": \"input\", \"value\": 14.199999809265137}, {\"time\": \"2018-05-12T02:00:00.000\", \"variable\": \"input\", \"value\": 14.53499984741211}, {\"time\": \"2018-05-12T03:00:00.000\", \"variable\": \"input\", \"value\": 15.003999710083008}, {\"time\": \"2018-05-12T04:00:00.000\", \"variable\": \"input\", \"value\": 12.458000183105469}, {\"time\": \"2018-05-12T05:00:00.000\", \"variable\": \"input\", \"value\": 13.597000122070312}, {\"time\": \"2018-05-12T06:00:00.000\", \"variable\": \"input\", \"value\": 14.468000411987305}, {\"time\": \"2018-05-12T07:00:00.000\", \"variable\": \"input\", \"value\": 11.588000297546388}, {\"time\": \"2018-05-12T08:00:00.000\", \"variable\": \"input\", \"value\": 10.515999794006348}, {\"time\": \"2018-05-12T09:00:00.000\", \"variable\": \"input\", \"value\": 7.434999942779541}, {\"time\": \"2018-05-12T10:00:00.000\", \"variable\": \"input\", \"value\": 0.06700000166893}, {\"time\": \"2018-05-12T11:00:00.000\", \"variable\": \"input\", \"value\": 3.41599988937378}, {\"time\": \"2018-05-12T12:00:00.000\", \"variable\": \"input\", \"value\": -8.706999778747559}, {\"time\": \"2018-05-12T13:00:00.000\", \"variable\": \"input\", \"value\": -1.9420000314712524}, {\"time\": \"2018-05-12T14:00:00.000\", \"variable\": \"input\", \"value\": 0.6029999852180481}, {\"time\": \"2018-05-12T15:00:00.000\", \"variable\": \"input\", \"value\": 3.3489999771118164}, {\"time\": \"2018-05-12T16:00:00.000\", \"variable\": \"input\", \"value\": 4.956999778747559}, {\"time\": \"2018-05-12T17:00:00.000\", \"variable\": \"input\", \"value\": 6.63100004196167}, {\"time\": \"2018-05-12T18:00:00.000\", \"variable\": \"input\", \"value\": 5.760000228881836}, {\"time\": \"2018-05-12T19:00:00.000\", \"variable\": \"input\", \"value\": 6.564000129699707}, {\"time\": \"2018-05-12T20:00:00.000\", \"variable\": \"input\", \"value\": 9.51099967956543}, {\"time\": \"2018-05-12T21:00:00.000\", \"variable\": \"input\", \"value\": 9.376999855041504}, {\"time\": \"2018-05-12T22:00:00.000\", \"variable\": \"input\", \"value\": 8.77400016784668}, {\"time\": \"2018-05-12T23:00:00.000\", \"variable\": \"input\", \"value\": 10.180999755859377}, {\"time\": \"2018-05-13T00:00:00.000\", \"variable\": \"input\", \"value\": 12.123000144958494}, {\"time\": \"2018-05-13T01:00:00.000\", \"variable\": \"input\", \"value\": 11.588000297546388}, {\"time\": \"2018-05-13T02:00:00.000\", \"variable\": \"input\", \"value\": 12.927000045776367}, {\"time\": \"2018-05-13T03:00:00.000\", \"variable\": \"input\", \"value\": 11.654999732971191}, {\"time\": \"2018-05-13T04:00:00.000\", \"variable\": \"input\", \"value\": 12.256999969482422}, {\"time\": \"2018-05-13T05:00:00.000\", \"variable\": \"input\", \"value\": 11.854999542236328}, {\"time\": \"2018-05-13T06:00:00.000\", \"variable\": \"input\", \"value\": 11.185999870300291}, {\"time\": \"2018-05-13T07:00:00.000\", \"variable\": \"input\", \"value\": 7.769999980926514}, {\"time\": \"2018-05-13T08:00:00.000\", \"variable\": \"input\", \"value\": 5.357999801635742}, {\"time\": \"2018-05-13T09:00:00.000\", \"variable\": \"input\", \"value\": -7.434999942779541}, {\"time\": \"2018-05-13T10:00:00.000\", \"variable\": \"input\", \"value\": -10.717000007629396}, {\"time\": \"2018-05-13T11:00:00.000\", \"variable\": \"input\", \"value\": -12.592000007629396}, {\"time\": \"2018-05-13T12:00:00.000\", \"variable\": \"input\", \"value\": -16.275999069213867}, {\"time\": \"2018-05-13T13:00:00.000\", \"variable\": \"input\", \"value\": -12.123000144958494}, {\"time\": \"2018-05-13T14:00:00.000\", \"variable\": \"input\", \"value\": -10.583000183105469}, {\"time\": \"2018-05-13T15:00:00.000\", \"variable\": \"input\", \"value\": -6.966000080108643}, {\"time\": \"2018-05-13T16:00:00.000\", \"variable\": \"input\", \"value\": -4.152999877929688}, {\"time\": \"2018-05-13T17:00:00.000\", \"variable\": \"input\", \"value\": 0.4020000100135803}, {\"time\": \"2018-05-13T18:00:00.000\", \"variable\": \"input\", \"value\": 5.625999927520752}, {\"time\": \"2018-05-13T19:00:00.000\", \"variable\": \"input\", \"value\": 6.966000080108643}, {\"time\": \"2018-05-13T20:00:00.000\", \"variable\": \"input\", \"value\": 7.568999767303468}, {\"time\": \"2018-05-13T21:00:00.000\", \"variable\": \"input\", \"value\": 9.3100004196167}, {\"time\": \"2018-05-13T22:00:00.000\", \"variable\": \"input\", \"value\": 9.645000457763672}, {\"time\": \"2018-05-13T23:00:00.000\", \"variable\": \"input\", \"value\": 14.53499984741211}, {\"time\": \"2018-05-14T00:00:00.000\", \"variable\": \"input\", \"value\": 13.79800033569336}, {\"time\": \"2018-05-14T01:00:00.000\", \"variable\": \"input\", \"value\": 15.87399959564209}, {\"time\": \"2018-05-14T02:00:00.000\", \"variable\": \"input\", \"value\": 15.538999557495115}, {\"time\": \"2018-05-14T03:00:00.000\", \"variable\": \"input\", \"value\": 14.53499984741211}, {\"time\": \"2018-05-14T04:00:00.000\", \"variable\": \"input\", \"value\": 13.79800033569336}, {\"time\": \"2018-05-14T05:00:00.000\", \"variable\": \"input\", \"value\": 15.338000297546388}, {\"time\": \"2018-05-14T06:00:00.000\", \"variable\": \"input\", \"value\": 13.26200008392334}, {\"time\": \"2018-05-14T07:00:00.000\", \"variable\": \"input\", \"value\": 7.501999855041504}, {\"time\": \"2018-05-14T08:00:00.000\", \"variable\": \"input\", \"value\": 0.4690000116825104}, {\"time\": \"2018-05-14T09:00:00.000\", \"variable\": \"input\", \"value\": -7.0329999923706055}, {\"time\": \"2018-05-14T10:00:00.000\", \"variable\": \"input\", \"value\": -10.583000183105469}, {\"time\": \"2018-05-14T11:00:00.000\", \"variable\": \"input\", \"value\": -10.180999755859377}, {\"time\": \"2018-05-14T12:00:00.000\", \"variable\": \"input\", \"value\": -17.884000778198242}, {\"time\": \"2018-05-14T13:00:00.000\", \"variable\": \"input\", \"value\": -15.20400047302246}, {\"time\": \"2018-05-14T14:00:00.000\", \"variable\": \"input\", \"value\": -10.180999755859377}, {\"time\": \"2018-05-14T15:00:00.000\", \"variable\": \"input\", \"value\": -10.3149995803833}, {\"time\": \"2018-05-14T16:00:00.000\", \"variable\": \"input\", \"value\": -2.4110000133514404}, {\"time\": \"2018-05-14T17:00:00.000\", \"variable\": \"input\", \"value\": 5.357999801635742}, {\"time\": \"2018-05-14T18:00:00.000\", \"variable\": \"input\", \"value\": 6.764999866485598}, {\"time\": \"2018-05-14T19:00:00.000\", \"variable\": \"input\", \"value\": 7.703000068664551}, {\"time\": \"2018-05-14T20:00:00.000\", \"variable\": \"input\", \"value\": 8.305999755859375}, {\"time\": \"2018-05-14T21:00:00.000\", \"variable\": \"input\", \"value\": 9.3100004196167}, {\"time\": \"2018-05-14T22:00:00.000\", \"variable\": \"input\", \"value\": 9.57800006866455}, {\"time\": \"2018-05-14T23:00:00.000\", \"variable\": \"input\", \"value\": 13.395999908447266}, {\"time\": \"2018-05-15T00:00:00.000\", \"variable\": \"input\", \"value\": 12.859999656677244}, {\"time\": \"2018-05-15T01:00:00.000\", \"variable\": \"input\", \"value\": 12.994000434875488}, {\"time\": \"2018-05-15T02:00:00.000\", \"variable\": \"input\", \"value\": 13.395999908447266}, {\"time\": \"2018-05-15T03:00:00.000\", \"variable\": \"input\", \"value\": 13.463000297546388}, {\"time\": \"2018-05-15T04:00:00.000\", \"variable\": \"input\", \"value\": 14.668999671936035}, {\"time\": \"2018-05-15T05:00:00.000\", \"variable\": \"input\", \"value\": 14.668999671936035}, {\"time\": \"2018-05-15T06:00:00.000\", \"variable\": \"input\", \"value\": 14.803000450134276}, {\"time\": \"2018-05-15T07:00:00.000\", \"variable\": \"input\", \"value\": 9.645000457763672}, {\"time\": \"2018-05-15T08:00:00.000\", \"variable\": \"input\", \"value\": 2.477999925613404}, {\"time\": \"2018-05-15T09:00:00.000\", \"variable\": \"input\", \"value\": -6.429999828338622}, {\"time\": \"2018-05-15T10:00:00.000\", \"variable\": \"input\", \"value\": -3.2149999141693115}, {\"time\": \"2018-05-15T11:00:00.000\", \"variable\": \"input\", \"value\": -8.77400016784668}, {\"time\": \"2018-05-15T12:00:00.000\", \"variable\": \"input\", \"value\": -16.208999633789062}, {\"time\": \"2018-05-15T13:00:00.000\", \"variable\": \"input\", \"value\": -12.390999794006348}, {\"time\": \"2018-05-15T14:00:00.000\", \"variable\": \"input\", \"value\": -8.640000343322754}, {\"time\": \"2018-05-15T15:00:00.000\", \"variable\": \"input\", \"value\": -7.501999855041504}, {\"time\": \"2018-05-15T16:00:00.000\", \"variable\": \"input\", \"value\": 0.5360000133514404}, {\"time\": \"2018-05-15T17:00:00.000\", \"variable\": \"input\", \"value\": 3.282000064849853}, {\"time\": \"2018-05-15T18:00:00.000\", \"variable\": \"input\", \"value\": 6.89900016784668}, {\"time\": \"2018-05-15T19:00:00.000\", \"variable\": \"input\", \"value\": 8.305999755859375}, {\"time\": \"2018-05-15T20:00:00.000\", \"variable\": \"input\", \"value\": 9.51099967956543}, {\"time\": \"2018-05-15T21:00:00.000\", \"variable\": \"input\", \"value\": 10.04699993133545}, {\"time\": \"2018-05-15T22:00:00.000\", \"variable\": \"input\", \"value\": 11.119000434875488}, {\"time\": \"2018-05-15T23:00:00.000\", \"variable\": \"input\", \"value\": 16.611000061035153}, {\"time\": \"2018-05-16T00:00:00.000\", \"variable\": \"input\", \"value\": 15.270999908447266}, {\"time\": \"2018-05-16T01:00:00.000\", \"variable\": \"input\", \"value\": 16.343000411987305}, {\"time\": \"2018-05-16T02:00:00.000\", \"variable\": \"input\", \"value\": 14.869999885559082}, {\"time\": \"2018-05-16T03:00:00.000\", \"variable\": \"input\", \"value\": 15.472000122070312}, {\"time\": \"2018-05-16T04:00:00.000\", \"variable\": \"input\", \"value\": 11.38700008392334}, {\"time\": \"2018-05-16T05:00:00.000\", \"variable\": \"input\", \"value\": 16.142000198364258}, {\"time\": \"2018-05-16T06:00:00.000\", \"variable\": \"input\", \"value\": 11.854999542236328}, {\"time\": \"2018-05-16T07:00:00.000\", \"variable\": \"input\", \"value\": 9.779000282287598}, {\"time\": \"2018-05-16T08:00:00.000\", \"variable\": \"input\", \"value\": -0.1340000033378601}, {\"time\": \"2018-05-16T09:00:00.000\", \"variable\": \"input\", \"value\": -4.822999954223633}, {\"time\": \"2018-05-16T10:00:00.000\", \"variable\": \"input\", \"value\": -7.368000030517577}, {\"time\": \"2018-05-16T11:00:00.000\", \"variable\": \"input\", \"value\": -11.45400047302246}, {\"time\": \"2018-05-16T12:00:00.000\", \"variable\": \"input\", \"value\": -14.937000274658203}, {\"time\": \"2018-05-16T13:00:00.000\", \"variable\": \"input\", \"value\": -11.98900032043457}, {\"time\": \"2018-05-16T14:00:00.000\", \"variable\": \"input\", \"value\": -9.3100004196167}, {\"time\": \"2018-05-16T15:00:00.000\", \"variable\": \"input\", \"value\": -6.296000003814697}, {\"time\": \"2018-05-16T16:00:00.000\", \"variable\": \"input\", \"value\": -1.3400000333786009}, {\"time\": \"2018-05-16T17:00:00.000\", \"variable\": \"input\", \"value\": 3.0810000896453857}, {\"time\": \"2018-05-16T18:00:00.000\", \"variable\": \"input\", \"value\": 6.966000080108643}, {\"time\": \"2018-05-16T19:00:00.000\", \"variable\": \"input\", \"value\": 8.77400016784668}, {\"time\": \"2018-05-16T20:00:00.000\", \"variable\": \"input\", \"value\": 10.85099983215332}, {\"time\": \"2018-05-16T21:00:00.000\", \"variable\": \"input\", \"value\": 12.72599983215332}, {\"time\": \"2018-05-16T22:00:00.000\", \"variable\": \"input\", \"value\": 12.055999755859377}, {\"time\": \"2018-05-16T23:00:00.000\", \"variable\": \"input\", \"value\": 16.611000061035153}, {\"time\": \"2018-05-17T00:00:00.000\", \"variable\": \"input\", \"value\": 17.548999786376953}, {\"time\": \"2018-05-17T01:00:00.000\", \"variable\": \"input\", \"value\": 16.40999984741211}, {\"time\": \"2018-05-17T02:00:00.000\", \"variable\": \"input\", \"value\": 16.745000839233402}, {\"time\": \"2018-05-17T03:00:00.000\", \"variable\": \"input\", \"value\": 15.13700008392334}, {\"time\": \"2018-05-17T04:00:00.000\", \"variable\": \"input\", \"value\": 14.53499984741211}, {\"time\": \"2018-05-17T05:00:00.000\", \"variable\": \"input\", \"value\": 14.736000061035154}, {\"time\": \"2018-05-17T06:00:00.000\", \"variable\": \"input\", \"value\": 16.878999710083008}, {\"time\": \"2018-05-17T07:00:00.000\", \"variable\": \"input\", \"value\": 11.98900032043457}, {\"time\": \"2018-05-17T08:00:00.000\", \"variable\": \"input\", \"value\": 11.92199993133545}, {\"time\": \"2018-05-17T09:00:00.000\", \"variable\": \"input\", \"value\": 5.492000102996826}, {\"time\": \"2018-05-17T10:00:00.000\", \"variable\": \"input\", \"value\": 1.406999945640564}, {\"time\": \"2018-05-17T11:00:00.000\", \"variable\": \"input\", \"value\": -13.529999732971191}, {\"time\": \"2018-05-17T12:00:00.000\", \"variable\": \"input\", \"value\": -0.3350000083446503}, {\"time\": \"2018-05-17T13:00:00.000\", \"variable\": \"input\", \"value\": -8.23900032043457}, {\"time\": \"2018-05-17T14:00:00.000\", \"variable\": \"input\", \"value\": -12.659000396728516}, {\"time\": \"2018-05-17T15:00:00.000\", \"variable\": \"input\", \"value\": -4.689000129699707}, {\"time\": \"2018-05-17T16:00:00.000\", \"variable\": \"input\", \"value\": -0.9380000233650208}, {\"time\": \"2018-05-17T17:00:00.000\", \"variable\": \"input\", \"value\": 4.287000179290772}, {\"time\": \"2018-05-17T18:00:00.000\", \"variable\": \"input\", \"value\": 8.77400016784668}, {\"time\": \"2018-05-17T19:00:00.000\", \"variable\": \"input\", \"value\": 9.711999893188477}, {\"time\": \"2018-05-17T20:00:00.000\", \"variable\": \"input\", \"value\": 11.119000434875488}, {\"time\": \"2018-05-17T21:00:00.000\", \"variable\": \"input\", \"value\": 11.253000259399414}, {\"time\": \"2018-05-17T22:00:00.000\", \"variable\": \"input\", \"value\": 10.381999969482422}, {\"time\": \"2018-05-17T23:00:00.000\", \"variable\": \"input\", \"value\": 12.458000183105469}, {\"time\": \"2018-05-18T00:00:00.000\", \"variable\": \"input\", \"value\": 16.611000061035153}, {\"time\": \"2018-05-18T01:00:00.000\", \"variable\": \"input\", \"value\": 16.476999282836914}, {\"time\": \"2018-05-18T02:00:00.000\", \"variable\": \"input\", \"value\": 16.945999145507812}, {\"time\": \"2018-05-18T03:00:00.000\", \"variable\": \"input\", \"value\": 16.67799949645996}, {\"time\": \"2018-05-18T04:00:00.000\", \"variable\": \"input\", \"value\": 14.937000274658203}, {\"time\": \"2018-05-18T05:00:00.000\", \"variable\": \"input\", \"value\": 16.40999984741211}, {\"time\": \"2018-05-18T06:00:00.000\", \"variable\": \"input\", \"value\": 13.663999557495115}, {\"time\": \"2018-05-18T07:00:00.000\", \"variable\": \"input\", \"value\": 10.583000183105469}, {\"time\": \"2018-05-18T08:00:00.000\", \"variable\": \"input\", \"value\": 4.0859999656677255}, {\"time\": \"2018-05-18T09:00:00.000\", \"variable\": \"input\", \"value\": 5.760000228881836}, {\"time\": \"2018-05-18T10:00:00.000\", \"variable\": \"input\", \"value\": 1.2059999704360962}, {\"time\": \"2018-05-18T11:00:00.000\", \"variable\": \"input\", \"value\": -3.617000102996826}, {\"time\": \"2018-05-18T12:00:00.000\", \"variable\": \"input\", \"value\": -6.36299991607666}, {\"time\": \"2018-05-18T13:00:00.000\", \"variable\": \"input\", \"value\": -2.9470000267028813}, {\"time\": \"2018-05-18T14:00:00.000\", \"variable\": \"input\", \"value\": -5.357999801635742}, {\"time\": \"2018-05-18T15:00:00.000\", \"variable\": \"input\", \"value\": 5.692999839782715}, {\"time\": \"2018-05-18T16:00:00.000\", \"variable\": \"input\", \"value\": 8.23900032043457}, {\"time\": \"2018-05-18T17:00:00.000\", \"variable\": \"input\", \"value\": 8.706999778747559}, {\"time\": \"2018-05-18T18:00:00.000\", \"variable\": \"input\", \"value\": 9.913000106811523}, {\"time\": \"2018-05-18T19:00:00.000\", \"variable\": \"input\", \"value\": 7.234000205993652}, {\"time\": \"2018-05-18T20:00:00.000\", \"variable\": \"input\", \"value\": 7.166999816894531}, {\"time\": \"2018-05-18T21:00:00.000\", \"variable\": \"input\", \"value\": 8.305999755859375}, {\"time\": \"2018-05-18T22:00:00.000\", \"variable\": \"input\", \"value\": 8.975000381469727}, {\"time\": \"2018-05-18T23:00:00.000\", \"variable\": \"input\", \"value\": 13.663999557495115}, {\"time\": \"2018-05-19T00:00:00.000\", \"variable\": \"input\", \"value\": 13.060999870300291}, {\"time\": \"2018-05-19T01:00:00.000\", \"variable\": \"input\", \"value\": 14.267000198364258}, {\"time\": \"2018-05-19T02:00:00.000\", \"variable\": \"input\", \"value\": 14.133000373840332}, {\"time\": \"2018-05-19T03:00:00.000\", \"variable\": \"input\", \"value\": 14.668999671936035}, {\"time\": \"2018-05-19T04:00:00.000\", \"variable\": \"input\", \"value\": 13.463000297546388}, {\"time\": \"2018-05-19T05:00:00.000\", \"variable\": \"input\", \"value\": 13.597000122070312}, {\"time\": \"2018-05-19T06:00:00.000\", \"variable\": \"input\", \"value\": 14.468000411987305}, {\"time\": \"2018-05-19T07:00:00.000\", \"variable\": \"input\", \"value\": 14.803000450134276}, {\"time\": \"2018-05-19T08:00:00.000\", \"variable\": \"input\", \"value\": 11.788000106811523}, {\"time\": \"2018-05-19T09:00:00.000\", \"variable\": \"input\", \"value\": 9.444000244140623}, {\"time\": \"2018-05-19T10:00:00.000\", \"variable\": \"input\", \"value\": 6.564000129699707}, {\"time\": \"2018-05-19T11:00:00.000\", \"variable\": \"input\", \"value\": 5.090000152587892}, {\"time\": \"2018-05-19T12:00:00.000\", \"variable\": \"input\", \"value\": 7.368000030517577}, {\"time\": \"2018-05-19T13:00:00.000\", \"variable\": \"input\", \"value\": 8.038000106811522}, {\"time\": \"2018-05-19T14:00:00.000\", \"variable\": \"input\", \"value\": 8.305999755859375}, {\"time\": \"2018-05-19T15:00:00.000\", \"variable\": \"input\", \"value\": 8.706999778747559}, {\"time\": \"2018-05-19T16:00:00.000\", \"variable\": \"input\", \"value\": 8.706999778747559}, {\"time\": \"2018-05-19T17:00:00.000\", \"variable\": \"input\", \"value\": 9.645000457763672}, {\"time\": \"2018-05-19T18:00:00.000\", \"variable\": \"input\", \"value\": 9.3100004196167}, {\"time\": \"2018-05-19T19:00:00.000\", \"variable\": \"input\", \"value\": 8.77400016784668}, {\"time\": \"2018-05-19T20:00:00.000\", \"variable\": \"input\", \"value\": 9.041999816894531}, {\"time\": \"2018-05-19T21:00:00.000\", \"variable\": \"input\", \"value\": 8.305999755859375}, {\"time\": \"2018-05-19T22:00:00.000\", \"variable\": \"input\", \"value\": 8.706999778747559}, {\"time\": \"2018-05-19T23:00:00.000\", \"variable\": \"input\", \"value\": 12.055999755859377}, {\"time\": \"2018-05-20T00:00:00.000\", \"variable\": \"input\", \"value\": 13.730999946594238}, {\"time\": \"2018-05-20T01:00:00.000\", \"variable\": \"input\", \"value\": 13.79800033569336}, {\"time\": \"2018-05-20T02:00:00.000\", \"variable\": \"input\", \"value\": 13.99899959564209}, {\"time\": \"2018-05-20T03:00:00.000\", \"variable\": \"input\", \"value\": 12.123000144958494}, {\"time\": \"2018-05-20T04:00:00.000\", \"variable\": \"input\", \"value\": 13.79800033569336}, {\"time\": \"2018-05-20T05:00:00.000\", \"variable\": \"input\", \"value\": 13.26200008392334}, {\"time\": \"2018-05-20T06:00:00.000\", \"variable\": \"input\", \"value\": 10.784000396728516}, {\"time\": \"2018-05-20T07:00:00.000\", \"variable\": \"input\", \"value\": 9.57800006866455}, {\"time\": \"2018-05-20T08:00:00.000\", \"variable\": \"input\", \"value\": 9.243000030517578}, {\"time\": \"2018-05-20T09:00:00.000\", \"variable\": \"input\", \"value\": 9.243000030517578}, {\"time\": \"2018-05-20T10:00:00.000\", \"variable\": \"input\", \"value\": 9.243000030517578}, {\"time\": \"2018-05-20T11:00:00.000\", \"variable\": \"input\", \"value\": 6.564000129699707}, {\"time\": \"2018-05-20T12:00:00.000\", \"variable\": \"input\", \"value\": 5.827000141143799}, {\"time\": \"2018-05-20T13:00:00.000\", \"variable\": \"input\", \"value\": 5.894000053405763}, {\"time\": \"2018-05-20T14:00:00.000\", \"variable\": \"input\", \"value\": 7.501999855041504}, {\"time\": \"2018-05-20T15:00:00.000\", \"variable\": \"input\", \"value\": 7.636000156402588}, {\"time\": \"2018-05-20T16:00:00.000\", \"variable\": \"input\", \"value\": 9.444000244140623}, {\"time\": \"2018-05-20T17:00:00.000\", \"variable\": \"input\", \"value\": 8.572999954223633}, {\"time\": \"2018-05-20T18:00:00.000\", \"variable\": \"input\", \"value\": 8.572999954223633}, {\"time\": \"2018-05-20T19:00:00.000\", \"variable\": \"input\", \"value\": 8.640000343322754}, {\"time\": \"2018-05-20T20:00:00.000\", \"variable\": \"input\", \"value\": 8.706999778747559}, {\"time\": \"2018-05-20T21:00:00.000\", \"variable\": \"input\", \"value\": 8.171999931335451}, {\"time\": \"2018-05-20T22:00:00.000\", \"variable\": \"input\", \"value\": 8.038000106811522}, {\"time\": \"2018-05-20T23:00:00.000\", \"variable\": \"input\", \"value\": 10.649999618530272}, {\"time\": \"2018-05-21T00:00:00.000\", \"variable\": \"input\", \"value\": 12.659000396728516}, {\"time\": \"2018-05-21T01:00:00.000\", \"variable\": \"input\", \"value\": 13.395999908447266}, {\"time\": \"2018-05-21T02:00:00.000\", \"variable\": \"input\", \"value\": 13.395999908447266}, {\"time\": \"2018-05-21T03:00:00.000\", \"variable\": \"input\", \"value\": 11.98900032043457}, {\"time\": \"2018-05-21T04:00:00.000\", \"variable\": \"input\", \"value\": 12.859999656677244}, {\"time\": \"2018-05-21T05:00:00.000\", \"variable\": \"input\", \"value\": 13.32900047302246}, {\"time\": \"2018-05-21T06:00:00.000\", \"variable\": \"input\", \"value\": 14.267000198364258}, {\"time\": \"2018-05-21T07:00:00.000\", \"variable\": \"input\", \"value\": 12.659000396728516}, {\"time\": \"2018-05-21T08:00:00.000\", \"variable\": \"input\", \"value\": 8.23900032043457}, {\"time\": \"2018-05-21T09:00:00.000\", \"variable\": \"input\", \"value\": 7.0329999923706055}, {\"time\": \"2018-05-21T10:00:00.000\", \"variable\": \"input\", \"value\": 6.296000003814697}, {\"time\": \"2018-05-21T11:00:00.000\", \"variable\": \"input\", \"value\": 7.166999816894531}, {\"time\": \"2018-05-21T12:00:00.000\", \"variable\": \"input\", \"value\": -1.4739999771118164}, {\"time\": \"2018-05-21T13:00:00.000\", \"variable\": \"input\", \"value\": 3.750999927520752}, {\"time\": \"2018-05-21T14:00:00.000\", \"variable\": \"input\", \"value\": 5.559000015258789}, {\"time\": \"2018-05-21T15:00:00.000\", \"variable\": \"input\", \"value\": 3.4830000400543213}, {\"time\": \"2018-05-21T16:00:00.000\", \"variable\": \"input\", \"value\": 9.444000244140623}, {\"time\": \"2018-05-21T17:00:00.000\", \"variable\": \"input\", \"value\": 8.104999542236326}, {\"time\": \"2018-05-21T18:00:00.000\", \"variable\": \"input\", \"value\": 9.175999641418455}, {\"time\": \"2018-05-21T19:00:00.000\", \"variable\": \"input\", \"value\": 8.975000381469727}, {\"time\": \"2018-05-21T20:00:00.000\", \"variable\": \"input\", \"value\": 9.376999855041504}, {\"time\": \"2018-05-21T21:00:00.000\", \"variable\": \"input\", \"value\": 9.109000205993652}, {\"time\": \"2018-05-21T22:00:00.000\", \"variable\": \"input\", \"value\": 7.836999893188477}, {\"time\": \"2018-05-21T23:00:00.000\", \"variable\": \"input\", \"value\": 11.119000434875488}, {\"time\": \"2018-05-22T00:00:00.000\", \"variable\": \"input\", \"value\": 11.253000259399414}, {\"time\": \"2018-05-22T01:00:00.000\", \"variable\": \"input\", \"value\": 13.529999732971191}, {\"time\": \"2018-05-22T02:00:00.000\", \"variable\": \"input\", \"value\": 11.052000045776367}, {\"time\": \"2018-05-22T03:00:00.000\", \"variable\": \"input\", \"value\": 9.779000282287598}, {\"time\": \"2018-05-22T04:00:00.000\", \"variable\": \"input\", \"value\": 13.060999870300291}, {\"time\": \"2018-05-22T05:00:00.000\", \"variable\": \"input\", \"value\": 12.994000434875488}, {\"time\": \"2018-05-22T06:00:00.000\", \"variable\": \"input\", \"value\": 14.199999809265137}, {\"time\": \"2018-05-22T07:00:00.000\", \"variable\": \"input\", \"value\": 12.859999656677244}, {\"time\": \"2018-05-22T08:00:00.000\", \"variable\": \"input\", \"value\": 10.984999656677246}, {\"time\": \"2018-05-22T09:00:00.000\", \"variable\": \"input\", \"value\": 5.692999839782715}, {\"time\": \"2018-05-22T10:00:00.000\", \"variable\": \"input\", \"value\": 8.572999954223633}, {\"time\": \"2018-05-22T11:00:00.000\", \"variable\": \"input\", \"value\": 9.109000205993652}, {\"time\": \"2018-05-22T12:00:00.000\", \"variable\": \"input\", \"value\": 4.019000053405762}, {\"time\": \"2018-05-22T13:00:00.000\", \"variable\": \"input\", \"value\": 0.2010000050067901}, {\"time\": \"2018-05-22T14:00:00.000\", \"variable\": \"input\", \"value\": 5.559000015258789}, {\"time\": \"2018-05-22T15:00:00.000\", \"variable\": \"input\", \"value\": 4.956999778747559}, {\"time\": \"2018-05-22T16:00:00.000\", \"variable\": \"input\", \"value\": 2.2100000381469727}, {\"time\": \"2018-05-22T17:00:00.000\", \"variable\": \"input\", \"value\": 7.568999767303468}, {\"time\": \"2018-05-22T18:00:00.000\", \"variable\": \"input\", \"value\": 7.0329999923706055}, {\"time\": \"2018-05-22T19:00:00.000\", \"variable\": \"input\", \"value\": 6.831999778747559}, {\"time\": \"2018-05-22T20:00:00.000\", \"variable\": \"input\", \"value\": 6.831999778747559}, {\"time\": \"2018-05-22T21:00:00.000\", \"variable\": \"input\", \"value\": 7.166999816894531}, {\"time\": \"2018-05-22T22:00:00.000\", \"variable\": \"input\", \"value\": 9.041999816894531}, {\"time\": \"2018-05-22T23:00:00.000\", \"variable\": \"input\", \"value\": 10.717000007629396}, {\"time\": \"2018-05-23T00:00:00.000\", \"variable\": \"input\", \"value\": 13.19499969482422}, {\"time\": \"2018-05-23T01:00:00.000\", \"variable\": \"input\", \"value\": 15.003999710083008}, {\"time\": \"2018-05-23T02:00:00.000\", \"variable\": \"input\", \"value\": 14.668999671936035}, {\"time\": \"2018-05-23T03:00:00.000\", \"variable\": \"input\", \"value\": 13.32900047302246}, {\"time\": \"2018-05-23T04:00:00.000\", \"variable\": \"input\", \"value\": 13.529999732971191}, {\"time\": \"2018-05-23T05:00:00.000\", \"variable\": \"input\", \"value\": 15.404999732971191}, {\"time\": \"2018-05-23T06:00:00.000\", \"variable\": \"input\", \"value\": 13.99899959564209}, {\"time\": \"2018-05-23T07:00:00.000\", \"variable\": \"input\", \"value\": 8.907999992370605}, {\"time\": \"2018-05-23T08:00:00.000\", \"variable\": \"input\", \"value\": -0.9380000233650208}, {\"time\": \"2018-05-23T09:00:00.000\", \"variable\": \"input\", \"value\": -9.109000205993652}, {\"time\": \"2018-05-23T10:00:00.000\", \"variable\": \"input\", \"value\": -10.381999969482422}, {\"time\": \"2018-05-23T11:00:00.000\", \"variable\": \"input\", \"value\": -13.128000259399414}, {\"time\": \"2018-05-23T12:00:00.000\", \"variable\": \"input\", \"value\": -16.745000839233402}, {\"time\": \"2018-05-23T13:00:00.000\", \"variable\": \"input\", \"value\": -17.884000778198242}, {\"time\": \"2018-05-23T14:00:00.000\", \"variable\": \"input\", \"value\": -14.333999633789062}, {\"time\": \"2018-05-23T15:00:00.000\", \"variable\": \"input\", \"value\": -10.91800022125244}, {\"time\": \"2018-05-23T16:00:00.000\", \"variable\": \"input\", \"value\": -6.89900016784668}, {\"time\": \"2018-05-23T17:00:00.000\", \"variable\": \"input\", \"value\": -0.2010000050067901}, {\"time\": \"2018-05-23T18:00:00.000\", \"variable\": \"input\", \"value\": 5.559000015258789}, {\"time\": \"2018-05-23T19:00:00.000\", \"variable\": \"input\", \"value\": 6.764999866485598}, {\"time\": \"2018-05-23T20:00:00.000\", \"variable\": \"input\", \"value\": 7.434999942779541}, {\"time\": \"2018-05-23T21:00:00.000\", \"variable\": \"input\", \"value\": 6.89900016784668}, {\"time\": \"2018-05-23T22:00:00.000\", \"variable\": \"input\", \"value\": 7.166999816894531}, {\"time\": \"2018-05-23T23:00:00.000\", \"variable\": \"input\", \"value\": 8.77400016784668}, {\"time\": \"2018-05-24T00:00:00.000\", \"variable\": \"input\", \"value\": 12.458000183105469}, {\"time\": \"2018-05-24T01:00:00.000\", \"variable\": \"input\", \"value\": 11.854999542236328}, {\"time\": \"2018-05-24T02:00:00.000\", \"variable\": \"input\", \"value\": 10.91800022125244}, {\"time\": \"2018-05-24T03:00:00.000\", \"variable\": \"input\", \"value\": 12.123000144958494}, {\"time\": \"2018-05-24T04:00:00.000\", \"variable\": \"input\", \"value\": 11.788000106811523}, {\"time\": \"2018-05-24T05:00:00.000\", \"variable\": \"input\", \"value\": 12.256999969482422}, {\"time\": \"2018-05-24T06:00:00.000\", \"variable\": \"input\", \"value\": 9.444000244140623}, {\"time\": \"2018-05-24T07:00:00.000\", \"variable\": \"input\", \"value\": 7.099999904632568}, {\"time\": \"2018-05-24T08:00:00.000\", \"variable\": \"input\", \"value\": -2.678999900817871}, {\"time\": \"2018-05-24T09:00:00.000\", \"variable\": \"input\", \"value\": 3.95199990272522}, {\"time\": \"2018-05-24T10:00:00.000\", \"variable\": \"input\", \"value\": 4.3540000915527335}, {\"time\": \"2018-05-24T11:00:00.000\", \"variable\": \"input\", \"value\": -1.807999968528748}, {\"time\": \"2018-05-24T12:00:00.000\", \"variable\": \"input\", \"value\": -1.4739999771118164}, {\"time\": \"2018-05-24T13:00:00.000\", \"variable\": \"input\", \"value\": -17.415000915527347}, {\"time\": \"2018-05-24T14:00:00.000\", \"variable\": \"input\", \"value\": -13.99899959564209}, {\"time\": \"2018-05-24T15:00:00.000\", \"variable\": \"input\", \"value\": -10.583000183105469}, {\"time\": \"2018-05-24T16:00:00.000\", \"variable\": \"input\", \"value\": 1.0049999952316284}, {\"time\": \"2018-05-24T17:00:00.000\", \"variable\": \"input\", \"value\": 5.090000152587892}, {\"time\": \"2018-05-24T18:00:00.000\", \"variable\": \"input\", \"value\": 4.2199997901916495}, {\"time\": \"2018-05-24T19:00:00.000\", \"variable\": \"input\", \"value\": 6.697999954223633}, {\"time\": \"2018-05-24T20:00:00.000\", \"variable\": \"input\", \"value\": 7.636000156402588}, {\"time\": \"2018-05-24T21:00:00.000\", \"variable\": \"input\", \"value\": 8.77400016784668}, {\"time\": \"2018-05-24T22:00:00.000\", \"variable\": \"input\", \"value\": 9.243000030517578}, {\"time\": \"2018-05-24T23:00:00.000\", \"variable\": \"input\", \"value\": 14.401000022888184}, {\"time\": \"2018-05-25T00:00:00.000\", \"variable\": \"input\", \"value\": 15.807000160217283}, {\"time\": \"2018-05-25T01:00:00.000\", \"variable\": \"input\", \"value\": 15.472000122070312}, {\"time\": \"2018-05-25T02:00:00.000\", \"variable\": \"input\", \"value\": 15.87399959564209}, {\"time\": \"2018-05-25T03:00:00.000\", \"variable\": \"input\", \"value\": 16.142000198364258}, {\"time\": \"2018-05-25T04:00:00.000\", \"variable\": \"input\", \"value\": 14.937000274658203}, {\"time\": \"2018-05-25T05:00:00.000\", \"variable\": \"input\", \"value\": 13.864999771118164}, {\"time\": \"2018-05-25T06:00:00.000\", \"variable\": \"input\", \"value\": 12.994000434875488}, {\"time\": \"2018-05-25T07:00:00.000\", \"variable\": \"input\", \"value\": 12.859999656677244}, {\"time\": \"2018-05-25T08:00:00.000\", \"variable\": \"input\", \"value\": 6.09499979019165}, {\"time\": \"2018-05-25T09:00:00.000\", \"variable\": \"input\", \"value\": 1.807999968528748}, {\"time\": \"2018-05-25T10:00:00.000\", \"variable\": \"input\", \"value\": 4.75600004196167}, {\"time\": \"2018-05-25T11:00:00.000\", \"variable\": \"input\", \"value\": 0.4020000100135803}, {\"time\": \"2018-05-25T12:00:00.000\", \"variable\": \"input\", \"value\": -6.027999877929688}, {\"time\": \"2018-05-25T13:00:00.000\", \"variable\": \"input\", \"value\": -11.654999732971191}, {\"time\": \"2018-05-25T14:00:00.000\", \"variable\": \"input\", \"value\": 0.3350000083446503}, {\"time\": \"2018-05-25T15:00:00.000\", \"variable\": \"input\", \"value\": 3.2149999141693115}, {\"time\": \"2018-05-25T16:00:00.000\", \"variable\": \"input\", \"value\": 4.152999877929688}], \"transform\": [{\"type\": \"formula\", \"expr\": \"toDate(datum['time'])\", \"as\": \"time\"}]}, {\"name\": \"source_1\", \"values\": [{\"time\": \"2018-05-25T17:00:00.000\", \"variable\": \"target\", \"value\": 8.640000343322754}, {\"time\": \"2018-05-25T18:00:00.000\", \"variable\": \"target\", \"value\": 5.223999977111816}, {\"time\": \"2018-05-25T19:00:00.000\", \"variable\": \"target\", \"value\": 6.63100004196167}, {\"time\": \"2018-05-25T20:00:00.000\", \"variable\": \"target\", \"value\": 6.36299991607666}, {\"time\": \"2018-05-25T21:00:00.000\", \"variable\": \"target\", \"value\": 8.038000106811522}, {\"time\": \"2018-05-25T22:00:00.000\", \"variable\": \"target\", \"value\": 6.89900016784668}, {\"time\": \"2018-05-25T23:00:00.000\", \"variable\": \"target\", \"value\": 9.57800006866455}, {\"time\": \"2018-05-26T00:00:00.000\", \"variable\": \"target\", \"value\": 11.654999732971191}, {\"time\": \"2018-05-26T01:00:00.000\", \"variable\": \"target\", \"value\": 12.256999969482422}, {\"time\": \"2018-05-26T02:00:00.000\", \"variable\": \"target\", \"value\": 11.052000045776367}, {\"time\": \"2018-05-26T03:00:00.000\", \"variable\": \"target\", \"value\": 11.854999542236328}, {\"time\": \"2018-05-26T04:00:00.000\", \"variable\": \"target\", \"value\": 11.31999969482422}, {\"time\": \"2018-05-26T05:00:00.000\", \"variable\": \"target\", \"value\": 11.720999717712402}, {\"time\": \"2018-05-26T06:00:00.000\", \"variable\": \"target\", \"value\": 10.449000358581545}, {\"time\": \"2018-05-26T07:00:00.000\", \"variable\": \"target\", \"value\": 9.041999816894531}, {\"time\": \"2018-05-26T08:00:00.000\", \"variable\": \"target\", \"value\": 7.234000205993652}, {\"time\": \"2018-05-26T09:00:00.000\", \"variable\": \"target\", \"value\": 3.818000078201294}, {\"time\": \"2018-05-26T10:00:00.000\", \"variable\": \"target\", \"value\": 8.505999565124513}, {\"time\": \"2018-05-26T11:00:00.000\", \"variable\": \"target\", \"value\": 9.779000282287598}, {\"time\": \"2018-05-26T12:00:00.000\", \"variable\": \"target\", \"value\": 7.501999855041504}, {\"time\": \"2018-05-26T13:00:00.000\", \"variable\": \"target\", \"value\": 4.956999778747559}, {\"time\": \"2018-05-26T14:00:00.000\", \"variable\": \"target\", \"value\": 0.1340000033378601}, {\"time\": \"2018-05-26T15:00:00.000\", \"variable\": \"target\", \"value\": 6.697999954223633}, {\"time\": \"2018-05-26T16:00:00.000\", \"variable\": \"target\", \"value\": 8.171999931335451}, {\"time\": \"2018-05-26T17:00:00.000\", \"variable\": \"target\", \"value\": 10.984999656677246}, {\"time\": \"2018-05-26T18:00:00.000\", \"variable\": \"target\", \"value\": 9.845999717712402}, {\"time\": \"2018-05-26T19:00:00.000\", \"variable\": \"target\", \"value\": 9.913000106811523}, {\"time\": \"2018-05-26T20:00:00.000\", \"variable\": \"target\", \"value\": 10.248000144958496}, {\"time\": \"2018-05-26T21:00:00.000\", \"variable\": \"target\", \"value\": 8.975000381469727}, {\"time\": \"2018-05-26T22:00:00.000\", \"variable\": \"target\", \"value\": 9.979999542236328}, {\"time\": \"2018-05-26T23:00:00.000\", \"variable\": \"target\", \"value\": 12.79300022125244}, {\"time\": \"2018-05-27T00:00:00.000\", \"variable\": \"target\", \"value\": 13.060999870300291}, {\"time\": \"2018-05-27T01:00:00.000\", \"variable\": \"target\", \"value\": 14.668999671936035}, {\"time\": \"2018-05-27T02:00:00.000\", \"variable\": \"target\", \"value\": 14.60200023651123}, {\"time\": \"2018-05-27T03:00:00.000\", \"variable\": \"target\", \"value\": 13.730999946594238}, {\"time\": \"2018-05-27T04:00:00.000\", \"variable\": \"target\", \"value\": 13.32900047302246}, {\"time\": \"2018-05-27T05:00:00.000\", \"variable\": \"target\", \"value\": 14.199999809265137}, {\"time\": \"2018-05-27T06:00:00.000\", \"variable\": \"target\", \"value\": 15.06999969482422}, {\"time\": \"2018-05-27T07:00:00.000\", \"variable\": \"target\", \"value\": 12.390999794006348}, {\"time\": \"2018-05-27T08:00:00.000\", \"variable\": \"target\", \"value\": 7.434999942779541}, {\"time\": \"2018-05-27T09:00:00.000\", \"variable\": \"target\", \"value\": 6.89900016784668}, {\"time\": \"2018-05-27T10:00:00.000\", \"variable\": \"target\", \"value\": 1.1390000581741333}, {\"time\": \"2018-05-27T11:00:00.000\", \"variable\": \"target\", \"value\": -3.750999927520752}, {\"time\": \"2018-05-27T12:00:00.000\", \"variable\": \"target\", \"value\": -5.492000102996826}, {\"time\": \"2018-05-27T13:00:00.000\", \"variable\": \"target\", \"value\": 0.6029999852180481}, {\"time\": \"2018-05-27T14:00:00.000\", \"variable\": \"target\", \"value\": -10.381999969482422}, {\"time\": \"2018-05-27T15:00:00.000\", \"variable\": \"target\", \"value\": -2.812999963760376}, {\"time\": \"2018-05-27T16:00:00.000\", \"variable\": \"target\", \"value\": -0.8709999918937683}, {\"time\": \"2018-05-27T17:00:00.000\", \"variable\": \"target\", \"value\": 3.818000078201294}, {\"time\": \"2018-05-27T18:00:00.000\", \"variable\": \"target\", \"value\": 5.625999927520752}, {\"time\": \"2018-05-27T19:00:00.000\", \"variable\": \"target\", \"value\": 6.966000080108643}, {\"time\": \"2018-05-27T20:00:00.000\", \"variable\": \"target\", \"value\": 7.501999855041504}, {\"time\": \"2018-05-27T21:00:00.000\", \"variable\": \"target\", \"value\": 8.23900032043457}, {\"time\": \"2018-05-27T22:00:00.000\", \"variable\": \"target\", \"value\": 9.979999542236328}, {\"time\": \"2018-05-27T23:00:00.000\", \"variable\": \"target\", \"value\": 9.979999542236328}, {\"time\": \"2018-05-28T00:00:00.000\", \"variable\": \"target\", \"value\": 10.717000007629396}, {\"time\": \"2018-05-28T01:00:00.000\", \"variable\": \"target\", \"value\": 10.717000007629396}, {\"time\": \"2018-05-28T02:00:00.000\", \"variable\": \"target\", \"value\": 12.256999969482422}, {\"time\": \"2018-05-28T03:00:00.000\", \"variable\": \"target\", \"value\": 11.588000297546388}, {\"time\": \"2018-05-28T04:00:00.000\", \"variable\": \"target\", \"value\": 11.520999908447266}, {\"time\": \"2018-05-28T05:00:00.000\", \"variable\": \"target\", \"value\": 12.256999969482422}, {\"time\": \"2018-05-28T06:00:00.000\", \"variable\": \"target\", \"value\": 10.248000144958496}, {\"time\": \"2018-05-28T07:00:00.000\", \"variable\": \"target\", \"value\": 7.97100019454956}, {\"time\": \"2018-05-28T08:00:00.000\", \"variable\": \"target\", \"value\": 6.09499979019165}, {\"time\": \"2018-05-28T09:00:00.000\", \"variable\": \"target\", \"value\": 2.746000051498413}, {\"time\": \"2018-05-28T10:00:00.000\", \"variable\": \"target\", \"value\": 2.075999975204468}, {\"time\": \"2018-05-28T11:00:00.000\", \"variable\": \"target\", \"value\": -4.019000053405762}, {\"time\": \"2018-05-28T12:00:00.000\", \"variable\": \"target\", \"value\": -3.549999952316284}, {\"time\": \"2018-05-28T13:00:00.000\", \"variable\": \"target\", \"value\": -4.622000217437744}, {\"time\": \"2018-05-28T14:00:00.000\", \"variable\": \"target\", \"value\": -0.1340000033378601}, {\"time\": \"2018-05-28T15:00:00.000\", \"variable\": \"target\", \"value\": 1.3400000333786009}, {\"time\": \"2018-05-28T16:00:00.000\", \"variable\": \"target\", \"value\": 3.41599988937378}, {\"time\": \"2018-05-28T17:00:00.000\", \"variable\": \"target\", \"value\": 8.371999740600586}, {\"time\": \"2018-05-28T18:00:00.000\", \"variable\": \"target\", \"value\": 7.368000030517577}, {\"time\": \"2018-05-28T19:00:00.000\", \"variable\": \"target\", \"value\": 7.434999942779541}, {\"time\": \"2018-05-28T20:00:00.000\", \"variable\": \"target\", \"value\": 7.568999767303468}, {\"time\": \"2018-05-28T21:00:00.000\", \"variable\": \"target\", \"value\": 10.11400032043457}, {\"time\": \"2018-05-28T22:00:00.000\", \"variable\": \"target\", \"value\": 12.1899995803833}, {\"time\": \"2018-05-28T23:00:00.000\", \"variable\": \"target\", \"value\": 15.20400047302246}, {\"time\": \"2018-05-29T00:00:00.000\", \"variable\": \"target\", \"value\": 13.663999557495115}, {\"time\": \"2018-05-29T01:00:00.000\", \"variable\": \"target\", \"value\": 15.20400047302246}, {\"time\": \"2018-05-29T02:00:00.000\", \"variable\": \"target\", \"value\": 15.20400047302246}, {\"time\": \"2018-05-29T03:00:00.000\", \"variable\": \"target\", \"value\": 14.668999671936035}, {\"time\": \"2018-05-29T04:00:00.000\", \"variable\": \"target\", \"value\": 14.736000061035154}, {\"time\": \"2018-05-29T05:00:00.000\", \"variable\": \"target\", \"value\": 16.611000061035153}, {\"time\": \"2018-05-29T06:00:00.000\", \"variable\": \"target\", \"value\": 14.468000411987305}, {\"time\": \"2018-05-29T07:00:00.000\", \"variable\": \"target\", \"value\": 10.91800022125244}, {\"time\": \"2018-05-29T08:00:00.000\", \"variable\": \"target\", \"value\": 8.572999954223633}, {\"time\": \"2018-05-29T09:00:00.000\", \"variable\": \"target\", \"value\": 4.689000129699707}, {\"time\": \"2018-05-29T10:00:00.000\", \"variable\": \"target\", \"value\": 6.162000179290772}, {\"time\": \"2018-05-29T11:00:00.000\", \"variable\": \"target\", \"value\": 2.2769999504089355}, {\"time\": \"2018-05-29T12:00:00.000\", \"variable\": \"target\", \"value\": 3.3489999771118164}, {\"time\": \"2018-05-29T13:00:00.000\", \"variable\": \"target\", \"value\": 3.1480000019073486}, {\"time\": \"2018-05-29T14:00:00.000\", \"variable\": \"target\", \"value\": 1.5410000085830688}, {\"time\": \"2018-05-29T15:00:00.000\", \"variable\": \"target\", \"value\": 6.564000129699707}, {\"time\": \"2018-05-29T16:00:00.000\", \"variable\": \"target\", \"value\": 6.966000080108643}], \"transform\": [{\"type\": \"formula\", \"expr\": \"toDate(datum['time'])\", \"as\": \"time\"}]}, {\"name\": \"source_2\", \"values\": [{\"time\": \"2018-05-25T17:00:00.000\", \"variable\": \"prediction\", \"value\": 9.298840813868871}, {\"time\": \"2018-05-25T18:00:00.000\", \"variable\": \"prediction\", \"value\": 11.24993980303484}, {\"time\": \"2018-05-25T19:00:00.000\", \"variable\": \"prediction\", \"value\": 12.059624186267962}, {\"time\": \"2018-05-25T20:00:00.000\", \"variable\": \"prediction\", \"value\": 12.370109363052512}, {\"time\": \"2018-05-25T21:00:00.000\", \"variable\": \"prediction\", \"value\": 12.81394290082551}, {\"time\": \"2018-05-25T22:00:00.000\", \"variable\": \"prediction\", \"value\": 13.659617695834179}, {\"time\": \"2018-05-25T23:00:00.000\", \"variable\": \"prediction\", \"value\": 17.69200619497206}, {\"time\": \"2018-05-26T00:00:00.000\", \"variable\": \"prediction\", \"value\": 18.470988226365456}, {\"time\": \"2018-05-26T01:00:00.000\", \"variable\": \"prediction\", \"value\": 18.945139581298257}, {\"time\": \"2018-05-26T02:00:00.000\", \"variable\": \"prediction\", \"value\": 18.52409826842311}, {\"time\": \"2018-05-26T03:00:00.000\", \"variable\": \"prediction\", \"value\": 18.230297231961252}, {\"time\": \"2018-05-26T04:00:00.000\", \"variable\": \"prediction\", \"value\": 18.10936597044875}, {\"time\": \"2018-05-26T05:00:00.000\", \"variable\": \"prediction\", \"value\": 18.803455257192105}, {\"time\": \"2018-05-26T06:00:00.000\", \"variable\": \"prediction\", \"value\": 19.21599932142868}, {\"time\": \"2018-05-26T07:00:00.000\", \"variable\": \"prediction\", \"value\": 15.596762712652604}, {\"time\": \"2018-05-26T08:00:00.000\", \"variable\": \"prediction\", \"value\": 10.66052867979567}, {\"time\": \"2018-05-26T09:00:00.000\", \"variable\": \"prediction\", \"value\": 4.73811054352187}, {\"time\": \"2018-05-26T10:00:00.000\", \"variable\": \"prediction\", \"value\": 1.651639470858811}, {\"time\": \"2018-05-26T11:00:00.000\", \"variable\": \"prediction\", \"value\": -1.4328141688458569}, {\"time\": \"2018-05-26T12:00:00.000\", \"variable\": \"prediction\", \"value\": -3.988727178573681}, {\"time\": \"2018-05-26T13:00:00.000\", \"variable\": \"prediction\", \"value\": -2.9871189641149343}, {\"time\": \"2018-05-26T14:00:00.000\", \"variable\": \"prediction\", \"value\": -1.2350870660319018}, {\"time\": \"2018-05-26T15:00:00.000\", \"variable\": \"prediction\", \"value\": 0.9943569916946018}, {\"time\": \"2018-05-26T16:00:00.000\", \"variable\": \"prediction\", \"value\": 4.765504068695914}, {\"time\": \"2018-05-26T17:00:00.000\", \"variable\": \"prediction\", \"value\": 9.40912917400021}, {\"time\": \"2018-05-26T18:00:00.000\", \"variable\": \"prediction\", \"value\": 11.360228163166177}, {\"time\": \"2018-05-26T19:00:00.000\", \"variable\": \"prediction\", \"value\": 12.169912546399301}, {\"time\": \"2018-05-26T20:00:00.000\", \"variable\": \"prediction\", \"value\": 12.480397723183849}, {\"time\": \"2018-05-26T21:00:00.000\", \"variable\": \"prediction\", \"value\": 12.924231260956848}, {\"time\": \"2018-05-26T22:00:00.000\", \"variable\": \"prediction\", \"value\": 13.769906055965517}, {\"time\": \"2018-05-26T23:00:00.000\", \"variable\": \"prediction\", \"value\": 17.802294555103398}, {\"time\": \"2018-05-27T00:00:00.000\", \"variable\": \"prediction\", \"value\": 18.5812765864968}, {\"time\": \"2018-05-27T01:00:00.000\", \"variable\": \"prediction\", \"value\": 19.055427941429592}, {\"time\": \"2018-05-27T02:00:00.000\", \"variable\": \"prediction\", \"value\": 18.63438662855445}, {\"time\": \"2018-05-27T03:00:00.000\", \"variable\": \"prediction\", \"value\": 18.34058559209259}, {\"time\": \"2018-05-27T04:00:00.000\", \"variable\": \"prediction\", \"value\": 18.219654330580088}, {\"time\": \"2018-05-27T05:00:00.000\", \"variable\": \"prediction\", \"value\": 18.91374361732344}, {\"time\": \"2018-05-27T06:00:00.000\", \"variable\": \"prediction\", \"value\": 19.326287681560018}, {\"time\": \"2018-05-27T07:00:00.000\", \"variable\": \"prediction\", \"value\": 15.707051072783942}, {\"time\": \"2018-05-27T08:00:00.000\", \"variable\": \"prediction\", \"value\": 10.770817039927008}, {\"time\": \"2018-05-27T09:00:00.000\", \"variable\": \"prediction\", \"value\": 4.848398903653207}, {\"time\": \"2018-05-27T10:00:00.000\", \"variable\": \"prediction\", \"value\": 1.7619278309901496}, {\"time\": \"2018-05-27T11:00:00.000\", \"variable\": \"prediction\", \"value\": -1.32252580871452}, {\"time\": \"2018-05-27T12:00:00.000\", \"variable\": \"prediction\", \"value\": -3.8784388184423424}, {\"time\": \"2018-05-27T13:00:00.000\", \"variable\": \"prediction\", \"value\": -2.8768306039835956}, {\"time\": \"2018-05-27T14:00:00.000\", \"variable\": \"prediction\", \"value\": -1.1247987059005649}, {\"time\": \"2018-05-27T15:00:00.000\", \"variable\": \"prediction\", \"value\": 1.1046453518259405}, {\"time\": \"2018-05-27T16:00:00.000\", \"variable\": \"prediction\", \"value\": 4.875792428827251}, {\"time\": \"2018-05-27T17:00:00.000\", \"variable\": \"prediction\", \"value\": 9.519417534131549}, {\"time\": \"2018-05-27T18:00:00.000\", \"variable\": \"prediction\", \"value\": 11.470516523297515}, {\"time\": \"2018-05-27T19:00:00.000\", \"variable\": \"prediction\", \"value\": 12.28020090653064}, {\"time\": \"2018-05-27T20:00:00.000\", \"variable\": \"prediction\", \"value\": 12.590686083315187}, {\"time\": \"2018-05-27T21:00:00.000\", \"variable\": \"prediction\", \"value\": 13.034519621088183}, {\"time\": \"2018-05-27T22:00:00.000\", \"variable\": \"prediction\", \"value\": 13.880194416096856}, {\"time\": \"2018-05-27T23:00:00.000\", \"variable\": \"prediction\", \"value\": 17.912582915234736}, {\"time\": \"2018-05-28T00:00:00.000\", \"variable\": \"prediction\", \"value\": 18.691564946628134}, {\"time\": \"2018-05-28T01:00:00.000\", \"variable\": \"prediction\", \"value\": 19.16571630156093}, {\"time\": \"2018-05-28T02:00:00.000\", \"variable\": \"prediction\", \"value\": 18.744674988685787}, {\"time\": \"2018-05-28T03:00:00.000\", \"variable\": \"prediction\", \"value\": 18.45087395222393}, {\"time\": \"2018-05-28T04:00:00.000\", \"variable\": \"prediction\", \"value\": 18.329942690711427}, {\"time\": \"2018-05-28T05:00:00.000\", \"variable\": \"prediction\", \"value\": 19.024031977454783}, {\"time\": \"2018-05-28T06:00:00.000\", \"variable\": \"prediction\", \"value\": 19.436576041691353}, {\"time\": \"2018-05-28T07:00:00.000\", \"variable\": \"prediction\", \"value\": 15.81733943291528}, {\"time\": \"2018-05-28T08:00:00.000\", \"variable\": \"prediction\", \"value\": 10.881105400058347}, {\"time\": \"2018-05-28T09:00:00.000\", \"variable\": \"prediction\", \"value\": 4.958687263784546}, {\"time\": \"2018-05-28T10:00:00.000\", \"variable\": \"prediction\", \"value\": 1.8722161911214883}, {\"time\": \"2018-05-28T11:00:00.000\", \"variable\": \"prediction\", \"value\": -1.2122374485831813}, {\"time\": \"2018-05-28T12:00:00.000\", \"variable\": \"prediction\", \"value\": -3.7681504583110055}, {\"time\": \"2018-05-28T13:00:00.000\", \"variable\": \"prediction\", \"value\": -2.766542243852257}, {\"time\": \"2018-05-28T14:00:00.000\", \"variable\": \"prediction\", \"value\": -1.0145103457692262}, {\"time\": \"2018-05-28T15:00:00.000\", \"variable\": \"prediction\", \"value\": 1.2149337119572792}, {\"time\": \"2018-05-28T16:00:00.000\", \"variable\": \"prediction\", \"value\": 4.986080788958589}, {\"time\": \"2018-05-28T17:00:00.000\", \"variable\": \"prediction\", \"value\": 9.629705894262887}, {\"time\": \"2018-05-28T18:00:00.000\", \"variable\": \"prediction\", \"value\": 11.580804883428854}, {\"time\": \"2018-05-28T19:00:00.000\", \"variable\": \"prediction\", \"value\": 12.390489266661977}, {\"time\": \"2018-05-28T20:00:00.000\", \"variable\": \"prediction\", \"value\": 12.700974443446526}, {\"time\": \"2018-05-28T21:00:00.000\", \"variable\": \"prediction\", \"value\": 13.144807981219522}, {\"time\": \"2018-05-28T22:00:00.000\", \"variable\": \"prediction\", \"value\": 13.990482776228193}, {\"time\": \"2018-05-28T23:00:00.000\", \"variable\": \"prediction\", \"value\": 18.022871275366075}, {\"time\": \"2018-05-29T00:00:00.000\", \"variable\": \"prediction\", \"value\": 18.801853306759472}, {\"time\": \"2018-05-29T01:00:00.000\", \"variable\": \"prediction\", \"value\": 19.27600466169227}, {\"time\": \"2018-05-29T02:00:00.000\", \"variable\": \"prediction\", \"value\": 18.854963348817122}, {\"time\": \"2018-05-29T03:00:00.000\", \"variable\": \"prediction\", \"value\": 18.561162312355265}, {\"time\": \"2018-05-29T04:00:00.000\", \"variable\": \"prediction\", \"value\": 18.440231050842765}, {\"time\": \"2018-05-29T05:00:00.000\", \"variable\": \"prediction\", \"value\": 19.134320337586118}, {\"time\": \"2018-05-29T06:00:00.000\", \"variable\": \"prediction\", \"value\": 19.546864401822695}, {\"time\": \"2018-05-29T07:00:00.000\", \"variable\": \"prediction\", \"value\": 15.927627793046618}, {\"time\": \"2018-05-29T08:00:00.000\", \"variable\": \"prediction\", \"value\": 10.991393760189684}, {\"time\": \"2018-05-29T09:00:00.000\", \"variable\": \"prediction\", \"value\": 5.068975623915884}, {\"time\": \"2018-05-29T10:00:00.000\", \"variable\": \"prediction\", \"value\": 1.9825045512528252}, {\"time\": \"2018-05-29T11:00:00.000\", \"variable\": \"prediction\", \"value\": -1.1019490884518426}, {\"time\": \"2018-05-29T12:00:00.000\", \"variable\": \"prediction\", \"value\": -3.657862098179667}, {\"time\": \"2018-05-29T13:00:00.000\", \"variable\": \"prediction\", \"value\": -2.65625388372092}, {\"time\": \"2018-05-29T14:00:00.000\", \"variable\": \"prediction\", \"value\": -0.9042219856378875}, {\"time\": \"2018-05-29T15:00:00.000\", \"variable\": \"prediction\", \"value\": 1.325222072088616}, {\"time\": \"2018-05-29T16:00:00.000\", \"variable\": \"prediction\", \"value\": 5.096369149089928}], \"transform\": [{\"type\": \"formula\", \"expr\": \"toDate(datum['time'])\", \"as\": \"time\"}]}, {\"name\": \"source_0_color_domain_variable_0\", \"values\": [{\"variable\": \"input\"}]}, {\"name\": \"source_1_color_domain_variable_1\", \"values\": [{\"variable\": \"target\"}]}, {\"name\": \"source_2_color_domain_variable_2\", \"values\": [{\"variable\": \"prediction\"}]}], \"marks\": [{\"type\": \"group\", \"name\": \"layer_0_pathgroup\", \"from\": {\"facet\": {\"data\": \"source_0\", \"name\": \"faceted_path_layer_0_main\", \"groupby\": [\"variable\"]}}, \"encode\": {\"update\": {\"width\": {\"field\": {\"signal\": null, \"datum\": null, \"group\": \"width\", \"parent\": null}}, \"height\": {\"field\": {\"signal\": null, \"datum\": null, \"group\": \"height\", \"parent\": null}}}}, \"marks\": [{\"type\": \"line\", \"name\": \"layer_0_marks\", \"from\": {\"data\": \"faceted_path_layer_0_main\"}, \"sort\": {\"field\": \"x\"}, \"encode\": {\"update\": {\"stroke\": {\"field\": \"variable\", \"scale\": \"color\"}, \"y\": {\"field\": \"value\", \"scale\": \"y\"}, \"x\": {\"field\": \"time\", \"scale\": \"x\"}, \"defined\": {\"signal\": \"isValid(datum[\\\"time\\\"]) && isFinite(+datum[\\\"time\\\"]) && isValid(datum[\\\"value\\\"]) && isFinite(+datum[\\\"value\\\"])\"}}}, \"style\": [\"line\"]}]}, {\"type\": \"group\", \"name\": \"layer_1_pathgroup\", \"from\": {\"facet\": {\"data\": \"source_1\", \"name\": \"faceted_path_layer_1_main\", \"groupby\": [\"variable\"]}}, \"encode\": {\"update\": {\"width\": {\"field\": {\"signal\": null, \"datum\": null, \"group\": \"width\", \"parent\": null}}, \"height\": {\"field\": {\"signal\": null, \"datum\": null, \"group\": \"height\", \"parent\": null}}}}, \"marks\": [{\"type\": \"line\", \"name\": \"layer_1_marks\", \"from\": {\"data\": \"faceted_path_layer_1_main\"}, \"sort\": {\"field\": \"x\"}, \"encode\": {\"update\": {\"stroke\": {\"field\": \"variable\", \"scale\": \"color\"}, \"defined\": {\"signal\": \"isValid(datum[\\\"time\\\"]) && isFinite(+datum[\\\"time\\\"]) && isValid(datum[\\\"value\\\"]) && isFinite(+datum[\\\"value\\\"])\"}, \"y\": {\"field\": \"value\", \"scale\": \"y\"}, \"x\": {\"field\": \"time\", \"scale\": \"x\"}}}, \"style\": [\"line\"]}]}, {\"type\": \"group\", \"name\": \"layer_2_pathgroup\", \"from\": {\"facet\": {\"data\": \"source_2\", \"name\": \"faceted_path_layer_2_main\", \"groupby\": [\"variable\"]}}, \"encode\": {\"update\": {\"width\": {\"field\": {\"signal\": null, \"datum\": null, \"group\": \"width\", \"parent\": null}}, \"height\": {\"field\": {\"signal\": null, \"datum\": null, \"group\": \"height\", \"parent\": null}}}}, \"marks\": [{\"type\": \"line\", \"name\": \"layer_2_marks\", \"from\": {\"data\": \"faceted_path_layer_2_main\"}, \"sort\": {\"field\": \"x\"}, \"encode\": {\"update\": {\"stroke\": {\"field\": \"variable\", \"scale\": \"color\"}, \"x\": {\"field\": \"time\", \"scale\": \"x\"}, \"y\": {\"field\": \"value\", \"scale\": \"y\"}, \"defined\": {\"signal\": \"isValid(datum[\\\"time\\\"]) && isFinite(+datum[\\\"time\\\"]) && isValid(datum[\\\"value\\\"]) && isFinite(+datum[\\\"value\\\"])\"}, \"strokeDash\": {\"value\": [5, 2]}, \"opacity\": {\"value\": 0.7}}}, \"style\": [\"line\"]}]}], \"scales\": [{\"name\": \"x\", \"type\": \"time\", \"domain\": {\"fields\": [{\"data\": \"source_0\", \"field\": \"time\"}, {\"data\": \"source_1\", \"field\": \"time\"}, {\"data\": \"source_2\", \"field\": \"time\"}]}, \"range\": [0, {\"signal\": \"width\"}]}, {\"name\": \"y\", \"type\": \"linear\", \"domain\": {\"fields\": [{\"data\": \"source_0\", \"field\": \"value\"}, {\"data\": \"source_1\", \"field\": \"value\"}, {\"data\": \"source_2\", \"field\": \"value\"}]}, \"range\": [{\"signal\": \"height\"}, 0], \"zero\": true, \"nice\": true}, {\"name\": \"color\", \"type\": \"ordinal\", \"domain\": {\"fields\": [{\"data\": \"source_0_color_domain_variable_0\", \"field\": \"variable\"}, {\"data\": \"source_1_color_domain_variable_1\", \"field\": \"variable\"}, {\"data\": \"source_2_color_domain_variable_2\", \"field\": \"variable\"}], \"sort\": true}, \"range\": \"category\"}], \"axes\": [{\"scale\": \"x\", \"grid\": true, \"tickCount\": {\"signal\": \"ceil(width/40)\"}, \"gridScale\": \"y\", \"orient\": \"bottom\", \"aria\": false, \"maxExtent\": 0, \"minExtent\": 0, \"ticks\": false, \"domain\": false, \"labels\": false, \"zindex\": 0}, {\"scale\": \"y\", \"orient\": \"left\", \"tickCount\": {\"signal\": \"ceil(height/40)\"}, \"maxExtent\": 0, \"gridScale\": \"x\", \"ticks\": false, \"grid\": true, \"labels\": false, \"domain\": false, \"zindex\": 0, \"aria\": false, \"minExtent\": 0}, {\"scale\": \"x\", \"zindex\": 0, \"labelFlush\": true, \"labelOverlap\": true, \"grid\": false, \"title\": \"time\", \"tickCount\": {\"signal\": \"ceil(width/40)\"}, \"orient\": \"bottom\"}, {\"scale\": \"y\", \"tickCount\": {\"signal\": \"ceil(height/40)\"}, \"zindex\": 0, \"title\": \"value\", \"orient\": \"left\", \"grid\": false, \"labelOverlap\": true}], \"background\": \"white\", \"height\": 200, \"style\": \"cell\", \"legends\": [{\"stroke\": \"color\", \"symbolType\": \"stroke\", \"title\": \"variable\", \"encode\": {\"symbols\": {\"update\": {\"opacity\": {\"value\": 0.7}}}}}], \"padding\": 5, \"width\": 600}, {\"mode\": \"vega\"});\n",
       "</script>"
      ],
      "text/plain": [
       "alt.LayerChart(...)"
      ]
     },
     "execution_count": 24,
     "metadata": {},
     "output_type": "execute_result"
    }
   ],
   "source": [
    "(on.Plot()\n",
    "    .add(on.marks.line, input)\n",
    "    .add(on.marks.line, target)\n",
    "    .add(on.marks.line, prediction, type='dashed')\n",
    "    .properties(width=600, height=200)\n",
    "    .show()\n",
    ")"
   ]
  }
 ],
 "metadata": {
  "kernelspec": {
   "display_name": "ontime-2OQVvbNf-py3.11",
   "language": "python",
   "name": "python3"
  },
  "language_info": {
   "codemirror_mode": {
    "name": "ipython",
    "version": 3
   },
   "file_extension": ".py",
   "mimetype": "text/x-python",
   "name": "python",
   "nbconvert_exporter": "python",
   "pygments_lexer": "ipython3",
   "version": "3.11.0rc1"
  }
 },
 "nbformat": 4,
 "nbformat_minor": 5
}
