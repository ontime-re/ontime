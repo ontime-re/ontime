{
 "cells": [
  {
   "cell_type": "markdown",
   "id": "550c22a8-085f-45f1-9af5-35896f670515",
   "metadata": {},
   "source": [
    "# Module - Benchmarking\n",
    "Ontime provides a `Benchmark` class that can be used to run a number of prediction models on a number of datasets."
   ]
  },
  {
   "cell_type": "code",
   "execution_count": 1,
   "id": "27e27d12-d338-47d3-8fd3-b31ff80ac57c",
   "metadata": {
    "ExecuteTime": {
     "end_time": "2024-06-24T06:55:56.084401800Z",
     "start_time": "2024-06-24T06:55:51.801812900Z"
    }
   },
   "outputs": [],
   "source": [
    "from ontime.module.benchmarking import BenchmarkMode, BenchmarkDataset, BenchmarkMetric, BenchmarkModelConfig, Benchmark\n",
    "import ontime as on"
   ]
  },
  {
   "cell_type": "markdown",
   "id": "476a848a-77d7-4efc-840f-665a7cdc1857",
   "metadata": {},
   "source": [
    "## Initialization\n",
    "A `Benchmark` instance can be initialized with a list of datasets, models and metrics to run through. When invoking `run()`, it will train (if needed) and test every dataset on every model, and compute every metric on the predicted data.\n"
   ]
  },
  {
   "cell_type": "markdown",
   "id": "f5641c4a",
   "metadata": {},
   "source": [
    "### Preparing datasets\n",
    "\n",
    "Datasets submitted to a `Benchmark` must be of type `TimeSeries`, wrapped into `BenchmarkDataset`. `BenchmarkDataset` allows to give datasets a name, give training and test splits, and define how data will be split to perform a rolling evaluation."
   ]
  },
  {
   "cell_type": "code",
   "execution_count": 2,
   "id": "1177e73c",
   "metadata": {},
   "outputs": [],
   "source": [
    "from ontime.module.datasets.dataset import Dataset\n",
    "from darts.utils.missing_values import fill_missing_values # for filling missing values in the time series (for models that don't handle missing values)\n",
    "\n",
    "datasets = [\n",
    "    BenchmarkDataset(on.TimeSeries.from_darts(fill_missing_values(Dataset.TemperatureDataset.load())), input_length=96, target_length=24, gap=0, stride=96, name=\"Daily temperature\"),\n",
    "]"
   ]
  },
  {
   "cell_type": "markdown",
   "id": "30689a0a-9ed7-4eca-ab6e-6de1cb1c9e21",
   "metadata": {},
   "source": [
    "### Preparing models  \n",
    "\n",
    "Benchmark models must be given in a `BenchmarkModelConfig` class object, and their class must implement ontime `AbstractModel` interface. The `BenchmarkModelConfig` class contains attribute that allows to later instantiate the model with the desired configuration.\n",
    "It requires the following parameters :\n",
    "- `model_name` : the name of the model, for result logging purpose,\n",
    "- `model_class` : the class of the model that implements `AbstractModel` interface,\n",
    "- `benchmark_mode` : the mode in which the model must be evaluted:\n",
    "    - if `ZERO_SHOT`, the model is not trained, and the evaluation is done on the test set. It is used for models that already has trained weights, available through checkpoints, or for some models from darts, where predictions are directly made using the fitted data as input (such as ARIMA),\n",
    "    - if `FULL_SHOT`, the model is trained on the entire given training set. Once trained, the model is evaluated using the learnt weights.\n",
    "- `static_model_params` : the static parameters to give to the model class for instantiating it. This parameters can be defined when instatiating the `BenchmarkModelConfig` object.\n",
    "- `dynamic_model_params` : the dynamic parameters to give to the model class for instantiating it. This parameters can only be known when the dataset on which the model is trained is known. Therefore, a callable object that take a `BenchmarkDataset` must be given."
   ]
  },
  {
   "cell_type": "code",
   "execution_count": 3,
   "id": "71c4bc47-8479-46f1-a4c4-7ad5478020f0",
   "metadata": {
    "ExecuteTime": {
     "end_time": "2024-06-24T06:55:56.084401800Z",
     "start_time": "2024-06-24T06:55:56.073910600Z"
    }
   },
   "outputs": [],
   "source": [
    "from ontime.core.time_series.time_series import TimeSeries\n",
    "from ontime import Model\n",
    "from darts.models import ExponentialSmoothing, TCNModel\n",
    "\n",
    "# torch related parameters\n",
    "pl_trainer_kwargs = {\n",
    "    \"accelerator\": \"gpu\",\n",
    "    \"enable_progress_bar\": False\n",
    "    }\n",
    "\n",
    "# dynamic parameters callback\n",
    "input_length_param = lambda ds: ds.input_length\n",
    "target_length_param = lambda ds: ds.target_length\n",
    "\n",
    "\n",
    "model_configs = [\n",
    "    BenchmarkModelConfig(\"ExponentialSmoothing\", model_class=Model, benchmark_mode=BenchmarkMode.ZERO_SHOT, static_model_params={\"model\" : ExponentialSmoothing()}),\n",
    "    BenchmarkModelConfig(\"Temporal Convolutional Network\", model_class=Model, benchmark_mode=BenchmarkMode.FULL_SHOT, \n",
    "                         static_model_params={\"model\":TCNModel, \"n_epochs\":2, \"pl_trainer_kwargs\":pl_trainer_kwargs}, \n",
    "                         dynamic_model_params={\"input_chunk_length\":input_length_param, \"output_chunk_length\":target_length_param})\n",
    "]"
   ]
  },
  {
   "cell_type": "markdown",
   "id": "fd484f03-399d-4e4e-9b7c-2462e6accbb9",
   "metadata": {},
   "source": [
    "### Preparing metrics\n",
    "Metrics must be given to the `BenchmarkMetric` constructor. If the function can't be invoked as is in `BenchmarkMetric`'s implementation, a child class can be written and submitted."
   ]
  },
  {
   "cell_type": "code",
   "execution_count": 4,
   "id": "3bd6e05b-d86a-484a-bd28-7559b640c20f",
   "metadata": {
    "ExecuteTime": {
     "end_time": "2024-06-24T07:01:59.701881200Z",
     "start_time": "2024-06-24T07:01:59.693974700Z"
    }
   },
   "outputs": [],
   "source": [
    "import darts.metrics\n",
    "\n",
    "metrics = [\n",
    "   BenchmarkMetric(name=\"MAE\", metric_function=darts.metrics.metrics.mae),\n",
    "   BenchmarkMetric(name=\"sMAPE\", metric_function=darts.metrics.metrics.smape),\n",
    "   BenchmarkMetric(name=\"MASE\", metric_function=darts.metrics.metrics.mase)\n",
    "]"
   ]
  },
  {
   "cell_type": "markdown",
   "id": "f1ce9193-2bd1-4859-b5c5-17a48cb4e0fa",
   "metadata": {},
   "source": [
    "## Creating and running a Benchmark"
   ]
  },
  {
   "cell_type": "code",
   "execution_count": 5,
   "id": "b99abb03-c3ee-4e19-87a7-c86e1b418a6b",
   "metadata": {
    "ExecuteTime": {
     "end_time": "2024-06-24T07:02:00.671042500Z",
     "start_time": "2024-06-24T07:02:00.650794500Z"
    }
   },
   "outputs": [],
   "source": [
    "benchmark = Benchmark(datasets=datasets,\n",
    "                      model_configs=model_configs, \n",
    "                      metrics=metrics)"
   ]
  },
  {
   "cell_type": "markdown",
   "id": "e7b7a83a-e878-4fbf-818a-3c70f73bcb05",
   "metadata": {},
   "source": [
    "Datasets, models and metrics can also be added after instanciation. This allows to name datasets."
   ]
  },
  {
   "cell_type": "code",
   "execution_count": 6,
   "id": "005d3bae-1fdb-4edd-91ba-0df918fae5fe",
   "metadata": {
    "ExecuteTime": {
     "end_time": "2024-06-24T07:02:01.526327100Z",
     "start_time": "2024-06-24T07:02:01.515552400Z"
    }
   },
   "outputs": [],
   "source": [
    "benchmark.add_dataset(BenchmarkDataset(Dataset.ETTh1Dataset.load(), input_length=336, gap=0, stride=72, target_length=72, name = \"ETTh1\"))"
   ]
  },
  {
   "cell_type": "markdown",
   "id": "b86ec250-db58-4c10-b4e3-14c2b23bcf70",
   "metadata": {},
   "source": [
    "Once the models and datasets have been added, the `run()` method will train instances of all the models on all the datasets individually and compute metrics. The logging level can be chosen to show less or more information about the benchmark execution in the console."
   ]
  },
  {
   "cell_type": "code",
   "execution_count": 7,
   "id": "e96d8811-efd0-4cb0-bf7c-a03364e05911",
   "metadata": {
    "ExecuteTime": {
     "end_time": "2024-06-24T07:02:58.799456800Z",
     "start_time": "2024-06-24T07:02:02.671394200Z"
    }
   },
   "outputs": [
    {
     "name": "stdout",
     "output_type": "stream",
     "text": [
      "                                                                                                                                                                                                        \r"
     ]
    },
    {
     "name": "stderr",
     "output_type": "stream",
     "text": [
      "on 0: 11:44:37 - [INFO] - BenchmarkLogger - On Daily temperature dataset...\n"
     ]
    },
    {
     "name": "stdout",
     "output_type": "stream",
     "text": [
      "                                                                                                                                                                                                        \r"
     ]
    },
    {
     "name": "stderr",
     "output_type": "stream",
     "text": [
      "on 1: 11:44:37 - [INFO] - BenchmarkLogger - ExponentialSmoothing model...\n"
     ]
    },
    {
     "name": "stdout",
     "output_type": "stream",
     "text": [
      "                                                                                                                                                                                                        \r"
     ]
    },
    {
     "name": "stderr",
     "output_type": "stream",
     "text": [
      "on 1: 11:44:37 - [INFO] - BenchmarkLogger - Evaluating...\n"
     ]
    },
    {
     "name": "stdout",
     "output_type": "stream",
     "text": [
      "on 1: False                                                                                                                                                                                             \n",
      "on 1: MAE                                                                                                                                                                                               \n",
      "on 1: sMAPE                                                                                                                                                                                             \n",
      "on 1: MASE                                                                                                                                                                                              \n",
      "                                                                                                                                                                                                        \r"
     ]
    },
    {
     "name": "stderr",
     "output_type": "stream",
     "text": [
      "on 1: 11:44:38 - [INFO] - BenchmarkLogger - Evaluation done, took 1.0009534358978271\n"
     ]
    },
    {
     "name": "stdout",
     "output_type": "stream",
     "text": [
      "                                                                                                                                                                                                        \r"
     ]
    },
    {
     "name": "stderr",
     "output_type": "stream",
     "text": [
      "on 1: 11:44:38 - [INFO] - BenchmarkLogger - getting predictions...\n"
     ]
    },
    {
     "name": "stdout",
     "output_type": "stream",
     "text": [
      "                                                                                                                                                                                                        \r"
     ]
    },
    {
     "name": "stderr",
     "output_type": "stream",
     "text": [
      "on 1: 11:44:38 - [INFO] - BenchmarkLogger - Computed metrics: \n",
      "       {'MAE': 2.400040758215776, 'sMAPE': 24.148347520589876, 'MASE': 1.259049717016714}\n"
     ]
    },
    {
     "name": "stdout",
     "output_type": "stream",
     "text": [
      "                                                                                                                                                                                                        \r"
     ]
    },
    {
     "name": "stderr",
     "output_type": "stream",
     "text": [
      "on 2: 11:44:38 - [INFO] - BenchmarkLogger - Temporal Convolutional Network model...\n"
     ]
    },
    {
     "name": "stdout",
     "output_type": "stream",
     "text": [
      "                                                                                                                                                                                                        \r"
     ]
    },
    {
     "name": "stderr",
     "output_type": "stream",
     "text": [
      "on 2: root       INFO  Training ...\n"
     ]
    },
    {
     "name": "stdout",
     "output_type": "stream",
     "text": [
      "on 2: True                                                                                                                                                                                              \n",
      "                                                                                                                                                                                                        \r"
     ]
    },
    {
     "name": "stderr",
     "output_type": "stream",
     "text": [
      "on 2: darts.models.forecasting.torch_forecasting_model INFO  Train dataset contains 2216 samples.\n"
     ]
    },
    {
     "name": "stdout",
     "output_type": "stream",
     "text": [
      "                                                                                                                                                                                                        \r"
     ]
    },
    {
     "name": "stderr",
     "output_type": "stream",
     "text": [
      "on 2: darts.models.forecasting.tcn_model INFO  Number of layers chosen: 5\n"
     ]
    },
    {
     "name": "stdout",
     "output_type": "stream",
     "text": [
      "                                                                                                                                                                                                        \r"
     ]
    },
    {
     "name": "stderr",
     "output_type": "stream",
     "text": [
      "on 2: darts.models.forecasting.torch_forecasting_model INFO  Time series values are 64-bits; casting model to float64.\n"
     ]
    },
    {
     "name": "stdout",
     "output_type": "stream",
     "text": [
      "                                                                                                                                                                                                        \r"
     ]
    },
    {
     "name": "stderr",
     "output_type": "stream",
     "text": [
      "on 2: INFO: GPU available: True (cuda), used: True\n"
     ]
    },
    {
     "name": "stdout",
     "output_type": "stream",
     "text": [
      "                                                                                                                                                                                                        \r"
     ]
    },
    {
     "name": "stderr",
     "output_type": "stream",
     "text": [
      "on 2: lightning.pytorch.utilities.rank_zero INFO  GPU available: True (cuda), used: True\n"
     ]
    },
    {
     "name": "stdout",
     "output_type": "stream",
     "text": [
      "                                                                                                                                                                                                        \r"
     ]
    },
    {
     "name": "stderr",
     "output_type": "stream",
     "text": [
      "on 2: INFO: TPU available: False, using: 0 TPU cores\n"
     ]
    },
    {
     "name": "stdout",
     "output_type": "stream",
     "text": [
      "                                                                                                                                                                                                        \r"
     ]
    },
    {
     "name": "stderr",
     "output_type": "stream",
     "text": [
      "on 2: lightning.pytorch.utilities.rank_zero INFO  TPU available: False, using: 0 TPU cores\n"
     ]
    },
    {
     "name": "stdout",
     "output_type": "stream",
     "text": [
      "                                                                                                                                                                                                        \r"
     ]
    },
    {
     "name": "stderr",
     "output_type": "stream",
     "text": [
      "on 2: INFO: HPU available: False, using: 0 HPUs\n"
     ]
    },
    {
     "name": "stdout",
     "output_type": "stream",
     "text": [
      "                                                                                                                                                                                                        \r"
     ]
    },
    {
     "name": "stderr",
     "output_type": "stream",
     "text": [
      "on 2: lightning.pytorch.utilities.rank_zero INFO  HPU available: False, using: 0 HPUs\n"
     ]
    },
    {
     "name": "stdout",
     "output_type": "stream",
     "text": [
      "                                                                                                                                                                                                        \r"
     ]
    },
    {
     "name": "stderr",
     "output_type": "stream",
     "text": [
      "on 2: INFO: You are using a CUDA device ('NVIDIA GeForce RTX 3070 Ti Laptop GPU') that has Tensor Cores. To properly utilize them, you should set `torch.set_float32_matmul_precision('medium' | 'high')` which will trade-off precision for performance. For more details, read https://pytorch.org/docs/stable/generated/torch.set_float32_matmul_precision.html#torch.set_float32_matmul_precision\n"
     ]
    },
    {
     "name": "stdout",
     "output_type": "stream",
     "text": [
      "                                                                                                                                                                                                        \r"
     ]
    },
    {
     "name": "stderr",
     "output_type": "stream",
     "text": [
      "on 2: lightning.pytorch.utilities.rank_zero INFO  You are using a CUDA device ('NVIDIA GeForce RTX 3070 Ti Laptop GPU') that has Tensor Cores. To properly utilize them, you should set `torch.set_float32_matmul_precision('medium' | 'high')` which will trade-off precision for performance. For more details, read https://pytorch.org/docs/stable/generated/torch.set_float32_matmul_precision.html#torch.set_float32_matmul_precision\n"
     ]
    },
    {
     "name": "stdout",
     "output_type": "stream",
     "text": [
      "                                                                                                                                                                                                        \r"
     ]
    },
    {
     "name": "stderr",
     "output_type": "stream",
     "text": [
      "on 2: LOCAL_RANK: 0 - CUDA_VISIBLE_DEVICES: [0]\n"
     ]
    },
    {
     "name": "stdout",
     "output_type": "stream",
     "text": [
      "                                                                                                                                                                                                        \r"
     ]
    },
    {
     "name": "stderr",
     "output_type": "stream",
     "text": [
      "on 2: \n",
      "        | Name            | Type             | Params | Mode \n",
      "      -------------------------------------------------------------\n",
      "      0 | criterion       | MSELoss          | 0      | train\n",
      "      1 | train_criterion | MSELoss          | 0      | train\n",
      "      2 | val_criterion   | MSELoss          | 0      | train\n",
      "      3 | train_metrics   | MetricCollection | 0      | train\n",
      "      4 | val_metrics     | MetricCollection | 0      | train\n",
      "      5 | res_blocks      | ModuleList       | 272    | train\n",
      "      -------------------------------------------------------------\n",
      "      272       Trainable params\n",
      "      0         Non-trainable params\n",
      "      272       Total params\n",
      "      0.001     Total estimated model params size (MB)\n",
      "      33        Modules in train mode\n",
      "      0         Modules in eval mode\n"
     ]
    },
    {
     "name": "stdout",
     "output_type": "stream",
     "text": [
      "                                                                                                                                                                                                        \r"
     ]
    },
    {
     "name": "stderr",
     "output_type": "stream",
     "text": [
      "on 2: INFO: `Trainer.fit` stopped: `max_epochs=2` reached.\n"
     ]
    },
    {
     "name": "stdout",
     "output_type": "stream",
     "text": [
      "                                                                                                                                                                                                        \r"
     ]
    },
    {
     "name": "stderr",
     "output_type": "stream",
     "text": [
      "on 2: lightning.pytorch.utilities.rank_zero INFO  `Trainer.fit` stopped: `max_epochs=2` reached.\n"
     ]
    },
    {
     "name": "stdout",
     "output_type": "stream",
     "text": [
      "                                                                                                                                                                                                        \r"
     ]
    },
    {
     "name": "stderr",
     "output_type": "stream",
     "text": [
      "on 2: 11:44:46 - [INFO] - BenchmarkLogger - Training done, it took 7.525358438491821 seconds\n"
     ]
    },
    {
     "name": "stdout",
     "output_type": "stream",
     "text": [
      "                                                                                                                                                                                                        \r"
     ]
    },
    {
     "name": "stderr",
     "output_type": "stream",
     "text": [
      "on 2: 11:44:46 - [INFO] - BenchmarkLogger - Evaluating...\n"
     ]
    },
    {
     "name": "stdout",
     "output_type": "stream",
     "text": [
      "                                                                                                                                                                                                        \r"
     ]
    },
    {
     "name": "stderr",
     "output_type": "stream",
     "text": [
      "on 2: INFO: GPU available: True (cuda), used: True\n"
     ]
    },
    {
     "name": "stdout",
     "output_type": "stream",
     "text": [
      "                                                                                                                                                                                                        \r"
     ]
    },
    {
     "name": "stderr",
     "output_type": "stream",
     "text": [
      "on 2: lightning.pytorch.utilities.rank_zero INFO  GPU available: True (cuda), used: True\n"
     ]
    },
    {
     "name": "stdout",
     "output_type": "stream",
     "text": [
      "                                                                                                                                                                                                        \r"
     ]
    },
    {
     "name": "stderr",
     "output_type": "stream",
     "text": [
      "on 2: INFO: TPU available: False, using: 0 TPU cores\n"
     ]
    },
    {
     "name": "stdout",
     "output_type": "stream",
     "text": [
      "                                                                                                                                                                                                        \r"
     ]
    },
    {
     "name": "stderr",
     "output_type": "stream",
     "text": [
      "on 2: lightning.pytorch.utilities.rank_zero INFO  TPU available: False, using: 0 TPU cores\n"
     ]
    },
    {
     "name": "stdout",
     "output_type": "stream",
     "text": [
      "                                                                                                                                                                                                        \r"
     ]
    },
    {
     "name": "stderr",
     "output_type": "stream",
     "text": [
      "on 2: INFO: HPU available: False, using: 0 HPUs\n"
     ]
    },
    {
     "name": "stdout",
     "output_type": "stream",
     "text": [
      "                                                                                                                                                                                                        \r"
     ]
    },
    {
     "name": "stderr",
     "output_type": "stream",
     "text": [
      "on 2: lightning.pytorch.utilities.rank_zero INFO  HPU available: False, using: 0 HPUs\n"
     ]
    },
    {
     "name": "stdout",
     "output_type": "stream",
     "text": [
      "                                                                                                                                                                                                        \r"
     ]
    },
    {
     "name": "stderr",
     "output_type": "stream",
     "text": [
      "on 2: LOCAL_RANK: 0 - CUDA_VISIBLE_DEVICES: [0]\n"
     ]
    },
    {
     "name": "stdout",
     "output_type": "stream",
     "text": [
      "on 2: MAE                                                                                                                                                                                               \n",
      "on 2: sMAPE                                                                                                                                                                                             \n",
      "on 2: MASE                                                                                                                                                                                              \n",
      "                                                                                                                                                                                                        \r"
     ]
    },
    {
     "name": "stderr",
     "output_type": "stream",
     "text": [
      "on 2: 11:44:46 - [INFO] - BenchmarkLogger - Evaluation done, took 0.5738580226898193\n"
     ]
    },
    {
     "name": "stdout",
     "output_type": "stream",
     "text": [
      "                                                                                                                                                                                                        \r"
     ]
    },
    {
     "name": "stderr",
     "output_type": "stream",
     "text": [
      "on 2: 11:44:46 - [INFO] - BenchmarkLogger - getting predictions...\n"
     ]
    },
    {
     "name": "stdout",
     "output_type": "stream",
     "text": [
      "                                                                                                                                                                                                        \r"
     ]
    },
    {
     "name": "stderr",
     "output_type": "stream",
     "text": [
      "on 2: INFO: GPU available: True (cuda), used: True\n"
     ]
    },
    {
     "name": "stdout",
     "output_type": "stream",
     "text": [
      "                                                                                                                                                                                                        \r"
     ]
    },
    {
     "name": "stderr",
     "output_type": "stream",
     "text": [
      "on 2: lightning.pytorch.utilities.rank_zero INFO  GPU available: True (cuda), used: True\n"
     ]
    },
    {
     "name": "stdout",
     "output_type": "stream",
     "text": [
      "                                                                                                                                                                                                        \r"
     ]
    },
    {
     "name": "stderr",
     "output_type": "stream",
     "text": [
      "on 2: INFO: TPU available: False, using: 0 TPU cores\n"
     ]
    },
    {
     "name": "stdout",
     "output_type": "stream",
     "text": [
      "                                                                                                                                                                                                        \r"
     ]
    },
    {
     "name": "stderr",
     "output_type": "stream",
     "text": [
      "on 2: lightning.pytorch.utilities.rank_zero INFO  TPU available: False, using: 0 TPU cores\n"
     ]
    },
    {
     "name": "stdout",
     "output_type": "stream",
     "text": [
      "                                                                                                                                                                                                        \r"
     ]
    },
    {
     "name": "stderr",
     "output_type": "stream",
     "text": [
      "on 2: INFO: HPU available: False, using: 0 HPUs\n"
     ]
    },
    {
     "name": "stdout",
     "output_type": "stream",
     "text": [
      "                                                                                                                                                                                                        \r"
     ]
    },
    {
     "name": "stderr",
     "output_type": "stream",
     "text": [
      "on 2: lightning.pytorch.utilities.rank_zero INFO  HPU available: False, using: 0 HPUs\n"
     ]
    },
    {
     "name": "stdout",
     "output_type": "stream",
     "text": [
      "                                                                                                                                                                                                        \r"
     ]
    },
    {
     "name": "stderr",
     "output_type": "stream",
     "text": [
      "on 2: LOCAL_RANK: 0 - CUDA_VISIBLE_DEVICES: [0]\n"
     ]
    },
    {
     "name": "stdout",
     "output_type": "stream",
     "text": [
      "                                                                                                                                                                                                        \r"
     ]
    },
    {
     "name": "stderr",
     "output_type": "stream",
     "text": [
      "on 2: 11:44:47 - [INFO] - BenchmarkLogger - Computed metrics: \n",
      "       {'MAE': 2.348732890574183, 'sMAPE': 23.846048763201882, 'MASE': 1.200195414642612}\n"
     ]
    },
    {
     "name": "stdout",
     "output_type": "stream",
     "text": [
      "                                                                                                                                                                                                        \r"
     ]
    },
    {
     "name": "stderr",
     "output_type": "stream",
     "text": [
      "on 2: 11:44:47 - [INFO] - BenchmarkLogger - On ETTh1 dataset...\n"
     ]
    },
    {
     "name": "stdout",
     "output_type": "stream",
     "text": [
      "                                                                                                                                                                                                        \r"
     ]
    },
    {
     "name": "stderr",
     "output_type": "stream",
     "text": [
      "on 3: 11:44:47 - [INFO] - BenchmarkLogger - ExponentialSmoothing model...\n"
     ]
    },
    {
     "name": "stdout",
     "output_type": "stream",
     "text": [
      "                                                                                                                                                                                                        \r"
     ]
    },
    {
     "name": "stderr",
     "output_type": "stream",
     "text": [
      "on 3: 11:44:47 - [INFO] - BenchmarkLogger - Evaluating...\n"
     ]
    },
    {
     "name": "stdout",
     "output_type": "stream",
     "text": [
      "on 3: False                                                                                                                                                                                             \n",
      "on 3: MAE                                                                                                                                                                                               \n",
      "on 3: sMAPE                                                                                                                                                                                             \n",
      "on 3: MASE                                                                                                                                                                                              \n",
      "                                                                                                                                                                                                        \r"
     ]
    },
    {
     "name": "stderr",
     "output_type": "stream",
     "text": [
      "on 3: 11:45:48 - [INFO] - BenchmarkLogger - Evaluation done, took 61.609753370285034\n"
     ]
    },
    {
     "name": "stdout",
     "output_type": "stream",
     "text": [
      "                                                                                                                                                                                                        \r"
     ]
    },
    {
     "name": "stderr",
     "output_type": "stream",
     "text": [
      "on 3: 11:45:48 - [INFO] - BenchmarkLogger - getting predictions...\n"
     ]
    },
    {
     "name": "stdout",
     "output_type": "stream",
     "text": [
      "                                                                                                                                                                                                        \r"
     ]
    },
    {
     "name": "stderr",
     "output_type": "stream",
     "text": [
      "on 3: 11:45:50 - [INFO] - BenchmarkLogger - Computed metrics: \n",
      "       {'MAE': 3.518272782469046, 'sMAPE': 62.05659914168031, 'MASE': 2.9669407195966673}\n"
     ]
    },
    {
     "name": "stdout",
     "output_type": "stream",
     "text": [
      "                                                                                                                                                                                                        \r"
     ]
    },
    {
     "name": "stderr",
     "output_type": "stream",
     "text": [
      "on 4: 11:45:50 - [INFO] - BenchmarkLogger - Temporal Convolutional Network model...\n"
     ]
    },
    {
     "name": "stdout",
     "output_type": "stream",
     "text": [
      "                                                                                                                                                                                                        \r"
     ]
    },
    {
     "name": "stderr",
     "output_type": "stream",
     "text": [
      "on 4: root       INFO  Training ...\n"
     ]
    },
    {
     "name": "stdout",
     "output_type": "stream",
     "text": [
      "on 4: True                                                                                                                                                                                              \n",
      "                                                                                                                                                                                                        \r"
     ]
    },
    {
     "name": "stderr",
     "output_type": "stream",
     "text": [
      "on 4: darts.models.forecasting.torch_forecasting_model INFO  Train dataset contains 10740 samples.\n"
     ]
    },
    {
     "name": "stdout",
     "output_type": "stream",
     "text": [
      "                                                                                                                                                                                                        \r"
     ]
    },
    {
     "name": "stderr",
     "output_type": "stream",
     "text": [
      "on 4: darts.models.forecasting.tcn_model INFO  Number of layers chosen: 7\n"
     ]
    },
    {
     "name": "stdout",
     "output_type": "stream",
     "text": [
      "                                                                                                                                                                                                        \r"
     ]
    },
    {
     "name": "stderr",
     "output_type": "stream",
     "text": [
      "on 4: darts.models.forecasting.torch_forecasting_model INFO  Time series values are 64-bits; casting model to float64.\n"
     ]
    },
    {
     "name": "stdout",
     "output_type": "stream",
     "text": [
      "                                                                                                                                                                                                        \r"
     ]
    },
    {
     "name": "stderr",
     "output_type": "stream",
     "text": [
      "on 4: INFO: GPU available: True (cuda), used: True\n"
     ]
    },
    {
     "name": "stdout",
     "output_type": "stream",
     "text": [
      "                                                                                                                                                                                                        \r"
     ]
    },
    {
     "name": "stderr",
     "output_type": "stream",
     "text": [
      "on 4: lightning.pytorch.utilities.rank_zero INFO  GPU available: True (cuda), used: True\n"
     ]
    },
    {
     "name": "stdout",
     "output_type": "stream",
     "text": [
      "                                                                                                                                                                                                        \r"
     ]
    },
    {
     "name": "stderr",
     "output_type": "stream",
     "text": [
      "on 4: INFO: TPU available: False, using: 0 TPU cores\n"
     ]
    },
    {
     "name": "stdout",
     "output_type": "stream",
     "text": [
      "                                                                                                                                                                                                        \r"
     ]
    },
    {
     "name": "stderr",
     "output_type": "stream",
     "text": [
      "on 4: lightning.pytorch.utilities.rank_zero INFO  TPU available: False, using: 0 TPU cores\n"
     ]
    },
    {
     "name": "stdout",
     "output_type": "stream",
     "text": [
      "                                                                                                                                                                                                        \r"
     ]
    },
    {
     "name": "stderr",
     "output_type": "stream",
     "text": [
      "on 4: INFO: HPU available: False, using: 0 HPUs\n"
     ]
    },
    {
     "name": "stdout",
     "output_type": "stream",
     "text": [
      "                                                                                                                                                                                                        \r"
     ]
    },
    {
     "name": "stderr",
     "output_type": "stream",
     "text": [
      "on 4: lightning.pytorch.utilities.rank_zero INFO  HPU available: False, using: 0 HPUs\n"
     ]
    },
    {
     "name": "stdout",
     "output_type": "stream",
     "text": [
      "                                                                                                                                                                                                        \r"
     ]
    },
    {
     "name": "stderr",
     "output_type": "stream",
     "text": [
      "on 4: LOCAL_RANK: 0 - CUDA_VISIBLE_DEVICES: [0]\n"
     ]
    },
    {
     "name": "stdout",
     "output_type": "stream",
     "text": [
      "                                                                                                                                                                                                        \r"
     ]
    },
    {
     "name": "stderr",
     "output_type": "stream",
     "text": [
      "on 4: \n",
      "        | Name            | Type             | Params | Mode \n",
      "      -------------------------------------------------------------\n",
      "      0 | criterion       | MSELoss          | 0      | train\n",
      "      1 | train_criterion | MSELoss          | 0      | train\n",
      "      2 | val_criterion   | MSELoss          | 0      | train\n",
      "      3 | train_metrics   | MetricCollection | 0      | train\n",
      "      4 | val_metrics     | MetricCollection | 0      | train\n",
      "      5 | res_blocks      | ModuleList       | 548    | train\n",
      "      -------------------------------------------------------------\n",
      "      548       Trainable params\n",
      "      0         Non-trainable params\n",
      "      548       Total params\n",
      "      0.002     Total estimated model params size (MB)\n",
      "      43        Modules in train mode\n",
      "      0         Modules in eval mode\n"
     ]
    },
    {
     "name": "stdout",
     "output_type": "stream",
     "text": [
      "                                                                                                                                                                                                        \r"
     ]
    },
    {
     "name": "stderr",
     "output_type": "stream",
     "text": [
      "on 4: INFO: `Trainer.fit` stopped: `max_epochs=2` reached.\n"
     ]
    },
    {
     "name": "stdout",
     "output_type": "stream",
     "text": [
      "                                                                                                                                                                                                        \r"
     ]
    },
    {
     "name": "stderr",
     "output_type": "stream",
     "text": [
      "on 4: lightning.pytorch.utilities.rank_zero INFO  `Trainer.fit` stopped: `max_epochs=2` reached.\n"
     ]
    },
    {
     "name": "stdout",
     "output_type": "stream",
     "text": [
      "                                                                                                                                                                                                        \r"
     ]
    },
    {
     "name": "stderr",
     "output_type": "stream",
     "text": [
      "on 4: 11:46:13 - [INFO] - BenchmarkLogger - Training done, it took 23.201418161392212 seconds\n"
     ]
    },
    {
     "name": "stdout",
     "output_type": "stream",
     "text": [
      "                                                                                                                                                                                                        \r"
     ]
    },
    {
     "name": "stderr",
     "output_type": "stream",
     "text": [
      "on 4: 11:46:13 - [INFO] - BenchmarkLogger - Evaluating...\n"
     ]
    },
    {
     "name": "stdout",
     "output_type": "stream",
     "text": [
      "                                                                                                                                                                                                        \r"
     ]
    },
    {
     "name": "stderr",
     "output_type": "stream",
     "text": [
      "on 4: INFO: GPU available: True (cuda), used: True\n"
     ]
    },
    {
     "name": "stdout",
     "output_type": "stream",
     "text": [
      "                                                                                                                                                                                                        \r"
     ]
    },
    {
     "name": "stderr",
     "output_type": "stream",
     "text": [
      "on 4: lightning.pytorch.utilities.rank_zero INFO  GPU available: True (cuda), used: True\n"
     ]
    },
    {
     "name": "stdout",
     "output_type": "stream",
     "text": [
      "                                                                                                                                                                                                        \r"
     ]
    },
    {
     "name": "stderr",
     "output_type": "stream",
     "text": [
      "on 4: INFO: TPU available: False, using: 0 TPU cores\n"
     ]
    },
    {
     "name": "stdout",
     "output_type": "stream",
     "text": [
      "                                                                                                                                                                                                        \r"
     ]
    },
    {
     "name": "stderr",
     "output_type": "stream",
     "text": [
      "on 4: lightning.pytorch.utilities.rank_zero INFO  TPU available: False, using: 0 TPU cores\n"
     ]
    },
    {
     "name": "stdout",
     "output_type": "stream",
     "text": [
      "                                                                                                                                                                                                        \r"
     ]
    },
    {
     "name": "stderr",
     "output_type": "stream",
     "text": [
      "on 4: INFO: HPU available: False, using: 0 HPUs\n"
     ]
    },
    {
     "name": "stdout",
     "output_type": "stream",
     "text": [
      "                                                                                                                                                                                                        \r"
     ]
    },
    {
     "name": "stderr",
     "output_type": "stream",
     "text": [
      "on 4: lightning.pytorch.utilities.rank_zero INFO  HPU available: False, using: 0 HPUs\n"
     ]
    },
    {
     "name": "stdout",
     "output_type": "stream",
     "text": [
      "                                                                                                                                                                                                        \r"
     ]
    },
    {
     "name": "stderr",
     "output_type": "stream",
     "text": [
      "on 4: LOCAL_RANK: 0 - CUDA_VISIBLE_DEVICES: [0]\n"
     ]
    },
    {
     "name": "stdout",
     "output_type": "stream",
     "text": [
      "on 4: MAE                                                                                                                                                                                               \n",
      "on 4: sMAPE                                                                                                                                                                                             \n",
      "on 4: MASE                                                                                                                                                                                              \n",
      "                                                                                                                                                                                                        \r"
     ]
    },
    {
     "name": "stderr",
     "output_type": "stream",
     "text": [
      "on 4: 11:46:14 - [INFO] - BenchmarkLogger - Evaluation done, took 1.4504737854003906\n"
     ]
    },
    {
     "name": "stdout",
     "output_type": "stream",
     "text": [
      "                                                                                                                                                                                                        \r"
     ]
    },
    {
     "name": "stderr",
     "output_type": "stream",
     "text": [
      "on 4: 11:46:14 - [INFO] - BenchmarkLogger - getting predictions...\n"
     ]
    },
    {
     "name": "stdout",
     "output_type": "stream",
     "text": [
      "                                                                                                                                                                                                        \r"
     ]
    },
    {
     "name": "stderr",
     "output_type": "stream",
     "text": [
      "on 4: INFO: GPU available: True (cuda), used: True\n"
     ]
    },
    {
     "name": "stdout",
     "output_type": "stream",
     "text": [
      "                                                                                                                                                                                                        \r"
     ]
    },
    {
     "name": "stderr",
     "output_type": "stream",
     "text": [
      "on 4: lightning.pytorch.utilities.rank_zero INFO  GPU available: True (cuda), used: True\n"
     ]
    },
    {
     "name": "stdout",
     "output_type": "stream",
     "text": [
      "                                                                                                                                                                                                        \r"
     ]
    },
    {
     "name": "stderr",
     "output_type": "stream",
     "text": [
      "on 4: INFO: TPU available: False, using: 0 TPU cores\n"
     ]
    },
    {
     "name": "stdout",
     "output_type": "stream",
     "text": [
      "                                                                                                                                                                                                        \r"
     ]
    },
    {
     "name": "stderr",
     "output_type": "stream",
     "text": [
      "on 4: lightning.pytorch.utilities.rank_zero INFO  TPU available: False, using: 0 TPU cores\n"
     ]
    },
    {
     "name": "stdout",
     "output_type": "stream",
     "text": [
      "                                                                                                                                                                                                        \r"
     ]
    },
    {
     "name": "stderr",
     "output_type": "stream",
     "text": [
      "on 4: INFO: HPU available: False, using: 0 HPUs\n"
     ]
    },
    {
     "name": "stdout",
     "output_type": "stream",
     "text": [
      "                                                                                                                                                                                                        \r"
     ]
    },
    {
     "name": "stderr",
     "output_type": "stream",
     "text": [
      "on 4: lightning.pytorch.utilities.rank_zero INFO  HPU available: False, using: 0 HPUs\n"
     ]
    },
    {
     "name": "stdout",
     "output_type": "stream",
     "text": [
      "                                                                                                                                                                                                        \r"
     ]
    },
    {
     "name": "stderr",
     "output_type": "stream",
     "text": [
      "on 4: LOCAL_RANK: 0 - CUDA_VISIBLE_DEVICES: [0]\n"
     ]
    },
    {
     "name": "stdout",
     "output_type": "stream",
     "text": [
      "                                                                                                                                                                                                        \r"
     ]
    },
    {
     "name": "stderr",
     "output_type": "stream",
     "text": [
      "on 4: 11:46:15 - [INFO] - BenchmarkLogger - Computed metrics: \n",
      "       {'MAE': 2.867906589673361, 'sMAPE': 84.92323548841348, 'MASE': 4.189970881462188}\n"
     ]
    },
    {
     "name": "stdout",
     "output_type": "stream",
     "text": [
      "Benchmarking |████████████████████| 4/4 [100%] in 1:38.5 (0.04/s)                                                                                                                                       \n"
     ]
    }
   ],
   "source": [
    "benchmark.run(logging_level=\"debug\")"
   ]
  },
  {
   "cell_type": "markdown",
   "id": "04a22d7c",
   "metadata": {},
   "source": [
    "## Visualizing results\n",
    "\n",
    "The benchmark automatically stores measures and metrics computed during the run, available through class attributes."
   ]
  },
  {
   "cell_type": "markdown",
   "id": "d4038313-7cf4-480d-8d3c-fd030e100da3",
   "metadata": {},
   "source": [
    "### Measures and metrics\n",
    "To view the results, you can call `get_report()` and print the returned value"
   ]
  },
  {
   "cell_type": "code",
   "execution_count": 8,
   "id": "35b9b732-bd80-426f-a8bb-134f06bf1a3b",
   "metadata": {
    "ExecuteTime": {
     "end_time": "2024-06-24T07:04:00.885598500Z",
     "start_time": "2024-06-24T07:04:00.878375900Z"
    },
    "scrolled": true
   },
   "outputs": [
    {
     "name": "stdout",
     "output_type": "stream",
     "text": [
      "Daily temperature dataset:\n",
      "nb features: 1\n",
      "target column: ['Daily minimum temperatures']\n",
      "training set size: 2335\n",
      "validation set size: 585\n",
      "test set size: 732\n",
      "\n",
      "ExponentialSmoothing model:\n",
      "suceeded: ✓\n",
      "training time: 0\n",
      "evaluation time: 1.0009534358978271\n",
      "inference time: 0.12173032760620117\n",
      "metrics: {'MAE': 2.400040758215776, 'sMAPE': 24.148347520589876, 'MASE': 1.259049717016714}\n",
      "\n",
      "Temporal Convolutional Network model:\n",
      "suceeded: ✓\n",
      "training time: 7.525358438491821\n",
      "evaluation time: 0.5738580226898193\n",
      "inference time: 0.4079856872558594\n",
      "metrics: {'MAE': 2.348732890574183, 'sMAPE': 23.846048763201882, 'MASE': 1.200195414642612}\n",
      "\n",
      "\n",
      "ETTh1 dataset:\n",
      "nb features: 7\n",
      "target column: ['HUFL', 'HULL', 'MUFL', 'MULL', 'LUFL', 'LULL', 'OT']\n",
      "training set size: 11147\n",
      "validation set size: 2788\n",
      "test set size: 3485\n",
      "\n",
      "ExponentialSmoothing model:\n",
      "suceeded: ✓\n",
      "training time: 0\n",
      "evaluation time: 61.609753370285034\n",
      "inference time: 1.4529154300689697\n",
      "metrics: {'MAE': 3.518272782469046, 'sMAPE': 62.05659914168031, 'MASE': 2.9669407195966673}\n",
      "\n",
      "Temporal Convolutional Network model:\n",
      "suceeded: ✓\n",
      "training time: 23.201418161392212\n",
      "evaluation time: 1.4504737854003906\n",
      "inference time: 0.4251244068145752\n",
      "metrics: {'MAE': 2.867906589673361, 'sMAPE': 84.92323548841348, 'MASE': 4.189970881462188}\n",
      "\n"
     ]
    }
   ],
   "source": [
    "print(benchmark.get_report())"
   ]
  },
  {
   "cell_type": "markdown",
   "id": "a0852085-874e-4583-9f91-1efcb486fbcb",
   "metadata": {},
   "source": [
    "You can also get results as dataframes by calling `get_report_df()`. The results are then returned as a dataframe with model names as columns, dataset names as main rows, and measure as sub rows."
   ]
  },
  {
   "cell_type": "code",
   "execution_count": 10,
   "id": "687a0b79-ff02-4bde-aff7-6d6ccd5e7d40",
   "metadata": {
    "ExecuteTime": {
     "end_time": "2024-06-24T07:04:03.237516900Z",
     "start_time": "2024-06-24T07:04:03.207950400Z"
    }
   },
   "outputs": [
    {
     "data": {
      "text/html": [
       "<div>\n",
       "<style scoped>\n",
       "    .dataframe tbody tr th:only-of-type {\n",
       "        vertical-align: middle;\n",
       "    }\n",
       "\n",
       "    .dataframe tbody tr th {\n",
       "        vertical-align: top;\n",
       "    }\n",
       "\n",
       "    .dataframe thead th {\n",
       "        text-align: right;\n",
       "    }\n",
       "</style>\n",
       "<table border=\"1\" class=\"dataframe\">\n",
       "  <thead>\n",
       "    <tr style=\"text-align: right;\">\n",
       "      <th></th>\n",
       "      <th>Daily temperature</th>\n",
       "      <th>ETTh1</th>\n",
       "    </tr>\n",
       "    <tr>\n",
       "      <th>Characteristic</th>\n",
       "      <th></th>\n",
       "      <th></th>\n",
       "    </tr>\n",
       "  </thead>\n",
       "  <tbody>\n",
       "    <tr>\n",
       "      <th>nb features</th>\n",
       "      <td>1</td>\n",
       "      <td>7</td>\n",
       "    </tr>\n",
       "    <tr>\n",
       "      <th>target column</th>\n",
       "      <td>[Daily minimum temperatures]</td>\n",
       "      <td>[HUFL, HULL, MUFL, MULL, LUFL, LULL, OT]</td>\n",
       "    </tr>\n",
       "    <tr>\n",
       "      <th>training set size</th>\n",
       "      <td>2335</td>\n",
       "      <td>11147</td>\n",
       "    </tr>\n",
       "    <tr>\n",
       "      <th>validation set size</th>\n",
       "      <td>585</td>\n",
       "      <td>2788</td>\n",
       "    </tr>\n",
       "    <tr>\n",
       "      <th>test set size</th>\n",
       "      <td>732</td>\n",
       "      <td>3485</td>\n",
       "    </tr>\n",
       "  </tbody>\n",
       "</table>\n",
       "</div>"
      ],
      "text/plain": [
       "                                Daily temperature  \\\n",
       "Characteristic                                      \n",
       "nb features                                     1   \n",
       "target column        [Daily minimum temperatures]   \n",
       "training set size                            2335   \n",
       "validation set size                           585   \n",
       "test set size                                 732   \n",
       "\n",
       "                                                        ETTh1  \n",
       "Characteristic                                                 \n",
       "nb features                                                 7  \n",
       "target column        [HUFL, HULL, MUFL, MULL, LUFL, LULL, OT]  \n",
       "training set size                                       11147  \n",
       "validation set size                                      2788  \n",
       "test set size                                            3485  "
      ]
     },
     "execution_count": 10,
     "metadata": {},
     "output_type": "execute_result"
    }
   ],
   "source": [
    "df_1, df_2 = benchmark.get_report_dfs()\n",
    "df_1"
   ]
  },
  {
   "cell_type": "code",
   "execution_count": 11,
   "id": "a113a1a8-6988-4440-9afc-c4e9b5e6f898",
   "metadata": {},
   "outputs": [
    {
     "data": {
      "text/html": [
       "<div>\n",
       "<style scoped>\n",
       "    .dataframe tbody tr th:only-of-type {\n",
       "        vertical-align: middle;\n",
       "    }\n",
       "\n",
       "    .dataframe tbody tr th {\n",
       "        vertical-align: top;\n",
       "    }\n",
       "\n",
       "    .dataframe thead th {\n",
       "        text-align: right;\n",
       "    }\n",
       "</style>\n",
       "<table border=\"1\" class=\"dataframe\">\n",
       "  <thead>\n",
       "    <tr style=\"text-align: right;\">\n",
       "      <th></th>\n",
       "      <th></th>\n",
       "      <th>ExponentialSmoothing</th>\n",
       "      <th>Temporal Convolutional Network</th>\n",
       "    </tr>\n",
       "    <tr>\n",
       "      <th>Dataset</th>\n",
       "      <th>Metric</th>\n",
       "      <th></th>\n",
       "      <th></th>\n",
       "    </tr>\n",
       "  </thead>\n",
       "  <tbody>\n",
       "    <tr>\n",
       "      <th rowspan=\"6\" valign=\"top\">Daily temperature</th>\n",
       "      <th>training time</th>\n",
       "      <td>0.000000</td>\n",
       "      <td>7.525358</td>\n",
       "    </tr>\n",
       "    <tr>\n",
       "      <th>evaluation time</th>\n",
       "      <td>1.000953</td>\n",
       "      <td>0.573858</td>\n",
       "    </tr>\n",
       "    <tr>\n",
       "      <th>inference time</th>\n",
       "      <td>0.121730</td>\n",
       "      <td>0.407986</td>\n",
       "    </tr>\n",
       "    <tr>\n",
       "      <th>MAE</th>\n",
       "      <td>2.400041</td>\n",
       "      <td>2.348733</td>\n",
       "    </tr>\n",
       "    <tr>\n",
       "      <th>sMAPE</th>\n",
       "      <td>24.148348</td>\n",
       "      <td>23.846049</td>\n",
       "    </tr>\n",
       "    <tr>\n",
       "      <th>MASE</th>\n",
       "      <td>1.259050</td>\n",
       "      <td>1.200195</td>\n",
       "    </tr>\n",
       "    <tr>\n",
       "      <th rowspan=\"6\" valign=\"top\">ETTh1</th>\n",
       "      <th>training time</th>\n",
       "      <td>0.000000</td>\n",
       "      <td>23.201418</td>\n",
       "    </tr>\n",
       "    <tr>\n",
       "      <th>evaluation time</th>\n",
       "      <td>61.609753</td>\n",
       "      <td>1.450474</td>\n",
       "    </tr>\n",
       "    <tr>\n",
       "      <th>inference time</th>\n",
       "      <td>1.452915</td>\n",
       "      <td>0.425124</td>\n",
       "    </tr>\n",
       "    <tr>\n",
       "      <th>MAE</th>\n",
       "      <td>3.518273</td>\n",
       "      <td>2.867907</td>\n",
       "    </tr>\n",
       "    <tr>\n",
       "      <th>sMAPE</th>\n",
       "      <td>62.056599</td>\n",
       "      <td>84.923235</td>\n",
       "    </tr>\n",
       "    <tr>\n",
       "      <th>MASE</th>\n",
       "      <td>2.966941</td>\n",
       "      <td>4.189971</td>\n",
       "    </tr>\n",
       "  </tbody>\n",
       "</table>\n",
       "</div>"
      ],
      "text/plain": [
       "                                   ExponentialSmoothing  \\\n",
       "Dataset           Metric                                  \n",
       "Daily temperature training time                0.000000   \n",
       "                  evaluation time              1.000953   \n",
       "                  inference time               0.121730   \n",
       "                  MAE                          2.400041   \n",
       "                  sMAPE                       24.148348   \n",
       "                  MASE                         1.259050   \n",
       "ETTh1             training time                0.000000   \n",
       "                  evaluation time             61.609753   \n",
       "                  inference time               1.452915   \n",
       "                  MAE                          3.518273   \n",
       "                  sMAPE                       62.056599   \n",
       "                  MASE                         2.966941   \n",
       "\n",
       "                                   Temporal Convolutional Network  \n",
       "Dataset           Metric                                           \n",
       "Daily temperature training time                          7.525358  \n",
       "                  evaluation time                        0.573858  \n",
       "                  inference time                         0.407986  \n",
       "                  MAE                                    2.348733  \n",
       "                  sMAPE                                 23.846049  \n",
       "                  MASE                                   1.200195  \n",
       "ETTh1             training time                         23.201418  \n",
       "                  evaluation time                        1.450474  \n",
       "                  inference time                         0.425124  \n",
       "                  MAE                                    2.867907  \n",
       "                  sMAPE                                 84.923235  \n",
       "                  MASE                                   4.189971  "
      ]
     },
     "execution_count": 11,
     "metadata": {},
     "output_type": "execute_result"
    }
   ],
   "source": [
    "df_2"
   ]
  },
  {
   "cell_type": "markdown",
   "id": "35d12a40",
   "metadata": {},
   "source": [
    "### Plotting\n",
    "\n",
    "By default (argument `nb_predictions` of `benchmark.run()` method), the benchmark will generate a prediction for one random input sample of each dataset with each model. The predictions, along input and target series, are stored in a dictionnary and can be retrieved by calling `benchmark.get_predictions()`. The predictions can be plotted using the Ontime plotting module."
   ]
  },
  {
   "cell_type": "code",
   "execution_count": 12,
   "id": "622c8342",
   "metadata": {},
   "outputs": [],
   "source": [
    "predictions = benchmark.get_predictions()"
   ]
  },
  {
   "cell_type": "code",
   "execution_count": 13,
   "id": "6c87c037",
   "metadata": {},
   "outputs": [],
   "source": [
    "# currently, Ontime plotting module needs the time index to be named 'time'\n",
    "def rename_index(ts, name='time'):\n",
    "    df = ts.pd_dataframe()\n",
    "    df.rename_axis(name, inplace=True)\n",
    "    return TimeSeries.from_dataframe(df)"
   ]
  },
  {
   "cell_type": "code",
   "execution_count": 15,
   "id": "9e46a81e",
   "metadata": {},
   "outputs": [],
   "source": [
    "input = rename_index(predictions['inputs']['Daily temperature'][0]).rename({'Daily minimum temperatures': 'input'})\n",
    "target = rename_index(predictions['targets']['Daily temperature'][0]).rename({'Daily minimum temperatures': 'target'})\n",
    "prediction = rename_index(predictions['predictions']['Daily temperature']['Temporal Convolutional Network'][0]).rename({'Daily minimum temperatures': 'prediction'})"
   ]
  },
  {
   "cell_type": "code",
   "execution_count": 16,
   "id": "da7935d5",
   "metadata": {},
   "outputs": [
    {
     "data": {
      "text/html": [
       "\n",
       "<style>\n",
       "  #altair-viz-b4d06d14868747c5b08ad3c32b78b991.vega-embed {\n",
       "    width: 100%;\n",
       "    display: flex;\n",
       "  }\n",
       "\n",
       "  #altair-viz-b4d06d14868747c5b08ad3c32b78b991.vega-embed details,\n",
       "  #altair-viz-b4d06d14868747c5b08ad3c32b78b991.vega-embed details summary {\n",
       "    position: relative;\n",
       "  }\n",
       "</style>\n",
       "<div id=\"altair-viz-b4d06d14868747c5b08ad3c32b78b991\"></div>\n",
       "<script type=\"text/javascript\">\n",
       "  var VEGA_DEBUG = (typeof VEGA_DEBUG == \"undefined\") ? {} : VEGA_DEBUG;\n",
       "  (function(spec, embedOpt){\n",
       "    let outputDiv = document.currentScript.previousElementSibling;\n",
       "    if (outputDiv.id !== \"altair-viz-b4d06d14868747c5b08ad3c32b78b991\") {\n",
       "      outputDiv = document.getElementById(\"altair-viz-b4d06d14868747c5b08ad3c32b78b991\");\n",
       "    }\n",
       "\n",
       "    const paths = {\n",
       "      \"vega\": \"https://cdn.jsdelivr.net/npm/vega@5?noext\",\n",
       "      \"vega-lib\": \"https://cdn.jsdelivr.net/npm/vega-lib?noext\",\n",
       "      \"vega-lite\": \"https://cdn.jsdelivr.net/npm/vega-lite@5.20.1?noext\",\n",
       "      \"vega-embed\": \"https://cdn.jsdelivr.net/npm/vega-embed@6?noext\",\n",
       "    };\n",
       "\n",
       "    function maybeLoadScript(lib, version) {\n",
       "      var key = `${lib.replace(\"-\", \"\")}_version`;\n",
       "      return (VEGA_DEBUG[key] == version) ?\n",
       "        Promise.resolve(paths[lib]) :\n",
       "        new Promise(function(resolve, reject) {\n",
       "          var s = document.createElement('script');\n",
       "          document.getElementsByTagName(\"head\")[0].appendChild(s);\n",
       "          s.async = true;\n",
       "          s.onload = () => {\n",
       "            VEGA_DEBUG[key] = version;\n",
       "            return resolve(paths[lib]);\n",
       "          };\n",
       "          s.onerror = () => reject(`Error loading script: ${paths[lib]}`);\n",
       "          s.src = paths[lib];\n",
       "        });\n",
       "    }\n",
       "\n",
       "    function showError(err) {\n",
       "      outputDiv.innerHTML = `<div class=\"error\" style=\"color:red;\">${err}</div>`;\n",
       "      throw err;\n",
       "    }\n",
       "\n",
       "    function displayChart(vegaEmbed) {\n",
       "      vegaEmbed(outputDiv, spec, embedOpt)\n",
       "        .catch(err => showError(`Javascript Error: ${err.message}<br>This usually means there's a typo in your chart specification. See the javascript console for the full traceback.`));\n",
       "    }\n",
       "\n",
       "    if(typeof define === \"function\" && define.amd) {\n",
       "      requirejs.config({paths});\n",
       "      let deps = [\"vega-embed\"];\n",
       "      require(deps, displayChart, err => showError(`Error loading script: ${err.message}`));\n",
       "    } else {\n",
       "      maybeLoadScript(\"vega\", \"5\")\n",
       "        .then(() => maybeLoadScript(\"vega-lite\", \"5.20.1\"))\n",
       "        .then(() => maybeLoadScript(\"vega-embed\", \"6\"))\n",
       "        .catch(showError)\n",
       "        .then(() => displayChart(vegaEmbed));\n",
       "    }\n",
       "  })({\"$schema\": \"https://vega.github.io/schema/vega/v5.json\", \"data\": [{\"name\": \"source_0\", \"values\": [{\"time\": \"1990-07-29T00:00:00.000\", \"variable\": \"input\", \"value\": 7.9}, {\"time\": \"1990-07-30T00:00:00.000\", \"variable\": \"input\", \"value\": 6.0}, {\"time\": \"1990-07-31T00:00:00.000\", \"variable\": \"input\", \"value\": 5.0}, {\"time\": \"1990-08-01T00:00:00.000\", \"variable\": \"input\", \"value\": 6.8}, {\"time\": \"1990-08-02T00:00:00.000\", \"variable\": \"input\", \"value\": 9.8}, {\"time\": \"1990-08-03T00:00:00.000\", \"variable\": \"input\", \"value\": 5.7}, {\"time\": \"1990-08-04T00:00:00.000\", \"variable\": \"input\", \"value\": 8.6}, {\"time\": \"1990-08-05T00:00:00.000\", \"variable\": \"input\", \"value\": 10.6}, {\"time\": \"1990-08-06T00:00:00.000\", \"variable\": \"input\", \"value\": 7.8}, {\"time\": \"1990-08-07T00:00:00.000\", \"variable\": \"input\", \"value\": 7.7}, {\"time\": \"1990-08-08T00:00:00.000\", \"variable\": \"input\", \"value\": 8.6}, {\"time\": \"1990-08-09T00:00:00.000\", \"variable\": \"input\", \"value\": 6.5}, {\"time\": \"1990-08-10T00:00:00.000\", \"variable\": \"input\", \"value\": 6.9}, {\"time\": \"1990-08-11T00:00:00.000\", \"variable\": \"input\", \"value\": 6.4}, {\"time\": \"1990-08-12T00:00:00.000\", \"variable\": \"input\", \"value\": 8.5}, {\"time\": \"1990-08-13T00:00:00.000\", \"variable\": \"input\", \"value\": 7.8}, {\"time\": \"1990-08-14T00:00:00.000\", \"variable\": \"input\", \"value\": 9.3}, {\"time\": \"1990-08-15T00:00:00.000\", \"variable\": \"input\", \"value\": 8.4}, {\"time\": \"1990-08-16T00:00:00.000\", \"variable\": \"input\", \"value\": 7.8}, {\"time\": \"1990-08-17T00:00:00.000\", \"variable\": \"input\", \"value\": 7.4}, {\"time\": \"1990-08-18T00:00:00.000\", \"variable\": \"input\", \"value\": 7.7}, {\"time\": \"1990-08-19T00:00:00.000\", \"variable\": \"input\", \"value\": 8.9}, {\"time\": \"1990-08-20T00:00:00.000\", \"variable\": \"input\", \"value\": 9.7}, {\"time\": \"1990-08-21T00:00:00.000\", \"variable\": \"input\", \"value\": 9.9}, {\"time\": \"1990-08-22T00:00:00.000\", \"variable\": \"input\", \"value\": 6.1}, {\"time\": \"1990-08-23T00:00:00.000\", \"variable\": \"input\", \"value\": 6.6}, {\"time\": \"1990-08-24T00:00:00.000\", \"variable\": \"input\", \"value\": 7.6}, {\"time\": \"1990-08-25T00:00:00.000\", \"variable\": \"input\", \"value\": 7.4}, {\"time\": \"1990-08-26T00:00:00.000\", \"variable\": \"input\", \"value\": 8.0}, {\"time\": \"1990-08-27T00:00:00.000\", \"variable\": \"input\", \"value\": 2.1}, {\"time\": \"1990-08-28T00:00:00.000\", \"variable\": \"input\", \"value\": 5.9}, {\"time\": \"1990-08-29T00:00:00.000\", \"variable\": \"input\", \"value\": 11.6}, {\"time\": \"1990-08-30T00:00:00.000\", \"variable\": \"input\", \"value\": 8.6}, {\"time\": \"1990-08-31T00:00:00.000\", \"variable\": \"input\", \"value\": 7.9}, {\"time\": \"1990-09-01T00:00:00.000\", \"variable\": \"input\", \"value\": 6.0}, {\"time\": \"1990-09-02T00:00:00.000\", \"variable\": \"input\", \"value\": 9.5}, {\"time\": \"1990-09-03T00:00:00.000\", \"variable\": \"input\", \"value\": 8.6}, {\"time\": \"1990-09-04T00:00:00.000\", \"variable\": \"input\", \"value\": 7.6}, {\"time\": \"1990-09-05T00:00:00.000\", \"variable\": \"input\", \"value\": 10.4}, {\"time\": \"1990-09-06T00:00:00.000\", \"variable\": \"input\", \"value\": 10.3}, {\"time\": \"1990-09-07T00:00:00.000\", \"variable\": \"input\", \"value\": 7.5}, {\"time\": \"1990-09-08T00:00:00.000\", \"variable\": \"input\", \"value\": 3.0}, {\"time\": \"1990-09-09T00:00:00.000\", \"variable\": \"input\", \"value\": 5.3}, {\"time\": \"1990-09-10T00:00:00.000\", \"variable\": \"input\", \"value\": 10.5}, {\"time\": \"1990-09-11T00:00:00.000\", \"variable\": \"input\", \"value\": 14.6}, {\"time\": \"1990-09-12T00:00:00.000\", \"variable\": \"input\", \"value\": 12.6}, {\"time\": \"1990-09-13T00:00:00.000\", \"variable\": \"input\", \"value\": 9.8}, {\"time\": \"1990-09-14T00:00:00.000\", \"variable\": \"input\", \"value\": 7.2}, {\"time\": \"1990-09-15T00:00:00.000\", \"variable\": \"input\", \"value\": 10.1}, {\"time\": \"1990-09-16T00:00:00.000\", \"variable\": \"input\", \"value\": 10.4}, {\"time\": \"1990-09-17T00:00:00.000\", \"variable\": \"input\", \"value\": 3.7}, {\"time\": \"1990-09-18T00:00:00.000\", \"variable\": \"input\", \"value\": 7.3}, {\"time\": \"1990-09-19T00:00:00.000\", \"variable\": \"input\", \"value\": 11.6}, {\"time\": \"1990-09-20T00:00:00.000\", \"variable\": \"input\", \"value\": 16.3}, {\"time\": \"1990-09-21T00:00:00.000\", \"variable\": \"input\", \"value\": 9.6}, {\"time\": \"1990-09-22T00:00:00.000\", \"variable\": \"input\", \"value\": 6.8}, {\"time\": \"1990-09-23T00:00:00.000\", \"variable\": \"input\", \"value\": 5.2}, {\"time\": \"1990-09-24T00:00:00.000\", \"variable\": \"input\", \"value\": 10.6}, {\"time\": \"1990-09-25T00:00:00.000\", \"variable\": \"input\", \"value\": 16.3}, {\"time\": \"1990-09-26T00:00:00.000\", \"variable\": \"input\", \"value\": 9.8}, {\"time\": \"1990-09-27T00:00:00.000\", \"variable\": \"input\", \"value\": 4.6}, {\"time\": \"1990-09-28T00:00:00.000\", \"variable\": \"input\", \"value\": 11.1}, {\"time\": \"1990-09-29T00:00:00.000\", \"variable\": \"input\", \"value\": 8.7}, {\"time\": \"1990-09-30T00:00:00.000\", \"variable\": \"input\", \"value\": 10.0}, {\"time\": \"1990-10-01T00:00:00.000\", \"variable\": \"input\", \"value\": 11.3}, {\"time\": \"1990-10-02T00:00:00.000\", \"variable\": \"input\", \"value\": 10.5}, {\"time\": \"1990-10-03T00:00:00.000\", \"variable\": \"input\", \"value\": 9.9}, {\"time\": \"1990-10-04T00:00:00.000\", \"variable\": \"input\", \"value\": 11.0}, {\"time\": \"1990-10-05T00:00:00.000\", \"variable\": \"input\", \"value\": 14.0}, {\"time\": \"1990-10-06T00:00:00.000\", \"variable\": \"input\", \"value\": 9.2}, {\"time\": \"1990-10-07T00:00:00.000\", \"variable\": \"input\", \"value\": 9.8}, {\"time\": \"1990-10-08T00:00:00.000\", \"variable\": \"input\", \"value\": 6.0}, {\"time\": \"1990-10-09T00:00:00.000\", \"variable\": \"input\", \"value\": 9.8}, {\"time\": \"1990-10-10T00:00:00.000\", \"variable\": \"input\", \"value\": 9.2}, {\"time\": \"1990-10-11T00:00:00.000\", \"variable\": \"input\", \"value\": 11.8}, {\"time\": \"1990-10-12T00:00:00.000\", \"variable\": \"input\", \"value\": 10.3}, {\"time\": \"1990-10-13T00:00:00.000\", \"variable\": \"input\", \"value\": 7.5}, {\"time\": \"1990-10-14T00:00:00.000\", \"variable\": \"input\", \"value\": 7.7}, {\"time\": \"1990-10-15T00:00:00.000\", \"variable\": \"input\", \"value\": 15.8}, {\"time\": \"1990-10-16T00:00:00.000\", \"variable\": \"input\", \"value\": 14.6}, {\"time\": \"1990-10-17T00:00:00.000\", \"variable\": \"input\", \"value\": 10.5}, {\"time\": \"1990-10-18T00:00:00.000\", \"variable\": \"input\", \"value\": 11.3}, {\"time\": \"1990-10-19T00:00:00.000\", \"variable\": \"input\", \"value\": 10.9}, {\"time\": \"1990-10-20T00:00:00.000\", \"variable\": \"input\", \"value\": 6.4}, {\"time\": \"1990-10-21T00:00:00.000\", \"variable\": \"input\", \"value\": 10.9}, {\"time\": \"1990-10-22T00:00:00.000\", \"variable\": \"input\", \"value\": 9.0}, {\"time\": \"1990-10-23T00:00:00.000\", \"variable\": \"input\", \"value\": 10.9}, {\"time\": \"1990-10-24T00:00:00.000\", \"variable\": \"input\", \"value\": 12.4}, {\"time\": \"1990-10-25T00:00:00.000\", \"variable\": \"input\", \"value\": 11.6}, {\"time\": \"1990-10-26T00:00:00.000\", \"variable\": \"input\", \"value\": 13.3}, {\"time\": \"1990-10-27T00:00:00.000\", \"variable\": \"input\", \"value\": 14.4}, {\"time\": \"1990-10-28T00:00:00.000\", \"variable\": \"input\", \"value\": 18.4}, {\"time\": \"1990-10-29T00:00:00.000\", \"variable\": \"input\", \"value\": 13.6}, {\"time\": \"1990-10-30T00:00:00.000\", \"variable\": \"input\", \"value\": 14.9}, {\"time\": \"1990-10-31T00:00:00.000\", \"variable\": \"input\", \"value\": 14.8}, {\"time\": \"1990-11-01T00:00:00.000\", \"variable\": \"input\", \"value\": 15.4}], \"transform\": [{\"type\": \"formula\", \"expr\": \"toDate(datum['time'])\", \"as\": \"time\"}]}, {\"name\": \"source_1\", \"values\": [{\"time\": \"1990-11-02T00:00:00.000\", \"variable\": \"target\", \"value\": 11.8}, {\"time\": \"1990-11-03T00:00:00.000\", \"variable\": \"target\", \"value\": 13.0}, {\"time\": \"1990-11-04T00:00:00.000\", \"variable\": \"target\", \"value\": 11.1}, {\"time\": \"1990-11-05T00:00:00.000\", \"variable\": \"target\", \"value\": 12.5}, {\"time\": \"1990-11-06T00:00:00.000\", \"variable\": \"target\", \"value\": 18.3}, {\"time\": \"1990-11-07T00:00:00.000\", \"variable\": \"target\", \"value\": 19.2}, {\"time\": \"1990-11-08T00:00:00.000\", \"variable\": \"target\", \"value\": 15.4}, {\"time\": \"1990-11-09T00:00:00.000\", \"variable\": \"target\", \"value\": 13.1}, {\"time\": \"1990-11-10T00:00:00.000\", \"variable\": \"target\", \"value\": 11.5}, {\"time\": \"1990-11-11T00:00:00.000\", \"variable\": \"target\", \"value\": 8.6}, {\"time\": \"1990-11-12T00:00:00.000\", \"variable\": \"target\", \"value\": 12.6}, {\"time\": \"1990-11-13T00:00:00.000\", \"variable\": \"target\", \"value\": 13.8}, {\"time\": \"1990-11-14T00:00:00.000\", \"variable\": \"target\", \"value\": 14.6}, {\"time\": \"1990-11-15T00:00:00.000\", \"variable\": \"target\", \"value\": 13.2}, {\"time\": \"1990-11-16T00:00:00.000\", \"variable\": \"target\", \"value\": 12.3}, {\"time\": \"1990-11-17T00:00:00.000\", \"variable\": \"target\", \"value\": 8.8}, {\"time\": \"1990-11-18T00:00:00.000\", \"variable\": \"target\", \"value\": 10.7}, {\"time\": \"1990-11-19T00:00:00.000\", \"variable\": \"target\", \"value\": 9.9}, {\"time\": \"1990-11-20T00:00:00.000\", \"variable\": \"target\", \"value\": 8.3}, {\"time\": \"1990-11-21T00:00:00.000\", \"variable\": \"target\", \"value\": 15.0}, {\"time\": \"1990-11-22T00:00:00.000\", \"variable\": \"target\", \"value\": 12.2}, {\"time\": \"1990-11-23T00:00:00.000\", \"variable\": \"target\", \"value\": 10.5}, {\"time\": \"1990-11-24T00:00:00.000\", \"variable\": \"target\", \"value\": 11.1}, {\"time\": \"1990-11-25T00:00:00.000\", \"variable\": \"target\", \"value\": 13.0}], \"transform\": [{\"type\": \"formula\", \"expr\": \"toDate(datum['time'])\", \"as\": \"time\"}]}, {\"name\": \"source_2\", \"values\": [{\"time\": \"1990-11-02T00:00:00.000\", \"variable\": \"prediction\", \"value\": 8.893480002040485}, {\"time\": \"1990-11-03T00:00:00.000\", \"variable\": \"prediction\", \"value\": 7.418282063389457}, {\"time\": \"1990-11-04T00:00:00.000\", \"variable\": \"prediction\", \"value\": 8.86158480049787}, {\"time\": \"1990-11-05T00:00:00.000\", \"variable\": \"prediction\", \"value\": 8.95099529375552}, {\"time\": \"1990-11-06T00:00:00.000\", \"variable\": \"prediction\", \"value\": 10.032167064615649}, {\"time\": \"1990-11-07T00:00:00.000\", \"variable\": \"prediction\", \"value\": 8.730517307139614}, {\"time\": \"1990-11-08T00:00:00.000\", \"variable\": \"prediction\", \"value\": 9.542517647372978}, {\"time\": \"1990-11-09T00:00:00.000\", \"variable\": \"prediction\", \"value\": 9.11560644070655}, {\"time\": \"1990-11-10T00:00:00.000\", \"variable\": \"prediction\", \"value\": 10.185527934935722}, {\"time\": \"1990-11-11T00:00:00.000\", \"variable\": \"prediction\", \"value\": 10.15180534419174}, {\"time\": \"1990-11-12T00:00:00.000\", \"variable\": \"prediction\", \"value\": 9.995294895673661}, {\"time\": \"1990-11-13T00:00:00.000\", \"variable\": \"prediction\", \"value\": 8.80884171912023}, {\"time\": \"1990-11-14T00:00:00.000\", \"variable\": \"prediction\", \"value\": 9.47679076061066}, {\"time\": \"1990-11-15T00:00:00.000\", \"variable\": \"prediction\", \"value\": 9.14909129761689}, {\"time\": \"1990-11-16T00:00:00.000\", \"variable\": \"prediction\", \"value\": 10.005410849000086}, {\"time\": \"1990-11-17T00:00:00.000\", \"variable\": \"prediction\", \"value\": 9.865107081270299}, {\"time\": \"1990-11-18T00:00:00.000\", \"variable\": \"prediction\", \"value\": 9.36193646501721}, {\"time\": \"1990-11-19T00:00:00.000\", \"variable\": \"prediction\", \"value\": 10.047916422153882}, {\"time\": \"1990-11-20T00:00:00.000\", \"variable\": \"prediction\", \"value\": 11.240010870039592}, {\"time\": \"1990-11-21T00:00:00.000\", \"variable\": \"prediction\", \"value\": 11.555901106706239}, {\"time\": \"1990-11-22T00:00:00.000\", \"variable\": \"prediction\", \"value\": 11.316308656881073}, {\"time\": \"1990-11-23T00:00:00.000\", \"variable\": \"prediction\", \"value\": 12.691087093890804}, {\"time\": \"1990-11-24T00:00:00.000\", \"variable\": \"prediction\", \"value\": 11.762308751733535}, {\"time\": \"1990-11-25T00:00:00.000\", \"variable\": \"prediction\", \"value\": 12.611436999736666}], \"transform\": [{\"type\": \"formula\", \"expr\": \"toDate(datum['time'])\", \"as\": \"time\"}]}, {\"name\": \"source_0_color_domain_variable_0\", \"values\": [{\"variable\": \"input\"}]}, {\"name\": \"source_1_color_domain_variable_1\", \"values\": [{\"variable\": \"target\"}]}, {\"name\": \"source_2_color_domain_variable_2\", \"values\": [{\"variable\": \"prediction\"}]}], \"marks\": [{\"type\": \"group\", \"name\": \"layer_0_pathgroup\", \"from\": {\"facet\": {\"data\": \"source_0\", \"name\": \"faceted_path_layer_0_main\", \"groupby\": [\"variable\"]}}, \"encode\": {\"update\": {\"width\": {\"field\": {\"signal\": null, \"datum\": null, \"group\": \"width\", \"parent\": null}}, \"height\": {\"field\": {\"signal\": null, \"datum\": null, \"group\": \"height\", \"parent\": null}}}}, \"marks\": [{\"type\": \"line\", \"name\": \"layer_0_marks\", \"from\": {\"data\": \"faceted_path_layer_0_main\"}, \"sort\": {\"field\": \"x\"}, \"encode\": {\"update\": {\"defined\": {\"signal\": \"isValid(datum[\\\"time\\\"]) && isFinite(+datum[\\\"time\\\"]) && isValid(datum[\\\"value\\\"]) && isFinite(+datum[\\\"value\\\"])\"}, \"stroke\": {\"field\": \"variable\", \"scale\": \"color\"}, \"y\": {\"field\": \"value\", \"scale\": \"y\"}, \"x\": {\"field\": \"time\", \"scale\": \"x\"}}}, \"style\": [\"line\"]}]}, {\"type\": \"group\", \"name\": \"layer_1_pathgroup\", \"from\": {\"facet\": {\"data\": \"source_1\", \"name\": \"faceted_path_layer_1_main\", \"groupby\": [\"variable\"]}}, \"encode\": {\"update\": {\"width\": {\"field\": {\"signal\": null, \"datum\": null, \"group\": \"width\", \"parent\": null}}, \"height\": {\"field\": {\"signal\": null, \"datum\": null, \"group\": \"height\", \"parent\": null}}}}, \"marks\": [{\"type\": \"line\", \"name\": \"layer_1_marks\", \"from\": {\"data\": \"faceted_path_layer_1_main\"}, \"sort\": {\"field\": \"x\"}, \"encode\": {\"update\": {\"defined\": {\"signal\": \"isValid(datum[\\\"time\\\"]) && isFinite(+datum[\\\"time\\\"]) && isValid(datum[\\\"value\\\"]) && isFinite(+datum[\\\"value\\\"])\"}, \"stroke\": {\"field\": \"variable\", \"scale\": \"color\"}, \"y\": {\"field\": \"value\", \"scale\": \"y\"}, \"x\": {\"field\": \"time\", \"scale\": \"x\"}}}, \"style\": [\"line\"]}]}, {\"type\": \"group\", \"name\": \"layer_2_pathgroup\", \"from\": {\"facet\": {\"data\": \"source_2\", \"name\": \"faceted_path_layer_2_main\", \"groupby\": [\"variable\"]}}, \"encode\": {\"update\": {\"height\": {\"field\": {\"signal\": null, \"datum\": null, \"group\": \"height\", \"parent\": null}}, \"width\": {\"field\": {\"signal\": null, \"datum\": null, \"group\": \"width\", \"parent\": null}}}}, \"marks\": [{\"type\": \"line\", \"name\": \"layer_2_marks\", \"from\": {\"data\": \"faceted_path_layer_2_main\"}, \"sort\": {\"field\": \"x\"}, \"encode\": {\"update\": {\"stroke\": {\"field\": \"variable\", \"scale\": \"color\"}, \"defined\": {\"signal\": \"isValid(datum[\\\"time\\\"]) && isFinite(+datum[\\\"time\\\"]) && isValid(datum[\\\"value\\\"]) && isFinite(+datum[\\\"value\\\"])\"}, \"strokeDash\": {\"value\": [5, 2]}, \"opacity\": {\"value\": 0.7}, \"x\": {\"field\": \"time\", \"scale\": \"x\"}, \"y\": {\"field\": \"value\", \"scale\": \"y\"}}}, \"style\": [\"line\"]}]}], \"scales\": [{\"name\": \"x\", \"type\": \"time\", \"domain\": {\"fields\": [{\"data\": \"source_0\", \"field\": \"time\"}, {\"data\": \"source_1\", \"field\": \"time\"}, {\"data\": \"source_2\", \"field\": \"time\"}]}, \"range\": [0, {\"signal\": \"width\"}]}, {\"name\": \"y\", \"type\": \"linear\", \"domain\": {\"fields\": [{\"data\": \"source_0\", \"field\": \"value\"}, {\"data\": \"source_1\", \"field\": \"value\"}, {\"data\": \"source_2\", \"field\": \"value\"}]}, \"range\": [{\"signal\": \"height\"}, 0], \"zero\": true, \"nice\": true}, {\"name\": \"color\", \"type\": \"ordinal\", \"domain\": {\"fields\": [{\"data\": \"source_0_color_domain_variable_0\", \"field\": \"variable\"}, {\"data\": \"source_1_color_domain_variable_1\", \"field\": \"variable\"}, {\"data\": \"source_2_color_domain_variable_2\", \"field\": \"variable\"}], \"sort\": true}, \"range\": \"category\"}], \"axes\": [{\"scale\": \"x\", \"maxExtent\": 0, \"gridScale\": \"y\", \"orient\": \"bottom\", \"aria\": false, \"tickCount\": {\"signal\": \"ceil(width/40)\"}, \"labels\": false, \"minExtent\": 0, \"domain\": false, \"grid\": true, \"ticks\": false, \"zindex\": 0}, {\"scale\": \"y\", \"orient\": \"left\", \"grid\": true, \"maxExtent\": 0, \"domain\": false, \"minExtent\": 0, \"labels\": false, \"gridScale\": \"x\", \"tickCount\": {\"signal\": \"ceil(height/40)\"}, \"aria\": false, \"ticks\": false, \"zindex\": 0}, {\"scale\": \"x\", \"grid\": false, \"orient\": \"bottom\", \"labelFlush\": true, \"labelOverlap\": true, \"tickCount\": {\"signal\": \"ceil(width/40)\"}, \"title\": \"time\", \"zindex\": 0}, {\"scale\": \"y\", \"labelOverlap\": true, \"orient\": \"left\", \"tickCount\": {\"signal\": \"ceil(height/40)\"}, \"zindex\": 0, \"grid\": false, \"title\": \"value\"}], \"height\": 200, \"padding\": 5, \"background\": \"white\", \"legends\": [{\"stroke\": \"color\", \"symbolType\": \"stroke\", \"title\": \"variable\", \"encode\": {\"symbols\": {\"update\": {\"opacity\": {\"value\": 0.7}}}}}], \"width\": 600, \"style\": \"cell\"}, {\"mode\": \"vega\"});\n",
       "</script>"
      ],
      "text/plain": [
       "alt.LayerChart(...)"
      ]
     },
     "execution_count": 16,
     "metadata": {},
     "output_type": "execute_result"
    }
   ],
   "source": [
    "(on.Plot()\n",
    "    .add(on.marks.line, input)\n",
    "    .add(on.marks.line, target)\n",
    "    .add(on.marks.line, prediction, type='dashed')\n",
    "    .properties(width=600, height=200)\n",
    "    .show()\n",
    ")"
   ]
  },
  {
   "cell_type": "code",
   "execution_count": 21,
   "id": "ffecb8fb",
   "metadata": {},
   "outputs": [],
   "source": [
    "prediction = rename_index(predictions['predictions']['Daily temperature']['ExponentialSmoothing'][0]).rename({'Daily minimum temperatures': 'prediction'})"
   ]
  },
  {
   "cell_type": "code",
   "execution_count": 22,
   "id": "e6c1b476",
   "metadata": {},
   "outputs": [
    {
     "data": {
      "text/html": [
       "\n",
       "<style>\n",
       "  #altair-viz-1ac6c5e056544a5b921f3add37eb22dd.vega-embed {\n",
       "    width: 100%;\n",
       "    display: flex;\n",
       "  }\n",
       "\n",
       "  #altair-viz-1ac6c5e056544a5b921f3add37eb22dd.vega-embed details,\n",
       "  #altair-viz-1ac6c5e056544a5b921f3add37eb22dd.vega-embed details summary {\n",
       "    position: relative;\n",
       "  }\n",
       "</style>\n",
       "<div id=\"altair-viz-1ac6c5e056544a5b921f3add37eb22dd\"></div>\n",
       "<script type=\"text/javascript\">\n",
       "  var VEGA_DEBUG = (typeof VEGA_DEBUG == \"undefined\") ? {} : VEGA_DEBUG;\n",
       "  (function(spec, embedOpt){\n",
       "    let outputDiv = document.currentScript.previousElementSibling;\n",
       "    if (outputDiv.id !== \"altair-viz-1ac6c5e056544a5b921f3add37eb22dd\") {\n",
       "      outputDiv = document.getElementById(\"altair-viz-1ac6c5e056544a5b921f3add37eb22dd\");\n",
       "    }\n",
       "\n",
       "    const paths = {\n",
       "      \"vega\": \"https://cdn.jsdelivr.net/npm/vega@5?noext\",\n",
       "      \"vega-lib\": \"https://cdn.jsdelivr.net/npm/vega-lib?noext\",\n",
       "      \"vega-lite\": \"https://cdn.jsdelivr.net/npm/vega-lite@5.20.1?noext\",\n",
       "      \"vega-embed\": \"https://cdn.jsdelivr.net/npm/vega-embed@6?noext\",\n",
       "    };\n",
       "\n",
       "    function maybeLoadScript(lib, version) {\n",
       "      var key = `${lib.replace(\"-\", \"\")}_version`;\n",
       "      return (VEGA_DEBUG[key] == version) ?\n",
       "        Promise.resolve(paths[lib]) :\n",
       "        new Promise(function(resolve, reject) {\n",
       "          var s = document.createElement('script');\n",
       "          document.getElementsByTagName(\"head\")[0].appendChild(s);\n",
       "          s.async = true;\n",
       "          s.onload = () => {\n",
       "            VEGA_DEBUG[key] = version;\n",
       "            return resolve(paths[lib]);\n",
       "          };\n",
       "          s.onerror = () => reject(`Error loading script: ${paths[lib]}`);\n",
       "          s.src = paths[lib];\n",
       "        });\n",
       "    }\n",
       "\n",
       "    function showError(err) {\n",
       "      outputDiv.innerHTML = `<div class=\"error\" style=\"color:red;\">${err}</div>`;\n",
       "      throw err;\n",
       "    }\n",
       "\n",
       "    function displayChart(vegaEmbed) {\n",
       "      vegaEmbed(outputDiv, spec, embedOpt)\n",
       "        .catch(err => showError(`Javascript Error: ${err.message}<br>This usually means there's a typo in your chart specification. See the javascript console for the full traceback.`));\n",
       "    }\n",
       "\n",
       "    if(typeof define === \"function\" && define.amd) {\n",
       "      requirejs.config({paths});\n",
       "      let deps = [\"vega-embed\"];\n",
       "      require(deps, displayChart, err => showError(`Error loading script: ${err.message}`));\n",
       "    } else {\n",
       "      maybeLoadScript(\"vega\", \"5\")\n",
       "        .then(() => maybeLoadScript(\"vega-lite\", \"5.20.1\"))\n",
       "        .then(() => maybeLoadScript(\"vega-embed\", \"6\"))\n",
       "        .catch(showError)\n",
       "        .then(() => displayChart(vegaEmbed));\n",
       "    }\n",
       "  })({\"$schema\": \"https://vega.github.io/schema/vega/v5.json\", \"data\": [{\"name\": \"source_0\", \"values\": [{\"time\": \"1990-07-29T00:00:00.000\", \"variable\": \"input\", \"value\": 7.9}, {\"time\": \"1990-07-30T00:00:00.000\", \"variable\": \"input\", \"value\": 6.0}, {\"time\": \"1990-07-31T00:00:00.000\", \"variable\": \"input\", \"value\": 5.0}, {\"time\": \"1990-08-01T00:00:00.000\", \"variable\": \"input\", \"value\": 6.8}, {\"time\": \"1990-08-02T00:00:00.000\", \"variable\": \"input\", \"value\": 9.8}, {\"time\": \"1990-08-03T00:00:00.000\", \"variable\": \"input\", \"value\": 5.7}, {\"time\": \"1990-08-04T00:00:00.000\", \"variable\": \"input\", \"value\": 8.6}, {\"time\": \"1990-08-05T00:00:00.000\", \"variable\": \"input\", \"value\": 10.6}, {\"time\": \"1990-08-06T00:00:00.000\", \"variable\": \"input\", \"value\": 7.8}, {\"time\": \"1990-08-07T00:00:00.000\", \"variable\": \"input\", \"value\": 7.7}, {\"time\": \"1990-08-08T00:00:00.000\", \"variable\": \"input\", \"value\": 8.6}, {\"time\": \"1990-08-09T00:00:00.000\", \"variable\": \"input\", \"value\": 6.5}, {\"time\": \"1990-08-10T00:00:00.000\", \"variable\": \"input\", \"value\": 6.9}, {\"time\": \"1990-08-11T00:00:00.000\", \"variable\": \"input\", \"value\": 6.4}, {\"time\": \"1990-08-12T00:00:00.000\", \"variable\": \"input\", \"value\": 8.5}, {\"time\": \"1990-08-13T00:00:00.000\", \"variable\": \"input\", \"value\": 7.8}, {\"time\": \"1990-08-14T00:00:00.000\", \"variable\": \"input\", \"value\": 9.3}, {\"time\": \"1990-08-15T00:00:00.000\", \"variable\": \"input\", \"value\": 8.4}, {\"time\": \"1990-08-16T00:00:00.000\", \"variable\": \"input\", \"value\": 7.8}, {\"time\": \"1990-08-17T00:00:00.000\", \"variable\": \"input\", \"value\": 7.4}, {\"time\": \"1990-08-18T00:00:00.000\", \"variable\": \"input\", \"value\": 7.7}, {\"time\": \"1990-08-19T00:00:00.000\", \"variable\": \"input\", \"value\": 8.9}, {\"time\": \"1990-08-20T00:00:00.000\", \"variable\": \"input\", \"value\": 9.7}, {\"time\": \"1990-08-21T00:00:00.000\", \"variable\": \"input\", \"value\": 9.9}, {\"time\": \"1990-08-22T00:00:00.000\", \"variable\": \"input\", \"value\": 6.1}, {\"time\": \"1990-08-23T00:00:00.000\", \"variable\": \"input\", \"value\": 6.6}, {\"time\": \"1990-08-24T00:00:00.000\", \"variable\": \"input\", \"value\": 7.6}, {\"time\": \"1990-08-25T00:00:00.000\", \"variable\": \"input\", \"value\": 7.4}, {\"time\": \"1990-08-26T00:00:00.000\", \"variable\": \"input\", \"value\": 8.0}, {\"time\": \"1990-08-27T00:00:00.000\", \"variable\": \"input\", \"value\": 2.1}, {\"time\": \"1990-08-28T00:00:00.000\", \"variable\": \"input\", \"value\": 5.9}, {\"time\": \"1990-08-29T00:00:00.000\", \"variable\": \"input\", \"value\": 11.6}, {\"time\": \"1990-08-30T00:00:00.000\", \"variable\": \"input\", \"value\": 8.6}, {\"time\": \"1990-08-31T00:00:00.000\", \"variable\": \"input\", \"value\": 7.9}, {\"time\": \"1990-09-01T00:00:00.000\", \"variable\": \"input\", \"value\": 6.0}, {\"time\": \"1990-09-02T00:00:00.000\", \"variable\": \"input\", \"value\": 9.5}, {\"time\": \"1990-09-03T00:00:00.000\", \"variable\": \"input\", \"value\": 8.6}, {\"time\": \"1990-09-04T00:00:00.000\", \"variable\": \"input\", \"value\": 7.6}, {\"time\": \"1990-09-05T00:00:00.000\", \"variable\": \"input\", \"value\": 10.4}, {\"time\": \"1990-09-06T00:00:00.000\", \"variable\": \"input\", \"value\": 10.3}, {\"time\": \"1990-09-07T00:00:00.000\", \"variable\": \"input\", \"value\": 7.5}, {\"time\": \"1990-09-08T00:00:00.000\", \"variable\": \"input\", \"value\": 3.0}, {\"time\": \"1990-09-09T00:00:00.000\", \"variable\": \"input\", \"value\": 5.3}, {\"time\": \"1990-09-10T00:00:00.000\", \"variable\": \"input\", \"value\": 10.5}, {\"time\": \"1990-09-11T00:00:00.000\", \"variable\": \"input\", \"value\": 14.6}, {\"time\": \"1990-09-12T00:00:00.000\", \"variable\": \"input\", \"value\": 12.6}, {\"time\": \"1990-09-13T00:00:00.000\", \"variable\": \"input\", \"value\": 9.8}, {\"time\": \"1990-09-14T00:00:00.000\", \"variable\": \"input\", \"value\": 7.2}, {\"time\": \"1990-09-15T00:00:00.000\", \"variable\": \"input\", \"value\": 10.1}, {\"time\": \"1990-09-16T00:00:00.000\", \"variable\": \"input\", \"value\": 10.4}, {\"time\": \"1990-09-17T00:00:00.000\", \"variable\": \"input\", \"value\": 3.7}, {\"time\": \"1990-09-18T00:00:00.000\", \"variable\": \"input\", \"value\": 7.3}, {\"time\": \"1990-09-19T00:00:00.000\", \"variable\": \"input\", \"value\": 11.6}, {\"time\": \"1990-09-20T00:00:00.000\", \"variable\": \"input\", \"value\": 16.3}, {\"time\": \"1990-09-21T00:00:00.000\", \"variable\": \"input\", \"value\": 9.6}, {\"time\": \"1990-09-22T00:00:00.000\", \"variable\": \"input\", \"value\": 6.8}, {\"time\": \"1990-09-23T00:00:00.000\", \"variable\": \"input\", \"value\": 5.2}, {\"time\": \"1990-09-24T00:00:00.000\", \"variable\": \"input\", \"value\": 10.6}, {\"time\": \"1990-09-25T00:00:00.000\", \"variable\": \"input\", \"value\": 16.3}, {\"time\": \"1990-09-26T00:00:00.000\", \"variable\": \"input\", \"value\": 9.8}, {\"time\": \"1990-09-27T00:00:00.000\", \"variable\": \"input\", \"value\": 4.6}, {\"time\": \"1990-09-28T00:00:00.000\", \"variable\": \"input\", \"value\": 11.1}, {\"time\": \"1990-09-29T00:00:00.000\", \"variable\": \"input\", \"value\": 8.7}, {\"time\": \"1990-09-30T00:00:00.000\", \"variable\": \"input\", \"value\": 10.0}, {\"time\": \"1990-10-01T00:00:00.000\", \"variable\": \"input\", \"value\": 11.3}, {\"time\": \"1990-10-02T00:00:00.000\", \"variable\": \"input\", \"value\": 10.5}, {\"time\": \"1990-10-03T00:00:00.000\", \"variable\": \"input\", \"value\": 9.9}, {\"time\": \"1990-10-04T00:00:00.000\", \"variable\": \"input\", \"value\": 11.0}, {\"time\": \"1990-10-05T00:00:00.000\", \"variable\": \"input\", \"value\": 14.0}, {\"time\": \"1990-10-06T00:00:00.000\", \"variable\": \"input\", \"value\": 9.2}, {\"time\": \"1990-10-07T00:00:00.000\", \"variable\": \"input\", \"value\": 9.8}, {\"time\": \"1990-10-08T00:00:00.000\", \"variable\": \"input\", \"value\": 6.0}, {\"time\": \"1990-10-09T00:00:00.000\", \"variable\": \"input\", \"value\": 9.8}, {\"time\": \"1990-10-10T00:00:00.000\", \"variable\": \"input\", \"value\": 9.2}, {\"time\": \"1990-10-11T00:00:00.000\", \"variable\": \"input\", \"value\": 11.8}, {\"time\": \"1990-10-12T00:00:00.000\", \"variable\": \"input\", \"value\": 10.3}, {\"time\": \"1990-10-13T00:00:00.000\", \"variable\": \"input\", \"value\": 7.5}, {\"time\": \"1990-10-14T00:00:00.000\", \"variable\": \"input\", \"value\": 7.7}, {\"time\": \"1990-10-15T00:00:00.000\", \"variable\": \"input\", \"value\": 15.8}, {\"time\": \"1990-10-16T00:00:00.000\", \"variable\": \"input\", \"value\": 14.6}, {\"time\": \"1990-10-17T00:00:00.000\", \"variable\": \"input\", \"value\": 10.5}, {\"time\": \"1990-10-18T00:00:00.000\", \"variable\": \"input\", \"value\": 11.3}, {\"time\": \"1990-10-19T00:00:00.000\", \"variable\": \"input\", \"value\": 10.9}, {\"time\": \"1990-10-20T00:00:00.000\", \"variable\": \"input\", \"value\": 6.4}, {\"time\": \"1990-10-21T00:00:00.000\", \"variable\": \"input\", \"value\": 10.9}, {\"time\": \"1990-10-22T00:00:00.000\", \"variable\": \"input\", \"value\": 9.0}, {\"time\": \"1990-10-23T00:00:00.000\", \"variable\": \"input\", \"value\": 10.9}, {\"time\": \"1990-10-24T00:00:00.000\", \"variable\": \"input\", \"value\": 12.4}, {\"time\": \"1990-10-25T00:00:00.000\", \"variable\": \"input\", \"value\": 11.6}, {\"time\": \"1990-10-26T00:00:00.000\", \"variable\": \"input\", \"value\": 13.3}, {\"time\": \"1990-10-27T00:00:00.000\", \"variable\": \"input\", \"value\": 14.4}, {\"time\": \"1990-10-28T00:00:00.000\", \"variable\": \"input\", \"value\": 18.4}, {\"time\": \"1990-10-29T00:00:00.000\", \"variable\": \"input\", \"value\": 13.6}, {\"time\": \"1990-10-30T00:00:00.000\", \"variable\": \"input\", \"value\": 14.9}, {\"time\": \"1990-10-31T00:00:00.000\", \"variable\": \"input\", \"value\": 14.8}, {\"time\": \"1990-11-01T00:00:00.000\", \"variable\": \"input\", \"value\": 15.4}], \"transform\": [{\"type\": \"formula\", \"expr\": \"toDate(datum['time'])\", \"as\": \"time\"}]}, {\"name\": \"source_1\", \"values\": [{\"time\": \"1990-11-02T00:00:00.000\", \"variable\": \"target\", \"value\": 11.8}, {\"time\": \"1990-11-03T00:00:00.000\", \"variable\": \"target\", \"value\": 13.0}, {\"time\": \"1990-11-04T00:00:00.000\", \"variable\": \"target\", \"value\": 11.1}, {\"time\": \"1990-11-05T00:00:00.000\", \"variable\": \"target\", \"value\": 12.5}, {\"time\": \"1990-11-06T00:00:00.000\", \"variable\": \"target\", \"value\": 18.3}, {\"time\": \"1990-11-07T00:00:00.000\", \"variable\": \"target\", \"value\": 19.2}, {\"time\": \"1990-11-08T00:00:00.000\", \"variable\": \"target\", \"value\": 15.4}, {\"time\": \"1990-11-09T00:00:00.000\", \"variable\": \"target\", \"value\": 13.1}, {\"time\": \"1990-11-10T00:00:00.000\", \"variable\": \"target\", \"value\": 11.5}, {\"time\": \"1990-11-11T00:00:00.000\", \"variable\": \"target\", \"value\": 8.6}, {\"time\": \"1990-11-12T00:00:00.000\", \"variable\": \"target\", \"value\": 12.6}, {\"time\": \"1990-11-13T00:00:00.000\", \"variable\": \"target\", \"value\": 13.8}, {\"time\": \"1990-11-14T00:00:00.000\", \"variable\": \"target\", \"value\": 14.6}, {\"time\": \"1990-11-15T00:00:00.000\", \"variable\": \"target\", \"value\": 13.2}, {\"time\": \"1990-11-16T00:00:00.000\", \"variable\": \"target\", \"value\": 12.3}, {\"time\": \"1990-11-17T00:00:00.000\", \"variable\": \"target\", \"value\": 8.8}, {\"time\": \"1990-11-18T00:00:00.000\", \"variable\": \"target\", \"value\": 10.7}, {\"time\": \"1990-11-19T00:00:00.000\", \"variable\": \"target\", \"value\": 9.9}, {\"time\": \"1990-11-20T00:00:00.000\", \"variable\": \"target\", \"value\": 8.3}, {\"time\": \"1990-11-21T00:00:00.000\", \"variable\": \"target\", \"value\": 15.0}, {\"time\": \"1990-11-22T00:00:00.000\", \"variable\": \"target\", \"value\": 12.2}, {\"time\": \"1990-11-23T00:00:00.000\", \"variable\": \"target\", \"value\": 10.5}, {\"time\": \"1990-11-24T00:00:00.000\", \"variable\": \"target\", \"value\": 11.1}, {\"time\": \"1990-11-25T00:00:00.000\", \"variable\": \"target\", \"value\": 13.0}], \"transform\": [{\"type\": \"formula\", \"expr\": \"toDate(datum['time'])\", \"as\": \"time\"}]}, {\"name\": \"source_2\", \"values\": [{\"time\": \"1990-11-02T00:00:00.000\", \"variable\": \"prediction\", \"value\": 12.162265718023768}, {\"time\": \"1990-11-03T00:00:00.000\", \"variable\": \"prediction\", \"value\": 10.839219485147302}, {\"time\": \"1990-11-04T00:00:00.000\", \"variable\": \"prediction\", \"value\": 12.553783295587236}, {\"time\": \"1990-11-05T00:00:00.000\", \"variable\": \"prediction\", \"value\": 11.940098216330577}, {\"time\": \"1990-11-06T00:00:00.000\", \"variable\": \"prediction\", \"value\": 13.497488501058127}, {\"time\": \"1990-11-07T00:00:00.000\", \"variable\": \"prediction\", \"value\": 13.382993205266526}, {\"time\": \"1990-11-08T00:00:00.000\", \"variable\": \"prediction\", \"value\": 13.289789004357914}, {\"time\": \"1990-11-09T00:00:00.000\", \"variable\": \"prediction\", \"value\": 12.58759507989315}, {\"time\": \"1990-11-10T00:00:00.000\", \"variable\": \"prediction\", \"value\": 11.264548847016684}, {\"time\": \"1990-11-11T00:00:00.000\", \"variable\": \"prediction\", \"value\": 12.979112657456618}, {\"time\": \"1990-11-12T00:00:00.000\", \"variable\": \"prediction\", \"value\": 12.36542757819996}, {\"time\": \"1990-11-13T00:00:00.000\", \"variable\": \"prediction\", \"value\": 13.92281786292751}, {\"time\": \"1990-11-14T00:00:00.000\", \"variable\": \"prediction\", \"value\": 13.808322567135908}, {\"time\": \"1990-11-15T00:00:00.000\", \"variable\": \"prediction\", \"value\": 13.715118366227296}, {\"time\": \"1990-11-16T00:00:00.000\", \"variable\": \"prediction\", \"value\": 13.012924441762532}, {\"time\": \"1990-11-17T00:00:00.000\", \"variable\": \"prediction\", \"value\": 11.689878208886066}, {\"time\": \"1990-11-18T00:00:00.000\", \"variable\": \"prediction\", \"value\": 13.404442019326}, {\"time\": \"1990-11-19T00:00:00.000\", \"variable\": \"prediction\", \"value\": 12.790756940069341}, {\"time\": \"1990-11-20T00:00:00.000\", \"variable\": \"prediction\", \"value\": 14.348147224796891}, {\"time\": \"1990-11-21T00:00:00.000\", \"variable\": \"prediction\", \"value\": 14.23365192900529}, {\"time\": \"1990-11-22T00:00:00.000\", \"variable\": \"prediction\", \"value\": 14.140447728096678}, {\"time\": \"1990-11-23T00:00:00.000\", \"variable\": \"prediction\", \"value\": 13.438253803631916}, {\"time\": \"1990-11-24T00:00:00.000\", \"variable\": \"prediction\", \"value\": 12.115207570755448}, {\"time\": \"1990-11-25T00:00:00.000\", \"variable\": \"prediction\", \"value\": 13.829771381195382}], \"transform\": [{\"type\": \"formula\", \"expr\": \"toDate(datum['time'])\", \"as\": \"time\"}]}, {\"name\": \"source_0_color_domain_variable_0\", \"values\": [{\"variable\": \"input\"}]}, {\"name\": \"source_1_color_domain_variable_1\", \"values\": [{\"variable\": \"target\"}]}, {\"name\": \"source_2_color_domain_variable_2\", \"values\": [{\"variable\": \"prediction\"}]}], \"marks\": [{\"type\": \"group\", \"name\": \"layer_0_pathgroup\", \"from\": {\"facet\": {\"data\": \"source_0\", \"name\": \"faceted_path_layer_0_main\", \"groupby\": [\"variable\"]}}, \"encode\": {\"update\": {\"width\": {\"field\": {\"signal\": null, \"datum\": null, \"group\": \"width\", \"parent\": null}}, \"height\": {\"field\": {\"signal\": null, \"datum\": null, \"group\": \"height\", \"parent\": null}}}}, \"marks\": [{\"type\": \"line\", \"name\": \"layer_0_marks\", \"from\": {\"data\": \"faceted_path_layer_0_main\"}, \"sort\": {\"field\": \"x\"}, \"encode\": {\"update\": {\"x\": {\"field\": \"time\", \"scale\": \"x\"}, \"y\": {\"field\": \"value\", \"scale\": \"y\"}, \"stroke\": {\"field\": \"variable\", \"scale\": \"color\"}, \"defined\": {\"signal\": \"isValid(datum[\\\"time\\\"]) && isFinite(+datum[\\\"time\\\"]) && isValid(datum[\\\"value\\\"]) && isFinite(+datum[\\\"value\\\"])\"}}}, \"style\": [\"line\"]}]}, {\"type\": \"group\", \"name\": \"layer_1_pathgroup\", \"from\": {\"facet\": {\"data\": \"source_1\", \"name\": \"faceted_path_layer_1_main\", \"groupby\": [\"variable\"]}}, \"encode\": {\"update\": {\"height\": {\"field\": {\"signal\": null, \"datum\": null, \"group\": \"height\", \"parent\": null}}, \"width\": {\"field\": {\"signal\": null, \"datum\": null, \"group\": \"width\", \"parent\": null}}}}, \"marks\": [{\"type\": \"line\", \"name\": \"layer_1_marks\", \"from\": {\"data\": \"faceted_path_layer_1_main\"}, \"sort\": {\"field\": \"x\"}, \"encode\": {\"update\": {\"stroke\": {\"field\": \"variable\", \"scale\": \"color\"}, \"defined\": {\"signal\": \"isValid(datum[\\\"time\\\"]) && isFinite(+datum[\\\"time\\\"]) && isValid(datum[\\\"value\\\"]) && isFinite(+datum[\\\"value\\\"])\"}, \"y\": {\"field\": \"value\", \"scale\": \"y\"}, \"x\": {\"field\": \"time\", \"scale\": \"x\"}}}, \"style\": [\"line\"]}]}, {\"type\": \"group\", \"name\": \"layer_2_pathgroup\", \"from\": {\"facet\": {\"data\": \"source_2\", \"name\": \"faceted_path_layer_2_main\", \"groupby\": [\"variable\"]}}, \"encode\": {\"update\": {\"height\": {\"field\": {\"signal\": null, \"datum\": null, \"group\": \"height\", \"parent\": null}}, \"width\": {\"field\": {\"signal\": null, \"datum\": null, \"group\": \"width\", \"parent\": null}}}}, \"marks\": [{\"type\": \"line\", \"name\": \"layer_2_marks\", \"from\": {\"data\": \"faceted_path_layer_2_main\"}, \"sort\": {\"field\": \"x\"}, \"encode\": {\"update\": {\"strokeDash\": {\"value\": [5, 2]}, \"defined\": {\"signal\": \"isValid(datum[\\\"time\\\"]) && isFinite(+datum[\\\"time\\\"]) && isValid(datum[\\\"value\\\"]) && isFinite(+datum[\\\"value\\\"])\"}, \"x\": {\"field\": \"time\", \"scale\": \"x\"}, \"y\": {\"field\": \"value\", \"scale\": \"y\"}, \"opacity\": {\"value\": 0.7}, \"stroke\": {\"field\": \"variable\", \"scale\": \"color\"}}}, \"style\": [\"line\"]}]}], \"scales\": [{\"name\": \"x\", \"type\": \"time\", \"domain\": {\"fields\": [{\"data\": \"source_0\", \"field\": \"time\"}, {\"data\": \"source_1\", \"field\": \"time\"}, {\"data\": \"source_2\", \"field\": \"time\"}]}, \"range\": [0, {\"signal\": \"width\"}]}, {\"name\": \"y\", \"type\": \"linear\", \"domain\": {\"fields\": [{\"data\": \"source_0\", \"field\": \"value\"}, {\"data\": \"source_1\", \"field\": \"value\"}, {\"data\": \"source_2\", \"field\": \"value\"}]}, \"range\": [{\"signal\": \"height\"}, 0], \"nice\": true, \"zero\": true}, {\"name\": \"color\", \"type\": \"ordinal\", \"domain\": {\"fields\": [{\"data\": \"source_0_color_domain_variable_0\", \"field\": \"variable\"}, {\"data\": \"source_1_color_domain_variable_1\", \"field\": \"variable\"}, {\"data\": \"source_2_color_domain_variable_2\", \"field\": \"variable\"}], \"sort\": true}, \"range\": \"category\"}], \"axes\": [{\"scale\": \"x\", \"gridScale\": \"y\", \"tickCount\": {\"signal\": \"ceil(width/40)\"}, \"aria\": false, \"maxExtent\": 0, \"ticks\": false, \"grid\": true, \"orient\": \"bottom\", \"minExtent\": 0, \"zindex\": 0, \"domain\": false, \"labels\": false}, {\"scale\": \"y\", \"gridScale\": \"x\", \"ticks\": false, \"tickCount\": {\"signal\": \"ceil(height/40)\"}, \"domain\": false, \"grid\": true, \"orient\": \"left\", \"maxExtent\": 0, \"minExtent\": 0, \"zindex\": 0, \"aria\": false, \"labels\": false}, {\"scale\": \"x\", \"grid\": false, \"title\": \"time\", \"labelFlush\": true, \"orient\": \"bottom\", \"labelOverlap\": true, \"tickCount\": {\"signal\": \"ceil(width/40)\"}, \"zindex\": 0}, {\"scale\": \"y\", \"zindex\": 0, \"labelOverlap\": true, \"grid\": false, \"title\": \"value\", \"tickCount\": {\"signal\": \"ceil(height/40)\"}, \"orient\": \"left\"}], \"padding\": 5, \"height\": 200, \"background\": \"white\", \"style\": \"cell\", \"width\": 600, \"legends\": [{\"stroke\": \"color\", \"symbolType\": \"stroke\", \"title\": \"variable\", \"encode\": {\"symbols\": {\"update\": {\"opacity\": {\"value\": 0.7}}}}}]}, {\"mode\": \"vega\"});\n",
       "</script>"
      ],
      "text/plain": [
       "alt.LayerChart(...)"
      ]
     },
     "execution_count": 22,
     "metadata": {},
     "output_type": "execute_result"
    }
   ],
   "source": [
    "(on.Plot()\n",
    "    .add(on.marks.line, input)\n",
    "    .add(on.marks.line, target)\n",
    "    .add(on.marks.line, prediction, type='dashed')\n",
    "    .properties(width=600, height=200)\n",
    "    .show()\n",
    ")"
   ]
  },
  {
   "cell_type": "code",
   "execution_count": 23,
   "id": "4bc66495",
   "metadata": {},
   "outputs": [],
   "source": [
    "input = rename_index(predictions['inputs']['ETTh1'][0][500:].univariate_component(0)).rename({'HUFL': 'input'})\n",
    "target = rename_index(predictions['targets']['ETTh1'][0].univariate_component(0)).rename({'HUFL': 'target'})\n",
    "prediction = rename_index(predictions['predictions']['ETTh1']['ExponentialSmoothing'][0].univariate_component(0)).rename({'HUFL': 'prediction'})"
   ]
  },
  {
   "cell_type": "code",
   "execution_count": 24,
   "id": "6312ee42",
   "metadata": {},
   "outputs": [
    {
     "data": {
      "text/html": [
       "\n",
       "<style>\n",
       "  #altair-viz-793086297e9e42c6817bb186899bc700.vega-embed {\n",
       "    width: 100%;\n",
       "    display: flex;\n",
       "  }\n",
       "\n",
       "  #altair-viz-793086297e9e42c6817bb186899bc700.vega-embed details,\n",
       "  #altair-viz-793086297e9e42c6817bb186899bc700.vega-embed details summary {\n",
       "    position: relative;\n",
       "  }\n",
       "</style>\n",
       "<div id=\"altair-viz-793086297e9e42c6817bb186899bc700\"></div>\n",
       "<script type=\"text/javascript\">\n",
       "  var VEGA_DEBUG = (typeof VEGA_DEBUG == \"undefined\") ? {} : VEGA_DEBUG;\n",
       "  (function(spec, embedOpt){\n",
       "    let outputDiv = document.currentScript.previousElementSibling;\n",
       "    if (outputDiv.id !== \"altair-viz-793086297e9e42c6817bb186899bc700\") {\n",
       "      outputDiv = document.getElementById(\"altair-viz-793086297e9e42c6817bb186899bc700\");\n",
       "    }\n",
       "\n",
       "    const paths = {\n",
       "      \"vega\": \"https://cdn.jsdelivr.net/npm/vega@5?noext\",\n",
       "      \"vega-lib\": \"https://cdn.jsdelivr.net/npm/vega-lib?noext\",\n",
       "      \"vega-lite\": \"https://cdn.jsdelivr.net/npm/vega-lite@5.20.1?noext\",\n",
       "      \"vega-embed\": \"https://cdn.jsdelivr.net/npm/vega-embed@6?noext\",\n",
       "    };\n",
       "\n",
       "    function maybeLoadScript(lib, version) {\n",
       "      var key = `${lib.replace(\"-\", \"\")}_version`;\n",
       "      return (VEGA_DEBUG[key] == version) ?\n",
       "        Promise.resolve(paths[lib]) :\n",
       "        new Promise(function(resolve, reject) {\n",
       "          var s = document.createElement('script');\n",
       "          document.getElementsByTagName(\"head\")[0].appendChild(s);\n",
       "          s.async = true;\n",
       "          s.onload = () => {\n",
       "            VEGA_DEBUG[key] = version;\n",
       "            return resolve(paths[lib]);\n",
       "          };\n",
       "          s.onerror = () => reject(`Error loading script: ${paths[lib]}`);\n",
       "          s.src = paths[lib];\n",
       "        });\n",
       "    }\n",
       "\n",
       "    function showError(err) {\n",
       "      outputDiv.innerHTML = `<div class=\"error\" style=\"color:red;\">${err}</div>`;\n",
       "      throw err;\n",
       "    }\n",
       "\n",
       "    function displayChart(vegaEmbed) {\n",
       "      vegaEmbed(outputDiv, spec, embedOpt)\n",
       "        .catch(err => showError(`Javascript Error: ${err.message}<br>This usually means there's a typo in your chart specification. See the javascript console for the full traceback.`));\n",
       "    }\n",
       "\n",
       "    if(typeof define === \"function\" && define.amd) {\n",
       "      requirejs.config({paths});\n",
       "      let deps = [\"vega-embed\"];\n",
       "      require(deps, displayChart, err => showError(`Error loading script: ${err.message}`));\n",
       "    } else {\n",
       "      maybeLoadScript(\"vega\", \"5\")\n",
       "        .then(() => maybeLoadScript(\"vega-lite\", \"5.20.1\"))\n",
       "        .then(() => maybeLoadScript(\"vega-embed\", \"6\"))\n",
       "        .catch(showError)\n",
       "        .then(() => displayChart(vegaEmbed));\n",
       "    }\n",
       "  })({\"$schema\": \"https://vega.github.io/schema/vega/v5.json\", \"data\": [{\"name\": \"source_0\", \"values\": [], \"transform\": [{\"type\": \"formula\", \"expr\": \"toDate(datum['time'])\", \"as\": \"time\"}]}, {\"name\": \"source_1\", \"values\": [{\"time\": \"2018-05-13T15:00:00.000\", \"variable\": \"target\", \"value\": -6.966000080108643}, {\"time\": \"2018-05-13T16:00:00.000\", \"variable\": \"target\", \"value\": -4.152999877929688}, {\"time\": \"2018-05-13T17:00:00.000\", \"variable\": \"target\", \"value\": 0.4020000100135803}, {\"time\": \"2018-05-13T18:00:00.000\", \"variable\": \"target\", \"value\": 5.625999927520752}, {\"time\": \"2018-05-13T19:00:00.000\", \"variable\": \"target\", \"value\": 6.966000080108643}, {\"time\": \"2018-05-13T20:00:00.000\", \"variable\": \"target\", \"value\": 7.568999767303468}, {\"time\": \"2018-05-13T21:00:00.000\", \"variable\": \"target\", \"value\": 9.3100004196167}, {\"time\": \"2018-05-13T22:00:00.000\", \"variable\": \"target\", \"value\": 9.645000457763672}, {\"time\": \"2018-05-13T23:00:00.000\", \"variable\": \"target\", \"value\": 14.53499984741211}, {\"time\": \"2018-05-14T00:00:00.000\", \"variable\": \"target\", \"value\": 13.79800033569336}, {\"time\": \"2018-05-14T01:00:00.000\", \"variable\": \"target\", \"value\": 15.87399959564209}, {\"time\": \"2018-05-14T02:00:00.000\", \"variable\": \"target\", \"value\": 15.538999557495115}, {\"time\": \"2018-05-14T03:00:00.000\", \"variable\": \"target\", \"value\": 14.53499984741211}, {\"time\": \"2018-05-14T04:00:00.000\", \"variable\": \"target\", \"value\": 13.79800033569336}, {\"time\": \"2018-05-14T05:00:00.000\", \"variable\": \"target\", \"value\": 15.338000297546388}, {\"time\": \"2018-05-14T06:00:00.000\", \"variable\": \"target\", \"value\": 13.26200008392334}, {\"time\": \"2018-05-14T07:00:00.000\", \"variable\": \"target\", \"value\": 7.501999855041504}, {\"time\": \"2018-05-14T08:00:00.000\", \"variable\": \"target\", \"value\": 0.4690000116825104}, {\"time\": \"2018-05-14T09:00:00.000\", \"variable\": \"target\", \"value\": -7.0329999923706055}, {\"time\": \"2018-05-14T10:00:00.000\", \"variable\": \"target\", \"value\": -10.583000183105469}, {\"time\": \"2018-05-14T11:00:00.000\", \"variable\": \"target\", \"value\": -10.180999755859377}, {\"time\": \"2018-05-14T12:00:00.000\", \"variable\": \"target\", \"value\": -17.884000778198242}, {\"time\": \"2018-05-14T13:00:00.000\", \"variable\": \"target\", \"value\": -15.20400047302246}, {\"time\": \"2018-05-14T14:00:00.000\", \"variable\": \"target\", \"value\": -10.180999755859377}, {\"time\": \"2018-05-14T15:00:00.000\", \"variable\": \"target\", \"value\": -10.3149995803833}, {\"time\": \"2018-05-14T16:00:00.000\", \"variable\": \"target\", \"value\": -2.4110000133514404}, {\"time\": \"2018-05-14T17:00:00.000\", \"variable\": \"target\", \"value\": 5.357999801635742}, {\"time\": \"2018-05-14T18:00:00.000\", \"variable\": \"target\", \"value\": 6.764999866485598}, {\"time\": \"2018-05-14T19:00:00.000\", \"variable\": \"target\", \"value\": 7.703000068664551}, {\"time\": \"2018-05-14T20:00:00.000\", \"variable\": \"target\", \"value\": 8.305999755859375}, {\"time\": \"2018-05-14T21:00:00.000\", \"variable\": \"target\", \"value\": 9.3100004196167}, {\"time\": \"2018-05-14T22:00:00.000\", \"variable\": \"target\", \"value\": 9.57800006866455}, {\"time\": \"2018-05-14T23:00:00.000\", \"variable\": \"target\", \"value\": 13.395999908447266}, {\"time\": \"2018-05-15T00:00:00.000\", \"variable\": \"target\", \"value\": 12.859999656677244}, {\"time\": \"2018-05-15T01:00:00.000\", \"variable\": \"target\", \"value\": 12.994000434875488}, {\"time\": \"2018-05-15T02:00:00.000\", \"variable\": \"target\", \"value\": 13.395999908447266}, {\"time\": \"2018-05-15T03:00:00.000\", \"variable\": \"target\", \"value\": 13.463000297546388}, {\"time\": \"2018-05-15T04:00:00.000\", \"variable\": \"target\", \"value\": 14.668999671936035}, {\"time\": \"2018-05-15T05:00:00.000\", \"variable\": \"target\", \"value\": 14.668999671936035}, {\"time\": \"2018-05-15T06:00:00.000\", \"variable\": \"target\", \"value\": 14.803000450134276}, {\"time\": \"2018-05-15T07:00:00.000\", \"variable\": \"target\", \"value\": 9.645000457763672}, {\"time\": \"2018-05-15T08:00:00.000\", \"variable\": \"target\", \"value\": 2.477999925613404}, {\"time\": \"2018-05-15T09:00:00.000\", \"variable\": \"target\", \"value\": -6.429999828338622}, {\"time\": \"2018-05-15T10:00:00.000\", \"variable\": \"target\", \"value\": -3.2149999141693115}, {\"time\": \"2018-05-15T11:00:00.000\", \"variable\": \"target\", \"value\": -8.77400016784668}, {\"time\": \"2018-05-15T12:00:00.000\", \"variable\": \"target\", \"value\": -16.208999633789062}, {\"time\": \"2018-05-15T13:00:00.000\", \"variable\": \"target\", \"value\": -12.390999794006348}, {\"time\": \"2018-05-15T14:00:00.000\", \"variable\": \"target\", \"value\": -8.640000343322754}, {\"time\": \"2018-05-15T15:00:00.000\", \"variable\": \"target\", \"value\": -7.501999855041504}, {\"time\": \"2018-05-15T16:00:00.000\", \"variable\": \"target\", \"value\": 0.5360000133514404}, {\"time\": \"2018-05-15T17:00:00.000\", \"variable\": \"target\", \"value\": 3.282000064849853}, {\"time\": \"2018-05-15T18:00:00.000\", \"variable\": \"target\", \"value\": 6.89900016784668}, {\"time\": \"2018-05-15T19:00:00.000\", \"variable\": \"target\", \"value\": 8.305999755859375}, {\"time\": \"2018-05-15T20:00:00.000\", \"variable\": \"target\", \"value\": 9.51099967956543}, {\"time\": \"2018-05-15T21:00:00.000\", \"variable\": \"target\", \"value\": 10.04699993133545}, {\"time\": \"2018-05-15T22:00:00.000\", \"variable\": \"target\", \"value\": 11.119000434875488}, {\"time\": \"2018-05-15T23:00:00.000\", \"variable\": \"target\", \"value\": 16.611000061035153}, {\"time\": \"2018-05-16T00:00:00.000\", \"variable\": \"target\", \"value\": 15.270999908447266}, {\"time\": \"2018-05-16T01:00:00.000\", \"variable\": \"target\", \"value\": 16.343000411987305}, {\"time\": \"2018-05-16T02:00:00.000\", \"variable\": \"target\", \"value\": 14.869999885559082}, {\"time\": \"2018-05-16T03:00:00.000\", \"variable\": \"target\", \"value\": 15.472000122070312}, {\"time\": \"2018-05-16T04:00:00.000\", \"variable\": \"target\", \"value\": 11.38700008392334}, {\"time\": \"2018-05-16T05:00:00.000\", \"variable\": \"target\", \"value\": 16.142000198364258}, {\"time\": \"2018-05-16T06:00:00.000\", \"variable\": \"target\", \"value\": 11.854999542236328}, {\"time\": \"2018-05-16T07:00:00.000\", \"variable\": \"target\", \"value\": 9.779000282287598}, {\"time\": \"2018-05-16T08:00:00.000\", \"variable\": \"target\", \"value\": -0.1340000033378601}, {\"time\": \"2018-05-16T09:00:00.000\", \"variable\": \"target\", \"value\": -4.822999954223633}, {\"time\": \"2018-05-16T10:00:00.000\", \"variable\": \"target\", \"value\": -7.368000030517577}, {\"time\": \"2018-05-16T11:00:00.000\", \"variable\": \"target\", \"value\": -11.45400047302246}, {\"time\": \"2018-05-16T12:00:00.000\", \"variable\": \"target\", \"value\": -14.937000274658203}, {\"time\": \"2018-05-16T13:00:00.000\", \"variable\": \"target\", \"value\": -11.98900032043457}, {\"time\": \"2018-05-16T14:00:00.000\", \"variable\": \"target\", \"value\": -9.3100004196167}], \"transform\": [{\"type\": \"formula\", \"expr\": \"toDate(datum['time'])\", \"as\": \"time\"}]}, {\"name\": \"source_2\", \"values\": [{\"time\": \"2018-05-13T15:00:00.000\", \"variable\": \"prediction\", \"value\": -8.549986042716128}, {\"time\": \"2018-05-13T16:00:00.000\", \"variable\": \"prediction\", \"value\": -5.832532226726764}, {\"time\": \"2018-05-13T17:00:00.000\", \"variable\": \"prediction\", \"value\": -0.8139177824409497}, {\"time\": \"2018-05-13T18:00:00.000\", \"variable\": \"prediction\", \"value\": 0.6451219846731568}, {\"time\": \"2018-05-13T19:00:00.000\", \"variable\": \"prediction\", \"value\": 1.5923763976140917}, {\"time\": \"2018-05-13T20:00:00.000\", \"variable\": \"prediction\", \"value\": 1.893737171884014}, {\"time\": \"2018-05-13T21:00:00.000\", \"variable\": \"prediction\", \"value\": 2.3480755695567757}, {\"time\": \"2018-05-13T22:00:00.000\", \"variable\": \"prediction\", \"value\": 3.6874995848788057}, {\"time\": \"2018-05-13T23:00:00.000\", \"variable\": \"prediction\", \"value\": 6.629732898696265}, {\"time\": \"2018-05-14T00:00:00.000\", \"variable\": \"prediction\", \"value\": 7.423882329275796}, {\"time\": \"2018-05-14T01:00:00.000\", \"variable\": \"prediction\", \"value\": 7.883209208464269}, {\"time\": \"2018-05-14T02:00:00.000\", \"variable\": \"prediction\", \"value\": 8.050922136952872}, {\"time\": \"2018-05-14T03:00:00.000\", \"variable\": \"prediction\", \"value\": 7.280729909457716}, {\"time\": \"2018-05-14T04:00:00.000\", \"variable\": \"prediction\", \"value\": 7.514911346130692}, {\"time\": \"2018-05-14T05:00:00.000\", \"variable\": \"prediction\", \"value\": 7.892865056712797}, {\"time\": \"2018-05-14T06:00:00.000\", \"variable\": \"prediction\", \"value\": 8.13698080462468}, {\"time\": \"2018-05-14T07:00:00.000\", \"variable\": \"prediction\", \"value\": 4.6492394858109645}, {\"time\": \"2018-05-14T08:00:00.000\", \"variable\": \"prediction\", \"value\": 0.9560126415440012}, {\"time\": \"2018-05-14T09:00:00.000\", \"variable\": \"prediction\", \"value\": -5.971392995557902}, {\"time\": \"2018-05-14T10:00:00.000\", \"variable\": \"prediction\", \"value\": -10.487843924755351}, {\"time\": \"2018-05-14T11:00:00.000\", \"variable\": \"prediction\", \"value\": -13.262802698681933}, {\"time\": \"2018-05-14T12:00:00.000\", \"variable\": \"prediction\", \"value\": -16.085225218683462}, {\"time\": \"2018-05-14T13:00:00.000\", \"variable\": \"prediction\", \"value\": -13.281672633948892}, {\"time\": \"2018-05-14T14:00:00.000\", \"variable\": \"prediction\", \"value\": -11.095124684607375}, {\"time\": \"2018-05-14T15:00:00.000\", \"variable\": \"prediction\", \"value\": -9.151537353835835}, {\"time\": \"2018-05-14T16:00:00.000\", \"variable\": \"prediction\", \"value\": -6.434083537846471}, {\"time\": \"2018-05-14T17:00:00.000\", \"variable\": \"prediction\", \"value\": -1.415469093560656}, {\"time\": \"2018-05-14T18:00:00.000\", \"variable\": \"prediction\", \"value\": 0.04357067355345068}, {\"time\": \"2018-05-14T19:00:00.000\", \"variable\": \"prediction\", \"value\": 0.9908250864943855}, {\"time\": \"2018-05-14T20:00:00.000\", \"variable\": \"prediction\", \"value\": 1.2921858607643075}, {\"time\": \"2018-05-14T21:00:00.000\", \"variable\": \"prediction\", \"value\": 1.7465242584370695}, {\"time\": \"2018-05-14T22:00:00.000\", \"variable\": \"prediction\", \"value\": 3.085948273759099}, {\"time\": \"2018-05-14T23:00:00.000\", \"variable\": \"prediction\", \"value\": 6.028181587576558}, {\"time\": \"2018-05-15T00:00:00.000\", \"variable\": \"prediction\", \"value\": 6.82233101815609}, {\"time\": \"2018-05-15T01:00:00.000\", \"variable\": \"prediction\", \"value\": 7.281657897344562}, {\"time\": \"2018-05-15T02:00:00.000\", \"variable\": \"prediction\", \"value\": 7.449370825833166}, {\"time\": \"2018-05-15T03:00:00.000\", \"variable\": \"prediction\", \"value\": 6.6791785983380105}, {\"time\": \"2018-05-15T04:00:00.000\", \"variable\": \"prediction\", \"value\": 6.913360035010985}, {\"time\": \"2018-05-15T05:00:00.000\", \"variable\": \"prediction\", \"value\": 7.291313745593091}, {\"time\": \"2018-05-15T06:00:00.000\", \"variable\": \"prediction\", \"value\": 7.535429493504973}, {\"time\": \"2018-05-15T07:00:00.000\", \"variable\": \"prediction\", \"value\": 4.047688174691258}, {\"time\": \"2018-05-15T08:00:00.000\", \"variable\": \"prediction\", \"value\": 0.35446133042429495}, {\"time\": \"2018-05-15T09:00:00.000\", \"variable\": \"prediction\", \"value\": -6.572944306677607}, {\"time\": \"2018-05-15T10:00:00.000\", \"variable\": \"prediction\", \"value\": -11.089395235875058}, {\"time\": \"2018-05-15T11:00:00.000\", \"variable\": \"prediction\", \"value\": -13.864354009801637}, {\"time\": \"2018-05-15T12:00:00.000\", \"variable\": \"prediction\", \"value\": -16.68677652980317}, {\"time\": \"2018-05-15T13:00:00.000\", \"variable\": \"prediction\", \"value\": -13.883223945068599}, {\"time\": \"2018-05-15T14:00:00.000\", \"variable\": \"prediction\", \"value\": -11.69667599572708}, {\"time\": \"2018-05-15T15:00:00.000\", \"variable\": \"prediction\", \"value\": -9.753088664955541}, {\"time\": \"2018-05-15T16:00:00.000\", \"variable\": \"prediction\", \"value\": -7.035634848966177}, {\"time\": \"2018-05-15T17:00:00.000\", \"variable\": \"prediction\", \"value\": -2.0170204046803626}, {\"time\": \"2018-05-15T18:00:00.000\", \"variable\": \"prediction\", \"value\": -0.5579806375662557}, {\"time\": \"2018-05-15T19:00:00.000\", \"variable\": \"prediction\", \"value\": 0.3892737753746791}, {\"time\": \"2018-05-15T20:00:00.000\", \"variable\": \"prediction\", \"value\": 0.6906345496446014}, {\"time\": \"2018-05-15T21:00:00.000\", \"variable\": \"prediction\", \"value\": 1.144972947317363}, {\"time\": \"2018-05-15T22:00:00.000\", \"variable\": \"prediction\", \"value\": 2.484396962639393}, {\"time\": \"2018-05-15T23:00:00.000\", \"variable\": \"prediction\", \"value\": 5.4266302764568515}, {\"time\": \"2018-05-16T00:00:00.000\", \"variable\": \"prediction\", \"value\": 6.2207797070363835}, {\"time\": \"2018-05-16T01:00:00.000\", \"variable\": \"prediction\", \"value\": 6.680106586224856}, {\"time\": \"2018-05-16T02:00:00.000\", \"variable\": \"prediction\", \"value\": 6.84781951471346}, {\"time\": \"2018-05-16T03:00:00.000\", \"variable\": \"prediction\", \"value\": 6.077627287218304}, {\"time\": \"2018-05-16T04:00:00.000\", \"variable\": \"prediction\", \"value\": 6.3118087238912794}, {\"time\": \"2018-05-16T05:00:00.000\", \"variable\": \"prediction\", \"value\": 6.689762434473384}, {\"time\": \"2018-05-16T06:00:00.000\", \"variable\": \"prediction\", \"value\": 6.933878182385266}, {\"time\": \"2018-05-16T07:00:00.000\", \"variable\": \"prediction\", \"value\": 3.446136863571552}, {\"time\": \"2018-05-16T08:00:00.000\", \"variable\": \"prediction\", \"value\": -0.24708998069541144}, {\"time\": \"2018-05-16T09:00:00.000\", \"variable\": \"prediction\", \"value\": -7.174495617797314}, {\"time\": \"2018-05-16T10:00:00.000\", \"variable\": \"prediction\", \"value\": -11.690946546994764}, {\"time\": \"2018-05-16T11:00:00.000\", \"variable\": \"prediction\", \"value\": -14.465905320921344}, {\"time\": \"2018-05-16T12:00:00.000\", \"variable\": \"prediction\", \"value\": -17.288327840922875}, {\"time\": \"2018-05-16T13:00:00.000\", \"variable\": \"prediction\", \"value\": -14.484775256188305}, {\"time\": \"2018-05-16T14:00:00.000\", \"variable\": \"prediction\", \"value\": -12.298227306846787}], \"transform\": [{\"type\": \"formula\", \"expr\": \"toDate(datum['time'])\", \"as\": \"time\"}]}, {\"name\": \"source_0_color_domain_variable_0\", \"values\": []}, {\"name\": \"source_1_color_domain_variable_1\", \"values\": [{\"variable\": \"target\"}]}, {\"name\": \"source_2_color_domain_variable_2\", \"values\": [{\"variable\": \"prediction\"}]}], \"marks\": [{\"type\": \"group\", \"name\": \"layer_0_pathgroup\", \"from\": {\"facet\": {\"data\": \"source_0\", \"name\": \"faceted_path_layer_0_main\", \"groupby\": [\"variable\"]}}, \"encode\": {\"update\": {\"height\": {\"field\": {\"signal\": null, \"datum\": null, \"group\": \"height\", \"parent\": null}}, \"width\": {\"field\": {\"signal\": null, \"datum\": null, \"group\": \"width\", \"parent\": null}}}}, \"marks\": [{\"type\": \"line\", \"name\": \"layer_0_marks\", \"from\": {\"data\": \"faceted_path_layer_0_main\"}, \"sort\": {\"field\": \"x\"}, \"encode\": {\"update\": {\"stroke\": {\"field\": \"variable\", \"scale\": \"color\"}, \"x\": {\"field\": \"time\", \"scale\": \"x\"}, \"y\": {\"field\": \"value\", \"scale\": \"y\"}, \"defined\": {\"signal\": \"isValid(datum[\\\"time\\\"]) && isFinite(+datum[\\\"time\\\"]) && isValid(datum[\\\"value\\\"]) && isFinite(+datum[\\\"value\\\"])\"}}}, \"style\": [\"line\"]}]}, {\"type\": \"group\", \"name\": \"layer_1_pathgroup\", \"from\": {\"facet\": {\"data\": \"source_1\", \"name\": \"faceted_path_layer_1_main\", \"groupby\": [\"variable\"]}}, \"encode\": {\"update\": {\"height\": {\"field\": {\"signal\": null, \"datum\": null, \"group\": \"height\", \"parent\": null}}, \"width\": {\"field\": {\"signal\": null, \"datum\": null, \"group\": \"width\", \"parent\": null}}}}, \"marks\": [{\"type\": \"line\", \"name\": \"layer_1_marks\", \"from\": {\"data\": \"faceted_path_layer_1_main\"}, \"sort\": {\"field\": \"x\"}, \"encode\": {\"update\": {\"y\": {\"field\": \"value\", \"scale\": \"y\"}, \"x\": {\"field\": \"time\", \"scale\": \"x\"}, \"stroke\": {\"field\": \"variable\", \"scale\": \"color\"}, \"defined\": {\"signal\": \"isValid(datum[\\\"time\\\"]) && isFinite(+datum[\\\"time\\\"]) && isValid(datum[\\\"value\\\"]) && isFinite(+datum[\\\"value\\\"])\"}}}, \"style\": [\"line\"]}]}, {\"type\": \"group\", \"name\": \"layer_2_pathgroup\", \"from\": {\"facet\": {\"data\": \"source_2\", \"name\": \"faceted_path_layer_2_main\", \"groupby\": [\"variable\"]}}, \"encode\": {\"update\": {\"height\": {\"field\": {\"signal\": null, \"datum\": null, \"group\": \"height\", \"parent\": null}}, \"width\": {\"field\": {\"signal\": null, \"datum\": null, \"group\": \"width\", \"parent\": null}}}}, \"marks\": [{\"type\": \"line\", \"name\": \"layer_2_marks\", \"from\": {\"data\": \"faceted_path_layer_2_main\"}, \"sort\": {\"field\": \"x\"}, \"encode\": {\"update\": {\"opacity\": {\"value\": 0.7}, \"defined\": {\"signal\": \"isValid(datum[\\\"time\\\"]) && isFinite(+datum[\\\"time\\\"]) && isValid(datum[\\\"value\\\"]) && isFinite(+datum[\\\"value\\\"])\"}, \"x\": {\"field\": \"time\", \"scale\": \"x\"}, \"y\": {\"field\": \"value\", \"scale\": \"y\"}, \"strokeDash\": {\"value\": [5, 2]}, \"stroke\": {\"field\": \"variable\", \"scale\": \"color\"}}}, \"style\": [\"line\"]}]}], \"scales\": [{\"name\": \"x\", \"type\": \"time\", \"domain\": {\"fields\": [{\"data\": \"source_0\", \"field\": \"time\"}, {\"data\": \"source_1\", \"field\": \"time\"}, {\"data\": \"source_2\", \"field\": \"time\"}]}, \"range\": [0, {\"signal\": \"width\"}]}, {\"name\": \"y\", \"type\": \"linear\", \"domain\": {\"fields\": [{\"data\": \"source_0\", \"field\": \"value\"}, {\"data\": \"source_1\", \"field\": \"value\"}, {\"data\": \"source_2\", \"field\": \"value\"}]}, \"range\": [{\"signal\": \"height\"}, 0], \"zero\": true, \"nice\": true}, {\"name\": \"color\", \"type\": \"ordinal\", \"domain\": {\"fields\": [{\"data\": \"source_0_color_domain_variable_0\", \"field\": \"variable\"}, {\"data\": \"source_1_color_domain_variable_1\", \"field\": \"variable\"}, {\"data\": \"source_2_color_domain_variable_2\", \"field\": \"variable\"}], \"sort\": true}, \"range\": \"category\"}], \"axes\": [{\"scale\": \"x\", \"labels\": false, \"maxExtent\": 0, \"minExtent\": 0, \"ticks\": false, \"aria\": false, \"tickCount\": {\"signal\": \"ceil(width/40)\"}, \"orient\": \"bottom\", \"gridScale\": \"y\", \"grid\": true, \"domain\": false, \"zindex\": 0}, {\"scale\": \"y\", \"grid\": true, \"ticks\": false, \"labels\": false, \"tickCount\": {\"signal\": \"ceil(height/40)\"}, \"domain\": false, \"maxExtent\": 0, \"gridScale\": \"x\", \"aria\": false, \"minExtent\": 0, \"zindex\": 0, \"orient\": \"left\"}, {\"scale\": \"x\", \"labelFlush\": true, \"labelOverlap\": true, \"title\": \"time\", \"grid\": false, \"tickCount\": {\"signal\": \"ceil(width/40)\"}, \"orient\": \"bottom\", \"zindex\": 0}, {\"scale\": \"y\", \"title\": \"value\", \"orient\": \"left\", \"labelOverlap\": true, \"grid\": false, \"zindex\": 0, \"tickCount\": {\"signal\": \"ceil(height/40)\"}}], \"height\": 200, \"background\": \"white\", \"legends\": [{\"stroke\": \"color\", \"symbolType\": \"stroke\", \"title\": \"variable\", \"encode\": {\"symbols\": {\"update\": {\"opacity\": {\"value\": 0.7}}}}}], \"padding\": 5, \"style\": \"cell\", \"width\": 600}, {\"mode\": \"vega\"});\n",
       "</script>"
      ],
      "text/plain": [
       "alt.LayerChart(...)"
      ]
     },
     "execution_count": 24,
     "metadata": {},
     "output_type": "execute_result"
    }
   ],
   "source": [
    "(on.Plot()\n",
    "    .add(on.marks.line, input)\n",
    "    .add(on.marks.line, target)\n",
    "    .add(on.marks.line, prediction, type='dashed')\n",
    "    .properties(width=600, height=200)\n",
    "    .show()\n",
    ")"
   ]
  }
 ],
 "metadata": {
  "kernelspec": {
   "display_name": "ontime-2OQVvbNf-py3.10",
   "language": "python",
   "name": "python3"
  },
  "language_info": {
   "codemirror_mode": {
    "name": "ipython",
    "version": 3
   },
   "file_extension": ".py",
   "mimetype": "text/x-python",
   "name": "python",
   "nbconvert_exporter": "python",
   "pygments_lexer": "ipython3",
   "version": "3.10.12"
  }
 },
 "nbformat": 4,
 "nbformat_minor": 5
}
