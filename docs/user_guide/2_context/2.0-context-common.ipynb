{
 "cells": [
  {
   "cell_type": "markdown",
   "id": "9f94ac2b-bc8a-4757-affb-6e570a024804",
   "metadata": {
    "papermill": {
     "duration": 0.010945,
     "end_time": "2024-01-31T17:49:30.316989",
     "exception": false,
     "start_time": "2024-01-31T17:49:30.306044",
     "status": "completed"
    },
    "tags": []
   },
   "source": [
    "# Context - Common"
   ]
  },
  {
   "cell_type": "code",
   "execution_count": 1,
   "id": "54e70524-472a-49e4-bca9-32e57a1c4313",
   "metadata": {
    "papermill": {
     "duration": 0.0152,
     "end_time": "2024-01-31T17:49:30.338208",
     "exception": false,
     "start_time": "2024-01-31T17:49:30.323008",
     "status": "completed"
    },
    "tags": []
   },
   "outputs": [],
   "source": [
    "# Import to be able to import python package from src\n",
    "import sys\n",
    "sys.path.insert(0, '../src')"
   ]
  },
  {
   "cell_type": "code",
   "execution_count": 2,
   "id": "70a32352-80c9-40b7-8f68-1aeecfc52658",
   "metadata": {
    "papermill": {
     "duration": 0.81624,
     "end_time": "2024-01-31T17:49:31.158710",
     "exception": false,
     "start_time": "2024-01-31T17:49:30.342470",
     "status": "completed"
    },
    "tags": []
   },
   "outputs": [],
   "source": [
    "import pandas as pd\n",
    "from darts.datasets import EnergyDataset"
   ]
  },
  {
   "cell_type": "code",
   "execution_count": 3,
   "id": "24fa5881-61b9-4ca0-9987-a6945136a29d",
   "metadata": {
    "papermill": {
     "duration": 1.667916,
     "end_time": "2024-01-31T17:49:32.829305",
     "exception": false,
     "start_time": "2024-01-31T17:49:31.161389",
     "status": "completed"
    },
    "tags": []
   },
   "outputs": [],
   "source": [
    "import ontime as on"
   ]
  },
  {
   "cell_type": "markdown",
   "id": "43dac0e6-ae1e-4bbd-8537-2f2ed1262c76",
   "metadata": {
    "papermill": {
     "duration": 0.002677,
     "end_time": "2024-01-31T17:49:32.834704",
     "exception": false,
     "start_time": "2024-01-31T17:49:32.832027",
     "status": "completed"
    },
    "tags": []
   },
   "source": [
    "---"
   ]
  },
  {
   "cell_type": "markdown",
   "id": "520ed047-e840-4bc3-8b0e-32c1a9e0fda3",
   "metadata": {
    "papermill": {
     "duration": 0.002852,
     "end_time": "2024-01-31T17:49:32.840031",
     "exception": false,
     "start_time": "2024-01-31T17:49:32.837179",
     "status": "completed"
    },
    "tags": []
   },
   "source": [
    "## Load data"
   ]
  },
  {
   "cell_type": "code",
   "execution_count": 4,
   "id": "e75060cc-c514-4210-b359-585f4f51e873",
   "metadata": {
    "papermill": {
     "duration": 0.067229,
     "end_time": "2024-01-31T17:49:32.909753",
     "exception": false,
     "start_time": "2024-01-31T17:49:32.842524",
     "status": "completed"
    },
    "tags": []
   },
   "outputs": [],
   "source": [
    "ts = EnergyDataset().load()"
   ]
  },
  {
   "cell_type": "markdown",
   "id": "e766b6d8-985a-44ae-9d52-a74ee7511561",
   "metadata": {
    "papermill": {
     "duration": 0.002575,
     "end_time": "2024-01-31T17:49:32.914975",
     "exception": false,
     "start_time": "2024-01-31T17:49:32.912400",
     "status": "completed"
    },
    "tags": []
   },
   "source": [
    "## Process the data"
   ]
  },
  {
   "cell_type": "code",
   "execution_count": 5,
   "id": "4d355f16-5c6d-477a-802c-9b1dbf3718f0",
   "metadata": {
    "papermill": {
     "duration": 0.017244,
     "end_time": "2024-01-31T17:49:32.934705",
     "exception": false,
     "start_time": "2024-01-31T17:49:32.917461",
     "status": "completed"
    },
    "tags": []
   },
   "outputs": [],
   "source": [
    "df = ts.pd_dataframe()\n",
    "df = df.interpolate()\n",
    "cols = ['generation biomass', 'generation solar', 'generation nuclear']\n",
    "df = df[cols]"
   ]
  },
  {
   "cell_type": "code",
   "execution_count": 6,
   "id": "c1cca8db-e15f-4e40-936b-8ef18e7a63c3",
   "metadata": {
    "papermill": {
     "duration": 0.007233,
     "end_time": "2024-01-31T17:49:32.944582",
     "exception": false,
     "start_time": "2024-01-31T17:49:32.937349",
     "status": "completed"
    },
    "tags": []
   },
   "outputs": [],
   "source": [
    "ts = on.TimeSeries.from_dataframe(df)"
   ]
  },
  {
   "cell_type": "code",
   "execution_count": 7,
   "id": "ebe23c8b-82ca-4ba4-aba7-969ee926e802",
   "metadata": {
    "papermill": {
     "duration": 0.008626,
     "end_time": "2024-01-31T17:49:32.955685",
     "exception": false,
     "start_time": "2024-01-31T17:49:32.947059",
     "status": "completed"
    },
    "tags": []
   },
   "outputs": [],
   "source": [
    "ts_uni = ts['generation solar'].slice(pd.Timestamp('2015'), pd.Timestamp('2016'))\n",
    "ts_multi = ts.slice(pd.Timestamp('2015'), pd.Timestamp('2016'))"
   ]
  },
  {
   "cell_type": "code",
   "execution_count": 8,
   "id": "7732e3a2-753a-4f3c-aa92-766e8fc70adc",
   "metadata": {
    "papermill": {
     "duration": 0.006671,
     "end_time": "2024-01-31T17:49:32.964882",
     "exception": false,
     "start_time": "2024-01-31T17:49:32.958211",
     "status": "completed"
    },
    "tags": []
   },
   "outputs": [],
   "source": [
    "train, test = ts_uni.split_after(pd.Timestamp('2015-09-01'))"
   ]
  },
  {
   "cell_type": "markdown",
   "id": "5c019c12-aa28-411b-9048-f8561d1197dd",
   "metadata": {
    "papermill": {
     "duration": 0.002561,
     "end_time": "2024-01-31T17:49:32.969906",
     "exception": false,
     "start_time": "2024-01-31T17:49:32.967345",
     "status": "completed"
    },
    "tags": []
   },
   "source": [
    "---"
   ]
  },
  {
   "cell_type": "markdown",
   "id": "c4291fa8-9369-4388-9150-bbe552a5f576",
   "metadata": {},
   "source": [
    "## Load Common Context"
   ]
  },
  {
   "cell_type": "code",
   "execution_count": 9,
   "id": "54d07f6a-c1c1-45dc-91f4-8c92f1f89ed8",
   "metadata": {
    "papermill": {
     "duration": 0.00526,
     "end_time": "2024-01-31T17:49:32.982822",
     "exception": false,
     "start_time": "2024-01-31T17:49:32.977562",
     "status": "completed"
    },
    "tags": []
   },
   "outputs": [],
   "source": [
    "from ontime.context import common"
   ]
  },
  {
   "cell_type": "markdown",
   "id": "0850a3ae-ce2a-4e8f-98d0-dfad92bc5c72",
   "metadata": {
    "papermill": {
     "duration": 0.002557,
     "end_time": "2024-01-31T17:49:32.987865",
     "exception": false,
     "start_time": "2024-01-31T17:49:32.985308",
     "status": "completed"
    },
    "tags": []
   },
   "source": [
    "## Profiler"
   ]
  },
  {
   "cell_type": "code",
   "execution_count": 10,
   "id": "38a123fd-37cb-4206-b0dc-fb8ecd597b46",
   "metadata": {
    "papermill": {
     "duration": 0.005225,
     "end_time": "2024-01-31T17:49:32.995589",
     "exception": false,
     "start_time": "2024-01-31T17:49:32.990364",
     "status": "completed"
    },
    "tags": []
   },
   "outputs": [],
   "source": [
    "profiler = common.Profiler()"
   ]
  },
  {
   "cell_type": "markdown",
   "id": "7706081d-0a79-410e-ae65-480de017c194",
   "metadata": {
    "papermill": {
     "duration": 0.002824,
     "end_time": "2024-01-31T17:49:33.000945",
     "exception": false,
     "start_time": "2024-01-31T17:49:32.998121",
     "status": "completed"
    },
    "tags": []
   },
   "source": [
    "### Daily Aggregation"
   ]
  },
  {
   "cell_type": "code",
   "execution_count": 16,
   "id": "9e34e371-9d34-41e8-8145-116c6bc463d3",
   "metadata": {
    "papermill": {
     "duration": 0.676033,
     "end_time": "2024-01-31T17:49:33.679564",
     "exception": false,
     "start_time": "2024-01-31T17:49:33.003531",
     "status": "completed"
    },
    "tags": []
   },
   "outputs": [],
   "source": [
    "day_mean = profiler.profile(ts_uni, profiler.Period.DAILY, profiler.Aggregation.MEAN).rename({\"value\": \"day_mean\"})\n",
    "day_median = profiler.profile(ts_uni, profiler.Period.DAILY, profiler.Aggregation.MEDIAN).rename({\"value\": \"day_median\"})"
   ]
  },
  {
   "cell_type": "code",
   "execution_count": 17,
   "id": "78d1b019",
   "metadata": {},
   "outputs": [
    {
     "data": {
      "text/html": [
       "\n",
       "<style>\n",
       "  #altair-viz-ffdec8a7977c4850ab755760e11aa683.vega-embed {\n",
       "    width: 100%;\n",
       "    display: flex;\n",
       "  }\n",
       "\n",
       "  #altair-viz-ffdec8a7977c4850ab755760e11aa683.vega-embed details,\n",
       "  #altair-viz-ffdec8a7977c4850ab755760e11aa683.vega-embed details summary {\n",
       "    position: relative;\n",
       "  }\n",
       "</style>\n",
       "<div id=\"altair-viz-ffdec8a7977c4850ab755760e11aa683\"></div>\n",
       "<script type=\"text/javascript\">\n",
       "  var VEGA_DEBUG = (typeof VEGA_DEBUG == \"undefined\") ? {} : VEGA_DEBUG;\n",
       "  (function(spec, embedOpt){\n",
       "    let outputDiv = document.currentScript.previousElementSibling;\n",
       "    if (outputDiv.id !== \"altair-viz-ffdec8a7977c4850ab755760e11aa683\") {\n",
       "      outputDiv = document.getElementById(\"altair-viz-ffdec8a7977c4850ab755760e11aa683\");\n",
       "    }\n",
       "\n",
       "    const paths = {\n",
       "      \"vega\": \"https://cdn.jsdelivr.net/npm/vega@5?noext\",\n",
       "      \"vega-lib\": \"https://cdn.jsdelivr.net/npm/vega-lib?noext\",\n",
       "      \"vega-lite\": \"https://cdn.jsdelivr.net/npm/vega-lite@5.20.1?noext\",\n",
       "      \"vega-embed\": \"https://cdn.jsdelivr.net/npm/vega-embed@6?noext\",\n",
       "    };\n",
       "\n",
       "    function maybeLoadScript(lib, version) {\n",
       "      var key = `${lib.replace(\"-\", \"\")}_version`;\n",
       "      return (VEGA_DEBUG[key] == version) ?\n",
       "        Promise.resolve(paths[lib]) :\n",
       "        new Promise(function(resolve, reject) {\n",
       "          var s = document.createElement('script');\n",
       "          document.getElementsByTagName(\"head\")[0].appendChild(s);\n",
       "          s.async = true;\n",
       "          s.onload = () => {\n",
       "            VEGA_DEBUG[key] = version;\n",
       "            return resolve(paths[lib]);\n",
       "          };\n",
       "          s.onerror = () => reject(`Error loading script: ${paths[lib]}`);\n",
       "          s.src = paths[lib];\n",
       "        });\n",
       "    }\n",
       "\n",
       "    function showError(err) {\n",
       "      outputDiv.innerHTML = `<div class=\"error\" style=\"color:red;\">${err}</div>`;\n",
       "      throw err;\n",
       "    }\n",
       "\n",
       "    function displayChart(vegaEmbed) {\n",
       "      vegaEmbed(outputDiv, spec, embedOpt)\n",
       "        .catch(err => showError(`Javascript Error: ${err.message}<br>This usually means there's a typo in your chart specification. See the javascript console for the full traceback.`));\n",
       "    }\n",
       "\n",
       "    if(typeof define === \"function\" && define.amd) {\n",
       "      requirejs.config({paths});\n",
       "      let deps = [\"vega-embed\"];\n",
       "      require(deps, displayChart, err => showError(`Error loading script: ${err.message}`));\n",
       "    } else {\n",
       "      maybeLoadScript(\"vega\", \"5\")\n",
       "        .then(() => maybeLoadScript(\"vega-lite\", \"5.20.1\"))\n",
       "        .then(() => maybeLoadScript(\"vega-embed\", \"6\"))\n",
       "        .catch(showError)\n",
       "        .then(() => displayChart(vegaEmbed));\n",
       "    }\n",
       "  })({\"$schema\": \"https://vega.github.io/schema/vega/v5.json\", \"data\": [{\"name\": \"source_0\", \"values\": [{\"time\": \"2015-01-01T00:00:00.000\", \"variable\": \"day_mean\", \"value\": 246.25409836065575}, {\"time\": \"2015-01-01T01:00:00.000\", \"variable\": \"day_mean\", \"value\": 221.65479452054794}, {\"time\": \"2015-01-01T02:00:00.000\", \"variable\": \"day_mean\", \"value\": 198.44383561643835}, {\"time\": \"2015-01-01T03:00:00.000\", \"variable\": \"day_mean\", \"value\": 174.75616438356164}, {\"time\": \"2015-01-01T04:00:00.000\", \"variable\": \"day_mean\", \"value\": 136.73698630136985}, {\"time\": \"2015-01-01T05:00:00.000\", \"variable\": \"day_mean\", \"value\": 137.14246575342466}, {\"time\": \"2015-01-01T06:00:00.000\", \"variable\": \"day_mean\", \"value\": 360.6054794520548}, {\"time\": \"2015-01-01T07:00:00.000\", \"variable\": \"day_mean\", \"value\": 1099.3287671232877}, {\"time\": \"2015-01-01T08:00:00.000\", \"variable\": \"day_mean\", \"value\": 2137.8698630136987}, {\"time\": \"2015-01-01T09:00:00.000\", \"variable\": \"day_mean\", \"value\": 2998.104109589041}, {\"time\": \"2015-01-01T10:00:00.000\", \"variable\": \"day_mean\", \"value\": 3526.0109589041094}, {\"time\": \"2015-01-01T11:00:00.000\", \"variable\": \"day_mean\", \"value\": 3759.6536203522505}, {\"time\": \"2015-01-01T12:00:00.000\", \"variable\": \"day_mean\", \"value\": 3790.418199608611}, {\"time\": \"2015-01-01T13:00:00.000\", \"variable\": \"day_mean\", \"value\": 3684.062230919765}, {\"time\": \"2015-01-01T14:00:00.000\", \"variable\": \"day_mean\", \"value\": 3409.8172211350293}, {\"time\": \"2015-01-01T15:00:00.000\", \"variable\": \"day_mean\", \"value\": 2902.5201565557727}, {\"time\": \"2015-01-01T16:00:00.000\", \"variable\": \"day_mean\", \"value\": 2188.2861056751467}, {\"time\": \"2015-01-01T17:00:00.000\", \"variable\": \"day_mean\", \"value\": 1459.8794520547945}, {\"time\": \"2015-01-01T18:00:00.000\", \"variable\": \"day_mean\", \"value\": 851.7776255707762}, {\"time\": \"2015-01-01T19:00:00.000\", \"variable\": \"day_mean\", \"value\": 478.41552511415523}, {\"time\": \"2015-01-01T20:00:00.000\", \"variable\": \"day_mean\", \"value\": 352.93698630136987}, {\"time\": \"2015-01-01T21:00:00.000\", \"variable\": \"day_mean\", \"value\": 317.63287671232877}, {\"time\": \"2015-01-01T22:00:00.000\", \"variable\": \"day_mean\", \"value\": 283.613698630137}, {\"time\": \"2015-01-01T23:00:00.000\", \"variable\": \"day_mean\", \"value\": 269.372602739726}], \"transform\": [{\"type\": \"formula\", \"expr\": \"toDate(datum['time'])\", \"as\": \"time\"}]}, {\"name\": \"source_1\", \"values\": [{\"time\": \"2015-01-01T00:00:00.000\", \"variable\": \"day_median\", \"value\": 91.0}, {\"time\": \"2015-01-01T01:00:00.000\", \"variable\": \"day_median\", \"value\": 74.0}, {\"time\": \"2015-01-01T02:00:00.000\", \"variable\": \"day_median\", \"value\": 68.0}, {\"time\": \"2015-01-01T03:00:00.000\", \"variable\": \"day_median\", \"value\": 62.0}, {\"time\": \"2015-01-01T04:00:00.000\", \"variable\": \"day_median\", \"value\": 60.0}, {\"time\": \"2015-01-01T05:00:00.000\", \"variable\": \"day_median\", \"value\": 64.0}, {\"time\": \"2015-01-01T06:00:00.000\", \"variable\": \"day_median\", \"value\": 171.0}, {\"time\": \"2015-01-01T07:00:00.000\", \"variable\": \"day_median\", \"value\": 849.0}, {\"time\": \"2015-01-01T08:00:00.000\", \"variable\": \"day_median\", \"value\": 1833.0}, {\"time\": \"2015-01-01T09:00:00.000\", \"variable\": \"day_median\", \"value\": 2918.0}, {\"time\": \"2015-01-01T10:00:00.000\", \"variable\": \"day_median\", \"value\": 3644.0}, {\"time\": \"2015-01-01T11:00:00.000\", \"variable\": \"day_median\", \"value\": 3934.0}, {\"time\": \"2015-01-01T12:00:00.000\", \"variable\": \"day_median\", \"value\": 3973.0}, {\"time\": \"2015-01-01T13:00:00.000\", \"variable\": \"day_median\", \"value\": 3883.0}, {\"time\": \"2015-01-01T14:00:00.000\", \"variable\": \"day_median\", \"value\": 3619.0}, {\"time\": \"2015-01-01T15:00:00.000\", \"variable\": \"day_median\", \"value\": 3051.0}, {\"time\": \"2015-01-01T16:00:00.000\", \"variable\": \"day_median\", \"value\": 2131.0}, {\"time\": \"2015-01-01T17:00:00.000\", \"variable\": \"day_median\", \"value\": 1060.0}, {\"time\": \"2015-01-01T18:00:00.000\", \"variable\": \"day_median\", \"value\": 515.0}, {\"time\": \"2015-01-01T19:00:00.000\", \"variable\": \"day_median\", \"value\": 350.0}, {\"time\": \"2015-01-01T20:00:00.000\", \"variable\": \"day_median\", \"value\": 252.0}, {\"time\": \"2015-01-01T21:00:00.000\", \"variable\": \"day_median\", \"value\": 189.0}, {\"time\": \"2015-01-01T22:00:00.000\", \"variable\": \"day_median\", \"value\": 131.0}, {\"time\": \"2015-01-01T23:00:00.000\", \"variable\": \"day_median\", \"value\": 107.0}], \"transform\": [{\"type\": \"formula\", \"expr\": \"toDate(datum['time'])\", \"as\": \"time\"}]}, {\"name\": \"source_0_color_domain_variable_0\", \"values\": [{\"variable\": \"day_mean\"}]}, {\"name\": \"source_1_color_domain_variable_1\", \"values\": [{\"variable\": \"day_median\"}]}], \"marks\": [{\"type\": \"group\", \"name\": \"layer_0_pathgroup\", \"from\": {\"facet\": {\"data\": \"source_0\", \"name\": \"faceted_path_layer_0_main\", \"groupby\": [\"variable\"]}}, \"encode\": {\"update\": {\"height\": {\"field\": {\"signal\": null, \"datum\": null, \"group\": \"height\", \"parent\": null}}, \"width\": {\"field\": {\"signal\": null, \"datum\": null, \"group\": \"width\", \"parent\": null}}}}, \"marks\": [{\"type\": \"line\", \"name\": \"layer_0_marks\", \"from\": {\"data\": \"faceted_path_layer_0_main\"}, \"sort\": {\"field\": \"x\"}, \"encode\": {\"update\": {\"stroke\": {\"field\": \"variable\", \"scale\": \"color\"}, \"y\": {\"field\": \"value\", \"scale\": \"y\"}, \"x\": {\"field\": \"time\", \"scale\": \"x\"}, \"defined\": {\"signal\": \"isValid(datum[\\\"time\\\"]) && isFinite(+datum[\\\"time\\\"]) && isValid(datum[\\\"value\\\"]) && isFinite(+datum[\\\"value\\\"])\"}}}, \"style\": [\"line\"]}]}, {\"type\": \"group\", \"name\": \"layer_1_pathgroup\", \"from\": {\"facet\": {\"data\": \"source_1\", \"name\": \"faceted_path_layer_1_main\", \"groupby\": [\"variable\"]}}, \"encode\": {\"update\": {\"width\": {\"field\": {\"signal\": null, \"datum\": null, \"group\": \"width\", \"parent\": null}}, \"height\": {\"field\": {\"signal\": null, \"datum\": null, \"group\": \"height\", \"parent\": null}}}}, \"marks\": [{\"type\": \"line\", \"name\": \"layer_1_marks\", \"from\": {\"data\": \"faceted_path_layer_1_main\"}, \"sort\": {\"field\": \"x\"}, \"encode\": {\"update\": {\"x\": {\"field\": \"time\", \"scale\": \"x\"}, \"stroke\": {\"field\": \"variable\", \"scale\": \"color\"}, \"y\": {\"field\": \"value\", \"scale\": \"y\"}, \"defined\": {\"signal\": \"isValid(datum[\\\"time\\\"]) && isFinite(+datum[\\\"time\\\"]) && isValid(datum[\\\"value\\\"]) && isFinite(+datum[\\\"value\\\"])\"}}}, \"style\": [\"line\"]}]}], \"scales\": [{\"name\": \"x\", \"type\": \"time\", \"domain\": {\"fields\": [{\"data\": \"source_0\", \"field\": \"time\"}, {\"data\": \"source_1\", \"field\": \"time\"}]}, \"range\": [0, {\"signal\": \"width\"}]}, {\"name\": \"y\", \"type\": \"linear\", \"domain\": {\"fields\": [{\"data\": \"source_0\", \"field\": \"value\"}, {\"data\": \"source_1\", \"field\": \"value\"}]}, \"range\": [{\"signal\": \"height\"}, 0], \"zero\": true, \"nice\": true}, {\"name\": \"color\", \"type\": \"ordinal\", \"domain\": {\"fields\": [{\"data\": \"source_0_color_domain_variable_0\", \"field\": \"variable\"}, {\"data\": \"source_1_color_domain_variable_1\", \"field\": \"variable\"}], \"sort\": true}, \"range\": \"category\"}], \"axes\": [{\"scale\": \"x\", \"zindex\": 0, \"tickCount\": {\"signal\": \"ceil(width/40)\"}, \"maxExtent\": 0, \"domain\": false, \"orient\": \"bottom\", \"aria\": false, \"minExtent\": 0, \"gridScale\": \"y\", \"grid\": true, \"labels\": false, \"ticks\": false}, {\"scale\": \"y\", \"maxExtent\": 0, \"grid\": true, \"ticks\": false, \"zindex\": 0, \"orient\": \"left\", \"gridScale\": \"x\", \"minExtent\": 0, \"aria\": false, \"domain\": false, \"labels\": false, \"tickCount\": {\"signal\": \"ceil(height/40)\"}}, {\"scale\": \"x\", \"grid\": false, \"orient\": \"bottom\", \"labelFlush\": true, \"labelOverlap\": true, \"title\": \"time\", \"tickCount\": {\"signal\": \"ceil(width/40)\"}, \"zindex\": 0}, {\"scale\": \"y\", \"tickCount\": {\"signal\": \"ceil(height/40)\"}, \"zindex\": 0, \"grid\": false, \"orient\": \"left\", \"title\": \"value\", \"labelOverlap\": true}], \"height\": 300, \"legends\": [{\"stroke\": \"color\", \"symbolType\": \"stroke\", \"title\": \"variable\"}], \"width\": 300, \"background\": \"white\", \"padding\": 5, \"style\": \"cell\"}, {\"mode\": \"vega\"});\n",
       "</script>"
      ],
      "text/plain": [
       "alt.LayerChart(...)"
      ]
     },
     "execution_count": 17,
     "metadata": {},
     "output_type": "execute_result"
    }
   ],
   "source": [
    "(\n",
    "    on.Plot()\n",
    "    .add(on.marks.line, day_mean)\n",
    "    .add(on.marks.line, day_median)\n",
    "    .show()\n",
    ")"
   ]
  },
  {
   "cell_type": "markdown",
   "id": "628fc1ce-1631-4844-bd51-649fff52a5e8",
   "metadata": {
    "papermill": {
     "duration": 0.003129,
     "end_time": "2024-01-31T17:49:33.907021",
     "exception": false,
     "start_time": "2024-01-31T17:49:33.903892",
     "status": "completed"
    },
    "tags": []
   },
   "source": [
    "### Weekly Aggregation"
   ]
  },
  {
   "cell_type": "code",
   "execution_count": 18,
   "id": "e26c11bc-e46d-45ab-aab6-4e80c4288ca0",
   "metadata": {
    "papermill": {
     "duration": 0.175229,
     "end_time": "2024-01-31T17:49:34.090137",
     "exception": false,
     "start_time": "2024-01-31T17:49:33.914908",
     "status": "completed"
    },
    "tags": []
   },
   "outputs": [],
   "source": [
    "week_mean = profiler.profile(ts_uni, profiler.Period.WEEKLY, profiler.Aggregation.MEAN).rename({\"value\": \"week_mean\"})\n",
    "week_median = profiler.profile(ts_uni, profiler.Period.WEEKLY, profiler.Aggregation.MEDIAN).rename({\"value\": \"week_median\"})"
   ]
  },
  {
   "cell_type": "code",
   "execution_count": 19,
   "id": "4409d4ee-aca9-4bae-b1d1-03283554bbbe",
   "metadata": {
    "papermill": {
     "duration": 0.136351,
     "end_time": "2024-01-31T17:49:34.229322",
     "exception": false,
     "start_time": "2024-01-31T17:49:34.092971",
     "status": "completed"
    },
    "tags": []
   },
   "outputs": [
    {
     "data": {
      "text/html": [
       "\n",
       "<style>\n",
       "  #altair-viz-3521972a7b5d468ca51bae91b7813ab8.vega-embed {\n",
       "    width: 100%;\n",
       "    display: flex;\n",
       "  }\n",
       "\n",
       "  #altair-viz-3521972a7b5d468ca51bae91b7813ab8.vega-embed details,\n",
       "  #altair-viz-3521972a7b5d468ca51bae91b7813ab8.vega-embed details summary {\n",
       "    position: relative;\n",
       "  }\n",
       "</style>\n",
       "<div id=\"altair-viz-3521972a7b5d468ca51bae91b7813ab8\"></div>\n",
       "<script type=\"text/javascript\">\n",
       "  var VEGA_DEBUG = (typeof VEGA_DEBUG == \"undefined\") ? {} : VEGA_DEBUG;\n",
       "  (function(spec, embedOpt){\n",
       "    let outputDiv = document.currentScript.previousElementSibling;\n",
       "    if (outputDiv.id !== \"altair-viz-3521972a7b5d468ca51bae91b7813ab8\") {\n",
       "      outputDiv = document.getElementById(\"altair-viz-3521972a7b5d468ca51bae91b7813ab8\");\n",
       "    }\n",
       "\n",
       "    const paths = {\n",
       "      \"vega\": \"https://cdn.jsdelivr.net/npm/vega@5?noext\",\n",
       "      \"vega-lib\": \"https://cdn.jsdelivr.net/npm/vega-lib?noext\",\n",
       "      \"vega-lite\": \"https://cdn.jsdelivr.net/npm/vega-lite@5.20.1?noext\",\n",
       "      \"vega-embed\": \"https://cdn.jsdelivr.net/npm/vega-embed@6?noext\",\n",
       "    };\n",
       "\n",
       "    function maybeLoadScript(lib, version) {\n",
       "      var key = `${lib.replace(\"-\", \"\")}_version`;\n",
       "      return (VEGA_DEBUG[key] == version) ?\n",
       "        Promise.resolve(paths[lib]) :\n",
       "        new Promise(function(resolve, reject) {\n",
       "          var s = document.createElement('script');\n",
       "          document.getElementsByTagName(\"head\")[0].appendChild(s);\n",
       "          s.async = true;\n",
       "          s.onload = () => {\n",
       "            VEGA_DEBUG[key] = version;\n",
       "            return resolve(paths[lib]);\n",
       "          };\n",
       "          s.onerror = () => reject(`Error loading script: ${paths[lib]}`);\n",
       "          s.src = paths[lib];\n",
       "        });\n",
       "    }\n",
       "\n",
       "    function showError(err) {\n",
       "      outputDiv.innerHTML = `<div class=\"error\" style=\"color:red;\">${err}</div>`;\n",
       "      throw err;\n",
       "    }\n",
       "\n",
       "    function displayChart(vegaEmbed) {\n",
       "      vegaEmbed(outputDiv, spec, embedOpt)\n",
       "        .catch(err => showError(`Javascript Error: ${err.message}<br>This usually means there's a typo in your chart specification. See the javascript console for the full traceback.`));\n",
       "    }\n",
       "\n",
       "    if(typeof define === \"function\" && define.amd) {\n",
       "      requirejs.config({paths});\n",
       "      let deps = [\"vega-embed\"];\n",
       "      require(deps, displayChart, err => showError(`Error loading script: ${err.message}`));\n",
       "    } else {\n",
       "      maybeLoadScript(\"vega\", \"5\")\n",
       "        .then(() => maybeLoadScript(\"vega-lite\", \"5.20.1\"))\n",
       "        .then(() => maybeLoadScript(\"vega-embed\", \"6\"))\n",
       "        .catch(showError)\n",
       "        .then(() => displayChart(vegaEmbed));\n",
       "    }\n",
       "  })({\"$schema\": \"https://vega.github.io/schema/vega/v5.json\", \"data\": [{\"name\": \"source_0\", \"values\": [{\"time\": \"2015-01-01T00:00:00.000\", \"variable\": \"week_mean\", \"value\": 231.22641509433961}, {\"time\": \"2015-01-01T01:00:00.000\", \"variable\": \"week_mean\", \"value\": 202.22641509433961}, {\"time\": \"2015-01-01T02:00:00.000\", \"variable\": \"week_mean\", \"value\": 172.88679245283018}, {\"time\": \"2015-01-01T03:00:00.000\", \"variable\": \"week_mean\", \"value\": 148.8679245283019}, {\"time\": \"2015-01-01T04:00:00.000\", \"variable\": \"week_mean\", \"value\": 117.58490566037736}, {\"time\": \"2015-01-01T05:00:00.000\", \"variable\": \"week_mean\", \"value\": 130.43396226415095}, {\"time\": \"2015-01-01T06:00:00.000\", \"variable\": \"week_mean\", \"value\": 357.1320754716981}, {\"time\": \"2015-01-01T07:00:00.000\", \"variable\": \"week_mean\", \"value\": 1111.754716981132}, {\"time\": \"2015-01-01T08:00:00.000\", \"variable\": \"week_mean\", \"value\": 2179.2830188679245}, {\"time\": \"2015-01-01T09:00:00.000\", \"variable\": \"week_mean\", \"value\": 3121.0754716981132}, {\"time\": \"2015-01-01T10:00:00.000\", \"variable\": \"week_mean\", \"value\": 3646.245283018868}, {\"time\": \"2015-01-01T11:00:00.000\", \"variable\": \"week_mean\", \"value\": 3879.0}, {\"time\": \"2015-01-01T12:00:00.000\", \"variable\": \"week_mean\", \"value\": 3898.603773584906}, {\"time\": \"2015-01-01T13:00:00.000\", \"variable\": \"week_mean\", \"value\": 3802.735849056604}, {\"time\": \"2015-01-01T14:00:00.000\", \"variable\": \"week_mean\", \"value\": 3521.8867924528304}, {\"time\": \"2015-01-01T15:00:00.000\", \"variable\": \"week_mean\", \"value\": 2994.735849056604}, {\"time\": \"2015-01-01T16:00:00.000\", \"variable\": \"week_mean\", \"value\": 2224.7169811320755}, {\"time\": \"2015-01-01T17:00:00.000\", \"variable\": \"week_mean\", \"value\": 1437.0566037735848}, {\"time\": \"2015-01-01T18:00:00.000\", \"variable\": \"week_mean\", \"value\": 821.9622641509434}, {\"time\": \"2015-01-01T19:00:00.000\", \"variable\": \"week_mean\", \"value\": 464.811320754717}, {\"time\": \"2015-01-01T20:00:00.000\", \"variable\": \"week_mean\", \"value\": 346.66037735849056}, {\"time\": \"2015-01-01T21:00:00.000\", \"variable\": \"week_mean\", \"value\": 313.9622641509434}, {\"time\": \"2015-01-01T22:00:00.000\", \"variable\": \"week_mean\", \"value\": 274.92452830188677}, {\"time\": \"2015-01-01T23:00:00.000\", \"variable\": \"week_mean\", \"value\": 254.43396226415095}, {\"time\": \"2015-01-02T00:00:00.000\", \"variable\": \"week_mean\", \"value\": 232.0188679245283}, {\"time\": \"2015-01-02T01:00:00.000\", \"variable\": \"week_mean\", \"value\": 209.19230769230768}, {\"time\": \"2015-01-02T02:00:00.000\", \"variable\": \"week_mean\", \"value\": 187.19230769230768}, {\"time\": \"2015-01-02T03:00:00.000\", \"variable\": \"week_mean\", \"value\": 162.48076923076923}, {\"time\": \"2015-01-02T04:00:00.000\", \"variable\": \"week_mean\", \"value\": 129.1153846153846}, {\"time\": \"2015-01-02T05:00:00.000\", \"variable\": \"week_mean\", \"value\": 133.69230769230768}, {\"time\": \"2015-01-02T06:00:00.000\", \"variable\": \"week_mean\", \"value\": 363.1923076923077}, {\"time\": \"2015-01-02T07:00:00.000\", \"variable\": \"week_mean\", \"value\": 1132.4807692307693}, {\"time\": \"2015-01-02T08:00:00.000\", \"variable\": \"week_mean\", \"value\": 2203.480769230769}, {\"time\": \"2015-01-02T09:00:00.000\", \"variable\": \"week_mean\", \"value\": 3056.8846153846152}, {\"time\": \"2015-01-02T10:00:00.000\", \"variable\": \"week_mean\", \"value\": 3621.596153846154}, {\"time\": \"2015-01-02T11:00:00.000\", \"variable\": \"week_mean\", \"value\": 3887.576923076923}, {\"time\": \"2015-01-02T12:00:00.000\", \"variable\": \"week_mean\", \"value\": 3928.8076923076924}, {\"time\": \"2015-01-02T13:00:00.000\", \"variable\": \"week_mean\", \"value\": 3813.230769230769}, {\"time\": \"2015-01-02T14:00:00.000\", \"variable\": \"week_mean\", \"value\": 3530.25}, {\"time\": \"2015-01-02T15:00:00.000\", \"variable\": \"week_mean\", \"value\": 2971.173076923077}, {\"time\": \"2015-01-02T16:00:00.000\", \"variable\": \"week_mean\", \"value\": 2219.8076923076924}, {\"time\": \"2015-01-02T17:00:00.000\", \"variable\": \"week_mean\", \"value\": 1454.3653846153845}, {\"time\": \"2015-01-02T18:00:00.000\", \"variable\": \"week_mean\", \"value\": 860.0961538461538}, {\"time\": \"2015-01-02T19:00:00.000\", \"variable\": \"week_mean\", \"value\": 489.25}, {\"time\": \"2015-01-02T20:00:00.000\", \"variable\": \"week_mean\", \"value\": 361.36538461538464}, {\"time\": \"2015-01-02T21:00:00.000\", \"variable\": \"week_mean\", \"value\": 321.36538461538464}, {\"time\": \"2015-01-02T22:00:00.000\", \"variable\": \"week_mean\", \"value\": 267.63461538461536}, {\"time\": \"2015-01-02T23:00:00.000\", \"variable\": \"week_mean\", \"value\": 248.84615384615384}, {\"time\": \"2015-01-03T00:00:00.000\", \"variable\": \"week_mean\", \"value\": 225.6346153846154}, {\"time\": \"2015-01-03T01:00:00.000\", \"variable\": \"week_mean\", \"value\": 206.80769230769232}, {\"time\": \"2015-01-03T02:00:00.000\", \"variable\": \"week_mean\", \"value\": 193.03846153846155}, {\"time\": \"2015-01-03T03:00:00.000\", \"variable\": \"week_mean\", \"value\": 174.26923076923077}, {\"time\": \"2015-01-03T04:00:00.000\", \"variable\": \"week_mean\", \"value\": 139.75}, {\"time\": \"2015-01-03T05:00:00.000\", \"variable\": \"week_mean\", \"value\": 139.15384615384616}, {\"time\": \"2015-01-03T06:00:00.000\", \"variable\": \"week_mean\", \"value\": 364.40384615384613}, {\"time\": \"2015-01-03T07:00:00.000\", \"variable\": \"week_mean\", \"value\": 1107.8653846153845}, {\"time\": \"2015-01-03T08:00:00.000\", \"variable\": \"week_mean\", \"value\": 2153.903846153846}, {\"time\": \"2015-01-03T09:00:00.000\", \"variable\": \"week_mean\", \"value\": 3011.903846153846}, {\"time\": \"2015-01-03T10:00:00.000\", \"variable\": \"week_mean\", \"value\": 3517.7884615384614}, {\"time\": \"2015-01-03T11:00:00.000\", \"variable\": \"week_mean\", \"value\": 3761.230769230769}, {\"time\": \"2015-01-03T12:00:00.000\", \"variable\": \"week_mean\", \"value\": 3810.346153846154}, {\"time\": \"2015-01-03T13:00:00.000\", \"variable\": \"week_mean\", \"value\": 3694.7884615384614}, {\"time\": \"2015-01-03T14:00:00.000\", \"variable\": \"week_mean\", \"value\": 3406.403846153846}, {\"time\": \"2015-01-03T15:00:00.000\", \"variable\": \"week_mean\", \"value\": 2882.6923076923076}, {\"time\": \"2015-01-03T16:00:00.000\", \"variable\": \"week_mean\", \"value\": 2178.096153846154}, {\"time\": \"2015-01-03T17:00:00.000\", \"variable\": \"week_mean\", \"value\": 1473.6538461538462}, {\"time\": \"2015-01-03T18:00:00.000\", \"variable\": \"week_mean\", \"value\": 871.8653846153846}, {\"time\": \"2015-01-03T19:00:00.000\", \"variable\": \"week_mean\", \"value\": 505.40384615384613}, {\"time\": \"2015-01-03T20:00:00.000\", \"variable\": \"week_mean\", \"value\": 363.0192307692308}, {\"time\": \"2015-01-03T21:00:00.000\", \"variable\": \"week_mean\", \"value\": 320.4423076923077}, {\"time\": \"2015-01-03T22:00:00.000\", \"variable\": \"week_mean\", \"value\": 292.59615384615387}, {\"time\": \"2015-01-03T23:00:00.000\", \"variable\": \"week_mean\", \"value\": 264.03846153846155}, {\"time\": \"2015-01-04T00:00:00.000\", \"variable\": \"week_mean\", \"value\": 245.0}, {\"time\": \"2015-01-04T01:00:00.000\", \"variable\": \"week_mean\", \"value\": 222.42307692307693}, {\"time\": \"2015-01-04T02:00:00.000\", \"variable\": \"week_mean\", \"value\": 202.8653846153846}, {\"time\": \"2015-01-04T03:00:00.000\", \"variable\": \"week_mean\", \"value\": 176.48076923076923}, {\"time\": \"2015-01-04T04:00:00.000\", \"variable\": \"week_mean\", \"value\": 132.6346153846154}, {\"time\": \"2015-01-04T05:00:00.000\", \"variable\": \"week_mean\", \"value\": 126.76923076923077}, {\"time\": \"2015-01-04T06:00:00.000\", \"variable\": \"week_mean\", \"value\": 352.8076923076923}, {\"time\": \"2015-01-04T07:00:00.000\", \"variable\": \"week_mean\", \"value\": 1078.8076923076924}, {\"time\": \"2015-01-04T08:00:00.000\", \"variable\": \"week_mean\", \"value\": 2101.326923076923}, {\"time\": \"2015-01-04T09:00:00.000\", \"variable\": \"week_mean\", \"value\": 2975.0576923076924}, {\"time\": \"2015-01-04T10:00:00.000\", \"variable\": \"week_mean\", \"value\": 3476.596153846154}, {\"time\": \"2015-01-04T11:00:00.000\", \"variable\": \"week_mean\", \"value\": 3695.7884615384614}, {\"time\": \"2015-01-04T12:00:00.000\", \"variable\": \"week_mean\", \"value\": 3703.2884615384614}, {\"time\": \"2015-01-04T13:00:00.000\", \"variable\": \"week_mean\", \"value\": 3561.9615384615386}, {\"time\": \"2015-01-04T14:00:00.000\", \"variable\": \"week_mean\", \"value\": 3253.3076923076924}, {\"time\": \"2015-01-04T15:00:00.000\", \"variable\": \"week_mean\", \"value\": 2768.076923076923}, {\"time\": \"2015-01-04T16:00:00.000\", \"variable\": \"week_mean\", \"value\": 2069.9423076923076}, {\"time\": \"2015-01-04T17:00:00.000\", \"variable\": \"week_mean\", \"value\": 1390.0384615384614}, {\"time\": \"2015-01-04T18:00:00.000\", \"variable\": \"week_mean\", \"value\": 827.0961538461538}, {\"time\": \"2015-01-04T19:00:00.000\", \"variable\": \"week_mean\", \"value\": 460.46153846153845}, {\"time\": \"2015-01-04T20:00:00.000\", \"variable\": \"week_mean\", \"value\": 334.86538461538464}, {\"time\": \"2015-01-04T21:00:00.000\", \"variable\": \"week_mean\", \"value\": 303.3076923076923}, {\"time\": \"2015-01-04T22:00:00.000\", \"variable\": \"week_mean\", \"value\": 324.4423076923077}, {\"time\": \"2015-01-04T23:00:00.000\", \"variable\": \"week_mean\", \"value\": 313.0192307692308}, {\"time\": \"2015-01-05T00:00:00.000\", \"variable\": \"week_mean\", \"value\": 270.38461538461536}, {\"time\": \"2015-01-05T01:00:00.000\", \"variable\": \"week_mean\", \"value\": 234.1346153846154}, {\"time\": \"2015-01-05T02:00:00.000\", \"variable\": \"week_mean\", \"value\": 206.65384615384616}, {\"time\": \"2015-01-05T03:00:00.000\", \"variable\": \"week_mean\", \"value\": 188.42307692307693}, {\"time\": \"2015-01-05T04:00:00.000\", \"variable\": \"week_mean\", \"value\": 152.5}, {\"time\": \"2015-01-05T05:00:00.000\", \"variable\": \"week_mean\", \"value\": 153.1153846153846}, {\"time\": \"2015-01-05T06:00:00.000\", \"variable\": \"week_mean\", \"value\": 380.9807692307692}, {\"time\": \"2015-01-05T07:00:00.000\", \"variable\": \"week_mean\", \"value\": 1110.4038461538462}, {\"time\": \"2015-01-05T08:00:00.000\", \"variable\": \"week_mean\", \"value\": 2127.096153846154}, {\"time\": \"2015-01-05T09:00:00.000\", \"variable\": \"week_mean\", \"value\": 2951.75}, {\"time\": \"2015-01-05T10:00:00.000\", \"variable\": \"week_mean\", \"value\": 3466.596153846154}, {\"time\": \"2015-01-05T11:00:00.000\", \"variable\": \"week_mean\", \"value\": 3661.2994505494503}, {\"time\": \"2015-01-05T12:00:00.000\", \"variable\": \"week_mean\", \"value\": 3671.521978021978}, {\"time\": \"2015-01-05T13:00:00.000\", \"variable\": \"week_mean\", \"value\": 3580.129120879121}, {\"time\": \"2015-01-05T14:00:00.000\", \"variable\": \"week_mean\", \"value\": 3363.1593406593406}, {\"time\": \"2015-01-05T15:00:00.000\", \"variable\": \"week_mean\", \"value\": 2933.1703296703295}, {\"time\": \"2015-01-05T16:00:00.000\", \"variable\": \"week_mean\", \"value\": 2299.815934065934}, {\"time\": \"2015-01-05T17:00:00.000\", \"variable\": \"week_mean\", \"value\": 1598.423076923077}, {\"time\": \"2015-01-05T18:00:00.000\", \"variable\": \"week_mean\", \"value\": 935.7371794871796}, {\"time\": \"2015-01-05T19:00:00.000\", \"variable\": \"week_mean\", \"value\": 523.3589743589744}, {\"time\": \"2015-01-05T20:00:00.000\", \"variable\": \"week_mean\", \"value\": 381.6923076923077}, {\"time\": \"2015-01-05T21:00:00.000\", \"variable\": \"week_mean\", \"value\": 346.28846153846155}, {\"time\": \"2015-01-05T22:00:00.000\", \"variable\": \"week_mean\", \"value\": 276.8076923076923}, {\"time\": \"2015-01-05T23:00:00.000\", \"variable\": \"week_mean\", \"value\": 255.21153846153845}, {\"time\": \"2015-01-06T00:00:00.000\", \"variable\": \"week_mean\", \"value\": 238.80769230769232}, {\"time\": \"2015-01-06T01:00:00.000\", \"variable\": \"week_mean\", \"value\": 215.84615384615384}, {\"time\": \"2015-01-06T02:00:00.000\", \"variable\": \"week_mean\", \"value\": 191.71153846153845}, {\"time\": \"2015-01-06T03:00:00.000\", \"variable\": \"week_mean\", \"value\": 164.46153846153845}, {\"time\": \"2015-01-06T04:00:00.000\", \"variable\": \"week_mean\", \"value\": 128.82692307692307}, {\"time\": \"2015-01-06T05:00:00.000\", \"variable\": \"week_mean\", \"value\": 130.8846153846154}, {\"time\": \"2015-01-06T06:00:00.000\", \"variable\": \"week_mean\", \"value\": 340.3076923076923}, {\"time\": \"2015-01-06T07:00:00.000\", \"variable\": \"week_mean\", \"value\": 1055.9807692307693}, {\"time\": \"2015-01-06T08:00:00.000\", \"variable\": \"week_mean\", \"value\": 2086.4615384615386}, {\"time\": \"2015-01-06T09:00:00.000\", \"variable\": \"week_mean\", \"value\": 2925.769230769231}, {\"time\": \"2015-01-06T10:00:00.000\", \"variable\": \"week_mean\", \"value\": 3463.980769230769}, {\"time\": \"2015-01-06T11:00:00.000\", \"variable\": \"week_mean\", \"value\": 3702.25}, {\"time\": \"2015-01-06T12:00:00.000\", \"variable\": \"week_mean\", \"value\": 3741.4615384615386}, {\"time\": \"2015-01-06T13:00:00.000\", \"variable\": \"week_mean\", \"value\": 3629.1153846153848}, {\"time\": \"2015-01-06T14:00:00.000\", \"variable\": \"week_mean\", \"value\": 3348.0576923076924}, {\"time\": \"2015-01-06T15:00:00.000\", \"variable\": \"week_mean\", \"value\": 2821.7884615384614}, {\"time\": \"2015-01-06T16:00:00.000\", \"variable\": \"week_mean\", \"value\": 2115.6346153846152}, {\"time\": \"2015-01-06T17:00:00.000\", \"variable\": \"week_mean\", \"value\": 1396.826923076923}, {\"time\": \"2015-01-06T18:00:00.000\", \"variable\": \"week_mean\", \"value\": 778.4903846153846}, {\"time\": \"2015-01-06T19:00:00.000\", \"variable\": \"week_mean\", \"value\": 428.4423076923077}, {\"time\": \"2015-01-06T20:00:00.000\", \"variable\": \"week_mean\", \"value\": 329.53846153846155}, {\"time\": \"2015-01-06T21:00:00.000\", \"variable\": \"week_mean\", \"value\": 302.34615384615387}, {\"time\": \"2015-01-06T22:00:00.000\", \"variable\": \"week_mean\", \"value\": 278.5576923076923}, {\"time\": \"2015-01-06T23:00:00.000\", \"variable\": \"week_mean\", \"value\": 294.0192307692308}, {\"time\": \"2015-01-07T00:00:00.000\", \"variable\": \"week_mean\", \"value\": 281.2692307692308}, {\"time\": \"2015-01-07T01:00:00.000\", \"variable\": \"week_mean\", \"value\": 261.3269230769231}, {\"time\": \"2015-01-07T02:00:00.000\", \"variable\": \"week_mean\", \"value\": 235.25}, {\"time\": \"2015-01-07T03:00:00.000\", \"variable\": \"week_mean\", \"value\": 208.80769230769232}, {\"time\": \"2015-01-07T04:00:00.000\", \"variable\": \"week_mean\", \"value\": 157.1153846153846}, {\"time\": \"2015-01-07T05:00:00.000\", \"variable\": \"week_mean\", \"value\": 146.07692307692307}, {\"time\": \"2015-01-07T06:00:00.000\", \"variable\": \"week_mean\", \"value\": 365.4807692307692}, {\"time\": \"2015-01-07T07:00:00.000\", \"variable\": \"week_mean\", \"value\": 1097.7692307692307}, {\"time\": \"2015-01-07T08:00:00.000\", \"variable\": \"week_mean\", \"value\": 2112.7403846153848}, {\"time\": \"2015-01-07T09:00:00.000\", \"variable\": \"week_mean\", \"value\": 2941.923076923077}, {\"time\": \"2015-01-07T10:00:00.000\", \"variable\": \"week_mean\", \"value\": 3486.9615384615386}, {\"time\": \"2015-01-07T11:00:00.000\", \"variable\": \"week_mean\", \"value\": 3728.1346153846152}, {\"time\": \"2015-01-07T12:00:00.000\", \"variable\": \"week_mean\", \"value\": 3776.8173076923076}, {\"time\": \"2015-01-07T13:00:00.000\", \"variable\": \"week_mean\", \"value\": 3704.1923076923076}, {\"time\": \"2015-01-07T14:00:00.000\", \"variable\": \"week_mean\", \"value\": 3443.5}, {\"time\": \"2015-01-07T15:00:00.000\", \"variable\": \"week_mean\", \"value\": 2944.230769230769}, {\"time\": \"2015-01-07T16:00:00.000\", \"variable\": \"week_mean\", \"value\": 2209.2884615384614}, {\"time\": \"2015-01-07T17:00:00.000\", \"variable\": \"week_mean\", \"value\": 1469.2307692307693}, {\"time\": \"2015-01-07T18:00:00.000\", \"variable\": \"week_mean\", \"value\": 867.7692307692307}, {\"time\": \"2015-01-07T19:00:00.000\", \"variable\": \"week_mean\", \"value\": 477.4423076923077}, {\"time\": \"2015-01-07T20:00:00.000\", \"variable\": \"week_mean\", \"value\": 353.53846153846155}, {\"time\": \"2015-01-07T21:00:00.000\", \"variable\": \"week_mean\", \"value\": 315.78846153846155}, {\"time\": \"2015-01-07T22:00:00.000\", \"variable\": \"week_mean\", \"value\": 270.5}, {\"time\": \"2015-01-07T23:00:00.000\", \"variable\": \"week_mean\", \"value\": 256.3269230769231}], \"transform\": [{\"type\": \"formula\", \"expr\": \"toDate(datum['time'])\", \"as\": \"time\"}]}, {\"name\": \"source_1\", \"values\": [{\"time\": \"2015-01-01T00:00:00.000\", \"variable\": \"week_median\", \"value\": 70.0}, {\"time\": \"2015-01-01T01:00:00.000\", \"variable\": \"week_median\", \"value\": 62.0}, {\"time\": \"2015-01-01T02:00:00.000\", \"variable\": \"week_median\", \"value\": 61.0}, {\"time\": \"2015-01-01T03:00:00.000\", \"variable\": \"week_median\", \"value\": 53.0}, {\"time\": \"2015-01-01T04:00:00.000\", \"variable\": \"week_median\", \"value\": 53.0}, {\"time\": \"2015-01-01T05:00:00.000\", \"variable\": \"week_median\", \"value\": 59.0}, {\"time\": \"2015-01-01T06:00:00.000\", \"variable\": \"week_median\", \"value\": 171.0}, {\"time\": \"2015-01-01T07:00:00.000\", \"variable\": \"week_median\", \"value\": 805.0}, {\"time\": \"2015-01-01T08:00:00.000\", \"variable\": \"week_median\", \"value\": 1983.0}, {\"time\": \"2015-01-01T09:00:00.000\", \"variable\": \"week_median\", \"value\": 3399.0}, {\"time\": \"2015-01-01T10:00:00.000\", \"variable\": \"week_median\", \"value\": 4069.0}, {\"time\": \"2015-01-01T11:00:00.000\", \"variable\": \"week_median\", \"value\": 4168.0}, {\"time\": \"2015-01-01T12:00:00.000\", \"variable\": \"week_median\", \"value\": 4098.0}, {\"time\": \"2015-01-01T13:00:00.000\", \"variable\": \"week_median\", \"value\": 4175.0}, {\"time\": \"2015-01-01T14:00:00.000\", \"variable\": \"week_median\", \"value\": 3818.0}, {\"time\": \"2015-01-01T15:00:00.000\", \"variable\": \"week_median\", \"value\": 3191.0}, {\"time\": \"2015-01-01T16:00:00.000\", \"variable\": \"week_median\", \"value\": 2069.0}, {\"time\": \"2015-01-01T17:00:00.000\", \"variable\": \"week_median\", \"value\": 1090.0}, {\"time\": \"2015-01-01T18:00:00.000\", \"variable\": \"week_median\", \"value\": 469.0}, {\"time\": \"2015-01-01T19:00:00.000\", \"variable\": \"week_median\", \"value\": 328.0}, {\"time\": \"2015-01-01T20:00:00.000\", \"variable\": \"week_median\", \"value\": 268.0}, {\"time\": \"2015-01-01T21:00:00.000\", \"variable\": \"week_median\", \"value\": 193.0}, {\"time\": \"2015-01-01T22:00:00.000\", \"variable\": \"week_median\", \"value\": 88.0}, {\"time\": \"2015-01-01T23:00:00.000\", \"variable\": \"week_median\", \"value\": 85.0}, {\"time\": \"2015-01-02T00:00:00.000\", \"variable\": \"week_median\", \"value\": 76.0}, {\"time\": \"2015-01-02T01:00:00.000\", \"variable\": \"week_median\", \"value\": 62.5}, {\"time\": \"2015-01-02T02:00:00.000\", \"variable\": \"week_median\", \"value\": 60.0}, {\"time\": \"2015-01-02T03:00:00.000\", \"variable\": \"week_median\", \"value\": 61.0}, {\"time\": \"2015-01-02T04:00:00.000\", \"variable\": \"week_median\", \"value\": 59.0}, {\"time\": \"2015-01-02T05:00:00.000\", \"variable\": \"week_median\", \"value\": 67.0}, {\"time\": \"2015-01-02T06:00:00.000\", \"variable\": \"week_median\", \"value\": 162.0}, {\"time\": \"2015-01-02T07:00:00.000\", \"variable\": \"week_median\", \"value\": 824.5}, {\"time\": \"2015-01-02T08:00:00.000\", \"variable\": \"week_median\", \"value\": 1901.0}, {\"time\": \"2015-01-02T09:00:00.000\", \"variable\": \"week_median\", \"value\": 2710.5}, {\"time\": \"2015-01-02T10:00:00.000\", \"variable\": \"week_median\", \"value\": 3585.0}, {\"time\": \"2015-01-02T11:00:00.000\", \"variable\": \"week_median\", \"value\": 4009.5}, {\"time\": \"2015-01-02T12:00:00.000\", \"variable\": \"week_median\", \"value\": 4005.5}, {\"time\": \"2015-01-02T13:00:00.000\", \"variable\": \"week_median\", \"value\": 3889.5}, {\"time\": \"2015-01-02T14:00:00.000\", \"variable\": \"week_median\", \"value\": 3630.5}, {\"time\": \"2015-01-02T15:00:00.000\", \"variable\": \"week_median\", \"value\": 3077.5}, {\"time\": \"2015-01-02T16:00:00.000\", \"variable\": \"week_median\", \"value\": 2198.5}, {\"time\": \"2015-01-02T17:00:00.000\", \"variable\": \"week_median\", \"value\": 1167.0}, {\"time\": \"2015-01-02T18:00:00.000\", \"variable\": \"week_median\", \"value\": 627.5}, {\"time\": \"2015-01-02T19:00:00.000\", \"variable\": \"week_median\", \"value\": 436.5}, {\"time\": \"2015-01-02T20:00:00.000\", \"variable\": \"week_median\", \"value\": 317.0}, {\"time\": \"2015-01-02T21:00:00.000\", \"variable\": \"week_median\", \"value\": 177.0}, {\"time\": \"2015-01-02T22:00:00.000\", \"variable\": \"week_median\", \"value\": 131.5}, {\"time\": \"2015-01-02T23:00:00.000\", \"variable\": \"week_median\", \"value\": 104.0}, {\"time\": \"2015-01-03T00:00:00.000\", \"variable\": \"week_median\", \"value\": 76.0}, {\"time\": \"2015-01-03T01:00:00.000\", \"variable\": \"week_median\", \"value\": 68.5}, {\"time\": \"2015-01-03T02:00:00.000\", \"variable\": \"week_median\", \"value\": 66.5}, {\"time\": \"2015-01-03T03:00:00.000\", \"variable\": \"week_median\", \"value\": 63.0}, {\"time\": \"2015-01-03T04:00:00.000\", \"variable\": \"week_median\", \"value\": 60.5}, {\"time\": \"2015-01-03T05:00:00.000\", \"variable\": \"week_median\", \"value\": 64.5}, {\"time\": \"2015-01-03T06:00:00.000\", \"variable\": \"week_median\", \"value\": 233.5}, {\"time\": \"2015-01-03T07:00:00.000\", \"variable\": \"week_median\", \"value\": 946.0}, {\"time\": \"2015-01-03T08:00:00.000\", \"variable\": \"week_median\", \"value\": 1834.5}, {\"time\": \"2015-01-03T09:00:00.000\", \"variable\": \"week_median\", \"value\": 3003.0}, {\"time\": \"2015-01-03T10:00:00.000\", \"variable\": \"week_median\", \"value\": 3967.5}, {\"time\": \"2015-01-03T11:00:00.000\", \"variable\": \"week_median\", \"value\": 4136.0}, {\"time\": \"2015-01-03T12:00:00.000\", \"variable\": \"week_median\", \"value\": 4098.0}, {\"time\": \"2015-01-03T13:00:00.000\", \"variable\": \"week_median\", \"value\": 3964.0}, {\"time\": \"2015-01-03T14:00:00.000\", \"variable\": \"week_median\", \"value\": 3547.5}, {\"time\": \"2015-01-03T15:00:00.000\", \"variable\": \"week_median\", \"value\": 2825.0}, {\"time\": \"2015-01-03T16:00:00.000\", \"variable\": \"week_median\", \"value\": 2178.5}, {\"time\": \"2015-01-03T17:00:00.000\", \"variable\": \"week_median\", \"value\": 1025.5}, {\"time\": \"2015-01-03T18:00:00.000\", \"variable\": \"week_median\", \"value\": 460.5}, {\"time\": \"2015-01-03T19:00:00.000\", \"variable\": \"week_median\", \"value\": 319.0}, {\"time\": \"2015-01-03T20:00:00.000\", \"variable\": \"week_median\", \"value\": 234.0}, {\"time\": \"2015-01-03T21:00:00.000\", \"variable\": \"week_median\", \"value\": 145.5}, {\"time\": \"2015-01-03T22:00:00.000\", \"variable\": \"week_median\", \"value\": 113.0}, {\"time\": \"2015-01-03T23:00:00.000\", \"variable\": \"week_median\", \"value\": 83.0}, {\"time\": \"2015-01-04T00:00:00.000\", \"variable\": \"week_median\", \"value\": 73.0}, {\"time\": \"2015-01-04T01:00:00.000\", \"variable\": \"week_median\", \"value\": 61.5}, {\"time\": \"2015-01-04T02:00:00.000\", \"variable\": \"week_median\", \"value\": 61.5}, {\"time\": \"2015-01-04T03:00:00.000\", \"variable\": \"week_median\", \"value\": 59.5}, {\"time\": \"2015-01-04T04:00:00.000\", \"variable\": \"week_median\", \"value\": 55.5}, {\"time\": \"2015-01-04T05:00:00.000\", \"variable\": \"week_median\", \"value\": 54.5}, {\"time\": \"2015-01-04T06:00:00.000\", \"variable\": \"week_median\", \"value\": 187.5}, {\"time\": \"2015-01-04T07:00:00.000\", \"variable\": \"week_median\", \"value\": 828.5}, {\"time\": \"2015-01-04T08:00:00.000\", \"variable\": \"week_median\", \"value\": 1969.5}, {\"time\": \"2015-01-04T09:00:00.000\", \"variable\": \"week_median\", \"value\": 3127.5}, {\"time\": \"2015-01-04T10:00:00.000\", \"variable\": \"week_median\", \"value\": 3661.5}, {\"time\": \"2015-01-04T11:00:00.000\", \"variable\": \"week_median\", \"value\": 3905.0}, {\"time\": \"2015-01-04T12:00:00.000\", \"variable\": \"week_median\", \"value\": 3968.5}, {\"time\": \"2015-01-04T13:00:00.000\", \"variable\": \"week_median\", \"value\": 3919.0}, {\"time\": \"2015-01-04T14:00:00.000\", \"variable\": \"week_median\", \"value\": 3633.5}, {\"time\": \"2015-01-04T15:00:00.000\", \"variable\": \"week_median\", \"value\": 2967.5}, {\"time\": \"2015-01-04T16:00:00.000\", \"variable\": \"week_median\", \"value\": 1981.5}, {\"time\": \"2015-01-04T17:00:00.000\", \"variable\": \"week_median\", \"value\": 907.0}, {\"time\": \"2015-01-04T18:00:00.000\", \"variable\": \"week_median\", \"value\": 471.5}, {\"time\": \"2015-01-04T19:00:00.000\", \"variable\": \"week_median\", \"value\": 334.0}, {\"time\": \"2015-01-04T20:00:00.000\", \"variable\": \"week_median\", \"value\": 255.0}, {\"time\": \"2015-01-04T21:00:00.000\", \"variable\": \"week_median\", \"value\": 249.0}, {\"time\": \"2015-01-04T22:00:00.000\", \"variable\": \"week_median\", \"value\": 294.0}, {\"time\": \"2015-01-04T23:00:00.000\", \"variable\": \"week_median\", \"value\": 266.0}, {\"time\": \"2015-01-05T00:00:00.000\", \"variable\": \"week_median\", \"value\": 155.5}, {\"time\": \"2015-01-05T01:00:00.000\", \"variable\": \"week_median\", \"value\": 136.5}, {\"time\": \"2015-01-05T02:00:00.000\", \"variable\": \"week_median\", \"value\": 82.5}, {\"time\": \"2015-01-05T03:00:00.000\", \"variable\": \"week_median\", \"value\": 68.5}, {\"time\": \"2015-01-05T04:00:00.000\", \"variable\": \"week_median\", \"value\": 68.0}, {\"time\": \"2015-01-05T05:00:00.000\", \"variable\": \"week_median\", \"value\": 71.0}, {\"time\": \"2015-01-05T06:00:00.000\", \"variable\": \"week_median\", \"value\": 198.5}, {\"time\": \"2015-01-05T07:00:00.000\", \"variable\": \"week_median\", \"value\": 853.5}, {\"time\": \"2015-01-05T08:00:00.000\", \"variable\": \"week_median\", \"value\": 1715.0}, {\"time\": \"2015-01-05T09:00:00.000\", \"variable\": \"week_median\", \"value\": 2668.5}, {\"time\": \"2015-01-05T10:00:00.000\", \"variable\": \"week_median\", \"value\": 3649.5}, {\"time\": \"2015-01-05T11:00:00.000\", \"variable\": \"week_median\", \"value\": 3986.0}, {\"time\": \"2015-01-05T12:00:00.000\", \"variable\": \"week_median\", \"value\": 3995.5}, {\"time\": \"2015-01-05T13:00:00.000\", \"variable\": \"week_median\", \"value\": 3971.5}, {\"time\": \"2015-01-05T14:00:00.000\", \"variable\": \"week_median\", \"value\": 3741.5}, {\"time\": \"2015-01-05T15:00:00.000\", \"variable\": \"week_median\", \"value\": 3173.0}, {\"time\": \"2015-01-05T16:00:00.000\", \"variable\": \"week_median\", \"value\": 2434.5}, {\"time\": \"2015-01-05T17:00:00.000\", \"variable\": \"week_median\", \"value\": 1560.5}, {\"time\": \"2015-01-05T18:00:00.000\", \"variable\": \"week_median\", \"value\": 777.5}, {\"time\": \"2015-01-05T19:00:00.000\", \"variable\": \"week_median\", \"value\": 481.0}, {\"time\": \"2015-01-05T20:00:00.000\", \"variable\": \"week_median\", \"value\": 388.0}, {\"time\": \"2015-01-05T21:00:00.000\", \"variable\": \"week_median\", \"value\": 281.0}, {\"time\": \"2015-01-05T22:00:00.000\", \"variable\": \"week_median\", \"value\": 132.5}, {\"time\": \"2015-01-05T23:00:00.000\", \"variable\": \"week_median\", \"value\": 114.0}, {\"time\": \"2015-01-06T00:00:00.000\", \"variable\": \"week_median\", \"value\": 98.0}, {\"time\": \"2015-01-06T01:00:00.000\", \"variable\": \"week_median\", \"value\": 82.0}, {\"time\": \"2015-01-06T02:00:00.000\", \"variable\": \"week_median\", \"value\": 70.0}, {\"time\": \"2015-01-06T03:00:00.000\", \"variable\": \"week_median\", \"value\": 60.5}, {\"time\": \"2015-01-06T04:00:00.000\", \"variable\": \"week_median\", \"value\": 51.0}, {\"time\": \"2015-01-06T05:00:00.000\", \"variable\": \"week_median\", \"value\": 63.0}, {\"time\": \"2015-01-06T06:00:00.000\", \"variable\": \"week_median\", \"value\": 180.5}, {\"time\": \"2015-01-06T07:00:00.000\", \"variable\": \"week_median\", \"value\": 939.0}, {\"time\": \"2015-01-06T08:00:00.000\", \"variable\": \"week_median\", \"value\": 1850.5}, {\"time\": \"2015-01-06T09:00:00.000\", \"variable\": \"week_median\", \"value\": 2649.5}, {\"time\": \"2015-01-06T10:00:00.000\", \"variable\": \"week_median\", \"value\": 3502.0}, {\"time\": \"2015-01-06T11:00:00.000\", \"variable\": \"week_median\", \"value\": 3700.5}, {\"time\": \"2015-01-06T12:00:00.000\", \"variable\": \"week_median\", \"value\": 3658.0}, {\"time\": \"2015-01-06T13:00:00.000\", \"variable\": \"week_median\", \"value\": 3606.5}, {\"time\": \"2015-01-06T14:00:00.000\", \"variable\": \"week_median\", \"value\": 3254.5}, {\"time\": \"2015-01-06T15:00:00.000\", \"variable\": \"week_median\", \"value\": 2617.5}, {\"time\": \"2015-01-06T16:00:00.000\", \"variable\": \"week_median\", \"value\": 1837.0}, {\"time\": \"2015-01-06T17:00:00.000\", \"variable\": \"week_median\", \"value\": 1004.0}, {\"time\": \"2015-01-06T18:00:00.000\", \"variable\": \"week_median\", \"value\": 398.75}, {\"time\": \"2015-01-06T19:00:00.000\", \"variable\": \"week_median\", \"value\": 254.5}, {\"time\": \"2015-01-06T20:00:00.000\", \"variable\": \"week_median\", \"value\": 209.5}, {\"time\": \"2015-01-06T21:00:00.000\", \"variable\": \"week_median\", \"value\": 140.0}, {\"time\": \"2015-01-06T22:00:00.000\", \"variable\": \"week_median\", \"value\": 122.0}, {\"time\": \"2015-01-06T23:00:00.000\", \"variable\": \"week_median\", \"value\": 100.5}, {\"time\": \"2015-01-07T00:00:00.000\", \"variable\": \"week_median\", \"value\": 97.0}, {\"time\": \"2015-01-07T01:00:00.000\", \"variable\": \"week_median\", \"value\": 89.0}, {\"time\": \"2015-01-07T02:00:00.000\", \"variable\": \"week_median\", \"value\": 88.5}, {\"time\": \"2015-01-07T03:00:00.000\", \"variable\": \"week_median\", \"value\": 82.0}, {\"time\": \"2015-01-07T04:00:00.000\", \"variable\": \"week_median\", \"value\": 69.0}, {\"time\": \"2015-01-07T05:00:00.000\", \"variable\": \"week_median\", \"value\": 76.5}, {\"time\": \"2015-01-07T06:00:00.000\", \"variable\": \"week_median\", \"value\": 124.5}, {\"time\": \"2015-01-07T07:00:00.000\", \"variable\": \"week_median\", \"value\": 794.0}, {\"time\": \"2015-01-07T08:00:00.000\", \"variable\": \"week_median\", \"value\": 1787.5}, {\"time\": \"2015-01-07T09:00:00.000\", \"variable\": \"week_median\", \"value\": 2891.0}, {\"time\": \"2015-01-07T10:00:00.000\", \"variable\": \"week_median\", \"value\": 3660.5}, {\"time\": \"2015-01-07T11:00:00.000\", \"variable\": \"week_median\", \"value\": 3928.5}, {\"time\": \"2015-01-07T12:00:00.000\", \"variable\": \"week_median\", \"value\": 3900.5}, {\"time\": \"2015-01-07T13:00:00.000\", \"variable\": \"week_median\", \"value\": 3918.5}, {\"time\": \"2015-01-07T14:00:00.000\", \"variable\": \"week_median\", \"value\": 3674.5}, {\"time\": \"2015-01-07T15:00:00.000\", \"variable\": \"week_median\", \"value\": 3123.5}, {\"time\": \"2015-01-07T16:00:00.000\", \"variable\": \"week_median\", \"value\": 2236.5}, {\"time\": \"2015-01-07T17:00:00.000\", \"variable\": \"week_median\", \"value\": 1047.5}, {\"time\": \"2015-01-07T18:00:00.000\", \"variable\": \"week_median\", \"value\": 564.5}, {\"time\": \"2015-01-07T19:00:00.000\", \"variable\": \"week_median\", \"value\": 382.5}, {\"time\": \"2015-01-07T20:00:00.000\", \"variable\": \"week_median\", \"value\": 274.5}, {\"time\": \"2015-01-07T21:00:00.000\", \"variable\": \"week_median\", \"value\": 178.0}, {\"time\": \"2015-01-07T22:00:00.000\", \"variable\": \"week_median\", \"value\": 134.5}, {\"time\": \"2015-01-07T23:00:00.000\", \"variable\": \"week_median\", \"value\": 96.5}], \"transform\": [{\"type\": \"formula\", \"expr\": \"toDate(datum['time'])\", \"as\": \"time\"}]}, {\"name\": \"source_0_color_domain_variable_0\", \"values\": [{\"variable\": \"week_mean\"}]}, {\"name\": \"source_1_color_domain_variable_1\", \"values\": [{\"variable\": \"week_median\"}]}], \"marks\": [{\"type\": \"group\", \"name\": \"layer_0_pathgroup\", \"from\": {\"facet\": {\"data\": \"source_0\", \"name\": \"faceted_path_layer_0_main\", \"groupby\": [\"variable\"]}}, \"encode\": {\"update\": {\"width\": {\"field\": {\"signal\": null, \"datum\": null, \"group\": \"width\", \"parent\": null}}, \"height\": {\"field\": {\"signal\": null, \"datum\": null, \"group\": \"height\", \"parent\": null}}}}, \"marks\": [{\"type\": \"line\", \"name\": \"layer_0_marks\", \"from\": {\"data\": \"faceted_path_layer_0_main\"}, \"sort\": {\"field\": \"x\"}, \"encode\": {\"update\": {\"x\": {\"field\": \"time\", \"scale\": \"x\"}, \"defined\": {\"signal\": \"isValid(datum[\\\"time\\\"]) && isFinite(+datum[\\\"time\\\"]) && isValid(datum[\\\"value\\\"]) && isFinite(+datum[\\\"value\\\"])\"}, \"stroke\": {\"field\": \"variable\", \"scale\": \"color\"}, \"y\": {\"field\": \"value\", \"scale\": \"y\"}}}, \"style\": [\"line\"]}]}, {\"type\": \"group\", \"name\": \"layer_1_pathgroup\", \"from\": {\"facet\": {\"data\": \"source_1\", \"name\": \"faceted_path_layer_1_main\", \"groupby\": [\"variable\"]}}, \"encode\": {\"update\": {\"height\": {\"field\": {\"signal\": null, \"datum\": null, \"group\": \"height\", \"parent\": null}}, \"width\": {\"field\": {\"signal\": null, \"datum\": null, \"group\": \"width\", \"parent\": null}}}}, \"marks\": [{\"type\": \"line\", \"name\": \"layer_1_marks\", \"from\": {\"data\": \"faceted_path_layer_1_main\"}, \"sort\": {\"field\": \"x\"}, \"encode\": {\"update\": {\"defined\": {\"signal\": \"isValid(datum[\\\"time\\\"]) && isFinite(+datum[\\\"time\\\"]) && isValid(datum[\\\"value\\\"]) && isFinite(+datum[\\\"value\\\"])\"}, \"stroke\": {\"field\": \"variable\", \"scale\": \"color\"}, \"x\": {\"field\": \"time\", \"scale\": \"x\"}, \"y\": {\"field\": \"value\", \"scale\": \"y\"}}}, \"style\": [\"line\"]}]}], \"scales\": [{\"name\": \"x\", \"type\": \"time\", \"domain\": {\"fields\": [{\"data\": \"source_0\", \"field\": \"time\"}, {\"data\": \"source_1\", \"field\": \"time\"}]}, \"range\": [0, {\"signal\": \"width\"}]}, {\"name\": \"y\", \"type\": \"linear\", \"domain\": {\"fields\": [{\"data\": \"source_0\", \"field\": \"value\"}, {\"data\": \"source_1\", \"field\": \"value\"}]}, \"range\": [{\"signal\": \"height\"}, 0], \"nice\": true, \"zero\": true}, {\"name\": \"color\", \"type\": \"ordinal\", \"domain\": {\"fields\": [{\"data\": \"source_0_color_domain_variable_0\", \"field\": \"variable\"}, {\"data\": \"source_1_color_domain_variable_1\", \"field\": \"variable\"}], \"sort\": true}, \"range\": \"category\"}], \"axes\": [{\"scale\": \"x\", \"domain\": false, \"aria\": false, \"ticks\": false, \"zindex\": 0, \"orient\": \"bottom\", \"grid\": true, \"gridScale\": \"y\", \"labels\": false, \"tickCount\": {\"signal\": \"ceil(width/40)\"}, \"maxExtent\": 0, \"minExtent\": 0}, {\"scale\": \"y\", \"ticks\": false, \"labels\": false, \"domain\": false, \"zindex\": 0, \"orient\": \"left\", \"grid\": true, \"aria\": false, \"maxExtent\": 0, \"minExtent\": 0, \"gridScale\": \"x\", \"tickCount\": {\"signal\": \"ceil(height/40)\"}}, {\"scale\": \"x\", \"zindex\": 0, \"grid\": false, \"title\": \"time\", \"orient\": \"bottom\", \"labelFlush\": true, \"labelOverlap\": true, \"tickCount\": {\"signal\": \"ceil(width/40)\"}}, {\"scale\": \"y\", \"tickCount\": {\"signal\": \"ceil(height/40)\"}, \"grid\": false, \"title\": \"value\", \"zindex\": 0, \"labelOverlap\": true, \"orient\": \"left\"}], \"style\": \"cell\", \"legends\": [{\"stroke\": \"color\", \"symbolType\": \"stroke\", \"title\": \"variable\"}], \"background\": \"white\", \"padding\": 5, \"height\": 300, \"width\": 300}, {\"mode\": \"vega\"});\n",
       "</script>"
      ],
      "text/plain": [
       "alt.LayerChart(...)"
      ]
     },
     "execution_count": 19,
     "metadata": {},
     "output_type": "execute_result"
    }
   ],
   "source": [
    "(\n",
    "    on.Plot()\n",
    "    .add(on.marks.line, week_mean)\n",
    "    .add(on.marks.line, week_median)\n",
    "    .show()\n",
    ")"
   ]
  },
  {
   "cell_type": "markdown",
   "id": "813f08f7-51aa-4413-92da-8455bc854aed",
   "metadata": {
    "papermill": {
     "duration": 0.003126,
     "end_time": "2024-01-31T17:49:34.235688",
     "exception": false,
     "start_time": "2024-01-31T17:49:34.232562",
     "status": "completed"
    },
    "tags": []
   },
   "source": [
    "## Generic Predictor"
   ]
  },
  {
   "cell_type": "code",
   "execution_count": 20,
   "id": "e5df7b11-4c2d-4b26-9b9c-f1bf521b6300",
   "metadata": {
    "papermill": {
     "duration": 0.006312,
     "end_time": "2024-01-31T17:49:34.244965",
     "exception": false,
     "start_time": "2024-01-31T17:49:34.238653",
     "status": "completed"
    },
    "tags": []
   },
   "outputs": [],
   "source": [
    "model = common.GenericPredictor()"
   ]
  },
  {
   "cell_type": "code",
   "execution_count": 24,
   "id": "402c4d6e-dd2c-4920-9736-eee98fa3ab32",
   "metadata": {
    "papermill": {
     "duration": 1.184082,
     "end_time": "2024-01-31T17:49:35.431990",
     "exception": false,
     "start_time": "2024-01-31T17:49:34.247908",
     "status": "completed"
    },
    "tags": []
   },
   "outputs": [
    {
     "data": {
      "text/plain": [
       "<ontime.context.common.generic_predictor.GenericPredictor at 0x7fc6c9b189d0>"
      ]
     },
     "execution_count": 24,
     "metadata": {},
     "output_type": "execute_result"
    }
   ],
   "source": [
    "model.fit(train)"
   ]
  },
  {
   "cell_type": "markdown",
   "id": "eac89dd3-f5ac-42f4-9db0-29e07328151b",
   "metadata": {
    "papermill": {
     "duration": 0.003153,
     "end_time": "2024-01-31T17:49:35.438439",
     "exception": false,
     "start_time": "2024-01-31T17:49:35.435286",
     "status": "completed"
    },
    "tags": []
   },
   "source": [
    "What does the future looks like ?"
   ]
  },
  {
   "cell_type": "code",
   "execution_count": 25,
   "id": "33c52d1f-6983-4edb-945b-9578d954f738",
   "metadata": {
    "papermill": {
     "duration": 0.017896,
     "end_time": "2024-01-31T17:49:35.459316",
     "exception": false,
     "start_time": "2024-01-31T17:49:35.441420",
     "status": "completed"
    },
    "tags": []
   },
   "outputs": [],
   "source": [
    "pred = model.predict(48)"
   ]
  },
  {
   "cell_type": "code",
   "execution_count": 26,
   "id": "c10dd2d7-7a48-4343-b18a-152175dcd799",
   "metadata": {
    "papermill": {
     "duration": 0.124203,
     "end_time": "2024-01-31T17:49:35.586963",
     "exception": false,
     "start_time": "2024-01-31T17:49:35.462760",
     "status": "completed"
    },
    "tags": []
   },
   "outputs": [
    {
     "data": {
      "text/html": [
       "\n",
       "<style>\n",
       "  #altair-viz-93f7eae9d64a4892b898aeaeac3676e5.vega-embed {\n",
       "    width: 100%;\n",
       "    display: flex;\n",
       "  }\n",
       "\n",
       "  #altair-viz-93f7eae9d64a4892b898aeaeac3676e5.vega-embed details,\n",
       "  #altair-viz-93f7eae9d64a4892b898aeaeac3676e5.vega-embed details summary {\n",
       "    position: relative;\n",
       "  }\n",
       "</style>\n",
       "<div id=\"altair-viz-93f7eae9d64a4892b898aeaeac3676e5\"></div>\n",
       "<script type=\"text/javascript\">\n",
       "  var VEGA_DEBUG = (typeof VEGA_DEBUG == \"undefined\") ? {} : VEGA_DEBUG;\n",
       "  (function(spec, embedOpt){\n",
       "    let outputDiv = document.currentScript.previousElementSibling;\n",
       "    if (outputDiv.id !== \"altair-viz-93f7eae9d64a4892b898aeaeac3676e5\") {\n",
       "      outputDiv = document.getElementById(\"altair-viz-93f7eae9d64a4892b898aeaeac3676e5\");\n",
       "    }\n",
       "\n",
       "    const paths = {\n",
       "      \"vega\": \"https://cdn.jsdelivr.net/npm/vega@5?noext\",\n",
       "      \"vega-lib\": \"https://cdn.jsdelivr.net/npm/vega-lib?noext\",\n",
       "      \"vega-lite\": \"https://cdn.jsdelivr.net/npm/vega-lite@5.20.1?noext\",\n",
       "      \"vega-embed\": \"https://cdn.jsdelivr.net/npm/vega-embed@6?noext\",\n",
       "    };\n",
       "\n",
       "    function maybeLoadScript(lib, version) {\n",
       "      var key = `${lib.replace(\"-\", \"\")}_version`;\n",
       "      return (VEGA_DEBUG[key] == version) ?\n",
       "        Promise.resolve(paths[lib]) :\n",
       "        new Promise(function(resolve, reject) {\n",
       "          var s = document.createElement('script');\n",
       "          document.getElementsByTagName(\"head\")[0].appendChild(s);\n",
       "          s.async = true;\n",
       "          s.onload = () => {\n",
       "            VEGA_DEBUG[key] = version;\n",
       "            return resolve(paths[lib]);\n",
       "          };\n",
       "          s.onerror = () => reject(`Error loading script: ${paths[lib]}`);\n",
       "          s.src = paths[lib];\n",
       "        });\n",
       "    }\n",
       "\n",
       "    function showError(err) {\n",
       "      outputDiv.innerHTML = `<div class=\"error\" style=\"color:red;\">${err}</div>`;\n",
       "      throw err;\n",
       "    }\n",
       "\n",
       "    function displayChart(vegaEmbed) {\n",
       "      vegaEmbed(outputDiv, spec, embedOpt)\n",
       "        .catch(err => showError(`Javascript Error: ${err.message}<br>This usually means there's a typo in your chart specification. See the javascript console for the full traceback.`));\n",
       "    }\n",
       "\n",
       "    if(typeof define === \"function\" && define.amd) {\n",
       "      requirejs.config({paths});\n",
       "      let deps = [\"vega-embed\"];\n",
       "      require(deps, displayChart, err => showError(`Error loading script: ${err.message}`));\n",
       "    } else {\n",
       "      maybeLoadScript(\"vega\", \"5\")\n",
       "        .then(() => maybeLoadScript(\"vega-lite\", \"5.20.1\"))\n",
       "        .then(() => maybeLoadScript(\"vega-embed\", \"6\"))\n",
       "        .catch(showError)\n",
       "        .then(() => displayChart(vegaEmbed));\n",
       "    }\n",
       "  })({\"$schema\": \"https://vega.github.io/schema/vega/v5.json\", \"data\": [{\"name\": \"source_0\", \"values\": [{\"time\": \"2015-08-28T01:00:00.000\", \"variable\": \"Training set\", \"value\": 325.0}, {\"time\": \"2015-08-28T02:00:00.000\", \"variable\": \"Training set\", \"value\": 252.0}, {\"time\": \"2015-08-28T03:00:00.000\", \"variable\": \"Training set\", \"value\": 158.0}, {\"time\": \"2015-08-28T04:00:00.000\", \"variable\": \"Training set\", \"value\": 70.0}, {\"time\": \"2015-08-28T05:00:00.000\", \"variable\": \"Training set\", \"value\": 57.0}, {\"time\": \"2015-08-28T06:00:00.000\", \"variable\": \"Training set\", \"value\": 457.0}, {\"time\": \"2015-08-28T07:00:00.000\", \"variable\": \"Training set\", \"value\": 1869.0}, {\"time\": \"2015-08-28T08:00:00.000\", \"variable\": \"Training set\", \"value\": 3923.0}, {\"time\": \"2015-08-28T09:00:00.000\", \"variable\": \"Training set\", \"value\": 4791.0}, {\"time\": \"2015-08-28T10:00:00.000\", \"variable\": \"Training set\", \"value\": 5134.0}, {\"time\": \"2015-08-28T11:00:00.000\", \"variable\": \"Training set\", \"value\": 5275.0}, {\"time\": \"2015-08-28T12:00:00.000\", \"variable\": \"Training set\", \"value\": 5264.0}, {\"time\": \"2015-08-28T13:00:00.000\", \"variable\": \"Training set\", \"value\": 5127.0}, {\"time\": \"2015-08-28T14:00:00.000\", \"variable\": \"Training set\", \"value\": 4867.0}, {\"time\": \"2015-08-28T15:00:00.000\", \"variable\": \"Training set\", \"value\": 4394.0}, {\"time\": \"2015-08-28T16:00:00.000\", \"variable\": \"Training set\", \"value\": 3631.0}, {\"time\": \"2015-08-28T17:00:00.000\", \"variable\": \"Training set\", \"value\": 2586.0}, {\"time\": \"2015-08-28T18:00:00.000\", \"variable\": \"Training set\", \"value\": 1216.0}, {\"time\": \"2015-08-28T19:00:00.000\", \"variable\": \"Training set\", \"value\": 692.0}, {\"time\": \"2015-08-28T20:00:00.000\", \"variable\": \"Training set\", \"value\": 640.0}, {\"time\": \"2015-08-28T21:00:00.000\", \"variable\": \"Training set\", \"value\": 642.0}, {\"time\": \"2015-08-28T22:00:00.000\", \"variable\": \"Training set\", \"value\": 642.0}, {\"time\": \"2015-08-28T23:00:00.000\", \"variable\": \"Training set\", \"value\": 597.0}, {\"time\": \"2015-08-29T00:00:00.000\", \"variable\": \"Training set\", \"value\": 439.0}, {\"time\": \"2015-08-29T01:00:00.000\", \"variable\": \"Training set\", \"value\": 379.0}, {\"time\": \"2015-08-29T02:00:00.000\", \"variable\": \"Training set\", \"value\": 371.0}, {\"time\": \"2015-08-29T03:00:00.000\", \"variable\": \"Training set\", \"value\": 244.0}, {\"time\": \"2015-08-29T04:00:00.000\", \"variable\": \"Training set\", \"value\": 100.0}, {\"time\": \"2015-08-29T05:00:00.000\", \"variable\": \"Training set\", \"value\": 64.0}, {\"time\": \"2015-08-29T06:00:00.000\", \"variable\": \"Training set\", \"value\": 411.0}, {\"time\": \"2015-08-29T07:00:00.000\", \"variable\": \"Training set\", \"value\": 1322.0}, {\"time\": \"2015-08-29T08:00:00.000\", \"variable\": \"Training set\", \"value\": 2609.0}, {\"time\": \"2015-08-29T09:00:00.000\", \"variable\": \"Training set\", \"value\": 3981.0}, {\"time\": \"2015-08-29T10:00:00.000\", \"variable\": \"Training set\", \"value\": 4688.0}, {\"time\": \"2015-08-29T11:00:00.000\", \"variable\": \"Training set\", \"value\": 4876.0}, {\"time\": \"2015-08-29T12:00:00.000\", \"variable\": \"Training set\", \"value\": 4800.0}, {\"time\": \"2015-08-29T13:00:00.000\", \"variable\": \"Training set\", \"value\": 4472.0}, {\"time\": \"2015-08-29T14:00:00.000\", \"variable\": \"Training set\", \"value\": 3963.0}, {\"time\": \"2015-08-29T15:00:00.000\", \"variable\": \"Training set\", \"value\": 3104.0}, {\"time\": \"2015-08-29T16:00:00.000\", \"variable\": \"Training set\", \"value\": 2365.0}, {\"time\": \"2015-08-29T17:00:00.000\", \"variable\": \"Training set\", \"value\": 1357.0}, {\"time\": \"2015-08-29T18:00:00.000\", \"variable\": \"Training set\", \"value\": 515.0}, {\"time\": \"2015-08-29T19:00:00.000\", \"variable\": \"Training set\", \"value\": 307.0}, {\"time\": \"2015-08-29T20:00:00.000\", \"variable\": \"Training set\", \"value\": 235.0}, {\"time\": \"2015-08-29T21:00:00.000\", \"variable\": \"Training set\", \"value\": 78.0}, {\"time\": \"2015-08-29T22:00:00.000\", \"variable\": \"Training set\", \"value\": 35.0}, {\"time\": \"2015-08-29T23:00:00.000\", \"variable\": \"Training set\", \"value\": 37.0}, {\"time\": \"2015-08-30T00:00:00.000\", \"variable\": \"Training set\", \"value\": 36.0}, {\"time\": \"2015-08-30T01:00:00.000\", \"variable\": \"Training set\", \"value\": 36.0}, {\"time\": \"2015-08-30T02:00:00.000\", \"variable\": \"Training set\", \"value\": 36.0}, {\"time\": \"2015-08-30T03:00:00.000\", \"variable\": \"Training set\", \"value\": 36.0}, {\"time\": \"2015-08-30T04:00:00.000\", \"variable\": \"Training set\", \"value\": 36.0}, {\"time\": \"2015-08-30T05:00:00.000\", \"variable\": \"Training set\", \"value\": 47.0}, {\"time\": \"2015-08-30T06:00:00.000\", \"variable\": \"Training set\", \"value\": 339.0}, {\"time\": \"2015-08-30T07:00:00.000\", \"variable\": \"Training set\", \"value\": 1188.0}, {\"time\": \"2015-08-30T08:00:00.000\", \"variable\": \"Training set\", \"value\": 2641.0}, {\"time\": \"2015-08-30T09:00:00.000\", \"variable\": \"Training set\", \"value\": 3818.0}, {\"time\": \"2015-08-30T10:00:00.000\", \"variable\": \"Training set\", \"value\": 4323.0}, {\"time\": \"2015-08-30T11:00:00.000\", \"variable\": \"Training set\", \"value\": 4356.0}, {\"time\": \"2015-08-30T12:00:00.000\", \"variable\": \"Training set\", \"value\": 3995.0}, {\"time\": \"2015-08-30T13:00:00.000\", \"variable\": \"Training set\", \"value\": 3473.0}, {\"time\": \"2015-08-30T14:00:00.000\", \"variable\": \"Training set\", \"value\": 2801.0}, {\"time\": \"2015-08-30T15:00:00.000\", \"variable\": \"Training set\", \"value\": 2108.0}, {\"time\": \"2015-08-30T16:00:00.000\", \"variable\": \"Training set\", \"value\": 1298.0}, {\"time\": \"2015-08-30T17:00:00.000\", \"variable\": \"Training set\", \"value\": 763.0}, {\"time\": \"2015-08-30T18:00:00.000\", \"variable\": \"Training set\", \"value\": 230.0}, {\"time\": \"2015-08-30T19:00:00.000\", \"variable\": \"Training set\", \"value\": 67.0}, {\"time\": \"2015-08-30T20:00:00.000\", \"variable\": \"Training set\", \"value\": 56.0}, {\"time\": \"2015-08-30T21:00:00.000\", \"variable\": \"Training set\", \"value\": 56.0}, {\"time\": \"2015-08-30T22:00:00.000\", \"variable\": \"Training set\", \"value\": 56.0}, {\"time\": \"2015-08-30T23:00:00.000\", \"variable\": \"Training set\", \"value\": 54.0}, {\"time\": \"2015-08-31T00:00:00.000\", \"variable\": \"Training set\", \"value\": 54.0}, {\"time\": \"2015-08-31T01:00:00.000\", \"variable\": \"Training set\", \"value\": 53.0}, {\"time\": \"2015-08-31T02:00:00.000\", \"variable\": \"Training set\", \"value\": 53.0}, {\"time\": \"2015-08-31T03:00:00.000\", \"variable\": \"Training set\", \"value\": 53.0}, {\"time\": \"2015-08-31T04:00:00.000\", \"variable\": \"Training set\", \"value\": 53.0}, {\"time\": \"2015-08-31T05:00:00.000\", \"variable\": \"Training set\", \"value\": 51.0}, {\"time\": \"2015-08-31T06:00:00.000\", \"variable\": \"Training set\", \"value\": 229.0}, {\"time\": \"2015-08-31T07:00:00.000\", \"variable\": \"Training set\", \"value\": 811.0}, {\"time\": \"2015-08-31T08:00:00.000\", \"variable\": \"Training set\", \"value\": 1421.0}, {\"time\": \"2015-08-31T09:00:00.000\", \"variable\": \"Training set\", \"value\": 1854.0}, {\"time\": \"2015-08-31T10:00:00.000\", \"variable\": \"Training set\", \"value\": 2137.0}, {\"time\": \"2015-08-31T11:00:00.000\", \"variable\": \"Training set\", \"value\": 2434.0}, {\"time\": \"2015-08-31T12:00:00.000\", \"variable\": \"Training set\", \"value\": 2430.0}, {\"time\": \"2015-08-31T13:00:00.000\", \"variable\": \"Training set\", \"value\": 2244.0}, {\"time\": \"2015-08-31T14:00:00.000\", \"variable\": \"Training set\", \"value\": 2141.0}, {\"time\": \"2015-08-31T15:00:00.000\", \"variable\": \"Training set\", \"value\": 2107.0}, {\"time\": \"2015-08-31T16:00:00.000\", \"variable\": \"Training set\", \"value\": 1966.0}, {\"time\": \"2015-08-31T17:00:00.000\", \"variable\": \"Training set\", \"value\": 1561.0}, {\"time\": \"2015-08-31T18:00:00.000\", \"variable\": \"Training set\", \"value\": 606.0}, {\"time\": \"2015-08-31T19:00:00.000\", \"variable\": \"Training set\", \"value\": 152.0}, {\"time\": \"2015-08-31T20:00:00.000\", \"variable\": \"Training set\", \"value\": 45.0}, {\"time\": \"2015-08-31T21:00:00.000\", \"variable\": \"Training set\", \"value\": 40.0}, {\"time\": \"2015-08-31T22:00:00.000\", \"variable\": \"Training set\", \"value\": 55.0}, {\"time\": \"2015-08-31T23:00:00.000\", \"variable\": \"Training set\", \"value\": 55.0}, {\"time\": \"2015-09-01T00:00:00.000\", \"variable\": \"Training set\", \"value\": 54.0}], \"transform\": [{\"type\": \"formula\", \"expr\": \"toDate(datum['time'])\", \"as\": \"time\"}]}, {\"name\": \"source_1\", \"values\": [{\"time\": \"2015-09-01T01:00:00.000\", \"variable\": \"Prediction\", \"value\": 63.264764914941225}, {\"time\": \"2015-09-01T02:00:00.000\", \"variable\": \"Prediction\", \"value\": 55.2697649985721}, {\"time\": \"2015-09-01T03:00:00.000\", \"variable\": \"Prediction\", \"value\": 38.97058734622533}, {\"time\": \"2015-09-01T04:00:00.000\", \"variable\": \"Prediction\", \"value\": 28.153402648241126}, {\"time\": \"2015-09-01T05:00:00.000\", \"variable\": \"Prediction\", \"value\": 18.98125611603882}, {\"time\": \"2015-09-01T06:00:00.000\", \"variable\": \"Prediction\", \"value\": 3.961069382572532}, {\"time\": \"2015-09-01T07:00:00.000\", \"variable\": \"Prediction\", \"value\": 51.1636382791487}, {\"time\": \"2015-09-01T08:00:00.000\", \"variable\": \"Prediction\", \"value\": 280.4049799460165}, {\"time\": \"2015-09-01T09:00:00.000\", \"variable\": \"Prediction\", \"value\": 930.3510352480242}, {\"time\": \"2015-09-01T10:00:00.000\", \"variable\": \"Prediction\", \"value\": 1594.3537665722554}, {\"time\": \"2015-09-01T11:00:00.000\", \"variable\": \"Prediction\", \"value\": 2050.164182313688}, {\"time\": \"2015-09-01T12:00:00.000\", \"variable\": \"Prediction\", \"value\": 2319.498091152175}, {\"time\": \"2015-09-01T13:00:00.000\", \"variable\": \"Prediction\", \"value\": 2471.893676108707}, {\"time\": \"2015-09-01T14:00:00.000\", \"variable\": \"Prediction\", \"value\": 2434.4494888641975}, {\"time\": \"2015-09-01T15:00:00.000\", \"variable\": \"Prediction\", \"value\": 2130.8918814430126}, {\"time\": \"2015-09-01T16:00:00.000\", \"variable\": \"Prediction\", \"value\": 1623.5756962632663}, {\"time\": \"2015-09-01T17:00:00.000\", \"variable\": \"Prediction\", \"value\": 920.5001770116057}, {\"time\": \"2015-09-01T18:00:00.000\", \"variable\": \"Prediction\", \"value\": 459.1878945458452}, {\"time\": \"2015-09-01T19:00:00.000\", \"variable\": \"Prediction\", \"value\": 240.29204808069198}, {\"time\": \"2015-09-01T20:00:00.000\", \"variable\": \"Prediction\", \"value\": 144.36920370242024}, {\"time\": \"2015-09-01T21:00:00.000\", \"variable\": \"Prediction\", \"value\": 76.29898635016275}, {\"time\": \"2015-09-01T22:00:00.000\", \"variable\": \"Prediction\", \"value\": 61.32870459948958}, {\"time\": \"2015-09-01T23:00:00.000\", \"variable\": \"Prediction\", \"value\": 72.88723326467061}, {\"time\": \"2015-09-02T00:00:00.000\", \"variable\": \"Prediction\", \"value\": 77.39857134035924}, {\"time\": \"2015-09-02T01:00:00.000\", \"variable\": \"Prediction\", \"value\": 62.07422523330206}, {\"time\": \"2015-09-02T02:00:00.000\", \"variable\": \"Prediction\", \"value\": 24.318353354152123}, {\"time\": \"2015-09-02T03:00:00.000\", \"variable\": \"Prediction\", \"value\": 30.177259765594272}, {\"time\": \"2015-09-02T04:00:00.000\", \"variable\": \"Prediction\", \"value\": 35.916937303193436}, {\"time\": \"2015-09-02T05:00:00.000\", \"variable\": \"Prediction\", \"value\": 87.55274222857224}, {\"time\": \"2015-09-02T06:00:00.000\", \"variable\": \"Prediction\", \"value\": 533.3965495301934}, {\"time\": \"2015-09-02T07:00:00.000\", \"variable\": \"Prediction\", \"value\": 1254.310008551678}, {\"time\": \"2015-09-02T08:00:00.000\", \"variable\": \"Prediction\", \"value\": 1969.7167937082622}, {\"time\": \"2015-09-02T09:00:00.000\", \"variable\": \"Prediction\", \"value\": 2428.471459438814}, {\"time\": \"2015-09-02T10:00:00.000\", \"variable\": \"Prediction\", \"value\": 2677.567892364111}, {\"time\": \"2015-09-02T11:00:00.000\", \"variable\": \"Prediction\", \"value\": 2623.27984611265}, {\"time\": \"2015-09-02T12:00:00.000\", \"variable\": \"Prediction\", \"value\": 2547.1817447104636}, {\"time\": \"2015-09-02T13:00:00.000\", \"variable\": \"Prediction\", \"value\": 2241.5833707403035}, {\"time\": \"2015-09-02T14:00:00.000\", \"variable\": \"Prediction\", \"value\": 1665.377638348459}, {\"time\": \"2015-09-02T15:00:00.000\", \"variable\": \"Prediction\", \"value\": 972.9720930300595}, {\"time\": \"2015-09-02T16:00:00.000\", \"variable\": \"Prediction\", \"value\": 398.9823283868045}, {\"time\": \"2015-09-02T17:00:00.000\", \"variable\": \"Prediction\", \"value\": 150.1573079916941}, {\"time\": \"2015-09-02T18:00:00.000\", \"variable\": \"Prediction\", \"value\": 66.82360259559618}, {\"time\": \"2015-09-02T19:00:00.000\", \"variable\": \"Prediction\", \"value\": 48.45848563175787}, {\"time\": \"2015-09-02T20:00:00.000\", \"variable\": \"Prediction\", \"value\": 42.94704521462563}, {\"time\": \"2015-09-02T21:00:00.000\", \"variable\": \"Prediction\", \"value\": 69.77874387872748}, {\"time\": \"2015-09-02T22:00:00.000\", \"variable\": \"Prediction\", \"value\": 109.34254066610197}, {\"time\": \"2015-09-02T23:00:00.000\", \"variable\": \"Prediction\", \"value\": 140.08358307228673}, {\"time\": \"2015-09-03T00:00:00.000\", \"variable\": \"Prediction\", \"value\": 166.59433493303004}], \"transform\": [{\"type\": \"formula\", \"expr\": \"toDate(datum['time'])\", \"as\": \"time\"}]}, {\"name\": \"source_2\", \"values\": [{\"time\": \"2015-09-01T01:00:00.000\", \"variable\": \"Truth\", \"value\": 53.0}, {\"time\": \"2015-09-01T02:00:00.000\", \"variable\": \"Truth\", \"value\": 42.0}, {\"time\": \"2015-09-01T03:00:00.000\", \"variable\": \"Truth\", \"value\": 36.0}, {\"time\": \"2015-09-01T04:00:00.000\", \"variable\": \"Truth\", \"value\": 35.0}, {\"time\": \"2015-09-01T05:00:00.000\", \"variable\": \"Truth\", \"value\": 35.0}, {\"time\": \"2015-09-01T06:00:00.000\", \"variable\": \"Truth\", \"value\": 55.0}, {\"time\": \"2015-09-01T07:00:00.000\", \"variable\": \"Truth\", \"value\": 704.0}, {\"time\": \"2015-09-01T08:00:00.000\", \"variable\": \"Truth\", \"value\": 1889.0}, {\"time\": \"2015-09-01T09:00:00.000\", \"variable\": \"Truth\", \"value\": 3095.0}, {\"time\": \"2015-09-01T10:00:00.000\", \"variable\": \"Truth\", \"value\": 3712.0}, {\"time\": \"2015-09-01T11:00:00.000\", \"variable\": \"Truth\", \"value\": 3901.0}, {\"time\": \"2015-09-01T12:00:00.000\", \"variable\": \"Truth\", \"value\": 3907.0}, {\"time\": \"2015-09-01T13:00:00.000\", \"variable\": \"Truth\", \"value\": 3833.0}, {\"time\": \"2015-09-01T14:00:00.000\", \"variable\": \"Truth\", \"value\": 3211.0}, {\"time\": \"2015-09-01T15:00:00.000\", \"variable\": \"Truth\", \"value\": 1624.0}, {\"time\": \"2015-09-01T16:00:00.000\", \"variable\": \"Truth\", \"value\": 493.0}, {\"time\": \"2015-09-01T17:00:00.000\", \"variable\": \"Truth\", \"value\": 125.0}, {\"time\": \"2015-09-01T18:00:00.000\", \"variable\": \"Truth\", \"value\": 81.0}, {\"time\": \"2015-09-01T19:00:00.000\", \"variable\": \"Truth\", \"value\": 69.0}, {\"time\": \"2015-09-01T20:00:00.000\", \"variable\": \"Truth\", \"value\": 69.0}, {\"time\": \"2015-09-01T21:00:00.000\", \"variable\": \"Truth\", \"value\": 56.0}, {\"time\": \"2015-09-01T22:00:00.000\", \"variable\": \"Truth\", \"value\": 84.0}, {\"time\": \"2015-09-01T23:00:00.000\", \"variable\": \"Truth\", \"value\": 73.0}, {\"time\": \"2015-09-02T00:00:00.000\", \"variable\": \"Truth\", \"value\": 73.0}, {\"time\": \"2015-09-02T01:00:00.000\", \"variable\": \"Truth\", \"value\": 73.0}, {\"time\": \"2015-09-02T02:00:00.000\", \"variable\": \"Truth\", \"value\": 72.0}, {\"time\": \"2015-09-02T03:00:00.000\", \"variable\": \"Truth\", \"value\": 73.0}, {\"time\": \"2015-09-02T04:00:00.000\", \"variable\": \"Truth\", \"value\": 73.0}, {\"time\": \"2015-09-02T05:00:00.000\", \"variable\": \"Truth\", \"value\": 80.0}, {\"time\": \"2015-09-02T06:00:00.000\", \"variable\": \"Truth\", \"value\": 218.0}, {\"time\": \"2015-09-02T07:00:00.000\", \"variable\": \"Truth\", \"value\": 1296.0}, {\"time\": \"2015-09-02T08:00:00.000\", \"variable\": \"Truth\", \"value\": 2524.0}, {\"time\": \"2015-09-02T09:00:00.000\", \"variable\": \"Truth\", \"value\": 3665.0}, {\"time\": \"2015-09-02T10:00:00.000\", \"variable\": \"Truth\", \"value\": 3939.0}, {\"time\": \"2015-09-02T11:00:00.000\", \"variable\": \"Truth\", \"value\": 3865.0}, {\"time\": \"2015-09-02T12:00:00.000\", \"variable\": \"Truth\", \"value\": 3737.0}, {\"time\": \"2015-09-02T13:00:00.000\", \"variable\": \"Truth\", \"value\": 3644.0}, {\"time\": \"2015-09-02T14:00:00.000\", \"variable\": \"Truth\", \"value\": 3325.0}, {\"time\": \"2015-09-02T15:00:00.000\", \"variable\": \"Truth\", \"value\": 2346.0}, {\"time\": \"2015-09-02T16:00:00.000\", \"variable\": \"Truth\", \"value\": 883.0}, {\"time\": \"2015-09-02T17:00:00.000\", \"variable\": \"Truth\", \"value\": 396.0}, {\"time\": \"2015-09-02T18:00:00.000\", \"variable\": \"Truth\", \"value\": 279.0}, {\"time\": \"2015-09-02T19:00:00.000\", \"variable\": \"Truth\", \"value\": 171.0}, {\"time\": \"2015-09-02T20:00:00.000\", \"variable\": \"Truth\", \"value\": 115.0}, {\"time\": \"2015-09-02T21:00:00.000\", \"variable\": \"Truth\", \"value\": 105.0}, {\"time\": \"2015-09-02T22:00:00.000\", \"variable\": \"Truth\", \"value\": 341.0}, {\"time\": \"2015-09-02T23:00:00.000\", \"variable\": \"Truth\", \"value\": 225.0}, {\"time\": \"2015-09-03T00:00:00.000\", \"variable\": \"Truth\", \"value\": 149.0}], \"transform\": [{\"type\": \"formula\", \"expr\": \"toDate(datum['time'])\", \"as\": \"time\"}]}, {\"name\": \"source_0_color_domain_variable_0\", \"values\": [{\"variable\": \"Training set\"}]}, {\"name\": \"source_1_color_domain_variable_1\", \"values\": [{\"variable\": \"Prediction\"}]}, {\"name\": \"source_2_color_domain_variable_2\", \"values\": [{\"variable\": \"Truth\"}]}], \"marks\": [{\"type\": \"group\", \"name\": \"layer_0_pathgroup\", \"from\": {\"facet\": {\"data\": \"source_0\", \"name\": \"faceted_path_layer_0_main\", \"groupby\": [\"variable\"]}}, \"encode\": {\"update\": {\"width\": {\"field\": {\"signal\": null, \"datum\": null, \"group\": \"width\", \"parent\": null}}, \"height\": {\"field\": {\"signal\": null, \"datum\": null, \"group\": \"height\", \"parent\": null}}}}, \"marks\": [{\"type\": \"line\", \"name\": \"layer_0_marks\", \"from\": {\"data\": \"faceted_path_layer_0_main\"}, \"sort\": {\"field\": \"x\"}, \"encode\": {\"update\": {\"defined\": {\"signal\": \"isValid(datum[\\\"time\\\"]) && isFinite(+datum[\\\"time\\\"]) && isValid(datum[\\\"value\\\"]) && isFinite(+datum[\\\"value\\\"])\"}, \"stroke\": {\"field\": \"variable\", \"scale\": \"color\"}, \"y\": {\"field\": \"value\", \"scale\": \"y\"}, \"x\": {\"field\": \"time\", \"scale\": \"x\"}}}, \"style\": [\"line\"]}]}, {\"type\": \"group\", \"name\": \"layer_1_pathgroup\", \"from\": {\"facet\": {\"data\": \"source_1\", \"name\": \"faceted_path_layer_1_main\", \"groupby\": [\"variable\"]}}, \"encode\": {\"update\": {\"height\": {\"field\": {\"signal\": null, \"datum\": null, \"group\": \"height\", \"parent\": null}}, \"width\": {\"field\": {\"signal\": null, \"datum\": null, \"group\": \"width\", \"parent\": null}}}}, \"marks\": [{\"type\": \"line\", \"name\": \"layer_1_marks\", \"from\": {\"data\": \"faceted_path_layer_1_main\"}, \"sort\": {\"field\": \"x\"}, \"encode\": {\"update\": {\"y\": {\"field\": \"value\", \"scale\": \"y\"}, \"defined\": {\"signal\": \"isValid(datum[\\\"time\\\"]) && isFinite(+datum[\\\"time\\\"]) && isValid(datum[\\\"value\\\"]) && isFinite(+datum[\\\"value\\\"])\"}, \"stroke\": {\"field\": \"variable\", \"scale\": \"color\"}, \"x\": {\"field\": \"time\", \"scale\": \"x\"}}}, \"style\": [\"line\"]}]}, {\"type\": \"group\", \"name\": \"layer_2_pathgroup\", \"from\": {\"facet\": {\"data\": \"source_2\", \"name\": \"faceted_path_layer_2_main\", \"groupby\": [\"variable\"]}}, \"encode\": {\"update\": {\"width\": {\"field\": {\"signal\": null, \"datum\": null, \"group\": \"width\", \"parent\": null}}, \"height\": {\"field\": {\"signal\": null, \"datum\": null, \"group\": \"height\", \"parent\": null}}}}, \"marks\": [{\"type\": \"line\", \"name\": \"layer_2_marks\", \"from\": {\"data\": \"faceted_path_layer_2_main\"}, \"sort\": {\"field\": \"x\"}, \"encode\": {\"update\": {\"defined\": {\"signal\": \"isValid(datum[\\\"time\\\"]) && isFinite(+datum[\\\"time\\\"]) && isValid(datum[\\\"value\\\"]) && isFinite(+datum[\\\"value\\\"])\"}, \"stroke\": {\"field\": \"variable\", \"scale\": \"color\"}, \"x\": {\"field\": \"time\", \"scale\": \"x\"}, \"y\": {\"field\": \"value\", \"scale\": \"y\"}, \"strokeDash\": {\"value\": [5, 2]}, \"opacity\": {\"value\": 0.7}}}, \"style\": [\"line\"]}]}], \"scales\": [{\"name\": \"x\", \"type\": \"time\", \"domain\": {\"fields\": [{\"data\": \"source_0\", \"field\": \"time\"}, {\"data\": \"source_1\", \"field\": \"time\"}, {\"data\": \"source_2\", \"field\": \"time\"}]}, \"range\": [0, {\"signal\": \"width\"}]}, {\"name\": \"y\", \"type\": \"linear\", \"domain\": {\"fields\": [{\"data\": \"source_0\", \"field\": \"value\"}, {\"data\": \"source_1\", \"field\": \"value\"}, {\"data\": \"source_2\", \"field\": \"value\"}]}, \"range\": [{\"signal\": \"height\"}, 0], \"nice\": true, \"zero\": true}, {\"name\": \"color\", \"type\": \"ordinal\", \"domain\": {\"fields\": [{\"data\": \"source_0_color_domain_variable_0\", \"field\": \"variable\"}, {\"data\": \"source_1_color_domain_variable_1\", \"field\": \"variable\"}, {\"data\": \"source_2_color_domain_variable_2\", \"field\": \"variable\"}], \"sort\": true}, \"range\": \"category\"}], \"axes\": [{\"scale\": \"x\", \"domain\": false, \"grid\": true, \"aria\": false, \"labels\": false, \"gridScale\": \"y\", \"tickCount\": {\"signal\": \"ceil(width/40)\"}, \"maxExtent\": 0, \"ticks\": false, \"minExtent\": 0, \"orient\": \"bottom\", \"zindex\": 0}, {\"scale\": \"y\", \"ticks\": false, \"orient\": \"left\", \"grid\": true, \"zindex\": 0, \"tickCount\": {\"signal\": \"ceil(height/40)\"}, \"aria\": false, \"maxExtent\": 0, \"gridScale\": \"x\", \"domain\": false, \"labels\": false, \"minExtent\": 0}, {\"scale\": \"x\", \"zindex\": 0, \"labelFlush\": true, \"title\": \"time\", \"grid\": false, \"orient\": \"bottom\", \"labelOverlap\": true, \"tickCount\": {\"signal\": \"ceil(width/40)\"}}, {\"scale\": \"y\", \"grid\": false, \"labelOverlap\": true, \"title\": \"value\", \"orient\": \"left\", \"tickCount\": {\"signal\": \"ceil(height/40)\"}, \"zindex\": 0}], \"legends\": [{\"stroke\": \"color\", \"symbolType\": \"stroke\", \"title\": \"variable\", \"encode\": {\"symbols\": {\"update\": {\"opacity\": {\"value\": 0.7}}}}}], \"style\": \"cell\", \"width\": 600, \"padding\": 5, \"height\": 300, \"background\": \"white\"}, {\"mode\": \"vega\"});\n",
       "</script>"
      ],
      "text/plain": [
       "alt.LayerChart(...)"
      ]
     },
     "execution_count": 26,
     "metadata": {},
     "output_type": "execute_result"
    }
   ],
   "source": [
    "(\n",
    "    on.Plot()\n",
    "    .add(on.marks.line, train[-96:].rename({\"generation solar\": \"Training set\"}))\n",
    "    .add(on.marks.line, pred.rename({\"generation solar\": \"Prediction\"}))\n",
    "    .add(on.marks.line, test[:48].rename({\"generation solar\": \"Truth\"}), type=\"dashed\")\n",
    "    .properties(width=600, height=300)\n",
    "    .show()\n",
    ")"
   ]
  },
  {
   "cell_type": "markdown",
   "id": "1eacbd84-bb31-48b1-bd5b-6ab7db392204",
   "metadata": {
    "papermill": {
     "duration": 0.003452,
     "end_time": "2024-01-31T17:49:35.593697",
     "exception": false,
     "start_time": "2024-01-31T17:49:35.590245",
     "status": "completed"
    },
    "tags": []
   },
   "source": [
    "## Generic Detector"
   ]
  },
  {
   "cell_type": "code",
   "execution_count": 27,
   "id": "9715fd4d-24d8-4d95-a77a-3c347916f2aa",
   "metadata": {
    "papermill": {
     "duration": 0.00631,
     "end_time": "2024-01-31T17:49:35.603080",
     "exception": false,
     "start_time": "2024-01-31T17:49:35.596770",
     "status": "completed"
    },
    "tags": []
   },
   "outputs": [],
   "source": [
    "model = common.GenericDetector()"
   ]
  },
  {
   "cell_type": "code",
   "execution_count": 28,
   "id": "56eae67d-ae1a-438c-bbd4-e1b52c93c2c2",
   "metadata": {
    "papermill": {
     "duration": 1.110565,
     "end_time": "2024-01-31T17:49:36.716703",
     "exception": false,
     "start_time": "2024-01-31T17:49:35.606138",
     "status": "completed"
    },
    "tags": []
   },
   "outputs": [
    {
     "data": {
      "text/plain": [
       "<ontime.context.common.generic_detector.GenericDetector at 0x7fc6c9a32ef0>"
      ]
     },
     "execution_count": 28,
     "metadata": {},
     "output_type": "execute_result"
    }
   ],
   "source": [
    "model.fit(train)"
   ]
  },
  {
   "cell_type": "markdown",
   "id": "cad58ac3-bc19-4281-8975-d31b13e5b7f5",
   "metadata": {
    "papermill": {
     "duration": 0.003284,
     "end_time": "2024-01-31T17:49:36.723390",
     "exception": false,
     "start_time": "2024-01-31T17:49:36.720106",
     "status": "completed"
    },
    "tags": []
   },
   "source": [
    "Does the current signal has problem ? "
   ]
  },
  {
   "cell_type": "code",
   "execution_count": 29,
   "id": "3fcf48b4-6d60-411d-88e5-191d575967a7",
   "metadata": {
    "papermill": {
     "duration": 0.011539,
     "end_time": "2024-01-31T17:49:36.738042",
     "exception": false,
     "start_time": "2024-01-31T17:49:36.726503",
     "status": "completed"
    },
    "tags": []
   },
   "outputs": [],
   "source": [
    "detected_test = model.detect(test)"
   ]
  },
  {
   "cell_type": "code",
   "execution_count": 30,
   "id": "317ef652-cfa1-4d85-b873-a1944c13fefc",
   "metadata": {
    "papermill": {
     "duration": 0.038277,
     "end_time": "2024-01-31T17:49:36.779533",
     "exception": false,
     "start_time": "2024-01-31T17:49:36.741256",
     "status": "completed"
    },
    "tags": []
   },
   "outputs": [
    {
     "data": {
      "text/html": [
       "\n",
       "<style>\n",
       "  #altair-viz-49d70762ee724c358b2742671bab69d5.vega-embed {\n",
       "    width: 100%;\n",
       "    display: flex;\n",
       "  }\n",
       "\n",
       "  #altair-viz-49d70762ee724c358b2742671bab69d5.vega-embed details,\n",
       "  #altair-viz-49d70762ee724c358b2742671bab69d5.vega-embed details summary {\n",
       "    position: relative;\n",
       "  }\n",
       "</style>\n",
       "<div id=\"altair-viz-49d70762ee724c358b2742671bab69d5\"></div>\n",
       "<script type=\"text/javascript\">\n",
       "  var VEGA_DEBUG = (typeof VEGA_DEBUG == \"undefined\") ? {} : VEGA_DEBUG;\n",
       "  (function(spec, embedOpt){\n",
       "    let outputDiv = document.currentScript.previousElementSibling;\n",
       "    if (outputDiv.id !== \"altair-viz-49d70762ee724c358b2742671bab69d5\") {\n",
       "      outputDiv = document.getElementById(\"altair-viz-49d70762ee724c358b2742671bab69d5\");\n",
       "    }\n",
       "\n",
       "    const paths = {\n",
       "      \"vega\": \"https://cdn.jsdelivr.net/npm/vega@5?noext\",\n",
       "      \"vega-lib\": \"https://cdn.jsdelivr.net/npm/vega-lib?noext\",\n",
       "      \"vega-lite\": \"https://cdn.jsdelivr.net/npm/vega-lite@5.20.1?noext\",\n",
       "      \"vega-embed\": \"https://cdn.jsdelivr.net/npm/vega-embed@6?noext\",\n",
       "    };\n",
       "\n",
       "    function maybeLoadScript(lib, version) {\n",
       "      var key = `${lib.replace(\"-\", \"\")}_version`;\n",
       "      return (VEGA_DEBUG[key] == version) ?\n",
       "        Promise.resolve(paths[lib]) :\n",
       "        new Promise(function(resolve, reject) {\n",
       "          var s = document.createElement('script');\n",
       "          document.getElementsByTagName(\"head\")[0].appendChild(s);\n",
       "          s.async = true;\n",
       "          s.onload = () => {\n",
       "            VEGA_DEBUG[key] = version;\n",
       "            return resolve(paths[lib]);\n",
       "          };\n",
       "          s.onerror = () => reject(`Error loading script: ${paths[lib]}`);\n",
       "          s.src = paths[lib];\n",
       "        });\n",
       "    }\n",
       "\n",
       "    function showError(err) {\n",
       "      outputDiv.innerHTML = `<div class=\"error\" style=\"color:red;\">${err}</div>`;\n",
       "      throw err;\n",
       "    }\n",
       "\n",
       "    function displayChart(vegaEmbed) {\n",
       "      vegaEmbed(outputDiv, spec, embedOpt)\n",
       "        .catch(err => showError(`Javascript Error: ${err.message}<br>This usually means there's a typo in your chart specification. See the javascript console for the full traceback.`));\n",
       "    }\n",
       "\n",
       "    if(typeof define === \"function\" && define.amd) {\n",
       "      requirejs.config({paths});\n",
       "      let deps = [\"vega-embed\"];\n",
       "      require(deps, displayChart, err => showError(`Error loading script: ${err.message}`));\n",
       "    } else {\n",
       "      maybeLoadScript(\"vega\", \"5\")\n",
       "        .then(() => maybeLoadScript(\"vega-lite\", \"5.20.1\"))\n",
       "        .then(() => maybeLoadScript(\"vega-embed\", \"6\"))\n",
       "        .catch(showError)\n",
       "        .then(() => displayChart(vegaEmbed));\n",
       "    }\n",
       "  })({\"$schema\": \"https://vega.github.io/schema/vega/v5.json\", \"data\": [{\"name\": \"source_0\", \"values\": [{\"time\": \"2015-09-01T01:00:00.000\", \"variable\": \"generation solar\", \"value\": 53.0}, {\"time\": \"2015-09-01T02:00:00.000\", \"variable\": \"generation solar\", \"value\": 42.0}, {\"time\": \"2015-09-01T03:00:00.000\", \"variable\": \"generation solar\", \"value\": 36.0}, {\"time\": \"2015-09-01T04:00:00.000\", \"variable\": \"generation solar\", \"value\": 35.0}, {\"time\": \"2015-09-01T05:00:00.000\", \"variable\": \"generation solar\", \"value\": 35.0}, {\"time\": \"2015-09-01T06:00:00.000\", \"variable\": \"generation solar\", \"value\": 55.0}, {\"time\": \"2015-09-01T07:00:00.000\", \"variable\": \"generation solar\", \"value\": 704.0}, {\"time\": \"2015-09-01T08:00:00.000\", \"variable\": \"generation solar\", \"value\": 1889.0}, {\"time\": \"2015-09-01T09:00:00.000\", \"variable\": \"generation solar\", \"value\": 3095.0}, {\"time\": \"2015-09-01T10:00:00.000\", \"variable\": \"generation solar\", \"value\": 3712.0}, {\"time\": \"2015-09-01T11:00:00.000\", \"variable\": \"generation solar\", \"value\": 3901.0}, {\"time\": \"2015-09-01T12:00:00.000\", \"variable\": \"generation solar\", \"value\": 3907.0}, {\"time\": \"2015-09-01T13:00:00.000\", \"variable\": \"generation solar\", \"value\": 3833.0}, {\"time\": \"2015-09-01T14:00:00.000\", \"variable\": \"generation solar\", \"value\": 3211.0}, {\"time\": \"2015-09-01T15:00:00.000\", \"variable\": \"generation solar\", \"value\": 1624.0}, {\"time\": \"2015-09-01T16:00:00.000\", \"variable\": \"generation solar\", \"value\": 493.0}, {\"time\": \"2015-09-01T17:00:00.000\", \"variable\": \"generation solar\", \"value\": 125.0}, {\"time\": \"2015-09-01T18:00:00.000\", \"variable\": \"generation solar\", \"value\": 81.0}, {\"time\": \"2015-09-01T19:00:00.000\", \"variable\": \"generation solar\", \"value\": 69.0}, {\"time\": \"2015-09-01T20:00:00.000\", \"variable\": \"generation solar\", \"value\": 69.0}, {\"time\": \"2015-09-01T21:00:00.000\", \"variable\": \"generation solar\", \"value\": 56.0}, {\"time\": \"2015-09-01T22:00:00.000\", \"variable\": \"generation solar\", \"value\": 84.0}, {\"time\": \"2015-09-01T23:00:00.000\", \"variable\": \"generation solar\", \"value\": 73.0}, {\"time\": \"2015-09-02T00:00:00.000\", \"variable\": \"generation solar\", \"value\": 73.0}, {\"time\": \"2015-09-02T01:00:00.000\", \"variable\": \"generation solar\", \"value\": 73.0}, {\"time\": \"2015-09-02T02:00:00.000\", \"variable\": \"generation solar\", \"value\": 72.0}, {\"time\": \"2015-09-02T03:00:00.000\", \"variable\": \"generation solar\", \"value\": 73.0}, {\"time\": \"2015-09-02T04:00:00.000\", \"variable\": \"generation solar\", \"value\": 73.0}, {\"time\": \"2015-09-02T05:00:00.000\", \"variable\": \"generation solar\", \"value\": 80.0}, {\"time\": \"2015-09-02T06:00:00.000\", \"variable\": \"generation solar\", \"value\": 218.0}, {\"time\": \"2015-09-02T07:00:00.000\", \"variable\": \"generation solar\", \"value\": 1296.0}, {\"time\": \"2015-09-02T08:00:00.000\", \"variable\": \"generation solar\", \"value\": 2524.0}, {\"time\": \"2015-09-02T09:00:00.000\", \"variable\": \"generation solar\", \"value\": 3665.0}, {\"time\": \"2015-09-02T10:00:00.000\", \"variable\": \"generation solar\", \"value\": 3939.0}, {\"time\": \"2015-09-02T11:00:00.000\", \"variable\": \"generation solar\", \"value\": 3865.0}, {\"time\": \"2015-09-02T12:00:00.000\", \"variable\": \"generation solar\", \"value\": 3737.0}, {\"time\": \"2015-09-02T13:00:00.000\", \"variable\": \"generation solar\", \"value\": 3644.0}, {\"time\": \"2015-09-02T14:00:00.000\", \"variable\": \"generation solar\", \"value\": 3325.0}, {\"time\": \"2015-09-02T15:00:00.000\", \"variable\": \"generation solar\", \"value\": 2346.0}, {\"time\": \"2015-09-02T16:00:00.000\", \"variable\": \"generation solar\", \"value\": 883.0}, {\"time\": \"2015-09-02T17:00:00.000\", \"variable\": \"generation solar\", \"value\": 396.0}, {\"time\": \"2015-09-02T18:00:00.000\", \"variable\": \"generation solar\", \"value\": 279.0}, {\"time\": \"2015-09-02T19:00:00.000\", \"variable\": \"generation solar\", \"value\": 171.0}, {\"time\": \"2015-09-02T20:00:00.000\", \"variable\": \"generation solar\", \"value\": 115.0}, {\"time\": \"2015-09-02T21:00:00.000\", \"variable\": \"generation solar\", \"value\": 105.0}, {\"time\": \"2015-09-02T22:00:00.000\", \"variable\": \"generation solar\", \"value\": 341.0}, {\"time\": \"2015-09-02T23:00:00.000\", \"variable\": \"generation solar\", \"value\": 225.0}, {\"time\": \"2015-09-03T00:00:00.000\", \"variable\": \"generation solar\", \"value\": 149.0}, {\"time\": \"2015-09-03T01:00:00.000\", \"variable\": \"generation solar\", \"value\": 91.0}, {\"time\": \"2015-09-03T02:00:00.000\", \"variable\": \"generation solar\", \"value\": 68.0}, {\"time\": \"2015-09-03T03:00:00.000\", \"variable\": \"generation solar\", \"value\": 39.0}, {\"time\": \"2015-09-03T04:00:00.000\", \"variable\": \"generation solar\", \"value\": 39.0}, {\"time\": \"2015-09-03T05:00:00.000\", \"variable\": \"generation solar\", \"value\": 55.0}, {\"time\": \"2015-09-03T06:00:00.000\", \"variable\": \"generation solar\", \"value\": 702.0}, {\"time\": \"2015-09-03T07:00:00.000\", \"variable\": \"generation solar\", \"value\": 2210.0}, {\"time\": \"2015-09-03T08:00:00.000\", \"variable\": \"generation solar\", \"value\": 4027.0}, {\"time\": \"2015-09-03T09:00:00.000\", \"variable\": \"generation solar\", \"value\": 4991.0}, {\"time\": \"2015-09-03T10:00:00.000\", \"variable\": \"generation solar\", \"value\": 5215.0}, {\"time\": \"2015-09-03T11:00:00.000\", \"variable\": \"generation solar\", \"value\": 5251.0}, {\"time\": \"2015-09-03T12:00:00.000\", \"variable\": \"generation solar\", \"value\": 5079.0}, {\"time\": \"2015-09-03T13:00:00.000\", \"variable\": \"generation solar\", \"value\": 4839.0}, {\"time\": \"2015-09-03T14:00:00.000\", \"variable\": \"generation solar\", \"value\": 4293.0}, {\"time\": \"2015-09-03T15:00:00.000\", \"variable\": \"generation solar\", \"value\": 3408.0}, {\"time\": \"2015-09-03T16:00:00.000\", \"variable\": \"generation solar\", \"value\": 1957.0}, {\"time\": \"2015-09-03T17:00:00.000\", \"variable\": \"generation solar\", \"value\": 872.0}, {\"time\": \"2015-09-03T18:00:00.000\", \"variable\": \"generation solar\", \"value\": 668.0}, {\"time\": \"2015-09-03T19:00:00.000\", \"variable\": \"generation solar\", \"value\": 622.0}, {\"time\": \"2015-09-03T20:00:00.000\", \"variable\": \"generation solar\", \"value\": 572.0}, {\"time\": \"2015-09-03T21:00:00.000\", \"variable\": \"generation solar\", \"value\": 560.0}, {\"time\": \"2015-09-03T22:00:00.000\", \"variable\": \"generation solar\", \"value\": 19.0}, {\"time\": \"2015-09-03T23:00:00.000\", \"variable\": \"generation solar\", \"value\": 17.0}, {\"time\": \"2015-09-04T00:00:00.000\", \"variable\": \"generation solar\", \"value\": 17.0}], \"transform\": [{\"type\": \"formula\", \"expr\": \"toDate(datum['time'])\", \"as\": \"time\"}]}, {\"name\": \"source_1\", \"values\": [{\"time\": \"2015-09-01T01:00:00.000\", \"value\": 53.0, \"variable\": \"Anomalies\"}, {\"time\": \"2015-09-01T02:00:00.000\", \"value\": 42.0, \"variable\": \"Anomalies\"}, {\"time\": \"2015-09-01T03:00:00.000\", \"value\": 36.0, \"variable\": \"Anomalies\"}, {\"time\": \"2015-09-01T04:00:00.000\", \"value\": 35.0, \"variable\": \"Anomalies\"}, {\"time\": \"2015-09-01T05:00:00.000\", \"value\": 35.0, \"variable\": \"Anomalies\"}, {\"time\": \"2015-09-01T06:00:00.000\", \"value\": 55.0, \"variable\": \"Anomalies\"}, {\"time\": \"2015-09-01T10:00:00.000\", \"value\": 3712.0, \"variable\": \"Anomalies\"}, {\"time\": \"2015-09-01T11:00:00.000\", \"value\": 3901.0, \"variable\": \"Anomalies\"}, {\"time\": \"2015-09-01T12:00:00.000\", \"value\": 3907.0, \"variable\": \"Anomalies\"}, {\"time\": \"2015-09-01T13:00:00.000\", \"value\": 3833.0, \"variable\": \"Anomalies\"}, {\"time\": \"2015-09-01T19:00:00.000\", \"value\": 69.0, \"variable\": \"Anomalies\"}, {\"time\": \"2015-09-01T20:00:00.000\", \"value\": 69.0, \"variable\": \"Anomalies\"}, {\"time\": \"2015-09-01T21:00:00.000\", \"value\": 56.0, \"variable\": \"Anomalies\"}, {\"time\": \"2015-09-01T23:00:00.000\", \"value\": 73.0, \"variable\": \"Anomalies\"}, {\"time\": \"2015-09-02T00:00:00.000\", \"value\": 73.0, \"variable\": \"Anomalies\"}, {\"time\": \"2015-09-02T01:00:00.000\", \"value\": 73.0, \"variable\": \"Anomalies\"}, {\"time\": \"2015-09-02T02:00:00.000\", \"value\": 72.0, \"variable\": \"Anomalies\"}, {\"time\": \"2015-09-02T03:00:00.000\", \"value\": 73.0, \"variable\": \"Anomalies\"}, {\"time\": \"2015-09-02T04:00:00.000\", \"value\": 73.0, \"variable\": \"Anomalies\"}, {\"time\": \"2015-09-02T09:00:00.000\", \"value\": 3665.0, \"variable\": \"Anomalies\"}, {\"time\": \"2015-09-02T10:00:00.000\", \"value\": 3939.0, \"variable\": \"Anomalies\"}, {\"time\": \"2015-09-02T11:00:00.000\", \"value\": 3865.0, \"variable\": \"Anomalies\"}, {\"time\": \"2015-09-02T12:00:00.000\", \"value\": 3737.0, \"variable\": \"Anomalies\"}, {\"time\": \"2015-09-02T13:00:00.000\", \"value\": 3644.0, \"variable\": \"Anomalies\"}, {\"time\": \"2015-09-03T02:00:00.000\", \"value\": 68.0, \"variable\": \"Anomalies\"}, {\"time\": \"2015-09-03T03:00:00.000\", \"value\": 39.0, \"variable\": \"Anomalies\"}, {\"time\": \"2015-09-03T04:00:00.000\", \"value\": 39.0, \"variable\": \"Anomalies\"}, {\"time\": \"2015-09-03T05:00:00.000\", \"value\": 55.0, \"variable\": \"Anomalies\"}, {\"time\": \"2015-09-03T08:00:00.000\", \"value\": 4027.0, \"variable\": \"Anomalies\"}, {\"time\": \"2015-09-03T09:00:00.000\", \"value\": 4991.0, \"variable\": \"Anomalies\"}, {\"time\": \"2015-09-03T10:00:00.000\", \"value\": 5215.0, \"variable\": \"Anomalies\"}, {\"time\": \"2015-09-03T11:00:00.000\", \"value\": 5251.0, \"variable\": \"Anomalies\"}, {\"time\": \"2015-09-03T12:00:00.000\", \"value\": 5079.0, \"variable\": \"Anomalies\"}, {\"time\": \"2015-09-03T13:00:00.000\", \"value\": 4839.0, \"variable\": \"Anomalies\"}, {\"time\": \"2015-09-03T14:00:00.000\", \"value\": 4293.0, \"variable\": \"Anomalies\"}, {\"time\": \"2015-09-03T22:00:00.000\", \"value\": 19.0, \"variable\": \"Anomalies\"}, {\"time\": \"2015-09-03T23:00:00.000\", \"value\": 17.0, \"variable\": \"Anomalies\"}, {\"time\": \"2015-09-04T00:00:00.000\", \"value\": 17.0, \"variable\": \"Anomalies\"}], \"transform\": [{\"type\": \"formula\", \"expr\": \"toDate(datum['time'])\", \"as\": \"time\"}]}, {\"name\": \"source_0_color_domain_variable_0\", \"values\": [{\"variable\": \"generation solar\"}]}, {\"name\": \"source_1_color_domain_variable_1\", \"values\": [{\"variable\": \"Anomalies\"}]}], \"marks\": [{\"type\": \"group\", \"name\": \"layer_0_pathgroup\", \"from\": {\"facet\": {\"data\": \"source_0\", \"name\": \"faceted_path_layer_0_main\", \"groupby\": [\"variable\"]}}, \"encode\": {\"update\": {\"width\": {\"field\": {\"signal\": null, \"datum\": null, \"group\": \"width\", \"parent\": null}}, \"height\": {\"field\": {\"signal\": null, \"datum\": null, \"group\": \"height\", \"parent\": null}}}}, \"marks\": [{\"type\": \"line\", \"name\": \"layer_0_marks\", \"from\": {\"data\": \"faceted_path_layer_0_main\"}, \"sort\": {\"field\": \"x\"}, \"encode\": {\"update\": {\"stroke\": {\"field\": \"variable\", \"scale\": \"color\"}, \"y\": {\"field\": \"value\", \"scale\": \"y\"}, \"x\": {\"field\": \"time\", \"scale\": \"x\"}, \"defined\": {\"signal\": \"isValid(datum[\\\"time\\\"]) && isFinite(+datum[\\\"time\\\"]) && isValid(datum[\\\"value\\\"]) && isFinite(+datum[\\\"value\\\"])\"}}}, \"style\": [\"line\"]}]}, {\"type\": \"symbol\", \"name\": \"layer_1_marks\", \"from\": {\"data\": \"source_1\"}, \"encode\": {\"update\": {\"y\": {\"field\": \"value\", \"scale\": \"y\"}, \"fill\": {\"field\": \"variable\", \"scale\": \"color\"}, \"opacity\": {\"value\": 0.7}, \"x\": {\"field\": \"time\", \"scale\": \"x\"}, \"shape\": {\"value\": \"circle\"}}}, \"style\": [\"circle\"]}], \"scales\": [{\"name\": \"x\", \"type\": \"time\", \"domain\": {\"fields\": [{\"data\": \"source_0\", \"field\": \"time\"}, {\"data\": \"source_1\", \"field\": \"time\"}]}, \"range\": [0, {\"signal\": \"width\"}]}, {\"name\": \"y\", \"type\": \"linear\", \"domain\": {\"fields\": [{\"data\": \"source_0\", \"field\": \"value\"}, {\"data\": \"source_1\", \"field\": \"value\"}]}, \"range\": [{\"signal\": \"height\"}, 0], \"nice\": true, \"zero\": true}, {\"name\": \"color\", \"type\": \"ordinal\", \"domain\": {\"fields\": [{\"data\": \"source_0_color_domain_variable_0\", \"field\": \"variable\"}, {\"data\": \"source_1_color_domain_variable_1\", \"field\": \"variable\"}], \"sort\": true}, \"range\": \"category\"}], \"axes\": [{\"scale\": \"x\", \"zindex\": 0, \"labels\": false, \"minExtent\": 0, \"ticks\": false, \"aria\": false, \"tickCount\": {\"signal\": \"ceil(width/40)\"}, \"domain\": false, \"orient\": \"bottom\", \"gridScale\": \"y\", \"grid\": true, \"maxExtent\": 0}, {\"scale\": \"y\", \"orient\": \"left\", \"grid\": true, \"labels\": false, \"aria\": false, \"gridScale\": \"x\", \"zindex\": 0, \"ticks\": false, \"tickCount\": {\"signal\": \"ceil(height/40)\"}, \"maxExtent\": 0, \"domain\": false, \"minExtent\": 0}, {\"scale\": \"x\", \"labelFlush\": true, \"grid\": false, \"tickCount\": {\"signal\": \"ceil(width/40)\"}, \"title\": \"time\", \"labelOverlap\": true, \"orient\": \"bottom\", \"zindex\": 0}, {\"scale\": \"y\", \"orient\": \"left\", \"labelOverlap\": true, \"title\": \"value\", \"tickCount\": {\"signal\": \"ceil(height/40)\"}, \"zindex\": 0, \"grid\": false}], \"background\": \"white\", \"legends\": [{\"stroke\": \"color\", \"symbolType\": \"circle\", \"title\": \"variable\", \"fill\": \"color\", \"encode\": {\"symbols\": {\"update\": {\"opacity\": {\"value\": 0.7}}}}}], \"style\": \"cell\", \"padding\": 5, \"width\": 600, \"height\": 300}, {\"mode\": \"vega\"});\n",
       "</script>"
      ],
      "text/plain": [
       "alt.LayerChart(...)"
      ]
     },
     "execution_count": 30,
     "metadata": {},
     "output_type": "execute_result"
    }
   ],
   "source": [
    "(\n",
    "    on.Plot(test[:72])\n",
    "    .add(on.marks.line)\n",
    "    .add(on.marks.mark, data=detected_test[:72].rename({\"generation solar\": \"Anomalies\"}), type=\"dot\")\n",
    "    .properties(width=600, height=300)\n",
    "    .show()\n",
    ")"
   ]
  },
  {
   "cell_type": "markdown",
   "id": "2eef8370-d1d7-47dc-ac68-91fa9d375646",
   "metadata": {
    "papermill": {
     "duration": 0.003346,
     "end_time": "2024-01-31T17:49:36.786349",
     "exception": false,
     "start_time": "2024-01-31T17:49:36.783003",
     "status": "completed"
    },
    "tags": []
   },
   "source": [
    "What if we want to have an idea about the future problems ?"
   ]
  },
  {
   "cell_type": "code",
   "execution_count": 31,
   "id": "0e31b255-cf60-4470-910e-31fe826b9782",
   "metadata": {
    "papermill": {
     "duration": 0.024201,
     "end_time": "2024-01-31T17:49:36.813726",
     "exception": false,
     "start_time": "2024-01-31T17:49:36.789525",
     "status": "completed"
    },
    "tags": []
   },
   "outputs": [],
   "source": [
    "predetected = model.predetect(72)"
   ]
  },
  {
   "cell_type": "code",
   "execution_count": 32,
   "id": "fe406b99-9025-4553-8c3d-0237a670e513",
   "metadata": {
    "papermill": {
     "duration": 0.034856,
     "end_time": "2024-01-31T17:49:36.851882",
     "exception": false,
     "start_time": "2024-01-31T17:49:36.817026",
     "status": "completed"
    },
    "tags": []
   },
   "outputs": [
    {
     "data": {
      "text/html": [
       "\n",
       "<style>\n",
       "  #altair-viz-2fe39beece7f4fe68770a8d2530fd622.vega-embed {\n",
       "    width: 100%;\n",
       "    display: flex;\n",
       "  }\n",
       "\n",
       "  #altair-viz-2fe39beece7f4fe68770a8d2530fd622.vega-embed details,\n",
       "  #altair-viz-2fe39beece7f4fe68770a8d2530fd622.vega-embed details summary {\n",
       "    position: relative;\n",
       "  }\n",
       "</style>\n",
       "<div id=\"altair-viz-2fe39beece7f4fe68770a8d2530fd622\"></div>\n",
       "<script type=\"text/javascript\">\n",
       "  var VEGA_DEBUG = (typeof VEGA_DEBUG == \"undefined\") ? {} : VEGA_DEBUG;\n",
       "  (function(spec, embedOpt){\n",
       "    let outputDiv = document.currentScript.previousElementSibling;\n",
       "    if (outputDiv.id !== \"altair-viz-2fe39beece7f4fe68770a8d2530fd622\") {\n",
       "      outputDiv = document.getElementById(\"altair-viz-2fe39beece7f4fe68770a8d2530fd622\");\n",
       "    }\n",
       "\n",
       "    const paths = {\n",
       "      \"vega\": \"https://cdn.jsdelivr.net/npm/vega@5?noext\",\n",
       "      \"vega-lib\": \"https://cdn.jsdelivr.net/npm/vega-lib?noext\",\n",
       "      \"vega-lite\": \"https://cdn.jsdelivr.net/npm/vega-lite@5.20.1?noext\",\n",
       "      \"vega-embed\": \"https://cdn.jsdelivr.net/npm/vega-embed@6?noext\",\n",
       "    };\n",
       "\n",
       "    function maybeLoadScript(lib, version) {\n",
       "      var key = `${lib.replace(\"-\", \"\")}_version`;\n",
       "      return (VEGA_DEBUG[key] == version) ?\n",
       "        Promise.resolve(paths[lib]) :\n",
       "        new Promise(function(resolve, reject) {\n",
       "          var s = document.createElement('script');\n",
       "          document.getElementsByTagName(\"head\")[0].appendChild(s);\n",
       "          s.async = true;\n",
       "          s.onload = () => {\n",
       "            VEGA_DEBUG[key] = version;\n",
       "            return resolve(paths[lib]);\n",
       "          };\n",
       "          s.onerror = () => reject(`Error loading script: ${paths[lib]}`);\n",
       "          s.src = paths[lib];\n",
       "        });\n",
       "    }\n",
       "\n",
       "    function showError(err) {\n",
       "      outputDiv.innerHTML = `<div class=\"error\" style=\"color:red;\">${err}</div>`;\n",
       "      throw err;\n",
       "    }\n",
       "\n",
       "    function displayChart(vegaEmbed) {\n",
       "      vegaEmbed(outputDiv, spec, embedOpt)\n",
       "        .catch(err => showError(`Javascript Error: ${err.message}<br>This usually means there's a typo in your chart specification. See the javascript console for the full traceback.`));\n",
       "    }\n",
       "\n",
       "    if(typeof define === \"function\" && define.amd) {\n",
       "      requirejs.config({paths});\n",
       "      let deps = [\"vega-embed\"];\n",
       "      require(deps, displayChart, err => showError(`Error loading script: ${err.message}`));\n",
       "    } else {\n",
       "      maybeLoadScript(\"vega\", \"5\")\n",
       "        .then(() => maybeLoadScript(\"vega-lite\", \"5.20.1\"))\n",
       "        .then(() => maybeLoadScript(\"vega-embed\", \"6\"))\n",
       "        .catch(showError)\n",
       "        .then(() => displayChart(vegaEmbed));\n",
       "    }\n",
       "  })({\"$schema\": \"https://vega.github.io/schema/vega/v5.json\", \"data\": [{\"name\": \"source_0\", \"values\": [{\"time\": \"2015-09-01T01:00:00.000\", \"variable\": \"generation solar\", \"value\": 53.0}, {\"time\": \"2015-09-01T02:00:00.000\", \"variable\": \"generation solar\", \"value\": 42.0}, {\"time\": \"2015-09-01T03:00:00.000\", \"variable\": \"generation solar\", \"value\": 36.0}, {\"time\": \"2015-09-01T04:00:00.000\", \"variable\": \"generation solar\", \"value\": 35.0}, {\"time\": \"2015-09-01T05:00:00.000\", \"variable\": \"generation solar\", \"value\": 35.0}, {\"time\": \"2015-09-01T06:00:00.000\", \"variable\": \"generation solar\", \"value\": 55.0}, {\"time\": \"2015-09-01T07:00:00.000\", \"variable\": \"generation solar\", \"value\": 704.0}, {\"time\": \"2015-09-01T08:00:00.000\", \"variable\": \"generation solar\", \"value\": 1889.0}, {\"time\": \"2015-09-01T09:00:00.000\", \"variable\": \"generation solar\", \"value\": 3095.0}, {\"time\": \"2015-09-01T10:00:00.000\", \"variable\": \"generation solar\", \"value\": 3712.0}, {\"time\": \"2015-09-01T11:00:00.000\", \"variable\": \"generation solar\", \"value\": 3901.0}, {\"time\": \"2015-09-01T12:00:00.000\", \"variable\": \"generation solar\", \"value\": 3907.0}, {\"time\": \"2015-09-01T13:00:00.000\", \"variable\": \"generation solar\", \"value\": 3833.0}, {\"time\": \"2015-09-01T14:00:00.000\", \"variable\": \"generation solar\", \"value\": 3211.0}, {\"time\": \"2015-09-01T15:00:00.000\", \"variable\": \"generation solar\", \"value\": 1624.0}, {\"time\": \"2015-09-01T16:00:00.000\", \"variable\": \"generation solar\", \"value\": 493.0}, {\"time\": \"2015-09-01T17:00:00.000\", \"variable\": \"generation solar\", \"value\": 125.0}, {\"time\": \"2015-09-01T18:00:00.000\", \"variable\": \"generation solar\", \"value\": 81.0}, {\"time\": \"2015-09-01T19:00:00.000\", \"variable\": \"generation solar\", \"value\": 69.0}, {\"time\": \"2015-09-01T20:00:00.000\", \"variable\": \"generation solar\", \"value\": 69.0}, {\"time\": \"2015-09-01T21:00:00.000\", \"variable\": \"generation solar\", \"value\": 56.0}, {\"time\": \"2015-09-01T22:00:00.000\", \"variable\": \"generation solar\", \"value\": 84.0}, {\"time\": \"2015-09-01T23:00:00.000\", \"variable\": \"generation solar\", \"value\": 73.0}, {\"time\": \"2015-09-02T00:00:00.000\", \"variable\": \"generation solar\", \"value\": 73.0}, {\"time\": \"2015-09-02T01:00:00.000\", \"variable\": \"generation solar\", \"value\": 73.0}, {\"time\": \"2015-09-02T02:00:00.000\", \"variable\": \"generation solar\", \"value\": 72.0}, {\"time\": \"2015-09-02T03:00:00.000\", \"variable\": \"generation solar\", \"value\": 73.0}, {\"time\": \"2015-09-02T04:00:00.000\", \"variable\": \"generation solar\", \"value\": 73.0}, {\"time\": \"2015-09-02T05:00:00.000\", \"variable\": \"generation solar\", \"value\": 80.0}, {\"time\": \"2015-09-02T06:00:00.000\", \"variable\": \"generation solar\", \"value\": 218.0}, {\"time\": \"2015-09-02T07:00:00.000\", \"variable\": \"generation solar\", \"value\": 1296.0}, {\"time\": \"2015-09-02T08:00:00.000\", \"variable\": \"generation solar\", \"value\": 2524.0}, {\"time\": \"2015-09-02T09:00:00.000\", \"variable\": \"generation solar\", \"value\": 3665.0}, {\"time\": \"2015-09-02T10:00:00.000\", \"variable\": \"generation solar\", \"value\": 3939.0}, {\"time\": \"2015-09-02T11:00:00.000\", \"variable\": \"generation solar\", \"value\": 3865.0}, {\"time\": \"2015-09-02T12:00:00.000\", \"variable\": \"generation solar\", \"value\": 3737.0}, {\"time\": \"2015-09-02T13:00:00.000\", \"variable\": \"generation solar\", \"value\": 3644.0}, {\"time\": \"2015-09-02T14:00:00.000\", \"variable\": \"generation solar\", \"value\": 3325.0}, {\"time\": \"2015-09-02T15:00:00.000\", \"variable\": \"generation solar\", \"value\": 2346.0}, {\"time\": \"2015-09-02T16:00:00.000\", \"variable\": \"generation solar\", \"value\": 883.0}, {\"time\": \"2015-09-02T17:00:00.000\", \"variable\": \"generation solar\", \"value\": 396.0}, {\"time\": \"2015-09-02T18:00:00.000\", \"variable\": \"generation solar\", \"value\": 279.0}, {\"time\": \"2015-09-02T19:00:00.000\", \"variable\": \"generation solar\", \"value\": 171.0}, {\"time\": \"2015-09-02T20:00:00.000\", \"variable\": \"generation solar\", \"value\": 115.0}, {\"time\": \"2015-09-02T21:00:00.000\", \"variable\": \"generation solar\", \"value\": 105.0}, {\"time\": \"2015-09-02T22:00:00.000\", \"variable\": \"generation solar\", \"value\": 341.0}, {\"time\": \"2015-09-02T23:00:00.000\", \"variable\": \"generation solar\", \"value\": 225.0}, {\"time\": \"2015-09-03T00:00:00.000\", \"variable\": \"generation solar\", \"value\": 149.0}, {\"time\": \"2015-09-03T01:00:00.000\", \"variable\": \"generation solar\", \"value\": 91.0}, {\"time\": \"2015-09-03T02:00:00.000\", \"variable\": \"generation solar\", \"value\": 68.0}, {\"time\": \"2015-09-03T03:00:00.000\", \"variable\": \"generation solar\", \"value\": 39.0}, {\"time\": \"2015-09-03T04:00:00.000\", \"variable\": \"generation solar\", \"value\": 39.0}, {\"time\": \"2015-09-03T05:00:00.000\", \"variable\": \"generation solar\", \"value\": 55.0}, {\"time\": \"2015-09-03T06:00:00.000\", \"variable\": \"generation solar\", \"value\": 702.0}, {\"time\": \"2015-09-03T07:00:00.000\", \"variable\": \"generation solar\", \"value\": 2210.0}, {\"time\": \"2015-09-03T08:00:00.000\", \"variable\": \"generation solar\", \"value\": 4027.0}, {\"time\": \"2015-09-03T09:00:00.000\", \"variable\": \"generation solar\", \"value\": 4991.0}, {\"time\": \"2015-09-03T10:00:00.000\", \"variable\": \"generation solar\", \"value\": 5215.0}, {\"time\": \"2015-09-03T11:00:00.000\", \"variable\": \"generation solar\", \"value\": 5251.0}, {\"time\": \"2015-09-03T12:00:00.000\", \"variable\": \"generation solar\", \"value\": 5079.0}, {\"time\": \"2015-09-03T13:00:00.000\", \"variable\": \"generation solar\", \"value\": 4839.0}, {\"time\": \"2015-09-03T14:00:00.000\", \"variable\": \"generation solar\", \"value\": 4293.0}, {\"time\": \"2015-09-03T15:00:00.000\", \"variable\": \"generation solar\", \"value\": 3408.0}, {\"time\": \"2015-09-03T16:00:00.000\", \"variable\": \"generation solar\", \"value\": 1957.0}, {\"time\": \"2015-09-03T17:00:00.000\", \"variable\": \"generation solar\", \"value\": 872.0}, {\"time\": \"2015-09-03T18:00:00.000\", \"variable\": \"generation solar\", \"value\": 668.0}, {\"time\": \"2015-09-03T19:00:00.000\", \"variable\": \"generation solar\", \"value\": 622.0}, {\"time\": \"2015-09-03T20:00:00.000\", \"variable\": \"generation solar\", \"value\": 572.0}, {\"time\": \"2015-09-03T21:00:00.000\", \"variable\": \"generation solar\", \"value\": 560.0}, {\"time\": \"2015-09-03T22:00:00.000\", \"variable\": \"generation solar\", \"value\": 19.0}, {\"time\": \"2015-09-03T23:00:00.000\", \"variable\": \"generation solar\", \"value\": 17.0}, {\"time\": \"2015-09-04T00:00:00.000\", \"variable\": \"generation solar\", \"value\": 17.0}], \"transform\": [{\"type\": \"formula\", \"expr\": \"toDate(datum['time'])\", \"as\": \"time\"}]}, {\"name\": \"source_1\", \"values\": [{\"time\": \"2015-09-01T01:00:00.000\", \"value\": 53.0, \"variable\": \"Anomalies\"}, {\"time\": \"2015-09-01T02:00:00.000\", \"value\": 42.0, \"variable\": \"Anomalies\"}, {\"time\": \"2015-09-01T03:00:00.000\", \"value\": 36.0, \"variable\": \"Anomalies\"}, {\"time\": \"2015-09-01T04:00:00.000\", \"value\": 35.0, \"variable\": \"Anomalies\"}, {\"time\": \"2015-09-01T05:00:00.000\", \"value\": 35.0, \"variable\": \"Anomalies\"}, {\"time\": \"2015-09-01T06:00:00.000\", \"value\": 55.0, \"variable\": \"Anomalies\"}, {\"time\": \"2015-09-01T07:00:00.000\", \"value\": 704.0, \"variable\": \"Anomalies\"}, {\"time\": \"2015-09-01T21:00:00.000\", \"value\": 56.0, \"variable\": \"Anomalies\"}, {\"time\": \"2015-09-01T22:00:00.000\", \"value\": 84.0, \"variable\": \"Anomalies\"}, {\"time\": \"2015-09-01T23:00:00.000\", \"value\": 73.0, \"variable\": \"Anomalies\"}, {\"time\": \"2015-09-02T00:00:00.000\", \"value\": 73.0, \"variable\": \"Anomalies\"}, {\"time\": \"2015-09-02T01:00:00.000\", \"value\": 73.0, \"variable\": \"Anomalies\"}, {\"time\": \"2015-09-02T02:00:00.000\", \"value\": 72.0, \"variable\": \"Anomalies\"}, {\"time\": \"2015-09-02T03:00:00.000\", \"value\": 73.0, \"variable\": \"Anomalies\"}, {\"time\": \"2015-09-02T04:00:00.000\", \"value\": 73.0, \"variable\": \"Anomalies\"}, {\"time\": \"2015-09-02T18:00:00.000\", \"value\": 279.0, \"variable\": \"Anomalies\"}, {\"time\": \"2015-09-02T19:00:00.000\", \"value\": 171.0, \"variable\": \"Anomalies\"}, {\"time\": \"2015-09-02T20:00:00.000\", \"value\": 115.0, \"variable\": \"Anomalies\"}, {\"time\": \"2015-09-02T21:00:00.000\", \"value\": 105.0, \"variable\": \"Anomalies\"}], \"transform\": [{\"type\": \"formula\", \"expr\": \"toDate(datum['time'])\", \"as\": \"time\"}]}, {\"name\": \"source_0_color_domain_variable_0\", \"values\": [{\"variable\": \"generation solar\"}]}, {\"name\": \"source_1_color_domain_variable_1\", \"values\": [{\"variable\": \"Anomalies\"}]}], \"marks\": [{\"type\": \"group\", \"name\": \"layer_0_pathgroup\", \"from\": {\"facet\": {\"data\": \"source_0\", \"name\": \"faceted_path_layer_0_main\", \"groupby\": [\"variable\"]}}, \"encode\": {\"update\": {\"width\": {\"field\": {\"signal\": null, \"datum\": null, \"group\": \"width\", \"parent\": null}}, \"height\": {\"field\": {\"signal\": null, \"datum\": null, \"group\": \"height\", \"parent\": null}}}}, \"marks\": [{\"type\": \"line\", \"name\": \"layer_0_marks\", \"from\": {\"data\": \"faceted_path_layer_0_main\"}, \"sort\": {\"field\": \"x\"}, \"encode\": {\"update\": {\"stroke\": {\"field\": \"variable\", \"scale\": \"color\"}, \"defined\": {\"signal\": \"isValid(datum[\\\"time\\\"]) && isFinite(+datum[\\\"time\\\"]) && isValid(datum[\\\"value\\\"]) && isFinite(+datum[\\\"value\\\"])\"}, \"x\": {\"field\": \"time\", \"scale\": \"x\"}, \"y\": {\"field\": \"value\", \"scale\": \"y\"}}}, \"style\": [\"line\"]}]}, {\"type\": \"symbol\", \"name\": \"layer_1_marks\", \"from\": {\"data\": \"source_1\"}, \"encode\": {\"update\": {\"y\": {\"field\": \"value\", \"scale\": \"y\"}, \"shape\": {\"value\": \"circle\"}, \"opacity\": {\"value\": 0.7}, \"fill\": {\"field\": \"variable\", \"scale\": \"color\"}, \"x\": {\"field\": \"time\", \"scale\": \"x\"}}}, \"style\": [\"circle\"]}], \"scales\": [{\"name\": \"x\", \"type\": \"time\", \"domain\": {\"fields\": [{\"data\": \"source_0\", \"field\": \"time\"}, {\"data\": \"source_1\", \"field\": \"time\"}]}, \"range\": [0, {\"signal\": \"width\"}]}, {\"name\": \"y\", \"type\": \"linear\", \"domain\": {\"fields\": [{\"data\": \"source_0\", \"field\": \"value\"}, {\"data\": \"source_1\", \"field\": \"value\"}]}, \"range\": [{\"signal\": \"height\"}, 0], \"zero\": true, \"nice\": true}, {\"name\": \"color\", \"type\": \"ordinal\", \"domain\": {\"fields\": [{\"data\": \"source_0_color_domain_variable_0\", \"field\": \"variable\"}, {\"data\": \"source_1_color_domain_variable_1\", \"field\": \"variable\"}], \"sort\": true}, \"range\": \"category\"}], \"axes\": [{\"scale\": \"x\", \"maxExtent\": 0, \"tickCount\": {\"signal\": \"ceil(width/40)\"}, \"zindex\": 0, \"aria\": false, \"labels\": false, \"ticks\": false, \"domain\": false, \"minExtent\": 0, \"orient\": \"bottom\", \"gridScale\": \"y\", \"grid\": true}, {\"scale\": \"y\", \"minExtent\": 0, \"gridScale\": \"x\", \"ticks\": false, \"labels\": false, \"maxExtent\": 0, \"aria\": false, \"orient\": \"left\", \"tickCount\": {\"signal\": \"ceil(height/40)\"}, \"zindex\": 0, \"grid\": true, \"domain\": false}, {\"scale\": \"x\", \"labelFlush\": true, \"labelOverlap\": true, \"grid\": false, \"tickCount\": {\"signal\": \"ceil(width/40)\"}, \"zindex\": 0, \"orient\": \"bottom\", \"title\": \"time\"}, {\"scale\": \"y\", \"orient\": \"left\", \"labelOverlap\": true, \"grid\": false, \"title\": \"value\", \"zindex\": 0, \"tickCount\": {\"signal\": \"ceil(height/40)\"}}], \"background\": \"white\", \"padding\": 5, \"legends\": [{\"stroke\": \"color\", \"symbolType\": \"circle\", \"title\": \"variable\", \"fill\": \"color\", \"encode\": {\"symbols\": {\"update\": {\"opacity\": {\"value\": 0.7}}}}}], \"width\": 600, \"height\": 300, \"style\": \"cell\"}, {\"mode\": \"vega\"});\n",
       "</script>"
      ],
      "text/plain": [
       "alt.LayerChart(...)"
      ]
     },
     "execution_count": 32,
     "metadata": {},
     "output_type": "execute_result"
    }
   ],
   "source": [
    "(\n",
    "    on.Plot(test[:72])\n",
    "    .add(on.marks.line)\n",
    "    .add(on.marks.mark, data=predetected[:72].rename({\"generation solar\": \"Anomalies\"}), type=\"dot\")\n",
    "    .properties(width=600, height=300)\n",
    "    .show()\n",
    ")"
   ]
  },
  {
   "cell_type": "markdown",
   "id": "c1da8025-85fe-4673-806a-a7aa67053707",
   "metadata": {
    "papermill": {
     "duration": 0.003397,
     "end_time": "2024-01-31T17:49:36.858675",
     "exception": false,
     "start_time": "2024-01-31T17:49:36.855278",
     "status": "completed"
    },
    "tags": []
   },
   "source": [
    "## Data Quality Detector"
   ]
  },
  {
   "cell_type": "markdown",
   "id": "1615b1e6-38a5-48d7-9fb0-1dceffe6ac3b",
   "metadata": {},
   "source": [
    "Detect values above an absolute threshold"
   ]
  },
  {
   "cell_type": "code",
   "execution_count": 33,
   "id": "9ece9880-4d13-4489-8e67-a755d10caab5",
   "metadata": {},
   "outputs": [
    {
     "data": {
      "text/html": [
       "\n",
       "<style>\n",
       "  #altair-viz-2a1bdfd1ded44295a734de86a5f6f713.vega-embed {\n",
       "    width: 100%;\n",
       "    display: flex;\n",
       "  }\n",
       "\n",
       "  #altair-viz-2a1bdfd1ded44295a734de86a5f6f713.vega-embed details,\n",
       "  #altair-viz-2a1bdfd1ded44295a734de86a5f6f713.vega-embed details summary {\n",
       "    position: relative;\n",
       "  }\n",
       "</style>\n",
       "<div id=\"altair-viz-2a1bdfd1ded44295a734de86a5f6f713\"></div>\n",
       "<script type=\"text/javascript\">\n",
       "  var VEGA_DEBUG = (typeof VEGA_DEBUG == \"undefined\") ? {} : VEGA_DEBUG;\n",
       "  (function(spec, embedOpt){\n",
       "    let outputDiv = document.currentScript.previousElementSibling;\n",
       "    if (outputDiv.id !== \"altair-viz-2a1bdfd1ded44295a734de86a5f6f713\") {\n",
       "      outputDiv = document.getElementById(\"altair-viz-2a1bdfd1ded44295a734de86a5f6f713\");\n",
       "    }\n",
       "\n",
       "    const paths = {\n",
       "      \"vega\": \"https://cdn.jsdelivr.net/npm/vega@5?noext\",\n",
       "      \"vega-lib\": \"https://cdn.jsdelivr.net/npm/vega-lib?noext\",\n",
       "      \"vega-lite\": \"https://cdn.jsdelivr.net/npm/vega-lite@5.20.1?noext\",\n",
       "      \"vega-embed\": \"https://cdn.jsdelivr.net/npm/vega-embed@6?noext\",\n",
       "    };\n",
       "\n",
       "    function maybeLoadScript(lib, version) {\n",
       "      var key = `${lib.replace(\"-\", \"\")}_version`;\n",
       "      return (VEGA_DEBUG[key] == version) ?\n",
       "        Promise.resolve(paths[lib]) :\n",
       "        new Promise(function(resolve, reject) {\n",
       "          var s = document.createElement('script');\n",
       "          document.getElementsByTagName(\"head\")[0].appendChild(s);\n",
       "          s.async = true;\n",
       "          s.onload = () => {\n",
       "            VEGA_DEBUG[key] = version;\n",
       "            return resolve(paths[lib]);\n",
       "          };\n",
       "          s.onerror = () => reject(`Error loading script: ${paths[lib]}`);\n",
       "          s.src = paths[lib];\n",
       "        });\n",
       "    }\n",
       "\n",
       "    function showError(err) {\n",
       "      outputDiv.innerHTML = `<div class=\"error\" style=\"color:red;\">${err}</div>`;\n",
       "      throw err;\n",
       "    }\n",
       "\n",
       "    function displayChart(vegaEmbed) {\n",
       "      vegaEmbed(outputDiv, spec, embedOpt)\n",
       "        .catch(err => showError(`Javascript Error: ${err.message}<br>This usually means there's a typo in your chart specification. See the javascript console for the full traceback.`));\n",
       "    }\n",
       "\n",
       "    if(typeof define === \"function\" && define.amd) {\n",
       "      requirejs.config({paths});\n",
       "      let deps = [\"vega-embed\"];\n",
       "      require(deps, displayChart, err => showError(`Error loading script: ${err.message}`));\n",
       "    } else {\n",
       "      maybeLoadScript(\"vega\", \"5\")\n",
       "        .then(() => maybeLoadScript(\"vega-lite\", \"5.20.1\"))\n",
       "        .then(() => maybeLoadScript(\"vega-embed\", \"6\"))\n",
       "        .catch(showError)\n",
       "        .then(() => displayChart(vegaEmbed));\n",
       "    }\n",
       "  })({\"$schema\": \"https://vega.github.io/schema/vega/v5.json\", \"data\": [{\"name\": \"source_0\", \"values\": [{\"time\": \"2015-09-01T01:00:00.000\", \"variable\": \"generation solar\", \"value\": 0.0}, {\"time\": \"2015-09-01T02:00:00.000\", \"variable\": \"generation solar\", \"value\": 0.0}, {\"time\": \"2015-09-01T03:00:00.000\", \"variable\": \"generation solar\", \"value\": 0.0}, {\"time\": \"2015-09-01T04:00:00.000\", \"variable\": \"generation solar\", \"value\": 0.0}, {\"time\": \"2015-09-01T05:00:00.000\", \"variable\": \"generation solar\", \"value\": 0.0}, {\"time\": \"2015-09-01T06:00:00.000\", \"variable\": \"generation solar\", \"value\": 0.0}, {\"time\": \"2015-09-01T07:00:00.000\", \"variable\": \"generation solar\", \"value\": 0.0}, {\"time\": \"2015-09-01T08:00:00.000\", \"variable\": \"generation solar\", \"value\": 0.0}, {\"time\": \"2015-09-01T09:00:00.000\", \"variable\": \"generation solar\", \"value\": 1.0}, {\"time\": \"2015-09-01T10:00:00.000\", \"variable\": \"generation solar\", \"value\": 1.0}, {\"time\": \"2015-09-01T11:00:00.000\", \"variable\": \"generation solar\", \"value\": 1.0}, {\"time\": \"2015-09-01T12:00:00.000\", \"variable\": \"generation solar\", \"value\": 1.0}, {\"time\": \"2015-09-01T13:00:00.000\", \"variable\": \"generation solar\", \"value\": 1.0}, {\"time\": \"2015-09-01T14:00:00.000\", \"variable\": \"generation solar\", \"value\": 1.0}, {\"time\": \"2015-09-01T15:00:00.000\", \"variable\": \"generation solar\", \"value\": 0.0}, {\"time\": \"2015-09-01T16:00:00.000\", \"variable\": \"generation solar\", \"value\": 0.0}, {\"time\": \"2015-09-01T17:00:00.000\", \"variable\": \"generation solar\", \"value\": 0.0}, {\"time\": \"2015-09-01T18:00:00.000\", \"variable\": \"generation solar\", \"value\": 0.0}, {\"time\": \"2015-09-01T19:00:00.000\", \"variable\": \"generation solar\", \"value\": 0.0}, {\"time\": \"2015-09-01T20:00:00.000\", \"variable\": \"generation solar\", \"value\": 0.0}, {\"time\": \"2015-09-01T21:00:00.000\", \"variable\": \"generation solar\", \"value\": 0.0}, {\"time\": \"2015-09-01T22:00:00.000\", \"variable\": \"generation solar\", \"value\": 0.0}, {\"time\": \"2015-09-01T23:00:00.000\", \"variable\": \"generation solar\", \"value\": 0.0}, {\"time\": \"2015-09-02T00:00:00.000\", \"variable\": \"generation solar\", \"value\": 0.0}, {\"time\": \"2015-09-02T01:00:00.000\", \"variable\": \"generation solar\", \"value\": 0.0}, {\"time\": \"2015-09-02T02:00:00.000\", \"variable\": \"generation solar\", \"value\": 0.0}, {\"time\": \"2015-09-02T03:00:00.000\", \"variable\": \"generation solar\", \"value\": 0.0}, {\"time\": \"2015-09-02T04:00:00.000\", \"variable\": \"generation solar\", \"value\": 0.0}, {\"time\": \"2015-09-02T05:00:00.000\", \"variable\": \"generation solar\", \"value\": 0.0}, {\"time\": \"2015-09-02T06:00:00.000\", \"variable\": \"generation solar\", \"value\": 0.0}, {\"time\": \"2015-09-02T07:00:00.000\", \"variable\": \"generation solar\", \"value\": 0.0}, {\"time\": \"2015-09-02T08:00:00.000\", \"variable\": \"generation solar\", \"value\": 0.0}, {\"time\": \"2015-09-02T09:00:00.000\", \"variable\": \"generation solar\", \"value\": 1.0}, {\"time\": \"2015-09-02T10:00:00.000\", \"variable\": \"generation solar\", \"value\": 1.0}, {\"time\": \"2015-09-02T11:00:00.000\", \"variable\": \"generation solar\", \"value\": 1.0}, {\"time\": \"2015-09-02T12:00:00.000\", \"variable\": \"generation solar\", \"value\": 1.0}, {\"time\": \"2015-09-02T13:00:00.000\", \"variable\": \"generation solar\", \"value\": 1.0}, {\"time\": \"2015-09-02T14:00:00.000\", \"variable\": \"generation solar\", \"value\": 1.0}, {\"time\": \"2015-09-02T15:00:00.000\", \"variable\": \"generation solar\", \"value\": 0.0}, {\"time\": \"2015-09-02T16:00:00.000\", \"variable\": \"generation solar\", \"value\": 0.0}, {\"time\": \"2015-09-02T17:00:00.000\", \"variable\": \"generation solar\", \"value\": 0.0}, {\"time\": \"2015-09-02T18:00:00.000\", \"variable\": \"generation solar\", \"value\": 0.0}, {\"time\": \"2015-09-02T19:00:00.000\", \"variable\": \"generation solar\", \"value\": 0.0}, {\"time\": \"2015-09-02T20:00:00.000\", \"variable\": \"generation solar\", \"value\": 0.0}, {\"time\": \"2015-09-02T21:00:00.000\", \"variable\": \"generation solar\", \"value\": 0.0}, {\"time\": \"2015-09-02T22:00:00.000\", \"variable\": \"generation solar\", \"value\": 0.0}, {\"time\": \"2015-09-02T23:00:00.000\", \"variable\": \"generation solar\", \"value\": 0.0}, {\"time\": \"2015-09-03T00:00:00.000\", \"variable\": \"generation solar\", \"value\": 0.0}, {\"time\": \"2015-09-03T01:00:00.000\", \"variable\": \"generation solar\", \"value\": 0.0}, {\"time\": \"2015-09-03T02:00:00.000\", \"variable\": \"generation solar\", \"value\": 0.0}, {\"time\": \"2015-09-03T03:00:00.000\", \"variable\": \"generation solar\", \"value\": 0.0}, {\"time\": \"2015-09-03T04:00:00.000\", \"variable\": \"generation solar\", \"value\": 0.0}, {\"time\": \"2015-09-03T05:00:00.000\", \"variable\": \"generation solar\", \"value\": 0.0}, {\"time\": \"2015-09-03T06:00:00.000\", \"variable\": \"generation solar\", \"value\": 0.0}, {\"time\": \"2015-09-03T07:00:00.000\", \"variable\": \"generation solar\", \"value\": 0.0}, {\"time\": \"2015-09-03T08:00:00.000\", \"variable\": \"generation solar\", \"value\": 1.0}, {\"time\": \"2015-09-03T09:00:00.000\", \"variable\": \"generation solar\", \"value\": 1.0}, {\"time\": \"2015-09-03T10:00:00.000\", \"variable\": \"generation solar\", \"value\": 1.0}, {\"time\": \"2015-09-03T11:00:00.000\", \"variable\": \"generation solar\", \"value\": 1.0}, {\"time\": \"2015-09-03T12:00:00.000\", \"variable\": \"generation solar\", \"value\": 1.0}, {\"time\": \"2015-09-03T13:00:00.000\", \"variable\": \"generation solar\", \"value\": 1.0}, {\"time\": \"2015-09-03T14:00:00.000\", \"variable\": \"generation solar\", \"value\": 1.0}, {\"time\": \"2015-09-03T15:00:00.000\", \"variable\": \"generation solar\", \"value\": 1.0}, {\"time\": \"2015-09-03T16:00:00.000\", \"variable\": \"generation solar\", \"value\": 0.0}, {\"time\": \"2015-09-03T17:00:00.000\", \"variable\": \"generation solar\", \"value\": 0.0}, {\"time\": \"2015-09-03T18:00:00.000\", \"variable\": \"generation solar\", \"value\": 0.0}, {\"time\": \"2015-09-03T19:00:00.000\", \"variable\": \"generation solar\", \"value\": 0.0}, {\"time\": \"2015-09-03T20:00:00.000\", \"variable\": \"generation solar\", \"value\": 0.0}, {\"time\": \"2015-09-03T21:00:00.000\", \"variable\": \"generation solar\", \"value\": 0.0}, {\"time\": \"2015-09-03T22:00:00.000\", \"variable\": \"generation solar\", \"value\": 0.0}, {\"time\": \"2015-09-03T23:00:00.000\", \"variable\": \"generation solar\", \"value\": 0.0}, {\"time\": \"2015-09-04T00:00:00.000\", \"variable\": \"generation solar\", \"value\": 0.0}], \"transform\": [{\"type\": \"formula\", \"expr\": \"toDate(datum['time'])\", \"as\": \"time\"}]}, {\"name\": \"source_0_y_domain_value\", \"values\": [{\"min\": 0.0, \"max\": 1.0}]}, {\"name\": \"source_0_color_domain_variable\", \"values\": [{\"variable\": \"generation solar\"}]}], \"marks\": [{\"type\": \"group\", \"name\": \"layer_0_pathgroup\", \"from\": {\"facet\": {\"data\": \"source_0\", \"name\": \"faceted_path_layer_0_main\", \"groupby\": [\"variable\"]}}, \"encode\": {\"update\": {\"width\": {\"field\": {\"signal\": null, \"datum\": null, \"group\": \"width\", \"parent\": null}}, \"height\": {\"field\": {\"signal\": null, \"datum\": null, \"group\": \"height\", \"parent\": null}}}}, \"marks\": [{\"type\": \"line\", \"name\": \"layer_0_marks\", \"from\": {\"data\": \"faceted_path_layer_0_main\"}, \"sort\": {\"field\": \"x\"}, \"encode\": {\"update\": {\"defined\": {\"signal\": \"isValid(datum[\\\"time\\\"]) && isFinite(+datum[\\\"time\\\"]) && isValid(datum[\\\"value\\\"]) && isFinite(+datum[\\\"value\\\"])\"}, \"stroke\": {\"field\": \"variable\", \"scale\": \"color\"}, \"y\": {\"field\": \"value\", \"scale\": \"y\"}, \"x\": {\"field\": \"time\", \"scale\": \"x\"}}}, \"style\": [\"line\"]}]}], \"scales\": [{\"name\": \"x\", \"type\": \"time\", \"domain\": {\"data\": \"source_0\", \"field\": \"time\"}, \"range\": [0, {\"signal\": \"width\"}]}, {\"name\": \"y\", \"type\": \"linear\", \"domain\": [{\"signal\": \"(data(\\\"source_0_y_domain_value\\\")[0] || {}).min\"}, {\"signal\": \"(data(\\\"source_0_y_domain_value\\\")[0] || {}).max\"}], \"range\": [{\"signal\": \"height\"}, 0], \"nice\": true, \"zero\": true}, {\"name\": \"color\", \"type\": \"ordinal\", \"domain\": {\"data\": \"source_0_color_domain_variable\", \"field\": \"variable\", \"sort\": true}, \"range\": \"category\"}], \"axes\": [{\"scale\": \"x\", \"aria\": false, \"ticks\": false, \"minExtent\": 0, \"domain\": false, \"orient\": \"bottom\", \"zindex\": 0, \"labels\": false, \"gridScale\": \"y\", \"tickCount\": {\"signal\": \"ceil(width/40)\"}, \"grid\": true, \"maxExtent\": 0}, {\"scale\": \"y\", \"domain\": false, \"ticks\": false, \"grid\": true, \"labels\": false, \"maxExtent\": 0, \"tickCount\": {\"signal\": \"ceil(height/40)\"}, \"gridScale\": \"x\", \"aria\": false, \"minExtent\": 0, \"zindex\": 0, \"orient\": \"left\"}, {\"scale\": \"x\", \"tickCount\": {\"signal\": \"ceil(width/40)\"}, \"grid\": false, \"orient\": \"bottom\", \"zindex\": 0, \"labelOverlap\": true, \"labelFlush\": true, \"title\": \"time\"}, {\"scale\": \"y\", \"title\": \"value\", \"labelOverlap\": true, \"orient\": \"left\", \"grid\": false, \"tickCount\": {\"signal\": \"ceil(height/40)\"}, \"zindex\": 0}], \"legends\": [{\"stroke\": \"color\", \"symbolType\": \"stroke\", \"title\": \"variable\"}], \"height\": 200, \"width\": 400, \"background\": \"white\", \"style\": \"cell\", \"padding\": 5}, {\"mode\": \"vega\"});\n",
       "</script>"
      ],
      "text/plain": [
       "alt.LayerChart(...)"
      ]
     },
     "execution_count": 33,
     "metadata": {},
     "output_type": "execute_result"
    }
   ],
   "source": [
    "detector = common.DataQualityDetector(\n",
    "    threshold_type='threshold', \n",
    "    upper_threshold=3000\n",
    ")\n",
    "\n",
    "# Fitting on some data\n",
    "detector.fit(test)\n",
    "\n",
    "# Detecting on other\n",
    "detector.detect(test[:72]).plot()"
   ]
  },
  {
   "cell_type": "markdown",
   "id": "2dbe4993-a119-4a77-b3a7-3f27c93c07f3",
   "metadata": {},
   "source": [
    "Or between two thresholds "
   ]
  },
  {
   "cell_type": "code",
   "execution_count": 34,
   "id": "70588b2e-70fd-415b-b51a-8f6ba3bbb48e",
   "metadata": {},
   "outputs": [
    {
     "data": {
      "text/html": [
       "\n",
       "<style>\n",
       "  #altair-viz-81e53ff73b5a4d9ba959478004f1ce13.vega-embed {\n",
       "    width: 100%;\n",
       "    display: flex;\n",
       "  }\n",
       "\n",
       "  #altair-viz-81e53ff73b5a4d9ba959478004f1ce13.vega-embed details,\n",
       "  #altair-viz-81e53ff73b5a4d9ba959478004f1ce13.vega-embed details summary {\n",
       "    position: relative;\n",
       "  }\n",
       "</style>\n",
       "<div id=\"altair-viz-81e53ff73b5a4d9ba959478004f1ce13\"></div>\n",
       "<script type=\"text/javascript\">\n",
       "  var VEGA_DEBUG = (typeof VEGA_DEBUG == \"undefined\") ? {} : VEGA_DEBUG;\n",
       "  (function(spec, embedOpt){\n",
       "    let outputDiv = document.currentScript.previousElementSibling;\n",
       "    if (outputDiv.id !== \"altair-viz-81e53ff73b5a4d9ba959478004f1ce13\") {\n",
       "      outputDiv = document.getElementById(\"altair-viz-81e53ff73b5a4d9ba959478004f1ce13\");\n",
       "    }\n",
       "\n",
       "    const paths = {\n",
       "      \"vega\": \"https://cdn.jsdelivr.net/npm/vega@5?noext\",\n",
       "      \"vega-lib\": \"https://cdn.jsdelivr.net/npm/vega-lib?noext\",\n",
       "      \"vega-lite\": \"https://cdn.jsdelivr.net/npm/vega-lite@5.20.1?noext\",\n",
       "      \"vega-embed\": \"https://cdn.jsdelivr.net/npm/vega-embed@6?noext\",\n",
       "    };\n",
       "\n",
       "    function maybeLoadScript(lib, version) {\n",
       "      var key = `${lib.replace(\"-\", \"\")}_version`;\n",
       "      return (VEGA_DEBUG[key] == version) ?\n",
       "        Promise.resolve(paths[lib]) :\n",
       "        new Promise(function(resolve, reject) {\n",
       "          var s = document.createElement('script');\n",
       "          document.getElementsByTagName(\"head\")[0].appendChild(s);\n",
       "          s.async = true;\n",
       "          s.onload = () => {\n",
       "            VEGA_DEBUG[key] = version;\n",
       "            return resolve(paths[lib]);\n",
       "          };\n",
       "          s.onerror = () => reject(`Error loading script: ${paths[lib]}`);\n",
       "          s.src = paths[lib];\n",
       "        });\n",
       "    }\n",
       "\n",
       "    function showError(err) {\n",
       "      outputDiv.innerHTML = `<div class=\"error\" style=\"color:red;\">${err}</div>`;\n",
       "      throw err;\n",
       "    }\n",
       "\n",
       "    function displayChart(vegaEmbed) {\n",
       "      vegaEmbed(outputDiv, spec, embedOpt)\n",
       "        .catch(err => showError(`Javascript Error: ${err.message}<br>This usually means there's a typo in your chart specification. See the javascript console for the full traceback.`));\n",
       "    }\n",
       "\n",
       "    if(typeof define === \"function\" && define.amd) {\n",
       "      requirejs.config({paths});\n",
       "      let deps = [\"vega-embed\"];\n",
       "      require(deps, displayChart, err => showError(`Error loading script: ${err.message}`));\n",
       "    } else {\n",
       "      maybeLoadScript(\"vega\", \"5\")\n",
       "        .then(() => maybeLoadScript(\"vega-lite\", \"5.20.1\"))\n",
       "        .then(() => maybeLoadScript(\"vega-embed\", \"6\"))\n",
       "        .catch(showError)\n",
       "        .then(() => displayChart(vegaEmbed));\n",
       "    }\n",
       "  })({\"$schema\": \"https://vega.github.io/schema/vega/v5.json\", \"data\": [{\"name\": \"source_0\", \"values\": [{\"time\": \"2015-09-01T01:00:00.000\", \"variable\": \"generation solar\", \"value\": 1.0}, {\"time\": \"2015-09-01T02:00:00.000\", \"variable\": \"generation solar\", \"value\": 1.0}, {\"time\": \"2015-09-01T03:00:00.000\", \"variable\": \"generation solar\", \"value\": 1.0}, {\"time\": \"2015-09-01T04:00:00.000\", \"variable\": \"generation solar\", \"value\": 1.0}, {\"time\": \"2015-09-01T05:00:00.000\", \"variable\": \"generation solar\", \"value\": 1.0}, {\"time\": \"2015-09-01T06:00:00.000\", \"variable\": \"generation solar\", \"value\": 1.0}, {\"time\": \"2015-09-01T07:00:00.000\", \"variable\": \"generation solar\", \"value\": 1.0}, {\"time\": \"2015-09-01T08:00:00.000\", \"variable\": \"generation solar\", \"value\": 0.0}, {\"time\": \"2015-09-01T09:00:00.000\", \"variable\": \"generation solar\", \"value\": 1.0}, {\"time\": \"2015-09-01T10:00:00.000\", \"variable\": \"generation solar\", \"value\": 1.0}, {\"time\": \"2015-09-01T11:00:00.000\", \"variable\": \"generation solar\", \"value\": 1.0}, {\"time\": \"2015-09-01T12:00:00.000\", \"variable\": \"generation solar\", \"value\": 1.0}, {\"time\": \"2015-09-01T13:00:00.000\", \"variable\": \"generation solar\", \"value\": 1.0}, {\"time\": \"2015-09-01T14:00:00.000\", \"variable\": \"generation solar\", \"value\": 1.0}, {\"time\": \"2015-09-01T15:00:00.000\", \"variable\": \"generation solar\", \"value\": 0.0}, {\"time\": \"2015-09-01T16:00:00.000\", \"variable\": \"generation solar\", \"value\": 1.0}, {\"time\": \"2015-09-01T17:00:00.000\", \"variable\": \"generation solar\", \"value\": 1.0}, {\"time\": \"2015-09-01T18:00:00.000\", \"variable\": \"generation solar\", \"value\": 1.0}, {\"time\": \"2015-09-01T19:00:00.000\", \"variable\": \"generation solar\", \"value\": 1.0}, {\"time\": \"2015-09-01T20:00:00.000\", \"variable\": \"generation solar\", \"value\": 1.0}, {\"time\": \"2015-09-01T21:00:00.000\", \"variable\": \"generation solar\", \"value\": 1.0}, {\"time\": \"2015-09-01T22:00:00.000\", \"variable\": \"generation solar\", \"value\": 1.0}, {\"time\": \"2015-09-01T23:00:00.000\", \"variable\": \"generation solar\", \"value\": 1.0}, {\"time\": \"2015-09-02T00:00:00.000\", \"variable\": \"generation solar\", \"value\": 1.0}, {\"time\": \"2015-09-02T01:00:00.000\", \"variable\": \"generation solar\", \"value\": 1.0}, {\"time\": \"2015-09-02T02:00:00.000\", \"variable\": \"generation solar\", \"value\": 1.0}, {\"time\": \"2015-09-02T03:00:00.000\", \"variable\": \"generation solar\", \"value\": 1.0}, {\"time\": \"2015-09-02T04:00:00.000\", \"variable\": \"generation solar\", \"value\": 1.0}, {\"time\": \"2015-09-02T05:00:00.000\", \"variable\": \"generation solar\", \"value\": 1.0}, {\"time\": \"2015-09-02T06:00:00.000\", \"variable\": \"generation solar\", \"value\": 1.0}, {\"time\": \"2015-09-02T07:00:00.000\", \"variable\": \"generation solar\", \"value\": 0.0}, {\"time\": \"2015-09-02T08:00:00.000\", \"variable\": \"generation solar\", \"value\": 0.0}, {\"time\": \"2015-09-02T09:00:00.000\", \"variable\": \"generation solar\", \"value\": 1.0}, {\"time\": \"2015-09-02T10:00:00.000\", \"variable\": \"generation solar\", \"value\": 1.0}, {\"time\": \"2015-09-02T11:00:00.000\", \"variable\": \"generation solar\", \"value\": 1.0}, {\"time\": \"2015-09-02T12:00:00.000\", \"variable\": \"generation solar\", \"value\": 1.0}, {\"time\": \"2015-09-02T13:00:00.000\", \"variable\": \"generation solar\", \"value\": 1.0}, {\"time\": \"2015-09-02T14:00:00.000\", \"variable\": \"generation solar\", \"value\": 1.0}, {\"time\": \"2015-09-02T15:00:00.000\", \"variable\": \"generation solar\", \"value\": 0.0}, {\"time\": \"2015-09-02T16:00:00.000\", \"variable\": \"generation solar\", \"value\": 1.0}, {\"time\": \"2015-09-02T17:00:00.000\", \"variable\": \"generation solar\", \"value\": 1.0}, {\"time\": \"2015-09-02T18:00:00.000\", \"variable\": \"generation solar\", \"value\": 1.0}, {\"time\": \"2015-09-02T19:00:00.000\", \"variable\": \"generation solar\", \"value\": 1.0}, {\"time\": \"2015-09-02T20:00:00.000\", \"variable\": \"generation solar\", \"value\": 1.0}, {\"time\": \"2015-09-02T21:00:00.000\", \"variable\": \"generation solar\", \"value\": 1.0}, {\"time\": \"2015-09-02T22:00:00.000\", \"variable\": \"generation solar\", \"value\": 1.0}, {\"time\": \"2015-09-02T23:00:00.000\", \"variable\": \"generation solar\", \"value\": 1.0}, {\"time\": \"2015-09-03T00:00:00.000\", \"variable\": \"generation solar\", \"value\": 1.0}, {\"time\": \"2015-09-03T01:00:00.000\", \"variable\": \"generation solar\", \"value\": 1.0}, {\"time\": \"2015-09-03T02:00:00.000\", \"variable\": \"generation solar\", \"value\": 1.0}, {\"time\": \"2015-09-03T03:00:00.000\", \"variable\": \"generation solar\", \"value\": 1.0}, {\"time\": \"2015-09-03T04:00:00.000\", \"variable\": \"generation solar\", \"value\": 1.0}, {\"time\": \"2015-09-03T05:00:00.000\", \"variable\": \"generation solar\", \"value\": 1.0}, {\"time\": \"2015-09-03T06:00:00.000\", \"variable\": \"generation solar\", \"value\": 1.0}, {\"time\": \"2015-09-03T07:00:00.000\", \"variable\": \"generation solar\", \"value\": 0.0}, {\"time\": \"2015-09-03T08:00:00.000\", \"variable\": \"generation solar\", \"value\": 1.0}, {\"time\": \"2015-09-03T09:00:00.000\", \"variable\": \"generation solar\", \"value\": 1.0}, {\"time\": \"2015-09-03T10:00:00.000\", \"variable\": \"generation solar\", \"value\": 1.0}, {\"time\": \"2015-09-03T11:00:00.000\", \"variable\": \"generation solar\", \"value\": 1.0}, {\"time\": \"2015-09-03T12:00:00.000\", \"variable\": \"generation solar\", \"value\": 1.0}, {\"time\": \"2015-09-03T13:00:00.000\", \"variable\": \"generation solar\", \"value\": 1.0}, {\"time\": \"2015-09-03T14:00:00.000\", \"variable\": \"generation solar\", \"value\": 1.0}, {\"time\": \"2015-09-03T15:00:00.000\", \"variable\": \"generation solar\", \"value\": 1.0}, {\"time\": \"2015-09-03T16:00:00.000\", \"variable\": \"generation solar\", \"value\": 0.0}, {\"time\": \"2015-09-03T17:00:00.000\", \"variable\": \"generation solar\", \"value\": 1.0}, {\"time\": \"2015-09-03T18:00:00.000\", \"variable\": \"generation solar\", \"value\": 1.0}, {\"time\": \"2015-09-03T19:00:00.000\", \"variable\": \"generation solar\", \"value\": 1.0}, {\"time\": \"2015-09-03T20:00:00.000\", \"variable\": \"generation solar\", \"value\": 1.0}, {\"time\": \"2015-09-03T21:00:00.000\", \"variable\": \"generation solar\", \"value\": 1.0}, {\"time\": \"2015-09-03T22:00:00.000\", \"variable\": \"generation solar\", \"value\": 1.0}, {\"time\": \"2015-09-03T23:00:00.000\", \"variable\": \"generation solar\", \"value\": 1.0}, {\"time\": \"2015-09-04T00:00:00.000\", \"variable\": \"generation solar\", \"value\": 1.0}], \"transform\": [{\"type\": \"formula\", \"expr\": \"toDate(datum['time'])\", \"as\": \"time\"}]}, {\"name\": \"source_0_y_domain_value\", \"values\": [{\"min\": 0.0, \"max\": 1.0}]}, {\"name\": \"source_0_color_domain_variable\", \"values\": [{\"variable\": \"generation solar\"}]}], \"marks\": [{\"type\": \"group\", \"name\": \"layer_0_pathgroup\", \"from\": {\"facet\": {\"data\": \"source_0\", \"name\": \"faceted_path_layer_0_main\", \"groupby\": [\"variable\"]}}, \"encode\": {\"update\": {\"height\": {\"field\": {\"signal\": null, \"datum\": null, \"group\": \"height\", \"parent\": null}}, \"width\": {\"field\": {\"signal\": null, \"datum\": null, \"group\": \"width\", \"parent\": null}}}}, \"marks\": [{\"type\": \"line\", \"name\": \"layer_0_marks\", \"from\": {\"data\": \"faceted_path_layer_0_main\"}, \"sort\": {\"field\": \"x\"}, \"encode\": {\"update\": {\"x\": {\"field\": \"time\", \"scale\": \"x\"}, \"defined\": {\"signal\": \"isValid(datum[\\\"time\\\"]) && isFinite(+datum[\\\"time\\\"]) && isValid(datum[\\\"value\\\"]) && isFinite(+datum[\\\"value\\\"])\"}, \"y\": {\"field\": \"value\", \"scale\": \"y\"}, \"stroke\": {\"field\": \"variable\", \"scale\": \"color\"}}}, \"style\": [\"line\"]}]}], \"scales\": [{\"name\": \"x\", \"type\": \"time\", \"domain\": {\"data\": \"source_0\", \"field\": \"time\"}, \"range\": [0, {\"signal\": \"width\"}]}, {\"name\": \"y\", \"type\": \"linear\", \"domain\": [{\"signal\": \"(data(\\\"source_0_y_domain_value\\\")[0] || {}).min\"}, {\"signal\": \"(data(\\\"source_0_y_domain_value\\\")[0] || {}).max\"}], \"range\": [{\"signal\": \"height\"}, 0], \"nice\": true, \"zero\": true}, {\"name\": \"color\", \"type\": \"ordinal\", \"domain\": {\"data\": \"source_0_color_domain_variable\", \"field\": \"variable\", \"sort\": true}, \"range\": \"category\"}], \"axes\": [{\"scale\": \"x\", \"tickCount\": {\"signal\": \"ceil(width/40)\"}, \"orient\": \"bottom\", \"gridScale\": \"y\", \"grid\": true, \"aria\": false, \"labels\": false, \"ticks\": false, \"domain\": false, \"minExtent\": 0, \"zindex\": 0, \"maxExtent\": 0}, {\"scale\": \"y\", \"grid\": true, \"ticks\": false, \"zindex\": 0, \"gridScale\": \"x\", \"tickCount\": {\"signal\": \"ceil(height/40)\"}, \"maxExtent\": 0, \"aria\": false, \"orient\": \"left\", \"domain\": false, \"labels\": false, \"minExtent\": 0}, {\"scale\": \"x\", \"grid\": false, \"labelOverlap\": true, \"labelFlush\": true, \"zindex\": 0, \"tickCount\": {\"signal\": \"ceil(width/40)\"}, \"title\": \"time\", \"orient\": \"bottom\"}, {\"scale\": \"y\", \"orient\": \"left\", \"title\": \"value\", \"tickCount\": {\"signal\": \"ceil(height/40)\"}, \"grid\": false, \"zindex\": 0, \"labelOverlap\": true}], \"width\": 400, \"padding\": 5, \"style\": \"cell\", \"height\": 200, \"background\": \"white\", \"legends\": [{\"stroke\": \"color\", \"symbolType\": \"stroke\", \"title\": \"variable\"}]}, {\"mode\": \"vega\"});\n",
       "</script>"
      ],
      "text/plain": [
       "alt.LayerChart(...)"
      ]
     },
     "execution_count": 34,
     "metadata": {},
     "output_type": "execute_result"
    }
   ],
   "source": [
    "detector = common.DataQualityDetector(\n",
    "    threshold_type='threshold', \n",
    "    upper_threshold=3000,\n",
    "    lower_threshold=1000\n",
    ")\n",
    "\n",
    "# Fitting on some data\n",
    "detector.fit(test)\n",
    "\n",
    "# Detecting on other\n",
    "detector.detect(test[:72]).plot()"
   ]
  },
  {
   "cell_type": "markdown",
   "id": "73438221-04c7-406d-ac8f-0aaf77aeb47e",
   "metadata": {},
   "source": [
    "Or within a statistical range"
   ]
  },
  {
   "cell_type": "code",
   "execution_count": 35,
   "id": "690c0441-c305-491a-91ac-83bd0908e38c",
   "metadata": {},
   "outputs": [
    {
     "data": {
      "text/html": [
       "\n",
       "<style>\n",
       "  #altair-viz-f06773f54bc24d62acb7c4b386d3bcae.vega-embed {\n",
       "    width: 100%;\n",
       "    display: flex;\n",
       "  }\n",
       "\n",
       "  #altair-viz-f06773f54bc24d62acb7c4b386d3bcae.vega-embed details,\n",
       "  #altair-viz-f06773f54bc24d62acb7c4b386d3bcae.vega-embed details summary {\n",
       "    position: relative;\n",
       "  }\n",
       "</style>\n",
       "<div id=\"altair-viz-f06773f54bc24d62acb7c4b386d3bcae\"></div>\n",
       "<script type=\"text/javascript\">\n",
       "  var VEGA_DEBUG = (typeof VEGA_DEBUG == \"undefined\") ? {} : VEGA_DEBUG;\n",
       "  (function(spec, embedOpt){\n",
       "    let outputDiv = document.currentScript.previousElementSibling;\n",
       "    if (outputDiv.id !== \"altair-viz-f06773f54bc24d62acb7c4b386d3bcae\") {\n",
       "      outputDiv = document.getElementById(\"altair-viz-f06773f54bc24d62acb7c4b386d3bcae\");\n",
       "    }\n",
       "\n",
       "    const paths = {\n",
       "      \"vega\": \"https://cdn.jsdelivr.net/npm/vega@5?noext\",\n",
       "      \"vega-lib\": \"https://cdn.jsdelivr.net/npm/vega-lib?noext\",\n",
       "      \"vega-lite\": \"https://cdn.jsdelivr.net/npm/vega-lite@5.20.1?noext\",\n",
       "      \"vega-embed\": \"https://cdn.jsdelivr.net/npm/vega-embed@6?noext\",\n",
       "    };\n",
       "\n",
       "    function maybeLoadScript(lib, version) {\n",
       "      var key = `${lib.replace(\"-\", \"\")}_version`;\n",
       "      return (VEGA_DEBUG[key] == version) ?\n",
       "        Promise.resolve(paths[lib]) :\n",
       "        new Promise(function(resolve, reject) {\n",
       "          var s = document.createElement('script');\n",
       "          document.getElementsByTagName(\"head\")[0].appendChild(s);\n",
       "          s.async = true;\n",
       "          s.onload = () => {\n",
       "            VEGA_DEBUG[key] = version;\n",
       "            return resolve(paths[lib]);\n",
       "          };\n",
       "          s.onerror = () => reject(`Error loading script: ${paths[lib]}`);\n",
       "          s.src = paths[lib];\n",
       "        });\n",
       "    }\n",
       "\n",
       "    function showError(err) {\n",
       "      outputDiv.innerHTML = `<div class=\"error\" style=\"color:red;\">${err}</div>`;\n",
       "      throw err;\n",
       "    }\n",
       "\n",
       "    function displayChart(vegaEmbed) {\n",
       "      vegaEmbed(outputDiv, spec, embedOpt)\n",
       "        .catch(err => showError(`Javascript Error: ${err.message}<br>This usually means there's a typo in your chart specification. See the javascript console for the full traceback.`));\n",
       "    }\n",
       "\n",
       "    if(typeof define === \"function\" && define.amd) {\n",
       "      requirejs.config({paths});\n",
       "      let deps = [\"vega-embed\"];\n",
       "      require(deps, displayChart, err => showError(`Error loading script: ${err.message}`));\n",
       "    } else {\n",
       "      maybeLoadScript(\"vega\", \"5\")\n",
       "        .then(() => maybeLoadScript(\"vega-lite\", \"5.20.1\"))\n",
       "        .then(() => maybeLoadScript(\"vega-embed\", \"6\"))\n",
       "        .catch(showError)\n",
       "        .then(() => displayChart(vegaEmbed));\n",
       "    }\n",
       "  })({\"$schema\": \"https://vega.github.io/schema/vega/v5.json\", \"data\": [{\"name\": \"source_0\", \"values\": [{\"time\": \"2015-09-01T01:00:00.000\", \"variable\": \"generation solar\", \"value\": 0.0}, {\"time\": \"2015-09-01T02:00:00.000\", \"variable\": \"generation solar\", \"value\": 0.0}, {\"time\": \"2015-09-01T03:00:00.000\", \"variable\": \"generation solar\", \"value\": 0.0}, {\"time\": \"2015-09-01T04:00:00.000\", \"variable\": \"generation solar\", \"value\": 0.0}, {\"time\": \"2015-09-01T05:00:00.000\", \"variable\": \"generation solar\", \"value\": 0.0}, {\"time\": \"2015-09-01T06:00:00.000\", \"variable\": \"generation solar\", \"value\": 0.0}, {\"time\": \"2015-09-01T07:00:00.000\", \"variable\": \"generation solar\", \"value\": 0.0}, {\"time\": \"2015-09-01T08:00:00.000\", \"variable\": \"generation solar\", \"value\": 0.0}, {\"time\": \"2015-09-01T09:00:00.000\", \"variable\": \"generation solar\", \"value\": 1.0}, {\"time\": \"2015-09-01T10:00:00.000\", \"variable\": \"generation solar\", \"value\": 1.0}, {\"time\": \"2015-09-01T11:00:00.000\", \"variable\": \"generation solar\", \"value\": 1.0}, {\"time\": \"2015-09-01T12:00:00.000\", \"variable\": \"generation solar\", \"value\": 1.0}, {\"time\": \"2015-09-01T13:00:00.000\", \"variable\": \"generation solar\", \"value\": 1.0}, {\"time\": \"2015-09-01T14:00:00.000\", \"variable\": \"generation solar\", \"value\": 1.0}, {\"time\": \"2015-09-01T15:00:00.000\", \"variable\": \"generation solar\", \"value\": 0.0}, {\"time\": \"2015-09-01T16:00:00.000\", \"variable\": \"generation solar\", \"value\": 0.0}, {\"time\": \"2015-09-01T17:00:00.000\", \"variable\": \"generation solar\", \"value\": 0.0}, {\"time\": \"2015-09-01T18:00:00.000\", \"variable\": \"generation solar\", \"value\": 0.0}, {\"time\": \"2015-09-01T19:00:00.000\", \"variable\": \"generation solar\", \"value\": 0.0}, {\"time\": \"2015-09-01T20:00:00.000\", \"variable\": \"generation solar\", \"value\": 0.0}, {\"time\": \"2015-09-01T21:00:00.000\", \"variable\": \"generation solar\", \"value\": 0.0}, {\"time\": \"2015-09-01T22:00:00.000\", \"variable\": \"generation solar\", \"value\": 0.0}, {\"time\": \"2015-09-01T23:00:00.000\", \"variable\": \"generation solar\", \"value\": 0.0}, {\"time\": \"2015-09-02T00:00:00.000\", \"variable\": \"generation solar\", \"value\": 0.0}, {\"time\": \"2015-09-02T01:00:00.000\", \"variable\": \"generation solar\", \"value\": 0.0}, {\"time\": \"2015-09-02T02:00:00.000\", \"variable\": \"generation solar\", \"value\": 0.0}, {\"time\": \"2015-09-02T03:00:00.000\", \"variable\": \"generation solar\", \"value\": 0.0}, {\"time\": \"2015-09-02T04:00:00.000\", \"variable\": \"generation solar\", \"value\": 0.0}, {\"time\": \"2015-09-02T05:00:00.000\", \"variable\": \"generation solar\", \"value\": 0.0}, {\"time\": \"2015-09-02T06:00:00.000\", \"variable\": \"generation solar\", \"value\": 0.0}, {\"time\": \"2015-09-02T07:00:00.000\", \"variable\": \"generation solar\", \"value\": 0.0}, {\"time\": \"2015-09-02T08:00:00.000\", \"variable\": \"generation solar\", \"value\": 0.0}, {\"time\": \"2015-09-02T09:00:00.000\", \"variable\": \"generation solar\", \"value\": 1.0}, {\"time\": \"2015-09-02T10:00:00.000\", \"variable\": \"generation solar\", \"value\": 1.0}, {\"time\": \"2015-09-02T11:00:00.000\", \"variable\": \"generation solar\", \"value\": 1.0}, {\"time\": \"2015-09-02T12:00:00.000\", \"variable\": \"generation solar\", \"value\": 1.0}, {\"time\": \"2015-09-02T13:00:00.000\", \"variable\": \"generation solar\", \"value\": 1.0}, {\"time\": \"2015-09-02T14:00:00.000\", \"variable\": \"generation solar\", \"value\": 1.0}, {\"time\": \"2015-09-02T15:00:00.000\", \"variable\": \"generation solar\", \"value\": 0.0}, {\"time\": \"2015-09-02T16:00:00.000\", \"variable\": \"generation solar\", \"value\": 0.0}, {\"time\": \"2015-09-02T17:00:00.000\", \"variable\": \"generation solar\", \"value\": 0.0}, {\"time\": \"2015-09-02T18:00:00.000\", \"variable\": \"generation solar\", \"value\": 0.0}, {\"time\": \"2015-09-02T19:00:00.000\", \"variable\": \"generation solar\", \"value\": 0.0}, {\"time\": \"2015-09-02T20:00:00.000\", \"variable\": \"generation solar\", \"value\": 0.0}, {\"time\": \"2015-09-02T21:00:00.000\", \"variable\": \"generation solar\", \"value\": 0.0}, {\"time\": \"2015-09-02T22:00:00.000\", \"variable\": \"generation solar\", \"value\": 0.0}, {\"time\": \"2015-09-02T23:00:00.000\", \"variable\": \"generation solar\", \"value\": 0.0}, {\"time\": \"2015-09-03T00:00:00.000\", \"variable\": \"generation solar\", \"value\": 0.0}, {\"time\": \"2015-09-03T01:00:00.000\", \"variable\": \"generation solar\", \"value\": 0.0}, {\"time\": \"2015-09-03T02:00:00.000\", \"variable\": \"generation solar\", \"value\": 0.0}, {\"time\": \"2015-09-03T03:00:00.000\", \"variable\": \"generation solar\", \"value\": 0.0}, {\"time\": \"2015-09-03T04:00:00.000\", \"variable\": \"generation solar\", \"value\": 0.0}, {\"time\": \"2015-09-03T05:00:00.000\", \"variable\": \"generation solar\", \"value\": 0.0}, {\"time\": \"2015-09-03T06:00:00.000\", \"variable\": \"generation solar\", \"value\": 0.0}, {\"time\": \"2015-09-03T07:00:00.000\", \"variable\": \"generation solar\", \"value\": 0.0}, {\"time\": \"2015-09-03T08:00:00.000\", \"variable\": \"generation solar\", \"value\": 1.0}, {\"time\": \"2015-09-03T09:00:00.000\", \"variable\": \"generation solar\", \"value\": 1.0}, {\"time\": \"2015-09-03T10:00:00.000\", \"variable\": \"generation solar\", \"value\": 1.0}, {\"time\": \"2015-09-03T11:00:00.000\", \"variable\": \"generation solar\", \"value\": 1.0}, {\"time\": \"2015-09-03T12:00:00.000\", \"variable\": \"generation solar\", \"value\": 1.0}, {\"time\": \"2015-09-03T13:00:00.000\", \"variable\": \"generation solar\", \"value\": 1.0}, {\"time\": \"2015-09-03T14:00:00.000\", \"variable\": \"generation solar\", \"value\": 1.0}, {\"time\": \"2015-09-03T15:00:00.000\", \"variable\": \"generation solar\", \"value\": 1.0}, {\"time\": \"2015-09-03T16:00:00.000\", \"variable\": \"generation solar\", \"value\": 0.0}, {\"time\": \"2015-09-03T17:00:00.000\", \"variable\": \"generation solar\", \"value\": 0.0}, {\"time\": \"2015-09-03T18:00:00.000\", \"variable\": \"generation solar\", \"value\": 0.0}, {\"time\": \"2015-09-03T19:00:00.000\", \"variable\": \"generation solar\", \"value\": 0.0}, {\"time\": \"2015-09-03T20:00:00.000\", \"variable\": \"generation solar\", \"value\": 0.0}, {\"time\": \"2015-09-03T21:00:00.000\", \"variable\": \"generation solar\", \"value\": 0.0}, {\"time\": \"2015-09-03T22:00:00.000\", \"variable\": \"generation solar\", \"value\": 0.0}, {\"time\": \"2015-09-03T23:00:00.000\", \"variable\": \"generation solar\", \"value\": 0.0}, {\"time\": \"2015-09-04T00:00:00.000\", \"variable\": \"generation solar\", \"value\": 0.0}], \"transform\": [{\"type\": \"formula\", \"expr\": \"toDate(datum['time'])\", \"as\": \"time\"}]}, {\"name\": \"source_0_y_domain_value\", \"values\": [{\"min\": 0.0, \"max\": 1.0}]}, {\"name\": \"source_0_color_domain_variable\", \"values\": [{\"variable\": \"generation solar\"}]}], \"marks\": [{\"type\": \"group\", \"name\": \"layer_0_pathgroup\", \"from\": {\"facet\": {\"data\": \"source_0\", \"name\": \"faceted_path_layer_0_main\", \"groupby\": [\"variable\"]}}, \"encode\": {\"update\": {\"height\": {\"field\": {\"signal\": null, \"datum\": null, \"group\": \"height\", \"parent\": null}}, \"width\": {\"field\": {\"signal\": null, \"datum\": null, \"group\": \"width\", \"parent\": null}}}}, \"marks\": [{\"type\": \"line\", \"name\": \"layer_0_marks\", \"from\": {\"data\": \"faceted_path_layer_0_main\"}, \"sort\": {\"field\": \"x\"}, \"encode\": {\"update\": {\"stroke\": {\"field\": \"variable\", \"scale\": \"color\"}, \"x\": {\"field\": \"time\", \"scale\": \"x\"}, \"y\": {\"field\": \"value\", \"scale\": \"y\"}, \"defined\": {\"signal\": \"isValid(datum[\\\"time\\\"]) && isFinite(+datum[\\\"time\\\"]) && isValid(datum[\\\"value\\\"]) && isFinite(+datum[\\\"value\\\"])\"}}}, \"style\": [\"line\"]}]}], \"scales\": [{\"name\": \"x\", \"type\": \"time\", \"domain\": {\"data\": \"source_0\", \"field\": \"time\"}, \"range\": [0, {\"signal\": \"width\"}]}, {\"name\": \"y\", \"type\": \"linear\", \"domain\": [{\"signal\": \"(data(\\\"source_0_y_domain_value\\\")[0] || {}).min\"}, {\"signal\": \"(data(\\\"source_0_y_domain_value\\\")[0] || {}).max\"}], \"range\": [{\"signal\": \"height\"}, 0], \"zero\": true, \"nice\": true}, {\"name\": \"color\", \"type\": \"ordinal\", \"domain\": {\"data\": \"source_0_color_domain_variable\", \"field\": \"variable\", \"sort\": true}, \"range\": \"category\"}], \"axes\": [{\"scale\": \"x\", \"minExtent\": 0, \"gridScale\": \"y\", \"maxExtent\": 0, \"grid\": true, \"ticks\": false, \"labels\": false, \"tickCount\": {\"signal\": \"ceil(width/40)\"}, \"domain\": false, \"orient\": \"bottom\", \"zindex\": 0, \"aria\": false}, {\"scale\": \"y\", \"orient\": \"left\", \"labels\": false, \"gridScale\": \"x\", \"tickCount\": {\"signal\": \"ceil(height/40)\"}, \"aria\": false, \"maxExtent\": 0, \"minExtent\": 0, \"zindex\": 0, \"ticks\": false, \"domain\": false, \"grid\": true}, {\"scale\": \"x\", \"orient\": \"bottom\", \"labelOverlap\": true, \"labelFlush\": true, \"title\": \"time\", \"tickCount\": {\"signal\": \"ceil(width/40)\"}, \"grid\": false, \"zindex\": 0}, {\"scale\": \"y\", \"labelOverlap\": true, \"tickCount\": {\"signal\": \"ceil(height/40)\"}, \"orient\": \"left\", \"zindex\": 0, \"grid\": false, \"title\": \"value\"}], \"style\": \"cell\", \"padding\": 5, \"height\": 200, \"background\": \"white\", \"width\": 400, \"legends\": [{\"stroke\": \"color\", \"symbolType\": \"stroke\", \"title\": \"variable\"}]}, {\"mode\": \"vega\"});\n",
       "</script>"
      ],
      "text/plain": [
       "alt.LayerChart(...)"
      ]
     },
     "execution_count": 35,
     "metadata": {},
     "output_type": "execute_result"
    }
   ],
   "source": [
    "detector = common.DataQualityDetector(\n",
    "    threshold_type='quantile', \n",
    "    upper_threshold=0.8\n",
    ")\n",
    "\n",
    "# Fitting on some data\n",
    "detector.fit(test)\n",
    "\n",
    "# Detecting on other\n",
    "detector.detect(test[:72]).plot()"
   ]
  },
  {
   "cell_type": "markdown",
   "id": "19b7ef0f-f253-4508-846e-27ea1df714aa",
   "metadata": {},
   "source": [
    "## Missing Data Detector"
   ]
  },
  {
   "cell_type": "markdown",
   "id": "4bf95f58-76de-4e9f-a255-cb4d874f4864",
   "metadata": {},
   "source": [
    "Creating data with NaNs"
   ]
  },
  {
   "cell_type": "code",
   "execution_count": 36,
   "id": "f1861ec2-8b00-4197-b9c6-9efe7851b6ff",
   "metadata": {},
   "outputs": [],
   "source": [
    "import numpy as np\n",
    "\n",
    "def add_random_nans(series, n=1):\n",
    "    \"\"\"\n",
    "    Randomly add NaN values to a pandas Series.\n",
    "    \n",
    "    Parameters:\n",
    "    - series (pd.Series): The pandas Series to modify.\n",
    "    - n (int): The number of NaN values to add. Default is 1.\n",
    "    \n",
    "    Returns:\n",
    "    - pd.Series: The modified pandas Series with NaN values.\n",
    "    \"\"\"\n",
    "    n = min(n, len(series))\n",
    "    nan_indices = np.random.choice(series.index, size=n, replace=False)\n",
    "    series[nan_indices] = np.nan\n",
    "    return series"
   ]
  },
  {
   "cell_type": "code",
   "execution_count": 37,
   "id": "5117df37-64c4-470b-b102-343a6be554db",
   "metadata": {},
   "outputs": [],
   "source": [
    "ts_w_nans = on.TimeSeries.from_series(add_random_nans(test.pd_series(), 300))"
   ]
  },
  {
   "cell_type": "markdown",
   "id": "9f4020b1-00c3-494d-8cae-d2cb8d8f52ed",
   "metadata": {},
   "source": [
    "Detecting the NaNs"
   ]
  },
  {
   "cell_type": "code",
   "execution_count": 38,
   "id": "bac3e163-2661-4997-835e-0bd815b5be03",
   "metadata": {},
   "outputs": [
    {
     "data": {
      "text/html": [
       "\n",
       "<style>\n",
       "  #altair-viz-17102feb414440c7a8faef3867746b91.vega-embed {\n",
       "    width: 100%;\n",
       "    display: flex;\n",
       "  }\n",
       "\n",
       "  #altair-viz-17102feb414440c7a8faef3867746b91.vega-embed details,\n",
       "  #altair-viz-17102feb414440c7a8faef3867746b91.vega-embed details summary {\n",
       "    position: relative;\n",
       "  }\n",
       "</style>\n",
       "<div id=\"altair-viz-17102feb414440c7a8faef3867746b91\"></div>\n",
       "<script type=\"text/javascript\">\n",
       "  var VEGA_DEBUG = (typeof VEGA_DEBUG == \"undefined\") ? {} : VEGA_DEBUG;\n",
       "  (function(spec, embedOpt){\n",
       "    let outputDiv = document.currentScript.previousElementSibling;\n",
       "    if (outputDiv.id !== \"altair-viz-17102feb414440c7a8faef3867746b91\") {\n",
       "      outputDiv = document.getElementById(\"altair-viz-17102feb414440c7a8faef3867746b91\");\n",
       "    }\n",
       "\n",
       "    const paths = {\n",
       "      \"vega\": \"https://cdn.jsdelivr.net/npm/vega@5?noext\",\n",
       "      \"vega-lib\": \"https://cdn.jsdelivr.net/npm/vega-lib?noext\",\n",
       "      \"vega-lite\": \"https://cdn.jsdelivr.net/npm/vega-lite@5.20.1?noext\",\n",
       "      \"vega-embed\": \"https://cdn.jsdelivr.net/npm/vega-embed@6?noext\",\n",
       "    };\n",
       "\n",
       "    function maybeLoadScript(lib, version) {\n",
       "      var key = `${lib.replace(\"-\", \"\")}_version`;\n",
       "      return (VEGA_DEBUG[key] == version) ?\n",
       "        Promise.resolve(paths[lib]) :\n",
       "        new Promise(function(resolve, reject) {\n",
       "          var s = document.createElement('script');\n",
       "          document.getElementsByTagName(\"head\")[0].appendChild(s);\n",
       "          s.async = true;\n",
       "          s.onload = () => {\n",
       "            VEGA_DEBUG[key] = version;\n",
       "            return resolve(paths[lib]);\n",
       "          };\n",
       "          s.onerror = () => reject(`Error loading script: ${paths[lib]}`);\n",
       "          s.src = paths[lib];\n",
       "        });\n",
       "    }\n",
       "\n",
       "    function showError(err) {\n",
       "      outputDiv.innerHTML = `<div class=\"error\" style=\"color:red;\">${err}</div>`;\n",
       "      throw err;\n",
       "    }\n",
       "\n",
       "    function displayChart(vegaEmbed) {\n",
       "      vegaEmbed(outputDiv, spec, embedOpt)\n",
       "        .catch(err => showError(`Javascript Error: ${err.message}<br>This usually means there's a typo in your chart specification. See the javascript console for the full traceback.`));\n",
       "    }\n",
       "\n",
       "    if(typeof define === \"function\" && define.amd) {\n",
       "      requirejs.config({paths});\n",
       "      let deps = [\"vega-embed\"];\n",
       "      require(deps, displayChart, err => showError(`Error loading script: ${err.message}`));\n",
       "    } else {\n",
       "      maybeLoadScript(\"vega\", \"5\")\n",
       "        .then(() => maybeLoadScript(\"vega-lite\", \"5.20.1\"))\n",
       "        .then(() => maybeLoadScript(\"vega-embed\", \"6\"))\n",
       "        .catch(showError)\n",
       "        .then(() => displayChart(vegaEmbed));\n",
       "    }\n",
       "  })({\"$schema\": \"https://vega.github.io/schema/vega/v5.json\", \"data\": [{\"name\": \"source_0\", \"values\": [{\"time\": \"2015-09-01T01:00:00.000\", \"variable\": \"generation solar\", \"value\": 1.0}, {\"time\": \"2015-09-01T02:00:00.000\", \"variable\": \"generation solar\", \"value\": 0.0}, {\"time\": \"2015-09-01T03:00:00.000\", \"variable\": \"generation solar\", \"value\": 1.0}, {\"time\": \"2015-09-01T04:00:00.000\", \"variable\": \"generation solar\", \"value\": 0.0}, {\"time\": \"2015-09-01T05:00:00.000\", \"variable\": \"generation solar\", \"value\": 0.0}, {\"time\": \"2015-09-01T06:00:00.000\", \"variable\": \"generation solar\", \"value\": 0.0}, {\"time\": \"2015-09-01T07:00:00.000\", \"variable\": \"generation solar\", \"value\": 0.0}, {\"time\": \"2015-09-01T08:00:00.000\", \"variable\": \"generation solar\", \"value\": 0.0}, {\"time\": \"2015-09-01T09:00:00.000\", \"variable\": \"generation solar\", \"value\": 0.0}, {\"time\": \"2015-09-01T10:00:00.000\", \"variable\": \"generation solar\", \"value\": 1.0}, {\"time\": \"2015-09-01T11:00:00.000\", \"variable\": \"generation solar\", \"value\": 0.0}, {\"time\": \"2015-09-01T12:00:00.000\", \"variable\": \"generation solar\", \"value\": 0.0}, {\"time\": \"2015-09-01T13:00:00.000\", \"variable\": \"generation solar\", \"value\": 0.0}, {\"time\": \"2015-09-01T14:00:00.000\", \"variable\": \"generation solar\", \"value\": 0.0}, {\"time\": \"2015-09-01T15:00:00.000\", \"variable\": \"generation solar\", \"value\": 0.0}, {\"time\": \"2015-09-01T16:00:00.000\", \"variable\": \"generation solar\", \"value\": 0.0}, {\"time\": \"2015-09-01T17:00:00.000\", \"variable\": \"generation solar\", \"value\": 0.0}, {\"time\": \"2015-09-01T18:00:00.000\", \"variable\": \"generation solar\", \"value\": 0.0}, {\"time\": \"2015-09-01T19:00:00.000\", \"variable\": \"generation solar\", \"value\": 0.0}, {\"time\": \"2015-09-01T20:00:00.000\", \"variable\": \"generation solar\", \"value\": 0.0}, {\"time\": \"2015-09-01T21:00:00.000\", \"variable\": \"generation solar\", \"value\": 0.0}, {\"time\": \"2015-09-01T22:00:00.000\", \"variable\": \"generation solar\", \"value\": 1.0}, {\"time\": \"2015-09-01T23:00:00.000\", \"variable\": \"generation solar\", \"value\": 1.0}, {\"time\": \"2015-09-02T00:00:00.000\", \"variable\": \"generation solar\", \"value\": 0.0}, {\"time\": \"2015-09-02T01:00:00.000\", \"variable\": \"generation solar\", \"value\": 0.0}, {\"time\": \"2015-09-02T02:00:00.000\", \"variable\": \"generation solar\", \"value\": 0.0}, {\"time\": \"2015-09-02T03:00:00.000\", \"variable\": \"generation solar\", \"value\": 0.0}, {\"time\": \"2015-09-02T04:00:00.000\", \"variable\": \"generation solar\", \"value\": 1.0}, {\"time\": \"2015-09-02T05:00:00.000\", \"variable\": \"generation solar\", \"value\": 0.0}, {\"time\": \"2015-09-02T06:00:00.000\", \"variable\": \"generation solar\", \"value\": 1.0}, {\"time\": \"2015-09-02T07:00:00.000\", \"variable\": \"generation solar\", \"value\": 0.0}, {\"time\": \"2015-09-02T08:00:00.000\", \"variable\": \"generation solar\", \"value\": 0.0}, {\"time\": \"2015-09-02T09:00:00.000\", \"variable\": \"generation solar\", \"value\": 0.0}, {\"time\": \"2015-09-02T10:00:00.000\", \"variable\": \"generation solar\", \"value\": 0.0}, {\"time\": \"2015-09-02T11:00:00.000\", \"variable\": \"generation solar\", \"value\": 0.0}, {\"time\": \"2015-09-02T12:00:00.000\", \"variable\": \"generation solar\", \"value\": 0.0}, {\"time\": \"2015-09-02T13:00:00.000\", \"variable\": \"generation solar\", \"value\": 0.0}, {\"time\": \"2015-09-02T14:00:00.000\", \"variable\": \"generation solar\", \"value\": 0.0}, {\"time\": \"2015-09-02T15:00:00.000\", \"variable\": \"generation solar\", \"value\": 1.0}, {\"time\": \"2015-09-02T16:00:00.000\", \"variable\": \"generation solar\", \"value\": 0.0}, {\"time\": \"2015-09-02T17:00:00.000\", \"variable\": \"generation solar\", \"value\": 0.0}, {\"time\": \"2015-09-02T18:00:00.000\", \"variable\": \"generation solar\", \"value\": 0.0}, {\"time\": \"2015-09-02T19:00:00.000\", \"variable\": \"generation solar\", \"value\": 1.0}, {\"time\": \"2015-09-02T20:00:00.000\", \"variable\": \"generation solar\", \"value\": 1.0}, {\"time\": \"2015-09-02T21:00:00.000\", \"variable\": \"generation solar\", \"value\": 0.0}, {\"time\": \"2015-09-02T22:00:00.000\", \"variable\": \"generation solar\", \"value\": 1.0}, {\"time\": \"2015-09-02T23:00:00.000\", \"variable\": \"generation solar\", \"value\": 0.0}, {\"time\": \"2015-09-03T00:00:00.000\", \"variable\": \"generation solar\", \"value\": 0.0}, {\"time\": \"2015-09-03T01:00:00.000\", \"variable\": \"generation solar\", \"value\": 0.0}, {\"time\": \"2015-09-03T02:00:00.000\", \"variable\": \"generation solar\", \"value\": 0.0}, {\"time\": \"2015-09-03T03:00:00.000\", \"variable\": \"generation solar\", \"value\": 0.0}, {\"time\": \"2015-09-03T04:00:00.000\", \"variable\": \"generation solar\", \"value\": 0.0}, {\"time\": \"2015-09-03T05:00:00.000\", \"variable\": \"generation solar\", \"value\": 1.0}, {\"time\": \"2015-09-03T06:00:00.000\", \"variable\": \"generation solar\", \"value\": 0.0}, {\"time\": \"2015-09-03T07:00:00.000\", \"variable\": \"generation solar\", \"value\": 0.0}, {\"time\": \"2015-09-03T08:00:00.000\", \"variable\": \"generation solar\", \"value\": 0.0}, {\"time\": \"2015-09-03T09:00:00.000\", \"variable\": \"generation solar\", \"value\": 0.0}, {\"time\": \"2015-09-03T10:00:00.000\", \"variable\": \"generation solar\", \"value\": 1.0}, {\"time\": \"2015-09-03T11:00:00.000\", \"variable\": \"generation solar\", \"value\": 0.0}, {\"time\": \"2015-09-03T12:00:00.000\", \"variable\": \"generation solar\", \"value\": 0.0}, {\"time\": \"2015-09-03T13:00:00.000\", \"variable\": \"generation solar\", \"value\": 0.0}, {\"time\": \"2015-09-03T14:00:00.000\", \"variable\": \"generation solar\", \"value\": 0.0}, {\"time\": \"2015-09-03T15:00:00.000\", \"variable\": \"generation solar\", \"value\": 0.0}, {\"time\": \"2015-09-03T16:00:00.000\", \"variable\": \"generation solar\", \"value\": 0.0}, {\"time\": \"2015-09-03T17:00:00.000\", \"variable\": \"generation solar\", \"value\": 0.0}, {\"time\": \"2015-09-03T18:00:00.000\", \"variable\": \"generation solar\", \"value\": 1.0}, {\"time\": \"2015-09-03T19:00:00.000\", \"variable\": \"generation solar\", \"value\": 0.0}, {\"time\": \"2015-09-03T20:00:00.000\", \"variable\": \"generation solar\", \"value\": 0.0}, {\"time\": \"2015-09-03T21:00:00.000\", \"variable\": \"generation solar\", \"value\": 1.0}, {\"time\": \"2015-09-03T22:00:00.000\", \"variable\": \"generation solar\", \"value\": 0.0}, {\"time\": \"2015-09-03T23:00:00.000\", \"variable\": \"generation solar\", \"value\": 0.0}, {\"time\": \"2015-09-04T00:00:00.000\", \"variable\": \"generation solar\", \"value\": 0.0}], \"transform\": [{\"type\": \"formula\", \"expr\": \"toDate(datum['time'])\", \"as\": \"time\"}]}, {\"name\": \"source_0_y_domain_value\", \"values\": [{\"min\": 0.0, \"max\": 1.0}]}, {\"name\": \"source_0_color_domain_variable\", \"values\": [{\"variable\": \"generation solar\"}]}], \"marks\": [{\"type\": \"group\", \"name\": \"layer_0_pathgroup\", \"from\": {\"facet\": {\"data\": \"source_0\", \"name\": \"faceted_path_layer_0_main\", \"groupby\": [\"variable\"]}}, \"encode\": {\"update\": {\"width\": {\"field\": {\"signal\": null, \"datum\": null, \"group\": \"width\", \"parent\": null}}, \"height\": {\"field\": {\"signal\": null, \"datum\": null, \"group\": \"height\", \"parent\": null}}}}, \"marks\": [{\"type\": \"line\", \"name\": \"layer_0_marks\", \"from\": {\"data\": \"faceted_path_layer_0_main\"}, \"sort\": {\"field\": \"x\"}, \"encode\": {\"update\": {\"stroke\": {\"field\": \"variable\", \"scale\": \"color\"}, \"x\": {\"field\": \"time\", \"scale\": \"x\"}, \"defined\": {\"signal\": \"isValid(datum[\\\"time\\\"]) && isFinite(+datum[\\\"time\\\"]) && isValid(datum[\\\"value\\\"]) && isFinite(+datum[\\\"value\\\"])\"}, \"y\": {\"field\": \"value\", \"scale\": \"y\"}}}, \"style\": [\"line\"]}]}], \"scales\": [{\"name\": \"x\", \"type\": \"time\", \"domain\": {\"data\": \"source_0\", \"field\": \"time\"}, \"range\": [0, {\"signal\": \"width\"}]}, {\"name\": \"y\", \"type\": \"linear\", \"domain\": [{\"signal\": \"(data(\\\"source_0_y_domain_value\\\")[0] || {}).min\"}, {\"signal\": \"(data(\\\"source_0_y_domain_value\\\")[0] || {}).max\"}], \"range\": [{\"signal\": \"height\"}, 0], \"nice\": true, \"zero\": true}, {\"name\": \"color\", \"type\": \"ordinal\", \"domain\": {\"data\": \"source_0_color_domain_variable\", \"field\": \"variable\", \"sort\": true}, \"range\": \"category\"}], \"axes\": [{\"scale\": \"x\", \"ticks\": false, \"domain\": false, \"maxExtent\": 0, \"gridScale\": \"y\", \"zindex\": 0, \"labels\": false, \"aria\": false, \"minExtent\": 0, \"tickCount\": {\"signal\": \"ceil(width/40)\"}, \"orient\": \"bottom\", \"grid\": true}, {\"scale\": \"y\", \"orient\": \"left\", \"grid\": true, \"ticks\": false, \"aria\": false, \"minExtent\": 0, \"maxExtent\": 0, \"tickCount\": {\"signal\": \"ceil(height/40)\"}, \"zindex\": 0, \"domain\": false, \"labels\": false, \"gridScale\": \"x\"}, {\"scale\": \"x\", \"labelFlush\": true, \"orient\": \"bottom\", \"tickCount\": {\"signal\": \"ceil(width/40)\"}, \"grid\": false, \"title\": \"time\", \"labelOverlap\": true, \"zindex\": 0}, {\"scale\": \"y\", \"grid\": false, \"labelOverlap\": true, \"zindex\": 0, \"tickCount\": {\"signal\": \"ceil(height/40)\"}, \"orient\": \"left\", \"title\": \"value\"}], \"padding\": 5, \"width\": 400, \"background\": \"white\", \"height\": 200, \"style\": \"cell\", \"legends\": [{\"stroke\": \"color\", \"symbolType\": \"stroke\", \"title\": \"variable\"}]}, {\"mode\": \"vega\"});\n",
       "</script>"
      ],
      "text/plain": [
       "alt.LayerChart(...)"
      ]
     },
     "execution_count": 38,
     "metadata": {},
     "output_type": "execute_result"
    }
   ],
   "source": [
    "detector = common.MissingDataDetector()\n",
    "\n",
    "detector.detect(ts_w_nans[:72]).plot()"
   ]
  }
 ],
 "metadata": {
  "kernelspec": {
   "display_name": "ontime-2OQVvbNf-py3.10",
   "language": "python",
   "name": "python3"
  },
  "language_info": {
   "codemirror_mode": {
    "name": "ipython",
    "version": 3
   },
   "file_extension": ".py",
   "mimetype": "text/x-python",
   "name": "python",
   "nbconvert_exporter": "python",
   "pygments_lexer": "ipython3",
   "version": "3.10.12"
  },
  "papermill": {
   "default_parameters": {},
   "duration": 7.926235,
   "end_time": "2024-01-31T17:49:37.482754",
   "environment_variables": {},
   "exception": null,
   "input_path": "docs/user_guide/2_context/2.0-context-common.ipynb",
   "output_path": "docs/user_guide/2_context/2.0-context-common.ipynb",
   "parameters": {},
   "start_time": "2024-01-31T17:49:29.556519",
   "version": "2.5.0"
  }
 },
 "nbformat": 4,
 "nbformat_minor": 5
}
