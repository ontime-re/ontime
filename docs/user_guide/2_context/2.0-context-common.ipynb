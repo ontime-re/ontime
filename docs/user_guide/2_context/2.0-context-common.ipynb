{
 "cells": [
  {
   "cell_type": "markdown",
   "id": "9f94ac2b-bc8a-4757-affb-6e570a024804",
   "metadata": {
    "papermill": {
     "duration": 0.011061,
     "end_time": "2024-01-26T20:45:50.006787",
     "exception": false,
     "start_time": "2024-01-26T20:45:49.995726",
     "status": "completed"
    },
    "tags": []
   },
   "source": [
    "# Context - Common"
   ]
  },
  {
   "cell_type": "code",
   "execution_count": 1,
   "id": "54e70524-472a-49e4-bca9-32e57a1c4313",
   "metadata": {
    "execution": {
     "iopub.execute_input": "2024-01-26T20:45:50.032419Z",
     "iopub.status.busy": "2024-01-26T20:45:50.032090Z",
     "iopub.status.idle": "2024-01-26T20:45:50.039835Z",
     "shell.execute_reply": "2024-01-26T20:45:50.039139Z"
    },
    "papermill": {
     "duration": 0.023142,
     "end_time": "2024-01-26T20:45:50.041396",
     "exception": false,
     "start_time": "2024-01-26T20:45:50.018254",
     "status": "completed"
    },
    "tags": []
   },
   "outputs": [],
   "source": [
    "# Import to be able to import python package from src\n",
    "import sys\n",
    "sys.path.insert(0, '../src')"
   ]
  },
  {
   "cell_type": "code",
   "execution_count": 2,
   "id": "70a32352-80c9-40b7-8f68-1aeecfc52658",
   "metadata": {
    "execution": {
     "iopub.execute_input": "2024-01-26T20:45:50.056483Z",
     "iopub.status.busy": "2024-01-26T20:45:50.055945Z",
     "iopub.status.idle": "2024-01-26T20:45:50.627623Z",
     "shell.execute_reply": "2024-01-26T20:45:50.627145Z"
    },
    "papermill": {
     "duration": 0.579635,
     "end_time": "2024-01-26T20:45:50.628518",
     "exception": false,
     "start_time": "2024-01-26T20:45:50.048883",
     "status": "completed"
    },
    "tags": []
   },
   "outputs": [],
   "source": [
    "import pandas as pd\n",
    "from darts.datasets import EnergyDataset"
   ]
  },
  {
   "cell_type": "code",
   "execution_count": 3,
   "id": "24fa5881-61b9-4ca0-9987-a6945136a29d",
   "metadata": {
    "execution": {
     "iopub.execute_input": "2024-01-26T20:45:50.637586Z",
     "iopub.status.busy": "2024-01-26T20:45:50.637385Z",
     "iopub.status.idle": "2024-01-26T20:45:52.165589Z",
     "shell.execute_reply": "2024-01-26T20:45:52.165139Z"
    },
    "papermill": {
     "duration": 1.533535,
     "end_time": "2024-01-26T20:45:52.166474",
     "exception": false,
     "start_time": "2024-01-26T20:45:50.632939",
     "status": "completed"
    },
    "tags": []
   },
   "outputs": [
    {
     "name": "stderr",
     "output_type": "stream",
     "text": [
      "The `LightGBM` module could not be imported. To enable LightGBM support in Darts, follow the detailed instructions in the installation guide: https://github.com/unit8co/darts/blob/master/INSTALL.md\n"
     ]
    },
    {
     "name": "stderr",
     "output_type": "stream",
     "text": [
      "The `Prophet` module could not be imported. To enable Prophet support in Darts, follow the detailed instructions in the installation guide: https://github.com/unit8co/darts/blob/master/INSTALL.md\n"
     ]
    }
   ],
   "source": [
    "import ontime as on"
   ]
  },
  {
   "cell_type": "markdown",
   "id": "43dac0e6-ae1e-4bbd-8537-2f2ed1262c76",
   "metadata": {
    "papermill": {
     "duration": 0.00387,
     "end_time": "2024-01-26T20:45:52.174259",
     "exception": false,
     "start_time": "2024-01-26T20:45:52.170389",
     "status": "completed"
    },
    "tags": []
   },
   "source": [
    "---"
   ]
  },
  {
   "cell_type": "markdown",
   "id": "520ed047-e840-4bc3-8b0e-32c1a9e0fda3",
   "metadata": {
    "papermill": {
     "duration": 0.004067,
     "end_time": "2024-01-26T20:45:52.182004",
     "exception": false,
     "start_time": "2024-01-26T20:45:52.177937",
     "status": "completed"
    },
    "tags": []
   },
   "source": [
    "## Load data"
   ]
  },
  {
   "cell_type": "code",
   "execution_count": 4,
   "id": "e75060cc-c514-4210-b359-585f4f51e873",
   "metadata": {
    "execution": {
     "iopub.execute_input": "2024-01-26T20:45:52.189946Z",
     "iopub.status.busy": "2024-01-26T20:45:52.189709Z",
     "iopub.status.idle": "2024-01-26T20:45:52.282459Z",
     "shell.execute_reply": "2024-01-26T20:45:52.281999Z"
    },
    "papermill": {
     "duration": 0.097905,
     "end_time": "2024-01-26T20:45:52.283433",
     "exception": false,
     "start_time": "2024-01-26T20:45:52.185528",
     "status": "completed"
    },
    "tags": []
   },
   "outputs": [],
   "source": [
    "ts = EnergyDataset().load()"
   ]
  },
  {
   "cell_type": "markdown",
   "id": "e766b6d8-985a-44ae-9d52-a74ee7511561",
   "metadata": {
    "papermill": {
     "duration": 0.003923,
     "end_time": "2024-01-26T20:45:52.291551",
     "exception": false,
     "start_time": "2024-01-26T20:45:52.287628",
     "status": "completed"
    },
    "tags": []
   },
   "source": [
    "## Process the data"
   ]
  },
  {
   "cell_type": "code",
   "execution_count": 5,
   "id": "4d355f16-5c6d-477a-802c-9b1dbf3718f0",
   "metadata": {
    "execution": {
     "iopub.execute_input": "2024-01-26T20:45:52.299650Z",
     "iopub.status.busy": "2024-01-26T20:45:52.299245Z",
     "iopub.status.idle": "2024-01-26T20:45:52.315788Z",
     "shell.execute_reply": "2024-01-26T20:45:52.315347Z"
    },
    "papermill": {
     "duration": 0.021518,
     "end_time": "2024-01-26T20:45:52.316658",
     "exception": false,
     "start_time": "2024-01-26T20:45:52.295140",
     "status": "completed"
    },
    "tags": []
   },
   "outputs": [],
   "source": [
    "df = ts.pd_dataframe()\n",
    "df = df.interpolate()\n",
    "cols = ['generation biomass', 'generation solar', 'generation nuclear']\n",
    "df = df[cols]"
   ]
  },
  {
   "cell_type": "code",
   "execution_count": 6,
   "id": "c1cca8db-e15f-4e40-936b-8ef18e7a63c3",
   "metadata": {
    "execution": {
     "iopub.execute_input": "2024-01-26T20:45:52.325661Z",
     "iopub.status.busy": "2024-01-26T20:45:52.325408Z",
     "iopub.status.idle": "2024-01-26T20:45:52.330191Z",
     "shell.execute_reply": "2024-01-26T20:45:52.329871Z"
    },
    "papermill": {
     "duration": 0.010138,
     "end_time": "2024-01-26T20:45:52.330868",
     "exception": false,
     "start_time": "2024-01-26T20:45:52.320730",
     "status": "completed"
    },
    "tags": []
   },
   "outputs": [],
   "source": [
    "ts = on.TimeSeries.from_dataframe(df)"
   ]
  },
  {
   "cell_type": "code",
   "execution_count": 7,
   "id": "ebe23c8b-82ca-4ba4-aba7-969ee926e802",
   "metadata": {
    "execution": {
     "iopub.execute_input": "2024-01-26T20:45:52.339214Z",
     "iopub.status.busy": "2024-01-26T20:45:52.339099Z",
     "iopub.status.idle": "2024-01-26T20:45:52.344811Z",
     "shell.execute_reply": "2024-01-26T20:45:52.344518Z"
    },
    "papermill": {
     "duration": 0.010706,
     "end_time": "2024-01-26T20:45:52.345461",
     "exception": false,
     "start_time": "2024-01-26T20:45:52.334755",
     "status": "completed"
    },
    "tags": []
   },
   "outputs": [],
   "source": [
    "ts_uni = ts['generation solar'].slice(pd.Timestamp('2015'), pd.Timestamp('2016'))\n",
    "ts_multi = ts.slice(pd.Timestamp('2015'), pd.Timestamp('2016'))"
   ]
  },
  {
   "cell_type": "code",
   "execution_count": 8,
   "id": "7732e3a2-753a-4f3c-aa92-766e8fc70adc",
   "metadata": {
    "execution": {
     "iopub.execute_input": "2024-01-26T20:45:52.353522Z",
     "iopub.status.busy": "2024-01-26T20:45:52.353285Z",
     "iopub.status.idle": "2024-01-26T20:45:52.356388Z",
     "shell.execute_reply": "2024-01-26T20:45:52.356090Z"
    },
    "papermill": {
     "duration": 0.007883,
     "end_time": "2024-01-26T20:45:52.357054",
     "exception": false,
     "start_time": "2024-01-26T20:45:52.349171",
     "status": "completed"
    },
    "tags": []
   },
   "outputs": [],
   "source": [
    "train, test = ts_uni.split_after(pd.Timestamp('2015-09-01'))"
   ]
  },
  {
   "cell_type": "markdown",
   "id": "5c019c12-aa28-411b-9048-f8561d1197dd",
   "metadata": {
    "papermill": {
     "duration": 0.003493,
     "end_time": "2024-01-26T20:45:52.364196",
     "exception": false,
     "start_time": "2024-01-26T20:45:52.360703",
     "status": "completed"
    },
    "tags": []
   },
   "source": [
    "---"
   ]
  },
  {
   "cell_type": "markdown",
   "id": "df7fffe4-ce41-47be-a304-793e84ff1c9c",
   "metadata": {
    "papermill": {
     "duration": 0.00373,
     "end_time": "2024-01-26T20:45:52.371511",
     "exception": false,
     "start_time": "2024-01-26T20:45:52.367781",
     "status": "completed"
    },
    "tags": []
   },
   "source": [
    "## Common Context"
   ]
  },
  {
   "cell_type": "code",
   "execution_count": 9,
   "id": "54d07f6a-c1c1-45dc-91f4-8c92f1f89ed8",
   "metadata": {
    "execution": {
     "iopub.execute_input": "2024-01-26T20:45:52.379435Z",
     "iopub.status.busy": "2024-01-26T20:45:52.379115Z",
     "iopub.status.idle": "2024-01-26T20:45:52.381250Z",
     "shell.execute_reply": "2024-01-26T20:45:52.380905Z"
    },
    "papermill": {
     "duration": 0.006961,
     "end_time": "2024-01-26T20:45:52.381887",
     "exception": false,
     "start_time": "2024-01-26T20:45:52.374926",
     "status": "completed"
    },
    "tags": []
   },
   "outputs": [],
   "source": [
    "from ontime.context import common"
   ]
  },
  {
   "cell_type": "markdown",
   "id": "0850a3ae-ce2a-4e8f-98d0-dfad92bc5c72",
   "metadata": {
    "papermill": {
     "duration": 0.003428,
     "end_time": "2024-01-26T20:45:52.388873",
     "exception": false,
     "start_time": "2024-01-26T20:45:52.385445",
     "status": "completed"
    },
    "tags": []
   },
   "source": [
    "### Profiler"
   ]
  },
  {
   "cell_type": "code",
   "execution_count": 10,
   "id": "38a123fd-37cb-4206-b0dc-fb8ecd597b46",
   "metadata": {
    "execution": {
     "iopub.execute_input": "2024-01-26T20:45:52.396786Z",
     "iopub.status.busy": "2024-01-26T20:45:52.396406Z",
     "iopub.status.idle": "2024-01-26T20:45:52.398315Z",
     "shell.execute_reply": "2024-01-26T20:45:52.398016Z"
    },
    "papermill": {
     "duration": 0.006682,
     "end_time": "2024-01-26T20:45:52.399042",
     "exception": false,
     "start_time": "2024-01-26T20:45:52.392360",
     "status": "completed"
    },
    "tags": []
   },
   "outputs": [],
   "source": [
    "profiler = common.Profiler()"
   ]
  },
  {
   "cell_type": "markdown",
   "id": "7706081d-0a79-410e-ae65-480de017c194",
   "metadata": {
    "papermill": {
     "duration": 0.003583,
     "end_time": "2024-01-26T20:45:52.405907",
     "exception": false,
     "start_time": "2024-01-26T20:45:52.402324",
     "status": "completed"
    },
    "tags": []
   },
   "source": [
    "#### Daily Aggregation"
   ]
  },
  {
   "cell_type": "code",
   "execution_count": 11,
   "id": "9e34e371-9d34-41e8-8145-116c6bc463d3",
   "metadata": {
    "execution": {
     "iopub.execute_input": "2024-01-26T20:45:52.413633Z",
     "iopub.status.busy": "2024-01-26T20:45:52.413505Z",
     "iopub.status.idle": "2024-01-26T20:45:52.990362Z",
     "shell.execute_reply": "2024-01-26T20:45:52.989944Z"
    },
    "papermill": {
     "duration": 0.581992,
     "end_time": "2024-01-26T20:45:52.991407",
     "exception": false,
     "start_time": "2024-01-26T20:45:52.409415",
     "status": "completed"
    },
    "tags": []
   },
   "outputs": [],
   "source": [
    "day_mean = profiler.profile(ts_uni, profiler.Period.DAILY, profiler.Aggregation.MEAN)\n",
    "day_median = profiler.profile(ts_uni, profiler.Period.DAILY, profiler.Aggregation.MEDIAN)"
   ]
  },
  {
   "cell_type": "code",
   "execution_count": 12,
   "id": "fc72abf9-f1d9-4757-80c5-ecffa37d756f",
   "metadata": {
    "execution": {
     "iopub.execute_input": "2024-01-26T20:45:53.000311Z",
     "iopub.status.busy": "2024-01-26T20:45:52.999984Z",
     "iopub.status.idle": "2024-01-26T20:45:53.127692Z",
     "shell.execute_reply": "2024-01-26T20:45:53.127337Z"
    },
    "papermill": {
     "duration": 0.132708,
     "end_time": "2024-01-26T20:45:53.128326",
     "exception": false,
     "start_time": "2024-01-26T20:45:52.995618",
     "status": "completed"
    },
    "tags": []
   },
   "outputs": [
    {
     "data": {
      "image/png": "[encoded data removed]",
      "text/plain": [
       "<Figure size 640x480 with 1 Axes>"
      ]
     },
     "metadata": {},
     "output_type": "display_data"
    }
   ],
   "source": [
    "day_mean.plot();\n",
    "day_median.plot();"
   ]
  },
  {
   "cell_type": "markdown",
   "id": "628fc1ce-1631-4844-bd51-649fff52a5e8",
   "metadata": {
    "papermill": {
     "duration": 0.005254,
     "end_time": "2024-01-26T20:45:53.138110",
     "exception": false,
     "start_time": "2024-01-26T20:45:53.132856",
     "status": "completed"
    },
    "tags": []
   },
   "source": [
    "#### Weekly Aggregation"
   ]
  },
  {
   "cell_type": "code",
   "execution_count": 13,
   "id": "e26c11bc-e46d-45ab-aab6-4e80c4288ca0",
   "metadata": {
    "execution": {
     "iopub.execute_input": "2024-01-26T20:45:53.146250Z",
     "iopub.status.busy": "2024-01-26T20:45:53.146121Z",
     "iopub.status.idle": "2024-01-26T20:45:53.268627Z",
     "shell.execute_reply": "2024-01-26T20:45:53.268251Z"
    },
    "papermill": {
     "duration": 0.127355,
     "end_time": "2024-01-26T20:45:53.269307",
     "exception": false,
     "start_time": "2024-01-26T20:45:53.141952",
     "status": "completed"
    },
    "tags": []
   },
   "outputs": [],
   "source": [
    "week_mean = profiler.profile(ts_uni, profiler.Period.WEEKLY, profiler.Aggregation.MEAN)\n",
    "week_median = profiler.profile(ts_uni, profiler.Period.WEEKLY, profiler.Aggregation.MEDIAN)"
   ]
  },
  {
   "cell_type": "code",
   "execution_count": 14,
   "id": "4409d4ee-aca9-4bae-b1d1-03283554bbbe",
   "metadata": {
    "execution": {
     "iopub.execute_input": "2024-01-26T20:45:53.278814Z",
     "iopub.status.busy": "2024-01-26T20:45:53.278684Z",
     "iopub.status.idle": "2024-01-26T20:45:53.397416Z",
     "shell.execute_reply": "2024-01-26T20:45:53.397016Z"
    },
    "papermill": {
     "duration": 0.124162,
     "end_time": "2024-01-26T20:45:53.398107",
     "exception": false,
     "start_time": "2024-01-26T20:45:53.273945",
     "status": "completed"
    },
    "tags": []
   },
   "outputs": [
    {
     "data": {
      "image/png": "[encoded data removed]",
      "text/plain": [
       "<Figure size 640x480 with 1 Axes>"
      ]
     },
     "metadata": {},
     "output_type": "display_data"
    }
   ],
   "source": [
    "week_mean.plot();\n",
    "week_median.plot();"
   ]
  },
  {
   "cell_type": "markdown",
   "id": "813f08f7-51aa-4413-92da-8455bc854aed",
   "metadata": {
    "papermill": {
     "duration": 0.005281,
     "end_time": "2024-01-26T20:45:53.408656",
     "exception": false,
     "start_time": "2024-01-26T20:45:53.403375",
     "status": "completed"
    },
    "tags": []
   },
   "source": [
    "### Generic Predictor"
   ]
  },
  {
   "cell_type": "code",
   "execution_count": 15,
   "id": "e5df7b11-4c2d-4b26-9b9c-f1bf521b6300",
   "metadata": {
    "execution": {
     "iopub.execute_input": "2024-01-26T20:45:53.418281Z",
     "iopub.status.busy": "2024-01-26T20:45:53.417999Z",
     "iopub.status.idle": "2024-01-26T20:45:53.420045Z",
     "shell.execute_reply": "2024-01-26T20:45:53.419755Z"
    },
    "papermill": {
     "duration": 0.007624,
     "end_time": "2024-01-26T20:45:53.420622",
     "exception": false,
     "start_time": "2024-01-26T20:45:53.412998",
     "status": "completed"
    },
    "tags": []
   },
   "outputs": [],
   "source": [
    "model = common.GenericPredictor()"
   ]
  },
  {
   "cell_type": "code",
   "execution_count": 16,
   "id": "402c4d6e-dd2c-4920-9736-eee98fa3ab32",
   "metadata": {
    "execution": {
     "iopub.execute_input": "2024-01-26T20:45:53.429875Z",
     "iopub.status.busy": "2024-01-26T20:45:53.429752Z",
     "iopub.status.idle": "2024-01-26T20:45:54.404860Z",
     "shell.execute_reply": "2024-01-26T20:45:54.404514Z"
    },
    "papermill": {
     "duration": 0.980871,
     "end_time": "2024-01-26T20:45:54.405640",
     "exception": false,
     "start_time": "2024-01-26T20:45:53.424769",
     "status": "completed"
    },
    "tags": []
   },
   "outputs": [
    {
     "data": {
      "text/plain": [
       "<ontime.context.common.generic_predictor.GenericPredictor at 0xffff017ece80>"
      ]
     },
     "execution_count": 16,
     "metadata": {},
     "output_type": "execute_result"
    }
   ],
   "source": [
    "model.fit(train)"
   ]
  },
  {
   "cell_type": "markdown",
   "id": "eac89dd3-f5ac-42f4-9db0-29e07328151b",
   "metadata": {
    "papermill": {
     "duration": 0.005553,
     "end_time": "2024-01-26T20:45:54.416559",
     "exception": false,
     "start_time": "2024-01-26T20:45:54.411006",
     "status": "completed"
    },
    "tags": []
   },
   "source": [
    "What does the future looks like ?"
   ]
  },
  {
   "cell_type": "code",
   "execution_count": 17,
   "id": "33c52d1f-6983-4edb-945b-9578d954f738",
   "metadata": {
    "execution": {
     "iopub.execute_input": "2024-01-26T20:45:54.426189Z",
     "iopub.status.busy": "2024-01-26T20:45:54.426051Z",
     "iopub.status.idle": "2024-01-26T20:45:54.439522Z",
     "shell.execute_reply": "2024-01-26T20:45:54.439156Z"
    },
    "papermill": {
     "duration": 0.019083,
     "end_time": "2024-01-26T20:45:54.440109",
     "exception": false,
     "start_time": "2024-01-26T20:45:54.421026",
     "status": "completed"
    },
    "tags": []
   },
   "outputs": [],
   "source": [
    "pred = model.predict(48)"
   ]
  },
  {
   "cell_type": "code",
   "execution_count": 18,
   "id": "c10dd2d7-7a48-4343-b18a-152175dcd799",
   "metadata": {
    "execution": {
     "iopub.execute_input": "2024-01-26T20:45:54.450345Z",
     "iopub.status.busy": "2024-01-26T20:45:54.450186Z",
     "iopub.status.idle": "2024-01-26T20:45:54.661580Z",
     "shell.execute_reply": "2024-01-26T20:45:54.661206Z"
    },
    "papermill": {
     "duration": 0.217184,
     "end_time": "2024-01-26T20:45:54.662220",
     "exception": false,
     "start_time": "2024-01-26T20:45:54.445036",
     "status": "completed"
    },
    "tags": []
   },
   "outputs": [
    {
     "data": {
      "text/html": [
       "\n",
       "<style>\n",
       "  #altair-viz-18d54571fb0c4080ae10d00c9be1b2d4.vega-embed {\n",
       "    width: 100%;\n",
       "    display: flex;\n",
       "  }\n",
       "\n",
       "  #altair-viz-18d54571fb0c4080ae10d00c9be1b2d4.vega-embed details,\n",
       "  #altair-viz-18d54571fb0c4080ae10d00c9be1b2d4.vega-embed details summary {\n",
       "    position: relative;\n",
       "  }\n",
       "</style>\n",
       "<div id=\"altair-viz-18d54571fb0c4080ae10d00c9be1b2d4\"></div>\n",
       "<script type=\"text/javascript\">\n",
       "  var VEGA_DEBUG = (typeof VEGA_DEBUG == \"undefined\") ? {} : VEGA_DEBUG;\n",
       "  (function(spec, embedOpt){\n",
       "    let outputDiv = document.currentScript.previousElementSibling;\n",
       "    if (outputDiv.id !== \"altair-viz-18d54571fb0c4080ae10d00c9be1b2d4\") {\n",
       "      outputDiv = document.getElementById(\"altair-viz-18d54571fb0c4080ae10d00c9be1b2d4\");\n",
       "    }\n",
       "    const paths = {\n",
       "      \"vega\": \"https://cdn.jsdelivr.net/npm/vega@5?noext\",\n",
       "      \"vega-lib\": \"https://cdn.jsdelivr.net/npm/vega-lib?noext\",\n",
       "      \"vega-lite\": \"https://cdn.jsdelivr.net/npm/vega-lite@5.16.3?noext\",\n",
       "      \"vega-embed\": \"https://cdn.jsdelivr.net/npm/vega-embed@6?noext\",\n",
       "    };\n",
       "\n",
       "    function maybeLoadScript(lib, version) {\n",
       "      var key = `${lib.replace(\"-\", \"\")}_version`;\n",
       "      return (VEGA_DEBUG[key] == version) ?\n",
       "        Promise.resolve(paths[lib]) :\n",
       "        new Promise(function(resolve, reject) {\n",
       "          var s = document.createElement('script');\n",
       "          document.getElementsByTagName(\"head\")[0].appendChild(s);\n",
       "          s.async = true;\n",
       "          s.onload = () => {\n",
       "            VEGA_DEBUG[key] = version;\n",
       "            return resolve(paths[lib]);\n",
       "          };\n",
       "          s.onerror = () => reject(`Error loading script: ${paths[lib]}`);\n",
       "          s.src = paths[lib];\n",
       "        });\n",
       "    }\n",
       "\n",
       "    function showError(err) {\n",
       "      outputDiv.innerHTML = `<div class=\"error\" style=\"color:red;\">${err}</div>`;\n",
       "      throw err;\n",
       "    }\n",
       "\n",
       "    function displayChart(vegaEmbed) {\n",
       "      vegaEmbed(outputDiv, spec, embedOpt)\n",
       "        .catch(err => showError(`Javascript Error: ${err.message}<br>This usually means there's a typo in your chart specification. See the javascript console for the full traceback.`));\n",
       "    }\n",
       "\n",
       "    if(typeof define === \"function\" && define.amd) {\n",
       "      requirejs.config({paths});\n",
       "      require([\"vega-embed\"], displayChart, err => showError(`Error loading script: ${err.message}`));\n",
       "    } else {\n",
       "      maybeLoadScript(\"vega\", \"5\")\n",
       "        .then(() => maybeLoadScript(\"vega-lite\", \"5.16.3\"))\n",
       "        .then(() => maybeLoadScript(\"vega-embed\", \"6\"))\n",
       "        .catch(showError)\n",
       "        .then(() => displayChart(vegaEmbed));\n",
       "    }\n",
       "  })({\"$schema\": \"https://vega.github.io/schema/vega/v5.json\", \"data\": [{\"name\": \"source_0\", \"values\": [{\"time\": \"2015-08-28T01:00:00.000\", \"variable\": \"Training set\", \"value\": 325.0}, {\"time\": \"2015-08-28T02:00:00.000\", \"variable\": \"Training set\", \"value\": 252.0}, {\"time\": \"2015-08-28T03:00:00.000\", \"variable\": \"Training set\", \"value\": 158.0}, {\"time\": \"2015-08-28T04:00:00.000\", \"variable\": \"Training set\", \"value\": 70.0}, {\"time\": \"2015-08-28T05:00:00.000\", \"variable\": \"Training set\", \"value\": 57.0}, {\"time\": \"2015-08-28T06:00:00.000\", \"variable\": \"Training set\", \"value\": 457.0}, {\"time\": \"2015-08-28T07:00:00.000\", \"variable\": \"Training set\", \"value\": 1869.0}, {\"time\": \"2015-08-28T08:00:00.000\", \"variable\": \"Training set\", \"value\": 3923.0}, {\"time\": \"2015-08-28T09:00:00.000\", \"variable\": \"Training set\", \"value\": 4791.0}, {\"time\": \"2015-08-28T10:00:00.000\", \"variable\": \"Training set\", \"value\": 5134.0}, {\"time\": \"2015-08-28T11:00:00.000\", \"variable\": \"Training set\", \"value\": 5275.0}, {\"time\": \"2015-08-28T12:00:00.000\", \"variable\": \"Training set\", \"value\": 5264.0}, {\"time\": \"2015-08-28T13:00:00.000\", \"variable\": \"Training set\", \"value\": 5127.0}, {\"time\": \"2015-08-28T14:00:00.000\", \"variable\": \"Training set\", \"value\": 4867.0}, {\"time\": \"2015-08-28T15:00:00.000\", \"variable\": \"Training set\", \"value\": 4394.0}, {\"time\": \"2015-08-28T16:00:00.000\", \"variable\": \"Training set\", \"value\": 3631.0}, {\"time\": \"2015-08-28T17:00:00.000\", \"variable\": \"Training set\", \"value\": 2586.0}, {\"time\": \"2015-08-28T18:00:00.000\", \"variable\": \"Training set\", \"value\": 1216.0}, {\"time\": \"2015-08-28T19:00:00.000\", \"variable\": \"Training set\", \"value\": 692.0}, {\"time\": \"2015-08-28T20:00:00.000\", \"variable\": \"Training set\", \"value\": 640.0}, {\"time\": \"2015-08-28T21:00:00.000\", \"variable\": \"Training set\", \"value\": 642.0}, {\"time\": \"2015-08-28T22:00:00.000\", \"variable\": \"Training set\", \"value\": 642.0}, {\"time\": \"2015-08-28T23:00:00.000\", \"variable\": \"Training set\", \"value\": 597.0}, {\"time\": \"2015-08-29T00:00:00.000\", \"variable\": \"Training set\", \"value\": 439.0}, {\"time\": \"2015-08-29T01:00:00.000\", \"variable\": \"Training set\", \"value\": 379.0}, {\"time\": \"2015-08-29T02:00:00.000\", \"variable\": \"Training set\", \"value\": 371.0}, {\"time\": \"2015-08-29T03:00:00.000\", \"variable\": \"Training set\", \"value\": 244.0}, {\"time\": \"2015-08-29T04:00:00.000\", \"variable\": \"Training set\", \"value\": 100.0}, {\"time\": \"2015-08-29T05:00:00.000\", \"variable\": \"Training set\", \"value\": 64.0}, {\"time\": \"2015-08-29T06:00:00.000\", \"variable\": \"Training set\", \"value\": 411.0}, {\"time\": \"2015-08-29T07:00:00.000\", \"variable\": \"Training set\", \"value\": 1322.0}, {\"time\": \"2015-08-29T08:00:00.000\", \"variable\": \"Training set\", \"value\": 2609.0}, {\"time\": \"2015-08-29T09:00:00.000\", \"variable\": \"Training set\", \"value\": 3981.0}, {\"time\": \"2015-08-29T10:00:00.000\", \"variable\": \"Training set\", \"value\": 4688.0}, {\"time\": \"2015-08-29T11:00:00.000\", \"variable\": \"Training set\", \"value\": 4876.0}, {\"time\": \"2015-08-29T12:00:00.000\", \"variable\": \"Training set\", \"value\": 4800.0}, {\"time\": \"2015-08-29T13:00:00.000\", \"variable\": \"Training set\", \"value\": 4472.0}, {\"time\": \"2015-08-29T14:00:00.000\", \"variable\": \"Training set\", \"value\": 3963.0}, {\"time\": \"2015-08-29T15:00:00.000\", \"variable\": \"Training set\", \"value\": 3104.0}, {\"time\": \"2015-08-29T16:00:00.000\", \"variable\": \"Training set\", \"value\": 2365.0}, {\"time\": \"2015-08-29T17:00:00.000\", \"variable\": \"Training set\", \"value\": 1357.0}, {\"time\": \"2015-08-29T18:00:00.000\", \"variable\": \"Training set\", \"value\": 515.0}, {\"time\": \"2015-08-29T19:00:00.000\", \"variable\": \"Training set\", \"value\": 307.0}, {\"time\": \"2015-08-29T20:00:00.000\", \"variable\": \"Training set\", \"value\": 235.0}, {\"time\": \"2015-08-29T21:00:00.000\", \"variable\": \"Training set\", \"value\": 78.0}, {\"time\": \"2015-08-29T22:00:00.000\", \"variable\": \"Training set\", \"value\": 35.0}, {\"time\": \"2015-08-29T23:00:00.000\", \"variable\": \"Training set\", \"value\": 37.0}, {\"time\": \"2015-08-30T00:00:00.000\", \"variable\": \"Training set\", \"value\": 36.0}, {\"time\": \"2015-08-30T01:00:00.000\", \"variable\": \"Training set\", \"value\": 36.0}, {\"time\": \"2015-08-30T02:00:00.000\", \"variable\": \"Training set\", \"value\": 36.0}, {\"time\": \"2015-08-30T03:00:00.000\", \"variable\": \"Training set\", \"value\": 36.0}, {\"time\": \"2015-08-30T04:00:00.000\", \"variable\": \"Training set\", \"value\": 36.0}, {\"time\": \"2015-08-30T05:00:00.000\", \"variable\": \"Training set\", \"value\": 47.0}, {\"time\": \"2015-08-30T06:00:00.000\", \"variable\": \"Training set\", \"value\": 339.0}, {\"time\": \"2015-08-30T07:00:00.000\", \"variable\": \"Training set\", \"value\": 1188.0}, {\"time\": \"2015-08-30T08:00:00.000\", \"variable\": \"Training set\", \"value\": 2641.0}, {\"time\": \"2015-08-30T09:00:00.000\", \"variable\": \"Training set\", \"value\": 3818.0}, {\"time\": \"2015-08-30T10:00:00.000\", \"variable\": \"Training set\", \"value\": 4323.0}, {\"time\": \"2015-08-30T11:00:00.000\", \"variable\": \"Training set\", \"value\": 4356.0}, {\"time\": \"2015-08-30T12:00:00.000\", \"variable\": \"Training set\", \"value\": 3995.0}, {\"time\": \"2015-08-30T13:00:00.000\", \"variable\": \"Training set\", \"value\": 3473.0}, {\"time\": \"2015-08-30T14:00:00.000\", \"variable\": \"Training set\", \"value\": 2801.0}, {\"time\": \"2015-08-30T15:00:00.000\", \"variable\": \"Training set\", \"value\": 2108.0}, {\"time\": \"2015-08-30T16:00:00.000\", \"variable\": \"Training set\", \"value\": 1298.0}, {\"time\": \"2015-08-30T17:00:00.000\", \"variable\": \"Training set\", \"value\": 763.0}, {\"time\": \"2015-08-30T18:00:00.000\", \"variable\": \"Training set\", \"value\": 230.0}, {\"time\": \"2015-08-30T19:00:00.000\", \"variable\": \"Training set\", \"value\": 67.0}, {\"time\": \"2015-08-30T20:00:00.000\", \"variable\": \"Training set\", \"value\": 56.0}, {\"time\": \"2015-08-30T21:00:00.000\", \"variable\": \"Training set\", \"value\": 56.0}, {\"time\": \"2015-08-30T22:00:00.000\", \"variable\": \"Training set\", \"value\": 56.0}, {\"time\": \"2015-08-30T23:00:00.000\", \"variable\": \"Training set\", \"value\": 54.0}, {\"time\": \"2015-08-31T00:00:00.000\", \"variable\": \"Training set\", \"value\": 54.0}, {\"time\": \"2015-08-31T01:00:00.000\", \"variable\": \"Training set\", \"value\": 53.0}, {\"time\": \"2015-08-31T02:00:00.000\", \"variable\": \"Training set\", \"value\": 53.0}, {\"time\": \"2015-08-31T03:00:00.000\", \"variable\": \"Training set\", \"value\": 53.0}, {\"time\": \"2015-08-31T04:00:00.000\", \"variable\": \"Training set\", \"value\": 53.0}, {\"time\": \"2015-08-31T05:00:00.000\", \"variable\": \"Training set\", \"value\": 51.0}, {\"time\": \"2015-08-31T06:00:00.000\", \"variable\": \"Training set\", \"value\": 229.0}, {\"time\": \"2015-08-31T07:00:00.000\", \"variable\": \"Training set\", \"value\": 811.0}, {\"time\": \"2015-08-31T08:00:00.000\", \"variable\": \"Training set\", \"value\": 1421.0}, {\"time\": \"2015-08-31T09:00:00.000\", \"variable\": \"Training set\", \"value\": 1854.0}, {\"time\": \"2015-08-31T10:00:00.000\", \"variable\": \"Training set\", \"value\": 2137.0}, {\"time\": \"2015-08-31T11:00:00.000\", \"variable\": \"Training set\", \"value\": 2434.0}, {\"time\": \"2015-08-31T12:00:00.000\", \"variable\": \"Training set\", \"value\": 2430.0}, {\"time\": \"2015-08-31T13:00:00.000\", \"variable\": \"Training set\", \"value\": 2244.0}, {\"time\": \"2015-08-31T14:00:00.000\", \"variable\": \"Training set\", \"value\": 2141.0}, {\"time\": \"2015-08-31T15:00:00.000\", \"variable\": \"Training set\", \"value\": 2107.0}, {\"time\": \"2015-08-31T16:00:00.000\", \"variable\": \"Training set\", \"value\": 1966.0}, {\"time\": \"2015-08-31T17:00:00.000\", \"variable\": \"Training set\", \"value\": 1561.0}, {\"time\": \"2015-08-31T18:00:00.000\", \"variable\": \"Training set\", \"value\": 606.0}, {\"time\": \"2015-08-31T19:00:00.000\", \"variable\": \"Training set\", \"value\": 152.0}, {\"time\": \"2015-08-31T20:00:00.000\", \"variable\": \"Training set\", \"value\": 45.0}, {\"time\": \"2015-08-31T21:00:00.000\", \"variable\": \"Training set\", \"value\": 40.0}, {\"time\": \"2015-08-31T22:00:00.000\", \"variable\": \"Training set\", \"value\": 55.0}, {\"time\": \"2015-08-31T23:00:00.000\", \"variable\": \"Training set\", \"value\": 55.0}, {\"time\": \"2015-09-01T00:00:00.000\", \"variable\": \"Training set\", \"value\": 54.0}, {\"time\": \"2015-09-01T01:00:00.000\", \"variable\": \"Prediction\", \"value\": 63.264764914941225}, {\"time\": \"2015-09-01T02:00:00.000\", \"variable\": \"Prediction\", \"value\": 55.2697649985721}, {\"time\": \"2015-09-01T03:00:00.000\", \"variable\": \"Prediction\", \"value\": 38.97058734622533}, {\"time\": \"2015-09-01T04:00:00.000\", \"variable\": \"Prediction\", \"value\": 28.153402648241126}, {\"time\": \"2015-09-01T05:00:00.000\", \"variable\": \"Prediction\", \"value\": 18.98125611603882}, {\"time\": \"2015-09-01T06:00:00.000\", \"variable\": \"Prediction\", \"value\": 3.961069382572532}, {\"time\": \"2015-09-01T07:00:00.000\", \"variable\": \"Prediction\", \"value\": 51.1636382791487}, {\"time\": \"2015-09-01T08:00:00.000\", \"variable\": \"Prediction\", \"value\": 280.4049799460165}, {\"time\": \"2015-09-01T09:00:00.000\", \"variable\": \"Prediction\", \"value\": 930.3510352480242}, {\"time\": \"2015-09-01T10:00:00.000\", \"variable\": \"Prediction\", \"value\": 1594.3537665722554}, {\"time\": \"2015-09-01T11:00:00.000\", \"variable\": \"Prediction\", \"value\": 2050.164182313688}, {\"time\": \"2015-09-01T12:00:00.000\", \"variable\": \"Prediction\", \"value\": 2319.498091152175}, {\"time\": \"2015-09-01T13:00:00.000\", \"variable\": \"Prediction\", \"value\": 2471.893676108707}, {\"time\": \"2015-09-01T14:00:00.000\", \"variable\": \"Prediction\", \"value\": 2434.4494888641975}, {\"time\": \"2015-09-01T15:00:00.000\", \"variable\": \"Prediction\", \"value\": 2130.8918814430126}, {\"time\": \"2015-09-01T16:00:00.000\", \"variable\": \"Prediction\", \"value\": 1623.5756962632663}, {\"time\": \"2015-09-01T17:00:00.000\", \"variable\": \"Prediction\", \"value\": 920.5001770116057}, {\"time\": \"2015-09-01T18:00:00.000\", \"variable\": \"Prediction\", \"value\": 459.1878945458452}, {\"time\": \"2015-09-01T19:00:00.000\", \"variable\": \"Prediction\", \"value\": 240.29204808069198}, {\"time\": \"2015-09-01T20:00:00.000\", \"variable\": \"Prediction\", \"value\": 144.36920370242024}, {\"time\": \"2015-09-01T21:00:00.000\", \"variable\": \"Prediction\", \"value\": 76.29898635016275}, {\"time\": \"2015-09-01T22:00:00.000\", \"variable\": \"Prediction\", \"value\": 61.32870459948958}, {\"time\": \"2015-09-01T23:00:00.000\", \"variable\": \"Prediction\", \"value\": 72.88723326467061}, {\"time\": \"2015-09-02T00:00:00.000\", \"variable\": \"Prediction\", \"value\": 77.39857134035924}, {\"time\": \"2015-09-02T01:00:00.000\", \"variable\": \"Prediction\", \"value\": 62.07422523330206}, {\"time\": \"2015-09-02T02:00:00.000\", \"variable\": \"Prediction\", \"value\": 24.318353354152123}, {\"time\": \"2015-09-02T03:00:00.000\", \"variable\": \"Prediction\", \"value\": 30.177259765594272}, {\"time\": \"2015-09-02T04:00:00.000\", \"variable\": \"Prediction\", \"value\": 35.916937303193436}, {\"time\": \"2015-09-02T05:00:00.000\", \"variable\": \"Prediction\", \"value\": 87.55274222857224}, {\"time\": \"2015-09-02T06:00:00.000\", \"variable\": \"Prediction\", \"value\": 533.3965495301934}, {\"time\": \"2015-09-02T07:00:00.000\", \"variable\": \"Prediction\", \"value\": 1254.310008551678}, {\"time\": \"2015-09-02T08:00:00.000\", \"variable\": \"Prediction\", \"value\": 1969.7167937082622}, {\"time\": \"2015-09-02T09:00:00.000\", \"variable\": \"Prediction\", \"value\": 2428.471459438814}, {\"time\": \"2015-09-02T10:00:00.000\", \"variable\": \"Prediction\", \"value\": 2677.567892364111}, {\"time\": \"2015-09-02T11:00:00.000\", \"variable\": \"Prediction\", \"value\": 2623.27984611265}, {\"time\": \"2015-09-02T12:00:00.000\", \"variable\": \"Prediction\", \"value\": 2547.1817447104636}, {\"time\": \"2015-09-02T13:00:00.000\", \"variable\": \"Prediction\", \"value\": 2241.5833707403035}, {\"time\": \"2015-09-02T14:00:00.000\", \"variable\": \"Prediction\", \"value\": 1665.377638348459}, {\"time\": \"2015-09-02T15:00:00.000\", \"variable\": \"Prediction\", \"value\": 972.9720930300595}, {\"time\": \"2015-09-02T16:00:00.000\", \"variable\": \"Prediction\", \"value\": 398.9823283868045}, {\"time\": \"2015-09-02T17:00:00.000\", \"variable\": \"Prediction\", \"value\": 150.1573079916941}, {\"time\": \"2015-09-02T18:00:00.000\", \"variable\": \"Prediction\", \"value\": 66.82360259559618}, {\"time\": \"2015-09-02T19:00:00.000\", \"variable\": \"Prediction\", \"value\": 48.45848563175787}, {\"time\": \"2015-09-02T20:00:00.000\", \"variable\": \"Prediction\", \"value\": 42.94704521462563}, {\"time\": \"2015-09-02T21:00:00.000\", \"variable\": \"Prediction\", \"value\": 69.77874387872748}, {\"time\": \"2015-09-02T22:00:00.000\", \"variable\": \"Prediction\", \"value\": 109.34254066610197}, {\"time\": \"2015-09-02T23:00:00.000\", \"variable\": \"Prediction\", \"value\": 140.08358307228673}, {\"time\": \"2015-09-03T00:00:00.000\", \"variable\": \"Prediction\", \"value\": 166.59433493303004}, {\"time\": \"2015-09-01T01:00:00.000\", \"variable\": \"Truth\", \"value\": 53.0}, {\"time\": \"2015-09-01T02:00:00.000\", \"variable\": \"Truth\", \"value\": 42.0}, {\"time\": \"2015-09-01T03:00:00.000\", \"variable\": \"Truth\", \"value\": 36.0}, {\"time\": \"2015-09-01T04:00:00.000\", \"variable\": \"Truth\", \"value\": 35.0}, {\"time\": \"2015-09-01T05:00:00.000\", \"variable\": \"Truth\", \"value\": 35.0}, {\"time\": \"2015-09-01T06:00:00.000\", \"variable\": \"Truth\", \"value\": 55.0}, {\"time\": \"2015-09-01T07:00:00.000\", \"variable\": \"Truth\", \"value\": 704.0}, {\"time\": \"2015-09-01T08:00:00.000\", \"variable\": \"Truth\", \"value\": 1889.0}, {\"time\": \"2015-09-01T09:00:00.000\", \"variable\": \"Truth\", \"value\": 3095.0}, {\"time\": \"2015-09-01T10:00:00.000\", \"variable\": \"Truth\", \"value\": 3712.0}, {\"time\": \"2015-09-01T11:00:00.000\", \"variable\": \"Truth\", \"value\": 3901.0}, {\"time\": \"2015-09-01T12:00:00.000\", \"variable\": \"Truth\", \"value\": 3907.0}, {\"time\": \"2015-09-01T13:00:00.000\", \"variable\": \"Truth\", \"value\": 3833.0}, {\"time\": \"2015-09-01T14:00:00.000\", \"variable\": \"Truth\", \"value\": 3211.0}, {\"time\": \"2015-09-01T15:00:00.000\", \"variable\": \"Truth\", \"value\": 1624.0}, {\"time\": \"2015-09-01T16:00:00.000\", \"variable\": \"Truth\", \"value\": 493.0}, {\"time\": \"2015-09-01T17:00:00.000\", \"variable\": \"Truth\", \"value\": 125.0}, {\"time\": \"2015-09-01T18:00:00.000\", \"variable\": \"Truth\", \"value\": 81.0}, {\"time\": \"2015-09-01T19:00:00.000\", \"variable\": \"Truth\", \"value\": 69.0}, {\"time\": \"2015-09-01T20:00:00.000\", \"variable\": \"Truth\", \"value\": 69.0}, {\"time\": \"2015-09-01T21:00:00.000\", \"variable\": \"Truth\", \"value\": 56.0}, {\"time\": \"2015-09-01T22:00:00.000\", \"variable\": \"Truth\", \"value\": 84.0}, {\"time\": \"2015-09-01T23:00:00.000\", \"variable\": \"Truth\", \"value\": 73.0}, {\"time\": \"2015-09-02T00:00:00.000\", \"variable\": \"Truth\", \"value\": 73.0}, {\"time\": \"2015-09-02T01:00:00.000\", \"variable\": \"Truth\", \"value\": 73.0}, {\"time\": \"2015-09-02T02:00:00.000\", \"variable\": \"Truth\", \"value\": 72.0}, {\"time\": \"2015-09-02T03:00:00.000\", \"variable\": \"Truth\", \"value\": 73.0}, {\"time\": \"2015-09-02T04:00:00.000\", \"variable\": \"Truth\", \"value\": 73.0}, {\"time\": \"2015-09-02T05:00:00.000\", \"variable\": \"Truth\", \"value\": 80.0}, {\"time\": \"2015-09-02T06:00:00.000\", \"variable\": \"Truth\", \"value\": 218.0}, {\"time\": \"2015-09-02T07:00:00.000\", \"variable\": \"Truth\", \"value\": 1296.0}, {\"time\": \"2015-09-02T08:00:00.000\", \"variable\": \"Truth\", \"value\": 2524.0}, {\"time\": \"2015-09-02T09:00:00.000\", \"variable\": \"Truth\", \"value\": 3665.0}, {\"time\": \"2015-09-02T10:00:00.000\", \"variable\": \"Truth\", \"value\": 3939.0}, {\"time\": \"2015-09-02T11:00:00.000\", \"variable\": \"Truth\", \"value\": 3865.0}, {\"time\": \"2015-09-02T12:00:00.000\", \"variable\": \"Truth\", \"value\": 3737.0}, {\"time\": \"2015-09-02T13:00:00.000\", \"variable\": \"Truth\", \"value\": 3644.0}, {\"time\": \"2015-09-02T14:00:00.000\", \"variable\": \"Truth\", \"value\": 3325.0}, {\"time\": \"2015-09-02T15:00:00.000\", \"variable\": \"Truth\", \"value\": 2346.0}, {\"time\": \"2015-09-02T16:00:00.000\", \"variable\": \"Truth\", \"value\": 883.0}, {\"time\": \"2015-09-02T17:00:00.000\", \"variable\": \"Truth\", \"value\": 396.0}, {\"time\": \"2015-09-02T18:00:00.000\", \"variable\": \"Truth\", \"value\": 279.0}, {\"time\": \"2015-09-02T19:00:00.000\", \"variable\": \"Truth\", \"value\": 171.0}, {\"time\": \"2015-09-02T20:00:00.000\", \"variable\": \"Truth\", \"value\": 115.0}, {\"time\": \"2015-09-02T21:00:00.000\", \"variable\": \"Truth\", \"value\": 105.0}, {\"time\": \"2015-09-02T22:00:00.000\", \"variable\": \"Truth\", \"value\": 341.0}, {\"time\": \"2015-09-02T23:00:00.000\", \"variable\": \"Truth\", \"value\": 225.0}, {\"time\": \"2015-09-03T00:00:00.000\", \"variable\": \"Truth\", \"value\": 149.0}], \"transform\": [{\"type\": \"formula\", \"expr\": \"toDate(datum['time'])\", \"as\": \"time\"}]}, {\"name\": \"source_0_y_domain_value\", \"values\": [{\"min\": 3.961069382572532, \"max\": 5275.0}]}, {\"name\": \"source_0_color_domain_variable\", \"values\": [{\"variable\": \"Training set\"}, {\"variable\": \"Prediction\"}, {\"variable\": \"Truth\"}]}], \"marks\": [{\"type\": \"group\", \"name\": \"pathgroup\", \"from\": {\"facet\": {\"data\": \"source_0\", \"name\": \"faceted_path_main\", \"groupby\": [\"variable\"]}}, \"encode\": {\"update\": {\"width\": {\"field\": {\"signal\": null, \"datum\": null, \"group\": \"width\", \"parent\": null}}, \"height\": {\"field\": {\"signal\": null, \"datum\": null, \"group\": \"height\", \"parent\": null}}}}, \"marks\": [{\"type\": \"line\", \"name\": \"marks\", \"from\": {\"data\": \"faceted_path_main\"}, \"sort\": {\"field\": \"datum[\\\"time\\\"]\"}, \"encode\": {\"update\": {\"stroke\": {\"field\": \"variable\", \"scale\": \"color\"}, \"description\": {\"signal\": \"\\\"time: \\\" + (timeFormat(datum[\\\"time\\\"], '%b %d, %Y')) + \\\"; value: \\\" + (format(datum[\\\"value\\\"], \\\"\\\")) + \\\"; variable: \\\" + (isValid(datum[\\\"variable\\\"]) ? datum[\\\"variable\\\"] : \\\"\\\"+datum[\\\"variable\\\"])\"}, \"strokeDash\": [{\"value\": [5, 2], \"test\": \"(datum.variable === 'Truth')\"}, {\"value\": [0]}], \"opacity\": [{\"value\": 0.5, \"test\": \"(datum.variable === 'Truth')\"}, {\"value\": 1}], \"x\": {\"field\": \"time\", \"scale\": \"x\"}, \"y\": {\"field\": \"value\", \"scale\": \"y\"}, \"defined\": {\"signal\": \"isValid(datum[\\\"time\\\"]) && isFinite(+datum[\\\"time\\\"]) && isValid(datum[\\\"value\\\"]) && isFinite(+datum[\\\"value\\\"])\"}}}, \"style\": [\"line\"]}]}], \"scales\": [{\"name\": \"x\", \"type\": \"time\", \"domain\": {\"data\": \"source_0\", \"field\": \"time\"}, \"range\": [0, {\"signal\": \"width\"}]}, {\"name\": \"y\", \"type\": \"linear\", \"domain\": [{\"signal\": \"(data(\\\"source_0_y_domain_value\\\")[0] || {}).min\"}, {\"signal\": \"(data(\\\"source_0_y_domain_value\\\")[0] || {}).max\"}], \"range\": [{\"signal\": \"height\"}, 0], \"nice\": true, \"zero\": true}, {\"name\": \"color\", \"type\": \"ordinal\", \"domain\": {\"data\": \"source_0_color_domain_variable\", \"field\": \"variable\", \"sort\": true}, \"range\": \"category\"}], \"axes\": [{\"scale\": \"x\", \"ticks\": false, \"zindex\": 0, \"orient\": \"bottom\", \"domain\": false, \"gridScale\": \"y\", \"tickCount\": {\"signal\": \"ceil(width/40)\"}, \"labels\": false, \"maxExtent\": 0, \"minExtent\": 0, \"aria\": false, \"grid\": true}, {\"scale\": \"y\", \"zindex\": 0, \"grid\": true, \"gridScale\": \"x\", \"orient\": \"left\", \"aria\": false, \"tickCount\": {\"signal\": \"ceil(height/40)\"}, \"domain\": false, \"maxExtent\": 0, \"minExtent\": 0, \"ticks\": false, \"labels\": false}, {\"scale\": \"x\", \"tickCount\": {\"signal\": \"ceil(width/40)\"}, \"zindex\": 0, \"labelFlush\": true, \"labelOverlap\": true, \"title\": \"time\", \"orient\": \"bottom\", \"grid\": false}, {\"scale\": \"y\", \"grid\": false, \"labelOverlap\": true, \"zindex\": 0, \"orient\": \"left\", \"tickCount\": {\"signal\": \"ceil(height/40)\"}, \"title\": \"value\"}], \"legends\": [{\"stroke\": \"color\", \"symbolType\": \"stroke\", \"title\": \"variable\", \"encode\": {\"symbols\": {\"update\": {\"opacity\": {\"value\": 1}}}}}], \"padding\": 5, \"width\": 500, \"background\": \"white\", \"style\": \"cell\", \"height\": 300}, {\"mode\": \"vega\"});\n",
       "</script>"
      ],
      "text/plain": [
       "alt.Chart(...)"
      ]
     },
     "execution_count": 18,
     "metadata": {},
     "output_type": "execute_result"
    }
   ],
   "source": [
    "on.plots.prediction(train[-96:], pred, test[:48])"
   ]
  },
  {
   "cell_type": "markdown",
   "id": "1eacbd84-bb31-48b1-bd5b-6ab7db392204",
   "metadata": {
    "papermill": {
     "duration": 0.005285,
     "end_time": "2024-01-26T20:45:54.673220",
     "exception": false,
     "start_time": "2024-01-26T20:45:54.667935",
     "status": "completed"
    },
    "tags": []
   },
   "source": [
    "### Generic Detector"
   ]
  },
  {
   "cell_type": "code",
   "execution_count": 19,
   "id": "9715fd4d-24d8-4d95-a77a-3c347916f2aa",
   "metadata": {
    "execution": {
     "iopub.execute_input": "2024-01-26T20:45:54.684615Z",
     "iopub.status.busy": "2024-01-26T20:45:54.684228Z",
     "iopub.status.idle": "2024-01-26T20:45:54.686396Z",
     "shell.execute_reply": "2024-01-26T20:45:54.686073Z"
    },
    "papermill": {
     "duration": 0.009023,
     "end_time": "2024-01-26T20:45:54.687032",
     "exception": false,
     "start_time": "2024-01-26T20:45:54.678009",
     "status": "completed"
    },
    "tags": []
   },
   "outputs": [],
   "source": [
    "model = common.GenericDetector()"
   ]
  },
  {
   "cell_type": "code",
   "execution_count": 20,
   "id": "56eae67d-ae1a-438c-bbd4-e1b52c93c2c2",
   "metadata": {
    "execution": {
     "iopub.execute_input": "2024-01-26T20:45:54.696777Z",
     "iopub.status.busy": "2024-01-26T20:45:54.696483Z",
     "iopub.status.idle": "2024-01-26T20:45:55.584684Z",
     "shell.execute_reply": "2024-01-26T20:45:55.584309Z"
    },
    "papermill": {
     "duration": 0.893768,
     "end_time": "2024-01-26T20:45:55.585393",
     "exception": false,
     "start_time": "2024-01-26T20:45:54.691625",
     "status": "completed"
    },
    "tags": []
   },
   "outputs": [
    {
     "data": {
      "text/plain": [
       "<ontime.context.common.generic_detector.GenericDetector at 0xffff0379f730>"
      ]
     },
     "execution_count": 20,
     "metadata": {},
     "output_type": "execute_result"
    }
   ],
   "source": [
    "model.fit(train)"
   ]
  },
  {
   "cell_type": "markdown",
   "id": "cad58ac3-bc19-4281-8975-d31b13e5b7f5",
   "metadata": {
    "papermill": {
     "duration": 0.005303,
     "end_time": "2024-01-26T20:45:55.596495",
     "exception": false,
     "start_time": "2024-01-26T20:45:55.591192",
     "status": "completed"
    },
    "tags": []
   },
   "source": [
    "Does the current signal has problem ? "
   ]
  },
  {
   "cell_type": "code",
   "execution_count": 21,
   "id": "3fcf48b4-6d60-411d-88e5-191d575967a7",
   "metadata": {
    "execution": {
     "iopub.execute_input": "2024-01-26T20:45:55.606902Z",
     "iopub.status.busy": "2024-01-26T20:45:55.606491Z",
     "iopub.status.idle": "2024-01-26T20:45:55.614080Z",
     "shell.execute_reply": "2024-01-26T20:45:55.613809Z"
    },
    "papermill": {
     "duration": 0.013412,
     "end_time": "2024-01-26T20:45:55.614669",
     "exception": false,
     "start_time": "2024-01-26T20:45:55.601257",
     "status": "completed"
    },
    "tags": []
   },
   "outputs": [],
   "source": [
    "detected_test = model.detect(test)"
   ]
  },
  {
   "cell_type": "code",
   "execution_count": 22,
   "id": "317ef652-cfa1-4d85-b873-a1944c13fefc",
   "metadata": {
    "execution": {
     "iopub.execute_input": "2024-01-26T20:45:55.624998Z",
     "iopub.status.busy": "2024-01-26T20:45:55.624696Z",
     "iopub.status.idle": "2024-01-26T20:45:55.660266Z",
     "shell.execute_reply": "2024-01-26T20:45:55.659894Z"
    },
    "papermill": {
     "duration": 0.041363,
     "end_time": "2024-01-26T20:45:55.660938",
     "exception": false,
     "start_time": "2024-01-26T20:45:55.619575",
     "status": "completed"
    },
    "tags": []
   },
   "outputs": [
    {
     "data": {
      "text/html": [
       "\n",
       "<style>\n",
       "  #altair-viz-56eb248b810d455787501944027a9372.vega-embed {\n",
       "    width: 100%;\n",
       "    display: flex;\n",
       "  }\n",
       "\n",
       "  #altair-viz-56eb248b810d455787501944027a9372.vega-embed details,\n",
       "  #altair-viz-56eb248b810d455787501944027a9372.vega-embed details summary {\n",
       "    position: relative;\n",
       "  }\n",
       "</style>\n",
       "<div id=\"altair-viz-56eb248b810d455787501944027a9372\"></div>\n",
       "<script type=\"text/javascript\">\n",
       "  var VEGA_DEBUG = (typeof VEGA_DEBUG == \"undefined\") ? {} : VEGA_DEBUG;\n",
       "  (function(spec, embedOpt){\n",
       "    let outputDiv = document.currentScript.previousElementSibling;\n",
       "    if (outputDiv.id !== \"altair-viz-56eb248b810d455787501944027a9372\") {\n",
       "      outputDiv = document.getElementById(\"altair-viz-56eb248b810d455787501944027a9372\");\n",
       "    }\n",
       "    const paths = {\n",
       "      \"vega\": \"https://cdn.jsdelivr.net/npm/vega@5?noext\",\n",
       "      \"vega-lib\": \"https://cdn.jsdelivr.net/npm/vega-lib?noext\",\n",
       "      \"vega-lite\": \"https://cdn.jsdelivr.net/npm/vega-lite@5.16.3?noext\",\n",
       "      \"vega-embed\": \"https://cdn.jsdelivr.net/npm/vega-embed@6?noext\",\n",
       "    };\n",
       "\n",
       "    function maybeLoadScript(lib, version) {\n",
       "      var key = `${lib.replace(\"-\", \"\")}_version`;\n",
       "      return (VEGA_DEBUG[key] == version) ?\n",
       "        Promise.resolve(paths[lib]) :\n",
       "        new Promise(function(resolve, reject) {\n",
       "          var s = document.createElement('script');\n",
       "          document.getElementsByTagName(\"head\")[0].appendChild(s);\n",
       "          s.async = true;\n",
       "          s.onload = () => {\n",
       "            VEGA_DEBUG[key] = version;\n",
       "            return resolve(paths[lib]);\n",
       "          };\n",
       "          s.onerror = () => reject(`Error loading script: ${paths[lib]}`);\n",
       "          s.src = paths[lib];\n",
       "        });\n",
       "    }\n",
       "\n",
       "    function showError(err) {\n",
       "      outputDiv.innerHTML = `<div class=\"error\" style=\"color:red;\">${err}</div>`;\n",
       "      throw err;\n",
       "    }\n",
       "\n",
       "    function displayChart(vegaEmbed) {\n",
       "      vegaEmbed(outputDiv, spec, embedOpt)\n",
       "        .catch(err => showError(`Javascript Error: ${err.message}<br>This usually means there's a typo in your chart specification. See the javascript console for the full traceback.`));\n",
       "    }\n",
       "\n",
       "    if(typeof define === \"function\" && define.amd) {\n",
       "      requirejs.config({paths});\n",
       "      require([\"vega-embed\"], displayChart, err => showError(`Error loading script: ${err.message}`));\n",
       "    } else {\n",
       "      maybeLoadScript(\"vega\", \"5\")\n",
       "        .then(() => maybeLoadScript(\"vega-lite\", \"5.16.3\"))\n",
       "        .then(() => maybeLoadScript(\"vega-embed\", \"6\"))\n",
       "        .catch(showError)\n",
       "        .then(() => displayChart(vegaEmbed));\n",
       "    }\n",
       "  })({\"$schema\": \"https://vega.github.io/schema/vega/v5.json\", \"data\": [{\"name\": \"source_0\", \"values\": [{\"anomaly\": 1.0, \"signal\": 53.0, \"time\": \"2015-09-01T01:00:00.000\"}, {\"anomaly\": 1.0, \"signal\": 42.0, \"time\": \"2015-09-01T02:00:00.000\"}, {\"anomaly\": 1.0, \"signal\": 36.0, \"time\": \"2015-09-01T03:00:00.000\"}, {\"anomaly\": 1.0, \"signal\": 35.0, \"time\": \"2015-09-01T04:00:00.000\"}, {\"anomaly\": 1.0, \"signal\": 35.0, \"time\": \"2015-09-01T05:00:00.000\"}, {\"anomaly\": 1.0, \"signal\": 55.0, \"time\": \"2015-09-01T06:00:00.000\"}, {\"anomaly\": 0.0, \"signal\": 704.0, \"time\": \"2015-09-01T07:00:00.000\"}, {\"anomaly\": 0.0, \"signal\": 1889.0, \"time\": \"2015-09-01T08:00:00.000\"}, {\"anomaly\": 0.0, \"signal\": 3095.0, \"time\": \"2015-09-01T09:00:00.000\"}, {\"anomaly\": 1.0, \"signal\": 3712.0, \"time\": \"2015-09-01T10:00:00.000\"}, {\"anomaly\": 1.0, \"signal\": 3901.0, \"time\": \"2015-09-01T11:00:00.000\"}, {\"anomaly\": 1.0, \"signal\": 3907.0, \"time\": \"2015-09-01T12:00:00.000\"}, {\"anomaly\": 1.0, \"signal\": 3833.0, \"time\": \"2015-09-01T13:00:00.000\"}, {\"anomaly\": 0.0, \"signal\": 3211.0, \"time\": \"2015-09-01T14:00:00.000\"}, {\"anomaly\": 0.0, \"signal\": 1624.0, \"time\": \"2015-09-01T15:00:00.000\"}, {\"anomaly\": 0.0, \"signal\": 493.0, \"time\": \"2015-09-01T16:00:00.000\"}, {\"anomaly\": 0.0, \"signal\": 125.0, \"time\": \"2015-09-01T17:00:00.000\"}, {\"anomaly\": 0.0, \"signal\": 81.0, \"time\": \"2015-09-01T18:00:00.000\"}, {\"anomaly\": 1.0, \"signal\": 69.0, \"time\": \"2015-09-01T19:00:00.000\"}, {\"anomaly\": 1.0, \"signal\": 69.0, \"time\": \"2015-09-01T20:00:00.000\"}, {\"anomaly\": 1.0, \"signal\": 56.0, \"time\": \"2015-09-01T21:00:00.000\"}, {\"anomaly\": 0.0, \"signal\": 84.0, \"time\": \"2015-09-01T22:00:00.000\"}, {\"anomaly\": 1.0, \"signal\": 73.0, \"time\": \"2015-09-01T23:00:00.000\"}, {\"anomaly\": 1.0, \"signal\": 73.0, \"time\": \"2015-09-02T00:00:00.000\"}, {\"anomaly\": 1.0, \"signal\": 73.0, \"time\": \"2015-09-02T01:00:00.000\"}, {\"anomaly\": 1.0, \"signal\": 72.0, \"time\": \"2015-09-02T02:00:00.000\"}, {\"anomaly\": 1.0, \"signal\": 73.0, \"time\": \"2015-09-02T03:00:00.000\"}, {\"anomaly\": 1.0, \"signal\": 73.0, \"time\": \"2015-09-02T04:00:00.000\"}, {\"anomaly\": 0.0, \"signal\": 80.0, \"time\": \"2015-09-02T05:00:00.000\"}, {\"anomaly\": 0.0, \"signal\": 218.0, \"time\": \"2015-09-02T06:00:00.000\"}, {\"anomaly\": 0.0, \"signal\": 1296.0, \"time\": \"2015-09-02T07:00:00.000\"}, {\"anomaly\": 0.0, \"signal\": 2524.0, \"time\": \"2015-09-02T08:00:00.000\"}, {\"anomaly\": 1.0, \"signal\": 3665.0, \"time\": \"2015-09-02T09:00:00.000\"}, {\"anomaly\": 1.0, \"signal\": 3939.0, \"time\": \"2015-09-02T10:00:00.000\"}, {\"anomaly\": 1.0, \"signal\": 3865.0, \"time\": \"2015-09-02T11:00:00.000\"}, {\"anomaly\": 1.0, \"signal\": 3737.0, \"time\": \"2015-09-02T12:00:00.000\"}, {\"anomaly\": 1.0, \"signal\": 3644.0, \"time\": \"2015-09-02T13:00:00.000\"}, {\"anomaly\": 0.0, \"signal\": 3325.0, \"time\": \"2015-09-02T14:00:00.000\"}, {\"anomaly\": 0.0, \"signal\": 2346.0, \"time\": \"2015-09-02T15:00:00.000\"}, {\"anomaly\": 0.0, \"signal\": 883.0, \"time\": \"2015-09-02T16:00:00.000\"}, {\"anomaly\": 0.0, \"signal\": 396.0, \"time\": \"2015-09-02T17:00:00.000\"}, {\"anomaly\": 0.0, \"signal\": 279.0, \"time\": \"2015-09-02T18:00:00.000\"}, {\"anomaly\": 0.0, \"signal\": 171.0, \"time\": \"2015-09-02T19:00:00.000\"}, {\"anomaly\": 0.0, \"signal\": 115.0, \"time\": \"2015-09-02T20:00:00.000\"}, {\"anomaly\": 0.0, \"signal\": 105.0, \"time\": \"2015-09-02T21:00:00.000\"}, {\"anomaly\": 0.0, \"signal\": 341.0, \"time\": \"2015-09-02T22:00:00.000\"}, {\"anomaly\": 0.0, \"signal\": 225.0, \"time\": \"2015-09-02T23:00:00.000\"}, {\"anomaly\": 0.0, \"signal\": 149.0, \"time\": \"2015-09-03T00:00:00.000\"}, {\"anomaly\": 0.0, \"signal\": 91.0, \"time\": \"2015-09-03T01:00:00.000\"}, {\"anomaly\": 1.0, \"signal\": 68.0, \"time\": \"2015-09-03T02:00:00.000\"}, {\"anomaly\": 1.0, \"signal\": 39.0, \"time\": \"2015-09-03T03:00:00.000\"}, {\"anomaly\": 1.0, \"signal\": 39.0, \"time\": \"2015-09-03T04:00:00.000\"}, {\"anomaly\": 1.0, \"signal\": 55.0, \"time\": \"2015-09-03T05:00:00.000\"}, {\"anomaly\": 0.0, \"signal\": 702.0, \"time\": \"2015-09-03T06:00:00.000\"}, {\"anomaly\": 0.0, \"signal\": 2210.0, \"time\": \"2015-09-03T07:00:00.000\"}, {\"anomaly\": 1.0, \"signal\": 4027.0, \"time\": \"2015-09-03T08:00:00.000\"}, {\"anomaly\": 1.0, \"signal\": 4991.0, \"time\": \"2015-09-03T09:00:00.000\"}, {\"anomaly\": 1.0, \"signal\": 5215.0, \"time\": \"2015-09-03T10:00:00.000\"}, {\"anomaly\": 1.0, \"signal\": 5251.0, \"time\": \"2015-09-03T11:00:00.000\"}, {\"anomaly\": 1.0, \"signal\": 5079.0, \"time\": \"2015-09-03T12:00:00.000\"}, {\"anomaly\": 1.0, \"signal\": 4839.0, \"time\": \"2015-09-03T13:00:00.000\"}, {\"anomaly\": 1.0, \"signal\": 4293.0, \"time\": \"2015-09-03T14:00:00.000\"}, {\"anomaly\": 0.0, \"signal\": 3408.0, \"time\": \"2015-09-03T15:00:00.000\"}, {\"anomaly\": 0.0, \"signal\": 1957.0, \"time\": \"2015-09-03T16:00:00.000\"}, {\"anomaly\": 0.0, \"signal\": 872.0, \"time\": \"2015-09-03T17:00:00.000\"}, {\"anomaly\": 0.0, \"signal\": 668.0, \"time\": \"2015-09-03T18:00:00.000\"}, {\"anomaly\": 0.0, \"signal\": 622.0, \"time\": \"2015-09-03T19:00:00.000\"}, {\"anomaly\": 0.0, \"signal\": 572.0, \"time\": \"2015-09-03T20:00:00.000\"}, {\"anomaly\": 0.0, \"signal\": 560.0, \"time\": \"2015-09-03T21:00:00.000\"}, {\"anomaly\": 1.0, \"signal\": 19.0, \"time\": \"2015-09-03T22:00:00.000\"}, {\"anomaly\": 1.0, \"signal\": 17.0, \"time\": \"2015-09-03T23:00:00.000\"}, {\"anomaly\": 1.0, \"signal\": 17.0, \"time\": \"2015-09-04T00:00:00.000\"}], \"transform\": [{\"type\": \"formula\", \"expr\": \"toDate(datum['time'])\", \"as\": \"time\"}]}, {\"name\": \"data_0\", \"values\": [{\"signal\": 53.0, \"time\": \"2015-09-01T01:00:00.000\"}, {\"signal\": 42.0, \"time\": \"2015-09-01T02:00:00.000\"}, {\"signal\": 36.0, \"time\": \"2015-09-01T03:00:00.000\"}, {\"signal\": 35.0, \"time\": \"2015-09-01T04:00:00.000\"}, {\"signal\": 35.0, \"time\": \"2015-09-01T05:00:00.000\"}, {\"signal\": 55.0, \"time\": \"2015-09-01T06:00:00.000\"}, {\"signal\": 3712.0, \"time\": \"2015-09-01T10:00:00.000\"}, {\"signal\": 3901.0, \"time\": \"2015-09-01T11:00:00.000\"}, {\"signal\": 3907.0, \"time\": \"2015-09-01T12:00:00.000\"}, {\"signal\": 3833.0, \"time\": \"2015-09-01T13:00:00.000\"}, {\"signal\": 69.0, \"time\": \"2015-09-01T19:00:00.000\"}, {\"signal\": 69.0, \"time\": \"2015-09-01T20:00:00.000\"}, {\"signal\": 56.0, \"time\": \"2015-09-01T21:00:00.000\"}, {\"signal\": 73.0, \"time\": \"2015-09-01T23:00:00.000\"}, {\"signal\": 73.0, \"time\": \"2015-09-02T00:00:00.000\"}, {\"signal\": 73.0, \"time\": \"2015-09-02T01:00:00.000\"}, {\"signal\": 72.0, \"time\": \"2015-09-02T02:00:00.000\"}, {\"signal\": 73.0, \"time\": \"2015-09-02T03:00:00.000\"}, {\"signal\": 73.0, \"time\": \"2015-09-02T04:00:00.000\"}, {\"signal\": 3665.0, \"time\": \"2015-09-02T09:00:00.000\"}, {\"signal\": 3939.0, \"time\": \"2015-09-02T10:00:00.000\"}, {\"signal\": 3865.0, \"time\": \"2015-09-02T11:00:00.000\"}, {\"signal\": 3737.0, \"time\": \"2015-09-02T12:00:00.000\"}, {\"signal\": 3644.0, \"time\": \"2015-09-02T13:00:00.000\"}, {\"signal\": 68.0, \"time\": \"2015-09-03T02:00:00.000\"}, {\"signal\": 39.0, \"time\": \"2015-09-03T03:00:00.000\"}, {\"signal\": 39.0, \"time\": \"2015-09-03T04:00:00.000\"}, {\"signal\": 55.0, \"time\": \"2015-09-03T05:00:00.000\"}, {\"signal\": 4027.0, \"time\": \"2015-09-03T08:00:00.000\"}, {\"signal\": 4991.0, \"time\": \"2015-09-03T09:00:00.000\"}, {\"signal\": 5215.0, \"time\": \"2015-09-03T10:00:00.000\"}, {\"signal\": 5251.0, \"time\": \"2015-09-03T11:00:00.000\"}, {\"signal\": 5079.0, \"time\": \"2015-09-03T12:00:00.000\"}, {\"signal\": 4839.0, \"time\": \"2015-09-03T13:00:00.000\"}, {\"signal\": 4293.0, \"time\": \"2015-09-03T14:00:00.000\"}, {\"signal\": 19.0, \"time\": \"2015-09-03T22:00:00.000\"}, {\"signal\": 17.0, \"time\": \"2015-09-03T23:00:00.000\"}, {\"signal\": 17.0, \"time\": \"2015-09-04T00:00:00.000\"}], \"transform\": [{\"type\": \"formula\", \"expr\": \"toDate(datum['time'])\", \"as\": \"time\"}]}], \"marks\": [{\"type\": \"line\", \"name\": \"layer_0_marks\", \"from\": {\"data\": \"source_0\"}, \"sort\": {\"field\": \"datum[\\\"time\\\"]\"}, \"encode\": {\"update\": {\"x\": {\"field\": \"time\", \"scale\": \"x\"}, \"description\": {\"signal\": \"\\\"time: \\\" + (timeFormat(datum[\\\"time\\\"], '%b %d, %Y')) + \\\"; signal: \\\" + (format(datum[\\\"signal\\\"], \\\"\\\"))\"}, \"stroke\": {\"value\": \"#4c78a8\"}, \"defined\": {\"signal\": \"isValid(datum[\\\"time\\\"]) && isFinite(+datum[\\\"time\\\"]) && isValid(datum[\\\"signal\\\"]) && isFinite(+datum[\\\"signal\\\"])\"}, \"y\": {\"field\": \"signal\", \"scale\": \"y\"}}}, \"style\": [\"line\"]}, {\"type\": \"symbol\", \"name\": \"layer_1_marks\", \"from\": {\"data\": \"data_0\"}, \"encode\": {\"update\": {\"opacity\": {\"value\": 0.7}, \"ariaRoleDescription\": {\"value\": \"circle\"}, \"size\": {\"value\": 60}, \"y\": {\"field\": \"signal\", \"scale\": \"y\"}, \"description\": {\"signal\": \"\\\"time: \\\" + (timeFormat(datum[\\\"time\\\"], '%b %d, %Y')) + \\\"; signal: \\\" + (format(datum[\\\"signal\\\"], \\\"\\\"))\"}, \"x\": {\"field\": \"time\", \"scale\": \"x\"}, \"shape\": {\"value\": \"circle\"}, \"fill\": {\"value\": \"red\"}}}, \"style\": [\"circle\"]}], \"scales\": [{\"name\": \"x\", \"type\": \"time\", \"domain\": {\"fields\": [{\"data\": \"source_0\", \"field\": \"time\"}, {\"data\": \"data_0\", \"field\": \"time\"}]}, \"range\": [0, {\"signal\": \"width\"}]}, {\"name\": \"y\", \"type\": \"linear\", \"domain\": {\"fields\": [{\"data\": \"source_0\", \"field\": \"signal\"}, {\"data\": \"data_0\", \"field\": \"signal\"}]}, \"range\": [{\"signal\": \"height\"}, 0], \"nice\": true, \"zero\": true}], \"axes\": [{\"scale\": \"x\", \"orient\": \"bottom\", \"tickCount\": {\"signal\": \"ceil(width/40)\"}, \"grid\": true, \"maxExtent\": 0, \"aria\": false, \"ticks\": false, \"zindex\": 0, \"domain\": false, \"labels\": false, \"gridScale\": \"y\", \"minExtent\": 0}, {\"scale\": \"y\", \"gridScale\": \"x\", \"zindex\": 0, \"maxExtent\": 0, \"labels\": false, \"grid\": true, \"domain\": false, \"orient\": \"left\", \"aria\": false, \"minExtent\": 0, \"tickCount\": {\"signal\": \"ceil(height/40)\"}, \"ticks\": false}, {\"scale\": \"x\", \"title\": \"time\", \"tickCount\": {\"signal\": \"ceil(width/40)\"}, \"orient\": \"bottom\", \"labelOverlap\": true, \"labelFlush\": true, \"zindex\": 0, \"grid\": false}, {\"scale\": \"y\", \"orient\": \"left\", \"tickCount\": {\"signal\": \"ceil(height/40)\"}, \"grid\": false, \"labelOverlap\": true, \"title\": \"signal\", \"zindex\": 0}], \"height\": 300, \"padding\": 5, \"background\": \"white\", \"style\": \"cell\", \"width\": 500}, {\"mode\": \"vega\"});\n",
       "</script>"
      ],
      "text/plain": [
       "alt.LayerChart(...)"
      ]
     },
     "execution_count": 22,
     "metadata": {},
     "output_type": "execute_result"
    }
   ],
   "source": [
    "on.plots.anomalies(test[:72], detected_test[:72])"
   ]
  },
  {
   "cell_type": "markdown",
   "id": "2eef8370-d1d7-47dc-ac68-91fa9d375646",
   "metadata": {
    "papermill": {
     "duration": 0.006183,
     "end_time": "2024-01-26T20:45:55.672719",
     "exception": false,
     "start_time": "2024-01-26T20:45:55.666536",
     "status": "completed"
    },
    "tags": []
   },
   "source": [
    "What if we want to have an idea about the future problems ?"
   ]
  },
  {
   "cell_type": "code",
   "execution_count": 23,
   "id": "0e31b255-cf60-4470-910e-31fe826b9782",
   "metadata": {
    "execution": {
     "iopub.execute_input": "2024-01-26T20:45:55.683068Z",
     "iopub.status.busy": "2024-01-26T20:45:55.682805Z",
     "iopub.status.idle": "2024-01-26T20:45:55.703960Z",
     "shell.execute_reply": "2024-01-26T20:45:55.703592Z"
    },
    "papermill": {
     "duration": 0.027083,
     "end_time": "2024-01-26T20:45:55.704659",
     "exception": false,
     "start_time": "2024-01-26T20:45:55.677576",
     "status": "completed"
    },
    "tags": []
   },
   "outputs": [],
   "source": [
    "predetected = model.predetect(72)"
   ]
  },
  {
   "cell_type": "code",
   "execution_count": 24,
   "id": "fe406b99-9025-4553-8c3d-0237a670e513",
   "metadata": {
    "execution": {
     "iopub.execute_input": "2024-01-26T20:45:55.716912Z",
     "iopub.status.busy": "2024-01-26T20:45:55.716604Z",
     "iopub.status.idle": "2024-01-26T20:45:55.748222Z",
     "shell.execute_reply": "2024-01-26T20:45:55.747863Z"
    },
    "papermill": {
     "duration": 0.038462,
     "end_time": "2024-01-26T20:45:55.748920",
     "exception": false,
     "start_time": "2024-01-26T20:45:55.710458",
     "status": "completed"
    },
    "tags": []
   },
   "outputs": [
    {
     "data": {
      "text/html": [
       "\n",
       "<style>\n",
       "  #altair-viz-e0e3600fca85431da8047d4f85caccf5.vega-embed {\n",
       "    width: 100%;\n",
       "    display: flex;\n",
       "  }\n",
       "\n",
       "  #altair-viz-e0e3600fca85431da8047d4f85caccf5.vega-embed details,\n",
       "  #altair-viz-e0e3600fca85431da8047d4f85caccf5.vega-embed details summary {\n",
       "    position: relative;\n",
       "  }\n",
       "</style>\n",
       "<div id=\"altair-viz-e0e3600fca85431da8047d4f85caccf5\"></div>\n",
       "<script type=\"text/javascript\">\n",
       "  var VEGA_DEBUG = (typeof VEGA_DEBUG == \"undefined\") ? {} : VEGA_DEBUG;\n",
       "  (function(spec, embedOpt){\n",
       "    let outputDiv = document.currentScript.previousElementSibling;\n",
       "    if (outputDiv.id !== \"altair-viz-e0e3600fca85431da8047d4f85caccf5\") {\n",
       "      outputDiv = document.getElementById(\"altair-viz-e0e3600fca85431da8047d4f85caccf5\");\n",
       "    }\n",
       "    const paths = {\n",
       "      \"vega\": \"https://cdn.jsdelivr.net/npm/vega@5?noext\",\n",
       "      \"vega-lib\": \"https://cdn.jsdelivr.net/npm/vega-lib?noext\",\n",
       "      \"vega-lite\": \"https://cdn.jsdelivr.net/npm/vega-lite@5.16.3?noext\",\n",
       "      \"vega-embed\": \"https://cdn.jsdelivr.net/npm/vega-embed@6?noext\",\n",
       "    };\n",
       "\n",
       "    function maybeLoadScript(lib, version) {\n",
       "      var key = `${lib.replace(\"-\", \"\")}_version`;\n",
       "      return (VEGA_DEBUG[key] == version) ?\n",
       "        Promise.resolve(paths[lib]) :\n",
       "        new Promise(function(resolve, reject) {\n",
       "          var s = document.createElement('script');\n",
       "          document.getElementsByTagName(\"head\")[0].appendChild(s);\n",
       "          s.async = true;\n",
       "          s.onload = () => {\n",
       "            VEGA_DEBUG[key] = version;\n",
       "            return resolve(paths[lib]);\n",
       "          };\n",
       "          s.onerror = () => reject(`Error loading script: ${paths[lib]}`);\n",
       "          s.src = paths[lib];\n",
       "        });\n",
       "    }\n",
       "\n",
       "    function showError(err) {\n",
       "      outputDiv.innerHTML = `<div class=\"error\" style=\"color:red;\">${err}</div>`;\n",
       "      throw err;\n",
       "    }\n",
       "\n",
       "    function displayChart(vegaEmbed) {\n",
       "      vegaEmbed(outputDiv, spec, embedOpt)\n",
       "        .catch(err => showError(`Javascript Error: ${err.message}<br>This usually means there's a typo in your chart specification. See the javascript console for the full traceback.`));\n",
       "    }\n",
       "\n",
       "    if(typeof define === \"function\" && define.amd) {\n",
       "      requirejs.config({paths});\n",
       "      require([\"vega-embed\"], displayChart, err => showError(`Error loading script: ${err.message}`));\n",
       "    } else {\n",
       "      maybeLoadScript(\"vega\", \"5\")\n",
       "        .then(() => maybeLoadScript(\"vega-lite\", \"5.16.3\"))\n",
       "        .then(() => maybeLoadScript(\"vega-embed\", \"6\"))\n",
       "        .catch(showError)\n",
       "        .then(() => displayChart(vegaEmbed));\n",
       "    }\n",
       "  })({\"$schema\": \"https://vega.github.io/schema/vega/v5.json\", \"data\": [{\"name\": \"source_0\", \"values\": [{\"anomaly\": 1.0, \"signal\": 53.0, \"time\": \"2015-09-01T01:00:00.000\"}, {\"anomaly\": 1.0, \"signal\": 42.0, \"time\": \"2015-09-01T02:00:00.000\"}, {\"anomaly\": 1.0, \"signal\": 36.0, \"time\": \"2015-09-01T03:00:00.000\"}, {\"anomaly\": 1.0, \"signal\": 35.0, \"time\": \"2015-09-01T04:00:00.000\"}, {\"anomaly\": 1.0, \"signal\": 35.0, \"time\": \"2015-09-01T05:00:00.000\"}, {\"anomaly\": 1.0, \"signal\": 55.0, \"time\": \"2015-09-01T06:00:00.000\"}, {\"anomaly\": 1.0, \"signal\": 704.0, \"time\": \"2015-09-01T07:00:00.000\"}, {\"anomaly\": 0.0, \"signal\": 1889.0, \"time\": \"2015-09-01T08:00:00.000\"}, {\"anomaly\": 0.0, \"signal\": 3095.0, \"time\": \"2015-09-01T09:00:00.000\"}, {\"anomaly\": 0.0, \"signal\": 3712.0, \"time\": \"2015-09-01T10:00:00.000\"}, {\"anomaly\": 0.0, \"signal\": 3901.0, \"time\": \"2015-09-01T11:00:00.000\"}, {\"anomaly\": 0.0, \"signal\": 3907.0, \"time\": \"2015-09-01T12:00:00.000\"}, {\"anomaly\": 0.0, \"signal\": 3833.0, \"time\": \"2015-09-01T13:00:00.000\"}, {\"anomaly\": 0.0, \"signal\": 3211.0, \"time\": \"2015-09-01T14:00:00.000\"}, {\"anomaly\": 0.0, \"signal\": 1624.0, \"time\": \"2015-09-01T15:00:00.000\"}, {\"anomaly\": 0.0, \"signal\": 493.0, \"time\": \"2015-09-01T16:00:00.000\"}, {\"anomaly\": 0.0, \"signal\": 125.0, \"time\": \"2015-09-01T17:00:00.000\"}, {\"anomaly\": 0.0, \"signal\": 81.0, \"time\": \"2015-09-01T18:00:00.000\"}, {\"anomaly\": 0.0, \"signal\": 69.0, \"time\": \"2015-09-01T19:00:00.000\"}, {\"anomaly\": 0.0, \"signal\": 69.0, \"time\": \"2015-09-01T20:00:00.000\"}, {\"anomaly\": 1.0, \"signal\": 56.0, \"time\": \"2015-09-01T21:00:00.000\"}, {\"anomaly\": 1.0, \"signal\": 84.0, \"time\": \"2015-09-01T22:00:00.000\"}, {\"anomaly\": 1.0, \"signal\": 73.0, \"time\": \"2015-09-01T23:00:00.000\"}, {\"anomaly\": 1.0, \"signal\": 73.0, \"time\": \"2015-09-02T00:00:00.000\"}, {\"anomaly\": 1.0, \"signal\": 73.0, \"time\": \"2015-09-02T01:00:00.000\"}, {\"anomaly\": 1.0, \"signal\": 72.0, \"time\": \"2015-09-02T02:00:00.000\"}, {\"anomaly\": 1.0, \"signal\": 73.0, \"time\": \"2015-09-02T03:00:00.000\"}, {\"anomaly\": 1.0, \"signal\": 73.0, \"time\": \"2015-09-02T04:00:00.000\"}, {\"anomaly\": 0.0, \"signal\": 80.0, \"time\": \"2015-09-02T05:00:00.000\"}, {\"anomaly\": 0.0, \"signal\": 218.0, \"time\": \"2015-09-02T06:00:00.000\"}, {\"anomaly\": 0.0, \"signal\": 1296.0, \"time\": \"2015-09-02T07:00:00.000\"}, {\"anomaly\": 0.0, \"signal\": 2524.0, \"time\": \"2015-09-02T08:00:00.000\"}, {\"anomaly\": 0.0, \"signal\": 3665.0, \"time\": \"2015-09-02T09:00:00.000\"}, {\"anomaly\": 0.0, \"signal\": 3939.0, \"time\": \"2015-09-02T10:00:00.000\"}, {\"anomaly\": 0.0, \"signal\": 3865.0, \"time\": \"2015-09-02T11:00:00.000\"}, {\"anomaly\": 0.0, \"signal\": 3737.0, \"time\": \"2015-09-02T12:00:00.000\"}, {\"anomaly\": 0.0, \"signal\": 3644.0, \"time\": \"2015-09-02T13:00:00.000\"}, {\"anomaly\": 0.0, \"signal\": 3325.0, \"time\": \"2015-09-02T14:00:00.000\"}, {\"anomaly\": 0.0, \"signal\": 2346.0, \"time\": \"2015-09-02T15:00:00.000\"}, {\"anomaly\": 0.0, \"signal\": 883.0, \"time\": \"2015-09-02T16:00:00.000\"}, {\"anomaly\": 0.0, \"signal\": 396.0, \"time\": \"2015-09-02T17:00:00.000\"}, {\"anomaly\": 1.0, \"signal\": 279.0, \"time\": \"2015-09-02T18:00:00.000\"}, {\"anomaly\": 1.0, \"signal\": 171.0, \"time\": \"2015-09-02T19:00:00.000\"}, {\"anomaly\": 1.0, \"signal\": 115.0, \"time\": \"2015-09-02T20:00:00.000\"}, {\"anomaly\": 1.0, \"signal\": 105.0, \"time\": \"2015-09-02T21:00:00.000\"}, {\"anomaly\": 0.0, \"signal\": 341.0, \"time\": \"2015-09-02T22:00:00.000\"}, {\"anomaly\": 0.0, \"signal\": 225.0, \"time\": \"2015-09-02T23:00:00.000\"}, {\"anomaly\": 0.0, \"signal\": 149.0, \"time\": \"2015-09-03T00:00:00.000\"}, {\"anomaly\": 0.0, \"signal\": 91.0, \"time\": \"2015-09-03T01:00:00.000\"}, {\"anomaly\": 0.0, \"signal\": 68.0, \"time\": \"2015-09-03T02:00:00.000\"}, {\"anomaly\": 0.0, \"signal\": 39.0, \"time\": \"2015-09-03T03:00:00.000\"}, {\"anomaly\": 0.0, \"signal\": 39.0, \"time\": \"2015-09-03T04:00:00.000\"}, {\"anomaly\": 0.0, \"signal\": 55.0, \"time\": \"2015-09-03T05:00:00.000\"}, {\"anomaly\": 0.0, \"signal\": 702.0, \"time\": \"2015-09-03T06:00:00.000\"}, {\"anomaly\": 0.0, \"signal\": 2210.0, \"time\": \"2015-09-03T07:00:00.000\"}, {\"anomaly\": 0.0, \"signal\": 4027.0, \"time\": \"2015-09-03T08:00:00.000\"}, {\"anomaly\": 0.0, \"signal\": 4991.0, \"time\": \"2015-09-03T09:00:00.000\"}, {\"anomaly\": 0.0, \"signal\": 5215.0, \"time\": \"2015-09-03T10:00:00.000\"}, {\"anomaly\": 0.0, \"signal\": 5251.0, \"time\": \"2015-09-03T11:00:00.000\"}, {\"anomaly\": 0.0, \"signal\": 5079.0, \"time\": \"2015-09-03T12:00:00.000\"}, {\"anomaly\": 0.0, \"signal\": 4839.0, \"time\": \"2015-09-03T13:00:00.000\"}, {\"anomaly\": 0.0, \"signal\": 4293.0, \"time\": \"2015-09-03T14:00:00.000\"}, {\"anomaly\": 0.0, \"signal\": 3408.0, \"time\": \"2015-09-03T15:00:00.000\"}, {\"anomaly\": 0.0, \"signal\": 1957.0, \"time\": \"2015-09-03T16:00:00.000\"}, {\"anomaly\": 0.0, \"signal\": 872.0, \"time\": \"2015-09-03T17:00:00.000\"}, {\"anomaly\": 0.0, \"signal\": 668.0, \"time\": \"2015-09-03T18:00:00.000\"}, {\"anomaly\": 0.0, \"signal\": 622.0, \"time\": \"2015-09-03T19:00:00.000\"}, {\"anomaly\": 0.0, \"signal\": 572.0, \"time\": \"2015-09-03T20:00:00.000\"}, {\"anomaly\": 0.0, \"signal\": 560.0, \"time\": \"2015-09-03T21:00:00.000\"}, {\"anomaly\": 0.0, \"signal\": 19.0, \"time\": \"2015-09-03T22:00:00.000\"}, {\"anomaly\": 0.0, \"signal\": 17.0, \"time\": \"2015-09-03T23:00:00.000\"}, {\"anomaly\": 0.0, \"signal\": 17.0, \"time\": \"2015-09-04T00:00:00.000\"}], \"transform\": [{\"type\": \"formula\", \"expr\": \"toDate(datum['time'])\", \"as\": \"time\"}]}, {\"name\": \"data_0\", \"values\": [{\"signal\": 53.0, \"time\": \"2015-09-01T01:00:00.000\"}, {\"signal\": 42.0, \"time\": \"2015-09-01T02:00:00.000\"}, {\"signal\": 36.0, \"time\": \"2015-09-01T03:00:00.000\"}, {\"signal\": 35.0, \"time\": \"2015-09-01T04:00:00.000\"}, {\"signal\": 35.0, \"time\": \"2015-09-01T05:00:00.000\"}, {\"signal\": 55.0, \"time\": \"2015-09-01T06:00:00.000\"}, {\"signal\": 704.0, \"time\": \"2015-09-01T07:00:00.000\"}, {\"signal\": 56.0, \"time\": \"2015-09-01T21:00:00.000\"}, {\"signal\": 84.0, \"time\": \"2015-09-01T22:00:00.000\"}, {\"signal\": 73.0, \"time\": \"2015-09-01T23:00:00.000\"}, {\"signal\": 73.0, \"time\": \"2015-09-02T00:00:00.000\"}, {\"signal\": 73.0, \"time\": \"2015-09-02T01:00:00.000\"}, {\"signal\": 72.0, \"time\": \"2015-09-02T02:00:00.000\"}, {\"signal\": 73.0, \"time\": \"2015-09-02T03:00:00.000\"}, {\"signal\": 73.0, \"time\": \"2015-09-02T04:00:00.000\"}, {\"signal\": 279.0, \"time\": \"2015-09-02T18:00:00.000\"}, {\"signal\": 171.0, \"time\": \"2015-09-02T19:00:00.000\"}, {\"signal\": 115.0, \"time\": \"2015-09-02T20:00:00.000\"}, {\"signal\": 105.0, \"time\": \"2015-09-02T21:00:00.000\"}], \"transform\": [{\"type\": \"formula\", \"expr\": \"toDate(datum['time'])\", \"as\": \"time\"}]}], \"marks\": [{\"type\": \"line\", \"name\": \"layer_0_marks\", \"from\": {\"data\": \"source_0\"}, \"sort\": {\"field\": \"datum[\\\"time\\\"]\"}, \"encode\": {\"update\": {\"description\": {\"signal\": \"\\\"time: \\\" + (timeFormat(datum[\\\"time\\\"], '%b %d, %Y')) + \\\"; signal: \\\" + (format(datum[\\\"signal\\\"], \\\"\\\"))\"}, \"x\": {\"field\": \"time\", \"scale\": \"x\"}, \"stroke\": {\"value\": \"#4c78a8\"}, \"y\": {\"field\": \"signal\", \"scale\": \"y\"}, \"defined\": {\"signal\": \"isValid(datum[\\\"time\\\"]) && isFinite(+datum[\\\"time\\\"]) && isValid(datum[\\\"signal\\\"]) && isFinite(+datum[\\\"signal\\\"])\"}}}, \"style\": [\"line\"]}, {\"type\": \"symbol\", \"name\": \"layer_1_marks\", \"from\": {\"data\": \"data_0\"}, \"encode\": {\"update\": {\"y\": {\"field\": \"signal\", \"scale\": \"y\"}, \"fill\": {\"value\": \"red\"}, \"shape\": {\"value\": \"circle\"}, \"opacity\": {\"value\": 0.7}, \"ariaRoleDescription\": {\"value\": \"circle\"}, \"size\": {\"value\": 60}, \"x\": {\"field\": \"time\", \"scale\": \"x\"}, \"description\": {\"signal\": \"\\\"time: \\\" + (timeFormat(datum[\\\"time\\\"], '%b %d, %Y')) + \\\"; signal: \\\" + (format(datum[\\\"signal\\\"], \\\"\\\"))\"}}}, \"style\": [\"circle\"]}], \"scales\": [{\"name\": \"x\", \"type\": \"time\", \"domain\": {\"fields\": [{\"data\": \"source_0\", \"field\": \"time\"}, {\"data\": \"data_0\", \"field\": \"time\"}]}, \"range\": [0, {\"signal\": \"width\"}]}, {\"name\": \"y\", \"type\": \"linear\", \"domain\": {\"fields\": [{\"data\": \"source_0\", \"field\": \"signal\"}, {\"data\": \"data_0\", \"field\": \"signal\"}]}, \"range\": [{\"signal\": \"height\"}, 0], \"nice\": true, \"zero\": true}], \"axes\": [{\"scale\": \"x\", \"labels\": false, \"orient\": \"bottom\", \"domain\": false, \"maxExtent\": 0, \"minExtent\": 0, \"gridScale\": \"y\", \"grid\": true, \"ticks\": false, \"zindex\": 0, \"aria\": false, \"tickCount\": {\"signal\": \"ceil(width/40)\"}}, {\"scale\": \"y\", \"ticks\": false, \"orient\": \"left\", \"zindex\": 0, \"gridScale\": \"x\", \"minExtent\": 0, \"labels\": false, \"grid\": true, \"tickCount\": {\"signal\": \"ceil(height/40)\"}, \"domain\": false, \"aria\": false, \"maxExtent\": 0}, {\"scale\": \"x\", \"grid\": false, \"labelFlush\": true, \"zindex\": 0, \"title\": \"time\", \"labelOverlap\": true, \"tickCount\": {\"signal\": \"ceil(width/40)\"}, \"orient\": \"bottom\"}, {\"scale\": \"y\", \"orient\": \"left\", \"grid\": false, \"title\": \"signal\", \"zindex\": 0, \"labelOverlap\": true, \"tickCount\": {\"signal\": \"ceil(height/40)\"}}], \"background\": \"white\", \"padding\": 5, \"height\": 300, \"style\": \"cell\", \"width\": 500}, {\"mode\": \"vega\"});\n",
       "</script>"
      ],
      "text/plain": [
       "alt.LayerChart(...)"
      ]
     },
     "execution_count": 24,
     "metadata": {},
     "output_type": "execute_result"
    }
   ],
   "source": [
    "on.plots.anomalies(test[:72], predetected[:72])"
   ]
  },
  {
   "cell_type": "code",
   "execution_count": null,
   "id": "23994cad-3e1f-49f2-90c5-08080409c2a6",
   "metadata": {
    "papermill": {
     "duration": 0.00561,
     "end_time": "2024-01-26T20:45:55.760109",
     "exception": false,
     "start_time": "2024-01-26T20:45:55.754499",
     "status": "completed"
    },
    "tags": []
   },
   "outputs": [],
   "source": []
  }
 ],
 "metadata": {
  "kernelspec": {
   "display_name": "Python 3 (ipykernel)",
   "language": "python",
   "name": "python3"
  },
  "language_info": {
   "codemirror_mode": {
    "name": "ipython",
    "version": 3
   },
   "file_extension": ".py",
   "mimetype": "text/x-python",
   "name": "python",
   "nbconvert_exporter": "python",
   "pygments_lexer": "ipython3",
   "version": "3.10.13"
  },
  "papermill": {
   "default_parameters": {},
   "duration": 7.2942,
   "end_time": "2024-01-26T20:45:56.487290",
   "environment_variables": {},
   "exception": null,
   "input_path": "notebooks/docs/2_context/2.0-context-common.ipynb",
   "output_path": "notebooks/docs/2_context/2.0-context-common.ipynb",
   "parameters": {},
   "start_time": "2024-01-26T20:45:49.193090",
   "version": "2.5.0"
  }
 },
 "nbformat": 4,
 "nbformat_minor": 5
}