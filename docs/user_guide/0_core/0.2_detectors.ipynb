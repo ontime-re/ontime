{
 "cells": [
  {
   "cell_type": "code",
   "execution_count": 2,
   "id": "9286e0b8-3c78-4b0f-943c-d219e9840dfe",
   "metadata": {
    "papermill": {
     "duration": 0.014825,
     "end_time": "2024-01-31T17:50:26.847199",
     "exception": false,
     "start_time": "2024-01-31T17:50:26.832374",
     "status": "completed"
    },
    "tags": []
   },
   "outputs": [],
   "source": [
    "# Import to be able to import python package from src\n",
    "import sys\n",
    "sys.path.insert(0, '../src')"
   ]
  },
  {
   "cell_type": "code",
   "execution_count": 3,
   "id": "2028eed7-b1c3-4c9e-b6a0-00433caa7d0f",
   "metadata": {
    "papermill": {
     "duration": 2.515115,
     "end_time": "2024-01-31T17:50:29.365394",
     "exception": false,
     "start_time": "2024-01-31T17:50:26.850279",
     "status": "completed"
    },
    "tags": []
   },
   "outputs": [
    {
     "name": "stderr",
     "output_type": "stream",
     "text": [
      "The `LightGBM` module could not be imported. To enable LightGBM support in Darts, follow the detailed instructions in the installation guide: https://github.com/unit8co/darts/blob/master/INSTALL.md\n",
      "The `Prophet` module could not be imported. To enable Prophet support in Darts, follow the detailed instructions in the installation guide: https://github.com/unit8co/darts/blob/master/INSTALL.md\n"
     ]
    }
   ],
   "source": [
    "import pandas as pd\n",
    "import numpy as np\n",
    "import ontime as on"
   ]
  },
  {
   "cell_type": "markdown",
   "id": "41296cc6-9d84-47c5-8a92-2d292f6f3c4a",
   "metadata": {
    "papermill": {
     "duration": 0.008378,
     "end_time": "2024-01-31T17:50:26.827798",
     "exception": false,
     "start_time": "2024-01-31T17:50:26.819420",
     "status": "completed"
    },
    "tags": []
   },
   "source": [
    "# Detectors"
   ]
  },
  {
   "cell_type": "markdown",
   "id": "48992359-bd13-4347-8344-8bfb42fb126c",
   "metadata": {},
   "source": [
    "Detectors allow you to get a signal given a condition. The condition can be :\n",
    "\n",
    "- an absolute threshold or,\n",
    "- a statistical threshold with a quantile.\n",
    "\n",
    "Let's make an example."
   ]
  },
  {
   "cell_type": "markdown",
   "id": "e24da8ab-6a83-4c2f-9ff0-c633d4693a91",
   "metadata": {
    "papermill": {
     "duration": 0.001714,
     "end_time": "2024-01-31T17:50:29.375771",
     "exception": false,
     "start_time": "2024-01-31T17:50:29.374057",
     "status": "completed"
    },
    "tags": []
   },
   "source": [
    "## Generate a TimeSeries\n",
    "\n",
    "This is only to have some data for the purpose of the example."
   ]
  },
  {
   "cell_type": "code",
   "execution_count": 4,
   "id": "e9a96d79-0423-4d79-b01d-726193216238",
   "metadata": {
    "papermill": {
     "duration": 0.006608,
     "end_time": "2024-01-31T17:50:29.384080",
     "exception": false,
     "start_time": "2024-01-31T17:50:29.377472",
     "status": "completed"
    },
    "tags": []
   },
   "outputs": [],
   "source": [
    "ts = on.generators.random_walk().generate(start=pd.Timestamp('2022-01-01'), end=pd.Timestamp('2022-12-31'))"
   ]
  },
  {
   "cell_type": "code",
   "execution_count": 5,
   "id": "d463df9c-4f02-4c1e-b1a5-7162b9ea8c63",
   "metadata": {
    "papermill": {
     "duration": 0.009125,
     "end_time": "2024-01-31T17:50:29.394914",
     "exception": false,
     "start_time": "2024-01-31T17:50:29.385789",
     "status": "completed"
    },
    "tags": []
   },
   "outputs": [
    {
     "data": {
      "text/html": [
       "<div><svg style=\"position: absolute; width: 0; height: 0; overflow: hidden\">\n",
       "<defs>\n",
       "<symbol id=\"icon-database\" viewBox=\"0 0 32 32\">\n",
       "<path d=\"M16 0c-8.837 0-16 2.239-16 5v4c0 2.761 7.163 5 16 5s16-2.239 16-5v-4c0-2.761-7.163-5-16-5z\"></path>\n",
       "<path d=\"M16 17c-8.837 0-16-2.239-16-5v6c0 2.761 7.163 5 16 5s16-2.239 16-5v-6c0 2.761-7.163 5-16 5z\"></path>\n",
       "<path d=\"M16 26c-8.837 0-16-2.239-16-5v6c0 2.761 7.163 5 16 5s16-2.239 16-5v-6c0 2.761-7.163 5-16 5z\"></path>\n",
       "</symbol>\n",
       "<symbol id=\"icon-file-text2\" viewBox=\"0 0 32 32\">\n",
       "<path d=\"M28.681 7.159c-0.694-0.947-1.662-2.053-2.724-3.116s-2.169-2.030-3.116-2.724c-1.612-1.182-2.393-1.319-2.841-1.319h-15.5c-1.378 0-2.5 1.121-2.5 2.5v27c0 1.378 1.122 2.5 2.5 2.5h23c1.378 0 2.5-1.122 2.5-2.5v-19.5c0-0.448-0.137-1.23-1.319-2.841zM24.543 5.457c0.959 0.959 1.712 1.825 2.268 2.543h-4.811v-4.811c0.718 0.556 1.584 1.309 2.543 2.268zM28 29.5c0 0.271-0.229 0.5-0.5 0.5h-23c-0.271 0-0.5-0.229-0.5-0.5v-27c0-0.271 0.229-0.5 0.5-0.5 0 0 15.499-0 15.5 0v7c0 0.552 0.448 1 1 1h7v19.5z\"></path>\n",
       "<path d=\"M23 26h-14c-0.552 0-1-0.448-1-1s0.448-1 1-1h14c0.552 0 1 0.448 1 1s-0.448 1-1 1z\"></path>\n",
       "<path d=\"M23 22h-14c-0.552 0-1-0.448-1-1s0.448-1 1-1h14c0.552 0 1 0.448 1 1s-0.448 1-1 1z\"></path>\n",
       "<path d=\"M23 18h-14c-0.552 0-1-0.448-1-1s0.448-1 1-1h14c0.552 0 1 0.448 1 1s-0.448 1-1 1z\"></path>\n",
       "</symbol>\n",
       "</defs>\n",
       "</svg>\n",
       "<style>/* CSS stylesheet for displaying xarray objects in jupyterlab.\n",
       " *\n",
       " */\n",
       "\n",
       ":root {\n",
       "  --xr-font-color0: var(--jp-content-font-color0, rgba(0, 0, 0, 1));\n",
       "  --xr-font-color2: var(--jp-content-font-color2, rgba(0, 0, 0, 0.54));\n",
       "  --xr-font-color3: var(--jp-content-font-color3, rgba(0, 0, 0, 0.38));\n",
       "  --xr-border-color: var(--jp-border-color2, #e0e0e0);\n",
       "  --xr-disabled-color: var(--jp-layout-color3, #bdbdbd);\n",
       "  --xr-background-color: var(--jp-layout-color0, white);\n",
       "  --xr-background-color-row-even: var(--jp-layout-color1, white);\n",
       "  --xr-background-color-row-odd: var(--jp-layout-color2, #eeeeee);\n",
       "}\n",
       "\n",
       "html[theme=dark],\n",
       "body[data-theme=dark],\n",
       "body.vscode-dark {\n",
       "  --xr-font-color0: rgba(255, 255, 255, 1);\n",
       "  --xr-font-color2: rgba(255, 255, 255, 0.54);\n",
       "  --xr-font-color3: rgba(255, 255, 255, 0.38);\n",
       "  --xr-border-color: #1F1F1F;\n",
       "  --xr-disabled-color: #515151;\n",
       "  --xr-background-color: #111111;\n",
       "  --xr-background-color-row-even: #111111;\n",
       "  --xr-background-color-row-odd: #313131;\n",
       "}\n",
       "\n",
       ".xr-wrap {\n",
       "  display: block !important;\n",
       "  min-width: 300px;\n",
       "  max-width: 700px;\n",
       "}\n",
       "\n",
       ".xr-text-repr-fallback {\n",
       "  /* fallback to plain text repr when CSS is not injected (untrusted notebook) */\n",
       "  display: none;\n",
       "}\n",
       "\n",
       ".xr-header {\n",
       "  padding-top: 6px;\n",
       "  padding-bottom: 6px;\n",
       "  margin-bottom: 4px;\n",
       "  border-bottom: solid 1px var(--xr-border-color);\n",
       "}\n",
       "\n",
       ".xr-header > div,\n",
       ".xr-header > ul {\n",
       "  display: inline;\n",
       "  margin-top: 0;\n",
       "  margin-bottom: 0;\n",
       "}\n",
       "\n",
       ".xr-obj-type,\n",
       ".xr-array-name {\n",
       "  margin-left: 2px;\n",
       "  margin-right: 10px;\n",
       "}\n",
       "\n",
       ".xr-obj-type {\n",
       "  color: var(--xr-font-color2);\n",
       "}\n",
       "\n",
       ".xr-sections {\n",
       "  padding-left: 0 !important;\n",
       "  display: grid;\n",
       "  grid-template-columns: 150px auto auto 1fr 20px 20px;\n",
       "}\n",
       "\n",
       ".xr-section-item {\n",
       "  display: contents;\n",
       "}\n",
       "\n",
       ".xr-section-item input {\n",
       "  display: none;\n",
       "}\n",
       "\n",
       ".xr-section-item input + label {\n",
       "  color: var(--xr-disabled-color);\n",
       "}\n",
       "\n",
       ".xr-section-item input:enabled + label {\n",
       "  cursor: pointer;\n",
       "  color: var(--xr-font-color2);\n",
       "}\n",
       "\n",
       ".xr-section-item input:enabled + label:hover {\n",
       "  color: var(--xr-font-color0);\n",
       "}\n",
       "\n",
       ".xr-section-summary {\n",
       "  grid-column: 1;\n",
       "  color: var(--xr-font-color2);\n",
       "  font-weight: 500;\n",
       "}\n",
       "\n",
       ".xr-section-summary > span {\n",
       "  display: inline-block;\n",
       "  padding-left: 0.5em;\n",
       "}\n",
       "\n",
       ".xr-section-summary-in:disabled + label {\n",
       "  color: var(--xr-font-color2);\n",
       "}\n",
       "\n",
       ".xr-section-summary-in + label:before {\n",
       "  display: inline-block;\n",
       "  content: '►';\n",
       "  font-size: 11px;\n",
       "  width: 15px;\n",
       "  text-align: center;\n",
       "}\n",
       "\n",
       ".xr-section-summary-in:disabled + label:before {\n",
       "  color: var(--xr-disabled-color);\n",
       "}\n",
       "\n",
       ".xr-section-summary-in:checked + label:before {\n",
       "  content: '▼';\n",
       "}\n",
       "\n",
       ".xr-section-summary-in:checked + label > span {\n",
       "  display: none;\n",
       "}\n",
       "\n",
       ".xr-section-summary,\n",
       ".xr-section-inline-details {\n",
       "  padding-top: 4px;\n",
       "  padding-bottom: 4px;\n",
       "}\n",
       "\n",
       ".xr-section-inline-details {\n",
       "  grid-column: 2 / -1;\n",
       "}\n",
       "\n",
       ".xr-section-details {\n",
       "  display: none;\n",
       "  grid-column: 1 / -1;\n",
       "  margin-bottom: 5px;\n",
       "}\n",
       "\n",
       ".xr-section-summary-in:checked ~ .xr-section-details {\n",
       "  display: contents;\n",
       "}\n",
       "\n",
       ".xr-array-wrap {\n",
       "  grid-column: 1 / -1;\n",
       "  display: grid;\n",
       "  grid-template-columns: 20px auto;\n",
       "}\n",
       "\n",
       ".xr-array-wrap > label {\n",
       "  grid-column: 1;\n",
       "  vertical-align: top;\n",
       "}\n",
       "\n",
       ".xr-preview {\n",
       "  color: var(--xr-font-color3);\n",
       "}\n",
       "\n",
       ".xr-array-preview,\n",
       ".xr-array-data {\n",
       "  padding: 0 5px !important;\n",
       "  grid-column: 2;\n",
       "}\n",
       "\n",
       ".xr-array-data,\n",
       ".xr-array-in:checked ~ .xr-array-preview {\n",
       "  display: none;\n",
       "}\n",
       "\n",
       ".xr-array-in:checked ~ .xr-array-data,\n",
       ".xr-array-preview {\n",
       "  display: inline-block;\n",
       "}\n",
       "\n",
       ".xr-dim-list {\n",
       "  display: inline-block !important;\n",
       "  list-style: none;\n",
       "  padding: 0 !important;\n",
       "  margin: 0;\n",
       "}\n",
       "\n",
       ".xr-dim-list li {\n",
       "  display: inline-block;\n",
       "  padding: 0;\n",
       "  margin: 0;\n",
       "}\n",
       "\n",
       ".xr-dim-list:before {\n",
       "  content: '(';\n",
       "}\n",
       "\n",
       ".xr-dim-list:after {\n",
       "  content: ')';\n",
       "}\n",
       "\n",
       ".xr-dim-list li:not(:last-child):after {\n",
       "  content: ',';\n",
       "  padding-right: 5px;\n",
       "}\n",
       "\n",
       ".xr-has-index {\n",
       "  font-weight: bold;\n",
       "}\n",
       "\n",
       ".xr-var-list,\n",
       ".xr-var-item {\n",
       "  display: contents;\n",
       "}\n",
       "\n",
       ".xr-var-item > div,\n",
       ".xr-var-item label,\n",
       ".xr-var-item > .xr-var-name span {\n",
       "  background-color: var(--xr-background-color-row-even);\n",
       "  margin-bottom: 0;\n",
       "}\n",
       "\n",
       ".xr-var-item > .xr-var-name:hover span {\n",
       "  padding-right: 5px;\n",
       "}\n",
       "\n",
       ".xr-var-list > li:nth-child(odd) > div,\n",
       ".xr-var-list > li:nth-child(odd) > label,\n",
       ".xr-var-list > li:nth-child(odd) > .xr-var-name span {\n",
       "  background-color: var(--xr-background-color-row-odd);\n",
       "}\n",
       "\n",
       ".xr-var-name {\n",
       "  grid-column: 1;\n",
       "}\n",
       "\n",
       ".xr-var-dims {\n",
       "  grid-column: 2;\n",
       "}\n",
       "\n",
       ".xr-var-dtype {\n",
       "  grid-column: 3;\n",
       "  text-align: right;\n",
       "  color: var(--xr-font-color2);\n",
       "}\n",
       "\n",
       ".xr-var-preview {\n",
       "  grid-column: 4;\n",
       "}\n",
       "\n",
       ".xr-index-preview {\n",
       "  grid-column: 2 / 5;\n",
       "  color: var(--xr-font-color2);\n",
       "}\n",
       "\n",
       ".xr-var-name,\n",
       ".xr-var-dims,\n",
       ".xr-var-dtype,\n",
       ".xr-preview,\n",
       ".xr-attrs dt {\n",
       "  white-space: nowrap;\n",
       "  overflow: hidden;\n",
       "  text-overflow: ellipsis;\n",
       "  padding-right: 10px;\n",
       "}\n",
       "\n",
       ".xr-var-name:hover,\n",
       ".xr-var-dims:hover,\n",
       ".xr-var-dtype:hover,\n",
       ".xr-attrs dt:hover {\n",
       "  overflow: visible;\n",
       "  width: auto;\n",
       "  z-index: 1;\n",
       "}\n",
       "\n",
       ".xr-var-attrs,\n",
       ".xr-var-data,\n",
       ".xr-index-data {\n",
       "  display: none;\n",
       "  background-color: var(--xr-background-color) !important;\n",
       "  padding-bottom: 5px !important;\n",
       "}\n",
       "\n",
       ".xr-var-attrs-in:checked ~ .xr-var-attrs,\n",
       ".xr-var-data-in:checked ~ .xr-var-data,\n",
       ".xr-index-data-in:checked ~ .xr-index-data {\n",
       "  display: block;\n",
       "}\n",
       "\n",
       ".xr-var-data > table {\n",
       "  float: right;\n",
       "}\n",
       "\n",
       ".xr-var-name span,\n",
       ".xr-var-data,\n",
       ".xr-index-name div,\n",
       ".xr-index-data,\n",
       ".xr-attrs {\n",
       "  padding-left: 25px !important;\n",
       "}\n",
       "\n",
       ".xr-attrs,\n",
       ".xr-var-attrs,\n",
       ".xr-var-data,\n",
       ".xr-index-data {\n",
       "  grid-column: 1 / -1;\n",
       "}\n",
       "\n",
       "dl.xr-attrs {\n",
       "  padding: 0;\n",
       "  margin: 0;\n",
       "  display: grid;\n",
       "  grid-template-columns: 125px auto;\n",
       "}\n",
       "\n",
       ".xr-attrs dt,\n",
       ".xr-attrs dd {\n",
       "  padding: 0;\n",
       "  margin: 0;\n",
       "  float: left;\n",
       "  padding-right: 10px;\n",
       "  width: auto;\n",
       "}\n",
       "\n",
       ".xr-attrs dt {\n",
       "  font-weight: normal;\n",
       "  grid-column: 1;\n",
       "}\n",
       "\n",
       ".xr-attrs dt:hover span {\n",
       "  display: inline-block;\n",
       "  background: var(--xr-background-color);\n",
       "  padding-right: 10px;\n",
       "}\n",
       "\n",
       ".xr-attrs dd {\n",
       "  grid-column: 2;\n",
       "  white-space: pre-wrap;\n",
       "  word-break: break-all;\n",
       "}\n",
       "\n",
       ".xr-icon-database,\n",
       ".xr-icon-file-text2,\n",
       ".xr-no-icon {\n",
       "  display: inline-block;\n",
       "  vertical-align: middle;\n",
       "  width: 1em;\n",
       "  height: 1.5em !important;\n",
       "  stroke-width: 0;\n",
       "  stroke: currentColor;\n",
       "  fill: currentColor;\n",
       "}\n",
       "</style><pre class='xr-text-repr-fallback'>&lt;TimeSeries (DataArray) (time: 3, component: 1, sample: 1)&gt;\n",
       "array([[[-0.00377122]],\n",
       "\n",
       "       [[ 0.40349093]],\n",
       "\n",
       "       [[ 2.47072711]]])\n",
       "Coordinates:\n",
       "  * time       (time) datetime64[ns] 2022-01-01 2022-01-02 2022-01-03\n",
       "  * component  (component) object &#x27;random_walk&#x27;\n",
       "Dimensions without coordinates: sample\n",
       "Attributes:\n",
       "    static_covariates:  None\n",
       "    hierarchy:          None</pre><div class='xr-wrap' style='display:none'><div class='xr-header'><div class='xr-obj-type'>TimeSeries (DataArray)</div><div class='xr-array-name'></div><ul class='xr-dim-list'><li><span class='xr-has-index'>time</span>: 3</li><li><span class='xr-has-index'>component</span>: 1</li><li><span>sample</span>: 1</li></ul></div><ul class='xr-sections'><li class='xr-section-item'><div class='xr-array-wrap'><input id='section-4a03dfd2-0916-4bdc-a484-e6d0e6065a46' class='xr-array-in' type='checkbox' checked><label for='section-4a03dfd2-0916-4bdc-a484-e6d0e6065a46' title='Show/hide data repr'><svg class='icon xr-icon-database'><use xlink:href='#icon-database'></use></svg></label><div class='xr-array-preview xr-preview'><span>-0.003771 0.4035 2.471</span></div><div class='xr-array-data'><pre>array([[[-0.00377122]],\n",
       "\n",
       "       [[ 0.40349093]],\n",
       "\n",
       "       [[ 2.47072711]]])</pre></div></div></li><li class='xr-section-item'><input id='section-1a54f908-c6aa-4cd1-a311-bb43ec6de798' class='xr-section-summary-in' type='checkbox'  checked><label for='section-1a54f908-c6aa-4cd1-a311-bb43ec6de798' class='xr-section-summary' >Coordinates: <span>(2)</span></label><div class='xr-section-inline-details'></div><div class='xr-section-details'><ul class='xr-var-list'><li class='xr-var-item'><div class='xr-var-name'><span class='xr-has-index'>time</span></div><div class='xr-var-dims'>(time)</div><div class='xr-var-dtype'>datetime64[ns]</div><div class='xr-var-preview xr-preview'>2022-01-01 2022-01-02 2022-01-03</div><input id='attrs-8876fba7-61fb-4b79-b5c8-e1a2ec8efd8b' class='xr-var-attrs-in' type='checkbox' disabled><label for='attrs-8876fba7-61fb-4b79-b5c8-e1a2ec8efd8b' title='Show/Hide attributes'><svg class='icon xr-icon-file-text2'><use xlink:href='#icon-file-text2'></use></svg></label><input id='data-01070c4e-ebb2-4b26-9280-8c2fc7b02c68' class='xr-var-data-in' type='checkbox'><label for='data-01070c4e-ebb2-4b26-9280-8c2fc7b02c68' title='Show/Hide data repr'><svg class='icon xr-icon-database'><use xlink:href='#icon-database'></use></svg></label><div class='xr-var-attrs'><dl class='xr-attrs'></dl></div><div class='xr-var-data'><pre>array([&#x27;2022-01-01T00:00:00.000000000&#x27;, &#x27;2022-01-02T00:00:00.000000000&#x27;,\n",
       "       &#x27;2022-01-03T00:00:00.000000000&#x27;], dtype=&#x27;datetime64[ns]&#x27;)</pre></div></li><li class='xr-var-item'><div class='xr-var-name'><span class='xr-has-index'>component</span></div><div class='xr-var-dims'>(component)</div><div class='xr-var-dtype'>object</div><div class='xr-var-preview xr-preview'>&#x27;random_walk&#x27;</div><input id='attrs-4e26b437-5e5c-40a4-85c7-250ed78963bf' class='xr-var-attrs-in' type='checkbox' disabled><label for='attrs-4e26b437-5e5c-40a4-85c7-250ed78963bf' title='Show/Hide attributes'><svg class='icon xr-icon-file-text2'><use xlink:href='#icon-file-text2'></use></svg></label><input id='data-53ecf0e6-33b4-41d3-a9d8-1d026f88fb03' class='xr-var-data-in' type='checkbox'><label for='data-53ecf0e6-33b4-41d3-a9d8-1d026f88fb03' title='Show/Hide data repr'><svg class='icon xr-icon-database'><use xlink:href='#icon-database'></use></svg></label><div class='xr-var-attrs'><dl class='xr-attrs'></dl></div><div class='xr-var-data'><pre>array([&#x27;random_walk&#x27;], dtype=object)</pre></div></li></ul></div></li><li class='xr-section-item'><input id='section-daaf3f32-8711-4dd6-be16-81180fc90ba6' class='xr-section-summary-in' type='checkbox'  ><label for='section-daaf3f32-8711-4dd6-be16-81180fc90ba6' class='xr-section-summary' >Indexes: <span>(2)</span></label><div class='xr-section-inline-details'></div><div class='xr-section-details'><ul class='xr-var-list'><li class='xr-var-item'><div class='xr-index-name'><div>time</div></div><div class='xr-index-preview'>PandasIndex</div><div></div><input id='index-460b8ad6-0d25-4e87-9fb9-587d7d2499e8' class='xr-index-data-in' type='checkbox'/><label for='index-460b8ad6-0d25-4e87-9fb9-587d7d2499e8' title='Show/Hide index repr'><svg class='icon xr-icon-database'><use xlink:href='#icon-database'></use></svg></label><div class='xr-index-data'><pre>PandasIndex(DatetimeIndex([&#x27;2022-01-01&#x27;, &#x27;2022-01-02&#x27;, &#x27;2022-01-03&#x27;], dtype=&#x27;datetime64[ns]&#x27;, name=&#x27;time&#x27;, freq=&#x27;D&#x27;))</pre></div></li><li class='xr-var-item'><div class='xr-index-name'><div>component</div></div><div class='xr-index-preview'>PandasIndex</div><div></div><input id='index-9e086148-640a-4038-b39d-1b1e5e7e2212' class='xr-index-data-in' type='checkbox'/><label for='index-9e086148-640a-4038-b39d-1b1e5e7e2212' title='Show/Hide index repr'><svg class='icon xr-icon-database'><use xlink:href='#icon-database'></use></svg></label><div class='xr-index-data'><pre>PandasIndex(Index([&#x27;random_walk&#x27;], dtype=&#x27;object&#x27;, name=&#x27;component&#x27;))</pre></div></li></ul></div></li><li class='xr-section-item'><input id='section-d051c3c3-0913-4ebf-b7d8-23a5fe93e1a8' class='xr-section-summary-in' type='checkbox'  checked><label for='section-d051c3c3-0913-4ebf-b7d8-23a5fe93e1a8' class='xr-section-summary' >Attributes: <span>(2)</span></label><div class='xr-section-inline-details'></div><div class='xr-section-details'><dl class='xr-attrs'><dt><span>static_covariates :</span></dt><dd>None</dd><dt><span>hierarchy :</span></dt><dd>None</dd></dl></div></li></ul></div></div>"
      ],
      "text/plain": [
       "<TimeSeries (DataArray) (time: 3, component: 1, sample: 1)>\n",
       "array([[[-0.00377122]],\n",
       "\n",
       "       [[ 0.40349093]],\n",
       "\n",
       "       [[ 2.47072711]]])\n",
       "Coordinates:\n",
       "  * time       (time) datetime64[ns] 2022-01-01 2022-01-02 2022-01-03\n",
       "  * component  (component) object 'random_walk'\n",
       "Dimensions without coordinates: sample\n",
       "Attributes:\n",
       "    static_covariates:  None\n",
       "    hierarchy:          None"
      ]
     },
     "execution_count": 5,
     "metadata": {},
     "output_type": "execute_result"
    }
   ],
   "source": [
    "ts.head(3)"
   ]
  },
  {
   "cell_type": "markdown",
   "id": "5af625dd-ba6b-4f3b-9f42-462fe8918c5a",
   "metadata": {
    "papermill": {
     "duration": 0.001865,
     "end_time": "2024-01-31T17:50:29.406225",
     "exception": false,
     "start_time": "2024-01-31T17:50:29.404360",
     "status": "completed"
    },
    "tags": []
   },
   "source": [
    "## Detection given an abolute threshold"
   ]
  },
  {
   "cell_type": "markdown",
   "id": "d90f942f-00ee-4953-81e2-795e3d87b292",
   "metadata": {},
   "source": [
    "With a single line of code, you can make your absolute detector."
   ]
  },
  {
   "cell_type": "code",
   "execution_count": 6,
   "id": "8310ade1-a382-4d2a-b139-0331b3b8ebed",
   "metadata": {
    "papermill": {
     "duration": 0.004788,
     "end_time": "2024-01-31T17:50:29.412834",
     "exception": false,
     "start_time": "2024-01-31T17:50:29.408046",
     "status": "completed"
    },
    "tags": []
   },
   "outputs": [],
   "source": [
    "td = on.detectors.threshold(low_threshold=-2)"
   ]
  },
  {
   "cell_type": "markdown",
   "id": "dc43b9bf-8736-4f90-8089-393ecdd2289f",
   "metadata": {},
   "source": [
    "Now, a detection on any TimeSeries can be made as follow : "
   ]
  },
  {
   "cell_type": "code",
   "execution_count": 7,
   "id": "15399a30-e23e-4dae-ac55-f6376f1f23e6",
   "metadata": {},
   "outputs": [],
   "source": [
    "ats = td.detect(ts)"
   ]
  },
  {
   "cell_type": "markdown",
   "id": "7cd14648-4b33-4e49-94f1-2c30ead74886",
   "metadata": {},
   "source": [
    "The return type of the detect function is a BinaryTimeSeries, meaning that it will always have values being 0 or 1."
   ]
  },
  {
   "cell_type": "code",
   "execution_count": 8,
   "id": "5b3d020e-18cc-47f2-a553-eb00ff972ef3",
   "metadata": {
    "papermill": {
     "duration": 0.197344,
     "end_time": "2024-01-31T17:50:29.612099",
     "exception": false,
     "start_time": "2024-01-31T17:50:29.414755",
     "status": "completed"
    },
    "tags": []
   },
   "outputs": [
    {
     "data": {
      "text/plain": [
       "ontime.core.time_series.binary_time_series.BinaryTimeSeries"
      ]
     },
     "execution_count": 8,
     "metadata": {},
     "output_type": "execute_result"
    }
   ],
   "source": [
    "type(ats)"
   ]
  },
  {
   "cell_type": "code",
   "execution_count": 9,
   "id": "e1ffc02f-1ec9-4bd2-8fec-c8bfd3909ed9",
   "metadata": {},
   "outputs": [
    {
     "data": {
      "image/png": "[encoded data removed]",
      "text/plain": [
       "<Figure size 640x480 with 1 Axes>"
      ]
     },
     "metadata": {},
     "output_type": "display_data"
    }
   ],
   "source": [
    "ats.plot();"
   ]
  },
  {
   "cell_type": "markdown",
   "id": "ffbed9d6-d331-4708-8d50-25882c85e60d",
   "metadata": {
    "papermill": {
     "duration": 0.005612,
     "end_time": "2024-01-31T17:50:29.624161",
     "exception": false,
     "start_time": "2024-01-31T17:50:29.618549",
     "status": "completed"
    },
    "tags": []
   },
   "source": [
    "## Detection given a statistical threshold (quantile)"
   ]
  },
  {
   "cell_type": "markdown",
   "id": "22fa051a-a00a-454b-bfb9-844bb32b9d06",
   "metadata": {},
   "source": [
    "Here the idea is similar but the threshold is dependant on the data. The quantile detector can be instanciated as follow"
   ]
  },
  {
   "cell_type": "code",
   "execution_count": 10,
   "id": "04f2a0c4-5744-46bf-b622-9abaaaf6b35c",
   "metadata": {
    "papermill": {
     "duration": 0.016249,
     "end_time": "2024-01-31T17:50:29.649601",
     "exception": false,
     "start_time": "2024-01-31T17:50:29.633352",
     "status": "completed"
    },
    "tags": []
   },
   "outputs": [],
   "source": [
    "td = on.detectors.quantile(low_quantile=0.1)"
   ]
  },
  {
   "cell_type": "markdown",
   "id": "675ff78a-4f74-494e-a049-8b239505ab69",
   "metadata": {},
   "source": [
    "And then, it can be fit"
   ]
  },
  {
   "cell_type": "code",
   "execution_count": 11,
   "id": "02f12ec0-d1cc-41db-ba53-c53a98f6d8f3",
   "metadata": {
    "papermill": {
     "duration": 0.015824,
     "end_time": "2024-01-31T17:50:29.671330",
     "exception": false,
     "start_time": "2024-01-31T17:50:29.655506",
     "status": "completed"
    },
    "tags": []
   },
   "outputs": [],
   "source": [
    "td.fit(ts)"
   ]
  },
  {
   "cell_type": "markdown",
   "id": "92a54b62-d159-47c1-b493-3d008e17e350",
   "metadata": {},
   "source": [
    "Now, the usage is similar to the threshold detector."
   ]
  },
  {
   "cell_type": "code",
   "execution_count": 12,
   "id": "df0896b7-7857-42ad-9dd2-c831f8fa0123",
   "metadata": {},
   "outputs": [],
   "source": [
    "ats = td.detect(ts)"
   ]
  },
  {
   "cell_type": "markdown",
   "id": "eca142b6-79bc-444f-96c4-d2872361b8a4",
   "metadata": {},
   "source": [
    "The TimeSeries is also a BinaryTimeSeries with values being 0 or 1."
   ]
  },
  {
   "cell_type": "code",
   "execution_count": 13,
   "id": "caebf894-6cf9-4937-8748-19edd8123ac5",
   "metadata": {},
   "outputs": [
    {
     "data": {
      "text/plain": [
       "ontime.core.time_series.binary_time_series.BinaryTimeSeries"
      ]
     },
     "execution_count": 13,
     "metadata": {},
     "output_type": "execute_result"
    }
   ],
   "source": [
    "type(ats)"
   ]
  },
  {
   "cell_type": "code",
   "execution_count": 14,
   "id": "d640d149-f0eb-4d19-9e2b-10926d6fa26f",
   "metadata": {
    "papermill": {
     "duration": 0.159713,
     "end_time": "2024-01-31T17:50:29.836523",
     "exception": false,
     "start_time": "2024-01-31T17:50:29.676810",
     "status": "completed"
    },
    "tags": []
   },
   "outputs": [
    {
     "data": {
      "image/png": "[encoded data removed]",
      "text/plain": [
       "<Figure size 640x480 with 1 Axes>"
      ]
     },
     "metadata": {},
     "output_type": "display_data"
    }
   ],
   "source": [
    "ats.plot();"
   ]
  },
  {
   "cell_type": "markdown",
   "id": "5d09589f-fe40-4c7b-953c-7f507933e03c",
   "metadata": {},
   "source": [
    "## Activate a logger when anomalies are detected"
   ]
  },
  {
   "cell_type": "markdown",
   "id": "73316597-fe16-43ac-bd11-86ff0af88d2e",
   "metadata": {},
   "source": [
    "Upon request, a logger can be activated and produces a dataframe where detected anomalies are recorded. As an example, let's take the last detection code and add a logger to a new quantile detection."
   ]
  },
  {
   "cell_type": "code",
   "execution_count": 26,
   "id": "349e0ede-794b-42c9-af57-e8c9d809aad5",
   "metadata": {},
   "outputs": [],
   "source": [
    "td = on.detectors.quantile(low_quantile=0.1, enable_logging=True)\n",
    "td.fit(ts)"
   ]
  },
  {
   "cell_type": "markdown",
   "id": "a63067db-74e8-4998-8c48-634f1622b3f6",
   "metadata": {},
   "source": [
    "Detect"
   ]
  },
  {
   "cell_type": "code",
   "execution_count": 27,
   "id": "e00da952-230e-40a1-a547-20b8c31b0d7f",
   "metadata": {},
   "outputs": [
    {
     "name": "stdout",
     "output_type": "stream",
     "text": [
      "Index(['time', '0'], dtype='object', name='component')\n"
     ]
    }
   ],
   "source": [
    "ats = td.detect(ts)"
   ]
  },
  {
   "cell_type": "markdown",
   "id": "beb1509a-e131-4899-ae06-7f41689898d6",
   "metadata": {},
   "source": [
    "Check what is in the logger"
   ]
  },
  {
   "cell_type": "code",
   "execution_count": 28,
   "id": "6b13aa0c-4987-49b5-a2f0-da050c2dab7d",
   "metadata": {},
   "outputs": [
    {
     "data": {
      "text/html": [
       "<div>\n",
       "<style scoped>\n",
       "    .dataframe tbody tr th:only-of-type {\n",
       "        vertical-align: middle;\n",
       "    }\n",
       "\n",
       "    .dataframe tbody tr th {\n",
       "        vertical-align: top;\n",
       "    }\n",
       "\n",
       "    .dataframe thead th {\n",
       "        text-align: right;\n",
       "    }\n",
       "</style>\n",
       "<table border=\"1\" class=\"dataframe\">\n",
       "  <thead>\n",
       "    <tr style=\"text-align: right;\">\n",
       "      <th></th>\n",
       "      <th>Timestamp</th>\n",
       "      <th>Description</th>\n",
       "      <th>Value</th>\n",
       "    </tr>\n",
       "  </thead>\n",
       "  <tbody>\n",
       "    <tr>\n",
       "      <th>0</th>\n",
       "      <td>2022-01-01</td>\n",
       "      <td>QuantileDetector</td>\n",
       "      <td>True</td>\n",
       "    </tr>\n",
       "    <tr>\n",
       "      <th>1</th>\n",
       "      <td>2022-01-02</td>\n",
       "      <td>QuantileDetector</td>\n",
       "      <td>False</td>\n",
       "    </tr>\n",
       "    <tr>\n",
       "      <th>2</th>\n",
       "      <td>2022-01-03</td>\n",
       "      <td>QuantileDetector</td>\n",
       "      <td>False</td>\n",
       "    </tr>\n",
       "    <tr>\n",
       "      <th>3</th>\n",
       "      <td>2022-01-04</td>\n",
       "      <td>QuantileDetector</td>\n",
       "      <td>False</td>\n",
       "    </tr>\n",
       "    <tr>\n",
       "      <th>4</th>\n",
       "      <td>2022-01-05</td>\n",
       "      <td>QuantileDetector</td>\n",
       "      <td>False</td>\n",
       "    </tr>\n",
       "    <tr>\n",
       "      <th>...</th>\n",
       "      <td>...</td>\n",
       "      <td>...</td>\n",
       "      <td>...</td>\n",
       "    </tr>\n",
       "    <tr>\n",
       "      <th>360</th>\n",
       "      <td>2022-12-27</td>\n",
       "      <td>QuantileDetector</td>\n",
       "      <td>False</td>\n",
       "    </tr>\n",
       "    <tr>\n",
       "      <th>361</th>\n",
       "      <td>2022-12-28</td>\n",
       "      <td>QuantileDetector</td>\n",
       "      <td>False</td>\n",
       "    </tr>\n",
       "    <tr>\n",
       "      <th>362</th>\n",
       "      <td>2022-12-29</td>\n",
       "      <td>QuantileDetector</td>\n",
       "      <td>False</td>\n",
       "    </tr>\n",
       "    <tr>\n",
       "      <th>363</th>\n",
       "      <td>2022-12-30</td>\n",
       "      <td>QuantileDetector</td>\n",
       "      <td>False</td>\n",
       "    </tr>\n",
       "    <tr>\n",
       "      <th>364</th>\n",
       "      <td>2022-12-31</td>\n",
       "      <td>QuantileDetector</td>\n",
       "      <td>False</td>\n",
       "    </tr>\n",
       "  </tbody>\n",
       "</table>\n",
       "<p>365 rows × 3 columns</p>\n",
       "</div>"
      ],
      "text/plain": [
       "     Timestamp       Description  Value\n",
       "0   2022-01-01  QuantileDetector   True\n",
       "1   2022-01-02  QuantileDetector  False\n",
       "2   2022-01-03  QuantileDetector  False\n",
       "3   2022-01-04  QuantileDetector  False\n",
       "4   2022-01-05  QuantileDetector  False\n",
       "..         ...               ...    ...\n",
       "360 2022-12-27  QuantileDetector  False\n",
       "361 2022-12-28  QuantileDetector  False\n",
       "362 2022-12-29  QuantileDetector  False\n",
       "363 2022-12-30  QuantileDetector  False\n",
       "364 2022-12-31  QuantileDetector  False\n",
       "\n",
       "[365 rows x 3 columns]"
      ]
     },
     "execution_count": 28,
     "metadata": {},
     "output_type": "execute_result"
    }
   ],
   "source": [
    "td.logger.log"
   ]
  }
 ],
 "metadata": {
  "kernelspec": {
   "display_name": "Python 3 (ipykernel)",
   "language": "python",
   "name": "python3"
  },
  "language_info": {
   "codemirror_mode": {
    "name": "ipython",
    "version": 3
   },
   "file_extension": ".py",
   "mimetype": "text/x-python",
   "name": "python",
   "nbconvert_exporter": "python",
   "pygments_lexer": "ipython3",
   "version": "3.10.10"
  },
  "papermill": {
   "default_parameters": {},
   "duration": 4.80556,
   "end_time": "2024-01-31T17:50:30.903022",
   "environment_variables": {},
   "exception": null,
   "input_path": "docs/user_guide/0_core/0.2-detectors-generators.ipynb",
   "output_path": "docs/user_guide/0_core/0.2-detectors-generators.ipynb",
   "parameters": {},
   "start_time": "2024-01-31T17:50:26.097462",
   "version": "2.5.0"
  }
 },
 "nbformat": 4,
 "nbformat_minor": 5
}
