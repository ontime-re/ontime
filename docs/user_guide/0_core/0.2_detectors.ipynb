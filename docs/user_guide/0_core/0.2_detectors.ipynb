{
 "cells": [
  {
   "cell_type": "code",
   "execution_count": 3,
   "id": "9286e0b8-3c78-4b0f-943c-d219e9840dfe",
   "metadata": {
    "papermill": {
     "duration": 0.014825,
     "end_time": "2024-01-31T17:50:26.847199",
     "exception": false,
     "start_time": "2024-01-31T17:50:26.832374",
     "status": "completed"
    },
    "tags": []
   },
   "outputs": [],
   "source": [
    "# Import to be able to import python package from src\n",
    "import sys\n",
    "sys.path.insert(0, '../src')"
   ]
  },
  {
   "cell_type": "code",
   "execution_count": 4,
   "id": "2028eed7-b1c3-4c9e-b6a0-00433caa7d0f",
   "metadata": {
    "papermill": {
     "duration": 2.515115,
     "end_time": "2024-01-31T17:50:29.365394",
     "exception": false,
     "start_time": "2024-01-31T17:50:26.850279",
     "status": "completed"
    },
    "tags": []
   },
   "outputs": [
    {
     "name": "stderr",
     "output_type": "stream",
     "text": [
      "The `LightGBM` module could not be imported. To enable LightGBM support in Darts, follow the detailed instructions in the installation guide: https://github.com/unit8co/darts/blob/master/INSTALL.md\n",
      "The `Prophet` module could not be imported. To enable Prophet support in Darts, follow the detailed instructions in the installation guide: https://github.com/unit8co/darts/blob/master/INSTALL.md\n"
     ]
    }
   ],
   "source": [
    "import pandas as pd\n",
    "import numpy as np\n",
    "import ontime as on"
   ]
  },
  {
   "cell_type": "markdown",
   "id": "41296cc6-9d84-47c5-8a92-2d292f6f3c4a",
   "metadata": {
    "papermill": {
     "duration": 0.008378,
     "end_time": "2024-01-31T17:50:26.827798",
     "exception": false,
     "start_time": "2024-01-31T17:50:26.819420",
     "status": "completed"
    },
    "tags": []
   },
   "source": [
    "# Detectors"
   ]
  },
  {
   "cell_type": "markdown",
   "id": "48992359-bd13-4347-8344-8bfb42fb126c",
   "metadata": {},
   "source": [
    "Detectors allow you to get a signal given a condition. The condition can be an absolute \n",
    "threshold or statistical threshold with a quantile. Let's make an example."
   ]
  },
  {
   "cell_type": "markdown",
   "id": "e24da8ab-6a83-4c2f-9ff0-c633d4693a91",
   "metadata": {
    "papermill": {
     "duration": 0.001714,
     "end_time": "2024-01-31T17:50:29.375771",
     "exception": false,
     "start_time": "2024-01-31T17:50:29.374057",
     "status": "completed"
    },
    "tags": []
   },
   "source": [
    "## Generate a TimeSeries\n",
    "\n",
    "This is only to have some data for the purpose of the example."
   ]
  },
  {
   "cell_type": "code",
   "execution_count": 5,
   "id": "e9a96d79-0423-4d79-b01d-726193216238",
   "metadata": {
    "papermill": {
     "duration": 0.006608,
     "end_time": "2024-01-31T17:50:29.384080",
     "exception": false,
     "start_time": "2024-01-31T17:50:29.377472",
     "status": "completed"
    },
    "tags": []
   },
   "outputs": [],
   "source": [
    "ts = on.generators.random_walk().generate(start=pd.Timestamp('2022-01-01'), end=pd.Timestamp('2022-12-31'))"
   ]
  },
  {
   "cell_type": "code",
   "execution_count": 6,
   "id": "d463df9c-4f02-4c1e-b1a5-7162b9ea8c63",
   "metadata": {
    "papermill": {
     "duration": 0.009125,
     "end_time": "2024-01-31T17:50:29.394914",
     "exception": false,
     "start_time": "2024-01-31T17:50:29.385789",
     "status": "completed"
    },
    "tags": []
   },
   "outputs": [
    {
     "data": {
      "text/html": [
       "<div><svg style=\"position: absolute; width: 0; height: 0; overflow: hidden\">\n",
       "<defs>\n",
       "<symbol id=\"icon-database\" viewBox=\"0 0 32 32\">\n",
       "<path d=\"M16 0c-8.837 0-16 2.239-16 5v4c0 2.761 7.163 5 16 5s16-2.239 16-5v-4c0-2.761-7.163-5-16-5z\"></path>\n",
       "<path d=\"M16 17c-8.837 0-16-2.239-16-5v6c0 2.761 7.163 5 16 5s16-2.239 16-5v-6c0 2.761-7.163 5-16 5z\"></path>\n",
       "<path d=\"M16 26c-8.837 0-16-2.239-16-5v6c0 2.761 7.163 5 16 5s16-2.239 16-5v-6c0 2.761-7.163 5-16 5z\"></path>\n",
       "</symbol>\n",
       "<symbol id=\"icon-file-text2\" viewBox=\"0 0 32 32\">\n",
       "<path d=\"M28.681 7.159c-0.694-0.947-1.662-2.053-2.724-3.116s-2.169-2.030-3.116-2.724c-1.612-1.182-2.393-1.319-2.841-1.319h-15.5c-1.378 0-2.5 1.121-2.5 2.5v27c0 1.378 1.122 2.5 2.5 2.5h23c1.378 0 2.5-1.122 2.5-2.5v-19.5c0-0.448-0.137-1.23-1.319-2.841zM24.543 5.457c0.959 0.959 1.712 1.825 2.268 2.543h-4.811v-4.811c0.718 0.556 1.584 1.309 2.543 2.268zM28 29.5c0 0.271-0.229 0.5-0.5 0.5h-23c-0.271 0-0.5-0.229-0.5-0.5v-27c0-0.271 0.229-0.5 0.5-0.5 0 0 15.499-0 15.5 0v7c0 0.552 0.448 1 1 1h7v19.5z\"></path>\n",
       "<path d=\"M23 26h-14c-0.552 0-1-0.448-1-1s0.448-1 1-1h14c0.552 0 1 0.448 1 1s-0.448 1-1 1z\"></path>\n",
       "<path d=\"M23 22h-14c-0.552 0-1-0.448-1-1s0.448-1 1-1h14c0.552 0 1 0.448 1 1s-0.448 1-1 1z\"></path>\n",
       "<path d=\"M23 18h-14c-0.552 0-1-0.448-1-1s0.448-1 1-1h14c0.552 0 1 0.448 1 1s-0.448 1-1 1z\"></path>\n",
       "</symbol>\n",
       "</defs>\n",
       "</svg>\n",
       "<style>/* CSS stylesheet for displaying xarray objects in jupyterlab.\n",
       " *\n",
       " */\n",
       "\n",
       ":root {\n",
       "  --xr-font-color0: var(--jp-content-font-color0, rgba(0, 0, 0, 1));\n",
       "  --xr-font-color2: var(--jp-content-font-color2, rgba(0, 0, 0, 0.54));\n",
       "  --xr-font-color3: var(--jp-content-font-color3, rgba(0, 0, 0, 0.38));\n",
       "  --xr-border-color: var(--jp-border-color2, #e0e0e0);\n",
       "  --xr-disabled-color: var(--jp-layout-color3, #bdbdbd);\n",
       "  --xr-background-color: var(--jp-layout-color0, white);\n",
       "  --xr-background-color-row-even: var(--jp-layout-color1, white);\n",
       "  --xr-background-color-row-odd: var(--jp-layout-color2, #eeeeee);\n",
       "}\n",
       "\n",
       "html[theme=dark],\n",
       "body[data-theme=dark],\n",
       "body.vscode-dark {\n",
       "  --xr-font-color0: rgba(255, 255, 255, 1);\n",
       "  --xr-font-color2: rgba(255, 255, 255, 0.54);\n",
       "  --xr-font-color3: rgba(255, 255, 255, 0.38);\n",
       "  --xr-border-color: #1F1F1F;\n",
       "  --xr-disabled-color: #515151;\n",
       "  --xr-background-color: #111111;\n",
       "  --xr-background-color-row-even: #111111;\n",
       "  --xr-background-color-row-odd: #313131;\n",
       "}\n",
       "\n",
       ".xr-wrap {\n",
       "  display: block !important;\n",
       "  min-width: 300px;\n",
       "  max-width: 700px;\n",
       "}\n",
       "\n",
       ".xr-text-repr-fallback {\n",
       "  /* fallback to plain text repr when CSS is not injected (untrusted notebook) */\n",
       "  display: none;\n",
       "}\n",
       "\n",
       ".xr-header {\n",
       "  padding-top: 6px;\n",
       "  padding-bottom: 6px;\n",
       "  margin-bottom: 4px;\n",
       "  border-bottom: solid 1px var(--xr-border-color);\n",
       "}\n",
       "\n",
       ".xr-header > div,\n",
       ".xr-header > ul {\n",
       "  display: inline;\n",
       "  margin-top: 0;\n",
       "  margin-bottom: 0;\n",
       "}\n",
       "\n",
       ".xr-obj-type,\n",
       ".xr-array-name {\n",
       "  margin-left: 2px;\n",
       "  margin-right: 10px;\n",
       "}\n",
       "\n",
       ".xr-obj-type {\n",
       "  color: var(--xr-font-color2);\n",
       "}\n",
       "\n",
       ".xr-sections {\n",
       "  padding-left: 0 !important;\n",
       "  display: grid;\n",
       "  grid-template-columns: 150px auto auto 1fr 20px 20px;\n",
       "}\n",
       "\n",
       ".xr-section-item {\n",
       "  display: contents;\n",
       "}\n",
       "\n",
       ".xr-section-item input {\n",
       "  display: none;\n",
       "}\n",
       "\n",
       ".xr-section-item input + label {\n",
       "  color: var(--xr-disabled-color);\n",
       "}\n",
       "\n",
       ".xr-section-item input:enabled + label {\n",
       "  cursor: pointer;\n",
       "  color: var(--xr-font-color2);\n",
       "}\n",
       "\n",
       ".xr-section-item input:enabled + label:hover {\n",
       "  color: var(--xr-font-color0);\n",
       "}\n",
       "\n",
       ".xr-section-summary {\n",
       "  grid-column: 1;\n",
       "  color: var(--xr-font-color2);\n",
       "  font-weight: 500;\n",
       "}\n",
       "\n",
       ".xr-section-summary > span {\n",
       "  display: inline-block;\n",
       "  padding-left: 0.5em;\n",
       "}\n",
       "\n",
       ".xr-section-summary-in:disabled + label {\n",
       "  color: var(--xr-font-color2);\n",
       "}\n",
       "\n",
       ".xr-section-summary-in + label:before {\n",
       "  display: inline-block;\n",
       "  content: '►';\n",
       "  font-size: 11px;\n",
       "  width: 15px;\n",
       "  text-align: center;\n",
       "}\n",
       "\n",
       ".xr-section-summary-in:disabled + label:before {\n",
       "  color: var(--xr-disabled-color);\n",
       "}\n",
       "\n",
       ".xr-section-summary-in:checked + label:before {\n",
       "  content: '▼';\n",
       "}\n",
       "\n",
       ".xr-section-summary-in:checked + label > span {\n",
       "  display: none;\n",
       "}\n",
       "\n",
       ".xr-section-summary,\n",
       ".xr-section-inline-details {\n",
       "  padding-top: 4px;\n",
       "  padding-bottom: 4px;\n",
       "}\n",
       "\n",
       ".xr-section-inline-details {\n",
       "  grid-column: 2 / -1;\n",
       "}\n",
       "\n",
       ".xr-section-details {\n",
       "  display: none;\n",
       "  grid-column: 1 / -1;\n",
       "  margin-bottom: 5px;\n",
       "}\n",
       "\n",
       ".xr-section-summary-in:checked ~ .xr-section-details {\n",
       "  display: contents;\n",
       "}\n",
       "\n",
       ".xr-array-wrap {\n",
       "  grid-column: 1 / -1;\n",
       "  display: grid;\n",
       "  grid-template-columns: 20px auto;\n",
       "}\n",
       "\n",
       ".xr-array-wrap > label {\n",
       "  grid-column: 1;\n",
       "  vertical-align: top;\n",
       "}\n",
       "\n",
       ".xr-preview {\n",
       "  color: var(--xr-font-color3);\n",
       "}\n",
       "\n",
       ".xr-array-preview,\n",
       ".xr-array-data {\n",
       "  padding: 0 5px !important;\n",
       "  grid-column: 2;\n",
       "}\n",
       "\n",
       ".xr-array-data,\n",
       ".xr-array-in:checked ~ .xr-array-preview {\n",
       "  display: none;\n",
       "}\n",
       "\n",
       ".xr-array-in:checked ~ .xr-array-data,\n",
       ".xr-array-preview {\n",
       "  display: inline-block;\n",
       "}\n",
       "\n",
       ".xr-dim-list {\n",
       "  display: inline-block !important;\n",
       "  list-style: none;\n",
       "  padding: 0 !important;\n",
       "  margin: 0;\n",
       "}\n",
       "\n",
       ".xr-dim-list li {\n",
       "  display: inline-block;\n",
       "  padding: 0;\n",
       "  margin: 0;\n",
       "}\n",
       "\n",
       ".xr-dim-list:before {\n",
       "  content: '(';\n",
       "}\n",
       "\n",
       ".xr-dim-list:after {\n",
       "  content: ')';\n",
       "}\n",
       "\n",
       ".xr-dim-list li:not(:last-child):after {\n",
       "  content: ',';\n",
       "  padding-right: 5px;\n",
       "}\n",
       "\n",
       ".xr-has-index {\n",
       "  font-weight: bold;\n",
       "}\n",
       "\n",
       ".xr-var-list,\n",
       ".xr-var-item {\n",
       "  display: contents;\n",
       "}\n",
       "\n",
       ".xr-var-item > div,\n",
       ".xr-var-item label,\n",
       ".xr-var-item > .xr-var-name span {\n",
       "  background-color: var(--xr-background-color-row-even);\n",
       "  margin-bottom: 0;\n",
       "}\n",
       "\n",
       ".xr-var-item > .xr-var-name:hover span {\n",
       "  padding-right: 5px;\n",
       "}\n",
       "\n",
       ".xr-var-list > li:nth-child(odd) > div,\n",
       ".xr-var-list > li:nth-child(odd) > label,\n",
       ".xr-var-list > li:nth-child(odd) > .xr-var-name span {\n",
       "  background-color: var(--xr-background-color-row-odd);\n",
       "}\n",
       "\n",
       ".xr-var-name {\n",
       "  grid-column: 1;\n",
       "}\n",
       "\n",
       ".xr-var-dims {\n",
       "  grid-column: 2;\n",
       "}\n",
       "\n",
       ".xr-var-dtype {\n",
       "  grid-column: 3;\n",
       "  text-align: right;\n",
       "  color: var(--xr-font-color2);\n",
       "}\n",
       "\n",
       ".xr-var-preview {\n",
       "  grid-column: 4;\n",
       "}\n",
       "\n",
       ".xr-index-preview {\n",
       "  grid-column: 2 / 5;\n",
       "  color: var(--xr-font-color2);\n",
       "}\n",
       "\n",
       ".xr-var-name,\n",
       ".xr-var-dims,\n",
       ".xr-var-dtype,\n",
       ".xr-preview,\n",
       ".xr-attrs dt {\n",
       "  white-space: nowrap;\n",
       "  overflow: hidden;\n",
       "  text-overflow: ellipsis;\n",
       "  padding-right: 10px;\n",
       "}\n",
       "\n",
       ".xr-var-name:hover,\n",
       ".xr-var-dims:hover,\n",
       ".xr-var-dtype:hover,\n",
       ".xr-attrs dt:hover {\n",
       "  overflow: visible;\n",
       "  width: auto;\n",
       "  z-index: 1;\n",
       "}\n",
       "\n",
       ".xr-var-attrs,\n",
       ".xr-var-data,\n",
       ".xr-index-data {\n",
       "  display: none;\n",
       "  background-color: var(--xr-background-color) !important;\n",
       "  padding-bottom: 5px !important;\n",
       "}\n",
       "\n",
       ".xr-var-attrs-in:checked ~ .xr-var-attrs,\n",
       ".xr-var-data-in:checked ~ .xr-var-data,\n",
       ".xr-index-data-in:checked ~ .xr-index-data {\n",
       "  display: block;\n",
       "}\n",
       "\n",
       ".xr-var-data > table {\n",
       "  float: right;\n",
       "}\n",
       "\n",
       ".xr-var-name span,\n",
       ".xr-var-data,\n",
       ".xr-index-name div,\n",
       ".xr-index-data,\n",
       ".xr-attrs {\n",
       "  padding-left: 25px !important;\n",
       "}\n",
       "\n",
       ".xr-attrs,\n",
       ".xr-var-attrs,\n",
       ".xr-var-data,\n",
       ".xr-index-data {\n",
       "  grid-column: 1 / -1;\n",
       "}\n",
       "\n",
       "dl.xr-attrs {\n",
       "  padding: 0;\n",
       "  margin: 0;\n",
       "  display: grid;\n",
       "  grid-template-columns: 125px auto;\n",
       "}\n",
       "\n",
       ".xr-attrs dt,\n",
       ".xr-attrs dd {\n",
       "  padding: 0;\n",
       "  margin: 0;\n",
       "  float: left;\n",
       "  padding-right: 10px;\n",
       "  width: auto;\n",
       "}\n",
       "\n",
       ".xr-attrs dt {\n",
       "  font-weight: normal;\n",
       "  grid-column: 1;\n",
       "}\n",
       "\n",
       ".xr-attrs dt:hover span {\n",
       "  display: inline-block;\n",
       "  background: var(--xr-background-color);\n",
       "  padding-right: 10px;\n",
       "}\n",
       "\n",
       ".xr-attrs dd {\n",
       "  grid-column: 2;\n",
       "  white-space: pre-wrap;\n",
       "  word-break: break-all;\n",
       "}\n",
       "\n",
       ".xr-icon-database,\n",
       ".xr-icon-file-text2,\n",
       ".xr-no-icon {\n",
       "  display: inline-block;\n",
       "  vertical-align: middle;\n",
       "  width: 1em;\n",
       "  height: 1.5em !important;\n",
       "  stroke-width: 0;\n",
       "  stroke: currentColor;\n",
       "  fill: currentColor;\n",
       "}\n",
       "</style><pre class='xr-text-repr-fallback'>&lt;TimeSeries (DataArray) (time: 3, component: 1, sample: 1)&gt;\n",
       "array([[[-0.33124628]],\n",
       "\n",
       "       [[ 0.3419233 ]],\n",
       "\n",
       "       [[ 2.17150963]]])\n",
       "Coordinates:\n",
       "  * time       (time) datetime64[ns] 2022-01-01 2022-01-02 2022-01-03\n",
       "  * component  (component) object &#x27;random_walk&#x27;\n",
       "Dimensions without coordinates: sample\n",
       "Attributes:\n",
       "    static_covariates:  None\n",
       "    hierarchy:          None</pre><div class='xr-wrap' style='display:none'><div class='xr-header'><div class='xr-obj-type'>TimeSeries (DataArray)</div><div class='xr-array-name'></div><ul class='xr-dim-list'><li><span class='xr-has-index'>time</span>: 3</li><li><span class='xr-has-index'>component</span>: 1</li><li><span>sample</span>: 1</li></ul></div><ul class='xr-sections'><li class='xr-section-item'><div class='xr-array-wrap'><input id='section-f09c5713-e10e-482f-bed9-228cd13a2448' class='xr-array-in' type='checkbox' checked><label for='section-f09c5713-e10e-482f-bed9-228cd13a2448' title='Show/hide data repr'><svg class='icon xr-icon-database'><use xlink:href='#icon-database'></use></svg></label><div class='xr-array-preview xr-preview'><span>-0.3312 0.3419 2.172</span></div><div class='xr-array-data'><pre>array([[[-0.33124628]],\n",
       "\n",
       "       [[ 0.3419233 ]],\n",
       "\n",
       "       [[ 2.17150963]]])</pre></div></div></li><li class='xr-section-item'><input id='section-f1f9ae11-5ddc-4012-878a-754766d0dc4a' class='xr-section-summary-in' type='checkbox'  checked><label for='section-f1f9ae11-5ddc-4012-878a-754766d0dc4a' class='xr-section-summary' >Coordinates: <span>(2)</span></label><div class='xr-section-inline-details'></div><div class='xr-section-details'><ul class='xr-var-list'><li class='xr-var-item'><div class='xr-var-name'><span class='xr-has-index'>time</span></div><div class='xr-var-dims'>(time)</div><div class='xr-var-dtype'>datetime64[ns]</div><div class='xr-var-preview xr-preview'>2022-01-01 2022-01-02 2022-01-03</div><input id='attrs-cd72991f-0148-4a98-bf71-2cbd7d1eeea7' class='xr-var-attrs-in' type='checkbox' disabled><label for='attrs-cd72991f-0148-4a98-bf71-2cbd7d1eeea7' title='Show/Hide attributes'><svg class='icon xr-icon-file-text2'><use xlink:href='#icon-file-text2'></use></svg></label><input id='data-d60ab699-5b1a-4884-9fcd-b7b1417444e7' class='xr-var-data-in' type='checkbox'><label for='data-d60ab699-5b1a-4884-9fcd-b7b1417444e7' title='Show/Hide data repr'><svg class='icon xr-icon-database'><use xlink:href='#icon-database'></use></svg></label><div class='xr-var-attrs'><dl class='xr-attrs'></dl></div><div class='xr-var-data'><pre>array([&#x27;2022-01-01T00:00:00.000000000&#x27;, &#x27;2022-01-02T00:00:00.000000000&#x27;,\n",
       "       &#x27;2022-01-03T00:00:00.000000000&#x27;], dtype=&#x27;datetime64[ns]&#x27;)</pre></div></li><li class='xr-var-item'><div class='xr-var-name'><span class='xr-has-index'>component</span></div><div class='xr-var-dims'>(component)</div><div class='xr-var-dtype'>object</div><div class='xr-var-preview xr-preview'>&#x27;random_walk&#x27;</div><input id='attrs-765e6f8b-dbda-4951-9d9e-0b494d00e8b4' class='xr-var-attrs-in' type='checkbox' disabled><label for='attrs-765e6f8b-dbda-4951-9d9e-0b494d00e8b4' title='Show/Hide attributes'><svg class='icon xr-icon-file-text2'><use xlink:href='#icon-file-text2'></use></svg></label><input id='data-2a25c12f-149c-4c14-bcb7-e30105854ca5' class='xr-var-data-in' type='checkbox'><label for='data-2a25c12f-149c-4c14-bcb7-e30105854ca5' title='Show/Hide data repr'><svg class='icon xr-icon-database'><use xlink:href='#icon-database'></use></svg></label><div class='xr-var-attrs'><dl class='xr-attrs'></dl></div><div class='xr-var-data'><pre>array([&#x27;random_walk&#x27;], dtype=object)</pre></div></li></ul></div></li><li class='xr-section-item'><input id='section-b549812e-97a2-4e9b-bcac-bcd732e663c1' class='xr-section-summary-in' type='checkbox'  ><label for='section-b549812e-97a2-4e9b-bcac-bcd732e663c1' class='xr-section-summary' >Indexes: <span>(2)</span></label><div class='xr-section-inline-details'></div><div class='xr-section-details'><ul class='xr-var-list'><li class='xr-var-item'><div class='xr-index-name'><div>time</div></div><div class='xr-index-preview'>PandasIndex</div><div></div><input id='index-43b45f9c-a29b-4894-a11c-a4aff723f36e' class='xr-index-data-in' type='checkbox'/><label for='index-43b45f9c-a29b-4894-a11c-a4aff723f36e' title='Show/Hide index repr'><svg class='icon xr-icon-database'><use xlink:href='#icon-database'></use></svg></label><div class='xr-index-data'><pre>PandasIndex(DatetimeIndex([&#x27;2022-01-01&#x27;, &#x27;2022-01-02&#x27;, &#x27;2022-01-03&#x27;], dtype=&#x27;datetime64[ns]&#x27;, name=&#x27;time&#x27;, freq=&#x27;D&#x27;))</pre></div></li><li class='xr-var-item'><div class='xr-index-name'><div>component</div></div><div class='xr-index-preview'>PandasIndex</div><div></div><input id='index-fcd44739-c724-4d37-a60d-6ec217bfcca9' class='xr-index-data-in' type='checkbox'/><label for='index-fcd44739-c724-4d37-a60d-6ec217bfcca9' title='Show/Hide index repr'><svg class='icon xr-icon-database'><use xlink:href='#icon-database'></use></svg></label><div class='xr-index-data'><pre>PandasIndex(Index([&#x27;random_walk&#x27;], dtype=&#x27;object&#x27;, name=&#x27;component&#x27;))</pre></div></li></ul></div></li><li class='xr-section-item'><input id='section-1e286423-f12c-46ef-9096-ba3e137253f7' class='xr-section-summary-in' type='checkbox'  checked><label for='section-1e286423-f12c-46ef-9096-ba3e137253f7' class='xr-section-summary' >Attributes: <span>(2)</span></label><div class='xr-section-inline-details'></div><div class='xr-section-details'><dl class='xr-attrs'><dt><span>static_covariates :</span></dt><dd>None</dd><dt><span>hierarchy :</span></dt><dd>None</dd></dl></div></li></ul></div></div>"
      ],
      "text/plain": [
       "<TimeSeries (DataArray) (time: 3, component: 1, sample: 1)>\n",
       "array([[[-0.33124628]],\n",
       "\n",
       "       [[ 0.3419233 ]],\n",
       "\n",
       "       [[ 2.17150963]]])\n",
       "Coordinates:\n",
       "  * time       (time) datetime64[ns] 2022-01-01 2022-01-02 2022-01-03\n",
       "  * component  (component) object 'random_walk'\n",
       "Dimensions without coordinates: sample\n",
       "Attributes:\n",
       "    static_covariates:  None\n",
       "    hierarchy:          None"
      ]
     },
     "execution_count": 6,
     "metadata": {},
     "output_type": "execute_result"
    }
   ],
   "source": [
    "ts.head(3)"
   ]
  },
  {
   "cell_type": "markdown",
   "id": "5af625dd-ba6b-4f3b-9f42-462fe8918c5a",
   "metadata": {
    "papermill": {
     "duration": 0.001865,
     "end_time": "2024-01-31T17:50:29.406225",
     "exception": false,
     "start_time": "2024-01-31T17:50:29.404360",
     "status": "completed"
    },
    "tags": []
   },
   "source": [
    "### Detection given an abolute threshold"
   ]
  },
  {
   "cell_type": "markdown",
   "id": "d90f942f-00ee-4953-81e2-795e3d87b292",
   "metadata": {},
   "source": [
    "With a single line of code, you can make your absolute detector."
   ]
  },
  {
   "cell_type": "code",
   "execution_count": 14,
   "id": "8310ade1-a382-4d2a-b139-0331b3b8ebed",
   "metadata": {
    "papermill": {
     "duration": 0.004788,
     "end_time": "2024-01-31T17:50:29.412834",
     "exception": false,
     "start_time": "2024-01-31T17:50:29.408046",
     "status": "completed"
    },
    "tags": []
   },
   "outputs": [],
   "source": [
    "td = on.detectors.threshold(low_threshold=-2)"
   ]
  },
  {
   "cell_type": "markdown",
   "id": "dc43b9bf-8736-4f90-8089-393ecdd2289f",
   "metadata": {},
   "source": [
    "Now, a detection on any TimeSeries can be made as follow : "
   ]
  },
  {
   "cell_type": "code",
   "execution_count": 16,
   "id": "15399a30-e23e-4dae-ac55-f6376f1f23e6",
   "metadata": {},
   "outputs": [],
   "source": [
    "ats = td.detect(ts)"
   ]
  },
  {
   "cell_type": "markdown",
   "id": "7cd14648-4b33-4e49-94f1-2c30ead74886",
   "metadata": {},
   "source": [
    "The return type of the detect function is a BinaryTimeSeries, meaning that it will always have values being 0 or 1."
   ]
  },
  {
   "cell_type": "code",
   "execution_count": 19,
   "id": "5b3d020e-18cc-47f2-a553-eb00ff972ef3",
   "metadata": {
    "papermill": {
     "duration": 0.197344,
     "end_time": "2024-01-31T17:50:29.612099",
     "exception": false,
     "start_time": "2024-01-31T17:50:29.414755",
     "status": "completed"
    },
    "tags": []
   },
   "outputs": [
    {
     "data": {
      "text/plain": [
       "ontime.core.time_series.binary_time_series.BinaryTimeSeries"
      ]
     },
     "execution_count": 19,
     "metadata": {},
     "output_type": "execute_result"
    }
   ],
   "source": [
    "type(ats)"
   ]
  },
  {
   "cell_type": "code",
   "execution_count": 21,
   "id": "e1ffc02f-1ec9-4bd2-8fec-c8bfd3909ed9",
   "metadata": {},
   "outputs": [
    {
     "data": {
      "image/png": "[encoded data removed]",
      "text/plain": [
       "<Figure size 640x480 with 1 Axes>"
      ]
     },
     "metadata": {},
     "output_type": "display_data"
    }
   ],
   "source": [
    "ats.plot();"
   ]
  },
  {
   "cell_type": "markdown",
   "id": "ffbed9d6-d331-4708-8d50-25882c85e60d",
   "metadata": {
    "papermill": {
     "duration": 0.005612,
     "end_time": "2024-01-31T17:50:29.624161",
     "exception": false,
     "start_time": "2024-01-31T17:50:29.618549",
     "status": "completed"
    },
    "tags": []
   },
   "source": [
    "### Detection given a statistical threshold (quantile)"
   ]
  },
  {
   "cell_type": "markdown",
   "id": "22fa051a-a00a-454b-bfb9-844bb32b9d06",
   "metadata": {},
   "source": [
    "Here the idea is similar but the threshold is dependant on the data. The quantile detector can be instanciated as follow"
   ]
  },
  {
   "cell_type": "code",
   "execution_count": 30,
   "id": "04f2a0c4-5744-46bf-b622-9abaaaf6b35c",
   "metadata": {
    "papermill": {
     "duration": 0.016249,
     "end_time": "2024-01-31T17:50:29.649601",
     "exception": false,
     "start_time": "2024-01-31T17:50:29.633352",
     "status": "completed"
    },
    "tags": []
   },
   "outputs": [],
   "source": [
    "td = on.detectors.quantile(low_quantile=0.1)"
   ]
  },
  {
   "cell_type": "markdown",
   "id": "675ff78a-4f74-494e-a049-8b239505ab69",
   "metadata": {},
   "source": [
    "And then, it can be fit"
   ]
  },
  {
   "cell_type": "code",
   "execution_count": 31,
   "id": "02f12ec0-d1cc-41db-ba53-c53a98f6d8f3",
   "metadata": {
    "papermill": {
     "duration": 0.015824,
     "end_time": "2024-01-31T17:50:29.671330",
     "exception": false,
     "start_time": "2024-01-31T17:50:29.655506",
     "status": "completed"
    },
    "tags": []
   },
   "outputs": [],
   "source": [
    "td.fit(ts)"
   ]
  },
  {
   "cell_type": "markdown",
   "id": "92a54b62-d159-47c1-b493-3d008e17e350",
   "metadata": {},
   "source": [
    "Now, the usage is similar to the threshold detector."
   ]
  },
  {
   "cell_type": "code",
   "execution_count": 33,
   "id": "df0896b7-7857-42ad-9dd2-c831f8fa0123",
   "metadata": {},
   "outputs": [],
   "source": [
    "ats = td.detect(ts)"
   ]
  },
  {
   "cell_type": "markdown",
   "id": "eca142b6-79bc-444f-96c4-d2872361b8a4",
   "metadata": {},
   "source": [
    "The TimeSeries is also a BinaryTimeSeries with values being 0 or 1."
   ]
  },
  {
   "cell_type": "code",
   "execution_count": 34,
   "id": "caebf894-6cf9-4937-8748-19edd8123ac5",
   "metadata": {},
   "outputs": [
    {
     "data": {
      "text/plain": [
       "ontime.core.time_series.binary_time_series.BinaryTimeSeries"
      ]
     },
     "execution_count": 34,
     "metadata": {},
     "output_type": "execute_result"
    }
   ],
   "source": [
    "type(ats)"
   ]
  },
  {
   "cell_type": "code",
   "execution_count": 35,
   "id": "d640d149-f0eb-4d19-9e2b-10926d6fa26f",
   "metadata": {
    "papermill": {
     "duration": 0.159713,
     "end_time": "2024-01-31T17:50:29.836523",
     "exception": false,
     "start_time": "2024-01-31T17:50:29.676810",
     "status": "completed"
    },
    "tags": []
   },
   "outputs": [
    {
     "data": {
      "image/png": "[encoded data removed]",
      "text/plain": [
       "<Figure size 640x480 with 1 Axes>"
      ]
     },
     "metadata": {},
     "output_type": "display_data"
    }
   ],
   "source": [
    "ats.plot();"
   ]
  },
  {
   "cell_type": "code",
   "execution_count": null,
   "id": "74308866-9e8f-43ad-bb6e-5f98b1b4cd2f",
   "metadata": {},
   "outputs": [],
   "source": []
  }
 ],
 "metadata": {
  "kernelspec": {
   "display_name": "Python 3 (ipykernel)",
   "language": "python",
   "name": "python3"
  },
  "language_info": {
   "codemirror_mode": {
    "name": "ipython",
    "version": 3
   },
   "file_extension": ".py",
   "mimetype": "text/x-python",
   "name": "python",
   "nbconvert_exporter": "python",
   "pygments_lexer": "ipython3",
   "version": "3.10.10"
  },
  "papermill": {
   "default_parameters": {},
   "duration": 4.80556,
   "end_time": "2024-01-31T17:50:30.903022",
   "environment_variables": {},
   "exception": null,
   "input_path": "docs/user_guide/0_core/0.2-detectors-generators.ipynb",
   "output_path": "docs/user_guide/0_core/0.2-detectors-generators.ipynb",
   "parameters": {},
   "start_time": "2024-01-31T17:50:26.097462",
   "version": "2.5.0"
  }
 },
 "nbformat": 4,
 "nbformat_minor": 5
}
