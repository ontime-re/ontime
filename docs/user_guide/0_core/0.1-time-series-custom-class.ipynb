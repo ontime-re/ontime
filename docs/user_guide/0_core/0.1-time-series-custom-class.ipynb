{
 "cells": [
  {
   "cell_type": "markdown",
   "id": "670316b8-460c-4009-a5da-94278f4ac9a9",
   "metadata": {
    "papermill": {
     "duration": 0.01663,
     "end_time": "2024-01-26T20:44:54.239772",
     "exception": false,
     "start_time": "2024-01-26T20:44:54.223142",
     "status": "completed"
    },
    "tags": []
   },
   "source": [
    "# Time Series, Custom Class"
   ]
  },
  {
   "cell_type": "code",
   "execution_count": 1,
   "id": "52af59bb-083c-46c6-989a-bd4c65137a1a",
   "metadata": {
    "execution": {
     "iopub.execute_input": "2024-01-26T20:44:54.257216Z",
     "iopub.status.busy": "2024-01-26T20:44:54.256967Z",
     "iopub.status.idle": "2024-01-26T20:44:54.264172Z",
     "shell.execute_reply": "2024-01-26T20:44:54.263507Z"
    },
    "papermill": {
     "duration": 0.017688,
     "end_time": "2024-01-26T20:44:54.265608",
     "exception": false,
     "start_time": "2024-01-26T20:44:54.247920",
     "status": "completed"
    },
    "tags": []
   },
   "outputs": [],
   "source": [
    "# Import to be able to import python package from src\n",
    "import sys\n",
    "sys.path.insert(0, '../src')"
   ]
  },
  {
   "cell_type": "code",
   "execution_count": 2,
   "id": "4aed48a7-3452-4632-b1d5-e501893c6078",
   "metadata": {
    "execution": {
     "iopub.execute_input": "2024-01-26T20:44:54.277531Z",
     "iopub.status.busy": "2024-01-26T20:44:54.277278Z",
     "iopub.status.idle": "2024-01-26T20:44:54.280867Z",
     "shell.execute_reply": "2024-01-26T20:44:54.280384Z"
    },
    "papermill": {
     "duration": 0.010669,
     "end_time": "2024-01-26T20:44:54.281880",
     "exception": false,
     "start_time": "2024-01-26T20:44:54.271211",
     "status": "completed"
    },
    "tags": []
   },
   "outputs": [
    {
     "name": "stdout",
     "output_type": "stream",
     "text": [
      "['../src', '/workspaces/ontime', '/usr/local/lib/python310.zip', '/usr/local/lib/python3.10', '/usr/local/lib/python3.10/lib-dynload', '', '/home/vscode/.cache/pypoetry/virtualenvs/ontime-Xp74gwUA-py3.10/lib/python3.10/site-packages', '/workspaces/ontime/src']\n"
     ]
    }
   ],
   "source": [
    "print(sys.path)"
   ]
  },
  {
   "cell_type": "code",
   "execution_count": 3,
   "id": "d6fc731f-3f50-4e9a-a24c-b2ab01d4fa31",
   "metadata": {
    "execution": {
     "iopub.execute_input": "2024-01-26T20:44:54.290642Z",
     "iopub.status.busy": "2024-01-26T20:44:54.290321Z",
     "iopub.status.idle": "2024-01-26T20:44:56.259526Z",
     "shell.execute_reply": "2024-01-26T20:44:56.258984Z"
    },
    "papermill": {
     "duration": 1.974419,
     "end_time": "2024-01-26T20:44:56.260445",
     "exception": false,
     "start_time": "2024-01-26T20:44:54.286026",
     "status": "completed"
    },
    "tags": []
   },
   "outputs": [
    {
     "name": "stderr",
     "output_type": "stream",
     "text": [
      "The `LightGBM` module could not be imported. To enable LightGBM support in Darts, follow the detailed instructions in the installation guide: https://github.com/unit8co/darts/blob/master/INSTALL.md\n"
     ]
    },
    {
     "name": "stderr",
     "output_type": "stream",
     "text": [
      "The `Prophet` module could not be imported. To enable Prophet support in Darts, follow the detailed instructions in the installation guide: https://github.com/unit8co/darts/blob/master/INSTALL.md\n"
     ]
    }
   ],
   "source": [
    "import pandas as pd\n",
    "import numpy as np\n",
    "import ontime as on"
   ]
  },
  {
   "cell_type": "markdown",
   "id": "831f1944-599b-4761-a071-2a682346610a",
   "metadata": {
    "papermill": {
     "duration": 0.002745,
     "end_time": "2024-01-26T20:44:56.265810",
     "exception": false,
     "start_time": "2024-01-26T20:44:56.263065",
     "status": "completed"
    },
    "tags": []
   },
   "source": [
    "---\n",
    "## Generation of random time series"
   ]
  },
  {
   "cell_type": "code",
   "execution_count": 4,
   "id": "ef3e03e1-c247-4b5a-a27a-a13361e673b0",
   "metadata": {
    "execution": {
     "iopub.execute_input": "2024-01-26T20:44:56.271302Z",
     "iopub.status.busy": "2024-01-26T20:44:56.270924Z",
     "iopub.status.idle": "2024-01-26T20:44:56.353200Z",
     "shell.execute_reply": "2024-01-26T20:44:56.352700Z"
    },
    "papermill": {
     "duration": 0.085819,
     "end_time": "2024-01-26T20:44:56.353911",
     "exception": false,
     "start_time": "2024-01-26T20:44:56.268092",
     "status": "completed"
    },
    "tags": []
   },
   "outputs": [],
   "source": [
    "ts = on.generators.random_walk().generate(start=pd.Timestamp('2022-01-01'), end=pd.Timestamp('2022-12-31'))"
   ]
  },
  {
   "cell_type": "code",
   "execution_count": 5,
   "id": "01962643-33af-4adf-8bfa-7d0163e4e41c",
   "metadata": {
    "execution": {
     "iopub.execute_input": "2024-01-26T20:44:56.360681Z",
     "iopub.status.busy": "2024-01-26T20:44:56.360556Z",
     "iopub.status.idle": "2024-01-26T20:44:56.368323Z",
     "shell.execute_reply": "2024-01-26T20:44:56.367955Z"
    },
    "papermill": {
     "duration": 0.011743,
     "end_time": "2024-01-26T20:44:56.368998",
     "exception": false,
     "start_time": "2024-01-26T20:44:56.357255",
     "status": "completed"
    },
    "tags": []
   },
   "outputs": [
    {
     "data": {
      "text/html": [
       "<div><svg style=\"position: absolute; width: 0; height: 0; overflow: hidden\">\n",
       "<defs>\n",
       "<symbol id=\"icon-database\" viewBox=\"0 0 32 32\">\n",
       "<path d=\"M16 0c-8.837 0-16 2.239-16 5v4c0 2.761 7.163 5 16 5s16-2.239 16-5v-4c0-2.761-7.163-5-16-5z\"></path>\n",
       "<path d=\"M16 17c-8.837 0-16-2.239-16-5v6c0 2.761 7.163 5 16 5s16-2.239 16-5v-6c0 2.761-7.163 5-16 5z\"></path>\n",
       "<path d=\"M16 26c-8.837 0-16-2.239-16-5v6c0 2.761 7.163 5 16 5s16-2.239 16-5v-6c0 2.761-7.163 5-16 5z\"></path>\n",
       "</symbol>\n",
       "<symbol id=\"icon-file-text2\" viewBox=\"0 0 32 32\">\n",
       "<path d=\"M28.681 7.159c-0.694-0.947-1.662-2.053-2.724-3.116s-2.169-2.030-3.116-2.724c-1.612-1.182-2.393-1.319-2.841-1.319h-15.5c-1.378 0-2.5 1.121-2.5 2.5v27c0 1.378 1.122 2.5 2.5 2.5h23c1.378 0 2.5-1.122 2.5-2.5v-19.5c0-0.448-0.137-1.23-1.319-2.841zM24.543 5.457c0.959 0.959 1.712 1.825 2.268 2.543h-4.811v-4.811c0.718 0.556 1.584 1.309 2.543 2.268zM28 29.5c0 0.271-0.229 0.5-0.5 0.5h-23c-0.271 0-0.5-0.229-0.5-0.5v-27c0-0.271 0.229-0.5 0.5-0.5 0 0 15.499-0 15.5 0v7c0 0.552 0.448 1 1 1h7v19.5z\"></path>\n",
       "<path d=\"M23 26h-14c-0.552 0-1-0.448-1-1s0.448-1 1-1h14c0.552 0 1 0.448 1 1s-0.448 1-1 1z\"></path>\n",
       "<path d=\"M23 22h-14c-0.552 0-1-0.448-1-1s0.448-1 1-1h14c0.552 0 1 0.448 1 1s-0.448 1-1 1z\"></path>\n",
       "<path d=\"M23 18h-14c-0.552 0-1-0.448-1-1s0.448-1 1-1h14c0.552 0 1 0.448 1 1s-0.448 1-1 1z\"></path>\n",
       "</symbol>\n",
       "</defs>\n",
       "</svg>\n",
       "<style>/* CSS stylesheet for displaying xarray objects in jupyterlab.\n",
       " *\n",
       " */\n",
       "\n",
       ":root {\n",
       "  --xr-font-color0: var(--jp-content-font-color0, rgba(0, 0, 0, 1));\n",
       "  --xr-font-color2: var(--jp-content-font-color2, rgba(0, 0, 0, 0.54));\n",
       "  --xr-font-color3: var(--jp-content-font-color3, rgba(0, 0, 0, 0.38));\n",
       "  --xr-border-color: var(--jp-border-color2, #e0e0e0);\n",
       "  --xr-disabled-color: var(--jp-layout-color3, #bdbdbd);\n",
       "  --xr-background-color: var(--jp-layout-color0, white);\n",
       "  --xr-background-color-row-even: var(--jp-layout-color1, white);\n",
       "  --xr-background-color-row-odd: var(--jp-layout-color2, #eeeeee);\n",
       "}\n",
       "\n",
       "html[theme=dark],\n",
       "body[data-theme=dark],\n",
       "body.vscode-dark {\n",
       "  --xr-font-color0: rgba(255, 255, 255, 1);\n",
       "  --xr-font-color2: rgba(255, 255, 255, 0.54);\n",
       "  --xr-font-color3: rgba(255, 255, 255, 0.38);\n",
       "  --xr-border-color: #1F1F1F;\n",
       "  --xr-disabled-color: #515151;\n",
       "  --xr-background-color: #111111;\n",
       "  --xr-background-color-row-even: #111111;\n",
       "  --xr-background-color-row-odd: #313131;\n",
       "}\n",
       "\n",
       ".xr-wrap {\n",
       "  display: block !important;\n",
       "  min-width: 300px;\n",
       "  max-width: 700px;\n",
       "}\n",
       "\n",
       ".xr-text-repr-fallback {\n",
       "  /* fallback to plain text repr when CSS is not injected (untrusted notebook) */\n",
       "  display: none;\n",
       "}\n",
       "\n",
       ".xr-header {\n",
       "  padding-top: 6px;\n",
       "  padding-bottom: 6px;\n",
       "  margin-bottom: 4px;\n",
       "  border-bottom: solid 1px var(--xr-border-color);\n",
       "}\n",
       "\n",
       ".xr-header > div,\n",
       ".xr-header > ul {\n",
       "  display: inline;\n",
       "  margin-top: 0;\n",
       "  margin-bottom: 0;\n",
       "}\n",
       "\n",
       ".xr-obj-type,\n",
       ".xr-array-name {\n",
       "  margin-left: 2px;\n",
       "  margin-right: 10px;\n",
       "}\n",
       "\n",
       ".xr-obj-type {\n",
       "  color: var(--xr-font-color2);\n",
       "}\n",
       "\n",
       ".xr-sections {\n",
       "  padding-left: 0 !important;\n",
       "  display: grid;\n",
       "  grid-template-columns: 150px auto auto 1fr 20px 20px;\n",
       "}\n",
       "\n",
       ".xr-section-item {\n",
       "  display: contents;\n",
       "}\n",
       "\n",
       ".xr-section-item input {\n",
       "  display: none;\n",
       "}\n",
       "\n",
       ".xr-section-item input + label {\n",
       "  color: var(--xr-disabled-color);\n",
       "}\n",
       "\n",
       ".xr-section-item input:enabled + label {\n",
       "  cursor: pointer;\n",
       "  color: var(--xr-font-color2);\n",
       "}\n",
       "\n",
       ".xr-section-item input:enabled + label:hover {\n",
       "  color: var(--xr-font-color0);\n",
       "}\n",
       "\n",
       ".xr-section-summary {\n",
       "  grid-column: 1;\n",
       "  color: var(--xr-font-color2);\n",
       "  font-weight: 500;\n",
       "}\n",
       "\n",
       ".xr-section-summary > span {\n",
       "  display: inline-block;\n",
       "  padding-left: 0.5em;\n",
       "}\n",
       "\n",
       ".xr-section-summary-in:disabled + label {\n",
       "  color: var(--xr-font-color2);\n",
       "}\n",
       "\n",
       ".xr-section-summary-in + label:before {\n",
       "  display: inline-block;\n",
       "  content: '►';\n",
       "  font-size: 11px;\n",
       "  width: 15px;\n",
       "  text-align: center;\n",
       "}\n",
       "\n",
       ".xr-section-summary-in:disabled + label:before {\n",
       "  color: var(--xr-disabled-color);\n",
       "}\n",
       "\n",
       ".xr-section-summary-in:checked + label:before {\n",
       "  content: '▼';\n",
       "}\n",
       "\n",
       ".xr-section-summary-in:checked + label > span {\n",
       "  display: none;\n",
       "}\n",
       "\n",
       ".xr-section-summary,\n",
       ".xr-section-inline-details {\n",
       "  padding-top: 4px;\n",
       "  padding-bottom: 4px;\n",
       "}\n",
       "\n",
       ".xr-section-inline-details {\n",
       "  grid-column: 2 / -1;\n",
       "}\n",
       "\n",
       ".xr-section-details {\n",
       "  display: none;\n",
       "  grid-column: 1 / -1;\n",
       "  margin-bottom: 5px;\n",
       "}\n",
       "\n",
       ".xr-section-summary-in:checked ~ .xr-section-details {\n",
       "  display: contents;\n",
       "}\n",
       "\n",
       ".xr-array-wrap {\n",
       "  grid-column: 1 / -1;\n",
       "  display: grid;\n",
       "  grid-template-columns: 20px auto;\n",
       "}\n",
       "\n",
       ".xr-array-wrap > label {\n",
       "  grid-column: 1;\n",
       "  vertical-align: top;\n",
       "}\n",
       "\n",
       ".xr-preview {\n",
       "  color: var(--xr-font-color3);\n",
       "}\n",
       "\n",
       ".xr-array-preview,\n",
       ".xr-array-data {\n",
       "  padding: 0 5px !important;\n",
       "  grid-column: 2;\n",
       "}\n",
       "\n",
       ".xr-array-data,\n",
       ".xr-array-in:checked ~ .xr-array-preview {\n",
       "  display: none;\n",
       "}\n",
       "\n",
       ".xr-array-in:checked ~ .xr-array-data,\n",
       ".xr-array-preview {\n",
       "  display: inline-block;\n",
       "}\n",
       "\n",
       ".xr-dim-list {\n",
       "  display: inline-block !important;\n",
       "  list-style: none;\n",
       "  padding: 0 !important;\n",
       "  margin: 0;\n",
       "}\n",
       "\n",
       ".xr-dim-list li {\n",
       "  display: inline-block;\n",
       "  padding: 0;\n",
       "  margin: 0;\n",
       "}\n",
       "\n",
       ".xr-dim-list:before {\n",
       "  content: '(';\n",
       "}\n",
       "\n",
       ".xr-dim-list:after {\n",
       "  content: ')';\n",
       "}\n",
       "\n",
       ".xr-dim-list li:not(:last-child):after {\n",
       "  content: ',';\n",
       "  padding-right: 5px;\n",
       "}\n",
       "\n",
       ".xr-has-index {\n",
       "  font-weight: bold;\n",
       "}\n",
       "\n",
       ".xr-var-list,\n",
       ".xr-var-item {\n",
       "  display: contents;\n",
       "}\n",
       "\n",
       ".xr-var-item > div,\n",
       ".xr-var-item label,\n",
       ".xr-var-item > .xr-var-name span {\n",
       "  background-color: var(--xr-background-color-row-even);\n",
       "  margin-bottom: 0;\n",
       "}\n",
       "\n",
       ".xr-var-item > .xr-var-name:hover span {\n",
       "  padding-right: 5px;\n",
       "}\n",
       "\n",
       ".xr-var-list > li:nth-child(odd) > div,\n",
       ".xr-var-list > li:nth-child(odd) > label,\n",
       ".xr-var-list > li:nth-child(odd) > .xr-var-name span {\n",
       "  background-color: var(--xr-background-color-row-odd);\n",
       "}\n",
       "\n",
       ".xr-var-name {\n",
       "  grid-column: 1;\n",
       "}\n",
       "\n",
       ".xr-var-dims {\n",
       "  grid-column: 2;\n",
       "}\n",
       "\n",
       ".xr-var-dtype {\n",
       "  grid-column: 3;\n",
       "  text-align: right;\n",
       "  color: var(--xr-font-color2);\n",
       "}\n",
       "\n",
       ".xr-var-preview {\n",
       "  grid-column: 4;\n",
       "}\n",
       "\n",
       ".xr-index-preview {\n",
       "  grid-column: 2 / 5;\n",
       "  color: var(--xr-font-color2);\n",
       "}\n",
       "\n",
       ".xr-var-name,\n",
       ".xr-var-dims,\n",
       ".xr-var-dtype,\n",
       ".xr-preview,\n",
       ".xr-attrs dt {\n",
       "  white-space: nowrap;\n",
       "  overflow: hidden;\n",
       "  text-overflow: ellipsis;\n",
       "  padding-right: 10px;\n",
       "}\n",
       "\n",
       ".xr-var-name:hover,\n",
       ".xr-var-dims:hover,\n",
       ".xr-var-dtype:hover,\n",
       ".xr-attrs dt:hover {\n",
       "  overflow: visible;\n",
       "  width: auto;\n",
       "  z-index: 1;\n",
       "}\n",
       "\n",
       ".xr-var-attrs,\n",
       ".xr-var-data,\n",
       ".xr-index-data {\n",
       "  display: none;\n",
       "  background-color: var(--xr-background-color) !important;\n",
       "  padding-bottom: 5px !important;\n",
       "}\n",
       "\n",
       ".xr-var-attrs-in:checked ~ .xr-var-attrs,\n",
       ".xr-var-data-in:checked ~ .xr-var-data,\n",
       ".xr-index-data-in:checked ~ .xr-index-data {\n",
       "  display: block;\n",
       "}\n",
       "\n",
       ".xr-var-data > table {\n",
       "  float: right;\n",
       "}\n",
       "\n",
       ".xr-var-name span,\n",
       ".xr-var-data,\n",
       ".xr-index-name div,\n",
       ".xr-index-data,\n",
       ".xr-attrs {\n",
       "  padding-left: 25px !important;\n",
       "}\n",
       "\n",
       ".xr-attrs,\n",
       ".xr-var-attrs,\n",
       ".xr-var-data,\n",
       ".xr-index-data {\n",
       "  grid-column: 1 / -1;\n",
       "}\n",
       "\n",
       "dl.xr-attrs {\n",
       "  padding: 0;\n",
       "  margin: 0;\n",
       "  display: grid;\n",
       "  grid-template-columns: 125px auto;\n",
       "}\n",
       "\n",
       ".xr-attrs dt,\n",
       ".xr-attrs dd {\n",
       "  padding: 0;\n",
       "  margin: 0;\n",
       "  float: left;\n",
       "  padding-right: 10px;\n",
       "  width: auto;\n",
       "}\n",
       "\n",
       ".xr-attrs dt {\n",
       "  font-weight: normal;\n",
       "  grid-column: 1;\n",
       "}\n",
       "\n",
       ".xr-attrs dt:hover span {\n",
       "  display: inline-block;\n",
       "  background: var(--xr-background-color);\n",
       "  padding-right: 10px;\n",
       "}\n",
       "\n",
       ".xr-attrs dd {\n",
       "  grid-column: 2;\n",
       "  white-space: pre-wrap;\n",
       "  word-break: break-all;\n",
       "}\n",
       "\n",
       ".xr-icon-database,\n",
       ".xr-icon-file-text2,\n",
       ".xr-no-icon {\n",
       "  display: inline-block;\n",
       "  vertical-align: middle;\n",
       "  width: 1em;\n",
       "  height: 1.5em !important;\n",
       "  stroke-width: 0;\n",
       "  stroke: currentColor;\n",
       "  fill: currentColor;\n",
       "}\n",
       "</style><pre class='xr-text-repr-fallback'>&lt;TimeSeries (DataArray) (time: 5, component: 1, sample: 1)&gt;\n",
       "array([[[1.50620325]],\n",
       "\n",
       "       [[1.18954379]],\n",
       "\n",
       "       [[2.84933314]],\n",
       "\n",
       "       [[2.41279799]],\n",
       "\n",
       "       [[3.74720333]]])\n",
       "Coordinates:\n",
       "  * time       (time) datetime64[ns] 2022-01-01 2022-01-02 ... 2022-01-05\n",
       "  * component  (component) object &#x27;random_walk&#x27;\n",
       "Dimensions without coordinates: sample\n",
       "Attributes:\n",
       "    static_covariates:  None\n",
       "    hierarchy:          None</pre><div class='xr-wrap' style='display:none'><div class='xr-header'><div class='xr-obj-type'>TimeSeries (DataArray)</div><div class='xr-array-name'></div><ul class='xr-dim-list'><li><span class='xr-has-index'>time</span>: 5</li><li><span class='xr-has-index'>component</span>: 1</li><li><span>sample</span>: 1</li></ul></div><ul class='xr-sections'><li class='xr-section-item'><div class='xr-array-wrap'><input id='section-98e8f9d0-e668-4104-b63a-cf910c71ce11' class='xr-array-in' type='checkbox' checked><label for='section-98e8f9d0-e668-4104-b63a-cf910c71ce11' title='Show/hide data repr'><svg class='icon xr-icon-database'><use xlink:href='#icon-database'></use></svg></label><div class='xr-array-preview xr-preview'><span>1.506 1.19 2.849 2.413 3.747</span></div><div class='xr-array-data'><pre>array([[[1.50620325]],\n",
       "\n",
       "       [[1.18954379]],\n",
       "\n",
       "       [[2.84933314]],\n",
       "\n",
       "       [[2.41279799]],\n",
       "\n",
       "       [[3.74720333]]])</pre></div></div></li><li class='xr-section-item'><input id='section-7932baf7-47be-47cf-9f3a-a4db7bff4c4e' class='xr-section-summary-in' type='checkbox'  checked><label for='section-7932baf7-47be-47cf-9f3a-a4db7bff4c4e' class='xr-section-summary' >Coordinates: <span>(2)</span></label><div class='xr-section-inline-details'></div><div class='xr-section-details'><ul class='xr-var-list'><li class='xr-var-item'><div class='xr-var-name'><span class='xr-has-index'>time</span></div><div class='xr-var-dims'>(time)</div><div class='xr-var-dtype'>datetime64[ns]</div><div class='xr-var-preview xr-preview'>2022-01-01 ... 2022-01-05</div><input id='attrs-026d0261-030c-40ae-a02a-5e60cd99c17b' class='xr-var-attrs-in' type='checkbox' disabled><label for='attrs-026d0261-030c-40ae-a02a-5e60cd99c17b' title='Show/Hide attributes'><svg class='icon xr-icon-file-text2'><use xlink:href='#icon-file-text2'></use></svg></label><input id='data-98f3e73d-5882-4401-bfd2-e81a8a78951d' class='xr-var-data-in' type='checkbox'><label for='data-98f3e73d-5882-4401-bfd2-e81a8a78951d' title='Show/Hide data repr'><svg class='icon xr-icon-database'><use xlink:href='#icon-database'></use></svg></label><div class='xr-var-attrs'><dl class='xr-attrs'></dl></div><div class='xr-var-data'><pre>array([&#x27;2022-01-01T00:00:00.000000000&#x27;, &#x27;2022-01-02T00:00:00.000000000&#x27;,\n",
       "       &#x27;2022-01-03T00:00:00.000000000&#x27;, &#x27;2022-01-04T00:00:00.000000000&#x27;,\n",
       "       &#x27;2022-01-05T00:00:00.000000000&#x27;], dtype=&#x27;datetime64[ns]&#x27;)</pre></div></li><li class='xr-var-item'><div class='xr-var-name'><span class='xr-has-index'>component</span></div><div class='xr-var-dims'>(component)</div><div class='xr-var-dtype'>object</div><div class='xr-var-preview xr-preview'>&#x27;random_walk&#x27;</div><input id='attrs-96c35898-1cff-4b14-a4ca-5dde9d4db2c1' class='xr-var-attrs-in' type='checkbox' disabled><label for='attrs-96c35898-1cff-4b14-a4ca-5dde9d4db2c1' title='Show/Hide attributes'><svg class='icon xr-icon-file-text2'><use xlink:href='#icon-file-text2'></use></svg></label><input id='data-847c752e-5726-41ab-bf37-73bb64ea10b1' class='xr-var-data-in' type='checkbox'><label for='data-847c752e-5726-41ab-bf37-73bb64ea10b1' title='Show/Hide data repr'><svg class='icon xr-icon-database'><use xlink:href='#icon-database'></use></svg></label><div class='xr-var-attrs'><dl class='xr-attrs'></dl></div><div class='xr-var-data'><pre>array([&#x27;random_walk&#x27;], dtype=object)</pre></div></li></ul></div></li><li class='xr-section-item'><input id='section-d65df425-db8a-4a2b-8fb0-49d8856a0019' class='xr-section-summary-in' type='checkbox'  ><label for='section-d65df425-db8a-4a2b-8fb0-49d8856a0019' class='xr-section-summary' >Indexes: <span>(2)</span></label><div class='xr-section-inline-details'></div><div class='xr-section-details'><ul class='xr-var-list'><li class='xr-var-item'><div class='xr-index-name'><div>time</div></div><div class='xr-index-preview'>PandasIndex</div><div></div><input id='index-e4a8f4c7-2b8a-40ea-96e0-c1e073b53b7f' class='xr-index-data-in' type='checkbox'/><label for='index-e4a8f4c7-2b8a-40ea-96e0-c1e073b53b7f' title='Show/Hide index repr'><svg class='icon xr-icon-database'><use xlink:href='#icon-database'></use></svg></label><div class='xr-index-data'><pre>PandasIndex(DatetimeIndex([&#x27;2022-01-01&#x27;, &#x27;2022-01-02&#x27;, &#x27;2022-01-03&#x27;, &#x27;2022-01-04&#x27;,\n",
       "               &#x27;2022-01-05&#x27;],\n",
       "              dtype=&#x27;datetime64[ns]&#x27;, name=&#x27;time&#x27;, freq=&#x27;D&#x27;))</pre></div></li><li class='xr-var-item'><div class='xr-index-name'><div>component</div></div><div class='xr-index-preview'>PandasIndex</div><div></div><input id='index-83514a01-3b1d-469b-9d49-8973f48e091b' class='xr-index-data-in' type='checkbox'/><label for='index-83514a01-3b1d-469b-9d49-8973f48e091b' title='Show/Hide index repr'><svg class='icon xr-icon-database'><use xlink:href='#icon-database'></use></svg></label><div class='xr-index-data'><pre>PandasIndex(Index([&#x27;random_walk&#x27;], dtype=&#x27;object&#x27;, name=&#x27;component&#x27;))</pre></div></li></ul></div></li><li class='xr-section-item'><input id='section-d06e1ffa-7757-4127-b715-b40c8d5b402c' class='xr-section-summary-in' type='checkbox'  checked><label for='section-d06e1ffa-7757-4127-b715-b40c8d5b402c' class='xr-section-summary' >Attributes: <span>(2)</span></label><div class='xr-section-inline-details'></div><div class='xr-section-details'><dl class='xr-attrs'><dt><span>static_covariates :</span></dt><dd>None</dd><dt><span>hierarchy :</span></dt><dd>None</dd></dl></div></li></ul></div></div>"
      ],
      "text/plain": [
       "<TimeSeries (DataArray) (time: 5, component: 1, sample: 1)>\n",
       "array([[[1.50620325]],\n",
       "\n",
       "       [[1.18954379]],\n",
       "\n",
       "       [[2.84933314]],\n",
       "\n",
       "       [[2.41279799]],\n",
       "\n",
       "       [[3.74720333]]])\n",
       "Coordinates:\n",
       "  * time       (time) datetime64[ns] 2022-01-01 2022-01-02 ... 2022-01-05\n",
       "  * component  (component) object 'random_walk'\n",
       "Dimensions without coordinates: sample\n",
       "Attributes:\n",
       "    static_covariates:  None\n",
       "    hierarchy:          None"
      ]
     },
     "execution_count": 5,
     "metadata": {},
     "output_type": "execute_result"
    }
   ],
   "source": [
    "ts[0:5]"
   ]
  },
  {
   "cell_type": "markdown",
   "id": "0cbd8da5-81fd-4b2d-8b7d-8394ad87348b",
   "metadata": {
    "papermill": {
     "duration": 0.002651,
     "end_time": "2024-01-26T20:44:56.374567",
     "exception": false,
     "start_time": "2024-01-26T20:44:56.371916",
     "status": "completed"
    },
    "tags": []
   },
   "source": [
    "---\n",
    "## Use `TimeSeries` object"
   ]
  },
  {
   "cell_type": "code",
   "execution_count": 6,
   "id": "1cbbd4f4-035d-43fa-93a7-6801b944835f",
   "metadata": {
    "execution": {
     "iopub.execute_input": "2024-01-26T20:44:56.380692Z",
     "iopub.status.busy": "2024-01-26T20:44:56.380376Z",
     "iopub.status.idle": "2024-01-26T20:44:56.510522Z",
     "shell.execute_reply": "2024-01-26T20:44:56.509932Z"
    },
    "papermill": {
     "duration": 0.134238,
     "end_time": "2024-01-26T20:44:56.511385",
     "exception": false,
     "start_time": "2024-01-26T20:44:56.377147",
     "status": "completed"
    },
    "tags": []
   },
   "outputs": [
    {
     "data": {
      "image/png": "[encoded data removed]",
      "text/plain": [
       "<Figure size 640x480 with 1 Axes>"
      ]
     },
     "metadata": {},
     "output_type": "display_data"
    }
   ],
   "source": [
    "ts.plot();"
   ]
  },
  {
   "cell_type": "markdown",
   "id": "06a8a724-7142-4077-b8b6-afafa8950d7b",
   "metadata": {
    "papermill": {
     "duration": 0.003376,
     "end_time": "2024-01-26T20:44:56.519083",
     "exception": false,
     "start_time": "2024-01-26T20:44:56.515707",
     "status": "completed"
    },
    "tags": []
   },
   "source": [
    "---\n",
    "## Custom Class Creation"
   ]
  },
  {
   "cell_type": "markdown",
   "id": "cd126529-3b5e-4a22-a871-60d221b6df6d",
   "metadata": {
    "papermill": {
     "duration": 0.004168,
     "end_time": "2024-01-26T20:44:56.526157",
     "exception": false,
     "start_time": "2024-01-26T20:44:56.521989",
     "status": "completed"
    },
    "tags": []
   },
   "source": [
    "### Create custom detector"
   ]
  },
  {
   "cell_type": "code",
   "execution_count": 7,
   "id": "40a0dd53-0fe9-40a7-86d9-ee551e4c5e6e",
   "metadata": {
    "execution": {
     "iopub.execute_input": "2024-01-26T20:44:56.532939Z",
     "iopub.status.busy": "2024-01-26T20:44:56.532784Z",
     "iopub.status.idle": "2024-01-26T20:44:56.535270Z",
     "shell.execute_reply": "2024-01-26T20:44:56.534922Z"
    },
    "papermill": {
     "duration": 0.006741,
     "end_time": "2024-01-26T20:44:56.535926",
     "exception": false,
     "start_time": "2024-01-26T20:44:56.529185",
     "status": "completed"
    },
    "tags": []
   },
   "outputs": [],
   "source": [
    "from ontime.core.detector.abstract_detector import AbstractDetector\n",
    "\n",
    "class MyDetector(AbstractDetector):\n",
    "\n",
    "    def __init__(self):\n",
    "        super().__init__()\n",
    "\n",
    "    def detect(self, ts):\n",
    "        print('I detected')\n",
    "        "
   ]
  },
  {
   "cell_type": "markdown",
   "id": "55bc256f-0ca3-4087-b7a9-bf563f26ffe7",
   "metadata": {
    "papermill": {
     "duration": 0.00275,
     "end_time": "2024-01-26T20:44:56.541949",
     "exception": false,
     "start_time": "2024-01-26T20:44:56.539199",
     "status": "completed"
    },
    "tags": []
   },
   "source": [
    "Load custom detector in OnTime"
   ]
  },
  {
   "cell_type": "code",
   "execution_count": 8,
   "id": "6a8dd074-6350-4c3a-a8a7-7d901b790f95",
   "metadata": {
    "execution": {
     "iopub.execute_input": "2024-01-26T20:44:56.548470Z",
     "iopub.status.busy": "2024-01-26T20:44:56.548165Z",
     "iopub.status.idle": "2024-01-26T20:44:56.550715Z",
     "shell.execute_reply": "2024-01-26T20:44:56.550424Z"
    },
    "papermill": {
     "duration": 0.006425,
     "end_time": "2024-01-26T20:44:56.551255",
     "exception": false,
     "start_time": "2024-01-26T20:44:56.544830",
     "status": "completed"
    },
    "tags": []
   },
   "outputs": [
    {
     "data": {
      "text/plain": [
       "['threshold', 'quantile']"
      ]
     },
     "execution_count": 8,
     "metadata": {},
     "output_type": "execute_result"
    }
   ],
   "source": [
    "on.detectors.get_all()"
   ]
  },
  {
   "cell_type": "code",
   "execution_count": 9,
   "id": "91bdf719-f451-4d07-aaed-c2f5f7b4fa1b",
   "metadata": {
    "execution": {
     "iopub.execute_input": "2024-01-26T20:44:56.557851Z",
     "iopub.status.busy": "2024-01-26T20:44:56.557617Z",
     "iopub.status.idle": "2024-01-26T20:44:56.559479Z",
     "shell.execute_reply": "2024-01-26T20:44:56.559220Z"
    },
    "papermill": {
     "duration": 0.006103,
     "end_time": "2024-01-26T20:44:56.560199",
     "exception": false,
     "start_time": "2024-01-26T20:44:56.554096",
     "status": "completed"
    },
    "tags": []
   },
   "outputs": [],
   "source": [
    "on.detectors.load('my_detector', MyDetector)"
   ]
  },
  {
   "cell_type": "code",
   "execution_count": 10,
   "id": "bb636aa5-f155-46e4-8038-027d5f5db78a",
   "metadata": {
    "execution": {
     "iopub.execute_input": "2024-01-26T20:44:56.567093Z",
     "iopub.status.busy": "2024-01-26T20:44:56.566867Z",
     "iopub.status.idle": "2024-01-26T20:44:56.569170Z",
     "shell.execute_reply": "2024-01-26T20:44:56.568922Z"
    },
    "papermill": {
     "duration": 0.00671,
     "end_time": "2024-01-26T20:44:56.569816",
     "exception": false,
     "start_time": "2024-01-26T20:44:56.563106",
     "status": "completed"
    },
    "tags": []
   },
   "outputs": [
    {
     "data": {
      "text/plain": [
       "['threshold', 'quantile', 'my_detector']"
      ]
     },
     "execution_count": 10,
     "metadata": {},
     "output_type": "execute_result"
    }
   ],
   "source": [
    "on.detectors.get_all()"
   ]
  },
  {
   "cell_type": "code",
   "execution_count": 11,
   "id": "f16ac090-142d-4d1b-8351-40b443275c72",
   "metadata": {
    "execution": {
     "iopub.execute_input": "2024-01-26T20:44:56.576626Z",
     "iopub.status.busy": "2024-01-26T20:44:56.576363Z",
     "iopub.status.idle": "2024-01-26T20:44:56.578376Z",
     "shell.execute_reply": "2024-01-26T20:44:56.578103Z"
    },
    "papermill": {
     "duration": 0.006048,
     "end_time": "2024-01-26T20:44:56.578924",
     "exception": false,
     "start_time": "2024-01-26T20:44:56.572876",
     "status": "completed"
    },
    "tags": []
   },
   "outputs": [
    {
     "name": "stdout",
     "output_type": "stream",
     "text": [
      "I detected\n"
     ]
    }
   ],
   "source": [
    "on.detectors.my_detector().detect(ts)"
   ]
  },
  {
   "cell_type": "code",
   "execution_count": null,
   "id": "74a24176-7c9b-4790-9e5c-ac71e8517872",
   "metadata": {
    "papermill": {
     "duration": 0.00291,
     "end_time": "2024-01-26T20:44:56.584828",
     "exception": false,
     "start_time": "2024-01-26T20:44:56.581918",
     "status": "completed"
    },
    "tags": []
   },
   "outputs": [],
   "source": []
  }
 ],
 "metadata": {
  "kernelspec": {
   "display_name": "Python 3 (ipykernel)",
   "language": "python",
   "name": "python3"
  },
  "language_info": {
   "codemirror_mode": {
    "name": "ipython",
    "version": 3
   },
   "file_extension": ".py",
   "mimetype": "text/x-python",
   "name": "python",
   "nbconvert_exporter": "python",
   "pygments_lexer": "ipython3",
   "version": "3.10.13"
  },
  "papermill": {
   "default_parameters": {},
   "duration": 3.519311,
   "end_time": "2024-01-26T20:44:57.209796",
   "environment_variables": {},
   "exception": null,
   "input_path": "notebooks/docs/0_core/0.1-time-series-custom-class.ipynb",
   "output_path": "notebooks/docs/0_core/0.1-time-series-custom-class.ipynb",
   "parameters": {},
   "start_time": "2024-01-26T20:44:53.690485",
   "version": "2.5.0"
  }
 },
 "nbformat": 4,
 "nbformat_minor": 5
}