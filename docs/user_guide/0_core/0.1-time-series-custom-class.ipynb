{
 "cells": [
  {
   "cell_type": "markdown",
   "id": "670316b8-460c-4009-a5da-94278f4ac9a9",
   "metadata": {
    "papermill": {
     "duration": null,
     "end_time": null,
     "exception": null,
     "start_time": null,
     "status": "completed"
    },
    "tags": []
   },
   "source": [
    "# Time Series, Custom Class"
   ]
  },
  {
   "cell_type": "code",
   "execution_count": null,
   "id": "52af59bb-083c-46c6-989a-bd4c65137a1a",
   "metadata": {
    "execution": {
     "iopub.execute_input": "2024-01-26T20:44:54.257216Z",
     "iopub.status.busy": "2024-01-26T20:44:54.256967Z",
     "iopub.status.idle": "2024-01-26T20:44:54.264172Z",
     "shell.execute_reply": "2024-01-26T20:44:54.263507Z"
    },
    "papermill": {
     "duration": null,
     "end_time": null,
     "exception": null,
     "start_time": null,
     "status": "completed"
    },
    "tags": []
   },
   "outputs": [],
   "source": [
    "# Import to be able to import python package from src\n",
    "import sys\n",
    "sys.path.insert(0, '../src')"
   ]
  },
  {
   "cell_type": "code",
   "execution_count": null,
   "id": "4aed48a7-3452-4632-b1d5-e501893c6078",
   "metadata": {
    "execution": {
     "iopub.execute_input": "2024-01-26T20:44:54.277531Z",
     "iopub.status.busy": "2024-01-26T20:44:54.277278Z",
     "iopub.status.idle": "2024-01-26T20:44:54.280867Z",
     "shell.execute_reply": "2024-01-26T20:44:54.280384Z"
    },
    "papermill": {
     "duration": null,
     "end_time": null,
     "exception": null,
     "start_time": null,
     "status": "completed"
    },
    "tags": []
   },
   "outputs": [],
   "source": [
    "print(sys.path)"
   ]
  },
  {
   "cell_type": "code",
   "execution_count": null,
   "id": "d6fc731f-3f50-4e9a-a24c-b2ab01d4fa31",
   "metadata": {
    "execution": {
     "iopub.execute_input": "2024-01-26T20:44:54.290642Z",
     "iopub.status.busy": "2024-01-26T20:44:54.290321Z",
     "iopub.status.idle": "2024-01-26T20:44:56.259526Z",
     "shell.execute_reply": "2024-01-26T20:44:56.258984Z"
    },
    "papermill": {
     "duration": null,
     "end_time": null,
     "exception": null,
     "start_time": null,
     "status": "completed"
    },
    "tags": []
   },
   "outputs": [],
   "source": [
    "import pandas as pd\n",
    "import numpy as np\n",
    "import ontime as on"
   ]
  },
  {
   "cell_type": "markdown",
   "id": "831f1944-599b-4761-a071-2a682346610a",
   "metadata": {
    "papermill": {
     "duration": null,
     "end_time": null,
     "exception": null,
     "start_time": null,
     "status": "completed"
    },
    "tags": []
   },
   "source": [
    "---\n",
    "## Generation of random time series"
   ]
  },
  {
   "cell_type": "code",
   "execution_count": null,
   "id": "ef3e03e1-c247-4b5a-a27a-a13361e673b0",
   "metadata": {
    "execution": {
     "iopub.execute_input": "2024-01-26T20:44:56.271302Z",
     "iopub.status.busy": "2024-01-26T20:44:56.270924Z",
     "iopub.status.idle": "2024-01-26T20:44:56.353200Z",
     "shell.execute_reply": "2024-01-26T20:44:56.352700Z"
    },
    "papermill": {
     "duration": null,
     "end_time": null,
     "exception": null,
     "start_time": null,
     "status": "completed"
    },
    "tags": []
   },
   "outputs": [],
   "source": [
    "ts = on.generators.random_walk().generate(start=pd.Timestamp('2022-01-01'), end=pd.Timestamp('2022-12-31'))"
   ]
  },
  {
   "cell_type": "code",
   "execution_count": null,
   "id": "01962643-33af-4adf-8bfa-7d0163e4e41c",
   "metadata": {
    "execution": {
     "iopub.execute_input": "2024-01-26T20:44:56.360681Z",
     "iopub.status.busy": "2024-01-26T20:44:56.360556Z",
     "iopub.status.idle": "2024-01-26T20:44:56.368323Z",
     "shell.execute_reply": "2024-01-26T20:44:56.367955Z"
    },
    "papermill": {
     "duration": null,
     "end_time": null,
     "exception": null,
     "start_time": null,
     "status": "completed"
    },
    "tags": []
   },
   "outputs": [],
   "source": [
    "ts[0:5]"
   ]
  },
  {
   "cell_type": "markdown",
   "id": "0cbd8da5-81fd-4b2d-8b7d-8394ad87348b",
   "metadata": {
    "papermill": {
     "duration": null,
     "end_time": null,
     "exception": null,
     "start_time": null,
     "status": "completed"
    },
    "tags": []
   },
   "source": [
    "---\n",
    "## Use `TimeSeries` object"
   ]
  },
  {
   "cell_type": "code",
   "execution_count": null,
   "id": "1cbbd4f4-035d-43fa-93a7-6801b944835f",
   "metadata": {
    "execution": {
     "iopub.execute_input": "2024-01-26T20:44:56.380692Z",
     "iopub.status.busy": "2024-01-26T20:44:56.380376Z",
     "iopub.status.idle": "2024-01-26T20:44:56.510522Z",
     "shell.execute_reply": "2024-01-26T20:44:56.509932Z"
    },
    "papermill": {
     "duration": null,
     "end_time": null,
     "exception": null,
     "start_time": null,
     "status": "completed"
    },
    "tags": []
   },
   "outputs": [],
   "source": [
    "ts.plot();"
   ]
  },
  {
   "cell_type": "markdown",
   "id": "06a8a724-7142-4077-b8b6-afafa8950d7b",
   "metadata": {
    "papermill": {
     "duration": null,
     "end_time": null,
     "exception": null,
     "start_time": null,
     "status": "completed"
    },
    "tags": []
   },
   "source": [
    "---\n",
    "## Custom Class Creation"
   ]
  },
  {
   "cell_type": "markdown",
   "id": "cd126529-3b5e-4a22-a871-60d221b6df6d",
   "metadata": {
    "papermill": {
     "duration": null,
     "end_time": null,
     "exception": null,
     "start_time": null,
     "status": "completed"
    },
    "tags": []
   },
   "source": [
    "### Create custom detector"
   ]
  },
  {
   "cell_type": "code",
   "execution_count": null,
   "id": "40a0dd53-0fe9-40a7-86d9-ee551e4c5e6e",
   "metadata": {
    "execution": {
     "iopub.execute_input": "2024-01-26T20:44:56.532939Z",
     "iopub.status.busy": "2024-01-26T20:44:56.532784Z",
     "iopub.status.idle": "2024-01-26T20:44:56.535270Z",
     "shell.execute_reply": "2024-01-26T20:44:56.534922Z"
    },
    "papermill": {
     "duration": null,
     "end_time": null,
     "exception": null,
     "start_time": null,
     "status": "completed"
    },
    "tags": []
   },
   "outputs": [],
   "source": [
    "from ontime.core.detector.abstract_detector import AbstractDetector\n",
    "\n",
    "class MyDetector(AbstractDetector):\n",
    "\n",
    "    def __init__(self):\n",
    "        super().__init__()\n",
    "\n",
    "    def detect(self, ts):\n",
    "        print('I detected')\n",
    "        "
   ]
  },
  {
   "cell_type": "markdown",
   "id": "55bc256f-0ca3-4087-b7a9-bf563f26ffe7",
   "metadata": {
    "papermill": {
     "duration": null,
     "end_time": null,
     "exception": null,
     "start_time": null,
     "status": "completed"
    },
    "tags": []
   },
   "source": [
    "Load custom detector in OnTime"
   ]
  },
  {
   "cell_type": "code",
   "execution_count": null,
   "id": "6a8dd074-6350-4c3a-a8a7-7d901b790f95",
   "metadata": {
    "execution": {
     "iopub.execute_input": "2024-01-26T20:44:56.548470Z",
     "iopub.status.busy": "2024-01-26T20:44:56.548165Z",
     "iopub.status.idle": "2024-01-26T20:44:56.550715Z",
     "shell.execute_reply": "2024-01-26T20:44:56.550424Z"
    },
    "papermill": {
     "duration": null,
     "end_time": null,
     "exception": null,
     "start_time": null,
     "status": "completed"
    },
    "tags": []
   },
   "outputs": [],
   "source": [
    "on.detectors.get_all()"
   ]
  },
  {
   "cell_type": "code",
   "execution_count": null,
   "id": "91bdf719-f451-4d07-aaed-c2f5f7b4fa1b",
   "metadata": {
    "execution": {
     "iopub.execute_input": "2024-01-26T20:44:56.557851Z",
     "iopub.status.busy": "2024-01-26T20:44:56.557617Z",
     "iopub.status.idle": "2024-01-26T20:44:56.559479Z",
     "shell.execute_reply": "2024-01-26T20:44:56.559220Z"
    },
    "papermill": {
     "duration": null,
     "end_time": null,
     "exception": null,
     "start_time": null,
     "status": "completed"
    },
    "tags": []
   },
   "outputs": [],
   "source": [
    "on.detectors.load('my_detector', MyDetector)"
   ]
  },
  {
   "cell_type": "code",
   "execution_count": null,
   "id": "bb636aa5-f155-46e4-8038-027d5f5db78a",
   "metadata": {
    "execution": {
     "iopub.execute_input": "2024-01-26T20:44:56.567093Z",
     "iopub.status.busy": "2024-01-26T20:44:56.566867Z",
     "iopub.status.idle": "2024-01-26T20:44:56.569170Z",
     "shell.execute_reply": "2024-01-26T20:44:56.568922Z"
    },
    "papermill": {
     "duration": null,
     "end_time": null,
     "exception": null,
     "start_time": null,
     "status": "completed"
    },
    "tags": []
   },
   "outputs": [],
   "source": [
    "on.detectors.get_all()"
   ]
  },
  {
   "cell_type": "code",
   "execution_count": null,
   "id": "f16ac090-142d-4d1b-8351-40b443275c72",
   "metadata": {
    "execution": {
     "iopub.execute_input": "2024-01-26T20:44:56.576626Z",
     "iopub.status.busy": "2024-01-26T20:44:56.576363Z",
     "iopub.status.idle": "2024-01-26T20:44:56.578376Z",
     "shell.execute_reply": "2024-01-26T20:44:56.578103Z"
    },
    "papermill": {
     "duration": null,
     "end_time": null,
     "exception": null,
     "start_time": null,
     "status": "completed"
    },
    "tags": []
   },
   "outputs": [],
   "source": [
    "on.detectors.my_detector().detect(ts)"
   ]
  },
  {
   "cell_type": "code",
   "execution_count": null,
   "id": "74a24176-7c9b-4790-9e5c-ac71e8517872",
   "metadata": {
    "papermill": {
     "duration": null,
     "end_time": null,
     "exception": null,
     "start_time": null,
     "status": "completed"
    },
    "tags": []
   },
   "outputs": [],
   "source": []
  }
 ],
 "metadata": {
  "kernelspec": {
   "display_name": "Python 3 (ipykernel)",
   "language": "python",
   "name": "python3"
  },
  "language_info": {
   "codemirror_mode": {
    "name": "ipython",
    "version": 3
   },
   "file_extension": ".py",
   "mimetype": "text/x-python",
   "name": "python",
   "nbconvert_exporter": "python",
   "pygments_lexer": "ipython3",
   "version": "3.10.13"
  },
  "papermill": {
   "default_parameters": {},
   "duration": 60.248854,
   "end_time": "2024-01-31T17:51:31.161244",
   "environment_variables": {},
   "exception": null,
   "input_path": "docs/user_guide/0_core/0.1-time-series-custom-class.ipynb",
   "output_path": "docs/user_guide/0_core/0.1-time-series-custom-class.ipynb",
   "parameters": {},
   "start_time": "2024-01-31T17:50:30.912390",
   "version": "2.5.0"
  }
 },
 "nbformat": 4,
 "nbformat_minor": 5
}