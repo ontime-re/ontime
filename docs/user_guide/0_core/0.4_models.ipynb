{
 "cells": [
  {
   "cell_type": "code",
   "execution_count": 23,
   "id": "9286e0b8-3c78-4b0f-943c-d219e9840dfe",
   "metadata": {
    "ExecuteTime": {
     "end_time": "2023-11-20T17:41:55.983705200Z",
     "start_time": "2023-11-20T17:41:55.204565400Z"
    },
    "papermill": {
     "duration": 0.01496,
     "end_time": "2024-01-31T17:49:55.553639",
     "exception": false,
     "start_time": "2024-01-31T17:49:55.538679",
     "status": "completed"
    },
    "tags": []
   },
   "outputs": [],
   "source": [
    "# Import to be able to import python package from src\n",
    "import sys\n",
    "sys.path.insert(0, '../src')"
   ]
  },
  {
   "cell_type": "code",
   "execution_count": 24,
   "id": "2028eed7-b1c3-4c9e-b6a0-00433caa7d0f",
   "metadata": {
    "ExecuteTime": {
     "end_time": "2023-11-20T17:42:07.848983200Z",
     "start_time": "2023-11-20T17:41:55.983705200Z"
    },
    "papermill": {
     "duration": 2.469376,
     "end_time": "2024-01-31T17:49:58.027391",
     "exception": false,
     "start_time": "2024-01-31T17:49:55.558015",
     "status": "completed"
    },
    "tags": []
   },
   "outputs": [],
   "source": [
    "import pandas as pd\n",
    "import numpy as np\n",
    "import ontime as on"
   ]
  },
  {
   "cell_type": "markdown",
   "id": "41296cc6-9d84-47c5-8a92-2d292f6f3c4a",
   "metadata": {
    "papermill": {
     "duration": 0.012158,
     "end_time": "2024-01-31T17:49:55.532894",
     "exception": false,
     "start_time": "2024-01-31T17:49:55.520736",
     "status": "completed"
    },
    "tags": []
   },
   "source": [
    "# Models"
   ]
  },
  {
   "cell_type": "markdown",
   "id": "327dc997-5a25-462f-bb35-185e39302edd",
   "metadata": {},
   "source": [
    "This class implement a generic way to load models in onTime. It is compatible with Darts, Scikit-learn and PyTorch, with an aim to add other librairies and models soon. Let's see how to use it."
   ]
  },
  {
   "cell_type": "markdown",
   "id": "e24da8ab-6a83-4c2f-9ff0-c633d4693a91",
   "metadata": {
    "papermill": {
     "duration": 0.002768,
     "end_time": "2024-01-31T17:49:58.033371",
     "exception": false,
     "start_time": "2024-01-31T17:49:58.030603",
     "status": "completed"
    },
    "tags": []
   },
   "source": [
    "## Let's generate random TimeSeries"
   ]
  },
  {
   "cell_type": "code",
   "execution_count": 25,
   "id": "e9a96d79-0423-4d79-b01d-726193216238",
   "metadata": {
    "ExecuteTime": {
     "end_time": "2023-11-20T17:42:07.874183800Z",
     "start_time": "2023-11-20T17:42:07.848983200Z"
    },
    "papermill": {
     "duration": 0.01143,
     "end_time": "2024-01-31T17:49:58.047455",
     "exception": false,
     "start_time": "2024-01-31T17:49:58.036025",
     "status": "completed"
    },
    "tags": []
   },
   "outputs": [],
   "source": [
    "# Start and end dates\n",
    "start_date = pd.Timestamp('2022-01-01')\n",
    "end_date = pd.Timestamp('2022-12-31')\n",
    "\n",
    "# Make a random walk\n",
    "ts = on.generators.random_walk().generate(start=start_date, end=end_date)\n",
    "ts = ts.astype(np.float32)\n",
    "\n",
    "# Make another random walk\n",
    "new_ts = on.generators.random_walk().generate(start=start_date, end=end_date)\n",
    "new_ts = ts.astype(np.float32)"
   ]
  },
  {
   "cell_type": "markdown",
   "id": "8e991124-59fd-4bde-84d0-c1622e37173a",
   "metadata": {
    "papermill": {
     "duration": 0.002717,
     "end_time": "2024-01-31T17:49:58.063640",
     "exception": false,
     "start_time": "2024-01-31T17:49:58.060923",
     "status": "completed"
    },
    "tags": []
   },
   "source": [
    "## Using a Darts model"
   ]
  },
  {
   "cell_type": "markdown",
   "id": "a37651ba-6a09-467e-b630-395d004e3051",
   "metadata": {},
   "source": [
    "The model can be loaded from the desired library"
   ]
  },
  {
   "cell_type": "code",
   "execution_count": 26,
   "id": "a1b679c1-4334-4d10-9ef1-019e81a36b90",
   "metadata": {
    "ExecuteTime": {
     "end_time": "2023-11-20T17:42:07.896443200Z",
     "start_time": "2023-11-20T17:42:07.880829500Z"
    },
    "papermill": {
     "duration": 0.005851,
     "end_time": "2024-01-31T17:49:58.072240",
     "exception": false,
     "start_time": "2024-01-31T17:49:58.066389",
     "status": "completed"
    },
    "tags": []
   },
   "outputs": [],
   "source": [
    "from darts.models import BlockRNNModel"
   ]
  },
  {
   "cell_type": "markdown",
   "id": "7f6fed70-29f9-4c88-9860-7f0df3c59282",
   "metadata": {},
   "source": [
    "Then, it can be used with this generic interface."
   ]
  },
  {
   "cell_type": "code",
   "execution_count": 27,
   "id": "85663124-29d5-4da0-8cee-e10639eb8c32",
   "metadata": {},
   "outputs": [],
   "source": [
    "model = on.Model(BlockRNNModel,\n",
    "                 input_chunk_length=12,\n",
    "                 output_chunk_length=6,\n",
    "                 n_rnn_layers=2,\n",
    "                 n_epochs=50\n",
    "                 )"
   ]
  },
  {
   "cell_type": "markdown",
   "id": "6752ec5f-4384-4dc2-91e7-1f895cbb483b",
   "metadata": {},
   "source": [
    "Finally, the training and inference functions are the same than in Scikit Learn for instance :"
   ]
  },
  {
   "cell_type": "code",
   "execution_count": 28,
   "id": "a83733e8-fb76-4d6d-94c0-bc5b255d2951",
   "metadata": {},
   "outputs": [
    {
     "name": "stderr",
     "output_type": "stream",
     "text": [
      "darts.models.forecasting.torch_forecasting_model INFO  Train dataset contains 348 samples.\n",
      "darts.models.forecasting.torch_forecasting_model INFO  Time series values are 32-bits; casting model to float32.\n",
      "INFO: GPU available: True (cuda), used: True\n",
      "lightning.pytorch.utilities.rank_zero INFO  GPU available: True (cuda), used: True\n",
      "INFO: TPU available: False, using: 0 TPU cores\n",
      "lightning.pytorch.utilities.rank_zero INFO  TPU available: False, using: 0 TPU cores\n",
      "INFO: HPU available: False, using: 0 HPUs\n",
      "lightning.pytorch.utilities.rank_zero INFO  HPU available: False, using: 0 HPUs\n",
      "LOCAL_RANK: 0 - CUDA_VISIBLE_DEVICES: [0]\n",
      "\n",
      "  | Name            | Type             | Params | Mode \n",
      "-------------------------------------------------------------\n",
      "0 | criterion       | MSELoss          | 0      | train\n",
      "1 | train_criterion | MSELoss          | 0      | train\n",
      "2 | val_criterion   | MSELoss          | 0      | train\n",
      "3 | train_metrics   | MetricCollection | 0      | train\n",
      "4 | val_metrics     | MetricCollection | 0      | train\n",
      "5 | rnn             | RNN              | 2.0 K  | train\n",
      "6 | fc              | Sequential       | 156    | train\n",
      "-------------------------------------------------------------\n",
      "2.2 K     Trainable params\n",
      "0         Non-trainable params\n",
      "2.2 K     Total params\n",
      "0.009     Total estimated model params size (MB)\n",
      "8         Modules in train mode\n",
      "0         Modules in eval mode\n"
     ]
    },
    {
     "name": "stdout",
     "output_type": "stream",
     "text": [
      "True\n"
     ]
    },
    {
     "data": {
      "application/vnd.jupyter.widget-view+json": {
       "model_id": "7bc464824aed4fd0b23af7f8c4dc9828",
       "version_major": 2,
       "version_minor": 0
      },
      "text/plain": [
       "Training: |          | 0/? [00:00<?, ?it/s]"
      ]
     },
     "metadata": {},
     "output_type": "display_data"
    },
    {
     "name": "stderr",
     "output_type": "stream",
     "text": [
      "INFO: `Trainer.fit` stopped: `max_epochs=50` reached.\n",
      "lightning.pytorch.utilities.rank_zero INFO  `Trainer.fit` stopped: `max_epochs=50` reached.\n"
     ]
    },
    {
     "data": {
      "text/plain": [
       "<ontime.core.modelling.model.Model at 0x7f555264c520>"
      ]
     },
     "execution_count": 28,
     "metadata": {},
     "output_type": "execute_result"
    }
   ],
   "source": [
    "# To train the model\n",
    "model.fit(ts)"
   ]
  },
  {
   "cell_type": "code",
   "execution_count": 29,
   "id": "9f7f91dc-5cb0-4ee4-885e-2d7ea16e4762",
   "metadata": {},
   "outputs": [
    {
     "name": "stderr",
     "output_type": "stream",
     "text": [
      "INFO: GPU available: True (cuda), used: True\n",
      "lightning.pytorch.utilities.rank_zero INFO  GPU available: True (cuda), used: True\n",
      "INFO: TPU available: False, using: 0 TPU cores\n",
      "lightning.pytorch.utilities.rank_zero INFO  TPU available: False, using: 0 TPU cores\n",
      "INFO: HPU available: False, using: 0 HPUs\n",
      "lightning.pytorch.utilities.rank_zero INFO  HPU available: False, using: 0 HPUs\n",
      "LOCAL_RANK: 0 - CUDA_VISIBLE_DEVICES: [0]\n"
     ]
    },
    {
     "data": {
      "application/vnd.jupyter.widget-view+json": {
       "model_id": "40832e277e0648e0b605bee62324f662",
       "version_major": 2,
       "version_minor": 0
      },
      "text/plain": [
       "Predicting: |          | 0/? [00:00<?, ?it/s]"
      ]
     },
     "metadata": {},
     "output_type": "display_data"
    }
   ],
   "source": [
    "# To make a prediction from train series\n",
    "darts_pred = model.predict(10)"
   ]
  },
  {
   "cell_type": "markdown",
   "id": "b90b4cff",
   "metadata": {},
   "source": [
    "Once trained, the model can also infer on a new series, or even on a list of series (batched inference)"
   ]
  },
  {
   "cell_type": "code",
   "execution_count": 30,
   "id": "0b0ee849",
   "metadata": {},
   "outputs": [
    {
     "name": "stderr",
     "output_type": "stream",
     "text": [
      "INFO: GPU available: True (cuda), used: True\n",
      "lightning.pytorch.utilities.rank_zero INFO  GPU available: True (cuda), used: True\n",
      "INFO: TPU available: False, using: 0 TPU cores\n",
      "lightning.pytorch.utilities.rank_zero INFO  TPU available: False, using: 0 TPU cores\n",
      "INFO: HPU available: False, using: 0 HPUs\n",
      "lightning.pytorch.utilities.rank_zero INFO  HPU available: False, using: 0 HPUs\n",
      "LOCAL_RANK: 0 - CUDA_VISIBLE_DEVICES: [0]\n"
     ]
    },
    {
     "data": {
      "application/vnd.jupyter.widget-view+json": {
       "model_id": "22f6ceb87de042cca5e5cf1f0eff9e77",
       "version_major": 2,
       "version_minor": 0
      },
      "text/plain": [
       "Predicting: |          | 0/? [00:00<?, ?it/s]"
      ]
     },
     "metadata": {},
     "output_type": "display_data"
    },
    {
     "name": "stderr",
     "output_type": "stream",
     "text": [
      "INFO: GPU available: True (cuda), used: True\n",
      "lightning.pytorch.utilities.rank_zero INFO  GPU available: True (cuda), used: True\n",
      "INFO: TPU available: False, using: 0 TPU cores\n",
      "lightning.pytorch.utilities.rank_zero INFO  TPU available: False, using: 0 TPU cores\n",
      "INFO: HPU available: False, using: 0 HPUs\n",
      "lightning.pytorch.utilities.rank_zero INFO  HPU available: False, using: 0 HPUs\n",
      "LOCAL_RANK: 0 - CUDA_VISIBLE_DEVICES: [0]\n"
     ]
    },
    {
     "data": {
      "application/vnd.jupyter.widget-view+json": {
       "model_id": "314368eea4fa406f95f7c76916596644",
       "version_major": 2,
       "version_minor": 0
      },
      "text/plain": [
       "Predicting: |          | 0/? [00:00<?, ?it/s]"
      ]
     },
     "metadata": {},
     "output_type": "display_data"
    },
    {
     "data": {
      "text/plain": [
       "[<TimeSeries (DataArray) (time: 10, component: 1, sample: 1)> Size: 40B\n",
       " array([[[-2.114943 ]],\n",
       " \n",
       "        [[-1.5462902]],\n",
       " \n",
       "        [[-2.2913358]],\n",
       " \n",
       "        [[-2.0579665]],\n",
       " \n",
       "        [[-2.686432 ]],\n",
       " \n",
       "        [[-2.4956915]],\n",
       " \n",
       "        [[-2.6606524]],\n",
       " \n",
       "        [[-2.825928 ]],\n",
       " \n",
       "        [[-2.5841327]],\n",
       " \n",
       "        [[-2.8603108]]], dtype=float32)\n",
       " Coordinates:\n",
       "   * time       (time) datetime64[ns] 80B 2023-01-01 2023-01-02 ... 2023-01-10\n",
       "   * component  (component) object 8B 'random_walk'\n",
       " Dimensions without coordinates: sample\n",
       " Attributes:\n",
       "     static_covariates:  None\n",
       "     hierarchy:          None,\n",
       " <TimeSeries (DataArray) (time: 10, component: 1, sample: 1)> Size: 40B\n",
       " array([[[-2.114943 ]],\n",
       " \n",
       "        [[-1.5462902]],\n",
       " \n",
       "        [[-2.2913358]],\n",
       " \n",
       "        [[-2.0579665]],\n",
       " \n",
       "        [[-2.686432 ]],\n",
       " \n",
       "        [[-2.4956915]],\n",
       " \n",
       "        [[-2.6606524]],\n",
       " \n",
       "        [[-2.825928 ]],\n",
       " \n",
       "        [[-2.5841327]],\n",
       " \n",
       "        [[-2.8603108]]], dtype=float32)\n",
       " Coordinates:\n",
       "   * time       (time) datetime64[ns] 80B 2023-01-01 2023-01-02 ... 2023-01-10\n",
       "   * component  (component) object 8B 'random_walk'\n",
       " Dimensions without coordinates: sample\n",
       " Attributes:\n",
       "     static_covariates:  None\n",
       "     hierarchy:          None,\n",
       " <TimeSeries (DataArray) (time: 10, component: 1, sample: 1)> Size: 40B\n",
       " array([[[-2.114943 ]],\n",
       " \n",
       "        [[-1.5462902]],\n",
       " \n",
       "        [[-2.2913358]],\n",
       " \n",
       "        [[-2.0579665]],\n",
       " \n",
       "        [[-2.686432 ]],\n",
       " \n",
       "        [[-2.4956915]],\n",
       " \n",
       "        [[-2.6606524]],\n",
       " \n",
       "        [[-2.825928 ]],\n",
       " \n",
       "        [[-2.5841327]],\n",
       " \n",
       "        [[-2.8603108]]], dtype=float32)\n",
       " Coordinates:\n",
       "   * time       (time) datetime64[ns] 80B 2023-01-01 2023-01-02 ... 2023-01-10\n",
       "   * component  (component) object 8B 'random_walk'\n",
       " Dimensions without coordinates: sample\n",
       " Attributes:\n",
       "     static_covariates:  None\n",
       "     hierarchy:          None]"
      ]
     },
     "execution_count": 30,
     "metadata": {},
     "output_type": "execute_result"
    }
   ],
   "source": [
    "# on a new single series\n",
    "model.predict(n=10, ts=new_ts)\n",
    "# on many series\n",
    "model.predict(n=10, ts=[new_ts]*3)"
   ]
  },
  {
   "cell_type": "code",
   "execution_count": 31,
   "id": "dc5901f7",
   "metadata": {},
   "outputs": [],
   "source": [
    "darts_pred = darts_pred.rename({'random_walk': 'darts prediction'}) # for plotting"
   ]
  },
  {
   "cell_type": "markdown",
   "id": "2534d1df-b474-4b09-a471-a66cfa211880",
   "metadata": {
    "papermill": {
     "duration": 0.003354,
     "end_time": "2024-01-31T17:50:11.980851",
     "exception": false,
     "start_time": "2024-01-31T17:50:11.977497",
     "status": "completed"
    },
    "tags": []
   },
   "source": [
    "## Using a Scikit-learn API compatible model"
   ]
  },
  {
   "cell_type": "code",
   "execution_count": 32,
   "id": "d6546388",
   "metadata": {},
   "outputs": [],
   "source": [
    "from sklearn.neural_network import MLPRegressor"
   ]
  },
  {
   "cell_type": "code",
   "execution_count": 33,
   "id": "f712c297-579a-4ede-88a6-198ed7b17ca0",
   "metadata": {
    "ExecuteTime": {
     "end_time": "2023-11-20T17:42:14.996697600Z",
     "start_time": "2023-11-20T17:42:14.243220Z"
    },
    "execution": {
     "iopub.execute_input": "2024-01-31T17:50:12.001738Z",
     "iopub.status.busy": "2024-01-31T17:50:12.001621Z",
     "iopub.status.idle": "2024-01-31T17:50:12.296382Z",
     "shell.execute_reply": "2024-01-31T17:50:12.292440Z"
    },
    "papermill": {
     "duration": 0.303338,
     "end_time": "2024-01-31T17:50:12.299191",
     "exception": false,
     "start_time": "2024-01-31T17:50:11.995853",
     "status": "completed"
    },
    "tags": []
   },
   "outputs": [
    {
     "name": "stderr",
     "output_type": "stream",
     "text": [
      "/home/benjy/projects_dev/ontime/.venv/lib/python3.10/site-packages/sklearn/neural_network/_multilayer_perceptron.py:691: ConvergenceWarning: Stochastic Optimizer: Maximum iterations (200) reached and the optimization hasn't converged yet.\n",
      "  warnings.warn(\n"
     ]
    }
   ],
   "source": [
    "model = on.Model(MLPRegressor(),\n",
    "                 lags=30)\n",
    "model.fit(ts)\n",
    "sk_pred = model.predict(10)\n",
    "sk_pred = sk_pred.rename({'pred': 'sklearn prediction'})"
   ]
  },
  {
   "cell_type": "code",
   "execution_count": 34,
   "id": "2bb7fe33",
   "metadata": {},
   "outputs": [
    {
     "data": {
      "text/html": [
       "<div><svg style=\"position: absolute; width: 0; height: 0; overflow: hidden\">\n",
       "<defs>\n",
       "<symbol id=\"icon-database\" viewBox=\"0 0 32 32\">\n",
       "<path d=\"M16 0c-8.837 0-16 2.239-16 5v4c0 2.761 7.163 5 16 5s16-2.239 16-5v-4c0-2.761-7.163-5-16-5z\"></path>\n",
       "<path d=\"M16 17c-8.837 0-16-2.239-16-5v6c0 2.761 7.163 5 16 5s16-2.239 16-5v-6c0 2.761-7.163 5-16 5z\"></path>\n",
       "<path d=\"M16 26c-8.837 0-16-2.239-16-5v6c0 2.761 7.163 5 16 5s16-2.239 16-5v-6c0 2.761-7.163 5-16 5z\"></path>\n",
       "</symbol>\n",
       "<symbol id=\"icon-file-text2\" viewBox=\"0 0 32 32\">\n",
       "<path d=\"M28.681 7.159c-0.694-0.947-1.662-2.053-2.724-3.116s-2.169-2.030-3.116-2.724c-1.612-1.182-2.393-1.319-2.841-1.319h-15.5c-1.378 0-2.5 1.121-2.5 2.5v27c0 1.378 1.122 2.5 2.5 2.5h23c1.378 0 2.5-1.122 2.5-2.5v-19.5c0-0.448-0.137-1.23-1.319-2.841zM24.543 5.457c0.959 0.959 1.712 1.825 2.268 2.543h-4.811v-4.811c0.718 0.556 1.584 1.309 2.543 2.268zM28 29.5c0 0.271-0.229 0.5-0.5 0.5h-23c-0.271 0-0.5-0.229-0.5-0.5v-27c0-0.271 0.229-0.5 0.5-0.5 0 0 15.499-0 15.5 0v7c0 0.552 0.448 1 1 1h7v19.5z\"></path>\n",
       "<path d=\"M23 26h-14c-0.552 0-1-0.448-1-1s0.448-1 1-1h14c0.552 0 1 0.448 1 1s-0.448 1-1 1z\"></path>\n",
       "<path d=\"M23 22h-14c-0.552 0-1-0.448-1-1s0.448-1 1-1h14c0.552 0 1 0.448 1 1s-0.448 1-1 1z\"></path>\n",
       "<path d=\"M23 18h-14c-0.552 0-1-0.448-1-1s0.448-1 1-1h14c0.552 0 1 0.448 1 1s-0.448 1-1 1z\"></path>\n",
       "</symbol>\n",
       "</defs>\n",
       "</svg>\n",
       "<style>/* CSS stylesheet for displaying xarray objects in jupyterlab.\n",
       " *\n",
       " */\n",
       "\n",
       ":root {\n",
       "  --xr-font-color0: var(--jp-content-font-color0, rgba(0, 0, 0, 1));\n",
       "  --xr-font-color2: var(--jp-content-font-color2, rgba(0, 0, 0, 0.54));\n",
       "  --xr-font-color3: var(--jp-content-font-color3, rgba(0, 0, 0, 0.38));\n",
       "  --xr-border-color: var(--jp-border-color2, #e0e0e0);\n",
       "  --xr-disabled-color: var(--jp-layout-color3, #bdbdbd);\n",
       "  --xr-background-color: var(--jp-layout-color0, white);\n",
       "  --xr-background-color-row-even: var(--jp-layout-color1, white);\n",
       "  --xr-background-color-row-odd: var(--jp-layout-color2, #eeeeee);\n",
       "}\n",
       "\n",
       "html[theme=\"dark\"],\n",
       "html[data-theme=\"dark\"],\n",
       "body[data-theme=\"dark\"],\n",
       "body.vscode-dark {\n",
       "  --xr-font-color0: rgba(255, 255, 255, 1);\n",
       "  --xr-font-color2: rgba(255, 255, 255, 0.54);\n",
       "  --xr-font-color3: rgba(255, 255, 255, 0.38);\n",
       "  --xr-border-color: #1f1f1f;\n",
       "  --xr-disabled-color: #515151;\n",
       "  --xr-background-color: #111111;\n",
       "  --xr-background-color-row-even: #111111;\n",
       "  --xr-background-color-row-odd: #313131;\n",
       "}\n",
       "\n",
       ".xr-wrap {\n",
       "  display: block !important;\n",
       "  min-width: 300px;\n",
       "  max-width: 700px;\n",
       "}\n",
       "\n",
       ".xr-text-repr-fallback {\n",
       "  /* fallback to plain text repr when CSS is not injected (untrusted notebook) */\n",
       "  display: none;\n",
       "}\n",
       "\n",
       ".xr-header {\n",
       "  padding-top: 6px;\n",
       "  padding-bottom: 6px;\n",
       "  margin-bottom: 4px;\n",
       "  border-bottom: solid 1px var(--xr-border-color);\n",
       "}\n",
       "\n",
       ".xr-header > div,\n",
       ".xr-header > ul {\n",
       "  display: inline;\n",
       "  margin-top: 0;\n",
       "  margin-bottom: 0;\n",
       "}\n",
       "\n",
       ".xr-obj-type,\n",
       ".xr-array-name {\n",
       "  margin-left: 2px;\n",
       "  margin-right: 10px;\n",
       "}\n",
       "\n",
       ".xr-obj-type {\n",
       "  color: var(--xr-font-color2);\n",
       "}\n",
       "\n",
       ".xr-sections {\n",
       "  padding-left: 0 !important;\n",
       "  display: grid;\n",
       "  grid-template-columns: 150px auto auto 1fr 0 20px 0 20px;\n",
       "}\n",
       "\n",
       ".xr-section-item {\n",
       "  display: contents;\n",
       "}\n",
       "\n",
       ".xr-section-item input {\n",
       "  display: inline-block;\n",
       "  opacity: 0;\n",
       "  height: 0;\n",
       "}\n",
       "\n",
       ".xr-section-item input + label {\n",
       "  color: var(--xr-disabled-color);\n",
       "}\n",
       "\n",
       ".xr-section-item input:enabled + label {\n",
       "  cursor: pointer;\n",
       "  color: var(--xr-font-color2);\n",
       "}\n",
       "\n",
       ".xr-section-item input:focus + label {\n",
       "  border: 2px solid var(--xr-font-color0);\n",
       "}\n",
       "\n",
       ".xr-section-item input:enabled + label:hover {\n",
       "  color: var(--xr-font-color0);\n",
       "}\n",
       "\n",
       ".xr-section-summary {\n",
       "  grid-column: 1;\n",
       "  color: var(--xr-font-color2);\n",
       "  font-weight: 500;\n",
       "}\n",
       "\n",
       ".xr-section-summary > span {\n",
       "  display: inline-block;\n",
       "  padding-left: 0.5em;\n",
       "}\n",
       "\n",
       ".xr-section-summary-in:disabled + label {\n",
       "  color: var(--xr-font-color2);\n",
       "}\n",
       "\n",
       ".xr-section-summary-in + label:before {\n",
       "  display: inline-block;\n",
       "  content: \"►\";\n",
       "  font-size: 11px;\n",
       "  width: 15px;\n",
       "  text-align: center;\n",
       "}\n",
       "\n",
       ".xr-section-summary-in:disabled + label:before {\n",
       "  color: var(--xr-disabled-color);\n",
       "}\n",
       "\n",
       ".xr-section-summary-in:checked + label:before {\n",
       "  content: \"▼\";\n",
       "}\n",
       "\n",
       ".xr-section-summary-in:checked + label > span {\n",
       "  display: none;\n",
       "}\n",
       "\n",
       ".xr-section-summary,\n",
       ".xr-section-inline-details {\n",
       "  padding-top: 4px;\n",
       "  padding-bottom: 4px;\n",
       "}\n",
       "\n",
       ".xr-section-inline-details {\n",
       "  grid-column: 2 / -1;\n",
       "}\n",
       "\n",
       ".xr-section-details {\n",
       "  display: none;\n",
       "  grid-column: 1 / -1;\n",
       "  margin-bottom: 5px;\n",
       "}\n",
       "\n",
       ".xr-section-summary-in:checked ~ .xr-section-details {\n",
       "  display: contents;\n",
       "}\n",
       "\n",
       ".xr-array-wrap {\n",
       "  grid-column: 1 / -1;\n",
       "  display: grid;\n",
       "  grid-template-columns: 20px auto;\n",
       "}\n",
       "\n",
       ".xr-array-wrap > label {\n",
       "  grid-column: 1;\n",
       "  vertical-align: top;\n",
       "}\n",
       "\n",
       ".xr-preview {\n",
       "  color: var(--xr-font-color3);\n",
       "}\n",
       "\n",
       ".xr-array-preview,\n",
       ".xr-array-data {\n",
       "  padding: 0 5px !important;\n",
       "  grid-column: 2;\n",
       "}\n",
       "\n",
       ".xr-array-data,\n",
       ".xr-array-in:checked ~ .xr-array-preview {\n",
       "  display: none;\n",
       "}\n",
       "\n",
       ".xr-array-in:checked ~ .xr-array-data,\n",
       ".xr-array-preview {\n",
       "  display: inline-block;\n",
       "}\n",
       "\n",
       ".xr-dim-list {\n",
       "  display: inline-block !important;\n",
       "  list-style: none;\n",
       "  padding: 0 !important;\n",
       "  margin: 0;\n",
       "}\n",
       "\n",
       ".xr-dim-list li {\n",
       "  display: inline-block;\n",
       "  padding: 0;\n",
       "  margin: 0;\n",
       "}\n",
       "\n",
       ".xr-dim-list:before {\n",
       "  content: \"(\";\n",
       "}\n",
       "\n",
       ".xr-dim-list:after {\n",
       "  content: \")\";\n",
       "}\n",
       "\n",
       ".xr-dim-list li:not(:last-child):after {\n",
       "  content: \",\";\n",
       "  padding-right: 5px;\n",
       "}\n",
       "\n",
       ".xr-has-index {\n",
       "  font-weight: bold;\n",
       "}\n",
       "\n",
       ".xr-var-list,\n",
       ".xr-var-item {\n",
       "  display: contents;\n",
       "}\n",
       "\n",
       ".xr-var-item > div,\n",
       ".xr-var-item label,\n",
       ".xr-var-item > .xr-var-name span {\n",
       "  background-color: var(--xr-background-color-row-even);\n",
       "  margin-bottom: 0;\n",
       "}\n",
       "\n",
       ".xr-var-item > .xr-var-name:hover span {\n",
       "  padding-right: 5px;\n",
       "}\n",
       "\n",
       ".xr-var-list > li:nth-child(odd) > div,\n",
       ".xr-var-list > li:nth-child(odd) > label,\n",
       ".xr-var-list > li:nth-child(odd) > .xr-var-name span {\n",
       "  background-color: var(--xr-background-color-row-odd);\n",
       "}\n",
       "\n",
       ".xr-var-name {\n",
       "  grid-column: 1;\n",
       "}\n",
       "\n",
       ".xr-var-dims {\n",
       "  grid-column: 2;\n",
       "}\n",
       "\n",
       ".xr-var-dtype {\n",
       "  grid-column: 3;\n",
       "  text-align: right;\n",
       "  color: var(--xr-font-color2);\n",
       "}\n",
       "\n",
       ".xr-var-preview {\n",
       "  grid-column: 4;\n",
       "}\n",
       "\n",
       ".xr-index-preview {\n",
       "  grid-column: 2 / 5;\n",
       "  color: var(--xr-font-color2);\n",
       "}\n",
       "\n",
       ".xr-var-name,\n",
       ".xr-var-dims,\n",
       ".xr-var-dtype,\n",
       ".xr-preview,\n",
       ".xr-attrs dt {\n",
       "  white-space: nowrap;\n",
       "  overflow: hidden;\n",
       "  text-overflow: ellipsis;\n",
       "  padding-right: 10px;\n",
       "}\n",
       "\n",
       ".xr-var-name:hover,\n",
       ".xr-var-dims:hover,\n",
       ".xr-var-dtype:hover,\n",
       ".xr-attrs dt:hover {\n",
       "  overflow: visible;\n",
       "  width: auto;\n",
       "  z-index: 1;\n",
       "}\n",
       "\n",
       ".xr-var-attrs,\n",
       ".xr-var-data,\n",
       ".xr-index-data {\n",
       "  display: none;\n",
       "  background-color: var(--xr-background-color) !important;\n",
       "  padding-bottom: 5px !important;\n",
       "}\n",
       "\n",
       ".xr-var-attrs-in:checked ~ .xr-var-attrs,\n",
       ".xr-var-data-in:checked ~ .xr-var-data,\n",
       ".xr-index-data-in:checked ~ .xr-index-data {\n",
       "  display: block;\n",
       "}\n",
       "\n",
       ".xr-var-data > table {\n",
       "  float: right;\n",
       "}\n",
       "\n",
       ".xr-var-name span,\n",
       ".xr-var-data,\n",
       ".xr-index-name div,\n",
       ".xr-index-data,\n",
       ".xr-attrs {\n",
       "  padding-left: 25px !important;\n",
       "}\n",
       "\n",
       ".xr-attrs,\n",
       ".xr-var-attrs,\n",
       ".xr-var-data,\n",
       ".xr-index-data {\n",
       "  grid-column: 1 / -1;\n",
       "}\n",
       "\n",
       "dl.xr-attrs {\n",
       "  padding: 0;\n",
       "  margin: 0;\n",
       "  display: grid;\n",
       "  grid-template-columns: 125px auto;\n",
       "}\n",
       "\n",
       ".xr-attrs dt,\n",
       ".xr-attrs dd {\n",
       "  padding: 0;\n",
       "  margin: 0;\n",
       "  float: left;\n",
       "  padding-right: 10px;\n",
       "  width: auto;\n",
       "}\n",
       "\n",
       ".xr-attrs dt {\n",
       "  font-weight: normal;\n",
       "  grid-column: 1;\n",
       "}\n",
       "\n",
       ".xr-attrs dt:hover span {\n",
       "  display: inline-block;\n",
       "  background: var(--xr-background-color);\n",
       "  padding-right: 10px;\n",
       "}\n",
       "\n",
       ".xr-attrs dd {\n",
       "  grid-column: 2;\n",
       "  white-space: pre-wrap;\n",
       "  word-break: break-all;\n",
       "}\n",
       "\n",
       ".xr-icon-database,\n",
       ".xr-icon-file-text2,\n",
       ".xr-no-icon {\n",
       "  display: inline-block;\n",
       "  vertical-align: middle;\n",
       "  width: 1em;\n",
       "  height: 1.5em !important;\n",
       "  stroke-width: 0;\n",
       "  stroke: currentColor;\n",
       "  fill: currentColor;\n",
       "}\n",
       "</style><pre class='xr-text-repr-fallback'>&lt;TimeSeries (DataArray) (time: 10, component: 1, sample: 1)&gt; Size: 80B\n",
       "array([[[-4.05516413]],\n",
       "\n",
       "       [[-3.97963323]],\n",
       "\n",
       "       [[-4.70101381]],\n",
       "\n",
       "       [[-3.94403114]],\n",
       "\n",
       "       [[-4.5825427 ]],\n",
       "\n",
       "       [[-3.87290451]],\n",
       "\n",
       "       [[-3.84491919]],\n",
       "\n",
       "       [[-3.65995089]],\n",
       "\n",
       "       [[-4.09419224]],\n",
       "\n",
       "       [[-3.7710456 ]]])\n",
       "Coordinates:\n",
       "  * time       (time) datetime64[ns] 80B 2023-01-01 2023-01-02 ... 2023-01-10\n",
       "  * component  (component) object 8B &#x27;pred&#x27;\n",
       "Dimensions without coordinates: sample\n",
       "Attributes:\n",
       "    static_covariates:  None\n",
       "    hierarchy:          None</pre><div class='xr-wrap' style='display:none'><div class='xr-header'><div class='xr-obj-type'>TimeSeries (DataArray)</div><div class='xr-array-name'></div><ul class='xr-dim-list'><li><span class='xr-has-index'>time</span>: 10</li><li><span class='xr-has-index'>component</span>: 1</li><li><span>sample</span>: 1</li></ul></div><ul class='xr-sections'><li class='xr-section-item'><div class='xr-array-wrap'><input id='section-4556b878-97a1-49f3-b4f9-f98843a3a211' class='xr-array-in' type='checkbox' checked><label for='section-4556b878-97a1-49f3-b4f9-f98843a3a211' title='Show/hide data repr'><svg class='icon xr-icon-database'><use xlink:href='#icon-database'></use></svg></label><div class='xr-array-preview xr-preview'><span>-4.055 -3.98 -4.701 -3.944 -4.583 -3.873 -3.845 -3.66 -4.094 -3.771</span></div><div class='xr-array-data'><pre>array([[[-4.05516413]],\n",
       "\n",
       "       [[-3.97963323]],\n",
       "\n",
       "       [[-4.70101381]],\n",
       "\n",
       "       [[-3.94403114]],\n",
       "\n",
       "       [[-4.5825427 ]],\n",
       "\n",
       "       [[-3.87290451]],\n",
       "\n",
       "       [[-3.84491919]],\n",
       "\n",
       "       [[-3.65995089]],\n",
       "\n",
       "       [[-4.09419224]],\n",
       "\n",
       "       [[-3.7710456 ]]])</pre></div></div></li><li class='xr-section-item'><input id='section-ec02d8dd-143e-42ba-821e-75a64459bdd8' class='xr-section-summary-in' type='checkbox'  checked><label for='section-ec02d8dd-143e-42ba-821e-75a64459bdd8' class='xr-section-summary' >Coordinates: <span>(2)</span></label><div class='xr-section-inline-details'></div><div class='xr-section-details'><ul class='xr-var-list'><li class='xr-var-item'><div class='xr-var-name'><span class='xr-has-index'>time</span></div><div class='xr-var-dims'>(time)</div><div class='xr-var-dtype'>datetime64[ns]</div><div class='xr-var-preview xr-preview'>2023-01-01 ... 2023-01-10</div><input id='attrs-298f91d5-ce2a-4260-ac87-571670607668' class='xr-var-attrs-in' type='checkbox' disabled><label for='attrs-298f91d5-ce2a-4260-ac87-571670607668' title='Show/Hide attributes'><svg class='icon xr-icon-file-text2'><use xlink:href='#icon-file-text2'></use></svg></label><input id='data-5398efdb-1314-4d5d-826e-3337eef1d392' class='xr-var-data-in' type='checkbox'><label for='data-5398efdb-1314-4d5d-826e-3337eef1d392' title='Show/Hide data repr'><svg class='icon xr-icon-database'><use xlink:href='#icon-database'></use></svg></label><div class='xr-var-attrs'><dl class='xr-attrs'></dl></div><div class='xr-var-data'><pre>array([&#x27;2023-01-01T00:00:00.000000000&#x27;, &#x27;2023-01-02T00:00:00.000000000&#x27;,\n",
       "       &#x27;2023-01-03T00:00:00.000000000&#x27;, &#x27;2023-01-04T00:00:00.000000000&#x27;,\n",
       "       &#x27;2023-01-05T00:00:00.000000000&#x27;, &#x27;2023-01-06T00:00:00.000000000&#x27;,\n",
       "       &#x27;2023-01-07T00:00:00.000000000&#x27;, &#x27;2023-01-08T00:00:00.000000000&#x27;,\n",
       "       &#x27;2023-01-09T00:00:00.000000000&#x27;, &#x27;2023-01-10T00:00:00.000000000&#x27;],\n",
       "      dtype=&#x27;datetime64[ns]&#x27;)</pre></div></li><li class='xr-var-item'><div class='xr-var-name'><span class='xr-has-index'>component</span></div><div class='xr-var-dims'>(component)</div><div class='xr-var-dtype'>object</div><div class='xr-var-preview xr-preview'>&#x27;pred&#x27;</div><input id='attrs-5a13dc9c-e881-4b25-925e-2e734af88632' class='xr-var-attrs-in' type='checkbox' disabled><label for='attrs-5a13dc9c-e881-4b25-925e-2e734af88632' title='Show/Hide attributes'><svg class='icon xr-icon-file-text2'><use xlink:href='#icon-file-text2'></use></svg></label><input id='data-21c4b2f7-7d36-4641-aac4-1e5c880364e2' class='xr-var-data-in' type='checkbox'><label for='data-21c4b2f7-7d36-4641-aac4-1e5c880364e2' title='Show/Hide data repr'><svg class='icon xr-icon-database'><use xlink:href='#icon-database'></use></svg></label><div class='xr-var-attrs'><dl class='xr-attrs'></dl></div><div class='xr-var-data'><pre>array([&#x27;pred&#x27;], dtype=object)</pre></div></li></ul></div></li><li class='xr-section-item'><input id='section-549e87f4-2b0d-430e-91f0-892e97aa2528' class='xr-section-summary-in' type='checkbox'  ><label for='section-549e87f4-2b0d-430e-91f0-892e97aa2528' class='xr-section-summary' >Indexes: <span>(2)</span></label><div class='xr-section-inline-details'></div><div class='xr-section-details'><ul class='xr-var-list'><li class='xr-var-item'><div class='xr-index-name'><div>time</div></div><div class='xr-index-preview'>PandasIndex</div><input type='checkbox' disabled/><label></label><input id='index-6a4f28df-7132-4c44-86e1-e1ca832dfcac' class='xr-index-data-in' type='checkbox'/><label for='index-6a4f28df-7132-4c44-86e1-e1ca832dfcac' title='Show/Hide index repr'><svg class='icon xr-icon-database'><use xlink:href='#icon-database'></use></svg></label><div class='xr-index-data'><pre>PandasIndex(DatetimeIndex([&#x27;2023-01-01&#x27;, &#x27;2023-01-02&#x27;, &#x27;2023-01-03&#x27;, &#x27;2023-01-04&#x27;,\n",
       "               &#x27;2023-01-05&#x27;, &#x27;2023-01-06&#x27;, &#x27;2023-01-07&#x27;, &#x27;2023-01-08&#x27;,\n",
       "               &#x27;2023-01-09&#x27;, &#x27;2023-01-10&#x27;],\n",
       "              dtype=&#x27;datetime64[ns]&#x27;, name=&#x27;time&#x27;, freq=&#x27;D&#x27;))</pre></div></li><li class='xr-var-item'><div class='xr-index-name'><div>component</div></div><div class='xr-index-preview'>PandasIndex</div><input type='checkbox' disabled/><label></label><input id='index-f0c5c9b9-2aae-4e68-9d6f-c6ae7d1d6322' class='xr-index-data-in' type='checkbox'/><label for='index-f0c5c9b9-2aae-4e68-9d6f-c6ae7d1d6322' title='Show/Hide index repr'><svg class='icon xr-icon-database'><use xlink:href='#icon-database'></use></svg></label><div class='xr-index-data'><pre>PandasIndex(Index([&#x27;pred&#x27;], dtype=&#x27;object&#x27;, name=&#x27;component&#x27;))</pre></div></li></ul></div></li><li class='xr-section-item'><input id='section-d1dca861-a6ed-422a-b0b0-1214cca09b5c' class='xr-section-summary-in' type='checkbox'  checked><label for='section-d1dca861-a6ed-422a-b0b0-1214cca09b5c' class='xr-section-summary' >Attributes: <span>(2)</span></label><div class='xr-section-inline-details'></div><div class='xr-section-details'><dl class='xr-attrs'><dt><span>static_covariates :</span></dt><dd>None</dd><dt><span>hierarchy :</span></dt><dd>None</dd></dl></div></li></ul></div></div>"
      ],
      "text/plain": [
       "<TimeSeries (DataArray) (time: 10, component: 1, sample: 1)> Size: 80B\n",
       "array([[[-4.05516413]],\n",
       "\n",
       "       [[-3.97963323]],\n",
       "\n",
       "       [[-4.70101381]],\n",
       "\n",
       "       [[-3.94403114]],\n",
       "\n",
       "       [[-4.5825427 ]],\n",
       "\n",
       "       [[-3.87290451]],\n",
       "\n",
       "       [[-3.84491919]],\n",
       "\n",
       "       [[-3.65995089]],\n",
       "\n",
       "       [[-4.09419224]],\n",
       "\n",
       "       [[-3.7710456 ]]])\n",
       "Coordinates:\n",
       "  * time       (time) datetime64[ns] 80B 2023-01-01 2023-01-02 ... 2023-01-10\n",
       "  * component  (component) object 8B 'pred'\n",
       "Dimensions without coordinates: sample\n",
       "Attributes:\n",
       "    static_covariates:  None\n",
       "    hierarchy:          None"
      ]
     },
     "execution_count": 34,
     "metadata": {},
     "output_type": "execute_result"
    }
   ],
   "source": [
    "# on a new single series (for now, inference can only be performed on single series)\n",
    "model.predict(n=10, ts=new_ts)"
   ]
  },
  {
   "cell_type": "markdown",
   "id": "0e49d411",
   "metadata": {},
   "source": [
    "## Using a PyTorch model"
   ]
  },
  {
   "cell_type": "markdown",
   "id": "f021503b",
   "metadata": {},
   "source": [
    "You can create and use custom PyTorch models and wrap them in our wrapper. It allows to quickly test its PyTorch model.  \n",
    "For more complex behaviors, you can also create a new Darts model by inheriting one of the existing class in the library. You can find existing model implementations [here](https://github.com/unit8co/darts/tree/master/darts/models/forecasting)."
   ]
  },
  {
   "cell_type": "code",
   "execution_count": 35,
   "id": "7bcdf970",
   "metadata": {},
   "outputs": [],
   "source": [
    "import torch.nn as nn"
   ]
  },
  {
   "cell_type": "code",
   "execution_count": 36,
   "id": "e247d997",
   "metadata": {},
   "outputs": [],
   "source": [
    "class SimpleGRU(nn.Module):\n",
    "    def __init__(self, input_dim=1, hidden_dim=32, output_dim=1, num_layers=1):\n",
    "        super(SimpleGRU, self).__init__()\n",
    "        self.hidden_dim = hidden_dim\n",
    "        self.output_size = output_dim\n",
    "        \n",
    "        self.gru = nn.GRU(input_dim, hidden_dim, num_layers, batch_first=True)\n",
    "        self.fc = nn.Linear(hidden_dim, output_dim)  # Map hidden state to output dimension\n",
    "\n",
    "    def forward(self, x):\n",
    "        # Pass through GRU\n",
    "        out, _ = self.gru(x)\n",
    "        out = self.fc(out)   \n",
    "        out = out[:, -6:, :] # the model output 6 features\n",
    "        return out"
   ]
  },
  {
   "cell_type": "code",
   "execution_count": 37,
   "id": "5831e0b0",
   "metadata": {},
   "outputs": [],
   "source": [
    "model = on.Model(\n",
    "    SimpleGRU,\n",
    "    input_chunk_length=12,\n",
    "    output_chunk_length=6, # should be equal what the output size the model was trained with\n",
    "    num_layers=2,\n",
    "    n_epochs=50,\n",
    "        train_data_module_params={\n",
    "        \"val_split\":0.2\n",
    "    }\n",
    ")"
   ]
  },
  {
   "cell_type": "code",
   "execution_count": 38,
   "id": "43bb5fc7",
   "metadata": {},
   "outputs": [
    {
     "name": "stderr",
     "output_type": "stream",
     "text": [
      "INFO: GPU available: True (cuda), used: True\n",
      "lightning.pytorch.utilities.rank_zero INFO  GPU available: True (cuda), used: True\n",
      "INFO: TPU available: False, using: 0 TPU cores\n",
      "lightning.pytorch.utilities.rank_zero INFO  TPU available: False, using: 0 TPU cores\n",
      "INFO: HPU available: False, using: 0 HPUs\n",
      "lightning.pytorch.utilities.rank_zero INFO  HPU available: False, using: 0 HPUs\n",
      "INFO: LOCAL_RANK: 0 - CUDA_VISIBLE_DEVICES: [0]\n",
      "lightning.pytorch.accelerators.cuda INFO  LOCAL_RANK: 0 - CUDA_VISIBLE_DEVICES: [0]\n",
      "INFO: \n",
      "  | Name    | Type      | Params | Mode \n",
      "----------------------------------------------\n",
      "0 | model   | SimpleGRU | 9.7 K  | train\n",
      "1 | loss_fn | MSELoss   | 0      | eval \n",
      "----------------------------------------------\n",
      "9.7 K     Trainable params\n",
      "0         Non-trainable params\n",
      "9.7 K     Total params\n",
      "0.039     Total estimated model params size (MB)\n",
      "3         Modules in train mode\n",
      "1         Modules in eval mode\n",
      "lightning.pytorch.callbacks.model_summary INFO  \n",
      "  | Name    | Type      | Params | Mode \n",
      "----------------------------------------------\n",
      "0 | model   | SimpleGRU | 9.7 K  | train\n",
      "1 | loss_fn | MSELoss   | 0      | eval \n",
      "----------------------------------------------\n",
      "9.7 K     Trainable params\n",
      "0         Non-trainable params\n",
      "9.7 K     Total params\n",
      "0.039     Total estimated model params size (MB)\n",
      "3         Modules in train mode\n",
      "1         Modules in eval mode\n"
     ]
    },
    {
     "data": {
      "application/vnd.jupyter.widget-view+json": {
       "model_id": "5c907fd97bbf47eda7babf9f8a606fb5",
       "version_major": 2,
       "version_minor": 0
      },
      "text/plain": [
       "Sanity Checking: |          | 0/? [00:00<?, ?it/s]"
      ]
     },
     "metadata": {},
     "output_type": "display_data"
    },
    {
     "name": "stderr",
     "output_type": "stream",
     "text": [
      "/home/benjy/projects_dev/ontime/.venv/lib/python3.10/site-packages/lightning/pytorch/loops/fit_loop.py:298: The number of training batches (9) is smaller than the logging interval Trainer(log_every_n_steps=50). Set a lower value for log_every_n_steps if you want to see logs for the training epoch.\n"
     ]
    },
    {
     "data": {
      "application/vnd.jupyter.widget-view+json": {
       "model_id": "5184826d803e4c76b4797631521e31e3",
       "version_major": 2,
       "version_minor": 0
      },
      "text/plain": [
       "Training: |          | 0/? [00:00<?, ?it/s]"
      ]
     },
     "metadata": {},
     "output_type": "display_data"
    },
    {
     "data": {
      "application/vnd.jupyter.widget-view+json": {
       "model_id": "519ac2bcbc3b474aaabfc4072202f3a7",
       "version_major": 2,
       "version_minor": 0
      },
      "text/plain": [
       "Validation: |          | 0/? [00:00<?, ?it/s]"
      ]
     },
     "metadata": {},
     "output_type": "display_data"
    },
    {
     "data": {
      "application/vnd.jupyter.widget-view+json": {
       "model_id": "b0711aa056104d20b2350f8d883d72f3",
       "version_major": 2,
       "version_minor": 0
      },
      "text/plain": [
       "Validation: |          | 0/? [00:00<?, ?it/s]"
      ]
     },
     "metadata": {},
     "output_type": "display_data"
    },
    {
     "data": {
      "application/vnd.jupyter.widget-view+json": {
       "model_id": "ebec78217c734bffb555ee39b5d8e73a",
       "version_major": 2,
       "version_minor": 0
      },
      "text/plain": [
       "Validation: |          | 0/? [00:00<?, ?it/s]"
      ]
     },
     "metadata": {},
     "output_type": "display_data"
    },
    {
     "data": {
      "application/vnd.jupyter.widget-view+json": {
       "model_id": "500d1c70f64249a09d5c8b4b9684450a",
       "version_major": 2,
       "version_minor": 0
      },
      "text/plain": [
       "Validation: |          | 0/? [00:00<?, ?it/s]"
      ]
     },
     "metadata": {},
     "output_type": "display_data"
    },
    {
     "data": {
      "application/vnd.jupyter.widget-view+json": {
       "model_id": "f33b772bc1b543c3a03c5665990a2540",
       "version_major": 2,
       "version_minor": 0
      },
      "text/plain": [
       "Validation: |          | 0/? [00:00<?, ?it/s]"
      ]
     },
     "metadata": {},
     "output_type": "display_data"
    },
    {
     "data": {
      "application/vnd.jupyter.widget-view+json": {
       "model_id": "d7fedb11664146519d2f48abedd9aa61",
       "version_major": 2,
       "version_minor": 0
      },
      "text/plain": [
       "Validation: |          | 0/? [00:00<?, ?it/s]"
      ]
     },
     "metadata": {},
     "output_type": "display_data"
    },
    {
     "data": {
      "application/vnd.jupyter.widget-view+json": {
       "model_id": "25a4884f2f714c53ac72ea482cf92f26",
       "version_major": 2,
       "version_minor": 0
      },
      "text/plain": [
       "Validation: |          | 0/? [00:00<?, ?it/s]"
      ]
     },
     "metadata": {},
     "output_type": "display_data"
    },
    {
     "data": {
      "application/vnd.jupyter.widget-view+json": {
       "model_id": "6e697cc666e148f394a920a5961b70f3",
       "version_major": 2,
       "version_minor": 0
      },
      "text/plain": [
       "Validation: |          | 0/? [00:00<?, ?it/s]"
      ]
     },
     "metadata": {},
     "output_type": "display_data"
    },
    {
     "data": {
      "application/vnd.jupyter.widget-view+json": {
       "model_id": "3a0d92c2f0f14aff97a6df9a7196d30e",
       "version_major": 2,
       "version_minor": 0
      },
      "text/plain": [
       "Validation: |          | 0/? [00:00<?, ?it/s]"
      ]
     },
     "metadata": {},
     "output_type": "display_data"
    },
    {
     "data": {
      "application/vnd.jupyter.widget-view+json": {
       "model_id": "2c66a5a67d78482e99e245ea6dee7878",
       "version_major": 2,
       "version_minor": 0
      },
      "text/plain": [
       "Validation: |          | 0/? [00:00<?, ?it/s]"
      ]
     },
     "metadata": {},
     "output_type": "display_data"
    },
    {
     "data": {
      "application/vnd.jupyter.widget-view+json": {
       "model_id": "820fdaf6da704f5cbd0f8d50de089ca5",
       "version_major": 2,
       "version_minor": 0
      },
      "text/plain": [
       "Validation: |          | 0/? [00:00<?, ?it/s]"
      ]
     },
     "metadata": {},
     "output_type": "display_data"
    },
    {
     "data": {
      "application/vnd.jupyter.widget-view+json": {
       "model_id": "51992c28627945c4a8f1241a81ed7030",
       "version_major": 2,
       "version_minor": 0
      },
      "text/plain": [
       "Validation: |          | 0/? [00:00<?, ?it/s]"
      ]
     },
     "metadata": {},
     "output_type": "display_data"
    },
    {
     "data": {
      "application/vnd.jupyter.widget-view+json": {
       "model_id": "e2e11b5f397344bba3664c278298213e",
       "version_major": 2,
       "version_minor": 0
      },
      "text/plain": [
       "Validation: |          | 0/? [00:00<?, ?it/s]"
      ]
     },
     "metadata": {},
     "output_type": "display_data"
    },
    {
     "data": {
      "application/vnd.jupyter.widget-view+json": {
       "model_id": "542f9f4275264288af3d42630acafe0a",
       "version_major": 2,
       "version_minor": 0
      },
      "text/plain": [
       "Validation: |          | 0/? [00:00<?, ?it/s]"
      ]
     },
     "metadata": {},
     "output_type": "display_data"
    },
    {
     "data": {
      "application/vnd.jupyter.widget-view+json": {
       "model_id": "874b419828bd48cfbe2a219911187680",
       "version_major": 2,
       "version_minor": 0
      },
      "text/plain": [
       "Validation: |          | 0/? [00:00<?, ?it/s]"
      ]
     },
     "metadata": {},
     "output_type": "display_data"
    },
    {
     "data": {
      "application/vnd.jupyter.widget-view+json": {
       "model_id": "33be819eb8024468a7585489fd4368f5",
       "version_major": 2,
       "version_minor": 0
      },
      "text/plain": [
       "Validation: |          | 0/? [00:00<?, ?it/s]"
      ]
     },
     "metadata": {},
     "output_type": "display_data"
    },
    {
     "data": {
      "application/vnd.jupyter.widget-view+json": {
       "model_id": "f8db6c11a40d42f88eb72eedc6c4af5e",
       "version_major": 2,
       "version_minor": 0
      },
      "text/plain": [
       "Validation: |          | 0/? [00:00<?, ?it/s]"
      ]
     },
     "metadata": {},
     "output_type": "display_data"
    },
    {
     "data": {
      "application/vnd.jupyter.widget-view+json": {
       "model_id": "b0eb727bf4aa494f931c4f9a7cd87309",
       "version_major": 2,
       "version_minor": 0
      },
      "text/plain": [
       "Validation: |          | 0/? [00:00<?, ?it/s]"
      ]
     },
     "metadata": {},
     "output_type": "display_data"
    },
    {
     "data": {
      "application/vnd.jupyter.widget-view+json": {
       "model_id": "83f0c172b2da4b52b3b8ca695f04f6b0",
       "version_major": 2,
       "version_minor": 0
      },
      "text/plain": [
       "Validation: |          | 0/? [00:00<?, ?it/s]"
      ]
     },
     "metadata": {},
     "output_type": "display_data"
    },
    {
     "data": {
      "application/vnd.jupyter.widget-view+json": {
       "model_id": "e78888f411cb4682afbdbd00afd8bee4",
       "version_major": 2,
       "version_minor": 0
      },
      "text/plain": [
       "Validation: |          | 0/? [00:00<?, ?it/s]"
      ]
     },
     "metadata": {},
     "output_type": "display_data"
    },
    {
     "data": {
      "application/vnd.jupyter.widget-view+json": {
       "model_id": "d5fc0cf39ce44d46888d40a59292284f",
       "version_major": 2,
       "version_minor": 0
      },
      "text/plain": [
       "Validation: |          | 0/? [00:00<?, ?it/s]"
      ]
     },
     "metadata": {},
     "output_type": "display_data"
    },
    {
     "data": {
      "application/vnd.jupyter.widget-view+json": {
       "model_id": "cfa7f5c3891445c6998d4208dfffe60b",
       "version_major": 2,
       "version_minor": 0
      },
      "text/plain": [
       "Validation: |          | 0/? [00:00<?, ?it/s]"
      ]
     },
     "metadata": {},
     "output_type": "display_data"
    },
    {
     "data": {
      "application/vnd.jupyter.widget-view+json": {
       "model_id": "a038fc40ada44d06a7b2b2a81bd86d53",
       "version_major": 2,
       "version_minor": 0
      },
      "text/plain": [
       "Validation: |          | 0/? [00:00<?, ?it/s]"
      ]
     },
     "metadata": {},
     "output_type": "display_data"
    },
    {
     "data": {
      "application/vnd.jupyter.widget-view+json": {
       "model_id": "17a4873ef1924c1a84e7e7be6461575e",
       "version_major": 2,
       "version_minor": 0
      },
      "text/plain": [
       "Validation: |          | 0/? [00:00<?, ?it/s]"
      ]
     },
     "metadata": {},
     "output_type": "display_data"
    },
    {
     "data": {
      "application/vnd.jupyter.widget-view+json": {
       "model_id": "7e963fdc2d0a408096e3adbef5b066c4",
       "version_major": 2,
       "version_minor": 0
      },
      "text/plain": [
       "Validation: |          | 0/? [00:00<?, ?it/s]"
      ]
     },
     "metadata": {},
     "output_type": "display_data"
    },
    {
     "data": {
      "application/vnd.jupyter.widget-view+json": {
       "model_id": "db2ca1fcab4e4d3492a3c871d8a292d4",
       "version_major": 2,
       "version_minor": 0
      },
      "text/plain": [
       "Validation: |          | 0/? [00:00<?, ?it/s]"
      ]
     },
     "metadata": {},
     "output_type": "display_data"
    },
    {
     "data": {
      "application/vnd.jupyter.widget-view+json": {
       "model_id": "7d8a2164f7a8486495732bd0ac0ee8c1",
       "version_major": 2,
       "version_minor": 0
      },
      "text/plain": [
       "Validation: |          | 0/? [00:00<?, ?it/s]"
      ]
     },
     "metadata": {},
     "output_type": "display_data"
    },
    {
     "data": {
      "application/vnd.jupyter.widget-view+json": {
       "model_id": "35b685c1958546f4b2366cbafa0e6b35",
       "version_major": 2,
       "version_minor": 0
      },
      "text/plain": [
       "Validation: |          | 0/? [00:00<?, ?it/s]"
      ]
     },
     "metadata": {},
     "output_type": "display_data"
    },
    {
     "data": {
      "application/vnd.jupyter.widget-view+json": {
       "model_id": "da216c5a6fc94fceb6e883b88e7a7e6b",
       "version_major": 2,
       "version_minor": 0
      },
      "text/plain": [
       "Validation: |          | 0/? [00:00<?, ?it/s]"
      ]
     },
     "metadata": {},
     "output_type": "display_data"
    },
    {
     "data": {
      "application/vnd.jupyter.widget-view+json": {
       "model_id": "98aa3ca02c5f4b7786c82cfa7a42800d",
       "version_major": 2,
       "version_minor": 0
      },
      "text/plain": [
       "Validation: |          | 0/? [00:00<?, ?it/s]"
      ]
     },
     "metadata": {},
     "output_type": "display_data"
    },
    {
     "data": {
      "application/vnd.jupyter.widget-view+json": {
       "model_id": "c7e623c3c00b4c3583189a34d03b69e7",
       "version_major": 2,
       "version_minor": 0
      },
      "text/plain": [
       "Validation: |          | 0/? [00:00<?, ?it/s]"
      ]
     },
     "metadata": {},
     "output_type": "display_data"
    },
    {
     "data": {
      "application/vnd.jupyter.widget-view+json": {
       "model_id": "4600a2038f0048609c0c728a37c85f78",
       "version_major": 2,
       "version_minor": 0
      },
      "text/plain": [
       "Validation: |          | 0/? [00:00<?, ?it/s]"
      ]
     },
     "metadata": {},
     "output_type": "display_data"
    },
    {
     "data": {
      "application/vnd.jupyter.widget-view+json": {
       "model_id": "27c9017001184c10b93cc7a3e9f1927e",
       "version_major": 2,
       "version_minor": 0
      },
      "text/plain": [
       "Validation: |          | 0/? [00:00<?, ?it/s]"
      ]
     },
     "metadata": {},
     "output_type": "display_data"
    },
    {
     "data": {
      "application/vnd.jupyter.widget-view+json": {
       "model_id": "37bba888c1b841b58afc1d195889de75",
       "version_major": 2,
       "version_minor": 0
      },
      "text/plain": [
       "Validation: |          | 0/? [00:00<?, ?it/s]"
      ]
     },
     "metadata": {},
     "output_type": "display_data"
    },
    {
     "data": {
      "application/vnd.jupyter.widget-view+json": {
       "model_id": "acdb0d6a1e5943108daf7dc597936f22",
       "version_major": 2,
       "version_minor": 0
      },
      "text/plain": [
       "Validation: |          | 0/? [00:00<?, ?it/s]"
      ]
     },
     "metadata": {},
     "output_type": "display_data"
    },
    {
     "data": {
      "application/vnd.jupyter.widget-view+json": {
       "model_id": "034b444ee7574005a3d4d662569a09e7",
       "version_major": 2,
       "version_minor": 0
      },
      "text/plain": [
       "Validation: |          | 0/? [00:00<?, ?it/s]"
      ]
     },
     "metadata": {},
     "output_type": "display_data"
    },
    {
     "data": {
      "application/vnd.jupyter.widget-view+json": {
       "model_id": "e36c78042a7b406b9ddafa1001e45c86",
       "version_major": 2,
       "version_minor": 0
      },
      "text/plain": [
       "Validation: |          | 0/? [00:00<?, ?it/s]"
      ]
     },
     "metadata": {},
     "output_type": "display_data"
    },
    {
     "data": {
      "application/vnd.jupyter.widget-view+json": {
       "model_id": "4a28cf8413f74a319fe703cba2b7255a",
       "version_major": 2,
       "version_minor": 0
      },
      "text/plain": [
       "Validation: |          | 0/? [00:00<?, ?it/s]"
      ]
     },
     "metadata": {},
     "output_type": "display_data"
    },
    {
     "data": {
      "application/vnd.jupyter.widget-view+json": {
       "model_id": "0ac17c8de87f41ef9022f06563afdcf9",
       "version_major": 2,
       "version_minor": 0
      },
      "text/plain": [
       "Validation: |          | 0/? [00:00<?, ?it/s]"
      ]
     },
     "metadata": {},
     "output_type": "display_data"
    },
    {
     "data": {
      "application/vnd.jupyter.widget-view+json": {
       "model_id": "e7141e44878f47079bffea690f55a854",
       "version_major": 2,
       "version_minor": 0
      },
      "text/plain": [
       "Validation: |          | 0/? [00:00<?, ?it/s]"
      ]
     },
     "metadata": {},
     "output_type": "display_data"
    },
    {
     "data": {
      "application/vnd.jupyter.widget-view+json": {
       "model_id": "3f54340a14f54ae7a1a1bb68af2ad096",
       "version_major": 2,
       "version_minor": 0
      },
      "text/plain": [
       "Validation: |          | 0/? [00:00<?, ?it/s]"
      ]
     },
     "metadata": {},
     "output_type": "display_data"
    },
    {
     "data": {
      "application/vnd.jupyter.widget-view+json": {
       "model_id": "05960620f4e44d7884d09aaba8dde5d2",
       "version_major": 2,
       "version_minor": 0
      },
      "text/plain": [
       "Validation: |          | 0/? [00:00<?, ?it/s]"
      ]
     },
     "metadata": {},
     "output_type": "display_data"
    },
    {
     "data": {
      "application/vnd.jupyter.widget-view+json": {
       "model_id": "82ddd7a04c26402ab61b18972e5a3f6e",
       "version_major": 2,
       "version_minor": 0
      },
      "text/plain": [
       "Validation: |          | 0/? [00:00<?, ?it/s]"
      ]
     },
     "metadata": {},
     "output_type": "display_data"
    },
    {
     "data": {
      "application/vnd.jupyter.widget-view+json": {
       "model_id": "72cdc4ab2e324198b45a28cc6d30c7c3",
       "version_major": 2,
       "version_minor": 0
      },
      "text/plain": [
       "Validation: |          | 0/? [00:00<?, ?it/s]"
      ]
     },
     "metadata": {},
     "output_type": "display_data"
    },
    {
     "data": {
      "application/vnd.jupyter.widget-view+json": {
       "model_id": "2d10517d63d74274b20829353ef8b331",
       "version_major": 2,
       "version_minor": 0
      },
      "text/plain": [
       "Validation: |          | 0/? [00:00<?, ?it/s]"
      ]
     },
     "metadata": {},
     "output_type": "display_data"
    },
    {
     "data": {
      "application/vnd.jupyter.widget-view+json": {
       "model_id": "a6c59d24f7b04357bed993d0dedff43a",
       "version_major": 2,
       "version_minor": 0
      },
      "text/plain": [
       "Validation: |          | 0/? [00:00<?, ?it/s]"
      ]
     },
     "metadata": {},
     "output_type": "display_data"
    },
    {
     "data": {
      "application/vnd.jupyter.widget-view+json": {
       "model_id": "1c9f52f13ac047358f6e4e1ddc5f8bd6",
       "version_major": 2,
       "version_minor": 0
      },
      "text/plain": [
       "Validation: |          | 0/? [00:00<?, ?it/s]"
      ]
     },
     "metadata": {},
     "output_type": "display_data"
    },
    {
     "data": {
      "application/vnd.jupyter.widget-view+json": {
       "model_id": "64f5ffd40f094764af660ee9801c4957",
       "version_major": 2,
       "version_minor": 0
      },
      "text/plain": [
       "Validation: |          | 0/? [00:00<?, ?it/s]"
      ]
     },
     "metadata": {},
     "output_type": "display_data"
    },
    {
     "data": {
      "application/vnd.jupyter.widget-view+json": {
       "model_id": "746bcf55d7e14a33a93be90666d5b2bd",
       "version_major": 2,
       "version_minor": 0
      },
      "text/plain": [
       "Validation: |          | 0/? [00:00<?, ?it/s]"
      ]
     },
     "metadata": {},
     "output_type": "display_data"
    },
    {
     "data": {
      "application/vnd.jupyter.widget-view+json": {
       "model_id": "0d71f6e69df24e9dbc3ec4568ba94112",
       "version_major": 2,
       "version_minor": 0
      },
      "text/plain": [
       "Validation: |          | 0/? [00:00<?, ?it/s]"
      ]
     },
     "metadata": {},
     "output_type": "display_data"
    },
    {
     "name": "stderr",
     "output_type": "stream",
     "text": [
      "INFO: `Trainer.fit` stopped: `max_epochs=50` reached.\n",
      "lightning.pytorch.utilities.rank_zero INFO  `Trainer.fit` stopped: `max_epochs=50` reached.\n"
     ]
    },
    {
     "data": {
      "text/plain": [
       "<ontime.core.modelling.model.Model at 0x7f550b3306a0>"
      ]
     },
     "execution_count": 38,
     "metadata": {},
     "output_type": "execute_result"
    }
   ],
   "source": [
    "model.fit(ts)"
   ]
  },
  {
   "cell_type": "code",
   "execution_count": 39,
   "id": "d06bd5a9",
   "metadata": {},
   "outputs": [
    {
     "name": "stderr",
     "output_type": "stream",
     "text": [
      "/home/benjy/projects_dev/ontime/src/ontime/core/modelling/libs/pytorch/pytorch_forecasting_model.py:83: UserWarning: The requested prediction horizon (n=10) exceeds the model's output_chunk_length (6). The model will use an iterative forecasting approach, which may result in reduced accuracy due to error propagation.\n",
      "  warnings.warn(\n"
     ]
    }
   ],
   "source": [
    "torch_pred = model.predict(10)\n",
    "torch_pred = torch_pred.rename({'0': 'torch prediction'})"
   ]
  },
  {
   "cell_type": "code",
   "execution_count": 40,
   "id": "5e1d3ec9",
   "metadata": {},
   "outputs": [
    {
     "name": "stderr",
     "output_type": "stream",
     "text": [
      "/home/benjy/projects_dev/ontime/src/ontime/core/modelling/libs/pytorch/pytorch_forecasting_model.py:83: UserWarning: The requested prediction horizon (n=10) exceeds the model's output_chunk_length (6). The model will use an iterative forecasting approach, which may result in reduced accuracy due to error propagation.\n",
      "  warnings.warn(\n",
      "/home/benjy/projects_dev/ontime/src/ontime/core/modelling/libs/pytorch/pytorch_forecasting_model.py:83: UserWarning: The requested prediction horizon (n=10) exceeds the model's output_chunk_length (6). The model will use an iterative forecasting approach, which may result in reduced accuracy due to error propagation.\n",
      "  warnings.warn(\n"
     ]
    },
    {
     "data": {
      "text/plain": [
       "[<TimeSeries (DataArray) (time: 10, component: 1, sample: 1)> Size: 40B\n",
       " array([[[-4.725443 ]],\n",
       " \n",
       "        [[-4.798504 ]],\n",
       " \n",
       "        [[-5.324972 ]],\n",
       " \n",
       "        [[-4.3734274]],\n",
       " \n",
       "        [[-4.2623067]],\n",
       " \n",
       "        [[-2.2508237]],\n",
       " \n",
       "        [[-4.0632076]],\n",
       " \n",
       "        [[-4.556101 ]],\n",
       " \n",
       "        [[-4.762821 ]],\n",
       " \n",
       "        [[-4.161046 ]]], dtype=float32)\n",
       " Coordinates:\n",
       "   * time       (time) datetime64[ns] 80B 2023-01-01 2023-01-02 ... 2023-01-10\n",
       "   * component  (component) <U1 4B '0'\n",
       " Dimensions without coordinates: sample\n",
       " Attributes:\n",
       "     static_covariates:  None\n",
       "     hierarchy:          None,\n",
       " <TimeSeries (DataArray) (time: 10, component: 1, sample: 1)> Size: 40B\n",
       " array([[[-4.725443 ]],\n",
       " \n",
       "        [[-4.798504 ]],\n",
       " \n",
       "        [[-5.324972 ]],\n",
       " \n",
       "        [[-4.3734274]],\n",
       " \n",
       "        [[-4.2623067]],\n",
       " \n",
       "        [[-2.2508237]],\n",
       " \n",
       "        [[-4.0632076]],\n",
       " \n",
       "        [[-4.556101 ]],\n",
       " \n",
       "        [[-4.762821 ]],\n",
       " \n",
       "        [[-4.161046 ]]], dtype=float32)\n",
       " Coordinates:\n",
       "   * time       (time) datetime64[ns] 80B 2023-01-01 2023-01-02 ... 2023-01-10\n",
       "   * component  (component) <U1 4B '0'\n",
       " Dimensions without coordinates: sample\n",
       " Attributes:\n",
       "     static_covariates:  None\n",
       "     hierarchy:          None,\n",
       " <TimeSeries (DataArray) (time: 10, component: 1, sample: 1)> Size: 40B\n",
       " array([[[-4.725443 ]],\n",
       " \n",
       "        [[-4.798504 ]],\n",
       " \n",
       "        [[-5.324972 ]],\n",
       " \n",
       "        [[-4.3734274]],\n",
       " \n",
       "        [[-4.2623067]],\n",
       " \n",
       "        [[-2.2508237]],\n",
       " \n",
       "        [[-4.0632076]],\n",
       " \n",
       "        [[-4.556101 ]],\n",
       " \n",
       "        [[-4.762821 ]],\n",
       " \n",
       "        [[-4.161046 ]]], dtype=float32)\n",
       " Coordinates:\n",
       "   * time       (time) datetime64[ns] 80B 2023-01-01 2023-01-02 ... 2023-01-10\n",
       "   * component  (component) <U1 4B '0'\n",
       " Dimensions without coordinates: sample\n",
       " Attributes:\n",
       "     static_covariates:  None\n",
       "     hierarchy:          None]"
      ]
     },
     "execution_count": 40,
     "metadata": {},
     "output_type": "execute_result"
    }
   ],
   "source": [
    "# on a new single series\n",
    "model.predict(n=10, ts=new_ts)\n",
    "# on many series\n",
    "model.predict(n=10, ts=[new_ts]*3)"
   ]
  },
  {
   "cell_type": "markdown",
   "id": "e46354ba",
   "metadata": {},
   "source": [
    "## Comparing predictions"
   ]
  },
  {
   "cell_type": "code",
   "execution_count": 41,
   "id": "80a9433b",
   "metadata": {},
   "outputs": [
    {
     "data": {
      "text/html": [
       "\n",
       "<style>\n",
       "  #altair-viz-2444f6b3006b491d8afba5e617fa386b.vega-embed {\n",
       "    width: 100%;\n",
       "    display: flex;\n",
       "  }\n",
       "\n",
       "  #altair-viz-2444f6b3006b491d8afba5e617fa386b.vega-embed details,\n",
       "  #altair-viz-2444f6b3006b491d8afba5e617fa386b.vega-embed details summary {\n",
       "    position: relative;\n",
       "  }\n",
       "</style>\n",
       "<div id=\"altair-viz-2444f6b3006b491d8afba5e617fa386b\"></div>\n",
       "<script type=\"text/javascript\">\n",
       "  var VEGA_DEBUG = (typeof VEGA_DEBUG == \"undefined\") ? {} : VEGA_DEBUG;\n",
       "  (function(spec, embedOpt){\n",
       "    let outputDiv = document.currentScript.previousElementSibling;\n",
       "    if (outputDiv.id !== \"altair-viz-2444f6b3006b491d8afba5e617fa386b\") {\n",
       "      outputDiv = document.getElementById(\"altair-viz-2444f6b3006b491d8afba5e617fa386b\");\n",
       "    }\n",
       "\n",
       "    const paths = {\n",
       "      \"vega\": \"https://cdn.jsdelivr.net/npm/vega@5?noext\",\n",
       "      \"vega-lib\": \"https://cdn.jsdelivr.net/npm/vega-lib?noext\",\n",
       "      \"vega-lite\": \"https://cdn.jsdelivr.net/npm/vega-lite@5.20.1?noext\",\n",
       "      \"vega-embed\": \"https://cdn.jsdelivr.net/npm/vega-embed@6?noext\",\n",
       "    };\n",
       "\n",
       "    function maybeLoadScript(lib, version) {\n",
       "      var key = `${lib.replace(\"-\", \"\")}_version`;\n",
       "      return (VEGA_DEBUG[key] == version) ?\n",
       "        Promise.resolve(paths[lib]) :\n",
       "        new Promise(function(resolve, reject) {\n",
       "          var s = document.createElement('script');\n",
       "          document.getElementsByTagName(\"head\")[0].appendChild(s);\n",
       "          s.async = true;\n",
       "          s.onload = () => {\n",
       "            VEGA_DEBUG[key] = version;\n",
       "            return resolve(paths[lib]);\n",
       "          };\n",
       "          s.onerror = () => reject(`Error loading script: ${paths[lib]}`);\n",
       "          s.src = paths[lib];\n",
       "        });\n",
       "    }\n",
       "\n",
       "    function showError(err) {\n",
       "      outputDiv.innerHTML = `<div class=\"error\" style=\"color:red;\">${err}</div>`;\n",
       "      throw err;\n",
       "    }\n",
       "\n",
       "    function displayChart(vegaEmbed) {\n",
       "      vegaEmbed(outputDiv, spec, embedOpt)\n",
       "        .catch(err => showError(`Javascript Error: ${err.message}<br>This usually means there's a typo in your chart specification. See the javascript console for the full traceback.`));\n",
       "    }\n",
       "\n",
       "    if(typeof define === \"function\" && define.amd) {\n",
       "      requirejs.config({paths});\n",
       "      let deps = [\"vega-embed\"];\n",
       "      require(deps, displayChart, err => showError(`Error loading script: ${err.message}`));\n",
       "    } else {\n",
       "      maybeLoadScript(\"vega\", \"5\")\n",
       "        .then(() => maybeLoadScript(\"vega-lite\", \"5.20.1\"))\n",
       "        .then(() => maybeLoadScript(\"vega-embed\", \"6\"))\n",
       "        .catch(showError)\n",
       "        .then(() => displayChart(vegaEmbed));\n",
       "    }\n",
       "  })({\"$schema\": \"https://vega.github.io/schema/vega/v5.json\", \"data\": [{\"name\": \"source_0\", \"values\": [{\"time\": \"2022-11-12T00:00:00.000\", \"variable\": \"random_walk\", \"value\": -5.081}, {\"time\": \"2022-11-13T00:00:00.000\", \"variable\": \"random_walk\", \"value\": -5.947}, {\"time\": \"2022-11-14T00:00:00.000\", \"variable\": \"random_walk\", \"value\": -5.48}, {\"time\": \"2022-11-15T00:00:00.000\", \"variable\": \"random_walk\", \"value\": -7.574}, {\"time\": \"2022-11-16T00:00:00.000\", \"variable\": \"random_walk\", \"value\": -6.752}, {\"time\": \"2022-11-17T00:00:00.000\", \"variable\": \"random_walk\", \"value\": -5.971}, {\"time\": \"2022-11-18T00:00:00.000\", \"variable\": \"random_walk\", \"value\": -6.266}, {\"time\": \"2022-11-19T00:00:00.000\", \"variable\": \"random_walk\", \"value\": -4.887}, {\"time\": \"2022-11-20T00:00:00.000\", \"variable\": \"random_walk\", \"value\": -6.584}, {\"time\": \"2022-11-21T00:00:00.000\", \"variable\": \"random_walk\", \"value\": -7.368}, {\"time\": \"2022-11-22T00:00:00.000\", \"variable\": \"random_walk\", \"value\": -7.851}, {\"time\": \"2022-11-23T00:00:00.000\", \"variable\": \"random_walk\", \"value\": -8.663}, {\"time\": \"2022-11-24T00:00:00.000\", \"variable\": \"random_walk\", \"value\": -8.706}, {\"time\": \"2022-11-25T00:00:00.000\", \"variable\": \"random_walk\", \"value\": -9.685}, {\"time\": \"2022-11-26T00:00:00.000\", \"variable\": \"random_walk\", \"value\": -9.457}, {\"time\": \"2022-11-27T00:00:00.000\", \"variable\": \"random_walk\", \"value\": -7.841}, {\"time\": \"2022-11-28T00:00:00.000\", \"variable\": \"random_walk\", \"value\": -8.285}, {\"time\": \"2022-11-29T00:00:00.000\", \"variable\": \"random_walk\", \"value\": -8.974}, {\"time\": \"2022-11-30T00:00:00.000\", \"variable\": \"random_walk\", \"value\": -8.985}, {\"time\": \"2022-12-01T00:00:00.000\", \"variable\": \"random_walk\", \"value\": -9.664}, {\"time\": \"2022-12-02T00:00:00.000\", \"variable\": \"random_walk\", \"value\": -9.211}, {\"time\": \"2022-12-03T00:00:00.000\", \"variable\": \"random_walk\", \"value\": -9.119}, {\"time\": \"2022-12-04T00:00:00.000\", \"variable\": \"random_walk\", \"value\": -8.768}, {\"time\": \"2022-12-05T00:00:00.000\", \"variable\": \"random_walk\", \"value\": -8.609}, {\"time\": \"2022-12-06T00:00:00.000\", \"variable\": \"random_walk\", \"value\": -8.402}, {\"time\": \"2022-12-07T00:00:00.000\", \"variable\": \"random_walk\", \"value\": -8.791}, {\"time\": \"2022-12-08T00:00:00.000\", \"variable\": \"random_walk\", \"value\": -7.85}, {\"time\": \"2022-12-09T00:00:00.000\", \"variable\": \"random_walk\", \"value\": -8.52}, {\"time\": \"2022-12-10T00:00:00.000\", \"variable\": \"random_walk\", \"value\": -8.741}, {\"time\": \"2022-12-11T00:00:00.000\", \"variable\": \"random_walk\", \"value\": -12.134}, {\"time\": \"2022-12-12T00:00:00.000\", \"variable\": \"random_walk\", \"value\": -11.287}, {\"time\": \"2022-12-13T00:00:00.000\", \"variable\": \"random_walk\", \"value\": -9.896}, {\"time\": \"2022-12-14T00:00:00.000\", \"variable\": \"random_walk\", \"value\": -8.645}, {\"time\": \"2022-12-15T00:00:00.000\", \"variable\": \"random_walk\", \"value\": -9.408}, {\"time\": \"2022-12-16T00:00:00.000\", \"variable\": \"random_walk\", \"value\": -10.238}, {\"time\": \"2022-12-17T00:00:00.000\", \"variable\": \"random_walk\", \"value\": -10.104}, {\"time\": \"2022-12-18T00:00:00.000\", \"variable\": \"random_walk\", \"value\": -8.727}, {\"time\": \"2022-12-19T00:00:00.000\", \"variable\": \"random_walk\", \"value\": -7.555}, {\"time\": \"2022-12-20T00:00:00.000\", \"variable\": \"random_walk\", \"value\": -7.412}, {\"time\": \"2022-12-21T00:00:00.000\", \"variable\": \"random_walk\", \"value\": -6.362}, {\"time\": \"2022-12-22T00:00:00.000\", \"variable\": \"random_walk\", \"value\": -5.021}, {\"time\": \"2022-12-23T00:00:00.000\", \"variable\": \"random_walk\", \"value\": -5.415}, {\"time\": \"2022-12-24T00:00:00.000\", \"variable\": \"random_walk\", \"value\": -5.532}, {\"time\": \"2022-12-25T00:00:00.000\", \"variable\": \"random_walk\", \"value\": -4.415}, {\"time\": \"2022-12-26T00:00:00.000\", \"variable\": \"random_walk\", \"value\": -5.696}, {\"time\": \"2022-12-27T00:00:00.000\", \"variable\": \"random_walk\", \"value\": -5.616}, {\"time\": \"2022-12-28T00:00:00.000\", \"variable\": \"random_walk\", \"value\": -7.187}, {\"time\": \"2022-12-29T00:00:00.000\", \"variable\": \"random_walk\", \"value\": -4.929}, {\"time\": \"2022-12-30T00:00:00.000\", \"variable\": \"random_walk\", \"value\": -4.887}, {\"time\": \"2022-12-31T00:00:00.000\", \"variable\": \"random_walk\", \"value\": -2.346}], \"transform\": [{\"type\": \"formula\", \"expr\": \"toDate(datum['time'])\", \"as\": \"time\"}]}, {\"name\": \"source_1\", \"values\": [{\"time\": \"2023-01-01T00:00:00.000\", \"variable\": \"darts prediction\", \"value\": -2.115}, {\"time\": \"2023-01-02T00:00:00.000\", \"variable\": \"darts prediction\", \"value\": -1.546}, {\"time\": \"2023-01-03T00:00:00.000\", \"variable\": \"darts prediction\", \"value\": -2.291}, {\"time\": \"2023-01-04T00:00:00.000\", \"variable\": \"darts prediction\", \"value\": -2.058}, {\"time\": \"2023-01-05T00:00:00.000\", \"variable\": \"darts prediction\", \"value\": -2.686}, {\"time\": \"2023-01-06T00:00:00.000\", \"variable\": \"darts prediction\", \"value\": -2.496}, {\"time\": \"2023-01-07T00:00:00.000\", \"variable\": \"darts prediction\", \"value\": -2.661}, {\"time\": \"2023-01-08T00:00:00.000\", \"variable\": \"darts prediction\", \"value\": -2.826}, {\"time\": \"2023-01-09T00:00:00.000\", \"variable\": \"darts prediction\", \"value\": -2.584}, {\"time\": \"2023-01-10T00:00:00.000\", \"variable\": \"darts prediction\", \"value\": -2.86}], \"transform\": [{\"type\": \"formula\", \"expr\": \"toDate(datum['time'])\", \"as\": \"time\"}]}, {\"name\": \"source_2\", \"values\": [{\"time\": \"2023-01-01T00:00:00.000\", \"variable\": \"sklearn prediction\", \"value\": -4.055164131298625}, {\"time\": \"2023-01-02T00:00:00.000\", \"variable\": \"sklearn prediction\", \"value\": -3.979633231508625}, {\"time\": \"2023-01-03T00:00:00.000\", \"variable\": \"sklearn prediction\", \"value\": -4.701013809740603}, {\"time\": \"2023-01-04T00:00:00.000\", \"variable\": \"sklearn prediction\", \"value\": -3.9440311368013403}, {\"time\": \"2023-01-05T00:00:00.000\", \"variable\": \"sklearn prediction\", \"value\": -4.582542704426259}, {\"time\": \"2023-01-06T00:00:00.000\", \"variable\": \"sklearn prediction\", \"value\": -3.872904514734653}, {\"time\": \"2023-01-07T00:00:00.000\", \"variable\": \"sklearn prediction\", \"value\": -3.844919194161815}, {\"time\": \"2023-01-08T00:00:00.000\", \"variable\": \"sklearn prediction\", \"value\": -3.659950885216355}, {\"time\": \"2023-01-09T00:00:00.000\", \"variable\": \"sklearn prediction\", \"value\": -4.094192238598666}, {\"time\": \"2023-01-10T00:00:00.000\", \"variable\": \"sklearn prediction\", \"value\": -3.771045600902372}], \"transform\": [{\"type\": \"formula\", \"expr\": \"toDate(datum['time'])\", \"as\": \"time\"}]}, {\"name\": \"source_3\", \"values\": [{\"time\": \"2023-01-01T00:00:00.000\", \"variable\": \"torch prediction\", \"value\": -4.725}, {\"time\": \"2023-01-02T00:00:00.000\", \"variable\": \"torch prediction\", \"value\": -4.799}, {\"time\": \"2023-01-03T00:00:00.000\", \"variable\": \"torch prediction\", \"value\": -5.325}, {\"time\": \"2023-01-04T00:00:00.000\", \"variable\": \"torch prediction\", \"value\": -4.373}, {\"time\": \"2023-01-05T00:00:00.000\", \"variable\": \"torch prediction\", \"value\": -4.262}, {\"time\": \"2023-01-06T00:00:00.000\", \"variable\": \"torch prediction\", \"value\": -2.251}, {\"time\": \"2023-01-07T00:00:00.000\", \"variable\": \"torch prediction\", \"value\": -4.063}, {\"time\": \"2023-01-08T00:00:00.000\", \"variable\": \"torch prediction\", \"value\": -4.556}, {\"time\": \"2023-01-09T00:00:00.000\", \"variable\": \"torch prediction\", \"value\": -4.763}, {\"time\": \"2023-01-10T00:00:00.000\", \"variable\": \"torch prediction\", \"value\": -4.161}], \"transform\": [{\"type\": \"formula\", \"expr\": \"toDate(datum['time'])\", \"as\": \"time\"}]}, {\"name\": \"source_0_color_domain_variable_0\", \"values\": [{\"variable\": \"random_walk\"}]}, {\"name\": \"source_1_color_domain_variable_1\", \"values\": [{\"variable\": \"darts prediction\"}]}, {\"name\": \"source_2_color_domain_variable_2\", \"values\": [{\"variable\": \"sklearn prediction\"}]}, {\"name\": \"source_3_color_domain_variable_3\", \"values\": [{\"variable\": \"torch prediction\"}]}], \"marks\": [{\"type\": \"group\", \"name\": \"layer_0_pathgroup\", \"from\": {\"facet\": {\"data\": \"source_0\", \"name\": \"faceted_path_layer_0_main\", \"groupby\": [\"variable\"]}}, \"encode\": {\"update\": {\"width\": {\"field\": {\"signal\": null, \"datum\": null, \"group\": \"width\", \"parent\": null}}, \"height\": {\"field\": {\"signal\": null, \"datum\": null, \"group\": \"height\", \"parent\": null}}}}, \"marks\": [{\"type\": \"line\", \"name\": \"layer_0_marks\", \"from\": {\"data\": \"faceted_path_layer_0_main\"}, \"sort\": {\"field\": \"x\"}, \"encode\": {\"update\": {\"x\": {\"field\": \"time\", \"scale\": \"x\"}, \"y\": {\"field\": \"value\", \"scale\": \"y\"}, \"defined\": {\"signal\": \"isValid(datum[\\\"time\\\"]) && isFinite(+datum[\\\"time\\\"]) && isValid(datum[\\\"value\\\"]) && isFinite(+datum[\\\"value\\\"])\"}, \"stroke\": {\"field\": \"variable\", \"scale\": \"color\"}}}, \"style\": [\"line\"]}]}, {\"type\": \"group\", \"name\": \"layer_1_pathgroup\", \"from\": {\"facet\": {\"data\": \"source_1\", \"name\": \"faceted_path_layer_1_main\", \"groupby\": [\"variable\"]}}, \"encode\": {\"update\": {\"width\": {\"field\": {\"signal\": null, \"datum\": null, \"group\": \"width\", \"parent\": null}}, \"height\": {\"field\": {\"signal\": null, \"datum\": null, \"group\": \"height\", \"parent\": null}}}}, \"marks\": [{\"type\": \"line\", \"name\": \"layer_1_marks\", \"from\": {\"data\": \"faceted_path_layer_1_main\"}, \"sort\": {\"field\": \"x\"}, \"encode\": {\"update\": {\"stroke\": {\"field\": \"variable\", \"scale\": \"color\"}, \"x\": {\"field\": \"time\", \"scale\": \"x\"}, \"y\": {\"field\": \"value\", \"scale\": \"y\"}, \"defined\": {\"signal\": \"isValid(datum[\\\"time\\\"]) && isFinite(+datum[\\\"time\\\"]) && isValid(datum[\\\"value\\\"]) && isFinite(+datum[\\\"value\\\"])\"}}}, \"style\": [\"line\"]}]}, {\"type\": \"group\", \"name\": \"layer_2_pathgroup\", \"from\": {\"facet\": {\"data\": \"source_2\", \"name\": \"faceted_path_layer_2_main\", \"groupby\": [\"variable\"]}}, \"encode\": {\"update\": {\"height\": {\"field\": {\"signal\": null, \"datum\": null, \"group\": \"height\", \"parent\": null}}, \"width\": {\"field\": {\"signal\": null, \"datum\": null, \"group\": \"width\", \"parent\": null}}}}, \"marks\": [{\"type\": \"line\", \"name\": \"layer_2_marks\", \"from\": {\"data\": \"faceted_path_layer_2_main\"}, \"sort\": {\"field\": \"x\"}, \"encode\": {\"update\": {\"x\": {\"field\": \"time\", \"scale\": \"x\"}, \"y\": {\"field\": \"value\", \"scale\": \"y\"}, \"stroke\": {\"field\": \"variable\", \"scale\": \"color\"}, \"defined\": {\"signal\": \"isValid(datum[\\\"time\\\"]) && isFinite(+datum[\\\"time\\\"]) && isValid(datum[\\\"value\\\"]) && isFinite(+datum[\\\"value\\\"])\"}}}, \"style\": [\"line\"]}]}, {\"type\": \"group\", \"name\": \"layer_3_pathgroup\", \"from\": {\"facet\": {\"data\": \"source_3\", \"name\": \"faceted_path_layer_3_main\", \"groupby\": [\"variable\"]}}, \"encode\": {\"update\": {\"height\": {\"field\": {\"signal\": null, \"datum\": null, \"group\": \"height\", \"parent\": null}}, \"width\": {\"field\": {\"signal\": null, \"datum\": null, \"group\": \"width\", \"parent\": null}}}}, \"marks\": [{\"type\": \"line\", \"name\": \"layer_3_marks\", \"from\": {\"data\": \"faceted_path_layer_3_main\"}, \"sort\": {\"field\": \"x\"}, \"encode\": {\"update\": {\"y\": {\"field\": \"value\", \"scale\": \"y\"}, \"defined\": {\"signal\": \"isValid(datum[\\\"time\\\"]) && isFinite(+datum[\\\"time\\\"]) && isValid(datum[\\\"value\\\"]) && isFinite(+datum[\\\"value\\\"])\"}, \"x\": {\"field\": \"time\", \"scale\": \"x\"}, \"stroke\": {\"field\": \"variable\", \"scale\": \"color\"}}}, \"style\": [\"line\"]}]}], \"scales\": [{\"name\": \"x\", \"type\": \"time\", \"domain\": {\"fields\": [{\"data\": \"source_0\", \"field\": \"time\"}, {\"data\": \"source_1\", \"field\": \"time\"}, {\"data\": \"source_2\", \"field\": \"time\"}, {\"data\": \"source_3\", \"field\": \"time\"}]}, \"range\": [0, {\"signal\": \"width\"}]}, {\"name\": \"y\", \"type\": \"linear\", \"domain\": {\"fields\": [{\"data\": \"source_0\", \"field\": \"value\"}, {\"data\": \"source_1\", \"field\": \"value\"}, {\"data\": \"source_2\", \"field\": \"value\"}, {\"data\": \"source_3\", \"field\": \"value\"}]}, \"range\": [{\"signal\": \"height\"}, 0], \"nice\": true, \"zero\": true}, {\"name\": \"color\", \"type\": \"ordinal\", \"domain\": {\"fields\": [{\"data\": \"source_0_color_domain_variable_0\", \"field\": \"variable\"}, {\"data\": \"source_1_color_domain_variable_1\", \"field\": \"variable\"}, {\"data\": \"source_2_color_domain_variable_2\", \"field\": \"variable\"}, {\"data\": \"source_3_color_domain_variable_3\", \"field\": \"variable\"}], \"sort\": true}, \"range\": \"category\"}], \"axes\": [{\"scale\": \"x\", \"grid\": true, \"maxExtent\": 0, \"labels\": false, \"ticks\": false, \"tickCount\": {\"signal\": \"ceil(width/40)\"}, \"gridScale\": \"y\", \"minExtent\": 0, \"domain\": false, \"aria\": false, \"zindex\": 0, \"orient\": \"bottom\"}, {\"scale\": \"y\", \"minExtent\": 0, \"tickCount\": {\"signal\": \"ceil(height/40)\"}, \"zindex\": 0, \"gridScale\": \"x\", \"domain\": false, \"ticks\": false, \"grid\": true, \"labels\": false, \"orient\": \"left\", \"maxExtent\": 0, \"aria\": false}, {\"scale\": \"x\", \"zindex\": 0, \"labelOverlap\": true, \"grid\": false, \"title\": \"time\", \"labelFlush\": true, \"tickCount\": {\"signal\": \"ceil(width/40)\"}, \"orient\": \"bottom\"}, {\"scale\": \"y\", \"title\": \"value\", \"grid\": false, \"tickCount\": {\"signal\": \"ceil(height/40)\"}, \"zindex\": 0, \"orient\": \"left\", \"labelOverlap\": true}], \"style\": \"cell\", \"legends\": [{\"stroke\": \"color\", \"symbolType\": \"stroke\", \"title\": \"variable\"}], \"width\": 600, \"padding\": 5, \"height\": 300, \"background\": \"white\"}, {\"mode\": \"vega\"});\n",
       "</script>"
      ],
      "text/plain": [
       "alt.LayerChart(...)"
      ]
     },
     "execution_count": 41,
     "metadata": {},
     "output_type": "execute_result"
    }
   ],
   "source": [
    "(on.Plot()\n",
    "    .add(on.marks.line, ts[-50:])\n",
    "    .add(on.marks.line, darts_pred)\n",
    "    .add(on.marks.line, sk_pred)\n",
    "    .add(on.marks.line, torch_pred)\n",
    "    .properties(width=600, height=300)\n",
    "    .show()\n",
    ")"
   ]
  }
 ],
 "metadata": {
  "kernelspec": {
   "display_name": ".venv",
   "language": "python",
   "name": "python3"
  },
  "language_info": {
   "codemirror_mode": {
    "name": "ipython",
    "version": 3
   },
   "file_extension": ".py",
   "mimetype": "text/x-python",
   "name": "python",
   "nbconvert_exporter": "python",
   "pygments_lexer": "ipython3",
   "version": "3.10.12"
  },
  "papermill": {
   "default_parameters": {},
   "duration": 21.99495,
   "end_time": "2024-01-31T17:50:16.963941",
   "environment_variables": {},
   "exception": null,
   "input_path": "docs/user_guide/0_core/0.4-modelling.ipynb",
   "output_path": "docs/user_guide/0_core/0.4-modelling.ipynb",
   "parameters": {},
   "start_time": "2024-01-31T17:49:54.968991",
   "version": "2.5.0"
  },
  "widgets": {
   "application/vnd.jupyter.widget-state+json": {
    "state": {
     "007b13deca0141eea670cd4ab30a7a31": {
      "model_module": "@jupyter-widgets/controls",
      "model_module_version": "2.0.0",
      "model_name": "HTMLModel",
      "state": {
       "_dom_classes": [],
       "_model_module": "@jupyter-widgets/controls",
       "_model_module_version": "2.0.0",
       "_model_name": "HTMLModel",
       "_view_count": null,
       "_view_module": "@jupyter-widgets/controls",
       "_view_module_version": "2.0.0",
       "_view_name": "HTMLView",
       "description": "",
       "description_allow_html": false,
       "layout": "IPY_MODEL_ed88472606b046a2b36494edc92d33b7",
       "placeholder": "​",
       "style": "IPY_MODEL_f8ec3a45ffc6465f9937b66c3e97a1c8",
       "tabbable": null,
       "tooltip": null,
       "value": "Predicting DataLoader 0: 100%"
      }
     },
     "00d880c4ff144597ab4f4b27bbd48648": {
      "model_module": "@jupyter-widgets/controls",
      "model_module_version": "2.0.0",
      "model_name": "HTMLStyleModel",
      "state": {
       "_model_module": "@jupyter-widgets/controls",
       "_model_module_version": "2.0.0",
       "_model_name": "HTMLStyleModel",
       "_view_count": null,
       "_view_module": "@jupyter-widgets/base",
       "_view_module_version": "2.0.0",
       "_view_name": "StyleView",
       "background": null,
       "description_width": "",
       "font_size": null,
       "text_color": null
      }
     },
     "266c614cf97a4643a449978ab6c20ef8": {
      "model_module": "@jupyter-widgets/controls",
      "model_module_version": "2.0.0",
      "model_name": "HTMLStyleModel",
      "state": {
       "_model_module": "@jupyter-widgets/controls",
       "_model_module_version": "2.0.0",
       "_model_name": "HTMLStyleModel",
       "_view_count": null,
       "_view_module": "@jupyter-widgets/base",
       "_view_module_version": "2.0.0",
       "_view_name": "StyleView",
       "background": null,
       "description_width": "",
       "font_size": null,
       "text_color": null
      }
     },
     "287802ce0cd2419aa600f096393748c5": {
      "model_module": "@jupyter-widgets/base",
      "model_module_version": "2.0.0",
      "model_name": "LayoutModel",
      "state": {
       "_model_module": "@jupyter-widgets/base",
       "_model_module_version": "2.0.0",
       "_model_name": "LayoutModel",
       "_view_count": null,
       "_view_module": "@jupyter-widgets/base",
       "_view_module_version": "2.0.0",
       "_view_name": "LayoutView",
       "align_content": null,
       "align_items": null,
       "align_self": null,
       "border_bottom": null,
       "border_left": null,
       "border_right": null,
       "border_top": null,
       "bottom": null,
       "display": null,
       "flex": null,
       "flex_flow": null,
       "grid_area": null,
       "grid_auto_columns": null,
       "grid_auto_flow": null,
       "grid_auto_rows": null,
       "grid_column": null,
       "grid_gap": null,
       "grid_row": null,
       "grid_template_areas": null,
       "grid_template_columns": null,
       "grid_template_rows": null,
       "height": null,
       "justify_content": null,
       "justify_items": null,
       "left": null,
       "margin": null,
       "max_height": null,
       "max_width": null,
       "min_height": null,
       "min_width": null,
       "object_fit": null,
       "object_position": null,
       "order": null,
       "overflow": null,
       "padding": null,
       "right": null,
       "top": null,
       "visibility": null,
       "width": null
      }
     },
     "36e47658259148c8846687a980950ef1": {
      "model_module": "@jupyter-widgets/base",
      "model_module_version": "2.0.0",
      "model_name": "LayoutModel",
      "state": {
       "_model_module": "@jupyter-widgets/base",
       "_model_module_version": "2.0.0",
       "_model_name": "LayoutModel",
       "_view_count": null,
       "_view_module": "@jupyter-widgets/base",
       "_view_module_version": "2.0.0",
       "_view_name": "LayoutView",
       "align_content": null,
       "align_items": null,
       "align_self": null,
       "border_bottom": null,
       "border_left": null,
       "border_right": null,
       "border_top": null,
       "bottom": null,
       "display": "inline-flex",
       "flex": null,
       "flex_flow": "row wrap",
       "grid_area": null,
       "grid_auto_columns": null,
       "grid_auto_flow": null,
       "grid_auto_rows": null,
       "grid_column": null,
       "grid_gap": null,
       "grid_row": null,
       "grid_template_areas": null,
       "grid_template_columns": null,
       "grid_template_rows": null,
       "height": null,
       "justify_content": null,
       "justify_items": null,
       "left": null,
       "margin": null,
       "max_height": null,
       "max_width": null,
       "min_height": null,
       "min_width": null,
       "object_fit": null,
       "object_position": null,
       "order": null,
       "overflow": null,
       "padding": null,
       "right": null,
       "top": null,
       "visibility": null,
       "width": "100%"
      }
     },
     "48e94174d3e7426386fc77689882565f": {
      "model_module": "@jupyter-widgets/controls",
      "model_module_version": "2.0.0",
      "model_name": "HTMLModel",
      "state": {
       "_dom_classes": [],
       "_model_module": "@jupyter-widgets/controls",
       "_model_module_version": "2.0.0",
       "_model_name": "HTMLModel",
       "_view_count": null,
       "_view_module": "@jupyter-widgets/controls",
       "_view_module_version": "2.0.0",
       "_view_name": "HTMLView",
       "description": "",
       "description_allow_html": false,
       "layout": "IPY_MODEL_287802ce0cd2419aa600f096393748c5",
       "placeholder": "​",
       "style": "IPY_MODEL_00d880c4ff144597ab4f4b27bbd48648",
       "tabbable": null,
       "tooltip": null,
       "value": " 11/11 [00:00&lt;00:00, 49.70it/s, train_loss=83.30]"
      }
     },
     "4af28ba7da104f918f509ce58d6af332": {
      "model_module": "@jupyter-widgets/controls",
      "model_module_version": "2.0.0",
      "model_name": "HTMLModel",
      "state": {
       "_dom_classes": [],
       "_model_module": "@jupyter-widgets/controls",
       "_model_module_version": "2.0.0",
       "_model_name": "HTMLModel",
       "_view_count": null,
       "_view_module": "@jupyter-widgets/controls",
       "_view_module_version": "2.0.0",
       "_view_name": "HTMLView",
       "description": "",
       "description_allow_html": false,
       "layout": "IPY_MODEL_a87b4923c6ec401384788598f2614110",
       "placeholder": "​",
       "style": "IPY_MODEL_aa7abb12d08c4cc1bf75c5fccb0aef2a",
       "tabbable": null,
       "tooltip": null,
       "value": "Epoch 49: 100%"
      }
     },
     "566a752cee3b4c1ab6e8072032b93dd3": {
      "model_module": "@jupyter-widgets/base",
      "model_module_version": "2.0.0",
      "model_name": "LayoutModel",
      "state": {
       "_model_module": "@jupyter-widgets/base",
       "_model_module_version": "2.0.0",
       "_model_name": "LayoutModel",
       "_view_count": null,
       "_view_module": "@jupyter-widgets/base",
       "_view_module_version": "2.0.0",
       "_view_name": "LayoutView",
       "align_content": null,
       "align_items": null,
       "align_self": null,
       "border_bottom": null,
       "border_left": null,
       "border_right": null,
       "border_top": null,
       "bottom": null,
       "display": "inline-flex",
       "flex": null,
       "flex_flow": "row wrap",
       "grid_area": null,
       "grid_auto_columns": null,
       "grid_auto_flow": null,
       "grid_auto_rows": null,
       "grid_column": null,
       "grid_gap": null,
       "grid_row": null,
       "grid_template_areas": null,
       "grid_template_columns": null,
       "grid_template_rows": null,
       "height": null,
       "justify_content": null,
       "justify_items": null,
       "left": null,
       "margin": null,
       "max_height": null,
       "max_width": null,
       "min_height": null,
       "min_width": null,
       "object_fit": null,
       "object_position": null,
       "order": null,
       "overflow": null,
       "padding": null,
       "right": null,
       "top": null,
       "visibility": null,
       "width": "100%"
      }
     },
     "5b0796a9c0bc496a9c5ce424fc19b4ec": {
      "model_module": "@jupyter-widgets/controls",
      "model_module_version": "2.0.0",
      "model_name": "FloatProgressModel",
      "state": {
       "_dom_classes": [],
       "_model_module": "@jupyter-widgets/controls",
       "_model_module_version": "2.0.0",
       "_model_name": "FloatProgressModel",
       "_view_count": null,
       "_view_module": "@jupyter-widgets/controls",
       "_view_module_version": "2.0.0",
       "_view_name": "ProgressView",
       "bar_style": "success",
       "description": "",
       "description_allow_html": false,
       "layout": "IPY_MODEL_f5e873e0e63843b2a289152d45ce8663",
       "max": 11,
       "min": 0,
       "orientation": "horizontal",
       "style": "IPY_MODEL_8bb217768a424ceaa3660e34622eef03",
       "tabbable": null,
       "tooltip": null,
       "value": 11
      }
     },
     "8bb217768a424ceaa3660e34622eef03": {
      "model_module": "@jupyter-widgets/controls",
      "model_module_version": "2.0.0",
      "model_name": "ProgressStyleModel",
      "state": {
       "_model_module": "@jupyter-widgets/controls",
       "_model_module_version": "2.0.0",
       "_model_name": "ProgressStyleModel",
       "_view_count": null,
       "_view_module": "@jupyter-widgets/base",
       "_view_module_version": "2.0.0",
       "_view_name": "StyleView",
       "bar_color": null,
       "description_width": ""
      }
     },
     "987b2456fb024e03a47f5e9e608c4f87": {
      "model_module": "@jupyter-widgets/controls",
      "model_module_version": "2.0.0",
      "model_name": "HTMLModel",
      "state": {
       "_dom_classes": [],
       "_model_module": "@jupyter-widgets/controls",
       "_model_module_version": "2.0.0",
       "_model_name": "HTMLModel",
       "_view_count": null,
       "_view_module": "@jupyter-widgets/controls",
       "_view_module_version": "2.0.0",
       "_view_name": "HTMLView",
       "description": "",
       "description_allow_html": false,
       "layout": "IPY_MODEL_eba6b511c3f34cf88f94aa99df7986df",
       "placeholder": "​",
       "style": "IPY_MODEL_266c614cf97a4643a449978ab6c20ef8",
       "tabbable": null,
       "tooltip": null,
       "value": " 1/1 [00:00&lt;00:00,  3.03it/s]"
      }
     },
     "a07b01c878ca4d74b4c89fd137ff29a0": {
      "model_module": "@jupyter-widgets/controls",
      "model_module_version": "2.0.0",
      "model_name": "HBoxModel",
      "state": {
       "_dom_classes": [],
       "_model_module": "@jupyter-widgets/controls",
       "_model_module_version": "2.0.0",
       "_model_name": "HBoxModel",
       "_view_count": null,
       "_view_module": "@jupyter-widgets/controls",
       "_view_module_version": "2.0.0",
       "_view_name": "HBoxView",
       "box_style": "",
       "children": [
        "IPY_MODEL_4af28ba7da104f918f509ce58d6af332",
        "IPY_MODEL_5b0796a9c0bc496a9c5ce424fc19b4ec",
        "IPY_MODEL_48e94174d3e7426386fc77689882565f"
       ],
       "layout": "IPY_MODEL_566a752cee3b4c1ab6e8072032b93dd3",
       "tabbable": null,
       "tooltip": null
      }
     },
     "a511eb5708d6401fa2ba0f969235c16f": {
      "model_module": "@jupyter-widgets/controls",
      "model_module_version": "2.0.0",
      "model_name": "HBoxModel",
      "state": {
       "_dom_classes": [],
       "_model_module": "@jupyter-widgets/controls",
       "_model_module_version": "2.0.0",
       "_model_name": "HBoxModel",
       "_view_count": null,
       "_view_module": "@jupyter-widgets/controls",
       "_view_module_version": "2.0.0",
       "_view_name": "HBoxView",
       "box_style": "",
       "children": [
        "IPY_MODEL_007b13deca0141eea670cd4ab30a7a31",
        "IPY_MODEL_eb65e8a306c84558b3734fc937e95a2a",
        "IPY_MODEL_987b2456fb024e03a47f5e9e608c4f87"
       ],
       "layout": "IPY_MODEL_36e47658259148c8846687a980950ef1",
       "tabbable": null,
       "tooltip": null
      }
     },
     "a87b4923c6ec401384788598f2614110": {
      "model_module": "@jupyter-widgets/base",
      "model_module_version": "2.0.0",
      "model_name": "LayoutModel",
      "state": {
       "_model_module": "@jupyter-widgets/base",
       "_model_module_version": "2.0.0",
       "_model_name": "LayoutModel",
       "_view_count": null,
       "_view_module": "@jupyter-widgets/base",
       "_view_module_version": "2.0.0",
       "_view_name": "LayoutView",
       "align_content": null,
       "align_items": null,
       "align_self": null,
       "border_bottom": null,
       "border_left": null,
       "border_right": null,
       "border_top": null,
       "bottom": null,
       "display": null,
       "flex": null,
       "flex_flow": null,
       "grid_area": null,
       "grid_auto_columns": null,
       "grid_auto_flow": null,
       "grid_auto_rows": null,
       "grid_column": null,
       "grid_gap": null,
       "grid_row": null,
       "grid_template_areas": null,
       "grid_template_columns": null,
       "grid_template_rows": null,
       "height": null,
       "justify_content": null,
       "justify_items": null,
       "left": null,
       "margin": null,
       "max_height": null,
       "max_width": null,
       "min_height": null,
       "min_width": null,
       "object_fit": null,
       "object_position": null,
       "order": null,
       "overflow": null,
       "padding": null,
       "right": null,
       "top": null,
       "visibility": null,
       "width": null
      }
     },
     "aa7abb12d08c4cc1bf75c5fccb0aef2a": {
      "model_module": "@jupyter-widgets/controls",
      "model_module_version": "2.0.0",
      "model_name": "HTMLStyleModel",
      "state": {
       "_model_module": "@jupyter-widgets/controls",
       "_model_module_version": "2.0.0",
       "_model_name": "HTMLStyleModel",
       "_view_count": null,
       "_view_module": "@jupyter-widgets/base",
       "_view_module_version": "2.0.0",
       "_view_name": "StyleView",
       "background": null,
       "description_width": "",
       "font_size": null,
       "text_color": null
      }
     },
     "af7d5cc036b04255b90a4900e9bab6cf": {
      "model_module": "@jupyter-widgets/controls",
      "model_module_version": "2.0.0",
      "model_name": "ProgressStyleModel",
      "state": {
       "_model_module": "@jupyter-widgets/controls",
       "_model_module_version": "2.0.0",
       "_model_name": "ProgressStyleModel",
       "_view_count": null,
       "_view_module": "@jupyter-widgets/base",
       "_view_module_version": "2.0.0",
       "_view_name": "StyleView",
       "bar_color": null,
       "description_width": ""
      }
     },
     "bb81cd5776644f20a4d095f06bd4786f": {
      "model_module": "@jupyter-widgets/base",
      "model_module_version": "2.0.0",
      "model_name": "LayoutModel",
      "state": {
       "_model_module": "@jupyter-widgets/base",
       "_model_module_version": "2.0.0",
       "_model_name": "LayoutModel",
       "_view_count": null,
       "_view_module": "@jupyter-widgets/base",
       "_view_module_version": "2.0.0",
       "_view_name": "LayoutView",
       "align_content": null,
       "align_items": null,
       "align_self": null,
       "border_bottom": null,
       "border_left": null,
       "border_right": null,
       "border_top": null,
       "bottom": null,
       "display": null,
       "flex": "2",
       "flex_flow": null,
       "grid_area": null,
       "grid_auto_columns": null,
       "grid_auto_flow": null,
       "grid_auto_rows": null,
       "grid_column": null,
       "grid_gap": null,
       "grid_row": null,
       "grid_template_areas": null,
       "grid_template_columns": null,
       "grid_template_rows": null,
       "height": null,
       "justify_content": null,
       "justify_items": null,
       "left": null,
       "margin": null,
       "max_height": null,
       "max_width": null,
       "min_height": null,
       "min_width": null,
       "object_fit": null,
       "object_position": null,
       "order": null,
       "overflow": null,
       "padding": null,
       "right": null,
       "top": null,
       "visibility": null,
       "width": null
      }
     },
     "eb65e8a306c84558b3734fc937e95a2a": {
      "model_module": "@jupyter-widgets/controls",
      "model_module_version": "2.0.0",
      "model_name": "FloatProgressModel",
      "state": {
       "_dom_classes": [],
       "_model_module": "@jupyter-widgets/controls",
       "_model_module_version": "2.0.0",
       "_model_name": "FloatProgressModel",
       "_view_count": null,
       "_view_module": "@jupyter-widgets/controls",
       "_view_module_version": "2.0.0",
       "_view_name": "ProgressView",
       "bar_style": "success",
       "description": "",
       "description_allow_html": false,
       "layout": "IPY_MODEL_bb81cd5776644f20a4d095f06bd4786f",
       "max": 1,
       "min": 0,
       "orientation": "horizontal",
       "style": "IPY_MODEL_af7d5cc036b04255b90a4900e9bab6cf",
       "tabbable": null,
       "tooltip": null,
       "value": 1
      }
     },
     "eba6b511c3f34cf88f94aa99df7986df": {
      "model_module": "@jupyter-widgets/base",
      "model_module_version": "2.0.0",
      "model_name": "LayoutModel",
      "state": {
       "_model_module": "@jupyter-widgets/base",
       "_model_module_version": "2.0.0",
       "_model_name": "LayoutModel",
       "_view_count": null,
       "_view_module": "@jupyter-widgets/base",
       "_view_module_version": "2.0.0",
       "_view_name": "LayoutView",
       "align_content": null,
       "align_items": null,
       "align_self": null,
       "border_bottom": null,
       "border_left": null,
       "border_right": null,
       "border_top": null,
       "bottom": null,
       "display": null,
       "flex": null,
       "flex_flow": null,
       "grid_area": null,
       "grid_auto_columns": null,
       "grid_auto_flow": null,
       "grid_auto_rows": null,
       "grid_column": null,
       "grid_gap": null,
       "grid_row": null,
       "grid_template_areas": null,
       "grid_template_columns": null,
       "grid_template_rows": null,
       "height": null,
       "justify_content": null,
       "justify_items": null,
       "left": null,
       "margin": null,
       "max_height": null,
       "max_width": null,
       "min_height": null,
       "min_width": null,
       "object_fit": null,
       "object_position": null,
       "order": null,
       "overflow": null,
       "padding": null,
       "right": null,
       "top": null,
       "visibility": null,
       "width": null
      }
     },
     "ed88472606b046a2b36494edc92d33b7": {
      "model_module": "@jupyter-widgets/base",
      "model_module_version": "2.0.0",
      "model_name": "LayoutModel",
      "state": {
       "_model_module": "@jupyter-widgets/base",
       "_model_module_version": "2.0.0",
       "_model_name": "LayoutModel",
       "_view_count": null,
       "_view_module": "@jupyter-widgets/base",
       "_view_module_version": "2.0.0",
       "_view_name": "LayoutView",
       "align_content": null,
       "align_items": null,
       "align_self": null,
       "border_bottom": null,
       "border_left": null,
       "border_right": null,
       "border_top": null,
       "bottom": null,
       "display": null,
       "flex": null,
       "flex_flow": null,
       "grid_area": null,
       "grid_auto_columns": null,
       "grid_auto_flow": null,
       "grid_auto_rows": null,
       "grid_column": null,
       "grid_gap": null,
       "grid_row": null,
       "grid_template_areas": null,
       "grid_template_columns": null,
       "grid_template_rows": null,
       "height": null,
       "justify_content": null,
       "justify_items": null,
       "left": null,
       "margin": null,
       "max_height": null,
       "max_width": null,
       "min_height": null,
       "min_width": null,
       "object_fit": null,
       "object_position": null,
       "order": null,
       "overflow": null,
       "padding": null,
       "right": null,
       "top": null,
       "visibility": null,
       "width": null
      }
     },
     "f5e873e0e63843b2a289152d45ce8663": {
      "model_module": "@jupyter-widgets/base",
      "model_module_version": "2.0.0",
      "model_name": "LayoutModel",
      "state": {
       "_model_module": "@jupyter-widgets/base",
       "_model_module_version": "2.0.0",
       "_model_name": "LayoutModel",
       "_view_count": null,
       "_view_module": "@jupyter-widgets/base",
       "_view_module_version": "2.0.0",
       "_view_name": "LayoutView",
       "align_content": null,
       "align_items": null,
       "align_self": null,
       "border_bottom": null,
       "border_left": null,
       "border_right": null,
       "border_top": null,
       "bottom": null,
       "display": null,
       "flex": "2",
       "flex_flow": null,
       "grid_area": null,
       "grid_auto_columns": null,
       "grid_auto_flow": null,
       "grid_auto_rows": null,
       "grid_column": null,
       "grid_gap": null,
       "grid_row": null,
       "grid_template_areas": null,
       "grid_template_columns": null,
       "grid_template_rows": null,
       "height": null,
       "justify_content": null,
       "justify_items": null,
       "left": null,
       "margin": null,
       "max_height": null,
       "max_width": null,
       "min_height": null,
       "min_width": null,
       "object_fit": null,
       "object_position": null,
       "order": null,
       "overflow": null,
       "padding": null,
       "right": null,
       "top": null,
       "visibility": null,
       "width": null
      }
     },
     "f8ec3a45ffc6465f9937b66c3e97a1c8": {
      "model_module": "@jupyter-widgets/controls",
      "model_module_version": "2.0.0",
      "model_name": "HTMLStyleModel",
      "state": {
       "_model_module": "@jupyter-widgets/controls",
       "_model_module_version": "2.0.0",
       "_model_name": "HTMLStyleModel",
       "_view_count": null,
       "_view_module": "@jupyter-widgets/base",
       "_view_module_version": "2.0.0",
       "_view_name": "StyleView",
       "background": null,
       "description_width": "",
       "font_size": null,
       "text_color": null
      }
     }
    },
    "version_major": 2,
    "version_minor": 0
   }
  }
 },
 "nbformat": 4,
 "nbformat_minor": 5
}
