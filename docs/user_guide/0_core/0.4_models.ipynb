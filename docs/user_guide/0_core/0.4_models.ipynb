{
 "cells": [
  {
   "cell_type": "code",
   "execution_count": 42,
   "id": "9286e0b8-3c78-4b0f-943c-d219e9840dfe",
   "metadata": {
    "ExecuteTime": {
     "end_time": "2023-11-20T17:41:55.983705200Z",
     "start_time": "2023-11-20T17:41:55.204565400Z"
    },
    "papermill": {
     "duration": 0.01496,
     "end_time": "2024-01-31T17:49:55.553639",
     "exception": false,
     "start_time": "2024-01-31T17:49:55.538679",
     "status": "completed"
    },
    "tags": []
   },
   "outputs": [],
   "source": [
    "# Import to be able to import python package from src\n",
    "import sys\n",
    "sys.path.insert(0, '../src')"
   ]
  },
  {
   "cell_type": "code",
   "execution_count": 43,
   "id": "2028eed7-b1c3-4c9e-b6a0-00433caa7d0f",
   "metadata": {
    "ExecuteTime": {
     "end_time": "2023-11-20T17:42:07.848983200Z",
     "start_time": "2023-11-20T17:41:55.983705200Z"
    },
    "papermill": {
     "duration": 2.469376,
     "end_time": "2024-01-31T17:49:58.027391",
     "exception": false,
     "start_time": "2024-01-31T17:49:55.558015",
     "status": "completed"
    },
    "tags": []
   },
   "outputs": [],
   "source": [
    "import pandas as pd\n",
    "import numpy as np\n",
    "import ontime as on"
   ]
  },
  {
   "cell_type": "markdown",
   "id": "41296cc6-9d84-47c5-8a92-2d292f6f3c4a",
   "metadata": {
    "papermill": {
     "duration": 0.012158,
     "end_time": "2024-01-31T17:49:55.532894",
     "exception": false,
     "start_time": "2024-01-31T17:49:55.520736",
     "status": "completed"
    },
    "tags": []
   },
   "source": [
    "# Models"
   ]
  },
  {
   "cell_type": "markdown",
   "id": "327dc997-5a25-462f-bb35-185e39302edd",
   "metadata": {},
   "source": [
    "This class implement a generic way to load models in onTime. It is compatible with Darts, Scikit-learn and PyTorch, with an aim to add other librairies and models soon. Let's see how to use it."
   ]
  },
  {
   "cell_type": "markdown",
   "id": "e24da8ab-6a83-4c2f-9ff0-c633d4693a91",
   "metadata": {
    "papermill": {
     "duration": 0.002768,
     "end_time": "2024-01-31T17:49:58.033371",
     "exception": false,
     "start_time": "2024-01-31T17:49:58.030603",
     "status": "completed"
    },
    "tags": []
   },
   "source": [
    "## Let's generate a random TimeSeries"
   ]
  },
  {
   "cell_type": "code",
   "execution_count": 44,
   "id": "e9a96d79-0423-4d79-b01d-726193216238",
   "metadata": {
    "ExecuteTime": {
     "end_time": "2023-11-20T17:42:07.874183800Z",
     "start_time": "2023-11-20T17:42:07.848983200Z"
    },
    "papermill": {
     "duration": 0.01143,
     "end_time": "2024-01-31T17:49:58.047455",
     "exception": false,
     "start_time": "2024-01-31T17:49:58.036025",
     "status": "completed"
    },
    "tags": []
   },
   "outputs": [],
   "source": [
    "# Start and end dates\n",
    "start_date = pd.Timestamp('2022-01-01')\n",
    "end_date = pd.Timestamp('2022-12-31')\n",
    "\n",
    "# Make a random walk\n",
    "ts = on.generators.random_walk().generate(start=start_date, end=end_date)\n",
    "ts = ts.astype(np.float32)"
   ]
  },
  {
   "cell_type": "markdown",
   "id": "8e991124-59fd-4bde-84d0-c1622e37173a",
   "metadata": {
    "papermill": {
     "duration": 0.002717,
     "end_time": "2024-01-31T17:49:58.063640",
     "exception": false,
     "start_time": "2024-01-31T17:49:58.060923",
     "status": "completed"
    },
    "tags": []
   },
   "source": [
    "## Using a Darts model"
   ]
  },
  {
   "cell_type": "markdown",
   "id": "a37651ba-6a09-467e-b630-395d004e3051",
   "metadata": {},
   "source": [
    "The model can be loaded from the desired library"
   ]
  },
  {
   "cell_type": "code",
   "execution_count": 45,
   "id": "a1b679c1-4334-4d10-9ef1-019e81a36b90",
   "metadata": {
    "ExecuteTime": {
     "end_time": "2023-11-20T17:42:07.896443200Z",
     "start_time": "2023-11-20T17:42:07.880829500Z"
    },
    "papermill": {
     "duration": 0.005851,
     "end_time": "2024-01-31T17:49:58.072240",
     "exception": false,
     "start_time": "2024-01-31T17:49:58.066389",
     "status": "completed"
    },
    "tags": []
   },
   "outputs": [],
   "source": [
    "from darts.models import BlockRNNModel"
   ]
  },
  {
   "cell_type": "markdown",
   "id": "7f6fed70-29f9-4c88-9860-7f0df3c59282",
   "metadata": {},
   "source": [
    "Then, it can be used with this generic interface."
   ]
  },
  {
   "cell_type": "code",
   "execution_count": 46,
   "id": "85663124-29d5-4da0-8cee-e10639eb8c32",
   "metadata": {},
   "outputs": [],
   "source": [
    "model = on.Model(BlockRNNModel,\n",
    "                 input_chunk_length=12,\n",
    "                 output_chunk_length=6,\n",
    "                 n_rnn_layers=2,\n",
    "                 n_epochs=50\n",
    "                 )"
   ]
  },
  {
   "cell_type": "markdown",
   "id": "6752ec5f-4384-4dc2-91e7-1f895cbb483b",
   "metadata": {},
   "source": [
    "Finally, the training and inference functions are the same than in Scikit Learn for instance :"
   ]
  },
  {
   "cell_type": "code",
   "execution_count": 47,
   "id": "a83733e8-fb76-4d6d-94c0-bc5b255d2951",
   "metadata": {},
   "outputs": [
    {
     "name": "stderr",
     "output_type": "stream",
     "text": [
      "darts.models.forecasting.torch_forecasting_model INFO  Train dataset contains 348 samples.\n",
      "darts.models.forecasting.torch_forecasting_model INFO  Time series values are 32-bits; casting model to float32.\n",
      "INFO: GPU available: True (cuda), used: True\n",
      "lightning.pytorch.utilities.rank_zero INFO  GPU available: True (cuda), used: True\n",
      "INFO: TPU available: False, using: 0 TPU cores\n",
      "lightning.pytorch.utilities.rank_zero INFO  TPU available: False, using: 0 TPU cores\n",
      "INFO: HPU available: False, using: 0 HPUs\n",
      "lightning.pytorch.utilities.rank_zero INFO  HPU available: False, using: 0 HPUs\n",
      "LOCAL_RANK: 0 - CUDA_VISIBLE_DEVICES: [0]\n",
      "\n",
      "  | Name            | Type             | Params | Mode \n",
      "-------------------------------------------------------------\n",
      "0 | criterion       | MSELoss          | 0      | train\n",
      "1 | train_criterion | MSELoss          | 0      | train\n",
      "2 | val_criterion   | MSELoss          | 0      | train\n",
      "3 | train_metrics   | MetricCollection | 0      | train\n",
      "4 | val_metrics     | MetricCollection | 0      | train\n",
      "5 | rnn             | RNN              | 2.0 K  | train\n",
      "6 | fc              | Sequential       | 156    | train\n",
      "-------------------------------------------------------------\n",
      "2.2 K     Trainable params\n",
      "0         Non-trainable params\n",
      "2.2 K     Total params\n",
      "0.009     Total estimated model params size (MB)\n",
      "8         Modules in train mode\n",
      "0         Modules in eval mode\n"
     ]
    },
    {
     "name": "stdout",
     "output_type": "stream",
     "text": [
      "True\n"
     ]
    },
    {
     "data": {
      "application/vnd.jupyter.widget-view+json": {
       "model_id": "3b6a4b49f4c2494f88bd44dfc9a7ad13",
       "version_major": 2,
       "version_minor": 0
      },
      "text/plain": [
       "Training: |          | 0/? [00:00<?, ?it/s]"
      ]
     },
     "metadata": {},
     "output_type": "display_data"
    },
    {
     "name": "stderr",
     "output_type": "stream",
     "text": [
      "INFO: `Trainer.fit` stopped: `max_epochs=50` reached.\n",
      "lightning.pytorch.utilities.rank_zero INFO  `Trainer.fit` stopped: `max_epochs=50` reached.\n"
     ]
    },
    {
     "data": {
      "text/plain": [
       "<ontime.core.modelling.model.Model at 0x7fdeb8ff3c50>"
      ]
     },
     "execution_count": 47,
     "metadata": {},
     "output_type": "execute_result"
    }
   ],
   "source": [
    "# To train the model\n",
    "model.fit(ts)"
   ]
  },
  {
   "cell_type": "code",
   "execution_count": 48,
   "id": "9f7f91dc-5cb0-4ee4-885e-2d7ea16e4762",
   "metadata": {},
   "outputs": [
    {
     "name": "stderr",
     "output_type": "stream",
     "text": [
      "INFO: GPU available: True (cuda), used: True\n",
      "lightning.pytorch.utilities.rank_zero INFO  GPU available: True (cuda), used: True\n",
      "INFO: TPU available: False, using: 0 TPU cores\n",
      "lightning.pytorch.utilities.rank_zero INFO  TPU available: False, using: 0 TPU cores\n",
      "INFO: HPU available: False, using: 0 HPUs\n",
      "lightning.pytorch.utilities.rank_zero INFO  HPU available: False, using: 0 HPUs\n",
      "LOCAL_RANK: 0 - CUDA_VISIBLE_DEVICES: [0]\n"
     ]
    },
    {
     "data": {
      "application/vnd.jupyter.widget-view+json": {
       "model_id": "8aa198101e1348b1b497a111b8c0a6e5",
       "version_major": 2,
       "version_minor": 0
      },
      "text/plain": [
       "Predicting: |          | 0/? [00:00<?, ?it/s]"
      ]
     },
     "metadata": {},
     "output_type": "display_data"
    }
   ],
   "source": [
    "# To make a prediction\n",
    "darts_pred = model.predict(10)"
   ]
  },
  {
   "cell_type": "code",
   "execution_count": 49,
   "id": "dc5901f7",
   "metadata": {},
   "outputs": [],
   "source": [
    "darts_pred = darts_pred.rename({'random_walk': 'darts prediction'})"
   ]
  },
  {
   "cell_type": "markdown",
   "id": "2534d1df-b474-4b09-a471-a66cfa211880",
   "metadata": {
    "papermill": {
     "duration": 0.003354,
     "end_time": "2024-01-31T17:50:11.980851",
     "exception": false,
     "start_time": "2024-01-31T17:50:11.977497",
     "status": "completed"
    },
    "tags": []
   },
   "source": [
    "## Using a Scikit-learn API compatible model"
   ]
  },
  {
   "cell_type": "code",
   "execution_count": 50,
   "id": "d6546388",
   "metadata": {},
   "outputs": [],
   "source": [
    "from sklearn.neural_network import MLPRegressor"
   ]
  },
  {
   "cell_type": "code",
   "execution_count": 51,
   "id": "f712c297-579a-4ede-88a6-198ed7b17ca0",
   "metadata": {
    "ExecuteTime": {
     "end_time": "2023-11-20T17:42:14.996697600Z",
     "start_time": "2023-11-20T17:42:14.243220Z"
    },
    "execution": {
     "iopub.execute_input": "2024-01-31T17:50:12.001738Z",
     "iopub.status.busy": "2024-01-31T17:50:12.001621Z",
     "iopub.status.idle": "2024-01-31T17:50:12.296382Z",
     "shell.execute_reply": "2024-01-31T17:50:12.292440Z"
    },
    "papermill": {
     "duration": 0.303338,
     "end_time": "2024-01-31T17:50:12.299191",
     "exception": false,
     "start_time": "2024-01-31T17:50:11.995853",
     "status": "completed"
    },
    "tags": []
   },
   "outputs": [
    {
     "name": "stderr",
     "output_type": "stream",
     "text": [
      "/home/benjy/.cache/pypoetry/virtualenvs/ontime-2OQVvbNf-py3.11/lib/python3.11/site-packages/sklearn/neural_network/_multilayer_perceptron.py:691: ConvergenceWarning: Stochastic Optimizer: Maximum iterations (200) reached and the optimization hasn't converged yet.\n",
      "  warnings.warn(\n"
     ]
    }
   ],
   "source": [
    "model = on.Model(MLPRegressor(),\n",
    "                 lags=30)\n",
    "model.fit(ts)\n",
    "sk_pred = model.predict(10)\n",
    "sk_pred = sk_pred.rename({'pred': 'sklearn prediction'})"
   ]
  },
  {
   "cell_type": "markdown",
   "id": "0e49d411",
   "metadata": {},
   "source": [
    "## Using a PyTorch model"
   ]
  },
  {
   "cell_type": "markdown",
   "id": "f021503b",
   "metadata": {},
   "source": [
    "You can create and use custom PyTorch models and wrap them in our wrapper. It allows to quickly test its PyTorch model.  \n",
    "For more complex behaviors, you can also create a new Darts model by inheriting one of the existing class in the library. You can find existing model implementations [here](https://github.com/unit8co/darts/tree/master/darts/models/forecasting)."
   ]
  },
  {
   "cell_type": "code",
   "execution_count": 52,
   "id": "7bcdf970",
   "metadata": {},
   "outputs": [],
   "source": [
    "import torch\n",
    "import torch.nn as nn"
   ]
  },
  {
   "cell_type": "code",
   "execution_count": 53,
   "id": "e247d997",
   "metadata": {},
   "outputs": [],
   "source": [
    "class SimpleGRU(nn.Module):\n",
    "    def __init__(self, input_dim=1, hidden_dim=32, output_dim=1, num_layers=1):\n",
    "        super(SimpleGRU, self).__init__()\n",
    "        self.hidden_dim = hidden_dim\n",
    "        self.output_size = output_dim\n",
    "        \n",
    "        self.gru = nn.GRU(input_dim, hidden_dim, num_layers, batch_first=True)\n",
    "        self.fc = nn.Linear(hidden_dim, output_dim)  # Map hidden state to output dimension\n",
    "\n",
    "    def forward(self, x):\n",
    "        # Pass through GRU\n",
    "        out, _ = self.gru(x)\n",
    "        out = self.fc(out)   \n",
    "        out = out[:, -6:, :]\n",
    "        return out"
   ]
  },
  {
   "cell_type": "code",
   "execution_count": 54,
   "id": "5831e0b0",
   "metadata": {},
   "outputs": [],
   "source": [
    "model = on.Model(\n",
    "    SimpleGRU,\n",
    "    input_chunk_length=12,\n",
    "    output_chunk_length=6,\n",
    "    num_layers=2,\n",
    "    n_epochs=50,\n",
    "        train_data_module_params={\n",
    "        \"val_split\":0.2\n",
    "    }\n",
    ")"
   ]
  },
  {
   "cell_type": "code",
   "execution_count": 55,
   "id": "43bb5fc7",
   "metadata": {},
   "outputs": [
    {
     "name": "stderr",
     "output_type": "stream",
     "text": [
      "INFO: GPU available: True (cuda), used: True\n",
      "lightning.pytorch.utilities.rank_zero INFO  GPU available: True (cuda), used: True\n",
      "INFO: TPU available: False, using: 0 TPU cores\n",
      "lightning.pytorch.utilities.rank_zero INFO  TPU available: False, using: 0 TPU cores\n",
      "INFO: HPU available: False, using: 0 HPUs\n",
      "lightning.pytorch.utilities.rank_zero INFO  HPU available: False, using: 0 HPUs\n",
      "INFO: LOCAL_RANK: 0 - CUDA_VISIBLE_DEVICES: [0]\n",
      "lightning.pytorch.accelerators.cuda INFO  LOCAL_RANK: 0 - CUDA_VISIBLE_DEVICES: [0]\n",
      "INFO: \n",
      "  | Name    | Type      | Params | Mode \n",
      "----------------------------------------------\n",
      "0 | model   | SimpleGRU | 9.7 K  | train\n",
      "1 | loss_fn | MSELoss   | 0      | eval \n",
      "----------------------------------------------\n",
      "9.7 K     Trainable params\n",
      "0         Non-trainable params\n",
      "9.7 K     Total params\n",
      "0.039     Total estimated model params size (MB)\n",
      "3         Modules in train mode\n",
      "1         Modules in eval mode\n",
      "lightning.pytorch.callbacks.model_summary INFO  \n",
      "  | Name    | Type      | Params | Mode \n",
      "----------------------------------------------\n",
      "0 | model   | SimpleGRU | 9.7 K  | train\n",
      "1 | loss_fn | MSELoss   | 0      | eval \n",
      "----------------------------------------------\n",
      "9.7 K     Trainable params\n",
      "0         Non-trainable params\n",
      "9.7 K     Total params\n",
      "0.039     Total estimated model params size (MB)\n",
      "3         Modules in train mode\n",
      "1         Modules in eval mode\n"
     ]
    },
    {
     "data": {
      "application/vnd.jupyter.widget-view+json": {
       "model_id": "6993e95a7f55414780132996bd523b48",
       "version_major": 2,
       "version_minor": 0
      },
      "text/plain": [
       "Sanity Checking: |          | 0/? [00:00<?, ?it/s]"
      ]
     },
     "metadata": {},
     "output_type": "display_data"
    },
    {
     "name": "stderr",
     "output_type": "stream",
     "text": [
      "/home/benjy/.cache/pypoetry/virtualenvs/ontime-2OQVvbNf-py3.11/lib/python3.11/site-packages/lightning/pytorch/loops/fit_loop.py:298: The number of training batches (9) is smaller than the logging interval Trainer(log_every_n_steps=50). Set a lower value for log_every_n_steps if you want to see logs for the training epoch.\n"
     ]
    },
    {
     "data": {
      "application/vnd.jupyter.widget-view+json": {
       "model_id": "dbd4fc5b7d224a3e9ddae7c9f46c5404",
       "version_major": 2,
       "version_minor": 0
      },
      "text/plain": [
       "Training: |          | 0/? [00:00<?, ?it/s]"
      ]
     },
     "metadata": {},
     "output_type": "display_data"
    },
    {
     "data": {
      "application/vnd.jupyter.widget-view+json": {
       "model_id": "36de33f87839403f8362fcf3068a84f8",
       "version_major": 2,
       "version_minor": 0
      },
      "text/plain": [
       "Validation: |          | 0/? [00:00<?, ?it/s]"
      ]
     },
     "metadata": {},
     "output_type": "display_data"
    },
    {
     "data": {
      "application/vnd.jupyter.widget-view+json": {
       "model_id": "87dbed0416ed46c0b07f1e974cfba267",
       "version_major": 2,
       "version_minor": 0
      },
      "text/plain": [
       "Validation: |          | 0/? [00:00<?, ?it/s]"
      ]
     },
     "metadata": {},
     "output_type": "display_data"
    },
    {
     "data": {
      "application/vnd.jupyter.widget-view+json": {
       "model_id": "03c1757c5a884728ad6a5514a2986edb",
       "version_major": 2,
       "version_minor": 0
      },
      "text/plain": [
       "Validation: |          | 0/? [00:00<?, ?it/s]"
      ]
     },
     "metadata": {},
     "output_type": "display_data"
    },
    {
     "data": {
      "application/vnd.jupyter.widget-view+json": {
       "model_id": "4441073ed4fa4f4c8d0db0379dfba779",
       "version_major": 2,
       "version_minor": 0
      },
      "text/plain": [
       "Validation: |          | 0/? [00:00<?, ?it/s]"
      ]
     },
     "metadata": {},
     "output_type": "display_data"
    },
    {
     "data": {
      "application/vnd.jupyter.widget-view+json": {
       "model_id": "023bc4eed00f4a5d992ac2a881fc7186",
       "version_major": 2,
       "version_minor": 0
      },
      "text/plain": [
       "Validation: |          | 0/? [00:00<?, ?it/s]"
      ]
     },
     "metadata": {},
     "output_type": "display_data"
    },
    {
     "data": {
      "application/vnd.jupyter.widget-view+json": {
       "model_id": "6cd7b6ae00b148ea93cf3cfe845ed66f",
       "version_major": 2,
       "version_minor": 0
      },
      "text/plain": [
       "Validation: |          | 0/? [00:00<?, ?it/s]"
      ]
     },
     "metadata": {},
     "output_type": "display_data"
    },
    {
     "data": {
      "application/vnd.jupyter.widget-view+json": {
       "model_id": "30584dcdd784487187e8d5d9678f7c3e",
       "version_major": 2,
       "version_minor": 0
      },
      "text/plain": [
       "Validation: |          | 0/? [00:00<?, ?it/s]"
      ]
     },
     "metadata": {},
     "output_type": "display_data"
    },
    {
     "data": {
      "application/vnd.jupyter.widget-view+json": {
       "model_id": "dfdcfcbd6a584737bdb6ec042a8ffb8d",
       "version_major": 2,
       "version_minor": 0
      },
      "text/plain": [
       "Validation: |          | 0/? [00:00<?, ?it/s]"
      ]
     },
     "metadata": {},
     "output_type": "display_data"
    },
    {
     "data": {
      "application/vnd.jupyter.widget-view+json": {
       "model_id": "e095a9c2f29e473296ab7e4f31ec807d",
       "version_major": 2,
       "version_minor": 0
      },
      "text/plain": [
       "Validation: |          | 0/? [00:00<?, ?it/s]"
      ]
     },
     "metadata": {},
     "output_type": "display_data"
    },
    {
     "data": {
      "application/vnd.jupyter.widget-view+json": {
       "model_id": "b018a8972f634c33ae0b9baff813a08e",
       "version_major": 2,
       "version_minor": 0
      },
      "text/plain": [
       "Validation: |          | 0/? [00:00<?, ?it/s]"
      ]
     },
     "metadata": {},
     "output_type": "display_data"
    },
    {
     "data": {
      "application/vnd.jupyter.widget-view+json": {
       "model_id": "2e6015d0ec80401da95e9caf1f894887",
       "version_major": 2,
       "version_minor": 0
      },
      "text/plain": [
       "Validation: |          | 0/? [00:00<?, ?it/s]"
      ]
     },
     "metadata": {},
     "output_type": "display_data"
    },
    {
     "data": {
      "application/vnd.jupyter.widget-view+json": {
       "model_id": "d32e597d552e4f95bcef9db3113c75eb",
       "version_major": 2,
       "version_minor": 0
      },
      "text/plain": [
       "Validation: |          | 0/? [00:00<?, ?it/s]"
      ]
     },
     "metadata": {},
     "output_type": "display_data"
    },
    {
     "data": {
      "application/vnd.jupyter.widget-view+json": {
       "model_id": "1c07b29d77a04b3ea6609841b374617b",
       "version_major": 2,
       "version_minor": 0
      },
      "text/plain": [
       "Validation: |          | 0/? [00:00<?, ?it/s]"
      ]
     },
     "metadata": {},
     "output_type": "display_data"
    },
    {
     "data": {
      "application/vnd.jupyter.widget-view+json": {
       "model_id": "387b7ad1ff5a48ba9611f5e47b57e9cc",
       "version_major": 2,
       "version_minor": 0
      },
      "text/plain": [
       "Validation: |          | 0/? [00:00<?, ?it/s]"
      ]
     },
     "metadata": {},
     "output_type": "display_data"
    },
    {
     "data": {
      "application/vnd.jupyter.widget-view+json": {
       "model_id": "8904310e29d84fc397d591176a8915f2",
       "version_major": 2,
       "version_minor": 0
      },
      "text/plain": [
       "Validation: |          | 0/? [00:00<?, ?it/s]"
      ]
     },
     "metadata": {},
     "output_type": "display_data"
    },
    {
     "data": {
      "application/vnd.jupyter.widget-view+json": {
       "model_id": "32b739d85b924c0ab7557113b9026293",
       "version_major": 2,
       "version_minor": 0
      },
      "text/plain": [
       "Validation: |          | 0/? [00:00<?, ?it/s]"
      ]
     },
     "metadata": {},
     "output_type": "display_data"
    },
    {
     "data": {
      "application/vnd.jupyter.widget-view+json": {
       "model_id": "1cf6e43d43574e2e9ef04720c963b19f",
       "version_major": 2,
       "version_minor": 0
      },
      "text/plain": [
       "Validation: |          | 0/? [00:00<?, ?it/s]"
      ]
     },
     "metadata": {},
     "output_type": "display_data"
    },
    {
     "data": {
      "application/vnd.jupyter.widget-view+json": {
       "model_id": "06ad6a3c17e0495c9a85793c10f776dc",
       "version_major": 2,
       "version_minor": 0
      },
      "text/plain": [
       "Validation: |          | 0/? [00:00<?, ?it/s]"
      ]
     },
     "metadata": {},
     "output_type": "display_data"
    },
    {
     "data": {
      "application/vnd.jupyter.widget-view+json": {
       "model_id": "a718974566a041f7b86face8dfc6cfda",
       "version_major": 2,
       "version_minor": 0
      },
      "text/plain": [
       "Validation: |          | 0/? [00:00<?, ?it/s]"
      ]
     },
     "metadata": {},
     "output_type": "display_data"
    },
    {
     "data": {
      "application/vnd.jupyter.widget-view+json": {
       "model_id": "4d4b565226e04b24af6243823713fc16",
       "version_major": 2,
       "version_minor": 0
      },
      "text/plain": [
       "Validation: |          | 0/? [00:00<?, ?it/s]"
      ]
     },
     "metadata": {},
     "output_type": "display_data"
    },
    {
     "data": {
      "application/vnd.jupyter.widget-view+json": {
       "model_id": "64614638194f423bb4bf5e776bce7d41",
       "version_major": 2,
       "version_minor": 0
      },
      "text/plain": [
       "Validation: |          | 0/? [00:00<?, ?it/s]"
      ]
     },
     "metadata": {},
     "output_type": "display_data"
    },
    {
     "data": {
      "application/vnd.jupyter.widget-view+json": {
       "model_id": "f40984edb634416399bd41289efe919a",
       "version_major": 2,
       "version_minor": 0
      },
      "text/plain": [
       "Validation: |          | 0/? [00:00<?, ?it/s]"
      ]
     },
     "metadata": {},
     "output_type": "display_data"
    },
    {
     "data": {
      "application/vnd.jupyter.widget-view+json": {
       "model_id": "51d40154549142d890d49abb5662c602",
       "version_major": 2,
       "version_minor": 0
      },
      "text/plain": [
       "Validation: |          | 0/? [00:00<?, ?it/s]"
      ]
     },
     "metadata": {},
     "output_type": "display_data"
    },
    {
     "data": {
      "application/vnd.jupyter.widget-view+json": {
       "model_id": "877eb7f7e94c4d418b4c60824c75d4d5",
       "version_major": 2,
       "version_minor": 0
      },
      "text/plain": [
       "Validation: |          | 0/? [00:00<?, ?it/s]"
      ]
     },
     "metadata": {},
     "output_type": "display_data"
    },
    {
     "data": {
      "application/vnd.jupyter.widget-view+json": {
       "model_id": "8d8d15b2a664434190a5e8c2127af4db",
       "version_major": 2,
       "version_minor": 0
      },
      "text/plain": [
       "Validation: |          | 0/? [00:00<?, ?it/s]"
      ]
     },
     "metadata": {},
     "output_type": "display_data"
    },
    {
     "data": {
      "application/vnd.jupyter.widget-view+json": {
       "model_id": "109706f47da8473585c1f9f500ffa6cd",
       "version_major": 2,
       "version_minor": 0
      },
      "text/plain": [
       "Validation: |          | 0/? [00:00<?, ?it/s]"
      ]
     },
     "metadata": {},
     "output_type": "display_data"
    },
    {
     "data": {
      "application/vnd.jupyter.widget-view+json": {
       "model_id": "6ddaa7c0c3ea463d8e7a173ee474c4d5",
       "version_major": 2,
       "version_minor": 0
      },
      "text/plain": [
       "Validation: |          | 0/? [00:00<?, ?it/s]"
      ]
     },
     "metadata": {},
     "output_type": "display_data"
    },
    {
     "data": {
      "application/vnd.jupyter.widget-view+json": {
       "model_id": "7aadb1b2e3984105b29d1b2cc86ad12d",
       "version_major": 2,
       "version_minor": 0
      },
      "text/plain": [
       "Validation: |          | 0/? [00:00<?, ?it/s]"
      ]
     },
     "metadata": {},
     "output_type": "display_data"
    },
    {
     "data": {
      "application/vnd.jupyter.widget-view+json": {
       "model_id": "7b06d593540f470ca823960f5ac9705f",
       "version_major": 2,
       "version_minor": 0
      },
      "text/plain": [
       "Validation: |          | 0/? [00:00<?, ?it/s]"
      ]
     },
     "metadata": {},
     "output_type": "display_data"
    },
    {
     "data": {
      "application/vnd.jupyter.widget-view+json": {
       "model_id": "a9e7fb2a62a240f2bcf0d9367687389a",
       "version_major": 2,
       "version_minor": 0
      },
      "text/plain": [
       "Validation: |          | 0/? [00:00<?, ?it/s]"
      ]
     },
     "metadata": {},
     "output_type": "display_data"
    },
    {
     "data": {
      "application/vnd.jupyter.widget-view+json": {
       "model_id": "0ecd73e2d47b42879b8b36b2e5377924",
       "version_major": 2,
       "version_minor": 0
      },
      "text/plain": [
       "Validation: |          | 0/? [00:00<?, ?it/s]"
      ]
     },
     "metadata": {},
     "output_type": "display_data"
    },
    {
     "data": {
      "application/vnd.jupyter.widget-view+json": {
       "model_id": "476249f8c47547ca983dd43cb4f96356",
       "version_major": 2,
       "version_minor": 0
      },
      "text/plain": [
       "Validation: |          | 0/? [00:00<?, ?it/s]"
      ]
     },
     "metadata": {},
     "output_type": "display_data"
    },
    {
     "data": {
      "application/vnd.jupyter.widget-view+json": {
       "model_id": "b374045a57a8408c9b21340fc3bdeadd",
       "version_major": 2,
       "version_minor": 0
      },
      "text/plain": [
       "Validation: |          | 0/? [00:00<?, ?it/s]"
      ]
     },
     "metadata": {},
     "output_type": "display_data"
    },
    {
     "data": {
      "application/vnd.jupyter.widget-view+json": {
       "model_id": "838ef89c997c463c9733920c8fe0718e",
       "version_major": 2,
       "version_minor": 0
      },
      "text/plain": [
       "Validation: |          | 0/? [00:00<?, ?it/s]"
      ]
     },
     "metadata": {},
     "output_type": "display_data"
    },
    {
     "data": {
      "application/vnd.jupyter.widget-view+json": {
       "model_id": "db2e023ec5de49b4a58ad80da1c5ba6e",
       "version_major": 2,
       "version_minor": 0
      },
      "text/plain": [
       "Validation: |          | 0/? [00:00<?, ?it/s]"
      ]
     },
     "metadata": {},
     "output_type": "display_data"
    },
    {
     "data": {
      "application/vnd.jupyter.widget-view+json": {
       "model_id": "9480b87663e64f4b8e7fc585bec16b6e",
       "version_major": 2,
       "version_minor": 0
      },
      "text/plain": [
       "Validation: |          | 0/? [00:00<?, ?it/s]"
      ]
     },
     "metadata": {},
     "output_type": "display_data"
    },
    {
     "data": {
      "application/vnd.jupyter.widget-view+json": {
       "model_id": "d60d4e344d4947f7bd2bd64c8decc337",
       "version_major": 2,
       "version_minor": 0
      },
      "text/plain": [
       "Validation: |          | 0/? [00:00<?, ?it/s]"
      ]
     },
     "metadata": {},
     "output_type": "display_data"
    },
    {
     "data": {
      "application/vnd.jupyter.widget-view+json": {
       "model_id": "a0dd8676a9d14a37bbf45514064b4833",
       "version_major": 2,
       "version_minor": 0
      },
      "text/plain": [
       "Validation: |          | 0/? [00:00<?, ?it/s]"
      ]
     },
     "metadata": {},
     "output_type": "display_data"
    },
    {
     "data": {
      "application/vnd.jupyter.widget-view+json": {
       "model_id": "5eb7b279c2954d39a07b24638effe8e8",
       "version_major": 2,
       "version_minor": 0
      },
      "text/plain": [
       "Validation: |          | 0/? [00:00<?, ?it/s]"
      ]
     },
     "metadata": {},
     "output_type": "display_data"
    },
    {
     "data": {
      "application/vnd.jupyter.widget-view+json": {
       "model_id": "e73ef0c10c4c4615a2a203051376aff0",
       "version_major": 2,
       "version_minor": 0
      },
      "text/plain": [
       "Validation: |          | 0/? [00:00<?, ?it/s]"
      ]
     },
     "metadata": {},
     "output_type": "display_data"
    },
    {
     "data": {
      "application/vnd.jupyter.widget-view+json": {
       "model_id": "ddbeb9566c3640b7a3dae0ce73b8f8bf",
       "version_major": 2,
       "version_minor": 0
      },
      "text/plain": [
       "Validation: |          | 0/? [00:00<?, ?it/s]"
      ]
     },
     "metadata": {},
     "output_type": "display_data"
    },
    {
     "data": {
      "application/vnd.jupyter.widget-view+json": {
       "model_id": "77bfba3e70e149e999f73e3e77668ab0",
       "version_major": 2,
       "version_minor": 0
      },
      "text/plain": [
       "Validation: |          | 0/? [00:00<?, ?it/s]"
      ]
     },
     "metadata": {},
     "output_type": "display_data"
    },
    {
     "data": {
      "application/vnd.jupyter.widget-view+json": {
       "model_id": "2db958aaa0be4ba5be5dba4061e7f06e",
       "version_major": 2,
       "version_minor": 0
      },
      "text/plain": [
       "Validation: |          | 0/? [00:00<?, ?it/s]"
      ]
     },
     "metadata": {},
     "output_type": "display_data"
    },
    {
     "data": {
      "application/vnd.jupyter.widget-view+json": {
       "model_id": "50cf075355994901a705efcca5c10b36",
       "version_major": 2,
       "version_minor": 0
      },
      "text/plain": [
       "Validation: |          | 0/? [00:00<?, ?it/s]"
      ]
     },
     "metadata": {},
     "output_type": "display_data"
    },
    {
     "data": {
      "application/vnd.jupyter.widget-view+json": {
       "model_id": "cc222d226de340d5b5dbbd80400a5af7",
       "version_major": 2,
       "version_minor": 0
      },
      "text/plain": [
       "Validation: |          | 0/? [00:00<?, ?it/s]"
      ]
     },
     "metadata": {},
     "output_type": "display_data"
    },
    {
     "data": {
      "application/vnd.jupyter.widget-view+json": {
       "model_id": "20fc80062c4b4b2bbda8bee88fb698f4",
       "version_major": 2,
       "version_minor": 0
      },
      "text/plain": [
       "Validation: |          | 0/? [00:00<?, ?it/s]"
      ]
     },
     "metadata": {},
     "output_type": "display_data"
    },
    {
     "data": {
      "application/vnd.jupyter.widget-view+json": {
       "model_id": "4996510de3cb4a47b4b9ca0e15825b95",
       "version_major": 2,
       "version_minor": 0
      },
      "text/plain": [
       "Validation: |          | 0/? [00:00<?, ?it/s]"
      ]
     },
     "metadata": {},
     "output_type": "display_data"
    },
    {
     "data": {
      "application/vnd.jupyter.widget-view+json": {
       "model_id": "b78e51cbad5c4918b13f756c92d95cf0",
       "version_major": 2,
       "version_minor": 0
      },
      "text/plain": [
       "Validation: |          | 0/? [00:00<?, ?it/s]"
      ]
     },
     "metadata": {},
     "output_type": "display_data"
    },
    {
     "data": {
      "application/vnd.jupyter.widget-view+json": {
       "model_id": "2a7fe17f85f2481082e7a63f0d86dc1e",
       "version_major": 2,
       "version_minor": 0
      },
      "text/plain": [
       "Validation: |          | 0/? [00:00<?, ?it/s]"
      ]
     },
     "metadata": {},
     "output_type": "display_data"
    },
    {
     "data": {
      "application/vnd.jupyter.widget-view+json": {
       "model_id": "241dc1869f994f7abb01a061ff7a7f7c",
       "version_major": 2,
       "version_minor": 0
      },
      "text/plain": [
       "Validation: |          | 0/? [00:00<?, ?it/s]"
      ]
     },
     "metadata": {},
     "output_type": "display_data"
    },
    {
     "name": "stderr",
     "output_type": "stream",
     "text": [
      "INFO: `Trainer.fit` stopped: `max_epochs=50` reached.\n",
      "lightning.pytorch.utilities.rank_zero INFO  `Trainer.fit` stopped: `max_epochs=50` reached.\n"
     ]
    },
    {
     "data": {
      "text/plain": [
       "<ontime.core.modelling.model.Model at 0x7fdf4c28e910>"
      ]
     },
     "execution_count": 55,
     "metadata": {},
     "output_type": "execute_result"
    }
   ],
   "source": [
    "model.fit(ts)"
   ]
  },
  {
   "cell_type": "code",
   "execution_count": 56,
   "id": "d06bd5a9",
   "metadata": {},
   "outputs": [
    {
     "name": "stderr",
     "output_type": "stream",
     "text": [
      "/home/benjy/projects_dev/ontime/src/ontime/core/modelling/libs/pytorch/pytorch_forecasting_model.py:112: UserWarning: The requested prediction horizon (n=10) exceeds the model's output_chunk_length (6). The model will use an iterative forecasting approach, which may result in reduced accuracy due to error propagation.\n",
      "  warnings.warn(\n"
     ]
    }
   ],
   "source": [
    "torch_pred = model.predict(10)\n",
    "torch_pred = torch_pred.rename({'0': 'torch prediction'})"
   ]
  },
  {
   "cell_type": "markdown",
   "id": "e46354ba",
   "metadata": {},
   "source": [
    "## Comparing predictions"
   ]
  },
  {
   "cell_type": "code",
   "execution_count": 57,
   "id": "80a9433b",
   "metadata": {},
   "outputs": [
    {
     "data": {
      "text/html": [
       "\n",
       "<style>\n",
       "  #altair-viz-a1da6739b59040ac9c81fc42eb0dbc73.vega-embed {\n",
       "    width: 100%;\n",
       "    display: flex;\n",
       "  }\n",
       "\n",
       "  #altair-viz-a1da6739b59040ac9c81fc42eb0dbc73.vega-embed details,\n",
       "  #altair-viz-a1da6739b59040ac9c81fc42eb0dbc73.vega-embed details summary {\n",
       "    position: relative;\n",
       "  }\n",
       "</style>\n",
       "<div id=\"altair-viz-a1da6739b59040ac9c81fc42eb0dbc73\"></div>\n",
       "<script type=\"text/javascript\">\n",
       "  var VEGA_DEBUG = (typeof VEGA_DEBUG == \"undefined\") ? {} : VEGA_DEBUG;\n",
       "  (function(spec, embedOpt){\n",
       "    let outputDiv = document.currentScript.previousElementSibling;\n",
       "    if (outputDiv.id !== \"altair-viz-a1da6739b59040ac9c81fc42eb0dbc73\") {\n",
       "      outputDiv = document.getElementById(\"altair-viz-a1da6739b59040ac9c81fc42eb0dbc73\");\n",
       "    }\n",
       "    const paths = {\n",
       "      \"vega\": \"https://cdn.jsdelivr.net/npm/vega@5?noext\",\n",
       "      \"vega-lib\": \"https://cdn.jsdelivr.net/npm/vega-lib?noext\",\n",
       "      \"vega-lite\": \"https://cdn.jsdelivr.net/npm/vega-lite@5.20.1?noext\",\n",
       "      \"vega-embed\": \"https://cdn.jsdelivr.net/npm/vega-embed@6?noext\",\n",
       "    };\n",
       "\n",
       "    function maybeLoadScript(lib, version) {\n",
       "      var key = `${lib.replace(\"-\", \"\")}_version`;\n",
       "      return (VEGA_DEBUG[key] == version) ?\n",
       "        Promise.resolve(paths[lib]) :\n",
       "        new Promise(function(resolve, reject) {\n",
       "          var s = document.createElement('script');\n",
       "          document.getElementsByTagName(\"head\")[0].appendChild(s);\n",
       "          s.async = true;\n",
       "          s.onload = () => {\n",
       "            VEGA_DEBUG[key] = version;\n",
       "            return resolve(paths[lib]);\n",
       "          };\n",
       "          s.onerror = () => reject(`Error loading script: ${paths[lib]}`);\n",
       "          s.src = paths[lib];\n",
       "        });\n",
       "    }\n",
       "\n",
       "    function showError(err) {\n",
       "      outputDiv.innerHTML = `<div class=\"error\" style=\"color:red;\">${err}</div>`;\n",
       "      throw err;\n",
       "    }\n",
       "\n",
       "    function displayChart(vegaEmbed) {\n",
       "      vegaEmbed(outputDiv, spec, embedOpt)\n",
       "        .catch(err => showError(`Javascript Error: ${err.message}<br>This usually means there's a typo in your chart specification. See the javascript console for the full traceback.`));\n",
       "    }\n",
       "\n",
       "    if(typeof define === \"function\" && define.amd) {\n",
       "      requirejs.config({paths});\n",
       "      require([\"vega-embed\"], displayChart, err => showError(`Error loading script: ${err.message}`));\n",
       "    } else {\n",
       "      maybeLoadScript(\"vega\", \"5\")\n",
       "        .then(() => maybeLoadScript(\"vega-lite\", \"5.20.1\"))\n",
       "        .then(() => maybeLoadScript(\"vega-embed\", \"6\"))\n",
       "        .catch(showError)\n",
       "        .then(() => displayChart(vegaEmbed));\n",
       "    }\n",
       "  })({\"$schema\": \"https://vega.github.io/schema/vega/v5.json\", \"data\": [{\"name\": \"source_0\", \"values\": [{\"time\": \"2022-11-12T00:00:00.000\", \"variable\": \"random_walk\", \"value\": -17.552}, {\"time\": \"2022-11-13T00:00:00.000\", \"variable\": \"random_walk\", \"value\": -18.457}, {\"time\": \"2022-11-14T00:00:00.000\", \"variable\": \"random_walk\", \"value\": -19.511}, {\"time\": \"2022-11-15T00:00:00.000\", \"variable\": \"random_walk\", \"value\": -19.13}, {\"time\": \"2022-11-16T00:00:00.000\", \"variable\": \"random_walk\", \"value\": -18.519}, {\"time\": \"2022-11-17T00:00:00.000\", \"variable\": \"random_walk\", \"value\": -17.898}, {\"time\": \"2022-11-18T00:00:00.000\", \"variable\": \"random_walk\", \"value\": -20.457}, {\"time\": \"2022-11-19T00:00:00.000\", \"variable\": \"random_walk\", \"value\": -20.283}, {\"time\": \"2022-11-20T00:00:00.000\", \"variable\": \"random_walk\", \"value\": -20.695}, {\"time\": \"2022-11-21T00:00:00.000\", \"variable\": \"random_walk\", \"value\": -18.741}, {\"time\": \"2022-11-22T00:00:00.000\", \"variable\": \"random_walk\", \"value\": -17.304}, {\"time\": \"2022-11-23T00:00:00.000\", \"variable\": \"random_walk\", \"value\": -16.835}, {\"time\": \"2022-11-24T00:00:00.000\", \"variable\": \"random_walk\", \"value\": -15.6}, {\"time\": \"2022-11-25T00:00:00.000\", \"variable\": \"random_walk\", \"value\": -15.678}, {\"time\": \"2022-11-26T00:00:00.000\", \"variable\": \"random_walk\", \"value\": -14.971}, {\"time\": \"2022-11-27T00:00:00.000\", \"variable\": \"random_walk\", \"value\": -14.284}, {\"time\": \"2022-11-28T00:00:00.000\", \"variable\": \"random_walk\", \"value\": -13.127}, {\"time\": \"2022-11-29T00:00:00.000\", \"variable\": \"random_walk\", \"value\": -12.97}, {\"time\": \"2022-11-30T00:00:00.000\", \"variable\": \"random_walk\", \"value\": -13.655}, {\"time\": \"2022-12-01T00:00:00.000\", \"variable\": \"random_walk\", \"value\": -13.786}, {\"time\": \"2022-12-02T00:00:00.000\", \"variable\": \"random_walk\", \"value\": -13.813}, {\"time\": \"2022-12-03T00:00:00.000\", \"variable\": \"random_walk\", \"value\": -13.98}, {\"time\": \"2022-12-04T00:00:00.000\", \"variable\": \"random_walk\", \"value\": -12.927}, {\"time\": \"2022-12-05T00:00:00.000\", \"variable\": \"random_walk\", \"value\": -13.433}, {\"time\": \"2022-12-06T00:00:00.000\", \"variable\": \"random_walk\", \"value\": -14.873}, {\"time\": \"2022-12-07T00:00:00.000\", \"variable\": \"random_walk\", \"value\": -15.195}, {\"time\": \"2022-12-08T00:00:00.000\", \"variable\": \"random_walk\", \"value\": -15.885}, {\"time\": \"2022-12-09T00:00:00.000\", \"variable\": \"random_walk\", \"value\": -16.785}, {\"time\": \"2022-12-10T00:00:00.000\", \"variable\": \"random_walk\", \"value\": -15.703}, {\"time\": \"2022-12-11T00:00:00.000\", \"variable\": \"random_walk\", \"value\": -16.401}, {\"time\": \"2022-12-12T00:00:00.000\", \"variable\": \"random_walk\", \"value\": -16.02}, {\"time\": \"2022-12-13T00:00:00.000\", \"variable\": \"random_walk\", \"value\": -16.515}, {\"time\": \"2022-12-14T00:00:00.000\", \"variable\": \"random_walk\", \"value\": -15.903}, {\"time\": \"2022-12-15T00:00:00.000\", \"variable\": \"random_walk\", \"value\": -17.185}, {\"time\": \"2022-12-16T00:00:00.000\", \"variable\": \"random_walk\", \"value\": -18.928}, {\"time\": \"2022-12-17T00:00:00.000\", \"variable\": \"random_walk\", \"value\": -19.337}, {\"time\": \"2022-12-18T00:00:00.000\", \"variable\": \"random_walk\", \"value\": -19.741}, {\"time\": \"2022-12-19T00:00:00.000\", \"variable\": \"random_walk\", \"value\": -19.764}, {\"time\": \"2022-12-20T00:00:00.000\", \"variable\": \"random_walk\", \"value\": -19.925}, {\"time\": \"2022-12-21T00:00:00.000\", \"variable\": \"random_walk\", \"value\": -20.56}, {\"time\": \"2022-12-22T00:00:00.000\", \"variable\": \"random_walk\", \"value\": -19.224}, {\"time\": \"2022-12-23T00:00:00.000\", \"variable\": \"random_walk\", \"value\": -18.934}, {\"time\": \"2022-12-24T00:00:00.000\", \"variable\": \"random_walk\", \"value\": -18.149}, {\"time\": \"2022-12-25T00:00:00.000\", \"variable\": \"random_walk\", \"value\": -19.872}, {\"time\": \"2022-12-26T00:00:00.000\", \"variable\": \"random_walk\", \"value\": -20.537}, {\"time\": \"2022-12-27T00:00:00.000\", \"variable\": \"random_walk\", \"value\": -19.912}, {\"time\": \"2022-12-28T00:00:00.000\", \"variable\": \"random_walk\", \"value\": -18.794}, {\"time\": \"2022-12-29T00:00:00.000\", \"variable\": \"random_walk\", \"value\": -17.592}, {\"time\": \"2022-12-30T00:00:00.000\", \"variable\": \"random_walk\", \"value\": -17.878}, {\"time\": \"2022-12-31T00:00:00.000\", \"variable\": \"random_walk\", \"value\": -18.05}], \"transform\": [{\"type\": \"formula\", \"expr\": \"toDate(datum['time'])\", \"as\": \"time\"}]}, {\"name\": \"source_1\", \"values\": [{\"time\": \"2023-01-01T00:00:00.000\", \"variable\": \"darts prediction\", \"value\": -10.887}, {\"time\": \"2023-01-02T00:00:00.000\", \"variable\": \"darts prediction\", \"value\": -10.924}, {\"time\": \"2023-01-03T00:00:00.000\", \"variable\": \"darts prediction\", \"value\": -10.906}, {\"time\": \"2023-01-04T00:00:00.000\", \"variable\": \"darts prediction\", \"value\": -10.899}, {\"time\": \"2023-01-05T00:00:00.000\", \"variable\": \"darts prediction\", \"value\": -10.82}, {\"time\": \"2023-01-06T00:00:00.000\", \"variable\": \"darts prediction\", \"value\": -10.856}, {\"time\": \"2023-01-07T00:00:00.000\", \"variable\": \"darts prediction\", \"value\": -10.835}, {\"time\": \"2023-01-08T00:00:00.000\", \"variable\": \"darts prediction\", \"value\": -10.831}, {\"time\": \"2023-01-09T00:00:00.000\", \"variable\": \"darts prediction\", \"value\": -10.695}, {\"time\": \"2023-01-10T00:00:00.000\", \"variable\": \"darts prediction\", \"value\": -10.529}], \"transform\": [{\"type\": \"formula\", \"expr\": \"toDate(datum['time'])\", \"as\": \"time\"}]}, {\"name\": \"source_2\", \"values\": [{\"time\": \"2023-01-01T00:00:00.000\", \"variable\": \"sklearn prediction\", \"value\": -17.504238716422996}, {\"time\": \"2023-01-02T00:00:00.000\", \"variable\": \"sklearn prediction\", \"value\": -17.05190447891443}, {\"time\": \"2023-01-03T00:00:00.000\", \"variable\": \"sklearn prediction\", \"value\": -16.374105529941207}, {\"time\": \"2023-01-04T00:00:00.000\", \"variable\": \"sklearn prediction\", \"value\": -16.097800653882988}, {\"time\": \"2023-01-05T00:00:00.000\", \"variable\": \"sklearn prediction\", \"value\": -16.1512494353665}, {\"time\": \"2023-01-06T00:00:00.000\", \"variable\": \"sklearn prediction\", \"value\": -16.050714980906587}, {\"time\": \"2023-01-07T00:00:00.000\", \"variable\": \"sklearn prediction\", \"value\": -15.798832547982592}, {\"time\": \"2023-01-08T00:00:00.000\", \"variable\": \"sklearn prediction\", \"value\": -16.158265292938946}, {\"time\": \"2023-01-09T00:00:00.000\", \"variable\": \"sklearn prediction\", \"value\": -15.611345180954562}, {\"time\": \"2023-01-10T00:00:00.000\", \"variable\": \"sklearn prediction\", \"value\": -15.460117390325394}], \"transform\": [{\"type\": \"formula\", \"expr\": \"toDate(datum['time'])\", \"as\": \"time\"}]}, {\"name\": \"source_3\", \"values\": [{\"time\": \"2023-01-01T00:00:00.000\", \"variable\": \"torch prediction\", \"value\": -8.837}, {\"time\": \"2023-01-02T00:00:00.000\", \"variable\": \"torch prediction\", \"value\": -8.837}, {\"time\": \"2023-01-03T00:00:00.000\", \"variable\": \"torch prediction\", \"value\": -8.836}, {\"time\": \"2023-01-04T00:00:00.000\", \"variable\": \"torch prediction\", \"value\": -8.835}, {\"time\": \"2023-01-05T00:00:00.000\", \"variable\": \"torch prediction\", \"value\": -8.834}, {\"time\": \"2023-01-06T00:00:00.000\", \"variable\": \"torch prediction\", \"value\": -8.835}, {\"time\": \"2023-01-07T00:00:00.000\", \"variable\": \"torch prediction\", \"value\": -8.756}, {\"time\": \"2023-01-08T00:00:00.000\", \"variable\": \"torch prediction\", \"value\": -8.691}, {\"time\": \"2023-01-09T00:00:00.000\", \"variable\": \"torch prediction\", \"value\": -8.651}, {\"time\": \"2023-01-10T00:00:00.000\", \"variable\": \"torch prediction\", \"value\": -8.626}], \"transform\": [{\"type\": \"formula\", \"expr\": \"toDate(datum['time'])\", \"as\": \"time\"}]}, {\"name\": \"source_0_color_domain_variable_0\", \"values\": [{\"variable\": \"random_walk\"}]}, {\"name\": \"source_1_color_domain_variable_1\", \"values\": [{\"variable\": \"darts prediction\"}]}, {\"name\": \"source_2_color_domain_variable_2\", \"values\": [{\"variable\": \"sklearn prediction\"}]}, {\"name\": \"source_3_color_domain_variable_3\", \"values\": [{\"variable\": \"torch prediction\"}]}], \"marks\": [{\"type\": \"group\", \"name\": \"layer_0_pathgroup\", \"from\": {\"facet\": {\"data\": \"source_0\", \"name\": \"faceted_path_layer_0_main\", \"groupby\": [\"variable\"]}}, \"encode\": {\"update\": {\"height\": {\"field\": {\"signal\": null, \"datum\": null, \"group\": \"height\", \"parent\": null}}, \"width\": {\"field\": {\"signal\": null, \"datum\": null, \"group\": \"width\", \"parent\": null}}}}, \"marks\": [{\"type\": \"line\", \"name\": \"layer_0_marks\", \"from\": {\"data\": \"faceted_path_layer_0_main\"}, \"sort\": {\"field\": \"x\"}, \"encode\": {\"update\": {\"stroke\": {\"field\": \"variable\", \"scale\": \"color\"}, \"y\": {\"field\": \"value\", \"scale\": \"y\"}, \"x\": {\"field\": \"time\", \"scale\": \"x\"}, \"defined\": {\"signal\": \"isValid(datum[\\\"time\\\"]) && isFinite(+datum[\\\"time\\\"]) && isValid(datum[\\\"value\\\"]) && isFinite(+datum[\\\"value\\\"])\"}}}, \"style\": [\"line\"]}]}, {\"type\": \"group\", \"name\": \"layer_1_pathgroup\", \"from\": {\"facet\": {\"data\": \"source_1\", \"name\": \"faceted_path_layer_1_main\", \"groupby\": [\"variable\"]}}, \"encode\": {\"update\": {\"width\": {\"field\": {\"signal\": null, \"datum\": null, \"group\": \"width\", \"parent\": null}}, \"height\": {\"field\": {\"signal\": null, \"datum\": null, \"group\": \"height\", \"parent\": null}}}}, \"marks\": [{\"type\": \"line\", \"name\": \"layer_1_marks\", \"from\": {\"data\": \"faceted_path_layer_1_main\"}, \"sort\": {\"field\": \"x\"}, \"encode\": {\"update\": {\"y\": {\"field\": \"value\", \"scale\": \"y\"}, \"x\": {\"field\": \"time\", \"scale\": \"x\"}, \"stroke\": {\"field\": \"variable\", \"scale\": \"color\"}, \"defined\": {\"signal\": \"isValid(datum[\\\"time\\\"]) && isFinite(+datum[\\\"time\\\"]) && isValid(datum[\\\"value\\\"]) && isFinite(+datum[\\\"value\\\"])\"}}}, \"style\": [\"line\"]}]}, {\"type\": \"group\", \"name\": \"layer_2_pathgroup\", \"from\": {\"facet\": {\"data\": \"source_2\", \"name\": \"faceted_path_layer_2_main\", \"groupby\": [\"variable\"]}}, \"encode\": {\"update\": {\"width\": {\"field\": {\"signal\": null, \"datum\": null, \"group\": \"width\", \"parent\": null}}, \"height\": {\"field\": {\"signal\": null, \"datum\": null, \"group\": \"height\", \"parent\": null}}}}, \"marks\": [{\"type\": \"line\", \"name\": \"layer_2_marks\", \"from\": {\"data\": \"faceted_path_layer_2_main\"}, \"sort\": {\"field\": \"x\"}, \"encode\": {\"update\": {\"stroke\": {\"field\": \"variable\", \"scale\": \"color\"}, \"y\": {\"field\": \"value\", \"scale\": \"y\"}, \"defined\": {\"signal\": \"isValid(datum[\\\"time\\\"]) && isFinite(+datum[\\\"time\\\"]) && isValid(datum[\\\"value\\\"]) && isFinite(+datum[\\\"value\\\"])\"}, \"x\": {\"field\": \"time\", \"scale\": \"x\"}}}, \"style\": [\"line\"]}]}, {\"type\": \"group\", \"name\": \"layer_3_pathgroup\", \"from\": {\"facet\": {\"data\": \"source_3\", \"name\": \"faceted_path_layer_3_main\", \"groupby\": [\"variable\"]}}, \"encode\": {\"update\": {\"width\": {\"field\": {\"signal\": null, \"datum\": null, \"group\": \"width\", \"parent\": null}}, \"height\": {\"field\": {\"signal\": null, \"datum\": null, \"group\": \"height\", \"parent\": null}}}}, \"marks\": [{\"type\": \"line\", \"name\": \"layer_3_marks\", \"from\": {\"data\": \"faceted_path_layer_3_main\"}, \"sort\": {\"field\": \"x\"}, \"encode\": {\"update\": {\"stroke\": {\"field\": \"variable\", \"scale\": \"color\"}, \"y\": {\"field\": \"value\", \"scale\": \"y\"}, \"defined\": {\"signal\": \"isValid(datum[\\\"time\\\"]) && isFinite(+datum[\\\"time\\\"]) && isValid(datum[\\\"value\\\"]) && isFinite(+datum[\\\"value\\\"])\"}, \"x\": {\"field\": \"time\", \"scale\": \"x\"}}}, \"style\": [\"line\"]}]}], \"scales\": [{\"name\": \"x\", \"type\": \"time\", \"domain\": {\"fields\": [{\"data\": \"source_0\", \"field\": \"time\"}, {\"data\": \"source_1\", \"field\": \"time\"}, {\"data\": \"source_2\", \"field\": \"time\"}, {\"data\": \"source_3\", \"field\": \"time\"}]}, \"range\": [0, {\"signal\": \"width\"}]}, {\"name\": \"y\", \"type\": \"linear\", \"domain\": {\"fields\": [{\"data\": \"source_0\", \"field\": \"value\"}, {\"data\": \"source_1\", \"field\": \"value\"}, {\"data\": \"source_2\", \"field\": \"value\"}, {\"data\": \"source_3\", \"field\": \"value\"}]}, \"range\": [{\"signal\": \"height\"}, 0], \"nice\": true, \"zero\": true}, {\"name\": \"color\", \"type\": \"ordinal\", \"domain\": {\"fields\": [{\"data\": \"source_0_color_domain_variable_0\", \"field\": \"variable\"}, {\"data\": \"source_1_color_domain_variable_1\", \"field\": \"variable\"}, {\"data\": \"source_2_color_domain_variable_2\", \"field\": \"variable\"}, {\"data\": \"source_3_color_domain_variable_3\", \"field\": \"variable\"}], \"sort\": true}, \"range\": \"category\"}], \"axes\": [{\"scale\": \"x\", \"domain\": false, \"labels\": false, \"grid\": true, \"maxExtent\": 0, \"ticks\": false, \"zindex\": 0, \"minExtent\": 0, \"orient\": \"bottom\", \"gridScale\": \"y\", \"tickCount\": {\"signal\": \"ceil(width/40)\"}, \"aria\": false}, {\"scale\": \"y\", \"orient\": \"left\", \"grid\": true, \"domain\": false, \"maxExtent\": 0, \"zindex\": 0, \"gridScale\": \"x\", \"labels\": false, \"aria\": false, \"minExtent\": 0, \"tickCount\": {\"signal\": \"ceil(height/40)\"}, \"ticks\": false}, {\"scale\": \"x\", \"orient\": \"bottom\", \"title\": \"time\", \"grid\": false, \"labelFlush\": true, \"zindex\": 0, \"tickCount\": {\"signal\": \"ceil(width/40)\"}, \"labelOverlap\": true}, {\"scale\": \"y\", \"tickCount\": {\"signal\": \"ceil(height/40)\"}, \"title\": \"value\", \"grid\": false, \"orient\": \"left\", \"labelOverlap\": true, \"zindex\": 0}], \"height\": 300, \"background\": \"white\", \"padding\": 5, \"width\": 600, \"legends\": [{\"stroke\": \"color\", \"symbolType\": \"stroke\", \"title\": \"variable\"}], \"style\": \"cell\"}, {\"mode\": \"vega\"});\n",
       "</script>"
      ],
      "text/plain": [
       "alt.LayerChart(...)"
      ]
     },
     "execution_count": 57,
     "metadata": {},
     "output_type": "execute_result"
    }
   ],
   "source": [
    "(on.Plot()\n",
    "    .add(on.marks.line, ts[-50:])\n",
    "    .add(on.marks.line, darts_pred)\n",
    "    .add(on.marks.line, sk_pred)\n",
    "    .add(on.marks.line, torch_pred)\n",
    "    .properties(width=600, height=300)\n",
    "    .show()\n",
    ")"
   ]
  }
 ],
 "metadata": {
  "kernelspec": {
   "display_name": "ontime-2OQVvbNf-py3.11",
   "language": "python",
   "name": "python3"
  },
  "language_info": {
   "codemirror_mode": {
    "name": "ipython",
    "version": 3
   },
   "file_extension": ".py",
   "mimetype": "text/x-python",
   "name": "python",
   "nbconvert_exporter": "python",
   "pygments_lexer": "ipython3",
   "version": "3.11.0rc1"
  },
  "papermill": {
   "default_parameters": {},
   "duration": 21.99495,
   "end_time": "2024-01-31T17:50:16.963941",
   "environment_variables": {},
   "exception": null,
   "input_path": "docs/user_guide/0_core/0.4-modelling.ipynb",
   "output_path": "docs/user_guide/0_core/0.4-modelling.ipynb",
   "parameters": {},
   "start_time": "2024-01-31T17:49:54.968991",
   "version": "2.5.0"
  },
  "widgets": {
   "application/vnd.jupyter.widget-state+json": {
    "state": {
     "007b13deca0141eea670cd4ab30a7a31": {
      "model_module": "@jupyter-widgets/controls",
      "model_module_version": "2.0.0",
      "model_name": "HTMLModel",
      "state": {
       "_dom_classes": [],
       "_model_module": "@jupyter-widgets/controls",
       "_model_module_version": "2.0.0",
       "_model_name": "HTMLModel",
       "_view_count": null,
       "_view_module": "@jupyter-widgets/controls",
       "_view_module_version": "2.0.0",
       "_view_name": "HTMLView",
       "description": "",
       "description_allow_html": false,
       "layout": "IPY_MODEL_ed88472606b046a2b36494edc92d33b7",
       "placeholder": "​",
       "style": "IPY_MODEL_f8ec3a45ffc6465f9937b66c3e97a1c8",
       "tabbable": null,
       "tooltip": null,
       "value": "Predicting DataLoader 0: 100%"
      }
     },
     "00d880c4ff144597ab4f4b27bbd48648": {
      "model_module": "@jupyter-widgets/controls",
      "model_module_version": "2.0.0",
      "model_name": "HTMLStyleModel",
      "state": {
       "_model_module": "@jupyter-widgets/controls",
       "_model_module_version": "2.0.0",
       "_model_name": "HTMLStyleModel",
       "_view_count": null,
       "_view_module": "@jupyter-widgets/base",
       "_view_module_version": "2.0.0",
       "_view_name": "StyleView",
       "background": null,
       "description_width": "",
       "font_size": null,
       "text_color": null
      }
     },
     "266c614cf97a4643a449978ab6c20ef8": {
      "model_module": "@jupyter-widgets/controls",
      "model_module_version": "2.0.0",
      "model_name": "HTMLStyleModel",
      "state": {
       "_model_module": "@jupyter-widgets/controls",
       "_model_module_version": "2.0.0",
       "_model_name": "HTMLStyleModel",
       "_view_count": null,
       "_view_module": "@jupyter-widgets/base",
       "_view_module_version": "2.0.0",
       "_view_name": "StyleView",
       "background": null,
       "description_width": "",
       "font_size": null,
       "text_color": null
      }
     },
     "287802ce0cd2419aa600f096393748c5": {
      "model_module": "@jupyter-widgets/base",
      "model_module_version": "2.0.0",
      "model_name": "LayoutModel",
      "state": {
       "_model_module": "@jupyter-widgets/base",
       "_model_module_version": "2.0.0",
       "_model_name": "LayoutModel",
       "_view_count": null,
       "_view_module": "@jupyter-widgets/base",
       "_view_module_version": "2.0.0",
       "_view_name": "LayoutView",
       "align_content": null,
       "align_items": null,
       "align_self": null,
       "border_bottom": null,
       "border_left": null,
       "border_right": null,
       "border_top": null,
       "bottom": null,
       "display": null,
       "flex": null,
       "flex_flow": null,
       "grid_area": null,
       "grid_auto_columns": null,
       "grid_auto_flow": null,
       "grid_auto_rows": null,
       "grid_column": null,
       "grid_gap": null,
       "grid_row": null,
       "grid_template_areas": null,
       "grid_template_columns": null,
       "grid_template_rows": null,
       "height": null,
       "justify_content": null,
       "justify_items": null,
       "left": null,
       "margin": null,
       "max_height": null,
       "max_width": null,
       "min_height": null,
       "min_width": null,
       "object_fit": null,
       "object_position": null,
       "order": null,
       "overflow": null,
       "padding": null,
       "right": null,
       "top": null,
       "visibility": null,
       "width": null
      }
     },
     "36e47658259148c8846687a980950ef1": {
      "model_module": "@jupyter-widgets/base",
      "model_module_version": "2.0.0",
      "model_name": "LayoutModel",
      "state": {
       "_model_module": "@jupyter-widgets/base",
       "_model_module_version": "2.0.0",
       "_model_name": "LayoutModel",
       "_view_count": null,
       "_view_module": "@jupyter-widgets/base",
       "_view_module_version": "2.0.0",
       "_view_name": "LayoutView",
       "align_content": null,
       "align_items": null,
       "align_self": null,
       "border_bottom": null,
       "border_left": null,
       "border_right": null,
       "border_top": null,
       "bottom": null,
       "display": "inline-flex",
       "flex": null,
       "flex_flow": "row wrap",
       "grid_area": null,
       "grid_auto_columns": null,
       "grid_auto_flow": null,
       "grid_auto_rows": null,
       "grid_column": null,
       "grid_gap": null,
       "grid_row": null,
       "grid_template_areas": null,
       "grid_template_columns": null,
       "grid_template_rows": null,
       "height": null,
       "justify_content": null,
       "justify_items": null,
       "left": null,
       "margin": null,
       "max_height": null,
       "max_width": null,
       "min_height": null,
       "min_width": null,
       "object_fit": null,
       "object_position": null,
       "order": null,
       "overflow": null,
       "padding": null,
       "right": null,
       "top": null,
       "visibility": null,
       "width": "100%"
      }
     },
     "48e94174d3e7426386fc77689882565f": {
      "model_module": "@jupyter-widgets/controls",
      "model_module_version": "2.0.0",
      "model_name": "HTMLModel",
      "state": {
       "_dom_classes": [],
       "_model_module": "@jupyter-widgets/controls",
       "_model_module_version": "2.0.0",
       "_model_name": "HTMLModel",
       "_view_count": null,
       "_view_module": "@jupyter-widgets/controls",
       "_view_module_version": "2.0.0",
       "_view_name": "HTMLView",
       "description": "",
       "description_allow_html": false,
       "layout": "IPY_MODEL_287802ce0cd2419aa600f096393748c5",
       "placeholder": "​",
       "style": "IPY_MODEL_00d880c4ff144597ab4f4b27bbd48648",
       "tabbable": null,
       "tooltip": null,
       "value": " 11/11 [00:00&lt;00:00, 49.70it/s, train_loss=83.30]"
      }
     },
     "4af28ba7da104f918f509ce58d6af332": {
      "model_module": "@jupyter-widgets/controls",
      "model_module_version": "2.0.0",
      "model_name": "HTMLModel",
      "state": {
       "_dom_classes": [],
       "_model_module": "@jupyter-widgets/controls",
       "_model_module_version": "2.0.0",
       "_model_name": "HTMLModel",
       "_view_count": null,
       "_view_module": "@jupyter-widgets/controls",
       "_view_module_version": "2.0.0",
       "_view_name": "HTMLView",
       "description": "",
       "description_allow_html": false,
       "layout": "IPY_MODEL_a87b4923c6ec401384788598f2614110",
       "placeholder": "​",
       "style": "IPY_MODEL_aa7abb12d08c4cc1bf75c5fccb0aef2a",
       "tabbable": null,
       "tooltip": null,
       "value": "Epoch 49: 100%"
      }
     },
     "566a752cee3b4c1ab6e8072032b93dd3": {
      "model_module": "@jupyter-widgets/base",
      "model_module_version": "2.0.0",
      "model_name": "LayoutModel",
      "state": {
       "_model_module": "@jupyter-widgets/base",
       "_model_module_version": "2.0.0",
       "_model_name": "LayoutModel",
       "_view_count": null,
       "_view_module": "@jupyter-widgets/base",
       "_view_module_version": "2.0.0",
       "_view_name": "LayoutView",
       "align_content": null,
       "align_items": null,
       "align_self": null,
       "border_bottom": null,
       "border_left": null,
       "border_right": null,
       "border_top": null,
       "bottom": null,
       "display": "inline-flex",
       "flex": null,
       "flex_flow": "row wrap",
       "grid_area": null,
       "grid_auto_columns": null,
       "grid_auto_flow": null,
       "grid_auto_rows": null,
       "grid_column": null,
       "grid_gap": null,
       "grid_row": null,
       "grid_template_areas": null,
       "grid_template_columns": null,
       "grid_template_rows": null,
       "height": null,
       "justify_content": null,
       "justify_items": null,
       "left": null,
       "margin": null,
       "max_height": null,
       "max_width": null,
       "min_height": null,
       "min_width": null,
       "object_fit": null,
       "object_position": null,
       "order": null,
       "overflow": null,
       "padding": null,
       "right": null,
       "top": null,
       "visibility": null,
       "width": "100%"
      }
     },
     "5b0796a9c0bc496a9c5ce424fc19b4ec": {
      "model_module": "@jupyter-widgets/controls",
      "model_module_version": "2.0.0",
      "model_name": "FloatProgressModel",
      "state": {
       "_dom_classes": [],
       "_model_module": "@jupyter-widgets/controls",
       "_model_module_version": "2.0.0",
       "_model_name": "FloatProgressModel",
       "_view_count": null,
       "_view_module": "@jupyter-widgets/controls",
       "_view_module_version": "2.0.0",
       "_view_name": "ProgressView",
       "bar_style": "success",
       "description": "",
       "description_allow_html": false,
       "layout": "IPY_MODEL_f5e873e0e63843b2a289152d45ce8663",
       "max": 11,
       "min": 0,
       "orientation": "horizontal",
       "style": "IPY_MODEL_8bb217768a424ceaa3660e34622eef03",
       "tabbable": null,
       "tooltip": null,
       "value": 11
      }
     },
     "8bb217768a424ceaa3660e34622eef03": {
      "model_module": "@jupyter-widgets/controls",
      "model_module_version": "2.0.0",
      "model_name": "ProgressStyleModel",
      "state": {
       "_model_module": "@jupyter-widgets/controls",
       "_model_module_version": "2.0.0",
       "_model_name": "ProgressStyleModel",
       "_view_count": null,
       "_view_module": "@jupyter-widgets/base",
       "_view_module_version": "2.0.0",
       "_view_name": "StyleView",
       "bar_color": null,
       "description_width": ""
      }
     },
     "987b2456fb024e03a47f5e9e608c4f87": {
      "model_module": "@jupyter-widgets/controls",
      "model_module_version": "2.0.0",
      "model_name": "HTMLModel",
      "state": {
       "_dom_classes": [],
       "_model_module": "@jupyter-widgets/controls",
       "_model_module_version": "2.0.0",
       "_model_name": "HTMLModel",
       "_view_count": null,
       "_view_module": "@jupyter-widgets/controls",
       "_view_module_version": "2.0.0",
       "_view_name": "HTMLView",
       "description": "",
       "description_allow_html": false,
       "layout": "IPY_MODEL_eba6b511c3f34cf88f94aa99df7986df",
       "placeholder": "​",
       "style": "IPY_MODEL_266c614cf97a4643a449978ab6c20ef8",
       "tabbable": null,
       "tooltip": null,
       "value": " 1/1 [00:00&lt;00:00,  3.03it/s]"
      }
     },
     "a07b01c878ca4d74b4c89fd137ff29a0": {
      "model_module": "@jupyter-widgets/controls",
      "model_module_version": "2.0.0",
      "model_name": "HBoxModel",
      "state": {
       "_dom_classes": [],
       "_model_module": "@jupyter-widgets/controls",
       "_model_module_version": "2.0.0",
       "_model_name": "HBoxModel",
       "_view_count": null,
       "_view_module": "@jupyter-widgets/controls",
       "_view_module_version": "2.0.0",
       "_view_name": "HBoxView",
       "box_style": "",
       "children": [
        "IPY_MODEL_4af28ba7da104f918f509ce58d6af332",
        "IPY_MODEL_5b0796a9c0bc496a9c5ce424fc19b4ec",
        "IPY_MODEL_48e94174d3e7426386fc77689882565f"
       ],
       "layout": "IPY_MODEL_566a752cee3b4c1ab6e8072032b93dd3",
       "tabbable": null,
       "tooltip": null
      }
     },
     "a511eb5708d6401fa2ba0f969235c16f": {
      "model_module": "@jupyter-widgets/controls",
      "model_module_version": "2.0.0",
      "model_name": "HBoxModel",
      "state": {
       "_dom_classes": [],
       "_model_module": "@jupyter-widgets/controls",
       "_model_module_version": "2.0.0",
       "_model_name": "HBoxModel",
       "_view_count": null,
       "_view_module": "@jupyter-widgets/controls",
       "_view_module_version": "2.0.0",
       "_view_name": "HBoxView",
       "box_style": "",
       "children": [
        "IPY_MODEL_007b13deca0141eea670cd4ab30a7a31",
        "IPY_MODEL_eb65e8a306c84558b3734fc937e95a2a",
        "IPY_MODEL_987b2456fb024e03a47f5e9e608c4f87"
       ],
       "layout": "IPY_MODEL_36e47658259148c8846687a980950ef1",
       "tabbable": null,
       "tooltip": null
      }
     },
     "a87b4923c6ec401384788598f2614110": {
      "model_module": "@jupyter-widgets/base",
      "model_module_version": "2.0.0",
      "model_name": "LayoutModel",
      "state": {
       "_model_module": "@jupyter-widgets/base",
       "_model_module_version": "2.0.0",
       "_model_name": "LayoutModel",
       "_view_count": null,
       "_view_module": "@jupyter-widgets/base",
       "_view_module_version": "2.0.0",
       "_view_name": "LayoutView",
       "align_content": null,
       "align_items": null,
       "align_self": null,
       "border_bottom": null,
       "border_left": null,
       "border_right": null,
       "border_top": null,
       "bottom": null,
       "display": null,
       "flex": null,
       "flex_flow": null,
       "grid_area": null,
       "grid_auto_columns": null,
       "grid_auto_flow": null,
       "grid_auto_rows": null,
       "grid_column": null,
       "grid_gap": null,
       "grid_row": null,
       "grid_template_areas": null,
       "grid_template_columns": null,
       "grid_template_rows": null,
       "height": null,
       "justify_content": null,
       "justify_items": null,
       "left": null,
       "margin": null,
       "max_height": null,
       "max_width": null,
       "min_height": null,
       "min_width": null,
       "object_fit": null,
       "object_position": null,
       "order": null,
       "overflow": null,
       "padding": null,
       "right": null,
       "top": null,
       "visibility": null,
       "width": null
      }
     },
     "aa7abb12d08c4cc1bf75c5fccb0aef2a": {
      "model_module": "@jupyter-widgets/controls",
      "model_module_version": "2.0.0",
      "model_name": "HTMLStyleModel",
      "state": {
       "_model_module": "@jupyter-widgets/controls",
       "_model_module_version": "2.0.0",
       "_model_name": "HTMLStyleModel",
       "_view_count": null,
       "_view_module": "@jupyter-widgets/base",
       "_view_module_version": "2.0.0",
       "_view_name": "StyleView",
       "background": null,
       "description_width": "",
       "font_size": null,
       "text_color": null
      }
     },
     "af7d5cc036b04255b90a4900e9bab6cf": {
      "model_module": "@jupyter-widgets/controls",
      "model_module_version": "2.0.0",
      "model_name": "ProgressStyleModel",
      "state": {
       "_model_module": "@jupyter-widgets/controls",
       "_model_module_version": "2.0.0",
       "_model_name": "ProgressStyleModel",
       "_view_count": null,
       "_view_module": "@jupyter-widgets/base",
       "_view_module_version": "2.0.0",
       "_view_name": "StyleView",
       "bar_color": null,
       "description_width": ""
      }
     },
     "bb81cd5776644f20a4d095f06bd4786f": {
      "model_module": "@jupyter-widgets/base",
      "model_module_version": "2.0.0",
      "model_name": "LayoutModel",
      "state": {
       "_model_module": "@jupyter-widgets/base",
       "_model_module_version": "2.0.0",
       "_model_name": "LayoutModel",
       "_view_count": null,
       "_view_module": "@jupyter-widgets/base",
       "_view_module_version": "2.0.0",
       "_view_name": "LayoutView",
       "align_content": null,
       "align_items": null,
       "align_self": null,
       "border_bottom": null,
       "border_left": null,
       "border_right": null,
       "border_top": null,
       "bottom": null,
       "display": null,
       "flex": "2",
       "flex_flow": null,
       "grid_area": null,
       "grid_auto_columns": null,
       "grid_auto_flow": null,
       "grid_auto_rows": null,
       "grid_column": null,
       "grid_gap": null,
       "grid_row": null,
       "grid_template_areas": null,
       "grid_template_columns": null,
       "grid_template_rows": null,
       "height": null,
       "justify_content": null,
       "justify_items": null,
       "left": null,
       "margin": null,
       "max_height": null,
       "max_width": null,
       "min_height": null,
       "min_width": null,
       "object_fit": null,
       "object_position": null,
       "order": null,
       "overflow": null,
       "padding": null,
       "right": null,
       "top": null,
       "visibility": null,
       "width": null
      }
     },
     "eb65e8a306c84558b3734fc937e95a2a": {
      "model_module": "@jupyter-widgets/controls",
      "model_module_version": "2.0.0",
      "model_name": "FloatProgressModel",
      "state": {
       "_dom_classes": [],
       "_model_module": "@jupyter-widgets/controls",
       "_model_module_version": "2.0.0",
       "_model_name": "FloatProgressModel",
       "_view_count": null,
       "_view_module": "@jupyter-widgets/controls",
       "_view_module_version": "2.0.0",
       "_view_name": "ProgressView",
       "bar_style": "success",
       "description": "",
       "description_allow_html": false,
       "layout": "IPY_MODEL_bb81cd5776644f20a4d095f06bd4786f",
       "max": 1,
       "min": 0,
       "orientation": "horizontal",
       "style": "IPY_MODEL_af7d5cc036b04255b90a4900e9bab6cf",
       "tabbable": null,
       "tooltip": null,
       "value": 1
      }
     },
     "eba6b511c3f34cf88f94aa99df7986df": {
      "model_module": "@jupyter-widgets/base",
      "model_module_version": "2.0.0",
      "model_name": "LayoutModel",
      "state": {
       "_model_module": "@jupyter-widgets/base",
       "_model_module_version": "2.0.0",
       "_model_name": "LayoutModel",
       "_view_count": null,
       "_view_module": "@jupyter-widgets/base",
       "_view_module_version": "2.0.0",
       "_view_name": "LayoutView",
       "align_content": null,
       "align_items": null,
       "align_self": null,
       "border_bottom": null,
       "border_left": null,
       "border_right": null,
       "border_top": null,
       "bottom": null,
       "display": null,
       "flex": null,
       "flex_flow": null,
       "grid_area": null,
       "grid_auto_columns": null,
       "grid_auto_flow": null,
       "grid_auto_rows": null,
       "grid_column": null,
       "grid_gap": null,
       "grid_row": null,
       "grid_template_areas": null,
       "grid_template_columns": null,
       "grid_template_rows": null,
       "height": null,
       "justify_content": null,
       "justify_items": null,
       "left": null,
       "margin": null,
       "max_height": null,
       "max_width": null,
       "min_height": null,
       "min_width": null,
       "object_fit": null,
       "object_position": null,
       "order": null,
       "overflow": null,
       "padding": null,
       "right": null,
       "top": null,
       "visibility": null,
       "width": null
      }
     },
     "ed88472606b046a2b36494edc92d33b7": {
      "model_module": "@jupyter-widgets/base",
      "model_module_version": "2.0.0",
      "model_name": "LayoutModel",
      "state": {
       "_model_module": "@jupyter-widgets/base",
       "_model_module_version": "2.0.0",
       "_model_name": "LayoutModel",
       "_view_count": null,
       "_view_module": "@jupyter-widgets/base",
       "_view_module_version": "2.0.0",
       "_view_name": "LayoutView",
       "align_content": null,
       "align_items": null,
       "align_self": null,
       "border_bottom": null,
       "border_left": null,
       "border_right": null,
       "border_top": null,
       "bottom": null,
       "display": null,
       "flex": null,
       "flex_flow": null,
       "grid_area": null,
       "grid_auto_columns": null,
       "grid_auto_flow": null,
       "grid_auto_rows": null,
       "grid_column": null,
       "grid_gap": null,
       "grid_row": null,
       "grid_template_areas": null,
       "grid_template_columns": null,
       "grid_template_rows": null,
       "height": null,
       "justify_content": null,
       "justify_items": null,
       "left": null,
       "margin": null,
       "max_height": null,
       "max_width": null,
       "min_height": null,
       "min_width": null,
       "object_fit": null,
       "object_position": null,
       "order": null,
       "overflow": null,
       "padding": null,
       "right": null,
       "top": null,
       "visibility": null,
       "width": null
      }
     },
     "f5e873e0e63843b2a289152d45ce8663": {
      "model_module": "@jupyter-widgets/base",
      "model_module_version": "2.0.0",
      "model_name": "LayoutModel",
      "state": {
       "_model_module": "@jupyter-widgets/base",
       "_model_module_version": "2.0.0",
       "_model_name": "LayoutModel",
       "_view_count": null,
       "_view_module": "@jupyter-widgets/base",
       "_view_module_version": "2.0.0",
       "_view_name": "LayoutView",
       "align_content": null,
       "align_items": null,
       "align_self": null,
       "border_bottom": null,
       "border_left": null,
       "border_right": null,
       "border_top": null,
       "bottom": null,
       "display": null,
       "flex": "2",
       "flex_flow": null,
       "grid_area": null,
       "grid_auto_columns": null,
       "grid_auto_flow": null,
       "grid_auto_rows": null,
       "grid_column": null,
       "grid_gap": null,
       "grid_row": null,
       "grid_template_areas": null,
       "grid_template_columns": null,
       "grid_template_rows": null,
       "height": null,
       "justify_content": null,
       "justify_items": null,
       "left": null,
       "margin": null,
       "max_height": null,
       "max_width": null,
       "min_height": null,
       "min_width": null,
       "object_fit": null,
       "object_position": null,
       "order": null,
       "overflow": null,
       "padding": null,
       "right": null,
       "top": null,
       "visibility": null,
       "width": null
      }
     },
     "f8ec3a45ffc6465f9937b66c3e97a1c8": {
      "model_module": "@jupyter-widgets/controls",
      "model_module_version": "2.0.0",
      "model_name": "HTMLStyleModel",
      "state": {
       "_model_module": "@jupyter-widgets/controls",
       "_model_module_version": "2.0.0",
       "_model_name": "HTMLStyleModel",
       "_view_count": null,
       "_view_module": "@jupyter-widgets/base",
       "_view_module_version": "2.0.0",
       "_view_name": "StyleView",
       "background": null,
       "description_width": "",
       "font_size": null,
       "text_color": null
      }
     }
    },
    "version_major": 2,
    "version_minor": 0
   }
  }
 },
 "nbformat": 4,
 "nbformat_minor": 5
}
