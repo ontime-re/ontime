{
 "cells": [
  {
   "cell_type": "markdown",
   "id": "41296cc6-9d84-47c5-8a92-2d292f6f3c4a",
   "metadata": {
    "papermill": {
     "duration": 0.008378,
     "end_time": "2024-01-31T17:50:26.827798",
     "exception": false,
     "start_time": "2024-01-31T17:50:26.819420",
     "status": "completed"
    },
    "tags": []
   },
   "source": [
    "# Detectors, Generators"
   ]
  },
  {
   "cell_type": "code",
   "execution_count": 1,
   "id": "9286e0b8-3c78-4b0f-943c-d219e9840dfe",
   "metadata": {
    "execution": {
     "iopub.execute_input": "2024-01-31T17:50:26.837942Z",
     "iopub.status.busy": "2024-01-31T17:50:26.837575Z",
     "iopub.status.idle": "2024-01-31T17:50:26.845813Z",
     "shell.execute_reply": "2024-01-31T17:50:26.845419Z"
    },
    "papermill": {
     "duration": 0.014825,
     "end_time": "2024-01-31T17:50:26.847199",
     "exception": false,
     "start_time": "2024-01-31T17:50:26.832374",
     "status": "completed"
    },
    "tags": []
   },
   "outputs": [],
   "source": [
    "# Import to be able to import python package from src\n",
    "import sys\n",
    "sys.path.insert(0, '../src')"
   ]
  },
  {
   "cell_type": "code",
   "execution_count": 2,
   "id": "2028eed7-b1c3-4c9e-b6a0-00433caa7d0f",
   "metadata": {
    "execution": {
     "iopub.execute_input": "2024-01-31T17:50:26.854010Z",
     "iopub.status.busy": "2024-01-31T17:50:26.853802Z",
     "iopub.status.idle": "2024-01-31T17:50:29.364233Z",
     "shell.execute_reply": "2024-01-31T17:50:29.363859Z"
    },
    "papermill": {
     "duration": 2.515115,
     "end_time": "2024-01-31T17:50:29.365394",
     "exception": false,
     "start_time": "2024-01-31T17:50:26.850279",
     "status": "completed"
    },
    "tags": []
   },
   "outputs": [
    {
     "name": "stderr",
     "output_type": "stream",
     "text": [
      "The `LightGBM` module could not be imported. To enable LightGBM support in Darts, follow the detailed instructions in the installation guide: https://github.com/unit8co/darts/blob/master/INSTALL.md\n"
     ]
    },
    {
     "name": "stderr",
     "output_type": "stream",
     "text": [
      "The `Prophet` module could not be imported. To enable Prophet support in Darts, follow the detailed instructions in the installation guide: https://github.com/unit8co/darts/blob/master/INSTALL.md\n"
     ]
    }
   ],
   "source": [
    "import pandas as pd\n",
    "import numpy as np\n",
    "import ontime as on"
   ]
  },
  {
   "cell_type": "code",
   "execution_count": 3,
   "id": "fa27dea9-0881-4dc2-8405-0aec5a7b7af9",
   "metadata": {
    "execution": {
     "iopub.execute_input": "2024-01-31T17:50:29.369712Z",
     "iopub.status.busy": "2024-01-31T17:50:29.369596Z",
     "iopub.status.idle": "2024-01-31T17:50:29.371272Z",
     "shell.execute_reply": "2024-01-31T17:50:29.371048Z"
    },
    "papermill": {
     "duration": 0.00484,
     "end_time": "2024-01-31T17:50:29.372157",
     "exception": false,
     "start_time": "2024-01-31T17:50:29.367317",
     "status": "completed"
    },
    "tags": []
   },
   "outputs": [],
   "source": [
    "from ontime.core.detector import Threshold"
   ]
  },
  {
   "cell_type": "markdown",
   "id": "e24da8ab-6a83-4c2f-9ff0-c633d4693a91",
   "metadata": {
    "papermill": {
     "duration": 0.001714,
     "end_time": "2024-01-31T17:50:29.375771",
     "exception": false,
     "start_time": "2024-01-31T17:50:29.374057",
     "status": "completed"
    },
    "tags": []
   },
   "source": [
    "---\n",
    "## Generation of random time series"
   ]
  },
  {
   "cell_type": "code",
   "execution_count": 4,
   "id": "e9a96d79-0423-4d79-b01d-726193216238",
   "metadata": {
    "execution": {
     "iopub.execute_input": "2024-01-31T17:50:29.379663Z",
     "iopub.status.busy": "2024-01-31T17:50:29.379563Z",
     "iopub.status.idle": "2024-01-31T17:50:29.383199Z",
     "shell.execute_reply": "2024-01-31T17:50:29.382921Z"
    },
    "papermill": {
     "duration": 0.006608,
     "end_time": "2024-01-31T17:50:29.384080",
     "exception": false,
     "start_time": "2024-01-31T17:50:29.377472",
     "status": "completed"
    },
    "tags": []
   },
   "outputs": [],
   "source": [
    "ts = on.generators.random_walk().generate(start=pd.Timestamp('2022-01-01'), end=pd.Timestamp('2022-12-31'))"
   ]
  },
  {
   "cell_type": "code",
   "execution_count": 5,
   "id": "d463df9c-4f02-4c1e-b1a5-7162b9ea8c63",
   "metadata": {
    "execution": {
     "iopub.execute_input": "2024-01-31T17:50:29.388054Z",
     "iopub.status.busy": "2024-01-31T17:50:29.387945Z",
     "iopub.status.idle": "2024-01-31T17:50:29.394075Z",
     "shell.execute_reply": "2024-01-31T17:50:29.393821Z"
    },
    "papermill": {
     "duration": 0.009125,
     "end_time": "2024-01-31T17:50:29.394914",
     "exception": false,
     "start_time": "2024-01-31T17:50:29.385789",
     "status": "completed"
    },
    "tags": []
   },
   "outputs": [
    {
     "data": {
      "text/html": [
       "<div><svg style=\"position: absolute; width: 0; height: 0; overflow: hidden\">\n",
       "<defs>\n",
       "<symbol id=\"icon-database\" viewBox=\"0 0 32 32\">\n",
       "<path d=\"M16 0c-8.837 0-16 2.239-16 5v4c0 2.761 7.163 5 16 5s16-2.239 16-5v-4c0-2.761-7.163-5-16-5z\"></path>\n",
       "<path d=\"M16 17c-8.837 0-16-2.239-16-5v6c0 2.761 7.163 5 16 5s16-2.239 16-5v-6c0 2.761-7.163 5-16 5z\"></path>\n",
       "<path d=\"M16 26c-8.837 0-16-2.239-16-5v6c0 2.761 7.163 5 16 5s16-2.239 16-5v-6c0 2.761-7.163 5-16 5z\"></path>\n",
       "</symbol>\n",
       "<symbol id=\"icon-file-text2\" viewBox=\"0 0 32 32\">\n",
       "<path d=\"M28.681 7.159c-0.694-0.947-1.662-2.053-2.724-3.116s-2.169-2.030-3.116-2.724c-1.612-1.182-2.393-1.319-2.841-1.319h-15.5c-1.378 0-2.5 1.121-2.5 2.5v27c0 1.378 1.122 2.5 2.5 2.5h23c1.378 0 2.5-1.122 2.5-2.5v-19.5c0-0.448-0.137-1.23-1.319-2.841zM24.543 5.457c0.959 0.959 1.712 1.825 2.268 2.543h-4.811v-4.811c0.718 0.556 1.584 1.309 2.543 2.268zM28 29.5c0 0.271-0.229 0.5-0.5 0.5h-23c-0.271 0-0.5-0.229-0.5-0.5v-27c0-0.271 0.229-0.5 0.5-0.5 0 0 15.499-0 15.5 0v7c0 0.552 0.448 1 1 1h7v19.5z\"></path>\n",
       "<path d=\"M23 26h-14c-0.552 0-1-0.448-1-1s0.448-1 1-1h14c0.552 0 1 0.448 1 1s-0.448 1-1 1z\"></path>\n",
       "<path d=\"M23 22h-14c-0.552 0-1-0.448-1-1s0.448-1 1-1h14c0.552 0 1 0.448 1 1s-0.448 1-1 1z\"></path>\n",
       "<path d=\"M23 18h-14c-0.552 0-1-0.448-1-1s0.448-1 1-1h14c0.552 0 1 0.448 1 1s-0.448 1-1 1z\"></path>\n",
       "</symbol>\n",
       "</defs>\n",
       "</svg>\n",
       "<style>/* CSS stylesheet for displaying xarray objects in jupyterlab.\n",
       " *\n",
       " */\n",
       "\n",
       ":root {\n",
       "  --xr-font-color0: var(--jp-content-font-color0, rgba(0, 0, 0, 1));\n",
       "  --xr-font-color2: var(--jp-content-font-color2, rgba(0, 0, 0, 0.54));\n",
       "  --xr-font-color3: var(--jp-content-font-color3, rgba(0, 0, 0, 0.38));\n",
       "  --xr-border-color: var(--jp-border-color2, #e0e0e0);\n",
       "  --xr-disabled-color: var(--jp-layout-color3, #bdbdbd);\n",
       "  --xr-background-color: var(--jp-layout-color0, white);\n",
       "  --xr-background-color-row-even: var(--jp-layout-color1, white);\n",
       "  --xr-background-color-row-odd: var(--jp-layout-color2, #eeeeee);\n",
       "}\n",
       "\n",
       "html[theme=dark],\n",
       "body[data-theme=dark],\n",
       "body.vscode-dark {\n",
       "  --xr-font-color0: rgba(255, 255, 255, 1);\n",
       "  --xr-font-color2: rgba(255, 255, 255, 0.54);\n",
       "  --xr-font-color3: rgba(255, 255, 255, 0.38);\n",
       "  --xr-border-color: #1F1F1F;\n",
       "  --xr-disabled-color: #515151;\n",
       "  --xr-background-color: #111111;\n",
       "  --xr-background-color-row-even: #111111;\n",
       "  --xr-background-color-row-odd: #313131;\n",
       "}\n",
       "\n",
       ".xr-wrap {\n",
       "  display: block !important;\n",
       "  min-width: 300px;\n",
       "  max-width: 700px;\n",
       "}\n",
       "\n",
       ".xr-text-repr-fallback {\n",
       "  /* fallback to plain text repr when CSS is not injected (untrusted notebook) */\n",
       "  display: none;\n",
       "}\n",
       "\n",
       ".xr-header {\n",
       "  padding-top: 6px;\n",
       "  padding-bottom: 6px;\n",
       "  margin-bottom: 4px;\n",
       "  border-bottom: solid 1px var(--xr-border-color);\n",
       "}\n",
       "\n",
       ".xr-header > div,\n",
       ".xr-header > ul {\n",
       "  display: inline;\n",
       "  margin-top: 0;\n",
       "  margin-bottom: 0;\n",
       "}\n",
       "\n",
       ".xr-obj-type,\n",
       ".xr-array-name {\n",
       "  margin-left: 2px;\n",
       "  margin-right: 10px;\n",
       "}\n",
       "\n",
       ".xr-obj-type {\n",
       "  color: var(--xr-font-color2);\n",
       "}\n",
       "\n",
       ".xr-sections {\n",
       "  padding-left: 0 !important;\n",
       "  display: grid;\n",
       "  grid-template-columns: 150px auto auto 1fr 20px 20px;\n",
       "}\n",
       "\n",
       ".xr-section-item {\n",
       "  display: contents;\n",
       "}\n",
       "\n",
       ".xr-section-item input {\n",
       "  display: none;\n",
       "}\n",
       "\n",
       ".xr-section-item input + label {\n",
       "  color: var(--xr-disabled-color);\n",
       "}\n",
       "\n",
       ".xr-section-item input:enabled + label {\n",
       "  cursor: pointer;\n",
       "  color: var(--xr-font-color2);\n",
       "}\n",
       "\n",
       ".xr-section-item input:enabled + label:hover {\n",
       "  color: var(--xr-font-color0);\n",
       "}\n",
       "\n",
       ".xr-section-summary {\n",
       "  grid-column: 1;\n",
       "  color: var(--xr-font-color2);\n",
       "  font-weight: 500;\n",
       "}\n",
       "\n",
       ".xr-section-summary > span {\n",
       "  display: inline-block;\n",
       "  padding-left: 0.5em;\n",
       "}\n",
       "\n",
       ".xr-section-summary-in:disabled + label {\n",
       "  color: var(--xr-font-color2);\n",
       "}\n",
       "\n",
       ".xr-section-summary-in + label:before {\n",
       "  display: inline-block;\n",
       "  content: '►';\n",
       "  font-size: 11px;\n",
       "  width: 15px;\n",
       "  text-align: center;\n",
       "}\n",
       "\n",
       ".xr-section-summary-in:disabled + label:before {\n",
       "  color: var(--xr-disabled-color);\n",
       "}\n",
       "\n",
       ".xr-section-summary-in:checked + label:before {\n",
       "  content: '▼';\n",
       "}\n",
       "\n",
       ".xr-section-summary-in:checked + label > span {\n",
       "  display: none;\n",
       "}\n",
       "\n",
       ".xr-section-summary,\n",
       ".xr-section-inline-details {\n",
       "  padding-top: 4px;\n",
       "  padding-bottom: 4px;\n",
       "}\n",
       "\n",
       ".xr-section-inline-details {\n",
       "  grid-column: 2 / -1;\n",
       "}\n",
       "\n",
       ".xr-section-details {\n",
       "  display: none;\n",
       "  grid-column: 1 / -1;\n",
       "  margin-bottom: 5px;\n",
       "}\n",
       "\n",
       ".xr-section-summary-in:checked ~ .xr-section-details {\n",
       "  display: contents;\n",
       "}\n",
       "\n",
       ".xr-array-wrap {\n",
       "  grid-column: 1 / -1;\n",
       "  display: grid;\n",
       "  grid-template-columns: 20px auto;\n",
       "}\n",
       "\n",
       ".xr-array-wrap > label {\n",
       "  grid-column: 1;\n",
       "  vertical-align: top;\n",
       "}\n",
       "\n",
       ".xr-preview {\n",
       "  color: var(--xr-font-color3);\n",
       "}\n",
       "\n",
       ".xr-array-preview,\n",
       ".xr-array-data {\n",
       "  padding: 0 5px !important;\n",
       "  grid-column: 2;\n",
       "}\n",
       "\n",
       ".xr-array-data,\n",
       ".xr-array-in:checked ~ .xr-array-preview {\n",
       "  display: none;\n",
       "}\n",
       "\n",
       ".xr-array-in:checked ~ .xr-array-data,\n",
       ".xr-array-preview {\n",
       "  display: inline-block;\n",
       "}\n",
       "\n",
       ".xr-dim-list {\n",
       "  display: inline-block !important;\n",
       "  list-style: none;\n",
       "  padding: 0 !important;\n",
       "  margin: 0;\n",
       "}\n",
       "\n",
       ".xr-dim-list li {\n",
       "  display: inline-block;\n",
       "  padding: 0;\n",
       "  margin: 0;\n",
       "}\n",
       "\n",
       ".xr-dim-list:before {\n",
       "  content: '(';\n",
       "}\n",
       "\n",
       ".xr-dim-list:after {\n",
       "  content: ')';\n",
       "}\n",
       "\n",
       ".xr-dim-list li:not(:last-child):after {\n",
       "  content: ',';\n",
       "  padding-right: 5px;\n",
       "}\n",
       "\n",
       ".xr-has-index {\n",
       "  font-weight: bold;\n",
       "}\n",
       "\n",
       ".xr-var-list,\n",
       ".xr-var-item {\n",
       "  display: contents;\n",
       "}\n",
       "\n",
       ".xr-var-item > div,\n",
       ".xr-var-item label,\n",
       ".xr-var-item > .xr-var-name span {\n",
       "  background-color: var(--xr-background-color-row-even);\n",
       "  margin-bottom: 0;\n",
       "}\n",
       "\n",
       ".xr-var-item > .xr-var-name:hover span {\n",
       "  padding-right: 5px;\n",
       "}\n",
       "\n",
       ".xr-var-list > li:nth-child(odd) > div,\n",
       ".xr-var-list > li:nth-child(odd) > label,\n",
       ".xr-var-list > li:nth-child(odd) > .xr-var-name span {\n",
       "  background-color: var(--xr-background-color-row-odd);\n",
       "}\n",
       "\n",
       ".xr-var-name {\n",
       "  grid-column: 1;\n",
       "}\n",
       "\n",
       ".xr-var-dims {\n",
       "  grid-column: 2;\n",
       "}\n",
       "\n",
       ".xr-var-dtype {\n",
       "  grid-column: 3;\n",
       "  text-align: right;\n",
       "  color: var(--xr-font-color2);\n",
       "}\n",
       "\n",
       ".xr-var-preview {\n",
       "  grid-column: 4;\n",
       "}\n",
       "\n",
       ".xr-index-preview {\n",
       "  grid-column: 2 / 5;\n",
       "  color: var(--xr-font-color2);\n",
       "}\n",
       "\n",
       ".xr-var-name,\n",
       ".xr-var-dims,\n",
       ".xr-var-dtype,\n",
       ".xr-preview,\n",
       ".xr-attrs dt {\n",
       "  white-space: nowrap;\n",
       "  overflow: hidden;\n",
       "  text-overflow: ellipsis;\n",
       "  padding-right: 10px;\n",
       "}\n",
       "\n",
       ".xr-var-name:hover,\n",
       ".xr-var-dims:hover,\n",
       ".xr-var-dtype:hover,\n",
       ".xr-attrs dt:hover {\n",
       "  overflow: visible;\n",
       "  width: auto;\n",
       "  z-index: 1;\n",
       "}\n",
       "\n",
       ".xr-var-attrs,\n",
       ".xr-var-data,\n",
       ".xr-index-data {\n",
       "  display: none;\n",
       "  background-color: var(--xr-background-color) !important;\n",
       "  padding-bottom: 5px !important;\n",
       "}\n",
       "\n",
       ".xr-var-attrs-in:checked ~ .xr-var-attrs,\n",
       ".xr-var-data-in:checked ~ .xr-var-data,\n",
       ".xr-index-data-in:checked ~ .xr-index-data {\n",
       "  display: block;\n",
       "}\n",
       "\n",
       ".xr-var-data > table {\n",
       "  float: right;\n",
       "}\n",
       "\n",
       ".xr-var-name span,\n",
       ".xr-var-data,\n",
       ".xr-index-name div,\n",
       ".xr-index-data,\n",
       ".xr-attrs {\n",
       "  padding-left: 25px !important;\n",
       "}\n",
       "\n",
       ".xr-attrs,\n",
       ".xr-var-attrs,\n",
       ".xr-var-data,\n",
       ".xr-index-data {\n",
       "  grid-column: 1 / -1;\n",
       "}\n",
       "\n",
       "dl.xr-attrs {\n",
       "  padding: 0;\n",
       "  margin: 0;\n",
       "  display: grid;\n",
       "  grid-template-columns: 125px auto;\n",
       "}\n",
       "\n",
       ".xr-attrs dt,\n",
       ".xr-attrs dd {\n",
       "  padding: 0;\n",
       "  margin: 0;\n",
       "  float: left;\n",
       "  padding-right: 10px;\n",
       "  width: auto;\n",
       "}\n",
       "\n",
       ".xr-attrs dt {\n",
       "  font-weight: normal;\n",
       "  grid-column: 1;\n",
       "}\n",
       "\n",
       ".xr-attrs dt:hover span {\n",
       "  display: inline-block;\n",
       "  background: var(--xr-background-color);\n",
       "  padding-right: 10px;\n",
       "}\n",
       "\n",
       ".xr-attrs dd {\n",
       "  grid-column: 2;\n",
       "  white-space: pre-wrap;\n",
       "  word-break: break-all;\n",
       "}\n",
       "\n",
       ".xr-icon-database,\n",
       ".xr-icon-file-text2,\n",
       ".xr-no-icon {\n",
       "  display: inline-block;\n",
       "  vertical-align: middle;\n",
       "  width: 1em;\n",
       "  height: 1.5em !important;\n",
       "  stroke-width: 0;\n",
       "  stroke: currentColor;\n",
       "  fill: currentColor;\n",
       "}\n",
       "</style><pre class='xr-text-repr-fallback'>&lt;TimeSeries (DataArray) (time: 5, component: 1, sample: 1)&gt;\n",
       "array([[[-0.2724876 ]],\n",
       "\n",
       "       [[-0.30831243]],\n",
       "\n",
       "       [[ 0.14577896]],\n",
       "\n",
       "       [[-0.01514898]],\n",
       "\n",
       "       [[-0.31085536]]])\n",
       "Coordinates:\n",
       "  * time       (time) datetime64[ns] 2022-01-01 2022-01-02 ... 2022-01-05\n",
       "  * component  (component) object &#x27;random_walk&#x27;\n",
       "Dimensions without coordinates: sample\n",
       "Attributes:\n",
       "    static_covariates:  None\n",
       "    hierarchy:          None</pre><div class='xr-wrap' style='display:none'><div class='xr-header'><div class='xr-obj-type'>TimeSeries (DataArray)</div><div class='xr-array-name'></div><ul class='xr-dim-list'><li><span class='xr-has-index'>time</span>: 5</li><li><span class='xr-has-index'>component</span>: 1</li><li><span>sample</span>: 1</li></ul></div><ul class='xr-sections'><li class='xr-section-item'><div class='xr-array-wrap'><input id='section-91fa92ba-8c32-4efd-9ae0-eddaa74f7a5d' class='xr-array-in' type='checkbox' checked><label for='section-91fa92ba-8c32-4efd-9ae0-eddaa74f7a5d' title='Show/hide data repr'><svg class='icon xr-icon-database'><use xlink:href='#icon-database'></use></svg></label><div class='xr-array-preview xr-preview'><span>-0.2725 -0.3083 0.1458 -0.01515 -0.3109</span></div><div class='xr-array-data'><pre>array([[[-0.2724876 ]],\n",
       "\n",
       "       [[-0.30831243]],\n",
       "\n",
       "       [[ 0.14577896]],\n",
       "\n",
       "       [[-0.01514898]],\n",
       "\n",
       "       [[-0.31085536]]])</pre></div></div></li><li class='xr-section-item'><input id='section-4efcef16-5199-4072-af6d-52d4686626d3' class='xr-section-summary-in' type='checkbox'  checked><label for='section-4efcef16-5199-4072-af6d-52d4686626d3' class='xr-section-summary' >Coordinates: <span>(2)</span></label><div class='xr-section-inline-details'></div><div class='xr-section-details'><ul class='xr-var-list'><li class='xr-var-item'><div class='xr-var-name'><span class='xr-has-index'>time</span></div><div class='xr-var-dims'>(time)</div><div class='xr-var-dtype'>datetime64[ns]</div><div class='xr-var-preview xr-preview'>2022-01-01 ... 2022-01-05</div><input id='attrs-8acba81d-f461-4f91-a470-5d43988e9a32' class='xr-var-attrs-in' type='checkbox' disabled><label for='attrs-8acba81d-f461-4f91-a470-5d43988e9a32' title='Show/Hide attributes'><svg class='icon xr-icon-file-text2'><use xlink:href='#icon-file-text2'></use></svg></label><input id='data-5ba01e77-4708-4384-bb7f-c6afd51cd8ce' class='xr-var-data-in' type='checkbox'><label for='data-5ba01e77-4708-4384-bb7f-c6afd51cd8ce' title='Show/Hide data repr'><svg class='icon xr-icon-database'><use xlink:href='#icon-database'></use></svg></label><div class='xr-var-attrs'><dl class='xr-attrs'></dl></div><div class='xr-var-data'><pre>array([&#x27;2022-01-01T00:00:00.000000000&#x27;, &#x27;2022-01-02T00:00:00.000000000&#x27;,\n",
       "       &#x27;2022-01-03T00:00:00.000000000&#x27;, &#x27;2022-01-04T00:00:00.000000000&#x27;,\n",
       "       &#x27;2022-01-05T00:00:00.000000000&#x27;], dtype=&#x27;datetime64[ns]&#x27;)</pre></div></li><li class='xr-var-item'><div class='xr-var-name'><span class='xr-has-index'>component</span></div><div class='xr-var-dims'>(component)</div><div class='xr-var-dtype'>object</div><div class='xr-var-preview xr-preview'>&#x27;random_walk&#x27;</div><input id='attrs-e2eb97ac-38c3-4186-97c0-521ca9fa7ad0' class='xr-var-attrs-in' type='checkbox' disabled><label for='attrs-e2eb97ac-38c3-4186-97c0-521ca9fa7ad0' title='Show/Hide attributes'><svg class='icon xr-icon-file-text2'><use xlink:href='#icon-file-text2'></use></svg></label><input id='data-12eab1a4-d61b-4bb2-b933-79eba6af9493' class='xr-var-data-in' type='checkbox'><label for='data-12eab1a4-d61b-4bb2-b933-79eba6af9493' title='Show/Hide data repr'><svg class='icon xr-icon-database'><use xlink:href='#icon-database'></use></svg></label><div class='xr-var-attrs'><dl class='xr-attrs'></dl></div><div class='xr-var-data'><pre>array([&#x27;random_walk&#x27;], dtype=object)</pre></div></li></ul></div></li><li class='xr-section-item'><input id='section-4ac1d1f3-bfb5-4b38-b10f-1d517dcb14da' class='xr-section-summary-in' type='checkbox'  ><label for='section-4ac1d1f3-bfb5-4b38-b10f-1d517dcb14da' class='xr-section-summary' >Indexes: <span>(2)</span></label><div class='xr-section-inline-details'></div><div class='xr-section-details'><ul class='xr-var-list'><li class='xr-var-item'><div class='xr-index-name'><div>time</div></div><div class='xr-index-preview'>PandasIndex</div><div></div><input id='index-b07e06ec-dffb-4a5b-9f52-b3df69725981' class='xr-index-data-in' type='checkbox'/><label for='index-b07e06ec-dffb-4a5b-9f52-b3df69725981' title='Show/Hide index repr'><svg class='icon xr-icon-database'><use xlink:href='#icon-database'></use></svg></label><div class='xr-index-data'><pre>PandasIndex(DatetimeIndex([&#x27;2022-01-01&#x27;, &#x27;2022-01-02&#x27;, &#x27;2022-01-03&#x27;, &#x27;2022-01-04&#x27;,\n",
       "               &#x27;2022-01-05&#x27;],\n",
       "              dtype=&#x27;datetime64[ns]&#x27;, name=&#x27;time&#x27;, freq=&#x27;D&#x27;))</pre></div></li><li class='xr-var-item'><div class='xr-index-name'><div>component</div></div><div class='xr-index-preview'>PandasIndex</div><div></div><input id='index-d5bb9216-3e5d-4e3d-a5e7-73f648108eeb' class='xr-index-data-in' type='checkbox'/><label for='index-d5bb9216-3e5d-4e3d-a5e7-73f648108eeb' title='Show/Hide index repr'><svg class='icon xr-icon-database'><use xlink:href='#icon-database'></use></svg></label><div class='xr-index-data'><pre>PandasIndex(Index([&#x27;random_walk&#x27;], dtype=&#x27;object&#x27;, name=&#x27;component&#x27;))</pre></div></li></ul></div></li><li class='xr-section-item'><input id='section-c65827f5-5eb1-4ab9-a9f9-8733bab5a044' class='xr-section-summary-in' type='checkbox'  checked><label for='section-c65827f5-5eb1-4ab9-a9f9-8733bab5a044' class='xr-section-summary' >Attributes: <span>(2)</span></label><div class='xr-section-inline-details'></div><div class='xr-section-details'><dl class='xr-attrs'><dt><span>static_covariates :</span></dt><dd>None</dd><dt><span>hierarchy :</span></dt><dd>None</dd></dl></div></li></ul></div></div>"
      ],
      "text/plain": [
       "<TimeSeries (DataArray) (time: 5, component: 1, sample: 1)>\n",
       "array([[[-0.2724876 ]],\n",
       "\n",
       "       [[-0.30831243]],\n",
       "\n",
       "       [[ 0.14577896]],\n",
       "\n",
       "       [[-0.01514898]],\n",
       "\n",
       "       [[-0.31085536]]])\n",
       "Coordinates:\n",
       "  * time       (time) datetime64[ns] 2022-01-01 2022-01-02 ... 2022-01-05\n",
       "  * component  (component) object 'random_walk'\n",
       "Dimensions without coordinates: sample\n",
       "Attributes:\n",
       "    static_covariates:  None\n",
       "    hierarchy:          None"
      ]
     },
     "execution_count": 5,
     "metadata": {},
     "output_type": "execute_result"
    }
   ],
   "source": [
    "ts[0:5]"
   ]
  },
  {
   "cell_type": "markdown",
   "id": "2e4f348e-e7f7-4ed6-9f5a-25504e729529",
   "metadata": {
    "papermill": {
     "duration": 0.001901,
     "end_time": "2024-01-31T17:50:29.398752",
     "exception": false,
     "start_time": "2024-01-31T17:50:29.396851",
     "status": "completed"
    },
    "tags": []
   },
   "source": [
    "---"
   ]
  },
  {
   "cell_type": "markdown",
   "id": "851d573e-f47d-4055-9021-f9ef1002694d",
   "metadata": {
    "papermill": {
     "duration": 0.001894,
     "end_time": "2024-01-31T17:50:29.402474",
     "exception": false,
     "start_time": "2024-01-31T17:50:29.400580",
     "status": "completed"
    },
    "tags": []
   },
   "source": [
    "## Detectors"
   ]
  },
  {
   "cell_type": "markdown",
   "id": "5af625dd-ba6b-4f3b-9f42-462fe8918c5a",
   "metadata": {
    "papermill": {
     "duration": 0.001865,
     "end_time": "2024-01-31T17:50:29.406225",
     "exception": false,
     "start_time": "2024-01-31T17:50:29.404360",
     "status": "completed"
    },
    "tags": []
   },
   "source": [
    "### Threshold"
   ]
  },
  {
   "cell_type": "code",
   "execution_count": 6,
   "id": "8310ade1-a382-4d2a-b139-0331b3b8ebed",
   "metadata": {
    "execution": {
     "iopub.execute_input": "2024-01-31T17:50:29.410368Z",
     "iopub.status.busy": "2024-01-31T17:50:29.410269Z",
     "iopub.status.idle": "2024-01-31T17:50:29.411948Z",
     "shell.execute_reply": "2024-01-31T17:50:29.411714Z"
    },
    "papermill": {
     "duration": 0.004788,
     "end_time": "2024-01-31T17:50:29.412834",
     "exception": false,
     "start_time": "2024-01-31T17:50:29.408046",
     "status": "completed"
    },
    "tags": []
   },
   "outputs": [],
   "source": [
    "td = on.detectors.threshold(low_threshold=-2)"
   ]
  },
  {
   "cell_type": "code",
   "execution_count": 7,
   "id": "5b3d020e-18cc-47f2-a553-eb00ff972ef3",
   "metadata": {
    "execution": {
     "iopub.execute_input": "2024-01-31T17:50:29.417512Z",
     "iopub.status.busy": "2024-01-31T17:50:29.417332Z",
     "iopub.status.idle": "2024-01-31T17:50:29.608460Z",
     "shell.execute_reply": "2024-01-31T17:50:29.606187Z"
    },
    "papermill": {
     "duration": 0.197344,
     "end_time": "2024-01-31T17:50:29.612099",
     "exception": false,
     "start_time": "2024-01-31T17:50:29.414755",
     "status": "completed"
    },
    "tags": []
   },
   "outputs": [
    {
     "data": {
      "image/png": "[encoded data removed]",
      "text/plain": [
       "<Figure size 640x480 with 1 Axes>"
      ]
     },
     "metadata": {},
     "output_type": "display_data"
    }
   ],
   "source": [
    "td.detect(ts).plot();"
   ]
  },
  {
   "cell_type": "markdown",
   "id": "ffbed9d6-d331-4708-8d50-25882c85e60d",
   "metadata": {
    "papermill": {
     "duration": 0.005612,
     "end_time": "2024-01-31T17:50:29.624161",
     "exception": false,
     "start_time": "2024-01-31T17:50:29.618549",
     "status": "completed"
    },
    "tags": []
   },
   "source": [
    "### Quantile"
   ]
  },
  {
   "cell_type": "code",
   "execution_count": 8,
   "id": "04f2a0c4-5744-46bf-b622-9abaaaf6b35c",
   "metadata": {
    "execution": {
     "iopub.execute_input": "2024-01-31T17:50:29.640152Z",
     "iopub.status.busy": "2024-01-31T17:50:29.639652Z",
     "iopub.status.idle": "2024-01-31T17:50:29.643272Z",
     "shell.execute_reply": "2024-01-31T17:50:29.642722Z"
    },
    "papermill": {
     "duration": 0.016249,
     "end_time": "2024-01-31T17:50:29.649601",
     "exception": false,
     "start_time": "2024-01-31T17:50:29.633352",
     "status": "completed"
    },
    "tags": []
   },
   "outputs": [],
   "source": [
    "td = on.detectors.quantile(low_quantile=0.1)"
   ]
  },
  {
   "cell_type": "code",
   "execution_count": 9,
   "id": "02f12ec0-d1cc-41db-ba53-c53a98f6d8f3",
   "metadata": {
    "execution": {
     "iopub.execute_input": "2024-01-31T17:50:29.661779Z",
     "iopub.status.busy": "2024-01-31T17:50:29.661460Z",
     "iopub.status.idle": "2024-01-31T17:50:29.665640Z",
     "shell.execute_reply": "2024-01-31T17:50:29.665065Z"
    },
    "papermill": {
     "duration": 0.015824,
     "end_time": "2024-01-31T17:50:29.671330",
     "exception": false,
     "start_time": "2024-01-31T17:50:29.655506",
     "status": "completed"
    },
    "tags": []
   },
   "outputs": [],
   "source": [
    "td.fit(ts)"
   ]
  },
  {
   "cell_type": "code",
   "execution_count": 10,
   "id": "d640d149-f0eb-4d19-9e2b-10926d6fa26f",
   "metadata": {
    "execution": {
     "iopub.execute_input": "2024-01-31T17:50:29.683548Z",
     "iopub.status.busy": "2024-01-31T17:50:29.683249Z",
     "iopub.status.idle": "2024-01-31T17:50:29.835541Z",
     "shell.execute_reply": "2024-01-31T17:50:29.835244Z"
    },
    "papermill": {
     "duration": 0.159713,
     "end_time": "2024-01-31T17:50:29.836523",
     "exception": false,
     "start_time": "2024-01-31T17:50:29.676810",
     "status": "completed"
    },
    "tags": []
   },
   "outputs": [
    {
     "data": {
      "image/png": "[encoded data removed]",
      "text/plain": [
       "<Figure size 640x480 with 1 Axes>"
      ]
     },
     "metadata": {},
     "output_type": "display_data"
    }
   ],
   "source": [
    "td.detect(ts).plot();"
   ]
  },
  {
   "cell_type": "markdown",
   "id": "047ee4b8-3f9c-4cca-8fe3-53200301a013",
   "metadata": {
    "papermill": {
     "duration": 0.002167,
     "end_time": "2024-01-31T17:50:29.840956",
     "exception": false,
     "start_time": "2024-01-31T17:50:29.838789",
     "status": "completed"
    },
    "tags": []
   },
   "source": [
    "---\n",
    "## Generators\n",
    "\n",
    "### Constant"
   ]
  },
  {
   "cell_type": "code",
   "execution_count": 11,
   "id": "b6723710-34ae-4d60-b120-5dce3df07989",
   "metadata": {
    "execution": {
     "iopub.execute_input": "2024-01-31T17:50:29.845805Z",
     "iopub.status.busy": "2024-01-31T17:50:29.845688Z",
     "iopub.status.idle": "2024-01-31T17:50:29.974059Z",
     "shell.execute_reply": "2024-01-31T17:50:29.973760Z"
    },
    "papermill": {
     "duration": 0.131949,
     "end_time": "2024-01-31T17:50:29.974992",
     "exception": false,
     "start_time": "2024-01-31T17:50:29.843043",
     "status": "completed"
    },
    "tags": []
   },
   "outputs": [
    {
     "data": {
      "image/png": "[encoded data removed]",
      "text/plain": [
       "<Figure size 640x480 with 1 Axes>"
      ]
     },
     "metadata": {},
     "output_type": "display_data"
    }
   ],
   "source": [
    "on.generators.constant().generate(1, pd.Timestamp('2022-01-01'), pd.Timestamp('2022-12-31')).plot();"
   ]
  },
  {
   "cell_type": "markdown",
   "id": "a389170d-8cce-4cd2-8bd2-a6bf2403213c",
   "metadata": {
    "papermill": {
     "duration": 0.002476,
     "end_time": "2024-01-31T17:50:29.979903",
     "exception": false,
     "start_time": "2024-01-31T17:50:29.977427",
     "status": "completed"
    },
    "tags": []
   },
   "source": [
    "### Gaussian Noise"
   ]
  },
  {
   "cell_type": "code",
   "execution_count": 12,
   "id": "ae82840b-2bf5-4d9b-936c-7355cd7da95d",
   "metadata": {
    "execution": {
     "iopub.execute_input": "2024-01-31T17:50:29.985395Z",
     "iopub.status.busy": "2024-01-31T17:50:29.985267Z",
     "iopub.status.idle": "2024-01-31T17:50:30.125593Z",
     "shell.execute_reply": "2024-01-31T17:50:30.125272Z"
    },
    "papermill": {
     "duration": 0.144445,
     "end_time": "2024-01-31T17:50:30.126581",
     "exception": false,
     "start_time": "2024-01-31T17:50:29.982136",
     "status": "completed"
    },
    "tags": []
   },
   "outputs": [
    {
     "data": {
      "image/png": "[encoded data removed]",
      "text/plain": [
       "<Figure size 640x480 with 1 Axes>"
      ]
     },
     "metadata": {},
     "output_type": "display_data"
    }
   ],
   "source": [
    "on.generators.gaussian().generate(start=pd.Timestamp('2022-01-01'), end=pd.Timestamp('2022-12-31')).plot();"
   ]
  },
  {
   "cell_type": "markdown",
   "id": "bb922dbb-03eb-4888-ae64-e7b297dcb9ba",
   "metadata": {
    "papermill": {
     "duration": 0.002505,
     "end_time": "2024-01-31T17:50:30.132043",
     "exception": false,
     "start_time": "2024-01-31T17:50:30.129538",
     "status": "completed"
    },
    "tags": []
   },
   "source": [
    "### Random Walk"
   ]
  },
  {
   "cell_type": "code",
   "execution_count": 13,
   "id": "9802955b-6791-43bb-80d4-74ccb4119d70",
   "metadata": {
    "execution": {
     "iopub.execute_input": "2024-01-31T17:50:30.137641Z",
     "iopub.status.busy": "2024-01-31T17:50:30.137491Z",
     "iopub.status.idle": "2024-01-31T17:50:30.273237Z",
     "shell.execute_reply": "2024-01-31T17:50:30.272946Z"
    },
    "papermill": {
     "duration": 0.139674,
     "end_time": "2024-01-31T17:50:30.274173",
     "exception": false,
     "start_time": "2024-01-31T17:50:30.134499",
     "status": "completed"
    },
    "tags": []
   },
   "outputs": [
    {
     "data": {
      "image/png": "[encoded data removed]",
      "text/plain": [
       "<Figure size 640x480 with 1 Axes>"
      ]
     },
     "metadata": {},
     "output_type": "display_data"
    }
   ],
   "source": [
    "on.generators.random_walk().generate(start=pd.Timestamp('2022-01-01'), end=pd.Timestamp('2022-12-31')).plot();"
   ]
  },
  {
   "cell_type": "code",
   "execution_count": null,
   "id": "fb55754b-215a-457e-9577-2571c6d81c6d",
   "metadata": {
    "papermill": {
     "duration": 0.002604,
     "end_time": "2024-01-31T17:50:30.279671",
     "exception": false,
     "start_time": "2024-01-31T17:50:30.277067",
     "status": "completed"
    },
    "tags": []
   },
   "outputs": [],
   "source": []
  }
 ],
 "metadata": {
  "kernelspec": {
   "display_name": "Python 3 (ipykernel)",
   "language": "python",
   "name": "python3"
  },
  "language_info": {
   "codemirror_mode": {
    "name": "ipython",
    "version": 3
   },
   "file_extension": ".py",
   "mimetype": "text/x-python",
   "name": "python",
   "nbconvert_exporter": "python",
   "pygments_lexer": "ipython3",
   "version": "3.10.10"
  },
  "papermill": {
   "default_parameters": {},
   "duration": 4.80556,
   "end_time": "2024-01-31T17:50:30.903022",
   "environment_variables": {},
   "exception": null,
   "input_path": "docs/user_guide/0_core/0.2-detectors-generators.ipynb",
   "output_path": "docs/user_guide/0_core/0.2-detectors-generators.ipynb",
   "parameters": {},
   "start_time": "2024-01-31T17:50:26.097462",
   "version": "2.5.0"
  }
 },
 "nbformat": 4,
 "nbformat_minor": 5
}