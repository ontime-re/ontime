{
 "cells": [
  {
   "cell_type": "markdown",
   "id": "41296cc6-9d84-47c5-8a92-2d292f6f3c4a",
   "metadata": {
    "papermill": {
     "duration": 0.01369,
     "end_time": "2024-01-26T20:44:49.767100",
     "exception": false,
     "start_time": "2024-01-26T20:44:49.753410",
     "status": "completed"
    },
    "tags": []
   },
   "source": [
    "# Tests"
   ]
  },
  {
   "cell_type": "code",
   "execution_count": 1,
   "id": "9286e0b8-3c78-4b0f-943c-d219e9840dfe",
   "metadata": {
    "ExecuteTime": {
     "end_time": "2023-11-22T14:30:12.399978600Z",
     "start_time": "2023-11-22T14:30:12.220250Z"
    },
    "execution": {
     "iopub.execute_input": "2024-01-26T20:44:49.783929Z",
     "iopub.status.busy": "2024-01-26T20:44:49.783150Z",
     "iopub.status.idle": "2024-01-26T20:44:49.790853Z",
     "shell.execute_reply": "2024-01-26T20:44:49.790208Z"
    },
    "papermill": {
     "duration": 0.018269,
     "end_time": "2024-01-26T20:44:49.792340",
     "exception": false,
     "start_time": "2024-01-26T20:44:49.774071",
     "status": "completed"
    },
    "tags": []
   },
   "outputs": [],
   "source": [
    "# Import to be able to import python package from src\n",
    "import sys\n",
    "sys.path.insert(0, '../src')"
   ]
  },
  {
   "cell_type": "code",
   "execution_count": 2,
   "id": "2028eed7-b1c3-4c9e-b6a0-00433caa7d0f",
   "metadata": {
    "ExecuteTime": {
     "end_time": "2023-11-22T14:30:12.438915100Z",
     "start_time": "2023-11-22T14:30:12.223262200Z"
    },
    "execution": {
     "iopub.execute_input": "2024-01-26T20:44:49.803285Z",
     "iopub.status.busy": "2024-01-26T20:44:49.802733Z",
     "iopub.status.idle": "2024-01-26T20:44:51.949043Z",
     "shell.execute_reply": "2024-01-26T20:44:51.948592Z"
    },
    "papermill": {
     "duration": 2.152837,
     "end_time": "2024-01-26T20:44:51.950027",
     "exception": false,
     "start_time": "2024-01-26T20:44:49.797190",
     "status": "completed"
    },
    "tags": []
   },
   "outputs": [
    {
     "name": "stderr",
     "output_type": "stream",
     "text": [
      "The `LightGBM` module could not be imported. To enable LightGBM support in Darts, follow the detailed instructions in the installation guide: https://github.com/unit8co/darts/blob/master/INSTALL.md\n"
     ]
    },
    {
     "name": "stderr",
     "output_type": "stream",
     "text": [
      "The `Prophet` module could not be imported. To enable Prophet support in Darts, follow the detailed instructions in the installation guide: https://github.com/unit8co/darts/blob/master/INSTALL.md\n"
     ]
    }
   ],
   "source": [
    "import random\n",
    "import numpy as np\n",
    "import pandas as pd\n",
    "import ontime as on\n",
    "from darts.datasets import EnergyDataset"
   ]
  },
  {
   "cell_type": "markdown",
   "id": "e24da8ab-6a83-4c2f-9ff0-c633d4693a91",
   "metadata": {
    "papermill": {
     "duration": 0.002482,
     "end_time": "2024-01-26T20:44:51.955432",
     "exception": false,
     "start_time": "2024-01-26T20:44:51.952950",
     "status": "completed"
    },
    "tags": []
   },
   "source": [
    "---\n",
    "## Load data"
   ]
  },
  {
   "cell_type": "code",
   "execution_count": 3,
   "id": "db08372d-8ab2-4290-9196-76eb0c275629",
   "metadata": {
    "ExecuteTime": {
     "end_time": "2023-11-22T14:30:12.886891300Z",
     "start_time": "2023-11-22T14:30:12.235870500Z"
    },
    "execution": {
     "iopub.execute_input": "2024-01-26T20:44:51.960833Z",
     "iopub.status.busy": "2024-01-26T20:44:51.960389Z",
     "iopub.status.idle": "2024-01-26T20:44:52.795677Z",
     "shell.execute_reply": "2024-01-26T20:44:52.795246Z"
    },
    "papermill": {
     "duration": 0.838754,
     "end_time": "2024-01-26T20:44:52.796584",
     "exception": false,
     "start_time": "2024-01-26T20:44:51.957830",
     "status": "completed"
    },
    "tags": []
   },
   "outputs": [],
   "source": [
    "ts = EnergyDataset().load()\n",
    "ts.pd_dataframe().to_csv('./energy_dataset.csv')"
   ]
  },
  {
   "cell_type": "markdown",
   "id": "c7f52105-746d-4e45-a185-dd76a882d34c",
   "metadata": {
    "papermill": {
     "duration": 0.002072,
     "end_time": "2024-01-26T20:44:52.801057",
     "exception": false,
     "start_time": "2024-01-26T20:44:52.798985",
     "status": "completed"
    },
    "tags": []
   },
   "source": [
    "Create DataFrame with binary values"
   ]
  },
  {
   "cell_type": "code",
   "execution_count": 4,
   "id": "35c1aaee-4699-41f8-9a8f-072da56f3128",
   "metadata": {
    "execution": {
     "iopub.execute_input": "2024-01-26T20:44:52.805883Z",
     "iopub.status.busy": "2024-01-26T20:44:52.805748Z",
     "iopub.status.idle": "2024-01-26T20:44:52.809071Z",
     "shell.execute_reply": "2024-01-26T20:44:52.808760Z"
    },
    "papermill": {
     "duration": 0.006646,
     "end_time": "2024-01-26T20:44:52.809712",
     "exception": false,
     "start_time": "2024-01-26T20:44:52.803066",
     "status": "completed"
    },
    "tags": []
   },
   "outputs": [],
   "source": [
    "keys = pd.date_range(start ='01-01-2024', end ='01-02-2024', freq ='1H')\n",
    "values = np.random.randint(0, 2, size=len(keys))\n",
    "my_dict = {\n",
    "    \"times\" : keys, \n",
    "    \"values\" : values\n",
    "}\n",
    "\n",
    "df = pd.DataFrame.from_dict(my_dict)\n",
    "df.set_index('times', inplace=True)"
   ]
  },
  {
   "cell_type": "markdown",
   "id": "bf45c50c-4c8a-4a8a-89c3-53c4a9c02ebf",
   "metadata": {
    "papermill": {
     "duration": 0.002377,
     "end_time": "2024-01-26T20:44:52.814243",
     "exception": false,
     "start_time": "2024-01-26T20:44:52.811866",
     "status": "completed"
    },
    "tags": []
   },
   "source": [
    "Create a binary time series from the dataframe"
   ]
  },
  {
   "cell_type": "code",
   "execution_count": 5,
   "id": "07700359-0547-4e29-9a27-89f8ea9c429e",
   "metadata": {
    "execution": {
     "iopub.execute_input": "2024-01-26T20:44:52.818931Z",
     "iopub.status.busy": "2024-01-26T20:44:52.818811Z",
     "iopub.status.idle": "2024-01-26T20:44:52.820918Z",
     "shell.execute_reply": "2024-01-26T20:44:52.820581Z"
    },
    "papermill": {
     "duration": 0.005274,
     "end_time": "2024-01-26T20:44:52.821629",
     "exception": false,
     "start_time": "2024-01-26T20:44:52.816355",
     "status": "completed"
    },
    "tags": []
   },
   "outputs": [],
   "source": [
    "from ontime.core.time_series.binary_time_series import BinaryTimeSeries"
   ]
  },
  {
   "cell_type": "code",
   "execution_count": 6,
   "id": "22488a51-2547-46e2-8886-6649137f7a10",
   "metadata": {
    "execution": {
     "iopub.execute_input": "2024-01-26T20:44:52.826389Z",
     "iopub.status.busy": "2024-01-26T20:44:52.826256Z",
     "iopub.status.idle": "2024-01-26T20:44:52.833637Z",
     "shell.execute_reply": "2024-01-26T20:44:52.833282Z"
    },
    "papermill": {
     "duration": 0.010647,
     "end_time": "2024-01-26T20:44:52.834263",
     "exception": false,
     "start_time": "2024-01-26T20:44:52.823616",
     "status": "completed"
    },
    "tags": []
   },
   "outputs": [],
   "source": [
    "bts = BinaryTimeSeries.from_dataframe(df)"
   ]
  },
  {
   "cell_type": "code",
   "execution_count": 7,
   "id": "5560b08f-58a3-40e3-ab6a-2879d4c15e8a",
   "metadata": {
    "execution": {
     "iopub.execute_input": "2024-01-26T20:44:52.839355Z",
     "iopub.status.busy": "2024-01-26T20:44:52.839063Z",
     "iopub.status.idle": "2024-01-26T20:44:52.959480Z",
     "shell.execute_reply": "2024-01-26T20:44:52.959013Z"
    },
    "papermill": {
     "duration": 0.123872,
     "end_time": "2024-01-26T20:44:52.960229",
     "exception": false,
     "start_time": "2024-01-26T20:44:52.836357",
     "status": "completed"
    },
    "tags": []
   },
   "outputs": [
    {
     "data": {
      "image/png": "[encoded data removed]",
      "text/plain": [
       "<Figure size 640x480 with 1 Axes>"
      ]
     },
     "metadata": {},
     "output_type": "display_data"
    }
   ],
   "source": [
    "bts.plot();"
   ]
  }
 ],
 "metadata": {
  "kernelspec": {
   "display_name": "Python 3 (ipykernel)",
   "language": "python",
   "name": "python3"
  },
  "language_info": {
   "codemirror_mode": {
    "name": "ipython",
    "version": 3
   },
   "file_extension": ".py",
   "mimetype": "text/x-python",
   "name": "python",
   "nbconvert_exporter": "python",
   "pygments_lexer": "ipython3",
   "version": "3.10.13"
  },
  "papermill": {
   "default_parameters": {},
   "duration": 4.603796,
   "end_time": "2024-01-26T20:44:53.680824",
   "environment_variables": {},
   "exception": null,
   "input_path": "notebooks/docs/0_core/0.0-tests.ipynb",
   "output_path": "notebooks/docs/0_core/0.0-tests.ipynb",
   "parameters": {},
   "start_time": "2024-01-26T20:44:49.077028",
   "version": "2.5.0"
  }
 },
 "nbformat": 4,
 "nbformat_minor": 5
}