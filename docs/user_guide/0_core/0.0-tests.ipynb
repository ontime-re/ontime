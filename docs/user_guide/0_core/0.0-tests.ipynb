{
 "cells": [
  {
   "cell_type": "markdown",
   "id": "41296cc6-9d84-47c5-8a92-2d292f6f3c4a",
   "metadata": {
    "papermill": {
     "duration": 0.003494,
     "end_time": "2024-01-31T17:49:51.213634",
     "exception": false,
     "start_time": "2024-01-31T17:49:51.210140",
     "status": "completed"
    },
    "tags": []
   },
   "source": [
    "# Tests"
   ]
  },
  {
   "cell_type": "code",
   "execution_count": 1,
   "id": "9286e0b8-3c78-4b0f-943c-d219e9840dfe",
   "metadata": {
    "ExecuteTime": {
     "end_time": "2023-11-22T14:30:12.399978600Z",
     "start_time": "2023-11-22T14:30:12.220250Z"
    },
    "execution": {
     "iopub.execute_input": "2024-01-31T17:49:51.219917Z",
     "iopub.status.busy": "2024-01-31T17:49:51.219696Z",
     "iopub.status.idle": "2024-01-31T17:49:51.227395Z",
     "shell.execute_reply": "2024-01-31T17:49:51.227036Z"
    },
    "papermill": {
     "duration": 0.012434,
     "end_time": "2024-01-31T17:49:51.228684",
     "exception": false,
     "start_time": "2024-01-31T17:49:51.216250",
     "status": "completed"
    },
    "tags": []
   },
   "outputs": [],
   "source": [
    "# Import to be able to import python package from src\n",
    "import sys\n",
    "sys.path.insert(0, '../src')"
   ]
  },
  {
   "cell_type": "code",
   "execution_count": 2,
   "id": "2028eed7-b1c3-4c9e-b6a0-00433caa7d0f",
   "metadata": {
    "ExecuteTime": {
     "end_time": "2023-11-22T14:30:12.438915100Z",
     "start_time": "2023-11-22T14:30:12.223262200Z"
    },
    "execution": {
     "iopub.execute_input": "2024-01-31T17:49:51.233378Z",
     "iopub.status.busy": "2024-01-31T17:49:51.233208Z",
     "iopub.status.idle": "2024-01-31T17:49:53.766366Z",
     "shell.execute_reply": "2024-01-31T17:49:53.765949Z"
    },
    "papermill": {
     "duration": 2.536806,
     "end_time": "2024-01-31T17:49:53.767492",
     "exception": false,
     "start_time": "2024-01-31T17:49:51.230686",
     "status": "completed"
    },
    "tags": []
   },
   "outputs": [
    {
     "name": "stderr",
     "output_type": "stream",
     "text": [
      "The `LightGBM` module could not be imported. To enable LightGBM support in Darts, follow the detailed instructions in the installation guide: https://github.com/unit8co/darts/blob/master/INSTALL.md\n"
     ]
    },
    {
     "name": "stderr",
     "output_type": "stream",
     "text": [
      "The `Prophet` module could not be imported. To enable Prophet support in Darts, follow the detailed instructions in the installation guide: https://github.com/unit8co/darts/blob/master/INSTALL.md\n"
     ]
    }
   ],
   "source": [
    "import random\n",
    "import numpy as np\n",
    "import pandas as pd\n",
    "import ontime as on\n",
    "from darts.datasets import EnergyDataset"
   ]
  },
  {
   "cell_type": "markdown",
   "id": "e24da8ab-6a83-4c2f-9ff0-c633d4693a91",
   "metadata": {
    "papermill": {
     "duration": 0.001123,
     "end_time": "2024-01-31T17:49:53.770078",
     "exception": false,
     "start_time": "2024-01-31T17:49:53.768955",
     "status": "completed"
    },
    "tags": []
   },
   "source": [
    "---\n",
    "## Load data"
   ]
  },
  {
   "cell_type": "code",
   "execution_count": 3,
   "id": "db08372d-8ab2-4290-9196-76eb0c275629",
   "metadata": {
    "ExecuteTime": {
     "end_time": "2023-11-22T14:30:12.886891300Z",
     "start_time": "2023-11-22T14:30:12.235870500Z"
    },
    "execution": {
     "iopub.execute_input": "2024-01-31T17:49:53.772817Z",
     "iopub.status.busy": "2024-01-31T17:49:53.772686Z",
     "iopub.status.idle": "2024-01-31T17:49:54.119426Z",
     "shell.execute_reply": "2024-01-31T17:49:54.118981Z"
    },
    "papermill": {
     "duration": 0.349518,
     "end_time": "2024-01-31T17:49:54.120621",
     "exception": false,
     "start_time": "2024-01-31T17:49:53.771103",
     "status": "completed"
    },
    "tags": []
   },
   "outputs": [],
   "source": [
    "ts = EnergyDataset().load()\n",
    "ts.pd_dataframe().to_csv('./energy_dataset.csv')"
   ]
  },
  {
   "cell_type": "markdown",
   "id": "c7f52105-746d-4e45-a185-dd76a882d34c",
   "metadata": {
    "papermill": {
     "duration": 0.001122,
     "end_time": "2024-01-31T17:49:54.122978",
     "exception": false,
     "start_time": "2024-01-31T17:49:54.121856",
     "status": "completed"
    },
    "tags": []
   },
   "source": [
    "Create DataFrame with binary values"
   ]
  },
  {
   "cell_type": "code",
   "execution_count": 4,
   "id": "35c1aaee-4699-41f8-9a8f-072da56f3128",
   "metadata": {
    "execution": {
     "iopub.execute_input": "2024-01-31T17:49:54.125830Z",
     "iopub.status.busy": "2024-01-31T17:49:54.125633Z",
     "iopub.status.idle": "2024-01-31T17:49:54.128440Z",
     "shell.execute_reply": "2024-01-31T17:49:54.128195Z"
    },
    "papermill": {
     "duration": 0.00525,
     "end_time": "2024-01-31T17:49:54.129329",
     "exception": false,
     "start_time": "2024-01-31T17:49:54.124079",
     "status": "completed"
    },
    "tags": []
   },
   "outputs": [],
   "source": [
    "keys = pd.date_range(start ='01-01-2024', end ='01-02-2024', freq ='1H')\n",
    "values = np.random.randint(0, 2, size=len(keys))\n",
    "my_dict = {\n",
    "    \"times\" : keys, \n",
    "    \"values\" : values\n",
    "}\n",
    "\n",
    "df = pd.DataFrame.from_dict(my_dict)\n",
    "df.set_index('times', inplace=True)"
   ]
  },
  {
   "cell_type": "markdown",
   "id": "bf45c50c-4c8a-4a8a-89c3-53c4a9c02ebf",
   "metadata": {
    "papermill": {
     "duration": 0.001093,
     "end_time": "2024-01-31T17:49:54.131659",
     "exception": false,
     "start_time": "2024-01-31T17:49:54.130566",
     "status": "completed"
    },
    "tags": []
   },
   "source": [
    "Create a binary time series from the dataframe"
   ]
  },
  {
   "cell_type": "code",
   "execution_count": 5,
   "id": "07700359-0547-4e29-9a27-89f8ea9c429e",
   "metadata": {
    "execution": {
     "iopub.execute_input": "2024-01-31T17:49:54.134264Z",
     "iopub.status.busy": "2024-01-31T17:49:54.134156Z",
     "iopub.status.idle": "2024-01-31T17:49:54.135812Z",
     "shell.execute_reply": "2024-01-31T17:49:54.135578Z"
    },
    "papermill": {
     "duration": 0.003933,
     "end_time": "2024-01-31T17:49:54.136621",
     "exception": false,
     "start_time": "2024-01-31T17:49:54.132688",
     "status": "completed"
    },
    "tags": []
   },
   "outputs": [],
   "source": [
    "from ontime.core.time_series.binary_time_series import BinaryTimeSeries"
   ]
  },
  {
   "cell_type": "code",
   "execution_count": 6,
   "id": "22488a51-2547-46e2-8886-6649137f7a10",
   "metadata": {
    "execution": {
     "iopub.execute_input": "2024-01-31T17:49:54.139231Z",
     "iopub.status.busy": "2024-01-31T17:49:54.139126Z",
     "iopub.status.idle": "2024-01-31T17:49:54.146246Z",
     "shell.execute_reply": "2024-01-31T17:49:54.146011Z"
    },
    "papermill": {
     "duration": 0.009432,
     "end_time": "2024-01-31T17:49:54.147109",
     "exception": false,
     "start_time": "2024-01-31T17:49:54.137677",
     "status": "completed"
    },
    "tags": []
   },
   "outputs": [],
   "source": [
    "bts = BinaryTimeSeries.from_dataframe(df)"
   ]
  },
  {
   "cell_type": "code",
   "execution_count": 7,
   "id": "5560b08f-58a3-40e3-ab6a-2879d4c15e8a",
   "metadata": {
    "execution": {
     "iopub.execute_input": "2024-01-31T17:49:54.149796Z",
     "iopub.status.busy": "2024-01-31T17:49:54.149684Z",
     "iopub.status.idle": "2024-01-31T17:49:54.333757Z",
     "shell.execute_reply": "2024-01-31T17:49:54.331615Z"
    },
    "papermill": {
     "duration": 0.188366,
     "end_time": "2024-01-31T17:49:54.336566",
     "exception": false,
     "start_time": "2024-01-31T17:49:54.148200",
     "status": "completed"
    },
    "tags": []
   },
   "outputs": [
    {
     "data": {
      "image/png": "[encoded data removed]",
      "text/plain": [
       "<Figure size 640x480 with 1 Axes>"
      ]
     },
     "metadata": {},
     "output_type": "display_data"
    }
   ],
   "source": [
    "bts.plot();"
   ]
  }
 ],
 "metadata": {
  "kernelspec": {
   "display_name": "Python 3 (ipykernel)",
   "language": "python",
   "name": "python3"
  },
  "language_info": {
   "codemirror_mode": {
    "name": "ipython",
    "version": 3
   },
   "file_extension": ".py",
   "mimetype": "text/x-python",
   "name": "python",
   "nbconvert_exporter": "python",
   "pygments_lexer": "ipython3",
   "version": "3.10.10"
  },
  "papermill": {
   "default_parameters": {},
   "duration": 4.508026,
   "end_time": "2024-01-31T17:49:54.963448",
   "environment_variables": {},
   "exception": null,
   "input_path": "docs/user_guide/0_core/0.0-tests.ipynb",
   "output_path": "docs/user_guide/0_core/0.0-tests.ipynb",
   "parameters": {},
   "start_time": "2024-01-31T17:49:50.455422",
   "version": "2.5.0"
  }
 },
 "nbformat": 4,
 "nbformat_minor": 5
}