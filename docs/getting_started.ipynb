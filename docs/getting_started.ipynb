{
 "cells": [
  {
   "cell_type": "code",
   "execution_count": 1,
   "id": "70a32352-80c9-40b7-8f68-1aeecfc52658",
   "metadata": {
    "ExecuteTime": {
     "end_time": "2024-04-27T10:05:25.636065Z",
     "start_time": "2024-04-27T10:05:25.632244Z"
    },
    "execution": {
     "iopub.execute_input": "2025-01-06T14:54:51.218123Z",
     "iopub.status.busy": "2025-01-06T14:54:51.217792Z",
     "iopub.status.idle": "2025-01-06T14:54:51.226882Z",
     "shell.execute_reply": "2025-01-06T14:54:51.225419Z"
    },
    "papermill": {
     "duration": 0.017633,
     "end_time": "2025-01-06T14:54:51.228549",
     "exception": false,
     "start_time": "2025-01-06T14:54:51.210916",
     "status": "completed"
    },
    "tags": []
   },
   "outputs": [],
   "source": [
    "# Import to be able to import python package from src\n",
    "import sys\n",
    "sys.path.insert(0, '../src')"
   ]
  },
  {
   "cell_type": "code",
   "execution_count": 2,
   "id": "f8a26d78-229f-47f7-9f66-d0c245dbc096",
   "metadata": {
    "ExecuteTime": {
     "end_time": "2024-04-27T10:05:29.654652Z",
     "start_time": "2024-04-27T10:05:25.635956Z"
    },
    "execution": {
     "iopub.execute_input": "2025-01-06T14:54:51.239921Z",
     "iopub.status.busy": "2025-01-06T14:54:51.239602Z",
     "iopub.status.idle": "2025-01-06T14:55:01.447783Z",
     "shell.execute_reply": "2025-01-06T14:55:01.446539Z"
    },
    "papermill": {
     "duration": 10.215408,
     "end_time": "2025-01-06T14:55:01.449362",
     "exception": false,
     "start_time": "2025-01-06T14:54:51.233954",
     "status": "completed"
    },
    "tags": []
   },
   "outputs": [],
   "source": [
    "import ontime as on\n",
    "import pandas as pd"
   ]
  },
  {
   "cell_type": "markdown",
   "id": "9f94ac2b-bc8a-4757-affb-6e570a024804",
   "metadata": {
    "papermill": {
     "duration": 0.003865,
     "end_time": "2025-01-06T14:55:01.457052",
     "exception": false,
     "start_time": "2025-01-06T14:55:01.453187",
     "status": "completed"
    },
    "tags": []
   },
   "source": [
    "# Getting Started\n",
    "\n",
    "The library is divided in three parts : \n",
    "\n",
    "1. `core` for all basic features\n",
    "2. `module` for all features using core features. E.g. benchmarking, ml preprocessing, etc.\n",
    "3. `context` for all features related to the usage of onTime in an applied scenario"
   ]
  },
  {
   "cell_type": "markdown",
   "id": "c0271c7d-d9b4-414e-b7be-83adeafcc741",
   "metadata": {
    "papermill": {
     "duration": 0.00426,
     "end_time": "2025-01-06T14:55:01.465369",
     "exception": false,
     "start_time": "2025-01-06T14:55:01.461109",
     "status": "completed"
    },
    "tags": []
   },
   "source": [
    "## `core` Features\n",
    "\n",
    "This is a low level API. Most objects and functions are accessible in the base object : \n",
    "    \n",
    "    ontime\n",
    "    ├── detectors\n",
    "    ├── generators\n",
    "    ├── Model\n",
    "    ├── plots\n",
    "    ├── processors\n",
    "    └── TimeSeries\n",
    "\n",
    "For instance : "
   ]
  },
  {
   "cell_type": "code",
   "execution_count": 3,
   "id": "bcbdae2b-2833-43d6-9bf7-16caef87cf75",
   "metadata": {
    "ExecuteTime": {
     "end_time": "2024-04-27T10:05:29.670567Z",
     "start_time": "2024-04-27T10:05:29.659699Z"
    },
    "execution": {
     "iopub.execute_input": "2025-01-06T14:55:01.474817Z",
     "iopub.status.busy": "2025-01-06T14:55:01.474325Z",
     "iopub.status.idle": "2025-01-06T14:55:01.502154Z",
     "shell.execute_reply": "2025-01-06T14:55:01.501007Z"
    },
    "papermill": {
     "duration": 0.034002,
     "end_time": "2025-01-06T14:55:01.503475",
     "exception": false,
     "start_time": "2025-01-06T14:55:01.469473",
     "status": "completed"
    },
    "tags": []
   },
   "outputs": [
    {
     "data": {
      "text/html": [
       "<div><svg style=\"position: absolute; width: 0; height: 0; overflow: hidden\">\n",
       "<defs>\n",
       "<symbol id=\"icon-database\" viewBox=\"0 0 32 32\">\n",
       "<path d=\"M16 0c-8.837 0-16 2.239-16 5v4c0 2.761 7.163 5 16 5s16-2.239 16-5v-4c0-2.761-7.163-5-16-5z\"></path>\n",
       "<path d=\"M16 17c-8.837 0-16-2.239-16-5v6c0 2.761 7.163 5 16 5s16-2.239 16-5v-6c0 2.761-7.163 5-16 5z\"></path>\n",
       "<path d=\"M16 26c-8.837 0-16-2.239-16-5v6c0 2.761 7.163 5 16 5s16-2.239 16-5v-6c0 2.761-7.163 5-16 5z\"></path>\n",
       "</symbol>\n",
       "<symbol id=\"icon-file-text2\" viewBox=\"0 0 32 32\">\n",
       "<path d=\"M28.681 7.159c-0.694-0.947-1.662-2.053-2.724-3.116s-2.169-2.030-3.116-2.724c-1.612-1.182-2.393-1.319-2.841-1.319h-15.5c-1.378 0-2.5 1.121-2.5 2.5v27c0 1.378 1.122 2.5 2.5 2.5h23c1.378 0 2.5-1.122 2.5-2.5v-19.5c0-0.448-0.137-1.23-1.319-2.841zM24.543 5.457c0.959 0.959 1.712 1.825 2.268 2.543h-4.811v-4.811c0.718 0.556 1.584 1.309 2.543 2.268zM28 29.5c0 0.271-0.229 0.5-0.5 0.5h-23c-0.271 0-0.5-0.229-0.5-0.5v-27c0-0.271 0.229-0.5 0.5-0.5 0 0 15.499-0 15.5 0v7c0 0.552 0.448 1 1 1h7v19.5z\"></path>\n",
       "<path d=\"M23 26h-14c-0.552 0-1-0.448-1-1s0.448-1 1-1h14c0.552 0 1 0.448 1 1s-0.448 1-1 1z\"></path>\n",
       "<path d=\"M23 22h-14c-0.552 0-1-0.448-1-1s0.448-1 1-1h14c0.552 0 1 0.448 1 1s-0.448 1-1 1z\"></path>\n",
       "<path d=\"M23 18h-14c-0.552 0-1-0.448-1-1s0.448-1 1-1h14c0.552 0 1 0.448 1 1s-0.448 1-1 1z\"></path>\n",
       "</symbol>\n",
       "</defs>\n",
       "</svg>\n",
       "<style>/* CSS stylesheet for displaying xarray objects in jupyterlab.\n",
       " *\n",
       " */\n",
       "\n",
       ":root {\n",
       "  --xr-font-color0: var(--jp-content-font-color0, rgba(0, 0, 0, 1));\n",
       "  --xr-font-color2: var(--jp-content-font-color2, rgba(0, 0, 0, 0.54));\n",
       "  --xr-font-color3: var(--jp-content-font-color3, rgba(0, 0, 0, 0.38));\n",
       "  --xr-border-color: var(--jp-border-color2, #e0e0e0);\n",
       "  --xr-disabled-color: var(--jp-layout-color3, #bdbdbd);\n",
       "  --xr-background-color: var(--jp-layout-color0, white);\n",
       "  --xr-background-color-row-even: var(--jp-layout-color1, white);\n",
       "  --xr-background-color-row-odd: var(--jp-layout-color2, #eeeeee);\n",
       "}\n",
       "\n",
       "html[theme=\"dark\"],\n",
       "html[data-theme=\"dark\"],\n",
       "body[data-theme=\"dark\"],\n",
       "body.vscode-dark {\n",
       "  --xr-font-color0: rgba(255, 255, 255, 1);\n",
       "  --xr-font-color2: rgba(255, 255, 255, 0.54);\n",
       "  --xr-font-color3: rgba(255, 255, 255, 0.38);\n",
       "  --xr-border-color: #1f1f1f;\n",
       "  --xr-disabled-color: #515151;\n",
       "  --xr-background-color: #111111;\n",
       "  --xr-background-color-row-even: #111111;\n",
       "  --xr-background-color-row-odd: #313131;\n",
       "}\n",
       "\n",
       ".xr-wrap {\n",
       "  display: block !important;\n",
       "  min-width: 300px;\n",
       "  max-width: 700px;\n",
       "}\n",
       "\n",
       ".xr-text-repr-fallback {\n",
       "  /* fallback to plain text repr when CSS is not injected (untrusted notebook) */\n",
       "  display: none;\n",
       "}\n",
       "\n",
       ".xr-header {\n",
       "  padding-top: 6px;\n",
       "  padding-bottom: 6px;\n",
       "  margin-bottom: 4px;\n",
       "  border-bottom: solid 1px var(--xr-border-color);\n",
       "}\n",
       "\n",
       ".xr-header > div,\n",
       ".xr-header > ul {\n",
       "  display: inline;\n",
       "  margin-top: 0;\n",
       "  margin-bottom: 0;\n",
       "}\n",
       "\n",
       ".xr-obj-type,\n",
       ".xr-array-name {\n",
       "  margin-left: 2px;\n",
       "  margin-right: 10px;\n",
       "}\n",
       "\n",
       ".xr-obj-type {\n",
       "  color: var(--xr-font-color2);\n",
       "}\n",
       "\n",
       ".xr-sections {\n",
       "  padding-left: 0 !important;\n",
       "  display: grid;\n",
       "  grid-template-columns: 150px auto auto 1fr 0 20px 0 20px;\n",
       "}\n",
       "\n",
       ".xr-section-item {\n",
       "  display: contents;\n",
       "}\n",
       "\n",
       ".xr-section-item input {\n",
       "  display: inline-block;\n",
       "  opacity: 0;\n",
       "  height: 0;\n",
       "}\n",
       "\n",
       ".xr-section-item input + label {\n",
       "  color: var(--xr-disabled-color);\n",
       "}\n",
       "\n",
       ".xr-section-item input:enabled + label {\n",
       "  cursor: pointer;\n",
       "  color: var(--xr-font-color2);\n",
       "}\n",
       "\n",
       ".xr-section-item input:focus + label {\n",
       "  border: 2px solid var(--xr-font-color0);\n",
       "}\n",
       "\n",
       ".xr-section-item input:enabled + label:hover {\n",
       "  color: var(--xr-font-color0);\n",
       "}\n",
       "\n",
       ".xr-section-summary {\n",
       "  grid-column: 1;\n",
       "  color: var(--xr-font-color2);\n",
       "  font-weight: 500;\n",
       "}\n",
       "\n",
       ".xr-section-summary > span {\n",
       "  display: inline-block;\n",
       "  padding-left: 0.5em;\n",
       "}\n",
       "\n",
       ".xr-section-summary-in:disabled + label {\n",
       "  color: var(--xr-font-color2);\n",
       "}\n",
       "\n",
       ".xr-section-summary-in + label:before {\n",
       "  display: inline-block;\n",
       "  content: \"►\";\n",
       "  font-size: 11px;\n",
       "  width: 15px;\n",
       "  text-align: center;\n",
       "}\n",
       "\n",
       ".xr-section-summary-in:disabled + label:before {\n",
       "  color: var(--xr-disabled-color);\n",
       "}\n",
       "\n",
       ".xr-section-summary-in:checked + label:before {\n",
       "  content: \"▼\";\n",
       "}\n",
       "\n",
       ".xr-section-summary-in:checked + label > span {\n",
       "  display: none;\n",
       "}\n",
       "\n",
       ".xr-section-summary,\n",
       ".xr-section-inline-details {\n",
       "  padding-top: 4px;\n",
       "  padding-bottom: 4px;\n",
       "}\n",
       "\n",
       ".xr-section-inline-details {\n",
       "  grid-column: 2 / -1;\n",
       "}\n",
       "\n",
       ".xr-section-details {\n",
       "  display: none;\n",
       "  grid-column: 1 / -1;\n",
       "  margin-bottom: 5px;\n",
       "}\n",
       "\n",
       ".xr-section-summary-in:checked ~ .xr-section-details {\n",
       "  display: contents;\n",
       "}\n",
       "\n",
       ".xr-array-wrap {\n",
       "  grid-column: 1 / -1;\n",
       "  display: grid;\n",
       "  grid-template-columns: 20px auto;\n",
       "}\n",
       "\n",
       ".xr-array-wrap > label {\n",
       "  grid-column: 1;\n",
       "  vertical-align: top;\n",
       "}\n",
       "\n",
       ".xr-preview {\n",
       "  color: var(--xr-font-color3);\n",
       "}\n",
       "\n",
       ".xr-array-preview,\n",
       ".xr-array-data {\n",
       "  padding: 0 5px !important;\n",
       "  grid-column: 2;\n",
       "}\n",
       "\n",
       ".xr-array-data,\n",
       ".xr-array-in:checked ~ .xr-array-preview {\n",
       "  display: none;\n",
       "}\n",
       "\n",
       ".xr-array-in:checked ~ .xr-array-data,\n",
       ".xr-array-preview {\n",
       "  display: inline-block;\n",
       "}\n",
       "\n",
       ".xr-dim-list {\n",
       "  display: inline-block !important;\n",
       "  list-style: none;\n",
       "  padding: 0 !important;\n",
       "  margin: 0;\n",
       "}\n",
       "\n",
       ".xr-dim-list li {\n",
       "  display: inline-block;\n",
       "  padding: 0;\n",
       "  margin: 0;\n",
       "}\n",
       "\n",
       ".xr-dim-list:before {\n",
       "  content: \"(\";\n",
       "}\n",
       "\n",
       ".xr-dim-list:after {\n",
       "  content: \")\";\n",
       "}\n",
       "\n",
       ".xr-dim-list li:not(:last-child):after {\n",
       "  content: \",\";\n",
       "  padding-right: 5px;\n",
       "}\n",
       "\n",
       ".xr-has-index {\n",
       "  font-weight: bold;\n",
       "}\n",
       "\n",
       ".xr-var-list,\n",
       ".xr-var-item {\n",
       "  display: contents;\n",
       "}\n",
       "\n",
       ".xr-var-item > div,\n",
       ".xr-var-item label,\n",
       ".xr-var-item > .xr-var-name span {\n",
       "  background-color: var(--xr-background-color-row-even);\n",
       "  margin-bottom: 0;\n",
       "}\n",
       "\n",
       ".xr-var-item > .xr-var-name:hover span {\n",
       "  padding-right: 5px;\n",
       "}\n",
       "\n",
       ".xr-var-list > li:nth-child(odd) > div,\n",
       ".xr-var-list > li:nth-child(odd) > label,\n",
       ".xr-var-list > li:nth-child(odd) > .xr-var-name span {\n",
       "  background-color: var(--xr-background-color-row-odd);\n",
       "}\n",
       "\n",
       ".xr-var-name {\n",
       "  grid-column: 1;\n",
       "}\n",
       "\n",
       ".xr-var-dims {\n",
       "  grid-column: 2;\n",
       "}\n",
       "\n",
       ".xr-var-dtype {\n",
       "  grid-column: 3;\n",
       "  text-align: right;\n",
       "  color: var(--xr-font-color2);\n",
       "}\n",
       "\n",
       ".xr-var-preview {\n",
       "  grid-column: 4;\n",
       "}\n",
       "\n",
       ".xr-index-preview {\n",
       "  grid-column: 2 / 5;\n",
       "  color: var(--xr-font-color2);\n",
       "}\n",
       "\n",
       ".xr-var-name,\n",
       ".xr-var-dims,\n",
       ".xr-var-dtype,\n",
       ".xr-preview,\n",
       ".xr-attrs dt {\n",
       "  white-space: nowrap;\n",
       "  overflow: hidden;\n",
       "  text-overflow: ellipsis;\n",
       "  padding-right: 10px;\n",
       "}\n",
       "\n",
       ".xr-var-name:hover,\n",
       ".xr-var-dims:hover,\n",
       ".xr-var-dtype:hover,\n",
       ".xr-attrs dt:hover {\n",
       "  overflow: visible;\n",
       "  width: auto;\n",
       "  z-index: 1;\n",
       "}\n",
       "\n",
       ".xr-var-attrs,\n",
       ".xr-var-data,\n",
       ".xr-index-data {\n",
       "  display: none;\n",
       "  background-color: var(--xr-background-color) !important;\n",
       "  padding-bottom: 5px !important;\n",
       "}\n",
       "\n",
       ".xr-var-attrs-in:checked ~ .xr-var-attrs,\n",
       ".xr-var-data-in:checked ~ .xr-var-data,\n",
       ".xr-index-data-in:checked ~ .xr-index-data {\n",
       "  display: block;\n",
       "}\n",
       "\n",
       ".xr-var-data > table {\n",
       "  float: right;\n",
       "}\n",
       "\n",
       ".xr-var-name span,\n",
       ".xr-var-data,\n",
       ".xr-index-name div,\n",
       ".xr-index-data,\n",
       ".xr-attrs {\n",
       "  padding-left: 25px !important;\n",
       "}\n",
       "\n",
       ".xr-attrs,\n",
       ".xr-var-attrs,\n",
       ".xr-var-data,\n",
       ".xr-index-data {\n",
       "  grid-column: 1 / -1;\n",
       "}\n",
       "\n",
       "dl.xr-attrs {\n",
       "  padding: 0;\n",
       "  margin: 0;\n",
       "  display: grid;\n",
       "  grid-template-columns: 125px auto;\n",
       "}\n",
       "\n",
       ".xr-attrs dt,\n",
       ".xr-attrs dd {\n",
       "  padding: 0;\n",
       "  margin: 0;\n",
       "  float: left;\n",
       "  padding-right: 10px;\n",
       "  width: auto;\n",
       "}\n",
       "\n",
       ".xr-attrs dt {\n",
       "  font-weight: normal;\n",
       "  grid-column: 1;\n",
       "}\n",
       "\n",
       ".xr-attrs dt:hover span {\n",
       "  display: inline-block;\n",
       "  background: var(--xr-background-color);\n",
       "  padding-right: 10px;\n",
       "}\n",
       "\n",
       ".xr-attrs dd {\n",
       "  grid-column: 2;\n",
       "  white-space: pre-wrap;\n",
       "  word-break: break-all;\n",
       "}\n",
       "\n",
       ".xr-icon-database,\n",
       ".xr-icon-file-text2,\n",
       ".xr-no-icon {\n",
       "  display: inline-block;\n",
       "  vertical-align: middle;\n",
       "  width: 1em;\n",
       "  height: 1.5em !important;\n",
       "  stroke-width: 0;\n",
       "  stroke: currentColor;\n",
       "  fill: currentColor;\n",
       "}\n",
       "</style><pre class='xr-text-repr-fallback'>&lt;TimeSeries (DataArray) (time: 5, component: 1, sample: 1)&gt; Size: 40B\n",
       "array([[[ 0.8042713 ]],\n",
       "\n",
       "       [[ 1.58685749]],\n",
       "\n",
       "       [[ 0.88496745]],\n",
       "\n",
       "       [[ 1.07890811]],\n",
       "\n",
       "       [[-0.41554812]]])\n",
       "Coordinates:\n",
       "  * time       (time) datetime64[ns] 40B 2023-01-01 2023-01-02 ... 2023-01-05\n",
       "  * component  (component) object 8B &#x27;random_walk&#x27;\n",
       "Dimensions without coordinates: sample\n",
       "Attributes:\n",
       "    static_covariates:  None\n",
       "    hierarchy:          None</pre><div class='xr-wrap' style='display:none'><div class='xr-header'><div class='xr-obj-type'>TimeSeries (DataArray)</div><div class='xr-array-name'></div><ul class='xr-dim-list'><li><span class='xr-has-index'>time</span>: 5</li><li><span class='xr-has-index'>component</span>: 1</li><li><span>sample</span>: 1</li></ul></div><ul class='xr-sections'><li class='xr-section-item'><div class='xr-array-wrap'><input id='section-46a85291-ef70-47fd-822a-8b91b53a7067' class='xr-array-in' type='checkbox' checked><label for='section-46a85291-ef70-47fd-822a-8b91b53a7067' title='Show/hide data repr'><svg class='icon xr-icon-database'><use xlink:href='#icon-database'></use></svg></label><div class='xr-array-preview xr-preview'><span>0.8043 1.587 0.885 1.079 -0.4155</span></div><div class='xr-array-data'><pre>array([[[ 0.8042713 ]],\n",
       "\n",
       "       [[ 1.58685749]],\n",
       "\n",
       "       [[ 0.88496745]],\n",
       "\n",
       "       [[ 1.07890811]],\n",
       "\n",
       "       [[-0.41554812]]])</pre></div></div></li><li class='xr-section-item'><input id='section-a6a65f57-621e-48f6-9111-69d8e0cfa3de' class='xr-section-summary-in' type='checkbox'  checked><label for='section-a6a65f57-621e-48f6-9111-69d8e0cfa3de' class='xr-section-summary' >Coordinates: <span>(2)</span></label><div class='xr-section-inline-details'></div><div class='xr-section-details'><ul class='xr-var-list'><li class='xr-var-item'><div class='xr-var-name'><span class='xr-has-index'>time</span></div><div class='xr-var-dims'>(time)</div><div class='xr-var-dtype'>datetime64[ns]</div><div class='xr-var-preview xr-preview'>2023-01-01 ... 2023-01-05</div><input id='attrs-4ecd5092-0b9c-427d-b36d-930508a71e1e' class='xr-var-attrs-in' type='checkbox' disabled><label for='attrs-4ecd5092-0b9c-427d-b36d-930508a71e1e' title='Show/Hide attributes'><svg class='icon xr-icon-file-text2'><use xlink:href='#icon-file-text2'></use></svg></label><input id='data-04f29901-dee8-4188-9abf-d80de9e743f7' class='xr-var-data-in' type='checkbox'><label for='data-04f29901-dee8-4188-9abf-d80de9e743f7' title='Show/Hide data repr'><svg class='icon xr-icon-database'><use xlink:href='#icon-database'></use></svg></label><div class='xr-var-attrs'><dl class='xr-attrs'></dl></div><div class='xr-var-data'><pre>array([&#x27;2023-01-01T00:00:00.000000000&#x27;, &#x27;2023-01-02T00:00:00.000000000&#x27;,\n",
       "       &#x27;2023-01-03T00:00:00.000000000&#x27;, &#x27;2023-01-04T00:00:00.000000000&#x27;,\n",
       "       &#x27;2023-01-05T00:00:00.000000000&#x27;], dtype=&#x27;datetime64[ns]&#x27;)</pre></div></li><li class='xr-var-item'><div class='xr-var-name'><span class='xr-has-index'>component</span></div><div class='xr-var-dims'>(component)</div><div class='xr-var-dtype'>object</div><div class='xr-var-preview xr-preview'>&#x27;random_walk&#x27;</div><input id='attrs-1ac0f1e3-1f6d-4858-873f-344b4bc4aea2' class='xr-var-attrs-in' type='checkbox' disabled><label for='attrs-1ac0f1e3-1f6d-4858-873f-344b4bc4aea2' title='Show/Hide attributes'><svg class='icon xr-icon-file-text2'><use xlink:href='#icon-file-text2'></use></svg></label><input id='data-6a58cdfe-b1d9-4bd4-92cc-9a5d1f58fb9e' class='xr-var-data-in' type='checkbox'><label for='data-6a58cdfe-b1d9-4bd4-92cc-9a5d1f58fb9e' title='Show/Hide data repr'><svg class='icon xr-icon-database'><use xlink:href='#icon-database'></use></svg></label><div class='xr-var-attrs'><dl class='xr-attrs'></dl></div><div class='xr-var-data'><pre>array([&#x27;random_walk&#x27;], dtype=object)</pre></div></li></ul></div></li><li class='xr-section-item'><input id='section-9e2c4b3c-8e7a-4d96-9e0d-46143c6bac95' class='xr-section-summary-in' type='checkbox'  ><label for='section-9e2c4b3c-8e7a-4d96-9e0d-46143c6bac95' class='xr-section-summary' >Indexes: <span>(2)</span></label><div class='xr-section-inline-details'></div><div class='xr-section-details'><ul class='xr-var-list'><li class='xr-var-item'><div class='xr-index-name'><div>time</div></div><div class='xr-index-preview'>PandasIndex</div><input type='checkbox' disabled/><label></label><input id='index-600d36ec-094a-426d-bb58-8fe823f4fc98' class='xr-index-data-in' type='checkbox'/><label for='index-600d36ec-094a-426d-bb58-8fe823f4fc98' title='Show/Hide index repr'><svg class='icon xr-icon-database'><use xlink:href='#icon-database'></use></svg></label><div class='xr-index-data'><pre>PandasIndex(DatetimeIndex([&#x27;2023-01-01&#x27;, &#x27;2023-01-02&#x27;, &#x27;2023-01-03&#x27;, &#x27;2023-01-04&#x27;,\n",
       "               &#x27;2023-01-05&#x27;],\n",
       "              dtype=&#x27;datetime64[ns]&#x27;, name=&#x27;time&#x27;, freq=&#x27;D&#x27;))</pre></div></li><li class='xr-var-item'><div class='xr-index-name'><div>component</div></div><div class='xr-index-preview'>PandasIndex</div><input type='checkbox' disabled/><label></label><input id='index-25157275-dad4-4105-b66c-a8045a926366' class='xr-index-data-in' type='checkbox'/><label for='index-25157275-dad4-4105-b66c-a8045a926366' title='Show/Hide index repr'><svg class='icon xr-icon-database'><use xlink:href='#icon-database'></use></svg></label><div class='xr-index-data'><pre>PandasIndex(Index([&#x27;random_walk&#x27;], dtype=&#x27;object&#x27;, name=&#x27;component&#x27;))</pre></div></li></ul></div></li><li class='xr-section-item'><input id='section-f2f186a5-171f-4da7-8baa-b9cf775516b4' class='xr-section-summary-in' type='checkbox'  checked><label for='section-f2f186a5-171f-4da7-8baa-b9cf775516b4' class='xr-section-summary' >Attributes: <span>(2)</span></label><div class='xr-section-inline-details'></div><div class='xr-section-details'><dl class='xr-attrs'><dt><span>static_covariates :</span></dt><dd>None</dd><dt><span>hierarchy :</span></dt><dd>None</dd></dl></div></li></ul></div></div>"
      ],
      "text/plain": [
       "<TimeSeries (DataArray) (time: 5, component: 1, sample: 1)> Size: 40B\n",
       "array([[[ 0.8042713 ]],\n",
       "\n",
       "       [[ 1.58685749]],\n",
       "\n",
       "       [[ 0.88496745]],\n",
       "\n",
       "       [[ 1.07890811]],\n",
       "\n",
       "       [[-0.41554812]]])\n",
       "Coordinates:\n",
       "  * time       (time) datetime64[ns] 40B 2023-01-01 2023-01-02 ... 2023-01-05\n",
       "  * component  (component) object 8B 'random_walk'\n",
       "Dimensions without coordinates: sample\n",
       "Attributes:\n",
       "    static_covariates:  None\n",
       "    hierarchy:          None"
      ]
     },
     "execution_count": 3,
     "metadata": {},
     "output_type": "execute_result"
    }
   ],
   "source": [
    "ts = on.generators.random_walk().generate(start=pd.Timestamp('01-01-2023'), end=pd.Timestamp('12-31-2023'))\n",
    "ts[0:5]"
   ]
  },
  {
   "cell_type": "code",
   "execution_count": 4,
   "id": "6b9959a6-489a-4c80-a53e-e65cad57fe62",
   "metadata": {
    "ExecuteTime": {
     "end_time": "2024-04-27T10:05:32.472025Z",
     "start_time": "2024-04-27T10:05:32.234524Z"
    },
    "execution": {
     "iopub.execute_input": "2025-01-06T14:55:01.514035Z",
     "iopub.status.busy": "2025-01-06T14:55:01.513737Z",
     "iopub.status.idle": "2025-01-06T14:55:02.324878Z",
     "shell.execute_reply": "2025-01-06T14:55:02.323545Z"
    },
    "papermill": {
     "duration": 0.818872,
     "end_time": "2025-01-06T14:55:02.326710",
     "exception": false,
     "start_time": "2025-01-06T14:55:01.507838",
     "status": "completed"
    },
    "tags": []
   },
   "outputs": [
    {
     "data": {
      "text/html": [
       "\n",
       "<style>\n",
       "  #altair-viz-d92b05a1b1c745638a9b309e28d0847a.vega-embed {\n",
       "    width: 100%;\n",
       "    display: flex;\n",
       "  }\n",
       "\n",
       "  #altair-viz-d92b05a1b1c745638a9b309e28d0847a.vega-embed details,\n",
       "  #altair-viz-d92b05a1b1c745638a9b309e28d0847a.vega-embed details summary {\n",
       "    position: relative;\n",
       "  }\n",
       "</style>\n",
       "<div id=\"altair-viz-d92b05a1b1c745638a9b309e28d0847a\"></div>\n",
       "<script type=\"text/javascript\">\n",
       "  var VEGA_DEBUG = (typeof VEGA_DEBUG == \"undefined\") ? {} : VEGA_DEBUG;\n",
       "  (function(spec, embedOpt){\n",
       "    let outputDiv = document.currentScript.previousElementSibling;\n",
       "    if (outputDiv.id !== \"altair-viz-d92b05a1b1c745638a9b309e28d0847a\") {\n",
       "      outputDiv = document.getElementById(\"altair-viz-d92b05a1b1c745638a9b309e28d0847a\");\n",
       "    }\n",
       "\n",
       "    const paths = {\n",
       "      \"vega\": \"https://cdn.jsdelivr.net/npm/vega@5?noext\",\n",
       "      \"vega-lib\": \"https://cdn.jsdelivr.net/npm/vega-lib?noext\",\n",
       "      \"vega-lite\": \"https://cdn.jsdelivr.net/npm/vega-lite@5.20.1?noext\",\n",
       "      \"vega-embed\": \"https://cdn.jsdelivr.net/npm/vega-embed@6?noext\",\n",
       "    };\n",
       "\n",
       "    function maybeLoadScript(lib, version) {\n",
       "      var key = `${lib.replace(\"-\", \"\")}_version`;\n",
       "      return (VEGA_DEBUG[key] == version) ?\n",
       "        Promise.resolve(paths[lib]) :\n",
       "        new Promise(function(resolve, reject) {\n",
       "          var s = document.createElement('script');\n",
       "          document.getElementsByTagName(\"head\")[0].appendChild(s);\n",
       "          s.async = true;\n",
       "          s.onload = () => {\n",
       "            VEGA_DEBUG[key] = version;\n",
       "            return resolve(paths[lib]);\n",
       "          };\n",
       "          s.onerror = () => reject(`Error loading script: ${paths[lib]}`);\n",
       "          s.src = paths[lib];\n",
       "        });\n",
       "    }\n",
       "\n",
       "    function showError(err) {\n",
       "      outputDiv.innerHTML = `<div class=\"error\" style=\"color:red;\">${err}</div>`;\n",
       "      throw err;\n",
       "    }\n",
       "\n",
       "    function displayChart(vegaEmbed) {\n",
       "      vegaEmbed(outputDiv, spec, embedOpt)\n",
       "        .catch(err => showError(`Javascript Error: ${err.message}<br>This usually means there's a typo in your chart specification. See the javascript console for the full traceback.`));\n",
       "    }\n",
       "\n",
       "    if(typeof define === \"function\" && define.amd) {\n",
       "      requirejs.config({paths});\n",
       "      let deps = [\"vega-embed\"];\n",
       "      require(deps, displayChart, err => showError(`Error loading script: ${err.message}`));\n",
       "    } else {\n",
       "      maybeLoadScript(\"vega\", \"5\")\n",
       "        .then(() => maybeLoadScript(\"vega-lite\", \"5.20.1\"))\n",
       "        .then(() => maybeLoadScript(\"vega-embed\", \"6\"))\n",
       "        .catch(showError)\n",
       "        .then(() => displayChart(vegaEmbed));\n",
       "    }\n",
       "  })({\"$schema\": \"https://vega.github.io/schema/vega/v5.json\", \"data\": [{\"name\": \"source_0\", \"values\": [{\"time\": \"2023-01-01T00:00:00.000\", \"variable\": \"random_walk\", \"value\": 0.8042713021598082}, {\"time\": \"2023-01-02T00:00:00.000\", \"variable\": \"random_walk\", \"value\": 1.58685749495609}, {\"time\": \"2023-01-03T00:00:00.000\", \"variable\": \"random_walk\", \"value\": 0.8849674548970128}, {\"time\": \"2023-01-04T00:00:00.000\", \"variable\": \"random_walk\", \"value\": 1.0789081095673738}, {\"time\": \"2023-01-05T00:00:00.000\", \"variable\": \"random_walk\", \"value\": -0.41554812285693465}, {\"time\": \"2023-01-06T00:00:00.000\", \"variable\": \"random_walk\", \"value\": -0.20409365321770112}, {\"time\": \"2023-01-07T00:00:00.000\", \"variable\": \"random_walk\", \"value\": 0.26709737543046475}, {\"time\": \"2023-01-08T00:00:00.000\", \"variable\": \"random_walk\", \"value\": -0.6125244095268069}, {\"time\": \"2023-01-09T00:00:00.000\", \"variable\": \"random_walk\", \"value\": 0.9293692693468468}, {\"time\": \"2023-01-10T00:00:00.000\", \"variable\": \"random_walk\", \"value\": 1.9480104531369142}, {\"time\": \"2023-01-11T00:00:00.000\", \"variable\": \"random_walk\", \"value\": 1.4883963634237765}, {\"time\": \"2023-01-12T00:00:00.000\", \"variable\": \"random_walk\", \"value\": 0.33099894164948296}, {\"time\": \"2023-01-13T00:00:00.000\", \"variable\": \"random_walk\", \"value\": 0.2868524981725246}, {\"time\": \"2023-01-14T00:00:00.000\", \"variable\": \"random_walk\", \"value\": 0.9848083591345198}, {\"time\": \"2023-01-15T00:00:00.000\", \"variable\": \"random_walk\", \"value\": 1.534780039509142}, {\"time\": \"2023-01-16T00:00:00.000\", \"variable\": \"random_walk\", \"value\": 1.1146564362455502}, {\"time\": \"2023-01-17T00:00:00.000\", \"variable\": \"random_walk\", \"value\": -0.7758026013557131}, {\"time\": \"2023-01-18T00:00:00.000\", \"variable\": \"random_walk\", \"value\": -1.4110210399594345}, {\"time\": \"2023-01-19T00:00:00.000\", \"variable\": \"random_walk\", \"value\": 1.5888093986488234}, {\"time\": \"2023-01-20T00:00:00.000\", \"variable\": \"random_walk\", \"value\": 2.157565223491673}, {\"time\": \"2023-01-21T00:00:00.000\", \"variable\": \"random_walk\", \"value\": 2.5258399943501204}, {\"time\": \"2023-01-22T00:00:00.000\", \"variable\": \"random_walk\", \"value\": 3.841106871182613}, {\"time\": \"2023-01-23T00:00:00.000\", \"variable\": \"random_walk\", \"value\": 1.3314201588548795}, {\"time\": \"2023-01-24T00:00:00.000\", \"variable\": \"random_walk\", \"value\": 1.2980720371142984}, {\"time\": \"2023-01-25T00:00:00.000\", \"variable\": \"random_walk\", \"value\": -0.17736203658954364}, {\"time\": \"2023-01-26T00:00:00.000\", \"variable\": \"random_walk\", \"value\": 2.510880109045152}, {\"time\": \"2023-01-27T00:00:00.000\", \"variable\": \"random_walk\", \"value\": 2.0215628668210033}, {\"time\": \"2023-01-28T00:00:00.000\", \"variable\": \"random_walk\", \"value\": 1.1745049013820736}, {\"time\": \"2023-01-29T00:00:00.000\", \"variable\": \"random_walk\", \"value\": -0.027799272689559062}, {\"time\": \"2023-01-30T00:00:00.000\", \"variable\": \"random_walk\", \"value\": 0.3007108074405811}, {\"time\": \"2023-01-31T00:00:00.000\", \"variable\": \"random_walk\", \"value\": -1.3661859982459421}, {\"time\": \"2023-02-01T00:00:00.000\", \"variable\": \"random_walk\", \"value\": -1.9613664434972988}, {\"time\": \"2023-02-02T00:00:00.000\", \"variable\": \"random_walk\", \"value\": -2.2701537666723537}, {\"time\": \"2023-02-03T00:00:00.000\", \"variable\": \"random_walk\", \"value\": -4.408494243790429}, {\"time\": \"2023-02-04T00:00:00.000\", \"variable\": \"random_walk\", \"value\": -4.374030095646228}, {\"time\": \"2023-02-05T00:00:00.000\", \"variable\": \"random_walk\", \"value\": -3.392836406883678}, {\"time\": \"2023-02-06T00:00:00.000\", \"variable\": \"random_walk\", \"value\": -3.0799292952382804}, {\"time\": \"2023-02-07T00:00:00.000\", \"variable\": \"random_walk\", \"value\": -1.8007507906047429}, {\"time\": \"2023-02-08T00:00:00.000\", \"variable\": \"random_walk\", \"value\": 0.8114061520632747}, {\"time\": \"2023-02-09T00:00:00.000\", \"variable\": \"random_walk\", \"value\": 0.526824683500325}, {\"time\": \"2023-02-10T00:00:00.000\", \"variable\": \"random_walk\", \"value\": 0.6691113017538897}, {\"time\": \"2023-02-11T00:00:00.000\", \"variable\": \"random_walk\", \"value\": -0.8278786917265408}, {\"time\": \"2023-02-12T00:00:00.000\", \"variable\": \"random_walk\", \"value\": -1.4895315800995361}, {\"time\": \"2023-02-13T00:00:00.000\", \"variable\": \"random_walk\", \"value\": -3.208838325725125}, {\"time\": \"2023-02-14T00:00:00.000\", \"variable\": \"random_walk\", \"value\": -3.5738102076222242}, {\"time\": \"2023-02-15T00:00:00.000\", \"variable\": \"random_walk\", \"value\": -2.6323852679614563}, {\"time\": \"2023-02-16T00:00:00.000\", \"variable\": \"random_walk\", \"value\": -3.465417992697969}, {\"time\": \"2023-02-17T00:00:00.000\", \"variable\": \"random_walk\", \"value\": -4.679481371597929}, {\"time\": \"2023-02-18T00:00:00.000\", \"variable\": \"random_walk\", \"value\": -6.785056667918999}, {\"time\": \"2023-02-19T00:00:00.000\", \"variable\": \"random_walk\", \"value\": -5.963003158478742}, {\"time\": \"2023-02-20T00:00:00.000\", \"variable\": \"random_walk\", \"value\": -7.201864780401352}, {\"time\": \"2023-02-21T00:00:00.000\", \"variable\": \"random_walk\", \"value\": -5.4074743677510195}, {\"time\": \"2023-02-22T00:00:00.000\", \"variable\": \"random_walk\", \"value\": -5.663192560443325}, {\"time\": \"2023-02-23T00:00:00.000\", \"variable\": \"random_walk\", \"value\": -6.179110584650587}, {\"time\": \"2023-02-24T00:00:00.000\", \"variable\": \"random_walk\", \"value\": -6.574617103445387}, {\"time\": \"2023-02-25T00:00:00.000\", \"variable\": \"random_walk\", \"value\": -5.434614721476066}, {\"time\": \"2023-02-26T00:00:00.000\", \"variable\": \"random_walk\", \"value\": -5.373995232995139}, {\"time\": \"2023-02-27T00:00:00.000\", \"variable\": \"random_walk\", \"value\": -5.810236791674615}, {\"time\": \"2023-02-28T00:00:00.000\", \"variable\": \"random_walk\", \"value\": -4.86048421688678}, {\"time\": \"2023-03-01T00:00:00.000\", \"variable\": \"random_walk\", \"value\": -6.14538619608164}, {\"time\": \"2023-03-02T00:00:00.000\", \"variable\": \"random_walk\", \"value\": -5.273747709849413}, {\"time\": \"2023-03-03T00:00:00.000\", \"variable\": \"random_walk\", \"value\": -4.216461746250161}, {\"time\": \"2023-03-04T00:00:00.000\", \"variable\": \"random_walk\", \"value\": -4.822568435146472}, {\"time\": \"2023-03-05T00:00:00.000\", \"variable\": \"random_walk\", \"value\": -4.962312529762691}, {\"time\": \"2023-03-06T00:00:00.000\", \"variable\": \"random_walk\", \"value\": -4.685898098450489}, {\"time\": \"2023-03-07T00:00:00.000\", \"variable\": \"random_walk\", \"value\": -6.07484407401154}, {\"time\": \"2023-03-08T00:00:00.000\", \"variable\": \"random_walk\", \"value\": -5.447655785539261}, {\"time\": \"2023-03-09T00:00:00.000\", \"variable\": \"random_walk\", \"value\": -6.075314328170054}, {\"time\": \"2023-03-10T00:00:00.000\", \"variable\": \"random_walk\", \"value\": -6.337086206818081}, {\"time\": \"2023-03-11T00:00:00.000\", \"variable\": \"random_walk\", \"value\": -7.564921296912824}, {\"time\": \"2023-03-12T00:00:00.000\", \"variable\": \"random_walk\", \"value\": -5.614469040550274}, {\"time\": \"2023-03-13T00:00:00.000\", \"variable\": \"random_walk\", \"value\": -7.2940793841003915}, {\"time\": \"2023-03-14T00:00:00.000\", \"variable\": \"random_walk\", \"value\": -6.771758716971179}, {\"time\": \"2023-03-15T00:00:00.000\", \"variable\": \"random_walk\", \"value\": -5.889685165295045}, {\"time\": \"2023-03-16T00:00:00.000\", \"variable\": \"random_walk\", \"value\": -4.915491350574102}, {\"time\": \"2023-03-17T00:00:00.000\", \"variable\": \"random_walk\", \"value\": -4.541278780261355}, {\"time\": \"2023-03-18T00:00:00.000\", \"variable\": \"random_walk\", \"value\": -3.41890737965477}, {\"time\": \"2023-03-19T00:00:00.000\", \"variable\": \"random_walk\", \"value\": -3.085768544889969}, {\"time\": \"2023-03-20T00:00:00.000\", \"variable\": \"random_walk\", \"value\": -2.826409434585402}, {\"time\": \"2023-03-21T00:00:00.000\", \"variable\": \"random_walk\", \"value\": -1.6904509421674543}, {\"time\": \"2023-03-22T00:00:00.000\", \"variable\": \"random_walk\", \"value\": -0.6676239377006703}, {\"time\": \"2023-03-23T00:00:00.000\", \"variable\": \"random_walk\", \"value\": -0.25262360901508796}, {\"time\": \"2023-03-24T00:00:00.000\", \"variable\": \"random_walk\", \"value\": -0.41222491423902663}, {\"time\": \"2023-03-25T00:00:00.000\", \"variable\": \"random_walk\", \"value\": -1.4197705569120367}, {\"time\": \"2023-03-26T00:00:00.000\", \"variable\": \"random_walk\", \"value\": -0.5977637031851979}, {\"time\": \"2023-03-27T00:00:00.000\", \"variable\": \"random_walk\", \"value\": 0.2748668068540594}, {\"time\": \"2023-03-28T00:00:00.000\", \"variable\": \"random_walk\", \"value\": 1.1425003941888914}, {\"time\": \"2023-03-29T00:00:00.000\", \"variable\": \"random_walk\", \"value\": 0.5199606104555453}, {\"time\": \"2023-03-30T00:00:00.000\", \"variable\": \"random_walk\", \"value\": 1.5343715442204262}, {\"time\": \"2023-03-31T00:00:00.000\", \"variable\": \"random_walk\", \"value\": 2.124876932073332}, {\"time\": \"2023-04-01T00:00:00.000\", \"variable\": \"random_walk\", \"value\": 2.1244247800054663}, {\"time\": \"2023-04-02T00:00:00.000\", \"variable\": \"random_walk\", \"value\": 1.6705539186835687}, {\"time\": \"2023-04-03T00:00:00.000\", \"variable\": \"random_walk\", \"value\": 1.7937353820001867}, {\"time\": \"2023-04-04T00:00:00.000\", \"variable\": \"random_walk\", \"value\": 2.349928664106931}, {\"time\": \"2023-04-05T00:00:00.000\", \"variable\": \"random_walk\", \"value\": 2.4703461936438114}, {\"time\": \"2023-04-06T00:00:00.000\", \"variable\": \"random_walk\", \"value\": 0.819178171705913}, {\"time\": \"2023-04-07T00:00:00.000\", \"variable\": \"random_walk\", \"value\": 3.0982939409884733}, {\"time\": \"2023-04-08T00:00:00.000\", \"variable\": \"random_walk\", \"value\": 2.833773567785532}, {\"time\": \"2023-04-09T00:00:00.000\", \"variable\": \"random_walk\", \"value\": 4.197881810313714}, {\"time\": \"2023-04-10T00:00:00.000\", \"variable\": \"random_walk\", \"value\": 4.3722494287296465}, {\"time\": \"2023-04-11T00:00:00.000\", \"variable\": \"random_walk\", \"value\": 3.6115873359410253}, {\"time\": \"2023-04-12T00:00:00.000\", \"variable\": \"random_walk\", \"value\": 4.504559238074501}, {\"time\": \"2023-04-13T00:00:00.000\", \"variable\": \"random_walk\", \"value\": 3.7689558243659347}, {\"time\": \"2023-04-14T00:00:00.000\", \"variable\": \"random_walk\", \"value\": 4.202002774481131}, {\"time\": \"2023-04-15T00:00:00.000\", \"variable\": \"random_walk\", \"value\": 3.4000133058995643}, {\"time\": \"2023-04-16T00:00:00.000\", \"variable\": \"random_walk\", \"value\": 1.576271866842146}, {\"time\": \"2023-04-17T00:00:00.000\", \"variable\": \"random_walk\", \"value\": 1.0783938979572691}, {\"time\": \"2023-04-18T00:00:00.000\", \"variable\": \"random_walk\", \"value\": 2.244504977677493}, {\"time\": \"2023-04-19T00:00:00.000\", \"variable\": \"random_walk\", \"value\": 1.746481812093924}, {\"time\": \"2023-04-20T00:00:00.000\", \"variable\": \"random_walk\", \"value\": 0.8002011943453573}, {\"time\": \"2023-04-21T00:00:00.000\", \"variable\": \"random_walk\", \"value\": 0.812576692188863}, {\"time\": \"2023-04-22T00:00:00.000\", \"variable\": \"random_walk\", \"value\": 1.088286692565498}, {\"time\": \"2023-04-23T00:00:00.000\", \"variable\": \"random_walk\", \"value\": 1.5048743863060743}, {\"time\": \"2023-04-24T00:00:00.000\", \"variable\": \"random_walk\", \"value\": 0.8794827611278477}, {\"time\": \"2023-04-25T00:00:00.000\", \"variable\": \"random_walk\", \"value\": -0.5032506916983179}, {\"time\": \"2023-04-26T00:00:00.000\", \"variable\": \"random_walk\", \"value\": -0.9165121446523161}, {\"time\": \"2023-04-27T00:00:00.000\", \"variable\": \"random_walk\", \"value\": -0.836757125796619}, {\"time\": \"2023-04-28T00:00:00.000\", \"variable\": \"random_walk\", \"value\": -0.49934678517489495}, {\"time\": \"2023-04-29T00:00:00.000\", \"variable\": \"random_walk\", \"value\": -0.5334438423830508}, {\"time\": \"2023-04-30T00:00:00.000\", \"variable\": \"random_walk\", \"value\": 0.12032599096902274}, {\"time\": \"2023-05-01T00:00:00.000\", \"variable\": \"random_walk\", \"value\": 9.920301727917025e-06}, {\"time\": \"2023-05-02T00:00:00.000\", \"variable\": \"random_walk\", \"value\": -0.26144482099173033}, {\"time\": \"2023-05-03T00:00:00.000\", \"variable\": \"random_walk\", \"value\": 1.6845891414345329}, {\"time\": \"2023-05-04T00:00:00.000\", \"variable\": \"random_walk\", \"value\": 0.9756340366552776}, {\"time\": \"2023-05-05T00:00:00.000\", \"variable\": \"random_walk\", \"value\": 0.6459181198198486}, {\"time\": \"2023-05-06T00:00:00.000\", \"variable\": \"random_walk\", \"value\": -0.2729599587985885}, {\"time\": \"2023-05-07T00:00:00.000\", \"variable\": \"random_walk\", \"value\": 0.7681023334926336}, {\"time\": \"2023-05-08T00:00:00.000\", \"variable\": \"random_walk\", \"value\": -0.8973302158430179}, {\"time\": \"2023-05-09T00:00:00.000\", \"variable\": \"random_walk\", \"value\": -2.2277084328825287}, {\"time\": \"2023-05-10T00:00:00.000\", \"variable\": \"random_walk\", \"value\": -3.108626630998615}, {\"time\": \"2023-05-11T00:00:00.000\", \"variable\": \"random_walk\", \"value\": -2.977847712875043}, {\"time\": \"2023-05-12T00:00:00.000\", \"variable\": \"random_walk\", \"value\": -2.570309270793701}, {\"time\": \"2023-05-13T00:00:00.000\", \"variable\": \"random_walk\", \"value\": -2.683820014989752}, {\"time\": \"2023-05-14T00:00:00.000\", \"variable\": \"random_walk\", \"value\": -2.2126900054609813}, {\"time\": \"2023-05-15T00:00:00.000\", \"variable\": \"random_walk\", \"value\": -1.7938091555310192}, {\"time\": \"2023-05-16T00:00:00.000\", \"variable\": \"random_walk\", \"value\": -2.4575225561600433}, {\"time\": \"2023-05-17T00:00:00.000\", \"variable\": \"random_walk\", \"value\": -3.5474137412992985}, {\"time\": \"2023-05-18T00:00:00.000\", \"variable\": \"random_walk\", \"value\": -2.1332505563257644}, {\"time\": \"2023-05-19T00:00:00.000\", \"variable\": \"random_walk\", \"value\": -2.2310871167556767}, {\"time\": \"2023-05-20T00:00:00.000\", \"variable\": \"random_walk\", \"value\": -1.5483579023945142}, {\"time\": \"2023-05-21T00:00:00.000\", \"variable\": \"random_walk\", \"value\": -2.41392723228935}, {\"time\": \"2023-05-22T00:00:00.000\", \"variable\": \"random_walk\", \"value\": -1.977139069063982}, {\"time\": \"2023-05-23T00:00:00.000\", \"variable\": \"random_walk\", \"value\": -4.352295088097892}, {\"time\": \"2023-05-24T00:00:00.000\", \"variable\": \"random_walk\", \"value\": -4.614840191370199}, {\"time\": \"2023-05-25T00:00:00.000\", \"variable\": \"random_walk\", \"value\": -4.582273002786684}, {\"time\": \"2023-05-26T00:00:00.000\", \"variable\": \"random_walk\", \"value\": -4.882741766012897}, {\"time\": \"2023-05-27T00:00:00.000\", \"variable\": \"random_walk\", \"value\": -3.7310918730253904}, {\"time\": \"2023-05-28T00:00:00.000\", \"variable\": \"random_walk\", \"value\": -3.2157351804519716}, {\"time\": \"2023-05-29T00:00:00.000\", \"variable\": \"random_walk\", \"value\": -3.832945749567124}, {\"time\": \"2023-05-30T00:00:00.000\", \"variable\": \"random_walk\", \"value\": -4.860281864157361}, {\"time\": \"2023-05-31T00:00:00.000\", \"variable\": \"random_walk\", \"value\": -5.606111661051608}, {\"time\": \"2023-06-01T00:00:00.000\", \"variable\": \"random_walk\", \"value\": -5.3329514949523755}, {\"time\": \"2023-06-02T00:00:00.000\", \"variable\": \"random_walk\", \"value\": -5.610434813339758}, {\"time\": \"2023-06-03T00:00:00.000\", \"variable\": \"random_walk\", \"value\": -4.535953189843369}, {\"time\": \"2023-06-04T00:00:00.000\", \"variable\": \"random_walk\", \"value\": -5.202368929505146}, {\"time\": \"2023-06-05T00:00:00.000\", \"variable\": \"random_walk\", \"value\": -4.656936132084299}, {\"time\": \"2023-06-06T00:00:00.000\", \"variable\": \"random_walk\", \"value\": -3.2540122139897045}, {\"time\": \"2023-06-07T00:00:00.000\", \"variable\": \"random_walk\", \"value\": -2.08855824386272}, {\"time\": \"2023-06-08T00:00:00.000\", \"variable\": \"random_walk\", \"value\": -3.544936561361779}, {\"time\": \"2023-06-09T00:00:00.000\", \"variable\": \"random_walk\", \"value\": -2.1125218351967723}, {\"time\": \"2023-06-10T00:00:00.000\", \"variable\": \"random_walk\", \"value\": -2.979186252167293}, {\"time\": \"2023-06-11T00:00:00.000\", \"variable\": \"random_walk\", \"value\": -3.0996190266871855}, {\"time\": \"2023-06-12T00:00:00.000\", \"variable\": \"random_walk\", \"value\": -4.015191986754853}, {\"time\": \"2023-06-13T00:00:00.000\", \"variable\": \"random_walk\", \"value\": -2.6839304524670453}, {\"time\": \"2023-06-14T00:00:00.000\", \"variable\": \"random_walk\", \"value\": -2.0336929263227894}, {\"time\": \"2023-06-15T00:00:00.000\", \"variable\": \"random_walk\", \"value\": -3.0272615329096517}, {\"time\": \"2023-06-16T00:00:00.000\", \"variable\": \"random_walk\", \"value\": -3.1970135318244406}, {\"time\": \"2023-06-17T00:00:00.000\", \"variable\": \"random_walk\", \"value\": -5.61784106863198}, {\"time\": \"2023-06-18T00:00:00.000\", \"variable\": \"random_walk\", \"value\": -5.300488773587592}, {\"time\": \"2023-06-19T00:00:00.000\", \"variable\": \"random_walk\", \"value\": -5.7225831433374434}, {\"time\": \"2023-06-20T00:00:00.000\", \"variable\": \"random_walk\", \"value\": -5.63043748545524}, {\"time\": \"2023-06-21T00:00:00.000\", \"variable\": \"random_walk\", \"value\": -5.1271008232019675}, {\"time\": \"2023-06-22T00:00:00.000\", \"variable\": \"random_walk\", \"value\": -4.237792979320632}, {\"time\": \"2023-06-23T00:00:00.000\", \"variable\": \"random_walk\", \"value\": -3.6424574873183713}, {\"time\": \"2023-06-24T00:00:00.000\", \"variable\": \"random_walk\", \"value\": -3.7893469861193383}, {\"time\": \"2023-06-25T00:00:00.000\", \"variable\": \"random_walk\", \"value\": -4.165155859544215}, {\"time\": \"2023-06-26T00:00:00.000\", \"variable\": \"random_walk\", \"value\": -3.8126218373890977}, {\"time\": \"2023-06-27T00:00:00.000\", \"variable\": \"random_walk\", \"value\": -3.8212436647979837}, {\"time\": \"2023-06-28T00:00:00.000\", \"variable\": \"random_walk\", \"value\": -3.179459662525019}, {\"time\": \"2023-06-29T00:00:00.000\", \"variable\": \"random_walk\", \"value\": -3.8606428132572423}, {\"time\": \"2023-06-30T00:00:00.000\", \"variable\": \"random_walk\", \"value\": -4.032014096115254}, {\"time\": \"2023-07-01T00:00:00.000\", \"variable\": \"random_walk\", \"value\": -3.5249295320811633}, {\"time\": \"2023-07-02T00:00:00.000\", \"variable\": \"random_walk\", \"value\": -3.852141655108575}, {\"time\": \"2023-07-03T00:00:00.000\", \"variable\": \"random_walk\", \"value\": -2.82992210741031}, {\"time\": \"2023-07-04T00:00:00.000\", \"variable\": \"random_walk\", \"value\": -1.0892414190034643}, {\"time\": \"2023-07-05T00:00:00.000\", \"variable\": \"random_walk\", \"value\": -1.6020273957789466}, {\"time\": \"2023-07-06T00:00:00.000\", \"variable\": \"random_walk\", \"value\": -2.139575763719377}, {\"time\": \"2023-07-07T00:00:00.000\", \"variable\": \"random_walk\", \"value\": -1.6781435574994052}, {\"time\": \"2023-07-08T00:00:00.000\", \"variable\": \"random_walk\", \"value\": 0.1605793201213983}, {\"time\": \"2023-07-09T00:00:00.000\", \"variable\": \"random_walk\", \"value\": 0.0934302404690435}, {\"time\": \"2023-07-10T00:00:00.000\", \"variable\": \"random_walk\", \"value\": 1.6523756619995853}, {\"time\": \"2023-07-11T00:00:00.000\", \"variable\": \"random_walk\", \"value\": 1.1890471559125049}, {\"time\": \"2023-07-12T00:00:00.000\", \"variable\": \"random_walk\", \"value\": 3.375460354023989}, {\"time\": \"2023-07-13T00:00:00.000\", \"variable\": \"random_walk\", \"value\": 4.521035071873179}, {\"time\": \"2023-07-14T00:00:00.000\", \"variable\": \"random_walk\", \"value\": 3.2344529675682736}, {\"time\": \"2023-07-15T00:00:00.000\", \"variable\": \"random_walk\", \"value\": 4.267454648008182}, {\"time\": \"2023-07-16T00:00:00.000\", \"variable\": \"random_walk\", \"value\": 3.7827664343244507}, {\"time\": \"2023-07-17T00:00:00.000\", \"variable\": \"random_walk\", \"value\": 5.514911267224777}, {\"time\": \"2023-07-18T00:00:00.000\", \"variable\": \"random_walk\", \"value\": 5.929232888459858}, {\"time\": \"2023-07-19T00:00:00.000\", \"variable\": \"random_walk\", \"value\": 8.133672378198181}, {\"time\": \"2023-07-20T00:00:00.000\", \"variable\": \"random_walk\", \"value\": 9.584783271530926}, {\"time\": \"2023-07-21T00:00:00.000\", \"variable\": \"random_walk\", \"value\": 9.974061226929821}, {\"time\": \"2023-07-22T00:00:00.000\", \"variable\": \"random_walk\", \"value\": 9.7474299853157}, {\"time\": \"2023-07-23T00:00:00.000\", \"variable\": \"random_walk\", \"value\": 8.421360116063767}, {\"time\": \"2023-07-24T00:00:00.000\", \"variable\": \"random_walk\", \"value\": 8.33450714500198}, {\"time\": \"2023-07-25T00:00:00.000\", \"variable\": \"random_walk\", \"value\": 11.581490958799801}, {\"time\": \"2023-07-26T00:00:00.000\", \"variable\": \"random_walk\", \"value\": 10.862237468081362}, {\"time\": \"2023-07-27T00:00:00.000\", \"variable\": \"random_walk\", \"value\": 10.329914027734622}, {\"time\": \"2023-07-28T00:00:00.000\", \"variable\": \"random_walk\", \"value\": 10.636481544650037}, {\"time\": \"2023-07-29T00:00:00.000\", \"variable\": \"random_walk\", \"value\": 10.632468507218201}, {\"time\": \"2023-07-30T00:00:00.000\", \"variable\": \"random_walk\", \"value\": 8.37268615331521}, {\"time\": \"2023-07-31T00:00:00.000\", \"variable\": \"random_walk\", \"value\": 8.619443846550206}, {\"time\": \"2023-08-01T00:00:00.000\", \"variable\": \"random_walk\", \"value\": 8.499367897556102}, {\"time\": \"2023-08-02T00:00:00.000\", \"variable\": \"random_walk\", \"value\": 9.295191743784974}, {\"time\": \"2023-08-03T00:00:00.000\", \"variable\": \"random_walk\", \"value\": 8.331188112072821}, {\"time\": \"2023-08-04T00:00:00.000\", \"variable\": \"random_walk\", \"value\": 6.647506696392956}, {\"time\": \"2023-08-05T00:00:00.000\", \"variable\": \"random_walk\", \"value\": 4.965085260201899}, {\"time\": \"2023-08-06T00:00:00.000\", \"variable\": \"random_walk\", \"value\": 4.98646203007049}, {\"time\": \"2023-08-07T00:00:00.000\", \"variable\": \"random_walk\", \"value\": 4.097400589915872}, {\"time\": \"2023-08-08T00:00:00.000\", \"variable\": \"random_walk\", \"value\": 4.4993444078690725}, {\"time\": \"2023-08-09T00:00:00.000\", \"variable\": \"random_walk\", \"value\": 4.765227114252467}, {\"time\": \"2023-08-10T00:00:00.000\", \"variable\": \"random_walk\", \"value\": 6.242637625063166}, {\"time\": \"2023-08-11T00:00:00.000\", \"variable\": \"random_walk\", \"value\": 5.395187930360749}, {\"time\": \"2023-08-12T00:00:00.000\", \"variable\": \"random_walk\", \"value\": 5.574455448616037}, {\"time\": \"2023-08-13T00:00:00.000\", \"variable\": \"random_walk\", \"value\": 6.241501762411599}, {\"time\": \"2023-08-14T00:00:00.000\", \"variable\": \"random_walk\", \"value\": 4.559800264424146}, {\"time\": \"2023-08-15T00:00:00.000\", \"variable\": \"random_walk\", \"value\": 3.4894657614615507}, {\"time\": \"2023-08-16T00:00:00.000\", \"variable\": \"random_walk\", \"value\": 3.6348677083198213}, {\"time\": \"2023-08-17T00:00:00.000\", \"variable\": \"random_walk\", \"value\": 5.232508659475494}, {\"time\": \"2023-08-18T00:00:00.000\", \"variable\": \"random_walk\", \"value\": 6.850328686265719}, {\"time\": \"2023-08-19T00:00:00.000\", \"variable\": \"random_walk\", \"value\": 5.809745054435057}, {\"time\": \"2023-08-20T00:00:00.000\", \"variable\": \"random_walk\", \"value\": 7.530112538957356}, {\"time\": \"2023-08-21T00:00:00.000\", \"variable\": \"random_walk\", \"value\": 9.22329263638282}, {\"time\": \"2023-08-22T00:00:00.000\", \"variable\": \"random_walk\", \"value\": 8.962618190193032}, {\"time\": \"2023-08-23T00:00:00.000\", \"variable\": \"random_walk\", \"value\": 9.002934579484387}, {\"time\": \"2023-08-24T00:00:00.000\", \"variable\": \"random_walk\", \"value\": 8.765868787587044}, {\"time\": \"2023-08-25T00:00:00.000\", \"variable\": \"random_walk\", \"value\": 8.68693842871559}, {\"time\": \"2023-08-26T00:00:00.000\", \"variable\": \"random_walk\", \"value\": 9.173230165686466}, {\"time\": \"2023-08-27T00:00:00.000\", \"variable\": \"random_walk\", \"value\": 7.804741231431557}, {\"time\": \"2023-08-28T00:00:00.000\", \"variable\": \"random_walk\", \"value\": 8.711962750045423}, {\"time\": \"2023-08-29T00:00:00.000\", \"variable\": \"random_walk\", \"value\": 9.13671344286866}, {\"time\": \"2023-08-30T00:00:00.000\", \"variable\": \"random_walk\", \"value\": 7.380830542102887}, {\"time\": \"2023-08-31T00:00:00.000\", \"variable\": \"random_walk\", \"value\": 8.82917183485123}, {\"time\": \"2023-09-01T00:00:00.000\", \"variable\": \"random_walk\", \"value\": 6.802136235055073}, {\"time\": \"2023-09-02T00:00:00.000\", \"variable\": \"random_walk\", \"value\": 6.92736542833352}, {\"time\": \"2023-09-03T00:00:00.000\", \"variable\": \"random_walk\", \"value\": 6.87620672284177}, {\"time\": \"2023-09-04T00:00:00.000\", \"variable\": \"random_walk\", \"value\": 7.748777891439076}, {\"time\": \"2023-09-05T00:00:00.000\", \"variable\": \"random_walk\", \"value\": 6.7309964710557}, {\"time\": \"2023-09-06T00:00:00.000\", \"variable\": \"random_walk\", \"value\": 6.131924111275373}, {\"time\": \"2023-09-07T00:00:00.000\", \"variable\": \"random_walk\", \"value\": 4.342167329771354}, {\"time\": \"2023-09-08T00:00:00.000\", \"variable\": \"random_walk\", \"value\": 3.852086343395663}, {\"time\": \"2023-09-09T00:00:00.000\", \"variable\": \"random_walk\", \"value\": 3.965544353815477}, {\"time\": \"2023-09-10T00:00:00.000\", \"variable\": \"random_walk\", \"value\": 3.741815158819053}, {\"time\": \"2023-09-11T00:00:00.000\", \"variable\": \"random_walk\", \"value\": 5.38386343225577}, {\"time\": \"2023-09-12T00:00:00.000\", \"variable\": \"random_walk\", \"value\": 4.103257246099509}, {\"time\": \"2023-09-13T00:00:00.000\", \"variable\": \"random_walk\", \"value\": 3.494251720049018}, {\"time\": \"2023-09-14T00:00:00.000\", \"variable\": \"random_walk\", \"value\": 4.344293345145679}, {\"time\": \"2023-09-15T00:00:00.000\", \"variable\": \"random_walk\", \"value\": 4.402973079778065}, {\"time\": \"2023-09-16T00:00:00.000\", \"variable\": \"random_walk\", \"value\": 2.888423023618296}, {\"time\": \"2023-09-17T00:00:00.000\", \"variable\": \"random_walk\", \"value\": 3.4427331955214844}, {\"time\": \"2023-09-18T00:00:00.000\", \"variable\": \"random_walk\", \"value\": 1.973549953272587}, {\"time\": \"2023-09-19T00:00:00.000\", \"variable\": \"random_walk\", \"value\": 1.779548054231297}, {\"time\": \"2023-09-20T00:00:00.000\", \"variable\": \"random_walk\", \"value\": -0.25273456573136466}, {\"time\": \"2023-09-21T00:00:00.000\", \"variable\": \"random_walk\", \"value\": -0.20538860370927872}, {\"time\": \"2023-09-22T00:00:00.000\", \"variable\": \"random_walk\", \"value\": -0.32931715150589697}, {\"time\": \"2023-09-23T00:00:00.000\", \"variable\": \"random_walk\", \"value\": -0.30861432477176465}, {\"time\": \"2023-09-24T00:00:00.000\", \"variable\": \"random_walk\", \"value\": 0.2298602724535821}, {\"time\": \"2023-09-25T00:00:00.000\", \"variable\": \"random_walk\", \"value\": 1.3341854949805703}, {\"time\": \"2023-09-26T00:00:00.000\", \"variable\": \"random_walk\", \"value\": 0.9726368032473569}, {\"time\": \"2023-09-27T00:00:00.000\", \"variable\": \"random_walk\", \"value\": 1.2125927750059087}, {\"time\": \"2023-09-28T00:00:00.000\", \"variable\": \"random_walk\", \"value\": 1.7151227706961816}, {\"time\": \"2023-09-29T00:00:00.000\", \"variable\": \"random_walk\", \"value\": 1.7703029532986228}, {\"time\": \"2023-09-30T00:00:00.000\", \"variable\": \"random_walk\", \"value\": 2.7316708401015033}, {\"time\": \"2023-10-01T00:00:00.000\", \"variable\": \"random_walk\", \"value\": 1.4490696212093388}, {\"time\": \"2023-10-02T00:00:00.000\", \"variable\": \"random_walk\", \"value\": 0.7561019032276864}, {\"time\": \"2023-10-03T00:00:00.000\", \"variable\": \"random_walk\", \"value\": -0.16201890218820125}, {\"time\": \"2023-10-04T00:00:00.000\", \"variable\": \"random_walk\", \"value\": -0.03881978846121821}, {\"time\": \"2023-10-05T00:00:00.000\", \"variable\": \"random_walk\", \"value\": 0.07329867854309209}, {\"time\": \"2023-10-06T00:00:00.000\", \"variable\": \"random_walk\", \"value\": 1.7880922436728885}, {\"time\": \"2023-10-07T00:00:00.000\", \"variable\": \"random_walk\", \"value\": 2.2812036498512906}, {\"time\": \"2023-10-08T00:00:00.000\", \"variable\": \"random_walk\", \"value\": 2.296645117787888}, {\"time\": \"2023-10-09T00:00:00.000\", \"variable\": \"random_walk\", \"value\": 2.224375155262199}, {\"time\": \"2023-10-10T00:00:00.000\", \"variable\": \"random_walk\", \"value\": 2.7946687761141504}, {\"time\": \"2023-10-11T00:00:00.000\", \"variable\": \"random_walk\", \"value\": 5.120675119906591}, {\"time\": \"2023-10-12T00:00:00.000\", \"variable\": \"random_walk\", \"value\": 5.106414371969284}, {\"time\": \"2023-10-13T00:00:00.000\", \"variable\": \"random_walk\", \"value\": 6.3723838418748375}, {\"time\": \"2023-10-14T00:00:00.000\", \"variable\": \"random_walk\", \"value\": 6.375541453058537}, {\"time\": \"2023-10-15T00:00:00.000\", \"variable\": \"random_walk\", \"value\": 5.228844010275858}, {\"time\": \"2023-10-16T00:00:00.000\", \"variable\": \"random_walk\", \"value\": 5.575454422841306}, {\"time\": \"2023-10-17T00:00:00.000\", \"variable\": \"random_walk\", \"value\": 5.922970709763288}, {\"time\": \"2023-10-18T00:00:00.000\", \"variable\": \"random_walk\", \"value\": 5.919995218157413}, {\"time\": \"2023-10-19T00:00:00.000\", \"variable\": \"random_walk\", \"value\": 6.357062147432336}, {\"time\": \"2023-10-20T00:00:00.000\", \"variable\": \"random_walk\", \"value\": 7.479805188886446}, {\"time\": \"2023-10-21T00:00:00.000\", \"variable\": \"random_walk\", \"value\": 7.358029870901459}, {\"time\": \"2023-10-22T00:00:00.000\", \"variable\": \"random_walk\", \"value\": 8.236054412017852}, {\"time\": \"2023-10-23T00:00:00.000\", \"variable\": \"random_walk\", \"value\": 9.384993250799301}, {\"time\": \"2023-10-24T00:00:00.000\", \"variable\": \"random_walk\", \"value\": 9.329023974371554}, {\"time\": \"2023-10-25T00:00:00.000\", \"variable\": \"random_walk\", \"value\": 10.49316779614723}, {\"time\": \"2023-10-26T00:00:00.000\", \"variable\": \"random_walk\", \"value\": 10.186100039769228}, {\"time\": \"2023-10-27T00:00:00.000\", \"variable\": \"random_walk\", \"value\": 11.426722370459716}, {\"time\": \"2023-10-28T00:00:00.000\", \"variable\": \"random_walk\", \"value\": 11.483774727836872}, {\"time\": \"2023-10-29T00:00:00.000\", \"variable\": \"random_walk\", \"value\": 11.091500193183313}, {\"time\": \"2023-10-30T00:00:00.000\", \"variable\": \"random_walk\", \"value\": 10.879937466970318}, {\"time\": \"2023-10-31T00:00:00.000\", \"variable\": \"random_walk\", \"value\": 10.69868074543529}, {\"time\": \"2023-11-01T00:00:00.000\", \"variable\": \"random_walk\", \"value\": 10.377783706945896}, {\"time\": \"2023-11-02T00:00:00.000\", \"variable\": \"random_walk\", \"value\": 12.401771361061058}, {\"time\": \"2023-11-03T00:00:00.000\", \"variable\": \"random_walk\", \"value\": 11.842021336593415}, {\"time\": \"2023-11-04T00:00:00.000\", \"variable\": \"random_walk\", \"value\": 12.36228331707046}, {\"time\": \"2023-11-05T00:00:00.000\", \"variable\": \"random_walk\", \"value\": 11.876453768342731}, {\"time\": \"2023-11-06T00:00:00.000\", \"variable\": \"random_walk\", \"value\": 11.415504338677275}, {\"time\": \"2023-11-07T00:00:00.000\", \"variable\": \"random_walk\", \"value\": 11.796828929301823}, {\"time\": \"2023-11-08T00:00:00.000\", \"variable\": \"random_walk\", \"value\": 11.800789712300517}, {\"time\": \"2023-11-09T00:00:00.000\", \"variable\": \"random_walk\", \"value\": 10.946829562123018}, {\"time\": \"2023-11-10T00:00:00.000\", \"variable\": \"random_walk\", \"value\": 12.009546103449589}, {\"time\": \"2023-11-11T00:00:00.000\", \"variable\": \"random_walk\", \"value\": 10.868637930156082}, {\"time\": \"2023-11-12T00:00:00.000\", \"variable\": \"random_walk\", \"value\": 10.766168926507065}, {\"time\": \"2023-11-13T00:00:00.000\", \"variable\": \"random_walk\", \"value\": 11.578505263155161}, {\"time\": \"2023-11-14T00:00:00.000\", \"variable\": \"random_walk\", \"value\": 12.598252821599138}, {\"time\": \"2023-11-15T00:00:00.000\", \"variable\": \"random_walk\", \"value\": 14.479656345874707}, {\"time\": \"2023-11-16T00:00:00.000\", \"variable\": \"random_walk\", \"value\": 14.945501681897445}, {\"time\": \"2023-11-17T00:00:00.000\", \"variable\": \"random_walk\", \"value\": 16.560417389203117}, {\"time\": \"2023-11-18T00:00:00.000\", \"variable\": \"random_walk\", \"value\": 16.901778404890926}, {\"time\": \"2023-11-19T00:00:00.000\", \"variable\": \"random_walk\", \"value\": 16.46846417281137}, {\"time\": \"2023-11-20T00:00:00.000\", \"variable\": \"random_walk\", \"value\": 16.219442720773287}, {\"time\": \"2023-11-21T00:00:00.000\", \"variable\": \"random_walk\", \"value\": 17.92121094738517}, {\"time\": \"2023-11-22T00:00:00.000\", \"variable\": \"random_walk\", \"value\": 15.857894814636683}, {\"time\": \"2023-11-23T00:00:00.000\", \"variable\": \"random_walk\", \"value\": 16.530424745427396}, {\"time\": \"2023-11-24T00:00:00.000\", \"variable\": \"random_walk\", \"value\": 17.945004124561112}, {\"time\": \"2023-11-25T00:00:00.000\", \"variable\": \"random_walk\", \"value\": 19.777435798039246}, {\"time\": \"2023-11-26T00:00:00.000\", \"variable\": \"random_walk\", \"value\": 20.208459841159282}, {\"time\": \"2023-11-27T00:00:00.000\", \"variable\": \"random_walk\", \"value\": 21.21372436902579}, {\"time\": \"2023-11-28T00:00:00.000\", \"variable\": \"random_walk\", \"value\": 21.721917257361902}, {\"time\": \"2023-11-29T00:00:00.000\", \"variable\": \"random_walk\", \"value\": 22.772010932741654}, {\"time\": \"2023-11-30T00:00:00.000\", \"variable\": \"random_walk\", \"value\": 23.164411446989547}, {\"time\": \"2023-12-01T00:00:00.000\", \"variable\": \"random_walk\", \"value\": 23.615832964200425}, {\"time\": \"2023-12-02T00:00:00.000\", \"variable\": \"random_walk\", \"value\": 24.31963226613062}, {\"time\": \"2023-12-03T00:00:00.000\", \"variable\": \"random_walk\", \"value\": 24.599044203776504}, {\"time\": \"2023-12-04T00:00:00.000\", \"variable\": \"random_walk\", \"value\": 24.62083650597232}, {\"time\": \"2023-12-05T00:00:00.000\", \"variable\": \"random_walk\", \"value\": 24.98849663820244}, {\"time\": \"2023-12-06T00:00:00.000\", \"variable\": \"random_walk\", \"value\": 25.13487149805414}, {\"time\": \"2023-12-07T00:00:00.000\", \"variable\": \"random_walk\", \"value\": 23.977317090399797}, {\"time\": \"2023-12-08T00:00:00.000\", \"variable\": \"random_walk\", \"value\": 22.18878168696871}, {\"time\": \"2023-12-09T00:00:00.000\", \"variable\": \"random_walk\", \"value\": 22.8357892663283}, {\"time\": \"2023-12-10T00:00:00.000\", \"variable\": \"random_walk\", \"value\": 21.46859267366624}, {\"time\": \"2023-12-11T00:00:00.000\", \"variable\": \"random_walk\", \"value\": 20.910788621885853}, {\"time\": \"2023-12-12T00:00:00.000\", \"variable\": \"random_walk\", \"value\": 20.170287126681504}, {\"time\": \"2023-12-13T00:00:00.000\", \"variable\": \"random_walk\", \"value\": 21.741321737661664}, {\"time\": \"2023-12-14T00:00:00.000\", \"variable\": \"random_walk\", \"value\": 21.696378695508525}, {\"time\": \"2023-12-15T00:00:00.000\", \"variable\": \"random_walk\", \"value\": 20.754899191736026}, {\"time\": \"2023-12-16T00:00:00.000\", \"variable\": \"random_walk\", \"value\": 21.095195737401525}, {\"time\": \"2023-12-17T00:00:00.000\", \"variable\": \"random_walk\", \"value\": 20.97296126789572}, {\"time\": \"2023-12-18T00:00:00.000\", \"variable\": \"random_walk\", \"value\": 19.482533374461227}, {\"time\": \"2023-12-19T00:00:00.000\", \"variable\": \"random_walk\", \"value\": 18.743571598569755}, {\"time\": \"2023-12-20T00:00:00.000\", \"variable\": \"random_walk\", \"value\": 18.69365029855816}, {\"time\": \"2023-12-21T00:00:00.000\", \"variable\": \"random_walk\", \"value\": 17.905328864530098}, {\"time\": \"2023-12-22T00:00:00.000\", \"variable\": \"random_walk\", \"value\": 18.889330578973258}, {\"time\": \"2023-12-23T00:00:00.000\", \"variable\": \"random_walk\", \"value\": 19.372128609748913}, {\"time\": \"2023-12-24T00:00:00.000\", \"variable\": \"random_walk\", \"value\": 20.76833306936785}, {\"time\": \"2023-12-25T00:00:00.000\", \"variable\": \"random_walk\", \"value\": 22.10402195029223}, {\"time\": \"2023-12-26T00:00:00.000\", \"variable\": \"random_walk\", \"value\": 21.92051375150228}, {\"time\": \"2023-12-27T00:00:00.000\", \"variable\": \"random_walk\", \"value\": 21.476265109769223}, {\"time\": \"2023-12-28T00:00:00.000\", \"variable\": \"random_walk\", \"value\": 23.017807099503273}, {\"time\": \"2023-12-29T00:00:00.000\", \"variable\": \"random_walk\", \"value\": 21.928598335260016}, {\"time\": \"2023-12-30T00:00:00.000\", \"variable\": \"random_walk\", \"value\": 22.432638367867533}, {\"time\": \"2023-12-31T00:00:00.000\", \"variable\": \"random_walk\", \"value\": 23.826616161848637}], \"transform\": [{\"type\": \"formula\", \"expr\": \"toDate(datum['time'])\", \"as\": \"time\"}]}, {\"name\": \"source_0_y_domain_value\", \"values\": [{\"min\": -7.564921296912824, \"max\": 25.13487149805414}]}, {\"name\": \"source_0_color_domain_variable\", \"values\": [{\"variable\": \"random_walk\"}]}], \"marks\": [{\"type\": \"group\", \"name\": \"layer_0_pathgroup\", \"from\": {\"facet\": {\"data\": \"source_0\", \"name\": \"faceted_path_layer_0_main\", \"groupby\": [\"variable\"]}}, \"encode\": {\"update\": {\"width\": {\"field\": {\"signal\": null, \"datum\": null, \"group\": \"width\", \"parent\": null}}, \"height\": {\"field\": {\"signal\": null, \"datum\": null, \"group\": \"height\", \"parent\": null}}}}, \"marks\": [{\"type\": \"line\", \"name\": \"layer_0_marks\", \"from\": {\"data\": \"faceted_path_layer_0_main\"}, \"sort\": {\"field\": \"x\"}, \"encode\": {\"update\": {\"y\": {\"field\": \"value\", \"scale\": \"y\"}, \"defined\": {\"signal\": \"isValid(datum[\\\"time\\\"]) && isFinite(+datum[\\\"time\\\"]) && isValid(datum[\\\"value\\\"]) && isFinite(+datum[\\\"value\\\"])\"}, \"stroke\": {\"field\": \"variable\", \"scale\": \"color\"}, \"x\": {\"field\": \"time\", \"scale\": \"x\"}}}, \"style\": [\"line\"]}]}], \"scales\": [{\"name\": \"x\", \"type\": \"time\", \"domain\": {\"data\": \"source_0\", \"field\": \"time\"}, \"range\": [0, {\"signal\": \"width\"}]}, {\"name\": \"y\", \"type\": \"linear\", \"domain\": [{\"signal\": \"(data(\\\"source_0_y_domain_value\\\")[0] || {}).min\"}, {\"signal\": \"(data(\\\"source_0_y_domain_value\\\")[0] || {}).max\"}], \"range\": [{\"signal\": \"height\"}, 0], \"nice\": true, \"zero\": true}, {\"name\": \"color\", \"type\": \"ordinal\", \"domain\": {\"data\": \"source_0_color_domain_variable\", \"field\": \"variable\", \"sort\": true}, \"range\": \"category\"}], \"axes\": [{\"scale\": \"x\", \"tickCount\": {\"signal\": \"ceil(width/40)\"}, \"grid\": true, \"gridScale\": \"y\", \"minExtent\": 0, \"ticks\": false, \"orient\": \"bottom\", \"maxExtent\": 0, \"zindex\": 0, \"domain\": false, \"labels\": false, \"aria\": false}, {\"scale\": \"y\", \"labels\": false, \"aria\": false, \"maxExtent\": 0, \"orient\": \"left\", \"grid\": true, \"minExtent\": 0, \"ticks\": false, \"gridScale\": \"x\", \"domain\": false, \"tickCount\": {\"signal\": \"ceil(height/40)\"}, \"zindex\": 0}, {\"scale\": \"x\", \"title\": \"time\", \"orient\": \"bottom\", \"labelOverlap\": true, \"zindex\": 0, \"tickCount\": {\"signal\": \"ceil(width/40)\"}, \"grid\": false, \"labelFlush\": true}, {\"scale\": \"y\", \"title\": \"value\", \"orient\": \"left\", \"tickCount\": {\"signal\": \"ceil(height/40)\"}, \"labelOverlap\": true, \"zindex\": 0, \"grid\": false}], \"width\": 400, \"height\": 200, \"style\": \"cell\", \"legends\": [{\"stroke\": \"color\", \"symbolType\": \"stroke\", \"title\": \"variable\"}], \"background\": \"white\", \"padding\": 5}, {\"mode\": \"vega\"});\n",
       "</script>"
      ],
      "text/plain": [
       "alt.LayerChart(...)"
      ]
     },
     "execution_count": 4,
     "metadata": {},
     "output_type": "execute_result"
    }
   ],
   "source": [
    "ts.plot()"
   ]
  },
  {
   "cell_type": "markdown",
   "id": "2487b267-ec4a-49bc-9bda-33e4bc39194c",
   "metadata": {
    "papermill": {
     "duration": 0.006113,
     "end_time": "2025-01-06T14:55:02.337993",
     "exception": false,
     "start_time": "2025-01-06T14:55:02.331880",
     "status": "completed"
    },
    "tags": []
   },
   "source": [
    "## `module` and `context` features"
   ]
  },
  {
   "cell_type": "markdown",
   "id": "0904039a-4cb4-4795-9656-8c48a919dfee",
   "metadata": {
    "papermill": {
     "duration": 0.005795,
     "end_time": "2025-01-06T14:55:02.349321",
     "exception": false,
     "start_time": "2025-01-06T14:55:02.343526",
     "status": "completed"
    },
    "tags": []
   },
   "source": [
    "High level API with various features. Let's load some data for an example :"
   ]
  },
  {
   "cell_type": "code",
   "execution_count": 5,
   "id": "4c906526-20c4-47b5-8023-8216c6af18d1",
   "metadata": {
    "execution": {
     "iopub.execute_input": "2025-01-06T14:55:02.361266Z",
     "iopub.status.busy": "2025-01-06T14:55:02.360919Z",
     "iopub.status.idle": "2025-01-06T14:55:02.494547Z",
     "shell.execute_reply": "2025-01-06T14:55:02.493325Z"
    },
    "papermill": {
     "duration": 0.142101,
     "end_time": "2025-01-06T14:55:02.496411",
     "exception": false,
     "start_time": "2025-01-06T14:55:02.354310",
     "status": "completed"
    },
    "tags": []
   },
   "outputs": [],
   "source": [
    "from darts.datasets import EnergyDataset\n",
    "ts = EnergyDataset().load()"
   ]
  },
  {
   "cell_type": "code",
   "execution_count": 6,
   "id": "15724cb7-d0d6-40ab-a240-57df7e8f3c21",
   "metadata": {
    "execution": {
     "iopub.execute_input": "2025-01-06T14:55:02.509380Z",
     "iopub.status.busy": "2025-01-06T14:55:02.509048Z",
     "iopub.status.idle": "2025-01-06T14:55:02.536066Z",
     "shell.execute_reply": "2025-01-06T14:55:02.534966Z"
    },
    "papermill": {
     "duration": 0.035638,
     "end_time": "2025-01-06T14:55:02.538050",
     "exception": false,
     "start_time": "2025-01-06T14:55:02.502412",
     "status": "completed"
    },
    "tags": []
   },
   "outputs": [],
   "source": [
    "df = ts.pd_dataframe()\n",
    "df = df.interpolate()\n",
    "cols = ['generation biomass', 'generation solar', 'generation nuclear']\n",
    "df = df[cols]"
   ]
  },
  {
   "cell_type": "code",
   "execution_count": 7,
   "id": "401cf66e-f0eb-48e0-ac7c-adf2bef92a3c",
   "metadata": {
    "execution": {
     "iopub.execute_input": "2025-01-06T14:55:02.552242Z",
     "iopub.status.busy": "2025-01-06T14:55:02.551909Z",
     "iopub.status.idle": "2025-01-06T14:55:02.561579Z",
     "shell.execute_reply": "2025-01-06T14:55:02.560224Z"
    },
    "papermill": {
     "duration": 0.018558,
     "end_time": "2025-01-06T14:55:02.563072",
     "exception": false,
     "start_time": "2025-01-06T14:55:02.544514",
     "status": "completed"
    },
    "tags": []
   },
   "outputs": [],
   "source": [
    "ts = on.TimeSeries.from_dataframe(df)"
   ]
  },
  {
   "cell_type": "code",
   "execution_count": 8,
   "id": "3013d9e8-d7cd-4caf-be3f-607eab84647e",
   "metadata": {
    "execution": {
     "iopub.execute_input": "2025-01-06T14:55:02.575058Z",
     "iopub.status.busy": "2025-01-06T14:55:02.574739Z",
     "iopub.status.idle": "2025-01-06T14:55:02.587100Z",
     "shell.execute_reply": "2025-01-06T14:55:02.586052Z"
    },
    "papermill": {
     "duration": 0.020382,
     "end_time": "2025-01-06T14:55:02.588677",
     "exception": false,
     "start_time": "2025-01-06T14:55:02.568295",
     "status": "completed"
    },
    "tags": []
   },
   "outputs": [],
   "source": [
    "ts_uni = ts['generation solar'].slice(pd.Timestamp('2015'), pd.Timestamp('2016'))\n",
    "ts_multi = ts.slice(pd.Timestamp('2015'), pd.Timestamp('2016'))"
   ]
  },
  {
   "cell_type": "markdown",
   "id": "a1a81ffb-dca7-4ee5-93e9-836223ae6956",
   "metadata": {
    "papermill": {
     "duration": 0.005689,
     "end_time": "2025-01-06T14:55:02.599846",
     "exception": false,
     "start_time": "2025-01-06T14:55:02.594157",
     "status": "completed"
    },
    "tags": []
   },
   "source": [
    "### `module` Features"
   ]
  },
  {
   "cell_type": "markdown",
   "id": "adb031b1-74bc-4ed2-ae54-bc16681f0363",
   "metadata": {
    "papermill": {
     "duration": 0.005222,
     "end_time": "2025-01-06T14:55:02.610856",
     "exception": false,
     "start_time": "2025-01-06T14:55:02.605634",
     "status": "completed"
    },
    "tags": []
   },
   "source": [
    "High level API with features related to data processing, ML/AI, etc."
   ]
  },
  {
   "cell_type": "code",
   "execution_count": 9,
   "id": "79fd0990-dac4-461e-98b0-29f1e579b11a",
   "metadata": {
    "execution": {
     "iopub.execute_input": "2025-01-06T14:55:02.623734Z",
     "iopub.status.busy": "2025-01-06T14:55:02.623401Z",
     "iopub.status.idle": "2025-01-06T14:55:02.631002Z",
     "shell.execute_reply": "2025-01-06T14:55:02.629810Z"
    },
    "papermill": {
     "duration": 0.016223,
     "end_time": "2025-01-06T14:55:02.632157",
     "exception": false,
     "start_time": "2025-01-06T14:55:02.615934",
     "status": "completed"
    },
    "tags": []
   },
   "outputs": [],
   "source": [
    "train, test = on.module.processing.common.train_test_split(ts_uni, test_split=0.3)"
   ]
  },
  {
   "cell_type": "markdown",
   "id": "0641d9e6-c5b8-49a1-a3db-9df1927d62be",
   "metadata": {
    "papermill": {
     "duration": 0.005184,
     "end_time": "2025-01-06T14:55:02.642940",
     "exception": false,
     "start_time": "2025-01-06T14:55:02.637756",
     "status": "completed"
    },
    "tags": []
   },
   "source": [
    "### `context` Features"
   ]
  },
  {
   "cell_type": "markdown",
   "id": "2982c551-1607-40c8-911d-154a3493e4b1",
   "metadata": {
    "papermill": {
     "duration": 0.005269,
     "end_time": "2025-01-06T14:55:02.655220",
     "exception": false,
     "start_time": "2025-01-06T14:55:02.649951",
     "status": "completed"
    },
    "tags": []
   },
   "source": [
    "High level API with features related to a physical machine or process."
   ]
  },
  {
   "cell_type": "markdown",
   "id": "f7fe172e-588a-4f7e-aa0e-1cdc07dd8aca",
   "metadata": {
    "papermill": {
     "duration": 0.006665,
     "end_time": "2025-01-06T14:55:02.713726",
     "exception": false,
     "start_time": "2025-01-06T14:55:02.707061",
     "status": "completed"
    },
    "tags": []
   },
   "source": [
    "#### Profiler"
   ]
  },
  {
   "cell_type": "code",
   "execution_count": 10,
   "id": "ad40696c-c5fa-4b5f-8f49-92c4fc0a9941",
   "metadata": {
    "execution": {
     "iopub.execute_input": "2025-01-06T14:55:02.728647Z",
     "iopub.status.busy": "2025-01-06T14:55:02.728270Z",
     "iopub.status.idle": "2025-01-06T14:55:02.733718Z",
     "shell.execute_reply": "2025-01-06T14:55:02.732394Z"
    },
    "papermill": {
     "duration": 0.014858,
     "end_time": "2025-01-06T14:55:02.735410",
     "exception": false,
     "start_time": "2025-01-06T14:55:02.720552",
     "status": "completed"
    },
    "tags": []
   },
   "outputs": [],
   "source": [
    "profiler = on.context.common.Profiler()"
   ]
  },
  {
   "cell_type": "markdown",
   "id": "0a304607-7ccb-4d2b-9796-dd80bce76b6c",
   "metadata": {
    "papermill": {
     "duration": 0.007953,
     "end_time": "2025-01-06T14:55:02.750564",
     "exception": false,
     "start_time": "2025-01-06T14:55:02.742611",
     "status": "completed"
    },
    "tags": []
   },
   "source": [
    "What does the common week looks like ?"
   ]
  },
  {
   "cell_type": "code",
   "execution_count": 11,
   "id": "bac9e224-c12a-4d7a-b7ca-db2a9acff278",
   "metadata": {
    "execution": {
     "iopub.execute_input": "2025-01-06T14:55:02.766674Z",
     "iopub.status.busy": "2025-01-06T14:55:02.765558Z",
     "iopub.status.idle": "2025-01-06T14:55:03.265891Z",
     "shell.execute_reply": "2025-01-06T14:55:03.264434Z"
    },
    "papermill": {
     "duration": 0.510698,
     "end_time": "2025-01-06T14:55:03.267737",
     "exception": false,
     "start_time": "2025-01-06T14:55:02.757039",
     "status": "completed"
    },
    "tags": []
   },
   "outputs": [],
   "source": [
    "week_mean = profiler.profile(ts_uni, profiler.Period.WEEKLY, profiler.Aggregation.MEAN).rename({\"value\": \"week_mean\"})\n",
    "week_median = profiler.profile(ts_uni, profiler.Period.WEEKLY, profiler.Aggregation.MEDIAN).rename({\"value\": \"week_median\"}) # variable is renamed cause error raises when set to \"value\" "
   ]
  },
  {
   "cell_type": "code",
   "execution_count": 12,
   "id": "e8474db3-5e1e-4d08-bdc1-30f88bfd5f28",
   "metadata": {
    "execution": {
     "iopub.execute_input": "2025-01-06T14:55:03.284113Z",
     "iopub.status.busy": "2025-01-06T14:55:03.283294Z",
     "iopub.status.idle": "2025-01-06T14:55:03.378595Z",
     "shell.execute_reply": "2025-01-06T14:55:03.377389Z"
    },
    "papermill": {
     "duration": 0.106033,
     "end_time": "2025-01-06T14:55:03.380586",
     "exception": false,
     "start_time": "2025-01-06T14:55:03.274553",
     "status": "completed"
    },
    "tags": []
   },
   "outputs": [
    {
     "data": {
      "text/html": [
       "\n",
       "<style>\n",
       "  #altair-viz-26bdc6a587724645b7e04855e79807f6.vega-embed {\n",
       "    width: 100%;\n",
       "    display: flex;\n",
       "  }\n",
       "\n",
       "  #altair-viz-26bdc6a587724645b7e04855e79807f6.vega-embed details,\n",
       "  #altair-viz-26bdc6a587724645b7e04855e79807f6.vega-embed details summary {\n",
       "    position: relative;\n",
       "  }\n",
       "</style>\n",
       "<div id=\"altair-viz-26bdc6a587724645b7e04855e79807f6\"></div>\n",
       "<script type=\"text/javascript\">\n",
       "  var VEGA_DEBUG = (typeof VEGA_DEBUG == \"undefined\") ? {} : VEGA_DEBUG;\n",
       "  (function(spec, embedOpt){\n",
       "    let outputDiv = document.currentScript.previousElementSibling;\n",
       "    if (outputDiv.id !== \"altair-viz-26bdc6a587724645b7e04855e79807f6\") {\n",
       "      outputDiv = document.getElementById(\"altair-viz-26bdc6a587724645b7e04855e79807f6\");\n",
       "    }\n",
       "\n",
       "    const paths = {\n",
       "      \"vega\": \"https://cdn.jsdelivr.net/npm/vega@5?noext\",\n",
       "      \"vega-lib\": \"https://cdn.jsdelivr.net/npm/vega-lib?noext\",\n",
       "      \"vega-lite\": \"https://cdn.jsdelivr.net/npm/vega-lite@5.20.1?noext\",\n",
       "      \"vega-embed\": \"https://cdn.jsdelivr.net/npm/vega-embed@6?noext\",\n",
       "    };\n",
       "\n",
       "    function maybeLoadScript(lib, version) {\n",
       "      var key = `${lib.replace(\"-\", \"\")}_version`;\n",
       "      return (VEGA_DEBUG[key] == version) ?\n",
       "        Promise.resolve(paths[lib]) :\n",
       "        new Promise(function(resolve, reject) {\n",
       "          var s = document.createElement('script');\n",
       "          document.getElementsByTagName(\"head\")[0].appendChild(s);\n",
       "          s.async = true;\n",
       "          s.onload = () => {\n",
       "            VEGA_DEBUG[key] = version;\n",
       "            return resolve(paths[lib]);\n",
       "          };\n",
       "          s.onerror = () => reject(`Error loading script: ${paths[lib]}`);\n",
       "          s.src = paths[lib];\n",
       "        });\n",
       "    }\n",
       "\n",
       "    function showError(err) {\n",
       "      outputDiv.innerHTML = `<div class=\"error\" style=\"color:red;\">${err}</div>`;\n",
       "      throw err;\n",
       "    }\n",
       "\n",
       "    function displayChart(vegaEmbed) {\n",
       "      vegaEmbed(outputDiv, spec, embedOpt)\n",
       "        .catch(err => showError(`Javascript Error: ${err.message}<br>This usually means there's a typo in your chart specification. See the javascript console for the full traceback.`));\n",
       "    }\n",
       "\n",
       "    if(typeof define === \"function\" && define.amd) {\n",
       "      requirejs.config({paths});\n",
       "      let deps = [\"vega-embed\"];\n",
       "      require(deps, displayChart, err => showError(`Error loading script: ${err.message}`));\n",
       "    } else {\n",
       "      maybeLoadScript(\"vega\", \"5\")\n",
       "        .then(() => maybeLoadScript(\"vega-lite\", \"5.20.1\"))\n",
       "        .then(() => maybeLoadScript(\"vega-embed\", \"6\"))\n",
       "        .catch(showError)\n",
       "        .then(() => displayChart(vegaEmbed));\n",
       "    }\n",
       "  })({\"$schema\": \"https://vega.github.io/schema/vega/v5.json\", \"data\": [{\"name\": \"source_0\", \"values\": [{\"time\": \"2015-01-01T00:00:00.000\", \"variable\": \"week_mean\", \"value\": 231.22641509433961}, {\"time\": \"2015-01-01T01:00:00.000\", \"variable\": \"week_mean\", \"value\": 202.22641509433961}, {\"time\": \"2015-01-01T02:00:00.000\", \"variable\": \"week_mean\", \"value\": 172.88679245283018}, {\"time\": \"2015-01-01T03:00:00.000\", \"variable\": \"week_mean\", \"value\": 148.8679245283019}, {\"time\": \"2015-01-01T04:00:00.000\", \"variable\": \"week_mean\", \"value\": 117.58490566037736}, {\"time\": \"2015-01-01T05:00:00.000\", \"variable\": \"week_mean\", \"value\": 130.43396226415095}, {\"time\": \"2015-01-01T06:00:00.000\", \"variable\": \"week_mean\", \"value\": 357.1320754716981}, {\"time\": \"2015-01-01T07:00:00.000\", \"variable\": \"week_mean\", \"value\": 1111.754716981132}, {\"time\": \"2015-01-01T08:00:00.000\", \"variable\": \"week_mean\", \"value\": 2179.2830188679245}, {\"time\": \"2015-01-01T09:00:00.000\", \"variable\": \"week_mean\", \"value\": 3121.0754716981132}, {\"time\": \"2015-01-01T10:00:00.000\", \"variable\": \"week_mean\", \"value\": 3646.245283018868}, {\"time\": \"2015-01-01T11:00:00.000\", \"variable\": \"week_mean\", \"value\": 3879.0}, {\"time\": \"2015-01-01T12:00:00.000\", \"variable\": \"week_mean\", \"value\": 3898.603773584906}, {\"time\": \"2015-01-01T13:00:00.000\", \"variable\": \"week_mean\", \"value\": 3802.735849056604}, {\"time\": \"2015-01-01T14:00:00.000\", \"variable\": \"week_mean\", \"value\": 3521.8867924528304}, {\"time\": \"2015-01-01T15:00:00.000\", \"variable\": \"week_mean\", \"value\": 2994.735849056604}, {\"time\": \"2015-01-01T16:00:00.000\", \"variable\": \"week_mean\", \"value\": 2224.7169811320755}, {\"time\": \"2015-01-01T17:00:00.000\", \"variable\": \"week_mean\", \"value\": 1437.0566037735848}, {\"time\": \"2015-01-01T18:00:00.000\", \"variable\": \"week_mean\", \"value\": 821.9622641509434}, {\"time\": \"2015-01-01T19:00:00.000\", \"variable\": \"week_mean\", \"value\": 464.811320754717}, {\"time\": \"2015-01-01T20:00:00.000\", \"variable\": \"week_mean\", \"value\": 346.66037735849056}, {\"time\": \"2015-01-01T21:00:00.000\", \"variable\": \"week_mean\", \"value\": 313.9622641509434}, {\"time\": \"2015-01-01T22:00:00.000\", \"variable\": \"week_mean\", \"value\": 274.92452830188677}, {\"time\": \"2015-01-01T23:00:00.000\", \"variable\": \"week_mean\", \"value\": 254.43396226415095}, {\"time\": \"2015-01-02T00:00:00.000\", \"variable\": \"week_mean\", \"value\": 232.0188679245283}, {\"time\": \"2015-01-02T01:00:00.000\", \"variable\": \"week_mean\", \"value\": 209.19230769230768}, {\"time\": \"2015-01-02T02:00:00.000\", \"variable\": \"week_mean\", \"value\": 187.19230769230768}, {\"time\": \"2015-01-02T03:00:00.000\", \"variable\": \"week_mean\", \"value\": 162.48076923076923}, {\"time\": \"2015-01-02T04:00:00.000\", \"variable\": \"week_mean\", \"value\": 129.1153846153846}, {\"time\": \"2015-01-02T05:00:00.000\", \"variable\": \"week_mean\", \"value\": 133.69230769230768}, {\"time\": \"2015-01-02T06:00:00.000\", \"variable\": \"week_mean\", \"value\": 363.1923076923077}, {\"time\": \"2015-01-02T07:00:00.000\", \"variable\": \"week_mean\", \"value\": 1132.4807692307693}, {\"time\": \"2015-01-02T08:00:00.000\", \"variable\": \"week_mean\", \"value\": 2203.480769230769}, {\"time\": \"2015-01-02T09:00:00.000\", \"variable\": \"week_mean\", \"value\": 3056.8846153846152}, {\"time\": \"2015-01-02T10:00:00.000\", \"variable\": \"week_mean\", \"value\": 3621.596153846154}, {\"time\": \"2015-01-02T11:00:00.000\", \"variable\": \"week_mean\", \"value\": 3887.576923076923}, {\"time\": \"2015-01-02T12:00:00.000\", \"variable\": \"week_mean\", \"value\": 3928.8076923076924}, {\"time\": \"2015-01-02T13:00:00.000\", \"variable\": \"week_mean\", \"value\": 3813.230769230769}, {\"time\": \"2015-01-02T14:00:00.000\", \"variable\": \"week_mean\", \"value\": 3530.25}, {\"time\": \"2015-01-02T15:00:00.000\", \"variable\": \"week_mean\", \"value\": 2971.173076923077}, {\"time\": \"2015-01-02T16:00:00.000\", \"variable\": \"week_mean\", \"value\": 2219.8076923076924}, {\"time\": \"2015-01-02T17:00:00.000\", \"variable\": \"week_mean\", \"value\": 1454.3653846153845}, {\"time\": \"2015-01-02T18:00:00.000\", \"variable\": \"week_mean\", \"value\": 860.0961538461538}, {\"time\": \"2015-01-02T19:00:00.000\", \"variable\": \"week_mean\", \"value\": 489.25}, {\"time\": \"2015-01-02T20:00:00.000\", \"variable\": \"week_mean\", \"value\": 361.36538461538464}, {\"time\": \"2015-01-02T21:00:00.000\", \"variable\": \"week_mean\", \"value\": 321.36538461538464}, {\"time\": \"2015-01-02T22:00:00.000\", \"variable\": \"week_mean\", \"value\": 267.63461538461536}, {\"time\": \"2015-01-02T23:00:00.000\", \"variable\": \"week_mean\", \"value\": 248.84615384615384}, {\"time\": \"2015-01-03T00:00:00.000\", \"variable\": \"week_mean\", \"value\": 225.6346153846154}, {\"time\": \"2015-01-03T01:00:00.000\", \"variable\": \"week_mean\", \"value\": 206.80769230769232}, {\"time\": \"2015-01-03T02:00:00.000\", \"variable\": \"week_mean\", \"value\": 193.03846153846155}, {\"time\": \"2015-01-03T03:00:00.000\", \"variable\": \"week_mean\", \"value\": 174.26923076923077}, {\"time\": \"2015-01-03T04:00:00.000\", \"variable\": \"week_mean\", \"value\": 139.75}, {\"time\": \"2015-01-03T05:00:00.000\", \"variable\": \"week_mean\", \"value\": 139.15384615384616}, {\"time\": \"2015-01-03T06:00:00.000\", \"variable\": \"week_mean\", \"value\": 364.40384615384613}, {\"time\": \"2015-01-03T07:00:00.000\", \"variable\": \"week_mean\", \"value\": 1107.8653846153845}, {\"time\": \"2015-01-03T08:00:00.000\", \"variable\": \"week_mean\", \"value\": 2153.903846153846}, {\"time\": \"2015-01-03T09:00:00.000\", \"variable\": \"week_mean\", \"value\": 3011.903846153846}, {\"time\": \"2015-01-03T10:00:00.000\", \"variable\": \"week_mean\", \"value\": 3517.7884615384614}, {\"time\": \"2015-01-03T11:00:00.000\", \"variable\": \"week_mean\", \"value\": 3761.230769230769}, {\"time\": \"2015-01-03T12:00:00.000\", \"variable\": \"week_mean\", \"value\": 3810.346153846154}, {\"time\": \"2015-01-03T13:00:00.000\", \"variable\": \"week_mean\", \"value\": 3694.7884615384614}, {\"time\": \"2015-01-03T14:00:00.000\", \"variable\": \"week_mean\", \"value\": 3406.403846153846}, {\"time\": \"2015-01-03T15:00:00.000\", \"variable\": \"week_mean\", \"value\": 2882.6923076923076}, {\"time\": \"2015-01-03T16:00:00.000\", \"variable\": \"week_mean\", \"value\": 2178.096153846154}, {\"time\": \"2015-01-03T17:00:00.000\", \"variable\": \"week_mean\", \"value\": 1473.6538461538462}, {\"time\": \"2015-01-03T18:00:00.000\", \"variable\": \"week_mean\", \"value\": 871.8653846153846}, {\"time\": \"2015-01-03T19:00:00.000\", \"variable\": \"week_mean\", \"value\": 505.40384615384613}, {\"time\": \"2015-01-03T20:00:00.000\", \"variable\": \"week_mean\", \"value\": 363.0192307692308}, {\"time\": \"2015-01-03T21:00:00.000\", \"variable\": \"week_mean\", \"value\": 320.4423076923077}, {\"time\": \"2015-01-03T22:00:00.000\", \"variable\": \"week_mean\", \"value\": 292.59615384615387}, {\"time\": \"2015-01-03T23:00:00.000\", \"variable\": \"week_mean\", \"value\": 264.03846153846155}, {\"time\": \"2015-01-04T00:00:00.000\", \"variable\": \"week_mean\", \"value\": 245.0}, {\"time\": \"2015-01-04T01:00:00.000\", \"variable\": \"week_mean\", \"value\": 222.42307692307693}, {\"time\": \"2015-01-04T02:00:00.000\", \"variable\": \"week_mean\", \"value\": 202.8653846153846}, {\"time\": \"2015-01-04T03:00:00.000\", \"variable\": \"week_mean\", \"value\": 176.48076923076923}, {\"time\": \"2015-01-04T04:00:00.000\", \"variable\": \"week_mean\", \"value\": 132.6346153846154}, {\"time\": \"2015-01-04T05:00:00.000\", \"variable\": \"week_mean\", \"value\": 126.76923076923077}, {\"time\": \"2015-01-04T06:00:00.000\", \"variable\": \"week_mean\", \"value\": 352.8076923076923}, {\"time\": \"2015-01-04T07:00:00.000\", \"variable\": \"week_mean\", \"value\": 1078.8076923076924}, {\"time\": \"2015-01-04T08:00:00.000\", \"variable\": \"week_mean\", \"value\": 2101.326923076923}, {\"time\": \"2015-01-04T09:00:00.000\", \"variable\": \"week_mean\", \"value\": 2975.0576923076924}, {\"time\": \"2015-01-04T10:00:00.000\", \"variable\": \"week_mean\", \"value\": 3476.596153846154}, {\"time\": \"2015-01-04T11:00:00.000\", \"variable\": \"week_mean\", \"value\": 3695.7884615384614}, {\"time\": \"2015-01-04T12:00:00.000\", \"variable\": \"week_mean\", \"value\": 3703.2884615384614}, {\"time\": \"2015-01-04T13:00:00.000\", \"variable\": \"week_mean\", \"value\": 3561.9615384615386}, {\"time\": \"2015-01-04T14:00:00.000\", \"variable\": \"week_mean\", \"value\": 3253.3076923076924}, {\"time\": \"2015-01-04T15:00:00.000\", \"variable\": \"week_mean\", \"value\": 2768.076923076923}, {\"time\": \"2015-01-04T16:00:00.000\", \"variable\": \"week_mean\", \"value\": 2069.9423076923076}, {\"time\": \"2015-01-04T17:00:00.000\", \"variable\": \"week_mean\", \"value\": 1390.0384615384614}, {\"time\": \"2015-01-04T18:00:00.000\", \"variable\": \"week_mean\", \"value\": 827.0961538461538}, {\"time\": \"2015-01-04T19:00:00.000\", \"variable\": \"week_mean\", \"value\": 460.46153846153845}, {\"time\": \"2015-01-04T20:00:00.000\", \"variable\": \"week_mean\", \"value\": 334.86538461538464}, {\"time\": \"2015-01-04T21:00:00.000\", \"variable\": \"week_mean\", \"value\": 303.3076923076923}, {\"time\": \"2015-01-04T22:00:00.000\", \"variable\": \"week_mean\", \"value\": 324.4423076923077}, {\"time\": \"2015-01-04T23:00:00.000\", \"variable\": \"week_mean\", \"value\": 313.0192307692308}, {\"time\": \"2015-01-05T00:00:00.000\", \"variable\": \"week_mean\", \"value\": 270.38461538461536}, {\"time\": \"2015-01-05T01:00:00.000\", \"variable\": \"week_mean\", \"value\": 234.1346153846154}, {\"time\": \"2015-01-05T02:00:00.000\", \"variable\": \"week_mean\", \"value\": 206.65384615384616}, {\"time\": \"2015-01-05T03:00:00.000\", \"variable\": \"week_mean\", \"value\": 188.42307692307693}, {\"time\": \"2015-01-05T04:00:00.000\", \"variable\": \"week_mean\", \"value\": 152.5}, {\"time\": \"2015-01-05T05:00:00.000\", \"variable\": \"week_mean\", \"value\": 153.1153846153846}, {\"time\": \"2015-01-05T06:00:00.000\", \"variable\": \"week_mean\", \"value\": 380.9807692307692}, {\"time\": \"2015-01-05T07:00:00.000\", \"variable\": \"week_mean\", \"value\": 1110.4038461538462}, {\"time\": \"2015-01-05T08:00:00.000\", \"variable\": \"week_mean\", \"value\": 2127.096153846154}, {\"time\": \"2015-01-05T09:00:00.000\", \"variable\": \"week_mean\", \"value\": 2951.75}, {\"time\": \"2015-01-05T10:00:00.000\", \"variable\": \"week_mean\", \"value\": 3466.596153846154}, {\"time\": \"2015-01-05T11:00:00.000\", \"variable\": \"week_mean\", \"value\": 3661.2994505494503}, {\"time\": \"2015-01-05T12:00:00.000\", \"variable\": \"week_mean\", \"value\": 3671.521978021978}, {\"time\": \"2015-01-05T13:00:00.000\", \"variable\": \"week_mean\", \"value\": 3580.129120879121}, {\"time\": \"2015-01-05T14:00:00.000\", \"variable\": \"week_mean\", \"value\": 3363.1593406593406}, {\"time\": \"2015-01-05T15:00:00.000\", \"variable\": \"week_mean\", \"value\": 2933.1703296703295}, {\"time\": \"2015-01-05T16:00:00.000\", \"variable\": \"week_mean\", \"value\": 2299.815934065934}, {\"time\": \"2015-01-05T17:00:00.000\", \"variable\": \"week_mean\", \"value\": 1598.423076923077}, {\"time\": \"2015-01-05T18:00:00.000\", \"variable\": \"week_mean\", \"value\": 935.7371794871796}, {\"time\": \"2015-01-05T19:00:00.000\", \"variable\": \"week_mean\", \"value\": 523.3589743589744}, {\"time\": \"2015-01-05T20:00:00.000\", \"variable\": \"week_mean\", \"value\": 381.6923076923077}, {\"time\": \"2015-01-05T21:00:00.000\", \"variable\": \"week_mean\", \"value\": 346.28846153846155}, {\"time\": \"2015-01-05T22:00:00.000\", \"variable\": \"week_mean\", \"value\": 276.8076923076923}, {\"time\": \"2015-01-05T23:00:00.000\", \"variable\": \"week_mean\", \"value\": 255.21153846153845}, {\"time\": \"2015-01-06T00:00:00.000\", \"variable\": \"week_mean\", \"value\": 238.80769230769232}, {\"time\": \"2015-01-06T01:00:00.000\", \"variable\": \"week_mean\", \"value\": 215.84615384615384}, {\"time\": \"2015-01-06T02:00:00.000\", \"variable\": \"week_mean\", \"value\": 191.71153846153845}, {\"time\": \"2015-01-06T03:00:00.000\", \"variable\": \"week_mean\", \"value\": 164.46153846153845}, {\"time\": \"2015-01-06T04:00:00.000\", \"variable\": \"week_mean\", \"value\": 128.82692307692307}, {\"time\": \"2015-01-06T05:00:00.000\", \"variable\": \"week_mean\", \"value\": 130.8846153846154}, {\"time\": \"2015-01-06T06:00:00.000\", \"variable\": \"week_mean\", \"value\": 340.3076923076923}, {\"time\": \"2015-01-06T07:00:00.000\", \"variable\": \"week_mean\", \"value\": 1055.9807692307693}, {\"time\": \"2015-01-06T08:00:00.000\", \"variable\": \"week_mean\", \"value\": 2086.4615384615386}, {\"time\": \"2015-01-06T09:00:00.000\", \"variable\": \"week_mean\", \"value\": 2925.769230769231}, {\"time\": \"2015-01-06T10:00:00.000\", \"variable\": \"week_mean\", \"value\": 3463.980769230769}, {\"time\": \"2015-01-06T11:00:00.000\", \"variable\": \"week_mean\", \"value\": 3702.25}, {\"time\": \"2015-01-06T12:00:00.000\", \"variable\": \"week_mean\", \"value\": 3741.4615384615386}, {\"time\": \"2015-01-06T13:00:00.000\", \"variable\": \"week_mean\", \"value\": 3629.1153846153848}, {\"time\": \"2015-01-06T14:00:00.000\", \"variable\": \"week_mean\", \"value\": 3348.0576923076924}, {\"time\": \"2015-01-06T15:00:00.000\", \"variable\": \"week_mean\", \"value\": 2821.7884615384614}, {\"time\": \"2015-01-06T16:00:00.000\", \"variable\": \"week_mean\", \"value\": 2115.6346153846152}, {\"time\": \"2015-01-06T17:00:00.000\", \"variable\": \"week_mean\", \"value\": 1396.826923076923}, {\"time\": \"2015-01-06T18:00:00.000\", \"variable\": \"week_mean\", \"value\": 778.4903846153846}, {\"time\": \"2015-01-06T19:00:00.000\", \"variable\": \"week_mean\", \"value\": 428.4423076923077}, {\"time\": \"2015-01-06T20:00:00.000\", \"variable\": \"week_mean\", \"value\": 329.53846153846155}, {\"time\": \"2015-01-06T21:00:00.000\", \"variable\": \"week_mean\", \"value\": 302.34615384615387}, {\"time\": \"2015-01-06T22:00:00.000\", \"variable\": \"week_mean\", \"value\": 278.5576923076923}, {\"time\": \"2015-01-06T23:00:00.000\", \"variable\": \"week_mean\", \"value\": 294.0192307692308}, {\"time\": \"2015-01-07T00:00:00.000\", \"variable\": \"week_mean\", \"value\": 281.2692307692308}, {\"time\": \"2015-01-07T01:00:00.000\", \"variable\": \"week_mean\", \"value\": 261.3269230769231}, {\"time\": \"2015-01-07T02:00:00.000\", \"variable\": \"week_mean\", \"value\": 235.25}, {\"time\": \"2015-01-07T03:00:00.000\", \"variable\": \"week_mean\", \"value\": 208.80769230769232}, {\"time\": \"2015-01-07T04:00:00.000\", \"variable\": \"week_mean\", \"value\": 157.1153846153846}, {\"time\": \"2015-01-07T05:00:00.000\", \"variable\": \"week_mean\", \"value\": 146.07692307692307}, {\"time\": \"2015-01-07T06:00:00.000\", \"variable\": \"week_mean\", \"value\": 365.4807692307692}, {\"time\": \"2015-01-07T07:00:00.000\", \"variable\": \"week_mean\", \"value\": 1097.7692307692307}, {\"time\": \"2015-01-07T08:00:00.000\", \"variable\": \"week_mean\", \"value\": 2112.7403846153848}, {\"time\": \"2015-01-07T09:00:00.000\", \"variable\": \"week_mean\", \"value\": 2941.923076923077}, {\"time\": \"2015-01-07T10:00:00.000\", \"variable\": \"week_mean\", \"value\": 3486.9615384615386}, {\"time\": \"2015-01-07T11:00:00.000\", \"variable\": \"week_mean\", \"value\": 3728.1346153846152}, {\"time\": \"2015-01-07T12:00:00.000\", \"variable\": \"week_mean\", \"value\": 3776.8173076923076}, {\"time\": \"2015-01-07T13:00:00.000\", \"variable\": \"week_mean\", \"value\": 3704.1923076923076}, {\"time\": \"2015-01-07T14:00:00.000\", \"variable\": \"week_mean\", \"value\": 3443.5}, {\"time\": \"2015-01-07T15:00:00.000\", \"variable\": \"week_mean\", \"value\": 2944.230769230769}, {\"time\": \"2015-01-07T16:00:00.000\", \"variable\": \"week_mean\", \"value\": 2209.2884615384614}, {\"time\": \"2015-01-07T17:00:00.000\", \"variable\": \"week_mean\", \"value\": 1469.2307692307693}, {\"time\": \"2015-01-07T18:00:00.000\", \"variable\": \"week_mean\", \"value\": 867.7692307692307}, {\"time\": \"2015-01-07T19:00:00.000\", \"variable\": \"week_mean\", \"value\": 477.4423076923077}, {\"time\": \"2015-01-07T20:00:00.000\", \"variable\": \"week_mean\", \"value\": 353.53846153846155}, {\"time\": \"2015-01-07T21:00:00.000\", \"variable\": \"week_mean\", \"value\": 315.78846153846155}, {\"time\": \"2015-01-07T22:00:00.000\", \"variable\": \"week_mean\", \"value\": 270.5}, {\"time\": \"2015-01-07T23:00:00.000\", \"variable\": \"week_mean\", \"value\": 256.3269230769231}], \"transform\": [{\"type\": \"formula\", \"expr\": \"toDate(datum['time'])\", \"as\": \"time\"}]}, {\"name\": \"source_1\", \"values\": [{\"time\": \"2015-01-01T00:00:00.000\", \"variable\": \"week_median\", \"value\": 70.0}, {\"time\": \"2015-01-01T01:00:00.000\", \"variable\": \"week_median\", \"value\": 62.0}, {\"time\": \"2015-01-01T02:00:00.000\", \"variable\": \"week_median\", \"value\": 61.0}, {\"time\": \"2015-01-01T03:00:00.000\", \"variable\": \"week_median\", \"value\": 53.0}, {\"time\": \"2015-01-01T04:00:00.000\", \"variable\": \"week_median\", \"value\": 53.0}, {\"time\": \"2015-01-01T05:00:00.000\", \"variable\": \"week_median\", \"value\": 59.0}, {\"time\": \"2015-01-01T06:00:00.000\", \"variable\": \"week_median\", \"value\": 171.0}, {\"time\": \"2015-01-01T07:00:00.000\", \"variable\": \"week_median\", \"value\": 805.0}, {\"time\": \"2015-01-01T08:00:00.000\", \"variable\": \"week_median\", \"value\": 1983.0}, {\"time\": \"2015-01-01T09:00:00.000\", \"variable\": \"week_median\", \"value\": 3399.0}, {\"time\": \"2015-01-01T10:00:00.000\", \"variable\": \"week_median\", \"value\": 4069.0}, {\"time\": \"2015-01-01T11:00:00.000\", \"variable\": \"week_median\", \"value\": 4168.0}, {\"time\": \"2015-01-01T12:00:00.000\", \"variable\": \"week_median\", \"value\": 4098.0}, {\"time\": \"2015-01-01T13:00:00.000\", \"variable\": \"week_median\", \"value\": 4175.0}, {\"time\": \"2015-01-01T14:00:00.000\", \"variable\": \"week_median\", \"value\": 3818.0}, {\"time\": \"2015-01-01T15:00:00.000\", \"variable\": \"week_median\", \"value\": 3191.0}, {\"time\": \"2015-01-01T16:00:00.000\", \"variable\": \"week_median\", \"value\": 2069.0}, {\"time\": \"2015-01-01T17:00:00.000\", \"variable\": \"week_median\", \"value\": 1090.0}, {\"time\": \"2015-01-01T18:00:00.000\", \"variable\": \"week_median\", \"value\": 469.0}, {\"time\": \"2015-01-01T19:00:00.000\", \"variable\": \"week_median\", \"value\": 328.0}, {\"time\": \"2015-01-01T20:00:00.000\", \"variable\": \"week_median\", \"value\": 268.0}, {\"time\": \"2015-01-01T21:00:00.000\", \"variable\": \"week_median\", \"value\": 193.0}, {\"time\": \"2015-01-01T22:00:00.000\", \"variable\": \"week_median\", \"value\": 88.0}, {\"time\": \"2015-01-01T23:00:00.000\", \"variable\": \"week_median\", \"value\": 85.0}, {\"time\": \"2015-01-02T00:00:00.000\", \"variable\": \"week_median\", \"value\": 76.0}, {\"time\": \"2015-01-02T01:00:00.000\", \"variable\": \"week_median\", \"value\": 62.5}, {\"time\": \"2015-01-02T02:00:00.000\", \"variable\": \"week_median\", \"value\": 60.0}, {\"time\": \"2015-01-02T03:00:00.000\", \"variable\": \"week_median\", \"value\": 61.0}, {\"time\": \"2015-01-02T04:00:00.000\", \"variable\": \"week_median\", \"value\": 59.0}, {\"time\": \"2015-01-02T05:00:00.000\", \"variable\": \"week_median\", \"value\": 67.0}, {\"time\": \"2015-01-02T06:00:00.000\", \"variable\": \"week_median\", \"value\": 162.0}, {\"time\": \"2015-01-02T07:00:00.000\", \"variable\": \"week_median\", \"value\": 824.5}, {\"time\": \"2015-01-02T08:00:00.000\", \"variable\": \"week_median\", \"value\": 1901.0}, {\"time\": \"2015-01-02T09:00:00.000\", \"variable\": \"week_median\", \"value\": 2710.5}, {\"time\": \"2015-01-02T10:00:00.000\", \"variable\": \"week_median\", \"value\": 3585.0}, {\"time\": \"2015-01-02T11:00:00.000\", \"variable\": \"week_median\", \"value\": 4009.5}, {\"time\": \"2015-01-02T12:00:00.000\", \"variable\": \"week_median\", \"value\": 4005.5}, {\"time\": \"2015-01-02T13:00:00.000\", \"variable\": \"week_median\", \"value\": 3889.5}, {\"time\": \"2015-01-02T14:00:00.000\", \"variable\": \"week_median\", \"value\": 3630.5}, {\"time\": \"2015-01-02T15:00:00.000\", \"variable\": \"week_median\", \"value\": 3077.5}, {\"time\": \"2015-01-02T16:00:00.000\", \"variable\": \"week_median\", \"value\": 2198.5}, {\"time\": \"2015-01-02T17:00:00.000\", \"variable\": \"week_median\", \"value\": 1167.0}, {\"time\": \"2015-01-02T18:00:00.000\", \"variable\": \"week_median\", \"value\": 627.5}, {\"time\": \"2015-01-02T19:00:00.000\", \"variable\": \"week_median\", \"value\": 436.5}, {\"time\": \"2015-01-02T20:00:00.000\", \"variable\": \"week_median\", \"value\": 317.0}, {\"time\": \"2015-01-02T21:00:00.000\", \"variable\": \"week_median\", \"value\": 177.0}, {\"time\": \"2015-01-02T22:00:00.000\", \"variable\": \"week_median\", \"value\": 131.5}, {\"time\": \"2015-01-02T23:00:00.000\", \"variable\": \"week_median\", \"value\": 104.0}, {\"time\": \"2015-01-03T00:00:00.000\", \"variable\": \"week_median\", \"value\": 76.0}, {\"time\": \"2015-01-03T01:00:00.000\", \"variable\": \"week_median\", \"value\": 68.5}, {\"time\": \"2015-01-03T02:00:00.000\", \"variable\": \"week_median\", \"value\": 66.5}, {\"time\": \"2015-01-03T03:00:00.000\", \"variable\": \"week_median\", \"value\": 63.0}, {\"time\": \"2015-01-03T04:00:00.000\", \"variable\": \"week_median\", \"value\": 60.5}, {\"time\": \"2015-01-03T05:00:00.000\", \"variable\": \"week_median\", \"value\": 64.5}, {\"time\": \"2015-01-03T06:00:00.000\", \"variable\": \"week_median\", \"value\": 233.5}, {\"time\": \"2015-01-03T07:00:00.000\", \"variable\": \"week_median\", \"value\": 946.0}, {\"time\": \"2015-01-03T08:00:00.000\", \"variable\": \"week_median\", \"value\": 1834.5}, {\"time\": \"2015-01-03T09:00:00.000\", \"variable\": \"week_median\", \"value\": 3003.0}, {\"time\": \"2015-01-03T10:00:00.000\", \"variable\": \"week_median\", \"value\": 3967.5}, {\"time\": \"2015-01-03T11:00:00.000\", \"variable\": \"week_median\", \"value\": 4136.0}, {\"time\": \"2015-01-03T12:00:00.000\", \"variable\": \"week_median\", \"value\": 4098.0}, {\"time\": \"2015-01-03T13:00:00.000\", \"variable\": \"week_median\", \"value\": 3964.0}, {\"time\": \"2015-01-03T14:00:00.000\", \"variable\": \"week_median\", \"value\": 3547.5}, {\"time\": \"2015-01-03T15:00:00.000\", \"variable\": \"week_median\", \"value\": 2825.0}, {\"time\": \"2015-01-03T16:00:00.000\", \"variable\": \"week_median\", \"value\": 2178.5}, {\"time\": \"2015-01-03T17:00:00.000\", \"variable\": \"week_median\", \"value\": 1025.5}, {\"time\": \"2015-01-03T18:00:00.000\", \"variable\": \"week_median\", \"value\": 460.5}, {\"time\": \"2015-01-03T19:00:00.000\", \"variable\": \"week_median\", \"value\": 319.0}, {\"time\": \"2015-01-03T20:00:00.000\", \"variable\": \"week_median\", \"value\": 234.0}, {\"time\": \"2015-01-03T21:00:00.000\", \"variable\": \"week_median\", \"value\": 145.5}, {\"time\": \"2015-01-03T22:00:00.000\", \"variable\": \"week_median\", \"value\": 113.0}, {\"time\": \"2015-01-03T23:00:00.000\", \"variable\": \"week_median\", \"value\": 83.0}, {\"time\": \"2015-01-04T00:00:00.000\", \"variable\": \"week_median\", \"value\": 73.0}, {\"time\": \"2015-01-04T01:00:00.000\", \"variable\": \"week_median\", \"value\": 61.5}, {\"time\": \"2015-01-04T02:00:00.000\", \"variable\": \"week_median\", \"value\": 61.5}, {\"time\": \"2015-01-04T03:00:00.000\", \"variable\": \"week_median\", \"value\": 59.5}, {\"time\": \"2015-01-04T04:00:00.000\", \"variable\": \"week_median\", \"value\": 55.5}, {\"time\": \"2015-01-04T05:00:00.000\", \"variable\": \"week_median\", \"value\": 54.5}, {\"time\": \"2015-01-04T06:00:00.000\", \"variable\": \"week_median\", \"value\": 187.5}, {\"time\": \"2015-01-04T07:00:00.000\", \"variable\": \"week_median\", \"value\": 828.5}, {\"time\": \"2015-01-04T08:00:00.000\", \"variable\": \"week_median\", \"value\": 1969.5}, {\"time\": \"2015-01-04T09:00:00.000\", \"variable\": \"week_median\", \"value\": 3127.5}, {\"time\": \"2015-01-04T10:00:00.000\", \"variable\": \"week_median\", \"value\": 3661.5}, {\"time\": \"2015-01-04T11:00:00.000\", \"variable\": \"week_median\", \"value\": 3905.0}, {\"time\": \"2015-01-04T12:00:00.000\", \"variable\": \"week_median\", \"value\": 3968.5}, {\"time\": \"2015-01-04T13:00:00.000\", \"variable\": \"week_median\", \"value\": 3919.0}, {\"time\": \"2015-01-04T14:00:00.000\", \"variable\": \"week_median\", \"value\": 3633.5}, {\"time\": \"2015-01-04T15:00:00.000\", \"variable\": \"week_median\", \"value\": 2967.5}, {\"time\": \"2015-01-04T16:00:00.000\", \"variable\": \"week_median\", \"value\": 1981.5}, {\"time\": \"2015-01-04T17:00:00.000\", \"variable\": \"week_median\", \"value\": 907.0}, {\"time\": \"2015-01-04T18:00:00.000\", \"variable\": \"week_median\", \"value\": 471.5}, {\"time\": \"2015-01-04T19:00:00.000\", \"variable\": \"week_median\", \"value\": 334.0}, {\"time\": \"2015-01-04T20:00:00.000\", \"variable\": \"week_median\", \"value\": 255.0}, {\"time\": \"2015-01-04T21:00:00.000\", \"variable\": \"week_median\", \"value\": 249.0}, {\"time\": \"2015-01-04T22:00:00.000\", \"variable\": \"week_median\", \"value\": 294.0}, {\"time\": \"2015-01-04T23:00:00.000\", \"variable\": \"week_median\", \"value\": 266.0}, {\"time\": \"2015-01-05T00:00:00.000\", \"variable\": \"week_median\", \"value\": 155.5}, {\"time\": \"2015-01-05T01:00:00.000\", \"variable\": \"week_median\", \"value\": 136.5}, {\"time\": \"2015-01-05T02:00:00.000\", \"variable\": \"week_median\", \"value\": 82.5}, {\"time\": \"2015-01-05T03:00:00.000\", \"variable\": \"week_median\", \"value\": 68.5}, {\"time\": \"2015-01-05T04:00:00.000\", \"variable\": \"week_median\", \"value\": 68.0}, {\"time\": \"2015-01-05T05:00:00.000\", \"variable\": \"week_median\", \"value\": 71.0}, {\"time\": \"2015-01-05T06:00:00.000\", \"variable\": \"week_median\", \"value\": 198.5}, {\"time\": \"2015-01-05T07:00:00.000\", \"variable\": \"week_median\", \"value\": 853.5}, {\"time\": \"2015-01-05T08:00:00.000\", \"variable\": \"week_median\", \"value\": 1715.0}, {\"time\": \"2015-01-05T09:00:00.000\", \"variable\": \"week_median\", \"value\": 2668.5}, {\"time\": \"2015-01-05T10:00:00.000\", \"variable\": \"week_median\", \"value\": 3649.5}, {\"time\": \"2015-01-05T11:00:00.000\", \"variable\": \"week_median\", \"value\": 3986.0}, {\"time\": \"2015-01-05T12:00:00.000\", \"variable\": \"week_median\", \"value\": 3995.5}, {\"time\": \"2015-01-05T13:00:00.000\", \"variable\": \"week_median\", \"value\": 3971.5}, {\"time\": \"2015-01-05T14:00:00.000\", \"variable\": \"week_median\", \"value\": 3741.5}, {\"time\": \"2015-01-05T15:00:00.000\", \"variable\": \"week_median\", \"value\": 3173.0}, {\"time\": \"2015-01-05T16:00:00.000\", \"variable\": \"week_median\", \"value\": 2434.5}, {\"time\": \"2015-01-05T17:00:00.000\", \"variable\": \"week_median\", \"value\": 1560.5}, {\"time\": \"2015-01-05T18:00:00.000\", \"variable\": \"week_median\", \"value\": 777.5}, {\"time\": \"2015-01-05T19:00:00.000\", \"variable\": \"week_median\", \"value\": 481.0}, {\"time\": \"2015-01-05T20:00:00.000\", \"variable\": \"week_median\", \"value\": 388.0}, {\"time\": \"2015-01-05T21:00:00.000\", \"variable\": \"week_median\", \"value\": 281.0}, {\"time\": \"2015-01-05T22:00:00.000\", \"variable\": \"week_median\", \"value\": 132.5}, {\"time\": \"2015-01-05T23:00:00.000\", \"variable\": \"week_median\", \"value\": 114.0}, {\"time\": \"2015-01-06T00:00:00.000\", \"variable\": \"week_median\", \"value\": 98.0}, {\"time\": \"2015-01-06T01:00:00.000\", \"variable\": \"week_median\", \"value\": 82.0}, {\"time\": \"2015-01-06T02:00:00.000\", \"variable\": \"week_median\", \"value\": 70.0}, {\"time\": \"2015-01-06T03:00:00.000\", \"variable\": \"week_median\", \"value\": 60.5}, {\"time\": \"2015-01-06T04:00:00.000\", \"variable\": \"week_median\", \"value\": 51.0}, {\"time\": \"2015-01-06T05:00:00.000\", \"variable\": \"week_median\", \"value\": 63.0}, {\"time\": \"2015-01-06T06:00:00.000\", \"variable\": \"week_median\", \"value\": 180.5}, {\"time\": \"2015-01-06T07:00:00.000\", \"variable\": \"week_median\", \"value\": 939.0}, {\"time\": \"2015-01-06T08:00:00.000\", \"variable\": \"week_median\", \"value\": 1850.5}, {\"time\": \"2015-01-06T09:00:00.000\", \"variable\": \"week_median\", \"value\": 2649.5}, {\"time\": \"2015-01-06T10:00:00.000\", \"variable\": \"week_median\", \"value\": 3502.0}, {\"time\": \"2015-01-06T11:00:00.000\", \"variable\": \"week_median\", \"value\": 3700.5}, {\"time\": \"2015-01-06T12:00:00.000\", \"variable\": \"week_median\", \"value\": 3658.0}, {\"time\": \"2015-01-06T13:00:00.000\", \"variable\": \"week_median\", \"value\": 3606.5}, {\"time\": \"2015-01-06T14:00:00.000\", \"variable\": \"week_median\", \"value\": 3254.5}, {\"time\": \"2015-01-06T15:00:00.000\", \"variable\": \"week_median\", \"value\": 2617.5}, {\"time\": \"2015-01-06T16:00:00.000\", \"variable\": \"week_median\", \"value\": 1837.0}, {\"time\": \"2015-01-06T17:00:00.000\", \"variable\": \"week_median\", \"value\": 1004.0}, {\"time\": \"2015-01-06T18:00:00.000\", \"variable\": \"week_median\", \"value\": 398.75}, {\"time\": \"2015-01-06T19:00:00.000\", \"variable\": \"week_median\", \"value\": 254.5}, {\"time\": \"2015-01-06T20:00:00.000\", \"variable\": \"week_median\", \"value\": 209.5}, {\"time\": \"2015-01-06T21:00:00.000\", \"variable\": \"week_median\", \"value\": 140.0}, {\"time\": \"2015-01-06T22:00:00.000\", \"variable\": \"week_median\", \"value\": 122.0}, {\"time\": \"2015-01-06T23:00:00.000\", \"variable\": \"week_median\", \"value\": 100.5}, {\"time\": \"2015-01-07T00:00:00.000\", \"variable\": \"week_median\", \"value\": 97.0}, {\"time\": \"2015-01-07T01:00:00.000\", \"variable\": \"week_median\", \"value\": 89.0}, {\"time\": \"2015-01-07T02:00:00.000\", \"variable\": \"week_median\", \"value\": 88.5}, {\"time\": \"2015-01-07T03:00:00.000\", \"variable\": \"week_median\", \"value\": 82.0}, {\"time\": \"2015-01-07T04:00:00.000\", \"variable\": \"week_median\", \"value\": 69.0}, {\"time\": \"2015-01-07T05:00:00.000\", \"variable\": \"week_median\", \"value\": 76.5}, {\"time\": \"2015-01-07T06:00:00.000\", \"variable\": \"week_median\", \"value\": 124.5}, {\"time\": \"2015-01-07T07:00:00.000\", \"variable\": \"week_median\", \"value\": 794.0}, {\"time\": \"2015-01-07T08:00:00.000\", \"variable\": \"week_median\", \"value\": 1787.5}, {\"time\": \"2015-01-07T09:00:00.000\", \"variable\": \"week_median\", \"value\": 2891.0}, {\"time\": \"2015-01-07T10:00:00.000\", \"variable\": \"week_median\", \"value\": 3660.5}, {\"time\": \"2015-01-07T11:00:00.000\", \"variable\": \"week_median\", \"value\": 3928.5}, {\"time\": \"2015-01-07T12:00:00.000\", \"variable\": \"week_median\", \"value\": 3900.5}, {\"time\": \"2015-01-07T13:00:00.000\", \"variable\": \"week_median\", \"value\": 3918.5}, {\"time\": \"2015-01-07T14:00:00.000\", \"variable\": \"week_median\", \"value\": 3674.5}, {\"time\": \"2015-01-07T15:00:00.000\", \"variable\": \"week_median\", \"value\": 3123.5}, {\"time\": \"2015-01-07T16:00:00.000\", \"variable\": \"week_median\", \"value\": 2236.5}, {\"time\": \"2015-01-07T17:00:00.000\", \"variable\": \"week_median\", \"value\": 1047.5}, {\"time\": \"2015-01-07T18:00:00.000\", \"variable\": \"week_median\", \"value\": 564.5}, {\"time\": \"2015-01-07T19:00:00.000\", \"variable\": \"week_median\", \"value\": 382.5}, {\"time\": \"2015-01-07T20:00:00.000\", \"variable\": \"week_median\", \"value\": 274.5}, {\"time\": \"2015-01-07T21:00:00.000\", \"variable\": \"week_median\", \"value\": 178.0}, {\"time\": \"2015-01-07T22:00:00.000\", \"variable\": \"week_median\", \"value\": 134.5}, {\"time\": \"2015-01-07T23:00:00.000\", \"variable\": \"week_median\", \"value\": 96.5}], \"transform\": [{\"type\": \"formula\", \"expr\": \"toDate(datum['time'])\", \"as\": \"time\"}]}, {\"name\": \"source_0_color_domain_variable_0\", \"values\": [{\"variable\": \"week_mean\"}]}, {\"name\": \"source_1_color_domain_variable_1\", \"values\": [{\"variable\": \"week_median\"}]}], \"marks\": [{\"type\": \"group\", \"name\": \"layer_0_pathgroup\", \"from\": {\"facet\": {\"data\": \"source_0\", \"name\": \"faceted_path_layer_0_main\", \"groupby\": [\"variable\"]}}, \"encode\": {\"update\": {\"width\": {\"field\": {\"signal\": null, \"datum\": null, \"group\": \"width\", \"parent\": null}}, \"height\": {\"field\": {\"signal\": null, \"datum\": null, \"group\": \"height\", \"parent\": null}}}}, \"marks\": [{\"type\": \"line\", \"name\": \"layer_0_marks\", \"from\": {\"data\": \"faceted_path_layer_0_main\"}, \"sort\": {\"field\": \"x\"}, \"encode\": {\"update\": {\"x\": {\"field\": \"time\", \"scale\": \"x\"}, \"stroke\": {\"field\": \"variable\", \"scale\": \"color\"}, \"defined\": {\"signal\": \"isValid(datum[\\\"time\\\"]) && isFinite(+datum[\\\"time\\\"]) && isValid(datum[\\\"value\\\"]) && isFinite(+datum[\\\"value\\\"])\"}, \"y\": {\"field\": \"value\", \"scale\": \"y\"}}}, \"style\": [\"line\"]}]}, {\"type\": \"group\", \"name\": \"layer_1_pathgroup\", \"from\": {\"facet\": {\"data\": \"source_1\", \"name\": \"faceted_path_layer_1_main\", \"groupby\": [\"variable\"]}}, \"encode\": {\"update\": {\"width\": {\"field\": {\"signal\": null, \"datum\": null, \"group\": \"width\", \"parent\": null}}, \"height\": {\"field\": {\"signal\": null, \"datum\": null, \"group\": \"height\", \"parent\": null}}}}, \"marks\": [{\"type\": \"line\", \"name\": \"layer_1_marks\", \"from\": {\"data\": \"faceted_path_layer_1_main\"}, \"sort\": {\"field\": \"x\"}, \"encode\": {\"update\": {\"stroke\": {\"field\": \"variable\", \"scale\": \"color\"}, \"x\": {\"field\": \"time\", \"scale\": \"x\"}, \"defined\": {\"signal\": \"isValid(datum[\\\"time\\\"]) && isFinite(+datum[\\\"time\\\"]) && isValid(datum[\\\"value\\\"]) && isFinite(+datum[\\\"value\\\"])\"}, \"y\": {\"field\": \"value\", \"scale\": \"y\"}}}, \"style\": [\"line\"]}]}], \"scales\": [{\"name\": \"x\", \"type\": \"time\", \"domain\": {\"fields\": [{\"data\": \"source_0\", \"field\": \"time\"}, {\"data\": \"source_1\", \"field\": \"time\"}]}, \"range\": [0, {\"signal\": \"width\"}]}, {\"name\": \"y\", \"type\": \"linear\", \"domain\": {\"fields\": [{\"data\": \"source_0\", \"field\": \"value\"}, {\"data\": \"source_1\", \"field\": \"value\"}]}, \"range\": [{\"signal\": \"height\"}, 0], \"zero\": true, \"nice\": true}, {\"name\": \"color\", \"type\": \"ordinal\", \"domain\": {\"fields\": [{\"data\": \"source_0_color_domain_variable_0\", \"field\": \"variable\"}, {\"data\": \"source_1_color_domain_variable_1\", \"field\": \"variable\"}], \"sort\": true}, \"range\": \"category\"}], \"axes\": [{\"scale\": \"x\", \"orient\": \"bottom\", \"gridScale\": \"y\", \"ticks\": false, \"labels\": false, \"minExtent\": 0, \"zindex\": 0, \"domain\": false, \"aria\": false, \"grid\": true, \"maxExtent\": 0, \"tickCount\": {\"signal\": \"ceil(width/40)\"}}, {\"scale\": \"y\", \"tickCount\": {\"signal\": \"ceil(height/40)\"}, \"minExtent\": 0, \"orient\": \"left\", \"ticks\": false, \"zindex\": 0, \"grid\": true, \"labels\": false, \"maxExtent\": 0, \"domain\": false, \"aria\": false, \"gridScale\": \"x\"}, {\"scale\": \"x\", \"labelFlush\": true, \"orient\": \"bottom\", \"labelOverlap\": true, \"zindex\": 0, \"tickCount\": {\"signal\": \"ceil(width/40)\"}, \"title\": \"time\", \"grid\": false}, {\"scale\": \"y\", \"grid\": false, \"title\": \"value\", \"tickCount\": {\"signal\": \"ceil(height/40)\"}, \"zindex\": 0, \"orient\": \"left\", \"labelOverlap\": true}], \"height\": 300, \"padding\": 5, \"style\": \"cell\", \"legends\": [{\"stroke\": \"color\", \"symbolType\": \"stroke\", \"title\": \"variable\"}], \"width\": 300, \"background\": \"white\"}, {\"mode\": \"vega\"});\n",
       "</script>"
      ],
      "text/plain": [
       "alt.LayerChart(...)"
      ]
     },
     "execution_count": 12,
     "metadata": {},
     "output_type": "execute_result"
    }
   ],
   "source": [
    "(\n",
    "    on.Plot()\n",
    "    .add(on.marks.line, week_mean)\n",
    "    .add(on.marks.line, week_median)\n",
    "    .show()\n",
    ")"
   ]
  },
  {
   "cell_type": "markdown",
   "id": "3abbc2e7-a631-40b0-878c-36a552f95dc8",
   "metadata": {
    "papermill": {
     "duration": 0.007541,
     "end_time": "2025-01-06T14:55:03.395631",
     "exception": false,
     "start_time": "2025-01-06T14:55:03.388090",
     "status": "completed"
    },
    "tags": []
   },
   "source": [
    "#### Generic Predictor"
   ]
  },
  {
   "cell_type": "code",
   "execution_count": 13,
   "id": "c775b740-fe78-4c0c-87fe-a51af3d42993",
   "metadata": {
    "execution": {
     "iopub.execute_input": "2025-01-06T14:55:03.414483Z",
     "iopub.status.busy": "2025-01-06T14:55:03.413617Z",
     "iopub.status.idle": "2025-01-06T14:55:03.419310Z",
     "shell.execute_reply": "2025-01-06T14:55:03.417690Z"
    },
    "papermill": {
     "duration": 0.018607,
     "end_time": "2025-01-06T14:55:03.421196",
     "exception": false,
     "start_time": "2025-01-06T14:55:03.402589",
     "status": "completed"
    },
    "tags": []
   },
   "outputs": [],
   "source": [
    "model = on.context.common.GenericPredictor()"
   ]
  },
  {
   "cell_type": "code",
   "execution_count": 14,
   "id": "a633dce3-27d8-4deb-bb0f-d40e3af96f8a",
   "metadata": {
    "execution": {
     "iopub.execute_input": "2025-01-06T14:55:03.438597Z",
     "iopub.status.busy": "2025-01-06T14:55:03.438209Z",
     "iopub.status.idle": "2025-01-06T14:55:06.521349Z",
     "shell.execute_reply": "2025-01-06T14:55:06.520059Z"
    },
    "papermill": {
     "duration": 3.095267,
     "end_time": "2025-01-06T14:55:06.523602",
     "exception": false,
     "start_time": "2025-01-06T14:55:03.428335",
     "status": "completed"
    },
    "tags": []
   },
   "outputs": [
    {
     "data": {
      "text/plain": [
       "<ontime.context.common.generic_predictor.GenericPredictor at 0x7f775011cdf0>"
      ]
     },
     "execution_count": 14,
     "metadata": {},
     "output_type": "execute_result"
    }
   ],
   "source": [
    "model.fit(train)"
   ]
  },
  {
   "cell_type": "markdown",
   "id": "6943aa60-c757-4f54-bf63-854beecfab80",
   "metadata": {
    "papermill": {
     "duration": 0.009776,
     "end_time": "2025-01-06T14:55:06.543932",
     "exception": false,
     "start_time": "2025-01-06T14:55:06.534156",
     "status": "completed"
    },
    "tags": []
   },
   "source": [
    "What does the future looks like ?"
   ]
  },
  {
   "cell_type": "code",
   "execution_count": 15,
   "id": "04dfe189-f736-4fe3-b27c-467c154b2c42",
   "metadata": {
    "execution": {
     "iopub.execute_input": "2025-01-06T14:55:06.565871Z",
     "iopub.status.busy": "2025-01-06T14:55:06.565370Z",
     "iopub.status.idle": "2025-01-06T14:55:06.621667Z",
     "shell.execute_reply": "2025-01-06T14:55:06.620024Z"
    },
    "papermill": {
     "duration": 0.070216,
     "end_time": "2025-01-06T14:55:06.624072",
     "exception": false,
     "start_time": "2025-01-06T14:55:06.553856",
     "status": "completed"
    },
    "tags": []
   },
   "outputs": [],
   "source": [
    "pred = model.predict(48)"
   ]
  },
  {
   "cell_type": "code",
   "execution_count": 16,
   "id": "67da9001-1e2a-4578-9436-8db8151190dc",
   "metadata": {
    "execution": {
     "iopub.execute_input": "2025-01-06T14:55:06.646726Z",
     "iopub.status.busy": "2025-01-06T14:55:06.646189Z",
     "iopub.status.idle": "2025-01-06T14:55:06.893283Z",
     "shell.execute_reply": "2025-01-06T14:55:06.891342Z"
    },
    "papermill": {
     "duration": 0.262114,
     "end_time": "2025-01-06T14:55:06.896031",
     "exception": false,
     "start_time": "2025-01-06T14:55:06.633917",
     "status": "completed"
    },
    "tags": []
   },
   "outputs": [
    {
     "data": {
      "text/html": [
       "\n",
       "<style>\n",
       "  #altair-viz-9e896f22603b4c4f9439c15e5b0d3f44.vega-embed {\n",
       "    width: 100%;\n",
       "    display: flex;\n",
       "  }\n",
       "\n",
       "  #altair-viz-9e896f22603b4c4f9439c15e5b0d3f44.vega-embed details,\n",
       "  #altair-viz-9e896f22603b4c4f9439c15e5b0d3f44.vega-embed details summary {\n",
       "    position: relative;\n",
       "  }\n",
       "</style>\n",
       "<div id=\"altair-viz-9e896f22603b4c4f9439c15e5b0d3f44\"></div>\n",
       "<script type=\"text/javascript\">\n",
       "  var VEGA_DEBUG = (typeof VEGA_DEBUG == \"undefined\") ? {} : VEGA_DEBUG;\n",
       "  (function(spec, embedOpt){\n",
       "    let outputDiv = document.currentScript.previousElementSibling;\n",
       "    if (outputDiv.id !== \"altair-viz-9e896f22603b4c4f9439c15e5b0d3f44\") {\n",
       "      outputDiv = document.getElementById(\"altair-viz-9e896f22603b4c4f9439c15e5b0d3f44\");\n",
       "    }\n",
       "\n",
       "    const paths = {\n",
       "      \"vega\": \"https://cdn.jsdelivr.net/npm/vega@5?noext\",\n",
       "      \"vega-lib\": \"https://cdn.jsdelivr.net/npm/vega-lib?noext\",\n",
       "      \"vega-lite\": \"https://cdn.jsdelivr.net/npm/vega-lite@5.20.1?noext\",\n",
       "      \"vega-embed\": \"https://cdn.jsdelivr.net/npm/vega-embed@6?noext\",\n",
       "    };\n",
       "\n",
       "    function maybeLoadScript(lib, version) {\n",
       "      var key = `${lib.replace(\"-\", \"\")}_version`;\n",
       "      return (VEGA_DEBUG[key] == version) ?\n",
       "        Promise.resolve(paths[lib]) :\n",
       "        new Promise(function(resolve, reject) {\n",
       "          var s = document.createElement('script');\n",
       "          document.getElementsByTagName(\"head\")[0].appendChild(s);\n",
       "          s.async = true;\n",
       "          s.onload = () => {\n",
       "            VEGA_DEBUG[key] = version;\n",
       "            return resolve(paths[lib]);\n",
       "          };\n",
       "          s.onerror = () => reject(`Error loading script: ${paths[lib]}`);\n",
       "          s.src = paths[lib];\n",
       "        });\n",
       "    }\n",
       "\n",
       "    function showError(err) {\n",
       "      outputDiv.innerHTML = `<div class=\"error\" style=\"color:red;\">${err}</div>`;\n",
       "      throw err;\n",
       "    }\n",
       "\n",
       "    function displayChart(vegaEmbed) {\n",
       "      vegaEmbed(outputDiv, spec, embedOpt)\n",
       "        .catch(err => showError(`Javascript Error: ${err.message}<br>This usually means there's a typo in your chart specification. See the javascript console for the full traceback.`));\n",
       "    }\n",
       "\n",
       "    if(typeof define === \"function\" && define.amd) {\n",
       "      requirejs.config({paths});\n",
       "      let deps = [\"vega-embed\"];\n",
       "      require(deps, displayChart, err => showError(`Error loading script: ${err.message}`));\n",
       "    } else {\n",
       "      maybeLoadScript(\"vega\", \"5\")\n",
       "        .then(() => maybeLoadScript(\"vega-lite\", \"5.20.1\"))\n",
       "        .then(() => maybeLoadScript(\"vega-embed\", \"6\"))\n",
       "        .catch(showError)\n",
       "        .then(() => displayChart(vegaEmbed));\n",
       "    }\n",
       "  })({\"$schema\": \"https://vega.github.io/schema/vega/v5.json\", \"data\": [{\"name\": \"source_0\", \"values\": [{\"time\": \"2015-09-09T13:00:00.000\", \"variable\": \"Training set\", \"value\": 4402.0}, {\"time\": \"2015-09-09T14:00:00.000\", \"variable\": \"Training set\", \"value\": 3985.0}, {\"time\": \"2015-09-09T15:00:00.000\", \"variable\": \"Training set\", \"value\": 3382.0}, {\"time\": \"2015-09-09T16:00:00.000\", \"variable\": \"Training set\", \"value\": 2505.0}, {\"time\": \"2015-09-09T17:00:00.000\", \"variable\": \"Training set\", \"value\": 1432.0}, {\"time\": \"2015-09-09T18:00:00.000\", \"variable\": \"Training set\", \"value\": 776.0}, {\"time\": \"2015-09-09T19:00:00.000\", \"variable\": \"Training set\", \"value\": 522.0}, {\"time\": \"2015-09-09T20:00:00.000\", \"variable\": \"Training set\", \"value\": 297.0}, {\"time\": \"2015-09-09T21:00:00.000\", \"variable\": \"Training set\", \"value\": 135.0}, {\"time\": \"2015-09-09T22:00:00.000\", \"variable\": \"Training set\", \"value\": 196.0}, {\"time\": \"2015-09-09T23:00:00.000\", \"variable\": \"Training set\", \"value\": 90.0}, {\"time\": \"2015-09-10T00:00:00.000\", \"variable\": \"Training set\", \"value\": 62.0}, {\"time\": \"2015-09-10T01:00:00.000\", \"variable\": \"Training set\", \"value\": 62.0}, {\"time\": \"2015-09-10T02:00:00.000\", \"variable\": \"Training set\", \"value\": 61.0}, {\"time\": \"2015-09-10T03:00:00.000\", \"variable\": \"Training set\", \"value\": 62.0}, {\"time\": \"2015-09-10T04:00:00.000\", \"variable\": \"Training set\", \"value\": 62.0}, {\"time\": \"2015-09-10T05:00:00.000\", \"variable\": \"Training set\", \"value\": 62.0}, {\"time\": \"2015-09-10T06:00:00.000\", \"variable\": \"Training set\", \"value\": 152.0}, {\"time\": \"2015-09-10T07:00:00.000\", \"variable\": \"Training set\", \"value\": 1094.0}, {\"time\": \"2015-09-10T08:00:00.000\", \"variable\": \"Training set\", \"value\": 2317.0}, {\"time\": \"2015-09-10T09:00:00.000\", \"variable\": \"Training set\", \"value\": 3489.0}, {\"time\": \"2015-09-10T10:00:00.000\", \"variable\": \"Training set\", \"value\": 3893.0}, {\"time\": \"2015-09-10T11:00:00.000\", \"variable\": \"Training set\", \"value\": 3883.0}, {\"time\": \"2015-09-10T12:00:00.000\", \"variable\": \"Training set\", \"value\": 3735.0}, {\"time\": \"2015-09-10T13:00:00.000\", \"variable\": \"Training set\", \"value\": 3612.0}, {\"time\": \"2015-09-10T14:00:00.000\", \"variable\": \"Training set\", \"value\": 3378.0}, {\"time\": \"2015-09-10T15:00:00.000\", \"variable\": \"Training set\", \"value\": 2769.0}, {\"time\": \"2015-09-10T16:00:00.000\", \"variable\": \"Training set\", \"value\": 1809.0}, {\"time\": \"2015-09-10T17:00:00.000\", \"variable\": \"Training set\", \"value\": 606.0}, {\"time\": \"2015-09-10T18:00:00.000\", \"variable\": \"Training set\", \"value\": 157.0}, {\"time\": \"2015-09-10T19:00:00.000\", \"variable\": \"Training set\", \"value\": 71.0}, {\"time\": \"2015-09-10T20:00:00.000\", \"variable\": \"Training set\", \"value\": 60.0}, {\"time\": \"2015-09-10T21:00:00.000\", \"variable\": \"Training set\", \"value\": 53.0}, {\"time\": \"2015-09-10T22:00:00.000\", \"variable\": \"Training set\", \"value\": 84.0}, {\"time\": \"2015-09-10T23:00:00.000\", \"variable\": \"Training set\", \"value\": 60.0}, {\"time\": \"2015-09-11T00:00:00.000\", \"variable\": \"Training set\", \"value\": 60.0}, {\"time\": \"2015-09-11T01:00:00.000\", \"variable\": \"Training set\", \"value\": 60.0}, {\"time\": \"2015-09-11T02:00:00.000\", \"variable\": \"Training set\", \"value\": 60.0}, {\"time\": \"2015-09-11T03:00:00.000\", \"variable\": \"Training set\", \"value\": 69.0}, {\"time\": \"2015-09-11T04:00:00.000\", \"variable\": \"Training set\", \"value\": 75.0}, {\"time\": \"2015-09-11T05:00:00.000\", \"variable\": \"Training set\", \"value\": 77.0}, {\"time\": \"2015-09-11T06:00:00.000\", \"variable\": \"Training set\", \"value\": 399.0}, {\"time\": \"2015-09-11T07:00:00.000\", \"variable\": \"Training set\", \"value\": 1464.0}, {\"time\": \"2015-09-11T08:00:00.000\", \"variable\": \"Training set\", \"value\": 2726.0}, {\"time\": \"2015-09-11T09:00:00.000\", \"variable\": \"Training set\", \"value\": 3729.0}, {\"time\": \"2015-09-11T10:00:00.000\", \"variable\": \"Training set\", \"value\": 4010.0}, {\"time\": \"2015-09-11T11:00:00.000\", \"variable\": \"Training set\", \"value\": 4052.0}, {\"time\": \"2015-09-11T12:00:00.000\", \"variable\": \"Training set\", \"value\": 3985.0}, {\"time\": \"2015-09-11T13:00:00.000\", \"variable\": \"Training set\", \"value\": 3834.0}, {\"time\": \"2015-09-11T14:00:00.000\", \"variable\": \"Training set\", \"value\": 3199.0}, {\"time\": \"2015-09-11T15:00:00.000\", \"variable\": \"Training set\", \"value\": 1620.0}, {\"time\": \"2015-09-11T16:00:00.000\", \"variable\": \"Training set\", \"value\": 624.0}, {\"time\": \"2015-09-11T17:00:00.000\", \"variable\": \"Training set\", \"value\": 437.0}, {\"time\": \"2015-09-11T18:00:00.000\", \"variable\": \"Training set\", \"value\": 244.0}, {\"time\": \"2015-09-11T19:00:00.000\", \"variable\": \"Training set\", \"value\": 135.0}, {\"time\": \"2015-09-11T20:00:00.000\", \"variable\": \"Training set\", \"value\": 101.0}, {\"time\": \"2015-09-11T21:00:00.000\", \"variable\": \"Training set\", \"value\": 87.0}, {\"time\": \"2015-09-11T22:00:00.000\", \"variable\": \"Training set\", \"value\": 13.0}, {\"time\": \"2015-09-11T23:00:00.000\", \"variable\": \"Training set\", \"value\": 13.0}, {\"time\": \"2015-09-12T00:00:00.000\", \"variable\": \"Training set\", \"value\": 13.0}, {\"time\": \"2015-09-12T01:00:00.000\", \"variable\": \"Training set\", \"value\": 13.0}, {\"time\": \"2015-09-12T02:00:00.000\", \"variable\": \"Training set\", \"value\": 13.0}, {\"time\": \"2015-09-12T03:00:00.000\", \"variable\": \"Training set\", \"value\": 13.0}, {\"time\": \"2015-09-12T04:00:00.000\", \"variable\": \"Training set\", \"value\": 13.0}, {\"time\": \"2015-09-12T05:00:00.000\", \"variable\": \"Training set\", \"value\": 16.0}, {\"time\": \"2015-09-12T06:00:00.000\", \"variable\": \"Training set\", \"value\": 47.0}, {\"time\": \"2015-09-12T07:00:00.000\", \"variable\": \"Training set\", \"value\": 485.0}, {\"time\": \"2015-09-12T08:00:00.000\", \"variable\": \"Training set\", \"value\": 1030.0}, {\"time\": \"2015-09-12T09:00:00.000\", \"variable\": \"Training set\", \"value\": 1607.0}, {\"time\": \"2015-09-12T10:00:00.000\", \"variable\": \"Training set\", \"value\": 1861.0}, {\"time\": \"2015-09-12T11:00:00.000\", \"variable\": \"Training set\", \"value\": 1831.0}, {\"time\": \"2015-09-12T12:00:00.000\", \"variable\": \"Training set\", \"value\": 1605.0}, {\"time\": \"2015-09-12T13:00:00.000\", \"variable\": \"Training set\", \"value\": 1175.0}, {\"time\": \"2015-09-12T14:00:00.000\", \"variable\": \"Training set\", \"value\": 588.0}, {\"time\": \"2015-09-12T15:00:00.000\", \"variable\": \"Training set\", \"value\": 103.0}, {\"time\": \"2015-09-12T16:00:00.000\", \"variable\": \"Training set\", \"value\": 35.0}, {\"time\": \"2015-09-12T17:00:00.000\", \"variable\": \"Training set\", \"value\": 24.0}, {\"time\": \"2015-09-12T18:00:00.000\", \"variable\": \"Training set\", \"value\": 21.0}, {\"time\": \"2015-09-12T19:00:00.000\", \"variable\": \"Training set\", \"value\": 13.0}, {\"time\": \"2015-09-12T20:00:00.000\", \"variable\": \"Training set\", \"value\": 13.0}, {\"time\": \"2015-09-12T21:00:00.000\", \"variable\": \"Training set\", \"value\": 13.0}, {\"time\": \"2015-09-12T22:00:00.000\", \"variable\": \"Training set\", \"value\": 291.0}, {\"time\": \"2015-09-12T23:00:00.000\", \"variable\": \"Training set\", \"value\": 192.0}, {\"time\": \"2015-09-13T00:00:00.000\", \"variable\": \"Training set\", \"value\": 112.0}, {\"time\": \"2015-09-13T01:00:00.000\", \"variable\": \"Training set\", \"value\": 47.0}, {\"time\": \"2015-09-13T02:00:00.000\", \"variable\": \"Training set\", \"value\": 34.0}, {\"time\": \"2015-09-13T03:00:00.000\", \"variable\": \"Training set\", \"value\": 34.0}, {\"time\": \"2015-09-13T04:00:00.000\", \"variable\": \"Training set\", \"value\": 33.0}, {\"time\": \"2015-09-13T05:00:00.000\", \"variable\": \"Training set\", \"value\": 32.0}, {\"time\": \"2015-09-13T06:00:00.000\", \"variable\": \"Training set\", \"value\": 181.0}, {\"time\": \"2015-09-13T07:00:00.000\", \"variable\": \"Training set\", \"value\": 892.0}, {\"time\": \"2015-09-13T08:00:00.000\", \"variable\": \"Training set\", \"value\": 2210.0}, {\"time\": \"2015-09-13T09:00:00.000\", \"variable\": \"Training set\", \"value\": 3415.0}, {\"time\": \"2015-09-13T10:00:00.000\", \"variable\": \"Training set\", \"value\": 4198.0}, {\"time\": \"2015-09-13T11:00:00.000\", \"variable\": \"Training set\", \"value\": 4603.0}, {\"time\": \"2015-09-13T12:00:00.000\", \"variable\": \"Training set\", \"value\": 4611.0}], \"transform\": [{\"type\": \"formula\", \"expr\": \"toDate(datum['time'])\", \"as\": \"time\"}]}, {\"name\": \"source_1\", \"values\": [{\"time\": \"2015-09-13T13:00:00.000\", \"variable\": \"Prediction\", \"value\": 4421.055420693778}, {\"time\": \"2015-09-13T14:00:00.000\", \"variable\": \"Prediction\", \"value\": 4014.4688897970887}, {\"time\": \"2015-09-13T15:00:00.000\", \"variable\": \"Prediction\", \"value\": 3243.314787949125}, {\"time\": \"2015-09-13T16:00:00.000\", \"variable\": \"Prediction\", \"value\": 2244.1515414293954}, {\"time\": \"2015-09-13T17:00:00.000\", \"variable\": \"Prediction\", \"value\": 1117.8537957499707}, {\"time\": \"2015-09-13T18:00:00.000\", \"variable\": \"Prediction\", \"value\": 520.6044107483872}, {\"time\": \"2015-09-13T19:00:00.000\", \"variable\": \"Prediction\", \"value\": 398.1212651167684}, {\"time\": \"2015-09-13T20:00:00.000\", \"variable\": \"Prediction\", \"value\": 330.8952509847468}, {\"time\": \"2015-09-13T21:00:00.000\", \"variable\": \"Prediction\", \"value\": 278.5764514442335}, {\"time\": \"2015-09-13T22:00:00.000\", \"variable\": \"Prediction\", \"value\": 200.09737715136293}, {\"time\": \"2015-09-13T23:00:00.000\", \"variable\": \"Prediction\", \"value\": 149.74669646100938}, {\"time\": \"2015-09-14T00:00:00.000\", \"variable\": \"Prediction\", \"value\": 120.43751064191542}, {\"time\": \"2015-09-14T01:00:00.000\", \"variable\": \"Prediction\", \"value\": 103.66161950031733}, {\"time\": \"2015-09-14T02:00:00.000\", \"variable\": \"Prediction\", \"value\": 65.60931938500562}, {\"time\": \"2015-09-14T03:00:00.000\", \"variable\": \"Prediction\", \"value\": 39.58402604705134}, {\"time\": \"2015-09-14T04:00:00.000\", \"variable\": \"Prediction\", \"value\": 55.613341527122884}, {\"time\": \"2015-09-14T05:00:00.000\", \"variable\": \"Prediction\", \"value\": 236.4730097377144}, {\"time\": \"2015-09-14T06:00:00.000\", \"variable\": \"Prediction\", \"value\": 972.2529595668245}, {\"time\": \"2015-09-14T07:00:00.000\", \"variable\": \"Prediction\", \"value\": 2143.1383076853563}, {\"time\": \"2015-09-14T08:00:00.000\", \"variable\": \"Prediction\", \"value\": 3215.5261010152}, {\"time\": \"2015-09-14T09:00:00.000\", \"variable\": \"Prediction\", \"value\": 3934.127058650786}, {\"time\": \"2015-09-14T10:00:00.000\", \"variable\": \"Prediction\", \"value\": 4285.439536510106}, {\"time\": \"2015-09-14T11:00:00.000\", \"variable\": \"Prediction\", \"value\": 4375.441784033208}, {\"time\": \"2015-09-14T12:00:00.000\", \"variable\": \"Prediction\", \"value\": 4255.729830822005}, {\"time\": \"2015-09-14T13:00:00.000\", \"variable\": \"Prediction\", \"value\": 3961.468688787254}, {\"time\": \"2015-09-14T14:00:00.000\", \"variable\": \"Prediction\", \"value\": 3381.916436753201}, {\"time\": \"2015-09-14T15:00:00.000\", \"variable\": \"Prediction\", \"value\": 2542.1650621948966}, {\"time\": \"2015-09-14T16:00:00.000\", \"variable\": \"Prediction\", \"value\": 1389.1225386559245}, {\"time\": \"2015-09-14T17:00:00.000\", \"variable\": \"Prediction\", \"value\": 634.6724000314699}, {\"time\": \"2015-09-14T18:00:00.000\", \"variable\": \"Prediction\", \"value\": 418.8749409524987}, {\"time\": \"2015-09-14T19:00:00.000\", \"variable\": \"Prediction\", \"value\": 324.173823023712}, {\"time\": \"2015-09-14T20:00:00.000\", \"variable\": \"Prediction\", \"value\": 295.3270881320948}, {\"time\": \"2015-09-14T21:00:00.000\", \"variable\": \"Prediction\", \"value\": 233.27590737516903}, {\"time\": \"2015-09-14T22:00:00.000\", \"variable\": \"Prediction\", \"value\": 190.61740343693873}, {\"time\": \"2015-09-14T23:00:00.000\", \"variable\": \"Prediction\", \"value\": 149.20486313045512}, {\"time\": \"2015-09-15T00:00:00.000\", \"variable\": \"Prediction\", \"value\": 114.77040380748281}, {\"time\": \"2015-09-15T01:00:00.000\", \"variable\": \"Prediction\", \"value\": 88.00325971681332}, {\"time\": \"2015-09-15T02:00:00.000\", \"variable\": \"Prediction\", \"value\": 51.208162171368485}, {\"time\": \"2015-09-15T03:00:00.000\", \"variable\": \"Prediction\", \"value\": 73.882302168269}, {\"time\": \"2015-09-15T04:00:00.000\", \"variable\": \"Prediction\", \"value\": 291.7731452416565}, {\"time\": \"2015-09-15T05:00:00.000\", \"variable\": \"Prediction\", \"value\": 986.3992775551272}, {\"time\": \"2015-09-15T06:00:00.000\", \"variable\": \"Prediction\", \"value\": 2041.6865129544535}, {\"time\": \"2015-09-15T07:00:00.000\", \"variable\": \"Prediction\", \"value\": 2955.305961069812}, {\"time\": \"2015-09-15T08:00:00.000\", \"variable\": \"Prediction\", \"value\": 3616.623527736615}, {\"time\": \"2015-09-15T09:00:00.000\", \"variable\": \"Prediction\", \"value\": 3979.5415276264894}, {\"time\": \"2015-09-15T10:00:00.000\", \"variable\": \"Prediction\", \"value\": 4132.888059353216}, {\"time\": \"2015-09-15T11:00:00.000\", \"variable\": \"Prediction\", \"value\": 4075.5245839349323}, {\"time\": \"2015-09-15T12:00:00.000\", \"variable\": \"Prediction\", \"value\": 3809.7412939687033}], \"transform\": [{\"type\": \"formula\", \"expr\": \"toDate(datum['time'])\", \"as\": \"time\"}]}, {\"name\": \"source_2\", \"values\": [{\"time\": \"2015-09-13T13:00:00.000\", \"variable\": \"Truth\", \"value\": 4599.0}, {\"time\": \"2015-09-13T14:00:00.000\", \"variable\": \"Truth\", \"value\": 4261.0}, {\"time\": \"2015-09-13T15:00:00.000\", \"variable\": \"Truth\", \"value\": 3805.0}, {\"time\": \"2015-09-13T16:00:00.000\", \"variable\": \"Truth\", \"value\": 3118.0}, {\"time\": \"2015-09-13T17:00:00.000\", \"variable\": \"Truth\", \"value\": 1844.0}, {\"time\": \"2015-09-13T18:00:00.000\", \"variable\": \"Truth\", \"value\": 747.0}, {\"time\": \"2015-09-13T19:00:00.000\", \"variable\": \"Truth\", \"value\": 557.0}, {\"time\": \"2015-09-13T20:00:00.000\", \"variable\": \"Truth\", \"value\": 436.0}, {\"time\": \"2015-09-13T21:00:00.000\", \"variable\": \"Truth\", \"value\": 327.0}, {\"time\": \"2015-09-13T22:00:00.000\", \"variable\": \"Truth\", \"value\": 300.0}, {\"time\": \"2015-09-13T23:00:00.000\", \"variable\": \"Truth\", \"value\": 240.0}, {\"time\": \"2015-09-14T00:00:00.000\", \"variable\": \"Truth\", \"value\": 138.0}, {\"time\": \"2015-09-14T01:00:00.000\", \"variable\": \"Truth\", \"value\": 69.0}, {\"time\": \"2015-09-14T02:00:00.000\", \"variable\": \"Truth\", \"value\": 55.0}, {\"time\": \"2015-09-14T03:00:00.000\", \"variable\": \"Truth\", \"value\": 48.0}, {\"time\": \"2015-09-14T04:00:00.000\", \"variable\": \"Truth\", \"value\": 52.0}, {\"time\": \"2015-09-14T05:00:00.000\", \"variable\": \"Truth\", \"value\": 51.0}, {\"time\": \"2015-09-14T06:00:00.000\", \"variable\": \"Truth\", \"value\": 170.0}, {\"time\": \"2015-09-14T07:00:00.000\", \"variable\": \"Truth\", \"value\": 803.0}, {\"time\": \"2015-09-14T08:00:00.000\", \"variable\": \"Truth\", \"value\": 1816.0}, {\"time\": \"2015-09-14T09:00:00.000\", \"variable\": \"Truth\", \"value\": 2619.0}, {\"time\": \"2015-09-14T10:00:00.000\", \"variable\": \"Truth\", \"value\": 3354.0}, {\"time\": \"2015-09-14T11:00:00.000\", \"variable\": \"Truth\", \"value\": 3743.0}, {\"time\": \"2015-09-14T12:00:00.000\", \"variable\": \"Truth\", \"value\": 4164.0}, {\"time\": \"2015-09-14T13:00:00.000\", \"variable\": \"Truth\", \"value\": 4473.0}, {\"time\": \"2015-09-14T14:00:00.000\", \"variable\": \"Truth\", \"value\": 4514.0}, {\"time\": \"2015-09-14T15:00:00.000\", \"variable\": \"Truth\", \"value\": 4171.0}, {\"time\": \"2015-09-14T16:00:00.000\", \"variable\": \"Truth\", \"value\": 3403.0}, {\"time\": \"2015-09-14T17:00:00.000\", \"variable\": \"Truth\", \"value\": 1872.0}, {\"time\": \"2015-09-14T18:00:00.000\", \"variable\": \"Truth\", \"value\": 743.0}, {\"time\": \"2015-09-14T19:00:00.000\", \"variable\": \"Truth\", \"value\": 421.0}, {\"time\": \"2015-09-14T20:00:00.000\", \"variable\": \"Truth\", \"value\": 296.0}, {\"time\": \"2015-09-14T21:00:00.000\", \"variable\": \"Truth\", \"value\": 229.0}, {\"time\": \"2015-09-14T22:00:00.000\", \"variable\": \"Truth\", \"value\": 167.0}, {\"time\": \"2015-09-14T23:00:00.000\", \"variable\": \"Truth\", \"value\": 128.0}, {\"time\": \"2015-09-15T00:00:00.000\", \"variable\": \"Truth\", \"value\": 96.0}, {\"time\": \"2015-09-15T01:00:00.000\", \"variable\": \"Truth\", \"value\": 83.0}, {\"time\": \"2015-09-15T02:00:00.000\", \"variable\": \"Truth\", \"value\": 66.0}, {\"time\": \"2015-09-15T03:00:00.000\", \"variable\": \"Truth\", \"value\": 52.0}, {\"time\": \"2015-09-15T04:00:00.000\", \"variable\": \"Truth\", \"value\": 51.0}, {\"time\": \"2015-09-15T05:00:00.000\", \"variable\": \"Truth\", \"value\": 49.0}, {\"time\": \"2015-09-15T06:00:00.000\", \"variable\": \"Truth\", \"value\": 225.0}, {\"time\": \"2015-09-15T07:00:00.000\", \"variable\": \"Truth\", \"value\": 1052.0}, {\"time\": \"2015-09-15T08:00:00.000\", \"variable\": \"Truth\", \"value\": 2569.0}, {\"time\": \"2015-09-15T09:00:00.000\", \"variable\": \"Truth\", \"value\": 3237.0}, {\"time\": \"2015-09-15T10:00:00.000\", \"variable\": \"Truth\", \"value\": 3401.0}, {\"time\": \"2015-09-15T11:00:00.000\", \"variable\": \"Truth\", \"value\": 3498.0}, {\"time\": \"2015-09-15T12:00:00.000\", \"variable\": \"Truth\", \"value\": 3149.0}], \"transform\": [{\"type\": \"formula\", \"expr\": \"toDate(datum['time'])\", \"as\": \"time\"}]}, {\"name\": \"source_0_color_domain_variable_0\", \"values\": [{\"variable\": \"Training set\"}]}, {\"name\": \"source_1_color_domain_variable_1\", \"values\": [{\"variable\": \"Prediction\"}]}, {\"name\": \"source_2_color_domain_variable_2\", \"values\": [{\"variable\": \"Truth\"}]}], \"marks\": [{\"type\": \"group\", \"name\": \"layer_0_pathgroup\", \"from\": {\"facet\": {\"data\": \"source_0\", \"name\": \"faceted_path_layer_0_main\", \"groupby\": [\"variable\"]}}, \"encode\": {\"update\": {\"height\": {\"field\": {\"signal\": null, \"datum\": null, \"group\": \"height\", \"parent\": null}}, \"width\": {\"field\": {\"signal\": null, \"datum\": null, \"group\": \"width\", \"parent\": null}}}}, \"marks\": [{\"type\": \"line\", \"name\": \"layer_0_marks\", \"from\": {\"data\": \"faceted_path_layer_0_main\"}, \"sort\": {\"field\": \"x\"}, \"encode\": {\"update\": {\"defined\": {\"signal\": \"isValid(datum[\\\"time\\\"]) && isFinite(+datum[\\\"time\\\"]) && isValid(datum[\\\"value\\\"]) && isFinite(+datum[\\\"value\\\"])\"}, \"x\": {\"field\": \"time\", \"scale\": \"x\"}, \"stroke\": {\"field\": \"variable\", \"scale\": \"color\"}, \"y\": {\"field\": \"value\", \"scale\": \"y\"}}}, \"style\": [\"line\"]}]}, {\"type\": \"group\", \"name\": \"layer_1_pathgroup\", \"from\": {\"facet\": {\"data\": \"source_1\", \"name\": \"faceted_path_layer_1_main\", \"groupby\": [\"variable\"]}}, \"encode\": {\"update\": {\"width\": {\"field\": {\"signal\": null, \"datum\": null, \"group\": \"width\", \"parent\": null}}, \"height\": {\"field\": {\"signal\": null, \"datum\": null, \"group\": \"height\", \"parent\": null}}}}, \"marks\": [{\"type\": \"line\", \"name\": \"layer_1_marks\", \"from\": {\"data\": \"faceted_path_layer_1_main\"}, \"sort\": {\"field\": \"x\"}, \"encode\": {\"update\": {\"stroke\": {\"field\": \"variable\", \"scale\": \"color\"}, \"x\": {\"field\": \"time\", \"scale\": \"x\"}, \"defined\": {\"signal\": \"isValid(datum[\\\"time\\\"]) && isFinite(+datum[\\\"time\\\"]) && isValid(datum[\\\"value\\\"]) && isFinite(+datum[\\\"value\\\"])\"}, \"y\": {\"field\": \"value\", \"scale\": \"y\"}}}, \"style\": [\"line\"]}]}, {\"type\": \"group\", \"name\": \"layer_2_pathgroup\", \"from\": {\"facet\": {\"data\": \"source_2\", \"name\": \"faceted_path_layer_2_main\", \"groupby\": [\"variable\"]}}, \"encode\": {\"update\": {\"width\": {\"field\": {\"signal\": null, \"datum\": null, \"group\": \"width\", \"parent\": null}}, \"height\": {\"field\": {\"signal\": null, \"datum\": null, \"group\": \"height\", \"parent\": null}}}}, \"marks\": [{\"type\": \"line\", \"name\": \"layer_2_marks\", \"from\": {\"data\": \"faceted_path_layer_2_main\"}, \"sort\": {\"field\": \"x\"}, \"encode\": {\"update\": {\"strokeDash\": {\"value\": [5, 2]}, \"y\": {\"field\": \"value\", \"scale\": \"y\"}, \"x\": {\"field\": \"time\", \"scale\": \"x\"}, \"stroke\": {\"field\": \"variable\", \"scale\": \"color\"}, \"defined\": {\"signal\": \"isValid(datum[\\\"time\\\"]) && isFinite(+datum[\\\"time\\\"]) && isValid(datum[\\\"value\\\"]) && isFinite(+datum[\\\"value\\\"])\"}, \"opacity\": {\"value\": 0.7}}}, \"style\": [\"line\"]}]}], \"scales\": [{\"name\": \"x\", \"type\": \"time\", \"domain\": {\"fields\": [{\"data\": \"source_0\", \"field\": \"time\"}, {\"data\": \"source_1\", \"field\": \"time\"}, {\"data\": \"source_2\", \"field\": \"time\"}]}, \"range\": [0, {\"signal\": \"width\"}]}, {\"name\": \"y\", \"type\": \"linear\", \"domain\": {\"fields\": [{\"data\": \"source_0\", \"field\": \"value\"}, {\"data\": \"source_1\", \"field\": \"value\"}, {\"data\": \"source_2\", \"field\": \"value\"}]}, \"range\": [{\"signal\": \"height\"}, 0], \"nice\": true, \"zero\": true}, {\"name\": \"color\", \"type\": \"ordinal\", \"domain\": {\"fields\": [{\"data\": \"source_0_color_domain_variable_0\", \"field\": \"variable\"}, {\"data\": \"source_1_color_domain_variable_1\", \"field\": \"variable\"}, {\"data\": \"source_2_color_domain_variable_2\", \"field\": \"variable\"}], \"sort\": true}, \"range\": \"category\"}], \"axes\": [{\"scale\": \"x\", \"gridScale\": \"y\", \"ticks\": false, \"orient\": \"bottom\", \"tickCount\": {\"signal\": \"ceil(width/40)\"}, \"labels\": false, \"grid\": true, \"maxExtent\": 0, \"aria\": false, \"zindex\": 0, \"minExtent\": 0, \"domain\": false}, {\"scale\": \"y\", \"maxExtent\": 0, \"tickCount\": {\"signal\": \"ceil(height/40)\"}, \"zindex\": 0, \"grid\": true, \"orient\": \"left\", \"gridScale\": \"x\", \"minExtent\": 0, \"domain\": false, \"ticks\": false, \"labels\": false, \"aria\": false}, {\"scale\": \"x\", \"orient\": \"bottom\", \"labelOverlap\": true, \"labelFlush\": true, \"grid\": false, \"title\": \"time\", \"tickCount\": {\"signal\": \"ceil(width/40)\"}, \"zindex\": 0}, {\"scale\": \"y\", \"labelOverlap\": true, \"tickCount\": {\"signal\": \"ceil(height/40)\"}, \"zindex\": 0, \"grid\": false, \"orient\": \"left\", \"title\": \"value\"}], \"width\": 600, \"background\": \"white\", \"style\": \"cell\", \"padding\": 5, \"height\": 300, \"legends\": [{\"stroke\": \"color\", \"symbolType\": \"stroke\", \"title\": \"variable\", \"encode\": {\"symbols\": {\"update\": {\"opacity\": {\"value\": 0.7}}}}}]}, {\"mode\": \"vega\"});\n",
       "</script>"
      ],
      "text/plain": [
       "alt.LayerChart(...)"
      ]
     },
     "execution_count": 16,
     "metadata": {},
     "output_type": "execute_result"
    }
   ],
   "source": [
    "(\n",
    "    on.Plot()\n",
    "    .add(on.marks.line, train[-96:].rename({\"generation solar\": \"Training set\"}))\n",
    "    .add(on.marks.line, pred.rename({\"generation solar\": \"Prediction\"}))\n",
    "    .add(on.marks.line, test[:48].rename({\"generation solar\": \"Truth\"}), type=\"dashed\")\n",
    "    .properties(width=600, height=300)\n",
    "    .show()\n",
    ")"
   ]
  },
  {
   "cell_type": "markdown",
   "id": "dc965c95-1b5c-43e4-9c4b-57ff73c275c1",
   "metadata": {
    "papermill": {
     "duration": 0.011266,
     "end_time": "2025-01-06T14:55:06.920028",
     "exception": false,
     "start_time": "2025-01-06T14:55:06.908762",
     "status": "completed"
    },
    "tags": []
   },
   "source": [
    "## Generic Detector"
   ]
  },
  {
   "cell_type": "code",
   "execution_count": 17,
   "id": "9751b373-97d3-45e9-9969-2b4ba224f815",
   "metadata": {
    "execution": {
     "iopub.execute_input": "2025-01-06T14:55:06.944400Z",
     "iopub.status.busy": "2025-01-06T14:55:06.943014Z",
     "iopub.status.idle": "2025-01-06T14:55:06.950757Z",
     "shell.execute_reply": "2025-01-06T14:55:06.948864Z"
    },
    "papermill": {
     "duration": 0.022549,
     "end_time": "2025-01-06T14:55:06.953310",
     "exception": false,
     "start_time": "2025-01-06T14:55:06.930761",
     "status": "completed"
    },
    "tags": []
   },
   "outputs": [],
   "source": [
    "model = on.context.common.GenericDetector()"
   ]
  },
  {
   "cell_type": "code",
   "execution_count": 18,
   "id": "89be0c48-0ab6-42b4-ab64-611b95d2a76f",
   "metadata": {
    "execution": {
     "iopub.execute_input": "2025-01-06T14:55:06.976981Z",
     "iopub.status.busy": "2025-01-06T14:55:06.976465Z",
     "iopub.status.idle": "2025-01-06T14:55:10.229866Z",
     "shell.execute_reply": "2025-01-06T14:55:10.227977Z"
    },
    "papermill": {
     "duration": 3.267734,
     "end_time": "2025-01-06T14:55:10.232234",
     "exception": false,
     "start_time": "2025-01-06T14:55:06.964500",
     "status": "completed"
    },
    "tags": []
   },
   "outputs": [
    {
     "data": {
      "text/plain": [
       "<ontime.context.common.generic_detector.GenericDetector at 0x7f775011e980>"
      ]
     },
     "execution_count": 18,
     "metadata": {},
     "output_type": "execute_result"
    }
   ],
   "source": [
    "model.fit(train)"
   ]
  },
  {
   "cell_type": "markdown",
   "id": "06be738b-8bfd-4c95-8dec-ed52803e5ff9",
   "metadata": {
    "papermill": {
     "duration": 0.010556,
     "end_time": "2025-01-06T14:55:10.253171",
     "exception": false,
     "start_time": "2025-01-06T14:55:10.242615",
     "status": "completed"
    },
    "tags": []
   },
   "source": [
    "Does the current signal has problem ? "
   ]
  },
  {
   "cell_type": "code",
   "execution_count": 19,
   "id": "4650f34a-9cdb-4ea6-9dfe-2c66109b2627",
   "metadata": {
    "execution": {
     "iopub.execute_input": "2025-01-06T14:55:10.276112Z",
     "iopub.status.busy": "2025-01-06T14:55:10.275619Z",
     "iopub.status.idle": "2025-01-06T14:55:10.303002Z",
     "shell.execute_reply": "2025-01-06T14:55:10.301094Z"
    },
    "papermill": {
     "duration": 0.042027,
     "end_time": "2025-01-06T14:55:10.305378",
     "exception": false,
     "start_time": "2025-01-06T14:55:10.263351",
     "status": "completed"
    },
    "tags": []
   },
   "outputs": [],
   "source": [
    "detected_test = model.detect(test)"
   ]
  },
  {
   "cell_type": "code",
   "execution_count": 20,
   "id": "49e09caa-37f1-4201-b79a-4d1d65d86a8c",
   "metadata": {
    "execution": {
     "iopub.execute_input": "2025-01-06T14:55:10.329853Z",
     "iopub.status.busy": "2025-01-06T14:55:10.329086Z",
     "iopub.status.idle": "2025-01-06T14:55:10.484409Z",
     "shell.execute_reply": "2025-01-06T14:55:10.480765Z"
    },
    "papermill": {
     "duration": 0.171051,
     "end_time": "2025-01-06T14:55:10.486803",
     "exception": false,
     "start_time": "2025-01-06T14:55:10.315752",
     "status": "completed"
    },
    "tags": []
   },
   "outputs": [
    {
     "data": {
      "text/html": [
       "\n",
       "<style>\n",
       "  #altair-viz-be0361d2933444f2a710b494e2407b8b.vega-embed {\n",
       "    width: 100%;\n",
       "    display: flex;\n",
       "  }\n",
       "\n",
       "  #altair-viz-be0361d2933444f2a710b494e2407b8b.vega-embed details,\n",
       "  #altair-viz-be0361d2933444f2a710b494e2407b8b.vega-embed details summary {\n",
       "    position: relative;\n",
       "  }\n",
       "</style>\n",
       "<div id=\"altair-viz-be0361d2933444f2a710b494e2407b8b\"></div>\n",
       "<script type=\"text/javascript\">\n",
       "  var VEGA_DEBUG = (typeof VEGA_DEBUG == \"undefined\") ? {} : VEGA_DEBUG;\n",
       "  (function(spec, embedOpt){\n",
       "    let outputDiv = document.currentScript.previousElementSibling;\n",
       "    if (outputDiv.id !== \"altair-viz-be0361d2933444f2a710b494e2407b8b\") {\n",
       "      outputDiv = document.getElementById(\"altair-viz-be0361d2933444f2a710b494e2407b8b\");\n",
       "    }\n",
       "\n",
       "    const paths = {\n",
       "      \"vega\": \"https://cdn.jsdelivr.net/npm/vega@5?noext\",\n",
       "      \"vega-lib\": \"https://cdn.jsdelivr.net/npm/vega-lib?noext\",\n",
       "      \"vega-lite\": \"https://cdn.jsdelivr.net/npm/vega-lite@5.20.1?noext\",\n",
       "      \"vega-embed\": \"https://cdn.jsdelivr.net/npm/vega-embed@6?noext\",\n",
       "    };\n",
       "\n",
       "    function maybeLoadScript(lib, version) {\n",
       "      var key = `${lib.replace(\"-\", \"\")}_version`;\n",
       "      return (VEGA_DEBUG[key] == version) ?\n",
       "        Promise.resolve(paths[lib]) :\n",
       "        new Promise(function(resolve, reject) {\n",
       "          var s = document.createElement('script');\n",
       "          document.getElementsByTagName(\"head\")[0].appendChild(s);\n",
       "          s.async = true;\n",
       "          s.onload = () => {\n",
       "            VEGA_DEBUG[key] = version;\n",
       "            return resolve(paths[lib]);\n",
       "          };\n",
       "          s.onerror = () => reject(`Error loading script: ${paths[lib]}`);\n",
       "          s.src = paths[lib];\n",
       "        });\n",
       "    }\n",
       "\n",
       "    function showError(err) {\n",
       "      outputDiv.innerHTML = `<div class=\"error\" style=\"color:red;\">${err}</div>`;\n",
       "      throw err;\n",
       "    }\n",
       "\n",
       "    function displayChart(vegaEmbed) {\n",
       "      vegaEmbed(outputDiv, spec, embedOpt)\n",
       "        .catch(err => showError(`Javascript Error: ${err.message}<br>This usually means there's a typo in your chart specification. See the javascript console for the full traceback.`));\n",
       "    }\n",
       "\n",
       "    if(typeof define === \"function\" && define.amd) {\n",
       "      requirejs.config({paths});\n",
       "      let deps = [\"vega-embed\"];\n",
       "      require(deps, displayChart, err => showError(`Error loading script: ${err.message}`));\n",
       "    } else {\n",
       "      maybeLoadScript(\"vega\", \"5\")\n",
       "        .then(() => maybeLoadScript(\"vega-lite\", \"5.20.1\"))\n",
       "        .then(() => maybeLoadScript(\"vega-embed\", \"6\"))\n",
       "        .catch(showError)\n",
       "        .then(() => displayChart(vegaEmbed));\n",
       "    }\n",
       "  })({\"$schema\": \"https://vega.github.io/schema/vega/v5.json\", \"data\": [{\"name\": \"source_0\", \"values\": [{\"time\": \"2015-09-13T13:00:00.000\", \"variable\": \"generation solar\", \"value\": 4599.0}, {\"time\": \"2015-09-13T14:00:00.000\", \"variable\": \"generation solar\", \"value\": 4261.0}, {\"time\": \"2015-09-13T15:00:00.000\", \"variable\": \"generation solar\", \"value\": 3805.0}, {\"time\": \"2015-09-13T16:00:00.000\", \"variable\": \"generation solar\", \"value\": 3118.0}, {\"time\": \"2015-09-13T17:00:00.000\", \"variable\": \"generation solar\", \"value\": 1844.0}, {\"time\": \"2015-09-13T18:00:00.000\", \"variable\": \"generation solar\", \"value\": 747.0}, {\"time\": \"2015-09-13T19:00:00.000\", \"variable\": \"generation solar\", \"value\": 557.0}, {\"time\": \"2015-09-13T20:00:00.000\", \"variable\": \"generation solar\", \"value\": 436.0}, {\"time\": \"2015-09-13T21:00:00.000\", \"variable\": \"generation solar\", \"value\": 327.0}, {\"time\": \"2015-09-13T22:00:00.000\", \"variable\": \"generation solar\", \"value\": 300.0}, {\"time\": \"2015-09-13T23:00:00.000\", \"variable\": \"generation solar\", \"value\": 240.0}, {\"time\": \"2015-09-14T00:00:00.000\", \"variable\": \"generation solar\", \"value\": 138.0}, {\"time\": \"2015-09-14T01:00:00.000\", \"variable\": \"generation solar\", \"value\": 69.0}, {\"time\": \"2015-09-14T02:00:00.000\", \"variable\": \"generation solar\", \"value\": 55.0}, {\"time\": \"2015-09-14T03:00:00.000\", \"variable\": \"generation solar\", \"value\": 48.0}, {\"time\": \"2015-09-14T04:00:00.000\", \"variable\": \"generation solar\", \"value\": 52.0}, {\"time\": \"2015-09-14T05:00:00.000\", \"variable\": \"generation solar\", \"value\": 51.0}, {\"time\": \"2015-09-14T06:00:00.000\", \"variable\": \"generation solar\", \"value\": 170.0}, {\"time\": \"2015-09-14T07:00:00.000\", \"variable\": \"generation solar\", \"value\": 803.0}, {\"time\": \"2015-09-14T08:00:00.000\", \"variable\": \"generation solar\", \"value\": 1816.0}, {\"time\": \"2015-09-14T09:00:00.000\", \"variable\": \"generation solar\", \"value\": 2619.0}, {\"time\": \"2015-09-14T10:00:00.000\", \"variable\": \"generation solar\", \"value\": 3354.0}, {\"time\": \"2015-09-14T11:00:00.000\", \"variable\": \"generation solar\", \"value\": 3743.0}, {\"time\": \"2015-09-14T12:00:00.000\", \"variable\": \"generation solar\", \"value\": 4164.0}, {\"time\": \"2015-09-14T13:00:00.000\", \"variable\": \"generation solar\", \"value\": 4473.0}, {\"time\": \"2015-09-14T14:00:00.000\", \"variable\": \"generation solar\", \"value\": 4514.0}, {\"time\": \"2015-09-14T15:00:00.000\", \"variable\": \"generation solar\", \"value\": 4171.0}, {\"time\": \"2015-09-14T16:00:00.000\", \"variable\": \"generation solar\", \"value\": 3403.0}, {\"time\": \"2015-09-14T17:00:00.000\", \"variable\": \"generation solar\", \"value\": 1872.0}, {\"time\": \"2015-09-14T18:00:00.000\", \"variable\": \"generation solar\", \"value\": 743.0}, {\"time\": \"2015-09-14T19:00:00.000\", \"variable\": \"generation solar\", \"value\": 421.0}, {\"time\": \"2015-09-14T20:00:00.000\", \"variable\": \"generation solar\", \"value\": 296.0}, {\"time\": \"2015-09-14T21:00:00.000\", \"variable\": \"generation solar\", \"value\": 229.0}, {\"time\": \"2015-09-14T22:00:00.000\", \"variable\": \"generation solar\", \"value\": 167.0}, {\"time\": \"2015-09-14T23:00:00.000\", \"variable\": \"generation solar\", \"value\": 128.0}, {\"time\": \"2015-09-15T00:00:00.000\", \"variable\": \"generation solar\", \"value\": 96.0}, {\"time\": \"2015-09-15T01:00:00.000\", \"variable\": \"generation solar\", \"value\": 83.0}, {\"time\": \"2015-09-15T02:00:00.000\", \"variable\": \"generation solar\", \"value\": 66.0}, {\"time\": \"2015-09-15T03:00:00.000\", \"variable\": \"generation solar\", \"value\": 52.0}, {\"time\": \"2015-09-15T04:00:00.000\", \"variable\": \"generation solar\", \"value\": 51.0}, {\"time\": \"2015-09-15T05:00:00.000\", \"variable\": \"generation solar\", \"value\": 49.0}, {\"time\": \"2015-09-15T06:00:00.000\", \"variable\": \"generation solar\", \"value\": 225.0}, {\"time\": \"2015-09-15T07:00:00.000\", \"variable\": \"generation solar\", \"value\": 1052.0}, {\"time\": \"2015-09-15T08:00:00.000\", \"variable\": \"generation solar\", \"value\": 2569.0}, {\"time\": \"2015-09-15T09:00:00.000\", \"variable\": \"generation solar\", \"value\": 3237.0}, {\"time\": \"2015-09-15T10:00:00.000\", \"variable\": \"generation solar\", \"value\": 3401.0}, {\"time\": \"2015-09-15T11:00:00.000\", \"variable\": \"generation solar\", \"value\": 3498.0}, {\"time\": \"2015-09-15T12:00:00.000\", \"variable\": \"generation solar\", \"value\": 3149.0}, {\"time\": \"2015-09-15T13:00:00.000\", \"variable\": \"generation solar\", \"value\": 2914.0}, {\"time\": \"2015-09-15T14:00:00.000\", \"variable\": \"generation solar\", \"value\": 2412.0}, {\"time\": \"2015-09-15T15:00:00.000\", \"variable\": \"generation solar\", \"value\": 1640.0}, {\"time\": \"2015-09-15T16:00:00.000\", \"variable\": \"generation solar\", \"value\": 1044.0}, {\"time\": \"2015-09-15T17:00:00.000\", \"variable\": \"generation solar\", \"value\": 529.0}, {\"time\": \"2015-09-15T18:00:00.000\", \"variable\": \"generation solar\", \"value\": 281.0}, {\"time\": \"2015-09-15T19:00:00.000\", \"variable\": \"generation solar\", \"value\": 224.0}, {\"time\": \"2015-09-15T20:00:00.000\", \"variable\": \"generation solar\", \"value\": 220.0}, {\"time\": \"2015-09-15T21:00:00.000\", \"variable\": \"generation solar\", \"value\": 116.0}, {\"time\": \"2015-09-15T22:00:00.000\", \"variable\": \"generation solar\", \"value\": 77.0}, {\"time\": \"2015-09-15T23:00:00.000\", \"variable\": \"generation solar\", \"value\": 44.0}, {\"time\": \"2015-09-16T00:00:00.000\", \"variable\": \"generation solar\", \"value\": 41.0}, {\"time\": \"2015-09-16T01:00:00.000\", \"variable\": \"generation solar\", \"value\": 42.0}, {\"time\": \"2015-09-16T02:00:00.000\", \"variable\": \"generation solar\", \"value\": 42.0}, {\"time\": \"2015-09-16T03:00:00.000\", \"variable\": \"generation solar\", \"value\": 37.0}, {\"time\": \"2015-09-16T04:00:00.000\", \"variable\": \"generation solar\", \"value\": 22.0}, {\"time\": \"2015-09-16T05:00:00.000\", \"variable\": \"generation solar\", \"value\": 23.0}, {\"time\": \"2015-09-16T06:00:00.000\", \"variable\": \"generation solar\", \"value\": 171.0}, {\"time\": \"2015-09-16T07:00:00.000\", \"variable\": \"generation solar\", \"value\": 824.0}, {\"time\": \"2015-09-16T08:00:00.000\", \"variable\": \"generation solar\", \"value\": 1512.0}, {\"time\": \"2015-09-16T09:00:00.000\", \"variable\": \"generation solar\", \"value\": 1883.0}, {\"time\": \"2015-09-16T10:00:00.000\", \"variable\": \"generation solar\", \"value\": 2155.0}, {\"time\": \"2015-09-16T11:00:00.000\", \"variable\": \"generation solar\", \"value\": 2337.0}, {\"time\": \"2015-09-16T12:00:00.000\", \"variable\": \"generation solar\", \"value\": 2402.0}], \"transform\": [{\"type\": \"formula\", \"expr\": \"toDate(datum['time'])\", \"as\": \"time\"}]}, {\"name\": \"source_1\", \"values\": [{\"time\": \"2015-09-13T13:00:00.000\", \"value\": 4599.0, \"variable\": \"Anomalies\"}, {\"time\": \"2015-09-13T14:00:00.000\", \"value\": 4261.0, \"variable\": \"Anomalies\"}, {\"time\": \"2015-09-13T15:00:00.000\", \"value\": 3805.0, \"variable\": \"Anomalies\"}, {\"time\": \"2015-09-14T01:00:00.000\", \"value\": 69.0, \"variable\": \"Anomalies\"}, {\"time\": \"2015-09-14T02:00:00.000\", \"value\": 55.0, \"variable\": \"Anomalies\"}, {\"time\": \"2015-09-14T03:00:00.000\", \"value\": 48.0, \"variable\": \"Anomalies\"}, {\"time\": \"2015-09-14T04:00:00.000\", \"value\": 52.0, \"variable\": \"Anomalies\"}, {\"time\": \"2015-09-14T05:00:00.000\", \"value\": 51.0, \"variable\": \"Anomalies\"}, {\"time\": \"2015-09-14T11:00:00.000\", \"value\": 3743.0, \"variable\": \"Anomalies\"}, {\"time\": \"2015-09-14T12:00:00.000\", \"value\": 4164.0, \"variable\": \"Anomalies\"}, {\"time\": \"2015-09-14T13:00:00.000\", \"value\": 4473.0, \"variable\": \"Anomalies\"}, {\"time\": \"2015-09-14T14:00:00.000\", \"value\": 4514.0, \"variable\": \"Anomalies\"}, {\"time\": \"2015-09-14T15:00:00.000\", \"value\": 4171.0, \"variable\": \"Anomalies\"}, {\"time\": \"2015-09-15T02:00:00.000\", \"value\": 66.0, \"variable\": \"Anomalies\"}, {\"time\": \"2015-09-15T03:00:00.000\", \"value\": 52.0, \"variable\": \"Anomalies\"}, {\"time\": \"2015-09-15T04:00:00.000\", \"value\": 51.0, \"variable\": \"Anomalies\"}, {\"time\": \"2015-09-15T05:00:00.000\", \"value\": 49.0, \"variable\": \"Anomalies\"}, {\"time\": \"2015-09-15T23:00:00.000\", \"value\": 44.0, \"variable\": \"Anomalies\"}, {\"time\": \"2015-09-16T00:00:00.000\", \"value\": 41.0, \"variable\": \"Anomalies\"}, {\"time\": \"2015-09-16T01:00:00.000\", \"value\": 42.0, \"variable\": \"Anomalies\"}, {\"time\": \"2015-09-16T02:00:00.000\", \"value\": 42.0, \"variable\": \"Anomalies\"}, {\"time\": \"2015-09-16T03:00:00.000\", \"value\": 37.0, \"variable\": \"Anomalies\"}, {\"time\": \"2015-09-16T04:00:00.000\", \"value\": 22.0, \"variable\": \"Anomalies\"}, {\"time\": \"2015-09-16T05:00:00.000\", \"value\": 23.0, \"variable\": \"Anomalies\"}], \"transform\": [{\"type\": \"formula\", \"expr\": \"toDate(datum['time'])\", \"as\": \"time\"}]}, {\"name\": \"source_0_color_domain_variable_0\", \"values\": [{\"variable\": \"generation solar\"}]}, {\"name\": \"source_1_color_domain_variable_1\", \"values\": [{\"variable\": \"Anomalies\"}]}], \"marks\": [{\"type\": \"group\", \"name\": \"layer_0_pathgroup\", \"from\": {\"facet\": {\"data\": \"source_0\", \"name\": \"faceted_path_layer_0_main\", \"groupby\": [\"variable\"]}}, \"encode\": {\"update\": {\"width\": {\"field\": {\"signal\": null, \"datum\": null, \"group\": \"width\", \"parent\": null}}, \"height\": {\"field\": {\"signal\": null, \"datum\": null, \"group\": \"height\", \"parent\": null}}}}, \"marks\": [{\"type\": \"line\", \"name\": \"layer_0_marks\", \"from\": {\"data\": \"faceted_path_layer_0_main\"}, \"sort\": {\"field\": \"x\"}, \"encode\": {\"update\": {\"y\": {\"field\": \"value\", \"scale\": \"y\"}, \"x\": {\"field\": \"time\", \"scale\": \"x\"}, \"stroke\": {\"field\": \"variable\", \"scale\": \"color\"}, \"defined\": {\"signal\": \"isValid(datum[\\\"time\\\"]) && isFinite(+datum[\\\"time\\\"]) && isValid(datum[\\\"value\\\"]) && isFinite(+datum[\\\"value\\\"])\"}}}, \"style\": [\"line\"]}]}, {\"type\": \"symbol\", \"name\": \"layer_1_marks\", \"from\": {\"data\": \"source_1\"}, \"encode\": {\"update\": {\"opacity\": {\"value\": 0.7}, \"fill\": {\"field\": \"variable\", \"scale\": \"color\"}, \"shape\": {\"value\": \"circle\"}, \"y\": {\"field\": \"value\", \"scale\": \"y\"}, \"x\": {\"field\": \"time\", \"scale\": \"x\"}}}, \"style\": [\"circle\"]}], \"scales\": [{\"name\": \"x\", \"type\": \"time\", \"domain\": {\"fields\": [{\"data\": \"source_0\", \"field\": \"time\"}, {\"data\": \"source_1\", \"field\": \"time\"}]}, \"range\": [0, {\"signal\": \"width\"}]}, {\"name\": \"y\", \"type\": \"linear\", \"domain\": {\"fields\": [{\"data\": \"source_0\", \"field\": \"value\"}, {\"data\": \"source_1\", \"field\": \"value\"}]}, \"range\": [{\"signal\": \"height\"}, 0], \"zero\": true, \"nice\": true}, {\"name\": \"color\", \"type\": \"ordinal\", \"domain\": {\"fields\": [{\"data\": \"source_0_color_domain_variable_0\", \"field\": \"variable\"}, {\"data\": \"source_1_color_domain_variable_1\", \"field\": \"variable\"}], \"sort\": true}, \"range\": \"category\"}], \"axes\": [{\"scale\": \"x\", \"zindex\": 0, \"aria\": false, \"labels\": false, \"gridScale\": \"y\", \"ticks\": false, \"grid\": true, \"tickCount\": {\"signal\": \"ceil(width/40)\"}, \"maxExtent\": 0, \"minExtent\": 0, \"domain\": false, \"orient\": \"bottom\"}, {\"scale\": \"y\", \"minExtent\": 0, \"grid\": true, \"tickCount\": {\"signal\": \"ceil(height/40)\"}, \"maxExtent\": 0, \"orient\": \"left\", \"gridScale\": \"x\", \"domain\": false, \"aria\": false, \"labels\": false, \"ticks\": false, \"zindex\": 0}, {\"scale\": \"x\", \"title\": \"time\", \"orient\": \"bottom\", \"zindex\": 0, \"grid\": false, \"labelOverlap\": true, \"labelFlush\": true, \"tickCount\": {\"signal\": \"ceil(width/40)\"}}, {\"scale\": \"y\", \"title\": \"value\", \"labelOverlap\": true, \"tickCount\": {\"signal\": \"ceil(height/40)\"}, \"grid\": false, \"zindex\": 0, \"orient\": \"left\"}], \"legends\": [{\"stroke\": \"color\", \"symbolType\": \"circle\", \"title\": \"variable\", \"fill\": \"color\", \"encode\": {\"symbols\": {\"update\": {\"opacity\": {\"value\": 0.7}}}}}], \"background\": \"white\", \"height\": 300, \"padding\": 5, \"style\": \"cell\", \"width\": 600}, {\"mode\": \"vega\"});\n",
       "</script>"
      ],
      "text/plain": [
       "alt.LayerChart(...)"
      ]
     },
     "execution_count": 20,
     "metadata": {},
     "output_type": "execute_result"
    }
   ],
   "source": [
    "(\n",
    "    on.Plot(test[:72])\n",
    "    .add(on.marks.line)\n",
    "    .add(on.marks.mark, data=detected_test[:72].rename({\"generation solar\": \"Anomalies\"}), type=\"dot\")\n",
    "    .properties(width=600, height=300)\n",
    "    .show()\n",
    ")"
   ]
  },
  {
   "cell_type": "markdown",
   "id": "2af5c7ba-1617-46f0-9551-67cc51ac1884",
   "metadata": {
    "papermill": {
     "duration": 0.012013,
     "end_time": "2025-01-06T14:55:10.510372",
     "exception": false,
     "start_time": "2025-01-06T14:55:10.498359",
     "status": "completed"
    },
    "tags": []
   },
   "source": [
    "What if we want to have an idea about the future problems ?"
   ]
  },
  {
   "cell_type": "code",
   "execution_count": 21,
   "id": "866533ed-bdab-4b29-bc91-50ed0043e84a",
   "metadata": {
    "execution": {
     "iopub.execute_input": "2025-01-06T14:55:10.535003Z",
     "iopub.status.busy": "2025-01-06T14:55:10.534354Z",
     "iopub.status.idle": "2025-01-06T14:55:10.620752Z",
     "shell.execute_reply": "2025-01-06T14:55:10.619203Z"
    },
    "papermill": {
     "duration": 0.101827,
     "end_time": "2025-01-06T14:55:10.623227",
     "exception": false,
     "start_time": "2025-01-06T14:55:10.521400",
     "status": "completed"
    },
    "tags": []
   },
   "outputs": [],
   "source": [
    "predetected = model.predetect(72)"
   ]
  },
  {
   "cell_type": "code",
   "execution_count": 22,
   "id": "44bff6ea-f249-48b6-816f-c49e0d264520",
   "metadata": {
    "execution": {
     "iopub.execute_input": "2025-01-06T14:55:10.650248Z",
     "iopub.status.busy": "2025-01-06T14:55:10.649240Z",
     "iopub.status.idle": "2025-01-06T14:55:10.802101Z",
     "shell.execute_reply": "2025-01-06T14:55:10.800190Z"
    },
    "papermill": {
     "duration": 0.167982,
     "end_time": "2025-01-06T14:55:10.804710",
     "exception": false,
     "start_time": "2025-01-06T14:55:10.636728",
     "status": "completed"
    },
    "tags": []
   },
   "outputs": [
    {
     "data": {
      "text/html": [
       "\n",
       "<style>\n",
       "  #altair-viz-dd95fa0f304f4baab1da85e25fd2c973.vega-embed {\n",
       "    width: 100%;\n",
       "    display: flex;\n",
       "  }\n",
       "\n",
       "  #altair-viz-dd95fa0f304f4baab1da85e25fd2c973.vega-embed details,\n",
       "  #altair-viz-dd95fa0f304f4baab1da85e25fd2c973.vega-embed details summary {\n",
       "    position: relative;\n",
       "  }\n",
       "</style>\n",
       "<div id=\"altair-viz-dd95fa0f304f4baab1da85e25fd2c973\"></div>\n",
       "<script type=\"text/javascript\">\n",
       "  var VEGA_DEBUG = (typeof VEGA_DEBUG == \"undefined\") ? {} : VEGA_DEBUG;\n",
       "  (function(spec, embedOpt){\n",
       "    let outputDiv = document.currentScript.previousElementSibling;\n",
       "    if (outputDiv.id !== \"altair-viz-dd95fa0f304f4baab1da85e25fd2c973\") {\n",
       "      outputDiv = document.getElementById(\"altair-viz-dd95fa0f304f4baab1da85e25fd2c973\");\n",
       "    }\n",
       "\n",
       "    const paths = {\n",
       "      \"vega\": \"https://cdn.jsdelivr.net/npm/vega@5?noext\",\n",
       "      \"vega-lib\": \"https://cdn.jsdelivr.net/npm/vega-lib?noext\",\n",
       "      \"vega-lite\": \"https://cdn.jsdelivr.net/npm/vega-lite@5.20.1?noext\",\n",
       "      \"vega-embed\": \"https://cdn.jsdelivr.net/npm/vega-embed@6?noext\",\n",
       "    };\n",
       "\n",
       "    function maybeLoadScript(lib, version) {\n",
       "      var key = `${lib.replace(\"-\", \"\")}_version`;\n",
       "      return (VEGA_DEBUG[key] == version) ?\n",
       "        Promise.resolve(paths[lib]) :\n",
       "        new Promise(function(resolve, reject) {\n",
       "          var s = document.createElement('script');\n",
       "          document.getElementsByTagName(\"head\")[0].appendChild(s);\n",
       "          s.async = true;\n",
       "          s.onload = () => {\n",
       "            VEGA_DEBUG[key] = version;\n",
       "            return resolve(paths[lib]);\n",
       "          };\n",
       "          s.onerror = () => reject(`Error loading script: ${paths[lib]}`);\n",
       "          s.src = paths[lib];\n",
       "        });\n",
       "    }\n",
       "\n",
       "    function showError(err) {\n",
       "      outputDiv.innerHTML = `<div class=\"error\" style=\"color:red;\">${err}</div>`;\n",
       "      throw err;\n",
       "    }\n",
       "\n",
       "    function displayChart(vegaEmbed) {\n",
       "      vegaEmbed(outputDiv, spec, embedOpt)\n",
       "        .catch(err => showError(`Javascript Error: ${err.message}<br>This usually means there's a typo in your chart specification. See the javascript console for the full traceback.`));\n",
       "    }\n",
       "\n",
       "    if(typeof define === \"function\" && define.amd) {\n",
       "      requirejs.config({paths});\n",
       "      let deps = [\"vega-embed\"];\n",
       "      require(deps, displayChart, err => showError(`Error loading script: ${err.message}`));\n",
       "    } else {\n",
       "      maybeLoadScript(\"vega\", \"5\")\n",
       "        .then(() => maybeLoadScript(\"vega-lite\", \"5.20.1\"))\n",
       "        .then(() => maybeLoadScript(\"vega-embed\", \"6\"))\n",
       "        .catch(showError)\n",
       "        .then(() => displayChart(vegaEmbed));\n",
       "    }\n",
       "  })({\"$schema\": \"https://vega.github.io/schema/vega/v5.json\", \"data\": [{\"name\": \"source_0\", \"values\": [{\"time\": \"2015-09-13T13:00:00.000\", \"variable\": \"generation solar\", \"value\": 4599.0}, {\"time\": \"2015-09-13T14:00:00.000\", \"variable\": \"generation solar\", \"value\": 4261.0}, {\"time\": \"2015-09-13T15:00:00.000\", \"variable\": \"generation solar\", \"value\": 3805.0}, {\"time\": \"2015-09-13T16:00:00.000\", \"variable\": \"generation solar\", \"value\": 3118.0}, {\"time\": \"2015-09-13T17:00:00.000\", \"variable\": \"generation solar\", \"value\": 1844.0}, {\"time\": \"2015-09-13T18:00:00.000\", \"variable\": \"generation solar\", \"value\": 747.0}, {\"time\": \"2015-09-13T19:00:00.000\", \"variable\": \"generation solar\", \"value\": 557.0}, {\"time\": \"2015-09-13T20:00:00.000\", \"variable\": \"generation solar\", \"value\": 436.0}, {\"time\": \"2015-09-13T21:00:00.000\", \"variable\": \"generation solar\", \"value\": 327.0}, {\"time\": \"2015-09-13T22:00:00.000\", \"variable\": \"generation solar\", \"value\": 300.0}, {\"time\": \"2015-09-13T23:00:00.000\", \"variable\": \"generation solar\", \"value\": 240.0}, {\"time\": \"2015-09-14T00:00:00.000\", \"variable\": \"generation solar\", \"value\": 138.0}, {\"time\": \"2015-09-14T01:00:00.000\", \"variable\": \"generation solar\", \"value\": 69.0}, {\"time\": \"2015-09-14T02:00:00.000\", \"variable\": \"generation solar\", \"value\": 55.0}, {\"time\": \"2015-09-14T03:00:00.000\", \"variable\": \"generation solar\", \"value\": 48.0}, {\"time\": \"2015-09-14T04:00:00.000\", \"variable\": \"generation solar\", \"value\": 52.0}, {\"time\": \"2015-09-14T05:00:00.000\", \"variable\": \"generation solar\", \"value\": 51.0}, {\"time\": \"2015-09-14T06:00:00.000\", \"variable\": \"generation solar\", \"value\": 170.0}, {\"time\": \"2015-09-14T07:00:00.000\", \"variable\": \"generation solar\", \"value\": 803.0}, {\"time\": \"2015-09-14T08:00:00.000\", \"variable\": \"generation solar\", \"value\": 1816.0}, {\"time\": \"2015-09-14T09:00:00.000\", \"variable\": \"generation solar\", \"value\": 2619.0}, {\"time\": \"2015-09-14T10:00:00.000\", \"variable\": \"generation solar\", \"value\": 3354.0}, {\"time\": \"2015-09-14T11:00:00.000\", \"variable\": \"generation solar\", \"value\": 3743.0}, {\"time\": \"2015-09-14T12:00:00.000\", \"variable\": \"generation solar\", \"value\": 4164.0}, {\"time\": \"2015-09-14T13:00:00.000\", \"variable\": \"generation solar\", \"value\": 4473.0}, {\"time\": \"2015-09-14T14:00:00.000\", \"variable\": \"generation solar\", \"value\": 4514.0}, {\"time\": \"2015-09-14T15:00:00.000\", \"variable\": \"generation solar\", \"value\": 4171.0}, {\"time\": \"2015-09-14T16:00:00.000\", \"variable\": \"generation solar\", \"value\": 3403.0}, {\"time\": \"2015-09-14T17:00:00.000\", \"variable\": \"generation solar\", \"value\": 1872.0}, {\"time\": \"2015-09-14T18:00:00.000\", \"variable\": \"generation solar\", \"value\": 743.0}, {\"time\": \"2015-09-14T19:00:00.000\", \"variable\": \"generation solar\", \"value\": 421.0}, {\"time\": \"2015-09-14T20:00:00.000\", \"variable\": \"generation solar\", \"value\": 296.0}, {\"time\": \"2015-09-14T21:00:00.000\", \"variable\": \"generation solar\", \"value\": 229.0}, {\"time\": \"2015-09-14T22:00:00.000\", \"variable\": \"generation solar\", \"value\": 167.0}, {\"time\": \"2015-09-14T23:00:00.000\", \"variable\": \"generation solar\", \"value\": 128.0}, {\"time\": \"2015-09-15T00:00:00.000\", \"variable\": \"generation solar\", \"value\": 96.0}, {\"time\": \"2015-09-15T01:00:00.000\", \"variable\": \"generation solar\", \"value\": 83.0}, {\"time\": \"2015-09-15T02:00:00.000\", \"variable\": \"generation solar\", \"value\": 66.0}, {\"time\": \"2015-09-15T03:00:00.000\", \"variable\": \"generation solar\", \"value\": 52.0}, {\"time\": \"2015-09-15T04:00:00.000\", \"variable\": \"generation solar\", \"value\": 51.0}, {\"time\": \"2015-09-15T05:00:00.000\", \"variable\": \"generation solar\", \"value\": 49.0}, {\"time\": \"2015-09-15T06:00:00.000\", \"variable\": \"generation solar\", \"value\": 225.0}, {\"time\": \"2015-09-15T07:00:00.000\", \"variable\": \"generation solar\", \"value\": 1052.0}, {\"time\": \"2015-09-15T08:00:00.000\", \"variable\": \"generation solar\", \"value\": 2569.0}, {\"time\": \"2015-09-15T09:00:00.000\", \"variable\": \"generation solar\", \"value\": 3237.0}, {\"time\": \"2015-09-15T10:00:00.000\", \"variable\": \"generation solar\", \"value\": 3401.0}, {\"time\": \"2015-09-15T11:00:00.000\", \"variable\": \"generation solar\", \"value\": 3498.0}, {\"time\": \"2015-09-15T12:00:00.000\", \"variable\": \"generation solar\", \"value\": 3149.0}, {\"time\": \"2015-09-15T13:00:00.000\", \"variable\": \"generation solar\", \"value\": 2914.0}, {\"time\": \"2015-09-15T14:00:00.000\", \"variable\": \"generation solar\", \"value\": 2412.0}, {\"time\": \"2015-09-15T15:00:00.000\", \"variable\": \"generation solar\", \"value\": 1640.0}, {\"time\": \"2015-09-15T16:00:00.000\", \"variable\": \"generation solar\", \"value\": 1044.0}, {\"time\": \"2015-09-15T17:00:00.000\", \"variable\": \"generation solar\", \"value\": 529.0}, {\"time\": \"2015-09-15T18:00:00.000\", \"variable\": \"generation solar\", \"value\": 281.0}, {\"time\": \"2015-09-15T19:00:00.000\", \"variable\": \"generation solar\", \"value\": 224.0}, {\"time\": \"2015-09-15T20:00:00.000\", \"variable\": \"generation solar\", \"value\": 220.0}, {\"time\": \"2015-09-15T21:00:00.000\", \"variable\": \"generation solar\", \"value\": 116.0}, {\"time\": \"2015-09-15T22:00:00.000\", \"variable\": \"generation solar\", \"value\": 77.0}, {\"time\": \"2015-09-15T23:00:00.000\", \"variable\": \"generation solar\", \"value\": 44.0}, {\"time\": \"2015-09-16T00:00:00.000\", \"variable\": \"generation solar\", \"value\": 41.0}, {\"time\": \"2015-09-16T01:00:00.000\", \"variable\": \"generation solar\", \"value\": 42.0}, {\"time\": \"2015-09-16T02:00:00.000\", \"variable\": \"generation solar\", \"value\": 42.0}, {\"time\": \"2015-09-16T03:00:00.000\", \"variable\": \"generation solar\", \"value\": 37.0}, {\"time\": \"2015-09-16T04:00:00.000\", \"variable\": \"generation solar\", \"value\": 22.0}, {\"time\": \"2015-09-16T05:00:00.000\", \"variable\": \"generation solar\", \"value\": 23.0}, {\"time\": \"2015-09-16T06:00:00.000\", \"variable\": \"generation solar\", \"value\": 171.0}, {\"time\": \"2015-09-16T07:00:00.000\", \"variable\": \"generation solar\", \"value\": 824.0}, {\"time\": \"2015-09-16T08:00:00.000\", \"variable\": \"generation solar\", \"value\": 1512.0}, {\"time\": \"2015-09-16T09:00:00.000\", \"variable\": \"generation solar\", \"value\": 1883.0}, {\"time\": \"2015-09-16T10:00:00.000\", \"variable\": \"generation solar\", \"value\": 2155.0}, {\"time\": \"2015-09-16T11:00:00.000\", \"variable\": \"generation solar\", \"value\": 2337.0}, {\"time\": \"2015-09-16T12:00:00.000\", \"variable\": \"generation solar\", \"value\": 2402.0}], \"transform\": [{\"type\": \"formula\", \"expr\": \"toDate(datum['time'])\", \"as\": \"time\"}]}, {\"name\": \"source_1\", \"values\": [{\"time\": \"2015-09-13T13:00:00.000\", \"value\": 4599.0, \"variable\": \"Anomalies\"}, {\"time\": \"2015-09-13T14:00:00.000\", \"value\": 4261.0, \"variable\": \"Anomalies\"}, {\"time\": \"2015-09-14T02:00:00.000\", \"value\": 55.0, \"variable\": \"Anomalies\"}, {\"time\": \"2015-09-14T03:00:00.000\", \"value\": 48.0, \"variable\": \"Anomalies\"}, {\"time\": \"2015-09-14T04:00:00.000\", \"value\": 52.0, \"variable\": \"Anomalies\"}, {\"time\": \"2015-09-14T09:00:00.000\", \"value\": 2619.0, \"variable\": \"Anomalies\"}, {\"time\": \"2015-09-14T10:00:00.000\", \"value\": 3354.0, \"variable\": \"Anomalies\"}, {\"time\": \"2015-09-14T11:00:00.000\", \"value\": 3743.0, \"variable\": \"Anomalies\"}, {\"time\": \"2015-09-14T12:00:00.000\", \"value\": 4164.0, \"variable\": \"Anomalies\"}, {\"time\": \"2015-09-14T13:00:00.000\", \"value\": 4473.0, \"variable\": \"Anomalies\"}, {\"time\": \"2015-09-15T02:00:00.000\", \"value\": 66.0, \"variable\": \"Anomalies\"}, {\"time\": \"2015-09-15T03:00:00.000\", \"value\": 52.0, \"variable\": \"Anomalies\"}, {\"time\": \"2015-09-15T08:00:00.000\", \"value\": 2569.0, \"variable\": \"Anomalies\"}, {\"time\": \"2015-09-15T09:00:00.000\", \"value\": 3237.0, \"variable\": \"Anomalies\"}, {\"time\": \"2015-09-15T10:00:00.000\", \"value\": 3401.0, \"variable\": \"Anomalies\"}, {\"time\": \"2015-09-15T11:00:00.000\", \"value\": 3498.0, \"variable\": \"Anomalies\"}, {\"time\": \"2015-09-15T12:00:00.000\", \"value\": 3149.0, \"variable\": \"Anomalies\"}, {\"time\": \"2015-09-16T00:00:00.000\", \"value\": 41.0, \"variable\": \"Anomalies\"}, {\"time\": \"2015-09-16T01:00:00.000\", \"value\": 42.0, \"variable\": \"Anomalies\"}, {\"time\": \"2015-09-16T07:00:00.000\", \"value\": 824.0, \"variable\": \"Anomalies\"}, {\"time\": \"2015-09-16T08:00:00.000\", \"value\": 1512.0, \"variable\": \"Anomalies\"}, {\"time\": \"2015-09-16T09:00:00.000\", \"value\": 1883.0, \"variable\": \"Anomalies\"}, {\"time\": \"2015-09-16T10:00:00.000\", \"value\": 2155.0, \"variable\": \"Anomalies\"}, {\"time\": \"2015-09-16T11:00:00.000\", \"value\": 2337.0, \"variable\": \"Anomalies\"}], \"transform\": [{\"type\": \"formula\", \"expr\": \"toDate(datum['time'])\", \"as\": \"time\"}]}, {\"name\": \"source_0_color_domain_variable_0\", \"values\": [{\"variable\": \"generation solar\"}]}, {\"name\": \"source_1_color_domain_variable_1\", \"values\": [{\"variable\": \"Anomalies\"}]}], \"marks\": [{\"type\": \"group\", \"name\": \"layer_0_pathgroup\", \"from\": {\"facet\": {\"data\": \"source_0\", \"name\": \"faceted_path_layer_0_main\", \"groupby\": [\"variable\"]}}, \"encode\": {\"update\": {\"width\": {\"field\": {\"signal\": null, \"datum\": null, \"group\": \"width\", \"parent\": null}}, \"height\": {\"field\": {\"signal\": null, \"datum\": null, \"group\": \"height\", \"parent\": null}}}}, \"marks\": [{\"type\": \"line\", \"name\": \"layer_0_marks\", \"from\": {\"data\": \"faceted_path_layer_0_main\"}, \"sort\": {\"field\": \"x\"}, \"encode\": {\"update\": {\"stroke\": {\"field\": \"variable\", \"scale\": \"color\"}, \"y\": {\"field\": \"value\", \"scale\": \"y\"}, \"defined\": {\"signal\": \"isValid(datum[\\\"time\\\"]) && isFinite(+datum[\\\"time\\\"]) && isValid(datum[\\\"value\\\"]) && isFinite(+datum[\\\"value\\\"])\"}, \"x\": {\"field\": \"time\", \"scale\": \"x\"}}}, \"style\": [\"line\"]}]}, {\"type\": \"symbol\", \"name\": \"layer_1_marks\", \"from\": {\"data\": \"source_1\"}, \"encode\": {\"update\": {\"shape\": {\"value\": \"circle\"}, \"opacity\": {\"value\": 0.7}, \"x\": {\"field\": \"time\", \"scale\": \"x\"}, \"y\": {\"field\": \"value\", \"scale\": \"y\"}, \"fill\": {\"field\": \"variable\", \"scale\": \"color\"}}}, \"style\": [\"circle\"]}], \"scales\": [{\"name\": \"x\", \"type\": \"time\", \"domain\": {\"fields\": [{\"data\": \"source_0\", \"field\": \"time\"}, {\"data\": \"source_1\", \"field\": \"time\"}]}, \"range\": [0, {\"signal\": \"width\"}]}, {\"name\": \"y\", \"type\": \"linear\", \"domain\": {\"fields\": [{\"data\": \"source_0\", \"field\": \"value\"}, {\"data\": \"source_1\", \"field\": \"value\"}]}, \"range\": [{\"signal\": \"height\"}, 0], \"zero\": true, \"nice\": true}, {\"name\": \"color\", \"type\": \"ordinal\", \"domain\": {\"fields\": [{\"data\": \"source_0_color_domain_variable_0\", \"field\": \"variable\"}, {\"data\": \"source_1_color_domain_variable_1\", \"field\": \"variable\"}], \"sort\": true}, \"range\": \"category\"}], \"axes\": [{\"scale\": \"x\", \"maxExtent\": 0, \"grid\": true, \"labels\": false, \"aria\": false, \"minExtent\": 0, \"orient\": \"bottom\", \"ticks\": false, \"zindex\": 0, \"domain\": false, \"tickCount\": {\"signal\": \"ceil(width/40)\"}, \"gridScale\": \"y\"}, {\"scale\": \"y\", \"aria\": false, \"ticks\": false, \"maxExtent\": 0, \"orient\": \"left\", \"zindex\": 0, \"tickCount\": {\"signal\": \"ceil(height/40)\"}, \"domain\": false, \"grid\": true, \"labels\": false, \"minExtent\": 0, \"gridScale\": \"x\"}, {\"scale\": \"x\", \"zindex\": 0, \"grid\": false, \"orient\": \"bottom\", \"labelFlush\": true, \"title\": \"time\", \"labelOverlap\": true, \"tickCount\": {\"signal\": \"ceil(width/40)\"}}, {\"scale\": \"y\", \"labelOverlap\": true, \"orient\": \"left\", \"zindex\": 0, \"title\": \"value\", \"grid\": false, \"tickCount\": {\"signal\": \"ceil(height/40)\"}}], \"legends\": [{\"stroke\": \"color\", \"symbolType\": \"circle\", \"title\": \"variable\", \"fill\": \"color\", \"encode\": {\"symbols\": {\"update\": {\"opacity\": {\"value\": 0.7}}}}}], \"padding\": 5, \"width\": 600, \"background\": \"white\", \"height\": 300, \"style\": \"cell\"}, {\"mode\": \"vega\"});\n",
       "</script>"
      ],
      "text/plain": [
       "alt.LayerChart(...)"
      ]
     },
     "execution_count": 22,
     "metadata": {},
     "output_type": "execute_result"
    }
   ],
   "source": [
    "(\n",
    "    on.Plot(test[:72])\n",
    "    .add(on.marks.line)\n",
    "    .add(on.marks.mark, data=predetected[:72].rename({\"generation solar\": \"Anomalies\"}), type=\"dot\")\n",
    "    .properties(width=600, height=300)\n",
    "    .show()\n",
    ")"
   ]
  }
 ],
 "metadata": {
  "kernelspec": {
   "display_name": "ontime-2OQVvbNf-py3.10",
   "language": "python",
   "name": "python3"
  },
  "language_info": {
   "codemirror_mode": {
    "name": "ipython",
    "version": 3
   },
   "file_extension": ".py",
   "mimetype": "text/x-python",
   "name": "python",
   "nbconvert_exporter": "python",
   "pygments_lexer": "ipython3",
   "version": "3.10.12"
  },
  "papermill": {
   "default_parameters": {},
   "duration": 23.469424,
   "end_time": "2025-01-06T14:55:13.473916",
   "environment_variables": {},
   "exception": null,
   "input_path": "docs/getting_started.ipynb",
   "output_path": "docs/getting_started.ipynb",
   "parameters": {},
   "start_time": "2025-01-06T14:54:50.004492",
   "version": "2.5.0"
  }
 },
 "nbformat": 4,
 "nbformat_minor": 5
}
