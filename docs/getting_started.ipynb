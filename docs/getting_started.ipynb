{
 "cells": [
  {
   "cell_type": "code",
   "execution_count": 1,
   "id": "70a32352-80c9-40b7-8f68-1aeecfc52658",
   "metadata": {
    "execution": {
     "iopub.execute_input": "2024-01-31T17:49:07.375281Z",
     "iopub.status.busy": "2024-01-31T17:49:07.374937Z",
     "iopub.status.idle": "2024-01-31T17:49:07.384058Z",
     "shell.execute_reply": "2024-01-31T17:49:07.383561Z"
    },
    "papermill": {
     "duration": 0.023706,
     "end_time": "2024-01-31T17:49:07.385771",
     "exception": false,
     "start_time": "2024-01-31T17:49:07.362065",
     "status": "completed"
    },
    "tags": [],
    "ExecuteTime": {
     "end_time": "2024-04-27T10:05:25.636065Z",
     "start_time": "2024-04-27T10:05:25.632244Z"
    }
   },
   "outputs": [],
   "source": [
    "# Import to be able to import python package from src\n",
    "import sys\n",
    "sys.path.insert(0, '../src')"
   ]
  },
  {
   "cell_type": "code",
   "execution_count": 2,
   "id": "f8a26d78-229f-47f7-9f66-d0c245dbc096",
   "metadata": {
    "execution": {
     "iopub.execute_input": "2024-01-31T17:49:07.396325Z",
     "iopub.status.busy": "2024-01-31T17:49:07.396146Z",
     "iopub.status.idle": "2024-01-31T17:49:09.866342Z",
     "shell.execute_reply": "2024-01-31T17:49:09.865908Z"
    },
    "papermill": {
     "duration": 2.47651,
     "end_time": "2024-01-31T17:49:09.867453",
     "exception": false,
     "start_time": "2024-01-31T17:49:07.390943",
     "status": "completed"
    },
    "tags": [],
    "ExecuteTime": {
     "end_time": "2024-04-27T10:05:29.654652Z",
     "start_time": "2024-04-27T10:05:25.635956Z"
    }
   },
   "outputs": [
    {
     "name": "stderr",
     "output_type": "stream",
     "text": [
      "The `LightGBM` module could not be imported. To enable LightGBM support in Darts, follow the detailed instructions in the installation guide: https://github.com/unit8co/darts/blob/master/INSTALL.md\n",
      "The `Prophet` module could not be imported. To enable Prophet support in Darts, follow the detailed instructions in the installation guide: https://github.com/unit8co/darts/blob/master/INSTALL.md\n"
     ]
    }
   ],
   "source": [
    "import ontime as on\n",
    "import pandas as pd"
   ]
  },
  {
   "cell_type": "markdown",
   "id": "9f94ac2b-bc8a-4757-affb-6e570a024804",
   "metadata": {
    "papermill": {
     "duration": 0.002608,
     "end_time": "2024-01-31T17:49:09.878216",
     "exception": false,
     "start_time": "2024-01-31T17:49:09.875608",
     "status": "completed"
    },
    "tags": []
   },
   "source": [
    "# Getting Started\n",
    "\n",
    "The library is divided in three parts : \n",
    "\n",
    "1. `core` for all basic features\n",
    "2. `module` for all features using core features. E.g. benchmarking, ml preprocessing, etc.\n",
    "3. `context` for all features related to the usage of onTime in an applied scenario"
   ]
  },
  {
   "cell_type": "markdown",
   "id": "c0271c7d-d9b4-414e-b7be-83adeafcc741",
   "metadata": {
    "papermill": {
     "duration": 0.002602,
     "end_time": "2024-01-31T17:49:09.893863",
     "exception": false,
     "start_time": "2024-01-31T17:49:09.891261",
     "status": "completed"
    },
    "tags": []
   },
   "source": [
    "## `core` Features\n",
    "\n",
    "This is a low level API. Most objects and functions are accessible in the base object : \n",
    "    \n",
    "    ontime\n",
    "    ├── detectors\n",
    "    ├── generators\n",
    "    ├── Model\n",
    "    ├── plots\n",
    "    ├── processors\n",
    "    └── TimeSeries\n",
    "\n",
    "For instance : "
   ]
  },
  {
   "cell_type": "code",
   "execution_count": 3,
   "id": "bcbdae2b-2833-43d6-9bf7-16caef87cf75",
   "metadata": {
    "execution": {
     "iopub.execute_input": "2024-01-31T17:49:09.899806Z",
     "iopub.status.busy": "2024-01-31T17:49:09.899595Z",
     "iopub.status.idle": "2024-01-31T17:49:09.908165Z",
     "shell.execute_reply": "2024-01-31T17:49:09.907905Z"
    },
    "papermill": {
     "duration": 0.012602,
     "end_time": "2024-01-31T17:49:09.909081",
     "exception": false,
     "start_time": "2024-01-31T17:49:09.896479",
     "status": "completed"
    },
    "tags": [],
    "ExecuteTime": {
     "end_time": "2024-04-27T10:05:29.670567Z",
     "start_time": "2024-04-27T10:05:29.659699Z"
    }
   },
   "outputs": [
    {
     "data": {
      "text/plain": "<TimeSeries (DataArray) (time: 5, component: 1, sample: 1)>\narray([[[-1.64560278]],\n\n       [[-2.50858837]],\n\n       [[-2.66482936]],\n\n       [[-2.37036785]],\n\n       [[-2.30805055]]])\nCoordinates:\n  * time       (time) datetime64[ns] 2023-01-01 2023-01-02 ... 2023-01-05\n  * component  (component) object 'random_walk'\nDimensions without coordinates: sample\nAttributes:\n    static_covariates:  None\n    hierarchy:          None",
      "text/html": "<div><svg style=\"position: absolute; width: 0; height: 0; overflow: hidden\">\n<defs>\n<symbol id=\"icon-database\" viewBox=\"0 0 32 32\">\n<path d=\"M16 0c-8.837 0-16 2.239-16 5v4c0 2.761 7.163 5 16 5s16-2.239 16-5v-4c0-2.761-7.163-5-16-5z\"></path>\n<path d=\"M16 17c-8.837 0-16-2.239-16-5v6c0 2.761 7.163 5 16 5s16-2.239 16-5v-6c0 2.761-7.163 5-16 5z\"></path>\n<path d=\"M16 26c-8.837 0-16-2.239-16-5v6c0 2.761 7.163 5 16 5s16-2.239 16-5v-6c0 2.761-7.163 5-16 5z\"></path>\n</symbol>\n<symbol id=\"icon-file-text2\" viewBox=\"0 0 32 32\">\n<path d=\"M28.681 7.159c-0.694-0.947-1.662-2.053-2.724-3.116s-2.169-2.030-3.116-2.724c-1.612-1.182-2.393-1.319-2.841-1.319h-15.5c-1.378 0-2.5 1.121-2.5 2.5v27c0 1.378 1.122 2.5 2.5 2.5h23c1.378 0 2.5-1.122 2.5-2.5v-19.5c0-0.448-0.137-1.23-1.319-2.841zM24.543 5.457c0.959 0.959 1.712 1.825 2.268 2.543h-4.811v-4.811c0.718 0.556 1.584 1.309 2.543 2.268zM28 29.5c0 0.271-0.229 0.5-0.5 0.5h-23c-0.271 0-0.5-0.229-0.5-0.5v-27c0-0.271 0.229-0.5 0.5-0.5 0 0 15.499-0 15.5 0v7c0 0.552 0.448 1 1 1h7v19.5z\"></path>\n<path d=\"M23 26h-14c-0.552 0-1-0.448-1-1s0.448-1 1-1h14c0.552 0 1 0.448 1 1s-0.448 1-1 1z\"></path>\n<path d=\"M23 22h-14c-0.552 0-1-0.448-1-1s0.448-1 1-1h14c0.552 0 1 0.448 1 1s-0.448 1-1 1z\"></path>\n<path d=\"M23 18h-14c-0.552 0-1-0.448-1-1s0.448-1 1-1h14c0.552 0 1 0.448 1 1s-0.448 1-1 1z\"></path>\n</symbol>\n</defs>\n</svg>\n<style>/* CSS stylesheet for displaying xarray objects in jupyterlab.\n *\n */\n\n:root {\n  --xr-font-color0: var(--jp-content-font-color0, rgba(0, 0, 0, 1));\n  --xr-font-color2: var(--jp-content-font-color2, rgba(0, 0, 0, 0.54));\n  --xr-font-color3: var(--jp-content-font-color3, rgba(0, 0, 0, 0.38));\n  --xr-border-color: var(--jp-border-color2, #e0e0e0);\n  --xr-disabled-color: var(--jp-layout-color3, #bdbdbd);\n  --xr-background-color: var(--jp-layout-color0, white);\n  --xr-background-color-row-even: var(--jp-layout-color1, white);\n  --xr-background-color-row-odd: var(--jp-layout-color2, #eeeeee);\n}\n\nhtml[theme=dark],\nbody[data-theme=dark],\nbody.vscode-dark {\n  --xr-font-color0: rgba(255, 255, 255, 1);\n  --xr-font-color2: rgba(255, 255, 255, 0.54);\n  --xr-font-color3: rgba(255, 255, 255, 0.38);\n  --xr-border-color: #1F1F1F;\n  --xr-disabled-color: #515151;\n  --xr-background-color: #111111;\n  --xr-background-color-row-even: #111111;\n  --xr-background-color-row-odd: #313131;\n}\n\n.xr-wrap {\n  display: block !important;\n  min-width: 300px;\n  max-width: 700px;\n}\n\n.xr-text-repr-fallback {\n  /* fallback to plain text repr when CSS is not injected (untrusted notebook) */\n  display: none;\n}\n\n.xr-header {\n  padding-top: 6px;\n  padding-bottom: 6px;\n  margin-bottom: 4px;\n  border-bottom: solid 1px var(--xr-border-color);\n}\n\n.xr-header > div,\n.xr-header > ul {\n  display: inline;\n  margin-top: 0;\n  margin-bottom: 0;\n}\n\n.xr-obj-type,\n.xr-array-name {\n  margin-left: 2px;\n  margin-right: 10px;\n}\n\n.xr-obj-type {\n  color: var(--xr-font-color2);\n}\n\n.xr-sections {\n  padding-left: 0 !important;\n  display: grid;\n  grid-template-columns: 150px auto auto 1fr 20px 20px;\n}\n\n.xr-section-item {\n  display: contents;\n}\n\n.xr-section-item input {\n  display: none;\n}\n\n.xr-section-item input + label {\n  color: var(--xr-disabled-color);\n}\n\n.xr-section-item input:enabled + label {\n  cursor: pointer;\n  color: var(--xr-font-color2);\n}\n\n.xr-section-item input:enabled + label:hover {\n  color: var(--xr-font-color0);\n}\n\n.xr-section-summary {\n  grid-column: 1;\n  color: var(--xr-font-color2);\n  font-weight: 500;\n}\n\n.xr-section-summary > span {\n  display: inline-block;\n  padding-left: 0.5em;\n}\n\n.xr-section-summary-in:disabled + label {\n  color: var(--xr-font-color2);\n}\n\n.xr-section-summary-in + label:before {\n  display: inline-block;\n  content: '►';\n  font-size: 11px;\n  width: 15px;\n  text-align: center;\n}\n\n.xr-section-summary-in:disabled + label:before {\n  color: var(--xr-disabled-color);\n}\n\n.xr-section-summary-in:checked + label:before {\n  content: '▼';\n}\n\n.xr-section-summary-in:checked + label > span {\n  display: none;\n}\n\n.xr-section-summary,\n.xr-section-inline-details {\n  padding-top: 4px;\n  padding-bottom: 4px;\n}\n\n.xr-section-inline-details {\n  grid-column: 2 / -1;\n}\n\n.xr-section-details {\n  display: none;\n  grid-column: 1 / -1;\n  margin-bottom: 5px;\n}\n\n.xr-section-summary-in:checked ~ .xr-section-details {\n  display: contents;\n}\n\n.xr-array-wrap {\n  grid-column: 1 / -1;\n  display: grid;\n  grid-template-columns: 20px auto;\n}\n\n.xr-array-wrap > label {\n  grid-column: 1;\n  vertical-align: top;\n}\n\n.xr-preview {\n  color: var(--xr-font-color3);\n}\n\n.xr-array-preview,\n.xr-array-data {\n  padding: 0 5px !important;\n  grid-column: 2;\n}\n\n.xr-array-data,\n.xr-array-in:checked ~ .xr-array-preview {\n  display: none;\n}\n\n.xr-array-in:checked ~ .xr-array-data,\n.xr-array-preview {\n  display: inline-block;\n}\n\n.xr-dim-list {\n  display: inline-block !important;\n  list-style: none;\n  padding: 0 !important;\n  margin: 0;\n}\n\n.xr-dim-list li {\n  display: inline-block;\n  padding: 0;\n  margin: 0;\n}\n\n.xr-dim-list:before {\n  content: '(';\n}\n\n.xr-dim-list:after {\n  content: ')';\n}\n\n.xr-dim-list li:not(:last-child):after {\n  content: ',';\n  padding-right: 5px;\n}\n\n.xr-has-index {\n  font-weight: bold;\n}\n\n.xr-var-list,\n.xr-var-item {\n  display: contents;\n}\n\n.xr-var-item > div,\n.xr-var-item label,\n.xr-var-item > .xr-var-name span {\n  background-color: var(--xr-background-color-row-even);\n  margin-bottom: 0;\n}\n\n.xr-var-item > .xr-var-name:hover span {\n  padding-right: 5px;\n}\n\n.xr-var-list > li:nth-child(odd) > div,\n.xr-var-list > li:nth-child(odd) > label,\n.xr-var-list > li:nth-child(odd) > .xr-var-name span {\n  background-color: var(--xr-background-color-row-odd);\n}\n\n.xr-var-name {\n  grid-column: 1;\n}\n\n.xr-var-dims {\n  grid-column: 2;\n}\n\n.xr-var-dtype {\n  grid-column: 3;\n  text-align: right;\n  color: var(--xr-font-color2);\n}\n\n.xr-var-preview {\n  grid-column: 4;\n}\n\n.xr-index-preview {\n  grid-column: 2 / 5;\n  color: var(--xr-font-color2);\n}\n\n.xr-var-name,\n.xr-var-dims,\n.xr-var-dtype,\n.xr-preview,\n.xr-attrs dt {\n  white-space: nowrap;\n  overflow: hidden;\n  text-overflow: ellipsis;\n  padding-right: 10px;\n}\n\n.xr-var-name:hover,\n.xr-var-dims:hover,\n.xr-var-dtype:hover,\n.xr-attrs dt:hover {\n  overflow: visible;\n  width: auto;\n  z-index: 1;\n}\n\n.xr-var-attrs,\n.xr-var-data,\n.xr-index-data {\n  display: none;\n  background-color: var(--xr-background-color) !important;\n  padding-bottom: 5px !important;\n}\n\n.xr-var-attrs-in:checked ~ .xr-var-attrs,\n.xr-var-data-in:checked ~ .xr-var-data,\n.xr-index-data-in:checked ~ .xr-index-data {\n  display: block;\n}\n\n.xr-var-data > table {\n  float: right;\n}\n\n.xr-var-name span,\n.xr-var-data,\n.xr-index-name div,\n.xr-index-data,\n.xr-attrs {\n  padding-left: 25px !important;\n}\n\n.xr-attrs,\n.xr-var-attrs,\n.xr-var-data,\n.xr-index-data {\n  grid-column: 1 / -1;\n}\n\ndl.xr-attrs {\n  padding: 0;\n  margin: 0;\n  display: grid;\n  grid-template-columns: 125px auto;\n}\n\n.xr-attrs dt,\n.xr-attrs dd {\n  padding: 0;\n  margin: 0;\n  float: left;\n  padding-right: 10px;\n  width: auto;\n}\n\n.xr-attrs dt {\n  font-weight: normal;\n  grid-column: 1;\n}\n\n.xr-attrs dt:hover span {\n  display: inline-block;\n  background: var(--xr-background-color);\n  padding-right: 10px;\n}\n\n.xr-attrs dd {\n  grid-column: 2;\n  white-space: pre-wrap;\n  word-break: break-all;\n}\n\n.xr-icon-database,\n.xr-icon-file-text2,\n.xr-no-icon {\n  display: inline-block;\n  vertical-align: middle;\n  width: 1em;\n  height: 1.5em !important;\n  stroke-width: 0;\n  stroke: currentColor;\n  fill: currentColor;\n}\n</style><pre class='xr-text-repr-fallback'>&lt;TimeSeries (DataArray) (time: 5, component: 1, sample: 1)&gt;\narray([[[-1.64560278]],\n\n       [[-2.50858837]],\n\n       [[-2.66482936]],\n\n       [[-2.37036785]],\n\n       [[-2.30805055]]])\nCoordinates:\n  * time       (time) datetime64[ns] 2023-01-01 2023-01-02 ... 2023-01-05\n  * component  (component) object &#x27;random_walk&#x27;\nDimensions without coordinates: sample\nAttributes:\n    static_covariates:  None\n    hierarchy:          None</pre><div class='xr-wrap' style='display:none'><div class='xr-header'><div class='xr-obj-type'>TimeSeries (DataArray)</div><div class='xr-array-name'></div><ul class='xr-dim-list'><li><span class='xr-has-index'>time</span>: 5</li><li><span class='xr-has-index'>component</span>: 1</li><li><span>sample</span>: 1</li></ul></div><ul class='xr-sections'><li class='xr-section-item'><div class='xr-array-wrap'><input id='section-3266175c-988b-4f88-9433-f87d4558089f' class='xr-array-in' type='checkbox' checked><label for='section-3266175c-988b-4f88-9433-f87d4558089f' title='Show/hide data repr'><svg class='icon xr-icon-database'><use xlink:href='#icon-database'></use></svg></label><div class='xr-array-preview xr-preview'><span>-1.646 -2.509 -2.665 -2.37 -2.308</span></div><div class='xr-array-data'><pre>array([[[-1.64560278]],\n\n       [[-2.50858837]],\n\n       [[-2.66482936]],\n\n       [[-2.37036785]],\n\n       [[-2.30805055]]])</pre></div></div></li><li class='xr-section-item'><input id='section-553aed27-18ab-453e-8be8-34bc98d5f1ff' class='xr-section-summary-in' type='checkbox'  checked><label for='section-553aed27-18ab-453e-8be8-34bc98d5f1ff' class='xr-section-summary' >Coordinates: <span>(2)</span></label><div class='xr-section-inline-details'></div><div class='xr-section-details'><ul class='xr-var-list'><li class='xr-var-item'><div class='xr-var-name'><span class='xr-has-index'>time</span></div><div class='xr-var-dims'>(time)</div><div class='xr-var-dtype'>datetime64[ns]</div><div class='xr-var-preview xr-preview'>2023-01-01 ... 2023-01-05</div><input id='attrs-cdcf707a-55ba-4636-80f0-48b37abeec1d' class='xr-var-attrs-in' type='checkbox' disabled><label for='attrs-cdcf707a-55ba-4636-80f0-48b37abeec1d' title='Show/Hide attributes'><svg class='icon xr-icon-file-text2'><use xlink:href='#icon-file-text2'></use></svg></label><input id='data-6d47a5cf-9143-4529-84c5-5850481a3005' class='xr-var-data-in' type='checkbox'><label for='data-6d47a5cf-9143-4529-84c5-5850481a3005' title='Show/Hide data repr'><svg class='icon xr-icon-database'><use xlink:href='#icon-database'></use></svg></label><div class='xr-var-attrs'><dl class='xr-attrs'></dl></div><div class='xr-var-data'><pre>array([&#x27;2023-01-01T00:00:00.000000000&#x27;, &#x27;2023-01-02T00:00:00.000000000&#x27;,\n       &#x27;2023-01-03T00:00:00.000000000&#x27;, &#x27;2023-01-04T00:00:00.000000000&#x27;,\n       &#x27;2023-01-05T00:00:00.000000000&#x27;], dtype=&#x27;datetime64[ns]&#x27;)</pre></div></li><li class='xr-var-item'><div class='xr-var-name'><span class='xr-has-index'>component</span></div><div class='xr-var-dims'>(component)</div><div class='xr-var-dtype'>object</div><div class='xr-var-preview xr-preview'>&#x27;random_walk&#x27;</div><input id='attrs-57907643-1c15-4abd-852e-c11b73105187' class='xr-var-attrs-in' type='checkbox' disabled><label for='attrs-57907643-1c15-4abd-852e-c11b73105187' title='Show/Hide attributes'><svg class='icon xr-icon-file-text2'><use xlink:href='#icon-file-text2'></use></svg></label><input id='data-5be4ef2b-3750-48a9-b4a2-edd1d27abfde' class='xr-var-data-in' type='checkbox'><label for='data-5be4ef2b-3750-48a9-b4a2-edd1d27abfde' title='Show/Hide data repr'><svg class='icon xr-icon-database'><use xlink:href='#icon-database'></use></svg></label><div class='xr-var-attrs'><dl class='xr-attrs'></dl></div><div class='xr-var-data'><pre>array([&#x27;random_walk&#x27;], dtype=object)</pre></div></li></ul></div></li><li class='xr-section-item'><input id='section-b9e79e57-0144-45ba-9bf1-69cf3b2b4d05' class='xr-section-summary-in' type='checkbox'  ><label for='section-b9e79e57-0144-45ba-9bf1-69cf3b2b4d05' class='xr-section-summary' >Indexes: <span>(2)</span></label><div class='xr-section-inline-details'></div><div class='xr-section-details'><ul class='xr-var-list'><li class='xr-var-item'><div class='xr-index-name'><div>time</div></div><div class='xr-index-preview'>PandasIndex</div><div></div><input id='index-8e83379e-b204-4547-81bb-a8542653ad54' class='xr-index-data-in' type='checkbox'/><label for='index-8e83379e-b204-4547-81bb-a8542653ad54' title='Show/Hide index repr'><svg class='icon xr-icon-database'><use xlink:href='#icon-database'></use></svg></label><div class='xr-index-data'><pre>PandasIndex(DatetimeIndex([&#x27;2023-01-01&#x27;, &#x27;2023-01-02&#x27;, &#x27;2023-01-03&#x27;, &#x27;2023-01-04&#x27;,\n               &#x27;2023-01-05&#x27;],\n              dtype=&#x27;datetime64[ns]&#x27;, name=&#x27;time&#x27;, freq=&#x27;D&#x27;))</pre></div></li><li class='xr-var-item'><div class='xr-index-name'><div>component</div></div><div class='xr-index-preview'>PandasIndex</div><div></div><input id='index-62949bf2-9c69-4d62-85a9-0a2cc42872bb' class='xr-index-data-in' type='checkbox'/><label for='index-62949bf2-9c69-4d62-85a9-0a2cc42872bb' title='Show/Hide index repr'><svg class='icon xr-icon-database'><use xlink:href='#icon-database'></use></svg></label><div class='xr-index-data'><pre>PandasIndex(Index([&#x27;random_walk&#x27;], dtype=&#x27;object&#x27;, name=&#x27;component&#x27;))</pre></div></li></ul></div></li><li class='xr-section-item'><input id='section-7e7ad71b-b0bc-449b-a99f-0205cd621667' class='xr-section-summary-in' type='checkbox'  checked><label for='section-7e7ad71b-b0bc-449b-a99f-0205cd621667' class='xr-section-summary' >Attributes: <span>(2)</span></label><div class='xr-section-inline-details'></div><div class='xr-section-details'><dl class='xr-attrs'><dt><span>static_covariates :</span></dt><dd>None</dd><dt><span>hierarchy :</span></dt><dd>None</dd></dl></div></li></ul></div></div>"
     },
     "execution_count": 3,
     "metadata": {},
     "output_type": "execute_result"
    }
   ],
   "source": [
    "ts = on.generators.random_walk().generate(start=pd.Timestamp('01-01-2023'), end=pd.Timestamp('12-31-2023'))\n",
    "ts[0:5]"
   ]
  },
  {
   "cell_type": "code",
   "execution_count": 4,
   "id": "6b9959a6-489a-4c80-a53e-e65cad57fe62",
   "metadata": {
    "execution": {
     "iopub.execute_input": "2024-01-31T17:49:09.915459Z",
     "iopub.status.busy": "2024-01-31T17:49:09.915345Z",
     "iopub.status.idle": "2024-01-31T17:49:10.091222Z",
     "shell.execute_reply": "2024-01-31T17:49:10.090318Z"
    },
    "papermill": {
     "duration": 0.181859,
     "end_time": "2024-01-31T17:49:10.093904",
     "exception": false,
     "start_time": "2024-01-31T17:49:09.912045",
     "status": "completed"
    },
    "tags": [],
    "ExecuteTime": {
     "end_time": "2024-04-27T10:05:32.472025Z",
     "start_time": "2024-04-27T10:05:32.234524Z"
    }
   },
   "outputs": [
    {
     "data": {
      "text/plain": "<Figure size 640x480 with 1 Axes>",
      "image/png": "[encoded data removed]"
     },
     "metadata": {},
     "output_type": "display_data"
    }
   ],
   "source": [
    "ts.plot();"
   ]
  },
  {
   "cell_type": "markdown",
   "id": "2487b267-ec4a-49bc-9bda-33e4bc39194c",
   "metadata": {
    "papermill": {
     "duration": 0.004476,
     "end_time": "2024-01-31T17:49:10.107412",
     "exception": false,
     "start_time": "2024-01-31T17:49:10.102936",
     "status": "completed"
    },
    "tags": []
   },
   "source": [
    "## `module` and `context` features"
   ]
  },
  {
   "cell_type": "markdown",
   "id": "0904039a-4cb4-4795-9656-8c48a919dfee",
   "metadata": {
    "papermill": {
     "duration": 0.003459,
     "end_time": "2024-01-31T17:49:10.125625",
     "exception": false,
     "start_time": "2024-01-31T17:49:10.122166",
     "status": "completed"
    },
    "tags": []
   },
   "source": [
    "High level API with various features. Let's load some data for an example :"
   ]
  },
  {
   "cell_type": "code",
   "execution_count": 5,
   "id": "4c906526-20c4-47b5-8023-8216c6af18d1",
   "metadata": {
    "execution": {
     "iopub.execute_input": "2024-01-31T17:49:10.164311Z",
     "iopub.status.busy": "2024-01-31T17:49:10.163899Z",
     "iopub.status.idle": "2024-01-31T17:49:10.251525Z",
     "shell.execute_reply": "2024-01-31T17:49:10.251027Z"
    },
    "papermill": {
     "duration": 0.095086,
     "end_time": "2024-01-31T17:49:10.252726",
     "exception": false,
     "start_time": "2024-01-31T17:49:10.157640",
     "status": "completed"
    },
    "tags": []
   },
   "outputs": [],
   "source": [
    "from darts.datasets import EnergyDataset\n",
    "ts = EnergyDataset().load()"
   ]
  },
  {
   "cell_type": "code",
   "execution_count": 6,
   "id": "15724cb7-d0d6-40ab-a240-57df7e8f3c21",
   "metadata": {
    "execution": {
     "iopub.execute_input": "2024-01-31T17:49:10.259719Z",
     "iopub.status.busy": "2024-01-31T17:49:10.259586Z",
     "iopub.status.idle": "2024-01-31T17:49:10.272465Z",
     "shell.execute_reply": "2024-01-31T17:49:10.272171Z"
    },
    "papermill": {
     "duration": 0.017408,
     "end_time": "2024-01-31T17:49:10.273465",
     "exception": false,
     "start_time": "2024-01-31T17:49:10.256057",
     "status": "completed"
    },
    "tags": []
   },
   "outputs": [],
   "source": [
    "df = ts.pd_dataframe()\n",
    "df = df.interpolate()\n",
    "cols = ['generation biomass', 'generation solar', 'generation nuclear']\n",
    "df = df[cols]"
   ]
  },
  {
   "cell_type": "code",
   "execution_count": 7,
   "id": "401cf66e-f0eb-48e0-ac7c-adf2bef92a3c",
   "metadata": {
    "execution": {
     "iopub.execute_input": "2024-01-31T17:49:10.280251Z",
     "iopub.status.busy": "2024-01-31T17:49:10.280047Z",
     "iopub.status.idle": "2024-01-31T17:49:10.283538Z",
     "shell.execute_reply": "2024-01-31T17:49:10.283291Z"
    },
    "papermill": {
     "duration": 0.007854,
     "end_time": "2024-01-31T17:49:10.284420",
     "exception": false,
     "start_time": "2024-01-31T17:49:10.276566",
     "status": "completed"
    },
    "tags": []
   },
   "outputs": [],
   "source": [
    "ts = on.TimeSeries.from_dataframe(df)"
   ]
  },
  {
   "cell_type": "code",
   "execution_count": 8,
   "id": "3013d9e8-d7cd-4caf-be3f-607eab84647e",
   "metadata": {
    "execution": {
     "iopub.execute_input": "2024-01-31T17:49:10.290920Z",
     "iopub.status.busy": "2024-01-31T17:49:10.290816Z",
     "iopub.status.idle": "2024-01-31T17:49:10.295692Z",
     "shell.execute_reply": "2024-01-31T17:49:10.295451Z"
    },
    "papermill": {
     "duration": 0.0091,
     "end_time": "2024-01-31T17:49:10.296540",
     "exception": false,
     "start_time": "2024-01-31T17:49:10.287440",
     "status": "completed"
    },
    "tags": []
   },
   "outputs": [],
   "source": [
    "ts_uni = ts['generation solar'].slice(pd.Timestamp('2015'), pd.Timestamp('2016'))\n",
    "ts_multi = ts.slice(pd.Timestamp('2015'), pd.Timestamp('2016'))"
   ]
  },
  {
   "cell_type": "markdown",
   "id": "a1a81ffb-dca7-4ee5-93e9-836223ae6956",
   "metadata": {
    "papermill": {
     "duration": 0.003024,
     "end_time": "2024-01-31T17:49:10.302556",
     "exception": false,
     "start_time": "2024-01-31T17:49:10.299532",
     "status": "completed"
    },
    "tags": []
   },
   "source": [
    "### `module` Features"
   ]
  },
  {
   "cell_type": "markdown",
   "id": "adb031b1-74bc-4ed2-ae54-bc16681f0363",
   "metadata": {
    "papermill": {
     "duration": 0.002959,
     "end_time": "2024-01-31T17:49:10.308461",
     "exception": false,
     "start_time": "2024-01-31T17:49:10.305502",
     "status": "completed"
    },
    "tags": []
   },
   "source": [
    "High level API with features related to data processing, ML/AI, etc."
   ]
  },
  {
   "cell_type": "code",
   "execution_count": 9,
   "id": "79fd0990-dac4-461e-98b0-29f1e579b11a",
   "metadata": {
    "execution": {
     "iopub.execute_input": "2024-01-31T17:49:10.314947Z",
     "iopub.status.busy": "2024-01-31T17:49:10.314758Z",
     "iopub.status.idle": "2024-01-31T17:49:10.317675Z",
     "shell.execute_reply": "2024-01-31T17:49:10.317451Z"
    },
    "papermill": {
     "duration": 0.007087,
     "end_time": "2024-01-31T17:49:10.318529",
     "exception": false,
     "start_time": "2024-01-31T17:49:10.311442",
     "status": "completed"
    },
    "tags": []
   },
   "outputs": [],
   "source": [
    "train, test = on.module.preprocessing.common.train_test_split(ts_uni, test_split=0.3)"
   ]
  },
  {
   "cell_type": "markdown",
   "id": "0641d9e6-c5b8-49a1-a3db-9df1927d62be",
   "metadata": {
    "papermill": {
     "duration": 0.003068,
     "end_time": "2024-01-31T17:49:10.324885",
     "exception": false,
     "start_time": "2024-01-31T17:49:10.321817",
     "status": "completed"
    },
    "tags": []
   },
   "source": [
    "### `context` Features"
   ]
  },
  {
   "cell_type": "markdown",
   "id": "2982c551-1607-40c8-911d-154a3493e4b1",
   "metadata": {
    "papermill": {
     "duration": 0.003102,
     "end_time": "2024-01-31T17:49:10.331104",
     "exception": false,
     "start_time": "2024-01-31T17:49:10.328002",
     "status": "completed"
    },
    "tags": []
   },
   "source": [
    "High level API with features related to a physical machine or process."
   ]
  },
  {
   "cell_type": "markdown",
   "id": "f7fe172e-588a-4f7e-aa0e-1cdc07dd8aca",
   "metadata": {
    "papermill": {
     "duration": 0.002994,
     "end_time": "2024-01-31T17:49:10.337191",
     "exception": false,
     "start_time": "2024-01-31T17:49:10.334197",
     "status": "completed"
    },
    "tags": []
   },
   "source": [
    "#### Profiler"
   ]
  },
  {
   "cell_type": "code",
   "execution_count": 10,
   "id": "ad40696c-c5fa-4b5f-8f49-92c4fc0a9941",
   "metadata": {
    "execution": {
     "iopub.execute_input": "2024-01-31T17:49:10.343896Z",
     "iopub.status.busy": "2024-01-31T17:49:10.343780Z",
     "iopub.status.idle": "2024-01-31T17:49:10.345389Z",
     "shell.execute_reply": "2024-01-31T17:49:10.345173Z"
    },
    "papermill": {
     "duration": 0.005962,
     "end_time": "2024-01-31T17:49:10.346226",
     "exception": false,
     "start_time": "2024-01-31T17:49:10.340264",
     "status": "completed"
    },
    "tags": []
   },
   "outputs": [],
   "source": [
    "profiler = on.context.common.Profiler()"
   ]
  },
  {
   "cell_type": "markdown",
   "id": "0a304607-7ccb-4d2b-9796-dd80bce76b6c",
   "metadata": {
    "papermill": {
     "duration": 0.003121,
     "end_time": "2024-01-31T17:49:10.352586",
     "exception": false,
     "start_time": "2024-01-31T17:49:10.349465",
     "status": "completed"
    },
    "tags": []
   },
   "source": [
    "What does the common week looks like ?"
   ]
  },
  {
   "cell_type": "code",
   "execution_count": 11,
   "id": "bac9e224-c12a-4d7a-b7ca-db2a9acff278",
   "metadata": {
    "execution": {
     "iopub.execute_input": "2024-01-31T17:49:10.359309Z",
     "iopub.status.busy": "2024-01-31T17:49:10.359197Z",
     "iopub.status.idle": "2024-01-31T17:49:10.490858Z",
     "shell.execute_reply": "2024-01-31T17:49:10.490462Z"
    },
    "papermill": {
     "duration": 0.136216,
     "end_time": "2024-01-31T17:49:10.491926",
     "exception": false,
     "start_time": "2024-01-31T17:49:10.355710",
     "status": "completed"
    },
    "tags": []
   },
   "outputs": [],
   "source": [
    "week_mean = profiler.profile(ts_uni, profiler.Period.WEEKLY, profiler.Aggregation.MEAN)\n",
    "week_median = profiler.profile(ts_uni, profiler.Period.WEEKLY, profiler.Aggregation.MEDIAN)"
   ]
  },
  {
   "cell_type": "code",
   "execution_count": 12,
   "id": "e8474db3-5e1e-4d08-bdc1-30f88bfd5f28",
   "metadata": {
    "execution": {
     "iopub.execute_input": "2024-01-31T17:49:10.498773Z",
     "iopub.status.busy": "2024-01-31T17:49:10.498661Z",
     "iopub.status.idle": "2024-01-31T17:49:10.631044Z",
     "shell.execute_reply": "2024-01-31T17:49:10.630699Z"
    },
    "papermill": {
     "duration": 0.136824,
     "end_time": "2024-01-31T17:49:10.631997",
     "exception": false,
     "start_time": "2024-01-31T17:49:10.495173",
     "status": "completed"
    },
    "tags": []
   },
   "outputs": [
    {
     "data": {
      "image/png": "[encoded data removed]",
      "text/plain": [
       "<Figure size 640x480 with 1 Axes>"
      ]
     },
     "metadata": {},
     "output_type": "display_data"
    }
   ],
   "source": [
    "week_mean.plot();\n",
    "week_median.plot();"
   ]
  },
  {
   "cell_type": "markdown",
   "id": "3abbc2e7-a631-40b0-878c-36a552f95dc8",
   "metadata": {
    "papermill": {
     "duration": 0.00339,
     "end_time": "2024-01-31T17:49:10.639004",
     "exception": false,
     "start_time": "2024-01-31T17:49:10.635614",
     "status": "completed"
    },
    "tags": []
   },
   "source": [
    "#### Generic Predictor"
   ]
  },
  {
   "cell_type": "code",
   "execution_count": 13,
   "id": "c775b740-fe78-4c0c-87fe-a51af3d42993",
   "metadata": {
    "execution": {
     "iopub.execute_input": "2024-01-31T17:49:10.646304Z",
     "iopub.status.busy": "2024-01-31T17:49:10.646189Z",
     "iopub.status.idle": "2024-01-31T17:49:10.647976Z",
     "shell.execute_reply": "2024-01-31T17:49:10.647733Z"
    },
    "papermill": {
     "duration": 0.006444,
     "end_time": "2024-01-31T17:49:10.648812",
     "exception": false,
     "start_time": "2024-01-31T17:49:10.642368",
     "status": "completed"
    },
    "tags": []
   },
   "outputs": [],
   "source": [
    "model = on.context.common.GenericPredictor()"
   ]
  },
  {
   "cell_type": "code",
   "execution_count": 14,
   "id": "a633dce3-27d8-4deb-bb0f-d40e3af96f8a",
   "metadata": {
    "execution": {
     "iopub.execute_input": "2024-01-31T17:49:10.656090Z",
     "iopub.status.busy": "2024-01-31T17:49:10.655972Z",
     "iopub.status.idle": "2024-01-31T17:49:11.831178Z",
     "shell.execute_reply": "2024-01-31T17:49:11.830822Z"
    },
    "papermill": {
     "duration": 1.179973,
     "end_time": "2024-01-31T17:49:11.832154",
     "exception": false,
     "start_time": "2024-01-31T17:49:10.652181",
     "status": "completed"
    },
    "tags": []
   },
   "outputs": [
    {
     "data": {
      "text/plain": [
       "<ontime.context.common.generic_predictor.GenericPredictor at 0x2bed1cdf0>"
      ]
     },
     "execution_count": 14,
     "metadata": {},
     "output_type": "execute_result"
    }
   ],
   "source": [
    "model.fit(train)"
   ]
  },
  {
   "cell_type": "markdown",
   "id": "6943aa60-c757-4f54-bf63-854beecfab80",
   "metadata": {
    "papermill": {
     "duration": 0.003431,
     "end_time": "2024-01-31T17:49:11.839240",
     "exception": false,
     "start_time": "2024-01-31T17:49:11.835809",
     "status": "completed"
    },
    "tags": []
   },
   "source": [
    "What does the future looks like ?"
   ]
  },
  {
   "cell_type": "code",
   "execution_count": 15,
   "id": "04dfe189-f736-4fe3-b27c-467c154b2c42",
   "metadata": {
    "execution": {
     "iopub.execute_input": "2024-01-31T17:49:11.846433Z",
     "iopub.status.busy": "2024-01-31T17:49:11.846310Z",
     "iopub.status.idle": "2024-01-31T17:49:11.859477Z",
     "shell.execute_reply": "2024-01-31T17:49:11.859162Z"
    },
    "papermill": {
     "duration": 0.017863,
     "end_time": "2024-01-31T17:49:11.860424",
     "exception": false,
     "start_time": "2024-01-31T17:49:11.842561",
     "status": "completed"
    },
    "tags": []
   },
   "outputs": [],
   "source": [
    "pred = model.predict(48)"
   ]
  },
  {
   "cell_type": "code",
   "execution_count": 16,
   "id": "67da9001-1e2a-4578-9436-8db8151190dc",
   "metadata": {
    "execution": {
     "iopub.execute_input": "2024-01-31T17:49:11.867840Z",
     "iopub.status.busy": "2024-01-31T17:49:11.867651Z",
     "iopub.status.idle": "2024-01-31T17:49:11.987960Z",
     "shell.execute_reply": "2024-01-31T17:49:11.987625Z"
    },
    "papermill": {
     "duration": 0.125123,
     "end_time": "2024-01-31T17:49:11.988975",
     "exception": false,
     "start_time": "2024-01-31T17:49:11.863852",
     "status": "completed"
    },
    "tags": []
   },
   "outputs": [
    {
     "data": {
      "text/html": [
       "\n",
       "<style>\n",
       "  #altair-viz-49fa4093b2044dfea144a6eecfcea495.vega-embed {\n",
       "    width: 100%;\n",
       "    display: flex;\n",
       "  }\n",
       "\n",
       "  #altair-viz-49fa4093b2044dfea144a6eecfcea495.vega-embed details,\n",
       "  #altair-viz-49fa4093b2044dfea144a6eecfcea495.vega-embed details summary {\n",
       "    position: relative;\n",
       "  }\n",
       "</style>\n",
       "<div id=\"altair-viz-49fa4093b2044dfea144a6eecfcea495\"></div>\n",
       "<script type=\"text/javascript\">\n",
       "  var VEGA_DEBUG = (typeof VEGA_DEBUG == \"undefined\") ? {} : VEGA_DEBUG;\n",
       "  (function(spec, embedOpt){\n",
       "    let outputDiv = document.currentScript.previousElementSibling;\n",
       "    if (outputDiv.id !== \"altair-viz-49fa4093b2044dfea144a6eecfcea495\") {\n",
       "      outputDiv = document.getElementById(\"altair-viz-49fa4093b2044dfea144a6eecfcea495\");\n",
       "    }\n",
       "    const paths = {\n",
       "      \"vega\": \"https://cdn.jsdelivr.net/npm/vega@5?noext\",\n",
       "      \"vega-lib\": \"https://cdn.jsdelivr.net/npm/vega-lib?noext\",\n",
       "      \"vega-lite\": \"https://cdn.jsdelivr.net/npm/vega-lite@5.16.3?noext\",\n",
       "      \"vega-embed\": \"https://cdn.jsdelivr.net/npm/vega-embed@6?noext\",\n",
       "    };\n",
       "\n",
       "    function maybeLoadScript(lib, version) {\n",
       "      var key = `${lib.replace(\"-\", \"\")}_version`;\n",
       "      return (VEGA_DEBUG[key] == version) ?\n",
       "        Promise.resolve(paths[lib]) :\n",
       "        new Promise(function(resolve, reject) {\n",
       "          var s = document.createElement('script');\n",
       "          document.getElementsByTagName(\"head\")[0].appendChild(s);\n",
       "          s.async = true;\n",
       "          s.onload = () => {\n",
       "            VEGA_DEBUG[key] = version;\n",
       "            return resolve(paths[lib]);\n",
       "          };\n",
       "          s.onerror = () => reject(`Error loading script: ${paths[lib]}`);\n",
       "          s.src = paths[lib];\n",
       "        });\n",
       "    }\n",
       "\n",
       "    function showError(err) {\n",
       "      outputDiv.innerHTML = `<div class=\"error\" style=\"color:red;\">${err}</div>`;\n",
       "      throw err;\n",
       "    }\n",
       "\n",
       "    function displayChart(vegaEmbed) {\n",
       "      vegaEmbed(outputDiv, spec, embedOpt)\n",
       "        .catch(err => showError(`Javascript Error: ${err.message}<br>This usually means there's a typo in your chart specification. See the javascript console for the full traceback.`));\n",
       "    }\n",
       "\n",
       "    if(typeof define === \"function\" && define.amd) {\n",
       "      requirejs.config({paths});\n",
       "      require([\"vega-embed\"], displayChart, err => showError(`Error loading script: ${err.message}`));\n",
       "    } else {\n",
       "      maybeLoadScript(\"vega\", \"5\")\n",
       "        .then(() => maybeLoadScript(\"vega-lite\", \"5.16.3\"))\n",
       "        .then(() => maybeLoadScript(\"vega-embed\", \"6\"))\n",
       "        .catch(showError)\n",
       "        .then(() => displayChart(vegaEmbed));\n",
       "    }\n",
       "  })({\"$schema\": \"https://vega.github.io/schema/vega/v5.json\", \"data\": [{\"name\": \"source_0\", \"values\": [{\"time\": \"2015-09-09T13:00:00.000\", \"variable\": \"Training set\", \"value\": 4402.0}, {\"time\": \"2015-09-09T14:00:00.000\", \"variable\": \"Training set\", \"value\": 3985.0}, {\"time\": \"2015-09-09T15:00:00.000\", \"variable\": \"Training set\", \"value\": 3382.0}, {\"time\": \"2015-09-09T16:00:00.000\", \"variable\": \"Training set\", \"value\": 2505.0}, {\"time\": \"2015-09-09T17:00:00.000\", \"variable\": \"Training set\", \"value\": 1432.0}, {\"time\": \"2015-09-09T18:00:00.000\", \"variable\": \"Training set\", \"value\": 776.0}, {\"time\": \"2015-09-09T19:00:00.000\", \"variable\": \"Training set\", \"value\": 522.0}, {\"time\": \"2015-09-09T20:00:00.000\", \"variable\": \"Training set\", \"value\": 297.0}, {\"time\": \"2015-09-09T21:00:00.000\", \"variable\": \"Training set\", \"value\": 135.0}, {\"time\": \"2015-09-09T22:00:00.000\", \"variable\": \"Training set\", \"value\": 196.0}, {\"time\": \"2015-09-09T23:00:00.000\", \"variable\": \"Training set\", \"value\": 90.0}, {\"time\": \"2015-09-10T00:00:00.000\", \"variable\": \"Training set\", \"value\": 62.0}, {\"time\": \"2015-09-10T01:00:00.000\", \"variable\": \"Training set\", \"value\": 62.0}, {\"time\": \"2015-09-10T02:00:00.000\", \"variable\": \"Training set\", \"value\": 61.0}, {\"time\": \"2015-09-10T03:00:00.000\", \"variable\": \"Training set\", \"value\": 62.0}, {\"time\": \"2015-09-10T04:00:00.000\", \"variable\": \"Training set\", \"value\": 62.0}, {\"time\": \"2015-09-10T05:00:00.000\", \"variable\": \"Training set\", \"value\": 62.0}, {\"time\": \"2015-09-10T06:00:00.000\", \"variable\": \"Training set\", \"value\": 152.0}, {\"time\": \"2015-09-10T07:00:00.000\", \"variable\": \"Training set\", \"value\": 1094.0}, {\"time\": \"2015-09-10T08:00:00.000\", \"variable\": \"Training set\", \"value\": 2317.0}, {\"time\": \"2015-09-10T09:00:00.000\", \"variable\": \"Training set\", \"value\": 3489.0}, {\"time\": \"2015-09-10T10:00:00.000\", \"variable\": \"Training set\", \"value\": 3893.0}, {\"time\": \"2015-09-10T11:00:00.000\", \"variable\": \"Training set\", \"value\": 3883.0}, {\"time\": \"2015-09-10T12:00:00.000\", \"variable\": \"Training set\", \"value\": 3735.0}, {\"time\": \"2015-09-10T13:00:00.000\", \"variable\": \"Training set\", \"value\": 3612.0}, {\"time\": \"2015-09-10T14:00:00.000\", \"variable\": \"Training set\", \"value\": 3378.0}, {\"time\": \"2015-09-10T15:00:00.000\", \"variable\": \"Training set\", \"value\": 2769.0}, {\"time\": \"2015-09-10T16:00:00.000\", \"variable\": \"Training set\", \"value\": 1809.0}, {\"time\": \"2015-09-10T17:00:00.000\", \"variable\": \"Training set\", \"value\": 606.0}, {\"time\": \"2015-09-10T18:00:00.000\", \"variable\": \"Training set\", \"value\": 157.0}, {\"time\": \"2015-09-10T19:00:00.000\", \"variable\": \"Training set\", \"value\": 71.0}, {\"time\": \"2015-09-10T20:00:00.000\", \"variable\": \"Training set\", \"value\": 60.0}, {\"time\": \"2015-09-10T21:00:00.000\", \"variable\": \"Training set\", \"value\": 53.0}, {\"time\": \"2015-09-10T22:00:00.000\", \"variable\": \"Training set\", \"value\": 84.0}, {\"time\": \"2015-09-10T23:00:00.000\", \"variable\": \"Training set\", \"value\": 60.0}, {\"time\": \"2015-09-11T00:00:00.000\", \"variable\": \"Training set\", \"value\": 60.0}, {\"time\": \"2015-09-11T01:00:00.000\", \"variable\": \"Training set\", \"value\": 60.0}, {\"time\": \"2015-09-11T02:00:00.000\", \"variable\": \"Training set\", \"value\": 60.0}, {\"time\": \"2015-09-11T03:00:00.000\", \"variable\": \"Training set\", \"value\": 69.0}, {\"time\": \"2015-09-11T04:00:00.000\", \"variable\": \"Training set\", \"value\": 75.0}, {\"time\": \"2015-09-11T05:00:00.000\", \"variable\": \"Training set\", \"value\": 77.0}, {\"time\": \"2015-09-11T06:00:00.000\", \"variable\": \"Training set\", \"value\": 399.0}, {\"time\": \"2015-09-11T07:00:00.000\", \"variable\": \"Training set\", \"value\": 1464.0}, {\"time\": \"2015-09-11T08:00:00.000\", \"variable\": \"Training set\", \"value\": 2726.0}, {\"time\": \"2015-09-11T09:00:00.000\", \"variable\": \"Training set\", \"value\": 3729.0}, {\"time\": \"2015-09-11T10:00:00.000\", \"variable\": \"Training set\", \"value\": 4010.0}, {\"time\": \"2015-09-11T11:00:00.000\", \"variable\": \"Training set\", \"value\": 4052.0}, {\"time\": \"2015-09-11T12:00:00.000\", \"variable\": \"Training set\", \"value\": 3985.0}, {\"time\": \"2015-09-11T13:00:00.000\", \"variable\": \"Training set\", \"value\": 3834.0}, {\"time\": \"2015-09-11T14:00:00.000\", \"variable\": \"Training set\", \"value\": 3199.0}, {\"time\": \"2015-09-11T15:00:00.000\", \"variable\": \"Training set\", \"value\": 1620.0}, {\"time\": \"2015-09-11T16:00:00.000\", \"variable\": \"Training set\", \"value\": 624.0}, {\"time\": \"2015-09-11T17:00:00.000\", \"variable\": \"Training set\", \"value\": 437.0}, {\"time\": \"2015-09-11T18:00:00.000\", \"variable\": \"Training set\", \"value\": 244.0}, {\"time\": \"2015-09-11T19:00:00.000\", \"variable\": \"Training set\", \"value\": 135.0}, {\"time\": \"2015-09-11T20:00:00.000\", \"variable\": \"Training set\", \"value\": 101.0}, {\"time\": \"2015-09-11T21:00:00.000\", \"variable\": \"Training set\", \"value\": 87.0}, {\"time\": \"2015-09-11T22:00:00.000\", \"variable\": \"Training set\", \"value\": 13.0}, {\"time\": \"2015-09-11T23:00:00.000\", \"variable\": \"Training set\", \"value\": 13.0}, {\"time\": \"2015-09-12T00:00:00.000\", \"variable\": \"Training set\", \"value\": 13.0}, {\"time\": \"2015-09-12T01:00:00.000\", \"variable\": \"Training set\", \"value\": 13.0}, {\"time\": \"2015-09-12T02:00:00.000\", \"variable\": \"Training set\", \"value\": 13.0}, {\"time\": \"2015-09-12T03:00:00.000\", \"variable\": \"Training set\", \"value\": 13.0}, {\"time\": \"2015-09-12T04:00:00.000\", \"variable\": \"Training set\", \"value\": 13.0}, {\"time\": \"2015-09-12T05:00:00.000\", \"variable\": \"Training set\", \"value\": 16.0}, {\"time\": \"2015-09-12T06:00:00.000\", \"variable\": \"Training set\", \"value\": 47.0}, {\"time\": \"2015-09-12T07:00:00.000\", \"variable\": \"Training set\", \"value\": 485.0}, {\"time\": \"2015-09-12T08:00:00.000\", \"variable\": \"Training set\", \"value\": 1030.0}, {\"time\": \"2015-09-12T09:00:00.000\", \"variable\": \"Training set\", \"value\": 1607.0}, {\"time\": \"2015-09-12T10:00:00.000\", \"variable\": \"Training set\", \"value\": 1861.0}, {\"time\": \"2015-09-12T11:00:00.000\", \"variable\": \"Training set\", \"value\": 1831.0}, {\"time\": \"2015-09-12T12:00:00.000\", \"variable\": \"Training set\", \"value\": 1605.0}, {\"time\": \"2015-09-12T13:00:00.000\", \"variable\": \"Training set\", \"value\": 1175.0}, {\"time\": \"2015-09-12T14:00:00.000\", \"variable\": \"Training set\", \"value\": 588.0}, {\"time\": \"2015-09-12T15:00:00.000\", \"variable\": \"Training set\", \"value\": 103.0}, {\"time\": \"2015-09-12T16:00:00.000\", \"variable\": \"Training set\", \"value\": 35.0}, {\"time\": \"2015-09-12T17:00:00.000\", \"variable\": \"Training set\", \"value\": 24.0}, {\"time\": \"2015-09-12T18:00:00.000\", \"variable\": \"Training set\", \"value\": 21.0}, {\"time\": \"2015-09-12T19:00:00.000\", \"variable\": \"Training set\", \"value\": 13.0}, {\"time\": \"2015-09-12T20:00:00.000\", \"variable\": \"Training set\", \"value\": 13.0}, {\"time\": \"2015-09-12T21:00:00.000\", \"variable\": \"Training set\", \"value\": 13.0}, {\"time\": \"2015-09-12T22:00:00.000\", \"variable\": \"Training set\", \"value\": 291.0}, {\"time\": \"2015-09-12T23:00:00.000\", \"variable\": \"Training set\", \"value\": 192.0}, {\"time\": \"2015-09-13T00:00:00.000\", \"variable\": \"Training set\", \"value\": 112.0}, {\"time\": \"2015-09-13T01:00:00.000\", \"variable\": \"Training set\", \"value\": 47.0}, {\"time\": \"2015-09-13T02:00:00.000\", \"variable\": \"Training set\", \"value\": 34.0}, {\"time\": \"2015-09-13T03:00:00.000\", \"variable\": \"Training set\", \"value\": 34.0}, {\"time\": \"2015-09-13T04:00:00.000\", \"variable\": \"Training set\", \"value\": 33.0}, {\"time\": \"2015-09-13T05:00:00.000\", \"variable\": \"Training set\", \"value\": 32.0}, {\"time\": \"2015-09-13T06:00:00.000\", \"variable\": \"Training set\", \"value\": 181.0}, {\"time\": \"2015-09-13T07:00:00.000\", \"variable\": \"Training set\", \"value\": 892.0}, {\"time\": \"2015-09-13T08:00:00.000\", \"variable\": \"Training set\", \"value\": 2210.0}, {\"time\": \"2015-09-13T09:00:00.000\", \"variable\": \"Training set\", \"value\": 3415.0}, {\"time\": \"2015-09-13T10:00:00.000\", \"variable\": \"Training set\", \"value\": 4198.0}, {\"time\": \"2015-09-13T11:00:00.000\", \"variable\": \"Training set\", \"value\": 4603.0}, {\"time\": \"2015-09-13T12:00:00.000\", \"variable\": \"Training set\", \"value\": 4611.0}, {\"time\": \"2015-09-13T13:00:00.000\", \"variable\": \"Prediction\", \"value\": 4421.055420693778}, {\"time\": \"2015-09-13T14:00:00.000\", \"variable\": \"Prediction\", \"value\": 4014.4688897970887}, {\"time\": \"2015-09-13T15:00:00.000\", \"variable\": \"Prediction\", \"value\": 3243.314787949125}, {\"time\": \"2015-09-13T16:00:00.000\", \"variable\": \"Prediction\", \"value\": 2244.1515414293954}, {\"time\": \"2015-09-13T17:00:00.000\", \"variable\": \"Prediction\", \"value\": 1117.8537957499707}, {\"time\": \"2015-09-13T18:00:00.000\", \"variable\": \"Prediction\", \"value\": 520.6044107483872}, {\"time\": \"2015-09-13T19:00:00.000\", \"variable\": \"Prediction\", \"value\": 398.1212651167684}, {\"time\": \"2015-09-13T20:00:00.000\", \"variable\": \"Prediction\", \"value\": 330.8952509847468}, {\"time\": \"2015-09-13T21:00:00.000\", \"variable\": \"Prediction\", \"value\": 278.5764514442335}, {\"time\": \"2015-09-13T22:00:00.000\", \"variable\": \"Prediction\", \"value\": 200.09737715136293}, {\"time\": \"2015-09-13T23:00:00.000\", \"variable\": \"Prediction\", \"value\": 149.74669646100938}, {\"time\": \"2015-09-14T00:00:00.000\", \"variable\": \"Prediction\", \"value\": 120.43751064191542}, {\"time\": \"2015-09-14T01:00:00.000\", \"variable\": \"Prediction\", \"value\": 103.66161950031733}, {\"time\": \"2015-09-14T02:00:00.000\", \"variable\": \"Prediction\", \"value\": 65.60931938500562}, {\"time\": \"2015-09-14T03:00:00.000\", \"variable\": \"Prediction\", \"value\": 39.58402604705134}, {\"time\": \"2015-09-14T04:00:00.000\", \"variable\": \"Prediction\", \"value\": 55.613341527122884}, {\"time\": \"2015-09-14T05:00:00.000\", \"variable\": \"Prediction\", \"value\": 236.4730097377144}, {\"time\": \"2015-09-14T06:00:00.000\", \"variable\": \"Prediction\", \"value\": 972.2529595668245}, {\"time\": \"2015-09-14T07:00:00.000\", \"variable\": \"Prediction\", \"value\": 2143.1383076853563}, {\"time\": \"2015-09-14T08:00:00.000\", \"variable\": \"Prediction\", \"value\": 3215.5261010152}, {\"time\": \"2015-09-14T09:00:00.000\", \"variable\": \"Prediction\", \"value\": 3934.127058650786}, {\"time\": \"2015-09-14T10:00:00.000\", \"variable\": \"Prediction\", \"value\": 4285.439536510106}, {\"time\": \"2015-09-14T11:00:00.000\", \"variable\": \"Prediction\", \"value\": 4375.441784033208}, {\"time\": \"2015-09-14T12:00:00.000\", \"variable\": \"Prediction\", \"value\": 4255.729830822005}, {\"time\": \"2015-09-14T13:00:00.000\", \"variable\": \"Prediction\", \"value\": 3961.468688787254}, {\"time\": \"2015-09-14T14:00:00.000\", \"variable\": \"Prediction\", \"value\": 3381.916436753201}, {\"time\": \"2015-09-14T15:00:00.000\", \"variable\": \"Prediction\", \"value\": 2542.1650621948966}, {\"time\": \"2015-09-14T16:00:00.000\", \"variable\": \"Prediction\", \"value\": 1389.1225386559245}, {\"time\": \"2015-09-14T17:00:00.000\", \"variable\": \"Prediction\", \"value\": 634.6724000314699}, {\"time\": \"2015-09-14T18:00:00.000\", \"variable\": \"Prediction\", \"value\": 418.8749409524987}, {\"time\": \"2015-09-14T19:00:00.000\", \"variable\": \"Prediction\", \"value\": 324.173823023712}, {\"time\": \"2015-09-14T20:00:00.000\", \"variable\": \"Prediction\", \"value\": 295.3270881320948}, {\"time\": \"2015-09-14T21:00:00.000\", \"variable\": \"Prediction\", \"value\": 233.27590737516903}, {\"time\": \"2015-09-14T22:00:00.000\", \"variable\": \"Prediction\", \"value\": 190.61740343693873}, {\"time\": \"2015-09-14T23:00:00.000\", \"variable\": \"Prediction\", \"value\": 149.20486313045512}, {\"time\": \"2015-09-15T00:00:00.000\", \"variable\": \"Prediction\", \"value\": 114.77040380748281}, {\"time\": \"2015-09-15T01:00:00.000\", \"variable\": \"Prediction\", \"value\": 88.00325971681332}, {\"time\": \"2015-09-15T02:00:00.000\", \"variable\": \"Prediction\", \"value\": 51.208162171368485}, {\"time\": \"2015-09-15T03:00:00.000\", \"variable\": \"Prediction\", \"value\": 73.882302168269}, {\"time\": \"2015-09-15T04:00:00.000\", \"variable\": \"Prediction\", \"value\": 291.7731452416565}, {\"time\": \"2015-09-15T05:00:00.000\", \"variable\": \"Prediction\", \"value\": 986.3992775551272}, {\"time\": \"2015-09-15T06:00:00.000\", \"variable\": \"Prediction\", \"value\": 2041.6865129544535}, {\"time\": \"2015-09-15T07:00:00.000\", \"variable\": \"Prediction\", \"value\": 2955.305961069812}, {\"time\": \"2015-09-15T08:00:00.000\", \"variable\": \"Prediction\", \"value\": 3616.623527736615}, {\"time\": \"2015-09-15T09:00:00.000\", \"variable\": \"Prediction\", \"value\": 3979.5415276264894}, {\"time\": \"2015-09-15T10:00:00.000\", \"variable\": \"Prediction\", \"value\": 4132.888059353216}, {\"time\": \"2015-09-15T11:00:00.000\", \"variable\": \"Prediction\", \"value\": 4075.5245839349323}, {\"time\": \"2015-09-15T12:00:00.000\", \"variable\": \"Prediction\", \"value\": 3809.7412939687033}, {\"time\": \"2015-09-13T13:00:00.000\", \"variable\": \"Truth\", \"value\": 4599.0}, {\"time\": \"2015-09-13T14:00:00.000\", \"variable\": \"Truth\", \"value\": 4261.0}, {\"time\": \"2015-09-13T15:00:00.000\", \"variable\": \"Truth\", \"value\": 3805.0}, {\"time\": \"2015-09-13T16:00:00.000\", \"variable\": \"Truth\", \"value\": 3118.0}, {\"time\": \"2015-09-13T17:00:00.000\", \"variable\": \"Truth\", \"value\": 1844.0}, {\"time\": \"2015-09-13T18:00:00.000\", \"variable\": \"Truth\", \"value\": 747.0}, {\"time\": \"2015-09-13T19:00:00.000\", \"variable\": \"Truth\", \"value\": 557.0}, {\"time\": \"2015-09-13T20:00:00.000\", \"variable\": \"Truth\", \"value\": 436.0}, {\"time\": \"2015-09-13T21:00:00.000\", \"variable\": \"Truth\", \"value\": 327.0}, {\"time\": \"2015-09-13T22:00:00.000\", \"variable\": \"Truth\", \"value\": 300.0}, {\"time\": \"2015-09-13T23:00:00.000\", \"variable\": \"Truth\", \"value\": 240.0}, {\"time\": \"2015-09-14T00:00:00.000\", \"variable\": \"Truth\", \"value\": 138.0}, {\"time\": \"2015-09-14T01:00:00.000\", \"variable\": \"Truth\", \"value\": 69.0}, {\"time\": \"2015-09-14T02:00:00.000\", \"variable\": \"Truth\", \"value\": 55.0}, {\"time\": \"2015-09-14T03:00:00.000\", \"variable\": \"Truth\", \"value\": 48.0}, {\"time\": \"2015-09-14T04:00:00.000\", \"variable\": \"Truth\", \"value\": 52.0}, {\"time\": \"2015-09-14T05:00:00.000\", \"variable\": \"Truth\", \"value\": 51.0}, {\"time\": \"2015-09-14T06:00:00.000\", \"variable\": \"Truth\", \"value\": 170.0}, {\"time\": \"2015-09-14T07:00:00.000\", \"variable\": \"Truth\", \"value\": 803.0}, {\"time\": \"2015-09-14T08:00:00.000\", \"variable\": \"Truth\", \"value\": 1816.0}, {\"time\": \"2015-09-14T09:00:00.000\", \"variable\": \"Truth\", \"value\": 2619.0}, {\"time\": \"2015-09-14T10:00:00.000\", \"variable\": \"Truth\", \"value\": 3354.0}, {\"time\": \"2015-09-14T11:00:00.000\", \"variable\": \"Truth\", \"value\": 3743.0}, {\"time\": \"2015-09-14T12:00:00.000\", \"variable\": \"Truth\", \"value\": 4164.0}, {\"time\": \"2015-09-14T13:00:00.000\", \"variable\": \"Truth\", \"value\": 4473.0}, {\"time\": \"2015-09-14T14:00:00.000\", \"variable\": \"Truth\", \"value\": 4514.0}, {\"time\": \"2015-09-14T15:00:00.000\", \"variable\": \"Truth\", \"value\": 4171.0}, {\"time\": \"2015-09-14T16:00:00.000\", \"variable\": \"Truth\", \"value\": 3403.0}, {\"time\": \"2015-09-14T17:00:00.000\", \"variable\": \"Truth\", \"value\": 1872.0}, {\"time\": \"2015-09-14T18:00:00.000\", \"variable\": \"Truth\", \"value\": 743.0}, {\"time\": \"2015-09-14T19:00:00.000\", \"variable\": \"Truth\", \"value\": 421.0}, {\"time\": \"2015-09-14T20:00:00.000\", \"variable\": \"Truth\", \"value\": 296.0}, {\"time\": \"2015-09-14T21:00:00.000\", \"variable\": \"Truth\", \"value\": 229.0}, {\"time\": \"2015-09-14T22:00:00.000\", \"variable\": \"Truth\", \"value\": 167.0}, {\"time\": \"2015-09-14T23:00:00.000\", \"variable\": \"Truth\", \"value\": 128.0}, {\"time\": \"2015-09-15T00:00:00.000\", \"variable\": \"Truth\", \"value\": 96.0}, {\"time\": \"2015-09-15T01:00:00.000\", \"variable\": \"Truth\", \"value\": 83.0}, {\"time\": \"2015-09-15T02:00:00.000\", \"variable\": \"Truth\", \"value\": 66.0}, {\"time\": \"2015-09-15T03:00:00.000\", \"variable\": \"Truth\", \"value\": 52.0}, {\"time\": \"2015-09-15T04:00:00.000\", \"variable\": \"Truth\", \"value\": 51.0}, {\"time\": \"2015-09-15T05:00:00.000\", \"variable\": \"Truth\", \"value\": 49.0}, {\"time\": \"2015-09-15T06:00:00.000\", \"variable\": \"Truth\", \"value\": 225.0}, {\"time\": \"2015-09-15T07:00:00.000\", \"variable\": \"Truth\", \"value\": 1052.0}, {\"time\": \"2015-09-15T08:00:00.000\", \"variable\": \"Truth\", \"value\": 2569.0}, {\"time\": \"2015-09-15T09:00:00.000\", \"variable\": \"Truth\", \"value\": 3237.0}, {\"time\": \"2015-09-15T10:00:00.000\", \"variable\": \"Truth\", \"value\": 3401.0}, {\"time\": \"2015-09-15T11:00:00.000\", \"variable\": \"Truth\", \"value\": 3498.0}, {\"time\": \"2015-09-15T12:00:00.000\", \"variable\": \"Truth\", \"value\": 3149.0}], \"transform\": [{\"type\": \"formula\", \"expr\": \"toDate(datum['time'])\", \"as\": \"time\"}]}, {\"name\": \"source_0_y_domain_value\", \"values\": [{\"min\": 13.0, \"max\": 4611.0}]}, {\"name\": \"source_0_color_domain_variable\", \"values\": [{\"variable\": \"Training set\"}, {\"variable\": \"Prediction\"}, {\"variable\": \"Truth\"}]}], \"marks\": [{\"type\": \"group\", \"name\": \"pathgroup\", \"from\": {\"facet\": {\"data\": \"source_0\", \"name\": \"faceted_path_main\", \"groupby\": [\"variable\"]}}, \"encode\": {\"update\": {\"height\": {\"field\": {\"signal\": null, \"datum\": null, \"group\": \"height\", \"parent\": null}}, \"width\": {\"field\": {\"signal\": null, \"datum\": null, \"group\": \"width\", \"parent\": null}}}}, \"marks\": [{\"type\": \"line\", \"name\": \"marks\", \"from\": {\"data\": \"faceted_path_main\"}, \"sort\": {\"field\": \"datum[\\\"time\\\"]\"}, \"encode\": {\"update\": {\"strokeDash\": [{\"value\": [5, 2], \"test\": \"(datum.variable === 'Truth')\"}, {\"value\": [0]}], \"description\": {\"signal\": \"\\\"time: \\\" + (timeFormat(datum[\\\"time\\\"], '%b %d, %Y')) + \\\"; value: \\\" + (format(datum[\\\"value\\\"], \\\"\\\")) + \\\"; variable: \\\" + (isValid(datum[\\\"variable\\\"]) ? datum[\\\"variable\\\"] : \\\"\\\"+datum[\\\"variable\\\"])\"}, \"opacity\": [{\"value\": 0.5, \"test\": \"(datum.variable === 'Truth')\"}, {\"value\": 1}], \"x\": {\"field\": \"time\", \"scale\": \"x\"}, \"stroke\": {\"field\": \"variable\", \"scale\": \"color\"}, \"y\": {\"field\": \"value\", \"scale\": \"y\"}, \"defined\": {\"signal\": \"isValid(datum[\\\"time\\\"]) && isFinite(+datum[\\\"time\\\"]) && isValid(datum[\\\"value\\\"]) && isFinite(+datum[\\\"value\\\"])\"}}}, \"style\": [\"line\"]}]}], \"scales\": [{\"name\": \"x\", \"type\": \"time\", \"domain\": {\"data\": \"source_0\", \"field\": \"time\"}, \"range\": [0, {\"signal\": \"width\"}]}, {\"name\": \"y\", \"type\": \"linear\", \"domain\": [{\"signal\": \"(data(\\\"source_0_y_domain_value\\\")[0] || {}).min\"}, {\"signal\": \"(data(\\\"source_0_y_domain_value\\\")[0] || {}).max\"}], \"range\": [{\"signal\": \"height\"}, 0], \"nice\": true, \"zero\": true}, {\"name\": \"color\", \"type\": \"ordinal\", \"domain\": {\"data\": \"source_0_color_domain_variable\", \"field\": \"variable\", \"sort\": true}, \"range\": \"category\"}], \"axes\": [{\"scale\": \"x\", \"gridScale\": \"y\", \"tickCount\": {\"signal\": \"ceil(width/40)\"}, \"orient\": \"bottom\", \"domain\": false, \"aria\": false, \"zindex\": 0, \"maxExtent\": 0, \"labels\": false, \"minExtent\": 0, \"grid\": true, \"ticks\": false}, {\"scale\": \"y\", \"tickCount\": {\"signal\": \"ceil(height/40)\"}, \"orient\": \"left\", \"ticks\": false, \"zindex\": 0, \"minExtent\": 0, \"grid\": true, \"gridScale\": \"x\", \"aria\": false, \"maxExtent\": 0, \"labels\": false, \"domain\": false}, {\"scale\": \"x\", \"labelOverlap\": true, \"orient\": \"bottom\", \"grid\": false, \"tickCount\": {\"signal\": \"ceil(width/40)\"}, \"zindex\": 0, \"labelFlush\": true, \"title\": \"time\"}, {\"scale\": \"y\", \"grid\": false, \"labelOverlap\": true, \"tickCount\": {\"signal\": \"ceil(height/40)\"}, \"zindex\": 0, \"title\": \"value\", \"orient\": \"left\"}], \"height\": 300, \"style\": \"cell\", \"legends\": [{\"stroke\": \"color\", \"symbolType\": \"stroke\", \"title\": \"variable\", \"encode\": {\"symbols\": {\"update\": {\"opacity\": {\"value\": 1}}}}}], \"padding\": 5, \"width\": 500, \"background\": \"white\"}, {\"mode\": \"vega\"});\n",
       "</script>"
      ],
      "text/plain": [
       "alt.Chart(...)"
      ]
     },
     "execution_count": 16,
     "metadata": {},
     "output_type": "execute_result"
    }
   ],
   "source": [
    "on.plots.prediction(train[-96:], pred, test[:48])"
   ]
  },
  {
   "cell_type": "markdown",
   "id": "dc965c95-1b5c-43e4-9c4b-57ff73c275c1",
   "metadata": {
    "papermill": {
     "duration": 0.003523,
     "end_time": "2024-01-31T17:49:11.996207",
     "exception": false,
     "start_time": "2024-01-31T17:49:11.992684",
     "status": "completed"
    },
    "tags": []
   },
   "source": [
    "## Generic Detector"
   ]
  },
  {
   "cell_type": "code",
   "execution_count": 17,
   "id": "9751b373-97d3-45e9-9969-2b4ba224f815",
   "metadata": {
    "execution": {
     "iopub.execute_input": "2024-01-31T17:49:12.003884Z",
     "iopub.status.busy": "2024-01-31T17:49:12.003623Z",
     "iopub.status.idle": "2024-01-31T17:49:12.005491Z",
     "shell.execute_reply": "2024-01-31T17:49:12.005251Z"
    },
    "papermill": {
     "duration": 0.006672,
     "end_time": "2024-01-31T17:49:12.006362",
     "exception": false,
     "start_time": "2024-01-31T17:49:11.999690",
     "status": "completed"
    },
    "tags": []
   },
   "outputs": [],
   "source": [
    "model = on.context.common.GenericDetector()"
   ]
  },
  {
   "cell_type": "code",
   "execution_count": 18,
   "id": "89be0c48-0ab6-42b4-ab64-611b95d2a76f",
   "metadata": {
    "execution": {
     "iopub.execute_input": "2024-01-31T17:49:12.013687Z",
     "iopub.status.busy": "2024-01-31T17:49:12.013582Z",
     "iopub.status.idle": "2024-01-31T17:49:13.143296Z",
     "shell.execute_reply": "2024-01-31T17:49:13.142962Z"
    },
    "papermill": {
     "duration": 1.134506,
     "end_time": "2024-01-31T17:49:13.144278",
     "exception": false,
     "start_time": "2024-01-31T17:49:12.009772",
     "status": "completed"
    },
    "tags": []
   },
   "outputs": [
    {
     "data": {
      "text/plain": [
       "<ontime.context.common.generic_detector.GenericDetector at 0x2bed40160>"
      ]
     },
     "execution_count": 18,
     "metadata": {},
     "output_type": "execute_result"
    }
   ],
   "source": [
    "model.fit(train)"
   ]
  },
  {
   "cell_type": "markdown",
   "id": "06be738b-8bfd-4c95-8dec-ed52803e5ff9",
   "metadata": {
    "papermill": {
     "duration": 0.003534,
     "end_time": "2024-01-31T17:49:13.151717",
     "exception": false,
     "start_time": "2024-01-31T17:49:13.148183",
     "status": "completed"
    },
    "tags": []
   },
   "source": [
    "Does the current signal has problem ? "
   ]
  },
  {
   "cell_type": "code",
   "execution_count": 19,
   "id": "4650f34a-9cdb-4ea6-9dfe-2c66109b2627",
   "metadata": {
    "execution": {
     "iopub.execute_input": "2024-01-31T17:49:13.159310Z",
     "iopub.status.busy": "2024-01-31T17:49:13.159191Z",
     "iopub.status.idle": "2024-01-31T17:49:13.166444Z",
     "shell.execute_reply": "2024-01-31T17:49:13.166179Z"
    },
    "papermill": {
     "duration": 0.012201,
     "end_time": "2024-01-31T17:49:13.167405",
     "exception": false,
     "start_time": "2024-01-31T17:49:13.155204",
     "status": "completed"
    },
    "tags": []
   },
   "outputs": [],
   "source": [
    "detected_test = model.detect(test)"
   ]
  },
  {
   "cell_type": "code",
   "execution_count": 20,
   "id": "49e09caa-37f1-4201-b79a-4d1d65d86a8c",
   "metadata": {
    "execution": {
     "iopub.execute_input": "2024-01-31T17:49:13.174994Z",
     "iopub.status.busy": "2024-01-31T17:49:13.174887Z",
     "iopub.status.idle": "2024-01-31T17:49:13.209565Z",
     "shell.execute_reply": "2024-01-31T17:49:13.209250Z"
    },
    "papermill": {
     "duration": 0.03959,
     "end_time": "2024-01-31T17:49:13.210537",
     "exception": false,
     "start_time": "2024-01-31T17:49:13.170947",
     "status": "completed"
    },
    "tags": []
   },
   "outputs": [
    {
     "data": {
      "text/html": [
       "\n",
       "<style>\n",
       "  #altair-viz-4010dc914b7b485c94c5cebb5d48544a.vega-embed {\n",
       "    width: 100%;\n",
       "    display: flex;\n",
       "  }\n",
       "\n",
       "  #altair-viz-4010dc914b7b485c94c5cebb5d48544a.vega-embed details,\n",
       "  #altair-viz-4010dc914b7b485c94c5cebb5d48544a.vega-embed details summary {\n",
       "    position: relative;\n",
       "  }\n",
       "</style>\n",
       "<div id=\"altair-viz-4010dc914b7b485c94c5cebb5d48544a\"></div>\n",
       "<script type=\"text/javascript\">\n",
       "  var VEGA_DEBUG = (typeof VEGA_DEBUG == \"undefined\") ? {} : VEGA_DEBUG;\n",
       "  (function(spec, embedOpt){\n",
       "    let outputDiv = document.currentScript.previousElementSibling;\n",
       "    if (outputDiv.id !== \"altair-viz-4010dc914b7b485c94c5cebb5d48544a\") {\n",
       "      outputDiv = document.getElementById(\"altair-viz-4010dc914b7b485c94c5cebb5d48544a\");\n",
       "    }\n",
       "    const paths = {\n",
       "      \"vega\": \"https://cdn.jsdelivr.net/npm/vega@5?noext\",\n",
       "      \"vega-lib\": \"https://cdn.jsdelivr.net/npm/vega-lib?noext\",\n",
       "      \"vega-lite\": \"https://cdn.jsdelivr.net/npm/vega-lite@5.16.3?noext\",\n",
       "      \"vega-embed\": \"https://cdn.jsdelivr.net/npm/vega-embed@6?noext\",\n",
       "    };\n",
       "\n",
       "    function maybeLoadScript(lib, version) {\n",
       "      var key = `${lib.replace(\"-\", \"\")}_version`;\n",
       "      return (VEGA_DEBUG[key] == version) ?\n",
       "        Promise.resolve(paths[lib]) :\n",
       "        new Promise(function(resolve, reject) {\n",
       "          var s = document.createElement('script');\n",
       "          document.getElementsByTagName(\"head\")[0].appendChild(s);\n",
       "          s.async = true;\n",
       "          s.onload = () => {\n",
       "            VEGA_DEBUG[key] = version;\n",
       "            return resolve(paths[lib]);\n",
       "          };\n",
       "          s.onerror = () => reject(`Error loading script: ${paths[lib]}`);\n",
       "          s.src = paths[lib];\n",
       "        });\n",
       "    }\n",
       "\n",
       "    function showError(err) {\n",
       "      outputDiv.innerHTML = `<div class=\"error\" style=\"color:red;\">${err}</div>`;\n",
       "      throw err;\n",
       "    }\n",
       "\n",
       "    function displayChart(vegaEmbed) {\n",
       "      vegaEmbed(outputDiv, spec, embedOpt)\n",
       "        .catch(err => showError(`Javascript Error: ${err.message}<br>This usually means there's a typo in your chart specification. See the javascript console for the full traceback.`));\n",
       "    }\n",
       "\n",
       "    if(typeof define === \"function\" && define.amd) {\n",
       "      requirejs.config({paths});\n",
       "      require([\"vega-embed\"], displayChart, err => showError(`Error loading script: ${err.message}`));\n",
       "    } else {\n",
       "      maybeLoadScript(\"vega\", \"5\")\n",
       "        .then(() => maybeLoadScript(\"vega-lite\", \"5.16.3\"))\n",
       "        .then(() => maybeLoadScript(\"vega-embed\", \"6\"))\n",
       "        .catch(showError)\n",
       "        .then(() => displayChart(vegaEmbed));\n",
       "    }\n",
       "  })({\"$schema\": \"https://vega.github.io/schema/vega/v5.json\", \"data\": [{\"name\": \"source_0\", \"values\": [{\"anomaly\": 1.0, \"signal\": 4599.0, \"time\": \"2015-09-13T13:00:00.000\"}, {\"anomaly\": 1.0, \"signal\": 4261.0, \"time\": \"2015-09-13T14:00:00.000\"}, {\"anomaly\": 1.0, \"signal\": 3805.0, \"time\": \"2015-09-13T15:00:00.000\"}, {\"anomaly\": 0.0, \"signal\": 3118.0, \"time\": \"2015-09-13T16:00:00.000\"}, {\"anomaly\": 0.0, \"signal\": 1844.0, \"time\": \"2015-09-13T17:00:00.000\"}, {\"anomaly\": 0.0, \"signal\": 747.0, \"time\": \"2015-09-13T18:00:00.000\"}, {\"anomaly\": 0.0, \"signal\": 557.0, \"time\": \"2015-09-13T19:00:00.000\"}, {\"anomaly\": 0.0, \"signal\": 436.0, \"time\": \"2015-09-13T20:00:00.000\"}, {\"anomaly\": 0.0, \"signal\": 327.0, \"time\": \"2015-09-13T21:00:00.000\"}, {\"anomaly\": 0.0, \"signal\": 300.0, \"time\": \"2015-09-13T22:00:00.000\"}, {\"anomaly\": 0.0, \"signal\": 240.0, \"time\": \"2015-09-13T23:00:00.000\"}, {\"anomaly\": 0.0, \"signal\": 138.0, \"time\": \"2015-09-14T00:00:00.000\"}, {\"anomaly\": 1.0, \"signal\": 69.0, \"time\": \"2015-09-14T01:00:00.000\"}, {\"anomaly\": 1.0, \"signal\": 55.0, \"time\": \"2015-09-14T02:00:00.000\"}, {\"anomaly\": 1.0, \"signal\": 48.0, \"time\": \"2015-09-14T03:00:00.000\"}, {\"anomaly\": 1.0, \"signal\": 52.0, \"time\": \"2015-09-14T04:00:00.000\"}, {\"anomaly\": 1.0, \"signal\": 51.0, \"time\": \"2015-09-14T05:00:00.000\"}, {\"anomaly\": 0.0, \"signal\": 170.0, \"time\": \"2015-09-14T06:00:00.000\"}, {\"anomaly\": 0.0, \"signal\": 803.0, \"time\": \"2015-09-14T07:00:00.000\"}, {\"anomaly\": 0.0, \"signal\": 1816.0, \"time\": \"2015-09-14T08:00:00.000\"}, {\"anomaly\": 0.0, \"signal\": 2619.0, \"time\": \"2015-09-14T09:00:00.000\"}, {\"anomaly\": 0.0, \"signal\": 3354.0, \"time\": \"2015-09-14T10:00:00.000\"}, {\"anomaly\": 1.0, \"signal\": 3743.0, \"time\": \"2015-09-14T11:00:00.000\"}, {\"anomaly\": 1.0, \"signal\": 4164.0, \"time\": \"2015-09-14T12:00:00.000\"}, {\"anomaly\": 1.0, \"signal\": 4473.0, \"time\": \"2015-09-14T13:00:00.000\"}, {\"anomaly\": 1.0, \"signal\": 4514.0, \"time\": \"2015-09-14T14:00:00.000\"}, {\"anomaly\": 1.0, \"signal\": 4171.0, \"time\": \"2015-09-14T15:00:00.000\"}, {\"anomaly\": 0.0, \"signal\": 3403.0, \"time\": \"2015-09-14T16:00:00.000\"}, {\"anomaly\": 0.0, \"signal\": 1872.0, \"time\": \"2015-09-14T17:00:00.000\"}, {\"anomaly\": 0.0, \"signal\": 743.0, \"time\": \"2015-09-14T18:00:00.000\"}, {\"anomaly\": 0.0, \"signal\": 421.0, \"time\": \"2015-09-14T19:00:00.000\"}, {\"anomaly\": 0.0, \"signal\": 296.0, \"time\": \"2015-09-14T20:00:00.000\"}, {\"anomaly\": 0.0, \"signal\": 229.0, \"time\": \"2015-09-14T21:00:00.000\"}, {\"anomaly\": 0.0, \"signal\": 167.0, \"time\": \"2015-09-14T22:00:00.000\"}, {\"anomaly\": 0.0, \"signal\": 128.0, \"time\": \"2015-09-14T23:00:00.000\"}, {\"anomaly\": 0.0, \"signal\": 96.0, \"time\": \"2015-09-15T00:00:00.000\"}, {\"anomaly\": 0.0, \"signal\": 83.0, \"time\": \"2015-09-15T01:00:00.000\"}, {\"anomaly\": 1.0, \"signal\": 66.0, \"time\": \"2015-09-15T02:00:00.000\"}, {\"anomaly\": 1.0, \"signal\": 52.0, \"time\": \"2015-09-15T03:00:00.000\"}, {\"anomaly\": 1.0, \"signal\": 51.0, \"time\": \"2015-09-15T04:00:00.000\"}, {\"anomaly\": 1.0, \"signal\": 49.0, \"time\": \"2015-09-15T05:00:00.000\"}, {\"anomaly\": 0.0, \"signal\": 225.0, \"time\": \"2015-09-15T06:00:00.000\"}, {\"anomaly\": 0.0, \"signal\": 1052.0, \"time\": \"2015-09-15T07:00:00.000\"}, {\"anomaly\": 0.0, \"signal\": 2569.0, \"time\": \"2015-09-15T08:00:00.000\"}, {\"anomaly\": 0.0, \"signal\": 3237.0, \"time\": \"2015-09-15T09:00:00.000\"}, {\"anomaly\": 0.0, \"signal\": 3401.0, \"time\": \"2015-09-15T10:00:00.000\"}, {\"anomaly\": 0.0, \"signal\": 3498.0, \"time\": \"2015-09-15T11:00:00.000\"}, {\"anomaly\": 0.0, \"signal\": 3149.0, \"time\": \"2015-09-15T12:00:00.000\"}, {\"anomaly\": 0.0, \"signal\": 2914.0, \"time\": \"2015-09-15T13:00:00.000\"}, {\"anomaly\": 0.0, \"signal\": 2412.0, \"time\": \"2015-09-15T14:00:00.000\"}, {\"anomaly\": 0.0, \"signal\": 1640.0, \"time\": \"2015-09-15T15:00:00.000\"}, {\"anomaly\": 0.0, \"signal\": 1044.0, \"time\": \"2015-09-15T16:00:00.000\"}, {\"anomaly\": 0.0, \"signal\": 529.0, \"time\": \"2015-09-15T17:00:00.000\"}, {\"anomaly\": 0.0, \"signal\": 281.0, \"time\": \"2015-09-15T18:00:00.000\"}, {\"anomaly\": 0.0, \"signal\": 224.0, \"time\": \"2015-09-15T19:00:00.000\"}, {\"anomaly\": 0.0, \"signal\": 220.0, \"time\": \"2015-09-15T20:00:00.000\"}, {\"anomaly\": 0.0, \"signal\": 116.0, \"time\": \"2015-09-15T21:00:00.000\"}, {\"anomaly\": 0.0, \"signal\": 77.0, \"time\": \"2015-09-15T22:00:00.000\"}, {\"anomaly\": 1.0, \"signal\": 44.0, \"time\": \"2015-09-15T23:00:00.000\"}, {\"anomaly\": 1.0, \"signal\": 41.0, \"time\": \"2015-09-16T00:00:00.000\"}, {\"anomaly\": 1.0, \"signal\": 42.0, \"time\": \"2015-09-16T01:00:00.000\"}, {\"anomaly\": 1.0, \"signal\": 42.0, \"time\": \"2015-09-16T02:00:00.000\"}, {\"anomaly\": 1.0, \"signal\": 37.0, \"time\": \"2015-09-16T03:00:00.000\"}, {\"anomaly\": 1.0, \"signal\": 22.0, \"time\": \"2015-09-16T04:00:00.000\"}, {\"anomaly\": 1.0, \"signal\": 23.0, \"time\": \"2015-09-16T05:00:00.000\"}, {\"anomaly\": 0.0, \"signal\": 171.0, \"time\": \"2015-09-16T06:00:00.000\"}, {\"anomaly\": 0.0, \"signal\": 824.0, \"time\": \"2015-09-16T07:00:00.000\"}, {\"anomaly\": 0.0, \"signal\": 1512.0, \"time\": \"2015-09-16T08:00:00.000\"}, {\"anomaly\": 0.0, \"signal\": 1883.0, \"time\": \"2015-09-16T09:00:00.000\"}, {\"anomaly\": 0.0, \"signal\": 2155.0, \"time\": \"2015-09-16T10:00:00.000\"}, {\"anomaly\": 0.0, \"signal\": 2337.0, \"time\": \"2015-09-16T11:00:00.000\"}, {\"anomaly\": 0.0, \"signal\": 2402.0, \"time\": \"2015-09-16T12:00:00.000\"}], \"transform\": [{\"type\": \"formula\", \"expr\": \"toDate(datum['time'])\", \"as\": \"time\"}]}, {\"name\": \"data_0\", \"values\": [{\"signal\": 4599.0, \"time\": \"2015-09-13T13:00:00.000\"}, {\"signal\": 4261.0, \"time\": \"2015-09-13T14:00:00.000\"}, {\"signal\": 3805.0, \"time\": \"2015-09-13T15:00:00.000\"}, {\"signal\": 69.0, \"time\": \"2015-09-14T01:00:00.000\"}, {\"signal\": 55.0, \"time\": \"2015-09-14T02:00:00.000\"}, {\"signal\": 48.0, \"time\": \"2015-09-14T03:00:00.000\"}, {\"signal\": 52.0, \"time\": \"2015-09-14T04:00:00.000\"}, {\"signal\": 51.0, \"time\": \"2015-09-14T05:00:00.000\"}, {\"signal\": 3743.0, \"time\": \"2015-09-14T11:00:00.000\"}, {\"signal\": 4164.0, \"time\": \"2015-09-14T12:00:00.000\"}, {\"signal\": 4473.0, \"time\": \"2015-09-14T13:00:00.000\"}, {\"signal\": 4514.0, \"time\": \"2015-09-14T14:00:00.000\"}, {\"signal\": 4171.0, \"time\": \"2015-09-14T15:00:00.000\"}, {\"signal\": 66.0, \"time\": \"2015-09-15T02:00:00.000\"}, {\"signal\": 52.0, \"time\": \"2015-09-15T03:00:00.000\"}, {\"signal\": 51.0, \"time\": \"2015-09-15T04:00:00.000\"}, {\"signal\": 49.0, \"time\": \"2015-09-15T05:00:00.000\"}, {\"signal\": 44.0, \"time\": \"2015-09-15T23:00:00.000\"}, {\"signal\": 41.0, \"time\": \"2015-09-16T00:00:00.000\"}, {\"signal\": 42.0, \"time\": \"2015-09-16T01:00:00.000\"}, {\"signal\": 42.0, \"time\": \"2015-09-16T02:00:00.000\"}, {\"signal\": 37.0, \"time\": \"2015-09-16T03:00:00.000\"}, {\"signal\": 22.0, \"time\": \"2015-09-16T04:00:00.000\"}, {\"signal\": 23.0, \"time\": \"2015-09-16T05:00:00.000\"}], \"transform\": [{\"type\": \"formula\", \"expr\": \"toDate(datum['time'])\", \"as\": \"time\"}]}], \"marks\": [{\"type\": \"line\", \"name\": \"layer_0_marks\", \"from\": {\"data\": \"source_0\"}, \"sort\": {\"field\": \"datum[\\\"time\\\"]\"}, \"encode\": {\"update\": {\"x\": {\"field\": \"time\", \"scale\": \"x\"}, \"description\": {\"signal\": \"\\\"time: \\\" + (timeFormat(datum[\\\"time\\\"], '%b %d, %Y')) + \\\"; signal: \\\" + (format(datum[\\\"signal\\\"], \\\"\\\"))\"}, \"defined\": {\"signal\": \"isValid(datum[\\\"time\\\"]) && isFinite(+datum[\\\"time\\\"]) && isValid(datum[\\\"signal\\\"]) && isFinite(+datum[\\\"signal\\\"])\"}, \"y\": {\"field\": \"signal\", \"scale\": \"y\"}, \"stroke\": {\"value\": \"#4c78a8\"}}}, \"style\": [\"line\"]}, {\"type\": \"symbol\", \"name\": \"layer_1_marks\", \"from\": {\"data\": \"data_0\"}, \"encode\": {\"update\": {\"size\": {\"value\": 60}, \"fill\": {\"value\": \"red\"}, \"y\": {\"field\": \"signal\", \"scale\": \"y\"}, \"x\": {\"field\": \"time\", \"scale\": \"x\"}, \"description\": {\"signal\": \"\\\"time: \\\" + (timeFormat(datum[\\\"time\\\"], '%b %d, %Y')) + \\\"; signal: \\\" + (format(datum[\\\"signal\\\"], \\\"\\\"))\"}, \"shape\": {\"value\": \"circle\"}, \"ariaRoleDescription\": {\"value\": \"circle\"}, \"opacity\": {\"value\": 0.7}}}, \"style\": [\"circle\"]}], \"scales\": [{\"name\": \"x\", \"type\": \"time\", \"domain\": {\"fields\": [{\"data\": \"source_0\", \"field\": \"time\"}, {\"data\": \"data_0\", \"field\": \"time\"}]}, \"range\": [0, {\"signal\": \"width\"}]}, {\"name\": \"y\", \"type\": \"linear\", \"domain\": {\"fields\": [{\"data\": \"source_0\", \"field\": \"signal\"}, {\"data\": \"data_0\", \"field\": \"signal\"}]}, \"range\": [{\"signal\": \"height\"}, 0], \"nice\": true, \"zero\": true}], \"axes\": [{\"scale\": \"x\", \"aria\": false, \"labels\": false, \"minExtent\": 0, \"grid\": true, \"maxExtent\": 0, \"zindex\": 0, \"ticks\": false, \"orient\": \"bottom\", \"gridScale\": \"y\", \"tickCount\": {\"signal\": \"ceil(width/40)\"}, \"domain\": false}, {\"scale\": \"y\", \"minExtent\": 0, \"zindex\": 0, \"maxExtent\": 0, \"domain\": false, \"labels\": false, \"aria\": false, \"grid\": true, \"gridScale\": \"x\", \"ticks\": false, \"tickCount\": {\"signal\": \"ceil(height/40)\"}, \"orient\": \"left\"}, {\"scale\": \"x\", \"labelFlush\": true, \"zindex\": 0, \"grid\": false, \"tickCount\": {\"signal\": \"ceil(width/40)\"}, \"orient\": \"bottom\", \"title\": \"time\", \"labelOverlap\": true}, {\"scale\": \"y\", \"tickCount\": {\"signal\": \"ceil(height/40)\"}, \"zindex\": 0, \"labelOverlap\": true, \"orient\": \"left\", \"title\": \"signal\", \"grid\": false}], \"style\": \"cell\", \"padding\": 5, \"width\": 500, \"background\": \"white\", \"height\": 300}, {\"mode\": \"vega\"});\n",
       "</script>"
      ],
      "text/plain": [
       "alt.LayerChart(...)"
      ]
     },
     "execution_count": 20,
     "metadata": {},
     "output_type": "execute_result"
    }
   ],
   "source": [
    "on.plots.anomalies(test[:72], detected_test[:72])"
   ]
  },
  {
   "cell_type": "markdown",
   "id": "2af5c7ba-1617-46f0-9551-67cc51ac1884",
   "metadata": {
    "papermill": {
     "duration": 0.003676,
     "end_time": "2024-01-31T17:49:13.217956",
     "exception": false,
     "start_time": "2024-01-31T17:49:13.214280",
     "status": "completed"
    },
    "tags": []
   },
   "source": [
    "What if we want to have an idea about the future problems ?"
   ]
  },
  {
   "cell_type": "code",
   "execution_count": 21,
   "id": "866533ed-bdab-4b29-bc91-50ed0043e84a",
   "metadata": {
    "execution": {
     "iopub.execute_input": "2024-01-31T17:49:13.225681Z",
     "iopub.status.busy": "2024-01-31T17:49:13.225567Z",
     "iopub.status.idle": "2024-01-31T17:49:13.245668Z",
     "shell.execute_reply": "2024-01-31T17:49:13.245374Z"
    },
    "papermill": {
     "duration": 0.025119,
     "end_time": "2024-01-31T17:49:13.246629",
     "exception": false,
     "start_time": "2024-01-31T17:49:13.221510",
     "status": "completed"
    },
    "tags": []
   },
   "outputs": [],
   "source": [
    "predetected = model.predetect(72)"
   ]
  },
  {
   "cell_type": "code",
   "execution_count": 22,
   "id": "44bff6ea-f249-48b6-816f-c49e0d264520",
   "metadata": {
    "execution": {
     "iopub.execute_input": "2024-01-31T17:49:13.254507Z",
     "iopub.status.busy": "2024-01-31T17:49:13.254403Z",
     "iopub.status.idle": "2024-01-31T17:49:13.285681Z",
     "shell.execute_reply": "2024-01-31T17:49:13.285394Z"
    },
    "papermill": {
     "duration": 0.036203,
     "end_time": "2024-01-31T17:49:13.286631",
     "exception": false,
     "start_time": "2024-01-31T17:49:13.250428",
     "status": "completed"
    },
    "tags": []
   },
   "outputs": [
    {
     "data": {
      "text/html": [
       "\n",
       "<style>\n",
       "  #altair-viz-bf8d827e7cdf4efb9e80d60d0253e392.vega-embed {\n",
       "    width: 100%;\n",
       "    display: flex;\n",
       "  }\n",
       "\n",
       "  #altair-viz-bf8d827e7cdf4efb9e80d60d0253e392.vega-embed details,\n",
       "  #altair-viz-bf8d827e7cdf4efb9e80d60d0253e392.vega-embed details summary {\n",
       "    position: relative;\n",
       "  }\n",
       "</style>\n",
       "<div id=\"altair-viz-bf8d827e7cdf4efb9e80d60d0253e392\"></div>\n",
       "<script type=\"text/javascript\">\n",
       "  var VEGA_DEBUG = (typeof VEGA_DEBUG == \"undefined\") ? {} : VEGA_DEBUG;\n",
       "  (function(spec, embedOpt){\n",
       "    let outputDiv = document.currentScript.previousElementSibling;\n",
       "    if (outputDiv.id !== \"altair-viz-bf8d827e7cdf4efb9e80d60d0253e392\") {\n",
       "      outputDiv = document.getElementById(\"altair-viz-bf8d827e7cdf4efb9e80d60d0253e392\");\n",
       "    }\n",
       "    const paths = {\n",
       "      \"vega\": \"https://cdn.jsdelivr.net/npm/vega@5?noext\",\n",
       "      \"vega-lib\": \"https://cdn.jsdelivr.net/npm/vega-lib?noext\",\n",
       "      \"vega-lite\": \"https://cdn.jsdelivr.net/npm/vega-lite@5.16.3?noext\",\n",
       "      \"vega-embed\": \"https://cdn.jsdelivr.net/npm/vega-embed@6?noext\",\n",
       "    };\n",
       "\n",
       "    function maybeLoadScript(lib, version) {\n",
       "      var key = `${lib.replace(\"-\", \"\")}_version`;\n",
       "      return (VEGA_DEBUG[key] == version) ?\n",
       "        Promise.resolve(paths[lib]) :\n",
       "        new Promise(function(resolve, reject) {\n",
       "          var s = document.createElement('script');\n",
       "          document.getElementsByTagName(\"head\")[0].appendChild(s);\n",
       "          s.async = true;\n",
       "          s.onload = () => {\n",
       "            VEGA_DEBUG[key] = version;\n",
       "            return resolve(paths[lib]);\n",
       "          };\n",
       "          s.onerror = () => reject(`Error loading script: ${paths[lib]}`);\n",
       "          s.src = paths[lib];\n",
       "        });\n",
       "    }\n",
       "\n",
       "    function showError(err) {\n",
       "      outputDiv.innerHTML = `<div class=\"error\" style=\"color:red;\">${err}</div>`;\n",
       "      throw err;\n",
       "    }\n",
       "\n",
       "    function displayChart(vegaEmbed) {\n",
       "      vegaEmbed(outputDiv, spec, embedOpt)\n",
       "        .catch(err => showError(`Javascript Error: ${err.message}<br>This usually means there's a typo in your chart specification. See the javascript console for the full traceback.`));\n",
       "    }\n",
       "\n",
       "    if(typeof define === \"function\" && define.amd) {\n",
       "      requirejs.config({paths});\n",
       "      require([\"vega-embed\"], displayChart, err => showError(`Error loading script: ${err.message}`));\n",
       "    } else {\n",
       "      maybeLoadScript(\"vega\", \"5\")\n",
       "        .then(() => maybeLoadScript(\"vega-lite\", \"5.16.3\"))\n",
       "        .then(() => maybeLoadScript(\"vega-embed\", \"6\"))\n",
       "        .catch(showError)\n",
       "        .then(() => displayChart(vegaEmbed));\n",
       "    }\n",
       "  })({\"$schema\": \"https://vega.github.io/schema/vega/v5.json\", \"data\": [{\"name\": \"source_0\", \"values\": [{\"anomaly\": 1.0, \"signal\": 4599.0, \"time\": \"2015-09-13T13:00:00.000\"}, {\"anomaly\": 1.0, \"signal\": 4261.0, \"time\": \"2015-09-13T14:00:00.000\"}, {\"anomaly\": 0.0, \"signal\": 3805.0, \"time\": \"2015-09-13T15:00:00.000\"}, {\"anomaly\": 0.0, \"signal\": 3118.0, \"time\": \"2015-09-13T16:00:00.000\"}, {\"anomaly\": 0.0, \"signal\": 1844.0, \"time\": \"2015-09-13T17:00:00.000\"}, {\"anomaly\": 0.0, \"signal\": 747.0, \"time\": \"2015-09-13T18:00:00.000\"}, {\"anomaly\": 0.0, \"signal\": 557.0, \"time\": \"2015-09-13T19:00:00.000\"}, {\"anomaly\": 0.0, \"signal\": 436.0, \"time\": \"2015-09-13T20:00:00.000\"}, {\"anomaly\": 0.0, \"signal\": 327.0, \"time\": \"2015-09-13T21:00:00.000\"}, {\"anomaly\": 0.0, \"signal\": 300.0, \"time\": \"2015-09-13T22:00:00.000\"}, {\"anomaly\": 0.0, \"signal\": 240.0, \"time\": \"2015-09-13T23:00:00.000\"}, {\"anomaly\": 0.0, \"signal\": 138.0, \"time\": \"2015-09-14T00:00:00.000\"}, {\"anomaly\": 0.0, \"signal\": 69.0, \"time\": \"2015-09-14T01:00:00.000\"}, {\"anomaly\": 1.0, \"signal\": 55.0, \"time\": \"2015-09-14T02:00:00.000\"}, {\"anomaly\": 1.0, \"signal\": 48.0, \"time\": \"2015-09-14T03:00:00.000\"}, {\"anomaly\": 1.0, \"signal\": 52.0, \"time\": \"2015-09-14T04:00:00.000\"}, {\"anomaly\": 0.0, \"signal\": 51.0, \"time\": \"2015-09-14T05:00:00.000\"}, {\"anomaly\": 0.0, \"signal\": 170.0, \"time\": \"2015-09-14T06:00:00.000\"}, {\"anomaly\": 0.0, \"signal\": 803.0, \"time\": \"2015-09-14T07:00:00.000\"}, {\"anomaly\": 0.0, \"signal\": 1816.0, \"time\": \"2015-09-14T08:00:00.000\"}, {\"anomaly\": 1.0, \"signal\": 2619.0, \"time\": \"2015-09-14T09:00:00.000\"}, {\"anomaly\": 1.0, \"signal\": 3354.0, \"time\": \"2015-09-14T10:00:00.000\"}, {\"anomaly\": 1.0, \"signal\": 3743.0, \"time\": \"2015-09-14T11:00:00.000\"}, {\"anomaly\": 1.0, \"signal\": 4164.0, \"time\": \"2015-09-14T12:00:00.000\"}, {\"anomaly\": 1.0, \"signal\": 4473.0, \"time\": \"2015-09-14T13:00:00.000\"}, {\"anomaly\": 0.0, \"signal\": 4514.0, \"time\": \"2015-09-14T14:00:00.000\"}, {\"anomaly\": 0.0, \"signal\": 4171.0, \"time\": \"2015-09-14T15:00:00.000\"}, {\"anomaly\": 0.0, \"signal\": 3403.0, \"time\": \"2015-09-14T16:00:00.000\"}, {\"anomaly\": 0.0, \"signal\": 1872.0, \"time\": \"2015-09-14T17:00:00.000\"}, {\"anomaly\": 0.0, \"signal\": 743.0, \"time\": \"2015-09-14T18:00:00.000\"}, {\"anomaly\": 0.0, \"signal\": 421.0, \"time\": \"2015-09-14T19:00:00.000\"}, {\"anomaly\": 0.0, \"signal\": 296.0, \"time\": \"2015-09-14T20:00:00.000\"}, {\"anomaly\": 0.0, \"signal\": 229.0, \"time\": \"2015-09-14T21:00:00.000\"}, {\"anomaly\": 0.0, \"signal\": 167.0, \"time\": \"2015-09-14T22:00:00.000\"}, {\"anomaly\": 0.0, \"signal\": 128.0, \"time\": \"2015-09-14T23:00:00.000\"}, {\"anomaly\": 0.0, \"signal\": 96.0, \"time\": \"2015-09-15T00:00:00.000\"}, {\"anomaly\": 0.0, \"signal\": 83.0, \"time\": \"2015-09-15T01:00:00.000\"}, {\"anomaly\": 1.0, \"signal\": 66.0, \"time\": \"2015-09-15T02:00:00.000\"}, {\"anomaly\": 1.0, \"signal\": 52.0, \"time\": \"2015-09-15T03:00:00.000\"}, {\"anomaly\": 0.0, \"signal\": 51.0, \"time\": \"2015-09-15T04:00:00.000\"}, {\"anomaly\": 0.0, \"signal\": 49.0, \"time\": \"2015-09-15T05:00:00.000\"}, {\"anomaly\": 0.0, \"signal\": 225.0, \"time\": \"2015-09-15T06:00:00.000\"}, {\"anomaly\": 0.0, \"signal\": 1052.0, \"time\": \"2015-09-15T07:00:00.000\"}, {\"anomaly\": 1.0, \"signal\": 2569.0, \"time\": \"2015-09-15T08:00:00.000\"}, {\"anomaly\": 1.0, \"signal\": 3237.0, \"time\": \"2015-09-15T09:00:00.000\"}, {\"anomaly\": 1.0, \"signal\": 3401.0, \"time\": \"2015-09-15T10:00:00.000\"}, {\"anomaly\": 1.0, \"signal\": 3498.0, \"time\": \"2015-09-15T11:00:00.000\"}, {\"anomaly\": 1.0, \"signal\": 3149.0, \"time\": \"2015-09-15T12:00:00.000\"}, {\"anomaly\": 0.0, \"signal\": 2914.0, \"time\": \"2015-09-15T13:00:00.000\"}, {\"anomaly\": 0.0, \"signal\": 2412.0, \"time\": \"2015-09-15T14:00:00.000\"}, {\"anomaly\": 0.0, \"signal\": 1640.0, \"time\": \"2015-09-15T15:00:00.000\"}, {\"anomaly\": 0.0, \"signal\": 1044.0, \"time\": \"2015-09-15T16:00:00.000\"}, {\"anomaly\": 0.0, \"signal\": 529.0, \"time\": \"2015-09-15T17:00:00.000\"}, {\"anomaly\": 0.0, \"signal\": 281.0, \"time\": \"2015-09-15T18:00:00.000\"}, {\"anomaly\": 0.0, \"signal\": 224.0, \"time\": \"2015-09-15T19:00:00.000\"}, {\"anomaly\": 0.0, \"signal\": 220.0, \"time\": \"2015-09-15T20:00:00.000\"}, {\"anomaly\": 0.0, \"signal\": 116.0, \"time\": \"2015-09-15T21:00:00.000\"}, {\"anomaly\": 0.0, \"signal\": 77.0, \"time\": \"2015-09-15T22:00:00.000\"}, {\"anomaly\": 0.0, \"signal\": 44.0, \"time\": \"2015-09-15T23:00:00.000\"}, {\"anomaly\": 1.0, \"signal\": 41.0, \"time\": \"2015-09-16T00:00:00.000\"}, {\"anomaly\": 1.0, \"signal\": 42.0, \"time\": \"2015-09-16T01:00:00.000\"}, {\"anomaly\": 0.0, \"signal\": 42.0, \"time\": \"2015-09-16T02:00:00.000\"}, {\"anomaly\": 0.0, \"signal\": 37.0, \"time\": \"2015-09-16T03:00:00.000\"}, {\"anomaly\": 0.0, \"signal\": 22.0, \"time\": \"2015-09-16T04:00:00.000\"}, {\"anomaly\": 0.0, \"signal\": 23.0, \"time\": \"2015-09-16T05:00:00.000\"}, {\"anomaly\": 0.0, \"signal\": 171.0, \"time\": \"2015-09-16T06:00:00.000\"}, {\"anomaly\": 1.0, \"signal\": 824.0, \"time\": \"2015-09-16T07:00:00.000\"}, {\"anomaly\": 1.0, \"signal\": 1512.0, \"time\": \"2015-09-16T08:00:00.000\"}, {\"anomaly\": 1.0, \"signal\": 1883.0, \"time\": \"2015-09-16T09:00:00.000\"}, {\"anomaly\": 1.0, \"signal\": 2155.0, \"time\": \"2015-09-16T10:00:00.000\"}, {\"anomaly\": 1.0, \"signal\": 2337.0, \"time\": \"2015-09-16T11:00:00.000\"}, {\"anomaly\": 0.0, \"signal\": 2402.0, \"time\": \"2015-09-16T12:00:00.000\"}], \"transform\": [{\"type\": \"formula\", \"expr\": \"toDate(datum['time'])\", \"as\": \"time\"}]}, {\"name\": \"data_0\", \"values\": [{\"signal\": 4599.0, \"time\": \"2015-09-13T13:00:00.000\"}, {\"signal\": 4261.0, \"time\": \"2015-09-13T14:00:00.000\"}, {\"signal\": 55.0, \"time\": \"2015-09-14T02:00:00.000\"}, {\"signal\": 48.0, \"time\": \"2015-09-14T03:00:00.000\"}, {\"signal\": 52.0, \"time\": \"2015-09-14T04:00:00.000\"}, {\"signal\": 2619.0, \"time\": \"2015-09-14T09:00:00.000\"}, {\"signal\": 3354.0, \"time\": \"2015-09-14T10:00:00.000\"}, {\"signal\": 3743.0, \"time\": \"2015-09-14T11:00:00.000\"}, {\"signal\": 4164.0, \"time\": \"2015-09-14T12:00:00.000\"}, {\"signal\": 4473.0, \"time\": \"2015-09-14T13:00:00.000\"}, {\"signal\": 66.0, \"time\": \"2015-09-15T02:00:00.000\"}, {\"signal\": 52.0, \"time\": \"2015-09-15T03:00:00.000\"}, {\"signal\": 2569.0, \"time\": \"2015-09-15T08:00:00.000\"}, {\"signal\": 3237.0, \"time\": \"2015-09-15T09:00:00.000\"}, {\"signal\": 3401.0, \"time\": \"2015-09-15T10:00:00.000\"}, {\"signal\": 3498.0, \"time\": \"2015-09-15T11:00:00.000\"}, {\"signal\": 3149.0, \"time\": \"2015-09-15T12:00:00.000\"}, {\"signal\": 41.0, \"time\": \"2015-09-16T00:00:00.000\"}, {\"signal\": 42.0, \"time\": \"2015-09-16T01:00:00.000\"}, {\"signal\": 824.0, \"time\": \"2015-09-16T07:00:00.000\"}, {\"signal\": 1512.0, \"time\": \"2015-09-16T08:00:00.000\"}, {\"signal\": 1883.0, \"time\": \"2015-09-16T09:00:00.000\"}, {\"signal\": 2155.0, \"time\": \"2015-09-16T10:00:00.000\"}, {\"signal\": 2337.0, \"time\": \"2015-09-16T11:00:00.000\"}], \"transform\": [{\"type\": \"formula\", \"expr\": \"toDate(datum['time'])\", \"as\": \"time\"}]}], \"marks\": [{\"type\": \"line\", \"name\": \"layer_0_marks\", \"from\": {\"data\": \"source_0\"}, \"sort\": {\"field\": \"datum[\\\"time\\\"]\"}, \"encode\": {\"update\": {\"y\": {\"field\": \"signal\", \"scale\": \"y\"}, \"x\": {\"field\": \"time\", \"scale\": \"x\"}, \"description\": {\"signal\": \"\\\"time: \\\" + (timeFormat(datum[\\\"time\\\"], '%b %d, %Y')) + \\\"; signal: \\\" + (format(datum[\\\"signal\\\"], \\\"\\\"))\"}, \"defined\": {\"signal\": \"isValid(datum[\\\"time\\\"]) && isFinite(+datum[\\\"time\\\"]) && isValid(datum[\\\"signal\\\"]) && isFinite(+datum[\\\"signal\\\"])\"}, \"stroke\": {\"value\": \"#4c78a8\"}}}, \"style\": [\"line\"]}, {\"type\": \"symbol\", \"name\": \"layer_1_marks\", \"from\": {\"data\": \"data_0\"}, \"encode\": {\"update\": {\"opacity\": {\"value\": 0.7}, \"description\": {\"signal\": \"\\\"time: \\\" + (timeFormat(datum[\\\"time\\\"], '%b %d, %Y')) + \\\"; signal: \\\" + (format(datum[\\\"signal\\\"], \\\"\\\"))\"}, \"ariaRoleDescription\": {\"value\": \"circle\"}, \"y\": {\"field\": \"signal\", \"scale\": \"y\"}, \"fill\": {\"value\": \"red\"}, \"size\": {\"value\": 60}, \"shape\": {\"value\": \"circle\"}, \"x\": {\"field\": \"time\", \"scale\": \"x\"}}}, \"style\": [\"circle\"]}], \"scales\": [{\"name\": \"x\", \"type\": \"time\", \"domain\": {\"fields\": [{\"data\": \"source_0\", \"field\": \"time\"}, {\"data\": \"data_0\", \"field\": \"time\"}]}, \"range\": [0, {\"signal\": \"width\"}]}, {\"name\": \"y\", \"type\": \"linear\", \"domain\": {\"fields\": [{\"data\": \"source_0\", \"field\": \"signal\"}, {\"data\": \"data_0\", \"field\": \"signal\"}]}, \"range\": [{\"signal\": \"height\"}, 0], \"nice\": true, \"zero\": true}], \"axes\": [{\"scale\": \"x\", \"zindex\": 0, \"maxExtent\": 0, \"aria\": false, \"orient\": \"bottom\", \"gridScale\": \"y\", \"tickCount\": {\"signal\": \"ceil(width/40)\"}, \"labels\": false, \"grid\": true, \"minExtent\": 0, \"ticks\": false, \"domain\": false}, {\"scale\": \"y\", \"labels\": false, \"domain\": false, \"aria\": false, \"maxExtent\": 0, \"orient\": \"left\", \"ticks\": false, \"grid\": true, \"minExtent\": 0, \"gridScale\": \"x\", \"zindex\": 0, \"tickCount\": {\"signal\": \"ceil(height/40)\"}}, {\"scale\": \"x\", \"labelFlush\": true, \"title\": \"time\", \"grid\": false, \"orient\": \"bottom\", \"tickCount\": {\"signal\": \"ceil(width/40)\"}, \"labelOverlap\": true, \"zindex\": 0}, {\"scale\": \"y\", \"tickCount\": {\"signal\": \"ceil(height/40)\"}, \"title\": \"signal\", \"labelOverlap\": true, \"zindex\": 0, \"grid\": false, \"orient\": \"left\"}], \"background\": \"white\", \"height\": 300, \"width\": 500, \"padding\": 5, \"style\": \"cell\"}, {\"mode\": \"vega\"});\n",
       "</script>"
      ],
      "text/plain": [
       "alt.LayerChart(...)"
      ]
     },
     "execution_count": 22,
     "metadata": {},
     "output_type": "execute_result"
    }
   ],
   "source": [
    "on.plots.anomalies(test[:72], predetected[:72])"
   ]
  },
  {
   "cell_type": "code",
   "execution_count": null,
   "id": "4d355f16-5c6d-477a-802c-9b1dbf3718f0",
   "metadata": {
    "papermill": {
     "duration": 0.004061,
     "end_time": "2024-01-31T17:49:13.294603",
     "exception": false,
     "start_time": "2024-01-31T17:49:13.290542",
     "status": "completed"
    },
    "tags": []
   },
   "outputs": [],
   "source": []
  }
 ],
 "metadata": {
  "kernelspec": {
   "display_name": "Python 3 (ipykernel)",
   "language": "python",
   "name": "python3"
  },
  "language_info": {
   "codemirror_mode": {
    "name": "ipython",
    "version": 3
   },
   "file_extension": ".py",
   "mimetype": "text/x-python",
   "name": "python",
   "nbconvert_exporter": "python",
   "pygments_lexer": "ipython3",
   "version": "3.10.10"
  },
  "papermill": {
   "default_parameters": {},
   "duration": 7.442652,
   "end_time": "2024-01-31T17:49:13.919290",
   "environment_variables": {},
   "exception": null,
   "input_path": "docs/getting_started.ipynb",
   "output_path": "docs/getting_started.ipynb",
   "parameters": {},
   "start_time": "2024-01-31T17:49:06.476638",
   "version": "2.5.0"
  }
 },
 "nbformat": 4,
 "nbformat_minor": 5
}
