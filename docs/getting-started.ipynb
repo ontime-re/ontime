{
 "cells": [
  {
   "cell_type": "code",
   "execution_count": 1,
   "id": "70a32352-80c9-40b7-8f68-1aeecfc52658",
   "metadata": {
    "execution": {
     "iopub.execute_input": "2024-01-26T20:44:43.193227Z",
     "iopub.status.busy": "2024-01-26T20:44:43.192642Z",
     "iopub.status.idle": "2024-01-26T20:44:43.201665Z",
     "shell.execute_reply": "2024-01-26T20:44:43.200832Z"
    },
    "papermill": {
     "duration": 0.034881,
     "end_time": "2024-01-26T20:44:43.203254",
     "exception": false,
     "start_time": "2024-01-26T20:44:43.168373",
     "status": "completed"
    },
    "tags": []
   },
   "outputs": [],
   "source": [
    "# Import to be able to import python package from src\n",
    "import sys\n",
    "sys.path.insert(0, '../src')"
   ]
  },
  {
   "cell_type": "code",
   "execution_count": 2,
   "id": "f8a26d78-229f-47f7-9f66-d0c245dbc096",
   "metadata": {
    "execution": {
     "iopub.execute_input": "2024-01-26T20:44:43.220547Z",
     "iopub.status.busy": "2024-01-26T20:44:43.219857Z",
     "iopub.status.idle": "2024-01-26T20:44:45.207794Z",
     "shell.execute_reply": "2024-01-26T20:44:45.207333Z"
    },
    "papermill": {
     "duration": 1.996789,
     "end_time": "2024-01-26T20:44:45.208750",
     "exception": false,
     "start_time": "2024-01-26T20:44:43.211961",
     "status": "completed"
    },
    "tags": []
   },
   "outputs": [
    {
     "name": "stderr",
     "output_type": "stream",
     "text": [
      "The `LightGBM` module could not be imported. To enable LightGBM support in Darts, follow the detailed instructions in the installation guide: https://github.com/unit8co/darts/blob/master/INSTALL.md\n"
     ]
    },
    {
     "name": "stderr",
     "output_type": "stream",
     "text": [
      "The `Prophet` module could not be imported. To enable Prophet support in Darts, follow the detailed instructions in the installation guide: https://github.com/unit8co/darts/blob/master/INSTALL.md\n"
     ]
    }
   ],
   "source": [
    "import ontime as on\n",
    "import pandas as pd"
   ]
  },
  {
   "cell_type": "code",
   "execution_count": null,
   "id": "c299e3da",
   "metadata": {
    "papermill": {
     "duration": 0.00396,
     "end_time": "2024-01-26T20:44:45.216767",
     "exception": false,
     "start_time": "2024-01-26T20:44:45.212807",
     "status": "completed"
    },
    "tags": []
   },
   "outputs": [],
   "source": []
  },
  {
   "cell_type": "markdown",
   "id": "9f94ac2b-bc8a-4757-affb-6e570a024804",
   "metadata": {
    "papermill": {
     "duration": 0.003856,
     "end_time": "2024-01-26T20:44:45.225128",
     "exception": false,
     "start_time": "2024-01-26T20:44:45.221272",
     "status": "completed"
    },
    "tags": []
   },
   "source": [
    "# **onTime** — Getting Started"
   ]
  },
  {
   "cell_type": "markdown",
   "id": "19665f45-64ac-47bc-a2d8-951a282764c0",
   "metadata": {
    "papermill": {
     "duration": 0.00357,
     "end_time": "2024-01-26T20:44:45.232201",
     "exception": false,
     "start_time": "2024-01-26T20:44:45.228631",
     "status": "completed"
    },
    "tags": []
   },
   "source": [
    "---\n",
    "## Structure of the Library"
   ]
  },
  {
   "cell_type": "markdown",
   "id": "56de274f-bce1-4252-bd44-f639c22eac6e",
   "metadata": {
    "papermill": {
     "duration": 0.003646,
     "end_time": "2024-01-26T20:44:45.239401",
     "exception": false,
     "start_time": "2024-01-26T20:44:45.235755",
     "status": "completed"
    },
    "tags": []
   },
   "source": [
    "The library is divided in three parts : \n",
    "\n",
    "1. `core` for all basic features\n",
    "2. `module` for all features using core features. E.g. benchmarking, ml preprocessing, etc.\n",
    "3. `context` for all features related to the usage of onTime in an applied scenario"
   ]
  },
  {
   "cell_type": "markdown",
   "id": "c0271c7d-d9b4-414e-b7be-83adeafcc741",
   "metadata": {
    "papermill": {
     "duration": 0.003614,
     "end_time": "2024-01-26T20:44:45.246675",
     "exception": false,
     "start_time": "2024-01-26T20:44:45.243061",
     "status": "completed"
    },
    "tags": []
   },
   "source": [
    "## `core` Features\n",
    "\n",
    "This is a low level API. Most objects and functions are accessible in the base object : \n",
    "    \n",
    "    ontime\n",
    "    ├── detectors\n",
    "    ├── generators\n",
    "    ├── Model\n",
    "    ├── plots\n",
    "    ├── processors\n",
    "    └── TimeSeries\n",
    "\n",
    "For instance : "
   ]
  },
  {
   "cell_type": "code",
   "execution_count": 3,
   "id": "bcbdae2b-2833-43d6-9bf7-16caef87cf75",
   "metadata": {
    "execution": {
     "iopub.execute_input": "2024-01-26T20:44:45.255004Z",
     "iopub.status.busy": "2024-01-26T20:44:45.254511Z",
     "iopub.status.idle": "2024-01-26T20:44:45.346272Z",
     "shell.execute_reply": "2024-01-26T20:44:45.345831Z"
    },
    "papermill": {
     "duration": 0.096825,
     "end_time": "2024-01-26T20:44:45.347038",
     "exception": false,
     "start_time": "2024-01-26T20:44:45.250213",
     "status": "completed"
    },
    "tags": []
   },
   "outputs": [
    {
     "data": {
      "text/html": [
       "<div><svg style=\"position: absolute; width: 0; height: 0; overflow: hidden\">\n",
       "<defs>\n",
       "<symbol id=\"icon-database\" viewBox=\"0 0 32 32\">\n",
       "<path d=\"M16 0c-8.837 0-16 2.239-16 5v4c0 2.761 7.163 5 16 5s16-2.239 16-5v-4c0-2.761-7.163-5-16-5z\"></path>\n",
       "<path d=\"M16 17c-8.837 0-16-2.239-16-5v6c0 2.761 7.163 5 16 5s16-2.239 16-5v-6c0 2.761-7.163 5-16 5z\"></path>\n",
       "<path d=\"M16 26c-8.837 0-16-2.239-16-5v6c0 2.761 7.163 5 16 5s16-2.239 16-5v-6c0 2.761-7.163 5-16 5z\"></path>\n",
       "</symbol>\n",
       "<symbol id=\"icon-file-text2\" viewBox=\"0 0 32 32\">\n",
       "<path d=\"M28.681 7.159c-0.694-0.947-1.662-2.053-2.724-3.116s-2.169-2.030-3.116-2.724c-1.612-1.182-2.393-1.319-2.841-1.319h-15.5c-1.378 0-2.5 1.121-2.5 2.5v27c0 1.378 1.122 2.5 2.5 2.5h23c1.378 0 2.5-1.122 2.5-2.5v-19.5c0-0.448-0.137-1.23-1.319-2.841zM24.543 5.457c0.959 0.959 1.712 1.825 2.268 2.543h-4.811v-4.811c0.718 0.556 1.584 1.309 2.543 2.268zM28 29.5c0 0.271-0.229 0.5-0.5 0.5h-23c-0.271 0-0.5-0.229-0.5-0.5v-27c0-0.271 0.229-0.5 0.5-0.5 0 0 15.499-0 15.5 0v7c0 0.552 0.448 1 1 1h7v19.5z\"></path>\n",
       "<path d=\"M23 26h-14c-0.552 0-1-0.448-1-1s0.448-1 1-1h14c0.552 0 1 0.448 1 1s-0.448 1-1 1z\"></path>\n",
       "<path d=\"M23 22h-14c-0.552 0-1-0.448-1-1s0.448-1 1-1h14c0.552 0 1 0.448 1 1s-0.448 1-1 1z\"></path>\n",
       "<path d=\"M23 18h-14c-0.552 0-1-0.448-1-1s0.448-1 1-1h14c0.552 0 1 0.448 1 1s-0.448 1-1 1z\"></path>\n",
       "</symbol>\n",
       "</defs>\n",
       "</svg>\n",
       "<style>/* CSS stylesheet for displaying xarray objects in jupyterlab.\n",
       " *\n",
       " */\n",
       "\n",
       ":root {\n",
       "  --xr-font-color0: var(--jp-content-font-color0, rgba(0, 0, 0, 1));\n",
       "  --xr-font-color2: var(--jp-content-font-color2, rgba(0, 0, 0, 0.54));\n",
       "  --xr-font-color3: var(--jp-content-font-color3, rgba(0, 0, 0, 0.38));\n",
       "  --xr-border-color: var(--jp-border-color2, #e0e0e0);\n",
       "  --xr-disabled-color: var(--jp-layout-color3, #bdbdbd);\n",
       "  --xr-background-color: var(--jp-layout-color0, white);\n",
       "  --xr-background-color-row-even: var(--jp-layout-color1, white);\n",
       "  --xr-background-color-row-odd: var(--jp-layout-color2, #eeeeee);\n",
       "}\n",
       "\n",
       "html[theme=dark],\n",
       "body[data-theme=dark],\n",
       "body.vscode-dark {\n",
       "  --xr-font-color0: rgba(255, 255, 255, 1);\n",
       "  --xr-font-color2: rgba(255, 255, 255, 0.54);\n",
       "  --xr-font-color3: rgba(255, 255, 255, 0.38);\n",
       "  --xr-border-color: #1F1F1F;\n",
       "  --xr-disabled-color: #515151;\n",
       "  --xr-background-color: #111111;\n",
       "  --xr-background-color-row-even: #111111;\n",
       "  --xr-background-color-row-odd: #313131;\n",
       "}\n",
       "\n",
       ".xr-wrap {\n",
       "  display: block !important;\n",
       "  min-width: 300px;\n",
       "  max-width: 700px;\n",
       "}\n",
       "\n",
       ".xr-text-repr-fallback {\n",
       "  /* fallback to plain text repr when CSS is not injected (untrusted notebook) */\n",
       "  display: none;\n",
       "}\n",
       "\n",
       ".xr-header {\n",
       "  padding-top: 6px;\n",
       "  padding-bottom: 6px;\n",
       "  margin-bottom: 4px;\n",
       "  border-bottom: solid 1px var(--xr-border-color);\n",
       "}\n",
       "\n",
       ".xr-header > div,\n",
       ".xr-header > ul {\n",
       "  display: inline;\n",
       "  margin-top: 0;\n",
       "  margin-bottom: 0;\n",
       "}\n",
       "\n",
       ".xr-obj-type,\n",
       ".xr-array-name {\n",
       "  margin-left: 2px;\n",
       "  margin-right: 10px;\n",
       "}\n",
       "\n",
       ".xr-obj-type {\n",
       "  color: var(--xr-font-color2);\n",
       "}\n",
       "\n",
       ".xr-sections {\n",
       "  padding-left: 0 !important;\n",
       "  display: grid;\n",
       "  grid-template-columns: 150px auto auto 1fr 20px 20px;\n",
       "}\n",
       "\n",
       ".xr-section-item {\n",
       "  display: contents;\n",
       "}\n",
       "\n",
       ".xr-section-item input {\n",
       "  display: none;\n",
       "}\n",
       "\n",
       ".xr-section-item input + label {\n",
       "  color: var(--xr-disabled-color);\n",
       "}\n",
       "\n",
       ".xr-section-item input:enabled + label {\n",
       "  cursor: pointer;\n",
       "  color: var(--xr-font-color2);\n",
       "}\n",
       "\n",
       ".xr-section-item input:enabled + label:hover {\n",
       "  color: var(--xr-font-color0);\n",
       "}\n",
       "\n",
       ".xr-section-summary {\n",
       "  grid-column: 1;\n",
       "  color: var(--xr-font-color2);\n",
       "  font-weight: 500;\n",
       "}\n",
       "\n",
       ".xr-section-summary > span {\n",
       "  display: inline-block;\n",
       "  padding-left: 0.5em;\n",
       "}\n",
       "\n",
       ".xr-section-summary-in:disabled + label {\n",
       "  color: var(--xr-font-color2);\n",
       "}\n",
       "\n",
       ".xr-section-summary-in + label:before {\n",
       "  display: inline-block;\n",
       "  content: '►';\n",
       "  font-size: 11px;\n",
       "  width: 15px;\n",
       "  text-align: center;\n",
       "}\n",
       "\n",
       ".xr-section-summary-in:disabled + label:before {\n",
       "  color: var(--xr-disabled-color);\n",
       "}\n",
       "\n",
       ".xr-section-summary-in:checked + label:before {\n",
       "  content: '▼';\n",
       "}\n",
       "\n",
       ".xr-section-summary-in:checked + label > span {\n",
       "  display: none;\n",
       "}\n",
       "\n",
       ".xr-section-summary,\n",
       ".xr-section-inline-details {\n",
       "  padding-top: 4px;\n",
       "  padding-bottom: 4px;\n",
       "}\n",
       "\n",
       ".xr-section-inline-details {\n",
       "  grid-column: 2 / -1;\n",
       "}\n",
       "\n",
       ".xr-section-details {\n",
       "  display: none;\n",
       "  grid-column: 1 / -1;\n",
       "  margin-bottom: 5px;\n",
       "}\n",
       "\n",
       ".xr-section-summary-in:checked ~ .xr-section-details {\n",
       "  display: contents;\n",
       "}\n",
       "\n",
       ".xr-array-wrap {\n",
       "  grid-column: 1 / -1;\n",
       "  display: grid;\n",
       "  grid-template-columns: 20px auto;\n",
       "}\n",
       "\n",
       ".xr-array-wrap > label {\n",
       "  grid-column: 1;\n",
       "  vertical-align: top;\n",
       "}\n",
       "\n",
       ".xr-preview {\n",
       "  color: var(--xr-font-color3);\n",
       "}\n",
       "\n",
       ".xr-array-preview,\n",
       ".xr-array-data {\n",
       "  padding: 0 5px !important;\n",
       "  grid-column: 2;\n",
       "}\n",
       "\n",
       ".xr-array-data,\n",
       ".xr-array-in:checked ~ .xr-array-preview {\n",
       "  display: none;\n",
       "}\n",
       "\n",
       ".xr-array-in:checked ~ .xr-array-data,\n",
       ".xr-array-preview {\n",
       "  display: inline-block;\n",
       "}\n",
       "\n",
       ".xr-dim-list {\n",
       "  display: inline-block !important;\n",
       "  list-style: none;\n",
       "  padding: 0 !important;\n",
       "  margin: 0;\n",
       "}\n",
       "\n",
       ".xr-dim-list li {\n",
       "  display: inline-block;\n",
       "  padding: 0;\n",
       "  margin: 0;\n",
       "}\n",
       "\n",
       ".xr-dim-list:before {\n",
       "  content: '(';\n",
       "}\n",
       "\n",
       ".xr-dim-list:after {\n",
       "  content: ')';\n",
       "}\n",
       "\n",
       ".xr-dim-list li:not(:last-child):after {\n",
       "  content: ',';\n",
       "  padding-right: 5px;\n",
       "}\n",
       "\n",
       ".xr-has-index {\n",
       "  font-weight: bold;\n",
       "}\n",
       "\n",
       ".xr-var-list,\n",
       ".xr-var-item {\n",
       "  display: contents;\n",
       "}\n",
       "\n",
       ".xr-var-item > div,\n",
       ".xr-var-item label,\n",
       ".xr-var-item > .xr-var-name span {\n",
       "  background-color: var(--xr-background-color-row-even);\n",
       "  margin-bottom: 0;\n",
       "}\n",
       "\n",
       ".xr-var-item > .xr-var-name:hover span {\n",
       "  padding-right: 5px;\n",
       "}\n",
       "\n",
       ".xr-var-list > li:nth-child(odd) > div,\n",
       ".xr-var-list > li:nth-child(odd) > label,\n",
       ".xr-var-list > li:nth-child(odd) > .xr-var-name span {\n",
       "  background-color: var(--xr-background-color-row-odd);\n",
       "}\n",
       "\n",
       ".xr-var-name {\n",
       "  grid-column: 1;\n",
       "}\n",
       "\n",
       ".xr-var-dims {\n",
       "  grid-column: 2;\n",
       "}\n",
       "\n",
       ".xr-var-dtype {\n",
       "  grid-column: 3;\n",
       "  text-align: right;\n",
       "  color: var(--xr-font-color2);\n",
       "}\n",
       "\n",
       ".xr-var-preview {\n",
       "  grid-column: 4;\n",
       "}\n",
       "\n",
       ".xr-index-preview {\n",
       "  grid-column: 2 / 5;\n",
       "  color: var(--xr-font-color2);\n",
       "}\n",
       "\n",
       ".xr-var-name,\n",
       ".xr-var-dims,\n",
       ".xr-var-dtype,\n",
       ".xr-preview,\n",
       ".xr-attrs dt {\n",
       "  white-space: nowrap;\n",
       "  overflow: hidden;\n",
       "  text-overflow: ellipsis;\n",
       "  padding-right: 10px;\n",
       "}\n",
       "\n",
       ".xr-var-name:hover,\n",
       ".xr-var-dims:hover,\n",
       ".xr-var-dtype:hover,\n",
       ".xr-attrs dt:hover {\n",
       "  overflow: visible;\n",
       "  width: auto;\n",
       "  z-index: 1;\n",
       "}\n",
       "\n",
       ".xr-var-attrs,\n",
       ".xr-var-data,\n",
       ".xr-index-data {\n",
       "  display: none;\n",
       "  background-color: var(--xr-background-color) !important;\n",
       "  padding-bottom: 5px !important;\n",
       "}\n",
       "\n",
       ".xr-var-attrs-in:checked ~ .xr-var-attrs,\n",
       ".xr-var-data-in:checked ~ .xr-var-data,\n",
       ".xr-index-data-in:checked ~ .xr-index-data {\n",
       "  display: block;\n",
       "}\n",
       "\n",
       ".xr-var-data > table {\n",
       "  float: right;\n",
       "}\n",
       "\n",
       ".xr-var-name span,\n",
       ".xr-var-data,\n",
       ".xr-index-name div,\n",
       ".xr-index-data,\n",
       ".xr-attrs {\n",
       "  padding-left: 25px !important;\n",
       "}\n",
       "\n",
       ".xr-attrs,\n",
       ".xr-var-attrs,\n",
       ".xr-var-data,\n",
       ".xr-index-data {\n",
       "  grid-column: 1 / -1;\n",
       "}\n",
       "\n",
       "dl.xr-attrs {\n",
       "  padding: 0;\n",
       "  margin: 0;\n",
       "  display: grid;\n",
       "  grid-template-columns: 125px auto;\n",
       "}\n",
       "\n",
       ".xr-attrs dt,\n",
       ".xr-attrs dd {\n",
       "  padding: 0;\n",
       "  margin: 0;\n",
       "  float: left;\n",
       "  padding-right: 10px;\n",
       "  width: auto;\n",
       "}\n",
       "\n",
       ".xr-attrs dt {\n",
       "  font-weight: normal;\n",
       "  grid-column: 1;\n",
       "}\n",
       "\n",
       ".xr-attrs dt:hover span {\n",
       "  display: inline-block;\n",
       "  background: var(--xr-background-color);\n",
       "  padding-right: 10px;\n",
       "}\n",
       "\n",
       ".xr-attrs dd {\n",
       "  grid-column: 2;\n",
       "  white-space: pre-wrap;\n",
       "  word-break: break-all;\n",
       "}\n",
       "\n",
       ".xr-icon-database,\n",
       ".xr-icon-file-text2,\n",
       ".xr-no-icon {\n",
       "  display: inline-block;\n",
       "  vertical-align: middle;\n",
       "  width: 1em;\n",
       "  height: 1.5em !important;\n",
       "  stroke-width: 0;\n",
       "  stroke: currentColor;\n",
       "  fill: currentColor;\n",
       "}\n",
       "</style><pre class='xr-text-repr-fallback'>&lt;TimeSeries (DataArray) (time: 5, component: 1, sample: 1)&gt;\n",
       "array([[[-0.02744004]],\n",
       "\n",
       "       [[-0.10846708]],\n",
       "\n",
       "       [[ 1.03535166]],\n",
       "\n",
       "       [[ 1.49737249]],\n",
       "\n",
       "       [[ 1.21312453]]])\n",
       "Coordinates:\n",
       "  * time       (time) datetime64[ns] 2023-01-01 2023-01-02 ... 2023-01-05\n",
       "  * component  (component) object &#x27;random_walk&#x27;\n",
       "Dimensions without coordinates: sample\n",
       "Attributes:\n",
       "    static_covariates:  None\n",
       "    hierarchy:          None</pre><div class='xr-wrap' style='display:none'><div class='xr-header'><div class='xr-obj-type'>TimeSeries (DataArray)</div><div class='xr-array-name'></div><ul class='xr-dim-list'><li><span class='xr-has-index'>time</span>: 5</li><li><span class='xr-has-index'>component</span>: 1</li><li><span>sample</span>: 1</li></ul></div><ul class='xr-sections'><li class='xr-section-item'><div class='xr-array-wrap'><input id='section-9a7b6b88-3236-4524-b982-92f8d267a2a4' class='xr-array-in' type='checkbox' checked><label for='section-9a7b6b88-3236-4524-b982-92f8d267a2a4' title='Show/hide data repr'><svg class='icon xr-icon-database'><use xlink:href='#icon-database'></use></svg></label><div class='xr-array-preview xr-preview'><span>-0.02744 -0.1085 1.035 1.497 1.213</span></div><div class='xr-array-data'><pre>array([[[-0.02744004]],\n",
       "\n",
       "       [[-0.10846708]],\n",
       "\n",
       "       [[ 1.03535166]],\n",
       "\n",
       "       [[ 1.49737249]],\n",
       "\n",
       "       [[ 1.21312453]]])</pre></div></div></li><li class='xr-section-item'><input id='section-ab445868-d7bc-456b-8b78-3c7b94ce171e' class='xr-section-summary-in' type='checkbox'  checked><label for='section-ab445868-d7bc-456b-8b78-3c7b94ce171e' class='xr-section-summary' >Coordinates: <span>(2)</span></label><div class='xr-section-inline-details'></div><div class='xr-section-details'><ul class='xr-var-list'><li class='xr-var-item'><div class='xr-var-name'><span class='xr-has-index'>time</span></div><div class='xr-var-dims'>(time)</div><div class='xr-var-dtype'>datetime64[ns]</div><div class='xr-var-preview xr-preview'>2023-01-01 ... 2023-01-05</div><input id='attrs-84fbe399-2b35-4963-8e55-53fadf6d7a51' class='xr-var-attrs-in' type='checkbox' disabled><label for='attrs-84fbe399-2b35-4963-8e55-53fadf6d7a51' title='Show/Hide attributes'><svg class='icon xr-icon-file-text2'><use xlink:href='#icon-file-text2'></use></svg></label><input id='data-9f80badf-639f-4232-aa8e-428fc70a2ff4' class='xr-var-data-in' type='checkbox'><label for='data-9f80badf-639f-4232-aa8e-428fc70a2ff4' title='Show/Hide data repr'><svg class='icon xr-icon-database'><use xlink:href='#icon-database'></use></svg></label><div class='xr-var-attrs'><dl class='xr-attrs'></dl></div><div class='xr-var-data'><pre>array([&#x27;2023-01-01T00:00:00.000000000&#x27;, &#x27;2023-01-02T00:00:00.000000000&#x27;,\n",
       "       &#x27;2023-01-03T00:00:00.000000000&#x27;, &#x27;2023-01-04T00:00:00.000000000&#x27;,\n",
       "       &#x27;2023-01-05T00:00:00.000000000&#x27;], dtype=&#x27;datetime64[ns]&#x27;)</pre></div></li><li class='xr-var-item'><div class='xr-var-name'><span class='xr-has-index'>component</span></div><div class='xr-var-dims'>(component)</div><div class='xr-var-dtype'>object</div><div class='xr-var-preview xr-preview'>&#x27;random_walk&#x27;</div><input id='attrs-6cdefc83-020f-4ea5-b190-8157685f8925' class='xr-var-attrs-in' type='checkbox' disabled><label for='attrs-6cdefc83-020f-4ea5-b190-8157685f8925' title='Show/Hide attributes'><svg class='icon xr-icon-file-text2'><use xlink:href='#icon-file-text2'></use></svg></label><input id='data-dfe63ba2-6846-434c-9843-252c1257b6f6' class='xr-var-data-in' type='checkbox'><label for='data-dfe63ba2-6846-434c-9843-252c1257b6f6' title='Show/Hide data repr'><svg class='icon xr-icon-database'><use xlink:href='#icon-database'></use></svg></label><div class='xr-var-attrs'><dl class='xr-attrs'></dl></div><div class='xr-var-data'><pre>array([&#x27;random_walk&#x27;], dtype=object)</pre></div></li></ul></div></li><li class='xr-section-item'><input id='section-53da55a0-4a37-456f-8ff2-b227c34db78b' class='xr-section-summary-in' type='checkbox'  ><label for='section-53da55a0-4a37-456f-8ff2-b227c34db78b' class='xr-section-summary' >Indexes: <span>(2)</span></label><div class='xr-section-inline-details'></div><div class='xr-section-details'><ul class='xr-var-list'><li class='xr-var-item'><div class='xr-index-name'><div>time</div></div><div class='xr-index-preview'>PandasIndex</div><div></div><input id='index-6774b84b-9758-4e09-96d9-e6c1f24865c3' class='xr-index-data-in' type='checkbox'/><label for='index-6774b84b-9758-4e09-96d9-e6c1f24865c3' title='Show/Hide index repr'><svg class='icon xr-icon-database'><use xlink:href='#icon-database'></use></svg></label><div class='xr-index-data'><pre>PandasIndex(DatetimeIndex([&#x27;2023-01-01&#x27;, &#x27;2023-01-02&#x27;, &#x27;2023-01-03&#x27;, &#x27;2023-01-04&#x27;,\n",
       "               &#x27;2023-01-05&#x27;],\n",
       "              dtype=&#x27;datetime64[ns]&#x27;, name=&#x27;time&#x27;, freq=&#x27;D&#x27;))</pre></div></li><li class='xr-var-item'><div class='xr-index-name'><div>component</div></div><div class='xr-index-preview'>PandasIndex</div><div></div><input id='index-3165f1ba-9075-44c1-b1b4-8370c663012d' class='xr-index-data-in' type='checkbox'/><label for='index-3165f1ba-9075-44c1-b1b4-8370c663012d' title='Show/Hide index repr'><svg class='icon xr-icon-database'><use xlink:href='#icon-database'></use></svg></label><div class='xr-index-data'><pre>PandasIndex(Index([&#x27;random_walk&#x27;], dtype=&#x27;object&#x27;, name=&#x27;component&#x27;))</pre></div></li></ul></div></li><li class='xr-section-item'><input id='section-9ce08dcf-8760-47e2-b98e-bdaa5f5d2ff9' class='xr-section-summary-in' type='checkbox'  checked><label for='section-9ce08dcf-8760-47e2-b98e-bdaa5f5d2ff9' class='xr-section-summary' >Attributes: <span>(2)</span></label><div class='xr-section-inline-details'></div><div class='xr-section-details'><dl class='xr-attrs'><dt><span>static_covariates :</span></dt><dd>None</dd><dt><span>hierarchy :</span></dt><dd>None</dd></dl></div></li></ul></div></div>"
      ],
      "text/plain": [
       "<TimeSeries (DataArray) (time: 5, component: 1, sample: 1)>\n",
       "array([[[-0.02744004]],\n",
       "\n",
       "       [[-0.10846708]],\n",
       "\n",
       "       [[ 1.03535166]],\n",
       "\n",
       "       [[ 1.49737249]],\n",
       "\n",
       "       [[ 1.21312453]]])\n",
       "Coordinates:\n",
       "  * time       (time) datetime64[ns] 2023-01-01 2023-01-02 ... 2023-01-05\n",
       "  * component  (component) object 'random_walk'\n",
       "Dimensions without coordinates: sample\n",
       "Attributes:\n",
       "    static_covariates:  None\n",
       "    hierarchy:          None"
      ]
     },
     "execution_count": 3,
     "metadata": {},
     "output_type": "execute_result"
    }
   ],
   "source": [
    "ts = on.generators.random_walk().generate(start=pd.Timestamp('01-01-2023'), end=pd.Timestamp('12-31-2023'))\n",
    "ts[0:5]"
   ]
  },
  {
   "cell_type": "code",
   "execution_count": 4,
   "id": "6b9959a6-489a-4c80-a53e-e65cad57fe62",
   "metadata": {
    "execution": {
     "iopub.execute_input": "2024-01-26T20:44:45.356781Z",
     "iopub.status.busy": "2024-01-26T20:44:45.356642Z",
     "iopub.status.idle": "2024-01-26T20:44:45.482272Z",
     "shell.execute_reply": "2024-01-26T20:44:45.481852Z"
    },
    "papermill": {
     "duration": 0.131224,
     "end_time": "2024-01-26T20:44:45.483097",
     "exception": false,
     "start_time": "2024-01-26T20:44:45.351873",
     "status": "completed"
    },
    "tags": []
   },
   "outputs": [
    {
     "data": {
      "image/png": "[encoded data removed]",
      "text/plain": [
       "<Figure size 640x480 with 1 Axes>"
      ]
     },
     "metadata": {},
     "output_type": "display_data"
    }
   ],
   "source": [
    "ts.plot();"
   ]
  },
  {
   "cell_type": "markdown",
   "id": "2487b267-ec4a-49bc-9bda-33e4bc39194c",
   "metadata": {
    "papermill": {
     "duration": 0.004393,
     "end_time": "2024-01-26T20:44:45.493342",
     "exception": false,
     "start_time": "2024-01-26T20:44:45.488949",
     "status": "completed"
    },
    "tags": []
   },
   "source": [
    "## `module` and `context` features"
   ]
  },
  {
   "cell_type": "markdown",
   "id": "0904039a-4cb4-4795-9656-8c48a919dfee",
   "metadata": {
    "papermill": {
     "duration": 0.004089,
     "end_time": "2024-01-26T20:44:45.501738",
     "exception": false,
     "start_time": "2024-01-26T20:44:45.497649",
     "status": "completed"
    },
    "tags": []
   },
   "source": [
    "High level API with various features. Let's load some data for an example :"
   ]
  },
  {
   "cell_type": "code",
   "execution_count": 5,
   "id": "4c906526-20c4-47b5-8023-8216c6af18d1",
   "metadata": {
    "execution": {
     "iopub.execute_input": "2024-01-26T20:44:45.511130Z",
     "iopub.status.busy": "2024-01-26T20:44:45.510860Z",
     "iopub.status.idle": "2024-01-26T20:44:45.613436Z",
     "shell.execute_reply": "2024-01-26T20:44:45.612984Z"
    },
    "papermill": {
     "duration": 0.108358,
     "end_time": "2024-01-26T20:44:45.614330",
     "exception": false,
     "start_time": "2024-01-26T20:44:45.505972",
     "status": "completed"
    },
    "tags": []
   },
   "outputs": [],
   "source": [
    "from darts.datasets import EnergyDataset\n",
    "ts = EnergyDataset().load()"
   ]
  },
  {
   "cell_type": "code",
   "execution_count": 6,
   "id": "15724cb7-d0d6-40ab-a240-57df7e8f3c21",
   "metadata": {
    "execution": {
     "iopub.execute_input": "2024-01-26T20:44:45.642529Z",
     "iopub.status.busy": "2024-01-26T20:44:45.642398Z",
     "iopub.status.idle": "2024-01-26T20:44:45.657821Z",
     "shell.execute_reply": "2024-01-26T20:44:45.657377Z"
    },
    "papermill": {
     "duration": 0.021554,
     "end_time": "2024-01-26T20:44:45.658566",
     "exception": false,
     "start_time": "2024-01-26T20:44:45.637012",
     "status": "completed"
    },
    "tags": []
   },
   "outputs": [],
   "source": [
    "df = ts.pd_dataframe()\n",
    "df = df.interpolate()\n",
    "cols = ['generation biomass', 'generation solar', 'generation nuclear']\n",
    "df = df[cols]"
   ]
  },
  {
   "cell_type": "code",
   "execution_count": 7,
   "id": "401cf66e-f0eb-48e0-ac7c-adf2bef92a3c",
   "metadata": {
    "execution": {
     "iopub.execute_input": "2024-01-26T20:44:45.668662Z",
     "iopub.status.busy": "2024-01-26T20:44:45.668364Z",
     "iopub.status.idle": "2024-01-26T20:44:45.673097Z",
     "shell.execute_reply": "2024-01-26T20:44:45.672781Z"
    },
    "papermill": {
     "duration": 0.010478,
     "end_time": "2024-01-26T20:44:45.673737",
     "exception": false,
     "start_time": "2024-01-26T20:44:45.663259",
     "status": "completed"
    },
    "tags": []
   },
   "outputs": [],
   "source": [
    "ts = on.TimeSeries.from_dataframe(df)"
   ]
  },
  {
   "cell_type": "code",
   "execution_count": 8,
   "id": "3013d9e8-d7cd-4caf-be3f-607eab84647e",
   "metadata": {
    "execution": {
     "iopub.execute_input": "2024-01-26T20:44:45.683136Z",
     "iopub.status.busy": "2024-01-26T20:44:45.682830Z",
     "iopub.status.idle": "2024-01-26T20:44:45.688263Z",
     "shell.execute_reply": "2024-01-26T20:44:45.687959Z"
    },
    "papermill": {
     "duration": 0.010873,
     "end_time": "2024-01-26T20:44:45.688948",
     "exception": false,
     "start_time": "2024-01-26T20:44:45.678075",
     "status": "completed"
    },
    "tags": []
   },
   "outputs": [],
   "source": [
    "ts_uni = ts['generation solar'].slice(pd.Timestamp('2015'), pd.Timestamp('2016'))\n",
    "ts_multi = ts.slice(pd.Timestamp('2015'), pd.Timestamp('2016'))"
   ]
  },
  {
   "cell_type": "markdown",
   "id": "a1a81ffb-dca7-4ee5-93e9-836223ae6956",
   "metadata": {
    "papermill": {
     "duration": 0.004383,
     "end_time": "2024-01-26T20:44:45.698113",
     "exception": false,
     "start_time": "2024-01-26T20:44:45.693730",
     "status": "completed"
    },
    "tags": []
   },
   "source": [
    "### `module` Features"
   ]
  },
  {
   "cell_type": "markdown",
   "id": "adb031b1-74bc-4ed2-ae54-bc16681f0363",
   "metadata": {
    "papermill": {
     "duration": 0.00453,
     "end_time": "2024-01-26T20:44:45.720724",
     "exception": false,
     "start_time": "2024-01-26T20:44:45.716194",
     "status": "completed"
    },
    "tags": []
   },
   "source": [
    "High level API with features related to data processing, ML/AI, etc."
   ]
  },
  {
   "cell_type": "code",
   "execution_count": 9,
   "id": "79fd0990-dac4-461e-98b0-29f1e579b11a",
   "metadata": {
    "execution": {
     "iopub.execute_input": "2024-01-26T20:44:45.730822Z",
     "iopub.status.busy": "2024-01-26T20:44:45.730456Z",
     "iopub.status.idle": "2024-01-26T20:44:45.734376Z",
     "shell.execute_reply": "2024-01-26T20:44:45.734034Z"
    },
    "papermill": {
     "duration": 0.009729,
     "end_time": "2024-01-26T20:44:45.735056",
     "exception": false,
     "start_time": "2024-01-26T20:44:45.725327",
     "status": "completed"
    },
    "tags": []
   },
   "outputs": [],
   "source": [
    "train, test = on.module.preprocessing.common.train_test_split(ts_uni, test_split=0.3)"
   ]
  },
  {
   "cell_type": "markdown",
   "id": "0641d9e6-c5b8-49a1-a3db-9df1927d62be",
   "metadata": {
    "papermill": {
     "duration": 0.005322,
     "end_time": "2024-01-26T20:44:45.744619",
     "exception": false,
     "start_time": "2024-01-26T20:44:45.739297",
     "status": "completed"
    },
    "tags": []
   },
   "source": [
    "### `context` Features"
   ]
  },
  {
   "cell_type": "markdown",
   "id": "2982c551-1607-40c8-911d-154a3493e4b1",
   "metadata": {
    "papermill": {
     "duration": 0.004777,
     "end_time": "2024-01-26T20:44:45.753706",
     "exception": false,
     "start_time": "2024-01-26T20:44:45.748929",
     "status": "completed"
    },
    "tags": []
   },
   "source": [
    "High level API with features related to a physical machine or process."
   ]
  },
  {
   "cell_type": "markdown",
   "id": "f7fe172e-588a-4f7e-aa0e-1cdc07dd8aca",
   "metadata": {
    "papermill": {
     "duration": 0.004124,
     "end_time": "2024-01-26T20:44:45.762014",
     "exception": false,
     "start_time": "2024-01-26T20:44:45.757890",
     "status": "completed"
    },
    "tags": []
   },
   "source": [
    "#### Profiler"
   ]
  },
  {
   "cell_type": "code",
   "execution_count": 10,
   "id": "ad40696c-c5fa-4b5f-8f49-92c4fc0a9941",
   "metadata": {
    "execution": {
     "iopub.execute_input": "2024-01-26T20:44:45.771605Z",
     "iopub.status.busy": "2024-01-26T20:44:45.771333Z",
     "iopub.status.idle": "2024-01-26T20:44:45.773352Z",
     "shell.execute_reply": "2024-01-26T20:44:45.773026Z"
    },
    "papermill": {
     "duration": 0.007482,
     "end_time": "2024-01-26T20:44:45.773955",
     "exception": false,
     "start_time": "2024-01-26T20:44:45.766473",
     "status": "completed"
    },
    "tags": []
   },
   "outputs": [],
   "source": [
    "profiler = on.context.common.Profiler()"
   ]
  },
  {
   "cell_type": "markdown",
   "id": "0a304607-7ccb-4d2b-9796-dd80bce76b6c",
   "metadata": {
    "papermill": {
     "duration": 0.004277,
     "end_time": "2024-01-26T20:44:45.782711",
     "exception": false,
     "start_time": "2024-01-26T20:44:45.778434",
     "status": "completed"
    },
    "tags": []
   },
   "source": [
    "What does the common week looks like ?"
   ]
  },
  {
   "cell_type": "code",
   "execution_count": 11,
   "id": "bac9e224-c12a-4d7a-b7ca-db2a9acff278",
   "metadata": {
    "execution": {
     "iopub.execute_input": "2024-01-26T20:44:45.791904Z",
     "iopub.status.busy": "2024-01-26T20:44:45.791583Z",
     "iopub.status.idle": "2024-01-26T20:44:45.917802Z",
     "shell.execute_reply": "2024-01-26T20:44:45.917329Z"
    },
    "papermill": {
     "duration": 0.131975,
     "end_time": "2024-01-26T20:44:45.918711",
     "exception": false,
     "start_time": "2024-01-26T20:44:45.786736",
     "status": "completed"
    },
    "tags": []
   },
   "outputs": [],
   "source": [
    "week_mean = profiler.profile(ts_uni, profiler.Period.WEEKLY, profiler.Aggregation.MEAN)\n",
    "week_median = profiler.profile(ts_uni, profiler.Period.WEEKLY, profiler.Aggregation.MEDIAN)"
   ]
  },
  {
   "cell_type": "code",
   "execution_count": 12,
   "id": "e8474db3-5e1e-4d08-bdc1-30f88bfd5f28",
   "metadata": {
    "execution": {
     "iopub.execute_input": "2024-01-26T20:44:45.931007Z",
     "iopub.status.busy": "2024-01-26T20:44:45.930870Z",
     "iopub.status.idle": "2024-01-26T20:44:46.046467Z",
     "shell.execute_reply": "2024-01-26T20:44:46.046037Z"
    },
    "papermill": {
     "duration": 0.121694,
     "end_time": "2024-01-26T20:44:46.047248",
     "exception": false,
     "start_time": "2024-01-26T20:44:45.925554",
     "status": "completed"
    },
    "tags": []
   },
   "outputs": [
    {
     "data": {
      "image/png": "[encoded data removed]",
      "text/plain": [
       "<Figure size 640x480 with 1 Axes>"
      ]
     },
     "metadata": {},
     "output_type": "display_data"
    }
   ],
   "source": [
    "week_mean.plot();\n",
    "week_median.plot();"
   ]
  },
  {
   "cell_type": "markdown",
   "id": "3abbc2e7-a631-40b0-878c-36a552f95dc8",
   "metadata": {
    "papermill": {
     "duration": 0.004966,
     "end_time": "2024-01-26T20:44:46.057957",
     "exception": false,
     "start_time": "2024-01-26T20:44:46.052991",
     "status": "completed"
    },
    "tags": []
   },
   "source": [
    "#### Generic Predictor"
   ]
  },
  {
   "cell_type": "code",
   "execution_count": 13,
   "id": "c775b740-fe78-4c0c-87fe-a51af3d42993",
   "metadata": {
    "execution": {
     "iopub.execute_input": "2024-01-26T20:44:46.069641Z",
     "iopub.status.busy": "2024-01-26T20:44:46.069160Z",
     "iopub.status.idle": "2024-01-26T20:44:46.071464Z",
     "shell.execute_reply": "2024-01-26T20:44:46.071124Z"
    },
    "papermill": {
     "duration": 0.008528,
     "end_time": "2024-01-26T20:44:46.072120",
     "exception": false,
     "start_time": "2024-01-26T20:44:46.063592",
     "status": "completed"
    },
    "tags": []
   },
   "outputs": [],
   "source": [
    "model = on.context.common.GenericPredictor()"
   ]
  },
  {
   "cell_type": "code",
   "execution_count": 14,
   "id": "a633dce3-27d8-4deb-bb0f-d40e3af96f8a",
   "metadata": {
    "execution": {
     "iopub.execute_input": "2024-01-26T20:44:46.083152Z",
     "iopub.status.busy": "2024-01-26T20:44:46.082828Z",
     "iopub.status.idle": "2024-01-26T20:44:47.032559Z",
     "shell.execute_reply": "2024-01-26T20:44:47.032191Z"
    },
    "papermill": {
     "duration": 0.956077,
     "end_time": "2024-01-26T20:44:47.033313",
     "exception": false,
     "start_time": "2024-01-26T20:44:46.077236",
     "status": "completed"
    },
    "tags": []
   },
   "outputs": [
    {
     "data": {
      "text/plain": [
       "<ontime.context.common.generic_predictor.GenericPredictor at 0xffff02f056f0>"
      ]
     },
     "execution_count": 14,
     "metadata": {},
     "output_type": "execute_result"
    }
   ],
   "source": [
    "model.fit(train)"
   ]
  },
  {
   "cell_type": "markdown",
   "id": "6943aa60-c757-4f54-bf63-854beecfab80",
   "metadata": {
    "papermill": {
     "duration": 0.005061,
     "end_time": "2024-01-26T20:44:47.044169",
     "exception": false,
     "start_time": "2024-01-26T20:44:47.039108",
     "status": "completed"
    },
    "tags": []
   },
   "source": [
    "What does the future looks like ?"
   ]
  },
  {
   "cell_type": "code",
   "execution_count": 15,
   "id": "04dfe189-f736-4fe3-b27c-467c154b2c42",
   "metadata": {
    "execution": {
     "iopub.execute_input": "2024-01-26T20:44:47.054746Z",
     "iopub.status.busy": "2024-01-26T20:44:47.054330Z",
     "iopub.status.idle": "2024-01-26T20:44:47.067838Z",
     "shell.execute_reply": "2024-01-26T20:44:47.067539Z"
    },
    "papermill": {
     "duration": 0.019489,
     "end_time": "2024-01-26T20:44:47.068475",
     "exception": false,
     "start_time": "2024-01-26T20:44:47.048986",
     "status": "completed"
    },
    "tags": []
   },
   "outputs": [],
   "source": [
    "pred = model.predict(48)"
   ]
  },
  {
   "cell_type": "code",
   "execution_count": 16,
   "id": "67da9001-1e2a-4578-9436-8db8151190dc",
   "metadata": {
    "execution": {
     "iopub.execute_input": "2024-01-26T20:44:47.078928Z",
     "iopub.status.busy": "2024-01-26T20:44:47.078621Z",
     "iopub.status.idle": "2024-01-26T20:44:47.220363Z",
     "shell.execute_reply": "2024-01-26T20:44:47.219954Z"
    },
    "papermill": {
     "duration": 0.147558,
     "end_time": "2024-01-26T20:44:47.221067",
     "exception": false,
     "start_time": "2024-01-26T20:44:47.073509",
     "status": "completed"
    },
    "tags": []
   },
   "outputs": [
    {
     "data": {
      "text/html": [
       "\n",
       "<style>\n",
       "  #altair-viz-18133d87a50f4edc8ab8908844b2ee9c.vega-embed {\n",
       "    width: 100%;\n",
       "    display: flex;\n",
       "  }\n",
       "\n",
       "  #altair-viz-18133d87a50f4edc8ab8908844b2ee9c.vega-embed details,\n",
       "  #altair-viz-18133d87a50f4edc8ab8908844b2ee9c.vega-embed details summary {\n",
       "    position: relative;\n",
       "  }\n",
       "</style>\n",
       "<div id=\"altair-viz-18133d87a50f4edc8ab8908844b2ee9c\"></div>\n",
       "<script type=\"text/javascript\">\n",
       "  var VEGA_DEBUG = (typeof VEGA_DEBUG == \"undefined\") ? {} : VEGA_DEBUG;\n",
       "  (function(spec, embedOpt){\n",
       "    let outputDiv = document.currentScript.previousElementSibling;\n",
       "    if (outputDiv.id !== \"altair-viz-18133d87a50f4edc8ab8908844b2ee9c\") {\n",
       "      outputDiv = document.getElementById(\"altair-viz-18133d87a50f4edc8ab8908844b2ee9c\");\n",
       "    }\n",
       "    const paths = {\n",
       "      \"vega\": \"https://cdn.jsdelivr.net/npm/vega@5?noext\",\n",
       "      \"vega-lib\": \"https://cdn.jsdelivr.net/npm/vega-lib?noext\",\n",
       "      \"vega-lite\": \"https://cdn.jsdelivr.net/npm/vega-lite@5.16.3?noext\",\n",
       "      \"vega-embed\": \"https://cdn.jsdelivr.net/npm/vega-embed@6?noext\",\n",
       "    };\n",
       "\n",
       "    function maybeLoadScript(lib, version) {\n",
       "      var key = `${lib.replace(\"-\", \"\")}_version`;\n",
       "      return (VEGA_DEBUG[key] == version) ?\n",
       "        Promise.resolve(paths[lib]) :\n",
       "        new Promise(function(resolve, reject) {\n",
       "          var s = document.createElement('script');\n",
       "          document.getElementsByTagName(\"head\")[0].appendChild(s);\n",
       "          s.async = true;\n",
       "          s.onload = () => {\n",
       "            VEGA_DEBUG[key] = version;\n",
       "            return resolve(paths[lib]);\n",
       "          };\n",
       "          s.onerror = () => reject(`Error loading script: ${paths[lib]}`);\n",
       "          s.src = paths[lib];\n",
       "        });\n",
       "    }\n",
       "\n",
       "    function showError(err) {\n",
       "      outputDiv.innerHTML = `<div class=\"error\" style=\"color:red;\">${err}</div>`;\n",
       "      throw err;\n",
       "    }\n",
       "\n",
       "    function displayChart(vegaEmbed) {\n",
       "      vegaEmbed(outputDiv, spec, embedOpt)\n",
       "        .catch(err => showError(`Javascript Error: ${err.message}<br>This usually means there's a typo in your chart specification. See the javascript console for the full traceback.`));\n",
       "    }\n",
       "\n",
       "    if(typeof define === \"function\" && define.amd) {\n",
       "      requirejs.config({paths});\n",
       "      require([\"vega-embed\"], displayChart, err => showError(`Error loading script: ${err.message}`));\n",
       "    } else {\n",
       "      maybeLoadScript(\"vega\", \"5\")\n",
       "        .then(() => maybeLoadScript(\"vega-lite\", \"5.16.3\"))\n",
       "        .then(() => maybeLoadScript(\"vega-embed\", \"6\"))\n",
       "        .catch(showError)\n",
       "        .then(() => displayChart(vegaEmbed));\n",
       "    }\n",
       "  })({\"$schema\": \"https://vega.github.io/schema/vega/v5.json\", \"data\": [{\"name\": \"source_0\", \"values\": [{\"time\": \"2015-09-09T13:00:00.000\", \"variable\": \"Training set\", \"value\": 4402.0}, {\"time\": \"2015-09-09T14:00:00.000\", \"variable\": \"Training set\", \"value\": 3985.0}, {\"time\": \"2015-09-09T15:00:00.000\", \"variable\": \"Training set\", \"value\": 3382.0}, {\"time\": \"2015-09-09T16:00:00.000\", \"variable\": \"Training set\", \"value\": 2505.0}, {\"time\": \"2015-09-09T17:00:00.000\", \"variable\": \"Training set\", \"value\": 1432.0}, {\"time\": \"2015-09-09T18:00:00.000\", \"variable\": \"Training set\", \"value\": 776.0}, {\"time\": \"2015-09-09T19:00:00.000\", \"variable\": \"Training set\", \"value\": 522.0}, {\"time\": \"2015-09-09T20:00:00.000\", \"variable\": \"Training set\", \"value\": 297.0}, {\"time\": \"2015-09-09T21:00:00.000\", \"variable\": \"Training set\", \"value\": 135.0}, {\"time\": \"2015-09-09T22:00:00.000\", \"variable\": \"Training set\", \"value\": 196.0}, {\"time\": \"2015-09-09T23:00:00.000\", \"variable\": \"Training set\", \"value\": 90.0}, {\"time\": \"2015-09-10T00:00:00.000\", \"variable\": \"Training set\", \"value\": 62.0}, {\"time\": \"2015-09-10T01:00:00.000\", \"variable\": \"Training set\", \"value\": 62.0}, {\"time\": \"2015-09-10T02:00:00.000\", \"variable\": \"Training set\", \"value\": 61.0}, {\"time\": \"2015-09-10T03:00:00.000\", \"variable\": \"Training set\", \"value\": 62.0}, {\"time\": \"2015-09-10T04:00:00.000\", \"variable\": \"Training set\", \"value\": 62.0}, {\"time\": \"2015-09-10T05:00:00.000\", \"variable\": \"Training set\", \"value\": 62.0}, {\"time\": \"2015-09-10T06:00:00.000\", \"variable\": \"Training set\", \"value\": 152.0}, {\"time\": \"2015-09-10T07:00:00.000\", \"variable\": \"Training set\", \"value\": 1094.0}, {\"time\": \"2015-09-10T08:00:00.000\", \"variable\": \"Training set\", \"value\": 2317.0}, {\"time\": \"2015-09-10T09:00:00.000\", \"variable\": \"Training set\", \"value\": 3489.0}, {\"time\": \"2015-09-10T10:00:00.000\", \"variable\": \"Training set\", \"value\": 3893.0}, {\"time\": \"2015-09-10T11:00:00.000\", \"variable\": \"Training set\", \"value\": 3883.0}, {\"time\": \"2015-09-10T12:00:00.000\", \"variable\": \"Training set\", \"value\": 3735.0}, {\"time\": \"2015-09-10T13:00:00.000\", \"variable\": \"Training set\", \"value\": 3612.0}, {\"time\": \"2015-09-10T14:00:00.000\", \"variable\": \"Training set\", \"value\": 3378.0}, {\"time\": \"2015-09-10T15:00:00.000\", \"variable\": \"Training set\", \"value\": 2769.0}, {\"time\": \"2015-09-10T16:00:00.000\", \"variable\": \"Training set\", \"value\": 1809.0}, {\"time\": \"2015-09-10T17:00:00.000\", \"variable\": \"Training set\", \"value\": 606.0}, {\"time\": \"2015-09-10T18:00:00.000\", \"variable\": \"Training set\", \"value\": 157.0}, {\"time\": \"2015-09-10T19:00:00.000\", \"variable\": \"Training set\", \"value\": 71.0}, {\"time\": \"2015-09-10T20:00:00.000\", \"variable\": \"Training set\", \"value\": 60.0}, {\"time\": \"2015-09-10T21:00:00.000\", \"variable\": \"Training set\", \"value\": 53.0}, {\"time\": \"2015-09-10T22:00:00.000\", \"variable\": \"Training set\", \"value\": 84.0}, {\"time\": \"2015-09-10T23:00:00.000\", \"variable\": \"Training set\", \"value\": 60.0}, {\"time\": \"2015-09-11T00:00:00.000\", \"variable\": \"Training set\", \"value\": 60.0}, {\"time\": \"2015-09-11T01:00:00.000\", \"variable\": \"Training set\", \"value\": 60.0}, {\"time\": \"2015-09-11T02:00:00.000\", \"variable\": \"Training set\", \"value\": 60.0}, {\"time\": \"2015-09-11T03:00:00.000\", \"variable\": \"Training set\", \"value\": 69.0}, {\"time\": \"2015-09-11T04:00:00.000\", \"variable\": \"Training set\", \"value\": 75.0}, {\"time\": \"2015-09-11T05:00:00.000\", \"variable\": \"Training set\", \"value\": 77.0}, {\"time\": \"2015-09-11T06:00:00.000\", \"variable\": \"Training set\", \"value\": 399.0}, {\"time\": \"2015-09-11T07:00:00.000\", \"variable\": \"Training set\", \"value\": 1464.0}, {\"time\": \"2015-09-11T08:00:00.000\", \"variable\": \"Training set\", \"value\": 2726.0}, {\"time\": \"2015-09-11T09:00:00.000\", \"variable\": \"Training set\", \"value\": 3729.0}, {\"time\": \"2015-09-11T10:00:00.000\", \"variable\": \"Training set\", \"value\": 4010.0}, {\"time\": \"2015-09-11T11:00:00.000\", \"variable\": \"Training set\", \"value\": 4052.0}, {\"time\": \"2015-09-11T12:00:00.000\", \"variable\": \"Training set\", \"value\": 3985.0}, {\"time\": \"2015-09-11T13:00:00.000\", \"variable\": \"Training set\", \"value\": 3834.0}, {\"time\": \"2015-09-11T14:00:00.000\", \"variable\": \"Training set\", \"value\": 3199.0}, {\"time\": \"2015-09-11T15:00:00.000\", \"variable\": \"Training set\", \"value\": 1620.0}, {\"time\": \"2015-09-11T16:00:00.000\", \"variable\": \"Training set\", \"value\": 624.0}, {\"time\": \"2015-09-11T17:00:00.000\", \"variable\": \"Training set\", \"value\": 437.0}, {\"time\": \"2015-09-11T18:00:00.000\", \"variable\": \"Training set\", \"value\": 244.0}, {\"time\": \"2015-09-11T19:00:00.000\", \"variable\": \"Training set\", \"value\": 135.0}, {\"time\": \"2015-09-11T20:00:00.000\", \"variable\": \"Training set\", \"value\": 101.0}, {\"time\": \"2015-09-11T21:00:00.000\", \"variable\": \"Training set\", \"value\": 87.0}, {\"time\": \"2015-09-11T22:00:00.000\", \"variable\": \"Training set\", \"value\": 13.0}, {\"time\": \"2015-09-11T23:00:00.000\", \"variable\": \"Training set\", \"value\": 13.0}, {\"time\": \"2015-09-12T00:00:00.000\", \"variable\": \"Training set\", \"value\": 13.0}, {\"time\": \"2015-09-12T01:00:00.000\", \"variable\": \"Training set\", \"value\": 13.0}, {\"time\": \"2015-09-12T02:00:00.000\", \"variable\": \"Training set\", \"value\": 13.0}, {\"time\": \"2015-09-12T03:00:00.000\", \"variable\": \"Training set\", \"value\": 13.0}, {\"time\": \"2015-09-12T04:00:00.000\", \"variable\": \"Training set\", \"value\": 13.0}, {\"time\": \"2015-09-12T05:00:00.000\", \"variable\": \"Training set\", \"value\": 16.0}, {\"time\": \"2015-09-12T06:00:00.000\", \"variable\": \"Training set\", \"value\": 47.0}, {\"time\": \"2015-09-12T07:00:00.000\", \"variable\": \"Training set\", \"value\": 485.0}, {\"time\": \"2015-09-12T08:00:00.000\", \"variable\": \"Training set\", \"value\": 1030.0}, {\"time\": \"2015-09-12T09:00:00.000\", \"variable\": \"Training set\", \"value\": 1607.0}, {\"time\": \"2015-09-12T10:00:00.000\", \"variable\": \"Training set\", \"value\": 1861.0}, {\"time\": \"2015-09-12T11:00:00.000\", \"variable\": \"Training set\", \"value\": 1831.0}, {\"time\": \"2015-09-12T12:00:00.000\", \"variable\": \"Training set\", \"value\": 1605.0}, {\"time\": \"2015-09-12T13:00:00.000\", \"variable\": \"Training set\", \"value\": 1175.0}, {\"time\": \"2015-09-12T14:00:00.000\", \"variable\": \"Training set\", \"value\": 588.0}, {\"time\": \"2015-09-12T15:00:00.000\", \"variable\": \"Training set\", \"value\": 103.0}, {\"time\": \"2015-09-12T16:00:00.000\", \"variable\": \"Training set\", \"value\": 35.0}, {\"time\": \"2015-09-12T17:00:00.000\", \"variable\": \"Training set\", \"value\": 24.0}, {\"time\": \"2015-09-12T18:00:00.000\", \"variable\": \"Training set\", \"value\": 21.0}, {\"time\": \"2015-09-12T19:00:00.000\", \"variable\": \"Training set\", \"value\": 13.0}, {\"time\": \"2015-09-12T20:00:00.000\", \"variable\": \"Training set\", \"value\": 13.0}, {\"time\": \"2015-09-12T21:00:00.000\", \"variable\": \"Training set\", \"value\": 13.0}, {\"time\": \"2015-09-12T22:00:00.000\", \"variable\": \"Training set\", \"value\": 291.0}, {\"time\": \"2015-09-12T23:00:00.000\", \"variable\": \"Training set\", \"value\": 192.0}, {\"time\": \"2015-09-13T00:00:00.000\", \"variable\": \"Training set\", \"value\": 112.0}, {\"time\": \"2015-09-13T01:00:00.000\", \"variable\": \"Training set\", \"value\": 47.0}, {\"time\": \"2015-09-13T02:00:00.000\", \"variable\": \"Training set\", \"value\": 34.0}, {\"time\": \"2015-09-13T03:00:00.000\", \"variable\": \"Training set\", \"value\": 34.0}, {\"time\": \"2015-09-13T04:00:00.000\", \"variable\": \"Training set\", \"value\": 33.0}, {\"time\": \"2015-09-13T05:00:00.000\", \"variable\": \"Training set\", \"value\": 32.0}, {\"time\": \"2015-09-13T06:00:00.000\", \"variable\": \"Training set\", \"value\": 181.0}, {\"time\": \"2015-09-13T07:00:00.000\", \"variable\": \"Training set\", \"value\": 892.0}, {\"time\": \"2015-09-13T08:00:00.000\", \"variable\": \"Training set\", \"value\": 2210.0}, {\"time\": \"2015-09-13T09:00:00.000\", \"variable\": \"Training set\", \"value\": 3415.0}, {\"time\": \"2015-09-13T10:00:00.000\", \"variable\": \"Training set\", \"value\": 4198.0}, {\"time\": \"2015-09-13T11:00:00.000\", \"variable\": \"Training set\", \"value\": 4603.0}, {\"time\": \"2015-09-13T12:00:00.000\", \"variable\": \"Training set\", \"value\": 4611.0}, {\"time\": \"2015-09-13T13:00:00.000\", \"variable\": \"Prediction\", \"value\": 4421.055420693778}, {\"time\": \"2015-09-13T14:00:00.000\", \"variable\": \"Prediction\", \"value\": 4014.4688897970887}, {\"time\": \"2015-09-13T15:00:00.000\", \"variable\": \"Prediction\", \"value\": 3243.314787949125}, {\"time\": \"2015-09-13T16:00:00.000\", \"variable\": \"Prediction\", \"value\": 2244.1515414293954}, {\"time\": \"2015-09-13T17:00:00.000\", \"variable\": \"Prediction\", \"value\": 1117.8537957499707}, {\"time\": \"2015-09-13T18:00:00.000\", \"variable\": \"Prediction\", \"value\": 520.6044107483872}, {\"time\": \"2015-09-13T19:00:00.000\", \"variable\": \"Prediction\", \"value\": 398.1212651167684}, {\"time\": \"2015-09-13T20:00:00.000\", \"variable\": \"Prediction\", \"value\": 330.8952509847468}, {\"time\": \"2015-09-13T21:00:00.000\", \"variable\": \"Prediction\", \"value\": 278.5764514442335}, {\"time\": \"2015-09-13T22:00:00.000\", \"variable\": \"Prediction\", \"value\": 200.09737715136293}, {\"time\": \"2015-09-13T23:00:00.000\", \"variable\": \"Prediction\", \"value\": 149.74669646100938}, {\"time\": \"2015-09-14T00:00:00.000\", \"variable\": \"Prediction\", \"value\": 120.43751064191542}, {\"time\": \"2015-09-14T01:00:00.000\", \"variable\": \"Prediction\", \"value\": 103.66161950031733}, {\"time\": \"2015-09-14T02:00:00.000\", \"variable\": \"Prediction\", \"value\": 65.60931938500562}, {\"time\": \"2015-09-14T03:00:00.000\", \"variable\": \"Prediction\", \"value\": 39.58402604705134}, {\"time\": \"2015-09-14T04:00:00.000\", \"variable\": \"Prediction\", \"value\": 55.613341527122884}, {\"time\": \"2015-09-14T05:00:00.000\", \"variable\": \"Prediction\", \"value\": 236.4730097377144}, {\"time\": \"2015-09-14T06:00:00.000\", \"variable\": \"Prediction\", \"value\": 972.2529595668245}, {\"time\": \"2015-09-14T07:00:00.000\", \"variable\": \"Prediction\", \"value\": 2143.1383076853563}, {\"time\": \"2015-09-14T08:00:00.000\", \"variable\": \"Prediction\", \"value\": 3215.5261010152}, {\"time\": \"2015-09-14T09:00:00.000\", \"variable\": \"Prediction\", \"value\": 3934.127058650786}, {\"time\": \"2015-09-14T10:00:00.000\", \"variable\": \"Prediction\", \"value\": 4285.439536510106}, {\"time\": \"2015-09-14T11:00:00.000\", \"variable\": \"Prediction\", \"value\": 4375.441784033208}, {\"time\": \"2015-09-14T12:00:00.000\", \"variable\": \"Prediction\", \"value\": 4255.729830822005}, {\"time\": \"2015-09-14T13:00:00.000\", \"variable\": \"Prediction\", \"value\": 3961.468688787254}, {\"time\": \"2015-09-14T14:00:00.000\", \"variable\": \"Prediction\", \"value\": 3381.916436753201}, {\"time\": \"2015-09-14T15:00:00.000\", \"variable\": \"Prediction\", \"value\": 2542.1650621948966}, {\"time\": \"2015-09-14T16:00:00.000\", \"variable\": \"Prediction\", \"value\": 1389.1225386559245}, {\"time\": \"2015-09-14T17:00:00.000\", \"variable\": \"Prediction\", \"value\": 634.6724000314699}, {\"time\": \"2015-09-14T18:00:00.000\", \"variable\": \"Prediction\", \"value\": 418.8749409524987}, {\"time\": \"2015-09-14T19:00:00.000\", \"variable\": \"Prediction\", \"value\": 324.173823023712}, {\"time\": \"2015-09-14T20:00:00.000\", \"variable\": \"Prediction\", \"value\": 295.3270881320948}, {\"time\": \"2015-09-14T21:00:00.000\", \"variable\": \"Prediction\", \"value\": 233.27590737516903}, {\"time\": \"2015-09-14T22:00:00.000\", \"variable\": \"Prediction\", \"value\": 190.61740343693873}, {\"time\": \"2015-09-14T23:00:00.000\", \"variable\": \"Prediction\", \"value\": 149.20486313045512}, {\"time\": \"2015-09-15T00:00:00.000\", \"variable\": \"Prediction\", \"value\": 114.77040380748281}, {\"time\": \"2015-09-15T01:00:00.000\", \"variable\": \"Prediction\", \"value\": 88.00325971681332}, {\"time\": \"2015-09-15T02:00:00.000\", \"variable\": \"Prediction\", \"value\": 51.208162171368485}, {\"time\": \"2015-09-15T03:00:00.000\", \"variable\": \"Prediction\", \"value\": 73.882302168269}, {\"time\": \"2015-09-15T04:00:00.000\", \"variable\": \"Prediction\", \"value\": 291.7731452416565}, {\"time\": \"2015-09-15T05:00:00.000\", \"variable\": \"Prediction\", \"value\": 986.3992775551272}, {\"time\": \"2015-09-15T06:00:00.000\", \"variable\": \"Prediction\", \"value\": 2041.6865129544535}, {\"time\": \"2015-09-15T07:00:00.000\", \"variable\": \"Prediction\", \"value\": 2955.305961069812}, {\"time\": \"2015-09-15T08:00:00.000\", \"variable\": \"Prediction\", \"value\": 3616.623527736615}, {\"time\": \"2015-09-15T09:00:00.000\", \"variable\": \"Prediction\", \"value\": 3979.5415276264894}, {\"time\": \"2015-09-15T10:00:00.000\", \"variable\": \"Prediction\", \"value\": 4132.888059353216}, {\"time\": \"2015-09-15T11:00:00.000\", \"variable\": \"Prediction\", \"value\": 4075.5245839349323}, {\"time\": \"2015-09-15T12:00:00.000\", \"variable\": \"Prediction\", \"value\": 3809.7412939687033}, {\"time\": \"2015-09-13T13:00:00.000\", \"variable\": \"Truth\", \"value\": 4599.0}, {\"time\": \"2015-09-13T14:00:00.000\", \"variable\": \"Truth\", \"value\": 4261.0}, {\"time\": \"2015-09-13T15:00:00.000\", \"variable\": \"Truth\", \"value\": 3805.0}, {\"time\": \"2015-09-13T16:00:00.000\", \"variable\": \"Truth\", \"value\": 3118.0}, {\"time\": \"2015-09-13T17:00:00.000\", \"variable\": \"Truth\", \"value\": 1844.0}, {\"time\": \"2015-09-13T18:00:00.000\", \"variable\": \"Truth\", \"value\": 747.0}, {\"time\": \"2015-09-13T19:00:00.000\", \"variable\": \"Truth\", \"value\": 557.0}, {\"time\": \"2015-09-13T20:00:00.000\", \"variable\": \"Truth\", \"value\": 436.0}, {\"time\": \"2015-09-13T21:00:00.000\", \"variable\": \"Truth\", \"value\": 327.0}, {\"time\": \"2015-09-13T22:00:00.000\", \"variable\": \"Truth\", \"value\": 300.0}, {\"time\": \"2015-09-13T23:00:00.000\", \"variable\": \"Truth\", \"value\": 240.0}, {\"time\": \"2015-09-14T00:00:00.000\", \"variable\": \"Truth\", \"value\": 138.0}, {\"time\": \"2015-09-14T01:00:00.000\", \"variable\": \"Truth\", \"value\": 69.0}, {\"time\": \"2015-09-14T02:00:00.000\", \"variable\": \"Truth\", \"value\": 55.0}, {\"time\": \"2015-09-14T03:00:00.000\", \"variable\": \"Truth\", \"value\": 48.0}, {\"time\": \"2015-09-14T04:00:00.000\", \"variable\": \"Truth\", \"value\": 52.0}, {\"time\": \"2015-09-14T05:00:00.000\", \"variable\": \"Truth\", \"value\": 51.0}, {\"time\": \"2015-09-14T06:00:00.000\", \"variable\": \"Truth\", \"value\": 170.0}, {\"time\": \"2015-09-14T07:00:00.000\", \"variable\": \"Truth\", \"value\": 803.0}, {\"time\": \"2015-09-14T08:00:00.000\", \"variable\": \"Truth\", \"value\": 1816.0}, {\"time\": \"2015-09-14T09:00:00.000\", \"variable\": \"Truth\", \"value\": 2619.0}, {\"time\": \"2015-09-14T10:00:00.000\", \"variable\": \"Truth\", \"value\": 3354.0}, {\"time\": \"2015-09-14T11:00:00.000\", \"variable\": \"Truth\", \"value\": 3743.0}, {\"time\": \"2015-09-14T12:00:00.000\", \"variable\": \"Truth\", \"value\": 4164.0}, {\"time\": \"2015-09-14T13:00:00.000\", \"variable\": \"Truth\", \"value\": 4473.0}, {\"time\": \"2015-09-14T14:00:00.000\", \"variable\": \"Truth\", \"value\": 4514.0}, {\"time\": \"2015-09-14T15:00:00.000\", \"variable\": \"Truth\", \"value\": 4171.0}, {\"time\": \"2015-09-14T16:00:00.000\", \"variable\": \"Truth\", \"value\": 3403.0}, {\"time\": \"2015-09-14T17:00:00.000\", \"variable\": \"Truth\", \"value\": 1872.0}, {\"time\": \"2015-09-14T18:00:00.000\", \"variable\": \"Truth\", \"value\": 743.0}, {\"time\": \"2015-09-14T19:00:00.000\", \"variable\": \"Truth\", \"value\": 421.0}, {\"time\": \"2015-09-14T20:00:00.000\", \"variable\": \"Truth\", \"value\": 296.0}, {\"time\": \"2015-09-14T21:00:00.000\", \"variable\": \"Truth\", \"value\": 229.0}, {\"time\": \"2015-09-14T22:00:00.000\", \"variable\": \"Truth\", \"value\": 167.0}, {\"time\": \"2015-09-14T23:00:00.000\", \"variable\": \"Truth\", \"value\": 128.0}, {\"time\": \"2015-09-15T00:00:00.000\", \"variable\": \"Truth\", \"value\": 96.0}, {\"time\": \"2015-09-15T01:00:00.000\", \"variable\": \"Truth\", \"value\": 83.0}, {\"time\": \"2015-09-15T02:00:00.000\", \"variable\": \"Truth\", \"value\": 66.0}, {\"time\": \"2015-09-15T03:00:00.000\", \"variable\": \"Truth\", \"value\": 52.0}, {\"time\": \"2015-09-15T04:00:00.000\", \"variable\": \"Truth\", \"value\": 51.0}, {\"time\": \"2015-09-15T05:00:00.000\", \"variable\": \"Truth\", \"value\": 49.0}, {\"time\": \"2015-09-15T06:00:00.000\", \"variable\": \"Truth\", \"value\": 225.0}, {\"time\": \"2015-09-15T07:00:00.000\", \"variable\": \"Truth\", \"value\": 1052.0}, {\"time\": \"2015-09-15T08:00:00.000\", \"variable\": \"Truth\", \"value\": 2569.0}, {\"time\": \"2015-09-15T09:00:00.000\", \"variable\": \"Truth\", \"value\": 3237.0}, {\"time\": \"2015-09-15T10:00:00.000\", \"variable\": \"Truth\", \"value\": 3401.0}, {\"time\": \"2015-09-15T11:00:00.000\", \"variable\": \"Truth\", \"value\": 3498.0}, {\"time\": \"2015-09-15T12:00:00.000\", \"variable\": \"Truth\", \"value\": 3149.0}], \"transform\": [{\"type\": \"formula\", \"expr\": \"toDate(datum['time'])\", \"as\": \"time\"}]}, {\"name\": \"source_0_y_domain_value\", \"values\": [{\"min\": 13.0, \"max\": 4611.0}]}, {\"name\": \"source_0_color_domain_variable\", \"values\": [{\"variable\": \"Training set\"}, {\"variable\": \"Prediction\"}, {\"variable\": \"Truth\"}]}], \"marks\": [{\"type\": \"group\", \"name\": \"pathgroup\", \"from\": {\"facet\": {\"data\": \"source_0\", \"name\": \"faceted_path_main\", \"groupby\": [\"variable\"]}}, \"encode\": {\"update\": {\"width\": {\"field\": {\"signal\": null, \"datum\": null, \"group\": \"width\", \"parent\": null}}, \"height\": {\"field\": {\"signal\": null, \"datum\": null, \"group\": \"height\", \"parent\": null}}}}, \"marks\": [{\"type\": \"line\", \"name\": \"marks\", \"from\": {\"data\": \"faceted_path_main\"}, \"sort\": {\"field\": \"datum[\\\"time\\\"]\"}, \"encode\": {\"update\": {\"x\": {\"field\": \"time\", \"scale\": \"x\"}, \"strokeDash\": [{\"value\": [5, 2], \"test\": \"(datum.variable === 'Truth')\"}, {\"value\": [0]}], \"description\": {\"signal\": \"\\\"time: \\\" + (timeFormat(datum[\\\"time\\\"], '%b %d, %Y')) + \\\"; value: \\\" + (format(datum[\\\"value\\\"], \\\"\\\")) + \\\"; variable: \\\" + (isValid(datum[\\\"variable\\\"]) ? datum[\\\"variable\\\"] : \\\"\\\"+datum[\\\"variable\\\"])\"}, \"y\": {\"field\": \"value\", \"scale\": \"y\"}, \"defined\": {\"signal\": \"isValid(datum[\\\"time\\\"]) && isFinite(+datum[\\\"time\\\"]) && isValid(datum[\\\"value\\\"]) && isFinite(+datum[\\\"value\\\"])\"}, \"stroke\": {\"field\": \"variable\", \"scale\": \"color\"}, \"opacity\": [{\"value\": 0.5, \"test\": \"(datum.variable === 'Truth')\"}, {\"value\": 1}]}}, \"style\": [\"line\"]}]}], \"scales\": [{\"name\": \"x\", \"type\": \"time\", \"domain\": {\"data\": \"source_0\", \"field\": \"time\"}, \"range\": [0, {\"signal\": \"width\"}]}, {\"name\": \"y\", \"type\": \"linear\", \"domain\": [{\"signal\": \"(data(\\\"source_0_y_domain_value\\\")[0] || {}).min\"}, {\"signal\": \"(data(\\\"source_0_y_domain_value\\\")[0] || {}).max\"}], \"range\": [{\"signal\": \"height\"}, 0], \"nice\": true, \"zero\": true}, {\"name\": \"color\", \"type\": \"ordinal\", \"domain\": {\"data\": \"source_0_color_domain_variable\", \"field\": \"variable\", \"sort\": true}, \"range\": \"category\"}], \"axes\": [{\"scale\": \"x\", \"orient\": \"bottom\", \"domain\": false, \"maxExtent\": 0, \"tickCount\": {\"signal\": \"ceil(width/40)\"}, \"aria\": false, \"zindex\": 0, \"minExtent\": 0, \"gridScale\": \"y\", \"ticks\": false, \"grid\": true, \"labels\": false}, {\"scale\": \"y\", \"domain\": false, \"minExtent\": 0, \"orient\": \"left\", \"maxExtent\": 0, \"ticks\": false, \"grid\": true, \"tickCount\": {\"signal\": \"ceil(height/40)\"}, \"aria\": false, \"gridScale\": \"x\", \"labels\": false, \"zindex\": 0}, {\"scale\": \"x\", \"title\": \"time\", \"labelOverlap\": true, \"orient\": \"bottom\", \"tickCount\": {\"signal\": \"ceil(width/40)\"}, \"grid\": false, \"zindex\": 0, \"labelFlush\": true}, {\"scale\": \"y\", \"tickCount\": {\"signal\": \"ceil(height/40)\"}, \"orient\": \"left\", \"labelOverlap\": true, \"title\": \"value\", \"grid\": false, \"zindex\": 0}], \"background\": \"white\", \"style\": \"cell\", \"legends\": [{\"stroke\": \"color\", \"symbolType\": \"stroke\", \"title\": \"variable\", \"encode\": {\"symbols\": {\"update\": {\"opacity\": {\"value\": 1}}}}}], \"padding\": 5, \"width\": 500, \"height\": 300}, {\"mode\": \"vega\"});\n",
       "</script>"
      ],
      "text/plain": [
       "alt.Chart(...)"
      ]
     },
     "execution_count": 16,
     "metadata": {},
     "output_type": "execute_result"
    }
   ],
   "source": [
    "on.plots.prediction(train[-96:], pred, test[:48])"
   ]
  },
  {
   "cell_type": "markdown",
   "id": "dc965c95-1b5c-43e4-9c4b-57ff73c275c1",
   "metadata": {
    "papermill": {
     "duration": 0.006465,
     "end_time": "2024-01-26T20:44:47.233409",
     "exception": false,
     "start_time": "2024-01-26T20:44:47.226944",
     "status": "completed"
    },
    "tags": []
   },
   "source": [
    "## Generic Detector"
   ]
  },
  {
   "cell_type": "code",
   "execution_count": 17,
   "id": "9751b373-97d3-45e9-9969-2b4ba224f815",
   "metadata": {
    "execution": {
     "iopub.execute_input": "2024-01-26T20:44:47.244341Z",
     "iopub.status.busy": "2024-01-26T20:44:47.243943Z",
     "iopub.status.idle": "2024-01-26T20:44:47.246104Z",
     "shell.execute_reply": "2024-01-26T20:44:47.245825Z"
    },
    "papermill": {
     "duration": 0.008122,
     "end_time": "2024-01-26T20:44:47.246742",
     "exception": false,
     "start_time": "2024-01-26T20:44:47.238620",
     "status": "completed"
    },
    "tags": []
   },
   "outputs": [],
   "source": [
    "model = on.context.common.GenericDetector()"
   ]
  },
  {
   "cell_type": "code",
   "execution_count": 18,
   "id": "89be0c48-0ab6-42b4-ab64-611b95d2a76f",
   "metadata": {
    "execution": {
     "iopub.execute_input": "2024-01-26T20:44:47.256663Z",
     "iopub.status.busy": "2024-01-26T20:44:47.256421Z",
     "iopub.status.idle": "2024-01-26T20:44:48.146265Z",
     "shell.execute_reply": "2024-01-26T20:44:48.145839Z"
    },
    "papermill": {
     "duration": 0.895629,
     "end_time": "2024-01-26T20:44:48.146940",
     "exception": false,
     "start_time": "2024-01-26T20:44:47.251311",
     "status": "completed"
    },
    "tags": []
   },
   "outputs": [
    {
     "data": {
      "text/plain": [
       "<ontime.context.common.generic_detector.GenericDetector at 0xffff031c3040>"
      ]
     },
     "execution_count": 18,
     "metadata": {},
     "output_type": "execute_result"
    }
   ],
   "source": [
    "model.fit(train)"
   ]
  },
  {
   "cell_type": "markdown",
   "id": "06be738b-8bfd-4c95-8dec-ed52803e5ff9",
   "metadata": {
    "papermill": {
     "duration": 0.005507,
     "end_time": "2024-01-26T20:44:48.158172",
     "exception": false,
     "start_time": "2024-01-26T20:44:48.152665",
     "status": "completed"
    },
    "tags": []
   },
   "source": [
    "Does the current signal has problem ? "
   ]
  },
  {
   "cell_type": "code",
   "execution_count": 19,
   "id": "4650f34a-9cdb-4ea6-9dfe-2c66109b2627",
   "metadata": {
    "execution": {
     "iopub.execute_input": "2024-01-26T20:44:48.168971Z",
     "iopub.status.busy": "2024-01-26T20:44:48.168611Z",
     "iopub.status.idle": "2024-01-26T20:44:48.176183Z",
     "shell.execute_reply": "2024-01-26T20:44:48.175851Z"
    },
    "papermill": {
     "duration": 0.013631,
     "end_time": "2024-01-26T20:44:48.176835",
     "exception": false,
     "start_time": "2024-01-26T20:44:48.163204",
     "status": "completed"
    },
    "tags": []
   },
   "outputs": [],
   "source": [
    "detected_test = model.detect(test)"
   ]
  },
  {
   "cell_type": "code",
   "execution_count": 20,
   "id": "49e09caa-37f1-4201-b79a-4d1d65d86a8c",
   "metadata": {
    "execution": {
     "iopub.execute_input": "2024-01-26T20:44:48.188751Z",
     "iopub.status.busy": "2024-01-26T20:44:48.188442Z",
     "iopub.status.idle": "2024-01-26T20:44:48.226209Z",
     "shell.execute_reply": "2024-01-26T20:44:48.225851Z"
    },
    "papermill": {
     "duration": 0.045079,
     "end_time": "2024-01-26T20:44:48.226908",
     "exception": false,
     "start_time": "2024-01-26T20:44:48.181829",
     "status": "completed"
    },
    "tags": []
   },
   "outputs": [
    {
     "data": {
      "text/html": [
       "\n",
       "<style>\n",
       "  #altair-viz-c4dcc214dccc4bc7bfe43cbb0b81c2fd.vega-embed {\n",
       "    width: 100%;\n",
       "    display: flex;\n",
       "  }\n",
       "\n",
       "  #altair-viz-c4dcc214dccc4bc7bfe43cbb0b81c2fd.vega-embed details,\n",
       "  #altair-viz-c4dcc214dccc4bc7bfe43cbb0b81c2fd.vega-embed details summary {\n",
       "    position: relative;\n",
       "  }\n",
       "</style>\n",
       "<div id=\"altair-viz-c4dcc214dccc4bc7bfe43cbb0b81c2fd\"></div>\n",
       "<script type=\"text/javascript\">\n",
       "  var VEGA_DEBUG = (typeof VEGA_DEBUG == \"undefined\") ? {} : VEGA_DEBUG;\n",
       "  (function(spec, embedOpt){\n",
       "    let outputDiv = document.currentScript.previousElementSibling;\n",
       "    if (outputDiv.id !== \"altair-viz-c4dcc214dccc4bc7bfe43cbb0b81c2fd\") {\n",
       "      outputDiv = document.getElementById(\"altair-viz-c4dcc214dccc4bc7bfe43cbb0b81c2fd\");\n",
       "    }\n",
       "    const paths = {\n",
       "      \"vega\": \"https://cdn.jsdelivr.net/npm/vega@5?noext\",\n",
       "      \"vega-lib\": \"https://cdn.jsdelivr.net/npm/vega-lib?noext\",\n",
       "      \"vega-lite\": \"https://cdn.jsdelivr.net/npm/vega-lite@5.16.3?noext\",\n",
       "      \"vega-embed\": \"https://cdn.jsdelivr.net/npm/vega-embed@6?noext\",\n",
       "    };\n",
       "\n",
       "    function maybeLoadScript(lib, version) {\n",
       "      var key = `${lib.replace(\"-\", \"\")}_version`;\n",
       "      return (VEGA_DEBUG[key] == version) ?\n",
       "        Promise.resolve(paths[lib]) :\n",
       "        new Promise(function(resolve, reject) {\n",
       "          var s = document.createElement('script');\n",
       "          document.getElementsByTagName(\"head\")[0].appendChild(s);\n",
       "          s.async = true;\n",
       "          s.onload = () => {\n",
       "            VEGA_DEBUG[key] = version;\n",
       "            return resolve(paths[lib]);\n",
       "          };\n",
       "          s.onerror = () => reject(`Error loading script: ${paths[lib]}`);\n",
       "          s.src = paths[lib];\n",
       "        });\n",
       "    }\n",
       "\n",
       "    function showError(err) {\n",
       "      outputDiv.innerHTML = `<div class=\"error\" style=\"color:red;\">${err}</div>`;\n",
       "      throw err;\n",
       "    }\n",
       "\n",
       "    function displayChart(vegaEmbed) {\n",
       "      vegaEmbed(outputDiv, spec, embedOpt)\n",
       "        .catch(err => showError(`Javascript Error: ${err.message}<br>This usually means there's a typo in your chart specification. See the javascript console for the full traceback.`));\n",
       "    }\n",
       "\n",
       "    if(typeof define === \"function\" && define.amd) {\n",
       "      requirejs.config({paths});\n",
       "      require([\"vega-embed\"], displayChart, err => showError(`Error loading script: ${err.message}`));\n",
       "    } else {\n",
       "      maybeLoadScript(\"vega\", \"5\")\n",
       "        .then(() => maybeLoadScript(\"vega-lite\", \"5.16.3\"))\n",
       "        .then(() => maybeLoadScript(\"vega-embed\", \"6\"))\n",
       "        .catch(showError)\n",
       "        .then(() => displayChart(vegaEmbed));\n",
       "    }\n",
       "  })({\"$schema\": \"https://vega.github.io/schema/vega/v5.json\", \"data\": [{\"name\": \"source_0\", \"values\": [{\"anomaly\": 1.0, \"signal\": 4599.0, \"time\": \"2015-09-13T13:00:00.000\"}, {\"anomaly\": 1.0, \"signal\": 4261.0, \"time\": \"2015-09-13T14:00:00.000\"}, {\"anomaly\": 1.0, \"signal\": 3805.0, \"time\": \"2015-09-13T15:00:00.000\"}, {\"anomaly\": 0.0, \"signal\": 3118.0, \"time\": \"2015-09-13T16:00:00.000\"}, {\"anomaly\": 0.0, \"signal\": 1844.0, \"time\": \"2015-09-13T17:00:00.000\"}, {\"anomaly\": 0.0, \"signal\": 747.0, \"time\": \"2015-09-13T18:00:00.000\"}, {\"anomaly\": 0.0, \"signal\": 557.0, \"time\": \"2015-09-13T19:00:00.000\"}, {\"anomaly\": 0.0, \"signal\": 436.0, \"time\": \"2015-09-13T20:00:00.000\"}, {\"anomaly\": 0.0, \"signal\": 327.0, \"time\": \"2015-09-13T21:00:00.000\"}, {\"anomaly\": 0.0, \"signal\": 300.0, \"time\": \"2015-09-13T22:00:00.000\"}, {\"anomaly\": 0.0, \"signal\": 240.0, \"time\": \"2015-09-13T23:00:00.000\"}, {\"anomaly\": 0.0, \"signal\": 138.0, \"time\": \"2015-09-14T00:00:00.000\"}, {\"anomaly\": 1.0, \"signal\": 69.0, \"time\": \"2015-09-14T01:00:00.000\"}, {\"anomaly\": 1.0, \"signal\": 55.0, \"time\": \"2015-09-14T02:00:00.000\"}, {\"anomaly\": 1.0, \"signal\": 48.0, \"time\": \"2015-09-14T03:00:00.000\"}, {\"anomaly\": 1.0, \"signal\": 52.0, \"time\": \"2015-09-14T04:00:00.000\"}, {\"anomaly\": 1.0, \"signal\": 51.0, \"time\": \"2015-09-14T05:00:00.000\"}, {\"anomaly\": 0.0, \"signal\": 170.0, \"time\": \"2015-09-14T06:00:00.000\"}, {\"anomaly\": 0.0, \"signal\": 803.0, \"time\": \"2015-09-14T07:00:00.000\"}, {\"anomaly\": 0.0, \"signal\": 1816.0, \"time\": \"2015-09-14T08:00:00.000\"}, {\"anomaly\": 0.0, \"signal\": 2619.0, \"time\": \"2015-09-14T09:00:00.000\"}, {\"anomaly\": 0.0, \"signal\": 3354.0, \"time\": \"2015-09-14T10:00:00.000\"}, {\"anomaly\": 1.0, \"signal\": 3743.0, \"time\": \"2015-09-14T11:00:00.000\"}, {\"anomaly\": 1.0, \"signal\": 4164.0, \"time\": \"2015-09-14T12:00:00.000\"}, {\"anomaly\": 1.0, \"signal\": 4473.0, \"time\": \"2015-09-14T13:00:00.000\"}, {\"anomaly\": 1.0, \"signal\": 4514.0, \"time\": \"2015-09-14T14:00:00.000\"}, {\"anomaly\": 1.0, \"signal\": 4171.0, \"time\": \"2015-09-14T15:00:00.000\"}, {\"anomaly\": 0.0, \"signal\": 3403.0, \"time\": \"2015-09-14T16:00:00.000\"}, {\"anomaly\": 0.0, \"signal\": 1872.0, \"time\": \"2015-09-14T17:00:00.000\"}, {\"anomaly\": 0.0, \"signal\": 743.0, \"time\": \"2015-09-14T18:00:00.000\"}, {\"anomaly\": 0.0, \"signal\": 421.0, \"time\": \"2015-09-14T19:00:00.000\"}, {\"anomaly\": 0.0, \"signal\": 296.0, \"time\": \"2015-09-14T20:00:00.000\"}, {\"anomaly\": 0.0, \"signal\": 229.0, \"time\": \"2015-09-14T21:00:00.000\"}, {\"anomaly\": 0.0, \"signal\": 167.0, \"time\": \"2015-09-14T22:00:00.000\"}, {\"anomaly\": 0.0, \"signal\": 128.0, \"time\": \"2015-09-14T23:00:00.000\"}, {\"anomaly\": 0.0, \"signal\": 96.0, \"time\": \"2015-09-15T00:00:00.000\"}, {\"anomaly\": 0.0, \"signal\": 83.0, \"time\": \"2015-09-15T01:00:00.000\"}, {\"anomaly\": 1.0, \"signal\": 66.0, \"time\": \"2015-09-15T02:00:00.000\"}, {\"anomaly\": 1.0, \"signal\": 52.0, \"time\": \"2015-09-15T03:00:00.000\"}, {\"anomaly\": 1.0, \"signal\": 51.0, \"time\": \"2015-09-15T04:00:00.000\"}, {\"anomaly\": 1.0, \"signal\": 49.0, \"time\": \"2015-09-15T05:00:00.000\"}, {\"anomaly\": 0.0, \"signal\": 225.0, \"time\": \"2015-09-15T06:00:00.000\"}, {\"anomaly\": 0.0, \"signal\": 1052.0, \"time\": \"2015-09-15T07:00:00.000\"}, {\"anomaly\": 0.0, \"signal\": 2569.0, \"time\": \"2015-09-15T08:00:00.000\"}, {\"anomaly\": 0.0, \"signal\": 3237.0, \"time\": \"2015-09-15T09:00:00.000\"}, {\"anomaly\": 0.0, \"signal\": 3401.0, \"time\": \"2015-09-15T10:00:00.000\"}, {\"anomaly\": 0.0, \"signal\": 3498.0, \"time\": \"2015-09-15T11:00:00.000\"}, {\"anomaly\": 0.0, \"signal\": 3149.0, \"time\": \"2015-09-15T12:00:00.000\"}, {\"anomaly\": 0.0, \"signal\": 2914.0, \"time\": \"2015-09-15T13:00:00.000\"}, {\"anomaly\": 0.0, \"signal\": 2412.0, \"time\": \"2015-09-15T14:00:00.000\"}, {\"anomaly\": 0.0, \"signal\": 1640.0, \"time\": \"2015-09-15T15:00:00.000\"}, {\"anomaly\": 0.0, \"signal\": 1044.0, \"time\": \"2015-09-15T16:00:00.000\"}, {\"anomaly\": 0.0, \"signal\": 529.0, \"time\": \"2015-09-15T17:00:00.000\"}, {\"anomaly\": 0.0, \"signal\": 281.0, \"time\": \"2015-09-15T18:00:00.000\"}, {\"anomaly\": 0.0, \"signal\": 224.0, \"time\": \"2015-09-15T19:00:00.000\"}, {\"anomaly\": 0.0, \"signal\": 220.0, \"time\": \"2015-09-15T20:00:00.000\"}, {\"anomaly\": 0.0, \"signal\": 116.0, \"time\": \"2015-09-15T21:00:00.000\"}, {\"anomaly\": 0.0, \"signal\": 77.0, \"time\": \"2015-09-15T22:00:00.000\"}, {\"anomaly\": 1.0, \"signal\": 44.0, \"time\": \"2015-09-15T23:00:00.000\"}, {\"anomaly\": 1.0, \"signal\": 41.0, \"time\": \"2015-09-16T00:00:00.000\"}, {\"anomaly\": 1.0, \"signal\": 42.0, \"time\": \"2015-09-16T01:00:00.000\"}, {\"anomaly\": 1.0, \"signal\": 42.0, \"time\": \"2015-09-16T02:00:00.000\"}, {\"anomaly\": 1.0, \"signal\": 37.0, \"time\": \"2015-09-16T03:00:00.000\"}, {\"anomaly\": 1.0, \"signal\": 22.0, \"time\": \"2015-09-16T04:00:00.000\"}, {\"anomaly\": 1.0, \"signal\": 23.0, \"time\": \"2015-09-16T05:00:00.000\"}, {\"anomaly\": 0.0, \"signal\": 171.0, \"time\": \"2015-09-16T06:00:00.000\"}, {\"anomaly\": 0.0, \"signal\": 824.0, \"time\": \"2015-09-16T07:00:00.000\"}, {\"anomaly\": 0.0, \"signal\": 1512.0, \"time\": \"2015-09-16T08:00:00.000\"}, {\"anomaly\": 0.0, \"signal\": 1883.0, \"time\": \"2015-09-16T09:00:00.000\"}, {\"anomaly\": 0.0, \"signal\": 2155.0, \"time\": \"2015-09-16T10:00:00.000\"}, {\"anomaly\": 0.0, \"signal\": 2337.0, \"time\": \"2015-09-16T11:00:00.000\"}, {\"anomaly\": 0.0, \"signal\": 2402.0, \"time\": \"2015-09-16T12:00:00.000\"}], \"transform\": [{\"type\": \"formula\", \"expr\": \"toDate(datum['time'])\", \"as\": \"time\"}]}, {\"name\": \"data_0\", \"values\": [{\"signal\": 4599.0, \"time\": \"2015-09-13T13:00:00.000\"}, {\"signal\": 4261.0, \"time\": \"2015-09-13T14:00:00.000\"}, {\"signal\": 3805.0, \"time\": \"2015-09-13T15:00:00.000\"}, {\"signal\": 69.0, \"time\": \"2015-09-14T01:00:00.000\"}, {\"signal\": 55.0, \"time\": \"2015-09-14T02:00:00.000\"}, {\"signal\": 48.0, \"time\": \"2015-09-14T03:00:00.000\"}, {\"signal\": 52.0, \"time\": \"2015-09-14T04:00:00.000\"}, {\"signal\": 51.0, \"time\": \"2015-09-14T05:00:00.000\"}, {\"signal\": 3743.0, \"time\": \"2015-09-14T11:00:00.000\"}, {\"signal\": 4164.0, \"time\": \"2015-09-14T12:00:00.000\"}, {\"signal\": 4473.0, \"time\": \"2015-09-14T13:00:00.000\"}, {\"signal\": 4514.0, \"time\": \"2015-09-14T14:00:00.000\"}, {\"signal\": 4171.0, \"time\": \"2015-09-14T15:00:00.000\"}, {\"signal\": 66.0, \"time\": \"2015-09-15T02:00:00.000\"}, {\"signal\": 52.0, \"time\": \"2015-09-15T03:00:00.000\"}, {\"signal\": 51.0, \"time\": \"2015-09-15T04:00:00.000\"}, {\"signal\": 49.0, \"time\": \"2015-09-15T05:00:00.000\"}, {\"signal\": 44.0, \"time\": \"2015-09-15T23:00:00.000\"}, {\"signal\": 41.0, \"time\": \"2015-09-16T00:00:00.000\"}, {\"signal\": 42.0, \"time\": \"2015-09-16T01:00:00.000\"}, {\"signal\": 42.0, \"time\": \"2015-09-16T02:00:00.000\"}, {\"signal\": 37.0, \"time\": \"2015-09-16T03:00:00.000\"}, {\"signal\": 22.0, \"time\": \"2015-09-16T04:00:00.000\"}, {\"signal\": 23.0, \"time\": \"2015-09-16T05:00:00.000\"}], \"transform\": [{\"type\": \"formula\", \"expr\": \"toDate(datum['time'])\", \"as\": \"time\"}]}], \"marks\": [{\"type\": \"line\", \"name\": \"layer_0_marks\", \"from\": {\"data\": \"source_0\"}, \"sort\": {\"field\": \"datum[\\\"time\\\"]\"}, \"encode\": {\"update\": {\"description\": {\"signal\": \"\\\"time: \\\" + (timeFormat(datum[\\\"time\\\"], '%b %d, %Y')) + \\\"; signal: \\\" + (format(datum[\\\"signal\\\"], \\\"\\\"))\"}, \"x\": {\"field\": \"time\", \"scale\": \"x\"}, \"defined\": {\"signal\": \"isValid(datum[\\\"time\\\"]) && isFinite(+datum[\\\"time\\\"]) && isValid(datum[\\\"signal\\\"]) && isFinite(+datum[\\\"signal\\\"])\"}, \"stroke\": {\"value\": \"#4c78a8\"}, \"y\": {\"field\": \"signal\", \"scale\": \"y\"}}}, \"style\": [\"line\"]}, {\"type\": \"symbol\", \"name\": \"layer_1_marks\", \"from\": {\"data\": \"data_0\"}, \"encode\": {\"update\": {\"y\": {\"field\": \"signal\", \"scale\": \"y\"}, \"opacity\": {\"value\": 0.7}, \"ariaRoleDescription\": {\"value\": \"circle\"}, \"x\": {\"field\": \"time\", \"scale\": \"x\"}, \"description\": {\"signal\": \"\\\"time: \\\" + (timeFormat(datum[\\\"time\\\"], '%b %d, %Y')) + \\\"; signal: \\\" + (format(datum[\\\"signal\\\"], \\\"\\\"))\"}, \"shape\": {\"value\": \"circle\"}, \"size\": {\"value\": 60}, \"fill\": {\"value\": \"red\"}}}, \"style\": [\"circle\"]}], \"scales\": [{\"name\": \"x\", \"type\": \"time\", \"domain\": {\"fields\": [{\"data\": \"source_0\", \"field\": \"time\"}, {\"data\": \"data_0\", \"field\": \"time\"}]}, \"range\": [0, {\"signal\": \"width\"}]}, {\"name\": \"y\", \"type\": \"linear\", \"domain\": {\"fields\": [{\"data\": \"source_0\", \"field\": \"signal\"}, {\"data\": \"data_0\", \"field\": \"signal\"}]}, \"range\": [{\"signal\": \"height\"}, 0], \"nice\": true, \"zero\": true}], \"axes\": [{\"scale\": \"x\", \"ticks\": false, \"tickCount\": {\"signal\": \"ceil(width/40)\"}, \"maxExtent\": 0, \"labels\": false, \"zindex\": 0, \"gridScale\": \"y\", \"grid\": true, \"orient\": \"bottom\", \"domain\": false, \"aria\": false, \"minExtent\": 0}, {\"scale\": \"y\", \"gridScale\": \"x\", \"domain\": false, \"maxExtent\": 0, \"tickCount\": {\"signal\": \"ceil(height/40)\"}, \"labels\": false, \"ticks\": false, \"zindex\": 0, \"grid\": true, \"minExtent\": 0, \"orient\": \"left\", \"aria\": false}, {\"scale\": \"x\", \"orient\": \"bottom\", \"labelOverlap\": true, \"tickCount\": {\"signal\": \"ceil(width/40)\"}, \"zindex\": 0, \"labelFlush\": true, \"title\": \"time\", \"grid\": false}, {\"scale\": \"y\", \"labelOverlap\": true, \"orient\": \"left\", \"grid\": false, \"tickCount\": {\"signal\": \"ceil(height/40)\"}, \"zindex\": 0, \"title\": \"signal\"}], \"background\": \"white\", \"padding\": 5, \"height\": 300, \"style\": \"cell\", \"width\": 500}, {\"mode\": \"vega\"});\n",
       "</script>"
      ],
      "text/plain": [
       "alt.LayerChart(...)"
      ]
     },
     "execution_count": 20,
     "metadata": {},
     "output_type": "execute_result"
    }
   ],
   "source": [
    "on.plots.anomalies(test[:72], detected_test[:72])"
   ]
  },
  {
   "cell_type": "markdown",
   "id": "2af5c7ba-1617-46f0-9551-67cc51ac1884",
   "metadata": {
    "papermill": {
     "duration": 0.005486,
     "end_time": "2024-01-26T20:44:48.237967",
     "exception": false,
     "start_time": "2024-01-26T20:44:48.232481",
     "status": "completed"
    },
    "tags": []
   },
   "source": [
    "What if we want to have an idea about the future problems ?"
   ]
  },
  {
   "cell_type": "code",
   "execution_count": 21,
   "id": "866533ed-bdab-4b29-bc91-50ed0043e84a",
   "metadata": {
    "execution": {
     "iopub.execute_input": "2024-01-26T20:44:48.248430Z",
     "iopub.status.busy": "2024-01-26T20:44:48.248125Z",
     "iopub.status.idle": "2024-01-26T20:44:48.269198Z",
     "shell.execute_reply": "2024-01-26T20:44:48.268825Z"
    },
    "papermill": {
     "duration": 0.026971,
     "end_time": "2024-01-26T20:44:48.269826",
     "exception": false,
     "start_time": "2024-01-26T20:44:48.242855",
     "status": "completed"
    },
    "tags": []
   },
   "outputs": [],
   "source": [
    "predetected = model.predetect(72)"
   ]
  },
  {
   "cell_type": "code",
   "execution_count": 22,
   "id": "44bff6ea-f249-48b6-816f-c49e0d264520",
   "metadata": {
    "execution": {
     "iopub.execute_input": "2024-01-26T20:44:48.281758Z",
     "iopub.status.busy": "2024-01-26T20:44:48.281520Z",
     "iopub.status.idle": "2024-01-26T20:44:48.315543Z",
     "shell.execute_reply": "2024-01-26T20:44:48.315122Z"
    },
    "papermill": {
     "duration": 0.040788,
     "end_time": "2024-01-26T20:44:48.316350",
     "exception": false,
     "start_time": "2024-01-26T20:44:48.275562",
     "status": "completed"
    },
    "tags": []
   },
   "outputs": [
    {
     "data": {
      "text/html": [
       "\n",
       "<style>\n",
       "  #altair-viz-57168f0051a34a43adb6bff5d9f888ba.vega-embed {\n",
       "    width: 100%;\n",
       "    display: flex;\n",
       "  }\n",
       "\n",
       "  #altair-viz-57168f0051a34a43adb6bff5d9f888ba.vega-embed details,\n",
       "  #altair-viz-57168f0051a34a43adb6bff5d9f888ba.vega-embed details summary {\n",
       "    position: relative;\n",
       "  }\n",
       "</style>\n",
       "<div id=\"altair-viz-57168f0051a34a43adb6bff5d9f888ba\"></div>\n",
       "<script type=\"text/javascript\">\n",
       "  var VEGA_DEBUG = (typeof VEGA_DEBUG == \"undefined\") ? {} : VEGA_DEBUG;\n",
       "  (function(spec, embedOpt){\n",
       "    let outputDiv = document.currentScript.previousElementSibling;\n",
       "    if (outputDiv.id !== \"altair-viz-57168f0051a34a43adb6bff5d9f888ba\") {\n",
       "      outputDiv = document.getElementById(\"altair-viz-57168f0051a34a43adb6bff5d9f888ba\");\n",
       "    }\n",
       "    const paths = {\n",
       "      \"vega\": \"https://cdn.jsdelivr.net/npm/vega@5?noext\",\n",
       "      \"vega-lib\": \"https://cdn.jsdelivr.net/npm/vega-lib?noext\",\n",
       "      \"vega-lite\": \"https://cdn.jsdelivr.net/npm/vega-lite@5.16.3?noext\",\n",
       "      \"vega-embed\": \"https://cdn.jsdelivr.net/npm/vega-embed@6?noext\",\n",
       "    };\n",
       "\n",
       "    function maybeLoadScript(lib, version) {\n",
       "      var key = `${lib.replace(\"-\", \"\")}_version`;\n",
       "      return (VEGA_DEBUG[key] == version) ?\n",
       "        Promise.resolve(paths[lib]) :\n",
       "        new Promise(function(resolve, reject) {\n",
       "          var s = document.createElement('script');\n",
       "          document.getElementsByTagName(\"head\")[0].appendChild(s);\n",
       "          s.async = true;\n",
       "          s.onload = () => {\n",
       "            VEGA_DEBUG[key] = version;\n",
       "            return resolve(paths[lib]);\n",
       "          };\n",
       "          s.onerror = () => reject(`Error loading script: ${paths[lib]}`);\n",
       "          s.src = paths[lib];\n",
       "        });\n",
       "    }\n",
       "\n",
       "    function showError(err) {\n",
       "      outputDiv.innerHTML = `<div class=\"error\" style=\"color:red;\">${err}</div>`;\n",
       "      throw err;\n",
       "    }\n",
       "\n",
       "    function displayChart(vegaEmbed) {\n",
       "      vegaEmbed(outputDiv, spec, embedOpt)\n",
       "        .catch(err => showError(`Javascript Error: ${err.message}<br>This usually means there's a typo in your chart specification. See the javascript console for the full traceback.`));\n",
       "    }\n",
       "\n",
       "    if(typeof define === \"function\" && define.amd) {\n",
       "      requirejs.config({paths});\n",
       "      require([\"vega-embed\"], displayChart, err => showError(`Error loading script: ${err.message}`));\n",
       "    } else {\n",
       "      maybeLoadScript(\"vega\", \"5\")\n",
       "        .then(() => maybeLoadScript(\"vega-lite\", \"5.16.3\"))\n",
       "        .then(() => maybeLoadScript(\"vega-embed\", \"6\"))\n",
       "        .catch(showError)\n",
       "        .then(() => displayChart(vegaEmbed));\n",
       "    }\n",
       "  })({\"$schema\": \"https://vega.github.io/schema/vega/v5.json\", \"data\": [{\"name\": \"source_0\", \"values\": [{\"anomaly\": 1.0, \"signal\": 4599.0, \"time\": \"2015-09-13T13:00:00.000\"}, {\"anomaly\": 1.0, \"signal\": 4261.0, \"time\": \"2015-09-13T14:00:00.000\"}, {\"anomaly\": 0.0, \"signal\": 3805.0, \"time\": \"2015-09-13T15:00:00.000\"}, {\"anomaly\": 0.0, \"signal\": 3118.0, \"time\": \"2015-09-13T16:00:00.000\"}, {\"anomaly\": 0.0, \"signal\": 1844.0, \"time\": \"2015-09-13T17:00:00.000\"}, {\"anomaly\": 0.0, \"signal\": 747.0, \"time\": \"2015-09-13T18:00:00.000\"}, {\"anomaly\": 0.0, \"signal\": 557.0, \"time\": \"2015-09-13T19:00:00.000\"}, {\"anomaly\": 0.0, \"signal\": 436.0, \"time\": \"2015-09-13T20:00:00.000\"}, {\"anomaly\": 0.0, \"signal\": 327.0, \"time\": \"2015-09-13T21:00:00.000\"}, {\"anomaly\": 0.0, \"signal\": 300.0, \"time\": \"2015-09-13T22:00:00.000\"}, {\"anomaly\": 0.0, \"signal\": 240.0, \"time\": \"2015-09-13T23:00:00.000\"}, {\"anomaly\": 0.0, \"signal\": 138.0, \"time\": \"2015-09-14T00:00:00.000\"}, {\"anomaly\": 0.0, \"signal\": 69.0, \"time\": \"2015-09-14T01:00:00.000\"}, {\"anomaly\": 1.0, \"signal\": 55.0, \"time\": \"2015-09-14T02:00:00.000\"}, {\"anomaly\": 1.0, \"signal\": 48.0, \"time\": \"2015-09-14T03:00:00.000\"}, {\"anomaly\": 1.0, \"signal\": 52.0, \"time\": \"2015-09-14T04:00:00.000\"}, {\"anomaly\": 0.0, \"signal\": 51.0, \"time\": \"2015-09-14T05:00:00.000\"}, {\"anomaly\": 0.0, \"signal\": 170.0, \"time\": \"2015-09-14T06:00:00.000\"}, {\"anomaly\": 0.0, \"signal\": 803.0, \"time\": \"2015-09-14T07:00:00.000\"}, {\"anomaly\": 0.0, \"signal\": 1816.0, \"time\": \"2015-09-14T08:00:00.000\"}, {\"anomaly\": 1.0, \"signal\": 2619.0, \"time\": \"2015-09-14T09:00:00.000\"}, {\"anomaly\": 1.0, \"signal\": 3354.0, \"time\": \"2015-09-14T10:00:00.000\"}, {\"anomaly\": 1.0, \"signal\": 3743.0, \"time\": \"2015-09-14T11:00:00.000\"}, {\"anomaly\": 1.0, \"signal\": 4164.0, \"time\": \"2015-09-14T12:00:00.000\"}, {\"anomaly\": 1.0, \"signal\": 4473.0, \"time\": \"2015-09-14T13:00:00.000\"}, {\"anomaly\": 0.0, \"signal\": 4514.0, \"time\": \"2015-09-14T14:00:00.000\"}, {\"anomaly\": 0.0, \"signal\": 4171.0, \"time\": \"2015-09-14T15:00:00.000\"}, {\"anomaly\": 0.0, \"signal\": 3403.0, \"time\": \"2015-09-14T16:00:00.000\"}, {\"anomaly\": 0.0, \"signal\": 1872.0, \"time\": \"2015-09-14T17:00:00.000\"}, {\"anomaly\": 0.0, \"signal\": 743.0, \"time\": \"2015-09-14T18:00:00.000\"}, {\"anomaly\": 0.0, \"signal\": 421.0, \"time\": \"2015-09-14T19:00:00.000\"}, {\"anomaly\": 0.0, \"signal\": 296.0, \"time\": \"2015-09-14T20:00:00.000\"}, {\"anomaly\": 0.0, \"signal\": 229.0, \"time\": \"2015-09-14T21:00:00.000\"}, {\"anomaly\": 0.0, \"signal\": 167.0, \"time\": \"2015-09-14T22:00:00.000\"}, {\"anomaly\": 0.0, \"signal\": 128.0, \"time\": \"2015-09-14T23:00:00.000\"}, {\"anomaly\": 0.0, \"signal\": 96.0, \"time\": \"2015-09-15T00:00:00.000\"}, {\"anomaly\": 0.0, \"signal\": 83.0, \"time\": \"2015-09-15T01:00:00.000\"}, {\"anomaly\": 1.0, \"signal\": 66.0, \"time\": \"2015-09-15T02:00:00.000\"}, {\"anomaly\": 1.0, \"signal\": 52.0, \"time\": \"2015-09-15T03:00:00.000\"}, {\"anomaly\": 0.0, \"signal\": 51.0, \"time\": \"2015-09-15T04:00:00.000\"}, {\"anomaly\": 0.0, \"signal\": 49.0, \"time\": \"2015-09-15T05:00:00.000\"}, {\"anomaly\": 0.0, \"signal\": 225.0, \"time\": \"2015-09-15T06:00:00.000\"}, {\"anomaly\": 0.0, \"signal\": 1052.0, \"time\": \"2015-09-15T07:00:00.000\"}, {\"anomaly\": 1.0, \"signal\": 2569.0, \"time\": \"2015-09-15T08:00:00.000\"}, {\"anomaly\": 1.0, \"signal\": 3237.0, \"time\": \"2015-09-15T09:00:00.000\"}, {\"anomaly\": 1.0, \"signal\": 3401.0, \"time\": \"2015-09-15T10:00:00.000\"}, {\"anomaly\": 1.0, \"signal\": 3498.0, \"time\": \"2015-09-15T11:00:00.000\"}, {\"anomaly\": 1.0, \"signal\": 3149.0, \"time\": \"2015-09-15T12:00:00.000\"}, {\"anomaly\": 0.0, \"signal\": 2914.0, \"time\": \"2015-09-15T13:00:00.000\"}, {\"anomaly\": 0.0, \"signal\": 2412.0, \"time\": \"2015-09-15T14:00:00.000\"}, {\"anomaly\": 0.0, \"signal\": 1640.0, \"time\": \"2015-09-15T15:00:00.000\"}, {\"anomaly\": 0.0, \"signal\": 1044.0, \"time\": \"2015-09-15T16:00:00.000\"}, {\"anomaly\": 0.0, \"signal\": 529.0, \"time\": \"2015-09-15T17:00:00.000\"}, {\"anomaly\": 0.0, \"signal\": 281.0, \"time\": \"2015-09-15T18:00:00.000\"}, {\"anomaly\": 0.0, \"signal\": 224.0, \"time\": \"2015-09-15T19:00:00.000\"}, {\"anomaly\": 0.0, \"signal\": 220.0, \"time\": \"2015-09-15T20:00:00.000\"}, {\"anomaly\": 0.0, \"signal\": 116.0, \"time\": \"2015-09-15T21:00:00.000\"}, {\"anomaly\": 0.0, \"signal\": 77.0, \"time\": \"2015-09-15T22:00:00.000\"}, {\"anomaly\": 0.0, \"signal\": 44.0, \"time\": \"2015-09-15T23:00:00.000\"}, {\"anomaly\": 1.0, \"signal\": 41.0, \"time\": \"2015-09-16T00:00:00.000\"}, {\"anomaly\": 1.0, \"signal\": 42.0, \"time\": \"2015-09-16T01:00:00.000\"}, {\"anomaly\": 0.0, \"signal\": 42.0, \"time\": \"2015-09-16T02:00:00.000\"}, {\"anomaly\": 0.0, \"signal\": 37.0, \"time\": \"2015-09-16T03:00:00.000\"}, {\"anomaly\": 0.0, \"signal\": 22.0, \"time\": \"2015-09-16T04:00:00.000\"}, {\"anomaly\": 0.0, \"signal\": 23.0, \"time\": \"2015-09-16T05:00:00.000\"}, {\"anomaly\": 0.0, \"signal\": 171.0, \"time\": \"2015-09-16T06:00:00.000\"}, {\"anomaly\": 1.0, \"signal\": 824.0, \"time\": \"2015-09-16T07:00:00.000\"}, {\"anomaly\": 1.0, \"signal\": 1512.0, \"time\": \"2015-09-16T08:00:00.000\"}, {\"anomaly\": 1.0, \"signal\": 1883.0, \"time\": \"2015-09-16T09:00:00.000\"}, {\"anomaly\": 1.0, \"signal\": 2155.0, \"time\": \"2015-09-16T10:00:00.000\"}, {\"anomaly\": 1.0, \"signal\": 2337.0, \"time\": \"2015-09-16T11:00:00.000\"}, {\"anomaly\": 0.0, \"signal\": 2402.0, \"time\": \"2015-09-16T12:00:00.000\"}], \"transform\": [{\"type\": \"formula\", \"expr\": \"toDate(datum['time'])\", \"as\": \"time\"}]}, {\"name\": \"data_0\", \"values\": [{\"signal\": 4599.0, \"time\": \"2015-09-13T13:00:00.000\"}, {\"signal\": 4261.0, \"time\": \"2015-09-13T14:00:00.000\"}, {\"signal\": 55.0, \"time\": \"2015-09-14T02:00:00.000\"}, {\"signal\": 48.0, \"time\": \"2015-09-14T03:00:00.000\"}, {\"signal\": 52.0, \"time\": \"2015-09-14T04:00:00.000\"}, {\"signal\": 2619.0, \"time\": \"2015-09-14T09:00:00.000\"}, {\"signal\": 3354.0, \"time\": \"2015-09-14T10:00:00.000\"}, {\"signal\": 3743.0, \"time\": \"2015-09-14T11:00:00.000\"}, {\"signal\": 4164.0, \"time\": \"2015-09-14T12:00:00.000\"}, {\"signal\": 4473.0, \"time\": \"2015-09-14T13:00:00.000\"}, {\"signal\": 66.0, \"time\": \"2015-09-15T02:00:00.000\"}, {\"signal\": 52.0, \"time\": \"2015-09-15T03:00:00.000\"}, {\"signal\": 2569.0, \"time\": \"2015-09-15T08:00:00.000\"}, {\"signal\": 3237.0, \"time\": \"2015-09-15T09:00:00.000\"}, {\"signal\": 3401.0, \"time\": \"2015-09-15T10:00:00.000\"}, {\"signal\": 3498.0, \"time\": \"2015-09-15T11:00:00.000\"}, {\"signal\": 3149.0, \"time\": \"2015-09-15T12:00:00.000\"}, {\"signal\": 41.0, \"time\": \"2015-09-16T00:00:00.000\"}, {\"signal\": 42.0, \"time\": \"2015-09-16T01:00:00.000\"}, {\"signal\": 824.0, \"time\": \"2015-09-16T07:00:00.000\"}, {\"signal\": 1512.0, \"time\": \"2015-09-16T08:00:00.000\"}, {\"signal\": 1883.0, \"time\": \"2015-09-16T09:00:00.000\"}, {\"signal\": 2155.0, \"time\": \"2015-09-16T10:00:00.000\"}, {\"signal\": 2337.0, \"time\": \"2015-09-16T11:00:00.000\"}], \"transform\": [{\"type\": \"formula\", \"expr\": \"toDate(datum['time'])\", \"as\": \"time\"}]}], \"marks\": [{\"type\": \"line\", \"name\": \"layer_0_marks\", \"from\": {\"data\": \"source_0\"}, \"sort\": {\"field\": \"datum[\\\"time\\\"]\"}, \"encode\": {\"update\": {\"description\": {\"signal\": \"\\\"time: \\\" + (timeFormat(datum[\\\"time\\\"], '%b %d, %Y')) + \\\"; signal: \\\" + (format(datum[\\\"signal\\\"], \\\"\\\"))\"}, \"stroke\": {\"value\": \"#4c78a8\"}, \"y\": {\"field\": \"signal\", \"scale\": \"y\"}, \"defined\": {\"signal\": \"isValid(datum[\\\"time\\\"]) && isFinite(+datum[\\\"time\\\"]) && isValid(datum[\\\"signal\\\"]) && isFinite(+datum[\\\"signal\\\"])\"}, \"x\": {\"field\": \"time\", \"scale\": \"x\"}}}, \"style\": [\"line\"]}, {\"type\": \"symbol\", \"name\": \"layer_1_marks\", \"from\": {\"data\": \"data_0\"}, \"encode\": {\"update\": {\"ariaRoleDescription\": {\"value\": \"circle\"}, \"y\": {\"field\": \"signal\", \"scale\": \"y\"}, \"shape\": {\"value\": \"circle\"}, \"opacity\": {\"value\": 0.7}, \"fill\": {\"value\": \"red\"}, \"size\": {\"value\": 60}, \"x\": {\"field\": \"time\", \"scale\": \"x\"}, \"description\": {\"signal\": \"\\\"time: \\\" + (timeFormat(datum[\\\"time\\\"], '%b %d, %Y')) + \\\"; signal: \\\" + (format(datum[\\\"signal\\\"], \\\"\\\"))\"}}}, \"style\": [\"circle\"]}], \"scales\": [{\"name\": \"x\", \"type\": \"time\", \"domain\": {\"fields\": [{\"data\": \"source_0\", \"field\": \"time\"}, {\"data\": \"data_0\", \"field\": \"time\"}]}, \"range\": [0, {\"signal\": \"width\"}]}, {\"name\": \"y\", \"type\": \"linear\", \"domain\": {\"fields\": [{\"data\": \"source_0\", \"field\": \"signal\"}, {\"data\": \"data_0\", \"field\": \"signal\"}]}, \"range\": [{\"signal\": \"height\"}, 0], \"nice\": true, \"zero\": true}], \"axes\": [{\"scale\": \"x\", \"zindex\": 0, \"labels\": false, \"minExtent\": 0, \"domain\": false, \"aria\": false, \"maxExtent\": 0, \"tickCount\": {\"signal\": \"ceil(width/40)\"}, \"ticks\": false, \"gridScale\": \"y\", \"orient\": \"bottom\", \"grid\": true}, {\"scale\": \"y\", \"gridScale\": \"x\", \"minExtent\": 0, \"zindex\": 0, \"domain\": false, \"aria\": false, \"orient\": \"left\", \"grid\": true, \"labels\": false, \"maxExtent\": 0, \"tickCount\": {\"signal\": \"ceil(height/40)\"}, \"ticks\": false}, {\"scale\": \"x\", \"labelFlush\": true, \"title\": \"time\", \"grid\": false, \"tickCount\": {\"signal\": \"ceil(width/40)\"}, \"zindex\": 0, \"orient\": \"bottom\", \"labelOverlap\": true}, {\"scale\": \"y\", \"tickCount\": {\"signal\": \"ceil(height/40)\"}, \"labelOverlap\": true, \"zindex\": 0, \"orient\": \"left\", \"grid\": false, \"title\": \"signal\"}], \"width\": 500, \"height\": 300, \"background\": \"white\", \"padding\": 5, \"style\": \"cell\"}, {\"mode\": \"vega\"});\n",
       "</script>"
      ],
      "text/plain": [
       "alt.LayerChart(...)"
      ]
     },
     "execution_count": 22,
     "metadata": {},
     "output_type": "execute_result"
    }
   ],
   "source": [
    "on.plots.anomalies(test[:72], predetected[:72])"
   ]
  },
  {
   "cell_type": "code",
   "execution_count": null,
   "id": "4d355f16-5c6d-477a-802c-9b1dbf3718f0",
   "metadata": {
    "papermill": {
     "duration": 0.005853,
     "end_time": "2024-01-26T20:44:48.328578",
     "exception": false,
     "start_time": "2024-01-26T20:44:48.322725",
     "status": "completed"
    },
    "tags": []
   },
   "outputs": [],
   "source": []
  }
 ],
 "metadata": {
  "kernelspec": {
   "display_name": "Python 3 (ipykernel)",
   "language": "python",
   "name": "python3"
  },
  "language_info": {
   "codemirror_mode": {
    "name": "ipython",
    "version": 3
   },
   "file_extension": ".py",
   "mimetype": "text/x-python",
   "name": "python",
   "nbconvert_exporter": "python",
   "pygments_lexer": "ipython3",
   "version": "3.10.13"
  },
  "papermill": {
   "default_parameters": {},
   "duration": 6.584247,
   "end_time": "2024-01-26T20:44:49.059756",
   "environment_variables": {},
   "exception": null,
   "input_path": "notebooks/getting-started.ipynb",
   "output_path": "notebooks/getting-started.ipynb",
   "parameters": {},
   "start_time": "2024-01-26T20:44:42.475509",
   "version": "2.5.0"
  }
 },
 "nbformat": 4,
 "nbformat_minor": 5
}