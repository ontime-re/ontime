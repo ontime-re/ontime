{
 "cells": [
  {
   "cell_type": "markdown",
   "id": "670316b8-460c-4009-a5da-94278f4ac9a9",
   "metadata": {
    "papermill": {
     "duration": null,
     "end_time": null,
     "exception": null,
     "start_time": null,
     "status": "completed"
    },
    "tags": []
   },
   "source": [
    "# Create an Anomaly Detection Workflow"
   ]
  },
  {
   "cell_type": "code",
   "execution_count": 1,
   "id": "52af59bb-083c-46c6-989a-bd4c65137a1a",
   "metadata": {
    "papermill": {
     "duration": null,
     "end_time": null,
     "exception": null,
     "start_time": null,
     "status": "completed"
    },
    "tags": []
   },
   "outputs": [],
   "source": [
    "# Import to be able to import python package from src\n",
    "import sys\n",
    "sys.path.insert(0, '../src')"
   ]
  },
  {
   "cell_type": "code",
   "execution_count": 2,
   "id": "d6fc731f-3f50-4e9a-a24c-b2ab01d4fa31",
   "metadata": {
    "papermill": {
     "duration": null,
     "end_time": null,
     "exception": null,
     "start_time": null,
     "status": "completed"
    },
    "tags": []
   },
   "outputs": [
    {
     "name": "stderr",
     "output_type": "stream",
     "text": [
      "The `LightGBM` module could not be imported. To enable LightGBM support in Darts, follow the detailed instructions in the installation guide: https://github.com/unit8co/darts/blob/master/INSTALL.md\n",
      "The `Prophet` module could not be imported. To enable Prophet support in Darts, follow the detailed instructions in the installation guide: https://github.com/unit8co/darts/blob/master/INSTALL.md\n"
     ]
    }
   ],
   "source": [
    "import pandas as pd\n",
    "import numpy as np\n",
    "import ontime as on\n",
    "from IPython.display import Image"
   ]
  },
  {
   "cell_type": "markdown",
   "id": "2ffac0d9-4247-4ac2-af8e-aad77eb1f960",
   "metadata": {},
   "source": [
    "## Prerequisite"
   ]
  },
  {
   "cell_type": "markdown",
   "id": "b211f78b-2de8-4a0c-8ce5-0806e504207b",
   "metadata": {},
   "source": [
    "Install Prefect within your project"
   ]
  },
  {
   "cell_type": "code",
   "execution_count": 3,
   "id": "ef375aa9-89b6-4ba8-8f06-d874526dda32",
   "metadata": {},
   "outputs": [
    {
     "name": "stdout",
     "output_type": "stream",
     "text": [
      "Requirement already satisfied: prefect in /Users/fred.montet/Library/Caches/pypoetry/virtualenvs/ontime-P4y4iRhi-py3.10/lib/python3.10/site-packages (2.19.8)\n",
      "Requirement already satisfied: aiosqlite>=0.17.0 in /Users/fred.montet/Library/Caches/pypoetry/virtualenvs/ontime-P4y4iRhi-py3.10/lib/python3.10/site-packages (from prefect) (0.20.0)\n",
      "Requirement already satisfied: alembic<2.0.0,>=1.7.5 in /Users/fred.montet/Library/Caches/pypoetry/virtualenvs/ontime-P4y4iRhi-py3.10/lib/python3.10/site-packages (from prefect) (1.13.2)\n",
      "Requirement already satisfied: apprise<2.0.0,>=1.1.0 in /Users/fred.montet/Library/Caches/pypoetry/virtualenvs/ontime-P4y4iRhi-py3.10/lib/python3.10/site-packages (from prefect) (1.8.0)\n",
      "Requirement already satisfied: asyncpg>=0.23 in /Users/fred.montet/Library/Caches/pypoetry/virtualenvs/ontime-P4y4iRhi-py3.10/lib/python3.10/site-packages (from prefect) (0.29.0)\n",
      "Requirement already satisfied: click<8.2,>=8.0 in /Users/fred.montet/Library/Caches/pypoetry/virtualenvs/ontime-P4y4iRhi-py3.10/lib/python3.10/site-packages (from prefect) (8.1.7)\n",
      "Requirement already satisfied: cryptography>=36.0.1 in /Users/fred.montet/Library/Caches/pypoetry/virtualenvs/ontime-P4y4iRhi-py3.10/lib/python3.10/site-packages (from prefect) (42.0.8)\n",
      "Requirement already satisfied: dateparser<2.0.0,>=1.1.1 in /Users/fred.montet/Library/Caches/pypoetry/virtualenvs/ontime-P4y4iRhi-py3.10/lib/python3.10/site-packages (from prefect) (1.2.0)\n",
      "Requirement already satisfied: docker>=4.0 in /Users/fred.montet/Library/Caches/pypoetry/virtualenvs/ontime-P4y4iRhi-py3.10/lib/python3.10/site-packages (from prefect) (7.1.0)\n",
      "Requirement already satisfied: graphviz>=0.20.1 in /Users/fred.montet/Library/Caches/pypoetry/virtualenvs/ontime-P4y4iRhi-py3.10/lib/python3.10/site-packages (from prefect) (0.20.3)\n",
      "Requirement already satisfied: griffe>=0.20.0 in /Users/fred.montet/Library/Caches/pypoetry/virtualenvs/ontime-P4y4iRhi-py3.10/lib/python3.10/site-packages (from prefect) (0.48.0)\n",
      "Requirement already satisfied: jinja2<4.0.0,>=3.0.0 in /Users/fred.montet/Library/Caches/pypoetry/virtualenvs/ontime-P4y4iRhi-py3.10/lib/python3.10/site-packages (from prefect) (3.1.4)\n",
      "Requirement already satisfied: jinja2-humanize-extension>=0.4.0 in /Users/fred.montet/Library/Caches/pypoetry/virtualenvs/ontime-P4y4iRhi-py3.10/lib/python3.10/site-packages (from prefect) (0.4.0)\n",
      "Requirement already satisfied: humanize>=4.9.0 in /Users/fred.montet/Library/Caches/pypoetry/virtualenvs/ontime-P4y4iRhi-py3.10/lib/python3.10/site-packages (from prefect) (4.10.0)\n",
      "Requirement already satisfied: kubernetes<30.0.0,>=24.2.0 in /Users/fred.montet/Library/Caches/pypoetry/virtualenvs/ontime-P4y4iRhi-py3.10/lib/python3.10/site-packages (from prefect) (29.0.0)\n",
      "Requirement already satisfied: pytz<2025,>=2021.1 in /Users/fred.montet/Library/Caches/pypoetry/virtualenvs/ontime-P4y4iRhi-py3.10/lib/python3.10/site-packages (from prefect) (2024.1)\n",
      "Requirement already satisfied: readchar<5.0.0,>=4.0.0 in /Users/fred.montet/Library/Caches/pypoetry/virtualenvs/ontime-P4y4iRhi-py3.10/lib/python3.10/site-packages (from prefect) (4.1.0)\n",
      "Requirement already satisfied: sqlalchemy!=1.4.33,<3.0.0,>=1.4.22 in /Users/fred.montet/Library/Caches/pypoetry/virtualenvs/ontime-P4y4iRhi-py3.10/lib/python3.10/site-packages (from sqlalchemy[asyncio]!=1.4.33,<3.0.0,>=1.4.22->prefect) (2.0.31)\n",
      "Requirement already satisfied: typer!=0.12.2,<0.13.0,>=0.12.0 in /Users/fred.montet/Library/Caches/pypoetry/virtualenvs/ontime-P4y4iRhi-py3.10/lib/python3.10/site-packages (from prefect) (0.12.3)\n",
      "Requirement already satisfied: anyio<4.0.0,>=3.7.1 in /Users/fred.montet/Library/Caches/pypoetry/virtualenvs/ontime-P4y4iRhi-py3.10/lib/python3.10/site-packages (from prefect) (3.7.1)\n",
      "Requirement already satisfied: asgi-lifespan<3.0,>=1.0 in /Users/fred.montet/Library/Caches/pypoetry/virtualenvs/ontime-P4y4iRhi-py3.10/lib/python3.10/site-packages (from prefect) (2.1.0)\n",
      "Requirement already satisfied: cachetools<6.0,>=5.3 in /Users/fred.montet/Library/Caches/pypoetry/virtualenvs/ontime-P4y4iRhi-py3.10/lib/python3.10/site-packages (from prefect) (5.4.0)\n",
      "Requirement already satisfied: cloudpickle<4.0,>=2.0 in /Users/fred.montet/Library/Caches/pypoetry/virtualenvs/ontime-P4y4iRhi-py3.10/lib/python3.10/site-packages (from prefect) (3.0.0)\n",
      "Requirement already satisfied: coolname<3.0.0,>=1.0.4 in /Users/fred.montet/Library/Caches/pypoetry/virtualenvs/ontime-P4y4iRhi-py3.10/lib/python3.10/site-packages (from prefect) (2.2.0)\n",
      "Requirement already satisfied: croniter<3.0.0,>=1.0.12 in /Users/fred.montet/Library/Caches/pypoetry/virtualenvs/ontime-P4y4iRhi-py3.10/lib/python3.10/site-packages (from prefect) (2.0.5)\n",
      "Requirement already satisfied: fsspec>=2022.5.0 in /Users/fred.montet/Library/Caches/pypoetry/virtualenvs/ontime-P4y4iRhi-py3.10/lib/python3.10/site-packages (from prefect) (2024.6.1)\n",
      "Requirement already satisfied: httpcore<2.0.0,>=1.0.5 in /Users/fred.montet/Library/Caches/pypoetry/virtualenvs/ontime-P4y4iRhi-py3.10/lib/python3.10/site-packages (from prefect) (1.0.5)\n",
      "Requirement already satisfied: httpx!=0.23.2,>=0.23 in /Users/fred.montet/Library/Caches/pypoetry/virtualenvs/ontime-P4y4iRhi-py3.10/lib/python3.10/site-packages (from httpx[http2]!=0.23.2,>=0.23->prefect) (0.27.0)\n",
      "Requirement already satisfied: importlib-resources<6.2.0,>=6.1.3 in /Users/fred.montet/Library/Caches/pypoetry/virtualenvs/ontime-P4y4iRhi-py3.10/lib/python3.10/site-packages (from prefect) (6.1.3)\n",
      "Requirement already satisfied: jsonpatch<2.0,>=1.32 in /Users/fred.montet/Library/Caches/pypoetry/virtualenvs/ontime-P4y4iRhi-py3.10/lib/python3.10/site-packages (from prefect) (1.33)\n",
      "Requirement already satisfied: jsonschema<5.0.0,>=4.0.0 in /Users/fred.montet/Library/Caches/pypoetry/virtualenvs/ontime-P4y4iRhi-py3.10/lib/python3.10/site-packages (from prefect) (4.23.0)\n",
      "Requirement already satisfied: orjson<4.0,>=3.7 in /Users/fred.montet/Library/Caches/pypoetry/virtualenvs/ontime-P4y4iRhi-py3.10/lib/python3.10/site-packages (from prefect) (3.10.6)\n",
      "Requirement already satisfied: packaging<24.3,>=21.3 in /Users/fred.montet/Library/Caches/pypoetry/virtualenvs/ontime-P4y4iRhi-py3.10/lib/python3.10/site-packages (from prefect) (24.1)\n",
      "Requirement already satisfied: pathspec>=0.8.0 in /Users/fred.montet/Library/Caches/pypoetry/virtualenvs/ontime-P4y4iRhi-py3.10/lib/python3.10/site-packages (from prefect) (0.12.1)\n",
      "Requirement already satisfied: pydantic!=2.0.0,!=2.0.1,!=2.1.0,<3.0.0,>=1.10.0 in /Users/fred.montet/Library/Caches/pypoetry/virtualenvs/ontime-P4y4iRhi-py3.10/lib/python3.10/site-packages (from pydantic[email]!=2.0.0,!=2.0.1,!=2.1.0,<3.0.0,>=1.10.0->prefect) (2.8.2)\n",
      "Requirement already satisfied: pydantic-core<3.0.0,>=2.12.0 in /Users/fred.montet/Library/Caches/pypoetry/virtualenvs/ontime-P4y4iRhi-py3.10/lib/python3.10/site-packages (from prefect) (2.20.1)\n",
      "Requirement already satisfied: python-dateutil<3.0.0,>=2.8.2 in /Users/fred.montet/Library/Caches/pypoetry/virtualenvs/ontime-P4y4iRhi-py3.10/lib/python3.10/site-packages (from prefect) (2.9.0.post0)\n",
      "Requirement already satisfied: python-slugify<9.0,>=5.0 in /Users/fred.montet/Library/Caches/pypoetry/virtualenvs/ontime-P4y4iRhi-py3.10/lib/python3.10/site-packages (from prefect) (8.0.4)\n",
      "Requirement already satisfied: pyyaml<7.0.0,>=5.4.1 in /Users/fred.montet/Library/Caches/pypoetry/virtualenvs/ontime-P4y4iRhi-py3.10/lib/python3.10/site-packages (from prefect) (6.0.1)\n",
      "Requirement already satisfied: rfc3339-validator<0.2.0,>=0.1.4 in /Users/fred.montet/Library/Caches/pypoetry/virtualenvs/ontime-P4y4iRhi-py3.10/lib/python3.10/site-packages (from prefect) (0.1.4)\n",
      "Requirement already satisfied: rich<14.0,>=11.0 in /Users/fred.montet/Library/Caches/pypoetry/virtualenvs/ontime-P4y4iRhi-py3.10/lib/python3.10/site-packages (from prefect) (13.7.1)\n",
      "Requirement already satisfied: ruamel.yaml>=0.17.0 in /Users/fred.montet/Library/Caches/pypoetry/virtualenvs/ontime-P4y4iRhi-py3.10/lib/python3.10/site-packages (from prefect) (0.18.6)\n",
      "Requirement already satisfied: sniffio<2.0.0,>=1.3.0 in /Users/fred.montet/Library/Caches/pypoetry/virtualenvs/ontime-P4y4iRhi-py3.10/lib/python3.10/site-packages (from prefect) (1.3.1)\n",
      "Requirement already satisfied: toml>=0.10.0 in /Users/fred.montet/Library/Caches/pypoetry/virtualenvs/ontime-P4y4iRhi-py3.10/lib/python3.10/site-packages (from prefect) (0.10.2)\n",
      "Requirement already satisfied: typing-extensions<5.0.0,>=4.5.0 in /Users/fred.montet/Library/Caches/pypoetry/virtualenvs/ontime-P4y4iRhi-py3.10/lib/python3.10/site-packages (from prefect) (4.12.2)\n",
      "Requirement already satisfied: ujson<6.0.0,>=5.8.0 in /Users/fred.montet/Library/Caches/pypoetry/virtualenvs/ontime-P4y4iRhi-py3.10/lib/python3.10/site-packages (from prefect) (5.10.0)\n",
      "Requirement already satisfied: uvicorn!=0.29.0,>=0.14.0 in /Users/fred.montet/Library/Caches/pypoetry/virtualenvs/ontime-P4y4iRhi-py3.10/lib/python3.10/site-packages (from prefect) (0.30.1)\n",
      "Requirement already satisfied: websockets<13.0,>=10.4 in /Users/fred.montet/Library/Caches/pypoetry/virtualenvs/ontime-P4y4iRhi-py3.10/lib/python3.10/site-packages (from prefect) (12.0)\n",
      "Requirement already satisfied: itsdangerous in /Users/fred.montet/Library/Caches/pypoetry/virtualenvs/ontime-P4y4iRhi-py3.10/lib/python3.10/site-packages (from prefect) (2.2.0)\n",
      "Requirement already satisfied: python-multipart>=0.0.7 in /Users/fred.montet/Library/Caches/pypoetry/virtualenvs/ontime-P4y4iRhi-py3.10/lib/python3.10/site-packages (from prefect) (0.0.9)\n",
      "Requirement already satisfied: pendulum<3.0 in /Users/fred.montet/Library/Caches/pypoetry/virtualenvs/ontime-P4y4iRhi-py3.10/lib/python3.10/site-packages (from prefect) (2.1.2)\n",
      "Requirement already satisfied: Mako in /Users/fred.montet/Library/Caches/pypoetry/virtualenvs/ontime-P4y4iRhi-py3.10/lib/python3.10/site-packages (from alembic<2.0.0,>=1.7.5->prefect) (1.3.5)\n",
      "Requirement already satisfied: idna>=2.8 in /Users/fred.montet/Library/Caches/pypoetry/virtualenvs/ontime-P4y4iRhi-py3.10/lib/python3.10/site-packages (from anyio<4.0.0,>=3.7.1->prefect) (3.7)\n",
      "Requirement already satisfied: exceptiongroup in /Users/fred.montet/Library/Caches/pypoetry/virtualenvs/ontime-P4y4iRhi-py3.10/lib/python3.10/site-packages (from anyio<4.0.0,>=3.7.1->prefect) (1.2.1)\n",
      "Requirement already satisfied: certifi in /Users/fred.montet/Library/Caches/pypoetry/virtualenvs/ontime-P4y4iRhi-py3.10/lib/python3.10/site-packages (from apprise<2.0.0,>=1.1.0->prefect) (2024.7.4)\n",
      "Requirement already satisfied: requests in /Users/fred.montet/Library/Caches/pypoetry/virtualenvs/ontime-P4y4iRhi-py3.10/lib/python3.10/site-packages (from apprise<2.0.0,>=1.1.0->prefect) (2.32.3)\n",
      "Requirement already satisfied: requests-oauthlib in /Users/fred.montet/Library/Caches/pypoetry/virtualenvs/ontime-P4y4iRhi-py3.10/lib/python3.10/site-packages (from apprise<2.0.0,>=1.1.0->prefect) (2.0.0)\n",
      "Requirement already satisfied: markdown in /Users/fred.montet/Library/Caches/pypoetry/virtualenvs/ontime-P4y4iRhi-py3.10/lib/python3.10/site-packages (from apprise<2.0.0,>=1.1.0->prefect) (3.6)\n",
      "Requirement already satisfied: async-timeout>=4.0.3 in /Users/fred.montet/Library/Caches/pypoetry/virtualenvs/ontime-P4y4iRhi-py3.10/lib/python3.10/site-packages (from asyncpg>=0.23->prefect) (4.0.3)\n",
      "Requirement already satisfied: cffi>=1.12 in /Users/fred.montet/Library/Caches/pypoetry/virtualenvs/ontime-P4y4iRhi-py3.10/lib/python3.10/site-packages (from cryptography>=36.0.1->prefect) (1.16.0)\n",
      "Requirement already satisfied: regex!=2019.02.19,!=2021.8.27 in /Users/fred.montet/Library/Caches/pypoetry/virtualenvs/ontime-P4y4iRhi-py3.10/lib/python3.10/site-packages (from dateparser<2.0.0,>=1.1.1->prefect) (2024.5.15)\n",
      "Requirement already satisfied: tzlocal in /Users/fred.montet/Library/Caches/pypoetry/virtualenvs/ontime-P4y4iRhi-py3.10/lib/python3.10/site-packages (from dateparser<2.0.0,>=1.1.1->prefect) (5.2)\n",
      "Requirement already satisfied: urllib3>=1.26.0 in /Users/fred.montet/Library/Caches/pypoetry/virtualenvs/ontime-P4y4iRhi-py3.10/lib/python3.10/site-packages (from docker>=4.0->prefect) (2.2.2)\n",
      "Requirement already satisfied: backports-strenum>=1.3 in /Users/fred.montet/Library/Caches/pypoetry/virtualenvs/ontime-P4y4iRhi-py3.10/lib/python3.10/site-packages (from griffe>=0.20.0->prefect) (1.3.1)\n",
      "Requirement already satisfied: colorama>=0.4 in /Users/fred.montet/Library/Caches/pypoetry/virtualenvs/ontime-P4y4iRhi-py3.10/lib/python3.10/site-packages (from griffe>=0.20.0->prefect) (0.4.6)\n",
      "Requirement already satisfied: h11<0.15,>=0.13 in /Users/fred.montet/Library/Caches/pypoetry/virtualenvs/ontime-P4y4iRhi-py3.10/lib/python3.10/site-packages (from httpcore<2.0.0,>=1.0.5->prefect) (0.14.0)\n",
      "Requirement already satisfied: h2<5,>=3 in /Users/fred.montet/Library/Caches/pypoetry/virtualenvs/ontime-P4y4iRhi-py3.10/lib/python3.10/site-packages (from httpx[http2]!=0.23.2,>=0.23->prefect) (4.1.0)\n",
      "Requirement already satisfied: MarkupSafe>=2.0 in /Users/fred.montet/Library/Caches/pypoetry/virtualenvs/ontime-P4y4iRhi-py3.10/lib/python3.10/site-packages (from jinja2<4.0.0,>=3.0.0->prefect) (2.1.5)\n",
      "Requirement already satisfied: jsonpointer>=1.9 in /Users/fred.montet/Library/Caches/pypoetry/virtualenvs/ontime-P4y4iRhi-py3.10/lib/python3.10/site-packages (from jsonpatch<2.0,>=1.32->prefect) (3.0.0)\n",
      "Requirement already satisfied: attrs>=22.2.0 in /Users/fred.montet/Library/Caches/pypoetry/virtualenvs/ontime-P4y4iRhi-py3.10/lib/python3.10/site-packages (from jsonschema<5.0.0,>=4.0.0->prefect) (23.2.0)\n",
      "Requirement already satisfied: jsonschema-specifications>=2023.03.6 in /Users/fred.montet/Library/Caches/pypoetry/virtualenvs/ontime-P4y4iRhi-py3.10/lib/python3.10/site-packages (from jsonschema<5.0.0,>=4.0.0->prefect) (2023.12.1)\n",
      "Requirement already satisfied: referencing>=0.28.4 in /Users/fred.montet/Library/Caches/pypoetry/virtualenvs/ontime-P4y4iRhi-py3.10/lib/python3.10/site-packages (from jsonschema<5.0.0,>=4.0.0->prefect) (0.35.1)\n",
      "Requirement already satisfied: rpds-py>=0.7.1 in /Users/fred.montet/Library/Caches/pypoetry/virtualenvs/ontime-P4y4iRhi-py3.10/lib/python3.10/site-packages (from jsonschema<5.0.0,>=4.0.0->prefect) (0.19.0)\n",
      "Requirement already satisfied: six>=1.9.0 in /Users/fred.montet/Library/Caches/pypoetry/virtualenvs/ontime-P4y4iRhi-py3.10/lib/python3.10/site-packages (from kubernetes<30.0.0,>=24.2.0->prefect) (1.16.0)\n",
      "Requirement already satisfied: google-auth>=1.0.1 in /Users/fred.montet/Library/Caches/pypoetry/virtualenvs/ontime-P4y4iRhi-py3.10/lib/python3.10/site-packages (from kubernetes<30.0.0,>=24.2.0->prefect) (2.32.0)\n",
      "Requirement already satisfied: websocket-client!=0.40.0,!=0.41.*,!=0.42.*,>=0.32.0 in /Users/fred.montet/Library/Caches/pypoetry/virtualenvs/ontime-P4y4iRhi-py3.10/lib/python3.10/site-packages (from kubernetes<30.0.0,>=24.2.0->prefect) (1.8.0)\n",
      "Requirement already satisfied: oauthlib>=3.2.2 in /Users/fred.montet/Library/Caches/pypoetry/virtualenvs/ontime-P4y4iRhi-py3.10/lib/python3.10/site-packages (from kubernetes<30.0.0,>=24.2.0->prefect) (3.2.2)\n",
      "Requirement already satisfied: pytzdata>=2020.1 in /Users/fred.montet/Library/Caches/pypoetry/virtualenvs/ontime-P4y4iRhi-py3.10/lib/python3.10/site-packages (from pendulum<3.0->prefect) (2020.1)\n",
      "Requirement already satisfied: annotated-types>=0.4.0 in /Users/fred.montet/Library/Caches/pypoetry/virtualenvs/ontime-P4y4iRhi-py3.10/lib/python3.10/site-packages (from pydantic!=2.0.0,!=2.0.1,!=2.1.0,<3.0.0,>=1.10.0->pydantic[email]!=2.0.0,!=2.0.1,!=2.1.0,<3.0.0,>=1.10.0->prefect) (0.7.0)\n",
      "Requirement already satisfied: email-validator>=2.0.0 in /Users/fred.montet/Library/Caches/pypoetry/virtualenvs/ontime-P4y4iRhi-py3.10/lib/python3.10/site-packages (from pydantic[email]!=2.0.0,!=2.0.1,!=2.1.0,<3.0.0,>=1.10.0->prefect) (2.2.0)\n",
      "Requirement already satisfied: text-unidecode>=1.3 in /Users/fred.montet/Library/Caches/pypoetry/virtualenvs/ontime-P4y4iRhi-py3.10/lib/python3.10/site-packages (from python-slugify<9.0,>=5.0->prefect) (1.3)\n",
      "Requirement already satisfied: markdown-it-py>=2.2.0 in /Users/fred.montet/Library/Caches/pypoetry/virtualenvs/ontime-P4y4iRhi-py3.10/lib/python3.10/site-packages (from rich<14.0,>=11.0->prefect) (3.0.0)\n",
      "Requirement already satisfied: pygments<3.0.0,>=2.13.0 in /Users/fred.montet/Library/Caches/pypoetry/virtualenvs/ontime-P4y4iRhi-py3.10/lib/python3.10/site-packages (from rich<14.0,>=11.0->prefect) (2.18.0)\n",
      "Requirement already satisfied: ruamel.yaml.clib>=0.2.7 in /Users/fred.montet/Library/Caches/pypoetry/virtualenvs/ontime-P4y4iRhi-py3.10/lib/python3.10/site-packages (from ruamel.yaml>=0.17.0->prefect) (0.2.8)\n",
      "Requirement already satisfied: greenlet!=0.4.17 in /Users/fred.montet/Library/Caches/pypoetry/virtualenvs/ontime-P4y4iRhi-py3.10/lib/python3.10/site-packages (from sqlalchemy[asyncio]!=1.4.33,<3.0.0,>=1.4.22->prefect) (3.0.3)\n",
      "Requirement already satisfied: shellingham>=1.3.0 in /Users/fred.montet/Library/Caches/pypoetry/virtualenvs/ontime-P4y4iRhi-py3.10/lib/python3.10/site-packages (from typer!=0.12.2,<0.13.0,>=0.12.0->prefect) (1.5.4)\n",
      "Requirement already satisfied: pycparser in /Users/fred.montet/Library/Caches/pypoetry/virtualenvs/ontime-P4y4iRhi-py3.10/lib/python3.10/site-packages (from cffi>=1.12->cryptography>=36.0.1->prefect) (2.22)\n",
      "Requirement already satisfied: dnspython>=2.0.0 in /Users/fred.montet/Library/Caches/pypoetry/virtualenvs/ontime-P4y4iRhi-py3.10/lib/python3.10/site-packages (from email-validator>=2.0.0->pydantic[email]!=2.0.0,!=2.0.1,!=2.1.0,<3.0.0,>=1.10.0->prefect) (2.6.1)\n",
      "Requirement already satisfied: pyasn1-modules>=0.2.1 in /Users/fred.montet/Library/Caches/pypoetry/virtualenvs/ontime-P4y4iRhi-py3.10/lib/python3.10/site-packages (from google-auth>=1.0.1->kubernetes<30.0.0,>=24.2.0->prefect) (0.4.0)\n",
      "Requirement already satisfied: rsa<5,>=3.1.4 in /Users/fred.montet/Library/Caches/pypoetry/virtualenvs/ontime-P4y4iRhi-py3.10/lib/python3.10/site-packages (from google-auth>=1.0.1->kubernetes<30.0.0,>=24.2.0->prefect) (4.9)\n",
      "Requirement already satisfied: hyperframe<7,>=6.0 in /Users/fred.montet/Library/Caches/pypoetry/virtualenvs/ontime-P4y4iRhi-py3.10/lib/python3.10/site-packages (from h2<5,>=3->httpx[http2]!=0.23.2,>=0.23->prefect) (6.0.1)\n",
      "Requirement already satisfied: hpack<5,>=4.0 in /Users/fred.montet/Library/Caches/pypoetry/virtualenvs/ontime-P4y4iRhi-py3.10/lib/python3.10/site-packages (from h2<5,>=3->httpx[http2]!=0.23.2,>=0.23->prefect) (4.0.0)\n",
      "Requirement already satisfied: mdurl~=0.1 in /Users/fred.montet/Library/Caches/pypoetry/virtualenvs/ontime-P4y4iRhi-py3.10/lib/python3.10/site-packages (from markdown-it-py>=2.2.0->rich<14.0,>=11.0->prefect) (0.1.2)\n",
      "Requirement already satisfied: charset-normalizer<4,>=2 in /Users/fred.montet/Library/Caches/pypoetry/virtualenvs/ontime-P4y4iRhi-py3.10/lib/python3.10/site-packages (from requests->apprise<2.0.0,>=1.1.0->prefect) (3.3.2)\n",
      "Requirement already satisfied: pyasn1<0.7.0,>=0.4.6 in /Users/fred.montet/Library/Caches/pypoetry/virtualenvs/ontime-P4y4iRhi-py3.10/lib/python3.10/site-packages (from pyasn1-modules>=0.2.1->google-auth>=1.0.1->kubernetes<30.0.0,>=24.2.0->prefect) (0.6.0)\n"
     ]
    }
   ],
   "source": [
    "!pip install prefect"
   ]
  },
  {
   "cell_type": "markdown",
   "id": "831f1944-599b-4761-a071-2a682346610a",
   "metadata": {
    "papermill": {
     "duration": null,
     "end_time": null,
     "exception": null,
     "start_time": null,
     "status": "completed"
    },
    "tags": []
   },
   "source": [
    "---\n",
    "## Generation of random time series"
   ]
  },
  {
   "cell_type": "code",
   "execution_count": 4,
   "id": "ef3e03e1-c247-4b5a-a27a-a13361e673b0",
   "metadata": {
    "papermill": {
     "duration": null,
     "end_time": null,
     "exception": null,
     "start_time": null,
     "status": "completed"
    },
    "tags": []
   },
   "outputs": [],
   "source": [
    "ts = on.generators.random_walk().generate(start=pd.Timestamp('2022-01-01'), end=pd.Timestamp('2022-12-31'))"
   ]
  },
  {
   "cell_type": "markdown",
   "id": "9b19e395-a8ae-4d24-9f3e-05ef1c5a3779",
   "metadata": {},
   "source": [
    "## Create a Prefect Flow and Tasks"
   ]
  },
  {
   "cell_type": "code",
   "execution_count": 5,
   "id": "5d88b2f2-c34f-45ca-b737-ac4307dcdf5e",
   "metadata": {},
   "outputs": [],
   "source": [
    "from prefect import task, flow, get_run_logger\n",
    "from ontime.context import common\n",
    "\n",
    "@task\n",
    "def task_detect(ts):\n",
    "    det = on.detectors.quantile(low_quantile=0.1, high_quantile=0.9)\n",
    "    return det.fit_detect(ts)\n",
    "\n",
    "@task\n",
    "def task_predict(ts):\n",
    "    model = common.GenericPredictor()\n",
    "    model.fit(ts)\n",
    "    return model.predict(48)\n",
    "\n",
    "@flow\n",
    "def detection_flow(ts, log_prints=True):\n",
    "    ts_ano = task_detect(ts)\n",
    "    ts_pred = task_predict(ts)\n",
    "    ts_pred_ano = task_detect(ts_pred)\n",
    "    return ts_ano, ts_pred, ts_pred_ano"
   ]
  },
  {
   "cell_type": "markdown",
   "id": "cee84246-0029-4f6a-89f5-54ea7b8fc1fb",
   "metadata": {},
   "source": [
    "## Display the graph"
   ]
  },
  {
   "cell_type": "code",
   "execution_count": 6,
   "id": "37da3015-b2e7-48db-a601-bc8aafa83c35",
   "metadata": {},
   "outputs": [
    {
     "name": "stderr",
     "output_type": "stream",
     "text": [
      "/Users/fred.montet/Library/Caches/pypoetry/virtualenvs/ontime-P4y4iRhi-py3.10/lib/python3.10/site-packages/prefect/flows.py:1301: UserWarning: `flow.visualize()` will execute code inside of your flow that is not decorated with `@task` or `@flow`.\n",
      "  warnings.warn(\n"
     ]
    },
    {
     "data": {
      "image/png": "[encoded data removed]",
      "text/plain": [
       "<IPython.core.display.Image object>"
      ]
     },
     "execution_count": 6,
     "metadata": {},
     "output_type": "execute_result"
    }
   ],
   "source": [
    "res = await detection_flow.visualize(ts)\n",
    "Image(filename=f'./{detection_flow.name}.png')"
   ]
  },
  {
   "cell_type": "markdown",
   "id": "5f7b3df6-f66e-47f8-a49d-517ac1aadf2a",
   "metadata": {},
   "source": [
    "## Run the flow"
   ]
  },
  {
   "cell_type": "code",
   "execution_count": 7,
   "id": "746548a8-2c84-4b41-aa84-e1ddc484a95b",
   "metadata": {},
   "outputs": [
    {
     "data": {
      "text/html": [
       "<pre style=\"white-space:pre;overflow-x:auto;line-height:normal;font-family:Menlo,'DejaVu Sans Mono',consolas,'Courier New',monospace\">14:33:46.487 | <span style=\"color: #008080; text-decoration-color: #008080\">INFO</span>    | prefect.engine - Created flow run<span style=\"color: #800080; text-decoration-color: #800080\"> 'vengeful-corgi'</span> for flow<span style=\"color: #800080; text-decoration-color: #800080; font-weight: bold\"> 'detection-flow'</span>\n",
       "</pre>\n"
      ],
      "text/plain": [
       "14:33:46.487 | \u001b[36mINFO\u001b[0m    | prefect.engine - Created flow run\u001b[35m 'vengeful-corgi'\u001b[0m for flow\u001b[1;35m 'detection-flow'\u001b[0m\n"
      ]
     },
     "metadata": {},
     "output_type": "display_data"
    },
    {
     "data": {
      "text/html": [
       "<pre style=\"white-space:pre;overflow-x:auto;line-height:normal;font-family:Menlo,'DejaVu Sans Mono',consolas,'Courier New',monospace\">14:33:46.522 | <span style=\"color: #008080; text-decoration-color: #008080\">INFO</span>    | Flow run<span style=\"color: #800080; text-decoration-color: #800080\"> 'vengeful-corgi'</span> - Created task run 'task_detect-0' for task 'task_detect'\n",
       "</pre>\n"
      ],
      "text/plain": [
       "14:33:46.522 | \u001b[36mINFO\u001b[0m    | Flow run\u001b[35m 'vengeful-corgi'\u001b[0m - Created task run 'task_detect-0' for task 'task_detect'\n"
      ]
     },
     "metadata": {},
     "output_type": "display_data"
    },
    {
     "data": {
      "text/html": [
       "<pre style=\"white-space:pre;overflow-x:auto;line-height:normal;font-family:Menlo,'DejaVu Sans Mono',consolas,'Courier New',monospace\">14:33:46.523 | <span style=\"color: #008080; text-decoration-color: #008080\">INFO</span>    | Flow run<span style=\"color: #800080; text-decoration-color: #800080\"> 'vengeful-corgi'</span> - Executing 'task_detect-0' immediately...\n",
       "</pre>\n"
      ],
      "text/plain": [
       "14:33:46.523 | \u001b[36mINFO\u001b[0m    | Flow run\u001b[35m 'vengeful-corgi'\u001b[0m - Executing 'task_detect-0' immediately...\n"
      ]
     },
     "metadata": {},
     "output_type": "display_data"
    },
    {
     "data": {
      "text/html": [
       "<pre style=\"white-space:pre;overflow-x:auto;line-height:normal;font-family:Menlo,'DejaVu Sans Mono',consolas,'Courier New',monospace\">14:33:46.566 | <span style=\"color: #008080; text-decoration-color: #008080\">INFO</span>    | Task run 'task_detect-0' - Finished in state <span style=\"color: #008000; text-decoration-color: #008000\">Completed</span>()\n",
       "</pre>\n"
      ],
      "text/plain": [
       "14:33:46.566 | \u001b[36mINFO\u001b[0m    | Task run 'task_detect-0' - Finished in state \u001b[32mCompleted\u001b[0m()\n"
      ]
     },
     "metadata": {},
     "output_type": "display_data"
    },
    {
     "data": {
      "text/html": [
       "<pre style=\"white-space:pre;overflow-x:auto;line-height:normal;font-family:Menlo,'DejaVu Sans Mono',consolas,'Courier New',monospace\">14:33:46.579 | <span style=\"color: #008080; text-decoration-color: #008080\">INFO</span>    | Flow run<span style=\"color: #800080; text-decoration-color: #800080\"> 'vengeful-corgi'</span> - Created task run 'task_predict-0' for task 'task_predict'\n",
       "</pre>\n"
      ],
      "text/plain": [
       "14:33:46.579 | \u001b[36mINFO\u001b[0m    | Flow run\u001b[35m 'vengeful-corgi'\u001b[0m - Created task run 'task_predict-0' for task 'task_predict'\n"
      ]
     },
     "metadata": {},
     "output_type": "display_data"
    },
    {
     "data": {
      "text/html": [
       "<pre style=\"white-space:pre;overflow-x:auto;line-height:normal;font-family:Menlo,'DejaVu Sans Mono',consolas,'Courier New',monospace\">14:33:46.580 | <span style=\"color: #008080; text-decoration-color: #008080\">INFO</span>    | Flow run<span style=\"color: #800080; text-decoration-color: #800080\"> 'vengeful-corgi'</span> - Executing 'task_predict-0' immediately...\n",
       "</pre>\n"
      ],
      "text/plain": [
       "14:33:46.580 | \u001b[36mINFO\u001b[0m    | Flow run\u001b[35m 'vengeful-corgi'\u001b[0m - Executing 'task_predict-0' immediately...\n"
      ]
     },
     "metadata": {},
     "output_type": "display_data"
    },
    {
     "data": {
      "text/html": [
       "<pre style=\"white-space:pre;overflow-x:auto;line-height:normal;font-family:Menlo,'DejaVu Sans Mono',consolas,'Courier New',monospace\">14:33:47.241 | <span style=\"color: #008080; text-decoration-color: #008080\">INFO</span>    | Task run 'task_predict-0' - Finished in state <span style=\"color: #008000; text-decoration-color: #008000\">Completed</span>()\n",
       "</pre>\n"
      ],
      "text/plain": [
       "14:33:47.241 | \u001b[36mINFO\u001b[0m    | Task run 'task_predict-0' - Finished in state \u001b[32mCompleted\u001b[0m()\n"
      ]
     },
     "metadata": {},
     "output_type": "display_data"
    },
    {
     "data": {
      "text/html": [
       "<pre style=\"white-space:pre;overflow-x:auto;line-height:normal;font-family:Menlo,'DejaVu Sans Mono',consolas,'Courier New',monospace\">14:33:47.252 | <span style=\"color: #008080; text-decoration-color: #008080\">INFO</span>    | Flow run<span style=\"color: #800080; text-decoration-color: #800080\"> 'vengeful-corgi'</span> - Created task run 'task_detect-1' for task 'task_detect'\n",
       "</pre>\n"
      ],
      "text/plain": [
       "14:33:47.252 | \u001b[36mINFO\u001b[0m    | Flow run\u001b[35m 'vengeful-corgi'\u001b[0m - Created task run 'task_detect-1' for task 'task_detect'\n"
      ]
     },
     "metadata": {},
     "output_type": "display_data"
    },
    {
     "data": {
      "text/html": [
       "<pre style=\"white-space:pre;overflow-x:auto;line-height:normal;font-family:Menlo,'DejaVu Sans Mono',consolas,'Courier New',monospace\">14:33:47.253 | <span style=\"color: #008080; text-decoration-color: #008080\">INFO</span>    | Flow run<span style=\"color: #800080; text-decoration-color: #800080\"> 'vengeful-corgi'</span> - Executing 'task_detect-1' immediately...\n",
       "</pre>\n"
      ],
      "text/plain": [
       "14:33:47.253 | \u001b[36mINFO\u001b[0m    | Flow run\u001b[35m 'vengeful-corgi'\u001b[0m - Executing 'task_detect-1' immediately...\n"
      ]
     },
     "metadata": {},
     "output_type": "display_data"
    },
    {
     "data": {
      "text/html": [
       "<pre style=\"white-space:pre;overflow-x:auto;line-height:normal;font-family:Menlo,'DejaVu Sans Mono',consolas,'Courier New',monospace\">14:33:47.283 | <span style=\"color: #008080; text-decoration-color: #008080\">INFO</span>    | Task run 'task_detect-1' - Finished in state <span style=\"color: #008000; text-decoration-color: #008000\">Completed</span>()\n",
       "</pre>\n"
      ],
      "text/plain": [
       "14:33:47.283 | \u001b[36mINFO\u001b[0m    | Task run 'task_detect-1' - Finished in state \u001b[32mCompleted\u001b[0m()\n"
      ]
     },
     "metadata": {},
     "output_type": "display_data"
    },
    {
     "data": {
      "text/html": [
       "<pre style=\"white-space:pre;overflow-x:auto;line-height:normal;font-family:Menlo,'DejaVu Sans Mono',consolas,'Courier New',monospace\">14:33:47.296 | <span style=\"color: #008080; text-decoration-color: #008080\">INFO</span>    | Flow run<span style=\"color: #800080; text-decoration-color: #800080\"> 'vengeful-corgi'</span> - Finished in state <span style=\"color: #008000; text-decoration-color: #008000\">Completed</span>()\n",
       "</pre>\n"
      ],
      "text/plain": [
       "14:33:47.296 | \u001b[36mINFO\u001b[0m    | Flow run\u001b[35m 'vengeful-corgi'\u001b[0m - Finished in state \u001b[32mCompleted\u001b[0m()\n"
      ]
     },
     "metadata": {},
     "output_type": "display_data"
    }
   ],
   "source": [
    "ts_ano, ts_pred, ts_pred_ano = detection_flow(ts)"
   ]
  },
  {
   "cell_type": "markdown",
   "id": "518fb833-2963-4848-9f30-d43f1e8b785d",
   "metadata": {},
   "source": [
    "## Show results"
   ]
  },
  {
   "cell_type": "code",
   "execution_count": 12,
   "id": "11e272b6-b741-4c7b-8d5a-600d7e46dc23",
   "metadata": {},
   "outputs": [
    {
     "data": {
      "image/png": "[encoded data removed]",
      "text/plain": [
       "<Figure size 640x480 with 1 Axes>"
      ]
     },
     "metadata": {},
     "output_type": "display_data"
    }
   ],
   "source": [
    "ts.plot(label='truth')\n",
    "ts_ano.plot(label='anomalies')\n",
    "ts_pred.plot(label='predictions')\n",
    "ts_pred_ano.plot(label='predicted anomalies');"
   ]
  },
  {
   "cell_type": "code",
   "execution_count": null,
   "id": "3b3ebc06-b9d3-4f08-a18b-5b3f03f940a1",
   "metadata": {},
   "outputs": [],
   "source": []
  }
 ],
 "metadata": {
  "kernelspec": {
   "display_name": "Python 3 (ipykernel)",
   "language": "python",
   "name": "python3"
  },
  "language_info": {
   "codemirror_mode": {
    "name": "ipython",
    "version": 3
   },
   "file_extension": ".py",
   "mimetype": "text/x-python",
   "name": "python",
   "nbconvert_exporter": "python",
   "pygments_lexer": "ipython3",
   "version": "3.10.10"
  },
  "papermill": {
   "default_parameters": {},
   "duration": 60.248854,
   "end_time": "2024-01-31T17:51:31.161244",
   "environment_variables": {},
   "exception": null,
   "input_path": "docs/user_guide/0_core/0.1-time-series-custom-class.ipynb",
   "output_path": "docs/user_guide/0_core/0.1-time-series-custom-class.ipynb",
   "parameters": {},
   "start_time": "2024-01-31T17:50:30.912390",
   "version": "2.5.0"
  }
 },
 "nbformat": 4,
 "nbformat_minor": 5
}
