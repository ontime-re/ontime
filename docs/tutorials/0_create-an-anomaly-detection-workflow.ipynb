{
 "cells": [
  {
   "cell_type": "markdown",
   "id": "670316b8-460c-4009-a5da-94278f4ac9a9",
   "metadata": {
    "papermill": {
     "duration": null,
     "end_time": null,
     "exception": null,
     "start_time": null,
     "status": "completed"
    },
    "tags": []
   },
   "source": [
    "# Create an Anomaly Detection Workflow"
   ]
  },
  {
   "cell_type": "code",
   "execution_count": 1,
   "id": "52af59bb-083c-46c6-989a-bd4c65137a1a",
   "metadata": {
    "papermill": {
     "duration": null,
     "end_time": null,
     "exception": null,
     "start_time": null,
     "status": "completed"
    },
    "tags": []
   },
   "outputs": [],
   "source": [
    "# Import to be able to import python package from src\n",
    "import sys\n",
    "sys.path.insert(0, '../src')"
   ]
  },
  {
   "cell_type": "code",
   "execution_count": 2,
   "id": "d6fc731f-3f50-4e9a-a24c-b2ab01d4fa31",
   "metadata": {
    "papermill": {
     "duration": null,
     "end_time": null,
     "exception": null,
     "start_time": null,
     "status": "completed"
    },
    "tags": []
   },
   "outputs": [
    {
     "name": "stderr",
     "output_type": "stream",
     "text": [
      "The `LightGBM` module could not be imported. To enable LightGBM support in Darts, follow the detailed instructions in the installation guide: https://github.com/unit8co/darts/blob/master/INSTALL.md\n",
      "The `Prophet` module could not be imported. To enable Prophet support in Darts, follow the detailed instructions in the installation guide: https://github.com/unit8co/darts/blob/master/INSTALL.md\n"
     ]
    }
   ],
   "source": [
    "import pandas as pd\n",
    "import numpy as np\n",
    "import ontime as on\n",
    "from IPython.display import Image"
   ]
  },
  {
   "cell_type": "markdown",
   "id": "831f1944-599b-4761-a071-2a682346610a",
   "metadata": {
    "papermill": {
     "duration": null,
     "end_time": null,
     "exception": null,
     "start_time": null,
     "status": "completed"
    },
    "tags": []
   },
   "source": [
    "---\n",
    "## Generation of random time series"
   ]
  },
  {
   "cell_type": "code",
   "execution_count": 4,
   "id": "ef3e03e1-c247-4b5a-a27a-a13361e673b0",
   "metadata": {
    "papermill": {
     "duration": null,
     "end_time": null,
     "exception": null,
     "start_time": null,
     "status": "completed"
    },
    "tags": []
   },
   "outputs": [],
   "source": [
    "ts = on.generators.random_walk().generate(start=pd.Timestamp('2022-01-01'), end=pd.Timestamp('2022-12-31'))"
   ]
  },
  {
   "cell_type": "markdown",
   "id": "9b19e395-a8ae-4d24-9f3e-05ef1c5a3779",
   "metadata": {},
   "source": [
    "## Create a Prefect Flow and Tasks"
   ]
  },
  {
   "cell_type": "code",
   "execution_count": 5,
   "id": "5d88b2f2-c34f-45ca-b737-ac4307dcdf5e",
   "metadata": {},
   "outputs": [],
   "source": [
    "from prefect import task, flow, get_run_logger\n",
    "from ontime.context import common\n",
    "\n",
    "@task\n",
    "def task_detect(ts):\n",
    "    det = on.detectors.quantile(low_quantile=0.1, high_quantile=0.9)\n",
    "    return det.fit_detect(ts)\n",
    "\n",
    "@task\n",
    "def task_predict(ts):\n",
    "    model = common.GenericPredictor()\n",
    "    model.fit(ts)\n",
    "    return model.predict(48)\n",
    "\n",
    "@flow\n",
    "def detection_flow(ts, log_prints=True):\n",
    "    ts_ano = task_detect(ts)\n",
    "    ts_pred = task_predict(ts)\n",
    "    ts_pred_ano = task_detect(ts_pred)\n",
    "    return ts_ano, ts_pred, ts_pred_ano"
   ]
  },
  {
   "cell_type": "markdown",
   "id": "cee84246-0029-4f6a-89f5-54ea7b8fc1fb",
   "metadata": {},
   "source": [
    "## Display the graph"
   ]
  },
  {
   "cell_type": "code",
   "execution_count": 6,
   "id": "37da3015-b2e7-48db-a601-bc8aafa83c35",
   "metadata": {},
   "outputs": [
    {
     "name": "stderr",
     "output_type": "stream",
     "text": [
      "/Users/fred.montet/Library/Caches/pypoetry/virtualenvs/ontime-P4y4iRhi-py3.10/lib/python3.10/site-packages/prefect/flows.py:1298: UserWarning: `flow.visualize()` will execute code inside of your flow that is not decorated with `@task` or `@flow`.\n",
      "  warnings.warn(\n"
     ]
    },
    {
     "data": {
      "image/png": "[encoded data removed]",
      "text/plain": [
       "<IPython.core.display.Image object>"
      ]
     },
     "execution_count": 6,
     "metadata": {},
     "output_type": "execute_result"
    }
   ],
   "source": [
    "res = await detection_flow.visualize(ts)\n",
    "Image(filename=f'./{detection_flow.name}.png')"
   ]
  },
  {
   "cell_type": "markdown",
   "id": "5f7b3df6-f66e-47f8-a49d-517ac1aadf2a",
   "metadata": {},
   "source": [
    "## Run the flow"
   ]
  },
  {
   "cell_type": "code",
   "execution_count": 7,
   "id": "746548a8-2c84-4b41-aa84-e1ddc484a95b",
   "metadata": {},
   "outputs": [
    {
     "data": {
      "text/html": [
       "<pre style=\"white-space:pre;overflow-x:auto;line-height:normal;font-family:Menlo,'DejaVu Sans Mono',consolas,'Courier New',monospace\">19:07:06.330 | <span style=\"color: #008080; text-decoration-color: #008080\">INFO</span>    | prefect.engine - Created flow run<span style=\"color: #800080; text-decoration-color: #800080\"> 'topaz-turaco'</span> for flow<span style=\"color: #800080; text-decoration-color: #800080; font-weight: bold\"> 'detection-flow'</span>\n",
       "</pre>\n"
      ],
      "text/plain": [
       "19:07:06.330 | \u001b[36mINFO\u001b[0m    | prefect.engine - Created flow run\u001b[35m 'topaz-turaco'\u001b[0m for flow\u001b[1;35m 'detection-flow'\u001b[0m\n"
      ]
     },
     "metadata": {},
     "output_type": "display_data"
    },
    {
     "data": {
      "text/html": [
       "<pre style=\"white-space:pre;overflow-x:auto;line-height:normal;font-family:Menlo,'DejaVu Sans Mono',consolas,'Courier New',monospace\">19:07:06.370 | <span style=\"color: #008080; text-decoration-color: #008080\">INFO</span>    | Flow run<span style=\"color: #800080; text-decoration-color: #800080\"> 'topaz-turaco'</span> - Created task run 'task_detect-0' for task 'task_detect'\n",
       "</pre>\n"
      ],
      "text/plain": [
       "19:07:06.370 | \u001b[36mINFO\u001b[0m    | Flow run\u001b[35m 'topaz-turaco'\u001b[0m - Created task run 'task_detect-0' for task 'task_detect'\n"
      ]
     },
     "metadata": {},
     "output_type": "display_data"
    },
    {
     "data": {
      "text/html": [
       "<pre style=\"white-space:pre;overflow-x:auto;line-height:normal;font-family:Menlo,'DejaVu Sans Mono',consolas,'Courier New',monospace\">19:07:06.371 | <span style=\"color: #008080; text-decoration-color: #008080\">INFO</span>    | Flow run<span style=\"color: #800080; text-decoration-color: #800080\"> 'topaz-turaco'</span> - Executing 'task_detect-0' immediately...\n",
       "</pre>\n"
      ],
      "text/plain": [
       "19:07:06.371 | \u001b[36mINFO\u001b[0m    | Flow run\u001b[35m 'topaz-turaco'\u001b[0m - Executing 'task_detect-0' immediately...\n"
      ]
     },
     "metadata": {},
     "output_type": "display_data"
    },
    {
     "data": {
      "text/html": [
       "<pre style=\"white-space:pre;overflow-x:auto;line-height:normal;font-family:Menlo,'DejaVu Sans Mono',consolas,'Courier New',monospace\">19:07:06.412 | <span style=\"color: #008080; text-decoration-color: #008080\">INFO</span>    | Task run 'task_detect-0' - Finished in state <span style=\"color: #008000; text-decoration-color: #008000\">Completed</span>()\n",
       "</pre>\n"
      ],
      "text/plain": [
       "19:07:06.412 | \u001b[36mINFO\u001b[0m    | Task run 'task_detect-0' - Finished in state \u001b[32mCompleted\u001b[0m()\n"
      ]
     },
     "metadata": {},
     "output_type": "display_data"
    },
    {
     "data": {
      "text/html": [
       "<pre style=\"white-space:pre;overflow-x:auto;line-height:normal;font-family:Menlo,'DejaVu Sans Mono',consolas,'Courier New',monospace\">19:07:06.424 | <span style=\"color: #008080; text-decoration-color: #008080\">INFO</span>    | Flow run<span style=\"color: #800080; text-decoration-color: #800080\"> 'topaz-turaco'</span> - Created task run 'task_predict-0' for task 'task_predict'\n",
       "</pre>\n"
      ],
      "text/plain": [
       "19:07:06.424 | \u001b[36mINFO\u001b[0m    | Flow run\u001b[35m 'topaz-turaco'\u001b[0m - Created task run 'task_predict-0' for task 'task_predict'\n"
      ]
     },
     "metadata": {},
     "output_type": "display_data"
    },
    {
     "data": {
      "text/html": [
       "<pre style=\"white-space:pre;overflow-x:auto;line-height:normal;font-family:Menlo,'DejaVu Sans Mono',consolas,'Courier New',monospace\">19:07:06.425 | <span style=\"color: #008080; text-decoration-color: #008080\">INFO</span>    | Flow run<span style=\"color: #800080; text-decoration-color: #800080\"> 'topaz-turaco'</span> - Executing 'task_predict-0' immediately...\n",
       "</pre>\n"
      ],
      "text/plain": [
       "19:07:06.425 | \u001b[36mINFO\u001b[0m    | Flow run\u001b[35m 'topaz-turaco'\u001b[0m - Executing 'task_predict-0' immediately...\n"
      ]
     },
     "metadata": {},
     "output_type": "display_data"
    },
    {
     "data": {
      "text/html": [
       "<pre style=\"white-space:pre;overflow-x:auto;line-height:normal;font-family:Menlo,'DejaVu Sans Mono',consolas,'Courier New',monospace\">19:07:07.076 | <span style=\"color: #008080; text-decoration-color: #008080\">INFO</span>    | Task run 'task_predict-0' - Finished in state <span style=\"color: #008000; text-decoration-color: #008000\">Completed</span>()\n",
       "</pre>\n"
      ],
      "text/plain": [
       "19:07:07.076 | \u001b[36mINFO\u001b[0m    | Task run 'task_predict-0' - Finished in state \u001b[32mCompleted\u001b[0m()\n"
      ]
     },
     "metadata": {},
     "output_type": "display_data"
    },
    {
     "data": {
      "text/html": [
       "<pre style=\"white-space:pre;overflow-x:auto;line-height:normal;font-family:Menlo,'DejaVu Sans Mono',consolas,'Courier New',monospace\">19:07:07.087 | <span style=\"color: #008080; text-decoration-color: #008080\">INFO</span>    | Flow run<span style=\"color: #800080; text-decoration-color: #800080\"> 'topaz-turaco'</span> - Created task run 'task_detect-1' for task 'task_detect'\n",
       "</pre>\n"
      ],
      "text/plain": [
       "19:07:07.087 | \u001b[36mINFO\u001b[0m    | Flow run\u001b[35m 'topaz-turaco'\u001b[0m - Created task run 'task_detect-1' for task 'task_detect'\n"
      ]
     },
     "metadata": {},
     "output_type": "display_data"
    },
    {
     "data": {
      "text/html": [
       "<pre style=\"white-space:pre;overflow-x:auto;line-height:normal;font-family:Menlo,'DejaVu Sans Mono',consolas,'Courier New',monospace\">19:07:07.088 | <span style=\"color: #008080; text-decoration-color: #008080\">INFO</span>    | Flow run<span style=\"color: #800080; text-decoration-color: #800080\"> 'topaz-turaco'</span> - Executing 'task_detect-1' immediately...\n",
       "</pre>\n"
      ],
      "text/plain": [
       "19:07:07.088 | \u001b[36mINFO\u001b[0m    | Flow run\u001b[35m 'topaz-turaco'\u001b[0m - Executing 'task_detect-1' immediately...\n"
      ]
     },
     "metadata": {},
     "output_type": "display_data"
    },
    {
     "data": {
      "text/html": [
       "<pre style=\"white-space:pre;overflow-x:auto;line-height:normal;font-family:Menlo,'DejaVu Sans Mono',consolas,'Courier New',monospace\">19:07:07.120 | <span style=\"color: #008080; text-decoration-color: #008080\">INFO</span>    | Task run 'task_detect-1' - Finished in state <span style=\"color: #008000; text-decoration-color: #008000\">Completed</span>()\n",
       "</pre>\n"
      ],
      "text/plain": [
       "19:07:07.120 | \u001b[36mINFO\u001b[0m    | Task run 'task_detect-1' - Finished in state \u001b[32mCompleted\u001b[0m()\n"
      ]
     },
     "metadata": {},
     "output_type": "display_data"
    },
    {
     "data": {
      "text/html": [
       "<pre style=\"white-space:pre;overflow-x:auto;line-height:normal;font-family:Menlo,'DejaVu Sans Mono',consolas,'Courier New',monospace\">19:07:07.132 | <span style=\"color: #008080; text-decoration-color: #008080\">INFO</span>    | Flow run<span style=\"color: #800080; text-decoration-color: #800080\"> 'topaz-turaco'</span> - Finished in state <span style=\"color: #008000; text-decoration-color: #008000\">Completed</span>()\n",
       "</pre>\n"
      ],
      "text/plain": [
       "19:07:07.132 | \u001b[36mINFO\u001b[0m    | Flow run\u001b[35m 'topaz-turaco'\u001b[0m - Finished in state \u001b[32mCompleted\u001b[0m()\n"
      ]
     },
     "metadata": {},
     "output_type": "display_data"
    }
   ],
   "source": [
    "ts_ano, ts_pred, ts_pred_ano = detection_flow(ts)"
   ]
  },
  {
   "cell_type": "markdown",
   "id": "518fb833-2963-4848-9f30-d43f1e8b785d",
   "metadata": {},
   "source": [
    "## Show results"
   ]
  },
  {
   "cell_type": "code",
   "execution_count": 8,
   "id": "11e272b6-b741-4c7b-8d5a-600d7e46dc23",
   "metadata": {},
   "outputs": [
    {
     "data": {
      "image/png": "[encoded data removed]",
      "text/plain": [
       "<Figure size 640x480 with 1 Axes>"
      ]
     },
     "metadata": {},
     "output_type": "display_data"
    }
   ],
   "source": [
    "ts.plot()\n",
    "ts_ano.plot()\n",
    "ts_pred.plot()\n",
    "ts_pred_ano.plot();"
   ]
  },
  {
   "cell_type": "code",
   "execution_count": null,
   "id": "3b3ebc06-b9d3-4f08-a18b-5b3f03f940a1",
   "metadata": {},
   "outputs": [],
   "source": []
  }
 ],
 "metadata": {
  "kernelspec": {
   "display_name": "Python 3 (ipykernel)",
   "language": "python",
   "name": "python3"
  },
  "language_info": {
   "codemirror_mode": {
    "name": "ipython",
    "version": 3
   },
   "file_extension": ".py",
   "mimetype": "text/x-python",
   "name": "python",
   "nbconvert_exporter": "python",
   "pygments_lexer": "ipython3",
   "version": "3.10.10"
  },
  "papermill": {
   "default_parameters": {},
   "duration": 60.248854,
   "end_time": "2024-01-31T17:51:31.161244",
   "environment_variables": {},
   "exception": null,
   "input_path": "docs/user_guide/0_core/0.1-time-series-custom-class.ipynb",
   "output_path": "docs/user_guide/0_core/0.1-time-series-custom-class.ipynb",
   "parameters": {},
   "start_time": "2024-01-31T17:50:30.912390",
   "version": "2.5.0"
  }
 },
 "nbformat": 4,
 "nbformat_minor": 5
}
