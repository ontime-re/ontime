{
 "cells": [
  {
   "cell_type": "markdown",
   "id": "41296cc6-9d84-47c5-8a92-2d292f6f3c4a",
   "metadata": {
    "papermill": {
     "duration": 0.006972,
     "end_time": "2024-01-26T20:45:34.710310",
     "exception": false,
     "start_time": "2024-01-26T20:45:34.703338",
     "status": "completed"
    },
    "tags": []
   },
   "source": [
    "# Module - Preprocessing"
   ]
  },
  {
   "cell_type": "code",
   "execution_count": 1,
   "id": "9286e0b8-3c78-4b0f-943c-d219e9840dfe",
   "metadata": {
    "execution": {
     "iopub.execute_input": "2024-01-26T20:45:34.724580Z",
     "iopub.status.busy": "2024-01-26T20:45:34.724001Z",
     "iopub.status.idle": "2024-01-26T20:45:34.731075Z",
     "shell.execute_reply": "2024-01-26T20:45:34.730674Z"
    },
    "papermill": {
     "duration": 0.014984,
     "end_time": "2024-01-26T20:45:34.731696",
     "exception": false,
     "start_time": "2024-01-26T20:45:34.716712",
     "status": "completed"
    },
    "tags": []
   },
   "outputs": [],
   "source": [
    "# Import to be able to import python package from src\n",
    "import sys\n",
    "sys.path.insert(0, '../src')"
   ]
  },
  {
   "cell_type": "code",
   "execution_count": 2,
   "id": "2028eed7-b1c3-4c9e-b6a0-00433caa7d0f",
   "metadata": {
    "execution": {
     "iopub.execute_input": "2024-01-26T20:45:34.737792Z",
     "iopub.status.busy": "2024-01-26T20:45:34.737441Z",
     "iopub.status.idle": "2024-01-26T20:45:35.313263Z",
     "shell.execute_reply": "2024-01-26T20:45:35.312846Z"
    },
    "papermill": {
     "duration": 0.579832,
     "end_time": "2024-01-26T20:45:35.314218",
     "exception": false,
     "start_time": "2024-01-26T20:45:34.734386",
     "status": "completed"
    },
    "tags": []
   },
   "outputs": [],
   "source": [
    "import pandas as pd\n",
    "import numpy as np\n",
    "from darts.datasets import EnergyDataset"
   ]
  },
  {
   "cell_type": "code",
   "execution_count": 3,
   "id": "4733b4e6-71a2-42b2-93fd-a5615b84ac1a",
   "metadata": {
    "execution": {
     "iopub.execute_input": "2024-01-26T20:45:35.322330Z",
     "iopub.status.busy": "2024-01-26T20:45:35.321947Z",
     "iopub.status.idle": "2024-01-26T20:45:36.801224Z",
     "shell.execute_reply": "2024-01-26T20:45:36.800687Z"
    },
    "papermill": {
     "duration": 1.48415,
     "end_time": "2024-01-26T20:45:36.802133",
     "exception": false,
     "start_time": "2024-01-26T20:45:35.317983",
     "status": "completed"
    },
    "tags": []
   },
   "outputs": [
    {
     "name": "stderr",
     "output_type": "stream",
     "text": [
      "The `LightGBM` module could not be imported. To enable LightGBM support in Darts, follow the detailed instructions in the installation guide: https://github.com/unit8co/darts/blob/master/INSTALL.md\n"
     ]
    },
    {
     "name": "stderr",
     "output_type": "stream",
     "text": [
      "The `Prophet` module could not be imported. To enable Prophet support in Darts, follow the detailed instructions in the installation guide: https://github.com/unit8co/darts/blob/master/INSTALL.md\n"
     ]
    }
   ],
   "source": [
    "import ontime as on"
   ]
  },
  {
   "cell_type": "markdown",
   "id": "e24da8ab-6a83-4c2f-9ff0-c633d4693a91",
   "metadata": {
    "papermill": {
     "duration": 0.002477,
     "end_time": "2024-01-26T20:45:36.807168",
     "exception": false,
     "start_time": "2024-01-26T20:45:36.804691",
     "status": "completed"
    },
    "tags": []
   },
   "source": [
    "---\n",
    "## Load data"
   ]
  },
  {
   "cell_type": "code",
   "execution_count": 4,
   "id": "e9a96d79-0423-4d79-b01d-726193216238",
   "metadata": {
    "execution": {
     "iopub.execute_input": "2024-01-26T20:45:36.812866Z",
     "iopub.status.busy": "2024-01-26T20:45:36.812461Z",
     "iopub.status.idle": "2024-01-26T20:45:36.902488Z",
     "shell.execute_reply": "2024-01-26T20:45:36.901996Z"
    },
    "papermill": {
     "duration": 0.093931,
     "end_time": "2024-01-26T20:45:36.903447",
     "exception": false,
     "start_time": "2024-01-26T20:45:36.809516",
     "status": "completed"
    },
    "tags": []
   },
   "outputs": [],
   "source": [
    "ts = EnergyDataset().load()\n",
    "ts = ts.astype(np.float32)"
   ]
  },
  {
   "cell_type": "markdown",
   "id": "1d4bec6b-eedb-4a88-ba68-dbeae5f0644e",
   "metadata": {
    "papermill": {
     "duration": 0.002678,
     "end_time": "2024-01-26T20:45:36.909447",
     "exception": false,
     "start_time": "2024-01-26T20:45:36.906769",
     "status": "completed"
    },
    "tags": []
   },
   "source": [
    "---"
   ]
  },
  {
   "cell_type": "markdown",
   "id": "c2c873dd-8643-40cd-895b-fddd7a515c6d",
   "metadata": {
    "papermill": {
     "duration": 0.002458,
     "end_time": "2024-01-26T20:45:36.914207",
     "exception": false,
     "start_time": "2024-01-26T20:45:36.911749",
     "status": "completed"
    },
    "tags": []
   },
   "source": [
    "## Common Preprocessing"
   ]
  },
  {
   "cell_type": "code",
   "execution_count": 5,
   "id": "a630af5c-687e-48e2-a6d4-5a8cb1d1ec66",
   "metadata": {
    "execution": {
     "iopub.execute_input": "2024-01-26T20:45:36.920275Z",
     "iopub.status.busy": "2024-01-26T20:45:36.920020Z",
     "iopub.status.idle": "2024-01-26T20:45:36.922029Z",
     "shell.execute_reply": "2024-01-26T20:45:36.921710Z"
    },
    "papermill": {
     "duration": 0.006106,
     "end_time": "2024-01-26T20:45:36.922657",
     "exception": false,
     "start_time": "2024-01-26T20:45:36.916551",
     "status": "completed"
    },
    "tags": []
   },
   "outputs": [],
   "source": [
    "from ontime.module import preprocessing"
   ]
  },
  {
   "cell_type": "markdown",
   "id": "9b508ee5-7c7e-4793-904e-45a40df354db",
   "metadata": {
    "papermill": {
     "duration": 0.002423,
     "end_time": "2024-01-26T20:45:36.927598",
     "exception": false,
     "start_time": "2024-01-26T20:45:36.925175",
     "status": "completed"
    },
    "tags": []
   },
   "source": [
    "### Normalize"
   ]
  },
  {
   "cell_type": "code",
   "execution_count": 6,
   "id": "a4b12f07-8a97-403a-a554-89e166574120",
   "metadata": {
    "execution": {
     "iopub.execute_input": "2024-01-26T20:45:36.933063Z",
     "iopub.status.busy": "2024-01-26T20:45:36.932782Z",
     "iopub.status.idle": "2024-01-26T20:45:36.944298Z",
     "shell.execute_reply": "2024-01-26T20:45:36.944015Z"
    },
    "papermill": {
     "duration": 0.014986,
     "end_time": "2024-01-26T20:45:36.944895",
     "exception": false,
     "start_time": "2024-01-26T20:45:36.929909",
     "status": "completed"
    },
    "tags": []
   },
   "outputs": [
    {
     "name": "stderr",
     "output_type": "stream",
     "text": [
      "/home/vscode/.cache/pypoetry/virtualenvs/ontime-Xp74gwUA-py3.10/lib/python3.10/site-packages/sklearn/preprocessing/_data.py:480: RuntimeWarning: All-NaN slice encountered\n",
      "  data_min = np.nanmin(X, axis=0)\n",
      "/home/vscode/.cache/pypoetry/virtualenvs/ontime-Xp74gwUA-py3.10/lib/python3.10/site-packages/sklearn/preprocessing/_data.py:481: RuntimeWarning: All-NaN slice encountered\n",
      "  data_max = np.nanmax(X, axis=0)\n"
     ]
    }
   ],
   "source": [
    "ts_t = preprocessing.common.normalize(ts)"
   ]
  },
  {
   "cell_type": "markdown",
   "id": "42428ed1-7556-4341-9675-bad6dca0ecac",
   "metadata": {
    "papermill": {
     "duration": 0.002611,
     "end_time": "2024-01-26T20:45:36.950351",
     "exception": false,
     "start_time": "2024-01-26T20:45:36.947740",
     "status": "completed"
    },
    "tags": []
   },
   "source": [
    "### Train test split (for time series)"
   ]
  },
  {
   "cell_type": "code",
   "execution_count": 7,
   "id": "8b67892d-db8c-4f12-93b6-147016da4186",
   "metadata": {
    "execution": {
     "iopub.execute_input": "2024-01-26T20:45:36.955912Z",
     "iopub.status.busy": "2024-01-26T20:45:36.955662Z",
     "iopub.status.idle": "2024-01-26T20:45:36.959419Z",
     "shell.execute_reply": "2024-01-26T20:45:36.959145Z"
    },
    "papermill": {
     "duration": 0.007272,
     "end_time": "2024-01-26T20:45:36.959984",
     "exception": false,
     "start_time": "2024-01-26T20:45:36.952712",
     "status": "completed"
    },
    "tags": []
   },
   "outputs": [],
   "source": [
    "train, test = preprocessing.common.train_test_split(ts_t, train_split=0.8)"
   ]
  },
  {
   "cell_type": "markdown",
   "id": "498b0e13-04bc-45ee-ab1a-3996fbfd1df2",
   "metadata": {
    "papermill": {
     "duration": 0.002459,
     "end_time": "2024-01-26T20:45:36.964847",
     "exception": false,
     "start_time": "2024-01-26T20:45:36.962388",
     "status": "completed"
    },
    "tags": []
   },
   "source": [
    "### Split time series in chunks"
   ]
  },
  {
   "cell_type": "code",
   "execution_count": 8,
   "id": "500e954a-82d6-4eff-bbdd-0b889c2a10f8",
   "metadata": {
    "execution": {
     "iopub.execute_input": "2024-01-26T20:45:36.970059Z",
     "iopub.status.busy": "2024-01-26T20:45:36.969934Z",
     "iopub.status.idle": "2024-01-26T20:45:40.108989Z",
     "shell.execute_reply": "2024-01-26T20:45:40.108475Z"
    },
    "papermill": {
     "duration": 3.142665,
     "end_time": "2024-01-26T20:45:40.109879",
     "exception": false,
     "start_time": "2024-01-26T20:45:36.967214",
     "status": "completed"
    },
    "tags": []
   },
   "outputs": [],
   "source": [
    "train_list = preprocessing.common.split_by_length(train, 6)\n",
    "test_list = preprocessing.common.split_by_length(test, 6)"
   ]
  },
  {
   "cell_type": "markdown",
   "id": "b4a88496-6b33-4bff-abb7-1d5ff4c81597",
   "metadata": {
    "papermill": {
     "duration": 0.002901,
     "end_time": "2024-01-26T20:45:40.116399",
     "exception": false,
     "start_time": "2024-01-26T20:45:40.113498",
     "status": "completed"
    },
    "tags": []
   },
   "source": [
    "### Split in X and y"
   ]
  },
  {
   "cell_type": "code",
   "execution_count": 9,
   "id": "f7897c44-71ba-4752-86c6-547387245ae4",
   "metadata": {
    "execution": {
     "iopub.execute_input": "2024-01-26T20:45:40.122085Z",
     "iopub.status.busy": "2024-01-26T20:45:40.121921Z",
     "iopub.status.idle": "2024-01-26T20:45:47.028499Z",
     "shell.execute_reply": "2024-01-26T20:45:47.028048Z"
    },
    "papermill": {
     "duration": 6.910491,
     "end_time": "2024-01-26T20:45:47.029440",
     "exception": false,
     "start_time": "2024-01-26T20:45:40.118949",
     "status": "completed"
    },
    "tags": []
   },
   "outputs": [],
   "source": [
    "X_train, y_train = preprocessing.common.split_inputs_from_targets(train_list, 4, 2)\n",
    "X_test, y_test = preprocessing.common.split_inputs_from_targets(test_list, 4, 2)"
   ]
  },
  {
   "cell_type": "markdown",
   "id": "9626370a-e4ba-4421-b40b-d6e7c5787beb",
   "metadata": {
    "papermill": {
     "duration": 0.00297,
     "end_time": "2024-01-26T20:45:47.036223",
     "exception": false,
     "start_time": "2024-01-26T20:45:47.033253",
     "status": "completed"
    },
    "tags": []
   },
   "source": [
    "### Transform in generic data type "
   ]
  },
  {
   "cell_type": "code",
   "execution_count": 10,
   "id": "a4ab9cfa-289d-4d8e-be40-d5d4247f5ab5",
   "metadata": {
    "execution": {
     "iopub.execute_input": "2024-01-26T20:45:47.042321Z",
     "iopub.status.busy": "2024-01-26T20:45:47.042182Z",
     "iopub.status.idle": "2024-01-26T20:45:48.342826Z",
     "shell.execute_reply": "2024-01-26T20:45:48.342311Z"
    },
    "papermill": {
     "duration": 1.304795,
     "end_time": "2024-01-26T20:45:48.343837",
     "exception": false,
     "start_time": "2024-01-26T20:45:47.039042",
     "status": "completed"
    },
    "tags": []
   },
   "outputs": [],
   "source": [
    "X_train = preprocessing.common.timeseries_list_to_numpy(X_train)\n",
    "y_train = preprocessing.common.timeseries_list_to_numpy(y_train)\n",
    "X_test = preprocessing.common.timeseries_list_to_numpy(X_test)\n",
    "y_test = preprocessing.common.timeseries_list_to_numpy(y_test)"
   ]
  },
  {
   "cell_type": "code",
   "execution_count": 11,
   "id": "1b0a2843-6d02-4b08-96f8-91712e521bf5",
   "metadata": {
    "execution": {
     "iopub.execute_input": "2024-01-26T20:45:48.351157Z",
     "iopub.status.busy": "2024-01-26T20:45:48.350844Z",
     "iopub.status.idle": "2024-01-26T20:45:48.353293Z",
     "shell.execute_reply": "2024-01-26T20:45:48.352982Z"
    },
    "papermill": {
     "duration": 0.006704,
     "end_time": "2024-01-26T20:45:48.353907",
     "exception": false,
     "start_time": "2024-01-26T20:45:48.347203",
     "status": "completed"
    },
    "tags": []
   },
   "outputs": [
    {
     "name": "stdout",
     "output_type": "stream",
     "text": [
      "(4675, 4, 28)\n",
      "(4675, 2, 28)\n",
      "(1168, 4, 28)\n",
      "(1168, 2, 28)\n"
     ]
    }
   ],
   "source": [
    "print(X_train.shape)\n",
    "print(y_train.shape)\n",
    "print(X_test.shape)\n",
    "print(y_test.shape)"
   ]
  },
  {
   "cell_type": "code",
   "execution_count": null,
   "id": "54b0dfbd-be2f-4a3e-b152-f0bab31bb372",
   "metadata": {
    "papermill": {
     "duration": 0.002608,
     "end_time": "2024-01-26T20:45:48.359210",
     "exception": false,
     "start_time": "2024-01-26T20:45:48.356602",
     "status": "completed"
    },
    "tags": []
   },
   "outputs": [],
   "source": []
  }
 ],
 "metadata": {
  "kernelspec": {
   "display_name": "Python 3 (ipykernel)",
   "language": "python",
   "name": "python3"
  },
  "language_info": {
   "codemirror_mode": {
    "name": "ipython",
    "version": 3
   },
   "file_extension": ".py",
   "mimetype": "text/x-python",
   "name": "python",
   "nbconvert_exporter": "python",
   "pygments_lexer": "ipython3",
   "version": "3.10.13"
  },
  "papermill": {
   "default_parameters": {},
   "duration": 15.051998,
   "end_time": "2024-01-26T20:45:49.182697",
   "environment_variables": {},
   "exception": null,
   "input_path": "notebooks/docs/1_module/0-preprocessing/1.0-preprocessing-common.ipynb",
   "output_path": "notebooks/docs/1_module/0-preprocessing/1.0-preprocessing-common.ipynb",
   "parameters": {},
   "start_time": "2024-01-26T20:45:34.130699",
   "version": "2.5.0"
  }
 },
 "nbformat": 4,
 "nbformat_minor": 5
}