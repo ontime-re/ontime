{
 "cells": [
  {
   "cell_type": "markdown",
   "id": "550c22a8-085f-45f1-9af5-35896f670515",
   "metadata": {},
   "source": [
    "# Module - Benchmarking\n",
    "Ontime provides a Benchmark class that can be used to run a number of prediction models on a number of datasets."
   ]
  },
  {
   "cell_type": "code",
   "execution_count": 1,
   "id": "27e27d12-d338-47d3-8fd3-b31ff80ac57c",
   "metadata": {},
   "outputs": [],
   "source": [
    "# Import to be able to import python package from src\n",
    "import sys\n",
    "sys.path.insert(0, '../../../src')\n",
    "\n",
    "from ontime.module.benchmarking.benchmark import Benchmark"
   ]
  },
  {
   "cell_type": "markdown",
   "id": "476a848a-77d7-4efc-840f-665a7cdc1857",
   "metadata": {},
   "source": [
    "Datasets submitted to a Benchmark must be of type TimeSeries and models must implement AbstractModel. To ensure that, you may have to create a simple wrapper class for the models, as shown below."
   ]
  },
  {
   "cell_type": "code",
   "execution_count": 2,
   "id": "de0cc64b-36bf-4c34-8dad-7ec66c9e2540",
   "metadata": {},
   "outputs": [],
   "source": [
    "from ontime.core.model.abstract_model import AbstractModel\n",
    "\n",
    "#a simple class ensuring used models have a fit() and predict() methods\n",
    "class ModelWrapper(AbstractModel):\n",
    "    def __init__(self, model):\n",
    "        self.model = model\n",
    "\n",
    "    def fit(self, dataset):\n",
    "        self.model.fit(dataset)\n",
    "\n",
    "    def predict(self, horizon):\n",
    "        return self.model.predict(horizon)"
   ]
  },
  {
   "cell_type": "code",
   "execution_count": 3,
   "id": "70ceff2f-980e-4a92-8723-5904cdb23c25",
   "metadata": {},
   "outputs": [],
   "source": [
    "from darts.models import ARIMA\n",
    "from darts.models import BATS\n",
    "from ontime.module.data.datasets import DatasetLoader\n",
    "\n",
    "m1 = ModelWrapper(ARIMA(p=12, d=1, q=2))\n",
    "m2 = ModelWrapper(BATS(use_trend = True))\n",
    "\n",
    "d1 = DatasetLoader.AirPassengersDataset.load()\n",
    "d2 = DatasetLoader.AusBeerDataset.load()"
   ]
  },
  {
   "cell_type": "markdown",
   "id": "84f26cd7-af07-4b35-8e42-0e65a203e015",
   "metadata": {},
   "source": [
    "Models and datasets can be added to a Benchmark upon its instanciation or using add_model() and add_dataset(). Using the add_x() methods allows to give a name to the models and datasets that will be used when generating the report."
   ]
  },
  {
   "cell_type": "code",
   "execution_count": 4,
   "id": "07a4851e-04fc-478b-8162-dd4136fde52d",
   "metadata": {},
   "outputs": [],
   "source": [
    "# adding directly\n",
    "b1 = Benchmark([d1, d2], [m1, m2])\n",
    "\n",
    "# adding one by one, with names\n",
    "b2 = Benchmark()\n",
    "b2.add_dataset(d1, \"Air Passengers\")\n",
    "b2.add_dataset(d2, \"Aus Beer\")\n",
    "b2.add_model(m1, \"ARIMA\")\n",
    "b2.add_model(m2, \"BATS\")"
   ]
  },
  {
   "cell_type": "markdown",
   "id": "b86ec250-db58-4c10-b4e3-14c2b23bcf70",
   "metadata": {},
   "source": [
    "Once the models and datasets have been added, the run() method will train instances of all the models on all the datasets individually and genereate metrics. The verbose parameter will print the status and results of the process as it progresses."
   ]
  },
  {
   "cell_type": "code",
   "execution_count": 5,
   "id": "e96d8811-efd0-4cb0-bf7c-a03364e05911",
   "metadata": {},
   "outputs": [
    {
     "name": "stdout",
     "output_type": "stream",
     "text": [
      "Starting evaluation...\n",
      "Evaluation for model 1\n",
      "on dataset 1 \n",
      "train "
     ]
    },
    {
     "name": "stderr",
     "output_type": "stream",
     "text": [
      "/home/charlie/.local/lib/python3.10/site-packages/statsmodels/tsa/statespace/sarimax.py:966: UserWarning: Non-stationary starting autoregressive parameters found. Using zeros as starting parameters.\n",
      "  warn('Non-stationary starting autoregressive parameters'\n",
      "/home/charlie/.local/lib/python3.10/site-packages/statsmodels/base/model.py:607: ConvergenceWarning: Maximum Likelihood optimization failed to converge. Check mle_retvals\n",
      "  warnings.warn(\"Maximum Likelihood optimization failed to \"\n"
     ]
    },
    {
     "name": "stdout",
     "output_type": "stream",
     "text": [
      "done, took 0.7006685733795166\n",
      "infer done, took 0.005942821502685547\n",
      "on dataset 2 \n",
      "train "
     ]
    },
    {
     "name": "stderr",
     "output_type": "stream",
     "text": [
      "/home/charlie/.local/lib/python3.10/site-packages/statsmodels/tsa/statespace/sarimax.py:966: UserWarning: Non-stationary starting autoregressive parameters found. Using zeros as starting parameters.\n",
      "  warn('Non-stationary starting autoregressive parameters'\n",
      "/home/charlie/.local/lib/python3.10/site-packages/statsmodels/base/model.py:607: ConvergenceWarning: Maximum Likelihood optimization failed to converge. Check mle_retvals\n",
      "  warnings.warn(\"Maximum Likelihood optimization failed to \"\n"
     ]
    },
    {
     "name": "stdout",
     "output_type": "stream",
     "text": [
      "done, took 0.82480788230896\n",
      "infer done, took 0.007047176361083984\n",
      "Evaluation for model 2\n",
      "on dataset 1 \n",
      "train done, took 7.4535181522369385\n",
      "infer done, took 0.002725362777709961\n",
      "on dataset 2 \n",
      "train done, took 8.802074909210205\n",
      "infer done, took 0.0041124820709228516\n",
      "------------------------------------------------\n"
     ]
    },
    {
     "name": "stderr",
     "output_type": "stream",
     "text": [
      "/home/charlie/.local/lib/python3.10/site-packages/statsmodels/tsa/statespace/sarimax.py:966: UserWarning: Non-stationary starting autoregressive parameters found. Using zeros as starting parameters.\n",
      "  warn('Non-stationary starting autoregressive parameters'\n",
      "/home/charlie/.local/lib/python3.10/site-packages/statsmodels/base/model.py:607: ConvergenceWarning: Maximum Likelihood optimization failed to converge. Check mle_retvals\n",
      "  warnings.warn(\"Maximum Likelihood optimization failed to \"\n",
      "/home/charlie/.local/lib/python3.10/site-packages/statsmodels/tsa/statespace/sarimax.py:966: UserWarning: Non-stationary starting autoregressive parameters found. Using zeros as starting parameters.\n",
      "  warn('Non-stationary starting autoregressive parameters'\n",
      "/home/charlie/.local/lib/python3.10/site-packages/statsmodels/base/model.py:607: ConvergenceWarning: Maximum Likelihood optimization failed to converge. Check mle_retvals\n",
      "  warnings.warn(\"Maximum Likelihood optimization failed to \"\n"
     ]
    }
   ],
   "source": [
    "b1.run(verbose = True)\n",
    "print(\"------------------------------------------------\")\n",
    "b2.run(verbose = False)"
   ]
  },
  {
   "cell_type": "markdown",
   "id": "d4038313-7cf4-480d-8d3c-fd030e100da3",
   "metadata": {},
   "source": [
    "To view the results, you can call get_report() and print the returned value"
   ]
  },
  {
   "cell_type": "code",
   "execution_count": 7,
   "id": "35b9b732-bd80-426f-a8bb-134f06bf1a3b",
   "metadata": {},
   "outputs": [
    {
     "name": "stdout",
     "output_type": "stream",
     "text": [
      "Model 1:\n",
      "dataset 1\n",
      "Results:\n",
      "training time: 0.7006685733795166\n",
      "test time: 0.005942821502685547\n",
      "MAPE:  7.2210438134661645\n",
      "dataset 2\n",
      "Results:\n",
      "training time: 0.82480788230896\n",
      "test time: 0.007047176361083984\n",
      "MAPE:  6.732026657640882\n",
      "\n",
      "Model 2:\n",
      "dataset 1\n",
      "Results:\n",
      "training time: 7.4535181522369385\n",
      "test time: 0.002725362777709961\n",
      "MAPE:  9.080914702612809\n",
      "dataset 2\n",
      "Results:\n",
      "training time: 8.802074909210205\n",
      "test time: 0.0041124820709228516\n",
      "MAPE:  9.514618068126637\n",
      "\n"
     ]
    }
   ],
   "source": [
    "print(b1.get_report())"
   ]
  },
  {
   "cell_type": "markdown",
   "id": "a0852085-874e-4583-9f91-1efcb486fbcb",
   "metadata": {},
   "source": [
    "As mentioned above, when datasets and models have been initialized with names, those will be used in the report."
   ]
  },
  {
   "cell_type": "code",
   "execution_count": 8,
   "id": "687a0b79-ff02-4bde-aff7-6d6ccd5e7d40",
   "metadata": {},
   "outputs": [
    {
     "name": "stdout",
     "output_type": "stream",
     "text": [
      "Model ARIMA:\n",
      "dataset Air Passengers\n",
      "Results:\n",
      "training time: 1.2020156383514404\n",
      "test time: 0.008520841598510742\n",
      "MAPE:  7.2210438134661645\n",
      "dataset Aus Beer\n",
      "Results:\n",
      "training time: 0.9088840484619141\n",
      "test time: 0.0074732303619384766\n",
      "MAPE:  6.732026657640882\n",
      "\n",
      "Model BATS:\n",
      "dataset Air Passengers\n",
      "Results:\n",
      "training time: 7.6037890911102295\n",
      "test time: 0.0025300979614257812\n",
      "MAPE:  9.080914702612809\n",
      "dataset Aus Beer\n",
      "Results:\n",
      "training time: 8.48682188987732\n",
      "test time: 0.0032923221588134766\n",
      "MAPE:  9.514618068126637\n",
      "\n"
     ]
    }
   ],
   "source": [
    "print(b2.get_report())"
   ]
  },
  {
   "cell_type": "code",
   "execution_count": null,
   "id": "a113a1a8-6988-4440-9afc-c4e9b5e6f898",
   "metadata": {},
   "outputs": [],
   "source": []
  }
 ],
 "metadata": {
  "kernelspec": {
   "display_name": "Python 3 (ipykernel)",
   "language": "python",
   "name": "python3"
  },
  "language_info": {
   "codemirror_mode": {
    "name": "ipython",
    "version": 3
   },
   "file_extension": ".py",
   "mimetype": "text/x-python",
   "name": "python",
   "nbconvert_exporter": "python",
   "pygments_lexer": "ipython3",
   "version": "3.10.12"
  }
 },
 "nbformat": 4,
 "nbformat_minor": 5
}
